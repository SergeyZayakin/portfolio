{
  "cells": [
    {
      "cell_type": "markdown",
      "metadata": {
        "id": "2o2sBgxLX9Qs"
      },
      "source": [
        "# A/B-тестирование"
      ]
    },
    {
      "cell_type": "markdown",
      "metadata": {
        "id": "s5CzSkANx9CW"
      },
      "source": [
        "<div class=\"alert alert-info\">\n",
        "<h2> Привет!<a class=\"tocSkip\"></h2>\n",
        "<hr>  \n",
        "Я - Сергей. Рад что ты читаешь это текст :) Сделаю пару ремарок общего характера. В описании выполняемых действий, комментариях, я использую местоимение 'мы', так как считаю что ты - ревьювер, проверя код становиться моим соучастником ('соучавствующие программирование') и мы вместе проходим по пути исследования. Да и сформировлась привычка так писать в ходе написания научных работ.   \n",
        "NB! - так помечаю важные на мой взгдял идеи, которые стоит взять на заметку; инсайты, проработка которых требует большего знания предметной области.   \n",
        "Надеюсь мои многословные комментарии тебя не утомят.    \n",
        "    \n",
        "</div>\n",
        "    \n",
        "<br/>"
      ]
    },
    {
      "cell_type": "markdown",
      "metadata": {
        "id": "On4UQYaawjcX"
      },
      "source": [
        "**Содержание**    \n",
        "[1. Описание проекта](#description)    \n",
        "[2. Загрузка и предобработка данных](#review)    \n",
        "[3. Исследовательский анализ данных (EDA)](#EDA)   \n",
        "[3.1. Исследование конверсии в воронке на разных этапах](#conversion)    \n",
        "[3.2. Анализ распределения количества событий на пользователя в выборках](#distribution)    \n",
        "[3.3. Присутствие в выборках одни и те же пользователи, пересечение с аудиториями других тестов](#double)    \n",
        "[3.4. Распределение событий по дням и пересчение с другими маркетинговыми активностями](#cross)    \n",
        "[3.5. Равномерность распределения по тестовым группам и правильность их формирования](#equability)   \n",
        "[4. Оценка результатов А/В-теста](#AB_test)   \n",
        "[4.1. Анализ результата A/B-теста](#AB_result)  \n",
        "[4.2. Проверка статистической разницы долей z-критерием](#AB_z)   \n",
        "[5. Выводы и рекомендации](#summary)   "
      ]
    },
    {
      "cell_type": "markdown",
      "metadata": {
        "id": "0j_-0nirYBWp"
      },
      "source": [
        "## Описание проекта<a id=\"description\"></a>     \n",
        "      \n",
        "### Постановка задачи\n",
        "\n",
        "Ваша задача — провести оценку результатов A/B-теста. В вашем распоряжении есть датасет с действиями пользователей, техническое задание и несколько вспомогательных датасетов.   \n",
        "\n",
        "- Оцените корректность проведения теста   \n",
        "- Проанализируйте результаты теста   \n",
        "\n",
        "Чтобы оценить корректность проведения теста, проверьте:   \n",
        "\n",
        "- пересечение тестовой аудитории с конкурирующим тестом,   \n",
        "- совпадение теста и маркетинговых событий, другие проблемы временных границ теста.   \n",
        "\n",
        "### Техническое задание   \n",
        "\n",
        "- Название теста: `recommender_system_test`;   \n",
        "- группы: А — контрольная, B — новая платёжная воронка;   \n",
        "- дата запуска: 2020-12-07;   \n",
        "- дата остановки набора новых пользователей: 2020-12-21;   \n",
        "- дата остановки: 2021-01-04;   \n",
        "- аудитория: 15% новых пользователей из региона EU;   \n",
        "- назначение теста: тестирование изменений, связанных с внедрением улучшенной рекомендательной системы;   \n",
        "- ожидаемое количество участников теста: 6000.   \n",
        "- ожидаемый эффект: за 14 дней с момента регистрации пользователи покажут улучшение каждой метрики не менее, чем на 10%:   \n",
        "    - конверсии в просмотр карточек товаров — событие `product_page`,   \n",
        "    - просмотры корзины — `product_cart`,   \n",
        "    - покупки — `purchase`.   \n",
        "   \n",
        "### Описание данных\n",
        "\n",
        "`ab_project_marketing_events.csv` — календарь маркетинговых событий на 2020 год.\n",
        "\n",
        "Структура файла:\n",
        "\n",
        "- `name` — название маркетингового события;\n",
        "- `regions` — регионы, в которых будет проводиться рекламная кампания;\n",
        "- `start_dt` — дата начала кампании;\n",
        "- `finish_dt` — дата завершения кампании.\n",
        "\n",
        "`final_ab_new_users.csv` — пользователи, зарегистрировавшиеся с 7 по 21 декабря 2020 года.\n",
        "\n",
        "Структура файла:\n",
        "\n",
        "- `user_id` — идентификатор пользователя;\n",
        "- `first_date` — дата регистрации;\n",
        "- `region` — регион пользователя;\n",
        "- `device` — устройство, с которого происходила регистрация.\n",
        "\n",
        "`final_ab_events.csv` — действия новых пользователей в период с 7 декабря 2020 по 4 января 2021 года.\n",
        "\n",
        "Структура файла:\n",
        "\n",
        "- `user_id` — идентификатор пользователя;\n",
        "- `event_dt` — дата и время покупки;\n",
        "- `event_name` — тип события;\n",
        "- `details` — дополнительные данные о событии. Например, для покупок, `purchase,` в этом поле хранится стоимость покупки в долларах.\n",
        "\n",
        "`final_ab_participants.csv` — таблица участников тестов.\n",
        "\n",
        "Структура файла:\n",
        "\n",
        "- `user_id` — идентификатор пользователя;\n",
        "- `ab_test` — название теста;\n",
        "- `group` — группа пользователя.   \n",
        "   \n",
        "### В рамках проекта мы:   \n",
        "1. Загрузим и предобработаем данные    \n",
        "1. Проведём исследовательский анализ данных (EDA), а именно:   \n",
        "* Исследование конверсии в воронке на разных этапах   \n",
        "* Анализ распределения количества событий на пользователя в выборках   \n",
        "* Проверку присутствие в выборках одни и те же пользователи, пересечение с аудиториями других тестов   \n",
        "* Посмотрим распределение событий по дням и пересечение с другими маркетинговыми активностями   \n",
        "* Посмотрим равномерность распределения по тестовым группам и правильность их формирования   \n",
        "3. Оценим результатов А/В-теста - проведём:   \n",
        "* Анализ результата A/B-теста   \n",
        "* Проверку статистической разницы долей z-критерием   \n",
        "4. По итогам работы сформулируем выводы    \n",
        "   "
      ]
    },
    {
      "cell_type": "markdown",
      "metadata": {
        "id": "XjW2GaLCpRkY"
      },
      "source": [
        "---"
      ]
    },
    {
      "cell_type": "markdown",
      "metadata": {
        "id": "mAPvobfqZLzp"
      },
      "source": [
        "## Загрузка и предобработка данных<a id=\"review\"></a>      \n",
        "На данном этапе мы:   \n",
        "* Загрузим данные   \n",
        "* Проверим датафремы на наличие пропусков и дубликатов, несоответствие типов данных - и при необходимости выполним обработку данных\n",
        "* Посмотрим описательную статистку на предмет выбросов   "
      ]
    },
    {
      "cell_type": "markdown",
      "metadata": {
        "id": "P5VXxWlApMZl"
      },
      "source": [
        "**Загрузка и исследование данных**"
      ]
    },
    {
      "cell_type": "code",
      "execution_count": 1,
      "metadata": {
        "id": "QtKO6iylYRqO"
      },
      "outputs": [],
      "source": [
        "# Импортруем необходимые библиотеки\n",
        "import pandas as pd\n",
        "import numpy as np\n",
        "import plotly.express as px\n",
        "from plotly import graph_objects as go\n",
        "import matplotlib.pyplot as plt\n",
        "import math as mth\n",
        "from scipy import stats as st\n",
        "from io import BytesIO\n",
        "import requests"
      ]
    },
    {
      "cell_type": "code",
      "execution_count": 2,
      "metadata": {
        "id": "FULMpSsdZpRx"
      },
      "outputs": [],
      "source": [
        "#Загрузим данные с гуглдиска\n",
        "spreadsheet_ab_project_marketing_events = '1XI4XBK_-KWXo_tOPOff1RNwq4zaNuisLCNcHVBRlaHk'\n",
        "file_name_ab_project_marketing_events = 'https://docs.google.com/spreadsheets/d/{}/export?format=csv'.format(spreadsheet_ab_project_marketing_events)\n",
        "r_ab_project_marketing_events = requests.get(file_name_ab_project_marketing_events)\n",
        "ab_project_marketing_events = pd.read_csv(BytesIO(r_ab_project_marketing_events.content)) # Датасет с источниками рекламного трафика"
      ]
    },
    {
      "cell_type": "code",
      "execution_count": 3,
      "metadata": {
        "id": "pT5Rwn4Xpm0w"
      },
      "outputs": [],
      "source": [
        "spreadsheet_final_ab_events = '13zdgsxA9-lz5DhGCaVGvLm-qtc-SpEdGjxu0btJhR2s'\n",
        "file_name_final_ab_events = 'https://docs.google.com/spreadsheets/d/{}/export?format=csv'.format(spreadsheet_final_ab_events)\n",
        "r_final_ab_events = requests.get(file_name_final_ab_events)\n",
        "final_ab_events = pd.read_csv(BytesIO(r_final_ab_events.content)) # Датасет с активностями игроков"
      ]
    },
    {
      "cell_type": "code",
      "execution_count": 4,
      "metadata": {
        "id": "9UrvgNNcpm0w"
      },
      "outputs": [],
      "source": [
        "spreadsheet_final_ab_new_users = '1FpTyIJI44F_dOE-tlswsoDQyANFxQwpSRSZE3tnycWE'\n",
        "file_name_final_ab_new_users = 'https://docs.google.com/spreadsheets/d/{}/export?format=csv'.format(spreadsheet_final_ab_new_users)\n",
        "r_final_ab_new_users = requests.get(file_name_final_ab_new_users)\n",
        "final_ab_new_users = pd.read_csv(BytesIO(r_final_ab_new_users.content)) # Датасет с источниками откуда пришли пользователи"
      ]
    },
    {
      "cell_type": "code",
      "execution_count": 5,
      "metadata": {
        "id": "-omg5jcTpm0x"
      },
      "outputs": [],
      "source": [
        "spreadsheet_final_ab_participants = '1Koew7yM5fPkP64uLr-BKDLuhcPzmcE8Ld5HWM4z4z9o'\n",
        "file_name_final_ab_participants = 'https://docs.google.com/spreadsheets/d/{}/export?format=csv'.format(spreadsheet_final_ab_participants)\n",
        "r_final_ab_participants = requests.get(file_name_final_ab_participants)\n",
        "final_ab_participants = pd.read_csv(BytesIO(r_final_ab_participants.content)) # Датасет с источниками откуда пришли пользователи"
      ]
    },
    {
      "cell_type": "code",
      "execution_count": 6,
      "metadata": {
        "colab": {
          "base_uri": "https://localhost:8080/",
          "height": 571
        },
        "id": "N6suB1PHeF-w",
        "outputId": "42844219-4718-4143-dce6-553470ff679c",
        "scrolled": true
      },
      "outputs": [
        {
          "output_type": "display_data",
          "data": {
            "text/plain": [
              "                           name                   regions    start_dt  \\\n",
              "0      Christmas&New Year Promo             EU, N.America  2020-12-25   \n",
              "1  St. Valentine's Day Giveaway  EU, CIS, APAC, N.America  2020-02-14   \n",
              "2        St. Patric's Day Promo             EU, N.America  2020-03-17   \n",
              "3                  Easter Promo  EU, CIS, APAC, N.America  2020-04-12   \n",
              "4             4th of July Promo                 N.America  2020-07-04   \n",
              "\n",
              "    finish_dt  \n",
              "0  2021-01-03  \n",
              "1  2020-02-16  \n",
              "2  2020-03-19  \n",
              "3  2020-04-19  \n",
              "4  2020-07-11  "
            ],
            "text/html": [
              "\n",
              "  <div id=\"df-95a06d3f-1a88-4621-99a7-7b2244ca7286\">\n",
              "    <div class=\"colab-df-container\">\n",
              "      <div>\n",
              "<style scoped>\n",
              "    .dataframe tbody tr th:only-of-type {\n",
              "        vertical-align: middle;\n",
              "    }\n",
              "\n",
              "    .dataframe tbody tr th {\n",
              "        vertical-align: top;\n",
              "    }\n",
              "\n",
              "    .dataframe thead th {\n",
              "        text-align: right;\n",
              "    }\n",
              "</style>\n",
              "<table border=\"1\" class=\"dataframe\">\n",
              "  <thead>\n",
              "    <tr style=\"text-align: right;\">\n",
              "      <th></th>\n",
              "      <th>name</th>\n",
              "      <th>regions</th>\n",
              "      <th>start_dt</th>\n",
              "      <th>finish_dt</th>\n",
              "    </tr>\n",
              "  </thead>\n",
              "  <tbody>\n",
              "    <tr>\n",
              "      <th>0</th>\n",
              "      <td>Christmas&amp;New Year Promo</td>\n",
              "      <td>EU, N.America</td>\n",
              "      <td>2020-12-25</td>\n",
              "      <td>2021-01-03</td>\n",
              "    </tr>\n",
              "    <tr>\n",
              "      <th>1</th>\n",
              "      <td>St. Valentine's Day Giveaway</td>\n",
              "      <td>EU, CIS, APAC, N.America</td>\n",
              "      <td>2020-02-14</td>\n",
              "      <td>2020-02-16</td>\n",
              "    </tr>\n",
              "    <tr>\n",
              "      <th>2</th>\n",
              "      <td>St. Patric's Day Promo</td>\n",
              "      <td>EU, N.America</td>\n",
              "      <td>2020-03-17</td>\n",
              "      <td>2020-03-19</td>\n",
              "    </tr>\n",
              "    <tr>\n",
              "      <th>3</th>\n",
              "      <td>Easter Promo</td>\n",
              "      <td>EU, CIS, APAC, N.America</td>\n",
              "      <td>2020-04-12</td>\n",
              "      <td>2020-04-19</td>\n",
              "    </tr>\n",
              "    <tr>\n",
              "      <th>4</th>\n",
              "      <td>4th of July Promo</td>\n",
              "      <td>N.America</td>\n",
              "      <td>2020-07-04</td>\n",
              "      <td>2020-07-11</td>\n",
              "    </tr>\n",
              "  </tbody>\n",
              "</table>\n",
              "</div>\n",
              "      <button class=\"colab-df-convert\" onclick=\"convertToInteractive('df-95a06d3f-1a88-4621-99a7-7b2244ca7286')\"\n",
              "              title=\"Convert this dataframe to an interactive table.\"\n",
              "              style=\"display:none;\">\n",
              "        \n",
              "  <svg xmlns=\"http://www.w3.org/2000/svg\" height=\"24px\"viewBox=\"0 0 24 24\"\n",
              "       width=\"24px\">\n",
              "    <path d=\"M0 0h24v24H0V0z\" fill=\"none\"/>\n",
              "    <path d=\"M18.56 5.44l.94 2.06.94-2.06 2.06-.94-2.06-.94-.94-2.06-.94 2.06-2.06.94zm-11 1L8.5 8.5l.94-2.06 2.06-.94-2.06-.94L8.5 2.5l-.94 2.06-2.06.94zm10 10l.94 2.06.94-2.06 2.06-.94-2.06-.94-.94-2.06-.94 2.06-2.06.94z\"/><path d=\"M17.41 7.96l-1.37-1.37c-.4-.4-.92-.59-1.43-.59-.52 0-1.04.2-1.43.59L10.3 9.45l-7.72 7.72c-.78.78-.78 2.05 0 2.83L4 21.41c.39.39.9.59 1.41.59.51 0 1.02-.2 1.41-.59l7.78-7.78 2.81-2.81c.8-.78.8-2.07 0-2.86zM5.41 20L4 18.59l7.72-7.72 1.47 1.35L5.41 20z\"/>\n",
              "  </svg>\n",
              "      </button>\n",
              "      \n",
              "  <style>\n",
              "    .colab-df-container {\n",
              "      display:flex;\n",
              "      flex-wrap:wrap;\n",
              "      gap: 12px;\n",
              "    }\n",
              "\n",
              "    .colab-df-convert {\n",
              "      background-color: #E8F0FE;\n",
              "      border: none;\n",
              "      border-radius: 50%;\n",
              "      cursor: pointer;\n",
              "      display: none;\n",
              "      fill: #1967D2;\n",
              "      height: 32px;\n",
              "      padding: 0 0 0 0;\n",
              "      width: 32px;\n",
              "    }\n",
              "\n",
              "    .colab-df-convert:hover {\n",
              "      background-color: #E2EBFA;\n",
              "      box-shadow: 0px 1px 2px rgba(60, 64, 67, 0.3), 0px 1px 3px 1px rgba(60, 64, 67, 0.15);\n",
              "      fill: #174EA6;\n",
              "    }\n",
              "\n",
              "    [theme=dark] .colab-df-convert {\n",
              "      background-color: #3B4455;\n",
              "      fill: #D2E3FC;\n",
              "    }\n",
              "\n",
              "    [theme=dark] .colab-df-convert:hover {\n",
              "      background-color: #434B5C;\n",
              "      box-shadow: 0px 1px 3px 1px rgba(0, 0, 0, 0.15);\n",
              "      filter: drop-shadow(0px 1px 2px rgba(0, 0, 0, 0.3));\n",
              "      fill: #FFFFFF;\n",
              "    }\n",
              "  </style>\n",
              "\n",
              "      <script>\n",
              "        const buttonEl =\n",
              "          document.querySelector('#df-95a06d3f-1a88-4621-99a7-7b2244ca7286 button.colab-df-convert');\n",
              "        buttonEl.style.display =\n",
              "          google.colab.kernel.accessAllowed ? 'block' : 'none';\n",
              "\n",
              "        async function convertToInteractive(key) {\n",
              "          const element = document.querySelector('#df-95a06d3f-1a88-4621-99a7-7b2244ca7286');\n",
              "          const dataTable =\n",
              "            await google.colab.kernel.invokeFunction('convertToInteractive',\n",
              "                                                     [key], {});\n",
              "          if (!dataTable) return;\n",
              "\n",
              "          const docLinkHtml = 'Like what you see? Visit the ' +\n",
              "            '<a target=\"_blank\" href=https://colab.research.google.com/notebooks/data_table.ipynb>data table notebook</a>'\n",
              "            + ' to learn more about interactive tables.';\n",
              "          element.innerHTML = '';\n",
              "          dataTable['output_type'] = 'display_data';\n",
              "          await google.colab.output.renderOutput(dataTable, element);\n",
              "          const docLink = document.createElement('div');\n",
              "          docLink.innerHTML = docLinkHtml;\n",
              "          element.appendChild(docLink);\n",
              "        }\n",
              "      </script>\n",
              "    </div>\n",
              "  </div>\n",
              "  "
            ]
          },
          "metadata": {}
        },
        {
          "output_type": "stream",
          "name": "stdout",
          "text": [
            "-------------------------------------\n",
            "Описание датасета\n",
            "<class 'pandas.core.frame.DataFrame'>\n",
            "RangeIndex: 14 entries, 0 to 13\n",
            "Data columns (total 4 columns):\n",
            " #   Column     Non-Null Count  Dtype \n",
            "---  ------     --------------  ----- \n",
            " 0   name       14 non-null     object\n",
            " 1   regions    14 non-null     object\n",
            " 2   start_dt   14 non-null     object\n",
            " 3   finish_dt  14 non-null     object\n",
            "dtypes: object(4)\n",
            "memory usage: 576.0+ bytes\n",
            "-------------------------------------\n",
            "Пропуски данных\n"
          ]
        },
        {
          "output_type": "execute_result",
          "data": {
            "text/plain": [
              "name         0\n",
              "regions      0\n",
              "start_dt     0\n",
              "finish_dt    0\n",
              "dtype: int64"
            ]
          },
          "metadata": {},
          "execution_count": 6
        }
      ],
      "source": [
        "# Посмотрим на датафрейм ab_project_marketing_events\n",
        "display(ab_project_marketing_events.head()) # Выведем 5 верхних записей\n",
        "print('-------------------------------------')\n",
        "print('Описание датасета')\n",
        "ab_project_marketing_events.info() # Посмотрим описание датафрейма\n",
        "print('-------------------------------------')\n",
        "print('Пропуски данных')\n",
        "ab_project_marketing_events.isna().sum() # Проверим пропуски"
      ]
    },
    {
      "cell_type": "code",
      "execution_count": 7,
      "metadata": {
        "colab": {
          "base_uri": "https://localhost:8080/"
        },
        "id": "N7Ro3YRdeNA_",
        "outputId": "45510c02-df38-4a2d-f970-d6c51df520e1"
      },
      "outputs": [
        {
          "output_type": "stream",
          "name": "stdout",
          "text": [
            "Дубликаты\n"
          ]
        },
        {
          "output_type": "execute_result",
          "data": {
            "text/plain": [
              "0"
            ]
          },
          "metadata": {},
          "execution_count": 7
        }
      ],
      "source": [
        "# Проверим дублирующиеся записи\n",
        "print('Дубликаты')\n",
        "ab_project_marketing_events.duplicated().sum()"
      ]
    },
    {
      "cell_type": "code",
      "execution_count": 8,
      "metadata": {
        "colab": {
          "base_uri": "https://localhost:8080/",
          "height": 193
        },
        "id": "Ka21y-DSiabb",
        "outputId": "12c8a6c0-3d80-400a-f6df-65cc1a6133ab"
      },
      "outputs": [
        {
          "output_type": "stream",
          "name": "stdout",
          "text": [
            "Описательная статистика\n"
          ]
        },
        {
          "output_type": "execute_result",
          "data": {
            "text/plain": [
              "                            name regions    start_dt   finish_dt\n",
              "count                         14      14          14          14\n",
              "unique                        14       6          14          14\n",
              "top     Christmas&New Year Promo    APAC  2020-12-25  2021-01-03\n",
              "freq                           1       4           1           1"
            ],
            "text/html": [
              "\n",
              "  <div id=\"df-6f4b0a51-a255-4131-a50f-83a8d541465e\">\n",
              "    <div class=\"colab-df-container\">\n",
              "      <div>\n",
              "<style scoped>\n",
              "    .dataframe tbody tr th:only-of-type {\n",
              "        vertical-align: middle;\n",
              "    }\n",
              "\n",
              "    .dataframe tbody tr th {\n",
              "        vertical-align: top;\n",
              "    }\n",
              "\n",
              "    .dataframe thead th {\n",
              "        text-align: right;\n",
              "    }\n",
              "</style>\n",
              "<table border=\"1\" class=\"dataframe\">\n",
              "  <thead>\n",
              "    <tr style=\"text-align: right;\">\n",
              "      <th></th>\n",
              "      <th>name</th>\n",
              "      <th>regions</th>\n",
              "      <th>start_dt</th>\n",
              "      <th>finish_dt</th>\n",
              "    </tr>\n",
              "  </thead>\n",
              "  <tbody>\n",
              "    <tr>\n",
              "      <th>count</th>\n",
              "      <td>14</td>\n",
              "      <td>14</td>\n",
              "      <td>14</td>\n",
              "      <td>14</td>\n",
              "    </tr>\n",
              "    <tr>\n",
              "      <th>unique</th>\n",
              "      <td>14</td>\n",
              "      <td>6</td>\n",
              "      <td>14</td>\n",
              "      <td>14</td>\n",
              "    </tr>\n",
              "    <tr>\n",
              "      <th>top</th>\n",
              "      <td>Christmas&amp;New Year Promo</td>\n",
              "      <td>APAC</td>\n",
              "      <td>2020-12-25</td>\n",
              "      <td>2021-01-03</td>\n",
              "    </tr>\n",
              "    <tr>\n",
              "      <th>freq</th>\n",
              "      <td>1</td>\n",
              "      <td>4</td>\n",
              "      <td>1</td>\n",
              "      <td>1</td>\n",
              "    </tr>\n",
              "  </tbody>\n",
              "</table>\n",
              "</div>\n",
              "      <button class=\"colab-df-convert\" onclick=\"convertToInteractive('df-6f4b0a51-a255-4131-a50f-83a8d541465e')\"\n",
              "              title=\"Convert this dataframe to an interactive table.\"\n",
              "              style=\"display:none;\">\n",
              "        \n",
              "  <svg xmlns=\"http://www.w3.org/2000/svg\" height=\"24px\"viewBox=\"0 0 24 24\"\n",
              "       width=\"24px\">\n",
              "    <path d=\"M0 0h24v24H0V0z\" fill=\"none\"/>\n",
              "    <path d=\"M18.56 5.44l.94 2.06.94-2.06 2.06-.94-2.06-.94-.94-2.06-.94 2.06-2.06.94zm-11 1L8.5 8.5l.94-2.06 2.06-.94-2.06-.94L8.5 2.5l-.94 2.06-2.06.94zm10 10l.94 2.06.94-2.06 2.06-.94-2.06-.94-.94-2.06-.94 2.06-2.06.94z\"/><path d=\"M17.41 7.96l-1.37-1.37c-.4-.4-.92-.59-1.43-.59-.52 0-1.04.2-1.43.59L10.3 9.45l-7.72 7.72c-.78.78-.78 2.05 0 2.83L4 21.41c.39.39.9.59 1.41.59.51 0 1.02-.2 1.41-.59l7.78-7.78 2.81-2.81c.8-.78.8-2.07 0-2.86zM5.41 20L4 18.59l7.72-7.72 1.47 1.35L5.41 20z\"/>\n",
              "  </svg>\n",
              "      </button>\n",
              "      \n",
              "  <style>\n",
              "    .colab-df-container {\n",
              "      display:flex;\n",
              "      flex-wrap:wrap;\n",
              "      gap: 12px;\n",
              "    }\n",
              "\n",
              "    .colab-df-convert {\n",
              "      background-color: #E8F0FE;\n",
              "      border: none;\n",
              "      border-radius: 50%;\n",
              "      cursor: pointer;\n",
              "      display: none;\n",
              "      fill: #1967D2;\n",
              "      height: 32px;\n",
              "      padding: 0 0 0 0;\n",
              "      width: 32px;\n",
              "    }\n",
              "\n",
              "    .colab-df-convert:hover {\n",
              "      background-color: #E2EBFA;\n",
              "      box-shadow: 0px 1px 2px rgba(60, 64, 67, 0.3), 0px 1px 3px 1px rgba(60, 64, 67, 0.15);\n",
              "      fill: #174EA6;\n",
              "    }\n",
              "\n",
              "    [theme=dark] .colab-df-convert {\n",
              "      background-color: #3B4455;\n",
              "      fill: #D2E3FC;\n",
              "    }\n",
              "\n",
              "    [theme=dark] .colab-df-convert:hover {\n",
              "      background-color: #434B5C;\n",
              "      box-shadow: 0px 1px 3px 1px rgba(0, 0, 0, 0.15);\n",
              "      filter: drop-shadow(0px 1px 2px rgba(0, 0, 0, 0.3));\n",
              "      fill: #FFFFFF;\n",
              "    }\n",
              "  </style>\n",
              "\n",
              "      <script>\n",
              "        const buttonEl =\n",
              "          document.querySelector('#df-6f4b0a51-a255-4131-a50f-83a8d541465e button.colab-df-convert');\n",
              "        buttonEl.style.display =\n",
              "          google.colab.kernel.accessAllowed ? 'block' : 'none';\n",
              "\n",
              "        async function convertToInteractive(key) {\n",
              "          const element = document.querySelector('#df-6f4b0a51-a255-4131-a50f-83a8d541465e');\n",
              "          const dataTable =\n",
              "            await google.colab.kernel.invokeFunction('convertToInteractive',\n",
              "                                                     [key], {});\n",
              "          if (!dataTable) return;\n",
              "\n",
              "          const docLinkHtml = 'Like what you see? Visit the ' +\n",
              "            '<a target=\"_blank\" href=https://colab.research.google.com/notebooks/data_table.ipynb>data table notebook</a>'\n",
              "            + ' to learn more about interactive tables.';\n",
              "          element.innerHTML = '';\n",
              "          dataTable['output_type'] = 'display_data';\n",
              "          await google.colab.output.renderOutput(dataTable, element);\n",
              "          const docLink = document.createElement('div');\n",
              "          docLink.innerHTML = docLinkHtml;\n",
              "          element.appendChild(docLink);\n",
              "        }\n",
              "      </script>\n",
              "    </div>\n",
              "  </div>\n",
              "  "
            ]
          },
          "metadata": {},
          "execution_count": 8
        }
      ],
      "source": [
        "print('Описательная статистика')\n",
        "ab_project_marketing_events.describe()"
      ]
    },
    {
      "cell_type": "markdown",
      "metadata": {
        "id": "0MV4YEV2fJGc"
      },
      "source": [
        "В датафреме ab_project_marketing_events 14 записей (строк) и 4 колонки. Имена колонок соответствуют хорошему стилю написания. Пропусков данных и дубликатов - нет. Тип данных колонок, хранящих дату, не соответвует её содержимому - приведём их к типу date."
      ]
    },
    {
      "cell_type": "code",
      "execution_count": 9,
      "metadata": {
        "colab": {
          "base_uri": "https://localhost:8080/",
          "height": 571
        },
        "id": "qINLT9VKeZGZ",
        "outputId": "e295255f-086d-42bd-9f15-efbafe359f0b"
      },
      "outputs": [
        {
          "output_type": "display_data",
          "data": {
            "text/plain": [
              "            user_id             event_dt event_name  details\n",
              "0  E1BDDCE0DAFA2679  2020-12-07 20:22:03   purchase    99.99\n",
              "1  7B6452F081F49504   2020-12-07 9:22:53   purchase     9.99\n",
              "2  9CD9F34546DF254C  2020-12-07 12:59:29   purchase     4.99\n",
              "3  96F27A054B191457   2020-12-07 4:02:40   purchase     4.99\n",
              "4  1FD7660FDF94CA1F  2020-12-07 10:15:09   purchase     4.99"
            ],
            "text/html": [
              "\n",
              "  <div id=\"df-c3687d2c-007b-4a3e-858f-9cccb9448b0d\">\n",
              "    <div class=\"colab-df-container\">\n",
              "      <div>\n",
              "<style scoped>\n",
              "    .dataframe tbody tr th:only-of-type {\n",
              "        vertical-align: middle;\n",
              "    }\n",
              "\n",
              "    .dataframe tbody tr th {\n",
              "        vertical-align: top;\n",
              "    }\n",
              "\n",
              "    .dataframe thead th {\n",
              "        text-align: right;\n",
              "    }\n",
              "</style>\n",
              "<table border=\"1\" class=\"dataframe\">\n",
              "  <thead>\n",
              "    <tr style=\"text-align: right;\">\n",
              "      <th></th>\n",
              "      <th>user_id</th>\n",
              "      <th>event_dt</th>\n",
              "      <th>event_name</th>\n",
              "      <th>details</th>\n",
              "    </tr>\n",
              "  </thead>\n",
              "  <tbody>\n",
              "    <tr>\n",
              "      <th>0</th>\n",
              "      <td>E1BDDCE0DAFA2679</td>\n",
              "      <td>2020-12-07 20:22:03</td>\n",
              "      <td>purchase</td>\n",
              "      <td>99.99</td>\n",
              "    </tr>\n",
              "    <tr>\n",
              "      <th>1</th>\n",
              "      <td>7B6452F081F49504</td>\n",
              "      <td>2020-12-07 9:22:53</td>\n",
              "      <td>purchase</td>\n",
              "      <td>9.99</td>\n",
              "    </tr>\n",
              "    <tr>\n",
              "      <th>2</th>\n",
              "      <td>9CD9F34546DF254C</td>\n",
              "      <td>2020-12-07 12:59:29</td>\n",
              "      <td>purchase</td>\n",
              "      <td>4.99</td>\n",
              "    </tr>\n",
              "    <tr>\n",
              "      <th>3</th>\n",
              "      <td>96F27A054B191457</td>\n",
              "      <td>2020-12-07 4:02:40</td>\n",
              "      <td>purchase</td>\n",
              "      <td>4.99</td>\n",
              "    </tr>\n",
              "    <tr>\n",
              "      <th>4</th>\n",
              "      <td>1FD7660FDF94CA1F</td>\n",
              "      <td>2020-12-07 10:15:09</td>\n",
              "      <td>purchase</td>\n",
              "      <td>4.99</td>\n",
              "    </tr>\n",
              "  </tbody>\n",
              "</table>\n",
              "</div>\n",
              "      <button class=\"colab-df-convert\" onclick=\"convertToInteractive('df-c3687d2c-007b-4a3e-858f-9cccb9448b0d')\"\n",
              "              title=\"Convert this dataframe to an interactive table.\"\n",
              "              style=\"display:none;\">\n",
              "        \n",
              "  <svg xmlns=\"http://www.w3.org/2000/svg\" height=\"24px\"viewBox=\"0 0 24 24\"\n",
              "       width=\"24px\">\n",
              "    <path d=\"M0 0h24v24H0V0z\" fill=\"none\"/>\n",
              "    <path d=\"M18.56 5.44l.94 2.06.94-2.06 2.06-.94-2.06-.94-.94-2.06-.94 2.06-2.06.94zm-11 1L8.5 8.5l.94-2.06 2.06-.94-2.06-.94L8.5 2.5l-.94 2.06-2.06.94zm10 10l.94 2.06.94-2.06 2.06-.94-2.06-.94-.94-2.06-.94 2.06-2.06.94z\"/><path d=\"M17.41 7.96l-1.37-1.37c-.4-.4-.92-.59-1.43-.59-.52 0-1.04.2-1.43.59L10.3 9.45l-7.72 7.72c-.78.78-.78 2.05 0 2.83L4 21.41c.39.39.9.59 1.41.59.51 0 1.02-.2 1.41-.59l7.78-7.78 2.81-2.81c.8-.78.8-2.07 0-2.86zM5.41 20L4 18.59l7.72-7.72 1.47 1.35L5.41 20z\"/>\n",
              "  </svg>\n",
              "      </button>\n",
              "      \n",
              "  <style>\n",
              "    .colab-df-container {\n",
              "      display:flex;\n",
              "      flex-wrap:wrap;\n",
              "      gap: 12px;\n",
              "    }\n",
              "\n",
              "    .colab-df-convert {\n",
              "      background-color: #E8F0FE;\n",
              "      border: none;\n",
              "      border-radius: 50%;\n",
              "      cursor: pointer;\n",
              "      display: none;\n",
              "      fill: #1967D2;\n",
              "      height: 32px;\n",
              "      padding: 0 0 0 0;\n",
              "      width: 32px;\n",
              "    }\n",
              "\n",
              "    .colab-df-convert:hover {\n",
              "      background-color: #E2EBFA;\n",
              "      box-shadow: 0px 1px 2px rgba(60, 64, 67, 0.3), 0px 1px 3px 1px rgba(60, 64, 67, 0.15);\n",
              "      fill: #174EA6;\n",
              "    }\n",
              "\n",
              "    [theme=dark] .colab-df-convert {\n",
              "      background-color: #3B4455;\n",
              "      fill: #D2E3FC;\n",
              "    }\n",
              "\n",
              "    [theme=dark] .colab-df-convert:hover {\n",
              "      background-color: #434B5C;\n",
              "      box-shadow: 0px 1px 3px 1px rgba(0, 0, 0, 0.15);\n",
              "      filter: drop-shadow(0px 1px 2px rgba(0, 0, 0, 0.3));\n",
              "      fill: #FFFFFF;\n",
              "    }\n",
              "  </style>\n",
              "\n",
              "      <script>\n",
              "        const buttonEl =\n",
              "          document.querySelector('#df-c3687d2c-007b-4a3e-858f-9cccb9448b0d button.colab-df-convert');\n",
              "        buttonEl.style.display =\n",
              "          google.colab.kernel.accessAllowed ? 'block' : 'none';\n",
              "\n",
              "        async function convertToInteractive(key) {\n",
              "          const element = document.querySelector('#df-c3687d2c-007b-4a3e-858f-9cccb9448b0d');\n",
              "          const dataTable =\n",
              "            await google.colab.kernel.invokeFunction('convertToInteractive',\n",
              "                                                     [key], {});\n",
              "          if (!dataTable) return;\n",
              "\n",
              "          const docLinkHtml = 'Like what you see? Visit the ' +\n",
              "            '<a target=\"_blank\" href=https://colab.research.google.com/notebooks/data_table.ipynb>data table notebook</a>'\n",
              "            + ' to learn more about interactive tables.';\n",
              "          element.innerHTML = '';\n",
              "          dataTable['output_type'] = 'display_data';\n",
              "          await google.colab.output.renderOutput(dataTable, element);\n",
              "          const docLink = document.createElement('div');\n",
              "          docLink.innerHTML = docLinkHtml;\n",
              "          element.appendChild(docLink);\n",
              "        }\n",
              "      </script>\n",
              "    </div>\n",
              "  </div>\n",
              "  "
            ]
          },
          "metadata": {}
        },
        {
          "output_type": "stream",
          "name": "stdout",
          "text": [
            "-------------------------------------\n",
            "Описание датасета\n",
            "<class 'pandas.core.frame.DataFrame'>\n",
            "RangeIndex: 440317 entries, 0 to 440316\n",
            "Data columns (total 4 columns):\n",
            " #   Column      Non-Null Count   Dtype  \n",
            "---  ------      --------------   -----  \n",
            " 0   user_id     440317 non-null  object \n",
            " 1   event_dt    440317 non-null  object \n",
            " 2   event_name  440317 non-null  object \n",
            " 3   details     62740 non-null   float64\n",
            "dtypes: float64(1), object(3)\n",
            "memory usage: 13.4+ MB\n",
            "-------------------------------------\n",
            "Пропуски данных\n"
          ]
        },
        {
          "output_type": "execute_result",
          "data": {
            "text/plain": [
              "user_id            0\n",
              "event_dt           0\n",
              "event_name         0\n",
              "details       377577\n",
              "dtype: int64"
            ]
          },
          "metadata": {},
          "execution_count": 9
        }
      ],
      "source": [
        "# Посмотрим на датафрейм final_ab_events\n",
        "display(final_ab_events.head()) # Выведем 5 верхних записей\n",
        "print('-------------------------------------')\n",
        "print('Описание датасета')\n",
        "final_ab_events.info() # Посмотрим описание датафрейма\n",
        "print('-------------------------------------')\n",
        "print('Пропуски данных')\n",
        "final_ab_events.isna().sum() # Проверим пропуски"
      ]
    },
    {
      "cell_type": "code",
      "execution_count": 10,
      "metadata": {
        "colab": {
          "base_uri": "https://localhost:8080/"
        },
        "id": "ySLCbY55eb3s",
        "outputId": "799f9cc5-7a35-4809-9732-9af5ba606a7a"
      },
      "outputs": [
        {
          "output_type": "stream",
          "name": "stdout",
          "text": [
            "Дубликаты\n"
          ]
        },
        {
          "output_type": "execute_result",
          "data": {
            "text/plain": [
              "0"
            ]
          },
          "metadata": {},
          "execution_count": 10
        }
      ],
      "source": [
        "# Проверим дублирующиеся записи\n",
        "print('Дубликаты')\n",
        "final_ab_events.duplicated().sum()"
      ]
    },
    {
      "cell_type": "code",
      "execution_count": 11,
      "metadata": {
        "colab": {
          "base_uri": "https://localhost:8080/",
          "height": 318
        },
        "id": "z38dtAtrii5b",
        "outputId": "7efc0068-8d89-4d04-e164-42a520df1d52"
      },
      "outputs": [
        {
          "output_type": "stream",
          "name": "stdout",
          "text": [
            "Описательная статистика\n"
          ]
        },
        {
          "output_type": "execute_result",
          "data": {
            "text/plain": [
              "            details\n",
              "count  62740.000000\n",
              "mean      23.877631\n",
              "std       72.180465\n",
              "min        4.990000\n",
              "25%        4.990000\n",
              "50%        4.990000\n",
              "75%        9.990000\n",
              "max      499.990000"
            ],
            "text/html": [
              "\n",
              "  <div id=\"df-3f56df76-923a-4c85-90a8-787c02c4c40e\">\n",
              "    <div class=\"colab-df-container\">\n",
              "      <div>\n",
              "<style scoped>\n",
              "    .dataframe tbody tr th:only-of-type {\n",
              "        vertical-align: middle;\n",
              "    }\n",
              "\n",
              "    .dataframe tbody tr th {\n",
              "        vertical-align: top;\n",
              "    }\n",
              "\n",
              "    .dataframe thead th {\n",
              "        text-align: right;\n",
              "    }\n",
              "</style>\n",
              "<table border=\"1\" class=\"dataframe\">\n",
              "  <thead>\n",
              "    <tr style=\"text-align: right;\">\n",
              "      <th></th>\n",
              "      <th>details</th>\n",
              "    </tr>\n",
              "  </thead>\n",
              "  <tbody>\n",
              "    <tr>\n",
              "      <th>count</th>\n",
              "      <td>62740.000000</td>\n",
              "    </tr>\n",
              "    <tr>\n",
              "      <th>mean</th>\n",
              "      <td>23.877631</td>\n",
              "    </tr>\n",
              "    <tr>\n",
              "      <th>std</th>\n",
              "      <td>72.180465</td>\n",
              "    </tr>\n",
              "    <tr>\n",
              "      <th>min</th>\n",
              "      <td>4.990000</td>\n",
              "    </tr>\n",
              "    <tr>\n",
              "      <th>25%</th>\n",
              "      <td>4.990000</td>\n",
              "    </tr>\n",
              "    <tr>\n",
              "      <th>50%</th>\n",
              "      <td>4.990000</td>\n",
              "    </tr>\n",
              "    <tr>\n",
              "      <th>75%</th>\n",
              "      <td>9.990000</td>\n",
              "    </tr>\n",
              "    <tr>\n",
              "      <th>max</th>\n",
              "      <td>499.990000</td>\n",
              "    </tr>\n",
              "  </tbody>\n",
              "</table>\n",
              "</div>\n",
              "      <button class=\"colab-df-convert\" onclick=\"convertToInteractive('df-3f56df76-923a-4c85-90a8-787c02c4c40e')\"\n",
              "              title=\"Convert this dataframe to an interactive table.\"\n",
              "              style=\"display:none;\">\n",
              "        \n",
              "  <svg xmlns=\"http://www.w3.org/2000/svg\" height=\"24px\"viewBox=\"0 0 24 24\"\n",
              "       width=\"24px\">\n",
              "    <path d=\"M0 0h24v24H0V0z\" fill=\"none\"/>\n",
              "    <path d=\"M18.56 5.44l.94 2.06.94-2.06 2.06-.94-2.06-.94-.94-2.06-.94 2.06-2.06.94zm-11 1L8.5 8.5l.94-2.06 2.06-.94-2.06-.94L8.5 2.5l-.94 2.06-2.06.94zm10 10l.94 2.06.94-2.06 2.06-.94-2.06-.94-.94-2.06-.94 2.06-2.06.94z\"/><path d=\"M17.41 7.96l-1.37-1.37c-.4-.4-.92-.59-1.43-.59-.52 0-1.04.2-1.43.59L10.3 9.45l-7.72 7.72c-.78.78-.78 2.05 0 2.83L4 21.41c.39.39.9.59 1.41.59.51 0 1.02-.2 1.41-.59l7.78-7.78 2.81-2.81c.8-.78.8-2.07 0-2.86zM5.41 20L4 18.59l7.72-7.72 1.47 1.35L5.41 20z\"/>\n",
              "  </svg>\n",
              "      </button>\n",
              "      \n",
              "  <style>\n",
              "    .colab-df-container {\n",
              "      display:flex;\n",
              "      flex-wrap:wrap;\n",
              "      gap: 12px;\n",
              "    }\n",
              "\n",
              "    .colab-df-convert {\n",
              "      background-color: #E8F0FE;\n",
              "      border: none;\n",
              "      border-radius: 50%;\n",
              "      cursor: pointer;\n",
              "      display: none;\n",
              "      fill: #1967D2;\n",
              "      height: 32px;\n",
              "      padding: 0 0 0 0;\n",
              "      width: 32px;\n",
              "    }\n",
              "\n",
              "    .colab-df-convert:hover {\n",
              "      background-color: #E2EBFA;\n",
              "      box-shadow: 0px 1px 2px rgba(60, 64, 67, 0.3), 0px 1px 3px 1px rgba(60, 64, 67, 0.15);\n",
              "      fill: #174EA6;\n",
              "    }\n",
              "\n",
              "    [theme=dark] .colab-df-convert {\n",
              "      background-color: #3B4455;\n",
              "      fill: #D2E3FC;\n",
              "    }\n",
              "\n",
              "    [theme=dark] .colab-df-convert:hover {\n",
              "      background-color: #434B5C;\n",
              "      box-shadow: 0px 1px 3px 1px rgba(0, 0, 0, 0.15);\n",
              "      filter: drop-shadow(0px 1px 2px rgba(0, 0, 0, 0.3));\n",
              "      fill: #FFFFFF;\n",
              "    }\n",
              "  </style>\n",
              "\n",
              "      <script>\n",
              "        const buttonEl =\n",
              "          document.querySelector('#df-3f56df76-923a-4c85-90a8-787c02c4c40e button.colab-df-convert');\n",
              "        buttonEl.style.display =\n",
              "          google.colab.kernel.accessAllowed ? 'block' : 'none';\n",
              "\n",
              "        async function convertToInteractive(key) {\n",
              "          const element = document.querySelector('#df-3f56df76-923a-4c85-90a8-787c02c4c40e');\n",
              "          const dataTable =\n",
              "            await google.colab.kernel.invokeFunction('convertToInteractive',\n",
              "                                                     [key], {});\n",
              "          if (!dataTable) return;\n",
              "\n",
              "          const docLinkHtml = 'Like what you see? Visit the ' +\n",
              "            '<a target=\"_blank\" href=https://colab.research.google.com/notebooks/data_table.ipynb>data table notebook</a>'\n",
              "            + ' to learn more about interactive tables.';\n",
              "          element.innerHTML = '';\n",
              "          dataTable['output_type'] = 'display_data';\n",
              "          await google.colab.output.renderOutput(dataTable, element);\n",
              "          const docLink = document.createElement('div');\n",
              "          docLink.innerHTML = docLinkHtml;\n",
              "          element.appendChild(docLink);\n",
              "        }\n",
              "      </script>\n",
              "    </div>\n",
              "  </div>\n",
              "  "
            ]
          },
          "metadata": {},
          "execution_count": 11
        }
      ],
      "source": [
        "print('Описательная статистика')\n",
        "final_ab_events.describe()"
      ]
    },
    {
      "cell_type": "markdown",
      "metadata": {
        "id": "5LILh_ahfbfa"
      },
      "source": [
        "В датафреме final_ab_events 440317 записей (строк) и 4 колонки. Имена колонок соответствуют хорошему стилю написания. Есть пропуски данных в колонке details. Дубликатов - нет. Тип данных колоноки event_dt не соответствуют содержимому, привдём его типу data. Максимальное значение в колонке  details - 499.99, возможно это выброс."
      ]
    },
    {
      "cell_type": "code",
      "execution_count": 12,
      "metadata": {
        "colab": {
          "base_uri": "https://localhost:8080/",
          "height": 571
        },
        "id": "eCL98g0ieb66",
        "outputId": "561fbf2f-ea93-4b92-b5ae-fe863a560f6d"
      },
      "outputs": [
        {
          "output_type": "display_data",
          "data": {
            "text/plain": [
              "            user_id  first_date     region   device\n",
              "0  D72A72121175D8BE  2020-12-07         EU       PC\n",
              "1  F1C668619DFE6E65  2020-12-07  N.America  Android\n",
              "2  2E1BF1D4C37EA01F  2020-12-07         EU       PC\n",
              "3  50734A22C0C63768  2020-12-07         EU   iPhone\n",
              "4  E1BDDCE0DAFA2679  2020-12-07  N.America   iPhone"
            ],
            "text/html": [
              "\n",
              "  <div id=\"df-015f9a81-70bc-40d7-afc0-07f348eaec8b\">\n",
              "    <div class=\"colab-df-container\">\n",
              "      <div>\n",
              "<style scoped>\n",
              "    .dataframe tbody tr th:only-of-type {\n",
              "        vertical-align: middle;\n",
              "    }\n",
              "\n",
              "    .dataframe tbody tr th {\n",
              "        vertical-align: top;\n",
              "    }\n",
              "\n",
              "    .dataframe thead th {\n",
              "        text-align: right;\n",
              "    }\n",
              "</style>\n",
              "<table border=\"1\" class=\"dataframe\">\n",
              "  <thead>\n",
              "    <tr style=\"text-align: right;\">\n",
              "      <th></th>\n",
              "      <th>user_id</th>\n",
              "      <th>first_date</th>\n",
              "      <th>region</th>\n",
              "      <th>device</th>\n",
              "    </tr>\n",
              "  </thead>\n",
              "  <tbody>\n",
              "    <tr>\n",
              "      <th>0</th>\n",
              "      <td>D72A72121175D8BE</td>\n",
              "      <td>2020-12-07</td>\n",
              "      <td>EU</td>\n",
              "      <td>PC</td>\n",
              "    </tr>\n",
              "    <tr>\n",
              "      <th>1</th>\n",
              "      <td>F1C668619DFE6E65</td>\n",
              "      <td>2020-12-07</td>\n",
              "      <td>N.America</td>\n",
              "      <td>Android</td>\n",
              "    </tr>\n",
              "    <tr>\n",
              "      <th>2</th>\n",
              "      <td>2E1BF1D4C37EA01F</td>\n",
              "      <td>2020-12-07</td>\n",
              "      <td>EU</td>\n",
              "      <td>PC</td>\n",
              "    </tr>\n",
              "    <tr>\n",
              "      <th>3</th>\n",
              "      <td>50734A22C0C63768</td>\n",
              "      <td>2020-12-07</td>\n",
              "      <td>EU</td>\n",
              "      <td>iPhone</td>\n",
              "    </tr>\n",
              "    <tr>\n",
              "      <th>4</th>\n",
              "      <td>E1BDDCE0DAFA2679</td>\n",
              "      <td>2020-12-07</td>\n",
              "      <td>N.America</td>\n",
              "      <td>iPhone</td>\n",
              "    </tr>\n",
              "  </tbody>\n",
              "</table>\n",
              "</div>\n",
              "      <button class=\"colab-df-convert\" onclick=\"convertToInteractive('df-015f9a81-70bc-40d7-afc0-07f348eaec8b')\"\n",
              "              title=\"Convert this dataframe to an interactive table.\"\n",
              "              style=\"display:none;\">\n",
              "        \n",
              "  <svg xmlns=\"http://www.w3.org/2000/svg\" height=\"24px\"viewBox=\"0 0 24 24\"\n",
              "       width=\"24px\">\n",
              "    <path d=\"M0 0h24v24H0V0z\" fill=\"none\"/>\n",
              "    <path d=\"M18.56 5.44l.94 2.06.94-2.06 2.06-.94-2.06-.94-.94-2.06-.94 2.06-2.06.94zm-11 1L8.5 8.5l.94-2.06 2.06-.94-2.06-.94L8.5 2.5l-.94 2.06-2.06.94zm10 10l.94 2.06.94-2.06 2.06-.94-2.06-.94-.94-2.06-.94 2.06-2.06.94z\"/><path d=\"M17.41 7.96l-1.37-1.37c-.4-.4-.92-.59-1.43-.59-.52 0-1.04.2-1.43.59L10.3 9.45l-7.72 7.72c-.78.78-.78 2.05 0 2.83L4 21.41c.39.39.9.59 1.41.59.51 0 1.02-.2 1.41-.59l7.78-7.78 2.81-2.81c.8-.78.8-2.07 0-2.86zM5.41 20L4 18.59l7.72-7.72 1.47 1.35L5.41 20z\"/>\n",
              "  </svg>\n",
              "      </button>\n",
              "      \n",
              "  <style>\n",
              "    .colab-df-container {\n",
              "      display:flex;\n",
              "      flex-wrap:wrap;\n",
              "      gap: 12px;\n",
              "    }\n",
              "\n",
              "    .colab-df-convert {\n",
              "      background-color: #E8F0FE;\n",
              "      border: none;\n",
              "      border-radius: 50%;\n",
              "      cursor: pointer;\n",
              "      display: none;\n",
              "      fill: #1967D2;\n",
              "      height: 32px;\n",
              "      padding: 0 0 0 0;\n",
              "      width: 32px;\n",
              "    }\n",
              "\n",
              "    .colab-df-convert:hover {\n",
              "      background-color: #E2EBFA;\n",
              "      box-shadow: 0px 1px 2px rgba(60, 64, 67, 0.3), 0px 1px 3px 1px rgba(60, 64, 67, 0.15);\n",
              "      fill: #174EA6;\n",
              "    }\n",
              "\n",
              "    [theme=dark] .colab-df-convert {\n",
              "      background-color: #3B4455;\n",
              "      fill: #D2E3FC;\n",
              "    }\n",
              "\n",
              "    [theme=dark] .colab-df-convert:hover {\n",
              "      background-color: #434B5C;\n",
              "      box-shadow: 0px 1px 3px 1px rgba(0, 0, 0, 0.15);\n",
              "      filter: drop-shadow(0px 1px 2px rgba(0, 0, 0, 0.3));\n",
              "      fill: #FFFFFF;\n",
              "    }\n",
              "  </style>\n",
              "\n",
              "      <script>\n",
              "        const buttonEl =\n",
              "          document.querySelector('#df-015f9a81-70bc-40d7-afc0-07f348eaec8b button.colab-df-convert');\n",
              "        buttonEl.style.display =\n",
              "          google.colab.kernel.accessAllowed ? 'block' : 'none';\n",
              "\n",
              "        async function convertToInteractive(key) {\n",
              "          const element = document.querySelector('#df-015f9a81-70bc-40d7-afc0-07f348eaec8b');\n",
              "          const dataTable =\n",
              "            await google.colab.kernel.invokeFunction('convertToInteractive',\n",
              "                                                     [key], {});\n",
              "          if (!dataTable) return;\n",
              "\n",
              "          const docLinkHtml = 'Like what you see? Visit the ' +\n",
              "            '<a target=\"_blank\" href=https://colab.research.google.com/notebooks/data_table.ipynb>data table notebook</a>'\n",
              "            + ' to learn more about interactive tables.';\n",
              "          element.innerHTML = '';\n",
              "          dataTable['output_type'] = 'display_data';\n",
              "          await google.colab.output.renderOutput(dataTable, element);\n",
              "          const docLink = document.createElement('div');\n",
              "          docLink.innerHTML = docLinkHtml;\n",
              "          element.appendChild(docLink);\n",
              "        }\n",
              "      </script>\n",
              "    </div>\n",
              "  </div>\n",
              "  "
            ]
          },
          "metadata": {}
        },
        {
          "output_type": "stream",
          "name": "stdout",
          "text": [
            "-------------------------------------\n",
            "Описание датасета\n",
            "<class 'pandas.core.frame.DataFrame'>\n",
            "RangeIndex: 61733 entries, 0 to 61732\n",
            "Data columns (total 4 columns):\n",
            " #   Column      Non-Null Count  Dtype \n",
            "---  ------      --------------  ----- \n",
            " 0   user_id     61733 non-null  object\n",
            " 1   first_date  61733 non-null  object\n",
            " 2   region      61733 non-null  object\n",
            " 3   device      61733 non-null  object\n",
            "dtypes: object(4)\n",
            "memory usage: 1.9+ MB\n",
            "-------------------------------------\n",
            "Пропуски данных\n"
          ]
        },
        {
          "output_type": "execute_result",
          "data": {
            "text/plain": [
              "user_id       0\n",
              "first_date    0\n",
              "region        0\n",
              "device        0\n",
              "dtype: int64"
            ]
          },
          "metadata": {},
          "execution_count": 12
        }
      ],
      "source": [
        "# Посмотрим на датафрейм final_ab_new_users\n",
        "display(final_ab_new_users.head()) # Выведем 5 верхних записей\n",
        "print('-------------------------------------')\n",
        "print('Описание датасета')\n",
        "final_ab_new_users.info() # Посмотрим описание датафрейма\n",
        "print('-------------------------------------')\n",
        "print('Пропуски данных')\n",
        "final_ab_new_users.isna().sum() # Проверим пропуски"
      ]
    },
    {
      "cell_type": "code",
      "execution_count": 13,
      "metadata": {
        "colab": {
          "base_uri": "https://localhost:8080/"
        },
        "id": "lozNU6_ceb9y",
        "outputId": "bafb799e-87a0-48f2-9bde-029487d7e997"
      },
      "outputs": [
        {
          "output_type": "stream",
          "name": "stdout",
          "text": [
            "Дубликаты\n"
          ]
        },
        {
          "output_type": "execute_result",
          "data": {
            "text/plain": [
              "0"
            ]
          },
          "metadata": {},
          "execution_count": 13
        }
      ],
      "source": [
        "# Проверим дублирующиеся записи\n",
        "print('Дубликаты')\n",
        "final_ab_new_users.duplicated().sum()"
      ]
    },
    {
      "cell_type": "code",
      "execution_count": 14,
      "metadata": {
        "colab": {
          "base_uri": "https://localhost:8080/",
          "height": 193
        },
        "id": "XrLwkudPixju",
        "outputId": "fcdbb738-410e-43d1-81d4-abf124617b09"
      },
      "outputs": [
        {
          "output_type": "stream",
          "name": "stdout",
          "text": [
            "Описательная статистика\n"
          ]
        },
        {
          "output_type": "execute_result",
          "data": {
            "text/plain": [
              "                 user_id  first_date region   device\n",
              "count              61733       61733  61733    61733\n",
              "unique             61733          17      4        4\n",
              "top     D72A72121175D8BE  2020-12-21     EU  Android\n",
              "freq                   1        6290  46270    27520"
            ],
            "text/html": [
              "\n",
              "  <div id=\"df-bb1e4bac-5dbc-431f-9aed-86f2682fa709\">\n",
              "    <div class=\"colab-df-container\">\n",
              "      <div>\n",
              "<style scoped>\n",
              "    .dataframe tbody tr th:only-of-type {\n",
              "        vertical-align: middle;\n",
              "    }\n",
              "\n",
              "    .dataframe tbody tr th {\n",
              "        vertical-align: top;\n",
              "    }\n",
              "\n",
              "    .dataframe thead th {\n",
              "        text-align: right;\n",
              "    }\n",
              "</style>\n",
              "<table border=\"1\" class=\"dataframe\">\n",
              "  <thead>\n",
              "    <tr style=\"text-align: right;\">\n",
              "      <th></th>\n",
              "      <th>user_id</th>\n",
              "      <th>first_date</th>\n",
              "      <th>region</th>\n",
              "      <th>device</th>\n",
              "    </tr>\n",
              "  </thead>\n",
              "  <tbody>\n",
              "    <tr>\n",
              "      <th>count</th>\n",
              "      <td>61733</td>\n",
              "      <td>61733</td>\n",
              "      <td>61733</td>\n",
              "      <td>61733</td>\n",
              "    </tr>\n",
              "    <tr>\n",
              "      <th>unique</th>\n",
              "      <td>61733</td>\n",
              "      <td>17</td>\n",
              "      <td>4</td>\n",
              "      <td>4</td>\n",
              "    </tr>\n",
              "    <tr>\n",
              "      <th>top</th>\n",
              "      <td>D72A72121175D8BE</td>\n",
              "      <td>2020-12-21</td>\n",
              "      <td>EU</td>\n",
              "      <td>Android</td>\n",
              "    </tr>\n",
              "    <tr>\n",
              "      <th>freq</th>\n",
              "      <td>1</td>\n",
              "      <td>6290</td>\n",
              "      <td>46270</td>\n",
              "      <td>27520</td>\n",
              "    </tr>\n",
              "  </tbody>\n",
              "</table>\n",
              "</div>\n",
              "      <button class=\"colab-df-convert\" onclick=\"convertToInteractive('df-bb1e4bac-5dbc-431f-9aed-86f2682fa709')\"\n",
              "              title=\"Convert this dataframe to an interactive table.\"\n",
              "              style=\"display:none;\">\n",
              "        \n",
              "  <svg xmlns=\"http://www.w3.org/2000/svg\" height=\"24px\"viewBox=\"0 0 24 24\"\n",
              "       width=\"24px\">\n",
              "    <path d=\"M0 0h24v24H0V0z\" fill=\"none\"/>\n",
              "    <path d=\"M18.56 5.44l.94 2.06.94-2.06 2.06-.94-2.06-.94-.94-2.06-.94 2.06-2.06.94zm-11 1L8.5 8.5l.94-2.06 2.06-.94-2.06-.94L8.5 2.5l-.94 2.06-2.06.94zm10 10l.94 2.06.94-2.06 2.06-.94-2.06-.94-.94-2.06-.94 2.06-2.06.94z\"/><path d=\"M17.41 7.96l-1.37-1.37c-.4-.4-.92-.59-1.43-.59-.52 0-1.04.2-1.43.59L10.3 9.45l-7.72 7.72c-.78.78-.78 2.05 0 2.83L4 21.41c.39.39.9.59 1.41.59.51 0 1.02-.2 1.41-.59l7.78-7.78 2.81-2.81c.8-.78.8-2.07 0-2.86zM5.41 20L4 18.59l7.72-7.72 1.47 1.35L5.41 20z\"/>\n",
              "  </svg>\n",
              "      </button>\n",
              "      \n",
              "  <style>\n",
              "    .colab-df-container {\n",
              "      display:flex;\n",
              "      flex-wrap:wrap;\n",
              "      gap: 12px;\n",
              "    }\n",
              "\n",
              "    .colab-df-convert {\n",
              "      background-color: #E8F0FE;\n",
              "      border: none;\n",
              "      border-radius: 50%;\n",
              "      cursor: pointer;\n",
              "      display: none;\n",
              "      fill: #1967D2;\n",
              "      height: 32px;\n",
              "      padding: 0 0 0 0;\n",
              "      width: 32px;\n",
              "    }\n",
              "\n",
              "    .colab-df-convert:hover {\n",
              "      background-color: #E2EBFA;\n",
              "      box-shadow: 0px 1px 2px rgba(60, 64, 67, 0.3), 0px 1px 3px 1px rgba(60, 64, 67, 0.15);\n",
              "      fill: #174EA6;\n",
              "    }\n",
              "\n",
              "    [theme=dark] .colab-df-convert {\n",
              "      background-color: #3B4455;\n",
              "      fill: #D2E3FC;\n",
              "    }\n",
              "\n",
              "    [theme=dark] .colab-df-convert:hover {\n",
              "      background-color: #434B5C;\n",
              "      box-shadow: 0px 1px 3px 1px rgba(0, 0, 0, 0.15);\n",
              "      filter: drop-shadow(0px 1px 2px rgba(0, 0, 0, 0.3));\n",
              "      fill: #FFFFFF;\n",
              "    }\n",
              "  </style>\n",
              "\n",
              "      <script>\n",
              "        const buttonEl =\n",
              "          document.querySelector('#df-bb1e4bac-5dbc-431f-9aed-86f2682fa709 button.colab-df-convert');\n",
              "        buttonEl.style.display =\n",
              "          google.colab.kernel.accessAllowed ? 'block' : 'none';\n",
              "\n",
              "        async function convertToInteractive(key) {\n",
              "          const element = document.querySelector('#df-bb1e4bac-5dbc-431f-9aed-86f2682fa709');\n",
              "          const dataTable =\n",
              "            await google.colab.kernel.invokeFunction('convertToInteractive',\n",
              "                                                     [key], {});\n",
              "          if (!dataTable) return;\n",
              "\n",
              "          const docLinkHtml = 'Like what you see? Visit the ' +\n",
              "            '<a target=\"_blank\" href=https://colab.research.google.com/notebooks/data_table.ipynb>data table notebook</a>'\n",
              "            + ' to learn more about interactive tables.';\n",
              "          element.innerHTML = '';\n",
              "          dataTable['output_type'] = 'display_data';\n",
              "          await google.colab.output.renderOutput(dataTable, element);\n",
              "          const docLink = document.createElement('div');\n",
              "          docLink.innerHTML = docLinkHtml;\n",
              "          element.appendChild(docLink);\n",
              "        }\n",
              "      </script>\n",
              "    </div>\n",
              "  </div>\n",
              "  "
            ]
          },
          "metadata": {},
          "execution_count": 14
        }
      ],
      "source": [
        "print('Описательная статистика')\n",
        "final_ab_new_users.describe()"
      ]
    },
    {
      "cell_type": "markdown",
      "metadata": {
        "id": "yVxoNtHpfyMw"
      },
      "source": [
        "В датафреме final_ab_new_users 61733 записей (строк) и 4 колонки. Имена колонок соответствуют хорошему стилю написания. пропусков и дубликатов - нет. Тип данных колоноки first_date не соответствуют содержимому, приведём её к типу date."
      ]
    },
    {
      "cell_type": "code",
      "execution_count": 15,
      "metadata": {
        "colab": {
          "base_uri": "https://localhost:8080/",
          "height": 534
        },
        "id": "xHGhDXadecAK",
        "outputId": "54a36591-2c48-41e2-9ee7-3f0ffcbaf2f1"
      },
      "outputs": [
        {
          "output_type": "display_data",
          "data": {
            "text/plain": [
              "            user_id group                  ab_test\n",
              "0  D1ABA3E2887B6A73     A  recommender_system_test\n",
              "1  A7A3664BD6242119     A  recommender_system_test\n",
              "2  DABC14FDDFADD29E     A  recommender_system_test\n",
              "3  04988C5DF189632E     A  recommender_system_test\n",
              "4  482F14783456D21B     B  recommender_system_test"
            ],
            "text/html": [
              "\n",
              "  <div id=\"df-41e7fbdd-5cbf-4eb9-b103-245c599b4f07\">\n",
              "    <div class=\"colab-df-container\">\n",
              "      <div>\n",
              "<style scoped>\n",
              "    .dataframe tbody tr th:only-of-type {\n",
              "        vertical-align: middle;\n",
              "    }\n",
              "\n",
              "    .dataframe tbody tr th {\n",
              "        vertical-align: top;\n",
              "    }\n",
              "\n",
              "    .dataframe thead th {\n",
              "        text-align: right;\n",
              "    }\n",
              "</style>\n",
              "<table border=\"1\" class=\"dataframe\">\n",
              "  <thead>\n",
              "    <tr style=\"text-align: right;\">\n",
              "      <th></th>\n",
              "      <th>user_id</th>\n",
              "      <th>group</th>\n",
              "      <th>ab_test</th>\n",
              "    </tr>\n",
              "  </thead>\n",
              "  <tbody>\n",
              "    <tr>\n",
              "      <th>0</th>\n",
              "      <td>D1ABA3E2887B6A73</td>\n",
              "      <td>A</td>\n",
              "      <td>recommender_system_test</td>\n",
              "    </tr>\n",
              "    <tr>\n",
              "      <th>1</th>\n",
              "      <td>A7A3664BD6242119</td>\n",
              "      <td>A</td>\n",
              "      <td>recommender_system_test</td>\n",
              "    </tr>\n",
              "    <tr>\n",
              "      <th>2</th>\n",
              "      <td>DABC14FDDFADD29E</td>\n",
              "      <td>A</td>\n",
              "      <td>recommender_system_test</td>\n",
              "    </tr>\n",
              "    <tr>\n",
              "      <th>3</th>\n",
              "      <td>04988C5DF189632E</td>\n",
              "      <td>A</td>\n",
              "      <td>recommender_system_test</td>\n",
              "    </tr>\n",
              "    <tr>\n",
              "      <th>4</th>\n",
              "      <td>482F14783456D21B</td>\n",
              "      <td>B</td>\n",
              "      <td>recommender_system_test</td>\n",
              "    </tr>\n",
              "  </tbody>\n",
              "</table>\n",
              "</div>\n",
              "      <button class=\"colab-df-convert\" onclick=\"convertToInteractive('df-41e7fbdd-5cbf-4eb9-b103-245c599b4f07')\"\n",
              "              title=\"Convert this dataframe to an interactive table.\"\n",
              "              style=\"display:none;\">\n",
              "        \n",
              "  <svg xmlns=\"http://www.w3.org/2000/svg\" height=\"24px\"viewBox=\"0 0 24 24\"\n",
              "       width=\"24px\">\n",
              "    <path d=\"M0 0h24v24H0V0z\" fill=\"none\"/>\n",
              "    <path d=\"M18.56 5.44l.94 2.06.94-2.06 2.06-.94-2.06-.94-.94-2.06-.94 2.06-2.06.94zm-11 1L8.5 8.5l.94-2.06 2.06-.94-2.06-.94L8.5 2.5l-.94 2.06-2.06.94zm10 10l.94 2.06.94-2.06 2.06-.94-2.06-.94-.94-2.06-.94 2.06-2.06.94z\"/><path d=\"M17.41 7.96l-1.37-1.37c-.4-.4-.92-.59-1.43-.59-.52 0-1.04.2-1.43.59L10.3 9.45l-7.72 7.72c-.78.78-.78 2.05 0 2.83L4 21.41c.39.39.9.59 1.41.59.51 0 1.02-.2 1.41-.59l7.78-7.78 2.81-2.81c.8-.78.8-2.07 0-2.86zM5.41 20L4 18.59l7.72-7.72 1.47 1.35L5.41 20z\"/>\n",
              "  </svg>\n",
              "      </button>\n",
              "      \n",
              "  <style>\n",
              "    .colab-df-container {\n",
              "      display:flex;\n",
              "      flex-wrap:wrap;\n",
              "      gap: 12px;\n",
              "    }\n",
              "\n",
              "    .colab-df-convert {\n",
              "      background-color: #E8F0FE;\n",
              "      border: none;\n",
              "      border-radius: 50%;\n",
              "      cursor: pointer;\n",
              "      display: none;\n",
              "      fill: #1967D2;\n",
              "      height: 32px;\n",
              "      padding: 0 0 0 0;\n",
              "      width: 32px;\n",
              "    }\n",
              "\n",
              "    .colab-df-convert:hover {\n",
              "      background-color: #E2EBFA;\n",
              "      box-shadow: 0px 1px 2px rgba(60, 64, 67, 0.3), 0px 1px 3px 1px rgba(60, 64, 67, 0.15);\n",
              "      fill: #174EA6;\n",
              "    }\n",
              "\n",
              "    [theme=dark] .colab-df-convert {\n",
              "      background-color: #3B4455;\n",
              "      fill: #D2E3FC;\n",
              "    }\n",
              "\n",
              "    [theme=dark] .colab-df-convert:hover {\n",
              "      background-color: #434B5C;\n",
              "      box-shadow: 0px 1px 3px 1px rgba(0, 0, 0, 0.15);\n",
              "      filter: drop-shadow(0px 1px 2px rgba(0, 0, 0, 0.3));\n",
              "      fill: #FFFFFF;\n",
              "    }\n",
              "  </style>\n",
              "\n",
              "      <script>\n",
              "        const buttonEl =\n",
              "          document.querySelector('#df-41e7fbdd-5cbf-4eb9-b103-245c599b4f07 button.colab-df-convert');\n",
              "        buttonEl.style.display =\n",
              "          google.colab.kernel.accessAllowed ? 'block' : 'none';\n",
              "\n",
              "        async function convertToInteractive(key) {\n",
              "          const element = document.querySelector('#df-41e7fbdd-5cbf-4eb9-b103-245c599b4f07');\n",
              "          const dataTable =\n",
              "            await google.colab.kernel.invokeFunction('convertToInteractive',\n",
              "                                                     [key], {});\n",
              "          if (!dataTable) return;\n",
              "\n",
              "          const docLinkHtml = 'Like what you see? Visit the ' +\n",
              "            '<a target=\"_blank\" href=https://colab.research.google.com/notebooks/data_table.ipynb>data table notebook</a>'\n",
              "            + ' to learn more about interactive tables.';\n",
              "          element.innerHTML = '';\n",
              "          dataTable['output_type'] = 'display_data';\n",
              "          await google.colab.output.renderOutput(dataTable, element);\n",
              "          const docLink = document.createElement('div');\n",
              "          docLink.innerHTML = docLinkHtml;\n",
              "          element.appendChild(docLink);\n",
              "        }\n",
              "      </script>\n",
              "    </div>\n",
              "  </div>\n",
              "  "
            ]
          },
          "metadata": {}
        },
        {
          "output_type": "stream",
          "name": "stdout",
          "text": [
            "-------------------------------------\n",
            "Описание датасета\n",
            "<class 'pandas.core.frame.DataFrame'>\n",
            "RangeIndex: 18268 entries, 0 to 18267\n",
            "Data columns (total 3 columns):\n",
            " #   Column   Non-Null Count  Dtype \n",
            "---  ------   --------------  ----- \n",
            " 0   user_id  18268 non-null  object\n",
            " 1   group    18268 non-null  object\n",
            " 2   ab_test  18268 non-null  object\n",
            "dtypes: object(3)\n",
            "memory usage: 428.3+ KB\n",
            "-------------------------------------\n",
            "Пропуски данных\n"
          ]
        },
        {
          "output_type": "execute_result",
          "data": {
            "text/plain": [
              "user_id    0\n",
              "group      0\n",
              "ab_test    0\n",
              "dtype: int64"
            ]
          },
          "metadata": {},
          "execution_count": 15
        }
      ],
      "source": [
        "# Посмотрим на датафрейм final_ab_participants\n",
        "display(final_ab_participants.head()) # Выведем 5 верхних записей\n",
        "print('-------------------------------------')\n",
        "print('Описание датасета')\n",
        "final_ab_participants.info() # Посмотрим описание датафрейма\n",
        "print('-------------------------------------')\n",
        "print('Пропуски данных')\n",
        "final_ab_participants.isna().sum() # Проверим пропуски"
      ]
    },
    {
      "cell_type": "code",
      "execution_count": 16,
      "metadata": {
        "colab": {
          "base_uri": "https://localhost:8080/"
        },
        "id": "u_oRuXgNecDZ",
        "outputId": "f9d3b89a-14c6-449e-d290-86f593ceec95"
      },
      "outputs": [
        {
          "output_type": "stream",
          "name": "stdout",
          "text": [
            "Дубликаты\n"
          ]
        },
        {
          "output_type": "execute_result",
          "data": {
            "text/plain": [
              "0"
            ]
          },
          "metadata": {},
          "execution_count": 16
        }
      ],
      "source": [
        "# Проверим дублирующиеся записи\n",
        "print('Дубликаты')\n",
        "final_ab_participants.duplicated().sum()"
      ]
    },
    {
      "cell_type": "code",
      "execution_count": 17,
      "metadata": {
        "colab": {
          "base_uri": "https://localhost:8080/",
          "height": 193
        },
        "id": "SSlxeEXIi7tv",
        "outputId": "8d5d01ee-e793-4543-9da9-eb62cf1f3fa5"
      },
      "outputs": [
        {
          "output_type": "stream",
          "name": "stdout",
          "text": [
            "Описательная статистика\n"
          ]
        },
        {
          "output_type": "execute_result",
          "data": {
            "text/plain": [
              "                 user_id  group            ab_test\n",
              "count              18268  18268              18268\n",
              "unique             16666      2                  2\n",
              "top     0FDFDA0B2DEC2D91      A  interface_eu_test\n",
              "freq                   2   9655              11567"
            ],
            "text/html": [
              "\n",
              "  <div id=\"df-1209f045-b4d6-4d63-88c0-8d1f760caa21\">\n",
              "    <div class=\"colab-df-container\">\n",
              "      <div>\n",
              "<style scoped>\n",
              "    .dataframe tbody tr th:only-of-type {\n",
              "        vertical-align: middle;\n",
              "    }\n",
              "\n",
              "    .dataframe tbody tr th {\n",
              "        vertical-align: top;\n",
              "    }\n",
              "\n",
              "    .dataframe thead th {\n",
              "        text-align: right;\n",
              "    }\n",
              "</style>\n",
              "<table border=\"1\" class=\"dataframe\">\n",
              "  <thead>\n",
              "    <tr style=\"text-align: right;\">\n",
              "      <th></th>\n",
              "      <th>user_id</th>\n",
              "      <th>group</th>\n",
              "      <th>ab_test</th>\n",
              "    </tr>\n",
              "  </thead>\n",
              "  <tbody>\n",
              "    <tr>\n",
              "      <th>count</th>\n",
              "      <td>18268</td>\n",
              "      <td>18268</td>\n",
              "      <td>18268</td>\n",
              "    </tr>\n",
              "    <tr>\n",
              "      <th>unique</th>\n",
              "      <td>16666</td>\n",
              "      <td>2</td>\n",
              "      <td>2</td>\n",
              "    </tr>\n",
              "    <tr>\n",
              "      <th>top</th>\n",
              "      <td>0FDFDA0B2DEC2D91</td>\n",
              "      <td>A</td>\n",
              "      <td>interface_eu_test</td>\n",
              "    </tr>\n",
              "    <tr>\n",
              "      <th>freq</th>\n",
              "      <td>2</td>\n",
              "      <td>9655</td>\n",
              "      <td>11567</td>\n",
              "    </tr>\n",
              "  </tbody>\n",
              "</table>\n",
              "</div>\n",
              "      <button class=\"colab-df-convert\" onclick=\"convertToInteractive('df-1209f045-b4d6-4d63-88c0-8d1f760caa21')\"\n",
              "              title=\"Convert this dataframe to an interactive table.\"\n",
              "              style=\"display:none;\">\n",
              "        \n",
              "  <svg xmlns=\"http://www.w3.org/2000/svg\" height=\"24px\"viewBox=\"0 0 24 24\"\n",
              "       width=\"24px\">\n",
              "    <path d=\"M0 0h24v24H0V0z\" fill=\"none\"/>\n",
              "    <path d=\"M18.56 5.44l.94 2.06.94-2.06 2.06-.94-2.06-.94-.94-2.06-.94 2.06-2.06.94zm-11 1L8.5 8.5l.94-2.06 2.06-.94-2.06-.94L8.5 2.5l-.94 2.06-2.06.94zm10 10l.94 2.06.94-2.06 2.06-.94-2.06-.94-.94-2.06-.94 2.06-2.06.94z\"/><path d=\"M17.41 7.96l-1.37-1.37c-.4-.4-.92-.59-1.43-.59-.52 0-1.04.2-1.43.59L10.3 9.45l-7.72 7.72c-.78.78-.78 2.05 0 2.83L4 21.41c.39.39.9.59 1.41.59.51 0 1.02-.2 1.41-.59l7.78-7.78 2.81-2.81c.8-.78.8-2.07 0-2.86zM5.41 20L4 18.59l7.72-7.72 1.47 1.35L5.41 20z\"/>\n",
              "  </svg>\n",
              "      </button>\n",
              "      \n",
              "  <style>\n",
              "    .colab-df-container {\n",
              "      display:flex;\n",
              "      flex-wrap:wrap;\n",
              "      gap: 12px;\n",
              "    }\n",
              "\n",
              "    .colab-df-convert {\n",
              "      background-color: #E8F0FE;\n",
              "      border: none;\n",
              "      border-radius: 50%;\n",
              "      cursor: pointer;\n",
              "      display: none;\n",
              "      fill: #1967D2;\n",
              "      height: 32px;\n",
              "      padding: 0 0 0 0;\n",
              "      width: 32px;\n",
              "    }\n",
              "\n",
              "    .colab-df-convert:hover {\n",
              "      background-color: #E2EBFA;\n",
              "      box-shadow: 0px 1px 2px rgba(60, 64, 67, 0.3), 0px 1px 3px 1px rgba(60, 64, 67, 0.15);\n",
              "      fill: #174EA6;\n",
              "    }\n",
              "\n",
              "    [theme=dark] .colab-df-convert {\n",
              "      background-color: #3B4455;\n",
              "      fill: #D2E3FC;\n",
              "    }\n",
              "\n",
              "    [theme=dark] .colab-df-convert:hover {\n",
              "      background-color: #434B5C;\n",
              "      box-shadow: 0px 1px 3px 1px rgba(0, 0, 0, 0.15);\n",
              "      filter: drop-shadow(0px 1px 2px rgba(0, 0, 0, 0.3));\n",
              "      fill: #FFFFFF;\n",
              "    }\n",
              "  </style>\n",
              "\n",
              "      <script>\n",
              "        const buttonEl =\n",
              "          document.querySelector('#df-1209f045-b4d6-4d63-88c0-8d1f760caa21 button.colab-df-convert');\n",
              "        buttonEl.style.display =\n",
              "          google.colab.kernel.accessAllowed ? 'block' : 'none';\n",
              "\n",
              "        async function convertToInteractive(key) {\n",
              "          const element = document.querySelector('#df-1209f045-b4d6-4d63-88c0-8d1f760caa21');\n",
              "          const dataTable =\n",
              "            await google.colab.kernel.invokeFunction('convertToInteractive',\n",
              "                                                     [key], {});\n",
              "          if (!dataTable) return;\n",
              "\n",
              "          const docLinkHtml = 'Like what you see? Visit the ' +\n",
              "            '<a target=\"_blank\" href=https://colab.research.google.com/notebooks/data_table.ipynb>data table notebook</a>'\n",
              "            + ' to learn more about interactive tables.';\n",
              "          element.innerHTML = '';\n",
              "          dataTable['output_type'] = 'display_data';\n",
              "          await google.colab.output.renderOutput(dataTable, element);\n",
              "          const docLink = document.createElement('div');\n",
              "          docLink.innerHTML = docLinkHtml;\n",
              "          element.appendChild(docLink);\n",
              "        }\n",
              "      </script>\n",
              "    </div>\n",
              "  </div>\n",
              "  "
            ]
          },
          "metadata": {},
          "execution_count": 17
        }
      ],
      "source": [
        "print('Описательная статистика')\n",
        "final_ab_participants.describe()"
      ]
    },
    {
      "cell_type": "markdown",
      "metadata": {
        "id": "yKm4YG2YgJc6"
      },
      "source": [
        "В датафреме final_ab_participants 18268 записей (строк) и 3 колонки. Имена колонок соответствуют хорошему стилю написания. пропусков и дубликатов - нет. Типы данных колонокок соответствуют содержимому."
      ]
    },
    {
      "cell_type": "markdown",
      "metadata": {
        "id": "KCg108LlpFmK"
      },
      "source": [
        "**Предобработка данных**"
      ]
    },
    {
      "cell_type": "code",
      "execution_count": 18,
      "metadata": {
        "colab": {
          "base_uri": "https://localhost:8080/"
        },
        "id": "XnnOheZ3ecJy",
        "outputId": "ea034a81-f357-4113-9dc3-0cb3b6e6c36c"
      },
      "outputs": [
        {
          "output_type": "execute_result",
          "data": {
            "text/plain": [
              "array(['purchase'], dtype=object)"
            ]
          },
          "metadata": {},
          "execution_count": 18
        }
      ],
      "source": [
        "# Обработаем пропуски\n",
        "# Проверим, все ли заполненые данные имеют отношение к purchase\n",
        "final_ab_events[final_ab_events['details'].notna()]['event_name'].unique()"
      ]
    },
    {
      "cell_type": "code",
      "execution_count": 19,
      "metadata": {
        "colab": {
          "base_uri": "https://localhost:8080/"
        },
        "id": "wEGR7CDCjWrU",
        "outputId": "8fd85154-cedf-42bb-eb2d-ec4ac7b005a0"
      },
      "outputs": [
        {
          "output_type": "execute_result",
          "data": {
            "text/plain": [
              "array(['purchase', 'product_cart', 'product_page', 'login'], dtype=object)"
            ]
          },
          "metadata": {},
          "execution_count": 19
        }
      ],
      "source": [
        "# Проверим какие события происходили\n",
        "final_ab_events['event_name'].unique()"
      ]
    },
    {
      "cell_type": "code",
      "execution_count": 20,
      "metadata": {
        "id": "5AvMK3kvjciU"
      },
      "outputs": [],
      "source": [
        "# Т.к.пропуски не относятся к событию purchase они не содержат данных о стоимости покупок  - \n",
        "# заполним пропущенные значений нулями\n",
        "final_ab_events['details'] = final_ab_events['details'].fillna(0)\n",
        "#final_ab_events.info()"
      ]
    },
    {
      "cell_type": "code",
      "execution_count": 21,
      "metadata": {
        "id": "uRn7LEzUl6FH"
      },
      "outputs": [],
      "source": [
        "# Изменение типов данных на data\n",
        "ab_project_marketing_events['start_dt'] = pd.to_datetime(ab_project_marketing_events['start_dt'])\n",
        "ab_project_marketing_events['finish_dt'] = pd.to_datetime(ab_project_marketing_events['finish_dt'])\n",
        "final_ab_new_users['first_date'] = pd.to_datetime(final_ab_new_users['first_date'])\n",
        "final_ab_events['event_dt'] = pd.to_datetime(final_ab_events['event_dt'])\n",
        "#ab_project_marketing_events.info()\n",
        "#final_ab_new_users.info()\n",
        "#final_ab_events.info()"
      ]
    },
    {
      "cell_type": "markdown",
      "metadata": {
        "id": "gOJhQ8GCpWPh"
      },
      "source": [
        "**Вывод**  \n",
        "Мы загрузи и исследоваили данные, обнаруженные пропуски данных и несоответствие типов данных колонок их содержимому - исправили."
      ]
    },
    {
      "cell_type": "markdown",
      "metadata": {
        "id": "LDUzEAvspU27"
      },
      "source": [
        "---"
      ]
    },
    {
      "cell_type": "markdown",
      "metadata": {
        "id": "3B60cqNKmZtm"
      },
      "source": [
        "## Исследовательский анализ данных (EDA)<a id=\"EDA\"></a>   \n",
        "На данном этапе мы:   \n",
        "* будем исследовать конверсию в воронке на разных этапах   \n",
        "* посмотрим обладают ли выборки одинаковыми распределениями количества событий на пользователя   \n",
        "* посмотрим присутствуют ли в выборках одни и те же пользователи и не пересекаются аудитория теста с аудиториями других тестов      \n",
        "* посмотрим как число событий распределено по дням и не перескался ли тест с другими маркетинговыми активностями    \n",
        "* проверим равномерность распределения по тестовым группам и правильность их формирования "
      ]
    },
    {
      "cell_type": "markdown",
      "metadata": {
        "id": "t8LNkxP1qi4c"
      },
      "source": [
        "### Исследование конверсии в воронке на разных этапах<a id=\"conversion\"></a>"
      ]
    },
    {
      "cell_type": "code",
      "execution_count": 22,
      "metadata": {
        "colab": {
          "base_uri": "https://localhost:8080/",
          "height": 206
        },
        "id": "fV2I17ZwmI9s",
        "outputId": "5c80ae4b-8880-4681-8073-3f999f3af1bc"
      },
      "outputs": [
        {
          "output_type": "display_data",
          "data": {
            "text/plain": [
              "            user_id            event_dt    event_name  details group  \\\n",
              "0  831887FE7F2D6CBA 2020-12-07 06:50:29      purchase     4.99     A   \n",
              "1  831887FE7F2D6CBA 2020-12-09 02:19:17      purchase    99.99     A   \n",
              "2  831887FE7F2D6CBA 2020-12-07 06:50:30  product_cart     0.00     A   \n",
              "3  831887FE7F2D6CBA 2020-12-08 10:52:27  product_cart     0.00     A   \n",
              "4  831887FE7F2D6CBA 2020-12-09 02:19:17  product_cart     0.00     A   \n",
              "\n",
              "                   ab_test  \n",
              "0  recommender_system_test  \n",
              "1  recommender_system_test  \n",
              "2  recommender_system_test  \n",
              "3  recommender_system_test  \n",
              "4  recommender_system_test  "
            ],
            "text/html": [
              "\n",
              "  <div id=\"df-dadc8c4d-f104-4c81-88d2-49bfcfb75c25\">\n",
              "    <div class=\"colab-df-container\">\n",
              "      <div>\n",
              "<style scoped>\n",
              "    .dataframe tbody tr th:only-of-type {\n",
              "        vertical-align: middle;\n",
              "    }\n",
              "\n",
              "    .dataframe tbody tr th {\n",
              "        vertical-align: top;\n",
              "    }\n",
              "\n",
              "    .dataframe thead th {\n",
              "        text-align: right;\n",
              "    }\n",
              "</style>\n",
              "<table border=\"1\" class=\"dataframe\">\n",
              "  <thead>\n",
              "    <tr style=\"text-align: right;\">\n",
              "      <th></th>\n",
              "      <th>user_id</th>\n",
              "      <th>event_dt</th>\n",
              "      <th>event_name</th>\n",
              "      <th>details</th>\n",
              "      <th>group</th>\n",
              "      <th>ab_test</th>\n",
              "    </tr>\n",
              "  </thead>\n",
              "  <tbody>\n",
              "    <tr>\n",
              "      <th>0</th>\n",
              "      <td>831887FE7F2D6CBA</td>\n",
              "      <td>2020-12-07 06:50:29</td>\n",
              "      <td>purchase</td>\n",
              "      <td>4.99</td>\n",
              "      <td>A</td>\n",
              "      <td>recommender_system_test</td>\n",
              "    </tr>\n",
              "    <tr>\n",
              "      <th>1</th>\n",
              "      <td>831887FE7F2D6CBA</td>\n",
              "      <td>2020-12-09 02:19:17</td>\n",
              "      <td>purchase</td>\n",
              "      <td>99.99</td>\n",
              "      <td>A</td>\n",
              "      <td>recommender_system_test</td>\n",
              "    </tr>\n",
              "    <tr>\n",
              "      <th>2</th>\n",
              "      <td>831887FE7F2D6CBA</td>\n",
              "      <td>2020-12-07 06:50:30</td>\n",
              "      <td>product_cart</td>\n",
              "      <td>0.00</td>\n",
              "      <td>A</td>\n",
              "      <td>recommender_system_test</td>\n",
              "    </tr>\n",
              "    <tr>\n",
              "      <th>3</th>\n",
              "      <td>831887FE7F2D6CBA</td>\n",
              "      <td>2020-12-08 10:52:27</td>\n",
              "      <td>product_cart</td>\n",
              "      <td>0.00</td>\n",
              "      <td>A</td>\n",
              "      <td>recommender_system_test</td>\n",
              "    </tr>\n",
              "    <tr>\n",
              "      <th>4</th>\n",
              "      <td>831887FE7F2D6CBA</td>\n",
              "      <td>2020-12-09 02:19:17</td>\n",
              "      <td>product_cart</td>\n",
              "      <td>0.00</td>\n",
              "      <td>A</td>\n",
              "      <td>recommender_system_test</td>\n",
              "    </tr>\n",
              "  </tbody>\n",
              "</table>\n",
              "</div>\n",
              "      <button class=\"colab-df-convert\" onclick=\"convertToInteractive('df-dadc8c4d-f104-4c81-88d2-49bfcfb75c25')\"\n",
              "              title=\"Convert this dataframe to an interactive table.\"\n",
              "              style=\"display:none;\">\n",
              "        \n",
              "  <svg xmlns=\"http://www.w3.org/2000/svg\" height=\"24px\"viewBox=\"0 0 24 24\"\n",
              "       width=\"24px\">\n",
              "    <path d=\"M0 0h24v24H0V0z\" fill=\"none\"/>\n",
              "    <path d=\"M18.56 5.44l.94 2.06.94-2.06 2.06-.94-2.06-.94-.94-2.06-.94 2.06-2.06.94zm-11 1L8.5 8.5l.94-2.06 2.06-.94-2.06-.94L8.5 2.5l-.94 2.06-2.06.94zm10 10l.94 2.06.94-2.06 2.06-.94-2.06-.94-.94-2.06-.94 2.06-2.06.94z\"/><path d=\"M17.41 7.96l-1.37-1.37c-.4-.4-.92-.59-1.43-.59-.52 0-1.04.2-1.43.59L10.3 9.45l-7.72 7.72c-.78.78-.78 2.05 0 2.83L4 21.41c.39.39.9.59 1.41.59.51 0 1.02-.2 1.41-.59l7.78-7.78 2.81-2.81c.8-.78.8-2.07 0-2.86zM5.41 20L4 18.59l7.72-7.72 1.47 1.35L5.41 20z\"/>\n",
              "  </svg>\n",
              "      </button>\n",
              "      \n",
              "  <style>\n",
              "    .colab-df-container {\n",
              "      display:flex;\n",
              "      flex-wrap:wrap;\n",
              "      gap: 12px;\n",
              "    }\n",
              "\n",
              "    .colab-df-convert {\n",
              "      background-color: #E8F0FE;\n",
              "      border: none;\n",
              "      border-radius: 50%;\n",
              "      cursor: pointer;\n",
              "      display: none;\n",
              "      fill: #1967D2;\n",
              "      height: 32px;\n",
              "      padding: 0 0 0 0;\n",
              "      width: 32px;\n",
              "    }\n",
              "\n",
              "    .colab-df-convert:hover {\n",
              "      background-color: #E2EBFA;\n",
              "      box-shadow: 0px 1px 2px rgba(60, 64, 67, 0.3), 0px 1px 3px 1px rgba(60, 64, 67, 0.15);\n",
              "      fill: #174EA6;\n",
              "    }\n",
              "\n",
              "    [theme=dark] .colab-df-convert {\n",
              "      background-color: #3B4455;\n",
              "      fill: #D2E3FC;\n",
              "    }\n",
              "\n",
              "    [theme=dark] .colab-df-convert:hover {\n",
              "      background-color: #434B5C;\n",
              "      box-shadow: 0px 1px 3px 1px rgba(0, 0, 0, 0.15);\n",
              "      filter: drop-shadow(0px 1px 2px rgba(0, 0, 0, 0.3));\n",
              "      fill: #FFFFFF;\n",
              "    }\n",
              "  </style>\n",
              "\n",
              "      <script>\n",
              "        const buttonEl =\n",
              "          document.querySelector('#df-dadc8c4d-f104-4c81-88d2-49bfcfb75c25 button.colab-df-convert');\n",
              "        buttonEl.style.display =\n",
              "          google.colab.kernel.accessAllowed ? 'block' : 'none';\n",
              "\n",
              "        async function convertToInteractive(key) {\n",
              "          const element = document.querySelector('#df-dadc8c4d-f104-4c81-88d2-49bfcfb75c25');\n",
              "          const dataTable =\n",
              "            await google.colab.kernel.invokeFunction('convertToInteractive',\n",
              "                                                     [key], {});\n",
              "          if (!dataTable) return;\n",
              "\n",
              "          const docLinkHtml = 'Like what you see? Visit the ' +\n",
              "            '<a target=\"_blank\" href=https://colab.research.google.com/notebooks/data_table.ipynb>data table notebook</a>'\n",
              "            + ' to learn more about interactive tables.';\n",
              "          element.innerHTML = '';\n",
              "          dataTable['output_type'] = 'display_data';\n",
              "          await google.colab.output.renderOutput(dataTable, element);\n",
              "          const docLink = document.createElement('div');\n",
              "          docLink.innerHTML = docLinkHtml;\n",
              "          element.appendChild(docLink);\n",
              "        }\n",
              "      </script>\n",
              "    </div>\n",
              "  </div>\n",
              "  "
            ]
          },
          "metadata": {}
        }
      ],
      "source": [
        "# Объеденим дествия пользователей и  пользователей попавших в тест recommender_system_test\n",
        "events_groups = final_ab_events.merge(final_ab_participants[final_ab_participants['ab_test'] == 'recommender_system_test'],\n",
        "                      how='inner',\n",
        "                      on='user_id')\n",
        "display(events_groups.head())"
      ]
    },
    {
      "cell_type": "code",
      "execution_count": 23,
      "metadata": {
        "id": "cSM_a_HIqxW4"
      },
      "outputs": [],
      "source": [
        "# Сгруппируем уникальных пользователей по событиям и подсичтаем число пользовтелей для каждого\n",
        "# Для этого напишем функцию\n",
        "def funnel_events(data, title):\n",
        "    events = (data\n",
        "                        .groupby('event_name')\n",
        "                        .agg({'user_id':'nunique'})\n",
        "                        .sort_values(by = 'user_id', ascending=False)\n",
        "                        .reset_index())\n",
        "    # Построем воронку\n",
        "    fig = go.Figure(go.Funnel(\n",
        "        y = events['event_name'],\n",
        "        x = events['user_id'],\n",
        "        textinfo = \"value+percent previous\"\n",
        "        ))\n",
        "\n",
        "    fig.update_layout(title_text=title)\n",
        "    fig.show()"
      ]
    },
    {
      "cell_type": "code",
      "execution_count": 24,
      "metadata": {
        "colab": {
          "base_uri": "https://localhost:8080/",
          "height": 542
        },
        "id": "kwuvxS9tsU13",
        "outputId": "582f51dd-67ba-4d2f-b544-c6cd11b05afb"
      },
      "outputs": [
        {
          "output_type": "display_data",
          "data": {
            "text/html": [
              "<html>\n",
              "<head><meta charset=\"utf-8\" /></head>\n",
              "<body>\n",
              "    <div>            <script src=\"https://cdnjs.cloudflare.com/ajax/libs/mathjax/2.7.5/MathJax.js?config=TeX-AMS-MML_SVG\"></script><script type=\"text/javascript\">if (window.MathJax) {MathJax.Hub.Config({SVG: {font: \"STIX-Web\"}});}</script>                <script type=\"text/javascript\">window.PlotlyConfig = {MathJaxConfig: 'local'};</script>\n",
              "        <script src=\"https://cdn.plot.ly/plotly-2.8.3.min.js\"></script>                <div id=\"d6214e92-8a28-42fb-8f71-33a9038cb4b2\" class=\"plotly-graph-div\" style=\"height:525px; width:100%;\"></div>            <script type=\"text/javascript\">                                    window.PLOTLYENV=window.PLOTLYENV || {};                                    if (document.getElementById(\"d6214e92-8a28-42fb-8f71-33a9038cb4b2\")) {                    Plotly.newPlot(                        \"d6214e92-8a28-42fb-8f71-33a9038cb4b2\",                        [{\"textinfo\":\"value+percent previous\",\"x\":[58697,38929,19569,19284],\"y\":[\"login\",\"product_page\",\"purchase\",\"product_cart\"],\"type\":\"funnel\"}],                        {\"template\":{\"data\":{\"bar\":[{\"error_x\":{\"color\":\"#2a3f5f\"},\"error_y\":{\"color\":\"#2a3f5f\"},\"marker\":{\"line\":{\"color\":\"#E5ECF6\",\"width\":0.5},\"pattern\":{\"fillmode\":\"overlay\",\"size\":10,\"solidity\":0.2}},\"type\":\"bar\"}],\"barpolar\":[{\"marker\":{\"line\":{\"color\":\"#E5ECF6\",\"width\":0.5},\"pattern\":{\"fillmode\":\"overlay\",\"size\":10,\"solidity\":0.2}},\"type\":\"barpolar\"}],\"carpet\":[{\"aaxis\":{\"endlinecolor\":\"#2a3f5f\",\"gridcolor\":\"white\",\"linecolor\":\"white\",\"minorgridcolor\":\"white\",\"startlinecolor\":\"#2a3f5f\"},\"baxis\":{\"endlinecolor\":\"#2a3f5f\",\"gridcolor\":\"white\",\"linecolor\":\"white\",\"minorgridcolor\":\"white\",\"startlinecolor\":\"#2a3f5f\"},\"type\":\"carpet\"}],\"choropleth\":[{\"colorbar\":{\"outlinewidth\":0,\"ticks\":\"\"},\"type\":\"choropleth\"}],\"contour\":[{\"colorbar\":{\"outlinewidth\":0,\"ticks\":\"\"},\"colorscale\":[[0.0,\"#0d0887\"],[0.1111111111111111,\"#46039f\"],[0.2222222222222222,\"#7201a8\"],[0.3333333333333333,\"#9c179e\"],[0.4444444444444444,\"#bd3786\"],[0.5555555555555556,\"#d8576b\"],[0.6666666666666666,\"#ed7953\"],[0.7777777777777778,\"#fb9f3a\"],[0.8888888888888888,\"#fdca26\"],[1.0,\"#f0f921\"]],\"type\":\"contour\"}],\"contourcarpet\":[{\"colorbar\":{\"outlinewidth\":0,\"ticks\":\"\"},\"type\":\"contourcarpet\"}],\"heatmap\":[{\"colorbar\":{\"outlinewidth\":0,\"ticks\":\"\"},\"colorscale\":[[0.0,\"#0d0887\"],[0.1111111111111111,\"#46039f\"],[0.2222222222222222,\"#7201a8\"],[0.3333333333333333,\"#9c179e\"],[0.4444444444444444,\"#bd3786\"],[0.5555555555555556,\"#d8576b\"],[0.6666666666666666,\"#ed7953\"],[0.7777777777777778,\"#fb9f3a\"],[0.8888888888888888,\"#fdca26\"],[1.0,\"#f0f921\"]],\"type\":\"heatmap\"}],\"heatmapgl\":[{\"colorbar\":{\"outlinewidth\":0,\"ticks\":\"\"},\"colorscale\":[[0.0,\"#0d0887\"],[0.1111111111111111,\"#46039f\"],[0.2222222222222222,\"#7201a8\"],[0.3333333333333333,\"#9c179e\"],[0.4444444444444444,\"#bd3786\"],[0.5555555555555556,\"#d8576b\"],[0.6666666666666666,\"#ed7953\"],[0.7777777777777778,\"#fb9f3a\"],[0.8888888888888888,\"#fdca26\"],[1.0,\"#f0f921\"]],\"type\":\"heatmapgl\"}],\"histogram\":[{\"marker\":{\"pattern\":{\"fillmode\":\"overlay\",\"size\":10,\"solidity\":0.2}},\"type\":\"histogram\"}],\"histogram2d\":[{\"colorbar\":{\"outlinewidth\":0,\"ticks\":\"\"},\"colorscale\":[[0.0,\"#0d0887\"],[0.1111111111111111,\"#46039f\"],[0.2222222222222222,\"#7201a8\"],[0.3333333333333333,\"#9c179e\"],[0.4444444444444444,\"#bd3786\"],[0.5555555555555556,\"#d8576b\"],[0.6666666666666666,\"#ed7953\"],[0.7777777777777778,\"#fb9f3a\"],[0.8888888888888888,\"#fdca26\"],[1.0,\"#f0f921\"]],\"type\":\"histogram2d\"}],\"histogram2dcontour\":[{\"colorbar\":{\"outlinewidth\":0,\"ticks\":\"\"},\"colorscale\":[[0.0,\"#0d0887\"],[0.1111111111111111,\"#46039f\"],[0.2222222222222222,\"#7201a8\"],[0.3333333333333333,\"#9c179e\"],[0.4444444444444444,\"#bd3786\"],[0.5555555555555556,\"#d8576b\"],[0.6666666666666666,\"#ed7953\"],[0.7777777777777778,\"#fb9f3a\"],[0.8888888888888888,\"#fdca26\"],[1.0,\"#f0f921\"]],\"type\":\"histogram2dcontour\"}],\"mesh3d\":[{\"colorbar\":{\"outlinewidth\":0,\"ticks\":\"\"},\"type\":\"mesh3d\"}],\"parcoords\":[{\"line\":{\"colorbar\":{\"outlinewidth\":0,\"ticks\":\"\"}},\"type\":\"parcoords\"}],\"pie\":[{\"automargin\":true,\"type\":\"pie\"}],\"scatter\":[{\"marker\":{\"colorbar\":{\"outlinewidth\":0,\"ticks\":\"\"}},\"type\":\"scatter\"}],\"scatter3d\":[{\"line\":{\"colorbar\":{\"outlinewidth\":0,\"ticks\":\"\"}},\"marker\":{\"colorbar\":{\"outlinewidth\":0,\"ticks\":\"\"}},\"type\":\"scatter3d\"}],\"scattercarpet\":[{\"marker\":{\"colorbar\":{\"outlinewidth\":0,\"ticks\":\"\"}},\"type\":\"scattercarpet\"}],\"scattergeo\":[{\"marker\":{\"colorbar\":{\"outlinewidth\":0,\"ticks\":\"\"}},\"type\":\"scattergeo\"}],\"scattergl\":[{\"marker\":{\"colorbar\":{\"outlinewidth\":0,\"ticks\":\"\"}},\"type\":\"scattergl\"}],\"scattermapbox\":[{\"marker\":{\"colorbar\":{\"outlinewidth\":0,\"ticks\":\"\"}},\"type\":\"scattermapbox\"}],\"scatterpolar\":[{\"marker\":{\"colorbar\":{\"outlinewidth\":0,\"ticks\":\"\"}},\"type\":\"scatterpolar\"}],\"scatterpolargl\":[{\"marker\":{\"colorbar\":{\"outlinewidth\":0,\"ticks\":\"\"}},\"type\":\"scatterpolargl\"}],\"scatterternary\":[{\"marker\":{\"colorbar\":{\"outlinewidth\":0,\"ticks\":\"\"}},\"type\":\"scatterternary\"}],\"surface\":[{\"colorbar\":{\"outlinewidth\":0,\"ticks\":\"\"},\"colorscale\":[[0.0,\"#0d0887\"],[0.1111111111111111,\"#46039f\"],[0.2222222222222222,\"#7201a8\"],[0.3333333333333333,\"#9c179e\"],[0.4444444444444444,\"#bd3786\"],[0.5555555555555556,\"#d8576b\"],[0.6666666666666666,\"#ed7953\"],[0.7777777777777778,\"#fb9f3a\"],[0.8888888888888888,\"#fdca26\"],[1.0,\"#f0f921\"]],\"type\":\"surface\"}],\"table\":[{\"cells\":{\"fill\":{\"color\":\"#EBF0F8\"},\"line\":{\"color\":\"white\"}},\"header\":{\"fill\":{\"color\":\"#C8D4E3\"},\"line\":{\"color\":\"white\"}},\"type\":\"table\"}]},\"layout\":{\"annotationdefaults\":{\"arrowcolor\":\"#2a3f5f\",\"arrowhead\":0,\"arrowwidth\":1},\"autotypenumbers\":\"strict\",\"coloraxis\":{\"colorbar\":{\"outlinewidth\":0,\"ticks\":\"\"}},\"colorscale\":{\"diverging\":[[0,\"#8e0152\"],[0.1,\"#c51b7d\"],[0.2,\"#de77ae\"],[0.3,\"#f1b6da\"],[0.4,\"#fde0ef\"],[0.5,\"#f7f7f7\"],[0.6,\"#e6f5d0\"],[0.7,\"#b8e186\"],[0.8,\"#7fbc41\"],[0.9,\"#4d9221\"],[1,\"#276419\"]],\"sequential\":[[0.0,\"#0d0887\"],[0.1111111111111111,\"#46039f\"],[0.2222222222222222,\"#7201a8\"],[0.3333333333333333,\"#9c179e\"],[0.4444444444444444,\"#bd3786\"],[0.5555555555555556,\"#d8576b\"],[0.6666666666666666,\"#ed7953\"],[0.7777777777777778,\"#fb9f3a\"],[0.8888888888888888,\"#fdca26\"],[1.0,\"#f0f921\"]],\"sequentialminus\":[[0.0,\"#0d0887\"],[0.1111111111111111,\"#46039f\"],[0.2222222222222222,\"#7201a8\"],[0.3333333333333333,\"#9c179e\"],[0.4444444444444444,\"#bd3786\"],[0.5555555555555556,\"#d8576b\"],[0.6666666666666666,\"#ed7953\"],[0.7777777777777778,\"#fb9f3a\"],[0.8888888888888888,\"#fdca26\"],[1.0,\"#f0f921\"]]},\"colorway\":[\"#636efa\",\"#EF553B\",\"#00cc96\",\"#ab63fa\",\"#FFA15A\",\"#19d3f3\",\"#FF6692\",\"#B6E880\",\"#FF97FF\",\"#FECB52\"],\"font\":{\"color\":\"#2a3f5f\"},\"geo\":{\"bgcolor\":\"white\",\"lakecolor\":\"white\",\"landcolor\":\"#E5ECF6\",\"showlakes\":true,\"showland\":true,\"subunitcolor\":\"white\"},\"hoverlabel\":{\"align\":\"left\"},\"hovermode\":\"closest\",\"mapbox\":{\"style\":\"light\"},\"paper_bgcolor\":\"white\",\"plot_bgcolor\":\"#E5ECF6\",\"polar\":{\"angularaxis\":{\"gridcolor\":\"white\",\"linecolor\":\"white\",\"ticks\":\"\"},\"bgcolor\":\"#E5ECF6\",\"radialaxis\":{\"gridcolor\":\"white\",\"linecolor\":\"white\",\"ticks\":\"\"}},\"scene\":{\"xaxis\":{\"backgroundcolor\":\"#E5ECF6\",\"gridcolor\":\"white\",\"gridwidth\":2,\"linecolor\":\"white\",\"showbackground\":true,\"ticks\":\"\",\"zerolinecolor\":\"white\"},\"yaxis\":{\"backgroundcolor\":\"#E5ECF6\",\"gridcolor\":\"white\",\"gridwidth\":2,\"linecolor\":\"white\",\"showbackground\":true,\"ticks\":\"\",\"zerolinecolor\":\"white\"},\"zaxis\":{\"backgroundcolor\":\"#E5ECF6\",\"gridcolor\":\"white\",\"gridwidth\":2,\"linecolor\":\"white\",\"showbackground\":true,\"ticks\":\"\",\"zerolinecolor\":\"white\"}},\"shapedefaults\":{\"line\":{\"color\":\"#2a3f5f\"}},\"ternary\":{\"aaxis\":{\"gridcolor\":\"white\",\"linecolor\":\"white\",\"ticks\":\"\"},\"baxis\":{\"gridcolor\":\"white\",\"linecolor\":\"white\",\"ticks\":\"\"},\"bgcolor\":\"#E5ECF6\",\"caxis\":{\"gridcolor\":\"white\",\"linecolor\":\"white\",\"ticks\":\"\"}},\"title\":{\"x\":0.05},\"xaxis\":{\"automargin\":true,\"gridcolor\":\"white\",\"linecolor\":\"white\",\"ticks\":\"\",\"title\":{\"standoff\":15},\"zerolinecolor\":\"white\",\"zerolinewidth\":2},\"yaxis\":{\"automargin\":true,\"gridcolor\":\"white\",\"linecolor\":\"white\",\"ticks\":\"\",\"title\":{\"standoff\":15},\"zerolinecolor\":\"white\",\"zerolinewidth\":2}}},\"title\":{\"text\":\"\\u041a\\u043e\\u043d\\u0432\\u0435\\u0440\\u0441\\u0438\\u044f \\u043f\\u043e\\u043b\\u044c\\u0437\\u043e\\u0432\\u0430\\u0442\\u0435\\u043b\\u0435\\u0439\"}},                        {\"responsive\": true}                    ).then(function(){\n",
              "                            \n",
              "var gd = document.getElementById('d6214e92-8a28-42fb-8f71-33a9038cb4b2');\n",
              "var x = new MutationObserver(function (mutations, observer) {{\n",
              "        var display = window.getComputedStyle(gd).display;\n",
              "        if (!display || display === 'none') {{\n",
              "            console.log([gd, 'removed!']);\n",
              "            Plotly.purge(gd);\n",
              "            observer.disconnect();\n",
              "        }}\n",
              "}});\n",
              "\n",
              "// Listen for the removal of the full notebook cells\n",
              "var notebookContainer = gd.closest('#notebook-container');\n",
              "if (notebookContainer) {{\n",
              "    x.observe(notebookContainer, {childList: true});\n",
              "}}\n",
              "\n",
              "// Listen for the clearing of the current output cell\n",
              "var outputEl = gd.closest('.output');\n",
              "if (outputEl) {{\n",
              "    x.observe(outputEl, {childList: true});\n",
              "}}\n",
              "\n",
              "                        })                };                            </script>        </div>\n",
              "</body>\n",
              "</html>"
            ]
          },
          "metadata": {}
        }
      ],
      "source": [
        "funnel_events(final_ab_events, 'Конверсия пользователей')"
      ]
    },
    {
      "cell_type": "code",
      "execution_count": 25,
      "metadata": {
        "colab": {
          "base_uri": "https://localhost:8080/",
          "height": 542
        },
        "id": "TPVApHgisoWX",
        "outputId": "68a1927d-fdb9-4283-a2c9-f53022a1ecb6"
      },
      "outputs": [
        {
          "output_type": "display_data",
          "data": {
            "text/html": [
              "<html>\n",
              "<head><meta charset=\"utf-8\" /></head>\n",
              "<body>\n",
              "    <div>            <script src=\"https://cdnjs.cloudflare.com/ajax/libs/mathjax/2.7.5/MathJax.js?config=TeX-AMS-MML_SVG\"></script><script type=\"text/javascript\">if (window.MathJax) {MathJax.Hub.Config({SVG: {font: \"STIX-Web\"}});}</script>                <script type=\"text/javascript\">window.PlotlyConfig = {MathJaxConfig: 'local'};</script>\n",
              "        <script src=\"https://cdn.plot.ly/plotly-2.8.3.min.js\"></script>                <div id=\"6d9aaa3f-0375-4707-9914-ce5cf307513c\" class=\"plotly-graph-div\" style=\"height:525px; width:100%;\"></div>            <script type=\"text/javascript\">                                    window.PLOTLYENV=window.PLOTLYENV || {};                                    if (document.getElementById(\"6d9aaa3f-0375-4707-9914-ce5cf307513c\")) {                    Plotly.newPlot(                        \"6d9aaa3f-0375-4707-9914-ce5cf307513c\",                        [{\"textinfo\":\"value+percent previous\",\"x\":[2747,1780,872,824],\"y\":[\"login\",\"product_page\",\"purchase\",\"product_cart\"],\"type\":\"funnel\"}],                        {\"template\":{\"data\":{\"bar\":[{\"error_x\":{\"color\":\"#2a3f5f\"},\"error_y\":{\"color\":\"#2a3f5f\"},\"marker\":{\"line\":{\"color\":\"#E5ECF6\",\"width\":0.5},\"pattern\":{\"fillmode\":\"overlay\",\"size\":10,\"solidity\":0.2}},\"type\":\"bar\"}],\"barpolar\":[{\"marker\":{\"line\":{\"color\":\"#E5ECF6\",\"width\":0.5},\"pattern\":{\"fillmode\":\"overlay\",\"size\":10,\"solidity\":0.2}},\"type\":\"barpolar\"}],\"carpet\":[{\"aaxis\":{\"endlinecolor\":\"#2a3f5f\",\"gridcolor\":\"white\",\"linecolor\":\"white\",\"minorgridcolor\":\"white\",\"startlinecolor\":\"#2a3f5f\"},\"baxis\":{\"endlinecolor\":\"#2a3f5f\",\"gridcolor\":\"white\",\"linecolor\":\"white\",\"minorgridcolor\":\"white\",\"startlinecolor\":\"#2a3f5f\"},\"type\":\"carpet\"}],\"choropleth\":[{\"colorbar\":{\"outlinewidth\":0,\"ticks\":\"\"},\"type\":\"choropleth\"}],\"contour\":[{\"colorbar\":{\"outlinewidth\":0,\"ticks\":\"\"},\"colorscale\":[[0.0,\"#0d0887\"],[0.1111111111111111,\"#46039f\"],[0.2222222222222222,\"#7201a8\"],[0.3333333333333333,\"#9c179e\"],[0.4444444444444444,\"#bd3786\"],[0.5555555555555556,\"#d8576b\"],[0.6666666666666666,\"#ed7953\"],[0.7777777777777778,\"#fb9f3a\"],[0.8888888888888888,\"#fdca26\"],[1.0,\"#f0f921\"]],\"type\":\"contour\"}],\"contourcarpet\":[{\"colorbar\":{\"outlinewidth\":0,\"ticks\":\"\"},\"type\":\"contourcarpet\"}],\"heatmap\":[{\"colorbar\":{\"outlinewidth\":0,\"ticks\":\"\"},\"colorscale\":[[0.0,\"#0d0887\"],[0.1111111111111111,\"#46039f\"],[0.2222222222222222,\"#7201a8\"],[0.3333333333333333,\"#9c179e\"],[0.4444444444444444,\"#bd3786\"],[0.5555555555555556,\"#d8576b\"],[0.6666666666666666,\"#ed7953\"],[0.7777777777777778,\"#fb9f3a\"],[0.8888888888888888,\"#fdca26\"],[1.0,\"#f0f921\"]],\"type\":\"heatmap\"}],\"heatmapgl\":[{\"colorbar\":{\"outlinewidth\":0,\"ticks\":\"\"},\"colorscale\":[[0.0,\"#0d0887\"],[0.1111111111111111,\"#46039f\"],[0.2222222222222222,\"#7201a8\"],[0.3333333333333333,\"#9c179e\"],[0.4444444444444444,\"#bd3786\"],[0.5555555555555556,\"#d8576b\"],[0.6666666666666666,\"#ed7953\"],[0.7777777777777778,\"#fb9f3a\"],[0.8888888888888888,\"#fdca26\"],[1.0,\"#f0f921\"]],\"type\":\"heatmapgl\"}],\"histogram\":[{\"marker\":{\"pattern\":{\"fillmode\":\"overlay\",\"size\":10,\"solidity\":0.2}},\"type\":\"histogram\"}],\"histogram2d\":[{\"colorbar\":{\"outlinewidth\":0,\"ticks\":\"\"},\"colorscale\":[[0.0,\"#0d0887\"],[0.1111111111111111,\"#46039f\"],[0.2222222222222222,\"#7201a8\"],[0.3333333333333333,\"#9c179e\"],[0.4444444444444444,\"#bd3786\"],[0.5555555555555556,\"#d8576b\"],[0.6666666666666666,\"#ed7953\"],[0.7777777777777778,\"#fb9f3a\"],[0.8888888888888888,\"#fdca26\"],[1.0,\"#f0f921\"]],\"type\":\"histogram2d\"}],\"histogram2dcontour\":[{\"colorbar\":{\"outlinewidth\":0,\"ticks\":\"\"},\"colorscale\":[[0.0,\"#0d0887\"],[0.1111111111111111,\"#46039f\"],[0.2222222222222222,\"#7201a8\"],[0.3333333333333333,\"#9c179e\"],[0.4444444444444444,\"#bd3786\"],[0.5555555555555556,\"#d8576b\"],[0.6666666666666666,\"#ed7953\"],[0.7777777777777778,\"#fb9f3a\"],[0.8888888888888888,\"#fdca26\"],[1.0,\"#f0f921\"]],\"type\":\"histogram2dcontour\"}],\"mesh3d\":[{\"colorbar\":{\"outlinewidth\":0,\"ticks\":\"\"},\"type\":\"mesh3d\"}],\"parcoords\":[{\"line\":{\"colorbar\":{\"outlinewidth\":0,\"ticks\":\"\"}},\"type\":\"parcoords\"}],\"pie\":[{\"automargin\":true,\"type\":\"pie\"}],\"scatter\":[{\"marker\":{\"colorbar\":{\"outlinewidth\":0,\"ticks\":\"\"}},\"type\":\"scatter\"}],\"scatter3d\":[{\"line\":{\"colorbar\":{\"outlinewidth\":0,\"ticks\":\"\"}},\"marker\":{\"colorbar\":{\"outlinewidth\":0,\"ticks\":\"\"}},\"type\":\"scatter3d\"}],\"scattercarpet\":[{\"marker\":{\"colorbar\":{\"outlinewidth\":0,\"ticks\":\"\"}},\"type\":\"scattercarpet\"}],\"scattergeo\":[{\"marker\":{\"colorbar\":{\"outlinewidth\":0,\"ticks\":\"\"}},\"type\":\"scattergeo\"}],\"scattergl\":[{\"marker\":{\"colorbar\":{\"outlinewidth\":0,\"ticks\":\"\"}},\"type\":\"scattergl\"}],\"scattermapbox\":[{\"marker\":{\"colorbar\":{\"outlinewidth\":0,\"ticks\":\"\"}},\"type\":\"scattermapbox\"}],\"scatterpolar\":[{\"marker\":{\"colorbar\":{\"outlinewidth\":0,\"ticks\":\"\"}},\"type\":\"scatterpolar\"}],\"scatterpolargl\":[{\"marker\":{\"colorbar\":{\"outlinewidth\":0,\"ticks\":\"\"}},\"type\":\"scatterpolargl\"}],\"scatterternary\":[{\"marker\":{\"colorbar\":{\"outlinewidth\":0,\"ticks\":\"\"}},\"type\":\"scatterternary\"}],\"surface\":[{\"colorbar\":{\"outlinewidth\":0,\"ticks\":\"\"},\"colorscale\":[[0.0,\"#0d0887\"],[0.1111111111111111,\"#46039f\"],[0.2222222222222222,\"#7201a8\"],[0.3333333333333333,\"#9c179e\"],[0.4444444444444444,\"#bd3786\"],[0.5555555555555556,\"#d8576b\"],[0.6666666666666666,\"#ed7953\"],[0.7777777777777778,\"#fb9f3a\"],[0.8888888888888888,\"#fdca26\"],[1.0,\"#f0f921\"]],\"type\":\"surface\"}],\"table\":[{\"cells\":{\"fill\":{\"color\":\"#EBF0F8\"},\"line\":{\"color\":\"white\"}},\"header\":{\"fill\":{\"color\":\"#C8D4E3\"},\"line\":{\"color\":\"white\"}},\"type\":\"table\"}]},\"layout\":{\"annotationdefaults\":{\"arrowcolor\":\"#2a3f5f\",\"arrowhead\":0,\"arrowwidth\":1},\"autotypenumbers\":\"strict\",\"coloraxis\":{\"colorbar\":{\"outlinewidth\":0,\"ticks\":\"\"}},\"colorscale\":{\"diverging\":[[0,\"#8e0152\"],[0.1,\"#c51b7d\"],[0.2,\"#de77ae\"],[0.3,\"#f1b6da\"],[0.4,\"#fde0ef\"],[0.5,\"#f7f7f7\"],[0.6,\"#e6f5d0\"],[0.7,\"#b8e186\"],[0.8,\"#7fbc41\"],[0.9,\"#4d9221\"],[1,\"#276419\"]],\"sequential\":[[0.0,\"#0d0887\"],[0.1111111111111111,\"#46039f\"],[0.2222222222222222,\"#7201a8\"],[0.3333333333333333,\"#9c179e\"],[0.4444444444444444,\"#bd3786\"],[0.5555555555555556,\"#d8576b\"],[0.6666666666666666,\"#ed7953\"],[0.7777777777777778,\"#fb9f3a\"],[0.8888888888888888,\"#fdca26\"],[1.0,\"#f0f921\"]],\"sequentialminus\":[[0.0,\"#0d0887\"],[0.1111111111111111,\"#46039f\"],[0.2222222222222222,\"#7201a8\"],[0.3333333333333333,\"#9c179e\"],[0.4444444444444444,\"#bd3786\"],[0.5555555555555556,\"#d8576b\"],[0.6666666666666666,\"#ed7953\"],[0.7777777777777778,\"#fb9f3a\"],[0.8888888888888888,\"#fdca26\"],[1.0,\"#f0f921\"]]},\"colorway\":[\"#636efa\",\"#EF553B\",\"#00cc96\",\"#ab63fa\",\"#FFA15A\",\"#19d3f3\",\"#FF6692\",\"#B6E880\",\"#FF97FF\",\"#FECB52\"],\"font\":{\"color\":\"#2a3f5f\"},\"geo\":{\"bgcolor\":\"white\",\"lakecolor\":\"white\",\"landcolor\":\"#E5ECF6\",\"showlakes\":true,\"showland\":true,\"subunitcolor\":\"white\"},\"hoverlabel\":{\"align\":\"left\"},\"hovermode\":\"closest\",\"mapbox\":{\"style\":\"light\"},\"paper_bgcolor\":\"white\",\"plot_bgcolor\":\"#E5ECF6\",\"polar\":{\"angularaxis\":{\"gridcolor\":\"white\",\"linecolor\":\"white\",\"ticks\":\"\"},\"bgcolor\":\"#E5ECF6\",\"radialaxis\":{\"gridcolor\":\"white\",\"linecolor\":\"white\",\"ticks\":\"\"}},\"scene\":{\"xaxis\":{\"backgroundcolor\":\"#E5ECF6\",\"gridcolor\":\"white\",\"gridwidth\":2,\"linecolor\":\"white\",\"showbackground\":true,\"ticks\":\"\",\"zerolinecolor\":\"white\"},\"yaxis\":{\"backgroundcolor\":\"#E5ECF6\",\"gridcolor\":\"white\",\"gridwidth\":2,\"linecolor\":\"white\",\"showbackground\":true,\"ticks\":\"\",\"zerolinecolor\":\"white\"},\"zaxis\":{\"backgroundcolor\":\"#E5ECF6\",\"gridcolor\":\"white\",\"gridwidth\":2,\"linecolor\":\"white\",\"showbackground\":true,\"ticks\":\"\",\"zerolinecolor\":\"white\"}},\"shapedefaults\":{\"line\":{\"color\":\"#2a3f5f\"}},\"ternary\":{\"aaxis\":{\"gridcolor\":\"white\",\"linecolor\":\"white\",\"ticks\":\"\"},\"baxis\":{\"gridcolor\":\"white\",\"linecolor\":\"white\",\"ticks\":\"\"},\"bgcolor\":\"#E5ECF6\",\"caxis\":{\"gridcolor\":\"white\",\"linecolor\":\"white\",\"ticks\":\"\"}},\"title\":{\"x\":0.05},\"xaxis\":{\"automargin\":true,\"gridcolor\":\"white\",\"linecolor\":\"white\",\"ticks\":\"\",\"title\":{\"standoff\":15},\"zerolinecolor\":\"white\",\"zerolinewidth\":2},\"yaxis\":{\"automargin\":true,\"gridcolor\":\"white\",\"linecolor\":\"white\",\"ticks\":\"\",\"title\":{\"standoff\":15},\"zerolinecolor\":\"white\",\"zerolinewidth\":2}}},\"title\":{\"text\":\"\\u041a\\u043e\\u043d\\u0432\\u0435\\u0440\\u0441\\u0438\\u044f \\u043f\\u043e\\u043b\\u044c\\u0437\\u043e\\u0432\\u0430\\u0442\\u0435\\u043b\\u0435\\u0439 \\u0432 \\u0433\\u0440\\u0443\\u043f\\u043f\\u0435 A\"}},                        {\"responsive\": true}                    ).then(function(){\n",
              "                            \n",
              "var gd = document.getElementById('6d9aaa3f-0375-4707-9914-ce5cf307513c');\n",
              "var x = new MutationObserver(function (mutations, observer) {{\n",
              "        var display = window.getComputedStyle(gd).display;\n",
              "        if (!display || display === 'none') {{\n",
              "            console.log([gd, 'removed!']);\n",
              "            Plotly.purge(gd);\n",
              "            observer.disconnect();\n",
              "        }}\n",
              "}});\n",
              "\n",
              "// Listen for the removal of the full notebook cells\n",
              "var notebookContainer = gd.closest('#notebook-container');\n",
              "if (notebookContainer) {{\n",
              "    x.observe(notebookContainer, {childList: true});\n",
              "}}\n",
              "\n",
              "// Listen for the clearing of the current output cell\n",
              "var outputEl = gd.closest('.output');\n",
              "if (outputEl) {{\n",
              "    x.observe(outputEl, {childList: true});\n",
              "}}\n",
              "\n",
              "                        })                };                            </script>        </div>\n",
              "</body>\n",
              "</html>"
            ]
          },
          "metadata": {}
        }
      ],
      "source": [
        "funnel_events(events_groups[events_groups['group'] == 'A'], 'Конверсия пользователей в группе A')"
      ]
    },
    {
      "cell_type": "code",
      "execution_count": 26,
      "metadata": {
        "colab": {
          "base_uri": "https://localhost:8080/",
          "height": 542
        },
        "id": "ZmsLLGM1tJB_",
        "outputId": "ae563f77-493a-4dae-e339-8da43adfd42d"
      },
      "outputs": [
        {
          "output_type": "display_data",
          "data": {
            "text/html": [
              "<html>\n",
              "<head><meta charset=\"utf-8\" /></head>\n",
              "<body>\n",
              "    <div>            <script src=\"https://cdnjs.cloudflare.com/ajax/libs/mathjax/2.7.5/MathJax.js?config=TeX-AMS-MML_SVG\"></script><script type=\"text/javascript\">if (window.MathJax) {MathJax.Hub.Config({SVG: {font: \"STIX-Web\"}});}</script>                <script type=\"text/javascript\">window.PlotlyConfig = {MathJaxConfig: 'local'};</script>\n",
              "        <script src=\"https://cdn.plot.ly/plotly-2.8.3.min.js\"></script>                <div id=\"b768a3c6-a339-4e6b-9034-ae7cd314edd3\" class=\"plotly-graph-div\" style=\"height:525px; width:100%;\"></div>            <script type=\"text/javascript\">                                    window.PLOTLYENV=window.PLOTLYENV || {};                                    if (document.getElementById(\"b768a3c6-a339-4e6b-9034-ae7cd314edd3\")) {                    Plotly.newPlot(                        \"b768a3c6-a339-4e6b-9034-ae7cd314edd3\",                        [{\"textinfo\":\"value+percent previous\",\"x\":[928,523,256,255],\"y\":[\"login\",\"product_page\",\"purchase\",\"product_cart\"],\"type\":\"funnel\"}],                        {\"template\":{\"data\":{\"bar\":[{\"error_x\":{\"color\":\"#2a3f5f\"},\"error_y\":{\"color\":\"#2a3f5f\"},\"marker\":{\"line\":{\"color\":\"#E5ECF6\",\"width\":0.5},\"pattern\":{\"fillmode\":\"overlay\",\"size\":10,\"solidity\":0.2}},\"type\":\"bar\"}],\"barpolar\":[{\"marker\":{\"line\":{\"color\":\"#E5ECF6\",\"width\":0.5},\"pattern\":{\"fillmode\":\"overlay\",\"size\":10,\"solidity\":0.2}},\"type\":\"barpolar\"}],\"carpet\":[{\"aaxis\":{\"endlinecolor\":\"#2a3f5f\",\"gridcolor\":\"white\",\"linecolor\":\"white\",\"minorgridcolor\":\"white\",\"startlinecolor\":\"#2a3f5f\"},\"baxis\":{\"endlinecolor\":\"#2a3f5f\",\"gridcolor\":\"white\",\"linecolor\":\"white\",\"minorgridcolor\":\"white\",\"startlinecolor\":\"#2a3f5f\"},\"type\":\"carpet\"}],\"choropleth\":[{\"colorbar\":{\"outlinewidth\":0,\"ticks\":\"\"},\"type\":\"choropleth\"}],\"contour\":[{\"colorbar\":{\"outlinewidth\":0,\"ticks\":\"\"},\"colorscale\":[[0.0,\"#0d0887\"],[0.1111111111111111,\"#46039f\"],[0.2222222222222222,\"#7201a8\"],[0.3333333333333333,\"#9c179e\"],[0.4444444444444444,\"#bd3786\"],[0.5555555555555556,\"#d8576b\"],[0.6666666666666666,\"#ed7953\"],[0.7777777777777778,\"#fb9f3a\"],[0.8888888888888888,\"#fdca26\"],[1.0,\"#f0f921\"]],\"type\":\"contour\"}],\"contourcarpet\":[{\"colorbar\":{\"outlinewidth\":0,\"ticks\":\"\"},\"type\":\"contourcarpet\"}],\"heatmap\":[{\"colorbar\":{\"outlinewidth\":0,\"ticks\":\"\"},\"colorscale\":[[0.0,\"#0d0887\"],[0.1111111111111111,\"#46039f\"],[0.2222222222222222,\"#7201a8\"],[0.3333333333333333,\"#9c179e\"],[0.4444444444444444,\"#bd3786\"],[0.5555555555555556,\"#d8576b\"],[0.6666666666666666,\"#ed7953\"],[0.7777777777777778,\"#fb9f3a\"],[0.8888888888888888,\"#fdca26\"],[1.0,\"#f0f921\"]],\"type\":\"heatmap\"}],\"heatmapgl\":[{\"colorbar\":{\"outlinewidth\":0,\"ticks\":\"\"},\"colorscale\":[[0.0,\"#0d0887\"],[0.1111111111111111,\"#46039f\"],[0.2222222222222222,\"#7201a8\"],[0.3333333333333333,\"#9c179e\"],[0.4444444444444444,\"#bd3786\"],[0.5555555555555556,\"#d8576b\"],[0.6666666666666666,\"#ed7953\"],[0.7777777777777778,\"#fb9f3a\"],[0.8888888888888888,\"#fdca26\"],[1.0,\"#f0f921\"]],\"type\":\"heatmapgl\"}],\"histogram\":[{\"marker\":{\"pattern\":{\"fillmode\":\"overlay\",\"size\":10,\"solidity\":0.2}},\"type\":\"histogram\"}],\"histogram2d\":[{\"colorbar\":{\"outlinewidth\":0,\"ticks\":\"\"},\"colorscale\":[[0.0,\"#0d0887\"],[0.1111111111111111,\"#46039f\"],[0.2222222222222222,\"#7201a8\"],[0.3333333333333333,\"#9c179e\"],[0.4444444444444444,\"#bd3786\"],[0.5555555555555556,\"#d8576b\"],[0.6666666666666666,\"#ed7953\"],[0.7777777777777778,\"#fb9f3a\"],[0.8888888888888888,\"#fdca26\"],[1.0,\"#f0f921\"]],\"type\":\"histogram2d\"}],\"histogram2dcontour\":[{\"colorbar\":{\"outlinewidth\":0,\"ticks\":\"\"},\"colorscale\":[[0.0,\"#0d0887\"],[0.1111111111111111,\"#46039f\"],[0.2222222222222222,\"#7201a8\"],[0.3333333333333333,\"#9c179e\"],[0.4444444444444444,\"#bd3786\"],[0.5555555555555556,\"#d8576b\"],[0.6666666666666666,\"#ed7953\"],[0.7777777777777778,\"#fb9f3a\"],[0.8888888888888888,\"#fdca26\"],[1.0,\"#f0f921\"]],\"type\":\"histogram2dcontour\"}],\"mesh3d\":[{\"colorbar\":{\"outlinewidth\":0,\"ticks\":\"\"},\"type\":\"mesh3d\"}],\"parcoords\":[{\"line\":{\"colorbar\":{\"outlinewidth\":0,\"ticks\":\"\"}},\"type\":\"parcoords\"}],\"pie\":[{\"automargin\":true,\"type\":\"pie\"}],\"scatter\":[{\"marker\":{\"colorbar\":{\"outlinewidth\":0,\"ticks\":\"\"}},\"type\":\"scatter\"}],\"scatter3d\":[{\"line\":{\"colorbar\":{\"outlinewidth\":0,\"ticks\":\"\"}},\"marker\":{\"colorbar\":{\"outlinewidth\":0,\"ticks\":\"\"}},\"type\":\"scatter3d\"}],\"scattercarpet\":[{\"marker\":{\"colorbar\":{\"outlinewidth\":0,\"ticks\":\"\"}},\"type\":\"scattercarpet\"}],\"scattergeo\":[{\"marker\":{\"colorbar\":{\"outlinewidth\":0,\"ticks\":\"\"}},\"type\":\"scattergeo\"}],\"scattergl\":[{\"marker\":{\"colorbar\":{\"outlinewidth\":0,\"ticks\":\"\"}},\"type\":\"scattergl\"}],\"scattermapbox\":[{\"marker\":{\"colorbar\":{\"outlinewidth\":0,\"ticks\":\"\"}},\"type\":\"scattermapbox\"}],\"scatterpolar\":[{\"marker\":{\"colorbar\":{\"outlinewidth\":0,\"ticks\":\"\"}},\"type\":\"scatterpolar\"}],\"scatterpolargl\":[{\"marker\":{\"colorbar\":{\"outlinewidth\":0,\"ticks\":\"\"}},\"type\":\"scatterpolargl\"}],\"scatterternary\":[{\"marker\":{\"colorbar\":{\"outlinewidth\":0,\"ticks\":\"\"}},\"type\":\"scatterternary\"}],\"surface\":[{\"colorbar\":{\"outlinewidth\":0,\"ticks\":\"\"},\"colorscale\":[[0.0,\"#0d0887\"],[0.1111111111111111,\"#46039f\"],[0.2222222222222222,\"#7201a8\"],[0.3333333333333333,\"#9c179e\"],[0.4444444444444444,\"#bd3786\"],[0.5555555555555556,\"#d8576b\"],[0.6666666666666666,\"#ed7953\"],[0.7777777777777778,\"#fb9f3a\"],[0.8888888888888888,\"#fdca26\"],[1.0,\"#f0f921\"]],\"type\":\"surface\"}],\"table\":[{\"cells\":{\"fill\":{\"color\":\"#EBF0F8\"},\"line\":{\"color\":\"white\"}},\"header\":{\"fill\":{\"color\":\"#C8D4E3\"},\"line\":{\"color\":\"white\"}},\"type\":\"table\"}]},\"layout\":{\"annotationdefaults\":{\"arrowcolor\":\"#2a3f5f\",\"arrowhead\":0,\"arrowwidth\":1},\"autotypenumbers\":\"strict\",\"coloraxis\":{\"colorbar\":{\"outlinewidth\":0,\"ticks\":\"\"}},\"colorscale\":{\"diverging\":[[0,\"#8e0152\"],[0.1,\"#c51b7d\"],[0.2,\"#de77ae\"],[0.3,\"#f1b6da\"],[0.4,\"#fde0ef\"],[0.5,\"#f7f7f7\"],[0.6,\"#e6f5d0\"],[0.7,\"#b8e186\"],[0.8,\"#7fbc41\"],[0.9,\"#4d9221\"],[1,\"#276419\"]],\"sequential\":[[0.0,\"#0d0887\"],[0.1111111111111111,\"#46039f\"],[0.2222222222222222,\"#7201a8\"],[0.3333333333333333,\"#9c179e\"],[0.4444444444444444,\"#bd3786\"],[0.5555555555555556,\"#d8576b\"],[0.6666666666666666,\"#ed7953\"],[0.7777777777777778,\"#fb9f3a\"],[0.8888888888888888,\"#fdca26\"],[1.0,\"#f0f921\"]],\"sequentialminus\":[[0.0,\"#0d0887\"],[0.1111111111111111,\"#46039f\"],[0.2222222222222222,\"#7201a8\"],[0.3333333333333333,\"#9c179e\"],[0.4444444444444444,\"#bd3786\"],[0.5555555555555556,\"#d8576b\"],[0.6666666666666666,\"#ed7953\"],[0.7777777777777778,\"#fb9f3a\"],[0.8888888888888888,\"#fdca26\"],[1.0,\"#f0f921\"]]},\"colorway\":[\"#636efa\",\"#EF553B\",\"#00cc96\",\"#ab63fa\",\"#FFA15A\",\"#19d3f3\",\"#FF6692\",\"#B6E880\",\"#FF97FF\",\"#FECB52\"],\"font\":{\"color\":\"#2a3f5f\"},\"geo\":{\"bgcolor\":\"white\",\"lakecolor\":\"white\",\"landcolor\":\"#E5ECF6\",\"showlakes\":true,\"showland\":true,\"subunitcolor\":\"white\"},\"hoverlabel\":{\"align\":\"left\"},\"hovermode\":\"closest\",\"mapbox\":{\"style\":\"light\"},\"paper_bgcolor\":\"white\",\"plot_bgcolor\":\"#E5ECF6\",\"polar\":{\"angularaxis\":{\"gridcolor\":\"white\",\"linecolor\":\"white\",\"ticks\":\"\"},\"bgcolor\":\"#E5ECF6\",\"radialaxis\":{\"gridcolor\":\"white\",\"linecolor\":\"white\",\"ticks\":\"\"}},\"scene\":{\"xaxis\":{\"backgroundcolor\":\"#E5ECF6\",\"gridcolor\":\"white\",\"gridwidth\":2,\"linecolor\":\"white\",\"showbackground\":true,\"ticks\":\"\",\"zerolinecolor\":\"white\"},\"yaxis\":{\"backgroundcolor\":\"#E5ECF6\",\"gridcolor\":\"white\",\"gridwidth\":2,\"linecolor\":\"white\",\"showbackground\":true,\"ticks\":\"\",\"zerolinecolor\":\"white\"},\"zaxis\":{\"backgroundcolor\":\"#E5ECF6\",\"gridcolor\":\"white\",\"gridwidth\":2,\"linecolor\":\"white\",\"showbackground\":true,\"ticks\":\"\",\"zerolinecolor\":\"white\"}},\"shapedefaults\":{\"line\":{\"color\":\"#2a3f5f\"}},\"ternary\":{\"aaxis\":{\"gridcolor\":\"white\",\"linecolor\":\"white\",\"ticks\":\"\"},\"baxis\":{\"gridcolor\":\"white\",\"linecolor\":\"white\",\"ticks\":\"\"},\"bgcolor\":\"#E5ECF6\",\"caxis\":{\"gridcolor\":\"white\",\"linecolor\":\"white\",\"ticks\":\"\"}},\"title\":{\"x\":0.05},\"xaxis\":{\"automargin\":true,\"gridcolor\":\"white\",\"linecolor\":\"white\",\"ticks\":\"\",\"title\":{\"standoff\":15},\"zerolinecolor\":\"white\",\"zerolinewidth\":2},\"yaxis\":{\"automargin\":true,\"gridcolor\":\"white\",\"linecolor\":\"white\",\"ticks\":\"\",\"title\":{\"standoff\":15},\"zerolinecolor\":\"white\",\"zerolinewidth\":2}}},\"title\":{\"text\":\"\\u041a\\u043e\\u043d\\u0432\\u0435\\u0440\\u0441\\u0438\\u044f \\u043f\\u043e\\u043b\\u044c\\u0437\\u043e\\u0432\\u0430\\u0442\\u0435\\u043b\\u0435\\u0439 \\u0432 \\u0433\\u0440\\u0443\\u043f\\u043f\\u0435 B\"}},                        {\"responsive\": true}                    ).then(function(){\n",
              "                            \n",
              "var gd = document.getElementById('b768a3c6-a339-4e6b-9034-ae7cd314edd3');\n",
              "var x = new MutationObserver(function (mutations, observer) {{\n",
              "        var display = window.getComputedStyle(gd).display;\n",
              "        if (!display || display === 'none') {{\n",
              "            console.log([gd, 'removed!']);\n",
              "            Plotly.purge(gd);\n",
              "            observer.disconnect();\n",
              "        }}\n",
              "}});\n",
              "\n",
              "// Listen for the removal of the full notebook cells\n",
              "var notebookContainer = gd.closest('#notebook-container');\n",
              "if (notebookContainer) {{\n",
              "    x.observe(notebookContainer, {childList: true});\n",
              "}}\n",
              "\n",
              "// Listen for the clearing of the current output cell\n",
              "var outputEl = gd.closest('.output');\n",
              "if (outputEl) {{\n",
              "    x.observe(outputEl, {childList: true});\n",
              "}}\n",
              "\n",
              "                        })                };                            </script>        </div>\n",
              "</body>\n",
              "</html>"
            ]
          },
          "metadata": {}
        }
      ],
      "source": [
        "funnel_events(events_groups[events_groups['group'] == 'B'], 'Конверсия пользователей в группе B')"
      ]
    },
    {
      "cell_type": "markdown",
      "metadata": {
        "id": "o46fB3D2ugo0"
      },
      "source": [
        "В обеих группах больше половины пользователей зарегистрировавшихся на сайте, перешли на страницу с товаром. Почти половина пользователей со страницы с товаром перешли к оплате товаров.   \n",
        "**NB!** Количество оплаченых товаров превышает количество товаров добавленых в корзину - скорей всего у поользователей есть возможность перейти к оплате товара сразу со страницы товара."
      ]
    },
    {
      "cell_type": "markdown",
      "metadata": {
        "id": "TgA6HCnUuqbS"
      },
      "source": [
        "**Найдём пользователей совершившвых все шаги воронки без пропусков:**   \n",
        "1. Авторизация  \n",
        "1. Страница товара   \n",
        "1. Коризина   \n",
        "1. Оплата   "
      ]
    },
    {
      "cell_type": "code",
      "execution_count": 27,
      "metadata": {
        "colab": {
          "base_uri": "https://localhost:8080/",
          "height": 615
        },
        "id": "fq_PYFPvtNTX",
        "outputId": "a071e800-5df0-4912-e351-8f28a0bf9702",
        "scrolled": true
      },
      "outputs": [
        {
          "output_type": "stream",
          "name": "stdout",
          "text": [
            "Авторизация: 58697\n",
            "Страница товара: 22119\n",
            "Корзина: 1347\n",
            "Оплата: 6\n"
          ]
        },
        {
          "output_type": "display_data",
          "data": {
            "text/html": [
              "<html>\n",
              "<head><meta charset=\"utf-8\" /></head>\n",
              "<body>\n",
              "    <div>            <script src=\"https://cdnjs.cloudflare.com/ajax/libs/mathjax/2.7.5/MathJax.js?config=TeX-AMS-MML_SVG\"></script><script type=\"text/javascript\">if (window.MathJax) {MathJax.Hub.Config({SVG: {font: \"STIX-Web\"}});}</script>                <script type=\"text/javascript\">window.PlotlyConfig = {MathJaxConfig: 'local'};</script>\n",
              "        <script src=\"https://cdn.plot.ly/plotly-2.8.3.min.js\"></script>                <div id=\"071aa670-7d92-4ee2-8c7b-5b072e0a8949\" class=\"plotly-graph-div\" style=\"height:525px; width:100%;\"></div>            <script type=\"text/javascript\">                                    window.PLOTLYENV=window.PLOTLYENV || {};                                    if (document.getElementById(\"071aa670-7d92-4ee2-8c7b-5b072e0a8949\")) {                    Plotly.newPlot(                        \"071aa670-7d92-4ee2-8c7b-5b072e0a8949\",                        [{\"textinfo\":\"value+percent previous\",\"x\":[58697,22119,1347,6],\"y\":[\"login\",\"product_page\",\"product_cart\",\"purchase\"],\"type\":\"funnel\"}],                        {\"template\":{\"data\":{\"bar\":[{\"error_x\":{\"color\":\"#2a3f5f\"},\"error_y\":{\"color\":\"#2a3f5f\"},\"marker\":{\"line\":{\"color\":\"#E5ECF6\",\"width\":0.5},\"pattern\":{\"fillmode\":\"overlay\",\"size\":10,\"solidity\":0.2}},\"type\":\"bar\"}],\"barpolar\":[{\"marker\":{\"line\":{\"color\":\"#E5ECF6\",\"width\":0.5},\"pattern\":{\"fillmode\":\"overlay\",\"size\":10,\"solidity\":0.2}},\"type\":\"barpolar\"}],\"carpet\":[{\"aaxis\":{\"endlinecolor\":\"#2a3f5f\",\"gridcolor\":\"white\",\"linecolor\":\"white\",\"minorgridcolor\":\"white\",\"startlinecolor\":\"#2a3f5f\"},\"baxis\":{\"endlinecolor\":\"#2a3f5f\",\"gridcolor\":\"white\",\"linecolor\":\"white\",\"minorgridcolor\":\"white\",\"startlinecolor\":\"#2a3f5f\"},\"type\":\"carpet\"}],\"choropleth\":[{\"colorbar\":{\"outlinewidth\":0,\"ticks\":\"\"},\"type\":\"choropleth\"}],\"contour\":[{\"colorbar\":{\"outlinewidth\":0,\"ticks\":\"\"},\"colorscale\":[[0.0,\"#0d0887\"],[0.1111111111111111,\"#46039f\"],[0.2222222222222222,\"#7201a8\"],[0.3333333333333333,\"#9c179e\"],[0.4444444444444444,\"#bd3786\"],[0.5555555555555556,\"#d8576b\"],[0.6666666666666666,\"#ed7953\"],[0.7777777777777778,\"#fb9f3a\"],[0.8888888888888888,\"#fdca26\"],[1.0,\"#f0f921\"]],\"type\":\"contour\"}],\"contourcarpet\":[{\"colorbar\":{\"outlinewidth\":0,\"ticks\":\"\"},\"type\":\"contourcarpet\"}],\"heatmap\":[{\"colorbar\":{\"outlinewidth\":0,\"ticks\":\"\"},\"colorscale\":[[0.0,\"#0d0887\"],[0.1111111111111111,\"#46039f\"],[0.2222222222222222,\"#7201a8\"],[0.3333333333333333,\"#9c179e\"],[0.4444444444444444,\"#bd3786\"],[0.5555555555555556,\"#d8576b\"],[0.6666666666666666,\"#ed7953\"],[0.7777777777777778,\"#fb9f3a\"],[0.8888888888888888,\"#fdca26\"],[1.0,\"#f0f921\"]],\"type\":\"heatmap\"}],\"heatmapgl\":[{\"colorbar\":{\"outlinewidth\":0,\"ticks\":\"\"},\"colorscale\":[[0.0,\"#0d0887\"],[0.1111111111111111,\"#46039f\"],[0.2222222222222222,\"#7201a8\"],[0.3333333333333333,\"#9c179e\"],[0.4444444444444444,\"#bd3786\"],[0.5555555555555556,\"#d8576b\"],[0.6666666666666666,\"#ed7953\"],[0.7777777777777778,\"#fb9f3a\"],[0.8888888888888888,\"#fdca26\"],[1.0,\"#f0f921\"]],\"type\":\"heatmapgl\"}],\"histogram\":[{\"marker\":{\"pattern\":{\"fillmode\":\"overlay\",\"size\":10,\"solidity\":0.2}},\"type\":\"histogram\"}],\"histogram2d\":[{\"colorbar\":{\"outlinewidth\":0,\"ticks\":\"\"},\"colorscale\":[[0.0,\"#0d0887\"],[0.1111111111111111,\"#46039f\"],[0.2222222222222222,\"#7201a8\"],[0.3333333333333333,\"#9c179e\"],[0.4444444444444444,\"#bd3786\"],[0.5555555555555556,\"#d8576b\"],[0.6666666666666666,\"#ed7953\"],[0.7777777777777778,\"#fb9f3a\"],[0.8888888888888888,\"#fdca26\"],[1.0,\"#f0f921\"]],\"type\":\"histogram2d\"}],\"histogram2dcontour\":[{\"colorbar\":{\"outlinewidth\":0,\"ticks\":\"\"},\"colorscale\":[[0.0,\"#0d0887\"],[0.1111111111111111,\"#46039f\"],[0.2222222222222222,\"#7201a8\"],[0.3333333333333333,\"#9c179e\"],[0.4444444444444444,\"#bd3786\"],[0.5555555555555556,\"#d8576b\"],[0.6666666666666666,\"#ed7953\"],[0.7777777777777778,\"#fb9f3a\"],[0.8888888888888888,\"#fdca26\"],[1.0,\"#f0f921\"]],\"type\":\"histogram2dcontour\"}],\"mesh3d\":[{\"colorbar\":{\"outlinewidth\":0,\"ticks\":\"\"},\"type\":\"mesh3d\"}],\"parcoords\":[{\"line\":{\"colorbar\":{\"outlinewidth\":0,\"ticks\":\"\"}},\"type\":\"parcoords\"}],\"pie\":[{\"automargin\":true,\"type\":\"pie\"}],\"scatter\":[{\"marker\":{\"colorbar\":{\"outlinewidth\":0,\"ticks\":\"\"}},\"type\":\"scatter\"}],\"scatter3d\":[{\"line\":{\"colorbar\":{\"outlinewidth\":0,\"ticks\":\"\"}},\"marker\":{\"colorbar\":{\"outlinewidth\":0,\"ticks\":\"\"}},\"type\":\"scatter3d\"}],\"scattercarpet\":[{\"marker\":{\"colorbar\":{\"outlinewidth\":0,\"ticks\":\"\"}},\"type\":\"scattercarpet\"}],\"scattergeo\":[{\"marker\":{\"colorbar\":{\"outlinewidth\":0,\"ticks\":\"\"}},\"type\":\"scattergeo\"}],\"scattergl\":[{\"marker\":{\"colorbar\":{\"outlinewidth\":0,\"ticks\":\"\"}},\"type\":\"scattergl\"}],\"scattermapbox\":[{\"marker\":{\"colorbar\":{\"outlinewidth\":0,\"ticks\":\"\"}},\"type\":\"scattermapbox\"}],\"scatterpolar\":[{\"marker\":{\"colorbar\":{\"outlinewidth\":0,\"ticks\":\"\"}},\"type\":\"scatterpolar\"}],\"scatterpolargl\":[{\"marker\":{\"colorbar\":{\"outlinewidth\":0,\"ticks\":\"\"}},\"type\":\"scatterpolargl\"}],\"scatterternary\":[{\"marker\":{\"colorbar\":{\"outlinewidth\":0,\"ticks\":\"\"}},\"type\":\"scatterternary\"}],\"surface\":[{\"colorbar\":{\"outlinewidth\":0,\"ticks\":\"\"},\"colorscale\":[[0.0,\"#0d0887\"],[0.1111111111111111,\"#46039f\"],[0.2222222222222222,\"#7201a8\"],[0.3333333333333333,\"#9c179e\"],[0.4444444444444444,\"#bd3786\"],[0.5555555555555556,\"#d8576b\"],[0.6666666666666666,\"#ed7953\"],[0.7777777777777778,\"#fb9f3a\"],[0.8888888888888888,\"#fdca26\"],[1.0,\"#f0f921\"]],\"type\":\"surface\"}],\"table\":[{\"cells\":{\"fill\":{\"color\":\"#EBF0F8\"},\"line\":{\"color\":\"white\"}},\"header\":{\"fill\":{\"color\":\"#C8D4E3\"},\"line\":{\"color\":\"white\"}},\"type\":\"table\"}]},\"layout\":{\"annotationdefaults\":{\"arrowcolor\":\"#2a3f5f\",\"arrowhead\":0,\"arrowwidth\":1},\"autotypenumbers\":\"strict\",\"coloraxis\":{\"colorbar\":{\"outlinewidth\":0,\"ticks\":\"\"}},\"colorscale\":{\"diverging\":[[0,\"#8e0152\"],[0.1,\"#c51b7d\"],[0.2,\"#de77ae\"],[0.3,\"#f1b6da\"],[0.4,\"#fde0ef\"],[0.5,\"#f7f7f7\"],[0.6,\"#e6f5d0\"],[0.7,\"#b8e186\"],[0.8,\"#7fbc41\"],[0.9,\"#4d9221\"],[1,\"#276419\"]],\"sequential\":[[0.0,\"#0d0887\"],[0.1111111111111111,\"#46039f\"],[0.2222222222222222,\"#7201a8\"],[0.3333333333333333,\"#9c179e\"],[0.4444444444444444,\"#bd3786\"],[0.5555555555555556,\"#d8576b\"],[0.6666666666666666,\"#ed7953\"],[0.7777777777777778,\"#fb9f3a\"],[0.8888888888888888,\"#fdca26\"],[1.0,\"#f0f921\"]],\"sequentialminus\":[[0.0,\"#0d0887\"],[0.1111111111111111,\"#46039f\"],[0.2222222222222222,\"#7201a8\"],[0.3333333333333333,\"#9c179e\"],[0.4444444444444444,\"#bd3786\"],[0.5555555555555556,\"#d8576b\"],[0.6666666666666666,\"#ed7953\"],[0.7777777777777778,\"#fb9f3a\"],[0.8888888888888888,\"#fdca26\"],[1.0,\"#f0f921\"]]},\"colorway\":[\"#636efa\",\"#EF553B\",\"#00cc96\",\"#ab63fa\",\"#FFA15A\",\"#19d3f3\",\"#FF6692\",\"#B6E880\",\"#FF97FF\",\"#FECB52\"],\"font\":{\"color\":\"#2a3f5f\"},\"geo\":{\"bgcolor\":\"white\",\"lakecolor\":\"white\",\"landcolor\":\"#E5ECF6\",\"showlakes\":true,\"showland\":true,\"subunitcolor\":\"white\"},\"hoverlabel\":{\"align\":\"left\"},\"hovermode\":\"closest\",\"mapbox\":{\"style\":\"light\"},\"paper_bgcolor\":\"white\",\"plot_bgcolor\":\"#E5ECF6\",\"polar\":{\"angularaxis\":{\"gridcolor\":\"white\",\"linecolor\":\"white\",\"ticks\":\"\"},\"bgcolor\":\"#E5ECF6\",\"radialaxis\":{\"gridcolor\":\"white\",\"linecolor\":\"white\",\"ticks\":\"\"}},\"scene\":{\"xaxis\":{\"backgroundcolor\":\"#E5ECF6\",\"gridcolor\":\"white\",\"gridwidth\":2,\"linecolor\":\"white\",\"showbackground\":true,\"ticks\":\"\",\"zerolinecolor\":\"white\"},\"yaxis\":{\"backgroundcolor\":\"#E5ECF6\",\"gridcolor\":\"white\",\"gridwidth\":2,\"linecolor\":\"white\",\"showbackground\":true,\"ticks\":\"\",\"zerolinecolor\":\"white\"},\"zaxis\":{\"backgroundcolor\":\"#E5ECF6\",\"gridcolor\":\"white\",\"gridwidth\":2,\"linecolor\":\"white\",\"showbackground\":true,\"ticks\":\"\",\"zerolinecolor\":\"white\"}},\"shapedefaults\":{\"line\":{\"color\":\"#2a3f5f\"}},\"ternary\":{\"aaxis\":{\"gridcolor\":\"white\",\"linecolor\":\"white\",\"ticks\":\"\"},\"baxis\":{\"gridcolor\":\"white\",\"linecolor\":\"white\",\"ticks\":\"\"},\"bgcolor\":\"#E5ECF6\",\"caxis\":{\"gridcolor\":\"white\",\"linecolor\":\"white\",\"ticks\":\"\"}},\"title\":{\"x\":0.05},\"xaxis\":{\"automargin\":true,\"gridcolor\":\"white\",\"linecolor\":\"white\",\"ticks\":\"\",\"title\":{\"standoff\":15},\"zerolinecolor\":\"white\",\"zerolinewidth\":2},\"yaxis\":{\"automargin\":true,\"gridcolor\":\"white\",\"linecolor\":\"white\",\"ticks\":\"\",\"title\":{\"standoff\":15},\"zerolinecolor\":\"white\",\"zerolinewidth\":2}}},\"title\":{\"text\":\"\\u041a\\u043e\\u043d\\u0432\\u0435\\u0440\\u0441\\u0438\\u044f \\u043f\\u043e\\u043b\\u044c\\u0437\\u043e\\u0432\\u0430\\u0442\\u0435\\u043b\\u0435\\u0439 (\\u043f\\u043e\\u0441\\u043b\\u0435\\u0434\\u043e\\u0432\\u0430\\u0442\\u0435\\u043b\\u044c\\u043d\\u043e)\"}},                        {\"responsive\": true}                    ).then(function(){\n",
              "                            \n",
              "var gd = document.getElementById('071aa670-7d92-4ee2-8c7b-5b072e0a8949');\n",
              "var x = new MutationObserver(function (mutations, observer) {{\n",
              "        var display = window.getComputedStyle(gd).display;\n",
              "        if (!display || display === 'none') {{\n",
              "            console.log([gd, 'removed!']);\n",
              "            Plotly.purge(gd);\n",
              "            observer.disconnect();\n",
              "        }}\n",
              "}});\n",
              "\n",
              "// Listen for the removal of the full notebook cells\n",
              "var notebookContainer = gd.closest('#notebook-container');\n",
              "if (notebookContainer) {{\n",
              "    x.observe(notebookContainer, {childList: true});\n",
              "}}\n",
              "\n",
              "// Listen for the clearing of the current output cell\n",
              "var outputEl = gd.closest('.output');\n",
              "if (outputEl) {{\n",
              "    x.observe(outputEl, {childList: true});\n",
              "}}\n",
              "\n",
              "                        })                };                            </script>        </div>\n",
              "</body>\n",
              "</html>"
            ]
          },
          "metadata": {}
        }
      ],
      "source": [
        "# Для этого также используем функцию \n",
        "def user_events_by_steps(data, title):\n",
        "    users = data.pivot_table(\n",
        "        index='user_id', \n",
        "        columns='event_name', \n",
        "        values='event_dt',\n",
        "        aggfunc='min')\n",
        "\n",
        "    step_1 = ~users['login'].isna() # впишите ваш код сюда\n",
        "    step_2 = step_1 & (users['product_page'] > users['login']) # впишите ваш код сюда\n",
        "    step_3 = step_2 & (users['product_cart'] > users['product_page']) # впишите ваш код сюда\n",
        "    step_4 = step_3 & (users['purchase'] > users['product_cart']) # впишите ваш код сюда\n",
        "\n",
        "    n_login = users[step_1].shape[0]\n",
        "    n_product_page = users[step_2].shape[0]\n",
        "    n_product_cart = users[step_3].shape[0]\n",
        "    n_purchase = users[step_4].shape[0]\n",
        "\n",
        "    print('Авторизация:', n_login)\n",
        "    print('Страница товара:', n_product_page)\n",
        "    print('Корзина:', n_product_cart)\n",
        "    print('Оплата:', n_purchase)\n",
        "    \n",
        "    # построем воронку\n",
        "    fig = go.Figure(go.Funnel(\n",
        "        y = ['login', 'product_page', 'product_cart', 'purchase'],\n",
        "        x = [n_login, n_product_page, n_product_cart, n_purchase],\n",
        "        textinfo = \"value+percent previous\"\n",
        "        ))\n",
        "\n",
        "    fig.update_layout(title_text=title)\n",
        "    fig.show()\n",
        "user_events_by_steps(final_ab_events, 'Конверсия пользователей (последовательно)')"
      ]
    },
    {
      "cell_type": "code",
      "execution_count": 28,
      "metadata": {
        "colab": {
          "base_uri": "https://localhost:8080/",
          "height": 615
        },
        "id": "Gmnv9L7aul2w",
        "outputId": "81ecc331-1264-4b9a-d183-5a1a7ce8035e",
        "scrolled": true
      },
      "outputs": [
        {
          "output_type": "stream",
          "name": "stdout",
          "text": [
            "Авторизация: 2747\n",
            "Страница товара: 1012\n",
            "Корзина: 54\n",
            "Оплата: 0\n"
          ]
        },
        {
          "output_type": "display_data",
          "data": {
            "text/html": [
              "<html>\n",
              "<head><meta charset=\"utf-8\" /></head>\n",
              "<body>\n",
              "    <div>            <script src=\"https://cdnjs.cloudflare.com/ajax/libs/mathjax/2.7.5/MathJax.js?config=TeX-AMS-MML_SVG\"></script><script type=\"text/javascript\">if (window.MathJax) {MathJax.Hub.Config({SVG: {font: \"STIX-Web\"}});}</script>                <script type=\"text/javascript\">window.PlotlyConfig = {MathJaxConfig: 'local'};</script>\n",
              "        <script src=\"https://cdn.plot.ly/plotly-2.8.3.min.js\"></script>                <div id=\"7c6e0ad0-9a6d-4a1b-8aa1-c760230adf75\" class=\"plotly-graph-div\" style=\"height:525px; width:100%;\"></div>            <script type=\"text/javascript\">                                    window.PLOTLYENV=window.PLOTLYENV || {};                                    if (document.getElementById(\"7c6e0ad0-9a6d-4a1b-8aa1-c760230adf75\")) {                    Plotly.newPlot(                        \"7c6e0ad0-9a6d-4a1b-8aa1-c760230adf75\",                        [{\"textinfo\":\"value+percent previous\",\"x\":[2747,1012,54,0],\"y\":[\"login\",\"product_page\",\"product_cart\",\"purchase\"],\"type\":\"funnel\"}],                        {\"template\":{\"data\":{\"bar\":[{\"error_x\":{\"color\":\"#2a3f5f\"},\"error_y\":{\"color\":\"#2a3f5f\"},\"marker\":{\"line\":{\"color\":\"#E5ECF6\",\"width\":0.5},\"pattern\":{\"fillmode\":\"overlay\",\"size\":10,\"solidity\":0.2}},\"type\":\"bar\"}],\"barpolar\":[{\"marker\":{\"line\":{\"color\":\"#E5ECF6\",\"width\":0.5},\"pattern\":{\"fillmode\":\"overlay\",\"size\":10,\"solidity\":0.2}},\"type\":\"barpolar\"}],\"carpet\":[{\"aaxis\":{\"endlinecolor\":\"#2a3f5f\",\"gridcolor\":\"white\",\"linecolor\":\"white\",\"minorgridcolor\":\"white\",\"startlinecolor\":\"#2a3f5f\"},\"baxis\":{\"endlinecolor\":\"#2a3f5f\",\"gridcolor\":\"white\",\"linecolor\":\"white\",\"minorgridcolor\":\"white\",\"startlinecolor\":\"#2a3f5f\"},\"type\":\"carpet\"}],\"choropleth\":[{\"colorbar\":{\"outlinewidth\":0,\"ticks\":\"\"},\"type\":\"choropleth\"}],\"contour\":[{\"colorbar\":{\"outlinewidth\":0,\"ticks\":\"\"},\"colorscale\":[[0.0,\"#0d0887\"],[0.1111111111111111,\"#46039f\"],[0.2222222222222222,\"#7201a8\"],[0.3333333333333333,\"#9c179e\"],[0.4444444444444444,\"#bd3786\"],[0.5555555555555556,\"#d8576b\"],[0.6666666666666666,\"#ed7953\"],[0.7777777777777778,\"#fb9f3a\"],[0.8888888888888888,\"#fdca26\"],[1.0,\"#f0f921\"]],\"type\":\"contour\"}],\"contourcarpet\":[{\"colorbar\":{\"outlinewidth\":0,\"ticks\":\"\"},\"type\":\"contourcarpet\"}],\"heatmap\":[{\"colorbar\":{\"outlinewidth\":0,\"ticks\":\"\"},\"colorscale\":[[0.0,\"#0d0887\"],[0.1111111111111111,\"#46039f\"],[0.2222222222222222,\"#7201a8\"],[0.3333333333333333,\"#9c179e\"],[0.4444444444444444,\"#bd3786\"],[0.5555555555555556,\"#d8576b\"],[0.6666666666666666,\"#ed7953\"],[0.7777777777777778,\"#fb9f3a\"],[0.8888888888888888,\"#fdca26\"],[1.0,\"#f0f921\"]],\"type\":\"heatmap\"}],\"heatmapgl\":[{\"colorbar\":{\"outlinewidth\":0,\"ticks\":\"\"},\"colorscale\":[[0.0,\"#0d0887\"],[0.1111111111111111,\"#46039f\"],[0.2222222222222222,\"#7201a8\"],[0.3333333333333333,\"#9c179e\"],[0.4444444444444444,\"#bd3786\"],[0.5555555555555556,\"#d8576b\"],[0.6666666666666666,\"#ed7953\"],[0.7777777777777778,\"#fb9f3a\"],[0.8888888888888888,\"#fdca26\"],[1.0,\"#f0f921\"]],\"type\":\"heatmapgl\"}],\"histogram\":[{\"marker\":{\"pattern\":{\"fillmode\":\"overlay\",\"size\":10,\"solidity\":0.2}},\"type\":\"histogram\"}],\"histogram2d\":[{\"colorbar\":{\"outlinewidth\":0,\"ticks\":\"\"},\"colorscale\":[[0.0,\"#0d0887\"],[0.1111111111111111,\"#46039f\"],[0.2222222222222222,\"#7201a8\"],[0.3333333333333333,\"#9c179e\"],[0.4444444444444444,\"#bd3786\"],[0.5555555555555556,\"#d8576b\"],[0.6666666666666666,\"#ed7953\"],[0.7777777777777778,\"#fb9f3a\"],[0.8888888888888888,\"#fdca26\"],[1.0,\"#f0f921\"]],\"type\":\"histogram2d\"}],\"histogram2dcontour\":[{\"colorbar\":{\"outlinewidth\":0,\"ticks\":\"\"},\"colorscale\":[[0.0,\"#0d0887\"],[0.1111111111111111,\"#46039f\"],[0.2222222222222222,\"#7201a8\"],[0.3333333333333333,\"#9c179e\"],[0.4444444444444444,\"#bd3786\"],[0.5555555555555556,\"#d8576b\"],[0.6666666666666666,\"#ed7953\"],[0.7777777777777778,\"#fb9f3a\"],[0.8888888888888888,\"#fdca26\"],[1.0,\"#f0f921\"]],\"type\":\"histogram2dcontour\"}],\"mesh3d\":[{\"colorbar\":{\"outlinewidth\":0,\"ticks\":\"\"},\"type\":\"mesh3d\"}],\"parcoords\":[{\"line\":{\"colorbar\":{\"outlinewidth\":0,\"ticks\":\"\"}},\"type\":\"parcoords\"}],\"pie\":[{\"automargin\":true,\"type\":\"pie\"}],\"scatter\":[{\"marker\":{\"colorbar\":{\"outlinewidth\":0,\"ticks\":\"\"}},\"type\":\"scatter\"}],\"scatter3d\":[{\"line\":{\"colorbar\":{\"outlinewidth\":0,\"ticks\":\"\"}},\"marker\":{\"colorbar\":{\"outlinewidth\":0,\"ticks\":\"\"}},\"type\":\"scatter3d\"}],\"scattercarpet\":[{\"marker\":{\"colorbar\":{\"outlinewidth\":0,\"ticks\":\"\"}},\"type\":\"scattercarpet\"}],\"scattergeo\":[{\"marker\":{\"colorbar\":{\"outlinewidth\":0,\"ticks\":\"\"}},\"type\":\"scattergeo\"}],\"scattergl\":[{\"marker\":{\"colorbar\":{\"outlinewidth\":0,\"ticks\":\"\"}},\"type\":\"scattergl\"}],\"scattermapbox\":[{\"marker\":{\"colorbar\":{\"outlinewidth\":0,\"ticks\":\"\"}},\"type\":\"scattermapbox\"}],\"scatterpolar\":[{\"marker\":{\"colorbar\":{\"outlinewidth\":0,\"ticks\":\"\"}},\"type\":\"scatterpolar\"}],\"scatterpolargl\":[{\"marker\":{\"colorbar\":{\"outlinewidth\":0,\"ticks\":\"\"}},\"type\":\"scatterpolargl\"}],\"scatterternary\":[{\"marker\":{\"colorbar\":{\"outlinewidth\":0,\"ticks\":\"\"}},\"type\":\"scatterternary\"}],\"surface\":[{\"colorbar\":{\"outlinewidth\":0,\"ticks\":\"\"},\"colorscale\":[[0.0,\"#0d0887\"],[0.1111111111111111,\"#46039f\"],[0.2222222222222222,\"#7201a8\"],[0.3333333333333333,\"#9c179e\"],[0.4444444444444444,\"#bd3786\"],[0.5555555555555556,\"#d8576b\"],[0.6666666666666666,\"#ed7953\"],[0.7777777777777778,\"#fb9f3a\"],[0.8888888888888888,\"#fdca26\"],[1.0,\"#f0f921\"]],\"type\":\"surface\"}],\"table\":[{\"cells\":{\"fill\":{\"color\":\"#EBF0F8\"},\"line\":{\"color\":\"white\"}},\"header\":{\"fill\":{\"color\":\"#C8D4E3\"},\"line\":{\"color\":\"white\"}},\"type\":\"table\"}]},\"layout\":{\"annotationdefaults\":{\"arrowcolor\":\"#2a3f5f\",\"arrowhead\":0,\"arrowwidth\":1},\"autotypenumbers\":\"strict\",\"coloraxis\":{\"colorbar\":{\"outlinewidth\":0,\"ticks\":\"\"}},\"colorscale\":{\"diverging\":[[0,\"#8e0152\"],[0.1,\"#c51b7d\"],[0.2,\"#de77ae\"],[0.3,\"#f1b6da\"],[0.4,\"#fde0ef\"],[0.5,\"#f7f7f7\"],[0.6,\"#e6f5d0\"],[0.7,\"#b8e186\"],[0.8,\"#7fbc41\"],[0.9,\"#4d9221\"],[1,\"#276419\"]],\"sequential\":[[0.0,\"#0d0887\"],[0.1111111111111111,\"#46039f\"],[0.2222222222222222,\"#7201a8\"],[0.3333333333333333,\"#9c179e\"],[0.4444444444444444,\"#bd3786\"],[0.5555555555555556,\"#d8576b\"],[0.6666666666666666,\"#ed7953\"],[0.7777777777777778,\"#fb9f3a\"],[0.8888888888888888,\"#fdca26\"],[1.0,\"#f0f921\"]],\"sequentialminus\":[[0.0,\"#0d0887\"],[0.1111111111111111,\"#46039f\"],[0.2222222222222222,\"#7201a8\"],[0.3333333333333333,\"#9c179e\"],[0.4444444444444444,\"#bd3786\"],[0.5555555555555556,\"#d8576b\"],[0.6666666666666666,\"#ed7953\"],[0.7777777777777778,\"#fb9f3a\"],[0.8888888888888888,\"#fdca26\"],[1.0,\"#f0f921\"]]},\"colorway\":[\"#636efa\",\"#EF553B\",\"#00cc96\",\"#ab63fa\",\"#FFA15A\",\"#19d3f3\",\"#FF6692\",\"#B6E880\",\"#FF97FF\",\"#FECB52\"],\"font\":{\"color\":\"#2a3f5f\"},\"geo\":{\"bgcolor\":\"white\",\"lakecolor\":\"white\",\"landcolor\":\"#E5ECF6\",\"showlakes\":true,\"showland\":true,\"subunitcolor\":\"white\"},\"hoverlabel\":{\"align\":\"left\"},\"hovermode\":\"closest\",\"mapbox\":{\"style\":\"light\"},\"paper_bgcolor\":\"white\",\"plot_bgcolor\":\"#E5ECF6\",\"polar\":{\"angularaxis\":{\"gridcolor\":\"white\",\"linecolor\":\"white\",\"ticks\":\"\"},\"bgcolor\":\"#E5ECF6\",\"radialaxis\":{\"gridcolor\":\"white\",\"linecolor\":\"white\",\"ticks\":\"\"}},\"scene\":{\"xaxis\":{\"backgroundcolor\":\"#E5ECF6\",\"gridcolor\":\"white\",\"gridwidth\":2,\"linecolor\":\"white\",\"showbackground\":true,\"ticks\":\"\",\"zerolinecolor\":\"white\"},\"yaxis\":{\"backgroundcolor\":\"#E5ECF6\",\"gridcolor\":\"white\",\"gridwidth\":2,\"linecolor\":\"white\",\"showbackground\":true,\"ticks\":\"\",\"zerolinecolor\":\"white\"},\"zaxis\":{\"backgroundcolor\":\"#E5ECF6\",\"gridcolor\":\"white\",\"gridwidth\":2,\"linecolor\":\"white\",\"showbackground\":true,\"ticks\":\"\",\"zerolinecolor\":\"white\"}},\"shapedefaults\":{\"line\":{\"color\":\"#2a3f5f\"}},\"ternary\":{\"aaxis\":{\"gridcolor\":\"white\",\"linecolor\":\"white\",\"ticks\":\"\"},\"baxis\":{\"gridcolor\":\"white\",\"linecolor\":\"white\",\"ticks\":\"\"},\"bgcolor\":\"#E5ECF6\",\"caxis\":{\"gridcolor\":\"white\",\"linecolor\":\"white\",\"ticks\":\"\"}},\"title\":{\"x\":0.05},\"xaxis\":{\"automargin\":true,\"gridcolor\":\"white\",\"linecolor\":\"white\",\"ticks\":\"\",\"title\":{\"standoff\":15},\"zerolinecolor\":\"white\",\"zerolinewidth\":2},\"yaxis\":{\"automargin\":true,\"gridcolor\":\"white\",\"linecolor\":\"white\",\"ticks\":\"\",\"title\":{\"standoff\":15},\"zerolinecolor\":\"white\",\"zerolinewidth\":2}}},\"title\":{\"text\":\"\\u041a\\u043e\\u043d\\u0432\\u0435\\u0440\\u0441\\u0438\\u044f \\u043f\\u043e\\u043b\\u044c\\u0437\\u043e\\u0432\\u0430\\u0442\\u0435\\u043b\\u0435\\u0439 (\\u043f\\u043e\\u0441\\u043b\\u0435\\u0434\\u043e\\u0432\\u0430\\u0442\\u0435\\u043b\\u044c\\u043d\\u043e) \\u0432 \\u0433\\u0440\\u0443\\u043f\\u043f\\u0435 A\"}},                        {\"responsive\": true}                    ).then(function(){\n",
              "                            \n",
              "var gd = document.getElementById('7c6e0ad0-9a6d-4a1b-8aa1-c760230adf75');\n",
              "var x = new MutationObserver(function (mutations, observer) {{\n",
              "        var display = window.getComputedStyle(gd).display;\n",
              "        if (!display || display === 'none') {{\n",
              "            console.log([gd, 'removed!']);\n",
              "            Plotly.purge(gd);\n",
              "            observer.disconnect();\n",
              "        }}\n",
              "}});\n",
              "\n",
              "// Listen for the removal of the full notebook cells\n",
              "var notebookContainer = gd.closest('#notebook-container');\n",
              "if (notebookContainer) {{\n",
              "    x.observe(notebookContainer, {childList: true});\n",
              "}}\n",
              "\n",
              "// Listen for the clearing of the current output cell\n",
              "var outputEl = gd.closest('.output');\n",
              "if (outputEl) {{\n",
              "    x.observe(outputEl, {childList: true});\n",
              "}}\n",
              "\n",
              "                        })                };                            </script>        </div>\n",
              "</body>\n",
              "</html>"
            ]
          },
          "metadata": {}
        }
      ],
      "source": [
        "user_events_by_steps(events_groups[events_groups['group'] == 'A'], 'Конверсия пользователей (последовательно) в группе A')\n"
      ]
    },
    {
      "cell_type": "code",
      "execution_count": 29,
      "metadata": {
        "colab": {
          "base_uri": "https://localhost:8080/",
          "height": 615
        },
        "id": "x9rWDvz9vTim",
        "outputId": "612e403b-2374-4887-d3cb-a500f372b383",
        "scrolled": true
      },
      "outputs": [
        {
          "output_type": "stream",
          "name": "stdout",
          "text": [
            "Авторизация: 2747\n",
            "Страница товара: 1012\n",
            "Корзина: 54\n",
            "Оплата: 0\n"
          ]
        },
        {
          "output_type": "display_data",
          "data": {
            "text/html": [
              "<html>\n",
              "<head><meta charset=\"utf-8\" /></head>\n",
              "<body>\n",
              "    <div>            <script src=\"https://cdnjs.cloudflare.com/ajax/libs/mathjax/2.7.5/MathJax.js?config=TeX-AMS-MML_SVG\"></script><script type=\"text/javascript\">if (window.MathJax) {MathJax.Hub.Config({SVG: {font: \"STIX-Web\"}});}</script>                <script type=\"text/javascript\">window.PlotlyConfig = {MathJaxConfig: 'local'};</script>\n",
              "        <script src=\"https://cdn.plot.ly/plotly-2.8.3.min.js\"></script>                <div id=\"bb3a114e-0b36-4200-9c82-07d39fa4d078\" class=\"plotly-graph-div\" style=\"height:525px; width:100%;\"></div>            <script type=\"text/javascript\">                                    window.PLOTLYENV=window.PLOTLYENV || {};                                    if (document.getElementById(\"bb3a114e-0b36-4200-9c82-07d39fa4d078\")) {                    Plotly.newPlot(                        \"bb3a114e-0b36-4200-9c82-07d39fa4d078\",                        [{\"textinfo\":\"value+percent previous\",\"x\":[2747,1012,54,0],\"y\":[\"login\",\"product_page\",\"product_cart\",\"purchase\"],\"type\":\"funnel\"}],                        {\"template\":{\"data\":{\"bar\":[{\"error_x\":{\"color\":\"#2a3f5f\"},\"error_y\":{\"color\":\"#2a3f5f\"},\"marker\":{\"line\":{\"color\":\"#E5ECF6\",\"width\":0.5},\"pattern\":{\"fillmode\":\"overlay\",\"size\":10,\"solidity\":0.2}},\"type\":\"bar\"}],\"barpolar\":[{\"marker\":{\"line\":{\"color\":\"#E5ECF6\",\"width\":0.5},\"pattern\":{\"fillmode\":\"overlay\",\"size\":10,\"solidity\":0.2}},\"type\":\"barpolar\"}],\"carpet\":[{\"aaxis\":{\"endlinecolor\":\"#2a3f5f\",\"gridcolor\":\"white\",\"linecolor\":\"white\",\"minorgridcolor\":\"white\",\"startlinecolor\":\"#2a3f5f\"},\"baxis\":{\"endlinecolor\":\"#2a3f5f\",\"gridcolor\":\"white\",\"linecolor\":\"white\",\"minorgridcolor\":\"white\",\"startlinecolor\":\"#2a3f5f\"},\"type\":\"carpet\"}],\"choropleth\":[{\"colorbar\":{\"outlinewidth\":0,\"ticks\":\"\"},\"type\":\"choropleth\"}],\"contour\":[{\"colorbar\":{\"outlinewidth\":0,\"ticks\":\"\"},\"colorscale\":[[0.0,\"#0d0887\"],[0.1111111111111111,\"#46039f\"],[0.2222222222222222,\"#7201a8\"],[0.3333333333333333,\"#9c179e\"],[0.4444444444444444,\"#bd3786\"],[0.5555555555555556,\"#d8576b\"],[0.6666666666666666,\"#ed7953\"],[0.7777777777777778,\"#fb9f3a\"],[0.8888888888888888,\"#fdca26\"],[1.0,\"#f0f921\"]],\"type\":\"contour\"}],\"contourcarpet\":[{\"colorbar\":{\"outlinewidth\":0,\"ticks\":\"\"},\"type\":\"contourcarpet\"}],\"heatmap\":[{\"colorbar\":{\"outlinewidth\":0,\"ticks\":\"\"},\"colorscale\":[[0.0,\"#0d0887\"],[0.1111111111111111,\"#46039f\"],[0.2222222222222222,\"#7201a8\"],[0.3333333333333333,\"#9c179e\"],[0.4444444444444444,\"#bd3786\"],[0.5555555555555556,\"#d8576b\"],[0.6666666666666666,\"#ed7953\"],[0.7777777777777778,\"#fb9f3a\"],[0.8888888888888888,\"#fdca26\"],[1.0,\"#f0f921\"]],\"type\":\"heatmap\"}],\"heatmapgl\":[{\"colorbar\":{\"outlinewidth\":0,\"ticks\":\"\"},\"colorscale\":[[0.0,\"#0d0887\"],[0.1111111111111111,\"#46039f\"],[0.2222222222222222,\"#7201a8\"],[0.3333333333333333,\"#9c179e\"],[0.4444444444444444,\"#bd3786\"],[0.5555555555555556,\"#d8576b\"],[0.6666666666666666,\"#ed7953\"],[0.7777777777777778,\"#fb9f3a\"],[0.8888888888888888,\"#fdca26\"],[1.0,\"#f0f921\"]],\"type\":\"heatmapgl\"}],\"histogram\":[{\"marker\":{\"pattern\":{\"fillmode\":\"overlay\",\"size\":10,\"solidity\":0.2}},\"type\":\"histogram\"}],\"histogram2d\":[{\"colorbar\":{\"outlinewidth\":0,\"ticks\":\"\"},\"colorscale\":[[0.0,\"#0d0887\"],[0.1111111111111111,\"#46039f\"],[0.2222222222222222,\"#7201a8\"],[0.3333333333333333,\"#9c179e\"],[0.4444444444444444,\"#bd3786\"],[0.5555555555555556,\"#d8576b\"],[0.6666666666666666,\"#ed7953\"],[0.7777777777777778,\"#fb9f3a\"],[0.8888888888888888,\"#fdca26\"],[1.0,\"#f0f921\"]],\"type\":\"histogram2d\"}],\"histogram2dcontour\":[{\"colorbar\":{\"outlinewidth\":0,\"ticks\":\"\"},\"colorscale\":[[0.0,\"#0d0887\"],[0.1111111111111111,\"#46039f\"],[0.2222222222222222,\"#7201a8\"],[0.3333333333333333,\"#9c179e\"],[0.4444444444444444,\"#bd3786\"],[0.5555555555555556,\"#d8576b\"],[0.6666666666666666,\"#ed7953\"],[0.7777777777777778,\"#fb9f3a\"],[0.8888888888888888,\"#fdca26\"],[1.0,\"#f0f921\"]],\"type\":\"histogram2dcontour\"}],\"mesh3d\":[{\"colorbar\":{\"outlinewidth\":0,\"ticks\":\"\"},\"type\":\"mesh3d\"}],\"parcoords\":[{\"line\":{\"colorbar\":{\"outlinewidth\":0,\"ticks\":\"\"}},\"type\":\"parcoords\"}],\"pie\":[{\"automargin\":true,\"type\":\"pie\"}],\"scatter\":[{\"marker\":{\"colorbar\":{\"outlinewidth\":0,\"ticks\":\"\"}},\"type\":\"scatter\"}],\"scatter3d\":[{\"line\":{\"colorbar\":{\"outlinewidth\":0,\"ticks\":\"\"}},\"marker\":{\"colorbar\":{\"outlinewidth\":0,\"ticks\":\"\"}},\"type\":\"scatter3d\"}],\"scattercarpet\":[{\"marker\":{\"colorbar\":{\"outlinewidth\":0,\"ticks\":\"\"}},\"type\":\"scattercarpet\"}],\"scattergeo\":[{\"marker\":{\"colorbar\":{\"outlinewidth\":0,\"ticks\":\"\"}},\"type\":\"scattergeo\"}],\"scattergl\":[{\"marker\":{\"colorbar\":{\"outlinewidth\":0,\"ticks\":\"\"}},\"type\":\"scattergl\"}],\"scattermapbox\":[{\"marker\":{\"colorbar\":{\"outlinewidth\":0,\"ticks\":\"\"}},\"type\":\"scattermapbox\"}],\"scatterpolar\":[{\"marker\":{\"colorbar\":{\"outlinewidth\":0,\"ticks\":\"\"}},\"type\":\"scatterpolar\"}],\"scatterpolargl\":[{\"marker\":{\"colorbar\":{\"outlinewidth\":0,\"ticks\":\"\"}},\"type\":\"scatterpolargl\"}],\"scatterternary\":[{\"marker\":{\"colorbar\":{\"outlinewidth\":0,\"ticks\":\"\"}},\"type\":\"scatterternary\"}],\"surface\":[{\"colorbar\":{\"outlinewidth\":0,\"ticks\":\"\"},\"colorscale\":[[0.0,\"#0d0887\"],[0.1111111111111111,\"#46039f\"],[0.2222222222222222,\"#7201a8\"],[0.3333333333333333,\"#9c179e\"],[0.4444444444444444,\"#bd3786\"],[0.5555555555555556,\"#d8576b\"],[0.6666666666666666,\"#ed7953\"],[0.7777777777777778,\"#fb9f3a\"],[0.8888888888888888,\"#fdca26\"],[1.0,\"#f0f921\"]],\"type\":\"surface\"}],\"table\":[{\"cells\":{\"fill\":{\"color\":\"#EBF0F8\"},\"line\":{\"color\":\"white\"}},\"header\":{\"fill\":{\"color\":\"#C8D4E3\"},\"line\":{\"color\":\"white\"}},\"type\":\"table\"}]},\"layout\":{\"annotationdefaults\":{\"arrowcolor\":\"#2a3f5f\",\"arrowhead\":0,\"arrowwidth\":1},\"autotypenumbers\":\"strict\",\"coloraxis\":{\"colorbar\":{\"outlinewidth\":0,\"ticks\":\"\"}},\"colorscale\":{\"diverging\":[[0,\"#8e0152\"],[0.1,\"#c51b7d\"],[0.2,\"#de77ae\"],[0.3,\"#f1b6da\"],[0.4,\"#fde0ef\"],[0.5,\"#f7f7f7\"],[0.6,\"#e6f5d0\"],[0.7,\"#b8e186\"],[0.8,\"#7fbc41\"],[0.9,\"#4d9221\"],[1,\"#276419\"]],\"sequential\":[[0.0,\"#0d0887\"],[0.1111111111111111,\"#46039f\"],[0.2222222222222222,\"#7201a8\"],[0.3333333333333333,\"#9c179e\"],[0.4444444444444444,\"#bd3786\"],[0.5555555555555556,\"#d8576b\"],[0.6666666666666666,\"#ed7953\"],[0.7777777777777778,\"#fb9f3a\"],[0.8888888888888888,\"#fdca26\"],[1.0,\"#f0f921\"]],\"sequentialminus\":[[0.0,\"#0d0887\"],[0.1111111111111111,\"#46039f\"],[0.2222222222222222,\"#7201a8\"],[0.3333333333333333,\"#9c179e\"],[0.4444444444444444,\"#bd3786\"],[0.5555555555555556,\"#d8576b\"],[0.6666666666666666,\"#ed7953\"],[0.7777777777777778,\"#fb9f3a\"],[0.8888888888888888,\"#fdca26\"],[1.0,\"#f0f921\"]]},\"colorway\":[\"#636efa\",\"#EF553B\",\"#00cc96\",\"#ab63fa\",\"#FFA15A\",\"#19d3f3\",\"#FF6692\",\"#B6E880\",\"#FF97FF\",\"#FECB52\"],\"font\":{\"color\":\"#2a3f5f\"},\"geo\":{\"bgcolor\":\"white\",\"lakecolor\":\"white\",\"landcolor\":\"#E5ECF6\",\"showlakes\":true,\"showland\":true,\"subunitcolor\":\"white\"},\"hoverlabel\":{\"align\":\"left\"},\"hovermode\":\"closest\",\"mapbox\":{\"style\":\"light\"},\"paper_bgcolor\":\"white\",\"plot_bgcolor\":\"#E5ECF6\",\"polar\":{\"angularaxis\":{\"gridcolor\":\"white\",\"linecolor\":\"white\",\"ticks\":\"\"},\"bgcolor\":\"#E5ECF6\",\"radialaxis\":{\"gridcolor\":\"white\",\"linecolor\":\"white\",\"ticks\":\"\"}},\"scene\":{\"xaxis\":{\"backgroundcolor\":\"#E5ECF6\",\"gridcolor\":\"white\",\"gridwidth\":2,\"linecolor\":\"white\",\"showbackground\":true,\"ticks\":\"\",\"zerolinecolor\":\"white\"},\"yaxis\":{\"backgroundcolor\":\"#E5ECF6\",\"gridcolor\":\"white\",\"gridwidth\":2,\"linecolor\":\"white\",\"showbackground\":true,\"ticks\":\"\",\"zerolinecolor\":\"white\"},\"zaxis\":{\"backgroundcolor\":\"#E5ECF6\",\"gridcolor\":\"white\",\"gridwidth\":2,\"linecolor\":\"white\",\"showbackground\":true,\"ticks\":\"\",\"zerolinecolor\":\"white\"}},\"shapedefaults\":{\"line\":{\"color\":\"#2a3f5f\"}},\"ternary\":{\"aaxis\":{\"gridcolor\":\"white\",\"linecolor\":\"white\",\"ticks\":\"\"},\"baxis\":{\"gridcolor\":\"white\",\"linecolor\":\"white\",\"ticks\":\"\"},\"bgcolor\":\"#E5ECF6\",\"caxis\":{\"gridcolor\":\"white\",\"linecolor\":\"white\",\"ticks\":\"\"}},\"title\":{\"x\":0.05},\"xaxis\":{\"automargin\":true,\"gridcolor\":\"white\",\"linecolor\":\"white\",\"ticks\":\"\",\"title\":{\"standoff\":15},\"zerolinecolor\":\"white\",\"zerolinewidth\":2},\"yaxis\":{\"automargin\":true,\"gridcolor\":\"white\",\"linecolor\":\"white\",\"ticks\":\"\",\"title\":{\"standoff\":15},\"zerolinecolor\":\"white\",\"zerolinewidth\":2}}},\"title\":{\"text\":\"\\u041a\\u043e\\u043d\\u0432\\u0435\\u0440\\u0441\\u0438\\u044f \\u043f\\u043e\\u043b\\u044c\\u0437\\u043e\\u0432\\u0430\\u0442\\u0435\\u043b\\u0435\\u0439 (\\u043f\\u043e\\u0441\\u043b\\u0435\\u0434\\u043e\\u0432\\u0430\\u0442\\u0435\\u043b\\u044c\\u043d\\u043e) \\u0432 \\u0433\\u0440\\u0443\\u043f\\u043f\\u0435 \\u0412\"}},                        {\"responsive\": true}                    ).then(function(){\n",
              "                            \n",
              "var gd = document.getElementById('bb3a114e-0b36-4200-9c82-07d39fa4d078');\n",
              "var x = new MutationObserver(function (mutations, observer) {{\n",
              "        var display = window.getComputedStyle(gd).display;\n",
              "        if (!display || display === 'none') {{\n",
              "            console.log([gd, 'removed!']);\n",
              "            Plotly.purge(gd);\n",
              "            observer.disconnect();\n",
              "        }}\n",
              "}});\n",
              "\n",
              "// Listen for the removal of the full notebook cells\n",
              "var notebookContainer = gd.closest('#notebook-container');\n",
              "if (notebookContainer) {{\n",
              "    x.observe(notebookContainer, {childList: true});\n",
              "}}\n",
              "\n",
              "// Listen for the clearing of the current output cell\n",
              "var outputEl = gd.closest('.output');\n",
              "if (outputEl) {{\n",
              "    x.observe(outputEl, {childList: true});\n",
              "}}\n",
              "\n",
              "                        })                };                            </script>        </div>\n",
              "</body>\n",
              "</html>"
            ]
          },
          "metadata": {}
        }
      ],
      "source": [
        "user_events_by_steps(events_groups[events_groups['group'] == 'A'], 'Конверсия пользователей (последовательно) в группе В')"
      ]
    },
    {
      "cell_type": "markdown",
      "metadata": {
        "id": "TjXm16TCvfON"
      },
      "source": [
        "Количество пользователей, которые последователно проходили все этапы сайта последовательно, не очень большое - следовательно,  на страницу оплаты можно попасть другими способами - с других страниц сайта или стронних ресурсов (из директа, например).    \n",
        "Из группы А шаг за шагом до оплаты не дошел ни один пользователь. Из группы В только один. В анализе мы будем рассматривать всех пользователей, вне зависиости от их пути на сайте."
      ]
    },
    {
      "cell_type": "markdown",
      "metadata": {
        "id": "6wxm6TEzv9F6"
      },
      "source": [
        "### Анализ распределения количества событий на пользователя в выборках<a id=\"distribution\"></a>"
      ]
    },
    {
      "cell_type": "code",
      "execution_count": 30,
      "metadata": {
        "colab": {
          "base_uri": "https://localhost:8080/"
        },
        "id": "d3vGyDmgwPNQ",
        "outputId": "4ce4d7b3-27ce-4b80-ccfe-5a4b88c30324"
      },
      "outputs": [
        {
          "output_type": "execute_result",
          "data": {
            "text/plain": [
              "array(['recommender_system_test', 'interface_eu_test'], dtype=object)"
            ]
          },
          "metadata": {},
          "execution_count": 30
        }
      ],
      "source": [
        "# Проверим сколько уникальных тестов было проведено\n",
        "final_ab_participants['ab_test'].unique()"
      ]
    },
    {
      "cell_type": "markdown",
      "metadata": {
        "id": "j20k5EfowgRW"
      },
      "source": [
        "Было проведено 2 теста recommender_system_test и interface_eu_test"
      ]
    },
    {
      "cell_type": "code",
      "execution_count": 31,
      "metadata": {
        "id": "ojS5hBYPwaX3"
      },
      "outputs": [],
      "source": [
        "# Создадим датасет с тестом рекомендательной системы (recommender_system_test)\n",
        "recommender_system_test = final_ab_participants[final_ab_participants['ab_test'] == 'recommender_system_test'].copy()\n",
        "#display(recommender_system_test.head())"
      ]
    },
    {
      "cell_type": "code",
      "execution_count": 32,
      "metadata": {
        "id": "dEbI95TuwzK_"
      },
      "outputs": [],
      "source": [
        "# Разделим recommender_system_test на группы А и В\n",
        "group_a = recommender_system_test[recommender_system_test['group'] == 'A'].drop('ab_test', axis=1)\n",
        "group_b = recommender_system_test[recommender_system_test['group'] == 'B'].drop('ab_test', axis=1)"
      ]
    },
    {
      "cell_type": "code",
      "execution_count": 33,
      "metadata": {
        "id": "cfjZrA_aw-sk"
      },
      "outputs": [],
      "source": [
        "# Подсчитаем чило событий для каждого пользователя\n",
        "user_events_count = final_ab_events.groupby('user_id').agg({'event_name':'count'})\n",
        "#display(user_events_count.head())"
      ]
    },
    {
      "cell_type": "code",
      "execution_count": 34,
      "metadata": {
        "id": "EbtThTzzxQl9"
      },
      "outputs": [],
      "source": [
        "# Объеним группы теста и число событий каждого пользователя\n",
        "group_a_user_events = user_events_count.merge(group_a, how='inner', on='user_id')\n",
        "group_b_user_events = user_events_count.merge(group_b, how='inner', on='user_id')\n",
        "# Объеденим группы в один датасет\n",
        "group_user_events = pd.concat([group_a_user_events, group_b_user_events])"
      ]
    },
    {
      "cell_type": "code",
      "execution_count": 35,
      "metadata": {
        "colab": {
          "base_uri": "https://localhost:8080/",
          "height": 542
        },
        "id": "9DzrvSnuxxU9",
        "outputId": "07a3241f-0c6e-40fa-e01d-e829df135487"
      },
      "outputs": [
        {
          "output_type": "display_data",
          "data": {
            "text/html": [
              "<html>\n",
              "<head><meta charset=\"utf-8\" /></head>\n",
              "<body>\n",
              "    <div>            <script src=\"https://cdnjs.cloudflare.com/ajax/libs/mathjax/2.7.5/MathJax.js?config=TeX-AMS-MML_SVG\"></script><script type=\"text/javascript\">if (window.MathJax) {MathJax.Hub.Config({SVG: {font: \"STIX-Web\"}});}</script>                <script type=\"text/javascript\">window.PlotlyConfig = {MathJaxConfig: 'local'};</script>\n",
              "        <script src=\"https://cdn.plot.ly/plotly-2.8.3.min.js\"></script>                <div id=\"40fec8d8-d9ab-4a05-ba4f-e5038a09a04e\" class=\"plotly-graph-div\" style=\"height:525px; width:100%;\"></div>            <script type=\"text/javascript\">                                    window.PLOTLYENV=window.PLOTLYENV || {};                                    if (document.getElementById(\"40fec8d8-d9ab-4a05-ba4f-e5038a09a04e\")) {                    Plotly.newPlot(                        \"40fec8d8-d9ab-4a05-ba4f-e5038a09a04e\",                        [{\"alignmentgroup\":\"True\",\"bingroup\":\"x\",\"hovertemplate\":\"group=A<br>event_name=%{x}<br>count=%{y}<extra></extra>\",\"legendgroup\":\"A\",\"marker\":{\"color\":\"#636efa\",\"pattern\":{\"shape\":\"\"}},\"name\":\"A\",\"offsetgroup\":\"A\",\"orientation\":\"v\",\"showlegend\":true,\"x\":[12,2,15,5,6,20,2,9,9,9,4,9,4,8,6,4,12,6,9,1,2,8,8,9,9,6,6,4,10,6,9,8,4,4,12,6,8,9,8,15,12,10,4,8,4,8,5,3,8,9,10,8,3,6,9,6,3,12,2,6,12,3,4,8,6,2,9,4,4,3,8,6,5,9,6,8,6,4,10,6,12,9,3,9,9,8,4,12,10,9,9,6,3,9,12,15,6,12,6,6,8,16,9,2,9,12,15,15,6,4,9,5,6,4,3,6,4,4,8,4,10,3,6,10,8,15,6,9,2,8,3,9,4,8,12,9,2,6,10,8,9,12,4,9,8,8,6,6,10,6,9,4,3,6,4,4,4,5,15,3,6,1,4,3,8,6,8,10,12,20,6,4,4,8,9,2,8,6,6,4,6,4,10,2,6,10,9,2,6,8,4,5,8,12,8,4,10,6,4,3,4,10,12,6,12,12,4,9,10,4,9,3,6,2,6,6,15,2,3,12,2,12,3,16,6,15,8,12,10,8,6,9,3,9,12,3,6,6,12,4,4,8,4,4,6,6,10,12,3,4,6,6,6,9,6,6,9,4,2,12,2,3,6,6,9,20,3,4,20,15,6,8,3,12,6,8,16,8,9,4,4,4,9,8,6,6,8,16,6,20,15,2,8,12,6,16,6,4,4,8,10,9,9,2,4,4,6,24,9,6,6,4,3,9,3,3,4,12,6,2,8,6,9,9,4,12,6,1,6,10,12,12,6,2,4,4,9,2,8,9,1,6,12,4,2,9,8,3,9,4,18,8,6,15,2,9,6,3,9,4,12,6,2,3,9,6,5,3,6,2,6,4,8,4,8,8,6,6,8,6,10,12,4,9,4,1,6,6,4,8,9,16,9,9,8,2,3,3,15,15,2,4,3,8,3,6,2,1,4,9,15,6,8,3,12,4,6,9,6,12,12,8,9,4,3,8,9,12,4,9,9,3,4,8,10,9,6,6,12,8,6,6,4,6,15,8,12,3,8,2,4,15,8,6,6,12,6,4,6,12,8,10,20,4,6,6,8,6,4,8,3,2,6,4,3,5,8,12,10,5,9,6,6,6,6,6,6,4,12,6,12,4,4,3,6,6,3,6,20,12,6,6,12,6,9,3,9,8,6,15,6,8,6,8,8,3,6,10,3,9,6,2,15,3,12,6,9,6,15,8,6,4,4,9,8,15,6,5,6,6,8,4,12,8,9,9,15,2,3,6,6,4,8,12,6,8,2,5,8,12,8,3,5,8,12,6,4,4,4,4,10,6,12,9,10,6,9,6,4,2,15,1,15,4,8,6,12,3,9,12,6,8,5,9,16,5,10,15,4,12,12,6,18,2,6,6,2,6,4,4,8,8,12,12,2,3,12,20,3,6,2,8,1,4,4,4,2,6,12,6,4,8,16,3,5,4,4,3,4,9,3,8,8,15,3,6,4,1,4,12,6,12,4,6,9,4,12,3,9,12,9,12,6,8,6,9,8,6,2,3,6,6,6,12,8,12,9,9,6,3,6,6,6,6,3,9,4,12,4,6,14,2,12,8,2,6,18,6,9,3,2,2,9,8,8,4,4,8,4,4,6,1,2,12,1,12,12,6,15,4,8,8,3,6,3,4,2,8,6,12,4,6,8,6,2,15,3,3,6,8,15,4,9,9,8,9,2,2,6,4,6,3,16,9,2,2,6,15,6,8,9,6,8,9,12,3,9,2,9,4,9,8,7,8,16,12,1,4,6,10,12,4,3,15,3,6,15,8,6,20,6,4,6,12,12,6,16,6,3,2,8,4,8,9,8,4,9,9,10,6,4,12,4,4,4,5,9,6,9,9,6,3,2,12,8,3,9,5,12,4,12,2,9,6,4,10,12,5,3,8,4,12,12,2,12,4,4,8,6,12,4,10,12,6,2,4,9,4,12,4,6,6,2,10,12,12,15,2,6,6,4,6,15,5,6,6,2,4,9,12,4,3,4,4,10,4,4,2,2,6,12,6,6,6,9,4,2,3,8,2,6,6,6,6,4,4,6,4,2,6,9,9,4,12,10,4,8,9,8,4,12,6,3,4,2,6,16,9,12,12,6,1,10,8,4,6,4,12,8,8,3,4,12,1,9,4,12,8,4,2,9,4,6,10,6,9,9,8,9,3,9,6,12,1,9,6,1,12,3,6,8,2,9,8,9,6,2,6,3,8,3,5,4,8,8,4,4,12,6,10,10,8,12,12,9,8,4,3,15,3,6,2,4,8,10,18,3,6,10,4,8,8,8,3,3,9,2,8,8,9,15,14,6,8,6,4,6,3,4,8,4,12,14,6,12,8,12,4,9,12,8,6,12,3,6,3,12,2,4,4,8,4,12,18,9,4,2,8,6,5,10,16,9,4,8,4,6,4,2,6,12,2,8,12,12,6,6,12,6,4,9,6,12,2,3,8,6,8,6,6,3,4,4,4,6,15,4,16,4,3,6,3,10,4,9,4,2,12,8,6,6,9,12,6,4,12,9,3,4,4,15,8,9,6,9,8,4,2,6,4,12,2,4,2,6,3,6,3,6,4,10,4,3,9,6,20,10,12,3,2,6,12,6,6,15,6,12,8,9,10,10,5,6,9,2,9,8,1,4,3,6,9,9,6,8,21,2,3,2,15,12,2,3,2,18,10,6,9,5,6,9,8,6,4,9,8,2,3,8,3,6,6,2,6,5,4,18,12,4,14,8,9,3,9,6,8,4,6,6,10,12,5,12,20,9,9,4,9,5,3,12,4,3,6,9,8,12,9,12,3,8,12,3,9,6,15,6,9,14,3,3,3,2,3,4,8,2,4,6,3,4,3,6,9,6,4,11,6,12,6,20,10,3,6,9,1,15,6,5,8,14,6,12,15,2,12,9,4,10,12,12,4,3,6,4,20,9,6,12,8,3,3,2,8,6,3,2,6,6,12,10,2,2,4,8,6,6,2,4,6,6,3,4,3,10,6,9,12,6,4,8,1,6,4,2,2,14,2,6,4,8,6,1,6,3,8,2,4,3,4,6,4,4,4,6,12,9,9,12,2,6,3,10,6,6,10,3,4,4,9,12,4,12,3,3,4,8,12,2,4,8,6,8,4,4,8,4,10,20,8,4,1,10,8,6,6,9,20,6,4,9,12,10,6,3,4,4,3,3,4,12,2,12,2,9,6,6,6,2,12,6,12,2,6,4,18,9,6,10,8,4,6,6,3,6,16,16,4,3,8,16,12,12,3,10,14,9,6,8,10,3,3,4,8,2,4,12,2,4,8,4,2,6,3,8,4,8,4,2,6,6,4,6,3,4,5,18,9,8,1,4,10,4,9,3,8,9,9,6,8,9,2,4,3,6,2,6,12,3,12,12,6,8,18,4,6,6,1,8,2,3,3,8,3,12,16,13,6,4,12,4,12,4,15,8,2,4,12,4,4,8,12,6,10,9,2,4,6,6,9,1,8,8,9,8,6,4,2,12,16,6,9,3,6,3,3,8,9,4,6,9,6,9,9,10,6,4,4,9,6,6,8,6,6,2,4,6,8,3,2,6,4,6,4,6,2,9,2,2,3,8,4,4,9,8,4,4,9,6,12,9,20,9,6,4,2,6,3,12,9,6,4,15,5,18,9,4,2,6,9,12,12,6,4,6,12,9,9,15,8,15,19,3,3,6,4,16,12,4,4,9,10,3,12,6,6,12,9,10,10,6,6,4,5,16,6,4,8,9,6,4,9,3,12,6,4,2,9,4,8,8,6,5,2,4,12,6,4,6,3,4,3,6,3,3,6,15,12,4,6,6,9,10,6,2,10,4,6,8,10,15,8,3,5,6,15,2,2,6,4,6,1,2,6,12,12,6,4,9,6,4,18,10,6,9,4,6,2,20,6,2,6,12,6,20,6,9,4,8,15,15,4,18,11,8,6,4,8,4,9,18,4,4,9,10,10,15,6,8,3,4,14,8,3,6,6,12,15,1,6,9,8,8,6,4,6,3,15,6,6,4,4,4,14,6,4,9,2,6,6,12,6,3,6,10,15,6,4,4,9,20,16,10,4,4,2,8,8,12,12,6,6,16,16,9,6,6,12,8,2,3,9,10,6,4,2,6,10,6,12,12,2,6,6,8,6,16,8,6,12,10,10,4,2,3,6,4,8,12,6,20,8,8,9,12,8,6,16,9,4,3,5,6,3,4,9,6,4,6,9,6,12,12,10,15,4,9,6,6,10,6,2,4,8,10,10,3,5,1,10,6,5,8,8,3,12,6,12,6,9,8,2,9,15,8,4,6,9,2,3,15,6,2,3,6,6,4,4,6,4,3,6,6,8,10,15,3,4,4,6,9,14,8,12,6,6,3,6,15,4,6,6,15,6,10,6,4,4,9,12,2,2,8,6,8,2,8,4,4,3,12,10,15,5,4,9,12,3,4,8,9,4,4,12,3,2,3,6,10,4,6,15,4,4,2,4,15,15,15,3,2,8,4,8,9,8,12,8,15,21,4,8,6,6,12,8,8,6,4,6,15,9,12,16,4,6,8,8,6,8,20,18,8,12,8,6,4,6,4,5,8,4,4,8,4,5,9,10,12,4,4,4,6,4,4,1,3,8,8,6,15,8,10,4,8,8,4,3,9,9,6,12,8,6,6,6,12,3,4,6,3,6,6,6,6,4,20,6,4,18,6,6,4,5,6,8,3,20,9,15,8,6,9,6,4,2,4,8,6,6,2,2,6,4,6,9,3,8,3,4,4,9,2,8,9,6,3,6,9,6,6,9,6,16,8,12,8,3,4,8,9,12,9,4,9,1,6,8,6,9,4,6,6,8,2,2,9,9,12,2,6,16,9,4,6,3,6,12,2,8,3,6,3,18,6,12,6,4,6,12,8,8,2,3,12,6,4,12,2,6,6,6,8,6,9,6,10,12,1,3,8,10,6,12,8,2,4,9,4,12,4,4,6,9,1,6,12,8,2,4,12,18,6,8,12,14,9,8,4,15,6,6,3,1,4,8,12,12,6,6,24,6,8,6,2,8,6,9,6,4,5,3,6,6,2,8,4,6,9,6,2,9,8,9,2,12,4,6,6,6,6,6,8,8,2,1,2,4,8,4,6,12,1,4,2,2,9,5,12,12,3,9,6,6,12,6,6,4,6,6,2,6,8,4,6,12,12,10,2,2,4,8,4,12,6,6,3,12,9,12,2,6,15,6,3,10,2,4,5,12,4,12,4,6,10,2,8,15,6,12,4,2,6,6,4,12,15,4,6,12,16,6,12,4,4,6,18,4,6,9,4,3,6,8,15,6,16,12,6,2,8,4,3,4,8,6,8,8,10,9,6,9,3,15,6,12,6,4,6,12,6,6,4,8,4,12,12,1,6,6,6,4,4,6,6,12,6,9,4,3,6,6,12,2,9,8,12,16,8,4,10,3,6,6,12,8,3,6,4,3,4,15,4,6,12,6,20,6,6,12,6,12,3,6,6,4,2,3,2,4,3,18,4,2,3,6,4,8,6,6,4,6,2,1,4,9,2,8,12,10,4,2,8,9,16,9,3,4,4,8,6,4,6,3,8,3,8,6,3,2,6,3,6,3,3,15,6,9,9,4,8,9,2,4,6,3,2,5,6,2,18,3,6,8,9,9,12,9,6,6,6,8,6,3,6,9,6,6,3,6,6,8,6,6,6,3,9,4,2,6,12,2,4,2,6,4,6,4,3,2,15,6,4,6,6,2,8,9,6,12,6,6,9,6,6,9,2,2,4,4,8,6,9,8,6,8,10,6,9,6,6,2,6,2,9,8,8,8,3,2,9,6,3,12,15,3,10,10,4,12,12,12,12,9,9,6,17,8,15,2,4,3,3,4,3,8,5,1,9,6,8,4,9,4,4,4,4,8,4,9,6,9,6,6,6,9,6,15,6,12,8,10,9,9,6,8,2,2,3,8,2,8,6,6,6,10,8,4,8,4,3,3,6,6,4,3,8,4,8,14,10,20,12,4,6,9,9,4,4,12,8,6,12,6,12,12,15,2,8,8,20,6,12,3,8,6,6,9,8,9,4,6,6,2,6,9,12,6,6,12,3,4,2,1,6,4,4,8,4,6,8,8,8,4,6,9,12,2,8,6,3,16,12,3,3,4,8,3,6,1,9,6,9,12,6,9,10,6,4,4,4,12,6,10,9,8,6],\"xaxis\":\"x\",\"yaxis\":\"y\",\"type\":\"histogram\"},{\"alignmentgroup\":\"True\",\"bingroup\":\"x\",\"hovertemplate\":\"group=B<br>event_name=%{x}<br>count=%{y}<extra></extra>\",\"legendgroup\":\"B\",\"marker\":{\"color\":\"#EF553B\",\"pattern\":{\"shape\":\"\"}},\"name\":\"B\",\"offsetgroup\":\"B\",\"orientation\":\"v\",\"showlegend\":true,\"x\":[6,4,6,2,12,5,6,8,3,2,5,6,8,3,3,2,3,6,2,3,3,4,4,8,6,12,9,2,6,7,9,2,4,1,2,12,9,12,9,6,3,5,2,4,6,9,12,3,6,4,6,6,27,10,28,2,12,4,4,10,4,6,6,5,6,6,9,3,8,2,3,6,10,3,9,6,9,6,6,4,8,4,1,3,4,5,9,3,8,4,4,9,9,4,9,2,2,9,6,3,4,8,3,9,9,4,4,5,1,4,6,5,4,6,6,4,6,8,8,3,4,4,4,9,4,6,12,3,2,9,6,2,3,6,4,4,9,2,6,12,4,4,4,6,10,2,3,4,2,15,6,6,4,12,12,10,20,3,4,4,1,4,6,8,4,5,8,4,6,3,8,9,4,2,4,8,7,6,6,6,3,6,4,3,2,2,6,9,4,8,8,10,16,10,9,3,6,6,4,6,3,9,3,3,6,12,8,6,8,3,3,4,4,11,2,6,6,2,12,9,1,4,12,2,2,6,2,4,4,3,4,9,6,10,2,4,4,4,4,6,4,4,12,6,2,4,4,6,2,6,2,10,2,4,9,4,3,4,8,5,9,4,4,15,4,4,8,4,6,4,4,6,4,8,2,3,4,12,2,5,20,2,4,6,8,4,6,8,4,4,3,2,8,2,8,4,12,4,10,3,6,6,6,1,8,9,12,2,8,3,12,9,2,9,2,2,4,8,4,12,6,6,4,4,2,6,5,12,4,6,3,12,8,4,6,6,6,9,4,6,3,4,3,4,3,3,10,15,6,9,2,6,2,8,15,4,10,3,9,3,9,14,8,4,3,2,2,15,2,6,3,4,6,10,6,3,2,5,1,4,6,4,2,9,3,6,6,6,6,9,3,4,15,12,12,6,9,6,3,6,9,8,6,12,8,12,5,2,6,8,2,12,12,6,9,9,2,4,12,10,8,9,5,10,12,3,4,8,4,4,2,2,3,2,2,8,4,12,3,6,3,8,4,15,4,6,12,9,20,9,4,4,4,10,6,4,11,2,6,3,12,2,4,3,2,6,8,3,8,6,3,2,6,6,10,9,1,6,6,2,8,2,8,12,9,5,6,21,10,3,8,4,9,4,9,3,2,4,4,3,12,4,6,12,3,3,6,3,2,2,8,4,8,13,7,2,12,2,3,8,4,6,4,2,8,1,3,10,6,6,6,12,6,2,4,3,1,5,8,3,2,4,4,12,9,6,6,4,4,4,3,4,8,3,4,8,3,3,3,8,4,6,10,3,2,6,6,6,6,6,2,6,16,3,2,4,6,8,12,4,2,8,6,3,12,3,10,6,6,4,8,9,3,4,8,3,3,6,8,6,6,3,6,4,4,6,5,4,3,3,2,6,6,16,6,4,8,4,4,2,4,6,2,6,6,6,3,3,8,3,12,6,3,4,3,18,3,10,4,2,6,6,2,8,1,4,4,1,12,6,11,4,9,3,12,3,8,12,2,6,8,9,6,2,3,2,8,6,2,8,2,6,3,3,6,4,4,4,8,6,9,3,3,4,6,4,2,2,9,4,3,6,4,3,9,3,2,6,4,4,4,9,10,9,18,4,3,4,4,6,6,3,2,6,3,9,3,4,6,3,3,13,6,18,6,3,4,9,4,6,6,4,6,5,4,10,6,8,2,12,3,3,8,6,4,4,3,4,2,8,2,6,4,12,3,2,10,10,8,1,2,6,14,3,4,4,6,4,3,3,2,2,3,6,9,10,9,6,6,12,4,4,9,8,8,6,6,6,6,10,12,1,9,2,6,2,12,1,3,12,2,12,6,8,9,5,4,8,2,8,4,4,2,4,6,4,8,2,6,8,4,4,6,2,8,3,5,6,8,2,3,3,8,8,2,9,3,12,6,15,6,8,1,1,6,6,4,6,8,3,6,6,8,4,10,9,5,9,6,8,10,10,3,6,9,6,3,6,4,3,4,4,6,2,4,8,12,4,3,1,6,6,3,7,6,6,6,5,2,2,9,3,3,12,2,4,2,2,4,4,5,4,4,8,4,2,6,12,6,6,1,2,14,6,8,9,4,4,4,6,6,6,2,20,2,3,4,9],\"xaxis\":\"x\",\"yaxis\":\"y\",\"type\":\"histogram\"}],                        {\"template\":{\"data\":{\"bar\":[{\"error_x\":{\"color\":\"#2a3f5f\"},\"error_y\":{\"color\":\"#2a3f5f\"},\"marker\":{\"line\":{\"color\":\"#E5ECF6\",\"width\":0.5},\"pattern\":{\"fillmode\":\"overlay\",\"size\":10,\"solidity\":0.2}},\"type\":\"bar\"}],\"barpolar\":[{\"marker\":{\"line\":{\"color\":\"#E5ECF6\",\"width\":0.5},\"pattern\":{\"fillmode\":\"overlay\",\"size\":10,\"solidity\":0.2}},\"type\":\"barpolar\"}],\"carpet\":[{\"aaxis\":{\"endlinecolor\":\"#2a3f5f\",\"gridcolor\":\"white\",\"linecolor\":\"white\",\"minorgridcolor\":\"white\",\"startlinecolor\":\"#2a3f5f\"},\"baxis\":{\"endlinecolor\":\"#2a3f5f\",\"gridcolor\":\"white\",\"linecolor\":\"white\",\"minorgridcolor\":\"white\",\"startlinecolor\":\"#2a3f5f\"},\"type\":\"carpet\"}],\"choropleth\":[{\"colorbar\":{\"outlinewidth\":0,\"ticks\":\"\"},\"type\":\"choropleth\"}],\"contour\":[{\"colorbar\":{\"outlinewidth\":0,\"ticks\":\"\"},\"colorscale\":[[0.0,\"#0d0887\"],[0.1111111111111111,\"#46039f\"],[0.2222222222222222,\"#7201a8\"],[0.3333333333333333,\"#9c179e\"],[0.4444444444444444,\"#bd3786\"],[0.5555555555555556,\"#d8576b\"],[0.6666666666666666,\"#ed7953\"],[0.7777777777777778,\"#fb9f3a\"],[0.8888888888888888,\"#fdca26\"],[1.0,\"#f0f921\"]],\"type\":\"contour\"}],\"contourcarpet\":[{\"colorbar\":{\"outlinewidth\":0,\"ticks\":\"\"},\"type\":\"contourcarpet\"}],\"heatmap\":[{\"colorbar\":{\"outlinewidth\":0,\"ticks\":\"\"},\"colorscale\":[[0.0,\"#0d0887\"],[0.1111111111111111,\"#46039f\"],[0.2222222222222222,\"#7201a8\"],[0.3333333333333333,\"#9c179e\"],[0.4444444444444444,\"#bd3786\"],[0.5555555555555556,\"#d8576b\"],[0.6666666666666666,\"#ed7953\"],[0.7777777777777778,\"#fb9f3a\"],[0.8888888888888888,\"#fdca26\"],[1.0,\"#f0f921\"]],\"type\":\"heatmap\"}],\"heatmapgl\":[{\"colorbar\":{\"outlinewidth\":0,\"ticks\":\"\"},\"colorscale\":[[0.0,\"#0d0887\"],[0.1111111111111111,\"#46039f\"],[0.2222222222222222,\"#7201a8\"],[0.3333333333333333,\"#9c179e\"],[0.4444444444444444,\"#bd3786\"],[0.5555555555555556,\"#d8576b\"],[0.6666666666666666,\"#ed7953\"],[0.7777777777777778,\"#fb9f3a\"],[0.8888888888888888,\"#fdca26\"],[1.0,\"#f0f921\"]],\"type\":\"heatmapgl\"}],\"histogram\":[{\"marker\":{\"pattern\":{\"fillmode\":\"overlay\",\"size\":10,\"solidity\":0.2}},\"type\":\"histogram\"}],\"histogram2d\":[{\"colorbar\":{\"outlinewidth\":0,\"ticks\":\"\"},\"colorscale\":[[0.0,\"#0d0887\"],[0.1111111111111111,\"#46039f\"],[0.2222222222222222,\"#7201a8\"],[0.3333333333333333,\"#9c179e\"],[0.4444444444444444,\"#bd3786\"],[0.5555555555555556,\"#d8576b\"],[0.6666666666666666,\"#ed7953\"],[0.7777777777777778,\"#fb9f3a\"],[0.8888888888888888,\"#fdca26\"],[1.0,\"#f0f921\"]],\"type\":\"histogram2d\"}],\"histogram2dcontour\":[{\"colorbar\":{\"outlinewidth\":0,\"ticks\":\"\"},\"colorscale\":[[0.0,\"#0d0887\"],[0.1111111111111111,\"#46039f\"],[0.2222222222222222,\"#7201a8\"],[0.3333333333333333,\"#9c179e\"],[0.4444444444444444,\"#bd3786\"],[0.5555555555555556,\"#d8576b\"],[0.6666666666666666,\"#ed7953\"],[0.7777777777777778,\"#fb9f3a\"],[0.8888888888888888,\"#fdca26\"],[1.0,\"#f0f921\"]],\"type\":\"histogram2dcontour\"}],\"mesh3d\":[{\"colorbar\":{\"outlinewidth\":0,\"ticks\":\"\"},\"type\":\"mesh3d\"}],\"parcoords\":[{\"line\":{\"colorbar\":{\"outlinewidth\":0,\"ticks\":\"\"}},\"type\":\"parcoords\"}],\"pie\":[{\"automargin\":true,\"type\":\"pie\"}],\"scatter\":[{\"marker\":{\"colorbar\":{\"outlinewidth\":0,\"ticks\":\"\"}},\"type\":\"scatter\"}],\"scatter3d\":[{\"line\":{\"colorbar\":{\"outlinewidth\":0,\"ticks\":\"\"}},\"marker\":{\"colorbar\":{\"outlinewidth\":0,\"ticks\":\"\"}},\"type\":\"scatter3d\"}],\"scattercarpet\":[{\"marker\":{\"colorbar\":{\"outlinewidth\":0,\"ticks\":\"\"}},\"type\":\"scattercarpet\"}],\"scattergeo\":[{\"marker\":{\"colorbar\":{\"outlinewidth\":0,\"ticks\":\"\"}},\"type\":\"scattergeo\"}],\"scattergl\":[{\"marker\":{\"colorbar\":{\"outlinewidth\":0,\"ticks\":\"\"}},\"type\":\"scattergl\"}],\"scattermapbox\":[{\"marker\":{\"colorbar\":{\"outlinewidth\":0,\"ticks\":\"\"}},\"type\":\"scattermapbox\"}],\"scatterpolar\":[{\"marker\":{\"colorbar\":{\"outlinewidth\":0,\"ticks\":\"\"}},\"type\":\"scatterpolar\"}],\"scatterpolargl\":[{\"marker\":{\"colorbar\":{\"outlinewidth\":0,\"ticks\":\"\"}},\"type\":\"scatterpolargl\"}],\"scatterternary\":[{\"marker\":{\"colorbar\":{\"outlinewidth\":0,\"ticks\":\"\"}},\"type\":\"scatterternary\"}],\"surface\":[{\"colorbar\":{\"outlinewidth\":0,\"ticks\":\"\"},\"colorscale\":[[0.0,\"#0d0887\"],[0.1111111111111111,\"#46039f\"],[0.2222222222222222,\"#7201a8\"],[0.3333333333333333,\"#9c179e\"],[0.4444444444444444,\"#bd3786\"],[0.5555555555555556,\"#d8576b\"],[0.6666666666666666,\"#ed7953\"],[0.7777777777777778,\"#fb9f3a\"],[0.8888888888888888,\"#fdca26\"],[1.0,\"#f0f921\"]],\"type\":\"surface\"}],\"table\":[{\"cells\":{\"fill\":{\"color\":\"#EBF0F8\"},\"line\":{\"color\":\"white\"}},\"header\":{\"fill\":{\"color\":\"#C8D4E3\"},\"line\":{\"color\":\"white\"}},\"type\":\"table\"}]},\"layout\":{\"annotationdefaults\":{\"arrowcolor\":\"#2a3f5f\",\"arrowhead\":0,\"arrowwidth\":1},\"autotypenumbers\":\"strict\",\"coloraxis\":{\"colorbar\":{\"outlinewidth\":0,\"ticks\":\"\"}},\"colorscale\":{\"diverging\":[[0,\"#8e0152\"],[0.1,\"#c51b7d\"],[0.2,\"#de77ae\"],[0.3,\"#f1b6da\"],[0.4,\"#fde0ef\"],[0.5,\"#f7f7f7\"],[0.6,\"#e6f5d0\"],[0.7,\"#b8e186\"],[0.8,\"#7fbc41\"],[0.9,\"#4d9221\"],[1,\"#276419\"]],\"sequential\":[[0.0,\"#0d0887\"],[0.1111111111111111,\"#46039f\"],[0.2222222222222222,\"#7201a8\"],[0.3333333333333333,\"#9c179e\"],[0.4444444444444444,\"#bd3786\"],[0.5555555555555556,\"#d8576b\"],[0.6666666666666666,\"#ed7953\"],[0.7777777777777778,\"#fb9f3a\"],[0.8888888888888888,\"#fdca26\"],[1.0,\"#f0f921\"]],\"sequentialminus\":[[0.0,\"#0d0887\"],[0.1111111111111111,\"#46039f\"],[0.2222222222222222,\"#7201a8\"],[0.3333333333333333,\"#9c179e\"],[0.4444444444444444,\"#bd3786\"],[0.5555555555555556,\"#d8576b\"],[0.6666666666666666,\"#ed7953\"],[0.7777777777777778,\"#fb9f3a\"],[0.8888888888888888,\"#fdca26\"],[1.0,\"#f0f921\"]]},\"colorway\":[\"#636efa\",\"#EF553B\",\"#00cc96\",\"#ab63fa\",\"#FFA15A\",\"#19d3f3\",\"#FF6692\",\"#B6E880\",\"#FF97FF\",\"#FECB52\"],\"font\":{\"color\":\"#2a3f5f\"},\"geo\":{\"bgcolor\":\"white\",\"lakecolor\":\"white\",\"landcolor\":\"#E5ECF6\",\"showlakes\":true,\"showland\":true,\"subunitcolor\":\"white\"},\"hoverlabel\":{\"align\":\"left\"},\"hovermode\":\"closest\",\"mapbox\":{\"style\":\"light\"},\"paper_bgcolor\":\"white\",\"plot_bgcolor\":\"#E5ECF6\",\"polar\":{\"angularaxis\":{\"gridcolor\":\"white\",\"linecolor\":\"white\",\"ticks\":\"\"},\"bgcolor\":\"#E5ECF6\",\"radialaxis\":{\"gridcolor\":\"white\",\"linecolor\":\"white\",\"ticks\":\"\"}},\"scene\":{\"xaxis\":{\"backgroundcolor\":\"#E5ECF6\",\"gridcolor\":\"white\",\"gridwidth\":2,\"linecolor\":\"white\",\"showbackground\":true,\"ticks\":\"\",\"zerolinecolor\":\"white\"},\"yaxis\":{\"backgroundcolor\":\"#E5ECF6\",\"gridcolor\":\"white\",\"gridwidth\":2,\"linecolor\":\"white\",\"showbackground\":true,\"ticks\":\"\",\"zerolinecolor\":\"white\"},\"zaxis\":{\"backgroundcolor\":\"#E5ECF6\",\"gridcolor\":\"white\",\"gridwidth\":2,\"linecolor\":\"white\",\"showbackground\":true,\"ticks\":\"\",\"zerolinecolor\":\"white\"}},\"shapedefaults\":{\"line\":{\"color\":\"#2a3f5f\"}},\"ternary\":{\"aaxis\":{\"gridcolor\":\"white\",\"linecolor\":\"white\",\"ticks\":\"\"},\"baxis\":{\"gridcolor\":\"white\",\"linecolor\":\"white\",\"ticks\":\"\"},\"bgcolor\":\"#E5ECF6\",\"caxis\":{\"gridcolor\":\"white\",\"linecolor\":\"white\",\"ticks\":\"\"}},\"title\":{\"x\":0.05},\"xaxis\":{\"automargin\":true,\"gridcolor\":\"white\",\"linecolor\":\"white\",\"ticks\":\"\",\"title\":{\"standoff\":15},\"zerolinecolor\":\"white\",\"zerolinewidth\":2},\"yaxis\":{\"automargin\":true,\"gridcolor\":\"white\",\"linecolor\":\"white\",\"ticks\":\"\",\"title\":{\"standoff\":15},\"zerolinecolor\":\"white\",\"zerolinewidth\":2}}},\"xaxis\":{\"anchor\":\"y\",\"domain\":[0.0,1.0],\"title\":{\"text\":\"event_name\"}},\"yaxis\":{\"anchor\":\"x\",\"domain\":[0.0,1.0],\"title\":{\"text\":\"count\"}},\"legend\":{\"title\":{\"text\":\"group\"},\"tracegroupgap\":0},\"title\":{\"text\":\"\\u0420\\u0430\\u0441\\u043f\\u0435\\u0440\\u0435\\u0434\\u0435\\u043b\\u0435\\u043d\\u0438\\u0435 \\u0441\\u043e\\u0431\\u044b\\u0442\\u0438\\u0439 \\u0434\\u043b\\u044f \\u043e\\u0431\\u0435\\u0438\\u0445 \\u0433\\u0440\\u0443\\u043f\\u043f\"},\"barmode\":\"relative\"},                        {\"responsive\": true}                    ).then(function(){\n",
              "                            \n",
              "var gd = document.getElementById('40fec8d8-d9ab-4a05-ba4f-e5038a09a04e');\n",
              "var x = new MutationObserver(function (mutations, observer) {{\n",
              "        var display = window.getComputedStyle(gd).display;\n",
              "        if (!display || display === 'none') {{\n",
              "            console.log([gd, 'removed!']);\n",
              "            Plotly.purge(gd);\n",
              "            observer.disconnect();\n",
              "        }}\n",
              "}});\n",
              "\n",
              "// Listen for the removal of the full notebook cells\n",
              "var notebookContainer = gd.closest('#notebook-container');\n",
              "if (notebookContainer) {{\n",
              "    x.observe(notebookContainer, {childList: true});\n",
              "}}\n",
              "\n",
              "// Listen for the clearing of the current output cell\n",
              "var outputEl = gd.closest('.output');\n",
              "if (outputEl) {{\n",
              "    x.observe(outputEl, {childList: true});\n",
              "}}\n",
              "\n",
              "                        })                };                            </script>        </div>\n",
              "</body>\n",
              "</html>"
            ]
          },
          "metadata": {}
        }
      ],
      "source": [
        "# Постороим гистограмму распеределения событий для обеих групп\n",
        "px.histogram(group_user_events, x='event_name', color='group', title='Распеределение событий для обеих групп')"
      ]
    },
    {
      "cell_type": "code",
      "execution_count": 36,
      "metadata": {
        "colab": {
          "base_uri": "https://localhost:8080/"
        },
        "id": "NOYlEZKvyDoc",
        "outputId": "56bb82e5-8cae-4768-99ec-69af60968f6c"
      },
      "outputs": [
        {
          "output_type": "stream",
          "name": "stdout",
          "text": [
            "Среднее количество событий в группе А - 7.03\n",
            "Среднее количество событий в группе B - 5.81\n"
          ]
        }
      ],
      "source": [
        "print('Среднее количество событий в группе А -', round(group_a_user_events['event_name'].mean(), 2))\n",
        "print('Среднее количество событий в группе B -',  round(group_b_user_events['event_name'].mean(), 2))"
      ]
    },
    {
      "cell_type": "markdown",
      "metadata": {
        "id": "AusAsa3Cy7-E"
      },
      "source": [
        "Число событий на одного пользователя выше в группе А.\n"
      ]
    },
    {
      "cell_type": "markdown",
      "metadata": {
        "id": "68oiLiaMvdaI"
      },
      "source": [
        "### Присутствие в выборках одни и те же пользователи, пересечение с аудиториями других тестов<a id=\"double\"></a>"
      ]
    },
    {
      "cell_type": "code",
      "execution_count": 37,
      "metadata": {
        "colab": {
          "base_uri": "https://localhost:8080/",
          "height": 49
        },
        "id": "n5q_CLQxvsEv",
        "outputId": "21721840-120e-4e4c-ac2c-5fcc0e0e49f7"
      },
      "outputs": [
        {
          "output_type": "display_data",
          "data": {
            "text/plain": [
              "Empty DataFrame\n",
              "Columns: [user_id, event_name_x, group_x, event_name_y, group_y]\n",
              "Index: []"
            ],
            "text/html": [
              "\n",
              "  <div id=\"df-d896ead9-2848-4a94-bba6-3b209bab6aa7\">\n",
              "    <div class=\"colab-df-container\">\n",
              "      <div>\n",
              "<style scoped>\n",
              "    .dataframe tbody tr th:only-of-type {\n",
              "        vertical-align: middle;\n",
              "    }\n",
              "\n",
              "    .dataframe tbody tr th {\n",
              "        vertical-align: top;\n",
              "    }\n",
              "\n",
              "    .dataframe thead th {\n",
              "        text-align: right;\n",
              "    }\n",
              "</style>\n",
              "<table border=\"1\" class=\"dataframe\">\n",
              "  <thead>\n",
              "    <tr style=\"text-align: right;\">\n",
              "      <th></th>\n",
              "      <th>user_id</th>\n",
              "      <th>event_name_x</th>\n",
              "      <th>group_x</th>\n",
              "      <th>event_name_y</th>\n",
              "      <th>group_y</th>\n",
              "    </tr>\n",
              "  </thead>\n",
              "  <tbody>\n",
              "  </tbody>\n",
              "</table>\n",
              "</div>\n",
              "      <button class=\"colab-df-convert\" onclick=\"convertToInteractive('df-d896ead9-2848-4a94-bba6-3b209bab6aa7')\"\n",
              "              title=\"Convert this dataframe to an interactive table.\"\n",
              "              style=\"display:none;\">\n",
              "        \n",
              "  <svg xmlns=\"http://www.w3.org/2000/svg\" height=\"24px\"viewBox=\"0 0 24 24\"\n",
              "       width=\"24px\">\n",
              "    <path d=\"M0 0h24v24H0V0z\" fill=\"none\"/>\n",
              "    <path d=\"M18.56 5.44l.94 2.06.94-2.06 2.06-.94-2.06-.94-.94-2.06-.94 2.06-2.06.94zm-11 1L8.5 8.5l.94-2.06 2.06-.94-2.06-.94L8.5 2.5l-.94 2.06-2.06.94zm10 10l.94 2.06.94-2.06 2.06-.94-2.06-.94-.94-2.06-.94 2.06-2.06.94z\"/><path d=\"M17.41 7.96l-1.37-1.37c-.4-.4-.92-.59-1.43-.59-.52 0-1.04.2-1.43.59L10.3 9.45l-7.72 7.72c-.78.78-.78 2.05 0 2.83L4 21.41c.39.39.9.59 1.41.59.51 0 1.02-.2 1.41-.59l7.78-7.78 2.81-2.81c.8-.78.8-2.07 0-2.86zM5.41 20L4 18.59l7.72-7.72 1.47 1.35L5.41 20z\"/>\n",
              "  </svg>\n",
              "      </button>\n",
              "      \n",
              "  <style>\n",
              "    .colab-df-container {\n",
              "      display:flex;\n",
              "      flex-wrap:wrap;\n",
              "      gap: 12px;\n",
              "    }\n",
              "\n",
              "    .colab-df-convert {\n",
              "      background-color: #E8F0FE;\n",
              "      border: none;\n",
              "      border-radius: 50%;\n",
              "      cursor: pointer;\n",
              "      display: none;\n",
              "      fill: #1967D2;\n",
              "      height: 32px;\n",
              "      padding: 0 0 0 0;\n",
              "      width: 32px;\n",
              "    }\n",
              "\n",
              "    .colab-df-convert:hover {\n",
              "      background-color: #E2EBFA;\n",
              "      box-shadow: 0px 1px 2px rgba(60, 64, 67, 0.3), 0px 1px 3px 1px rgba(60, 64, 67, 0.15);\n",
              "      fill: #174EA6;\n",
              "    }\n",
              "\n",
              "    [theme=dark] .colab-df-convert {\n",
              "      background-color: #3B4455;\n",
              "      fill: #D2E3FC;\n",
              "    }\n",
              "\n",
              "    [theme=dark] .colab-df-convert:hover {\n",
              "      background-color: #434B5C;\n",
              "      box-shadow: 0px 1px 3px 1px rgba(0, 0, 0, 0.15);\n",
              "      filter: drop-shadow(0px 1px 2px rgba(0, 0, 0, 0.3));\n",
              "      fill: #FFFFFF;\n",
              "    }\n",
              "  </style>\n",
              "\n",
              "      <script>\n",
              "        const buttonEl =\n",
              "          document.querySelector('#df-d896ead9-2848-4a94-bba6-3b209bab6aa7 button.colab-df-convert');\n",
              "        buttonEl.style.display =\n",
              "          google.colab.kernel.accessAllowed ? 'block' : 'none';\n",
              "\n",
              "        async function convertToInteractive(key) {\n",
              "          const element = document.querySelector('#df-d896ead9-2848-4a94-bba6-3b209bab6aa7');\n",
              "          const dataTable =\n",
              "            await google.colab.kernel.invokeFunction('convertToInteractive',\n",
              "                                                     [key], {});\n",
              "          if (!dataTable) return;\n",
              "\n",
              "          const docLinkHtml = 'Like what you see? Visit the ' +\n",
              "            '<a target=\"_blank\" href=https://colab.research.google.com/notebooks/data_table.ipynb>data table notebook</a>'\n",
              "            + ' to learn more about interactive tables.';\n",
              "          element.innerHTML = '';\n",
              "          dataTable['output_type'] = 'display_data';\n",
              "          await google.colab.output.renderOutput(dataTable, element);\n",
              "          const docLink = document.createElement('div');\n",
              "          docLink.innerHTML = docLinkHtml;\n",
              "          element.appendChild(docLink);\n",
              "        }\n",
              "      </script>\n",
              "    </div>\n",
              "  </div>\n",
              "  "
            ]
          },
          "metadata": {}
        }
      ],
      "source": [
        "double = group_a_user_events.merge(group_b_user_events, how='inner', on = 'user_id')\n",
        "display(double)"
      ]
    },
    {
      "cell_type": "markdown",
      "metadata": {
        "id": "NiALP_5typ-r"
      },
      "source": [
        "Пользователей попавших в обе группы - нет.   \n",
        "**Посмотрим есть ли пользователи попавших в оба теста - recommender_system_test и interface_eu_test**"
      ]
    },
    {
      "cell_type": "code",
      "execution_count": 38,
      "metadata": {
        "colab": {
          "base_uri": "https://localhost:8080/"
        },
        "id": "fN0r97JMY2ic",
        "outputId": "59e61475-5c6b-45df-9c33-65a0225070ae"
      },
      "outputs": [
        {
          "output_type": "stream",
          "name": "stdout",
          "text": [
            "Число пользователей участвовавших в обоих тестах -  1602\n"
          ]
        }
      ],
      "source": [
        "# Создадим датасет с тестом interface_eu_test\n",
        "interface_eu_test = final_ab_participants[final_ab_participants['ab_test'] == 'interface_eu_test'].copy()\n",
        "cross_users = interface_eu_test.merge(recommender_system_test, how='inner', on = 'user_id')['user_id']\n",
        "print('Число пользователей участвовавших в обоих тестах - ', cross_users.count())"
      ]
    },
    {
      "cell_type": "markdown",
      "metadata": {
        "id": "RuIOjUtDzSK4"
      },
      "source": [
        "### Распределение событий по дням и пересчение с другими маркетинговыми активностями<a id=\"cross\"></a>\n"
      ]
    },
    {
      "cell_type": "code",
      "execution_count": 39,
      "metadata": {
        "colab": {
          "base_uri": "https://localhost:8080/",
          "height": 206
        },
        "id": "TgBL7szwv6Q-",
        "outputId": "6f535e7a-f201-446a-f8bb-103075ab5792"
      },
      "outputs": [
        {
          "output_type": "display_data",
          "data": {
            "text/plain": [
              "         date  event_name\n",
              "0  2020-12-07       11385\n",
              "1  2020-12-08       12547\n",
              "2  2020-12-09       12122\n",
              "3  2020-12-10       14077\n",
              "4  2020-12-11       13864"
            ],
            "text/html": [
              "\n",
              "  <div id=\"df-a4fcd972-40ad-4b82-aa68-f95e3174881c\">\n",
              "    <div class=\"colab-df-container\">\n",
              "      <div>\n",
              "<style scoped>\n",
              "    .dataframe tbody tr th:only-of-type {\n",
              "        vertical-align: middle;\n",
              "    }\n",
              "\n",
              "    .dataframe tbody tr th {\n",
              "        vertical-align: top;\n",
              "    }\n",
              "\n",
              "    .dataframe thead th {\n",
              "        text-align: right;\n",
              "    }\n",
              "</style>\n",
              "<table border=\"1\" class=\"dataframe\">\n",
              "  <thead>\n",
              "    <tr style=\"text-align: right;\">\n",
              "      <th></th>\n",
              "      <th>date</th>\n",
              "      <th>event_name</th>\n",
              "    </tr>\n",
              "  </thead>\n",
              "  <tbody>\n",
              "    <tr>\n",
              "      <th>0</th>\n",
              "      <td>2020-12-07</td>\n",
              "      <td>11385</td>\n",
              "    </tr>\n",
              "    <tr>\n",
              "      <th>1</th>\n",
              "      <td>2020-12-08</td>\n",
              "      <td>12547</td>\n",
              "    </tr>\n",
              "    <tr>\n",
              "      <th>2</th>\n",
              "      <td>2020-12-09</td>\n",
              "      <td>12122</td>\n",
              "    </tr>\n",
              "    <tr>\n",
              "      <th>3</th>\n",
              "      <td>2020-12-10</td>\n",
              "      <td>14077</td>\n",
              "    </tr>\n",
              "    <tr>\n",
              "      <th>4</th>\n",
              "      <td>2020-12-11</td>\n",
              "      <td>13864</td>\n",
              "    </tr>\n",
              "  </tbody>\n",
              "</table>\n",
              "</div>\n",
              "      <button class=\"colab-df-convert\" onclick=\"convertToInteractive('df-a4fcd972-40ad-4b82-aa68-f95e3174881c')\"\n",
              "              title=\"Convert this dataframe to an interactive table.\"\n",
              "              style=\"display:none;\">\n",
              "        \n",
              "  <svg xmlns=\"http://www.w3.org/2000/svg\" height=\"24px\"viewBox=\"0 0 24 24\"\n",
              "       width=\"24px\">\n",
              "    <path d=\"M0 0h24v24H0V0z\" fill=\"none\"/>\n",
              "    <path d=\"M18.56 5.44l.94 2.06.94-2.06 2.06-.94-2.06-.94-.94-2.06-.94 2.06-2.06.94zm-11 1L8.5 8.5l.94-2.06 2.06-.94-2.06-.94L8.5 2.5l-.94 2.06-2.06.94zm10 10l.94 2.06.94-2.06 2.06-.94-2.06-.94-.94-2.06-.94 2.06-2.06.94z\"/><path d=\"M17.41 7.96l-1.37-1.37c-.4-.4-.92-.59-1.43-.59-.52 0-1.04.2-1.43.59L10.3 9.45l-7.72 7.72c-.78.78-.78 2.05 0 2.83L4 21.41c.39.39.9.59 1.41.59.51 0 1.02-.2 1.41-.59l7.78-7.78 2.81-2.81c.8-.78.8-2.07 0-2.86zM5.41 20L4 18.59l7.72-7.72 1.47 1.35L5.41 20z\"/>\n",
              "  </svg>\n",
              "      </button>\n",
              "      \n",
              "  <style>\n",
              "    .colab-df-container {\n",
              "      display:flex;\n",
              "      flex-wrap:wrap;\n",
              "      gap: 12px;\n",
              "    }\n",
              "\n",
              "    .colab-df-convert {\n",
              "      background-color: #E8F0FE;\n",
              "      border: none;\n",
              "      border-radius: 50%;\n",
              "      cursor: pointer;\n",
              "      display: none;\n",
              "      fill: #1967D2;\n",
              "      height: 32px;\n",
              "      padding: 0 0 0 0;\n",
              "      width: 32px;\n",
              "    }\n",
              "\n",
              "    .colab-df-convert:hover {\n",
              "      background-color: #E2EBFA;\n",
              "      box-shadow: 0px 1px 2px rgba(60, 64, 67, 0.3), 0px 1px 3px 1px rgba(60, 64, 67, 0.15);\n",
              "      fill: #174EA6;\n",
              "    }\n",
              "\n",
              "    [theme=dark] .colab-df-convert {\n",
              "      background-color: #3B4455;\n",
              "      fill: #D2E3FC;\n",
              "    }\n",
              "\n",
              "    [theme=dark] .colab-df-convert:hover {\n",
              "      background-color: #434B5C;\n",
              "      box-shadow: 0px 1px 3px 1px rgba(0, 0, 0, 0.15);\n",
              "      filter: drop-shadow(0px 1px 2px rgba(0, 0, 0, 0.3));\n",
              "      fill: #FFFFFF;\n",
              "    }\n",
              "  </style>\n",
              "\n",
              "      <script>\n",
              "        const buttonEl =\n",
              "          document.querySelector('#df-a4fcd972-40ad-4b82-aa68-f95e3174881c button.colab-df-convert');\n",
              "        buttonEl.style.display =\n",
              "          google.colab.kernel.accessAllowed ? 'block' : 'none';\n",
              "\n",
              "        async function convertToInteractive(key) {\n",
              "          const element = document.querySelector('#df-a4fcd972-40ad-4b82-aa68-f95e3174881c');\n",
              "          const dataTable =\n",
              "            await google.colab.kernel.invokeFunction('convertToInteractive',\n",
              "                                                     [key], {});\n",
              "          if (!dataTable) return;\n",
              "\n",
              "          const docLinkHtml = 'Like what you see? Visit the ' +\n",
              "            '<a target=\"_blank\" href=https://colab.research.google.com/notebooks/data_table.ipynb>data table notebook</a>'\n",
              "            + ' to learn more about interactive tables.';\n",
              "          element.innerHTML = '';\n",
              "          dataTable['output_type'] = 'display_data';\n",
              "          await google.colab.output.renderOutput(dataTable, element);\n",
              "          const docLink = document.createElement('div');\n",
              "          docLink.innerHTML = docLinkHtml;\n",
              "          element.appendChild(docLink);\n",
              "        }\n",
              "      </script>\n",
              "    </div>\n",
              "  </div>\n",
              "  "
            ]
          },
          "metadata": {}
        }
      ],
      "source": [
        "# Сосчитаем число событий по дням\n",
        "final_ab_events['date'] = final_ab_events['event_dt'].dt.date\n",
        "user_events = final_ab_events.groupby('date').agg({'event_name':'count'}).reset_index()\n",
        "display(user_events.head())"
      ]
    },
    {
      "cell_type": "code",
      "execution_count": 40,
      "metadata": {
        "colab": {
          "base_uri": "https://localhost:8080/",
          "height": 542
        },
        "id": "FixspbDazd59",
        "outputId": "3dfbcf17-c126-4215-b805-3f6368abe676"
      },
      "outputs": [
        {
          "output_type": "display_data",
          "data": {
            "text/html": [
              "<html>\n",
              "<head><meta charset=\"utf-8\" /></head>\n",
              "<body>\n",
              "    <div>            <script src=\"https://cdnjs.cloudflare.com/ajax/libs/mathjax/2.7.5/MathJax.js?config=TeX-AMS-MML_SVG\"></script><script type=\"text/javascript\">if (window.MathJax) {MathJax.Hub.Config({SVG: {font: \"STIX-Web\"}});}</script>                <script type=\"text/javascript\">window.PlotlyConfig = {MathJaxConfig: 'local'};</script>\n",
              "        <script src=\"https://cdn.plot.ly/plotly-2.8.3.min.js\"></script>                <div id=\"f49003e9-e58c-47cb-8043-5da36f976fc3\" class=\"plotly-graph-div\" style=\"height:525px; width:100%;\"></div>            <script type=\"text/javascript\">                                    window.PLOTLYENV=window.PLOTLYENV || {};                                    if (document.getElementById(\"f49003e9-e58c-47cb-8043-5da36f976fc3\")) {                    Plotly.newPlot(                        \"f49003e9-e58c-47cb-8043-5da36f976fc3\",                        [{\"alignmentgroup\":\"True\",\"hovertemplate\":\"date=%{x}<br>event_name=%{text}<extra></extra>\",\"legendgroup\":\"\",\"marker\":{\"color\":\"#636efa\",\"pattern\":{\"shape\":\"\"}},\"name\":\"\",\"offsetgroup\":\"\",\"orientation\":\"v\",\"showlegend\":false,\"text\":[11385.0,12547.0,12122.0,14077.0,13864.0,17634.0,20985.0,26184.0,23469.0,20909.0,21751.0,22871.0,24273.0,26425.0,32559.0,29472.0,26108.0,19399.0,16556.0,14058.0,12420.0,11014.0,10146.0,89.0],\"textposition\":\"auto\",\"x\":[\"2020-12-07\",\"2020-12-08\",\"2020-12-09\",\"2020-12-10\",\"2020-12-11\",\"2020-12-12\",\"2020-12-13\",\"2020-12-14\",\"2020-12-15\",\"2020-12-16\",\"2020-12-17\",\"2020-12-18\",\"2020-12-19\",\"2020-12-20\",\"2020-12-21\",\"2020-12-22\",\"2020-12-23\",\"2020-12-24\",\"2020-12-25\",\"2020-12-26\",\"2020-12-27\",\"2020-12-28\",\"2020-12-29\",\"2020-12-30\"],\"xaxis\":\"x\",\"y\":[11385,12547,12122,14077,13864,17634,20985,26184,23469,20909,21751,22871,24273,26425,32559,29472,26108,19399,16556,14058,12420,11014,10146,89],\"yaxis\":\"y\",\"type\":\"bar\"}],                        {\"template\":{\"data\":{\"bar\":[{\"error_x\":{\"color\":\"#2a3f5f\"},\"error_y\":{\"color\":\"#2a3f5f\"},\"marker\":{\"line\":{\"color\":\"#E5ECF6\",\"width\":0.5},\"pattern\":{\"fillmode\":\"overlay\",\"size\":10,\"solidity\":0.2}},\"type\":\"bar\"}],\"barpolar\":[{\"marker\":{\"line\":{\"color\":\"#E5ECF6\",\"width\":0.5},\"pattern\":{\"fillmode\":\"overlay\",\"size\":10,\"solidity\":0.2}},\"type\":\"barpolar\"}],\"carpet\":[{\"aaxis\":{\"endlinecolor\":\"#2a3f5f\",\"gridcolor\":\"white\",\"linecolor\":\"white\",\"minorgridcolor\":\"white\",\"startlinecolor\":\"#2a3f5f\"},\"baxis\":{\"endlinecolor\":\"#2a3f5f\",\"gridcolor\":\"white\",\"linecolor\":\"white\",\"minorgridcolor\":\"white\",\"startlinecolor\":\"#2a3f5f\"},\"type\":\"carpet\"}],\"choropleth\":[{\"colorbar\":{\"outlinewidth\":0,\"ticks\":\"\"},\"type\":\"choropleth\"}],\"contour\":[{\"colorbar\":{\"outlinewidth\":0,\"ticks\":\"\"},\"colorscale\":[[0.0,\"#0d0887\"],[0.1111111111111111,\"#46039f\"],[0.2222222222222222,\"#7201a8\"],[0.3333333333333333,\"#9c179e\"],[0.4444444444444444,\"#bd3786\"],[0.5555555555555556,\"#d8576b\"],[0.6666666666666666,\"#ed7953\"],[0.7777777777777778,\"#fb9f3a\"],[0.8888888888888888,\"#fdca26\"],[1.0,\"#f0f921\"]],\"type\":\"contour\"}],\"contourcarpet\":[{\"colorbar\":{\"outlinewidth\":0,\"ticks\":\"\"},\"type\":\"contourcarpet\"}],\"heatmap\":[{\"colorbar\":{\"outlinewidth\":0,\"ticks\":\"\"},\"colorscale\":[[0.0,\"#0d0887\"],[0.1111111111111111,\"#46039f\"],[0.2222222222222222,\"#7201a8\"],[0.3333333333333333,\"#9c179e\"],[0.4444444444444444,\"#bd3786\"],[0.5555555555555556,\"#d8576b\"],[0.6666666666666666,\"#ed7953\"],[0.7777777777777778,\"#fb9f3a\"],[0.8888888888888888,\"#fdca26\"],[1.0,\"#f0f921\"]],\"type\":\"heatmap\"}],\"heatmapgl\":[{\"colorbar\":{\"outlinewidth\":0,\"ticks\":\"\"},\"colorscale\":[[0.0,\"#0d0887\"],[0.1111111111111111,\"#46039f\"],[0.2222222222222222,\"#7201a8\"],[0.3333333333333333,\"#9c179e\"],[0.4444444444444444,\"#bd3786\"],[0.5555555555555556,\"#d8576b\"],[0.6666666666666666,\"#ed7953\"],[0.7777777777777778,\"#fb9f3a\"],[0.8888888888888888,\"#fdca26\"],[1.0,\"#f0f921\"]],\"type\":\"heatmapgl\"}],\"histogram\":[{\"marker\":{\"pattern\":{\"fillmode\":\"overlay\",\"size\":10,\"solidity\":0.2}},\"type\":\"histogram\"}],\"histogram2d\":[{\"colorbar\":{\"outlinewidth\":0,\"ticks\":\"\"},\"colorscale\":[[0.0,\"#0d0887\"],[0.1111111111111111,\"#46039f\"],[0.2222222222222222,\"#7201a8\"],[0.3333333333333333,\"#9c179e\"],[0.4444444444444444,\"#bd3786\"],[0.5555555555555556,\"#d8576b\"],[0.6666666666666666,\"#ed7953\"],[0.7777777777777778,\"#fb9f3a\"],[0.8888888888888888,\"#fdca26\"],[1.0,\"#f0f921\"]],\"type\":\"histogram2d\"}],\"histogram2dcontour\":[{\"colorbar\":{\"outlinewidth\":0,\"ticks\":\"\"},\"colorscale\":[[0.0,\"#0d0887\"],[0.1111111111111111,\"#46039f\"],[0.2222222222222222,\"#7201a8\"],[0.3333333333333333,\"#9c179e\"],[0.4444444444444444,\"#bd3786\"],[0.5555555555555556,\"#d8576b\"],[0.6666666666666666,\"#ed7953\"],[0.7777777777777778,\"#fb9f3a\"],[0.8888888888888888,\"#fdca26\"],[1.0,\"#f0f921\"]],\"type\":\"histogram2dcontour\"}],\"mesh3d\":[{\"colorbar\":{\"outlinewidth\":0,\"ticks\":\"\"},\"type\":\"mesh3d\"}],\"parcoords\":[{\"line\":{\"colorbar\":{\"outlinewidth\":0,\"ticks\":\"\"}},\"type\":\"parcoords\"}],\"pie\":[{\"automargin\":true,\"type\":\"pie\"}],\"scatter\":[{\"marker\":{\"colorbar\":{\"outlinewidth\":0,\"ticks\":\"\"}},\"type\":\"scatter\"}],\"scatter3d\":[{\"line\":{\"colorbar\":{\"outlinewidth\":0,\"ticks\":\"\"}},\"marker\":{\"colorbar\":{\"outlinewidth\":0,\"ticks\":\"\"}},\"type\":\"scatter3d\"}],\"scattercarpet\":[{\"marker\":{\"colorbar\":{\"outlinewidth\":0,\"ticks\":\"\"}},\"type\":\"scattercarpet\"}],\"scattergeo\":[{\"marker\":{\"colorbar\":{\"outlinewidth\":0,\"ticks\":\"\"}},\"type\":\"scattergeo\"}],\"scattergl\":[{\"marker\":{\"colorbar\":{\"outlinewidth\":0,\"ticks\":\"\"}},\"type\":\"scattergl\"}],\"scattermapbox\":[{\"marker\":{\"colorbar\":{\"outlinewidth\":0,\"ticks\":\"\"}},\"type\":\"scattermapbox\"}],\"scatterpolar\":[{\"marker\":{\"colorbar\":{\"outlinewidth\":0,\"ticks\":\"\"}},\"type\":\"scatterpolar\"}],\"scatterpolargl\":[{\"marker\":{\"colorbar\":{\"outlinewidth\":0,\"ticks\":\"\"}},\"type\":\"scatterpolargl\"}],\"scatterternary\":[{\"marker\":{\"colorbar\":{\"outlinewidth\":0,\"ticks\":\"\"}},\"type\":\"scatterternary\"}],\"surface\":[{\"colorbar\":{\"outlinewidth\":0,\"ticks\":\"\"},\"colorscale\":[[0.0,\"#0d0887\"],[0.1111111111111111,\"#46039f\"],[0.2222222222222222,\"#7201a8\"],[0.3333333333333333,\"#9c179e\"],[0.4444444444444444,\"#bd3786\"],[0.5555555555555556,\"#d8576b\"],[0.6666666666666666,\"#ed7953\"],[0.7777777777777778,\"#fb9f3a\"],[0.8888888888888888,\"#fdca26\"],[1.0,\"#f0f921\"]],\"type\":\"surface\"}],\"table\":[{\"cells\":{\"fill\":{\"color\":\"#EBF0F8\"},\"line\":{\"color\":\"white\"}},\"header\":{\"fill\":{\"color\":\"#C8D4E3\"},\"line\":{\"color\":\"white\"}},\"type\":\"table\"}]},\"layout\":{\"annotationdefaults\":{\"arrowcolor\":\"#2a3f5f\",\"arrowhead\":0,\"arrowwidth\":1},\"autotypenumbers\":\"strict\",\"coloraxis\":{\"colorbar\":{\"outlinewidth\":0,\"ticks\":\"\"}},\"colorscale\":{\"diverging\":[[0,\"#8e0152\"],[0.1,\"#c51b7d\"],[0.2,\"#de77ae\"],[0.3,\"#f1b6da\"],[0.4,\"#fde0ef\"],[0.5,\"#f7f7f7\"],[0.6,\"#e6f5d0\"],[0.7,\"#b8e186\"],[0.8,\"#7fbc41\"],[0.9,\"#4d9221\"],[1,\"#276419\"]],\"sequential\":[[0.0,\"#0d0887\"],[0.1111111111111111,\"#46039f\"],[0.2222222222222222,\"#7201a8\"],[0.3333333333333333,\"#9c179e\"],[0.4444444444444444,\"#bd3786\"],[0.5555555555555556,\"#d8576b\"],[0.6666666666666666,\"#ed7953\"],[0.7777777777777778,\"#fb9f3a\"],[0.8888888888888888,\"#fdca26\"],[1.0,\"#f0f921\"]],\"sequentialminus\":[[0.0,\"#0d0887\"],[0.1111111111111111,\"#46039f\"],[0.2222222222222222,\"#7201a8\"],[0.3333333333333333,\"#9c179e\"],[0.4444444444444444,\"#bd3786\"],[0.5555555555555556,\"#d8576b\"],[0.6666666666666666,\"#ed7953\"],[0.7777777777777778,\"#fb9f3a\"],[0.8888888888888888,\"#fdca26\"],[1.0,\"#f0f921\"]]},\"colorway\":[\"#636efa\",\"#EF553B\",\"#00cc96\",\"#ab63fa\",\"#FFA15A\",\"#19d3f3\",\"#FF6692\",\"#B6E880\",\"#FF97FF\",\"#FECB52\"],\"font\":{\"color\":\"#2a3f5f\"},\"geo\":{\"bgcolor\":\"white\",\"lakecolor\":\"white\",\"landcolor\":\"#E5ECF6\",\"showlakes\":true,\"showland\":true,\"subunitcolor\":\"white\"},\"hoverlabel\":{\"align\":\"left\"},\"hovermode\":\"closest\",\"mapbox\":{\"style\":\"light\"},\"paper_bgcolor\":\"white\",\"plot_bgcolor\":\"#E5ECF6\",\"polar\":{\"angularaxis\":{\"gridcolor\":\"white\",\"linecolor\":\"white\",\"ticks\":\"\"},\"bgcolor\":\"#E5ECF6\",\"radialaxis\":{\"gridcolor\":\"white\",\"linecolor\":\"white\",\"ticks\":\"\"}},\"scene\":{\"xaxis\":{\"backgroundcolor\":\"#E5ECF6\",\"gridcolor\":\"white\",\"gridwidth\":2,\"linecolor\":\"white\",\"showbackground\":true,\"ticks\":\"\",\"zerolinecolor\":\"white\"},\"yaxis\":{\"backgroundcolor\":\"#E5ECF6\",\"gridcolor\":\"white\",\"gridwidth\":2,\"linecolor\":\"white\",\"showbackground\":true,\"ticks\":\"\",\"zerolinecolor\":\"white\"},\"zaxis\":{\"backgroundcolor\":\"#E5ECF6\",\"gridcolor\":\"white\",\"gridwidth\":2,\"linecolor\":\"white\",\"showbackground\":true,\"ticks\":\"\",\"zerolinecolor\":\"white\"}},\"shapedefaults\":{\"line\":{\"color\":\"#2a3f5f\"}},\"ternary\":{\"aaxis\":{\"gridcolor\":\"white\",\"linecolor\":\"white\",\"ticks\":\"\"},\"baxis\":{\"gridcolor\":\"white\",\"linecolor\":\"white\",\"ticks\":\"\"},\"bgcolor\":\"#E5ECF6\",\"caxis\":{\"gridcolor\":\"white\",\"linecolor\":\"white\",\"ticks\":\"\"}},\"title\":{\"x\":0.05},\"xaxis\":{\"automargin\":true,\"gridcolor\":\"white\",\"linecolor\":\"white\",\"ticks\":\"\",\"title\":{\"standoff\":15},\"zerolinecolor\":\"white\",\"zerolinewidth\":2},\"yaxis\":{\"automargin\":true,\"gridcolor\":\"white\",\"linecolor\":\"white\",\"ticks\":\"\",\"title\":{\"standoff\":15},\"zerolinecolor\":\"white\",\"zerolinewidth\":2}}},\"xaxis\":{\"anchor\":\"y\",\"domain\":[0.0,1.0],\"title\":{\"text\":\"date\"}},\"yaxis\":{\"anchor\":\"x\",\"domain\":[0.0,1.0],\"title\":{\"text\":\"event_name\"}},\"legend\":{\"tracegroupgap\":0},\"title\":{\"text\":\"\\u0427\\u0438\\u0441\\u043b\\u043e \\u0441\\u043e\\u0431\\u044b\\u0442\\u0438\\u0439 \\u043f\\u043e \\u0434\\u043d\\u044f\\u043c\"},\"barmode\":\"relative\"},                        {\"responsive\": true}                    ).then(function(){\n",
              "                            \n",
              "var gd = document.getElementById('f49003e9-e58c-47cb-8043-5da36f976fc3');\n",
              "var x = new MutationObserver(function (mutations, observer) {{\n",
              "        var display = window.getComputedStyle(gd).display;\n",
              "        if (!display || display === 'none') {{\n",
              "            console.log([gd, 'removed!']);\n",
              "            Plotly.purge(gd);\n",
              "            observer.disconnect();\n",
              "        }}\n",
              "}});\n",
              "\n",
              "// Listen for the removal of the full notebook cells\n",
              "var notebookContainer = gd.closest('#notebook-container');\n",
              "if (notebookContainer) {{\n",
              "    x.observe(notebookContainer, {childList: true});\n",
              "}}\n",
              "\n",
              "// Listen for the clearing of the current output cell\n",
              "var outputEl = gd.closest('.output');\n",
              "if (outputEl) {{\n",
              "    x.observe(outputEl, {childList: true});\n",
              "}}\n",
              "\n",
              "                        })                };                            </script>        </div>\n",
              "</body>\n",
              "</html>"
            ]
          },
          "metadata": {}
        }
      ],
      "source": [
        "# Визуализируем \n",
        "px.bar(user_events, x='date', y='event_name', title='Число событий по дням', text='event_name')"
      ]
    },
    {
      "cell_type": "code",
      "execution_count": 41,
      "metadata": {
        "id": "H8-6sqMyzy7M"
      },
      "outputs": [],
      "source": [
        "# Сосчитаем по группам\n",
        "events_groups['date'] = events_groups['event_dt'].dt.date\n",
        "user_events_a = events_groups[events_groups['group'] == 'A'].groupby('date').agg({'event_name':'count'}).reset_index()\n",
        "user_events_b = events_groups[events_groups['group'] == 'B'].groupby('date').agg({'event_name':'count'}).reset_index()"
      ]
    },
    {
      "cell_type": "code",
      "execution_count": 42,
      "metadata": {
        "colab": {
          "base_uri": "https://localhost:8080/",
          "height": 542
        },
        "id": "oK8WseIp0DsE",
        "outputId": "d39ddc68-7922-4fb8-9a59-d83d5b34af29"
      },
      "outputs": [
        {
          "output_type": "display_data",
          "data": {
            "text/html": [
              "<html>\n",
              "<head><meta charset=\"utf-8\" /></head>\n",
              "<body>\n",
              "    <div>            <script src=\"https://cdnjs.cloudflare.com/ajax/libs/mathjax/2.7.5/MathJax.js?config=TeX-AMS-MML_SVG\"></script><script type=\"text/javascript\">if (window.MathJax) {MathJax.Hub.Config({SVG: {font: \"STIX-Web\"}});}</script>                <script type=\"text/javascript\">window.PlotlyConfig = {MathJaxConfig: 'local'};</script>\n",
              "        <script src=\"https://cdn.plot.ly/plotly-2.8.3.min.js\"></script>                <div id=\"d4b45a44-3c21-4889-9297-0468350671d4\" class=\"plotly-graph-div\" style=\"height:525px; width:100%;\"></div>            <script type=\"text/javascript\">                                    window.PLOTLYENV=window.PLOTLYENV || {};                                    if (document.getElementById(\"d4b45a44-3c21-4889-9297-0468350671d4\")) {                    Plotly.newPlot(                        \"d4b45a44-3c21-4889-9297-0468350671d4\",                        [{\"alignmentgroup\":\"True\",\"hovertemplate\":\"date=%{x}<br>event_name=%{text}<extra></extra>\",\"legendgroup\":\"\",\"marker\":{\"color\":\"#636efa\",\"pattern\":{\"shape\":\"\"}},\"name\":\"\",\"offsetgroup\":\"\",\"orientation\":\"v\",\"showlegend\":false,\"text\":[331.0,341.0,385.0,350.0,374.0,355.0,328.0,1083.0,1084.0,1069.0,1252.0,1312.0,1506.0,1528.0,2011.0,1311.0,1005.0,888.0,677.0,608.0,572.0,503.0,431.0],\"textposition\":\"auto\",\"x\":[\"2020-12-07\",\"2020-12-08\",\"2020-12-09\",\"2020-12-10\",\"2020-12-11\",\"2020-12-12\",\"2020-12-13\",\"2020-12-14\",\"2020-12-15\",\"2020-12-16\",\"2020-12-17\",\"2020-12-18\",\"2020-12-19\",\"2020-12-20\",\"2020-12-21\",\"2020-12-22\",\"2020-12-23\",\"2020-12-24\",\"2020-12-25\",\"2020-12-26\",\"2020-12-27\",\"2020-12-28\",\"2020-12-29\"],\"xaxis\":\"x\",\"y\":[331,341,385,350,374,355,328,1083,1084,1069,1252,1312,1506,1528,2011,1311,1005,888,677,608,572,503,431],\"yaxis\":\"y\",\"type\":\"bar\"}],                        {\"template\":{\"data\":{\"bar\":[{\"error_x\":{\"color\":\"#2a3f5f\"},\"error_y\":{\"color\":\"#2a3f5f\"},\"marker\":{\"line\":{\"color\":\"#E5ECF6\",\"width\":0.5},\"pattern\":{\"fillmode\":\"overlay\",\"size\":10,\"solidity\":0.2}},\"type\":\"bar\"}],\"barpolar\":[{\"marker\":{\"line\":{\"color\":\"#E5ECF6\",\"width\":0.5},\"pattern\":{\"fillmode\":\"overlay\",\"size\":10,\"solidity\":0.2}},\"type\":\"barpolar\"}],\"carpet\":[{\"aaxis\":{\"endlinecolor\":\"#2a3f5f\",\"gridcolor\":\"white\",\"linecolor\":\"white\",\"minorgridcolor\":\"white\",\"startlinecolor\":\"#2a3f5f\"},\"baxis\":{\"endlinecolor\":\"#2a3f5f\",\"gridcolor\":\"white\",\"linecolor\":\"white\",\"minorgridcolor\":\"white\",\"startlinecolor\":\"#2a3f5f\"},\"type\":\"carpet\"}],\"choropleth\":[{\"colorbar\":{\"outlinewidth\":0,\"ticks\":\"\"},\"type\":\"choropleth\"}],\"contour\":[{\"colorbar\":{\"outlinewidth\":0,\"ticks\":\"\"},\"colorscale\":[[0.0,\"#0d0887\"],[0.1111111111111111,\"#46039f\"],[0.2222222222222222,\"#7201a8\"],[0.3333333333333333,\"#9c179e\"],[0.4444444444444444,\"#bd3786\"],[0.5555555555555556,\"#d8576b\"],[0.6666666666666666,\"#ed7953\"],[0.7777777777777778,\"#fb9f3a\"],[0.8888888888888888,\"#fdca26\"],[1.0,\"#f0f921\"]],\"type\":\"contour\"}],\"contourcarpet\":[{\"colorbar\":{\"outlinewidth\":0,\"ticks\":\"\"},\"type\":\"contourcarpet\"}],\"heatmap\":[{\"colorbar\":{\"outlinewidth\":0,\"ticks\":\"\"},\"colorscale\":[[0.0,\"#0d0887\"],[0.1111111111111111,\"#46039f\"],[0.2222222222222222,\"#7201a8\"],[0.3333333333333333,\"#9c179e\"],[0.4444444444444444,\"#bd3786\"],[0.5555555555555556,\"#d8576b\"],[0.6666666666666666,\"#ed7953\"],[0.7777777777777778,\"#fb9f3a\"],[0.8888888888888888,\"#fdca26\"],[1.0,\"#f0f921\"]],\"type\":\"heatmap\"}],\"heatmapgl\":[{\"colorbar\":{\"outlinewidth\":0,\"ticks\":\"\"},\"colorscale\":[[0.0,\"#0d0887\"],[0.1111111111111111,\"#46039f\"],[0.2222222222222222,\"#7201a8\"],[0.3333333333333333,\"#9c179e\"],[0.4444444444444444,\"#bd3786\"],[0.5555555555555556,\"#d8576b\"],[0.6666666666666666,\"#ed7953\"],[0.7777777777777778,\"#fb9f3a\"],[0.8888888888888888,\"#fdca26\"],[1.0,\"#f0f921\"]],\"type\":\"heatmapgl\"}],\"histogram\":[{\"marker\":{\"pattern\":{\"fillmode\":\"overlay\",\"size\":10,\"solidity\":0.2}},\"type\":\"histogram\"}],\"histogram2d\":[{\"colorbar\":{\"outlinewidth\":0,\"ticks\":\"\"},\"colorscale\":[[0.0,\"#0d0887\"],[0.1111111111111111,\"#46039f\"],[0.2222222222222222,\"#7201a8\"],[0.3333333333333333,\"#9c179e\"],[0.4444444444444444,\"#bd3786\"],[0.5555555555555556,\"#d8576b\"],[0.6666666666666666,\"#ed7953\"],[0.7777777777777778,\"#fb9f3a\"],[0.8888888888888888,\"#fdca26\"],[1.0,\"#f0f921\"]],\"type\":\"histogram2d\"}],\"histogram2dcontour\":[{\"colorbar\":{\"outlinewidth\":0,\"ticks\":\"\"},\"colorscale\":[[0.0,\"#0d0887\"],[0.1111111111111111,\"#46039f\"],[0.2222222222222222,\"#7201a8\"],[0.3333333333333333,\"#9c179e\"],[0.4444444444444444,\"#bd3786\"],[0.5555555555555556,\"#d8576b\"],[0.6666666666666666,\"#ed7953\"],[0.7777777777777778,\"#fb9f3a\"],[0.8888888888888888,\"#fdca26\"],[1.0,\"#f0f921\"]],\"type\":\"histogram2dcontour\"}],\"mesh3d\":[{\"colorbar\":{\"outlinewidth\":0,\"ticks\":\"\"},\"type\":\"mesh3d\"}],\"parcoords\":[{\"line\":{\"colorbar\":{\"outlinewidth\":0,\"ticks\":\"\"}},\"type\":\"parcoords\"}],\"pie\":[{\"automargin\":true,\"type\":\"pie\"}],\"scatter\":[{\"marker\":{\"colorbar\":{\"outlinewidth\":0,\"ticks\":\"\"}},\"type\":\"scatter\"}],\"scatter3d\":[{\"line\":{\"colorbar\":{\"outlinewidth\":0,\"ticks\":\"\"}},\"marker\":{\"colorbar\":{\"outlinewidth\":0,\"ticks\":\"\"}},\"type\":\"scatter3d\"}],\"scattercarpet\":[{\"marker\":{\"colorbar\":{\"outlinewidth\":0,\"ticks\":\"\"}},\"type\":\"scattercarpet\"}],\"scattergeo\":[{\"marker\":{\"colorbar\":{\"outlinewidth\":0,\"ticks\":\"\"}},\"type\":\"scattergeo\"}],\"scattergl\":[{\"marker\":{\"colorbar\":{\"outlinewidth\":0,\"ticks\":\"\"}},\"type\":\"scattergl\"}],\"scattermapbox\":[{\"marker\":{\"colorbar\":{\"outlinewidth\":0,\"ticks\":\"\"}},\"type\":\"scattermapbox\"}],\"scatterpolar\":[{\"marker\":{\"colorbar\":{\"outlinewidth\":0,\"ticks\":\"\"}},\"type\":\"scatterpolar\"}],\"scatterpolargl\":[{\"marker\":{\"colorbar\":{\"outlinewidth\":0,\"ticks\":\"\"}},\"type\":\"scatterpolargl\"}],\"scatterternary\":[{\"marker\":{\"colorbar\":{\"outlinewidth\":0,\"ticks\":\"\"}},\"type\":\"scatterternary\"}],\"surface\":[{\"colorbar\":{\"outlinewidth\":0,\"ticks\":\"\"},\"colorscale\":[[0.0,\"#0d0887\"],[0.1111111111111111,\"#46039f\"],[0.2222222222222222,\"#7201a8\"],[0.3333333333333333,\"#9c179e\"],[0.4444444444444444,\"#bd3786\"],[0.5555555555555556,\"#d8576b\"],[0.6666666666666666,\"#ed7953\"],[0.7777777777777778,\"#fb9f3a\"],[0.8888888888888888,\"#fdca26\"],[1.0,\"#f0f921\"]],\"type\":\"surface\"}],\"table\":[{\"cells\":{\"fill\":{\"color\":\"#EBF0F8\"},\"line\":{\"color\":\"white\"}},\"header\":{\"fill\":{\"color\":\"#C8D4E3\"},\"line\":{\"color\":\"white\"}},\"type\":\"table\"}]},\"layout\":{\"annotationdefaults\":{\"arrowcolor\":\"#2a3f5f\",\"arrowhead\":0,\"arrowwidth\":1},\"autotypenumbers\":\"strict\",\"coloraxis\":{\"colorbar\":{\"outlinewidth\":0,\"ticks\":\"\"}},\"colorscale\":{\"diverging\":[[0,\"#8e0152\"],[0.1,\"#c51b7d\"],[0.2,\"#de77ae\"],[0.3,\"#f1b6da\"],[0.4,\"#fde0ef\"],[0.5,\"#f7f7f7\"],[0.6,\"#e6f5d0\"],[0.7,\"#b8e186\"],[0.8,\"#7fbc41\"],[0.9,\"#4d9221\"],[1,\"#276419\"]],\"sequential\":[[0.0,\"#0d0887\"],[0.1111111111111111,\"#46039f\"],[0.2222222222222222,\"#7201a8\"],[0.3333333333333333,\"#9c179e\"],[0.4444444444444444,\"#bd3786\"],[0.5555555555555556,\"#d8576b\"],[0.6666666666666666,\"#ed7953\"],[0.7777777777777778,\"#fb9f3a\"],[0.8888888888888888,\"#fdca26\"],[1.0,\"#f0f921\"]],\"sequentialminus\":[[0.0,\"#0d0887\"],[0.1111111111111111,\"#46039f\"],[0.2222222222222222,\"#7201a8\"],[0.3333333333333333,\"#9c179e\"],[0.4444444444444444,\"#bd3786\"],[0.5555555555555556,\"#d8576b\"],[0.6666666666666666,\"#ed7953\"],[0.7777777777777778,\"#fb9f3a\"],[0.8888888888888888,\"#fdca26\"],[1.0,\"#f0f921\"]]},\"colorway\":[\"#636efa\",\"#EF553B\",\"#00cc96\",\"#ab63fa\",\"#FFA15A\",\"#19d3f3\",\"#FF6692\",\"#B6E880\",\"#FF97FF\",\"#FECB52\"],\"font\":{\"color\":\"#2a3f5f\"},\"geo\":{\"bgcolor\":\"white\",\"lakecolor\":\"white\",\"landcolor\":\"#E5ECF6\",\"showlakes\":true,\"showland\":true,\"subunitcolor\":\"white\"},\"hoverlabel\":{\"align\":\"left\"},\"hovermode\":\"closest\",\"mapbox\":{\"style\":\"light\"},\"paper_bgcolor\":\"white\",\"plot_bgcolor\":\"#E5ECF6\",\"polar\":{\"angularaxis\":{\"gridcolor\":\"white\",\"linecolor\":\"white\",\"ticks\":\"\"},\"bgcolor\":\"#E5ECF6\",\"radialaxis\":{\"gridcolor\":\"white\",\"linecolor\":\"white\",\"ticks\":\"\"}},\"scene\":{\"xaxis\":{\"backgroundcolor\":\"#E5ECF6\",\"gridcolor\":\"white\",\"gridwidth\":2,\"linecolor\":\"white\",\"showbackground\":true,\"ticks\":\"\",\"zerolinecolor\":\"white\"},\"yaxis\":{\"backgroundcolor\":\"#E5ECF6\",\"gridcolor\":\"white\",\"gridwidth\":2,\"linecolor\":\"white\",\"showbackground\":true,\"ticks\":\"\",\"zerolinecolor\":\"white\"},\"zaxis\":{\"backgroundcolor\":\"#E5ECF6\",\"gridcolor\":\"white\",\"gridwidth\":2,\"linecolor\":\"white\",\"showbackground\":true,\"ticks\":\"\",\"zerolinecolor\":\"white\"}},\"shapedefaults\":{\"line\":{\"color\":\"#2a3f5f\"}},\"ternary\":{\"aaxis\":{\"gridcolor\":\"white\",\"linecolor\":\"white\",\"ticks\":\"\"},\"baxis\":{\"gridcolor\":\"white\",\"linecolor\":\"white\",\"ticks\":\"\"},\"bgcolor\":\"#E5ECF6\",\"caxis\":{\"gridcolor\":\"white\",\"linecolor\":\"white\",\"ticks\":\"\"}},\"title\":{\"x\":0.05},\"xaxis\":{\"automargin\":true,\"gridcolor\":\"white\",\"linecolor\":\"white\",\"ticks\":\"\",\"title\":{\"standoff\":15},\"zerolinecolor\":\"white\",\"zerolinewidth\":2},\"yaxis\":{\"automargin\":true,\"gridcolor\":\"white\",\"linecolor\":\"white\",\"ticks\":\"\",\"title\":{\"standoff\":15},\"zerolinecolor\":\"white\",\"zerolinewidth\":2}}},\"xaxis\":{\"anchor\":\"y\",\"domain\":[0.0,1.0],\"title\":{\"text\":\"date\"}},\"yaxis\":{\"anchor\":\"x\",\"domain\":[0.0,1.0],\"title\":{\"text\":\"event_name\"}},\"legend\":{\"tracegroupgap\":0},\"title\":{\"text\":\"\\u0427\\u0438\\u0441\\u043b\\u043e \\u0441\\u043e\\u0431\\u044b\\u0442\\u0438\\u0439 \\u043f\\u043e \\u0434\\u043d\\u044f\\u043c - \\u0413\\u0440\\u0443\\u043f\\u043f\\u0430 \\u0410\"},\"barmode\":\"relative\"},                        {\"responsive\": true}                    ).then(function(){\n",
              "                            \n",
              "var gd = document.getElementById('d4b45a44-3c21-4889-9297-0468350671d4');\n",
              "var x = new MutationObserver(function (mutations, observer) {{\n",
              "        var display = window.getComputedStyle(gd).display;\n",
              "        if (!display || display === 'none') {{\n",
              "            console.log([gd, 'removed!']);\n",
              "            Plotly.purge(gd);\n",
              "            observer.disconnect();\n",
              "        }}\n",
              "}});\n",
              "\n",
              "// Listen for the removal of the full notebook cells\n",
              "var notebookContainer = gd.closest('#notebook-container');\n",
              "if (notebookContainer) {{\n",
              "    x.observe(notebookContainer, {childList: true});\n",
              "}}\n",
              "\n",
              "// Listen for the clearing of the current output cell\n",
              "var outputEl = gd.closest('.output');\n",
              "if (outputEl) {{\n",
              "    x.observe(outputEl, {childList: true});\n",
              "}}\n",
              "\n",
              "                        })                };                            </script>        </div>\n",
              "</body>\n",
              "</html>"
            ]
          },
          "metadata": {}
        }
      ],
      "source": [
        "# Визуализируем А\n",
        "px.bar(user_events_a, x='date', y='event_name', title='Число событий по дням - Группа А', text='event_name')"
      ]
    },
    {
      "cell_type": "code",
      "execution_count": 43,
      "metadata": {
        "colab": {
          "base_uri": "https://localhost:8080/",
          "height": 542
        },
        "id": "VwBhnIPN0TB1",
        "outputId": "f1874d0d-ba2d-4723-accb-de34b5d8563a"
      },
      "outputs": [
        {
          "output_type": "display_data",
          "data": {
            "text/html": [
              "<html>\n",
              "<head><meta charset=\"utf-8\" /></head>\n",
              "<body>\n",
              "    <div>            <script src=\"https://cdnjs.cloudflare.com/ajax/libs/mathjax/2.7.5/MathJax.js?config=TeX-AMS-MML_SVG\"></script><script type=\"text/javascript\">if (window.MathJax) {MathJax.Hub.Config({SVG: {font: \"STIX-Web\"}});}</script>                <script type=\"text/javascript\">window.PlotlyConfig = {MathJaxConfig: 'local'};</script>\n",
              "        <script src=\"https://cdn.plot.ly/plotly-2.8.3.min.js\"></script>                <div id=\"af69f069-fd7d-4f7b-931a-11a3f21ebc31\" class=\"plotly-graph-div\" style=\"height:525px; width:100%;\"></div>            <script type=\"text/javascript\">                                    window.PLOTLYENV=window.PLOTLYENV || {};                                    if (document.getElementById(\"af69f069-fd7d-4f7b-931a-11a3f21ebc31\")) {                    Plotly.newPlot(                        \"af69f069-fd7d-4f7b-931a-11a3f21ebc31\",                        [{\"alignmentgroup\":\"True\",\"hovertemplate\":\"date=%{x}<br>event_name=%{text}<extra></extra>\",\"legendgroup\":\"\",\"marker\":{\"color\":\"#636efa\",\"pattern\":{\"shape\":\"\"}},\"name\":\"\",\"offsetgroup\":\"\",\"orientation\":\"v\",\"showlegend\":false,\"text\":[378.0,252.0,361.0,263.0,168.0,203.0,176.0,272.0,232.0,385.0,296.0,272.0,304.0,320.0,430.0,195.0,196.0,154.0,112.0,125.0,119.0,100.0,77.0,4.0],\"textposition\":\"auto\",\"x\":[\"2020-12-07\",\"2020-12-08\",\"2020-12-09\",\"2020-12-10\",\"2020-12-11\",\"2020-12-12\",\"2020-12-13\",\"2020-12-14\",\"2020-12-15\",\"2020-12-16\",\"2020-12-17\",\"2020-12-18\",\"2020-12-19\",\"2020-12-20\",\"2020-12-21\",\"2020-12-22\",\"2020-12-23\",\"2020-12-24\",\"2020-12-25\",\"2020-12-26\",\"2020-12-27\",\"2020-12-28\",\"2020-12-29\",\"2020-12-30\"],\"xaxis\":\"x\",\"y\":[378,252,361,263,168,203,176,272,232,385,296,272,304,320,430,195,196,154,112,125,119,100,77,4],\"yaxis\":\"y\",\"type\":\"bar\"}],                        {\"template\":{\"data\":{\"bar\":[{\"error_x\":{\"color\":\"#2a3f5f\"},\"error_y\":{\"color\":\"#2a3f5f\"},\"marker\":{\"line\":{\"color\":\"#E5ECF6\",\"width\":0.5},\"pattern\":{\"fillmode\":\"overlay\",\"size\":10,\"solidity\":0.2}},\"type\":\"bar\"}],\"barpolar\":[{\"marker\":{\"line\":{\"color\":\"#E5ECF6\",\"width\":0.5},\"pattern\":{\"fillmode\":\"overlay\",\"size\":10,\"solidity\":0.2}},\"type\":\"barpolar\"}],\"carpet\":[{\"aaxis\":{\"endlinecolor\":\"#2a3f5f\",\"gridcolor\":\"white\",\"linecolor\":\"white\",\"minorgridcolor\":\"white\",\"startlinecolor\":\"#2a3f5f\"},\"baxis\":{\"endlinecolor\":\"#2a3f5f\",\"gridcolor\":\"white\",\"linecolor\":\"white\",\"minorgridcolor\":\"white\",\"startlinecolor\":\"#2a3f5f\"},\"type\":\"carpet\"}],\"choropleth\":[{\"colorbar\":{\"outlinewidth\":0,\"ticks\":\"\"},\"type\":\"choropleth\"}],\"contour\":[{\"colorbar\":{\"outlinewidth\":0,\"ticks\":\"\"},\"colorscale\":[[0.0,\"#0d0887\"],[0.1111111111111111,\"#46039f\"],[0.2222222222222222,\"#7201a8\"],[0.3333333333333333,\"#9c179e\"],[0.4444444444444444,\"#bd3786\"],[0.5555555555555556,\"#d8576b\"],[0.6666666666666666,\"#ed7953\"],[0.7777777777777778,\"#fb9f3a\"],[0.8888888888888888,\"#fdca26\"],[1.0,\"#f0f921\"]],\"type\":\"contour\"}],\"contourcarpet\":[{\"colorbar\":{\"outlinewidth\":0,\"ticks\":\"\"},\"type\":\"contourcarpet\"}],\"heatmap\":[{\"colorbar\":{\"outlinewidth\":0,\"ticks\":\"\"},\"colorscale\":[[0.0,\"#0d0887\"],[0.1111111111111111,\"#46039f\"],[0.2222222222222222,\"#7201a8\"],[0.3333333333333333,\"#9c179e\"],[0.4444444444444444,\"#bd3786\"],[0.5555555555555556,\"#d8576b\"],[0.6666666666666666,\"#ed7953\"],[0.7777777777777778,\"#fb9f3a\"],[0.8888888888888888,\"#fdca26\"],[1.0,\"#f0f921\"]],\"type\":\"heatmap\"}],\"heatmapgl\":[{\"colorbar\":{\"outlinewidth\":0,\"ticks\":\"\"},\"colorscale\":[[0.0,\"#0d0887\"],[0.1111111111111111,\"#46039f\"],[0.2222222222222222,\"#7201a8\"],[0.3333333333333333,\"#9c179e\"],[0.4444444444444444,\"#bd3786\"],[0.5555555555555556,\"#d8576b\"],[0.6666666666666666,\"#ed7953\"],[0.7777777777777778,\"#fb9f3a\"],[0.8888888888888888,\"#fdca26\"],[1.0,\"#f0f921\"]],\"type\":\"heatmapgl\"}],\"histogram\":[{\"marker\":{\"pattern\":{\"fillmode\":\"overlay\",\"size\":10,\"solidity\":0.2}},\"type\":\"histogram\"}],\"histogram2d\":[{\"colorbar\":{\"outlinewidth\":0,\"ticks\":\"\"},\"colorscale\":[[0.0,\"#0d0887\"],[0.1111111111111111,\"#46039f\"],[0.2222222222222222,\"#7201a8\"],[0.3333333333333333,\"#9c179e\"],[0.4444444444444444,\"#bd3786\"],[0.5555555555555556,\"#d8576b\"],[0.6666666666666666,\"#ed7953\"],[0.7777777777777778,\"#fb9f3a\"],[0.8888888888888888,\"#fdca26\"],[1.0,\"#f0f921\"]],\"type\":\"histogram2d\"}],\"histogram2dcontour\":[{\"colorbar\":{\"outlinewidth\":0,\"ticks\":\"\"},\"colorscale\":[[0.0,\"#0d0887\"],[0.1111111111111111,\"#46039f\"],[0.2222222222222222,\"#7201a8\"],[0.3333333333333333,\"#9c179e\"],[0.4444444444444444,\"#bd3786\"],[0.5555555555555556,\"#d8576b\"],[0.6666666666666666,\"#ed7953\"],[0.7777777777777778,\"#fb9f3a\"],[0.8888888888888888,\"#fdca26\"],[1.0,\"#f0f921\"]],\"type\":\"histogram2dcontour\"}],\"mesh3d\":[{\"colorbar\":{\"outlinewidth\":0,\"ticks\":\"\"},\"type\":\"mesh3d\"}],\"parcoords\":[{\"line\":{\"colorbar\":{\"outlinewidth\":0,\"ticks\":\"\"}},\"type\":\"parcoords\"}],\"pie\":[{\"automargin\":true,\"type\":\"pie\"}],\"scatter\":[{\"marker\":{\"colorbar\":{\"outlinewidth\":0,\"ticks\":\"\"}},\"type\":\"scatter\"}],\"scatter3d\":[{\"line\":{\"colorbar\":{\"outlinewidth\":0,\"ticks\":\"\"}},\"marker\":{\"colorbar\":{\"outlinewidth\":0,\"ticks\":\"\"}},\"type\":\"scatter3d\"}],\"scattercarpet\":[{\"marker\":{\"colorbar\":{\"outlinewidth\":0,\"ticks\":\"\"}},\"type\":\"scattercarpet\"}],\"scattergeo\":[{\"marker\":{\"colorbar\":{\"outlinewidth\":0,\"ticks\":\"\"}},\"type\":\"scattergeo\"}],\"scattergl\":[{\"marker\":{\"colorbar\":{\"outlinewidth\":0,\"ticks\":\"\"}},\"type\":\"scattergl\"}],\"scattermapbox\":[{\"marker\":{\"colorbar\":{\"outlinewidth\":0,\"ticks\":\"\"}},\"type\":\"scattermapbox\"}],\"scatterpolar\":[{\"marker\":{\"colorbar\":{\"outlinewidth\":0,\"ticks\":\"\"}},\"type\":\"scatterpolar\"}],\"scatterpolargl\":[{\"marker\":{\"colorbar\":{\"outlinewidth\":0,\"ticks\":\"\"}},\"type\":\"scatterpolargl\"}],\"scatterternary\":[{\"marker\":{\"colorbar\":{\"outlinewidth\":0,\"ticks\":\"\"}},\"type\":\"scatterternary\"}],\"surface\":[{\"colorbar\":{\"outlinewidth\":0,\"ticks\":\"\"},\"colorscale\":[[0.0,\"#0d0887\"],[0.1111111111111111,\"#46039f\"],[0.2222222222222222,\"#7201a8\"],[0.3333333333333333,\"#9c179e\"],[0.4444444444444444,\"#bd3786\"],[0.5555555555555556,\"#d8576b\"],[0.6666666666666666,\"#ed7953\"],[0.7777777777777778,\"#fb9f3a\"],[0.8888888888888888,\"#fdca26\"],[1.0,\"#f0f921\"]],\"type\":\"surface\"}],\"table\":[{\"cells\":{\"fill\":{\"color\":\"#EBF0F8\"},\"line\":{\"color\":\"white\"}},\"header\":{\"fill\":{\"color\":\"#C8D4E3\"},\"line\":{\"color\":\"white\"}},\"type\":\"table\"}]},\"layout\":{\"annotationdefaults\":{\"arrowcolor\":\"#2a3f5f\",\"arrowhead\":0,\"arrowwidth\":1},\"autotypenumbers\":\"strict\",\"coloraxis\":{\"colorbar\":{\"outlinewidth\":0,\"ticks\":\"\"}},\"colorscale\":{\"diverging\":[[0,\"#8e0152\"],[0.1,\"#c51b7d\"],[0.2,\"#de77ae\"],[0.3,\"#f1b6da\"],[0.4,\"#fde0ef\"],[0.5,\"#f7f7f7\"],[0.6,\"#e6f5d0\"],[0.7,\"#b8e186\"],[0.8,\"#7fbc41\"],[0.9,\"#4d9221\"],[1,\"#276419\"]],\"sequential\":[[0.0,\"#0d0887\"],[0.1111111111111111,\"#46039f\"],[0.2222222222222222,\"#7201a8\"],[0.3333333333333333,\"#9c179e\"],[0.4444444444444444,\"#bd3786\"],[0.5555555555555556,\"#d8576b\"],[0.6666666666666666,\"#ed7953\"],[0.7777777777777778,\"#fb9f3a\"],[0.8888888888888888,\"#fdca26\"],[1.0,\"#f0f921\"]],\"sequentialminus\":[[0.0,\"#0d0887\"],[0.1111111111111111,\"#46039f\"],[0.2222222222222222,\"#7201a8\"],[0.3333333333333333,\"#9c179e\"],[0.4444444444444444,\"#bd3786\"],[0.5555555555555556,\"#d8576b\"],[0.6666666666666666,\"#ed7953\"],[0.7777777777777778,\"#fb9f3a\"],[0.8888888888888888,\"#fdca26\"],[1.0,\"#f0f921\"]]},\"colorway\":[\"#636efa\",\"#EF553B\",\"#00cc96\",\"#ab63fa\",\"#FFA15A\",\"#19d3f3\",\"#FF6692\",\"#B6E880\",\"#FF97FF\",\"#FECB52\"],\"font\":{\"color\":\"#2a3f5f\"},\"geo\":{\"bgcolor\":\"white\",\"lakecolor\":\"white\",\"landcolor\":\"#E5ECF6\",\"showlakes\":true,\"showland\":true,\"subunitcolor\":\"white\"},\"hoverlabel\":{\"align\":\"left\"},\"hovermode\":\"closest\",\"mapbox\":{\"style\":\"light\"},\"paper_bgcolor\":\"white\",\"plot_bgcolor\":\"#E5ECF6\",\"polar\":{\"angularaxis\":{\"gridcolor\":\"white\",\"linecolor\":\"white\",\"ticks\":\"\"},\"bgcolor\":\"#E5ECF6\",\"radialaxis\":{\"gridcolor\":\"white\",\"linecolor\":\"white\",\"ticks\":\"\"}},\"scene\":{\"xaxis\":{\"backgroundcolor\":\"#E5ECF6\",\"gridcolor\":\"white\",\"gridwidth\":2,\"linecolor\":\"white\",\"showbackground\":true,\"ticks\":\"\",\"zerolinecolor\":\"white\"},\"yaxis\":{\"backgroundcolor\":\"#E5ECF6\",\"gridcolor\":\"white\",\"gridwidth\":2,\"linecolor\":\"white\",\"showbackground\":true,\"ticks\":\"\",\"zerolinecolor\":\"white\"},\"zaxis\":{\"backgroundcolor\":\"#E5ECF6\",\"gridcolor\":\"white\",\"gridwidth\":2,\"linecolor\":\"white\",\"showbackground\":true,\"ticks\":\"\",\"zerolinecolor\":\"white\"}},\"shapedefaults\":{\"line\":{\"color\":\"#2a3f5f\"}},\"ternary\":{\"aaxis\":{\"gridcolor\":\"white\",\"linecolor\":\"white\",\"ticks\":\"\"},\"baxis\":{\"gridcolor\":\"white\",\"linecolor\":\"white\",\"ticks\":\"\"},\"bgcolor\":\"#E5ECF6\",\"caxis\":{\"gridcolor\":\"white\",\"linecolor\":\"white\",\"ticks\":\"\"}},\"title\":{\"x\":0.05},\"xaxis\":{\"automargin\":true,\"gridcolor\":\"white\",\"linecolor\":\"white\",\"ticks\":\"\",\"title\":{\"standoff\":15},\"zerolinecolor\":\"white\",\"zerolinewidth\":2},\"yaxis\":{\"automargin\":true,\"gridcolor\":\"white\",\"linecolor\":\"white\",\"ticks\":\"\",\"title\":{\"standoff\":15},\"zerolinecolor\":\"white\",\"zerolinewidth\":2}}},\"xaxis\":{\"anchor\":\"y\",\"domain\":[0.0,1.0],\"title\":{\"text\":\"date\"}},\"yaxis\":{\"anchor\":\"x\",\"domain\":[0.0,1.0],\"title\":{\"text\":\"event_name\"}},\"legend\":{\"tracegroupgap\":0},\"title\":{\"text\":\"\\u0427\\u0438\\u0441\\u043b\\u043e \\u0441\\u043e\\u0431\\u044b\\u0442\\u0438\\u0439 \\u043f\\u043e \\u0434\\u043d\\u044f\\u043c - \\u0413\\u0440\\u0443\\u043f\\u043f\\u0430 B\"},\"barmode\":\"relative\"},                        {\"responsive\": true}                    ).then(function(){\n",
              "                            \n",
              "var gd = document.getElementById('af69f069-fd7d-4f7b-931a-11a3f21ebc31');\n",
              "var x = new MutationObserver(function (mutations, observer) {{\n",
              "        var display = window.getComputedStyle(gd).display;\n",
              "        if (!display || display === 'none') {{\n",
              "            console.log([gd, 'removed!']);\n",
              "            Plotly.purge(gd);\n",
              "            observer.disconnect();\n",
              "        }}\n",
              "}});\n",
              "\n",
              "// Listen for the removal of the full notebook cells\n",
              "var notebookContainer = gd.closest('#notebook-container');\n",
              "if (notebookContainer) {{\n",
              "    x.observe(notebookContainer, {childList: true});\n",
              "}}\n",
              "\n",
              "// Listen for the clearing of the current output cell\n",
              "var outputEl = gd.closest('.output');\n",
              "if (outputEl) {{\n",
              "    x.observe(outputEl, {childList: true});\n",
              "}}\n",
              "\n",
              "                        })                };                            </script>        </div>\n",
              "</body>\n",
              "</html>"
            ]
          },
          "metadata": {}
        }
      ],
      "source": [
        "# Визуализируем В\n",
        "px.bar(user_events_b, x='date', y='event_name', title='Число событий по дням - Группа B', text='event_name')"
      ]
    },
    {
      "cell_type": "markdown",
      "metadata": {
        "id": "_DyhlUvmAGTr"
      },
      "source": [
        "В обеих группах пик числа пользователей пришёлся на 21 декабря."
      ]
    },
    {
      "cell_type": "code",
      "execution_count": 44,
      "metadata": {
        "colab": {
          "base_uri": "https://localhost:8080/",
          "height": 112
        },
        "id": "RDur6Bhb0hMu",
        "outputId": "92ade20f-e0fe-4fdd-8738-287c0c0ee783"
      },
      "outputs": [
        {
          "output_type": "display_data",
          "data": {
            "text/plain": [
              "                         name        regions   start_dt  finish_dt\n",
              "0    Christmas&New Year Promo  EU, N.America 2020-12-25 2021-01-03\n",
              "10  CIS New Year Gift Lottery            CIS 2020-12-30 2021-01-07"
            ],
            "text/html": [
              "\n",
              "  <div id=\"df-687d0650-f217-4beb-9c3a-40a095b03fa3\">\n",
              "    <div class=\"colab-df-container\">\n",
              "      <div>\n",
              "<style scoped>\n",
              "    .dataframe tbody tr th:only-of-type {\n",
              "        vertical-align: middle;\n",
              "    }\n",
              "\n",
              "    .dataframe tbody tr th {\n",
              "        vertical-align: top;\n",
              "    }\n",
              "\n",
              "    .dataframe thead th {\n",
              "        text-align: right;\n",
              "    }\n",
              "</style>\n",
              "<table border=\"1\" class=\"dataframe\">\n",
              "  <thead>\n",
              "    <tr style=\"text-align: right;\">\n",
              "      <th></th>\n",
              "      <th>name</th>\n",
              "      <th>regions</th>\n",
              "      <th>start_dt</th>\n",
              "      <th>finish_dt</th>\n",
              "    </tr>\n",
              "  </thead>\n",
              "  <tbody>\n",
              "    <tr>\n",
              "      <th>0</th>\n",
              "      <td>Christmas&amp;New Year Promo</td>\n",
              "      <td>EU, N.America</td>\n",
              "      <td>2020-12-25</td>\n",
              "      <td>2021-01-03</td>\n",
              "    </tr>\n",
              "    <tr>\n",
              "      <th>10</th>\n",
              "      <td>CIS New Year Gift Lottery</td>\n",
              "      <td>CIS</td>\n",
              "      <td>2020-12-30</td>\n",
              "      <td>2021-01-07</td>\n",
              "    </tr>\n",
              "  </tbody>\n",
              "</table>\n",
              "</div>\n",
              "      <button class=\"colab-df-convert\" onclick=\"convertToInteractive('df-687d0650-f217-4beb-9c3a-40a095b03fa3')\"\n",
              "              title=\"Convert this dataframe to an interactive table.\"\n",
              "              style=\"display:none;\">\n",
              "        \n",
              "  <svg xmlns=\"http://www.w3.org/2000/svg\" height=\"24px\"viewBox=\"0 0 24 24\"\n",
              "       width=\"24px\">\n",
              "    <path d=\"M0 0h24v24H0V0z\" fill=\"none\"/>\n",
              "    <path d=\"M18.56 5.44l.94 2.06.94-2.06 2.06-.94-2.06-.94-.94-2.06-.94 2.06-2.06.94zm-11 1L8.5 8.5l.94-2.06 2.06-.94-2.06-.94L8.5 2.5l-.94 2.06-2.06.94zm10 10l.94 2.06.94-2.06 2.06-.94-2.06-.94-.94-2.06-.94 2.06-2.06.94z\"/><path d=\"M17.41 7.96l-1.37-1.37c-.4-.4-.92-.59-1.43-.59-.52 0-1.04.2-1.43.59L10.3 9.45l-7.72 7.72c-.78.78-.78 2.05 0 2.83L4 21.41c.39.39.9.59 1.41.59.51 0 1.02-.2 1.41-.59l7.78-7.78 2.81-2.81c.8-.78.8-2.07 0-2.86zM5.41 20L4 18.59l7.72-7.72 1.47 1.35L5.41 20z\"/>\n",
              "  </svg>\n",
              "      </button>\n",
              "      \n",
              "  <style>\n",
              "    .colab-df-container {\n",
              "      display:flex;\n",
              "      flex-wrap:wrap;\n",
              "      gap: 12px;\n",
              "    }\n",
              "\n",
              "    .colab-df-convert {\n",
              "      background-color: #E8F0FE;\n",
              "      border: none;\n",
              "      border-radius: 50%;\n",
              "      cursor: pointer;\n",
              "      display: none;\n",
              "      fill: #1967D2;\n",
              "      height: 32px;\n",
              "      padding: 0 0 0 0;\n",
              "      width: 32px;\n",
              "    }\n",
              "\n",
              "    .colab-df-convert:hover {\n",
              "      background-color: #E2EBFA;\n",
              "      box-shadow: 0px 1px 2px rgba(60, 64, 67, 0.3), 0px 1px 3px 1px rgba(60, 64, 67, 0.15);\n",
              "      fill: #174EA6;\n",
              "    }\n",
              "\n",
              "    [theme=dark] .colab-df-convert {\n",
              "      background-color: #3B4455;\n",
              "      fill: #D2E3FC;\n",
              "    }\n",
              "\n",
              "    [theme=dark] .colab-df-convert:hover {\n",
              "      background-color: #434B5C;\n",
              "      box-shadow: 0px 1px 3px 1px rgba(0, 0, 0, 0.15);\n",
              "      filter: drop-shadow(0px 1px 2px rgba(0, 0, 0, 0.3));\n",
              "      fill: #FFFFFF;\n",
              "    }\n",
              "  </style>\n",
              "\n",
              "      <script>\n",
              "        const buttonEl =\n",
              "          document.querySelector('#df-687d0650-f217-4beb-9c3a-40a095b03fa3 button.colab-df-convert');\n",
              "        buttonEl.style.display =\n",
              "          google.colab.kernel.accessAllowed ? 'block' : 'none';\n",
              "\n",
              "        async function convertToInteractive(key) {\n",
              "          const element = document.querySelector('#df-687d0650-f217-4beb-9c3a-40a095b03fa3');\n",
              "          const dataTable =\n",
              "            await google.colab.kernel.invokeFunction('convertToInteractive',\n",
              "                                                     [key], {});\n",
              "          if (!dataTable) return;\n",
              "\n",
              "          const docLinkHtml = 'Like what you see? Visit the ' +\n",
              "            '<a target=\"_blank\" href=https://colab.research.google.com/notebooks/data_table.ipynb>data table notebook</a>'\n",
              "            + ' to learn more about interactive tables.';\n",
              "          element.innerHTML = '';\n",
              "          dataTable['output_type'] = 'display_data';\n",
              "          await google.colab.output.renderOutput(dataTable, element);\n",
              "          const docLink = document.createElement('div');\n",
              "          docLink.innerHTML = docLinkHtml;\n",
              "          element.appendChild(docLink);\n",
              "        }\n",
              "      </script>\n",
              "    </div>\n",
              "  </div>\n",
              "  "
            ]
          },
          "metadata": {}
        }
      ],
      "source": [
        "# Проверим были пересекался ли тест с другми маркетинговыми активностями\n",
        "cross_events = ab_project_marketing_events[(ab_project_marketing_events['start_dt'] > '2020-12-07') &\n",
        "                            (ab_project_marketing_events['start_dt'] < '2021-01-04')]\n",
        "display(cross_events)"
      ]
    },
    {
      "cell_type": "markdown",
      "metadata": {
        "id": "AaMo6cYbpm08"
      },
      "source": [
        "Резкий рост событий в группе А 14 декабря может быть связан с запуском маркетинговой компании Christmas&New Year Promo и покупкой подарков перед праздниками - это также негативно влияет на корректоность провдения теста."
      ]
    },
    {
      "cell_type": "markdown",
      "metadata": {
        "id": "ZVs8EuvccOm7"
      },
      "source": [
        "### Равномерность распределения по тестовым группам и правильность их формирования<a id=\"equability\"></a>"
      ]
    },
    {
      "cell_type": "markdown",
      "metadata": {
        "id": "TcHhJn6bcc5q"
      },
      "source": [
        "**Проверим была ли аудитория теста сформирована правильно**"
      ]
    },
    {
      "cell_type": "code",
      "execution_count": 45,
      "metadata": {
        "colab": {
          "base_uri": "https://localhost:8080/"
        },
        "id": "Y_QrGGUYcT4j",
        "outputId": "80e09d5d-4071-4cd5-d12c-dbf904e308ab"
      },
      "outputs": [
        {
          "output_type": "stream",
          "name": "stdout",
          "text": [
            "Общее количество новых пользователей из региона EU -  46270\n"
          ]
        }
      ],
      "source": [
        "# Подсчистаем общее количество новых пользователей региона EU\n",
        "EU_new = final_ab_new_users[final_ab_new_users['region'] == 'EU']['user_id'].nunique()\n",
        "print('Общее количество новых пользователей из региона EU - ', EU_new)"
      ]
    },
    {
      "cell_type": "code",
      "execution_count": 46,
      "metadata": {
        "colab": {
          "base_uri": "https://localhost:8080/"
        },
        "id": "x61iaGadc4lF",
        "outputId": "974adca7-62e8-4a57-9b34-2f3c730b99b6"
      },
      "outputs": [
        {
          "output_type": "stream",
          "name": "stdout",
          "text": [
            "Процент аудитории из EU 14.48 %\n"
          ]
        }
      ],
      "source": [
        "# Расчитаем долю новых пользователей региона EU попавших в тест\n",
        "EU_test = final_ab_new_users.merge(final_ab_participants[final_ab_participants['ab_test'] == 'recommender_system_test'],\n",
        "                                    how=\"inner\",\n",
        "                                    on='user_id')\n",
        "print('Процент аудитории из EU', round(EU_test['user_id'].nunique()/(EU_new/100), 2), '%')"
      ]
    },
    {
      "cell_type": "markdown",
      "metadata": {
        "id": "r-1xYf61eckw"
      },
      "source": [
        "В условиях теста указано, что 15% новой аудитории из EU, но в тест попало 14.48%"
      ]
    },
    {
      "cell_type": "markdown",
      "metadata": {
        "id": "KfRzFJxbemFN"
      },
      "source": [
        "**Посмотрим было ли распределение по тестовым группам равномерным**"
      ]
    },
    {
      "cell_type": "code",
      "execution_count": 47,
      "metadata": {
        "colab": {
          "base_uri": "https://localhost:8080/"
        },
        "id": "fenzCtJBekUg",
        "outputId": "7528b94e-664f-41f7-b069-801055f145a0"
      },
      "outputs": [
        {
          "output_type": "stream",
          "name": "stdout",
          "text": [
            "Количество пользователей в группе А - 3824\n",
            "Количество пользователей в группе B - 2877\n",
            "Разница в пользу группы А - 947\n"
          ]
        }
      ],
      "source": [
        "rs_test_a = final_ab_participants[(final_ab_participants['ab_test'] == 'recommender_system_test') &\n",
        "                                                  (final_ab_participants['group'] == 'A')]\n",
        "rs_test_b = final_ab_participants[(final_ab_participants['ab_test'] == 'recommender_system_test') &\n",
        "                                                  (final_ab_participants['group'] == 'B')]\n",
        "print('Количество пользователей в группе А -', rs_test_a['user_id'].nunique())\n",
        "print('Количество пользователей в группе B -', rs_test_b['user_id'].nunique())\n",
        "print('Разница в пользу группы А -', rs_test_a['user_id'].nunique()-rs_test_b['user_id'].nunique())"
      ]
    },
    {
      "cell_type": "markdown",
      "metadata": {
        "id": "D_wMrangfYoQ"
      },
      "source": [
        "Пользователи распеределены по группам неравномерно"
      ]
    },
    {
      "cell_type": "markdown",
      "metadata": {
        "id": "96enVt1FaOU4"
      },
      "source": [
        "**Выводы**   \n",
        "* В обеих группах больше половины пользователей, зарегистрировавшихся на сайте, перешли на страницу с товаром. Почти половина пользователей со страницы с товаром перешли к оплате товаров.     \n",
        "* Количество оплаченных товаров превышает количество товаров, добавленных в корзину - скорей всего у пользователей есть возможность перейти к оплате товара сразу со страницы товара.     \n",
        "* Количество пользователей, которые последовательно проходили все этапы сайта последовательно, не очень большое - следовательно, на страницу оплаты можно попасть другими способами - с других страниц сайта или стронных ресурсов (из директа, например).    \n",
        "* Из группы А шаг за шагом до оплаты не дошел ни один пользователь. Из группы В только один.\n",
        "* Число событий на одного пользователя выше в группе А.    \n",
        "* Мы установили, что среди пользователей есть пересечение с аудиторией теста interface_eu_test, и по времени есть пересечение с другими маркетинговыми активностями.   \n",
        "* В обеих группах пик числа пользователей пришёлся на 21 декабря.     \n",
        "* В условиях теста указано, что 15% новой аудитории из EU, но в тест попало 14.48%.   \n",
        "* Пользователи распределены по группам неравномерно – в группе А их больше.    \n",
        "* Резкий рост событий в группе А 14 декабря может быть связан с запуском маркетинговой компании Christmas&New Year Promo и покупкой подарков перед праздниками - это также негативно влияет на корректоность провдения теста, и мы учтём это при формулировании выводов.     \n",
        "!!! АВ-тест выпал на время новогодней промо-акции, что делают его валидность сомнительной, новый год итак время для покупок и не показательно для аб теста, здесь еще и маркетинговая активность.\n"
      ]
    },
    {
      "cell_type": "markdown",
      "metadata": {
        "id": "EL6q39VUaR0m"
      },
      "source": [
        "---"
      ]
    },
    {
      "cell_type": "markdown",
      "metadata": {
        "id": "LzoWdAqbYIVs"
      },
      "source": [
        "## Оценка результатов А/В-теста<a id=\"AB_test\"></a>   \n",
        "Мы проанализируем:   \n",
        "* Результаты A/В-тестирования   \n",
        "* Проверим статистическую разницу долей z-критерием"
      ]
    },
    {
      "cell_type": "code",
      "execution_count": 48,
      "metadata": {
        "id": "3fIESYOhZWnP"
      },
      "outputs": [],
      "source": [
        "# Выделем нужные нагруппы пользователей \n",
        "# Объедним данные групп  с данными пользователей, зарегистрировавшиеся с 7 по 21 декабря 2020 года\n",
        "group_a_total = group_a.merge(final_ab_new_users, how = 'inner', on='user_id')\n",
        "group_b_total = group_b.merge(final_ab_new_users, how = 'inner', on='user_id')\n",
        "\n",
        "# Выделим пользователей из  региона EU\n",
        "group_a_EU = group_a_total[group_a_total['region'] == 'EU'].copy()\n",
        "group_b_EU = group_b_total[group_b_total['region'] == 'EU'].copy()\n",
        "\n",
        "# Оставим 14 дневный период с момента регистрации\n",
        "group_a_EU  = group_a_EU.merge(final_ab_events, how = 'inner', on = 'user_id')\n",
        "group_b_EU = group_b_EU.merge(final_ab_events, how = 'inner', on = 'user_id')\n",
        "group_a_EU = group_a_EU[(group_a_EU['event_dt'] - group_a_EU['first_date']).dt.days < 15]\n",
        "group_b_EU = group_b_EU[(group_b_EU['event_dt'] - group_b_EU['first_date']).dt.days < 15]\n",
        "\n",
        "#display(group_a_EU.head())\n",
        "#display(group_a_EU.head())"
      ]
    },
    {
      "cell_type": "markdown",
      "metadata": {
        "id": "MXAzPw-sc0Nf"
      },
      "source": [
        "### Анализ результата A/B-теста<a id=\"AB_result\"></a>"
      ]
    },
    {
      "cell_type": "code",
      "execution_count": 49,
      "metadata": {
        "id": "8Ckof0Sjafaj"
      },
      "outputs": [],
      "source": [
        "# Подсчитаем число польователей в группах по событиям\n",
        "group_a_group = (group_a_EU\n",
        "                   .groupby('event_name')\n",
        "                   .agg({'user_id':'nunique'})\n",
        "                   .sort_values(by = 'user_id', ascending=False)\n",
        "                   .reset_index())\n",
        "\n",
        "group_b_group = (group_b_EU\n",
        "                   .groupby('event_name')\n",
        "                   .agg({'user_id':'nunique'})\n",
        "                   .sort_values(by = 'user_id', ascending=False)\n",
        "                   .reset_index())"
      ]
    },
    {
      "cell_type": "code",
      "execution_count": 50,
      "metadata": {
        "colab": {
          "base_uri": "https://localhost:8080/",
          "height": 542
        },
        "id": "97RpNX-3dIEf",
        "outputId": "3ba94eba-437f-4ec2-9686-2f3bd5c06197"
      },
      "outputs": [
        {
          "output_type": "display_data",
          "data": {
            "text/html": [
              "<html>\n",
              "<head><meta charset=\"utf-8\" /></head>\n",
              "<body>\n",
              "    <div>            <script src=\"https://cdnjs.cloudflare.com/ajax/libs/mathjax/2.7.5/MathJax.js?config=TeX-AMS-MML_SVG\"></script><script type=\"text/javascript\">if (window.MathJax) {MathJax.Hub.Config({SVG: {font: \"STIX-Web\"}});}</script>                <script type=\"text/javascript\">window.PlotlyConfig = {MathJaxConfig: 'local'};</script>\n",
              "        <script src=\"https://cdn.plot.ly/plotly-2.8.3.min.js\"></script>                <div id=\"79c066c2-e4ae-4873-b540-dae5a344a988\" class=\"plotly-graph-div\" style=\"height:525px; width:100%;\"></div>            <script type=\"text/javascript\">                                    window.PLOTLYENV=window.PLOTLYENV || {};                                    if (document.getElementById(\"79c066c2-e4ae-4873-b540-dae5a344a988\")) {                    Plotly.newPlot(                        \"79c066c2-e4ae-4873-b540-dae5a344a988\",                        [{\"name\":\"\\u0413\\u0440\\u0443\\u043f\\u043f\\u0430 A\",\"textinfo\":\"value+percent previous\",\"x\":[2604,1685,833,782],\"y\":[\"login\",\"product_page\",\"purchase\",\"product_cart\"],\"type\":\"funnel\"},{\"name\":\"\\u0413\\u0440\\u0443\\u043f\\u043f\\u0430 B\",\"textinfo\":\"value+percent previous\",\"x\":[876,493,249,244],\"y\":[\"login\",\"product_page\",\"purchase\",\"product_cart\"],\"type\":\"funnel\"}],                        {\"template\":{\"data\":{\"bar\":[{\"error_x\":{\"color\":\"#2a3f5f\"},\"error_y\":{\"color\":\"#2a3f5f\"},\"marker\":{\"line\":{\"color\":\"#E5ECF6\",\"width\":0.5},\"pattern\":{\"fillmode\":\"overlay\",\"size\":10,\"solidity\":0.2}},\"type\":\"bar\"}],\"barpolar\":[{\"marker\":{\"line\":{\"color\":\"#E5ECF6\",\"width\":0.5},\"pattern\":{\"fillmode\":\"overlay\",\"size\":10,\"solidity\":0.2}},\"type\":\"barpolar\"}],\"carpet\":[{\"aaxis\":{\"endlinecolor\":\"#2a3f5f\",\"gridcolor\":\"white\",\"linecolor\":\"white\",\"minorgridcolor\":\"white\",\"startlinecolor\":\"#2a3f5f\"},\"baxis\":{\"endlinecolor\":\"#2a3f5f\",\"gridcolor\":\"white\",\"linecolor\":\"white\",\"minorgridcolor\":\"white\",\"startlinecolor\":\"#2a3f5f\"},\"type\":\"carpet\"}],\"choropleth\":[{\"colorbar\":{\"outlinewidth\":0,\"ticks\":\"\"},\"type\":\"choropleth\"}],\"contour\":[{\"colorbar\":{\"outlinewidth\":0,\"ticks\":\"\"},\"colorscale\":[[0.0,\"#0d0887\"],[0.1111111111111111,\"#46039f\"],[0.2222222222222222,\"#7201a8\"],[0.3333333333333333,\"#9c179e\"],[0.4444444444444444,\"#bd3786\"],[0.5555555555555556,\"#d8576b\"],[0.6666666666666666,\"#ed7953\"],[0.7777777777777778,\"#fb9f3a\"],[0.8888888888888888,\"#fdca26\"],[1.0,\"#f0f921\"]],\"type\":\"contour\"}],\"contourcarpet\":[{\"colorbar\":{\"outlinewidth\":0,\"ticks\":\"\"},\"type\":\"contourcarpet\"}],\"heatmap\":[{\"colorbar\":{\"outlinewidth\":0,\"ticks\":\"\"},\"colorscale\":[[0.0,\"#0d0887\"],[0.1111111111111111,\"#46039f\"],[0.2222222222222222,\"#7201a8\"],[0.3333333333333333,\"#9c179e\"],[0.4444444444444444,\"#bd3786\"],[0.5555555555555556,\"#d8576b\"],[0.6666666666666666,\"#ed7953\"],[0.7777777777777778,\"#fb9f3a\"],[0.8888888888888888,\"#fdca26\"],[1.0,\"#f0f921\"]],\"type\":\"heatmap\"}],\"heatmapgl\":[{\"colorbar\":{\"outlinewidth\":0,\"ticks\":\"\"},\"colorscale\":[[0.0,\"#0d0887\"],[0.1111111111111111,\"#46039f\"],[0.2222222222222222,\"#7201a8\"],[0.3333333333333333,\"#9c179e\"],[0.4444444444444444,\"#bd3786\"],[0.5555555555555556,\"#d8576b\"],[0.6666666666666666,\"#ed7953\"],[0.7777777777777778,\"#fb9f3a\"],[0.8888888888888888,\"#fdca26\"],[1.0,\"#f0f921\"]],\"type\":\"heatmapgl\"}],\"histogram\":[{\"marker\":{\"pattern\":{\"fillmode\":\"overlay\",\"size\":10,\"solidity\":0.2}},\"type\":\"histogram\"}],\"histogram2d\":[{\"colorbar\":{\"outlinewidth\":0,\"ticks\":\"\"},\"colorscale\":[[0.0,\"#0d0887\"],[0.1111111111111111,\"#46039f\"],[0.2222222222222222,\"#7201a8\"],[0.3333333333333333,\"#9c179e\"],[0.4444444444444444,\"#bd3786\"],[0.5555555555555556,\"#d8576b\"],[0.6666666666666666,\"#ed7953\"],[0.7777777777777778,\"#fb9f3a\"],[0.8888888888888888,\"#fdca26\"],[1.0,\"#f0f921\"]],\"type\":\"histogram2d\"}],\"histogram2dcontour\":[{\"colorbar\":{\"outlinewidth\":0,\"ticks\":\"\"},\"colorscale\":[[0.0,\"#0d0887\"],[0.1111111111111111,\"#46039f\"],[0.2222222222222222,\"#7201a8\"],[0.3333333333333333,\"#9c179e\"],[0.4444444444444444,\"#bd3786\"],[0.5555555555555556,\"#d8576b\"],[0.6666666666666666,\"#ed7953\"],[0.7777777777777778,\"#fb9f3a\"],[0.8888888888888888,\"#fdca26\"],[1.0,\"#f0f921\"]],\"type\":\"histogram2dcontour\"}],\"mesh3d\":[{\"colorbar\":{\"outlinewidth\":0,\"ticks\":\"\"},\"type\":\"mesh3d\"}],\"parcoords\":[{\"line\":{\"colorbar\":{\"outlinewidth\":0,\"ticks\":\"\"}},\"type\":\"parcoords\"}],\"pie\":[{\"automargin\":true,\"type\":\"pie\"}],\"scatter\":[{\"marker\":{\"colorbar\":{\"outlinewidth\":0,\"ticks\":\"\"}},\"type\":\"scatter\"}],\"scatter3d\":[{\"line\":{\"colorbar\":{\"outlinewidth\":0,\"ticks\":\"\"}},\"marker\":{\"colorbar\":{\"outlinewidth\":0,\"ticks\":\"\"}},\"type\":\"scatter3d\"}],\"scattercarpet\":[{\"marker\":{\"colorbar\":{\"outlinewidth\":0,\"ticks\":\"\"}},\"type\":\"scattercarpet\"}],\"scattergeo\":[{\"marker\":{\"colorbar\":{\"outlinewidth\":0,\"ticks\":\"\"}},\"type\":\"scattergeo\"}],\"scattergl\":[{\"marker\":{\"colorbar\":{\"outlinewidth\":0,\"ticks\":\"\"}},\"type\":\"scattergl\"}],\"scattermapbox\":[{\"marker\":{\"colorbar\":{\"outlinewidth\":0,\"ticks\":\"\"}},\"type\":\"scattermapbox\"}],\"scatterpolar\":[{\"marker\":{\"colorbar\":{\"outlinewidth\":0,\"ticks\":\"\"}},\"type\":\"scatterpolar\"}],\"scatterpolargl\":[{\"marker\":{\"colorbar\":{\"outlinewidth\":0,\"ticks\":\"\"}},\"type\":\"scatterpolargl\"}],\"scatterternary\":[{\"marker\":{\"colorbar\":{\"outlinewidth\":0,\"ticks\":\"\"}},\"type\":\"scatterternary\"}],\"surface\":[{\"colorbar\":{\"outlinewidth\":0,\"ticks\":\"\"},\"colorscale\":[[0.0,\"#0d0887\"],[0.1111111111111111,\"#46039f\"],[0.2222222222222222,\"#7201a8\"],[0.3333333333333333,\"#9c179e\"],[0.4444444444444444,\"#bd3786\"],[0.5555555555555556,\"#d8576b\"],[0.6666666666666666,\"#ed7953\"],[0.7777777777777778,\"#fb9f3a\"],[0.8888888888888888,\"#fdca26\"],[1.0,\"#f0f921\"]],\"type\":\"surface\"}],\"table\":[{\"cells\":{\"fill\":{\"color\":\"#EBF0F8\"},\"line\":{\"color\":\"white\"}},\"header\":{\"fill\":{\"color\":\"#C8D4E3\"},\"line\":{\"color\":\"white\"}},\"type\":\"table\"}]},\"layout\":{\"annotationdefaults\":{\"arrowcolor\":\"#2a3f5f\",\"arrowhead\":0,\"arrowwidth\":1},\"autotypenumbers\":\"strict\",\"coloraxis\":{\"colorbar\":{\"outlinewidth\":0,\"ticks\":\"\"}},\"colorscale\":{\"diverging\":[[0,\"#8e0152\"],[0.1,\"#c51b7d\"],[0.2,\"#de77ae\"],[0.3,\"#f1b6da\"],[0.4,\"#fde0ef\"],[0.5,\"#f7f7f7\"],[0.6,\"#e6f5d0\"],[0.7,\"#b8e186\"],[0.8,\"#7fbc41\"],[0.9,\"#4d9221\"],[1,\"#276419\"]],\"sequential\":[[0.0,\"#0d0887\"],[0.1111111111111111,\"#46039f\"],[0.2222222222222222,\"#7201a8\"],[0.3333333333333333,\"#9c179e\"],[0.4444444444444444,\"#bd3786\"],[0.5555555555555556,\"#d8576b\"],[0.6666666666666666,\"#ed7953\"],[0.7777777777777778,\"#fb9f3a\"],[0.8888888888888888,\"#fdca26\"],[1.0,\"#f0f921\"]],\"sequentialminus\":[[0.0,\"#0d0887\"],[0.1111111111111111,\"#46039f\"],[0.2222222222222222,\"#7201a8\"],[0.3333333333333333,\"#9c179e\"],[0.4444444444444444,\"#bd3786\"],[0.5555555555555556,\"#d8576b\"],[0.6666666666666666,\"#ed7953\"],[0.7777777777777778,\"#fb9f3a\"],[0.8888888888888888,\"#fdca26\"],[1.0,\"#f0f921\"]]},\"colorway\":[\"#636efa\",\"#EF553B\",\"#00cc96\",\"#ab63fa\",\"#FFA15A\",\"#19d3f3\",\"#FF6692\",\"#B6E880\",\"#FF97FF\",\"#FECB52\"],\"font\":{\"color\":\"#2a3f5f\"},\"geo\":{\"bgcolor\":\"white\",\"lakecolor\":\"white\",\"landcolor\":\"#E5ECF6\",\"showlakes\":true,\"showland\":true,\"subunitcolor\":\"white\"},\"hoverlabel\":{\"align\":\"left\"},\"hovermode\":\"closest\",\"mapbox\":{\"style\":\"light\"},\"paper_bgcolor\":\"white\",\"plot_bgcolor\":\"#E5ECF6\",\"polar\":{\"angularaxis\":{\"gridcolor\":\"white\",\"linecolor\":\"white\",\"ticks\":\"\"},\"bgcolor\":\"#E5ECF6\",\"radialaxis\":{\"gridcolor\":\"white\",\"linecolor\":\"white\",\"ticks\":\"\"}},\"scene\":{\"xaxis\":{\"backgroundcolor\":\"#E5ECF6\",\"gridcolor\":\"white\",\"gridwidth\":2,\"linecolor\":\"white\",\"showbackground\":true,\"ticks\":\"\",\"zerolinecolor\":\"white\"},\"yaxis\":{\"backgroundcolor\":\"#E5ECF6\",\"gridcolor\":\"white\",\"gridwidth\":2,\"linecolor\":\"white\",\"showbackground\":true,\"ticks\":\"\",\"zerolinecolor\":\"white\"},\"zaxis\":{\"backgroundcolor\":\"#E5ECF6\",\"gridcolor\":\"white\",\"gridwidth\":2,\"linecolor\":\"white\",\"showbackground\":true,\"ticks\":\"\",\"zerolinecolor\":\"white\"}},\"shapedefaults\":{\"line\":{\"color\":\"#2a3f5f\"}},\"ternary\":{\"aaxis\":{\"gridcolor\":\"white\",\"linecolor\":\"white\",\"ticks\":\"\"},\"baxis\":{\"gridcolor\":\"white\",\"linecolor\":\"white\",\"ticks\":\"\"},\"bgcolor\":\"#E5ECF6\",\"caxis\":{\"gridcolor\":\"white\",\"linecolor\":\"white\",\"ticks\":\"\"}},\"title\":{\"x\":0.05},\"xaxis\":{\"automargin\":true,\"gridcolor\":\"white\",\"linecolor\":\"white\",\"ticks\":\"\",\"title\":{\"standoff\":15},\"zerolinecolor\":\"white\",\"zerolinewidth\":2},\"yaxis\":{\"automargin\":true,\"gridcolor\":\"white\",\"linecolor\":\"white\",\"ticks\":\"\",\"title\":{\"standoff\":15},\"zerolinecolor\":\"white\",\"zerolinewidth\":2}}},\"title\":{\"text\":\"\\u041a\\u043e\\u043d\\u0432\\u0435\\u0440\\u0441\\u0438\\u044f \\u043f\\u043e\\u043b\\u044c\\u0437\\u043e\\u0432\\u0430\\u0442\\u0435\\u043b\\u0435\\u0439 \\u0432 \\u0433\\u0440\\u0443\\u043f\\u043f\\u0430\\u0445 \\u0410 \\u0438 \\u0412\"}},                        {\"responsive\": true}                    ).then(function(){\n",
              "                            \n",
              "var gd = document.getElementById('79c066c2-e4ae-4873-b540-dae5a344a988');\n",
              "var x = new MutationObserver(function (mutations, observer) {{\n",
              "        var display = window.getComputedStyle(gd).display;\n",
              "        if (!display || display === 'none') {{\n",
              "            console.log([gd, 'removed!']);\n",
              "            Plotly.purge(gd);\n",
              "            observer.disconnect();\n",
              "        }}\n",
              "}});\n",
              "\n",
              "// Listen for the removal of the full notebook cells\n",
              "var notebookContainer = gd.closest('#notebook-container');\n",
              "if (notebookContainer) {{\n",
              "    x.observe(notebookContainer, {childList: true});\n",
              "}}\n",
              "\n",
              "// Listen for the clearing of the current output cell\n",
              "var outputEl = gd.closest('.output');\n",
              "if (outputEl) {{\n",
              "    x.observe(outputEl, {childList: true});\n",
              "}}\n",
              "\n",
              "                        })                };                            </script>        </div>\n",
              "</body>\n",
              "</html>"
            ]
          },
          "metadata": {}
        }
      ],
      "source": [
        "# Построим воронку\n",
        "fig = go.Figure()\n",
        "\n",
        "fig.add_trace(go.Funnel(\n",
        "    name = 'Группа A',\n",
        "    y = group_a_group['event_name'],\n",
        "    x = group_a_group['user_id'],\n",
        "    textinfo = \"value+percent previous\"\n",
        "))\n",
        "\n",
        "fig.add_trace(go.Funnel(\n",
        "    name = 'Группа B',\n",
        "    y = group_b_group['event_name'],\n",
        "    x = group_b_group['user_id'],\n",
        "    textinfo = \"value+percent previous\"\n",
        "))\n",
        "\n",
        "fig.update_layout(title_text='Конверсия пользователей в группах А и В')\n",
        "fig.show()"
      ]
    },
    {
      "cell_type": "code",
      "execution_count": 51,
      "metadata": {
        "id": "baLal-ivdUSG",
        "colab": {
          "base_uri": "https://localhost:8080/"
        },
        "outputId": "d0be21cf-5342-4f79-8de8-cd560c48ddf6"
      },
      "outputs": [
        {
          "output_type": "stream",
          "name": "stderr",
          "text": [
            "/usr/local/lib/python3.7/dist-packages/ipykernel_launcher.py:10: SettingWithCopyWarning:\n",
            "\n",
            "\n",
            "A value is trying to be set on a copy of a slice from a DataFrame.\n",
            "Try using .loc[row_indexer,col_indexer] = value instead\n",
            "\n",
            "See the caveats in the documentation: https://pandas.pydata.org/pandas-docs/stable/user_guide/indexing.html#returning-a-view-versus-a-copy\n",
            "\n"
          ]
        }
      ],
      "source": [
        "# Объеденим группы с действия новых пользователей в период с 7 декабря 2020 по 4 января\n",
        "group_a_all = group_a_EU.merge(final_ab_events, how = 'outer', on = 'user_id')\n",
        "group_b_all = group_b_EU.merge(final_ab_events, how = 'outer', on = 'user_id')\n",
        "\n",
        "# Выделим группы А и В\n",
        "group_a_all = group_a_all[group_a_all['group'] == 'A']\n",
        "group_b_all = group_b_all[group_b_all['group'] == 'B']\n",
        "\n",
        "group_a_all['event_name'] = group_a_all['event_name_x'].fillna('no_event')\n",
        "group_b_all['event_name'] = group_b_all['event_name_x'].fillna('no_event')\n",
        "\n",
        "#display(group_a_all.head())\n",
        "#display(group_b_all.head())"
      ]
    },
    {
      "cell_type": "code",
      "execution_count": 52,
      "metadata": {
        "id": "42U8EsVoedcu"
      },
      "outputs": [],
      "source": [
        "# Подсчитаем число польователей в группах по событиям\n",
        "group_a_group_all = (group_a_all\n",
        "                   .groupby('event_name')\n",
        "                   .agg({'user_id':'nunique'})\n",
        "                   .sort_values(by = 'user_id', ascending=False)\n",
        "                   .reset_index())\n",
        "group_b_group_all = (group_b_all\n",
        "                   .groupby('event_name')\n",
        "                   .agg({'user_id':'nunique'})\n",
        "                   .sort_values(by = 'user_id', ascending=False)\n",
        "                   .reset_index())"
      ]
    },
    {
      "cell_type": "code",
      "execution_count": 53,
      "metadata": {
        "colab": {
          "base_uri": "https://localhost:8080/",
          "height": 542
        },
        "id": "NTuirE1hgErv",
        "outputId": "d30f7f5c-d78a-4ad5-ddf3-f4a125f649ab"
      },
      "outputs": [
        {
          "output_type": "display_data",
          "data": {
            "text/html": [
              "<html>\n",
              "<head><meta charset=\"utf-8\" /></head>\n",
              "<body>\n",
              "    <div>            <script src=\"https://cdnjs.cloudflare.com/ajax/libs/mathjax/2.7.5/MathJax.js?config=TeX-AMS-MML_SVG\"></script><script type=\"text/javascript\">if (window.MathJax) {MathJax.Hub.Config({SVG: {font: \"STIX-Web\"}});}</script>                <script type=\"text/javascript\">window.PlotlyConfig = {MathJaxConfig: 'local'};</script>\n",
              "        <script src=\"https://cdn.plot.ly/plotly-2.8.3.min.js\"></script>                <div id=\"4eaabc47-6c29-4d27-a406-5a947d528d99\" class=\"plotly-graph-div\" style=\"height:525px; width:100%;\"></div>            <script type=\"text/javascript\">                                    window.PLOTLYENV=window.PLOTLYENV || {};                                    if (document.getElementById(\"4eaabc47-6c29-4d27-a406-5a947d528d99\")) {                    Plotly.newPlot(                        \"4eaabc47-6c29-4d27-a406-5a947d528d99\",                        [{\"name\":\"\\u0413\\u0440\\u0443\\u043f\\u043f\\u0430 A\",\"textinfo\":\"value+percent previous\",\"x\":[2604,1685,833,782],\"y\":[\"login\",\"product_page\",\"purchase\",\"product_cart\"],\"type\":\"funnel\"},{\"name\":\"\\u0413\\u0440\\u0443\\u043f\\u043f\\u0430 B\",\"textinfo\":\"value+percent previous\",\"x\":[876,493,249,244],\"y\":[\"login\",\"product_page\",\"purchase\",\"product_cart\"],\"type\":\"funnel\"}],                        {\"template\":{\"data\":{\"bar\":[{\"error_x\":{\"color\":\"#2a3f5f\"},\"error_y\":{\"color\":\"#2a3f5f\"},\"marker\":{\"line\":{\"color\":\"#E5ECF6\",\"width\":0.5},\"pattern\":{\"fillmode\":\"overlay\",\"size\":10,\"solidity\":0.2}},\"type\":\"bar\"}],\"barpolar\":[{\"marker\":{\"line\":{\"color\":\"#E5ECF6\",\"width\":0.5},\"pattern\":{\"fillmode\":\"overlay\",\"size\":10,\"solidity\":0.2}},\"type\":\"barpolar\"}],\"carpet\":[{\"aaxis\":{\"endlinecolor\":\"#2a3f5f\",\"gridcolor\":\"white\",\"linecolor\":\"white\",\"minorgridcolor\":\"white\",\"startlinecolor\":\"#2a3f5f\"},\"baxis\":{\"endlinecolor\":\"#2a3f5f\",\"gridcolor\":\"white\",\"linecolor\":\"white\",\"minorgridcolor\":\"white\",\"startlinecolor\":\"#2a3f5f\"},\"type\":\"carpet\"}],\"choropleth\":[{\"colorbar\":{\"outlinewidth\":0,\"ticks\":\"\"},\"type\":\"choropleth\"}],\"contour\":[{\"colorbar\":{\"outlinewidth\":0,\"ticks\":\"\"},\"colorscale\":[[0.0,\"#0d0887\"],[0.1111111111111111,\"#46039f\"],[0.2222222222222222,\"#7201a8\"],[0.3333333333333333,\"#9c179e\"],[0.4444444444444444,\"#bd3786\"],[0.5555555555555556,\"#d8576b\"],[0.6666666666666666,\"#ed7953\"],[0.7777777777777778,\"#fb9f3a\"],[0.8888888888888888,\"#fdca26\"],[1.0,\"#f0f921\"]],\"type\":\"contour\"}],\"contourcarpet\":[{\"colorbar\":{\"outlinewidth\":0,\"ticks\":\"\"},\"type\":\"contourcarpet\"}],\"heatmap\":[{\"colorbar\":{\"outlinewidth\":0,\"ticks\":\"\"},\"colorscale\":[[0.0,\"#0d0887\"],[0.1111111111111111,\"#46039f\"],[0.2222222222222222,\"#7201a8\"],[0.3333333333333333,\"#9c179e\"],[0.4444444444444444,\"#bd3786\"],[0.5555555555555556,\"#d8576b\"],[0.6666666666666666,\"#ed7953\"],[0.7777777777777778,\"#fb9f3a\"],[0.8888888888888888,\"#fdca26\"],[1.0,\"#f0f921\"]],\"type\":\"heatmap\"}],\"heatmapgl\":[{\"colorbar\":{\"outlinewidth\":0,\"ticks\":\"\"},\"colorscale\":[[0.0,\"#0d0887\"],[0.1111111111111111,\"#46039f\"],[0.2222222222222222,\"#7201a8\"],[0.3333333333333333,\"#9c179e\"],[0.4444444444444444,\"#bd3786\"],[0.5555555555555556,\"#d8576b\"],[0.6666666666666666,\"#ed7953\"],[0.7777777777777778,\"#fb9f3a\"],[0.8888888888888888,\"#fdca26\"],[1.0,\"#f0f921\"]],\"type\":\"heatmapgl\"}],\"histogram\":[{\"marker\":{\"pattern\":{\"fillmode\":\"overlay\",\"size\":10,\"solidity\":0.2}},\"type\":\"histogram\"}],\"histogram2d\":[{\"colorbar\":{\"outlinewidth\":0,\"ticks\":\"\"},\"colorscale\":[[0.0,\"#0d0887\"],[0.1111111111111111,\"#46039f\"],[0.2222222222222222,\"#7201a8\"],[0.3333333333333333,\"#9c179e\"],[0.4444444444444444,\"#bd3786\"],[0.5555555555555556,\"#d8576b\"],[0.6666666666666666,\"#ed7953\"],[0.7777777777777778,\"#fb9f3a\"],[0.8888888888888888,\"#fdca26\"],[1.0,\"#f0f921\"]],\"type\":\"histogram2d\"}],\"histogram2dcontour\":[{\"colorbar\":{\"outlinewidth\":0,\"ticks\":\"\"},\"colorscale\":[[0.0,\"#0d0887\"],[0.1111111111111111,\"#46039f\"],[0.2222222222222222,\"#7201a8\"],[0.3333333333333333,\"#9c179e\"],[0.4444444444444444,\"#bd3786\"],[0.5555555555555556,\"#d8576b\"],[0.6666666666666666,\"#ed7953\"],[0.7777777777777778,\"#fb9f3a\"],[0.8888888888888888,\"#fdca26\"],[1.0,\"#f0f921\"]],\"type\":\"histogram2dcontour\"}],\"mesh3d\":[{\"colorbar\":{\"outlinewidth\":0,\"ticks\":\"\"},\"type\":\"mesh3d\"}],\"parcoords\":[{\"line\":{\"colorbar\":{\"outlinewidth\":0,\"ticks\":\"\"}},\"type\":\"parcoords\"}],\"pie\":[{\"automargin\":true,\"type\":\"pie\"}],\"scatter\":[{\"marker\":{\"colorbar\":{\"outlinewidth\":0,\"ticks\":\"\"}},\"type\":\"scatter\"}],\"scatter3d\":[{\"line\":{\"colorbar\":{\"outlinewidth\":0,\"ticks\":\"\"}},\"marker\":{\"colorbar\":{\"outlinewidth\":0,\"ticks\":\"\"}},\"type\":\"scatter3d\"}],\"scattercarpet\":[{\"marker\":{\"colorbar\":{\"outlinewidth\":0,\"ticks\":\"\"}},\"type\":\"scattercarpet\"}],\"scattergeo\":[{\"marker\":{\"colorbar\":{\"outlinewidth\":0,\"ticks\":\"\"}},\"type\":\"scattergeo\"}],\"scattergl\":[{\"marker\":{\"colorbar\":{\"outlinewidth\":0,\"ticks\":\"\"}},\"type\":\"scattergl\"}],\"scattermapbox\":[{\"marker\":{\"colorbar\":{\"outlinewidth\":0,\"ticks\":\"\"}},\"type\":\"scattermapbox\"}],\"scatterpolar\":[{\"marker\":{\"colorbar\":{\"outlinewidth\":0,\"ticks\":\"\"}},\"type\":\"scatterpolar\"}],\"scatterpolargl\":[{\"marker\":{\"colorbar\":{\"outlinewidth\":0,\"ticks\":\"\"}},\"type\":\"scatterpolargl\"}],\"scatterternary\":[{\"marker\":{\"colorbar\":{\"outlinewidth\":0,\"ticks\":\"\"}},\"type\":\"scatterternary\"}],\"surface\":[{\"colorbar\":{\"outlinewidth\":0,\"ticks\":\"\"},\"colorscale\":[[0.0,\"#0d0887\"],[0.1111111111111111,\"#46039f\"],[0.2222222222222222,\"#7201a8\"],[0.3333333333333333,\"#9c179e\"],[0.4444444444444444,\"#bd3786\"],[0.5555555555555556,\"#d8576b\"],[0.6666666666666666,\"#ed7953\"],[0.7777777777777778,\"#fb9f3a\"],[0.8888888888888888,\"#fdca26\"],[1.0,\"#f0f921\"]],\"type\":\"surface\"}],\"table\":[{\"cells\":{\"fill\":{\"color\":\"#EBF0F8\"},\"line\":{\"color\":\"white\"}},\"header\":{\"fill\":{\"color\":\"#C8D4E3\"},\"line\":{\"color\":\"white\"}},\"type\":\"table\"}]},\"layout\":{\"annotationdefaults\":{\"arrowcolor\":\"#2a3f5f\",\"arrowhead\":0,\"arrowwidth\":1},\"autotypenumbers\":\"strict\",\"coloraxis\":{\"colorbar\":{\"outlinewidth\":0,\"ticks\":\"\"}},\"colorscale\":{\"diverging\":[[0,\"#8e0152\"],[0.1,\"#c51b7d\"],[0.2,\"#de77ae\"],[0.3,\"#f1b6da\"],[0.4,\"#fde0ef\"],[0.5,\"#f7f7f7\"],[0.6,\"#e6f5d0\"],[0.7,\"#b8e186\"],[0.8,\"#7fbc41\"],[0.9,\"#4d9221\"],[1,\"#276419\"]],\"sequential\":[[0.0,\"#0d0887\"],[0.1111111111111111,\"#46039f\"],[0.2222222222222222,\"#7201a8\"],[0.3333333333333333,\"#9c179e\"],[0.4444444444444444,\"#bd3786\"],[0.5555555555555556,\"#d8576b\"],[0.6666666666666666,\"#ed7953\"],[0.7777777777777778,\"#fb9f3a\"],[0.8888888888888888,\"#fdca26\"],[1.0,\"#f0f921\"]],\"sequentialminus\":[[0.0,\"#0d0887\"],[0.1111111111111111,\"#46039f\"],[0.2222222222222222,\"#7201a8\"],[0.3333333333333333,\"#9c179e\"],[0.4444444444444444,\"#bd3786\"],[0.5555555555555556,\"#d8576b\"],[0.6666666666666666,\"#ed7953\"],[0.7777777777777778,\"#fb9f3a\"],[0.8888888888888888,\"#fdca26\"],[1.0,\"#f0f921\"]]},\"colorway\":[\"#636efa\",\"#EF553B\",\"#00cc96\",\"#ab63fa\",\"#FFA15A\",\"#19d3f3\",\"#FF6692\",\"#B6E880\",\"#FF97FF\",\"#FECB52\"],\"font\":{\"color\":\"#2a3f5f\"},\"geo\":{\"bgcolor\":\"white\",\"lakecolor\":\"white\",\"landcolor\":\"#E5ECF6\",\"showlakes\":true,\"showland\":true,\"subunitcolor\":\"white\"},\"hoverlabel\":{\"align\":\"left\"},\"hovermode\":\"closest\",\"mapbox\":{\"style\":\"light\"},\"paper_bgcolor\":\"white\",\"plot_bgcolor\":\"#E5ECF6\",\"polar\":{\"angularaxis\":{\"gridcolor\":\"white\",\"linecolor\":\"white\",\"ticks\":\"\"},\"bgcolor\":\"#E5ECF6\",\"radialaxis\":{\"gridcolor\":\"white\",\"linecolor\":\"white\",\"ticks\":\"\"}},\"scene\":{\"xaxis\":{\"backgroundcolor\":\"#E5ECF6\",\"gridcolor\":\"white\",\"gridwidth\":2,\"linecolor\":\"white\",\"showbackground\":true,\"ticks\":\"\",\"zerolinecolor\":\"white\"},\"yaxis\":{\"backgroundcolor\":\"#E5ECF6\",\"gridcolor\":\"white\",\"gridwidth\":2,\"linecolor\":\"white\",\"showbackground\":true,\"ticks\":\"\",\"zerolinecolor\":\"white\"},\"zaxis\":{\"backgroundcolor\":\"#E5ECF6\",\"gridcolor\":\"white\",\"gridwidth\":2,\"linecolor\":\"white\",\"showbackground\":true,\"ticks\":\"\",\"zerolinecolor\":\"white\"}},\"shapedefaults\":{\"line\":{\"color\":\"#2a3f5f\"}},\"ternary\":{\"aaxis\":{\"gridcolor\":\"white\",\"linecolor\":\"white\",\"ticks\":\"\"},\"baxis\":{\"gridcolor\":\"white\",\"linecolor\":\"white\",\"ticks\":\"\"},\"bgcolor\":\"#E5ECF6\",\"caxis\":{\"gridcolor\":\"white\",\"linecolor\":\"white\",\"ticks\":\"\"}},\"title\":{\"x\":0.05},\"xaxis\":{\"automargin\":true,\"gridcolor\":\"white\",\"linecolor\":\"white\",\"ticks\":\"\",\"title\":{\"standoff\":15},\"zerolinecolor\":\"white\",\"zerolinewidth\":2},\"yaxis\":{\"automargin\":true,\"gridcolor\":\"white\",\"linecolor\":\"white\",\"ticks\":\"\",\"title\":{\"standoff\":15},\"zerolinecolor\":\"white\",\"zerolinewidth\":2}}},\"title\":{\"text\":\"\\u041a\\u043e\\u043d\\u0432\\u0435\\u0440\\u0441\\u0438\\u044f \\u043f\\u043e\\u043b\\u044c\\u0437\\u043e\\u0432\\u0430\\u0442\\u0435\\u043b\\u0435\\u0439 \\u0432 \\u0433\\u0440\\u0443\\u043f\\u043f\\u0430\\u0445 \\u0410 \\u0438 \\u0412\"}},                        {\"responsive\": true}                    ).then(function(){\n",
              "                            \n",
              "var gd = document.getElementById('4eaabc47-6c29-4d27-a406-5a947d528d99');\n",
              "var x = new MutationObserver(function (mutations, observer) {{\n",
              "        var display = window.getComputedStyle(gd).display;\n",
              "        if (!display || display === 'none') {{\n",
              "            console.log([gd, 'removed!']);\n",
              "            Plotly.purge(gd);\n",
              "            observer.disconnect();\n",
              "        }}\n",
              "}});\n",
              "\n",
              "// Listen for the removal of the full notebook cells\n",
              "var notebookContainer = gd.closest('#notebook-container');\n",
              "if (notebookContainer) {{\n",
              "    x.observe(notebookContainer, {childList: true});\n",
              "}}\n",
              "\n",
              "// Listen for the clearing of the current output cell\n",
              "var outputEl = gd.closest('.output');\n",
              "if (outputEl) {{\n",
              "    x.observe(outputEl, {childList: true});\n",
              "}}\n",
              "\n",
              "                        })                };                            </script>        </div>\n",
              "</body>\n",
              "</html>"
            ]
          },
          "metadata": {}
        }
      ],
      "source": [
        "fig = go.Figure()\n",
        "\n",
        "fig.add_trace(go.Funnel(\n",
        "    name = 'Группа A',\n",
        "    y = group_a_group_all['event_name'],\n",
        "    x = group_a_group_all['user_id'],\n",
        "    textinfo = \"value+percent previous\"\n",
        "))\n",
        "\n",
        "fig.add_trace(go.Funnel(\n",
        "    name = 'Группа B',\n",
        "    y = group_b_group_all['event_name'],\n",
        "    x = group_b_group_all['user_id'],\n",
        "    textinfo = \"value+percent previous\"\n",
        "))\n",
        "\n",
        "fig.update_layout(title_text='Конверсия пользователей в группах А и В')\n",
        "fig.show()"
      ]
    },
    {
      "cell_type": "markdown",
      "metadata": {
        "id": "tz2NwKuoAGTv"
      },
      "source": [
        "**Конверсия пользователей в группах А и В соспоставимы**"
      ]
    },
    {
      "cell_type": "markdown",
      "metadata": {
        "id": "IJM9N_h6haEO"
      },
      "source": [
        "### Проверка статистической разницы долей z-критерием<a id=\"AB_z\"></a>      \n",
        "   \n",
        "H0: Между долями нет статистической значимой разницы  - доли равны   \n",
        "H1: Между долями есть статистически значимая разница - доли не равны   "
      ]
    },
    {
      "cell_type": "code",
      "execution_count": 54,
      "metadata": {
        "id": "kF2h6PTOhglO"
      },
      "outputs": [],
      "source": [
        "# Зададим уровень статистической значимости равный 5%\n",
        "alpha = 0.05"
      ]
    },
    {
      "cell_type": "code",
      "execution_count": 55,
      "metadata": {
        "id": "VIuaT2fiiawO"
      },
      "outputs": [],
      "source": [
        "# Зададим функция проверки Z - критерием\n",
        "def z_test(successes, trials, alpha):\n",
        "    # пропорция успехов в первой группе:\n",
        "    p1 = successes[0]/trials[0]\n",
        "    \n",
        "    # пропорция успехов во второй группе:\n",
        "    p2 = successes[1]/trials[1]\n",
        "\n",
        "    # пропорция успехов в комбинированном датасете:\n",
        "    p_combined = (successes[0] + successes[1]) / (trials[0] + trials[1])\n",
        "\n",
        "    # разница пропорций в датасетах\n",
        "    difference = p1 - p2\n",
        "\n",
        "    # считаем статистику в ст.отклонениях стандартного нормального распределения\n",
        "    z_value = abs(difference / mth.sqrt(p_combined * (1 - p_combined) * (1/trials[0] + 1/trials[1])))\n",
        "\n",
        "    # задаем стандартное нормальное распределение (среднее 0, ст.отклонение 1)\n",
        "    distr = st.norm(0, 1)\n",
        "    p_value = (1 - distr.cdf(abs(z_value))) * 2\n",
        "\n",
        "    print('p-значение: ', p_value)\n",
        "\n",
        "    if (p_value < alpha):\n",
        "        print(\"Отвергаем нулевую гипотезу\")\n",
        "    else:\n",
        "        print(\"Не получилось отвергнуть нулевую гипотезу\")"
      ]
    },
    {
      "cell_type": "code",
      "execution_count": 56,
      "metadata": {
        "colab": {
          "base_uri": "https://localhost:8080/",
          "height": 248
        },
        "id": "pYZy7Y2vipZ2",
        "outputId": "ea15e4fc-ccb0-48f2-e7fa-86a5f510a1aa"
      },
      "outputs": [
        {
          "output_type": "stream",
          "name": "stderr",
          "text": [
            "/usr/local/lib/python3.7/dist-packages/ipykernel_launcher.py:6: FutureWarning:\n",
            "\n",
            "Dropping of nuisance columns in DataFrame reductions (with 'numeric_only=None') is deprecated; in a future version this will raise TypeError.  Select only valid columns before calling the reduction.\n",
            "\n"
          ]
        },
        {
          "output_type": "display_data",
          "data": {
            "text/plain": [
              "     event_name  Группа А  Группа В  total\n",
              "0         login      2604       876   3480\n",
              "1  product_page      1685       493   2178\n",
              "2      purchase       833       249   1082\n",
              "3  product_cart       782       244   1026"
            ],
            "text/html": [
              "\n",
              "  <div id=\"df-bd355e61-a264-4a1b-84e2-8c56f93028ff\">\n",
              "    <div class=\"colab-df-container\">\n",
              "      <div>\n",
              "<style scoped>\n",
              "    .dataframe tbody tr th:only-of-type {\n",
              "        vertical-align: middle;\n",
              "    }\n",
              "\n",
              "    .dataframe tbody tr th {\n",
              "        vertical-align: top;\n",
              "    }\n",
              "\n",
              "    .dataframe thead th {\n",
              "        text-align: right;\n",
              "    }\n",
              "</style>\n",
              "<table border=\"1\" class=\"dataframe\">\n",
              "  <thead>\n",
              "    <tr style=\"text-align: right;\">\n",
              "      <th></th>\n",
              "      <th>event_name</th>\n",
              "      <th>Группа А</th>\n",
              "      <th>Группа В</th>\n",
              "      <th>total</th>\n",
              "    </tr>\n",
              "  </thead>\n",
              "  <tbody>\n",
              "    <tr>\n",
              "      <th>0</th>\n",
              "      <td>login</td>\n",
              "      <td>2604</td>\n",
              "      <td>876</td>\n",
              "      <td>3480</td>\n",
              "    </tr>\n",
              "    <tr>\n",
              "      <th>1</th>\n",
              "      <td>product_page</td>\n",
              "      <td>1685</td>\n",
              "      <td>493</td>\n",
              "      <td>2178</td>\n",
              "    </tr>\n",
              "    <tr>\n",
              "      <th>2</th>\n",
              "      <td>purchase</td>\n",
              "      <td>833</td>\n",
              "      <td>249</td>\n",
              "      <td>1082</td>\n",
              "    </tr>\n",
              "    <tr>\n",
              "      <th>3</th>\n",
              "      <td>product_cart</td>\n",
              "      <td>782</td>\n",
              "      <td>244</td>\n",
              "      <td>1026</td>\n",
              "    </tr>\n",
              "  </tbody>\n",
              "</table>\n",
              "</div>\n",
              "      <button class=\"colab-df-convert\" onclick=\"convertToInteractive('df-bd355e61-a264-4a1b-84e2-8c56f93028ff')\"\n",
              "              title=\"Convert this dataframe to an interactive table.\"\n",
              "              style=\"display:none;\">\n",
              "        \n",
              "  <svg xmlns=\"http://www.w3.org/2000/svg\" height=\"24px\"viewBox=\"0 0 24 24\"\n",
              "       width=\"24px\">\n",
              "    <path d=\"M0 0h24v24H0V0z\" fill=\"none\"/>\n",
              "    <path d=\"M18.56 5.44l.94 2.06.94-2.06 2.06-.94-2.06-.94-.94-2.06-.94 2.06-2.06.94zm-11 1L8.5 8.5l.94-2.06 2.06-.94-2.06-.94L8.5 2.5l-.94 2.06-2.06.94zm10 10l.94 2.06.94-2.06 2.06-.94-2.06-.94-.94-2.06-.94 2.06-2.06.94z\"/><path d=\"M17.41 7.96l-1.37-1.37c-.4-.4-.92-.59-1.43-.59-.52 0-1.04.2-1.43.59L10.3 9.45l-7.72 7.72c-.78.78-.78 2.05 0 2.83L4 21.41c.39.39.9.59 1.41.59.51 0 1.02-.2 1.41-.59l7.78-7.78 2.81-2.81c.8-.78.8-2.07 0-2.86zM5.41 20L4 18.59l7.72-7.72 1.47 1.35L5.41 20z\"/>\n",
              "  </svg>\n",
              "      </button>\n",
              "      \n",
              "  <style>\n",
              "    .colab-df-container {\n",
              "      display:flex;\n",
              "      flex-wrap:wrap;\n",
              "      gap: 12px;\n",
              "    }\n",
              "\n",
              "    .colab-df-convert {\n",
              "      background-color: #E8F0FE;\n",
              "      border: none;\n",
              "      border-radius: 50%;\n",
              "      cursor: pointer;\n",
              "      display: none;\n",
              "      fill: #1967D2;\n",
              "      height: 32px;\n",
              "      padding: 0 0 0 0;\n",
              "      width: 32px;\n",
              "    }\n",
              "\n",
              "    .colab-df-convert:hover {\n",
              "      background-color: #E2EBFA;\n",
              "      box-shadow: 0px 1px 2px rgba(60, 64, 67, 0.3), 0px 1px 3px 1px rgba(60, 64, 67, 0.15);\n",
              "      fill: #174EA6;\n",
              "    }\n",
              "\n",
              "    [theme=dark] .colab-df-convert {\n",
              "      background-color: #3B4455;\n",
              "      fill: #D2E3FC;\n",
              "    }\n",
              "\n",
              "    [theme=dark] .colab-df-convert:hover {\n",
              "      background-color: #434B5C;\n",
              "      box-shadow: 0px 1px 3px 1px rgba(0, 0, 0, 0.15);\n",
              "      filter: drop-shadow(0px 1px 2px rgba(0, 0, 0, 0.3));\n",
              "      fill: #FFFFFF;\n",
              "    }\n",
              "  </style>\n",
              "\n",
              "      <script>\n",
              "        const buttonEl =\n",
              "          document.querySelector('#df-bd355e61-a264-4a1b-84e2-8c56f93028ff button.colab-df-convert');\n",
              "        buttonEl.style.display =\n",
              "          google.colab.kernel.accessAllowed ? 'block' : 'none';\n",
              "\n",
              "        async function convertToInteractive(key) {\n",
              "          const element = document.querySelector('#df-bd355e61-a264-4a1b-84e2-8c56f93028ff');\n",
              "          const dataTable =\n",
              "            await google.colab.kernel.invokeFunction('convertToInteractive',\n",
              "                                                     [key], {});\n",
              "          if (!dataTable) return;\n",
              "\n",
              "          const docLinkHtml = 'Like what you see? Visit the ' +\n",
              "            '<a target=\"_blank\" href=https://colab.research.google.com/notebooks/data_table.ipynb>data table notebook</a>'\n",
              "            + ' to learn more about interactive tables.';\n",
              "          element.innerHTML = '';\n",
              "          dataTable['output_type'] = 'display_data';\n",
              "          await google.colab.output.renderOutput(dataTable, element);\n",
              "          const docLink = document.createElement('div');\n",
              "          docLink.innerHTML = docLinkHtml;\n",
              "          element.appendChild(docLink);\n",
              "        }\n",
              "      </script>\n",
              "    </div>\n",
              "  </div>\n",
              "  "
            ]
          },
          "metadata": {}
        }
      ],
      "source": [
        "# Объеденим группы в один датасет и сгруппируем по событиям\n",
        "group = (group_a_group_all[group_a_group_all['event_name'] != 'no_event']\n",
        "                 .merge(group_b_group_all, how='left', on='event_name')\n",
        "                 .rename(columns={'user_id_x':'Группа А',\n",
        "                                  'user_id_y':'Группа В'}))\n",
        "group['total'] = group.sum(axis=1)\n",
        "display(group.head())"
      ]
    },
    {
      "cell_type": "code",
      "execution_count": 57,
      "metadata": {
        "colab": {
          "base_uri": "https://localhost:8080/"
        },
        "id": "_5cS4BbejkJ-",
        "outputId": "d9171e3a-9c03-4739-af34-4c733e7bfc29"
      },
      "outputs": [
        {
          "output_type": "stream",
          "name": "stdout",
          "text": [
            "\u001b[1mproduct_page\u001b[0m\n",
            "p-значение:  8.195976000324734e-06\n",
            "Отвергаем нулевую гипотезу\n",
            "\n",
            "\n",
            "\u001b[1mpurchase\u001b[0m\n",
            "p-значение:  0.04864766695042433\n",
            "Отвергаем нулевую гипотезу\n",
            "\n",
            "\n",
            "\u001b[1mproduct_cart\u001b[0m\n",
            "p-значение:  0.2215941567364419\n",
            "Не получилось отвергнуть нулевую гипотезу\n",
            "\n",
            "\n"
          ]
        }
      ],
      "source": [
        "# Для события login проверка статистической разницы долей z-критерием невозможна, так как это действие совершили все пользователи группы А и группы В\n",
        "event = ['product_page', 'purchase', 'product_cart']\n",
        "\n",
        "for index, event in zip(group.loc[1:].index.tolist(), event):\n",
        "    try:\n",
        "        print('\\033[1m' + event + '\\033[0m')\n",
        "        successes = [group.loc[index][1], group.loc[index][2]]\n",
        "        trials = [2604, 876]\n",
        "        z_test(successes, trials, alpha)\n",
        "        print('\\n')\n",
        "    except KeyError:\n",
        "        break"
      ]
    },
    {
      "cell_type": "markdown",
      "metadata": {
        "id": "_Dau8KyKAGTw"
      },
      "source": [
        "**Выводы:**  \n",
        "1. Для события login проверка статистической разницы долей z-критерием невозможна, так как это действие совершили все пользователи групп А и  В, а это число соответствует максимальному размеру выборки групп.   \n",
        "   \n",
        "1. Различие межд группами А и В для событий product_page и purchase статистически значимо (p-value < 0.05).\n",
        "   \n",
        "1. Различие между экспериментальной группой В и контрольной А для события на этапе product_cart статистически значимо. Но, высокое p-value (выше критерия значимости 0.05) может означать, что мы имеем высокую вероятность случайных различий между показателями, обусловленных обычной дисперсий/вариацией в данных, а не реальной разницей в поведении пользователей."
      ]
    },
    {
      "cell_type": "markdown",
      "metadata": {
        "id": "ZrZ7rV9fohqS"
      },
      "source": [
        "---"
      ]
    },
    {
      "cell_type": "markdown",
      "metadata": {
        "id": "4UwcNRUFojPm"
      },
      "source": [
        "## Выводы и рекомендации<a id=\"summary\"></a>"
      ]
    },
    {
      "cell_type": "markdown",
      "metadata": {
        "id": "cE0VV0PvnB4e"
      },
      "source": [
        "### Выводы:\n",
        "1. Мы загрузили и исследовали данные, обнаруженные пропуски данных и несоответствие типов данных колонок их содержимому - исправили.   \n",
        "1. Исследовательский анализ данных показал:    \n",
        "* В обеих группах больше половины пользователей, зарегистрировавшихся на сайте, перешли на страницу с товаром. Почти половина пользователей со страницы с товаром перешли к оплате товаров.     \n",
        "* Количество оплаченных товаров превышает количество товаров, добавленных в корзину - скорей всего у пользователей есть возможность перейти к оплате товара сразу со страницы товара.     \n",
        "* В воронке получилось 4 варианта событий:   \n",
        ">login - регистрация пользователя   \n",
        "product_page - посещение страницы с товаром   \n",
        "product_cart - добавление товара в корзину   \n",
        " purchase – заказ   \n",
        "* Количество пользователей, которые последовательно проходили все этапы сайта последовательно, не очень большое - следовательно, на страницу оплаты можно попасть другими способами - с других страниц сайта или стронных ресурсов (из директа, например).    \n",
        "* Из группы А шаг за шагом до оплаты не дошел ни один пользователь. Из группы В только один.\n",
        "* Число событий на одного пользователя выше в группе А.    \n",
        "* Мы установили, что среди пользователей есть пересечение с аудиторией теста interface_eu_test, и по времени есть пересечение с другими маркетинговыми активностями.   \n",
        "* В обеих группах пик числа пользователей пришёлся на 21 декабря.    \n",
        "3. Анализ АВ- теста показал:   \n",
        "* В условиях теста указано, что 15% новой аудитории из EU, но в тест попало 14.48%.   \n",
        "* Пользователи распределены по группам неравномерно – в группе А их больше.   \n",
        "*  АВ-тест выпал на время новогодней промо-акции, что делают его валидность сомнительной, новый год итак время для покупок и не показательно для аб теста, здесь еще и маркетинговая активность.  \n",
        "* Для события login проверка статистической разницы долей z-критерием невозможна, так как это действие совершили все пользователи групп А и  В, а это число соответствует максимальному.   \n",
        "* Различие между группами А и В для событий product_page и purchase статистически значимо (p-value < 0.05).   \n",
        "* Различие между экспериментальной группой В и контрольной А для события на этапе product_cart статистически значимо. Но, высокое p-value (выше критерия значимости 0.05) может означать, что мы имеем высокую вероятность случайных различий между показателями, обусловленных обычной дисперсий/вариацией в данных, а не реальной разницей в поведении пользователей. \n",
        "    \n",
        "**В итоге нельзя говорить об успешности теста -  есть ряд ошибок при его проведении.** \n",
        "   \n",
        "### Рекомендация\n",
        "НЕ раскатывать новую систему рекомендаций на всех пользователей, а скорректировать настройки A/B теста и запустить его повторно.    \n"
      ]
    }
  ],
  "metadata": {
    "ExecuteTimeLog": [
      {
        "duration": 1189,
        "start_time": "2022-08-15T03:11:28.777Z"
      },
      {
        "duration": 13264,
        "start_time": "2022-08-15T03:11:29.968Z"
      },
      {
        "duration": 2,
        "start_time": "2022-08-15T03:11:43.234Z"
      },
      {
        "duration": 26,
        "start_time": "2022-08-15T03:11:43.238Z"
      },
      {
        "duration": 5,
        "start_time": "2022-08-15T03:11:43.265Z"
      },
      {
        "duration": 48,
        "start_time": "2022-08-15T03:11:43.271Z"
      },
      {
        "duration": 117,
        "start_time": "2022-08-15T03:11:43.320Z"
      },
      {
        "duration": 300,
        "start_time": "2022-08-15T03:11:43.438Z"
      },
      {
        "duration": 30,
        "start_time": "2022-08-15T03:11:43.739Z"
      },
      {
        "duration": 50,
        "start_time": "2022-08-15T03:11:43.771Z"
      },
      {
        "duration": 31,
        "start_time": "2022-08-15T03:11:43.824Z"
      },
      {
        "duration": 99,
        "start_time": "2022-08-15T03:11:43.857Z"
      },
      {
        "duration": 20,
        "start_time": "2022-08-15T03:11:43.958Z"
      },
      {
        "duration": 30,
        "start_time": "2022-08-15T03:11:43.980Z"
      },
      {
        "duration": 22,
        "start_time": "2022-08-15T03:11:44.018Z"
      },
      {
        "duration": 12,
        "start_time": "2022-08-15T03:11:44.041Z"
      },
      {
        "duration": 23,
        "start_time": "2022-08-15T03:11:44.054Z"
      },
      {
        "duration": 8,
        "start_time": "2022-08-15T03:11:44.100Z"
      },
      {
        "duration": 128,
        "start_time": "2022-08-15T03:11:44.110Z"
      },
      {
        "duration": 123,
        "start_time": "2022-08-15T03:11:44.240Z"
      },
      {
        "duration": 4,
        "start_time": "2022-08-15T03:11:44.364Z"
      },
      {
        "duration": 428,
        "start_time": "2022-08-15T03:11:44.370Z"
      },
      {
        "duration": 25,
        "start_time": "2022-08-15T03:11:44.800Z"
      },
      {
        "duration": 24,
        "start_time": "2022-08-15T03:11:44.826Z"
      },
      {
        "duration": 390,
        "start_time": "2022-08-15T03:11:44.852Z"
      },
      {
        "duration": 33,
        "start_time": "2022-08-15T03:11:45.243Z"
      },
      {
        "duration": 67,
        "start_time": "2022-08-15T03:11:45.278Z"
      },
      {
        "duration": 6,
        "start_time": "2022-08-15T03:11:45.348Z"
      },
      {
        "duration": 6,
        "start_time": "2022-08-15T03:11:45.356Z"
      },
      {
        "duration": 7,
        "start_time": "2022-08-15T03:11:45.364Z"
      },
      {
        "duration": 175,
        "start_time": "2022-08-15T03:11:45.373Z"
      },
      {
        "duration": 70,
        "start_time": "2022-08-15T03:11:45.550Z"
      },
      {
        "duration": 237,
        "start_time": "2022-08-15T03:11:45.621Z"
      },
      {
        "duration": 5,
        "start_time": "2022-08-15T03:11:45.861Z"
      },
      {
        "duration": 14,
        "start_time": "2022-08-15T03:11:45.868Z"
      },
      {
        "duration": 50,
        "start_time": "2022-08-15T03:11:45.883Z"
      },
      {
        "duration": 185,
        "start_time": "2022-08-15T03:11:45.934Z"
      },
      {
        "duration": 135,
        "start_time": "2022-08-15T03:11:46.120Z"
      },
      {
        "duration": 37,
        "start_time": "2022-08-15T03:11:46.257Z"
      },
      {
        "duration": 65,
        "start_time": "2022-08-15T03:11:46.300Z"
      },
      {
        "duration": 48,
        "start_time": "2022-08-15T03:11:46.367Z"
      },
      {
        "duration": 19,
        "start_time": "2022-08-15T03:11:46.418Z"
      },
      {
        "duration": 20,
        "start_time": "2022-08-15T03:11:46.438Z"
      },
      {
        "duration": 43,
        "start_time": "2022-08-15T03:11:46.460Z"
      },
      {
        "duration": 16,
        "start_time": "2022-08-15T03:11:46.505Z"
      },
      {
        "duration": 450,
        "start_time": "2022-08-15T03:11:46.523Z"
      },
      {
        "duration": 14,
        "start_time": "2022-08-15T03:11:46.975Z"
      },
      {
        "duration": 43,
        "start_time": "2022-08-15T03:11:46.991Z"
      },
      {
        "duration": 1318,
        "start_time": "2022-08-15T03:11:47.036Z"
      },
      {
        "duration": 33,
        "start_time": "2022-08-15T03:11:48.356Z"
      },
      {
        "duration": 30,
        "start_time": "2022-08-15T03:11:48.390Z"
      },
      {
        "duration": 26,
        "start_time": "2022-08-15T03:11:48.422Z"
      },
      {
        "duration": 25,
        "start_time": "2022-08-15T03:11:48.450Z"
      },
      {
        "duration": 19,
        "start_time": "2022-08-15T03:11:48.476Z"
      },
      {
        "duration": 46,
        "start_time": "2022-08-15T03:11:48.496Z"
      },
      {
        "duration": 1374,
        "start_time": "2022-08-15T03:42:53.568Z"
      },
      {
        "duration": 893,
        "start_time": "2022-08-15T03:42:54.945Z"
      },
      {
        "duration": 11523,
        "start_time": "2022-08-15T03:42:55.840Z"
      },
      {
        "duration": 2364,
        "start_time": "2022-08-15T03:43:07.365Z"
      },
      {
        "duration": 106,
        "start_time": "2022-08-15T03:43:09.731Z"
      },
      {
        "duration": 0,
        "start_time": "2022-08-15T03:43:09.840Z"
      },
      {
        "duration": 0,
        "start_time": "2022-08-15T03:43:09.842Z"
      },
      {
        "duration": 0,
        "start_time": "2022-08-15T03:43:09.843Z"
      },
      {
        "duration": 0,
        "start_time": "2022-08-15T03:43:09.844Z"
      },
      {
        "duration": 0,
        "start_time": "2022-08-15T03:43:09.845Z"
      },
      {
        "duration": 0,
        "start_time": "2022-08-15T03:43:09.846Z"
      },
      {
        "duration": 0,
        "start_time": "2022-08-15T03:43:09.848Z"
      },
      {
        "duration": 0,
        "start_time": "2022-08-15T03:43:09.849Z"
      },
      {
        "duration": 0,
        "start_time": "2022-08-15T03:43:09.851Z"
      },
      {
        "duration": 0,
        "start_time": "2022-08-15T03:43:09.852Z"
      },
      {
        "duration": 0,
        "start_time": "2022-08-15T03:43:09.853Z"
      },
      {
        "duration": 0,
        "start_time": "2022-08-15T03:43:09.854Z"
      },
      {
        "duration": 0,
        "start_time": "2022-08-15T03:43:09.855Z"
      },
      {
        "duration": 0,
        "start_time": "2022-08-15T03:43:09.856Z"
      },
      {
        "duration": 0,
        "start_time": "2022-08-15T03:43:09.857Z"
      },
      {
        "duration": 0,
        "start_time": "2022-08-15T03:43:09.858Z"
      },
      {
        "duration": 0,
        "start_time": "2022-08-15T03:43:09.859Z"
      },
      {
        "duration": 0,
        "start_time": "2022-08-15T03:43:09.860Z"
      },
      {
        "duration": 0,
        "start_time": "2022-08-15T03:43:09.861Z"
      },
      {
        "duration": 0,
        "start_time": "2022-08-15T03:43:09.901Z"
      },
      {
        "duration": 0,
        "start_time": "2022-08-15T03:43:09.902Z"
      },
      {
        "duration": 0,
        "start_time": "2022-08-15T03:43:09.903Z"
      },
      {
        "duration": 0,
        "start_time": "2022-08-15T03:43:09.903Z"
      },
      {
        "duration": 0,
        "start_time": "2022-08-15T03:43:09.904Z"
      },
      {
        "duration": 0,
        "start_time": "2022-08-15T03:43:09.904Z"
      },
      {
        "duration": 0,
        "start_time": "2022-08-15T03:43:09.905Z"
      },
      {
        "duration": 0,
        "start_time": "2022-08-15T03:43:09.909Z"
      },
      {
        "duration": 0,
        "start_time": "2022-08-15T03:43:09.910Z"
      },
      {
        "duration": 0,
        "start_time": "2022-08-15T03:43:09.910Z"
      },
      {
        "duration": 0,
        "start_time": "2022-08-15T03:43:09.911Z"
      },
      {
        "duration": 0,
        "start_time": "2022-08-15T03:43:09.915Z"
      },
      {
        "duration": 0,
        "start_time": "2022-08-15T03:43:09.916Z"
      },
      {
        "duration": 0,
        "start_time": "2022-08-15T03:43:09.916Z"
      },
      {
        "duration": 0,
        "start_time": "2022-08-15T03:43:09.917Z"
      },
      {
        "duration": 0,
        "start_time": "2022-08-15T03:43:09.918Z"
      },
      {
        "duration": 0,
        "start_time": "2022-08-15T03:43:09.919Z"
      },
      {
        "duration": 0,
        "start_time": "2022-08-15T03:43:09.920Z"
      },
      {
        "duration": 0,
        "start_time": "2022-08-15T03:43:09.920Z"
      },
      {
        "duration": 0,
        "start_time": "2022-08-15T03:43:09.921Z"
      },
      {
        "duration": 0,
        "start_time": "2022-08-15T03:43:09.923Z"
      },
      {
        "duration": 0,
        "start_time": "2022-08-15T03:43:09.924Z"
      },
      {
        "duration": 0,
        "start_time": "2022-08-15T03:43:09.925Z"
      },
      {
        "duration": 0,
        "start_time": "2022-08-15T03:43:09.926Z"
      },
      {
        "duration": 0,
        "start_time": "2022-08-15T03:43:09.928Z"
      },
      {
        "duration": 0,
        "start_time": "2022-08-15T03:43:09.929Z"
      },
      {
        "duration": 0,
        "start_time": "2022-08-15T03:43:09.930Z"
      },
      {
        "duration": 0,
        "start_time": "2022-08-15T03:43:09.931Z"
      },
      {
        "duration": 0,
        "start_time": "2022-08-15T03:43:09.932Z"
      },
      {
        "duration": 0,
        "start_time": "2022-08-15T03:43:09.933Z"
      },
      {
        "duration": 0,
        "start_time": "2022-08-15T03:43:09.934Z"
      },
      {
        "duration": 0,
        "start_time": "2022-08-15T03:43:09.935Z"
      },
      {
        "duration": 0,
        "start_time": "2022-08-15T03:43:09.937Z"
      },
      {
        "duration": 0,
        "start_time": "2022-08-15T03:43:09.938Z"
      },
      {
        "duration": 1402,
        "start_time": "2022-08-15T03:43:36.587Z"
      },
      {
        "duration": 2,
        "start_time": "2022-08-15T03:43:37.991Z"
      },
      {
        "duration": 54,
        "start_time": "2022-08-15T03:43:37.995Z"
      },
      {
        "duration": 17,
        "start_time": "2022-08-15T03:43:38.051Z"
      },
      {
        "duration": 39,
        "start_time": "2022-08-15T03:43:38.070Z"
      },
      {
        "duration": 138,
        "start_time": "2022-08-15T03:43:38.113Z"
      },
      {
        "duration": 279,
        "start_time": "2022-08-15T03:43:38.253Z"
      },
      {
        "duration": 29,
        "start_time": "2022-08-15T03:43:38.534Z"
      },
      {
        "duration": 55,
        "start_time": "2022-08-15T03:43:38.565Z"
      },
      {
        "duration": 31,
        "start_time": "2022-08-15T03:43:38.622Z"
      },
      {
        "duration": 80,
        "start_time": "2022-08-15T03:43:38.654Z"
      },
      {
        "duration": 19,
        "start_time": "2022-08-15T03:43:38.736Z"
      },
      {
        "duration": 12,
        "start_time": "2022-08-15T03:43:38.756Z"
      },
      {
        "duration": 58,
        "start_time": "2022-08-15T03:43:38.769Z"
      },
      {
        "duration": 43,
        "start_time": "2022-08-15T03:43:38.829Z"
      },
      {
        "duration": 44,
        "start_time": "2022-08-15T03:43:38.873Z"
      },
      {
        "duration": 14,
        "start_time": "2022-08-15T03:43:38.919Z"
      },
      {
        "duration": 148,
        "start_time": "2022-08-15T03:43:38.935Z"
      },
      {
        "duration": 131,
        "start_time": "2022-08-15T03:43:39.085Z"
      },
      {
        "duration": 4,
        "start_time": "2022-08-15T03:43:39.218Z"
      },
      {
        "duration": 327,
        "start_time": "2022-08-15T03:43:39.223Z"
      },
      {
        "duration": 21,
        "start_time": "2022-08-15T03:43:39.553Z"
      },
      {
        "duration": 26,
        "start_time": "2022-08-15T03:43:39.575Z"
      },
      {
        "duration": 346,
        "start_time": "2022-08-15T03:43:39.604Z"
      },
      {
        "duration": 31,
        "start_time": "2022-08-15T03:43:39.952Z"
      },
      {
        "duration": 53,
        "start_time": "2022-08-15T03:43:39.985Z"
      },
      {
        "duration": 7,
        "start_time": "2022-08-15T03:43:40.040Z"
      },
      {
        "duration": 17,
        "start_time": "2022-08-15T03:43:40.052Z"
      },
      {
        "duration": 41,
        "start_time": "2022-08-15T03:43:40.071Z"
      },
      {
        "duration": 169,
        "start_time": "2022-08-15T03:43:40.116Z"
      },
      {
        "duration": 73,
        "start_time": "2022-08-15T03:43:40.287Z"
      },
      {
        "duration": 268,
        "start_time": "2022-08-15T03:43:40.362Z"
      },
      {
        "duration": 4,
        "start_time": "2022-08-15T03:43:40.632Z"
      },
      {
        "duration": 33,
        "start_time": "2022-08-15T03:43:40.638Z"
      },
      {
        "duration": 23,
        "start_time": "2022-08-15T03:43:40.672Z"
      },
      {
        "duration": 194,
        "start_time": "2022-08-15T03:43:40.696Z"
      },
      {
        "duration": 140,
        "start_time": "2022-08-15T03:43:40.892Z"
      },
      {
        "duration": 24,
        "start_time": "2022-08-15T03:43:41.034Z"
      },
      {
        "duration": 61,
        "start_time": "2022-08-15T03:43:41.060Z"
      },
      {
        "duration": 42,
        "start_time": "2022-08-15T03:43:41.123Z"
      },
      {
        "duration": 20,
        "start_time": "2022-08-15T03:43:41.166Z"
      },
      {
        "duration": 43,
        "start_time": "2022-08-15T03:43:41.188Z"
      },
      {
        "duration": 42,
        "start_time": "2022-08-15T03:43:41.232Z"
      },
      {
        "duration": 14,
        "start_time": "2022-08-15T03:43:41.276Z"
      },
      {
        "duration": 462,
        "start_time": "2022-08-15T03:43:41.292Z"
      },
      {
        "duration": 12,
        "start_time": "2022-08-15T03:43:41.756Z"
      },
      {
        "duration": 30,
        "start_time": "2022-08-15T03:43:41.770Z"
      },
      {
        "duration": 1231,
        "start_time": "2022-08-15T03:43:41.804Z"
      },
      {
        "duration": 32,
        "start_time": "2022-08-15T03:43:43.037Z"
      },
      {
        "duration": 11,
        "start_time": "2022-08-15T03:43:43.070Z"
      },
      {
        "duration": 20,
        "start_time": "2022-08-15T03:43:43.083Z"
      },
      {
        "duration": 7,
        "start_time": "2022-08-15T03:43:43.112Z"
      },
      {
        "duration": 16,
        "start_time": "2022-08-15T03:43:43.121Z"
      },
      {
        "duration": 13,
        "start_time": "2022-08-15T03:43:43.138Z"
      },
      {
        "duration": 60,
        "start_time": "2022-08-15T03:44:26.458Z"
      },
      {
        "duration": 61,
        "start_time": "2022-08-15T03:44:46.771Z"
      },
      {
        "duration": 56,
        "start_time": "2022-08-15T03:45:09.323Z"
      },
      {
        "duration": 5,
        "start_time": "2022-08-15T03:45:19.415Z"
      },
      {
        "duration": 4,
        "start_time": "2022-08-15T03:45:39.682Z"
      },
      {
        "duration": 50,
        "start_time": "2022-08-15T03:47:49.175Z"
      },
      {
        "duration": 1147,
        "start_time": "2022-08-15T03:49:58.445Z"
      },
      {
        "duration": 890,
        "start_time": "2022-08-15T03:49:59.594Z"
      },
      {
        "duration": 11532,
        "start_time": "2022-08-15T03:50:00.485Z"
      },
      {
        "duration": 2403,
        "start_time": "2022-08-15T03:50:12.019Z"
      },
      {
        "duration": 1426,
        "start_time": "2022-08-15T03:50:14.425Z"
      },
      {
        "duration": 2,
        "start_time": "2022-08-15T03:50:15.854Z"
      },
      {
        "duration": 29,
        "start_time": "2022-08-15T03:50:15.858Z"
      },
      {
        "duration": 6,
        "start_time": "2022-08-15T03:50:15.888Z"
      },
      {
        "duration": 18,
        "start_time": "2022-08-15T03:50:15.896Z"
      },
      {
        "duration": 124,
        "start_time": "2022-08-15T03:50:15.917Z"
      },
      {
        "duration": 299,
        "start_time": "2022-08-15T03:50:16.043Z"
      },
      {
        "duration": 28,
        "start_time": "2022-08-15T03:50:16.344Z"
      },
      {
        "duration": 55,
        "start_time": "2022-08-15T03:50:16.373Z"
      },
      {
        "duration": 31,
        "start_time": "2022-08-15T03:50:16.429Z"
      },
      {
        "duration": 88,
        "start_time": "2022-08-15T03:50:16.462Z"
      },
      {
        "duration": 20,
        "start_time": "2022-08-15T03:50:16.552Z"
      },
      {
        "duration": 32,
        "start_time": "2022-08-15T03:50:16.573Z"
      },
      {
        "duration": 39,
        "start_time": "2022-08-15T03:50:16.609Z"
      },
      {
        "duration": 13,
        "start_time": "2022-08-15T03:50:16.650Z"
      },
      {
        "duration": 22,
        "start_time": "2022-08-15T03:50:16.665Z"
      },
      {
        "duration": 24,
        "start_time": "2022-08-15T03:50:16.689Z"
      },
      {
        "duration": 109,
        "start_time": "2022-08-15T03:50:16.715Z"
      },
      {
        "duration": 123,
        "start_time": "2022-08-15T03:50:16.826Z"
      },
      {
        "duration": 4,
        "start_time": "2022-08-15T03:50:16.950Z"
      },
      {
        "duration": 329,
        "start_time": "2022-08-15T03:50:16.956Z"
      },
      {
        "duration": 30,
        "start_time": "2022-08-15T03:50:17.287Z"
      },
      {
        "duration": 15,
        "start_time": "2022-08-15T03:50:17.319Z"
      },
      {
        "duration": 400,
        "start_time": "2022-08-15T03:50:17.337Z"
      },
      {
        "duration": 31,
        "start_time": "2022-08-15T03:50:17.739Z"
      },
      {
        "duration": 67,
        "start_time": "2022-08-15T03:50:17.772Z"
      },
      {
        "duration": 5,
        "start_time": "2022-08-15T03:50:17.841Z"
      },
      {
        "duration": 12,
        "start_time": "2022-08-15T03:50:17.848Z"
      },
      {
        "duration": 9,
        "start_time": "2022-08-15T03:50:17.862Z"
      },
      {
        "duration": 176,
        "start_time": "2022-08-15T03:50:17.873Z"
      },
      {
        "duration": 76,
        "start_time": "2022-08-15T03:50:18.051Z"
      },
      {
        "duration": 234,
        "start_time": "2022-08-15T03:50:18.129Z"
      },
      {
        "duration": 5,
        "start_time": "2022-08-15T03:50:18.366Z"
      },
      {
        "duration": 30,
        "start_time": "2022-08-15T03:50:18.373Z"
      },
      {
        "duration": 17,
        "start_time": "2022-08-15T03:50:18.415Z"
      },
      {
        "duration": 208,
        "start_time": "2022-08-15T03:50:18.433Z"
      },
      {
        "duration": 134,
        "start_time": "2022-08-15T03:50:18.643Z"
      },
      {
        "duration": 42,
        "start_time": "2022-08-15T03:50:18.779Z"
      },
      {
        "duration": 44,
        "start_time": "2022-08-15T03:50:18.824Z"
      },
      {
        "duration": 53,
        "start_time": "2022-08-15T03:50:18.869Z"
      },
      {
        "duration": 10,
        "start_time": "2022-08-15T03:50:18.924Z"
      },
      {
        "duration": 20,
        "start_time": "2022-08-15T03:50:18.935Z"
      },
      {
        "duration": 54,
        "start_time": "2022-08-15T03:50:18.957Z"
      },
      {
        "duration": 14,
        "start_time": "2022-08-15T03:50:19.014Z"
      },
      {
        "duration": 405,
        "start_time": "2022-08-15T03:50:19.030Z"
      },
      {
        "duration": 11,
        "start_time": "2022-08-15T03:50:19.436Z"
      },
      {
        "duration": 11,
        "start_time": "2022-08-15T03:50:19.449Z"
      },
      {
        "duration": 1273,
        "start_time": "2022-08-15T03:50:19.461Z"
      },
      {
        "duration": 34,
        "start_time": "2022-08-15T03:50:20.735Z"
      },
      {
        "duration": 10,
        "start_time": "2022-08-15T03:50:20.771Z"
      },
      {
        "duration": 31,
        "start_time": "2022-08-15T03:50:20.783Z"
      },
      {
        "duration": 10,
        "start_time": "2022-08-15T03:50:20.815Z"
      },
      {
        "duration": 15,
        "start_time": "2022-08-15T03:50:20.826Z"
      },
      {
        "duration": 13,
        "start_time": "2022-08-15T03:50:20.842Z"
      },
      {
        "duration": 23,
        "start_time": "2022-08-15T03:54:21.951Z"
      },
      {
        "duration": 5,
        "start_time": "2022-08-15T04:01:14.220Z"
      },
      {
        "duration": 6,
        "start_time": "2022-08-15T04:01:16.365Z"
      },
      {
        "duration": 17,
        "start_time": "2022-08-15T04:01:18.981Z"
      },
      {
        "duration": 11,
        "start_time": "2022-08-15T04:01:21.036Z"
      },
      {
        "duration": 6,
        "start_time": "2022-08-15T04:51:19.821Z"
      },
      {
        "duration": 16,
        "start_time": "2022-08-15T04:51:22.759Z"
      },
      {
        "duration": 9,
        "start_time": "2022-08-15T04:51:25.886Z"
      },
      {
        "duration": 3,
        "start_time": "2022-08-15T04:51:46.654Z"
      },
      {
        "duration": 13,
        "start_time": "2022-08-15T04:51:49.026Z"
      },
      {
        "duration": 1260,
        "start_time": "2022-08-15T04:55:22.758Z"
      },
      {
        "duration": 1034,
        "start_time": "2022-08-15T04:55:24.020Z"
      },
      {
        "duration": 11831,
        "start_time": "2022-08-15T04:55:25.056Z"
      },
      {
        "duration": 1947,
        "start_time": "2022-08-15T04:55:36.889Z"
      },
      {
        "duration": 1325,
        "start_time": "2022-08-15T04:55:38.837Z"
      },
      {
        "duration": 3,
        "start_time": "2022-08-15T04:55:40.164Z"
      },
      {
        "duration": 30,
        "start_time": "2022-08-15T04:55:40.169Z"
      },
      {
        "duration": 6,
        "start_time": "2022-08-15T04:55:40.201Z"
      },
      {
        "duration": 36,
        "start_time": "2022-08-15T04:55:40.209Z"
      },
      {
        "duration": 140,
        "start_time": "2022-08-15T04:55:40.248Z"
      },
      {
        "duration": 293,
        "start_time": "2022-08-15T04:55:40.390Z"
      },
      {
        "duration": 40,
        "start_time": "2022-08-15T04:55:40.685Z"
      },
      {
        "duration": 31,
        "start_time": "2022-08-15T04:55:40.727Z"
      },
      {
        "duration": 65,
        "start_time": "2022-08-15T04:55:40.760Z"
      },
      {
        "duration": 58,
        "start_time": "2022-08-15T04:55:40.828Z"
      },
      {
        "duration": 26,
        "start_time": "2022-08-15T04:55:40.899Z"
      },
      {
        "duration": 14,
        "start_time": "2022-08-15T04:55:40.926Z"
      },
      {
        "duration": 23,
        "start_time": "2022-08-15T04:55:40.941Z"
      },
      {
        "duration": 53,
        "start_time": "2022-08-15T04:55:40.966Z"
      },
      {
        "duration": 36,
        "start_time": "2022-08-15T04:55:41.021Z"
      },
      {
        "duration": 7,
        "start_time": "2022-08-15T04:55:41.058Z"
      },
      {
        "duration": 148,
        "start_time": "2022-08-15T04:55:41.067Z"
      },
      {
        "duration": 122,
        "start_time": "2022-08-15T04:55:41.216Z"
      },
      {
        "duration": 4,
        "start_time": "2022-08-15T04:55:41.339Z"
      },
      {
        "duration": 339,
        "start_time": "2022-08-15T04:55:41.345Z"
      },
      {
        "duration": 39,
        "start_time": "2022-08-15T04:55:41.685Z"
      },
      {
        "duration": 36,
        "start_time": "2022-08-15T04:55:41.726Z"
      },
      {
        "duration": 358,
        "start_time": "2022-08-15T04:55:41.809Z"
      },
      {
        "duration": 58,
        "start_time": "2022-08-15T04:55:42.170Z"
      },
      {
        "duration": 47,
        "start_time": "2022-08-15T04:55:42.230Z"
      },
      {
        "duration": 41,
        "start_time": "2022-08-15T04:55:42.279Z"
      },
      {
        "duration": 6,
        "start_time": "2022-08-15T04:55:42.323Z"
      },
      {
        "duration": 10,
        "start_time": "2022-08-15T04:55:42.331Z"
      },
      {
        "duration": 152,
        "start_time": "2022-08-15T04:55:42.342Z"
      },
      {
        "duration": 72,
        "start_time": "2022-08-15T04:55:42.495Z"
      },
      {
        "duration": 251,
        "start_time": "2022-08-15T04:55:42.569Z"
      },
      {
        "duration": 5,
        "start_time": "2022-08-15T04:55:42.823Z"
      },
      {
        "duration": 14,
        "start_time": "2022-08-15T04:55:42.829Z"
      },
      {
        "duration": 13,
        "start_time": "2022-08-15T04:55:42.844Z"
      },
      {
        "duration": 217,
        "start_time": "2022-08-15T04:55:42.858Z"
      },
      {
        "duration": 57,
        "start_time": "2022-08-15T04:55:43.077Z"
      },
      {
        "duration": 25,
        "start_time": "2022-08-15T04:55:43.135Z"
      },
      {
        "duration": 142,
        "start_time": "2022-08-15T04:55:43.162Z"
      },
      {
        "duration": 50,
        "start_time": "2022-08-15T04:55:43.306Z"
      },
      {
        "duration": 11,
        "start_time": "2022-08-15T04:55:43.357Z"
      },
      {
        "duration": 47,
        "start_time": "2022-08-15T04:55:43.370Z"
      },
      {
        "duration": 30,
        "start_time": "2022-08-15T04:55:43.419Z"
      },
      {
        "duration": 15,
        "start_time": "2022-08-15T04:55:43.451Z"
      },
      {
        "duration": 497,
        "start_time": "2022-08-15T04:55:43.468Z"
      },
      {
        "duration": 13,
        "start_time": "2022-08-15T04:55:43.966Z"
      },
      {
        "duration": 29,
        "start_time": "2022-08-15T04:55:43.981Z"
      },
      {
        "duration": 1355,
        "start_time": "2022-08-15T04:55:44.011Z"
      },
      {
        "duration": 49,
        "start_time": "2022-08-15T04:55:45.368Z"
      },
      {
        "duration": 1146,
        "start_time": "2022-08-15T04:55:45.422Z"
      },
      {
        "duration": 409,
        "start_time": "2022-08-15T04:55:46.569Z"
      },
      {
        "duration": 12,
        "start_time": "2022-08-15T04:55:46.979Z"
      },
      {
        "duration": 45,
        "start_time": "2022-08-15T04:55:46.992Z"
      },
      {
        "duration": 25,
        "start_time": "2022-08-15T04:55:47.039Z"
      },
      {
        "duration": 6,
        "start_time": "2022-08-15T05:06:15.623Z"
      },
      {
        "duration": 16,
        "start_time": "2022-08-15T05:06:23.026Z"
      },
      {
        "duration": 3,
        "start_time": "2022-08-15T05:06:38.887Z"
      },
      {
        "duration": 13,
        "start_time": "2022-08-15T05:06:42.020Z"
      },
      {
        "duration": 6,
        "start_time": "2022-08-15T05:25:24.080Z"
      },
      {
        "duration": 164,
        "start_time": "2022-08-15T05:25:27.679Z"
      },
      {
        "duration": 5,
        "start_time": "2022-08-15T05:26:17.424Z"
      },
      {
        "duration": 21,
        "start_time": "2022-08-15T05:26:20.047Z"
      },
      {
        "duration": 7,
        "start_time": "2022-08-15T05:26:42.176Z"
      },
      {
        "duration": 23,
        "start_time": "2022-08-15T05:26:45.296Z"
      },
      {
        "duration": 3,
        "start_time": "2022-08-15T05:26:55.063Z"
      },
      {
        "duration": 18,
        "start_time": "2022-08-15T05:27:00.401Z"
      },
      {
        "duration": 7,
        "start_time": "2022-08-15T05:27:51.535Z"
      },
      {
        "duration": 10,
        "start_time": "2022-08-15T05:27:54.266Z"
      },
      {
        "duration": 2,
        "start_time": "2022-08-15T05:28:21.967Z"
      },
      {
        "duration": 5,
        "start_time": "2022-08-15T05:28:23.591Z"
      },
      {
        "duration": 12,
        "start_time": "2022-08-15T05:28:26.647Z"
      },
      {
        "duration": 6,
        "start_time": "2022-08-15T05:30:53.030Z"
      },
      {
        "duration": 15,
        "start_time": "2022-08-15T05:30:55.741Z"
      },
      {
        "duration": 3,
        "start_time": "2022-08-15T05:31:00.766Z"
      },
      {
        "duration": 14,
        "start_time": "2022-08-15T05:31:03.742Z"
      },
      {
        "duration": 6,
        "start_time": "2022-08-15T05:31:37.046Z"
      },
      {
        "duration": 14,
        "start_time": "2022-08-15T05:31:38.590Z"
      },
      {
        "duration": 5,
        "start_time": "2022-08-15T05:31:42.815Z"
      },
      {
        "duration": 11,
        "start_time": "2022-08-15T05:31:45.670Z"
      },
      {
        "duration": 1193,
        "start_time": "2022-08-15T05:32:54.297Z"
      },
      {
        "duration": 705,
        "start_time": "2022-08-15T05:32:55.493Z"
      },
      {
        "duration": 10872,
        "start_time": "2022-08-15T05:32:56.200Z"
      },
      {
        "duration": 2435,
        "start_time": "2022-08-15T05:33:07.074Z"
      },
      {
        "duration": 1173,
        "start_time": "2022-08-15T05:33:09.514Z"
      },
      {
        "duration": 3,
        "start_time": "2022-08-15T05:33:10.689Z"
      },
      {
        "duration": 37,
        "start_time": "2022-08-15T05:33:10.693Z"
      },
      {
        "duration": 6,
        "start_time": "2022-08-15T05:33:10.731Z"
      },
      {
        "duration": 23,
        "start_time": "2022-08-15T05:33:10.739Z"
      },
      {
        "duration": 147,
        "start_time": "2022-08-15T05:33:10.765Z"
      },
      {
        "duration": 323,
        "start_time": "2022-08-15T05:33:10.914Z"
      },
      {
        "duration": 31,
        "start_time": "2022-08-15T05:33:11.238Z"
      },
      {
        "duration": 57,
        "start_time": "2022-08-15T05:33:11.271Z"
      },
      {
        "duration": 31,
        "start_time": "2022-08-15T05:33:11.330Z"
      },
      {
        "duration": 126,
        "start_time": "2022-08-15T05:33:11.362Z"
      },
      {
        "duration": 48,
        "start_time": "2022-08-15T05:33:11.489Z"
      },
      {
        "duration": 13,
        "start_time": "2022-08-15T05:33:11.541Z"
      },
      {
        "duration": 70,
        "start_time": "2022-08-15T05:33:11.556Z"
      },
      {
        "duration": 25,
        "start_time": "2022-08-15T05:33:11.629Z"
      },
      {
        "duration": 61,
        "start_time": "2022-08-15T05:33:11.656Z"
      },
      {
        "duration": 1508,
        "start_time": "2022-08-15T16:44:59.836Z"
      },
      {
        "duration": 1217,
        "start_time": "2022-08-15T16:45:01.351Z"
      },
      {
        "duration": 7619,
        "start_time": "2022-08-15T16:45:02.569Z"
      },
      {
        "duration": 2205,
        "start_time": "2022-08-15T16:45:10.190Z"
      },
      {
        "duration": 1467,
        "start_time": "2022-08-15T16:45:12.397Z"
      },
      {
        "duration": 3,
        "start_time": "2022-08-15T16:45:13.866Z"
      },
      {
        "duration": 36,
        "start_time": "2022-08-15T16:45:13.871Z"
      },
      {
        "duration": 21,
        "start_time": "2022-08-15T16:45:13.909Z"
      },
      {
        "duration": 34,
        "start_time": "2022-08-15T16:45:13.931Z"
      },
      {
        "duration": 116,
        "start_time": "2022-08-15T16:45:13.967Z"
      },
      {
        "duration": 217,
        "start_time": "2022-08-15T16:45:14.084Z"
      },
      {
        "duration": 32,
        "start_time": "2022-08-15T16:45:14.303Z"
      },
      {
        "duration": 40,
        "start_time": "2022-08-15T16:45:14.336Z"
      },
      {
        "duration": 59,
        "start_time": "2022-08-15T16:45:14.379Z"
      },
      {
        "duration": 54,
        "start_time": "2022-08-15T16:45:14.440Z"
      },
      {
        "duration": 36,
        "start_time": "2022-08-15T16:45:14.495Z"
      },
      {
        "duration": 18,
        "start_time": "2022-08-15T16:45:14.532Z"
      },
      {
        "duration": 23,
        "start_time": "2022-08-15T16:45:14.552Z"
      },
      {
        "duration": 11,
        "start_time": "2022-08-15T16:45:14.576Z"
      },
      {
        "duration": 55,
        "start_time": "2022-08-15T16:45:14.588Z"
      },
      {
        "duration": 9,
        "start_time": "2022-08-15T16:45:14.645Z"
      },
      {
        "duration": 117,
        "start_time": "2022-08-15T16:45:14.655Z"
      },
      {
        "duration": 95,
        "start_time": "2022-08-15T16:45:14.774Z"
      },
      {
        "duration": 3,
        "start_time": "2022-08-15T16:45:14.871Z"
      },
      {
        "duration": 427,
        "start_time": "2022-08-15T16:45:14.876Z"
      },
      {
        "duration": 39,
        "start_time": "2022-08-15T16:45:15.305Z"
      },
      {
        "duration": 17,
        "start_time": "2022-08-15T16:45:15.345Z"
      },
      {
        "duration": 402,
        "start_time": "2022-08-15T16:45:15.364Z"
      },
      {
        "duration": 28,
        "start_time": "2022-08-15T16:45:15.767Z"
      },
      {
        "duration": 58,
        "start_time": "2022-08-15T16:45:15.797Z"
      },
      {
        "duration": 6,
        "start_time": "2022-08-15T16:45:15.857Z"
      },
      {
        "duration": 5,
        "start_time": "2022-08-15T16:45:15.864Z"
      },
      {
        "duration": 8,
        "start_time": "2022-08-15T16:45:15.871Z"
      },
      {
        "duration": 157,
        "start_time": "2022-08-15T16:45:15.880Z"
      },
      {
        "duration": 61,
        "start_time": "2022-08-15T16:45:16.039Z"
      },
      {
        "duration": 253,
        "start_time": "2022-08-15T16:45:16.102Z"
      },
      {
        "duration": 5,
        "start_time": "2022-08-15T16:45:16.356Z"
      },
      {
        "duration": 17,
        "start_time": "2022-08-15T16:45:16.363Z"
      },
      {
        "duration": 40,
        "start_time": "2022-08-15T16:45:16.381Z"
      },
      {
        "duration": 211,
        "start_time": "2022-08-15T16:45:16.433Z"
      },
      {
        "duration": 126,
        "start_time": "2022-08-15T16:45:16.649Z"
      },
      {
        "duration": 23,
        "start_time": "2022-08-15T16:45:16.777Z"
      },
      {
        "duration": 64,
        "start_time": "2022-08-15T16:45:16.802Z"
      },
      {
        "duration": 41,
        "start_time": "2022-08-15T16:45:16.867Z"
      },
      {
        "duration": 24,
        "start_time": "2022-08-15T16:45:16.909Z"
      },
      {
        "duration": 27,
        "start_time": "2022-08-15T16:45:16.935Z"
      },
      {
        "duration": 25,
        "start_time": "2022-08-15T16:45:16.963Z"
      },
      {
        "duration": 13,
        "start_time": "2022-08-15T16:45:16.989Z"
      },
      {
        "duration": 361,
        "start_time": "2022-08-15T16:45:17.004Z"
      },
      {
        "duration": 12,
        "start_time": "2022-08-15T16:45:17.366Z"
      },
      {
        "duration": 11,
        "start_time": "2022-08-15T16:45:17.380Z"
      },
      {
        "duration": 1097,
        "start_time": "2022-08-15T16:45:17.393Z"
      },
      {
        "duration": 52,
        "start_time": "2022-08-15T16:45:18.491Z"
      },
      {
        "duration": 12,
        "start_time": "2022-08-15T16:45:18.544Z"
      },
      {
        "duration": 13,
        "start_time": "2022-08-15T16:45:18.557Z"
      },
      {
        "duration": 6,
        "start_time": "2022-08-15T16:45:18.571Z"
      },
      {
        "duration": 15,
        "start_time": "2022-08-15T16:45:18.578Z"
      },
      {
        "duration": 42,
        "start_time": "2022-08-15T16:45:18.595Z"
      }
    ],
    "colab": {
      "collapsed_sections": [],
      "name": "Zayakin_AB_test.ipynb",
      "provenance": []
    },
    "kernelspec": {
      "display_name": "Python 3 (ipykernel)",
      "language": "python",
      "name": "python3"
    },
    "language_info": {
      "codemirror_mode": {
        "name": "ipython",
        "version": 3
      },
      "file_extension": ".py",
      "mimetype": "text/x-python",
      "name": "python",
      "nbconvert_exporter": "python",
      "pygments_lexer": "ipython3",
      "version": "3.9.5"
    },
    "toc": {
      "base_numbering": 1,
      "nav_menu": {},
      "number_sections": true,
      "sideBar": true,
      "skip_h1_title": true,
      "title_cell": "Table of Contents",
      "title_sidebar": "Contents",
      "toc_cell": false,
      "toc_position": {
        "height": "calc(100% - 180px)",
        "left": "10px",
        "top": "150px",
        "width": "318.4px"
      },
      "toc_section_display": true,
      "toc_window_display": true
    }
  },
  "nbformat": 4,
  "nbformat_minor": 0
}