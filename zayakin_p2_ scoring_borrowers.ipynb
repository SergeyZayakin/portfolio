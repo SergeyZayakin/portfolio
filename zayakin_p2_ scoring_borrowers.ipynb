{
 "cells": [
  {
   "cell_type": "markdown",
   "id": "1b17cf2d",
   "metadata": {},
   "source": [
    "# Проект 2: Исследование надёжности заёмщиков"
   ]
  },
  {
   "cell_type": "markdown",
   "id": "64095ae3",
   "metadata": {},
   "source": [
    "<br/>\n",
    "    \n",
    "<div class=\"alert alert-info\">\n",
    "<h2> Привет!<a class=\"tocSkip\"></h2>\n",
    "<hr>  \n",
    "Я - Сергей. Рад что ты читаешь это текст :) Сделаю пару ремарок общего характера. В описании выполняемых действий, комментариях, я использую местоимение 'мы', так как считаю что ты, читая код, становиться моим соучастником ('соучавствующие программирование') и мы вместе проходим по пути исследования. Да и сформировлась привычка так писать в ходе написания научных работ.   \n",
    "NB! - так помечаю важные на мой взгдял идеи, которые стоит взять на заметку; инсайты, проработка которых требует большего знания предметной области.   \n",
    "Надеюсь мои многословные комментарии тебя не утомят.    \n",
    "</div>\n",
    "    \n",
    "<br/>"
   ]
  },
  {
   "cell_type": "markdown",
   "id": "3ff30a2c",
   "metadata": {},
   "source": [
    "### Описание проекта     \n",
    "**Заказчик** — кредитный отдел банка. Нужно разобраться, влияет ли семейное положение и количество детей клиента на факт погашения кредита в срок.  \n",
    "**Входные данные от банка** — статистика о платёжеспособности клиентов.  \n",
    "Результаты исследования будут учтены при построении модели *кредитного скоринга* — специальной системы, которая оценивает способность потенциального заёмщика вернуть кредит банку.  \n",
    "**Описание данных**  \n",
    "children — количество детей в семье  \n",
    "days_employed — общий трудовой стаж в днях  \n",
    "dob_years — возраст клиента в годах  \n",
    "education — уровень образования клиента  \n",
    "education_id — идентификатор уровня образования  \n",
    "family_status — семейное положение  \n",
    "family_status_id — идентификатор семейного положения  \n",
    "gender — пол клиента  \n",
    "income_type — тип занятости  \n",
    "debt — имел ли задолженность по возврату кредитов  \n",
    "total_income — ежемесячный доход  \n",
    "purpose — цель получения кредита  "
   ]
  },
  {
   "cell_type": "markdown",
   "id": "b38692b9",
   "metadata": {},
   "source": [
    "### Оглавление  \n",
    "0.1. [Шаг 1. Обзор данных](#step_1)  \n",
    "0.2. [Шаг 2.1 Заполнение пропусков](#step_2_1)  \n",
    "0.3. [Шаг 2.2 Проверка данных на аномалии и исправления](#step_2_2)   \n",
    "0.4. [Шаг 2.3. Изменение типов данных](#step_2_3)   \n",
    "0.5  [Шаг 2.4. Удаление дубликатов](#step_2_4)   \n",
    "0.6  [Шаг 2.5. Формирование дополнительных датафреймов словарей, декомпозиция исходного датафрейма](#step_2_5)  \n",
    "0.7  [Шаг 2.6. Категоризация дохода](#step_2_6)   \n",
    "0.8  [Шаг 2.7. Категоризация целей кредита](#step_2_7)    \n",
    "0.9  [Ответы на вопросы](#answers)  \n",
    "1  [Общий вывод](#end)    "
   ]
  },
  {
   "cell_type": "markdown",
   "id": "017411a7",
   "metadata": {},
   "source": [
    "### Шаг 1. Обзор данных <a id='step_1'></a>"
   ]
  },
  {
   "cell_type": "code",
   "execution_count": 1,
   "id": "bb8f5cc0",
   "metadata": {},
   "outputs": [],
   "source": [
    "# Имортируем библиотеку pandas с сокращённым именем pd\n",
    "import pandas as pd"
   ]
  },
  {
   "cell_type": "code",
   "execution_count": 2,
   "id": "00044104",
   "metadata": {},
   "outputs": [],
   "source": [
    "# Прочитаем файл с гугл диска\n",
    "from io import BytesIO\n",
    "import requests\n",
    "spreadsheet_id = '1ifkGj2NBfVQk13MvxAWcH-Pyoqjt2-8hu7sXxFuKafA'\n",
    "file_name = 'https://docs.google.com/spreadsheets/d/{}/export?format=csv'.format(spreadsheet_id)\n",
    "r = requests.get(file_name)\n",
    "data = pd.read_csv(BytesIO(r.content))"
   ]
  },
  {
   "cell_type": "markdown",
   "id": "79523597",
   "metadata": {},
   "source": [
    "***Выводы из обзора данных:***  \n",
    "1. в таблице 21525 строк (наблюдений) и 12 колонок (атрибутов);\n",
    "1. в двух колонках 'days_employed' (стаж в днях) и 'total_income' (ежемесячный доход) есть пропущенные значения;  \n",
    "1. в колонке 'days_employed' есть как положительные, так и отрицательные значения - аномалия в данных;\n",
    "1. 2-х колонках хранятся данные типа float64 числа с плавающей точкой - числа с дробной частью); \n",
    "1. 5-и колонках хранятся данные типа int64 (целые чиcла); \n",
    "1. 5-и колонках хранятся данные типа object (текстовые или смешанные числовые и нечисловые значения);\n",
    "1. колонки названы корректно: заголовки написаны в 'змеинном_стиле', в них нет лишних пробелов, заглавных букв."
   ]
  },
  {
   "cell_type": "markdown",
   "id": "7c946b94",
   "metadata": {},
   "source": [
    "### Шаг 2.1 Заполнение пропусков<a id='step_2_1'></a>"
   ]
  },
  {
   "cell_type": "markdown",
   "id": "98002fa5",
   "metadata": {},
   "source": [
    "Обзор данных показал, что в двух колонках 'days_employed' (колонка с числовыми данными) и 'total_income' (колонка с числовыми данными) есть пропущенные значения. Далее узнаем число пропусков и их долю от общего числа значений в колонках. После найдём их и заполним медианным значением по столбцу. Также рассмотрим причины пояления пропусков и объясним почему применяется медиана для заполения пропусков."
   ]
  },
  {
   "cell_type": "code",
   "execution_count": 3,
   "id": "4f9d250f",
   "metadata": {},
   "outputs": [
    {
     "name": "stdout",
     "output_type": "stream",
     "text": [
      "Число пропущеных значений в колонке \"days_employed\": 2174\n",
      "Число пропущеных значений в колонке \"total_income\": 2174\n",
      "Доля пропущеных значений в колонке\"days_employed\": 10%\n",
      "Доля пропущеных значений в колонке\"total_income\": 10%\n"
     ]
    }
   ],
   "source": [
    "loss_days_employed = len(data[data['days_employed'].isna()])# переменная с числом строк с пропусками в колонке 'days_employed'\n",
    "loss_total_income = len(data[data['total_income'].isna()])# переменная с числом строк с пропусками в колонке 'total_income'\n",
    "# Печать числа строк с пропусками\n",
    "print('Число пропущеных значений в колонке \"days_employed\":', loss_days_employed)\n",
    "print('Число пропущеных значений в колонке \"total_income\":', loss_total_income)\n",
    "# печать доли строк с пропусками от общего числа строк, \n",
    "# с расчётом показателя внутри функции print, с представлением в виде %-в (с точнотью до ноль знака после запятой)\n",
    "print('Доля пропущеных значений в колонке\"days_employed\": {:.0%}'.format(loss_days_employed/len(data['days_employed'])))\n",
    "print('Доля пропущеных значений в колонке\"total_income\": {:.0%}'.format(loss_total_income/len(data['total_income'])))\n",
    "# в колонках 'days_employed' и 'total_income' пропущено каждое десятое значение."
   ]
  },
  {
   "cell_type": "code",
   "execution_count": 4,
   "id": "e7ee7dc3",
   "metadata": {},
   "outputs": [],
   "source": [
    "# Заменим пропущенные значения медианным значением (медианой)\n",
    "#days_employed_median = data['days_employed'].median() #расчёт медианы для колонки 'days_employed'.\n",
    "#total_income_median = data['total_income'].median() #расчёт медианы для колонки 'total_income'.\n",
    "# NB! Медианные значения я бы посчитал с учётом ввозраста клиента для стажа и типа занятости для дохода.\n",
    "# найдём пропущенные значения и заполним их медианным значением по столбцу\n",
    "#data['days_employed'] = data['days_employed'].fillna(value = days_employed_median)\n",
    "#data['total_income'] = data['total_income'].fillna(value = total_income_median)\n",
    "#print(days_employed_median) # напечатаем медиану колонки 'days_employed'\n",
    "#print(total_income_median) # напечатаем медиану колонки 'total_income'\n",
    "#data.info()# вызовем метод info() для получения информации об обновленном датасете\n",
    "# пропущеных значений в колонках больше нет"
   ]
  },
  {
   "cell_type": "code",
   "execution_count": 5,
   "id": "9f8b4bb0",
   "metadata": {},
   "outputs": [],
   "source": [
    "# Чтобы заполнить пропущенные значения в столбце трудовой стаж (days_employed) в днях \n",
    "#можно взять медиану для каждой группы возраста. Для этого создадим новый столбец \"age_group\"\n",
    "# 1 группа: 19 - 30\n",
    "# 2 группа: 30 - 40\n",
    "# 3  группа: 40 - 55 \n",
    "# 4  группа: 55 - 75\n",
    "\n",
    "def days_employed(row):\n",
    "    \n",
    "    age = row['dob_years']\n",
    "\n",
    "    if age <= 30:\n",
    "        return '1 группа'\n",
    "    \n",
    "    if age <= 40 and age > 30:\n",
    "        return '2 группа'\n",
    "    \n",
    "    if age <= 55 and age > 40:\n",
    "        return '3 группа'\n",
    "    \n",
    "    if age <= 80 and age > 55:\n",
    "        return '4 группа'\n",
    "\n",
    "data['age_group'] = data.apply(days_employed, axis=1)\n",
    "\n",
    "data['days_employed'] = data['days_employed'].fillna(0)\n",
    "data.isnull().sum()\n",
    "\n",
    "data.groupby('age_group')['days_employed'].mean()[0]\n",
    "\n",
    "data.loc[(data['age_group'] == '1 группа') & (data['days_employed'] == 0 ), 'days_employed'] = data.groupby('age_group')['days_employed'].mean()[0]\n",
    "data.loc[(data['age_group'] == '2 группа') & (data['days_employed'] == 0 ), 'days_employed'] = data.groupby('age_group')['days_employed'].mean()[1]\n",
    "data.loc[(data['age_group'] == '3 группа') & (data['days_employed'] == 0 ), 'days_employed'] = data.groupby('age_group')['days_employed'].mean()[2]\n",
    "data.loc[(data['age_group'] == '4 группа') & (data['days_employed'] == 0 ), 'days_employed'] = data.groupby('age_group')['days_employed'].mean()[3]"
   ]
  },
  {
   "cell_type": "code",
   "execution_count": 6,
   "id": "4db09434",
   "metadata": {},
   "outputs": [
    {
     "name": "stdout",
     "output_type": "stream",
     "text": [
      "<class 'pandas.core.frame.DataFrame'>\n",
      "RangeIndex: 21525 entries, 0 to 21524\n",
      "Data columns (total 13 columns):\n",
      " #   Column            Non-Null Count  Dtype  \n",
      "---  ------            --------------  -----  \n",
      " 0   children          21525 non-null  int64  \n",
      " 1   days_employed     21525 non-null  float64\n",
      " 2   dob_years         21525 non-null  int64  \n",
      " 3   education         21525 non-null  object \n",
      " 4   education_id      21525 non-null  int64  \n",
      " 5   family_status     21525 non-null  object \n",
      " 6   family_status_id  21525 non-null  int64  \n",
      " 7   gender            21525 non-null  object \n",
      " 8   income_type       21525 non-null  object \n",
      " 9   debt              21525 non-null  int64  \n",
      " 10  total_income      21525 non-null  float64\n",
      " 11  purpose           21525 non-null  object \n",
      " 12  age_group         21525 non-null  object \n",
      "dtypes: float64(2), int64(5), object(6)\n",
      "memory usage: 2.1+ MB\n"
     ]
    }
   ],
   "source": [
    "# Чтобы заполнить пропущенные значения в столбце Total Income можно использовать медиану дохода \n",
    "# для каждого типа дохода (income_type)\n",
    "\n",
    "data['total_income'] = data['total_income'].fillna(0)\n",
    "\n",
    "data.groupby('income_type')['total_income'].median()\n",
    "\n",
    "data.loc[(data['total_income'] == 0) & (data['income_type'] == 'безработный'), 'total_income'] = data.groupby('income_type')['total_income'].median()[0]\n",
    "data.loc[(data['total_income'] == 0) & (data['income_type'] == 'в декрете'), 'total_income'] = data.groupby('income_type')['total_income'].median()[1]\n",
    "data.loc[(data['total_income'] == 0) & (data['income_type'] == 'госслужащий'), 'total_income'] = data.groupby('income_type')['total_income'].median()[2]\n",
    "data.loc[(data['total_income'] == 0) & (data['income_type'] == 'компаньон'), 'total_income'] = data.groupby('income_type')['total_income'].median()[3]\n",
    "data.loc[(data['total_income'] == 0) & (data['income_type'] == 'пенсионер'), 'total_income'] = data.groupby('income_type')['total_income'].median()[4]\n",
    "data.loc[(data['total_income'] == 0) & (data['income_type'] == 'предприниматель'), 'total_income'] = data.groupby('income_type')['total_income'].median()[5]\n",
    "data.loc[(data['total_income'] == 0) & (data['income_type'] == 'сотрудник'), 'total_income'] = data.groupby('income_type')['total_income'].median()[6]\n",
    "data.loc[(data['total_income'] == 0) & (data['income_type'] == 'студент'), 'total_income'] = data.groupby('income_type')['total_income'].median()[7]\n",
    "\n",
    "data.info()# вызовем метод info() для получения информации об обновленном датасете"
   ]
  },
  {
   "cell_type": "markdown",
   "id": "3058bda5",
   "metadata": {},
   "source": [
    "**Вывод 1:** В колонках 'days_employed' и 'total_income' пропущено каждое десятое значение.  \n",
    "**Вывод 2:** Колонка 'days_employed' содержит значения об общем трудовом стаже потенциального заёмщика в днях, а 'total_income' данные ежемесячном доходе - остутвие данных (пропуски) может свидетельствовать о:  \n",
    "во-перых, об ошибке при вводе данных сотрудником;   \n",
    "во-вторых, клиент не заполнил их в анкете (форме) - не хотел раскрывать, не вспомнил (особенно стаж в днях), пропустил;  \n",
    "в-третих, об отсутвие у клиента работы в данным момент и в прошлом. Клиент или ещё не достиг трудоспосбного возраста, или в данным момент безработный (или занят, но нефоциально) и ни когда не работал официально.  \n",
    "**Вывод 3:** В первых двух случаях использование для заполнения пропусков медианного значения оправдано тем, что в отличии от среднего арифметического, медиана не чувствительно к выбросам - слишком низким или высоким значеним. При условии что мы не можим удалить наблюдение (клиента) или применять более сложные методы - медиана лучший вариант.     \n",
    "Есть разные мнения по поводу использование использование медианы и других методов для заполнения пропусков (https://loginom.ru/blog/missing), но эти методы не всегда приводят к ухудшению результатов. Более того, когда это уместно, использование простых методов (такого как - заполнение медианой) более предпочтительно.   \n",
    "**NB!** В третьем случае без дополнительного анализа, сбора дополнительных данных о клиенте - путём его интервью, например, я бы не стал использовать среднее, это улучшит искусственно рейтинг клиента для банка и скроет потенциальный риск невозврата."
   ]
  },
  {
   "cell_type": "markdown",
   "id": "c07ca00d",
   "metadata": {},
   "source": [
    "### Шаг 2.2 Проверка данных на аномалии и исправления. <a id='step_2_2'></a>"
   ]
  },
  {
   "cell_type": "markdown",
   "id": "b9055639",
   "metadata": {},
   "source": [
    "В данных могут встречаться артефакты (аномалии) — значения, которые не отражают действительность и появились по какой-то ошибке."
   ]
  },
  {
   "cell_type": "code",
   "execution_count": 7,
   "id": "e0a2db42",
   "metadata": {},
   "outputs": [
    {
     "name": "stdout",
     "output_type": "stream",
     "text": [
      "имя колонки children значения [ 1  0  3  2 -1  4 20  5]\n",
      "имя колонки days_employed значения [-8437.67302776 -4024.80375385 -5623.42261023 ... -2113.3468877\n",
      " -3112.4817052  -1984.50758853]\n",
      "имя колонки dob_years значения [42 36 33 32 53 27 43 50 35 41 40 65 54 56 26 48 24 21 57 67 28 63 62 47\n",
      " 34 68 25 31 30 20 49 37 45 61 64 44 52 46 23 38 39 51  0 59 29 60 55 58\n",
      " 71 22 73 66 69 19 72 70 74 75]\n",
      "имя колонки education значения ['высшее' 'среднее' 'Среднее' 'СРЕДНЕЕ' 'ВЫСШЕЕ' 'неоконченное высшее'\n",
      " 'начальное' 'Высшее' 'НЕОКОНЧЕННОЕ ВЫСШЕЕ' 'Неоконченное высшее'\n",
      " 'НАЧАЛЬНОЕ' 'Начальное' 'Ученая степень' 'УЧЕНАЯ СТЕПЕНЬ'\n",
      " 'ученая степень']\n",
      "имя колонки education_id значения [0 1 2 3 4]\n",
      "имя колонки family_status значения ['женат / замужем' 'гражданский брак' 'вдовец / вдова' 'в разводе'\n",
      " 'Не женат / не замужем']\n",
      "имя колонки family_status_id значения [0 1 2 3 4]\n",
      "имя колонки gender значения ['F' 'M' 'XNA']\n",
      "имя колонки income_type значения ['сотрудник' 'пенсионер' 'компаньон' 'госслужащий' 'безработный'\n",
      " 'предприниматель' 'студент' 'в декрете']\n",
      "имя колонки debt значения [0 1]\n",
      "имя колонки total_income значения [253875.6394526  112080.01410244 145885.95229686 ...  89672.56115303\n",
      " 244093.05050043  82047.41889948]\n",
      "имя колонки purpose значения ['покупка жилья' 'приобретение автомобиля' 'дополнительное образование'\n",
      " 'сыграть свадьбу' 'операции с жильем' 'образование'\n",
      " 'на проведение свадьбы' 'покупка жилья для семьи' 'покупка недвижимости'\n",
      " 'покупка коммерческой недвижимости' 'покупка жилой недвижимости'\n",
      " 'строительство собственной недвижимости' 'недвижимость'\n",
      " 'строительство недвижимости' 'на покупку подержанного автомобиля'\n",
      " 'на покупку своего автомобиля' 'операции с коммерческой недвижимостью'\n",
      " 'строительство жилой недвижимости' 'жилье'\n",
      " 'операции со своей недвижимостью' 'автомобили' 'заняться образованием'\n",
      " 'сделка с подержанным автомобилем' 'получение образования' 'автомобиль'\n",
      " 'свадьба' 'получение дополнительного образования' 'покупка своего жилья'\n",
      " 'операции с недвижимостью' 'получение высшего образования'\n",
      " 'свой автомобиль' 'сделка с автомобилем' 'профильное образование'\n",
      " 'высшее образование' 'покупка жилья для сдачи' 'на покупку автомобиля'\n",
      " 'ремонт жилью' 'заняться высшим образованием']\n"
     ]
    }
   ],
   "source": [
    "# Посмотрим на список уникальных значений в каждой колонке.\n",
    "# что бы не выводить каждую колонку в ручную, переберём их имена в цикле и выведем уникальные значения\n",
    "data_columns = ['children', 'days_employed', 'dob_years', 'education', 'education_id',\n",
    "       'family_status', 'family_status_id', 'gender', 'income_type', 'debt',\n",
    "       'total_income', 'purpose']\n",
    "for elem in data_columns:\n",
    "    print('имя колонки', elem, 'значения', data[elem].unique())"
   ]
  },
  {
   "cell_type": "code",
   "execution_count": 8,
   "id": "0f77cdd1",
   "metadata": {},
   "outputs": [
    {
     "data": {
      "text/plain": [
       "14585    20667.263793\n",
       "13006    21205.280566\n",
       "16174    21367.648356\n",
       "1598     21695.101789\n",
       "14276    21895.614355\n",
       "Name: total_income, dtype: float64"
      ]
     },
     "metadata": {},
     "output_type": "display_data"
    }
   ],
   "source": [
    "#В колонке 'total_income'уникальных значений много,\n",
    "# но доход не может быть отрицательным,\n",
    "display(data['total_income'].sort_values().head())# поэтому отсоритуем значения по возрастанию \n",
    "# и посмотрим на 5 самых низких значений."
   ]
  },
  {
   "cell_type": "markdown",
   "id": "1c48150b",
   "metadata": {},
   "source": [
    "**Результаты проверки колонок и возможные причины возниконовения аномалий:**   \n",
    "1. колонка 'children' - отрицательное число детей (-1), есть значение 20 детей - это в теории возможно, но скорее аномалия. Заменим на 1 и 2 соответственно. Причина аномалий - опечатки сотрудников вводивших данные;   \n",
    "1. колонка 'days_employed' - отрицательное число дней стажа. Причина аномалий - опечатки сотрудников вводивших данные, непонимание того как правильно вводить данные;  \n",
    "1. колонка 'dob_years' - возраст клиента (-ов) равный нулю. Причина аномалий - отсутвие данных;  \n",
    "1. колонка 'education' - одни и те же значения записаны по разному: только строчными буквами, только заглавными, с заглавной буквы строчными. Причина аномалий - нет единого стандарста записи; \n",
    "1. колонка 'education_id' - аномалий нет;  \n",
    "1. колонка 'family_status' - одни и те же значения записаны по разному: только строчными буквами, с заглавной буквы строчными. Причина аномалий - нет единого стандарта записи; \n",
    "1. колонка 'family_status_id' - аномалий нет;  \n",
    "1. колонка 'gender' - странное значение 'XNA'. Причина аномалий - опечатки сотрудников вводивших данные; \n",
    "1. колонка 'income_type' - аномалий нет;  \n",
    "1. колонка 'debt' - аномалий нет;\n",
    "1. колонка 'total_income' - аномалий нет;\n",
    "1. колонка 'purpose' - часть значений можно привести к общей формулировке, уменьшив таким образом их число и стандартизировав формулировки. Причина аномалий - нет единого стандарта записи. \n",
    "\n",
    "Далее мы последовательно устраним аномалии в каждой из колонок, где они есть."
   ]
  },
  {
   "cell_type": "code",
   "execution_count": 9,
   "id": "395e97ca",
   "metadata": {},
   "outputs": [],
   "source": [
    "# Колонка children, заменим значения -1 и 20 на 1 и 2\n",
    "data['children'] = data['children'].replace(20, 2)\n",
    "data['children'] = data['children'].replace(-1, 1)\n",
    "#data['children'].unique()# закомментировал строку чтобы её вывод не мешал дальнешим шагам"
   ]
  },
  {
   "cell_type": "code",
   "execution_count": 10,
   "id": "35f506e5",
   "metadata": {},
   "outputs": [],
   "source": [
    "# Колонка days_employed содержит отрицательные значения.\n",
    "# Возьмем значения колонки по модулю и избавимся от отрицательных значений. \n",
    "#Решение нагуглил https://pythonru.com/osnovy/abs-v-python-modul-chisla\n",
    "data['days_employed'] = abs(data['days_employed'])\n",
    "#display(data.head())"
   ]
  },
  {
   "cell_type": "code",
   "execution_count": 11,
   "id": "c271bdde",
   "metadata": {},
   "outputs": [
    {
     "data": {
      "text/plain": [
       "income_type\n",
       "безработный        38.0\n",
       "в декрете          39.0\n",
       "госслужащий        40.0\n",
       "компаньон          39.0\n",
       "пенсионер          60.0\n",
       "предприниматель    42.5\n",
       "сотрудник          39.0\n",
       "студент            22.0\n",
       "Name: dob_years, dtype: float64"
      ]
     },
     "metadata": {},
     "output_type": "display_data"
    }
   ],
   "source": [
    "# Колонка dob_years содержит значения возраста равное нулю, узнаем количество наблюдений с таким значеним\n",
    "#data[data['dob_years'] == 0].count() #считаем число нулевых значений, закомментировал строку чтобы её вывод не мешал дальнешим шагам\n",
    "#Всего 101 нулевое значение.\n",
    "# Для того чтобы заполнить нулевые значения\n",
    "#посчитаем медиану возраста клиента в годах  для каждого типа занятости\n",
    "#Гипотеза: медианный возраст клиентов с типом занятости 'пенсионер', например, \n",
    "#должен быть выше аналогичного показателя для клиентов с типом занятости 'студент'\n",
    "income_type_median_years = data.groupby('income_type')['dob_years'].median()\n",
    "display(income_type_median_years) #выведем результат\n",
    "# Заполним нулевые значения в колонке медианными значениями для каждого типа занятости\n",
    "data.loc[(data['income_type'] == 'безработный ') & (data['dob_years'] == 0), 'dob_years'] = 38\n",
    "data.loc[(data['income_type'] == 'в декрете') & (data['dob_years'] == 0), 'dob_years'] = 39\n",
    "data.loc[(data['income_type'] == 'госслужащий') & (data['dob_years'] == 0), 'dob_years'] = 40\n",
    "data.loc[(data['income_type'] == 'компаньон') & (data['dob_years'] == 0), 'dob_years'] = 39\n",
    "data.loc[(data['income_type'] == 'пенсионер') & (data['dob_years'] == 0), 'dob_years'] = 60\n",
    "data.loc[(data['income_type'] == 'предприниматель') & (data['dob_years'] == 0), 'dob_years'] = 42.5\n",
    "data.loc[(data['income_type'] == 'сотрудник') & (data['dob_years'] == 0), 'dob_years'] = 39\n",
    "data.loc[(data['income_type'] == 'студент') & (data['dob_years'] == 0), 'dob_years'] = 22\n",
    "#data[data['dob_years'] == 0].count() #считаем число нулевых значений - их нет. \n",
    "# закомментировал строку чтобы её вывод не мешал дальнешим шагам"
   ]
  },
  {
   "cell_type": "code",
   "execution_count": 12,
   "id": "0dacca00",
   "metadata": {},
   "outputs": [
    {
     "data": {
      "text/plain": [
       "array(['высшее', 'среднее', 'неоконченное высшее', 'начальное',\n",
       "       'ученая степень'], dtype=object)"
      ]
     },
     "execution_count": 12,
     "metadata": {},
     "output_type": "execute_result"
    }
   ],
   "source": [
    "# Колонка education, значения в разном регистре. Приведем  значения к единому (строчному) регистру\n",
    "data['education'] = data['education'].str.lower()\n",
    "data['education'].unique()\n",
    "# в колонке education всего 5 уникальных значений"
   ]
  },
  {
   "cell_type": "code",
   "execution_count": 13,
   "id": "d0cb6464",
   "metadata": {},
   "outputs": [
    {
     "data": {
      "text/plain": [
       "array(['женат / замужем', 'гражданский брак', 'вдовец / вдова',\n",
       "       'в разводе', 'не женат / не замужем'], dtype=object)"
      ]
     },
     "execution_count": 13,
     "metadata": {},
     "output_type": "execute_result"
    }
   ],
   "source": [
    "# Колонка family_status, значения в разном регистре. Приведем  значения к единому (строчному) регистру\n",
    "data['family_status'] = data['family_status'].str.lower()\n",
    "data['family_status'].unique()\n",
    "# в колонке education всего 5 уникальных значений"
   ]
  },
  {
   "cell_type": "code",
   "execution_count": 14,
   "id": "578c7a7c",
   "metadata": {},
   "outputs": [],
   "source": [
    "#  Колонка gender содержит значение непонятное 'XNA'. Узнаем количество пропущенных значений\n",
    "data[data['gender'] == 'XNA'].count()\n",
    "# значение 'XNA' встречается один раз, исключим это наблюдение из выборки.\n",
    "data = data[data['gender'] != 'XNA']\n",
    "#data['gender'].unique() # закомментировал строку чтобы её вывод не мешал дальнешим шагам"
   ]
  },
  {
   "cell_type": "markdown",
   "id": "d680caa6",
   "metadata": {},
   "source": [
    "### Шаг 2.3. Изменение типов данных.<a id='step_2_3'></a>"
   ]
  },
  {
   "cell_type": "code",
   "execution_count": 15,
   "id": "d546c65d",
   "metadata": {},
   "outputs": [],
   "source": [
    "# Вещественные значения данных в двух колонках days_employed и total_income.\n",
    "# заменим их на цельночисленные (тип 'int') методом astype()\n",
    "data['days_employed'] = data['days_employed'].astype('int') # изменим значения колонки days_employed в тип 'int'\n",
    "data['total_income'] = data['total_income'].astype('int') # изменим значения колонки total_income в тип 'int'\n",
    "#display(data.head()) # закомментировал строку чтобы её вывод не мешал дальнешим шагам"
   ]
  },
  {
   "cell_type": "markdown",
   "id": "ffc07d4b",
   "metadata": {},
   "source": [
    "### Шаг 2.4. Удаление дубликатов.<a id='step_2_4'></a>"
   ]
  },
  {
   "cell_type": "markdown",
   "id": "990750e6",
   "metadata": {},
   "source": [
    "Подсчитаем число дублирующих друг-друг наблюдений (строк), при этом основываемся на предположении что запись где совпадают значения во всех колонках - это запись об одном клиенте.   \n",
    "Дублирование записей может также негативно сказать на скорринговой модели - изказив её выводы, вызыва переобучение модели.   \n",
    "Ранее, значения в ряде колонок мы уже привели к единому регистру - это исключит неявные дубликаты."
   ]
  },
  {
   "cell_type": "code",
   "execution_count": 16,
   "id": "fda923a3",
   "metadata": {},
   "outputs": [
    {
     "data": {
      "text/plain": [
       "0"
      ]
     },
     "execution_count": 16,
     "metadata": {},
     "output_type": "execute_result"
    }
   ],
   "source": [
    "# Подсчитаем число дублирующих друг-друг наюлюдений.\n",
    "# В базе 71 дублирующая запись, исключим эти наблюдения из выборки.\n",
    "data = data.drop_duplicates().reset_index(drop=True) #удаление дублирующих записей.\n",
    "data.duplicated().sum() #а теперь ноль"
   ]
  },
  {
   "cell_type": "markdown",
   "id": "84e02cd7",
   "metadata": {},
   "source": [
    "**Причины появления дубликатов:**  \n",
    "* естественное дублирование строк - данные об одном клиенте могли внести дважды в ходя текущей работы, например если он дважны подавал (заполнял) заявку на кредит;  \n",
    "* случайное дублирование - по техническим причинам (случайно) произошло дублирование записей;  \n",
    "* искусственное дублирование строк - кто-то преднамерено, для каких-то целей, задублировал строки. "
   ]
  },
  {
   "cell_type": "markdown",
   "id": "006a89b1",
   "metadata": {},
   "source": [
    "### Шаг 2.5. Формирование дополнительных датафреймов словарей, декомпозиция исходного датафрейма.<a id='step_2_5'></a>"
   ]
  },
  {
   "cell_type": "markdown",
   "id": "d5ec2617",
   "metadata": {},
   "source": [
    "Создадим два новых дадафрейма:   \n",
    "1. education, куда включим колонки 'education' и 'education_id';  \n",
    "1. family_status, куда включим колонки 'family_status' и 'family_status_id' из датафрейма data.  \n",
    "\n",
    "Удалим из датафрейма data колонки 'education' и 'family_status', оставив только их идентификаторы 'education_id' и 'family_status_id'."
   ]
  },
  {
   "cell_type": "code",
   "execution_count": 17,
   "id": "16e8f3c9",
   "metadata": {},
   "outputs": [
    {
     "data": {
      "text/html": [
       "<div>\n",
       "<style scoped>\n",
       "    .dataframe tbody tr th:only-of-type {\n",
       "        vertical-align: middle;\n",
       "    }\n",
       "\n",
       "    .dataframe tbody tr th {\n",
       "        vertical-align: top;\n",
       "    }\n",
       "\n",
       "    .dataframe thead th {\n",
       "        text-align: right;\n",
       "    }\n",
       "</style>\n",
       "<table border=\"1\" class=\"dataframe\">\n",
       "  <thead>\n",
       "    <tr style=\"text-align: right;\">\n",
       "      <th></th>\n",
       "      <th>education</th>\n",
       "      <th>education_id</th>\n",
       "    </tr>\n",
       "  </thead>\n",
       "  <tbody>\n",
       "    <tr>\n",
       "      <th>0</th>\n",
       "      <td>высшее</td>\n",
       "      <td>0</td>\n",
       "    </tr>\n",
       "    <tr>\n",
       "      <th>1</th>\n",
       "      <td>среднее</td>\n",
       "      <td>1</td>\n",
       "    </tr>\n",
       "    <tr>\n",
       "      <th>2</th>\n",
       "      <td>неоконченное высшее</td>\n",
       "      <td>2</td>\n",
       "    </tr>\n",
       "    <tr>\n",
       "      <th>3</th>\n",
       "      <td>начальное</td>\n",
       "      <td>3</td>\n",
       "    </tr>\n",
       "    <tr>\n",
       "      <th>4</th>\n",
       "      <td>ученая степень</td>\n",
       "      <td>4</td>\n",
       "    </tr>\n",
       "  </tbody>\n",
       "</table>\n",
       "</div>"
      ],
      "text/plain": [
       "             education  education_id\n",
       "0               высшее             0\n",
       "1              среднее             1\n",
       "2  неоконченное высшее             2\n",
       "3            начальное             3\n",
       "4       ученая степень             4"
      ]
     },
     "metadata": {},
     "output_type": "display_data"
    },
    {
     "data": {
      "text/html": [
       "<div>\n",
       "<style scoped>\n",
       "    .dataframe tbody tr th:only-of-type {\n",
       "        vertical-align: middle;\n",
       "    }\n",
       "\n",
       "    .dataframe tbody tr th {\n",
       "        vertical-align: top;\n",
       "    }\n",
       "\n",
       "    .dataframe thead th {\n",
       "        text-align: right;\n",
       "    }\n",
       "</style>\n",
       "<table border=\"1\" class=\"dataframe\">\n",
       "  <thead>\n",
       "    <tr style=\"text-align: right;\">\n",
       "      <th></th>\n",
       "      <th>family_status</th>\n",
       "      <th>family_status_id</th>\n",
       "    </tr>\n",
       "  </thead>\n",
       "  <tbody>\n",
       "    <tr>\n",
       "      <th>0</th>\n",
       "      <td>женат / замужем</td>\n",
       "      <td>0</td>\n",
       "    </tr>\n",
       "    <tr>\n",
       "      <th>1</th>\n",
       "      <td>гражданский брак</td>\n",
       "      <td>1</td>\n",
       "    </tr>\n",
       "    <tr>\n",
       "      <th>2</th>\n",
       "      <td>вдовец / вдова</td>\n",
       "      <td>2</td>\n",
       "    </tr>\n",
       "    <tr>\n",
       "      <th>3</th>\n",
       "      <td>в разводе</td>\n",
       "      <td>3</td>\n",
       "    </tr>\n",
       "    <tr>\n",
       "      <th>4</th>\n",
       "      <td>не женат / не замужем</td>\n",
       "      <td>4</td>\n",
       "    </tr>\n",
       "  </tbody>\n",
       "</table>\n",
       "</div>"
      ],
      "text/plain": [
       "           family_status  family_status_id\n",
       "0        женат / замужем                 0\n",
       "1       гражданский брак                 1\n",
       "2         вдовец / вдова                 2\n",
       "3              в разводе                 3\n",
       "4  не женат / не замужем                 4"
      ]
     },
     "metadata": {},
     "output_type": "display_data"
    }
   ],
   "source": [
    "education = data[['education', 'education_id']].drop_duplicates().reset_index(drop=True) # создаём датафрейм education\n",
    "# и удалим из него дубликаты\n",
    "family_status = data[['family_status', 'family_status_id']].drop_duplicates().reset_index(drop=True) \n",
    "#создаём датафрейм family_status и удалим из него дубликаты\n",
    "display(education.head()) # посмотрим на новые датафреймы, закомментировал строку чтобы её вывод не мешал дальнешим шагам\n",
    "display(family_status.head()) # закомментировал строку чтобы её вывод не мешал дальнешим шагам"
   ]
  },
  {
   "cell_type": "code",
   "execution_count": 18,
   "id": "f6eba4f7",
   "metadata": {},
   "outputs": [
    {
     "name": "stderr",
     "output_type": "stream",
     "text": [
      "C:\\Users\\Sergey\\AppData\\Local\\Temp/ipykernel_8272/1450935768.py:2: FutureWarning: In a future version of pandas all arguments of DataFrame.drop except for the argument 'labels' will be keyword-only\n",
      "  data = data.drop('education', 1)\n",
      "C:\\Users\\Sergey\\AppData\\Local\\Temp/ipykernel_8272/1450935768.py:3: FutureWarning: In a future version of pandas all arguments of DataFrame.drop except for the argument 'labels' will be keyword-only\n",
      "  data = data.drop('family_status', 1)\n"
     ]
    },
    {
     "data": {
      "text/html": [
       "<div>\n",
       "<style scoped>\n",
       "    .dataframe tbody tr th:only-of-type {\n",
       "        vertical-align: middle;\n",
       "    }\n",
       "\n",
       "    .dataframe tbody tr th {\n",
       "        vertical-align: top;\n",
       "    }\n",
       "\n",
       "    .dataframe thead th {\n",
       "        text-align: right;\n",
       "    }\n",
       "</style>\n",
       "<table border=\"1\" class=\"dataframe\">\n",
       "  <thead>\n",
       "    <tr style=\"text-align: right;\">\n",
       "      <th></th>\n",
       "      <th>children</th>\n",
       "      <th>days_employed</th>\n",
       "      <th>dob_years</th>\n",
       "      <th>education_id</th>\n",
       "      <th>family_status_id</th>\n",
       "      <th>gender</th>\n",
       "      <th>income_type</th>\n",
       "      <th>debt</th>\n",
       "      <th>total_income</th>\n",
       "      <th>purpose</th>\n",
       "      <th>age_group</th>\n",
       "    </tr>\n",
       "  </thead>\n",
       "  <tbody>\n",
       "    <tr>\n",
       "      <th>0</th>\n",
       "      <td>1</td>\n",
       "      <td>8437</td>\n",
       "      <td>42.0</td>\n",
       "      <td>0</td>\n",
       "      <td>0</td>\n",
       "      <td>F</td>\n",
       "      <td>сотрудник</td>\n",
       "      <td>0</td>\n",
       "      <td>253875</td>\n",
       "      <td>покупка жилья</td>\n",
       "      <td>3 группа</td>\n",
       "    </tr>\n",
       "    <tr>\n",
       "      <th>1</th>\n",
       "      <td>1</td>\n",
       "      <td>4024</td>\n",
       "      <td>36.0</td>\n",
       "      <td>1</td>\n",
       "      <td>0</td>\n",
       "      <td>F</td>\n",
       "      <td>сотрудник</td>\n",
       "      <td>0</td>\n",
       "      <td>112080</td>\n",
       "      <td>приобретение автомобиля</td>\n",
       "      <td>2 группа</td>\n",
       "    </tr>\n",
       "    <tr>\n",
       "      <th>2</th>\n",
       "      <td>0</td>\n",
       "      <td>5623</td>\n",
       "      <td>33.0</td>\n",
       "      <td>1</td>\n",
       "      <td>0</td>\n",
       "      <td>M</td>\n",
       "      <td>сотрудник</td>\n",
       "      <td>0</td>\n",
       "      <td>145885</td>\n",
       "      <td>покупка жилья</td>\n",
       "      <td>2 группа</td>\n",
       "    </tr>\n",
       "    <tr>\n",
       "      <th>3</th>\n",
       "      <td>3</td>\n",
       "      <td>4124</td>\n",
       "      <td>32.0</td>\n",
       "      <td>1</td>\n",
       "      <td>0</td>\n",
       "      <td>M</td>\n",
       "      <td>сотрудник</td>\n",
       "      <td>0</td>\n",
       "      <td>267628</td>\n",
       "      <td>дополнительное образование</td>\n",
       "      <td>2 группа</td>\n",
       "    </tr>\n",
       "    <tr>\n",
       "      <th>4</th>\n",
       "      <td>0</td>\n",
       "      <td>340266</td>\n",
       "      <td>53.0</td>\n",
       "      <td>1</td>\n",
       "      <td>1</td>\n",
       "      <td>F</td>\n",
       "      <td>пенсионер</td>\n",
       "      <td>0</td>\n",
       "      <td>158616</td>\n",
       "      <td>сыграть свадьбу</td>\n",
       "      <td>3 группа</td>\n",
       "    </tr>\n",
       "  </tbody>\n",
       "</table>\n",
       "</div>"
      ],
      "text/plain": [
       "   children  days_employed  dob_years  education_id  family_status_id gender  \\\n",
       "0         1           8437       42.0             0                 0      F   \n",
       "1         1           4024       36.0             1                 0      F   \n",
       "2         0           5623       33.0             1                 0      M   \n",
       "3         3           4124       32.0             1                 0      M   \n",
       "4         0         340266       53.0             1                 1      F   \n",
       "\n",
       "  income_type  debt  total_income                     purpose age_group  \n",
       "0   сотрудник     0        253875               покупка жилья  3 группа  \n",
       "1   сотрудник     0        112080     приобретение автомобиля  2 группа  \n",
       "2   сотрудник     0        145885               покупка жилья  2 группа  \n",
       "3   сотрудник     0        267628  дополнительное образование  2 группа  \n",
       "4   пенсионер     0        158616             сыграть свадьбу  3 группа  "
      ]
     },
     "metadata": {},
     "output_type": "display_data"
    }
   ],
   "source": [
    "# Удалим из датафрейма data колонки 'education' и 'family_status' методом drop().\n",
    "data = data.drop('education', 1)\n",
    "data = data.drop('family_status', 1)\n",
    "display(data.head()) # выведем на экран обновлённый датафрейм"
   ]
  },
  {
   "cell_type": "markdown",
   "id": "5849490b",
   "metadata": {},
   "source": [
    "### Шаг 2.6. Категоризация дохода.<a id='step_2_6'></a>"
   ]
  },
  {
   "cell_type": "markdown",
   "id": "992bd3a3",
   "metadata": {},
   "source": [
    "Создадим функцию, которая на основании данных из колонки total_income будет присваивать клиентам категорию их дохода и записывать в новой колонке total_income_category.  \n",
    "Категории доходов будут присавиваться на основании диапазонов, указанных ниже:  \n",
    "* 0–30000 — 'E';  \n",
    "* 30001–50000 — 'D';  \n",
    "* 50001–200000 — 'C';  \n",
    "* 200001–1000000 — 'B';  \n",
    "* 1000001 и выше — 'A'.  "
   ]
  },
  {
   "cell_type": "code",
   "execution_count": 19,
   "id": "fc70f3ab",
   "metadata": {},
   "outputs": [
    {
     "data": {
      "text/html": [
       "<div>\n",
       "<style scoped>\n",
       "    .dataframe tbody tr th:only-of-type {\n",
       "        vertical-align: middle;\n",
       "    }\n",
       "\n",
       "    .dataframe tbody tr th {\n",
       "        vertical-align: top;\n",
       "    }\n",
       "\n",
       "    .dataframe thead th {\n",
       "        text-align: right;\n",
       "    }\n",
       "</style>\n",
       "<table border=\"1\" class=\"dataframe\">\n",
       "  <thead>\n",
       "    <tr style=\"text-align: right;\">\n",
       "      <th></th>\n",
       "      <th>children</th>\n",
       "      <th>days_employed</th>\n",
       "      <th>dob_years</th>\n",
       "      <th>education_id</th>\n",
       "      <th>family_status_id</th>\n",
       "      <th>gender</th>\n",
       "      <th>income_type</th>\n",
       "      <th>debt</th>\n",
       "      <th>total_income</th>\n",
       "      <th>purpose</th>\n",
       "      <th>age_group</th>\n",
       "      <th>total_income_category</th>\n",
       "    </tr>\n",
       "  </thead>\n",
       "  <tbody>\n",
       "    <tr>\n",
       "      <th>0</th>\n",
       "      <td>1</td>\n",
       "      <td>8437</td>\n",
       "      <td>42.0</td>\n",
       "      <td>0</td>\n",
       "      <td>0</td>\n",
       "      <td>F</td>\n",
       "      <td>сотрудник</td>\n",
       "      <td>0</td>\n",
       "      <td>253875</td>\n",
       "      <td>покупка жилья</td>\n",
       "      <td>3 группа</td>\n",
       "      <td>B</td>\n",
       "    </tr>\n",
       "    <tr>\n",
       "      <th>1</th>\n",
       "      <td>1</td>\n",
       "      <td>4024</td>\n",
       "      <td>36.0</td>\n",
       "      <td>1</td>\n",
       "      <td>0</td>\n",
       "      <td>F</td>\n",
       "      <td>сотрудник</td>\n",
       "      <td>0</td>\n",
       "      <td>112080</td>\n",
       "      <td>приобретение автомобиля</td>\n",
       "      <td>2 группа</td>\n",
       "      <td>C</td>\n",
       "    </tr>\n",
       "    <tr>\n",
       "      <th>2</th>\n",
       "      <td>0</td>\n",
       "      <td>5623</td>\n",
       "      <td>33.0</td>\n",
       "      <td>1</td>\n",
       "      <td>0</td>\n",
       "      <td>M</td>\n",
       "      <td>сотрудник</td>\n",
       "      <td>0</td>\n",
       "      <td>145885</td>\n",
       "      <td>покупка жилья</td>\n",
       "      <td>2 группа</td>\n",
       "      <td>C</td>\n",
       "    </tr>\n",
       "    <tr>\n",
       "      <th>3</th>\n",
       "      <td>3</td>\n",
       "      <td>4124</td>\n",
       "      <td>32.0</td>\n",
       "      <td>1</td>\n",
       "      <td>0</td>\n",
       "      <td>M</td>\n",
       "      <td>сотрудник</td>\n",
       "      <td>0</td>\n",
       "      <td>267628</td>\n",
       "      <td>дополнительное образование</td>\n",
       "      <td>2 группа</td>\n",
       "      <td>B</td>\n",
       "    </tr>\n",
       "    <tr>\n",
       "      <th>4</th>\n",
       "      <td>0</td>\n",
       "      <td>340266</td>\n",
       "      <td>53.0</td>\n",
       "      <td>1</td>\n",
       "      <td>1</td>\n",
       "      <td>F</td>\n",
       "      <td>пенсионер</td>\n",
       "      <td>0</td>\n",
       "      <td>158616</td>\n",
       "      <td>сыграть свадьбу</td>\n",
       "      <td>3 группа</td>\n",
       "      <td>C</td>\n",
       "    </tr>\n",
       "    <tr>\n",
       "      <th>5</th>\n",
       "      <td>0</td>\n",
       "      <td>926</td>\n",
       "      <td>27.0</td>\n",
       "      <td>0</td>\n",
       "      <td>1</td>\n",
       "      <td>M</td>\n",
       "      <td>компаньон</td>\n",
       "      <td>0</td>\n",
       "      <td>255763</td>\n",
       "      <td>покупка жилья</td>\n",
       "      <td>1 группа</td>\n",
       "      <td>B</td>\n",
       "    </tr>\n",
       "    <tr>\n",
       "      <th>6</th>\n",
       "      <td>0</td>\n",
       "      <td>2879</td>\n",
       "      <td>43.0</td>\n",
       "      <td>0</td>\n",
       "      <td>0</td>\n",
       "      <td>F</td>\n",
       "      <td>компаньон</td>\n",
       "      <td>0</td>\n",
       "      <td>240525</td>\n",
       "      <td>операции с жильем</td>\n",
       "      <td>3 группа</td>\n",
       "      <td>B</td>\n",
       "    </tr>\n",
       "    <tr>\n",
       "      <th>7</th>\n",
       "      <td>0</td>\n",
       "      <td>152</td>\n",
       "      <td>50.0</td>\n",
       "      <td>1</td>\n",
       "      <td>0</td>\n",
       "      <td>M</td>\n",
       "      <td>сотрудник</td>\n",
       "      <td>0</td>\n",
       "      <td>135823</td>\n",
       "      <td>образование</td>\n",
       "      <td>3 группа</td>\n",
       "      <td>C</td>\n",
       "    </tr>\n",
       "    <tr>\n",
       "      <th>8</th>\n",
       "      <td>2</td>\n",
       "      <td>6929</td>\n",
       "      <td>35.0</td>\n",
       "      <td>0</td>\n",
       "      <td>1</td>\n",
       "      <td>F</td>\n",
       "      <td>сотрудник</td>\n",
       "      <td>0</td>\n",
       "      <td>95856</td>\n",
       "      <td>на проведение свадьбы</td>\n",
       "      <td>2 группа</td>\n",
       "      <td>C</td>\n",
       "    </tr>\n",
       "    <tr>\n",
       "      <th>9</th>\n",
       "      <td>0</td>\n",
       "      <td>2188</td>\n",
       "      <td>41.0</td>\n",
       "      <td>1</td>\n",
       "      <td>0</td>\n",
       "      <td>M</td>\n",
       "      <td>сотрудник</td>\n",
       "      <td>0</td>\n",
       "      <td>144425</td>\n",
       "      <td>покупка жилья для семьи</td>\n",
       "      <td>3 группа</td>\n",
       "      <td>C</td>\n",
       "    </tr>\n",
       "  </tbody>\n",
       "</table>\n",
       "</div>"
      ],
      "text/plain": [
       "   children  days_employed  dob_years  education_id  family_status_id gender  \\\n",
       "0         1           8437       42.0             0                 0      F   \n",
       "1         1           4024       36.0             1                 0      F   \n",
       "2         0           5623       33.0             1                 0      M   \n",
       "3         3           4124       32.0             1                 0      M   \n",
       "4         0         340266       53.0             1                 1      F   \n",
       "5         0            926       27.0             0                 1      M   \n",
       "6         0           2879       43.0             0                 0      F   \n",
       "7         0            152       50.0             1                 0      M   \n",
       "8         2           6929       35.0             0                 1      F   \n",
       "9         0           2188       41.0             1                 0      M   \n",
       "\n",
       "  income_type  debt  total_income                     purpose age_group  \\\n",
       "0   сотрудник     0        253875               покупка жилья  3 группа   \n",
       "1   сотрудник     0        112080     приобретение автомобиля  2 группа   \n",
       "2   сотрудник     0        145885               покупка жилья  2 группа   \n",
       "3   сотрудник     0        267628  дополнительное образование  2 группа   \n",
       "4   пенсионер     0        158616             сыграть свадьбу  3 группа   \n",
       "5   компаньон     0        255763               покупка жилья  1 группа   \n",
       "6   компаньон     0        240525           операции с жильем  3 группа   \n",
       "7   сотрудник     0        135823                 образование  3 группа   \n",
       "8   сотрудник     0         95856       на проведение свадьбы  2 группа   \n",
       "9   сотрудник     0        144425     покупка жилья для семьи  3 группа   \n",
       "\n",
       "  total_income_category  \n",
       "0                     B  \n",
       "1                     C  \n",
       "2                     C  \n",
       "3                     B  \n",
       "4                     C  \n",
       "5                     B  \n",
       "6                     B  \n",
       "7                     C  \n",
       "8                     C  \n",
       "9                     C  "
      ]
     },
     "metadata": {},
     "output_type": "display_data"
    }
   ],
   "source": [
    "def total_income_category(total_income): # создаём функцию\n",
    "    try:\n",
    "        if total_income <= 30000: # проверим доход на соответсвие критерию категории Е, и далее каждой из категорий\n",
    "            return 'E'\n",
    "    \n",
    "        if total_income >= 30001 and total_income <= 50000:\n",
    "            return 'D'\n",
    "    \n",
    "        if total_income >= 50001 and total_income <= 200000:\n",
    "            return 'C'\n",
    "    \n",
    "        if total_income >= 200001 and total_income <= 1000000:\n",
    "            return 'B'\n",
    "    \n",
    "        if total_income >= 1000001:\n",
    "            return 'A'\n",
    "    except:\n",
    "        print('Не получилось присвоить категорию')\n",
    "# Создаём колонку total_income_category с категориями дохода, и в её ячейках записиваем значения, возвращаемые функцией\n",
    "data['total_income_category'] = data['total_income'].apply(total_income_category)\n",
    "display(data.head(10)) "
   ]
  },
  {
   "cell_type": "markdown",
   "id": "be0c7a94",
   "metadata": {},
   "source": [
    "### Шаг 2.7. Категоризация целей кредита.<a id='step_2_7'></a>"
   ]
  },
  {
   "cell_type": "markdown",
   "id": "56b0908c",
   "metadata": {},
   "source": [
    "Создадим функцию, которая на основании данных из столбца purpose сформирует новый столбец purpose_category, в который войдут следующие категории:\n",
    "'операции с автомобилем',\n",
    "'операции с недвижимостью',\n",
    "'проведение свадьбы',\n",
    "'получение образования'."
   ]
  },
  {
   "cell_type": "code",
   "execution_count": 20,
   "id": "1b784d0a",
   "metadata": {},
   "outputs": [
    {
     "data": {
      "text/html": [
       "<div>\n",
       "<style scoped>\n",
       "    .dataframe tbody tr th:only-of-type {\n",
       "        vertical-align: middle;\n",
       "    }\n",
       "\n",
       "    .dataframe tbody tr th {\n",
       "        vertical-align: top;\n",
       "    }\n",
       "\n",
       "    .dataframe thead th {\n",
       "        text-align: right;\n",
       "    }\n",
       "</style>\n",
       "<table border=\"1\" class=\"dataframe\">\n",
       "  <thead>\n",
       "    <tr style=\"text-align: right;\">\n",
       "      <th></th>\n",
       "      <th>children</th>\n",
       "      <th>days_employed</th>\n",
       "      <th>dob_years</th>\n",
       "      <th>education_id</th>\n",
       "      <th>family_status_id</th>\n",
       "      <th>gender</th>\n",
       "      <th>income_type</th>\n",
       "      <th>debt</th>\n",
       "      <th>total_income</th>\n",
       "      <th>purpose</th>\n",
       "      <th>age_group</th>\n",
       "      <th>total_income_category</th>\n",
       "      <th>purpose_category</th>\n",
       "    </tr>\n",
       "  </thead>\n",
       "  <tbody>\n",
       "    <tr>\n",
       "      <th>0</th>\n",
       "      <td>1</td>\n",
       "      <td>8437</td>\n",
       "      <td>42.0</td>\n",
       "      <td>0</td>\n",
       "      <td>0</td>\n",
       "      <td>F</td>\n",
       "      <td>сотрудник</td>\n",
       "      <td>0</td>\n",
       "      <td>253875</td>\n",
       "      <td>покупка жилья</td>\n",
       "      <td>3 группа</td>\n",
       "      <td>B</td>\n",
       "      <td>операции с недвижимостью</td>\n",
       "    </tr>\n",
       "    <tr>\n",
       "      <th>1</th>\n",
       "      <td>1</td>\n",
       "      <td>4024</td>\n",
       "      <td>36.0</td>\n",
       "      <td>1</td>\n",
       "      <td>0</td>\n",
       "      <td>F</td>\n",
       "      <td>сотрудник</td>\n",
       "      <td>0</td>\n",
       "      <td>112080</td>\n",
       "      <td>приобретение автомобиля</td>\n",
       "      <td>2 группа</td>\n",
       "      <td>C</td>\n",
       "      <td>операции с автомобилем</td>\n",
       "    </tr>\n",
       "    <tr>\n",
       "      <th>2</th>\n",
       "      <td>0</td>\n",
       "      <td>5623</td>\n",
       "      <td>33.0</td>\n",
       "      <td>1</td>\n",
       "      <td>0</td>\n",
       "      <td>M</td>\n",
       "      <td>сотрудник</td>\n",
       "      <td>0</td>\n",
       "      <td>145885</td>\n",
       "      <td>покупка жилья</td>\n",
       "      <td>2 группа</td>\n",
       "      <td>C</td>\n",
       "      <td>операции с недвижимостью</td>\n",
       "    </tr>\n",
       "    <tr>\n",
       "      <th>3</th>\n",
       "      <td>3</td>\n",
       "      <td>4124</td>\n",
       "      <td>32.0</td>\n",
       "      <td>1</td>\n",
       "      <td>0</td>\n",
       "      <td>M</td>\n",
       "      <td>сотрудник</td>\n",
       "      <td>0</td>\n",
       "      <td>267628</td>\n",
       "      <td>дополнительное образование</td>\n",
       "      <td>2 группа</td>\n",
       "      <td>B</td>\n",
       "      <td>получение образования</td>\n",
       "    </tr>\n",
       "    <tr>\n",
       "      <th>4</th>\n",
       "      <td>0</td>\n",
       "      <td>340266</td>\n",
       "      <td>53.0</td>\n",
       "      <td>1</td>\n",
       "      <td>1</td>\n",
       "      <td>F</td>\n",
       "      <td>пенсионер</td>\n",
       "      <td>0</td>\n",
       "      <td>158616</td>\n",
       "      <td>сыграть свадьбу</td>\n",
       "      <td>3 группа</td>\n",
       "      <td>C</td>\n",
       "      <td>проведение свадьбы</td>\n",
       "    </tr>\n",
       "    <tr>\n",
       "      <th>...</th>\n",
       "      <td>...</td>\n",
       "      <td>...</td>\n",
       "      <td>...</td>\n",
       "      <td>...</td>\n",
       "      <td>...</td>\n",
       "      <td>...</td>\n",
       "      <td>...</td>\n",
       "      <td>...</td>\n",
       "      <td>...</td>\n",
       "      <td>...</td>\n",
       "      <td>...</td>\n",
       "      <td>...</td>\n",
       "      <td>...</td>\n",
       "    </tr>\n",
       "    <tr>\n",
       "      <th>95</th>\n",
       "      <td>0</td>\n",
       "      <td>541</td>\n",
       "      <td>51.0</td>\n",
       "      <td>0</td>\n",
       "      <td>0</td>\n",
       "      <td>F</td>\n",
       "      <td>сотрудник</td>\n",
       "      <td>0</td>\n",
       "      <td>94187</td>\n",
       "      <td>автомобиль</td>\n",
       "      <td>3 группа</td>\n",
       "      <td>C</td>\n",
       "      <td>операции с автомобилем</td>\n",
       "    </tr>\n",
       "    <tr>\n",
       "      <th>96</th>\n",
       "      <td>0</td>\n",
       "      <td>34261</td>\n",
       "      <td>44.0</td>\n",
       "      <td>1</td>\n",
       "      <td>0</td>\n",
       "      <td>F</td>\n",
       "      <td>сотрудник</td>\n",
       "      <td>0</td>\n",
       "      <td>133546</td>\n",
       "      <td>покупка жилой недвижимости</td>\n",
       "      <td>3 группа</td>\n",
       "      <td>C</td>\n",
       "      <td>операции с недвижимостью</td>\n",
       "    </tr>\n",
       "    <tr>\n",
       "      <th>97</th>\n",
       "      <td>0</td>\n",
       "      <td>34261</td>\n",
       "      <td>47.0</td>\n",
       "      <td>0</td>\n",
       "      <td>0</td>\n",
       "      <td>F</td>\n",
       "      <td>сотрудник</td>\n",
       "      <td>0</td>\n",
       "      <td>133546</td>\n",
       "      <td>профильное образование</td>\n",
       "      <td>3 группа</td>\n",
       "      <td>C</td>\n",
       "      <td>получение образования</td>\n",
       "    </tr>\n",
       "    <tr>\n",
       "      <th>98</th>\n",
       "      <td>0</td>\n",
       "      <td>364906</td>\n",
       "      <td>54.0</td>\n",
       "      <td>0</td>\n",
       "      <td>0</td>\n",
       "      <td>F</td>\n",
       "      <td>пенсионер</td>\n",
       "      <td>0</td>\n",
       "      <td>199707</td>\n",
       "      <td>покупка жилья для сдачи</td>\n",
       "      <td>3 группа</td>\n",
       "      <td>C</td>\n",
       "      <td>операции с недвижимостью</td>\n",
       "    </tr>\n",
       "    <tr>\n",
       "      <th>99</th>\n",
       "      <td>0</td>\n",
       "      <td>346541</td>\n",
       "      <td>60.0</td>\n",
       "      <td>1</td>\n",
       "      <td>0</td>\n",
       "      <td>F</td>\n",
       "      <td>пенсионер</td>\n",
       "      <td>0</td>\n",
       "      <td>71291</td>\n",
       "      <td>автомобиль</td>\n",
       "      <td>1 группа</td>\n",
       "      <td>C</td>\n",
       "      <td>операции с автомобилем</td>\n",
       "    </tr>\n",
       "  </tbody>\n",
       "</table>\n",
       "<p>100 rows × 13 columns</p>\n",
       "</div>"
      ],
      "text/plain": [
       "    children  days_employed  dob_years  education_id  family_status_id gender  \\\n",
       "0          1           8437       42.0             0                 0      F   \n",
       "1          1           4024       36.0             1                 0      F   \n",
       "2          0           5623       33.0             1                 0      M   \n",
       "3          3           4124       32.0             1                 0      M   \n",
       "4          0         340266       53.0             1                 1      F   \n",
       "..       ...            ...        ...           ...               ...    ...   \n",
       "95         0            541       51.0             0                 0      F   \n",
       "96         0          34261       44.0             1                 0      F   \n",
       "97         0          34261       47.0             0                 0      F   \n",
       "98         0         364906       54.0             0                 0      F   \n",
       "99         0         346541       60.0             1                 0      F   \n",
       "\n",
       "   income_type  debt  total_income                     purpose age_group  \\\n",
       "0    сотрудник     0        253875               покупка жилья  3 группа   \n",
       "1    сотрудник     0        112080     приобретение автомобиля  2 группа   \n",
       "2    сотрудник     0        145885               покупка жилья  2 группа   \n",
       "3    сотрудник     0        267628  дополнительное образование  2 группа   \n",
       "4    пенсионер     0        158616             сыграть свадьбу  3 группа   \n",
       "..         ...   ...           ...                         ...       ...   \n",
       "95   сотрудник     0         94187                  автомобиль  3 группа   \n",
       "96   сотрудник     0        133546  покупка жилой недвижимости  3 группа   \n",
       "97   сотрудник     0        133546      профильное образование  3 группа   \n",
       "98   пенсионер     0        199707     покупка жилья для сдачи  3 группа   \n",
       "99   пенсионер     0         71291                  автомобиль  1 группа   \n",
       "\n",
       "   total_income_category          purpose_category  \n",
       "0                      B  операции с недвижимостью  \n",
       "1                      C    операции с автомобилем  \n",
       "2                      C  операции с недвижимостью  \n",
       "3                      B     получение образования  \n",
       "4                      C        проведение свадьбы  \n",
       "..                   ...                       ...  \n",
       "95                     C    операции с автомобилем  \n",
       "96                     C  операции с недвижимостью  \n",
       "97                     C     получение образования  \n",
       "98                     C  операции с недвижимостью  \n",
       "99                     C    операции с автомобилем  \n",
       "\n",
       "[100 rows x 13 columns]"
      ]
     },
     "metadata": {},
     "output_type": "display_data"
    }
   ],
   "source": [
    "def purpose_category(purpose): #создаём функцию, которая будет проверять есть ли в строках те или иные леммы,\n",
    "    # и соответственно им присваивал цель кредита\n",
    "    try:\n",
    "        if 'автомоб' in purpose:\n",
    "            return 'операции с автомобилем'\n",
    "    \n",
    "        if 'жиль' in purpose:\n",
    "            return 'операции с недвижимостью'\n",
    "    \n",
    "        if 'недвиж' in purpose:\n",
    "            return 'операции с недвижимостью'\n",
    "    \n",
    "        if 'свадь' in purpose:\n",
    "            return 'проведение свадьбы'\n",
    "    \n",
    "        if 'образов' in purpose:\n",
    "            return 'получение образования'\n",
    "    except:\n",
    "        print('Не получилось присвоить категорию')\n",
    "# Создаём колонку purpose_categoryс категориями дохода, и в её ячейках записиваем значения, возвращаемые функцией\n",
    "data['purpose_category'] = data['purpose'].apply(purpose_category)\n",
    "display(data.head(100)) "
   ]
  },
  {
   "cell_type": "markdown",
   "id": "ba0056c2",
   "metadata": {},
   "source": [
    "### Ответы на вопросы.<a id='answers'></a>"
   ]
  },
  {
   "cell_type": "markdown",
   "id": "f552c2d8",
   "metadata": {},
   "source": [
    "***Данные очищенны и их можно сгрупировать их для того чтобы ответить на поставленые в задании вопросы:***  \n",
    "1. Есть ли зависимость между количеством детей и возвратом кредита в срок?\n",
    "1. Есть ли зависимость между семейным положением и возвратом кредита в срок?\n",
    "1. Есть ли зависимость между уровнем дохода и возвратом кредита в срок?\n",
    "1. Как разные цели кредита влияют на его возврат в срок?  \n",
    "\n",
    "А для начала, посчитаем долю кредитов, платежи по которым были просрочены в целом по всему датафрейму;  "
   ]
  },
  {
   "cell_type": "code",
   "execution_count": 21,
   "id": "f54f5a92",
   "metadata": {},
   "outputs": [
    {
     "name": "stdout",
     "output_type": "stream",
     "text": [
      "В целом, кредиты не выплачивается во время в 8.8% случаев\n"
     ]
    }
   ],
   "source": [
    "# Посчитаем долю кредитов, платежи по которым были просрочены в целом по всем наюлюдениям\n",
    "late_payment = data[(data['debt'] == 1)].count() / data[(data['debt'] == 0)].count()# 1 - просрочка есть, 0 - просрочник нет\n",
    "#late_payment['debt'] # закомментировал строку чтобы её вывод не мешал дальнешим шагам\n",
    "print('В целом, кредиты не выплачивается во время в {:.1%} случаев'.format(late_payment['debt']))"
   ]
  },
  {
   "cell_type": "markdown",
   "id": "7c02758b",
   "metadata": {},
   "source": [
    "##### Вопрос 1: Есть ли зависимость между наличием детей и возвратом кредита в срок?"
   ]
  },
  {
   "cell_type": "code",
   "execution_count": 22,
   "id": "693c1370",
   "metadata": {},
   "outputs": [
    {
     "data": {
      "text/html": [
       "<div>\n",
       "<style scoped>\n",
       "    .dataframe tbody tr th:only-of-type {\n",
       "        vertical-align: middle;\n",
       "    }\n",
       "\n",
       "    .dataframe tbody tr th {\n",
       "        vertical-align: top;\n",
       "    }\n",
       "\n",
       "    .dataframe thead th {\n",
       "        text-align: right;\n",
       "    }\n",
       "</style>\n",
       "<table border=\"1\" class=\"dataframe\">\n",
       "  <thead>\n",
       "    <tr style=\"text-align: right;\">\n",
       "      <th>debt</th>\n",
       "      <th>0</th>\n",
       "      <th>1</th>\n",
       "      <th>late_payment_percent</th>\n",
       "    </tr>\n",
       "    <tr>\n",
       "      <th>children</th>\n",
       "      <th></th>\n",
       "      <th></th>\n",
       "      <th></th>\n",
       "    </tr>\n",
       "  </thead>\n",
       "  <tbody>\n",
       "    <tr>\n",
       "      <th>0</th>\n",
       "      <td>13027.0</td>\n",
       "      <td>1063.0</td>\n",
       "      <td>7.544358</td>\n",
       "    </tr>\n",
       "    <tr>\n",
       "      <th>1</th>\n",
       "      <td>4410.0</td>\n",
       "      <td>445.0</td>\n",
       "      <td>9.165808</td>\n",
       "    </tr>\n",
       "    <tr>\n",
       "      <th>2</th>\n",
       "      <td>1926.0</td>\n",
       "      <td>202.0</td>\n",
       "      <td>9.492481</td>\n",
       "    </tr>\n",
       "    <tr>\n",
       "      <th>3</th>\n",
       "      <td>303.0</td>\n",
       "      <td>27.0</td>\n",
       "      <td>8.181818</td>\n",
       "    </tr>\n",
       "    <tr>\n",
       "      <th>4</th>\n",
       "      <td>37.0</td>\n",
       "      <td>4.0</td>\n",
       "      <td>9.756098</td>\n",
       "    </tr>\n",
       "    <tr>\n",
       "      <th>5</th>\n",
       "      <td>9.0</td>\n",
       "      <td>NaN</td>\n",
       "      <td>NaN</td>\n",
       "    </tr>\n",
       "  </tbody>\n",
       "</table>\n",
       "</div>"
      ],
      "text/plain": [
       "debt            0       1  late_payment_percent\n",
       "children                                       \n",
       "0         13027.0  1063.0              7.544358\n",
       "1          4410.0   445.0              9.165808\n",
       "2          1926.0   202.0              9.492481\n",
       "3           303.0    27.0              8.181818\n",
       "4            37.0     4.0              9.756098\n",
       "5             9.0     NaN                   NaN"
      ]
     },
     "metadata": {},
     "output_type": "display_data"
    },
    {
     "data": {
      "text/plain": [
       "array([0], dtype=int64)"
      ]
     },
     "execution_count": 22,
     "metadata": {},
     "output_type": "execute_result"
    }
   ],
   "source": [
    "data_pivot_child = data.pivot_table(index=['children'], columns='debt', values='family_status_id', aggfunc='count')\n",
    "# Создадим в сводной таблице новую колонку late_payment_percent \n",
    "# и сохраните в нём значение отношение просроченных кредитов к обшему числу кредитов - \n",
    "# сумме просроченых и непросроченых, тем самым узнаем долю просрочненых в разрезе числа детей\n",
    "data_pivot_child['late_payment_percent'] = (data_pivot_child[1] / (data_pivot_child[1] + data_pivot_child[0]))*100\n",
    "display(data_pivot_child)\n",
    "# У семей с 5 детьми значение NaN, узнаем почему. \n",
    "# Методом unique() узнаем какие уникальные значения для семей с 5 детьми есть в колонке debt. \n",
    "data.loc[data.loc[:,'children'] == 5]['debt'].unique() # в колонке debt у семей с 5 детьми\n",
    "# только одно уникальное значение 0 - у них нет просрочек."
   ]
  },
  {
   "cell_type": "markdown",
   "id": "ab7af982",
   "metadata": {},
   "source": [
    "**Вывод 1:** Появляние первого и каждого последующего ребёнка увеличивает возможность просрочки платежа по кредиту.   \n",
    "Семьям с 5-ю детьми не допусками просрочек - но, выборка по таким семьям слишком маленькая, всего 9 наблюдений."
   ]
  },
  {
   "cell_type": "markdown",
   "id": "eef8185b",
   "metadata": {},
   "source": [
    "##### Вопрос 2: Есть ли зависимость между семейным положением и возвратом кредита в срок?"
   ]
  },
  {
   "cell_type": "code",
   "execution_count": 23,
   "id": "cb411161",
   "metadata": {},
   "outputs": [
    {
     "data": {
      "text/html": [
       "<div>\n",
       "<style scoped>\n",
       "    .dataframe tbody tr th:only-of-type {\n",
       "        vertical-align: middle;\n",
       "    }\n",
       "\n",
       "    .dataframe tbody tr th {\n",
       "        vertical-align: top;\n",
       "    }\n",
       "\n",
       "    .dataframe thead th {\n",
       "        text-align: right;\n",
       "    }\n",
       "</style>\n",
       "<table border=\"1\" class=\"dataframe\">\n",
       "  <thead>\n",
       "    <tr style=\"text-align: right;\">\n",
       "      <th></th>\n",
       "      <th>family_status_id</th>\n",
       "      <th>0</th>\n",
       "      <th>1</th>\n",
       "      <th>late_payment_percent</th>\n",
       "      <th>family_status</th>\n",
       "    </tr>\n",
       "  </thead>\n",
       "  <tbody>\n",
       "    <tr>\n",
       "      <th>0</th>\n",
       "      <td>0</td>\n",
       "      <td>11408</td>\n",
       "      <td>931</td>\n",
       "      <td>7.545182</td>\n",
       "      <td>женат / замужем</td>\n",
       "    </tr>\n",
       "    <tr>\n",
       "      <th>1</th>\n",
       "      <td>1</td>\n",
       "      <td>3762</td>\n",
       "      <td>388</td>\n",
       "      <td>9.349398</td>\n",
       "      <td>гражданский брак</td>\n",
       "    </tr>\n",
       "    <tr>\n",
       "      <th>2</th>\n",
       "      <td>2</td>\n",
       "      <td>896</td>\n",
       "      <td>63</td>\n",
       "      <td>6.569343</td>\n",
       "      <td>вдовец / вдова</td>\n",
       "    </tr>\n",
       "    <tr>\n",
       "      <th>3</th>\n",
       "      <td>3</td>\n",
       "      <td>1110</td>\n",
       "      <td>85</td>\n",
       "      <td>7.112971</td>\n",
       "      <td>в разводе</td>\n",
       "    </tr>\n",
       "    <tr>\n",
       "      <th>4</th>\n",
       "      <td>4</td>\n",
       "      <td>2536</td>\n",
       "      <td>274</td>\n",
       "      <td>9.750890</td>\n",
       "      <td>не женат / не замужем</td>\n",
       "    </tr>\n",
       "  </tbody>\n",
       "</table>\n",
       "</div>"
      ],
      "text/plain": [
       "   family_status_id      0    1  late_payment_percent          family_status\n",
       "0                 0  11408  931              7.545182        женат / замужем\n",
       "1                 1   3762  388              9.349398       гражданский брак\n",
       "2                 2    896   63              6.569343         вдовец / вдова\n",
       "3                 3   1110   85              7.112971              в разводе\n",
       "4                 4   2536  274              9.750890  не женат / не замужем"
      ]
     },
     "metadata": {},
     "output_type": "display_data"
    }
   ],
   "source": [
    "data_pivot_family_status = data.pivot_table(index=['family_status_id'], columns='debt', values ='children', aggfunc='count')\n",
    "# Создадим в сводной таблице новую колонку late_payment_percent \n",
    "# и сохраните в нём значение отношение просроченных кредитов к обшему числу кредитов - \n",
    "# сумме просроченых и непросроченых, тем самым узнаем долю просрочненых в разрезе семейного положения\n",
    "data_pivot_family_status['late_payment_percent'] = (data_pivot_family_status[1] / (data_pivot_family_status[1] + data_pivot_family_status[0]))*100\n",
    "# и методом merge() подтянем в сводную таблицу расшифровку семейных статусов\n",
    "data_pivot_family_status = data_pivot_family_status.merge(family_status, on='family_status_id', how='left')\n",
    "display(data_pivot_family_status)"
   ]
  },
  {
   "cell_type": "markdown",
   "id": "e11b61ff",
   "metadata": {},
   "source": [
    "**Вывод 2:** Не женатые/ не замужние или люди в гражданском браке реже выплачивают кредит в срок."
   ]
  },
  {
   "cell_type": "markdown",
   "id": "327afab3",
   "metadata": {},
   "source": [
    "##### Вопрос 3: Есть ли зависимость между уровнем дохода и возвратом кредита в срок?"
   ]
  },
  {
   "cell_type": "code",
   "execution_count": 24,
   "id": "2ea24820",
   "metadata": {},
   "outputs": [
    {
     "data": {
      "text/html": [
       "<div>\n",
       "<style scoped>\n",
       "    .dataframe tbody tr th:only-of-type {\n",
       "        vertical-align: middle;\n",
       "    }\n",
       "\n",
       "    .dataframe tbody tr th {\n",
       "        vertical-align: top;\n",
       "    }\n",
       "\n",
       "    .dataframe thead th {\n",
       "        text-align: right;\n",
       "    }\n",
       "</style>\n",
       "<table border=\"1\" class=\"dataframe\">\n",
       "  <thead>\n",
       "    <tr style=\"text-align: right;\">\n",
       "      <th>debt</th>\n",
       "      <th>0</th>\n",
       "      <th>1</th>\n",
       "      <th>late_payment_percent</th>\n",
       "    </tr>\n",
       "    <tr>\n",
       "      <th>total_income_category</th>\n",
       "      <th></th>\n",
       "      <th></th>\n",
       "      <th></th>\n",
       "    </tr>\n",
       "  </thead>\n",
       "  <tbody>\n",
       "    <tr>\n",
       "      <th>A</th>\n",
       "      <td>23</td>\n",
       "      <td>2</td>\n",
       "      <td>8.000000</td>\n",
       "    </tr>\n",
       "    <tr>\n",
       "      <th>B</th>\n",
       "      <td>4685</td>\n",
       "      <td>356</td>\n",
       "      <td>7.062091</td>\n",
       "    </tr>\n",
       "    <tr>\n",
       "      <th>C</th>\n",
       "      <td>14655</td>\n",
       "      <td>1360</td>\n",
       "      <td>8.492039</td>\n",
       "    </tr>\n",
       "    <tr>\n",
       "      <th>D</th>\n",
       "      <td>329</td>\n",
       "      <td>21</td>\n",
       "      <td>6.000000</td>\n",
       "    </tr>\n",
       "    <tr>\n",
       "      <th>E</th>\n",
       "      <td>20</td>\n",
       "      <td>2</td>\n",
       "      <td>9.090909</td>\n",
       "    </tr>\n",
       "  </tbody>\n",
       "</table>\n",
       "</div>"
      ],
      "text/plain": [
       "debt                       0     1  late_payment_percent\n",
       "total_income_category                                   \n",
       "A                         23     2              8.000000\n",
       "B                       4685   356              7.062091\n",
       "C                      14655  1360              8.492039\n",
       "D                        329    21              6.000000\n",
       "E                         20     2              9.090909"
      ]
     },
     "metadata": {},
     "output_type": "display_data"
    }
   ],
   "source": [
    "data_pivot_income_category = data.pivot_table(index=['total_income_category'], columns='debt', values ='family_status_id', aggfunc='count')\n",
    "# Создадим в сводной таблице новую колонку late_payment_percent \n",
    "# и сохраните в нём значение отношение просроченных кредитов к обшему числу кредитов - \n",
    "# сумме просроченых и непросроченых, тем самым узнаем долю просрочненых в разрезе категорий дохода\n",
    "data_pivot_income_category['late_payment_percent'] = (data_pivot_income_category[1] #код длинный перенесём на новую строку\n",
    "                                                      / (data_pivot_income_category[1] + data_pivot_income_category[0]))*100\n",
    "display(data_pivot_income_category)"
   ]
  },
  {
   "cell_type": "markdown",
   "id": "d4331a59",
   "metadata": {},
   "source": [
    "**Вывод 3:** Чаще всего кредиты вовремя не выплачивают заёмщики с низким доходом - категория Е (чаще чем в среднем по всем заёмщикам в целом), но выборка по этим заёмщикам небольшая, и заёмщики со средном доходом - это самая массовая категория заёмщиков."
   ]
  },
  {
   "cell_type": "markdown",
   "id": "d2d4634a",
   "metadata": {},
   "source": [
    "##### Вопрос 4: Как разные цели кредита влияют на его возврат в срок?"
   ]
  },
  {
   "cell_type": "code",
   "execution_count": 25,
   "id": "d91a62ef",
   "metadata": {},
   "outputs": [
    {
     "data": {
      "text/html": [
       "<div>\n",
       "<style scoped>\n",
       "    .dataframe tbody tr th:only-of-type {\n",
       "        vertical-align: middle;\n",
       "    }\n",
       "\n",
       "    .dataframe tbody tr th {\n",
       "        vertical-align: top;\n",
       "    }\n",
       "\n",
       "    .dataframe thead th {\n",
       "        text-align: right;\n",
       "    }\n",
       "</style>\n",
       "<table border=\"1\" class=\"dataframe\">\n",
       "  <thead>\n",
       "    <tr style=\"text-align: right;\">\n",
       "      <th>debt</th>\n",
       "      <th>0</th>\n",
       "      <th>1</th>\n",
       "      <th>late_payment_percent</th>\n",
       "    </tr>\n",
       "    <tr>\n",
       "      <th>purpose_category</th>\n",
       "      <th></th>\n",
       "      <th></th>\n",
       "      <th></th>\n",
       "    </tr>\n",
       "  </thead>\n",
       "  <tbody>\n",
       "    <tr>\n",
       "      <th>операции с автомобилем</th>\n",
       "      <td>3903</td>\n",
       "      <td>403</td>\n",
       "      <td>9.359034</td>\n",
       "    </tr>\n",
       "    <tr>\n",
       "      <th>операции с недвижимостью</th>\n",
       "      <td>10028</td>\n",
       "      <td>782</td>\n",
       "      <td>7.234043</td>\n",
       "    </tr>\n",
       "    <tr>\n",
       "      <th>получение образования</th>\n",
       "      <td>3643</td>\n",
       "      <td>370</td>\n",
       "      <td>9.220035</td>\n",
       "    </tr>\n",
       "    <tr>\n",
       "      <th>проведение свадьбы</th>\n",
       "      <td>2138</td>\n",
       "      <td>186</td>\n",
       "      <td>8.003442</td>\n",
       "    </tr>\n",
       "  </tbody>\n",
       "</table>\n",
       "</div>"
      ],
      "text/plain": [
       "debt                          0    1  late_payment_percent\n",
       "purpose_category                                          \n",
       "операции с автомобилем     3903  403              9.359034\n",
       "операции с недвижимостью  10028  782              7.234043\n",
       "получение образования      3643  370              9.220035\n",
       "проведение свадьбы         2138  186              8.003442"
      ]
     },
     "metadata": {},
     "output_type": "display_data"
    }
   ],
   "source": [
    "data_pivot_purpose_category = data.pivot_table(index=['purpose_category'], columns='debt', values='family_status_id', aggfunc='count')\n",
    "# Создадим в сводной таблице новую колонку late_payment_percent \n",
    "# и сохраните в нём значение отношение просроченных кредитов к обшему числу кредитов - \n",
    "# сумме просроченых и непросроченых, тем самым узнаем долю просрочненых в разрезе целей кредитов\n",
    "data_pivot_purpose_category['late_payment_percent'] = (data_pivot_purpose_category[1] #код длинный перенесём на новую строку\n",
    "                                                       / (data_pivot_purpose_category[1] + data_pivot_purpose_category[0]))*100\n",
    "display(data_pivot_purpose_category)"
   ]
  },
  {
   "cell_type": "markdown",
   "id": "be0ebdd8",
   "metadata": {},
   "source": [
    "**Вывод 4:** Заёмщики чаще выплачивают кредиты, взятые на операции недвижимостью или на свадьбу. \n"
   ]
  },
  {
   "cell_type": "markdown",
   "id": "a6eb091b",
   "metadata": {},
   "source": [
    "## Общий вывод:<a id='end'></a>"
   ]
  },
  {
   "cell_type": "markdown",
   "id": "b91e4bbb",
   "metadata": {},
   "source": [
    "При работе с данными были заполнены пропущенные значения, устранены аномальные значения, удалены дубликаты. С помощью функций были привоены категории дохода заёмщиков и целей получения кредита. Применив сводные таблицы произведена оценка того, какие критерии влияют на возврат кредита.  \n",
    "* Появляние первого и каждого последующего ребёнка увеличивает возможность просрочки платежа по кредиту.  \n",
    "* Не женатые/ не замужние или люди в гражданском браке реже выплачивают кредит в срок.   \n",
    "* Чаще всего кредиты вовремя не выплачивают заёмщики с низким доходом (чаще чем в среднем по всем заёмщикам в целом), и заёмщики со средном доходом - но, это самая массовая категория заёмщиков.   \n",
    "* Заёмщики чаще выплачивают кредиты, взятые на операции недвижимостью или на свадьбу.   \n",
    "\n",
    "Дополнительный анализ может помочь более точно предсказать вероятность возврата кредита в срок."
   ]
  }
 ],
 "metadata": {
  "ExecuteTimeLog": [
   {
    "duration": 857,
    "start_time": "2022-03-03T08:12:12.751Z"
   },
   {
    "duration": 94,
    "start_time": "2022-03-03T08:12:28.858Z"
   },
   {
    "duration": 70,
    "start_time": "2022-03-03T08:17:25.645Z"
   },
   {
    "duration": 72,
    "start_time": "2022-03-03T08:17:37.505Z"
   },
   {
    "duration": 99,
    "start_time": "2022-03-03T08:27:05.512Z"
   },
   {
    "duration": 68,
    "start_time": "2022-03-03T08:27:55.509Z"
   },
   {
    "duration": 67,
    "start_time": "2022-03-03T08:31:20.574Z"
   },
   {
    "duration": 825,
    "start_time": "2022-03-03T08:42:20.056Z"
   },
   {
    "duration": 12,
    "start_time": "2022-03-03T08:54:25.539Z"
   },
   {
    "duration": 14,
    "start_time": "2022-03-03T08:55:49.562Z"
   },
   {
    "duration": 97,
    "start_time": "2022-03-03T08:56:55.316Z"
   },
   {
    "duration": 87,
    "start_time": "2022-03-03T08:57:01.291Z"
   },
   {
    "duration": 84,
    "start_time": "2022-03-03T08:57:24.435Z"
   },
   {
    "duration": 7,
    "start_time": "2022-03-03T08:57:34.275Z"
   },
   {
    "duration": 85,
    "start_time": "2022-03-03T08:59:48.146Z"
   },
   {
    "duration": 90,
    "start_time": "2022-03-03T09:00:21.450Z"
   },
   {
    "duration": 73,
    "start_time": "2022-03-03T09:00:38.242Z"
   },
   {
    "duration": 8,
    "start_time": "2022-03-03T09:00:46.058Z"
   },
   {
    "duration": 89,
    "start_time": "2022-03-03T09:01:10.330Z"
   },
   {
    "duration": 104,
    "start_time": "2022-03-03T09:01:35.962Z"
   },
   {
    "duration": 7,
    "start_time": "2022-03-03T09:01:43.808Z"
   },
   {
    "duration": 8,
    "start_time": "2022-03-03T09:02:07.905Z"
   },
   {
    "duration": 10,
    "start_time": "2022-03-03T09:02:44.377Z"
   },
   {
    "duration": 92,
    "start_time": "2022-03-03T09:04:00.233Z"
   },
   {
    "duration": 84,
    "start_time": "2022-03-03T09:04:29.448Z"
   },
   {
    "duration": 9,
    "start_time": "2022-03-03T09:04:42.032Z"
   },
   {
    "duration": 82,
    "start_time": "2022-03-03T09:05:15.824Z"
   },
   {
    "duration": 10,
    "start_time": "2022-03-03T09:05:22.713Z"
   },
   {
    "duration": 74,
    "start_time": "2022-03-03T09:06:14.032Z"
   },
   {
    "duration": 10,
    "start_time": "2022-03-03T09:06:39.224Z"
   },
   {
    "duration": 90,
    "start_time": "2022-03-03T09:07:40.688Z"
   },
   {
    "duration": 94,
    "start_time": "2022-03-03T09:08:11.327Z"
   },
   {
    "duration": 82,
    "start_time": "2022-03-03T09:08:39.375Z"
   },
   {
    "duration": 80,
    "start_time": "2022-03-03T09:08:49.558Z"
   },
   {
    "duration": 11,
    "start_time": "2022-03-03T09:08:55.391Z"
   },
   {
    "duration": 13,
    "start_time": "2022-03-03T09:10:22.694Z"
   },
   {
    "duration": 10,
    "start_time": "2022-03-03T09:11:13.470Z"
   },
   {
    "duration": 85,
    "start_time": "2022-03-03T09:12:23.957Z"
   },
   {
    "duration": 12,
    "start_time": "2022-03-03T09:12:35.861Z"
   },
   {
    "duration": 12,
    "start_time": "2022-03-03T09:13:15.813Z"
   },
   {
    "duration": 83,
    "start_time": "2022-03-03T09:16:29.954Z"
   },
   {
    "duration": 343,
    "start_time": "2022-03-03T09:16:34.419Z"
   },
   {
    "duration": 10,
    "start_time": "2022-03-03T09:17:15.323Z"
   },
   {
    "duration": 10,
    "start_time": "2022-03-03T09:17:22.835Z"
   },
   {
    "duration": 80,
    "start_time": "2022-03-03T09:21:14.799Z"
   },
   {
    "duration": 10,
    "start_time": "2022-03-03T09:21:26.433Z"
   },
   {
    "duration": 12,
    "start_time": "2022-03-03T09:24:26.824Z"
   },
   {
    "duration": 11,
    "start_time": "2022-03-03T09:27:04.245Z"
   },
   {
    "duration": 10,
    "start_time": "2022-03-03T09:27:11.904Z"
   },
   {
    "duration": 91,
    "start_time": "2022-03-03T09:28:16.341Z"
   },
   {
    "duration": 109,
    "start_time": "2022-03-03T09:35:23.899Z"
   },
   {
    "duration": 70,
    "start_time": "2022-03-03T09:39:48.151Z"
   },
   {
    "duration": 94,
    "start_time": "2022-03-03T09:51:30.500Z"
   },
   {
    "duration": 613,
    "start_time": "2022-03-03T15:07:32.455Z"
   },
   {
    "duration": 9,
    "start_time": "2022-03-03T15:07:33.071Z"
   },
   {
    "duration": 8,
    "start_time": "2022-03-03T15:18:03.194Z"
   },
   {
    "duration": 12,
    "start_time": "2022-03-03T15:19:13.788Z"
   },
   {
    "duration": 15,
    "start_time": "2022-03-03T15:19:44.854Z"
   },
   {
    "duration": 17,
    "start_time": "2022-03-03T15:30:14.127Z"
   },
   {
    "duration": 15,
    "start_time": "2022-03-03T15:30:42.843Z"
   },
   {
    "duration": 15,
    "start_time": "2022-03-03T15:36:45.823Z"
   },
   {
    "duration": 10,
    "start_time": "2022-03-03T15:37:14.535Z"
   },
   {
    "duration": 693,
    "start_time": "2022-03-03T15:37:59.977Z"
   },
   {
    "duration": 9,
    "start_time": "2022-03-03T15:38:04.282Z"
   },
   {
    "duration": 15,
    "start_time": "2022-03-03T15:38:13.051Z"
   },
   {
    "duration": 31,
    "start_time": "2022-03-03T15:39:07.908Z"
   },
   {
    "duration": 70,
    "start_time": "2022-03-03T15:44:28.928Z"
   },
   {
    "duration": 6,
    "start_time": "2022-03-03T15:44:36.668Z"
   },
   {
    "duration": 24,
    "start_time": "2022-03-03T15:45:03.686Z"
   },
   {
    "duration": 4,
    "start_time": "2022-03-03T15:46:54.368Z"
   },
   {
    "duration": 5,
    "start_time": "2022-03-03T15:48:37.596Z"
   },
   {
    "duration": 6,
    "start_time": "2022-03-03T15:49:34.562Z"
   },
   {
    "duration": 5,
    "start_time": "2022-03-03T15:50:55.470Z"
   },
   {
    "duration": 5,
    "start_time": "2022-03-03T15:52:52.740Z"
   },
   {
    "duration": 5,
    "start_time": "2022-03-03T15:54:06.416Z"
   },
   {
    "duration": 5,
    "start_time": "2022-03-03T15:55:30.067Z"
   },
   {
    "duration": 5,
    "start_time": "2022-03-03T15:55:56.597Z"
   },
   {
    "duration": 6,
    "start_time": "2022-03-03T15:57:22.512Z"
   },
   {
    "duration": 5,
    "start_time": "2022-03-03T15:58:29.596Z"
   },
   {
    "duration": 6,
    "start_time": "2022-03-03T15:59:06.181Z"
   },
   {
    "duration": 6,
    "start_time": "2022-03-03T15:59:27.294Z"
   },
   {
    "duration": 3,
    "start_time": "2022-03-03T16:00:49.626Z"
   },
   {
    "duration": 6,
    "start_time": "2022-03-03T16:05:12.425Z"
   },
   {
    "duration": 6,
    "start_time": "2022-03-03T16:05:22.797Z"
   },
   {
    "duration": 6,
    "start_time": "2022-03-03T16:05:33.021Z"
   },
   {
    "duration": 6,
    "start_time": "2022-03-03T16:05:41.190Z"
   },
   {
    "duration": 76,
    "start_time": "2022-03-03T16:07:14.706Z"
   },
   {
    "duration": 9,
    "start_time": "2022-03-03T16:07:26.018Z"
   },
   {
    "duration": 12,
    "start_time": "2022-03-03T16:07:53.500Z"
   },
   {
    "duration": 11,
    "start_time": "2022-03-03T16:08:13.795Z"
   },
   {
    "duration": 3,
    "start_time": "2022-03-03T16:11:23.551Z"
   },
   {
    "duration": 68,
    "start_time": "2022-03-03T16:23:38.495Z"
   },
   {
    "duration": 82,
    "start_time": "2022-03-03T16:27:05.030Z"
   },
   {
    "duration": 70,
    "start_time": "2022-03-03T16:27:34.259Z"
   },
   {
    "duration": 988,
    "start_time": "2022-03-03T16:27:39.183Z"
   },
   {
    "duration": 79,
    "start_time": "2022-03-03T16:27:49.000Z"
   },
   {
    "duration": 77,
    "start_time": "2022-03-03T16:28:13.272Z"
   },
   {
    "duration": 80,
    "start_time": "2022-03-03T16:30:17.310Z"
   },
   {
    "duration": 51,
    "start_time": "2022-03-03T16:30:42.811Z"
   },
   {
    "duration": 48,
    "start_time": "2022-03-03T16:31:07.808Z"
   },
   {
    "duration": 48,
    "start_time": "2022-03-03T16:31:30.202Z"
   },
   {
    "duration": 57,
    "start_time": "2022-03-03T16:32:23.276Z"
   },
   {
    "duration": 76,
    "start_time": "2022-03-03T16:35:38.810Z"
   },
   {
    "duration": 68,
    "start_time": "2022-03-03T16:35:44.222Z"
   },
   {
    "duration": 75,
    "start_time": "2022-03-03T16:36:03.254Z"
   },
   {
    "duration": 68,
    "start_time": "2022-03-03T16:36:38.951Z"
   },
   {
    "duration": 15,
    "start_time": "2022-03-03T16:36:54.912Z"
   },
   {
    "duration": 225,
    "start_time": "2022-03-03T16:37:12.609Z"
   },
   {
    "duration": 915,
    "start_time": "2022-03-03T16:37:30.670Z"
   },
   {
    "duration": 12,
    "start_time": "2022-03-03T16:37:45.500Z"
   },
   {
    "duration": 24,
    "start_time": "2022-03-03T16:38:19.668Z"
   },
   {
    "duration": 3930,
    "start_time": "2022-03-03T16:38:38.909Z"
   },
   {
    "duration": 4358,
    "start_time": "2022-03-03T16:38:43.222Z"
   },
   {
    "duration": 846,
    "start_time": "2022-03-03T16:39:15.968Z"
   },
   {
    "duration": 893,
    "start_time": "2022-03-03T16:39:55.874Z"
   },
   {
    "duration": 898,
    "start_time": "2022-03-03T16:40:14.891Z"
   },
   {
    "duration": 219,
    "start_time": "2022-03-03T16:40:26.067Z"
   },
   {
    "duration": 15,
    "start_time": "2022-03-03T16:40:35.772Z"
   },
   {
    "duration": 4341,
    "start_time": "2022-03-03T16:40:53.690Z"
   },
   {
    "duration": 1466,
    "start_time": "2022-03-03T16:41:53.655Z"
   },
   {
    "duration": 16,
    "start_time": "2022-03-03T16:42:02.190Z"
   },
   {
    "duration": 8,
    "start_time": "2022-03-03T16:42:22.015Z"
   },
   {
    "duration": 8,
    "start_time": "2022-03-03T16:42:31.360Z"
   },
   {
    "duration": 15,
    "start_time": "2022-03-03T16:42:49.168Z"
   },
   {
    "duration": 27,
    "start_time": "2022-03-03T16:43:21.151Z"
   },
   {
    "duration": 24,
    "start_time": "2022-03-03T16:43:31.658Z"
   },
   {
    "duration": 9,
    "start_time": "2022-03-03T16:44:08.580Z"
   },
   {
    "duration": 694,
    "start_time": "2022-03-03T16:44:31.502Z"
   },
   {
    "duration": 9,
    "start_time": "2022-03-03T16:44:32.199Z"
   },
   {
    "duration": 51,
    "start_time": "2022-03-03T16:44:32.210Z"
   },
   {
    "duration": 26,
    "start_time": "2022-03-03T16:44:32.263Z"
   },
   {
    "duration": 33,
    "start_time": "2022-03-03T16:44:32.291Z"
   },
   {
    "duration": 8,
    "start_time": "2022-03-03T16:44:45.806Z"
   },
   {
    "duration": 670,
    "start_time": "2022-03-03T16:45:07.392Z"
   },
   {
    "duration": 10,
    "start_time": "2022-03-03T16:45:08.064Z"
   },
   {
    "duration": 26,
    "start_time": "2022-03-03T16:45:08.077Z"
   },
   {
    "duration": 3,
    "start_time": "2022-03-03T16:45:08.106Z"
   },
   {
    "duration": 18,
    "start_time": "2022-03-03T16:45:08.111Z"
   },
   {
    "duration": 15,
    "start_time": "2022-03-03T16:45:18.422Z"
   },
   {
    "duration": 25,
    "start_time": "2022-03-03T16:45:53.855Z"
   },
   {
    "duration": 688,
    "start_time": "2022-03-03T16:46:20.379Z"
   },
   {
    "duration": 9,
    "start_time": "2022-03-03T16:46:21.070Z"
   },
   {
    "duration": 27,
    "start_time": "2022-03-03T16:46:21.081Z"
   },
   {
    "duration": 3,
    "start_time": "2022-03-03T16:46:21.110Z"
   },
   {
    "duration": 37,
    "start_time": "2022-03-03T16:46:21.114Z"
   },
   {
    "duration": 68,
    "start_time": "2022-03-03T16:47:09.397Z"
   },
   {
    "duration": 57,
    "start_time": "2022-03-03T16:47:49.128Z"
   },
   {
    "duration": 7,
    "start_time": "2022-03-03T16:48:47.778Z"
   },
   {
    "duration": 7,
    "start_time": "2022-03-03T16:50:07.461Z"
   },
   {
    "duration": 12,
    "start_time": "2022-03-03T16:50:18.900Z"
   },
   {
    "duration": 619,
    "start_time": "2022-03-03T16:50:40.750Z"
   },
   {
    "duration": 9,
    "start_time": "2022-03-03T16:50:41.371Z"
   },
   {
    "duration": 25,
    "start_time": "2022-03-03T16:50:41.382Z"
   },
   {
    "duration": 3,
    "start_time": "2022-03-03T16:50:41.409Z"
   },
   {
    "duration": 19,
    "start_time": "2022-03-03T16:50:41.414Z"
   },
   {
    "duration": 28,
    "start_time": "2022-03-03T16:51:47.872Z"
   },
   {
    "duration": 25,
    "start_time": "2022-03-03T16:52:20.017Z"
   },
   {
    "duration": 24,
    "start_time": "2022-03-03T16:53:13.111Z"
   },
   {
    "duration": 24,
    "start_time": "2022-03-03T16:53:20.093Z"
   },
   {
    "duration": 16,
    "start_time": "2022-03-03T16:53:43.743Z"
   },
   {
    "duration": 639,
    "start_time": "2022-03-03T16:53:58.852Z"
   },
   {
    "duration": 9,
    "start_time": "2022-03-03T16:53:59.493Z"
   },
   {
    "duration": 25,
    "start_time": "2022-03-03T16:53:59.504Z"
   },
   {
    "duration": 3,
    "start_time": "2022-03-03T16:53:59.530Z"
   },
   {
    "duration": 36,
    "start_time": "2022-03-03T16:53:59.535Z"
   },
   {
    "duration": 18,
    "start_time": "2022-03-03T16:54:45.033Z"
   },
   {
    "duration": 3989,
    "start_time": "2022-03-03T16:55:33.547Z"
   },
   {
    "duration": 16,
    "start_time": "2022-03-03T16:55:43.980Z"
   },
   {
    "duration": 18,
    "start_time": "2022-03-03T16:55:53.124Z"
   },
   {
    "duration": 241,
    "start_time": "2022-03-03T16:57:22.128Z"
   },
   {
    "duration": 24,
    "start_time": "2022-03-03T16:57:56.578Z"
   },
   {
    "duration": 20,
    "start_time": "2022-03-03T16:58:14.947Z"
   },
   {
    "duration": 7,
    "start_time": "2022-03-03T16:58:24.748Z"
   },
   {
    "duration": 25,
    "start_time": "2022-03-03T16:59:24.990Z"
   },
   {
    "duration": 27,
    "start_time": "2022-03-03T16:59:47.108Z"
   },
   {
    "duration": 9,
    "start_time": "2022-03-03T17:00:13.183Z"
   },
   {
    "duration": 16,
    "start_time": "2022-03-03T17:00:16.688Z"
   },
   {
    "duration": 24,
    "start_time": "2022-03-03T17:00:22.681Z"
   },
   {
    "duration": 11,
    "start_time": "2022-03-03T17:00:41.786Z"
   },
   {
    "duration": 23,
    "start_time": "2022-03-03T17:00:59.266Z"
   },
   {
    "duration": 702,
    "start_time": "2022-03-03T17:01:25.976Z"
   },
   {
    "duration": 10,
    "start_time": "2022-03-03T17:01:26.681Z"
   },
   {
    "duration": 35,
    "start_time": "2022-03-03T17:01:26.693Z"
   },
   {
    "duration": 19,
    "start_time": "2022-03-03T17:01:26.730Z"
   },
   {
    "duration": 43,
    "start_time": "2022-03-03T17:01:26.751Z"
   },
   {
    "duration": 24,
    "start_time": "2022-03-03T17:02:00.451Z"
   },
   {
    "duration": 35,
    "start_time": "2022-03-03T17:02:45.254Z"
   },
   {
    "duration": 38,
    "start_time": "2022-03-03T17:03:34.935Z"
   },
   {
    "duration": 706,
    "start_time": "2022-03-03T17:03:56.275Z"
   },
   {
    "duration": 10,
    "start_time": "2022-03-03T17:03:56.984Z"
   },
   {
    "duration": 25,
    "start_time": "2022-03-03T17:03:56.996Z"
   },
   {
    "duration": 3,
    "start_time": "2022-03-03T17:03:57.023Z"
   },
   {
    "duration": 38,
    "start_time": "2022-03-03T17:03:57.028Z"
   },
   {
    "duration": 561,
    "start_time": "2022-03-04T03:45:21.496Z"
   },
   {
    "duration": 8,
    "start_time": "2022-03-04T03:45:22.059Z"
   },
   {
    "duration": 14,
    "start_time": "2022-03-04T03:45:22.069Z"
   },
   {
    "duration": 2,
    "start_time": "2022-03-04T03:45:22.084Z"
   },
   {
    "duration": 48,
    "start_time": "2022-03-04T03:45:22.088Z"
   },
   {
    "duration": 232,
    "start_time": "2022-03-04T03:47:21.055Z"
   },
   {
    "duration": 4,
    "start_time": "2022-03-04T03:47:35.688Z"
   },
   {
    "duration": 56,
    "start_time": "2022-03-04T03:48:54.415Z"
   },
   {
    "duration": 13,
    "start_time": "2022-03-04T03:49:06.302Z"
   },
   {
    "duration": 11,
    "start_time": "2022-03-04T03:49:11.242Z"
   },
   {
    "duration": 16,
    "start_time": "2022-03-04T03:49:41.718Z"
   },
   {
    "duration": 17,
    "start_time": "2022-03-04T03:50:11.365Z"
   },
   {
    "duration": 20,
    "start_time": "2022-03-04T03:50:56.037Z"
   },
   {
    "duration": 62,
    "start_time": "2022-03-04T03:51:17.029Z"
   },
   {
    "duration": 17,
    "start_time": "2022-03-04T03:51:24.653Z"
   },
   {
    "duration": 8,
    "start_time": "2022-03-04T03:54:18.901Z"
   },
   {
    "duration": 617,
    "start_time": "2022-03-04T03:56:13.418Z"
   },
   {
    "duration": 7,
    "start_time": "2022-03-04T03:56:14.037Z"
   },
   {
    "duration": 14,
    "start_time": "2022-03-04T03:56:14.046Z"
   },
   {
    "duration": 2,
    "start_time": "2022-03-04T03:56:14.062Z"
   },
   {
    "duration": 21,
    "start_time": "2022-03-04T03:56:14.066Z"
   },
   {
    "duration": 11,
    "start_time": "2022-03-04T03:56:14.089Z"
   },
   {
    "duration": 46,
    "start_time": "2022-03-04T03:56:14.102Z"
   },
   {
    "duration": 7,
    "start_time": "2022-03-04T03:56:57.231Z"
   },
   {
    "duration": 604,
    "start_time": "2022-03-04T03:59:43.732Z"
   },
   {
    "duration": 9,
    "start_time": "2022-03-04T03:59:44.338Z"
   },
   {
    "duration": 15,
    "start_time": "2022-03-04T03:59:44.351Z"
   },
   {
    "duration": 2,
    "start_time": "2022-03-04T03:59:44.367Z"
   },
   {
    "duration": 19,
    "start_time": "2022-03-04T03:59:44.371Z"
   },
   {
    "duration": 45,
    "start_time": "2022-03-04T03:59:44.392Z"
   },
   {
    "duration": 2,
    "start_time": "2022-03-04T03:59:44.438Z"
   },
   {
    "duration": 220,
    "start_time": "2022-03-04T03:59:44.443Z"
   },
   {
    "duration": 36,
    "start_time": "2022-03-04T04:00:47.661Z"
   },
   {
    "duration": 608,
    "start_time": "2022-03-04T04:00:56.722Z"
   },
   {
    "duration": 8,
    "start_time": "2022-03-04T04:00:57.332Z"
   },
   {
    "duration": 16,
    "start_time": "2022-03-04T04:00:57.342Z"
   },
   {
    "duration": 2,
    "start_time": "2022-03-04T04:00:57.360Z"
   },
   {
    "duration": 22,
    "start_time": "2022-03-04T04:00:57.364Z"
   },
   {
    "duration": 11,
    "start_time": "2022-03-04T04:00:57.388Z"
   },
   {
    "duration": 57,
    "start_time": "2022-03-04T04:00:57.401Z"
   },
   {
    "duration": 2,
    "start_time": "2022-03-04T04:00:57.460Z"
   },
   {
    "duration": 96,
    "start_time": "2022-03-04T04:01:22.382Z"
   },
   {
    "duration": 76,
    "start_time": "2022-03-04T04:02:32.773Z"
   },
   {
    "duration": 59,
    "start_time": "2022-03-04T04:02:46.244Z"
   },
   {
    "duration": 64,
    "start_time": "2022-03-04T04:02:56.901Z"
   },
   {
    "duration": 54,
    "start_time": "2022-03-04T04:03:17.181Z"
   },
   {
    "duration": 64,
    "start_time": "2022-03-04T04:03:38.109Z"
   },
   {
    "duration": 55,
    "start_time": "2022-03-04T04:03:57.741Z"
   },
   {
    "duration": 602,
    "start_time": "2022-03-04T04:04:24.128Z"
   },
   {
    "duration": 8,
    "start_time": "2022-03-04T04:04:24.733Z"
   },
   {
    "duration": 16,
    "start_time": "2022-03-04T04:04:24.743Z"
   },
   {
    "duration": 2,
    "start_time": "2022-03-04T04:04:24.762Z"
   },
   {
    "duration": 19,
    "start_time": "2022-03-04T04:04:24.766Z"
   },
   {
    "duration": 13,
    "start_time": "2022-03-04T04:04:24.787Z"
   },
   {
    "duration": 32,
    "start_time": "2022-03-04T04:04:24.801Z"
   },
   {
    "duration": 3,
    "start_time": "2022-03-04T04:04:24.836Z"
   },
   {
    "duration": 232,
    "start_time": "2022-03-04T04:04:54.644Z"
   },
   {
    "duration": 194,
    "start_time": "2022-03-04T04:05:14.884Z"
   },
   {
    "duration": 172,
    "start_time": "2022-03-04T04:05:46.340Z"
   },
   {
    "duration": 15,
    "start_time": "2022-03-04T04:06:49.443Z"
   },
   {
    "duration": 25,
    "start_time": "2022-03-04T04:07:04.331Z"
   },
   {
    "duration": 8,
    "start_time": "2022-03-04T04:07:28.307Z"
   },
   {
    "duration": 208,
    "start_time": "2022-03-04T04:08:36.099Z"
   },
   {
    "duration": 16,
    "start_time": "2022-03-04T04:08:47.632Z"
   },
   {
    "duration": 5,
    "start_time": "2022-03-04T04:09:05.626Z"
   },
   {
    "duration": 5,
    "start_time": "2022-03-04T04:09:14.242Z"
   },
   {
    "duration": 814,
    "start_time": "2022-03-04T15:06:13.941Z"
   },
   {
    "duration": 10,
    "start_time": "2022-03-04T15:06:14.757Z"
   },
   {
    "duration": 18,
    "start_time": "2022-03-04T15:06:14.773Z"
   },
   {
    "duration": 3,
    "start_time": "2022-03-04T15:06:14.793Z"
   },
   {
    "duration": 56,
    "start_time": "2022-03-04T15:06:14.798Z"
   },
   {
    "duration": 18,
    "start_time": "2022-03-04T15:06:14.856Z"
   },
   {
    "duration": 57,
    "start_time": "2022-03-04T15:06:14.877Z"
   },
   {
    "duration": 3,
    "start_time": "2022-03-04T15:06:14.936Z"
   },
   {
    "duration": 39,
    "start_time": "2022-03-04T15:06:52.351Z"
   },
   {
    "duration": 8,
    "start_time": "2022-03-04T15:07:13.031Z"
   },
   {
    "duration": 13,
    "start_time": "2022-03-04T15:07:24.164Z"
   },
   {
    "duration": 7,
    "start_time": "2022-03-04T15:07:28.292Z"
   },
   {
    "duration": 35,
    "start_time": "2022-03-04T15:08:21.446Z"
   },
   {
    "duration": 44,
    "start_time": "2022-03-04T15:08:38.118Z"
   },
   {
    "duration": 851,
    "start_time": "2022-03-04T15:08:45.995Z"
   },
   {
    "duration": 11,
    "start_time": "2022-03-04T15:08:46.849Z"
   },
   {
    "duration": 23,
    "start_time": "2022-03-04T15:08:46.863Z"
   },
   {
    "duration": 4,
    "start_time": "2022-03-04T15:08:46.889Z"
   },
   {
    "duration": 63,
    "start_time": "2022-03-04T15:08:46.896Z"
   },
   {
    "duration": 27,
    "start_time": "2022-03-04T15:08:46.962Z"
   },
   {
    "duration": 515,
    "start_time": "2022-03-04T15:08:46.993Z"
   },
   {
    "duration": -5482,
    "start_time": "2022-03-04T15:08:52.993Z"
   },
   {
    "duration": -5490,
    "start_time": "2022-03-04T15:08:53.003Z"
   },
   {
    "duration": 308,
    "start_time": "2022-03-04T15:08:59.713Z"
   },
   {
    "duration": 98,
    "start_time": "2022-03-04T15:09:36.578Z"
   },
   {
    "duration": 6,
    "start_time": "2022-03-04T15:09:49.059Z"
   },
   {
    "duration": 34,
    "start_time": "2022-03-04T15:09:58.403Z"
   },
   {
    "duration": 17,
    "start_time": "2022-03-04T15:10:15.092Z"
   },
   {
    "duration": 96,
    "start_time": "2022-03-04T15:12:29.425Z"
   },
   {
    "duration": 112,
    "start_time": "2022-03-04T15:13:10.146Z"
   },
   {
    "duration": 369,
    "start_time": "2022-03-04T15:13:53.923Z"
   },
   {
    "duration": 303,
    "start_time": "2022-03-04T15:14:49.014Z"
   },
   {
    "duration": 352,
    "start_time": "2022-03-04T15:14:56.151Z"
   },
   {
    "duration": 23,
    "start_time": "2022-03-04T15:15:14.722Z"
   },
   {
    "duration": 17,
    "start_time": "2022-03-04T15:15:54.983Z"
   },
   {
    "duration": 39,
    "start_time": "2022-03-04T15:16:49.393Z"
   },
   {
    "duration": 66,
    "start_time": "2022-03-04T15:17:07.827Z"
   },
   {
    "duration": 49,
    "start_time": "2022-03-04T15:17:33.956Z"
   },
   {
    "duration": 54,
    "start_time": "2022-03-04T15:17:48.172Z"
   },
   {
    "duration": 829,
    "start_time": "2022-03-04T15:18:04.738Z"
   },
   {
    "duration": 13,
    "start_time": "2022-03-04T15:18:05.570Z"
   },
   {
    "duration": 19,
    "start_time": "2022-03-04T15:18:05.586Z"
   },
   {
    "duration": 24,
    "start_time": "2022-03-04T15:18:05.608Z"
   },
   {
    "duration": 29,
    "start_time": "2022-03-04T15:18:05.635Z"
   },
   {
    "duration": 18,
    "start_time": "2022-03-04T15:18:05.667Z"
   },
   {
    "duration": 82,
    "start_time": "2022-03-04T15:18:05.687Z"
   },
   {
    "duration": 5,
    "start_time": "2022-03-04T15:18:05.772Z"
   },
   {
    "duration": 437,
    "start_time": "2022-03-04T15:18:05.779Z"
   },
   {
    "duration": 43,
    "start_time": "2022-03-04T15:20:17.407Z"
   },
   {
    "duration": 348,
    "start_time": "2022-03-04T15:21:08.530Z"
   },
   {
    "duration": 330,
    "start_time": "2022-03-04T15:21:21.018Z"
   },
   {
    "duration": 2257,
    "start_time": "2022-03-04T15:21:30.826Z"
   },
   {
    "duration": 329,
    "start_time": "2022-03-04T15:21:39.610Z"
   },
   {
    "duration": 34,
    "start_time": "2022-03-04T15:22:42.156Z"
   },
   {
    "duration": 308,
    "start_time": "2022-03-04T15:24:32.402Z"
   },
   {
    "duration": 298,
    "start_time": "2022-03-04T15:25:24.388Z"
   },
   {
    "duration": 320,
    "start_time": "2022-03-04T15:25:37.164Z"
   },
   {
    "duration": 540,
    "start_time": "2022-03-04T15:25:49.629Z"
   },
   {
    "duration": 2167,
    "start_time": "2022-03-04T15:26:36.408Z"
   },
   {
    "duration": 307,
    "start_time": "2022-03-04T15:27:09.824Z"
   },
   {
    "duration": 35,
    "start_time": "2022-03-04T15:30:31.864Z"
   },
   {
    "duration": 102,
    "start_time": "2022-03-04T15:30:59.861Z"
   },
   {
    "duration": 6,
    "start_time": "2022-03-04T15:31:02.748Z"
   },
   {
    "duration": 9,
    "start_time": "2022-03-04T15:37:14.444Z"
   },
   {
    "duration": 6,
    "start_time": "2022-03-04T15:37:34.879Z"
   },
   {
    "duration": 326,
    "start_time": "2022-03-04T15:38:36.975Z"
   },
   {
    "duration": 297,
    "start_time": "2022-03-04T15:38:43.239Z"
   },
   {
    "duration": 11,
    "start_time": "2022-03-04T15:38:48.255Z"
   },
   {
    "duration": 18,
    "start_time": "2022-03-04T15:41:29.110Z"
   },
   {
    "duration": 8,
    "start_time": "2022-03-04T15:41:46.671Z"
   },
   {
    "duration": 12,
    "start_time": "2022-03-04T15:41:48.590Z"
   },
   {
    "duration": 342,
    "start_time": "2022-03-04T15:42:14.504Z"
   },
   {
    "duration": 333,
    "start_time": "2022-03-04T15:42:21.232Z"
   },
   {
    "duration": 8,
    "start_time": "2022-03-04T15:42:31.073Z"
   },
   {
    "duration": 22,
    "start_time": "2022-03-04T15:46:35.135Z"
   },
   {
    "duration": 25,
    "start_time": "2022-03-04T15:51:04.811Z"
   },
   {
    "duration": 16,
    "start_time": "2022-03-04T15:54:40.298Z"
   },
   {
    "duration": 95,
    "start_time": "2022-03-04T15:56:05.013Z"
   },
   {
    "duration": 7804,
    "start_time": "2022-03-04T15:57:29.618Z"
   },
   {
    "duration": 9,
    "start_time": "2022-03-04T15:57:55.610Z"
   },
   {
    "duration": 7,
    "start_time": "2022-03-04T15:58:11.282Z"
   },
   {
    "duration": 323,
    "start_time": "2022-03-04T16:00:16.401Z"
   },
   {
    "duration": 328,
    "start_time": "2022-03-04T16:03:17.857Z"
   },
   {
    "duration": 96,
    "start_time": "2022-03-04T16:03:32.746Z"
   },
   {
    "duration": 108,
    "start_time": "2022-03-04T16:03:52.314Z"
   },
   {
    "duration": 10,
    "start_time": "2022-03-04T16:04:44.133Z"
   },
   {
    "duration": 326,
    "start_time": "2022-03-04T16:13:03.207Z"
   },
   {
    "duration": 11,
    "start_time": "2022-03-04T16:13:11.901Z"
   },
   {
    "duration": 17,
    "start_time": "2022-03-04T16:13:49.751Z"
   },
   {
    "duration": 368,
    "start_time": "2022-03-04T16:16:35.222Z"
   },
   {
    "duration": 301,
    "start_time": "2022-03-04T16:17:10.631Z"
   },
   {
    "duration": 56,
    "start_time": "2022-03-04T16:17:27.985Z"
   },
   {
    "duration": 68,
    "start_time": "2022-03-04T16:18:51.796Z"
   },
   {
    "duration": 68,
    "start_time": "2022-03-04T16:19:09.972Z"
   },
   {
    "duration": 55,
    "start_time": "2022-03-04T16:20:30.112Z"
   },
   {
    "duration": 851,
    "start_time": "2022-03-04T16:23:49.112Z"
   },
   {
    "duration": 11,
    "start_time": "2022-03-04T16:23:49.966Z"
   },
   {
    "duration": 27,
    "start_time": "2022-03-04T16:23:49.980Z"
   },
   {
    "duration": 25,
    "start_time": "2022-03-04T16:23:50.010Z"
   },
   {
    "duration": 35,
    "start_time": "2022-03-04T16:23:50.038Z"
   },
   {
    "duration": 19,
    "start_time": "2022-03-04T16:23:50.076Z"
   },
   {
    "duration": 34,
    "start_time": "2022-03-04T16:23:50.137Z"
   },
   {
    "duration": 6,
    "start_time": "2022-03-04T16:23:50.174Z"
   },
   {
    "duration": 86,
    "start_time": "2022-03-04T16:23:50.183Z"
   },
   {
    "duration": 22,
    "start_time": "2022-03-04T16:23:50.271Z"
   },
   {
    "duration": 40,
    "start_time": "2022-03-04T16:23:50.296Z"
   },
   {
    "duration": 14,
    "start_time": "2022-03-04T16:23:50.338Z"
   },
   {
    "duration": 19,
    "start_time": "2022-03-04T16:33:28.532Z"
   },
   {
    "duration": 406,
    "start_time": "2022-03-04T16:34:21.317Z"
   },
   {
    "duration": 13,
    "start_time": "2022-03-04T16:34:28.469Z"
   },
   {
    "duration": 21,
    "start_time": "2022-03-04T16:35:15.862Z"
   },
   {
    "duration": 4,
    "start_time": "2022-03-04T16:35:52.837Z"
   },
   {
    "duration": 354,
    "start_time": "2022-03-04T16:36:27.170Z"
   },
   {
    "duration": 20,
    "start_time": "2022-03-04T16:36:38.354Z"
   },
   {
    "duration": 19,
    "start_time": "2022-03-04T16:37:36.021Z"
   },
   {
    "duration": 930,
    "start_time": "2022-03-04T16:38:36.572Z"
   },
   {
    "duration": 14,
    "start_time": "2022-03-04T16:38:37.506Z"
   },
   {
    "duration": 29,
    "start_time": "2022-03-04T16:38:37.535Z"
   },
   {
    "duration": 33,
    "start_time": "2022-03-04T16:38:37.568Z"
   },
   {
    "duration": 36,
    "start_time": "2022-03-04T16:38:37.603Z"
   },
   {
    "duration": 6,
    "start_time": "2022-03-04T16:38:37.642Z"
   },
   {
    "duration": 30,
    "start_time": "2022-03-04T16:38:37.652Z"
   },
   {
    "duration": 132,
    "start_time": "2022-03-04T16:38:37.687Z"
   },
   {
    "duration": 42,
    "start_time": "2022-03-04T16:38:37.822Z"
   },
   {
    "duration": 38,
    "start_time": "2022-03-04T16:38:37.868Z"
   },
   {
    "duration": 37,
    "start_time": "2022-03-04T16:38:37.909Z"
   },
   {
    "duration": 8,
    "start_time": "2022-03-04T16:38:37.949Z"
   },
   {
    "duration": 21,
    "start_time": "2022-03-04T16:39:14.066Z"
   },
   {
    "duration": 20,
    "start_time": "2022-03-04T16:40:30.781Z"
   },
   {
    "duration": 4,
    "start_time": "2022-03-04T16:41:26.768Z"
   },
   {
    "duration": 5,
    "start_time": "2022-03-04T16:41:35.502Z"
   },
   {
    "duration": 19,
    "start_time": "2022-03-04T16:41:41.359Z"
   },
   {
    "duration": 829,
    "start_time": "2022-03-04T16:42:05.395Z"
   },
   {
    "duration": 12,
    "start_time": "2022-03-04T16:42:06.227Z"
   },
   {
    "duration": 19,
    "start_time": "2022-03-04T16:42:06.243Z"
   },
   {
    "duration": 68,
    "start_time": "2022-03-04T16:42:06.266Z"
   },
   {
    "duration": 19,
    "start_time": "2022-03-04T16:42:06.336Z"
   },
   {
    "duration": 7,
    "start_time": "2022-03-04T16:42:06.358Z"
   },
   {
    "duration": 19,
    "start_time": "2022-03-04T16:42:06.367Z"
   },
   {
    "duration": 94,
    "start_time": "2022-03-04T16:42:06.389Z"
   },
   {
    "duration": 22,
    "start_time": "2022-03-04T16:42:06.486Z"
   },
   {
    "duration": 44,
    "start_time": "2022-03-04T16:42:06.510Z"
   },
   {
    "duration": 13,
    "start_time": "2022-03-04T16:42:06.557Z"
   },
   {
    "duration": 9,
    "start_time": "2022-03-04T16:42:06.573Z"
   },
   {
    "duration": 30,
    "start_time": "2022-03-04T16:46:14.796Z"
   },
   {
    "duration": 6,
    "start_time": "2022-03-04T16:46:38.730Z"
   },
   {
    "duration": 602,
    "start_time": "2022-03-05T02:11:50.385Z"
   },
   {
    "duration": 8,
    "start_time": "2022-03-05T02:11:50.989Z"
   },
   {
    "duration": 17,
    "start_time": "2022-03-05T02:11:50.999Z"
   },
   {
    "duration": 16,
    "start_time": "2022-03-05T02:11:51.018Z"
   },
   {
    "duration": 29,
    "start_time": "2022-03-05T02:11:51.036Z"
   },
   {
    "duration": 5,
    "start_time": "2022-03-05T02:11:51.066Z"
   },
   {
    "duration": 5,
    "start_time": "2022-03-05T02:11:51.072Z"
   },
   {
    "duration": 36,
    "start_time": "2022-03-05T02:11:51.079Z"
   },
   {
    "duration": 14,
    "start_time": "2022-03-05T02:11:51.117Z"
   },
   {
    "duration": 44,
    "start_time": "2022-03-05T02:11:51.132Z"
   },
   {
    "duration": 10,
    "start_time": "2022-03-05T02:11:51.177Z"
   },
   {
    "duration": 4,
    "start_time": "2022-03-05T02:11:51.189Z"
   },
   {
    "duration": 285,
    "start_time": "2022-03-05T02:11:51.195Z"
   },
   {
    "duration": 18,
    "start_time": "2022-03-05T02:12:08.490Z"
   },
   {
    "duration": 27,
    "start_time": "2022-03-05T02:18:53.155Z"
   },
   {
    "duration": 17,
    "start_time": "2022-03-05T02:20:33.284Z"
   },
   {
    "duration": 80,
    "start_time": "2022-03-05T02:26:38.379Z"
   },
   {
    "duration": 18,
    "start_time": "2022-03-05T02:34:01.775Z"
   },
   {
    "duration": 31,
    "start_time": "2022-03-05T02:34:05.038Z"
   },
   {
    "duration": 41,
    "start_time": "2022-03-05T02:34:12.286Z"
   },
   {
    "duration": 29,
    "start_time": "2022-03-05T02:34:35.358Z"
   },
   {
    "duration": 32,
    "start_time": "2022-03-05T02:36:25.733Z"
   },
   {
    "duration": 10,
    "start_time": "2022-03-05T02:55:24.685Z"
   },
   {
    "duration": 12,
    "start_time": "2022-03-05T02:55:45.078Z"
   },
   {
    "duration": 11,
    "start_time": "2022-03-05T02:56:07.967Z"
   },
   {
    "duration": 7,
    "start_time": "2022-03-05T02:56:48.142Z"
   },
   {
    "duration": 17,
    "start_time": "2022-03-05T02:59:06.829Z"
   },
   {
    "duration": 217,
    "start_time": "2022-03-05T03:01:07.206Z"
   },
   {
    "duration": 213,
    "start_time": "2022-03-05T03:01:24.367Z"
   },
   {
    "duration": 226,
    "start_time": "2022-03-05T03:01:34.508Z"
   },
   {
    "duration": 243,
    "start_time": "2022-03-05T03:02:11.007Z"
   },
   {
    "duration": 13,
    "start_time": "2022-03-05T03:02:18.925Z"
   },
   {
    "duration": 570,
    "start_time": "2022-03-05T03:02:37.520Z"
   },
   {
    "duration": 8,
    "start_time": "2022-03-05T03:02:38.091Z"
   },
   {
    "duration": 13,
    "start_time": "2022-03-05T03:02:38.104Z"
   },
   {
    "duration": 18,
    "start_time": "2022-03-05T03:02:38.119Z"
   },
   {
    "duration": 33,
    "start_time": "2022-03-05T03:02:38.138Z"
   },
   {
    "duration": 4,
    "start_time": "2022-03-05T03:02:38.173Z"
   },
   {
    "duration": 8,
    "start_time": "2022-03-05T03:02:38.179Z"
   },
   {
    "duration": 37,
    "start_time": "2022-03-05T03:02:38.188Z"
   },
   {
    "duration": 39,
    "start_time": "2022-03-05T03:02:38.227Z"
   },
   {
    "duration": 18,
    "start_time": "2022-03-05T03:02:38.268Z"
   },
   {
    "duration": 9,
    "start_time": "2022-03-05T03:02:38.288Z"
   },
   {
    "duration": 5,
    "start_time": "2022-03-05T03:02:38.298Z"
   },
   {
    "duration": 22,
    "start_time": "2022-03-05T03:02:38.305Z"
   },
   {
    "duration": 41,
    "start_time": "2022-03-05T03:02:38.328Z"
   },
   {
    "duration": 6,
    "start_time": "2022-03-05T03:03:20.533Z"
   },
   {
    "duration": 7,
    "start_time": "2022-03-05T03:03:55.357Z"
   },
   {
    "duration": 16,
    "start_time": "2022-03-05T03:03:57.149Z"
   },
   {
    "duration": 638,
    "start_time": "2022-03-05T13:34:46.109Z"
   },
   {
    "duration": 8,
    "start_time": "2022-03-05T13:34:46.749Z"
   },
   {
    "duration": 15,
    "start_time": "2022-03-05T13:34:46.759Z"
   },
   {
    "duration": 19,
    "start_time": "2022-03-05T13:34:46.776Z"
   },
   {
    "duration": 12,
    "start_time": "2022-03-05T13:34:46.796Z"
   },
   {
    "duration": 4,
    "start_time": "2022-03-05T13:34:46.810Z"
   },
   {
    "duration": 5,
    "start_time": "2022-03-05T13:34:46.815Z"
   },
   {
    "duration": 64,
    "start_time": "2022-03-05T13:34:46.822Z"
   },
   {
    "duration": 15,
    "start_time": "2022-03-05T13:34:46.888Z"
   },
   {
    "duration": 18,
    "start_time": "2022-03-05T13:34:46.904Z"
   },
   {
    "duration": 12,
    "start_time": "2022-03-05T13:34:46.923Z"
   },
   {
    "duration": 26,
    "start_time": "2022-03-05T13:34:46.937Z"
   },
   {
    "duration": 21,
    "start_time": "2022-03-05T13:34:46.965Z"
   },
   {
    "duration": 4,
    "start_time": "2022-03-05T13:34:46.988Z"
   },
   {
    "duration": 20,
    "start_time": "2022-03-05T13:34:46.994Z"
   },
   {
    "duration": 279,
    "start_time": "2022-03-05T13:40:12.753Z"
   },
   {
    "duration": 642,
    "start_time": "2022-03-05T13:40:28.646Z"
   },
   {
    "duration": 8,
    "start_time": "2022-03-05T13:40:29.290Z"
   },
   {
    "duration": 15,
    "start_time": "2022-03-05T13:40:29.300Z"
   },
   {
    "duration": 18,
    "start_time": "2022-03-05T13:40:29.317Z"
   },
   {
    "duration": 34,
    "start_time": "2022-03-05T13:40:29.337Z"
   },
   {
    "duration": 5,
    "start_time": "2022-03-05T13:40:29.373Z"
   },
   {
    "duration": 3,
    "start_time": "2022-03-05T13:40:29.380Z"
   },
   {
    "duration": 38,
    "start_time": "2022-03-05T13:40:29.386Z"
   },
   {
    "duration": 45,
    "start_time": "2022-03-05T13:40:29.426Z"
   },
   {
    "duration": 24,
    "start_time": "2022-03-05T13:40:29.473Z"
   },
   {
    "duration": 12,
    "start_time": "2022-03-05T13:40:29.499Z"
   },
   {
    "duration": 8,
    "start_time": "2022-03-05T13:40:29.513Z"
   },
   {
    "duration": 45,
    "start_time": "2022-03-05T13:40:29.522Z"
   },
   {
    "duration": 6,
    "start_time": "2022-03-05T13:40:29.569Z"
   },
   {
    "duration": 5469,
    "start_time": "2022-03-05T13:40:29.577Z"
   },
   {
    "duration": -171,
    "start_time": "2022-03-05T13:40:35.219Z"
   },
   {
    "duration": 228,
    "start_time": "2022-03-05T13:40:52.544Z"
   },
   {
    "duration": 661,
    "start_time": "2022-03-05T13:41:03.934Z"
   },
   {
    "duration": 9,
    "start_time": "2022-03-05T13:41:04.597Z"
   },
   {
    "duration": 22,
    "start_time": "2022-03-05T13:41:04.608Z"
   },
   {
    "duration": 32,
    "start_time": "2022-03-05T13:41:04.632Z"
   },
   {
    "duration": 13,
    "start_time": "2022-03-05T13:41:04.666Z"
   },
   {
    "duration": 23,
    "start_time": "2022-03-05T13:41:04.681Z"
   },
   {
    "duration": 11,
    "start_time": "2022-03-05T13:41:04.706Z"
   },
   {
    "duration": 36,
    "start_time": "2022-03-05T13:41:04.720Z"
   },
   {
    "duration": 17,
    "start_time": "2022-03-05T13:41:04.758Z"
   },
   {
    "duration": 17,
    "start_time": "2022-03-05T13:41:04.777Z"
   },
   {
    "duration": 10,
    "start_time": "2022-03-05T13:41:04.795Z"
   },
   {
    "duration": 5,
    "start_time": "2022-03-05T13:41:04.807Z"
   },
   {
    "duration": 23,
    "start_time": "2022-03-05T13:41:04.813Z"
   },
   {
    "duration": 28,
    "start_time": "2022-03-05T13:41:04.838Z"
   },
   {
    "duration": 19,
    "start_time": "2022-03-05T13:41:04.867Z"
   },
   {
    "duration": 3,
    "start_time": "2022-03-05T13:41:04.888Z"
   },
   {
    "duration": 5275,
    "start_time": "2022-03-05T13:41:56.386Z"
   },
   {
    "duration": 5682,
    "start_time": "2022-03-05T13:42:20.436Z"
   },
   {
    "duration": 221,
    "start_time": "2022-03-05T13:42:36.996Z"
   },
   {
    "duration": 4,
    "start_time": "2022-03-05T13:44:13.520Z"
   },
   {
    "duration": 210,
    "start_time": "2022-03-05T13:44:39.097Z"
   },
   {
    "duration": 11,
    "start_time": "2022-03-05T13:44:56.155Z"
   },
   {
    "duration": 632,
    "start_time": "2022-03-05T13:46:33.990Z"
   },
   {
    "duration": 8,
    "start_time": "2022-03-05T13:46:34.624Z"
   },
   {
    "duration": 17,
    "start_time": "2022-03-05T13:46:34.634Z"
   },
   {
    "duration": 23,
    "start_time": "2022-03-05T13:46:34.652Z"
   },
   {
    "duration": 13,
    "start_time": "2022-03-05T13:46:34.677Z"
   },
   {
    "duration": 5,
    "start_time": "2022-03-05T13:46:34.692Z"
   },
   {
    "duration": 6,
    "start_time": "2022-03-05T13:46:34.698Z"
   },
   {
    "duration": 64,
    "start_time": "2022-03-05T13:46:34.706Z"
   },
   {
    "duration": 14,
    "start_time": "2022-03-05T13:46:34.772Z"
   },
   {
    "duration": 20,
    "start_time": "2022-03-05T13:46:34.788Z"
   },
   {
    "duration": 9,
    "start_time": "2022-03-05T13:46:34.810Z"
   },
   {
    "duration": 8,
    "start_time": "2022-03-05T13:46:34.820Z"
   },
   {
    "duration": 39,
    "start_time": "2022-03-05T13:46:34.830Z"
   },
   {
    "duration": 5,
    "start_time": "2022-03-05T13:46:34.871Z"
   },
   {
    "duration": 22,
    "start_time": "2022-03-05T13:46:34.878Z"
   },
   {
    "duration": 291,
    "start_time": "2022-03-05T13:46:34.901Z"
   },
   {
    "duration": -51,
    "start_time": "2022-03-05T13:46:35.245Z"
   },
   {
    "duration": 12,
    "start_time": "2022-03-05T13:46:55.052Z"
   },
   {
    "duration": 216,
    "start_time": "2022-03-05T13:48:56.698Z"
   },
   {
    "duration": 269,
    "start_time": "2022-03-05T13:49:16.598Z"
   },
   {
    "duration": 204,
    "start_time": "2022-03-05T13:49:56.943Z"
   },
   {
    "duration": 209,
    "start_time": "2022-03-05T13:50:06.232Z"
   },
   {
    "duration": 635,
    "start_time": "2022-03-05T13:50:19.841Z"
   },
   {
    "duration": 6,
    "start_time": "2022-03-05T13:50:20.478Z"
   },
   {
    "duration": 18,
    "start_time": "2022-03-05T13:50:20.486Z"
   },
   {
    "duration": 17,
    "start_time": "2022-03-05T13:50:20.506Z"
   },
   {
    "duration": 12,
    "start_time": "2022-03-05T13:50:20.524Z"
   },
   {
    "duration": 5,
    "start_time": "2022-03-05T13:50:20.562Z"
   },
   {
    "duration": 10,
    "start_time": "2022-03-05T13:50:20.569Z"
   },
   {
    "duration": 37,
    "start_time": "2022-03-05T13:50:20.581Z"
   },
   {
    "duration": 14,
    "start_time": "2022-03-05T13:50:20.620Z"
   },
   {
    "duration": 34,
    "start_time": "2022-03-05T13:50:20.636Z"
   },
   {
    "duration": 10,
    "start_time": "2022-03-05T13:50:20.671Z"
   },
   {
    "duration": 10,
    "start_time": "2022-03-05T13:50:20.682Z"
   },
   {
    "duration": 22,
    "start_time": "2022-03-05T13:50:20.693Z"
   },
   {
    "duration": 5,
    "start_time": "2022-03-05T13:50:20.716Z"
   },
   {
    "duration": 17,
    "start_time": "2022-03-05T13:50:20.722Z"
   },
   {
    "duration": 27,
    "start_time": "2022-03-05T13:50:20.740Z"
   },
   {
    "duration": 5,
    "start_time": "2022-03-05T13:50:20.768Z"
   },
   {
    "duration": 263,
    "start_time": "2022-03-05T13:50:42.062Z"
   },
   {
    "duration": 659,
    "start_time": "2022-03-05T13:50:58.558Z"
   },
   {
    "duration": 7,
    "start_time": "2022-03-05T13:50:59.219Z"
   },
   {
    "duration": 15,
    "start_time": "2022-03-05T13:50:59.228Z"
   },
   {
    "duration": 28,
    "start_time": "2022-03-05T13:50:59.244Z"
   },
   {
    "duration": 12,
    "start_time": "2022-03-05T13:50:59.274Z"
   },
   {
    "duration": 4,
    "start_time": "2022-03-05T13:50:59.287Z"
   },
   {
    "duration": 4,
    "start_time": "2022-03-05T13:50:59.293Z"
   },
   {
    "duration": 36,
    "start_time": "2022-03-05T13:50:59.300Z"
   },
   {
    "duration": 37,
    "start_time": "2022-03-05T13:50:59.338Z"
   },
   {
    "duration": 17,
    "start_time": "2022-03-05T13:50:59.377Z"
   },
   {
    "duration": 9,
    "start_time": "2022-03-05T13:50:59.395Z"
   },
   {
    "duration": 8,
    "start_time": "2022-03-05T13:50:59.406Z"
   },
   {
    "duration": 26,
    "start_time": "2022-03-05T13:50:59.415Z"
   },
   {
    "duration": 23,
    "start_time": "2022-03-05T13:50:59.443Z"
   },
   {
    "duration": 19,
    "start_time": "2022-03-05T13:50:59.468Z"
   },
   {
    "duration": 11,
    "start_time": "2022-03-05T13:50:59.488Z"
   },
   {
    "duration": 7,
    "start_time": "2022-03-05T13:50:59.501Z"
   },
   {
    "duration": 267,
    "start_time": "2022-03-05T13:51:16.427Z"
   },
   {
    "duration": 635,
    "start_time": "2022-03-05T13:51:30.571Z"
   },
   {
    "duration": 9,
    "start_time": "2022-03-05T13:51:31.209Z"
   },
   {
    "duration": 16,
    "start_time": "2022-03-05T13:51:31.220Z"
   },
   {
    "duration": 41,
    "start_time": "2022-03-05T13:51:31.238Z"
   },
   {
    "duration": 14,
    "start_time": "2022-03-05T13:51:31.282Z"
   },
   {
    "duration": 5,
    "start_time": "2022-03-05T13:51:31.298Z"
   },
   {
    "duration": 10,
    "start_time": "2022-03-05T13:51:31.305Z"
   },
   {
    "duration": 72,
    "start_time": "2022-03-05T13:51:31.318Z"
   },
   {
    "duration": 16,
    "start_time": "2022-03-05T13:51:31.392Z"
   },
   {
    "duration": 25,
    "start_time": "2022-03-05T13:51:31.410Z"
   },
   {
    "duration": 28,
    "start_time": "2022-03-05T13:51:31.437Z"
   },
   {
    "duration": 24,
    "start_time": "2022-03-05T13:51:31.467Z"
   },
   {
    "duration": 24,
    "start_time": "2022-03-05T13:51:31.493Z"
   },
   {
    "duration": 5,
    "start_time": "2022-03-05T13:51:31.519Z"
   },
   {
    "duration": 26,
    "start_time": "2022-03-05T13:51:31.526Z"
   },
   {
    "duration": 12,
    "start_time": "2022-03-05T13:51:31.553Z"
   },
   {
    "duration": 6,
    "start_time": "2022-03-05T13:51:31.566Z"
   },
   {
    "duration": 73,
    "start_time": "2022-03-05T14:01:20.181Z"
   },
   {
    "duration": 97,
    "start_time": "2022-03-05T14:01:48.574Z"
   },
   {
    "duration": 4,
    "start_time": "2022-03-05T14:02:12.239Z"
   },
   {
    "duration": 4,
    "start_time": "2022-03-05T14:02:30.382Z"
   },
   {
    "duration": 4,
    "start_time": "2022-03-05T14:02:36.439Z"
   },
   {
    "duration": 16,
    "start_time": "2022-03-05T14:04:27.324Z"
   },
   {
    "duration": 22,
    "start_time": "2022-03-05T14:04:37.063Z"
   },
   {
    "duration": 20,
    "start_time": "2022-03-05T14:05:06.226Z"
   },
   {
    "duration": 629,
    "start_time": "2022-03-05T14:06:43.260Z"
   },
   {
    "duration": 7,
    "start_time": "2022-03-05T14:06:43.892Z"
   },
   {
    "duration": 16,
    "start_time": "2022-03-05T14:06:43.901Z"
   },
   {
    "duration": 18,
    "start_time": "2022-03-05T14:06:43.919Z"
   },
   {
    "duration": 12,
    "start_time": "2022-03-05T14:06:43.963Z"
   },
   {
    "duration": 4,
    "start_time": "2022-03-05T14:06:43.977Z"
   },
   {
    "duration": 4,
    "start_time": "2022-03-05T14:06:43.983Z"
   },
   {
    "duration": 38,
    "start_time": "2022-03-05T14:06:43.989Z"
   },
   {
    "duration": 37,
    "start_time": "2022-03-05T14:06:44.029Z"
   },
   {
    "duration": 20,
    "start_time": "2022-03-05T14:06:44.068Z"
   },
   {
    "duration": 14,
    "start_time": "2022-03-05T14:06:44.089Z"
   },
   {
    "duration": 30,
    "start_time": "2022-03-05T14:06:44.105Z"
   },
   {
    "duration": 22,
    "start_time": "2022-03-05T14:06:44.136Z"
   },
   {
    "duration": 5,
    "start_time": "2022-03-05T14:06:44.160Z"
   },
   {
    "duration": 20,
    "start_time": "2022-03-05T14:06:44.166Z"
   },
   {
    "duration": 2,
    "start_time": "2022-03-05T14:06:44.187Z"
   },
   {
    "duration": 21,
    "start_time": "2022-03-05T14:06:44.191Z"
   },
   {
    "duration": 282,
    "start_time": "2022-03-05T14:07:14.817Z"
   },
   {
    "duration": 19,
    "start_time": "2022-03-05T14:07:39.947Z"
   },
   {
    "duration": 610,
    "start_time": "2022-03-05T14:24:44.793Z"
   },
   {
    "duration": 8,
    "start_time": "2022-03-05T14:24:45.405Z"
   },
   {
    "duration": 14,
    "start_time": "2022-03-05T14:24:45.415Z"
   },
   {
    "duration": 35,
    "start_time": "2022-03-05T14:24:45.431Z"
   },
   {
    "duration": 13,
    "start_time": "2022-03-05T14:24:45.468Z"
   },
   {
    "duration": 4,
    "start_time": "2022-03-05T14:24:45.483Z"
   },
   {
    "duration": 4,
    "start_time": "2022-03-05T14:24:45.489Z"
   },
   {
    "duration": 43,
    "start_time": "2022-03-05T14:24:45.495Z"
   },
   {
    "duration": 36,
    "start_time": "2022-03-05T14:24:45.540Z"
   },
   {
    "duration": 18,
    "start_time": "2022-03-05T14:24:45.577Z"
   },
   {
    "duration": 10,
    "start_time": "2022-03-05T14:24:45.596Z"
   },
   {
    "duration": 9,
    "start_time": "2022-03-05T14:24:45.608Z"
   },
   {
    "duration": 45,
    "start_time": "2022-03-05T14:24:45.618Z"
   },
   {
    "duration": 5,
    "start_time": "2022-03-05T14:24:45.665Z"
   },
   {
    "duration": 18,
    "start_time": "2022-03-05T14:24:45.672Z"
   },
   {
    "duration": 20,
    "start_time": "2022-03-05T14:24:45.691Z"
   },
   {
    "duration": 630,
    "start_time": "2022-03-05T14:31:00.278Z"
   },
   {
    "duration": 8,
    "start_time": "2022-03-05T14:31:00.910Z"
   },
   {
    "duration": 38,
    "start_time": "2022-03-05T14:31:00.920Z"
   },
   {
    "duration": 53,
    "start_time": "2022-03-05T14:31:00.960Z"
   },
   {
    "duration": 16,
    "start_time": "2022-03-05T14:31:01.015Z"
   },
   {
    "duration": 12,
    "start_time": "2022-03-05T14:31:01.032Z"
   },
   {
    "duration": 25,
    "start_time": "2022-03-05T14:31:01.057Z"
   },
   {
    "duration": 45,
    "start_time": "2022-03-05T14:31:01.084Z"
   },
   {
    "duration": 17,
    "start_time": "2022-03-05T14:31:01.130Z"
   },
   {
    "duration": 26,
    "start_time": "2022-03-05T14:31:01.149Z"
   },
   {
    "duration": 38,
    "start_time": "2022-03-05T14:31:01.177Z"
   },
   {
    "duration": 25,
    "start_time": "2022-03-05T14:31:01.217Z"
   },
   {
    "duration": 42,
    "start_time": "2022-03-05T14:31:01.244Z"
   },
   {
    "duration": 6,
    "start_time": "2022-03-05T14:31:01.288Z"
   },
   {
    "duration": 36,
    "start_time": "2022-03-05T14:31:01.295Z"
   },
   {
    "duration": 21,
    "start_time": "2022-03-05T14:31:01.332Z"
   },
   {
    "duration": 33,
    "start_time": "2022-03-05T14:31:01.355Z"
   },
   {
    "duration": 22,
    "start_time": "2022-03-05T14:31:40.788Z"
   },
   {
    "duration": 23,
    "start_time": "2022-03-05T14:31:59.861Z"
   },
   {
    "duration": 304,
    "start_time": "2022-03-05T14:48:26.578Z"
   },
   {
    "duration": 18,
    "start_time": "2022-03-05T14:48:33.845Z"
   },
   {
    "duration": 83,
    "start_time": "2022-03-05T14:50:11.697Z"
   },
   {
    "duration": 71,
    "start_time": "2022-03-05T14:50:18.479Z"
   },
   {
    "duration": 225,
    "start_time": "2022-03-05T14:50:25.400Z"
   },
   {
    "duration": 14,
    "start_time": "2022-03-05T14:50:34.728Z"
   },
   {
    "duration": 22,
    "start_time": "2022-03-05T14:50:55.313Z"
   },
   {
    "duration": 15,
    "start_time": "2022-03-05T14:52:27.125Z"
   },
   {
    "duration": 15,
    "start_time": "2022-03-05T14:52:51.039Z"
   },
   {
    "duration": 17,
    "start_time": "2022-03-05T14:55:58.632Z"
   },
   {
    "duration": 18,
    "start_time": "2022-03-05T14:59:40.708Z"
   },
   {
    "duration": 18,
    "start_time": "2022-03-05T15:02:48.790Z"
   },
   {
    "duration": 25,
    "start_time": "2022-03-05T15:03:45.408Z"
   },
   {
    "duration": 17,
    "start_time": "2022-03-05T15:04:11.847Z"
   },
   {
    "duration": 17,
    "start_time": "2022-03-05T15:06:08.921Z"
   },
   {
    "duration": 17,
    "start_time": "2022-03-05T15:09:47.243Z"
   },
   {
    "duration": 5,
    "start_time": "2022-03-05T15:11:42.548Z"
   },
   {
    "duration": 19,
    "start_time": "2022-03-05T15:12:21.160Z"
   },
   {
    "duration": 612,
    "start_time": "2022-03-05T15:12:32.022Z"
   },
   {
    "duration": 7,
    "start_time": "2022-03-05T15:12:32.636Z"
   },
   {
    "duration": 28,
    "start_time": "2022-03-05T15:12:32.645Z"
   },
   {
    "duration": 45,
    "start_time": "2022-03-05T15:12:32.674Z"
   },
   {
    "duration": 12,
    "start_time": "2022-03-05T15:12:32.721Z"
   },
   {
    "duration": 18,
    "start_time": "2022-03-05T15:12:32.735Z"
   },
   {
    "duration": 21,
    "start_time": "2022-03-05T15:12:32.755Z"
   },
   {
    "duration": 70,
    "start_time": "2022-03-05T15:12:32.779Z"
   },
   {
    "duration": 26,
    "start_time": "2022-03-05T15:12:32.851Z"
   },
   {
    "duration": 34,
    "start_time": "2022-03-05T15:12:32.879Z"
   },
   {
    "duration": 15,
    "start_time": "2022-03-05T15:12:32.915Z"
   },
   {
    "duration": 13,
    "start_time": "2022-03-05T15:12:32.932Z"
   },
   {
    "duration": 38,
    "start_time": "2022-03-05T15:12:32.947Z"
   },
   {
    "duration": 5,
    "start_time": "2022-03-05T15:12:32.987Z"
   },
   {
    "duration": 27,
    "start_time": "2022-03-05T15:12:32.994Z"
   },
   {
    "duration": 37,
    "start_time": "2022-03-05T15:12:33.023Z"
   },
   {
    "duration": 49,
    "start_time": "2022-03-05T15:12:33.061Z"
   },
   {
    "duration": 28,
    "start_time": "2022-03-05T15:12:33.111Z"
   },
   {
    "duration": 24,
    "start_time": "2022-03-05T15:12:33.141Z"
   },
   {
    "duration": 315,
    "start_time": "2022-03-05T15:12:33.167Z"
   },
   {
    "duration": 18,
    "start_time": "2022-03-05T15:12:45.758Z"
   },
   {
    "duration": 19,
    "start_time": "2022-03-05T15:21:00.074Z"
   },
   {
    "duration": 20,
    "start_time": "2022-03-05T15:21:09.023Z"
   },
   {
    "duration": 696,
    "start_time": "2022-03-05T15:24:30.461Z"
   },
   {
    "duration": 9,
    "start_time": "2022-03-05T15:24:31.159Z"
   },
   {
    "duration": 16,
    "start_time": "2022-03-05T15:24:31.170Z"
   },
   {
    "duration": 31,
    "start_time": "2022-03-05T15:24:31.188Z"
   },
   {
    "duration": 13,
    "start_time": "2022-03-05T15:24:31.221Z"
   },
   {
    "duration": 5,
    "start_time": "2022-03-05T15:24:31.263Z"
   },
   {
    "duration": 8,
    "start_time": "2022-03-05T15:24:31.270Z"
   },
   {
    "duration": 69,
    "start_time": "2022-03-05T15:24:31.280Z"
   },
   {
    "duration": 16,
    "start_time": "2022-03-05T15:24:31.351Z"
   },
   {
    "duration": 39,
    "start_time": "2022-03-05T15:24:31.369Z"
   },
   {
    "duration": 20,
    "start_time": "2022-03-05T15:24:31.410Z"
   },
   {
    "duration": 10,
    "start_time": "2022-03-05T15:24:31.432Z"
   },
   {
    "duration": 26,
    "start_time": "2022-03-05T15:24:31.444Z"
   },
   {
    "duration": 5,
    "start_time": "2022-03-05T15:24:31.472Z"
   },
   {
    "duration": 32,
    "start_time": "2022-03-05T15:24:31.479Z"
   },
   {
    "duration": 19,
    "start_time": "2022-03-05T15:24:31.513Z"
   },
   {
    "duration": 40,
    "start_time": "2022-03-05T15:24:31.534Z"
   },
   {
    "duration": 17,
    "start_time": "2022-03-05T15:24:31.576Z"
   },
   {
    "duration": 5,
    "start_time": "2022-03-05T15:24:31.595Z"
   },
   {
    "duration": 31,
    "start_time": "2022-03-05T15:24:31.601Z"
   },
   {
    "duration": 822,
    "start_time": "2022-03-06T04:53:20.961Z"
   },
   {
    "duration": 10,
    "start_time": "2022-03-06T04:53:21.786Z"
   },
   {
    "duration": 19,
    "start_time": "2022-03-06T04:53:21.799Z"
   },
   {
    "duration": 24,
    "start_time": "2022-03-06T04:53:21.821Z"
   },
   {
    "duration": 49,
    "start_time": "2022-03-06T04:53:21.848Z"
   },
   {
    "duration": 6,
    "start_time": "2022-03-06T04:53:21.899Z"
   },
   {
    "duration": 11,
    "start_time": "2022-03-06T04:53:21.907Z"
   },
   {
    "duration": 80,
    "start_time": "2022-03-06T04:53:21.921Z"
   },
   {
    "duration": 20,
    "start_time": "2022-03-06T04:53:22.004Z"
   },
   {
    "duration": 27,
    "start_time": "2022-03-06T04:53:22.026Z"
   },
   {
    "duration": 39,
    "start_time": "2022-03-06T04:53:22.055Z"
   },
   {
    "duration": 7,
    "start_time": "2022-03-06T04:53:22.097Z"
   },
   {
    "duration": 30,
    "start_time": "2022-03-06T04:53:22.107Z"
   },
   {
    "duration": 8,
    "start_time": "2022-03-06T04:53:22.140Z"
   },
   {
    "duration": 58,
    "start_time": "2022-03-06T04:53:22.151Z"
   },
   {
    "duration": 30,
    "start_time": "2022-03-06T04:53:22.211Z"
   },
   {
    "duration": 67,
    "start_time": "2022-03-06T04:53:22.243Z"
   },
   {
    "duration": 24,
    "start_time": "2022-03-06T04:53:22.313Z"
   },
   {
    "duration": 6,
    "start_time": "2022-03-06T04:53:22.339Z"
   },
   {
    "duration": 58,
    "start_time": "2022-03-06T04:53:22.348Z"
   },
   {
    "duration": 316,
    "start_time": "2022-03-06T05:00:23.867Z"
   },
   {
    "duration": 22,
    "start_time": "2022-03-06T05:00:32.552Z"
   },
   {
    "duration": 23,
    "start_time": "2022-03-06T05:00:54.801Z"
   },
   {
    "duration": 25,
    "start_time": "2022-03-06T05:02:23.268Z"
   },
   {
    "duration": 5688,
    "start_time": "2022-03-06T05:04:48.920Z"
   },
   {
    "duration": 5523,
    "start_time": "2022-03-06T05:05:32.624Z"
   },
   {
    "duration": 25,
    "start_time": "2022-03-06T05:05:53.617Z"
   },
   {
    "duration": 5445,
    "start_time": "2022-03-06T05:07:42.869Z"
   },
   {
    "duration": 8,
    "start_time": "2022-03-06T05:08:17.639Z"
   },
   {
    "duration": 27,
    "start_time": "2022-03-06T05:09:57.596Z"
   },
   {
    "duration": 8,
    "start_time": "2022-03-06T05:11:04.422Z"
   },
   {
    "duration": 11,
    "start_time": "2022-03-06T05:11:18.055Z"
   },
   {
    "duration": 10,
    "start_time": "2022-03-06T05:12:05.040Z"
   },
   {
    "duration": 10,
    "start_time": "2022-03-06T05:12:12.919Z"
   },
   {
    "duration": 24,
    "start_time": "2022-03-06T05:15:09.518Z"
   },
   {
    "duration": 4026,
    "start_time": "2022-03-06T05:15:50.773Z"
   },
   {
    "duration": 26,
    "start_time": "2022-03-06T05:16:23.661Z"
   },
   {
    "duration": 4093,
    "start_time": "2022-03-06T05:17:48.562Z"
   },
   {
    "duration": 26,
    "start_time": "2022-03-06T05:18:17.363Z"
   },
   {
    "duration": 25,
    "start_time": "2022-03-06T05:19:13.536Z"
   },
   {
    "duration": 26,
    "start_time": "2022-03-06T05:19:19.814Z"
   },
   {
    "duration": 277,
    "start_time": "2022-03-06T05:20:01.592Z"
   },
   {
    "duration": 29,
    "start_time": "2022-03-06T05:20:16.944Z"
   },
   {
    "duration": 87,
    "start_time": "2022-03-06T05:20:36.057Z"
   },
   {
    "duration": 28,
    "start_time": "2022-03-06T05:20:41.089Z"
   },
   {
    "duration": 30,
    "start_time": "2022-03-06T05:22:11.494Z"
   },
   {
    "duration": 80,
    "start_time": "2022-03-06T05:24:51.878Z"
   },
   {
    "duration": 28,
    "start_time": "2022-03-06T05:25:07.918Z"
   },
   {
    "duration": 29,
    "start_time": "2022-03-06T05:26:25.651Z"
   },
   {
    "duration": 126,
    "start_time": "2022-03-06T05:27:29.525Z"
   },
   {
    "duration": 29,
    "start_time": "2022-03-06T05:27:38.383Z"
   },
   {
    "duration": 27,
    "start_time": "2022-03-06T05:27:55.726Z"
   },
   {
    "duration": 27,
    "start_time": "2022-03-06T05:30:05.172Z"
   },
   {
    "duration": 28,
    "start_time": "2022-03-06T05:30:21.028Z"
   },
   {
    "duration": 5600,
    "start_time": "2022-03-06T05:33:45.570Z"
   },
   {
    "duration": 74,
    "start_time": "2022-03-06T05:35:23.895Z"
   },
   {
    "duration": 75,
    "start_time": "2022-03-06T05:35:51.821Z"
   },
   {
    "duration": 262,
    "start_time": "2022-03-06T05:36:13.605Z"
   },
   {
    "duration": 77,
    "start_time": "2022-03-06T05:37:43.693Z"
   },
   {
    "duration": 269,
    "start_time": "2022-03-06T05:39:15.365Z"
   },
   {
    "duration": 29,
    "start_time": "2022-03-06T05:39:38.634Z"
   },
   {
    "duration": 28,
    "start_time": "2022-03-06T05:40:54.035Z"
   },
   {
    "duration": 29,
    "start_time": "2022-03-06T05:46:00.398Z"
   },
   {
    "duration": 237,
    "start_time": "2022-03-06T05:47:39.768Z"
   },
   {
    "duration": 256,
    "start_time": "2022-03-06T05:48:13.112Z"
   },
   {
    "duration": 249,
    "start_time": "2022-03-06T05:48:36.146Z"
   },
   {
    "duration": 246,
    "start_time": "2022-03-06T05:49:14.060Z"
   },
   {
    "duration": 220,
    "start_time": "2022-03-06T05:49:21.011Z"
   },
   {
    "duration": 219,
    "start_time": "2022-03-06T05:49:47.636Z"
   },
   {
    "duration": 223,
    "start_time": "2022-03-06T05:51:13.760Z"
   },
   {
    "duration": 233,
    "start_time": "2022-03-06T05:51:27.201Z"
   },
   {
    "duration": 25,
    "start_time": "2022-03-06T05:51:55.042Z"
   },
   {
    "duration": 237,
    "start_time": "2022-03-06T05:53:10.539Z"
   },
   {
    "duration": 29,
    "start_time": "2022-03-06T05:53:24.638Z"
   },
   {
    "duration": 5480,
    "start_time": "2022-03-06T05:55:38.701Z"
   },
   {
    "duration": 29,
    "start_time": "2022-03-06T05:56:22.967Z"
   },
   {
    "duration": 250,
    "start_time": "2022-03-06T05:56:54.320Z"
   },
   {
    "duration": 262,
    "start_time": "2022-03-06T05:57:01.689Z"
   },
   {
    "duration": 31,
    "start_time": "2022-03-06T05:57:14.890Z"
   },
   {
    "duration": 34,
    "start_time": "2022-03-06T05:58:44.487Z"
   },
   {
    "duration": 277,
    "start_time": "2022-03-06T06:00:05.786Z"
   },
   {
    "duration": 287,
    "start_time": "2022-03-06T06:00:25.442Z"
   },
   {
    "duration": 28,
    "start_time": "2022-03-06T06:00:57.276Z"
   },
   {
    "duration": 32,
    "start_time": "2022-03-06T06:04:15.982Z"
   },
   {
    "duration": 74,
    "start_time": "2022-03-06T06:05:28.464Z"
   },
   {
    "duration": 279,
    "start_time": "2022-03-06T06:07:20.713Z"
   },
   {
    "duration": 228,
    "start_time": "2022-03-06T06:08:52.252Z"
   },
   {
    "duration": 261,
    "start_time": "2022-03-06T06:09:01.131Z"
   },
   {
    "duration": 259,
    "start_time": "2022-03-06T06:10:53.633Z"
   },
   {
    "duration": 243,
    "start_time": "2022-03-06T06:11:49.839Z"
   },
   {
    "duration": 25,
    "start_time": "2022-03-06T06:11:59.083Z"
   },
   {
    "duration": 26,
    "start_time": "2022-03-06T06:12:18.436Z"
   },
   {
    "duration": 249,
    "start_time": "2022-03-06T06:13:29.808Z"
   },
   {
    "duration": 41,
    "start_time": "2022-03-06T06:13:40.000Z"
   },
   {
    "duration": 41,
    "start_time": "2022-03-06T06:14:09.773Z"
   },
   {
    "duration": 37,
    "start_time": "2022-03-06T06:15:01.788Z"
   },
   {
    "duration": 266,
    "start_time": "2022-03-06T06:15:58.454Z"
   },
   {
    "duration": 36,
    "start_time": "2022-03-06T06:16:03.062Z"
   },
   {
    "duration": 28,
    "start_time": "2022-03-06T06:21:55.577Z"
   },
   {
    "duration": 30,
    "start_time": "2022-03-06T06:22:39.845Z"
   },
   {
    "duration": 245,
    "start_time": "2022-03-06T06:23:58.653Z"
   },
   {
    "duration": 30,
    "start_time": "2022-03-06T06:24:17.047Z"
   },
   {
    "duration": 43,
    "start_time": "2022-03-06T06:26:43.902Z"
   },
   {
    "duration": 37,
    "start_time": "2022-03-06T06:27:08.118Z"
   },
   {
    "duration": 42,
    "start_time": "2022-03-06T06:27:42.912Z"
   },
   {
    "duration": 31,
    "start_time": "2022-03-06T06:28:48.348Z"
   },
   {
    "duration": 27,
    "start_time": "2022-03-06T06:31:02.036Z"
   },
   {
    "duration": 104,
    "start_time": "2022-03-06T06:32:48.870Z"
   },
   {
    "duration": 31,
    "start_time": "2022-03-06T06:33:34.608Z"
   },
   {
    "duration": 29,
    "start_time": "2022-03-06T06:33:38.128Z"
   },
   {
    "duration": 29,
    "start_time": "2022-03-06T06:33:48.929Z"
   },
   {
    "duration": 119,
    "start_time": "2022-03-06T06:34:35.092Z"
   },
   {
    "duration": 32,
    "start_time": "2022-03-06T06:35:03.229Z"
   },
   {
    "duration": 29,
    "start_time": "2022-03-06T06:35:54.159Z"
   },
   {
    "duration": 31,
    "start_time": "2022-03-06T06:36:13.713Z"
   },
   {
    "duration": 29,
    "start_time": "2022-03-06T06:37:32.550Z"
   },
   {
    "duration": 31,
    "start_time": "2022-03-06T06:38:34.295Z"
   },
   {
    "duration": 30,
    "start_time": "2022-03-06T06:42:28.509Z"
   },
   {
    "duration": 31,
    "start_time": "2022-03-06T06:42:36.578Z"
   },
   {
    "duration": 36,
    "start_time": "2022-03-06T06:42:51.082Z"
   },
   {
    "duration": 819,
    "start_time": "2022-03-06T06:53:41.671Z"
   },
   {
    "duration": 11,
    "start_time": "2022-03-06T06:53:42.493Z"
   },
   {
    "duration": 20,
    "start_time": "2022-03-06T06:53:42.508Z"
   },
   {
    "duration": 57,
    "start_time": "2022-03-06T06:53:42.532Z"
   },
   {
    "duration": 20,
    "start_time": "2022-03-06T06:53:42.592Z"
   },
   {
    "duration": 7,
    "start_time": "2022-03-06T06:53:42.615Z"
   },
   {
    "duration": 5,
    "start_time": "2022-03-06T06:53:42.624Z"
   },
   {
    "duration": 103,
    "start_time": "2022-03-06T06:53:42.635Z"
   },
   {
    "duration": 23,
    "start_time": "2022-03-06T06:53:42.741Z"
   },
   {
    "duration": 25,
    "start_time": "2022-03-06T06:53:42.786Z"
   },
   {
    "duration": 13,
    "start_time": "2022-03-06T06:53:42.813Z"
   },
   {
    "duration": 8,
    "start_time": "2022-03-06T06:53:42.828Z"
   },
   {
    "duration": 59,
    "start_time": "2022-03-06T06:53:42.838Z"
   },
   {
    "duration": 7,
    "start_time": "2022-03-06T06:53:42.899Z"
   },
   {
    "duration": 30,
    "start_time": "2022-03-06T06:53:42.908Z"
   },
   {
    "duration": 48,
    "start_time": "2022-03-06T06:53:42.940Z"
   },
   {
    "duration": 36,
    "start_time": "2022-03-06T06:53:42.991Z"
   },
   {
    "duration": 24,
    "start_time": "2022-03-06T06:53:43.030Z"
   },
   {
    "duration": 53,
    "start_time": "2022-03-06T06:53:43.056Z"
   },
   {
    "duration": 37,
    "start_time": "2022-03-06T06:53:43.112Z"
   },
   {
    "duration": 51,
    "start_time": "2022-03-06T06:53:43.152Z"
   },
   {
    "duration": 28,
    "start_time": "2022-03-06T06:53:43.206Z"
   },
   {
    "duration": 825,
    "start_time": "2022-03-06T07:11:52.456Z"
   },
   {
    "duration": 14,
    "start_time": "2022-03-06T07:11:53.285Z"
   },
   {
    "duration": 28,
    "start_time": "2022-03-06T07:11:53.302Z"
   },
   {
    "duration": 62,
    "start_time": "2022-03-06T07:11:53.333Z"
   },
   {
    "duration": 20,
    "start_time": "2022-03-06T07:11:53.397Z"
   },
   {
    "duration": 6,
    "start_time": "2022-03-06T07:11:53.419Z"
   },
   {
    "duration": 4,
    "start_time": "2022-03-06T07:11:53.427Z"
   },
   {
    "duration": 97,
    "start_time": "2022-03-06T07:11:53.435Z"
   },
   {
    "duration": 21,
    "start_time": "2022-03-06T07:11:53.535Z"
   },
   {
    "duration": 47,
    "start_time": "2022-03-06T07:11:53.558Z"
   },
   {
    "duration": 14,
    "start_time": "2022-03-06T07:11:53.607Z"
   },
   {
    "duration": 11,
    "start_time": "2022-03-06T07:11:53.623Z"
   },
   {
    "duration": 54,
    "start_time": "2022-03-06T07:11:53.636Z"
   },
   {
    "duration": 11,
    "start_time": "2022-03-06T07:11:53.693Z"
   },
   {
    "duration": 30,
    "start_time": "2022-03-06T07:11:53.707Z"
   },
   {
    "duration": 49,
    "start_time": "2022-03-06T07:11:53.739Z"
   },
   {
    "duration": 40,
    "start_time": "2022-03-06T07:11:53.794Z"
   },
   {
    "duration": 23,
    "start_time": "2022-03-06T07:11:53.836Z"
   },
   {
    "duration": 56,
    "start_time": "2022-03-06T07:11:53.862Z"
   },
   {
    "duration": 39,
    "start_time": "2022-03-06T07:11:53.921Z"
   },
   {
    "duration": 54,
    "start_time": "2022-03-06T07:11:53.962Z"
   },
   {
    "duration": 30,
    "start_time": "2022-03-06T07:11:54.019Z"
   },
   {
    "duration": 317,
    "start_time": "2022-03-06T09:43:00.557Z"
   },
   {
    "duration": 785,
    "start_time": "2022-03-06T09:43:19.119Z"
   },
   {
    "duration": 11,
    "start_time": "2022-03-06T09:43:19.906Z"
   },
   {
    "duration": 36,
    "start_time": "2022-03-06T09:43:19.920Z"
   },
   {
    "duration": 24,
    "start_time": "2022-03-06T09:43:19.959Z"
   },
   {
    "duration": 18,
    "start_time": "2022-03-06T09:43:19.986Z"
   },
   {
    "duration": 45,
    "start_time": "2022-03-06T09:43:20.006Z"
   },
   {
    "duration": 5,
    "start_time": "2022-03-06T09:43:20.054Z"
   },
   {
    "duration": 57,
    "start_time": "2022-03-06T09:43:20.063Z"
   },
   {
    "duration": 38,
    "start_time": "2022-03-06T09:43:20.123Z"
   },
   {
    "duration": 23,
    "start_time": "2022-03-06T09:43:20.164Z"
   },
   {
    "duration": 14,
    "start_time": "2022-03-06T09:43:20.189Z"
   },
   {
    "duration": 7,
    "start_time": "2022-03-06T09:43:20.206Z"
   },
   {
    "duration": 31,
    "start_time": "2022-03-06T09:43:20.252Z"
   },
   {
    "duration": 8,
    "start_time": "2022-03-06T09:43:20.285Z"
   },
   {
    "duration": 26,
    "start_time": "2022-03-06T09:43:20.295Z"
   },
   {
    "duration": 57,
    "start_time": "2022-03-06T09:43:20.323Z"
   },
   {
    "duration": 32,
    "start_time": "2022-03-06T09:43:20.382Z"
   },
   {
    "duration": 63,
    "start_time": "2022-03-06T09:43:20.416Z"
   },
   {
    "duration": 25,
    "start_time": "2022-03-06T09:43:20.482Z"
   },
   {
    "duration": 54,
    "start_time": "2022-03-06T09:43:20.509Z"
   },
   {
    "duration": 38,
    "start_time": "2022-03-06T09:43:20.565Z"
   },
   {
    "duration": 49,
    "start_time": "2022-03-06T09:43:20.605Z"
   },
   {
    "duration": 30,
    "start_time": "2022-03-06T09:43:20.657Z"
   },
   {
    "duration": 30,
    "start_time": "2022-03-06T09:43:57.357Z"
   },
   {
    "duration": 39,
    "start_time": "2022-03-06T09:44:47.641Z"
   },
   {
    "duration": 754,
    "start_time": "2022-03-06T09:52:05.990Z"
   },
   {
    "duration": 13,
    "start_time": "2022-03-06T09:52:06.747Z"
   },
   {
    "duration": 29,
    "start_time": "2022-03-06T09:52:06.764Z"
   },
   {
    "duration": 55,
    "start_time": "2022-03-06T09:52:06.796Z"
   },
   {
    "duration": 22,
    "start_time": "2022-03-06T09:52:06.854Z"
   },
   {
    "duration": 6,
    "start_time": "2022-03-06T09:52:06.878Z"
   },
   {
    "duration": 5,
    "start_time": "2022-03-06T09:52:06.887Z"
   },
   {
    "duration": 93,
    "start_time": "2022-03-06T09:52:06.896Z"
   },
   {
    "duration": 21,
    "start_time": "2022-03-06T09:52:06.992Z"
   },
   {
    "duration": 45,
    "start_time": "2022-03-06T09:52:07.015Z"
   },
   {
    "duration": 13,
    "start_time": "2022-03-06T09:52:07.062Z"
   },
   {
    "duration": 13,
    "start_time": "2022-03-06T09:52:07.078Z"
   },
   {
    "duration": 34,
    "start_time": "2022-03-06T09:52:07.093Z"
   },
   {
    "duration": 23,
    "start_time": "2022-03-06T09:52:07.129Z"
   },
   {
    "duration": 46,
    "start_time": "2022-03-06T09:52:07.155Z"
   },
   {
    "duration": 33,
    "start_time": "2022-03-06T09:52:07.204Z"
   },
   {
    "duration": 43,
    "start_time": "2022-03-06T09:52:07.240Z"
   },
   {
    "duration": 24,
    "start_time": "2022-03-06T09:52:07.286Z"
   },
   {
    "duration": 54,
    "start_time": "2022-03-06T09:52:07.312Z"
   },
   {
    "duration": 36,
    "start_time": "2022-03-06T09:52:07.369Z"
   },
   {
    "duration": 52,
    "start_time": "2022-03-06T09:52:07.408Z"
   },
   {
    "duration": 28,
    "start_time": "2022-03-06T09:52:07.463Z"
   },
   {
    "duration": 785,
    "start_time": "2022-03-07T05:27:55.645Z"
   },
   {
    "duration": 10,
    "start_time": "2022-03-07T05:27:56.432Z"
   },
   {
    "duration": 19,
    "start_time": "2022-03-07T05:27:56.445Z"
   },
   {
    "duration": 25,
    "start_time": "2022-03-07T05:27:56.486Z"
   },
   {
    "duration": 18,
    "start_time": "2022-03-07T05:27:56.513Z"
   },
   {
    "duration": 5,
    "start_time": "2022-03-07T05:27:56.533Z"
   },
   {
    "duration": 8,
    "start_time": "2022-03-07T05:27:56.540Z"
   },
   {
    "duration": 58,
    "start_time": "2022-03-07T05:27:56.587Z"
   },
   {
    "duration": 20,
    "start_time": "2022-03-07T05:27:56.648Z"
   },
   {
    "duration": 23,
    "start_time": "2022-03-07T05:27:56.688Z"
   },
   {
    "duration": 14,
    "start_time": "2022-03-07T05:27:56.713Z"
   },
   {
    "duration": 8,
    "start_time": "2022-03-07T05:27:56.729Z"
   },
   {
    "duration": 63,
    "start_time": "2022-03-07T05:27:56.740Z"
   },
   {
    "duration": 7,
    "start_time": "2022-03-07T05:27:56.805Z"
   },
   {
    "duration": 31,
    "start_time": "2022-03-07T05:27:56.814Z"
   },
   {
    "duration": 42,
    "start_time": "2022-03-07T05:27:56.847Z"
   },
   {
    "duration": 37,
    "start_time": "2022-03-07T05:27:56.891Z"
   },
   {
    "duration": 27,
    "start_time": "2022-03-07T05:27:56.930Z"
   },
   {
    "duration": 53,
    "start_time": "2022-03-07T05:27:56.959Z"
   },
   {
    "duration": 37,
    "start_time": "2022-03-07T05:27:57.014Z"
   },
   {
    "duration": 50,
    "start_time": "2022-03-07T05:27:57.053Z"
   },
   {
    "duration": 28,
    "start_time": "2022-03-07T05:27:57.106Z"
   },
   {
    "duration": 27,
    "start_time": "2022-03-07T05:30:20.725Z"
   },
   {
    "duration": 29,
    "start_time": "2022-03-07T05:30:55.165Z"
   },
   {
    "duration": 762,
    "start_time": "2022-03-07T05:40:38.522Z"
   },
   {
    "duration": 11,
    "start_time": "2022-03-07T05:40:39.286Z"
   },
   {
    "duration": 20,
    "start_time": "2022-03-07T05:40:39.300Z"
   },
   {
    "duration": 26,
    "start_time": "2022-03-07T05:40:39.322Z"
   },
   {
    "duration": 51,
    "start_time": "2022-03-07T05:40:39.350Z"
   },
   {
    "duration": 6,
    "start_time": "2022-03-07T05:40:39.403Z"
   },
   {
    "duration": 5,
    "start_time": "2022-03-07T05:40:39.411Z"
   },
   {
    "duration": 90,
    "start_time": "2022-03-07T05:40:39.420Z"
   },
   {
    "duration": 21,
    "start_time": "2022-03-07T05:40:39.513Z"
   },
   {
    "duration": 24,
    "start_time": "2022-03-07T05:40:39.536Z"
   },
   {
    "duration": 33,
    "start_time": "2022-03-07T05:40:39.563Z"
   },
   {
    "duration": 6,
    "start_time": "2022-03-07T05:40:39.598Z"
   },
   {
    "duration": 30,
    "start_time": "2022-03-07T05:40:39.606Z"
   },
   {
    "duration": 7,
    "start_time": "2022-03-07T05:40:39.639Z"
   },
   {
    "duration": 58,
    "start_time": "2022-03-07T05:40:39.648Z"
   },
   {
    "duration": 31,
    "start_time": "2022-03-07T05:40:39.708Z"
   },
   {
    "duration": 63,
    "start_time": "2022-03-07T05:40:39.741Z"
   },
   {
    "duration": 27,
    "start_time": "2022-03-07T05:40:39.806Z"
   },
   {
    "duration": 28,
    "start_time": "2022-03-07T05:40:39.836Z"
   },
   {
    "duration": 38,
    "start_time": "2022-03-07T05:40:39.887Z"
   },
   {
    "duration": 27,
    "start_time": "2022-03-07T05:40:39.927Z"
   },
   {
    "duration": 49,
    "start_time": "2022-03-07T05:40:39.956Z"
   },
   {
    "duration": 29,
    "start_time": "2022-03-07T05:40:59.261Z"
   },
   {
    "duration": 28,
    "start_time": "2022-03-07T05:41:06.854Z"
   },
   {
    "duration": 37,
    "start_time": "2022-03-07T05:41:13.638Z"
   },
   {
    "duration": 66,
    "start_time": "2022-03-07T05:45:23.166Z"
   },
   {
    "duration": 79,
    "start_time": "2022-03-07T05:45:55.884Z"
   },
   {
    "duration": 36,
    "start_time": "2022-03-07T05:46:13.684Z"
   },
   {
    "duration": 35,
    "start_time": "2022-03-07T05:47:05.151Z"
   },
   {
    "duration": 795,
    "start_time": "2022-03-07T05:53:14.277Z"
   },
   {
    "duration": 12,
    "start_time": "2022-03-07T05:53:15.075Z"
   },
   {
    "duration": 27,
    "start_time": "2022-03-07T05:53:15.089Z"
   },
   {
    "duration": 25,
    "start_time": "2022-03-07T05:53:15.118Z"
   },
   {
    "duration": 46,
    "start_time": "2022-03-07T05:53:15.145Z"
   },
   {
    "duration": 5,
    "start_time": "2022-03-07T05:53:15.194Z"
   },
   {
    "duration": 8,
    "start_time": "2022-03-07T05:53:15.202Z"
   },
   {
    "duration": 81,
    "start_time": "2022-03-07T05:53:15.214Z"
   },
   {
    "duration": 21,
    "start_time": "2022-03-07T05:53:15.298Z"
   },
   {
    "duration": 26,
    "start_time": "2022-03-07T05:53:15.321Z"
   },
   {
    "duration": 38,
    "start_time": "2022-03-07T05:53:15.349Z"
   },
   {
    "duration": 7,
    "start_time": "2022-03-07T05:53:15.389Z"
   },
   {
    "duration": 31,
    "start_time": "2022-03-07T05:53:15.399Z"
   },
   {
    "duration": 9,
    "start_time": "2022-03-07T05:53:15.433Z"
   },
   {
    "duration": 59,
    "start_time": "2022-03-07T05:53:15.445Z"
   },
   {
    "duration": 33,
    "start_time": "2022-03-07T05:53:15.507Z"
   },
   {
    "duration": 67,
    "start_time": "2022-03-07T05:53:15.543Z"
   },
   {
    "duration": 28,
    "start_time": "2022-03-07T05:53:15.612Z"
   },
   {
    "duration": 58,
    "start_time": "2022-03-07T05:53:15.643Z"
   },
   {
    "duration": 42,
    "start_time": "2022-03-07T05:53:15.704Z"
   },
   {
    "duration": 61,
    "start_time": "2022-03-07T05:53:15.749Z"
   },
   {
    "duration": 33,
    "start_time": "2022-03-07T05:53:15.813Z"
   },
   {
    "duration": 630,
    "start_time": "2022-03-15T06:42:19.795Z"
   },
   {
    "duration": 9,
    "start_time": "2022-03-15T06:42:20.427Z"
   },
   {
    "duration": 24,
    "start_time": "2022-03-15T06:42:20.439Z"
   },
   {
    "duration": 18,
    "start_time": "2022-03-15T06:42:20.465Z"
   },
   {
    "duration": 14,
    "start_time": "2022-03-15T06:42:20.484Z"
   },
   {
    "duration": 5,
    "start_time": "2022-03-15T06:42:20.500Z"
   },
   {
    "duration": 4,
    "start_time": "2022-03-15T06:42:20.507Z"
   },
   {
    "duration": 81,
    "start_time": "2022-03-15T06:42:20.512Z"
   },
   {
    "duration": 16,
    "start_time": "2022-03-15T06:42:20.597Z"
   },
   {
    "duration": 44,
    "start_time": "2022-03-15T06:42:20.616Z"
   },
   {
    "duration": 12,
    "start_time": "2022-03-15T06:42:20.662Z"
   },
   {
    "duration": 6,
    "start_time": "2022-03-15T06:42:20.676Z"
   },
   {
    "duration": 25,
    "start_time": "2022-03-15T06:42:20.683Z"
   },
   {
    "duration": 7,
    "start_time": "2022-03-15T06:42:20.710Z"
   },
   {
    "duration": 52,
    "start_time": "2022-03-15T06:42:20.719Z"
   },
   {
    "duration": 23,
    "start_time": "2022-03-15T06:42:20.773Z"
   },
   {
    "duration": 25,
    "start_time": "2022-03-15T06:42:20.798Z"
   },
   {
    "duration": 42,
    "start_time": "2022-03-15T06:42:20.825Z"
   },
   {
    "duration": 24,
    "start_time": "2022-03-15T06:42:20.870Z"
   },
   {
    "duration": 28,
    "start_time": "2022-03-15T06:42:20.896Z"
   },
   {
    "duration": 21,
    "start_time": "2022-03-15T06:42:20.958Z"
   },
   {
    "duration": 21,
    "start_time": "2022-03-15T06:42:20.981Z"
   },
   {
    "duration": 734,
    "start_time": "2022-03-15T07:05:37.419Z"
   },
   {
    "duration": 68,
    "start_time": "2022-03-15T07:05:38.156Z"
   },
   {
    "duration": 25,
    "start_time": "2022-03-15T07:05:38.226Z"
   },
   {
    "duration": 4,
    "start_time": "2022-03-15T07:05:38.253Z"
   },
   {
    "duration": 1124,
    "start_time": "2022-03-15T07:05:38.259Z"
   },
   {
    "duration": -96,
    "start_time": "2022-03-15T07:05:39.483Z"
   },
   {
    "duration": -111,
    "start_time": "2022-03-15T07:05:39.499Z"
   },
   {
    "duration": -112,
    "start_time": "2022-03-15T07:05:39.501Z"
   },
   {
    "duration": -111,
    "start_time": "2022-03-15T07:05:39.502Z"
   },
   {
    "duration": -111,
    "start_time": "2022-03-15T07:05:39.503Z"
   },
   {
    "duration": -110,
    "start_time": "2022-03-15T07:05:39.504Z"
   },
   {
    "duration": -111,
    "start_time": "2022-03-15T07:05:39.506Z"
   },
   {
    "duration": -110,
    "start_time": "2022-03-15T07:05:39.507Z"
   },
   {
    "duration": -109,
    "start_time": "2022-03-15T07:05:39.508Z"
   },
   {
    "duration": -109,
    "start_time": "2022-03-15T07:05:39.509Z"
   },
   {
    "duration": -112,
    "start_time": "2022-03-15T07:05:39.514Z"
   },
   {
    "duration": -113,
    "start_time": "2022-03-15T07:05:39.516Z"
   },
   {
    "duration": -113,
    "start_time": "2022-03-15T07:05:39.518Z"
   },
   {
    "duration": -113,
    "start_time": "2022-03-15T07:05:39.520Z"
   },
   {
    "duration": -113,
    "start_time": "2022-03-15T07:05:39.521Z"
   },
   {
    "duration": -116,
    "start_time": "2022-03-15T07:05:39.526Z"
   },
   {
    "duration": -116,
    "start_time": "2022-03-15T07:05:39.527Z"
   },
   {
    "duration": -116,
    "start_time": "2022-03-15T07:05:39.528Z"
   },
   {
    "duration": -115,
    "start_time": "2022-03-15T07:05:39.529Z"
   },
   {
    "duration": 429,
    "start_time": "2022-03-15T07:06:24.473Z"
   },
   {
    "duration": 406,
    "start_time": "2022-03-15T07:08:09.427Z"
   },
   {
    "duration": 413,
    "start_time": "2022-03-15T07:08:36.267Z"
   },
   {
    "duration": 87,
    "start_time": "2022-03-15T07:13:01.354Z"
   },
   {
    "duration": 720,
    "start_time": "2022-03-15T07:14:18.612Z"
   },
   {
    "duration": 68,
    "start_time": "2022-03-15T07:14:19.335Z"
   },
   {
    "duration": 10,
    "start_time": "2022-03-15T07:14:19.405Z"
   },
   {
    "duration": 3,
    "start_time": "2022-03-15T07:14:19.418Z"
   },
   {
    "duration": 453,
    "start_time": "2022-03-15T07:14:19.423Z"
   },
   {
    "duration": 90,
    "start_time": "2022-03-15T07:14:19.878Z"
   },
   {
    "duration": 25,
    "start_time": "2022-03-15T07:14:19.971Z"
   },
   {
    "duration": 18,
    "start_time": "2022-03-15T07:14:19.998Z"
   },
   {
    "duration": 34,
    "start_time": "2022-03-15T07:14:20.020Z"
   },
   {
    "duration": 4,
    "start_time": "2022-03-15T07:14:20.057Z"
   },
   {
    "duration": 56,
    "start_time": "2022-03-15T07:14:20.063Z"
   },
   {
    "duration": 49,
    "start_time": "2022-03-15T07:14:20.121Z"
   },
   {
    "duration": 24,
    "start_time": "2022-03-15T07:14:20.172Z"
   },
   {
    "duration": 14,
    "start_time": "2022-03-15T07:14:20.198Z"
   },
   {
    "duration": 37,
    "start_time": "2022-03-15T07:14:20.215Z"
   },
   {
    "duration": 31,
    "start_time": "2022-03-15T07:14:20.254Z"
   },
   {
    "duration": 7,
    "start_time": "2022-03-15T07:14:20.288Z"
   },
   {
    "duration": 31,
    "start_time": "2022-03-15T07:14:20.297Z"
   },
   {
    "duration": 32,
    "start_time": "2022-03-15T07:14:20.351Z"
   },
   {
    "duration": 37,
    "start_time": "2022-03-15T07:14:20.385Z"
   },
   {
    "duration": 51,
    "start_time": "2022-03-15T07:14:20.425Z"
   },
   {
    "duration": 32,
    "start_time": "2022-03-15T07:14:20.478Z"
   },
   {
    "duration": 66,
    "start_time": "2022-03-15T07:14:20.512Z"
   },
   {
    "duration": 30,
    "start_time": "2022-03-15T07:14:20.581Z"
   },
   {
    "duration": 57,
    "start_time": "2022-03-15T07:14:20.613Z"
   },
   {
    "duration": 78,
    "start_time": "2022-03-15T07:56:56.868Z"
   },
   {
    "duration": 85,
    "start_time": "2022-03-15T07:58:51.520Z"
   },
   {
    "duration": 55,
    "start_time": "2022-03-15T07:58:59.170Z"
   },
   {
    "duration": 754,
    "start_time": "2022-03-15T07:59:06.017Z"
   },
   {
    "duration": 79,
    "start_time": "2022-03-15T07:59:06.774Z"
   },
   {
    "duration": 12,
    "start_time": "2022-03-15T07:59:06.857Z"
   },
   {
    "duration": 4,
    "start_time": "2022-03-15T07:59:06.873Z"
   },
   {
    "duration": 472,
    "start_time": "2022-03-15T07:59:06.879Z"
   },
   {
    "duration": 85,
    "start_time": "2022-03-15T07:59:07.354Z"
   },
   {
    "duration": 32,
    "start_time": "2022-03-15T07:59:07.451Z"
   },
   {
    "duration": 397,
    "start_time": "2022-03-15T07:59:07.489Z"
   },
   {
    "duration": 8,
    "start_time": "2022-03-15T07:59:07.890Z"
   },
   {
    "duration": 22,
    "start_time": "2022-03-15T07:59:07.901Z"
   },
   {
    "duration": 93,
    "start_time": "2022-03-15T07:59:07.926Z"
   },
   {
    "duration": 38,
    "start_time": "2022-03-15T07:59:08.022Z"
   },
   {
    "duration": 57,
    "start_time": "2022-03-15T07:59:08.062Z"
   },
   {
    "duration": 29,
    "start_time": "2022-03-15T07:59:08.123Z"
   },
   {
    "duration": 7,
    "start_time": "2022-03-15T07:59:08.154Z"
   },
   {
    "duration": 60,
    "start_time": "2022-03-15T07:59:08.163Z"
   },
   {
    "duration": 7,
    "start_time": "2022-03-15T07:59:08.226Z"
   },
   {
    "duration": 51,
    "start_time": "2022-03-15T07:59:08.235Z"
   },
   {
    "duration": 31,
    "start_time": "2022-03-15T07:59:08.289Z"
   },
   {
    "duration": 50,
    "start_time": "2022-03-15T07:59:08.324Z"
   },
   {
    "duration": 27,
    "start_time": "2022-03-15T07:59:08.376Z"
   },
   {
    "duration": 58,
    "start_time": "2022-03-15T07:59:08.406Z"
   },
   {
    "duration": 38,
    "start_time": "2022-03-15T07:59:08.468Z"
   },
   {
    "duration": 56,
    "start_time": "2022-03-15T07:59:08.508Z"
   },
   {
    "duration": 28,
    "start_time": "2022-03-15T07:59:08.567Z"
   },
   {
    "duration": 443,
    "start_time": "2022-03-15T08:00:07.686Z"
   },
   {
    "duration": 677,
    "start_time": "2022-03-15T08:00:16.492Z"
   },
   {
    "duration": 68,
    "start_time": "2022-03-15T08:00:17.173Z"
   },
   {
    "duration": 18,
    "start_time": "2022-03-15T08:00:17.244Z"
   },
   {
    "duration": 8,
    "start_time": "2022-03-15T08:00:17.265Z"
   },
   {
    "duration": 455,
    "start_time": "2022-03-15T08:00:17.276Z"
   },
   {
    "duration": 93,
    "start_time": "2022-03-15T08:00:17.734Z"
   },
   {
    "duration": 41,
    "start_time": "2022-03-15T08:00:17.830Z"
   },
   {
    "duration": 17,
    "start_time": "2022-03-15T08:00:17.875Z"
   },
   {
    "duration": 6,
    "start_time": "2022-03-15T08:00:17.895Z"
   },
   {
    "duration": 12,
    "start_time": "2022-03-15T08:00:17.903Z"
   },
   {
    "duration": 58,
    "start_time": "2022-03-15T08:00:17.950Z"
   },
   {
    "duration": 41,
    "start_time": "2022-03-15T08:00:18.011Z"
   },
   {
    "duration": 24,
    "start_time": "2022-03-15T08:00:18.055Z"
   },
   {
    "duration": 14,
    "start_time": "2022-03-15T08:00:18.081Z"
   },
   {
    "duration": 6,
    "start_time": "2022-03-15T08:00:18.097Z"
   },
   {
    "duration": 87,
    "start_time": "2022-03-15T08:00:18.105Z"
   },
   {
    "duration": 22,
    "start_time": "2022-03-15T08:00:18.195Z"
   },
   {
    "duration": 43,
    "start_time": "2022-03-15T08:00:18.219Z"
   },
   {
    "duration": 33,
    "start_time": "2022-03-15T08:00:18.264Z"
   },
   {
    "duration": 66,
    "start_time": "2022-03-15T08:00:18.299Z"
   },
   {
    "duration": 26,
    "start_time": "2022-03-15T08:00:18.368Z"
   },
   {
    "duration": 32,
    "start_time": "2022-03-15T08:00:18.396Z"
   },
   {
    "duration": 38,
    "start_time": "2022-03-15T08:00:18.454Z"
   },
   {
    "duration": 27,
    "start_time": "2022-03-15T08:00:18.495Z"
   },
   {
    "duration": 29,
    "start_time": "2022-03-15T08:00:18.551Z"
   },
   {
    "duration": 383,
    "start_time": "2022-03-15T08:02:38.734Z"
   },
   {
    "duration": 292,
    "start_time": "2022-03-15T08:04:26.312Z"
   },
   {
    "duration": 279,
    "start_time": "2022-03-15T08:05:24.151Z"
   },
   {
    "duration": 242,
    "start_time": "2022-03-15T08:05:32.247Z"
   },
   {
    "duration": 702,
    "start_time": "2022-03-15T08:05:55.778Z"
   },
   {
    "duration": 79,
    "start_time": "2022-03-15T08:05:56.483Z"
   },
   {
    "duration": 13,
    "start_time": "2022-03-15T08:05:56.566Z"
   },
   {
    "duration": 8,
    "start_time": "2022-03-15T08:05:56.582Z"
   },
   {
    "duration": 442,
    "start_time": "2022-03-15T08:05:56.593Z"
   },
   {
    "duration": 92,
    "start_time": "2022-03-15T08:05:57.038Z"
   },
   {
    "duration": 42,
    "start_time": "2022-03-15T08:05:57.132Z"
   },
   {
    "duration": 17,
    "start_time": "2022-03-15T08:05:57.177Z"
   },
   {
    "duration": 7,
    "start_time": "2022-03-15T08:05:57.197Z"
   },
   {
    "duration": 4,
    "start_time": "2022-03-15T08:05:57.207Z"
   },
   {
    "duration": 102,
    "start_time": "2022-03-15T08:05:57.251Z"
   },
   {
    "duration": 29,
    "start_time": "2022-03-15T08:05:57.356Z"
   },
   {
    "duration": 23,
    "start_time": "2022-03-15T08:05:57.387Z"
   },
   {
    "duration": 44,
    "start_time": "2022-03-15T08:05:57.414Z"
   },
   {
    "duration": 9,
    "start_time": "2022-03-15T08:05:57.461Z"
   },
   {
    "duration": 102,
    "start_time": "2022-03-15T08:05:57.473Z"
   },
   {
    "duration": 40,
    "start_time": "2022-03-15T08:05:57.579Z"
   },
   {
    "duration": 57,
    "start_time": "2022-03-15T08:05:57.622Z"
   },
   {
    "duration": 71,
    "start_time": "2022-03-15T08:05:57.682Z"
   },
   {
    "duration": 39,
    "start_time": "2022-03-15T08:05:57.756Z"
   },
   {
    "duration": 28,
    "start_time": "2022-03-15T08:05:57.798Z"
   },
   {
    "duration": 54,
    "start_time": "2022-03-15T08:05:57.829Z"
   },
   {
    "duration": 64,
    "start_time": "2022-03-15T08:05:57.888Z"
   },
   {
    "duration": 30,
    "start_time": "2022-03-15T08:05:57.955Z"
   },
   {
    "duration": 31,
    "start_time": "2022-03-15T08:05:57.988Z"
   },
   {
    "duration": 345,
    "start_time": "2022-03-15T08:06:23.575Z"
   },
   {
    "duration": 770,
    "start_time": "2022-03-15T08:06:30.240Z"
   },
   {
    "duration": 75,
    "start_time": "2022-03-15T08:06:31.013Z"
   },
   {
    "duration": 12,
    "start_time": "2022-03-15T08:06:31.091Z"
   },
   {
    "duration": 25,
    "start_time": "2022-03-15T08:06:31.106Z"
   },
   {
    "duration": 444,
    "start_time": "2022-03-15T08:06:31.134Z"
   },
   {
    "duration": 100,
    "start_time": "2022-03-15T08:06:31.581Z"
   },
   {
    "duration": 26,
    "start_time": "2022-03-15T08:06:31.683Z"
   },
   {
    "duration": 47,
    "start_time": "2022-03-15T08:06:31.712Z"
   },
   {
    "duration": 6,
    "start_time": "2022-03-15T08:06:31.762Z"
   },
   {
    "duration": 7,
    "start_time": "2022-03-15T08:06:31.771Z"
   },
   {
    "duration": 84,
    "start_time": "2022-03-15T08:06:31.780Z"
   },
   {
    "duration": 21,
    "start_time": "2022-03-15T08:06:31.866Z"
   },
   {
    "duration": 50,
    "start_time": "2022-03-15T08:06:31.889Z"
   },
   {
    "duration": 20,
    "start_time": "2022-03-15T08:06:31.942Z"
   },
   {
    "duration": 8,
    "start_time": "2022-03-15T08:06:31.965Z"
   },
   {
    "duration": 81,
    "start_time": "2022-03-15T08:06:31.976Z"
   },
   {
    "duration": 31,
    "start_time": "2022-03-15T08:06:32.060Z"
   },
   {
    "duration": 59,
    "start_time": "2022-03-15T08:06:32.094Z"
   },
   {
    "duration": 35,
    "start_time": "2022-03-15T08:06:32.156Z"
   },
   {
    "duration": 67,
    "start_time": "2022-03-15T08:06:32.193Z"
   },
   {
    "duration": 26,
    "start_time": "2022-03-15T08:06:32.263Z"
   },
   {
    "duration": 32,
    "start_time": "2022-03-15T08:06:32.292Z"
   },
   {
    "duration": 57,
    "start_time": "2022-03-15T08:06:32.328Z"
   },
   {
    "duration": 30,
    "start_time": "2022-03-15T08:06:32.387Z"
   },
   {
    "duration": 59,
    "start_time": "2022-03-15T08:06:32.419Z"
   },
   {
    "duration": 33,
    "start_time": "2022-03-15T08:08:51.588Z"
   },
   {
    "duration": 823,
    "start_time": "2022-03-15T08:11:57.014Z"
   },
   {
    "duration": 66,
    "start_time": "2022-03-15T08:11:57.839Z"
   },
   {
    "duration": 10,
    "start_time": "2022-03-15T08:11:57.912Z"
   },
   {
    "duration": 26,
    "start_time": "2022-03-15T08:11:57.925Z"
   },
   {
    "duration": 431,
    "start_time": "2022-03-15T08:11:57.954Z"
   },
   {
    "duration": 97,
    "start_time": "2022-03-15T08:11:58.388Z"
   },
   {
    "duration": 27,
    "start_time": "2022-03-15T08:11:58.489Z"
   },
   {
    "duration": 38,
    "start_time": "2022-03-15T08:11:58.519Z"
   },
   {
    "duration": 6,
    "start_time": "2022-03-15T08:11:58.559Z"
   },
   {
    "duration": 6,
    "start_time": "2022-03-15T08:11:58.568Z"
   },
   {
    "duration": 83,
    "start_time": "2022-03-15T08:11:58.576Z"
   },
   {
    "duration": 23,
    "start_time": "2022-03-15T08:11:58.662Z"
   },
   {
    "duration": 26,
    "start_time": "2022-03-15T08:11:58.687Z"
   },
   {
    "duration": 41,
    "start_time": "2022-03-15T08:11:58.715Z"
   },
   {
    "duration": 6,
    "start_time": "2022-03-15T08:11:58.759Z"
   },
   {
    "duration": 50,
    "start_time": "2022-03-15T08:11:58.767Z"
   },
   {
    "duration": 52,
    "start_time": "2022-03-15T08:11:58.819Z"
   },
   {
    "duration": 32,
    "start_time": "2022-03-15T08:11:58.873Z"
   },
   {
    "duration": 57,
    "start_time": "2022-03-15T08:11:58.907Z"
   },
   {
    "duration": 43,
    "start_time": "2022-03-15T08:11:58.967Z"
   },
   {
    "duration": 58,
    "start_time": "2022-03-15T08:11:59.013Z"
   },
   {
    "duration": 32,
    "start_time": "2022-03-15T08:11:59.077Z"
   },
   {
    "duration": 58,
    "start_time": "2022-03-15T08:11:59.112Z"
   },
   {
    "duration": 29,
    "start_time": "2022-03-15T08:11:59.173Z"
   },
   {
    "duration": 54,
    "start_time": "2022-03-15T08:11:59.204Z"
   },
   {
    "duration": 767,
    "start_time": "2022-03-15T08:17:00.158Z"
   },
   {
    "duration": 75,
    "start_time": "2022-03-15T08:17:00.927Z"
   },
   {
    "duration": 11,
    "start_time": "2022-03-15T08:17:01.005Z"
   },
   {
    "duration": 32,
    "start_time": "2022-03-15T08:17:01.019Z"
   },
   {
    "duration": 459,
    "start_time": "2022-03-15T08:17:01.054Z"
   },
   {
    "duration": 99,
    "start_time": "2022-03-15T08:17:01.515Z"
   },
   {
    "duration": 44,
    "start_time": "2022-03-15T08:17:01.617Z"
   },
   {
    "duration": 19,
    "start_time": "2022-03-15T08:17:01.665Z"
   },
   {
    "duration": 6,
    "start_time": "2022-03-15T08:17:01.687Z"
   },
   {
    "duration": 5,
    "start_time": "2022-03-15T08:17:01.696Z"
   },
   {
    "duration": 98,
    "start_time": "2022-03-15T08:17:01.704Z"
   },
   {
    "duration": 23,
    "start_time": "2022-03-15T08:17:01.805Z"
   },
   {
    "duration": 29,
    "start_time": "2022-03-15T08:17:01.851Z"
   },
   {
    "duration": 15,
    "start_time": "2022-03-15T08:17:01.883Z"
   },
   {
    "duration": 9,
    "start_time": "2022-03-15T08:17:01.901Z"
   },
   {
    "duration": 75,
    "start_time": "2022-03-15T08:17:01.912Z"
   },
   {
    "duration": 28,
    "start_time": "2022-03-15T08:17:01.990Z"
   },
   {
    "duration": 46,
    "start_time": "2022-03-15T08:17:02.021Z"
   },
   {
    "duration": 33,
    "start_time": "2022-03-15T08:17:02.070Z"
   },
   {
    "duration": 69,
    "start_time": "2022-03-15T08:17:02.105Z"
   },
   {
    "duration": 27,
    "start_time": "2022-03-15T08:17:02.176Z"
   },
   {
    "duration": 63,
    "start_time": "2022-03-15T08:17:02.205Z"
   },
   {
    "duration": 33,
    "start_time": "2022-03-15T08:17:02.272Z"
   },
   {
    "duration": 52,
    "start_time": "2022-03-15T08:17:02.307Z"
   },
   {
    "duration": 31,
    "start_time": "2022-03-15T08:17:02.362Z"
   }
  ],
  "kernelspec": {
   "display_name": "Python 3 (ipykernel)",
   "language": "python",
   "name": "python3"
  },
  "language_info": {
   "codemirror_mode": {
    "name": "ipython",
    "version": 3
   },
   "file_extension": ".py",
   "mimetype": "text/x-python",
   "name": "python",
   "nbconvert_exporter": "python",
   "pygments_lexer": "ipython3",
   "version": "3.9.7"
  },
  "toc": {
   "base_numbering": 1,
   "nav_menu": {},
   "number_sections": true,
   "sideBar": true,
   "skip_h1_title": true,
   "title_cell": "Table of Contents",
   "title_sidebar": "Contents",
   "toc_cell": false,
   "toc_position": {},
   "toc_section_display": true,
   "toc_window_display": false
  }
 },
 "nbformat": 4,
 "nbformat_minor": 5
}
