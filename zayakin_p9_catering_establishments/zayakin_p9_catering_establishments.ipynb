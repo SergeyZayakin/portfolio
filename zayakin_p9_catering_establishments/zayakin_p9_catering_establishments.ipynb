{
  "cells": [
    {
      "cell_type": "markdown",
      "metadata": {
        "id": "_ELj-yX6-vgU"
      },
      "source": [
        "# Рынок заведений общественного питания Москвы"
      ]
    },
    {
      "cell_type": "markdown",
      "metadata": {
        "id": "SleiFnHa-vgb"
      },
      "source": [
        "<br/>\n",
        "    \n",
        "<div class=\"alert alert-info\">\n",
        "<h2> Привет!<a class=\"tocSkip\"></h2>\n",
        "<hr>  \n",
        "Я - Сергей. Рад что ты читаешь это текст :) Сделаю пару ремарок общего характера. В описании выполняемых действий, комментариях, я использую местоимение 'мы', так как считаю что ты - ревьювер, проверя код становиться моим соучастником ('соучавствующие программирование') и мы вместе проходим по пути исследования. Да и сформировлась привычка так писать в ходе написания научных работ.   \n",
        "NB! - так помечаю важные на мой взгдял идеи, которые стоит взять на заметку; инсайты, проработка которых требует большего знания предметной области.   \n",
        "Надеюсь мои многословные комментарии тебя не утомят.    \n",
        "</div>\n",
        "    \n",
        "<br/>"
      ]
    },
    {
      "cell_type": "markdown",
      "metadata": {
        "id": "UAilO-Jc-vgc"
      },
      "source": [
        "# Оглавление"
      ]
    },
    {
      "cell_type": "markdown",
      "metadata": {
        "id": "f1bOuD7b-vgd"
      },
      "source": [
        "[1  Описание проекта](#description)    \n",
        "[2  Загрузка, предобработка и исследовательский анализ данных](#preparing)    \n",
        "[3  Анализ данных](#analysis)    \n",
        "[3.1  Соотношение типов объектов общественного питания по количеству](#type)    \n",
        "[3.2  Соотношение сетевых и несетевых заведений по количеству](#network)    \n",
        "[3.3  Среднее количество посадочных мест](#avg)    \n",
        "[3.4  География московского общепита](#geo)    \n",
        "[4  Вывод](#summary)    \n",
        "[5  Презентация](#presentation)"
      ]
    },
    {
      "cell_type": "markdown",
      "metadata": {
        "id": "prZFOE1M-vge"
      },
      "source": [
        "## Описание проекта  <a id=\"description\"></a>"
      ]
    },
    {
      "cell_type": "markdown",
      "metadata": {
        "id": "gpS6XgQ9-vge"
      },
      "source": [
        "Вы решили открыть небольшое кафе в Москве. Оно оригинальное — гостей должны обслуживать роботы. Проект многообещающий, но дорогой. Вместе с партнёрами вы решились обратиться к инвесторам. Их интересует текущее положение дел на рынке — сможете ли вы снискать популярность на долгое время, когда все зеваки насмотрятся на роботов-официантов?   \n",
        "\n",
        "**Описание данных** \n",
        "\n",
        "Таблица rest_data:   \n",
        "**id** — идентификатор объекта;   \n",
        "**object_name** — название объекта общественного питания;  \n",
        "**chain** — сетевой ресторан;  \n",
        "**object_type** — тип объекта общественного питания;  \n",
        "**address** — адрес;  \n",
        "**number** — количество посадочных мест.  "
      ]
    },
    {
      "cell_type": "markdown",
      "metadata": {
        "id": "yPHFz_WM-vgf"
      },
      "source": [
        "---"
      ]
    },
    {
      "cell_type": "markdown",
      "metadata": {
        "id": "tP5ITgXQ-vgg"
      },
      "source": [
        "## Загрузка, предобработка и исследовательский анализ данных <a id=\"preparing\"></a>"
      ]
    },
    {
      "cell_type": "code",
      "execution_count": null,
      "metadata": {
        "id": "Uubr3IJj-vgh",
        "outputId": "ae82ffbe-f6b8-4938-d8ca-6f0ba88f30d8",
        "colab": {
          "base_uri": "https://localhost:8080/"
        }
      },
      "outputs": [
        {
          "output_type": "stream",
          "name": "stdout",
          "text": [
            "Looking in indexes: https://pypi.org/simple, https://us-python.pkg.dev/colab-wheels/public/simple/\n",
            "Collecting plotly.express\n",
            "  Downloading plotly_express-0.4.1-py2.py3-none-any.whl (2.9 kB)\n",
            "Requirement already satisfied: scipy>=0.18 in /usr/local/lib/python3.7/dist-packages (from plotly.express) (1.7.3)\n",
            "Requirement already satisfied: statsmodels>=0.9.0 in /usr/local/lib/python3.7/dist-packages (from plotly.express) (0.10.2)\n",
            "Requirement already satisfied: plotly>=4.1.0 in /usr/local/lib/python3.7/dist-packages (from plotly.express) (5.5.0)\n",
            "Requirement already satisfied: numpy>=1.11 in /usr/local/lib/python3.7/dist-packages (from plotly.express) (1.21.6)\n",
            "Requirement already satisfied: patsy>=0.5 in /usr/local/lib/python3.7/dist-packages (from plotly.express) (0.5.2)\n",
            "Requirement already satisfied: pandas>=0.20.0 in /usr/local/lib/python3.7/dist-packages (from plotly.express) (1.3.5)\n",
            "Requirement already satisfied: pytz>=2017.3 in /usr/local/lib/python3.7/dist-packages (from pandas>=0.20.0->plotly.express) (2022.1)\n",
            "Requirement already satisfied: python-dateutil>=2.7.3 in /usr/local/lib/python3.7/dist-packages (from pandas>=0.20.0->plotly.express) (2.8.2)\n",
            "Requirement already satisfied: six in /usr/local/lib/python3.7/dist-packages (from patsy>=0.5->plotly.express) (1.15.0)\n",
            "Requirement already satisfied: tenacity>=6.2.0 in /usr/local/lib/python3.7/dist-packages (from plotly>=4.1.0->plotly.express) (8.0.1)\n",
            "Installing collected packages: plotly.express\n",
            "Successfully installed plotly.express-0.4.1\n"
          ]
        }
      ],
      "source": [
        "# Загрузим необходимые библиотеки\n",
        "!pip install plotly.express\n",
        "import pandas as pd\n",
        "import numpy as np\n",
        "import seaborn as sns\n",
        "import plotly.express as px\n",
        "from plotly import graph_objects as go\n",
        "import matplotlib.pyplot as plt\n",
        "import re # Для работы с регулярными выражениями"
      ]
    },
    {
      "cell_type": "code",
      "execution_count": null,
      "metadata": {
        "id": "l2hvQi1F-vgj",
        "outputId": "9fec8e29-9741-47b0-9258-7d218f3e853d",
        "colab": {
          "base_uri": "https://localhost:8080/",
          "height": 206
        }
      },
      "outputs": [
        {
          "output_type": "display_data",
          "data": {
            "text/plain": [
              "       id             object_name chain object_type  \\\n",
              "0  151635                 СМЕТАНА   нет        кафе   \n",
              "1   77874                  Родник   нет        кафе   \n",
              "2   24309         Кафе «Академия»   нет        кафе   \n",
              "3   21894              ПИЦЦЕТОРИЯ    да        кафе   \n",
              "4  119365  Кафе «Вишневая метель»   нет        кафе   \n",
              "\n",
              "                                             address  number  \n",
              "0         город Москва, улица Егора Абакумова, дом 9      48  \n",
              "1  город Москва, улица Талалихина, дом 2/1, корпус 1      35  \n",
              "2          город Москва, Абельмановская улица, дом 6      95  \n",
              "3            город Москва, Абрамцевская улица, дом 1      40  \n",
              "4  город Москва, Абрамцевская улица, дом 9, корпус 1      50  "
            ],
            "text/html": [
              "\n",
              "  <div id=\"df-b6b54ed5-b413-4aee-8719-dd4357e4badb\">\n",
              "    <div class=\"colab-df-container\">\n",
              "      <div>\n",
              "<style scoped>\n",
              "    .dataframe tbody tr th:only-of-type {\n",
              "        vertical-align: middle;\n",
              "    }\n",
              "\n",
              "    .dataframe tbody tr th {\n",
              "        vertical-align: top;\n",
              "    }\n",
              "\n",
              "    .dataframe thead th {\n",
              "        text-align: right;\n",
              "    }\n",
              "</style>\n",
              "<table border=\"1\" class=\"dataframe\">\n",
              "  <thead>\n",
              "    <tr style=\"text-align: right;\">\n",
              "      <th></th>\n",
              "      <th>id</th>\n",
              "      <th>object_name</th>\n",
              "      <th>chain</th>\n",
              "      <th>object_type</th>\n",
              "      <th>address</th>\n",
              "      <th>number</th>\n",
              "    </tr>\n",
              "  </thead>\n",
              "  <tbody>\n",
              "    <tr>\n",
              "      <th>0</th>\n",
              "      <td>151635</td>\n",
              "      <td>СМЕТАНА</td>\n",
              "      <td>нет</td>\n",
              "      <td>кафе</td>\n",
              "      <td>город Москва, улица Егора Абакумова, дом 9</td>\n",
              "      <td>48</td>\n",
              "    </tr>\n",
              "    <tr>\n",
              "      <th>1</th>\n",
              "      <td>77874</td>\n",
              "      <td>Родник</td>\n",
              "      <td>нет</td>\n",
              "      <td>кафе</td>\n",
              "      <td>город Москва, улица Талалихина, дом 2/1, корпус 1</td>\n",
              "      <td>35</td>\n",
              "    </tr>\n",
              "    <tr>\n",
              "      <th>2</th>\n",
              "      <td>24309</td>\n",
              "      <td>Кафе «Академия»</td>\n",
              "      <td>нет</td>\n",
              "      <td>кафе</td>\n",
              "      <td>город Москва, Абельмановская улица, дом 6</td>\n",
              "      <td>95</td>\n",
              "    </tr>\n",
              "    <tr>\n",
              "      <th>3</th>\n",
              "      <td>21894</td>\n",
              "      <td>ПИЦЦЕТОРИЯ</td>\n",
              "      <td>да</td>\n",
              "      <td>кафе</td>\n",
              "      <td>город Москва, Абрамцевская улица, дом 1</td>\n",
              "      <td>40</td>\n",
              "    </tr>\n",
              "    <tr>\n",
              "      <th>4</th>\n",
              "      <td>119365</td>\n",
              "      <td>Кафе «Вишневая метель»</td>\n",
              "      <td>нет</td>\n",
              "      <td>кафе</td>\n",
              "      <td>город Москва, Абрамцевская улица, дом 9, корпус 1</td>\n",
              "      <td>50</td>\n",
              "    </tr>\n",
              "  </tbody>\n",
              "</table>\n",
              "</div>\n",
              "      <button class=\"colab-df-convert\" onclick=\"convertToInteractive('df-b6b54ed5-b413-4aee-8719-dd4357e4badb')\"\n",
              "              title=\"Convert this dataframe to an interactive table.\"\n",
              "              style=\"display:none;\">\n",
              "        \n",
              "  <svg xmlns=\"http://www.w3.org/2000/svg\" height=\"24px\"viewBox=\"0 0 24 24\"\n",
              "       width=\"24px\">\n",
              "    <path d=\"M0 0h24v24H0V0z\" fill=\"none\"/>\n",
              "    <path d=\"M18.56 5.44l.94 2.06.94-2.06 2.06-.94-2.06-.94-.94-2.06-.94 2.06-2.06.94zm-11 1L8.5 8.5l.94-2.06 2.06-.94-2.06-.94L8.5 2.5l-.94 2.06-2.06.94zm10 10l.94 2.06.94-2.06 2.06-.94-2.06-.94-.94-2.06-.94 2.06-2.06.94z\"/><path d=\"M17.41 7.96l-1.37-1.37c-.4-.4-.92-.59-1.43-.59-.52 0-1.04.2-1.43.59L10.3 9.45l-7.72 7.72c-.78.78-.78 2.05 0 2.83L4 21.41c.39.39.9.59 1.41.59.51 0 1.02-.2 1.41-.59l7.78-7.78 2.81-2.81c.8-.78.8-2.07 0-2.86zM5.41 20L4 18.59l7.72-7.72 1.47 1.35L5.41 20z\"/>\n",
              "  </svg>\n",
              "      </button>\n",
              "      \n",
              "  <style>\n",
              "    .colab-df-container {\n",
              "      display:flex;\n",
              "      flex-wrap:wrap;\n",
              "      gap: 12px;\n",
              "    }\n",
              "\n",
              "    .colab-df-convert {\n",
              "      background-color: #E8F0FE;\n",
              "      border: none;\n",
              "      border-radius: 50%;\n",
              "      cursor: pointer;\n",
              "      display: none;\n",
              "      fill: #1967D2;\n",
              "      height: 32px;\n",
              "      padding: 0 0 0 0;\n",
              "      width: 32px;\n",
              "    }\n",
              "\n",
              "    .colab-df-convert:hover {\n",
              "      background-color: #E2EBFA;\n",
              "      box-shadow: 0px 1px 2px rgba(60, 64, 67, 0.3), 0px 1px 3px 1px rgba(60, 64, 67, 0.15);\n",
              "      fill: #174EA6;\n",
              "    }\n",
              "\n",
              "    [theme=dark] .colab-df-convert {\n",
              "      background-color: #3B4455;\n",
              "      fill: #D2E3FC;\n",
              "    }\n",
              "\n",
              "    [theme=dark] .colab-df-convert:hover {\n",
              "      background-color: #434B5C;\n",
              "      box-shadow: 0px 1px 3px 1px rgba(0, 0, 0, 0.15);\n",
              "      filter: drop-shadow(0px 1px 2px rgba(0, 0, 0, 0.3));\n",
              "      fill: #FFFFFF;\n",
              "    }\n",
              "  </style>\n",
              "\n",
              "      <script>\n",
              "        const buttonEl =\n",
              "          document.querySelector('#df-b6b54ed5-b413-4aee-8719-dd4357e4badb button.colab-df-convert');\n",
              "        buttonEl.style.display =\n",
              "          google.colab.kernel.accessAllowed ? 'block' : 'none';\n",
              "\n",
              "        async function convertToInteractive(key) {\n",
              "          const element = document.querySelector('#df-b6b54ed5-b413-4aee-8719-dd4357e4badb');\n",
              "          const dataTable =\n",
              "            await google.colab.kernel.invokeFunction('convertToInteractive',\n",
              "                                                     [key], {});\n",
              "          if (!dataTable) return;\n",
              "\n",
              "          const docLinkHtml = 'Like what you see? Visit the ' +\n",
              "            '<a target=\"_blank\" href=https://colab.research.google.com/notebooks/data_table.ipynb>data table notebook</a>'\n",
              "            + ' to learn more about interactive tables.';\n",
              "          element.innerHTML = '';\n",
              "          dataTable['output_type'] = 'display_data';\n",
              "          await google.colab.output.renderOutput(dataTable, element);\n",
              "          const docLink = document.createElement('div');\n",
              "          docLink.innerHTML = docLinkHtml;\n",
              "          element.appendChild(docLink);\n",
              "        }\n",
              "      </script>\n",
              "    </div>\n",
              "  </div>\n",
              "  "
            ]
          },
          "metadata": {}
        }
      ],
      "source": [
        "# Загрузим данные в датафрейм rest_data\n",
        "# Импорт библиотек\n",
        "from io import BytesIO\n",
        "import requests\n",
        "spreadsheet_id = '1LOF07PD14C8CeqdCGhDCxdlxGjcz6khslpUro8Ij8IM'\n",
        "file_name = 'https://docs.google.com/spreadsheets/d/{}/export?format=csv'.format(spreadsheet_id)\n",
        "r = requests.get(file_name)\n",
        "rest_data = pd.read_csv(BytesIO(r.content))\n",
        "display(rest_data.head()) # Выведим первые 5 строк датасета"
      ]
    },
    {
      "cell_type": "code",
      "execution_count": null,
      "metadata": {
        "id": "TdhMWjXU-vgk",
        "outputId": "9dcd2b7c-53b3-4ad7-8c8e-4df733281a0b",
        "colab": {
          "base_uri": "https://localhost:8080/"
        }
      },
      "outputs": [
        {
          "output_type": "stream",
          "name": "stdout",
          "text": [
            "<class 'pandas.core.frame.DataFrame'>\n",
            "RangeIndex: 15366 entries, 0 to 15365\n",
            "Data columns (total 6 columns):\n",
            " #   Column       Non-Null Count  Dtype \n",
            "---  ------       --------------  ----- \n",
            " 0   id           15366 non-null  int64 \n",
            " 1   object_name  15366 non-null  object\n",
            " 2   chain        15366 non-null  object\n",
            " 3   object_type  15366 non-null  object\n",
            " 4   address      15366 non-null  object\n",
            " 5   number       15366 non-null  int64 \n",
            "dtypes: int64(2), object(4)\n",
            "memory usage: 720.4+ KB\n"
          ]
        }
      ],
      "source": [
        "rest_data.info() #Изучим данные"
      ]
    },
    {
      "cell_type": "code",
      "execution_count": null,
      "metadata": {
        "id": "N03dGOqt-vgl",
        "outputId": "69f5d2a1-1c43-44e1-f3a0-a2844055c956",
        "colab": {
          "base_uri": "https://localhost:8080/"
        }
      },
      "outputs": [
        {
          "output_type": "execute_result",
          "data": {
            "text/plain": [
              "id             0\n",
              "object_name    0\n",
              "chain          0\n",
              "object_type    0\n",
              "address        0\n",
              "number         0\n",
              "dtype: int64"
            ]
          },
          "metadata": {},
          "execution_count": 4
        }
      ],
      "source": [
        "# Проверим дубликаты\n",
        "rest_data[rest_data.duplicated()].count()"
      ]
    },
    {
      "cell_type": "code",
      "execution_count": null,
      "metadata": {
        "id": "QLMYsLdL-vgl",
        "outputId": "e6ab922e-ee65-4fda-e80c-1b3ef547e8d7",
        "colab": {
          "base_uri": "https://localhost:8080/",
          "height": 424
        }
      },
      "outputs": [
        {
          "output_type": "execute_result",
          "data": {
            "text/plain": [
              "           id   object_name chain                        object_type  \\\n",
              "2869    25031  LALTRO BOSCO   нет                           ресторан   \n",
              "13858  209723  LALTRO BOSCO   нет                           ресторан   \n",
              "5059    20021          LIFT   нет                               кафе   \n",
              "5069    20025          LIFT   нет                               кафе   \n",
              "5067    20023          LIFT   нет                               кафе   \n",
              "...       ...           ...   ...                                ...   \n",
              "14119  222452        Шаурма   нет  предприятие быстрого обслуживания   \n",
              "10750  173706        Шаурма   нет  предприятие быстрого обслуживания   \n",
              "11520  183275        Шаурма   нет  предприятие быстрого обслуживания   \n",
              "14376  217108         Шурма   нет  предприятие быстрого обслуживания   \n",
              "14379  217555         Шурма   нет  предприятие быстрого обслуживания   \n",
              "\n",
              "                                                 address  number  \n",
              "2869                город Москва, улица Петровка, дом 10     145  \n",
              "13858               город Москва, улица Петровка, дом 10     145  \n",
              "5059   город Москва, Багратионовский проезд, дом 7, к...      20  \n",
              "5069   город Москва, Багратионовский проезд, дом 7, к...      10  \n",
              "5067   город Москва, Багратионовский проезд, дом 7, к...      10  \n",
              "...                                                  ...     ...  \n",
              "14119  город Москва, улица Сущёвский Вал, дом 5, стро...       1  \n",
              "10750      город Москва, Бескудниковский бульвар, дом 12       0  \n",
              "11520  город Москва, Ореховый бульвар, дом 14, корпус...       0  \n",
              "14376             город Москва, Ярцевская улица, дом 25А       0  \n",
              "14379             город Москва, Ярцевская улица, дом 25А       0  \n",
              "\n",
              "[144 rows x 6 columns]"
            ],
            "text/html": [
              "\n",
              "  <div id=\"df-4dab1b08-8291-4b12-842d-4fb476c24f50\">\n",
              "    <div class=\"colab-df-container\">\n",
              "      <div>\n",
              "<style scoped>\n",
              "    .dataframe tbody tr th:only-of-type {\n",
              "        vertical-align: middle;\n",
              "    }\n",
              "\n",
              "    .dataframe tbody tr th {\n",
              "        vertical-align: top;\n",
              "    }\n",
              "\n",
              "    .dataframe thead th {\n",
              "        text-align: right;\n",
              "    }\n",
              "</style>\n",
              "<table border=\"1\" class=\"dataframe\">\n",
              "  <thead>\n",
              "    <tr style=\"text-align: right;\">\n",
              "      <th></th>\n",
              "      <th>id</th>\n",
              "      <th>object_name</th>\n",
              "      <th>chain</th>\n",
              "      <th>object_type</th>\n",
              "      <th>address</th>\n",
              "      <th>number</th>\n",
              "    </tr>\n",
              "  </thead>\n",
              "  <tbody>\n",
              "    <tr>\n",
              "      <th>2869</th>\n",
              "      <td>25031</td>\n",
              "      <td>LALTRO BOSCO</td>\n",
              "      <td>нет</td>\n",
              "      <td>ресторан</td>\n",
              "      <td>город Москва, улица Петровка, дом 10</td>\n",
              "      <td>145</td>\n",
              "    </tr>\n",
              "    <tr>\n",
              "      <th>13858</th>\n",
              "      <td>209723</td>\n",
              "      <td>LALTRO BOSCO</td>\n",
              "      <td>нет</td>\n",
              "      <td>ресторан</td>\n",
              "      <td>город Москва, улица Петровка, дом 10</td>\n",
              "      <td>145</td>\n",
              "    </tr>\n",
              "    <tr>\n",
              "      <th>5059</th>\n",
              "      <td>20021</td>\n",
              "      <td>LIFT</td>\n",
              "      <td>нет</td>\n",
              "      <td>кафе</td>\n",
              "      <td>город Москва, Багратионовский проезд, дом 7, к...</td>\n",
              "      <td>20</td>\n",
              "    </tr>\n",
              "    <tr>\n",
              "      <th>5069</th>\n",
              "      <td>20025</td>\n",
              "      <td>LIFT</td>\n",
              "      <td>нет</td>\n",
              "      <td>кафе</td>\n",
              "      <td>город Москва, Багратионовский проезд, дом 7, к...</td>\n",
              "      <td>10</td>\n",
              "    </tr>\n",
              "    <tr>\n",
              "      <th>5067</th>\n",
              "      <td>20023</td>\n",
              "      <td>LIFT</td>\n",
              "      <td>нет</td>\n",
              "      <td>кафе</td>\n",
              "      <td>город Москва, Багратионовский проезд, дом 7, к...</td>\n",
              "      <td>10</td>\n",
              "    </tr>\n",
              "    <tr>\n",
              "      <th>...</th>\n",
              "      <td>...</td>\n",
              "      <td>...</td>\n",
              "      <td>...</td>\n",
              "      <td>...</td>\n",
              "      <td>...</td>\n",
              "      <td>...</td>\n",
              "    </tr>\n",
              "    <tr>\n",
              "      <th>14119</th>\n",
              "      <td>222452</td>\n",
              "      <td>Шаурма</td>\n",
              "      <td>нет</td>\n",
              "      <td>предприятие быстрого обслуживания</td>\n",
              "      <td>город Москва, улица Сущёвский Вал, дом 5, стро...</td>\n",
              "      <td>1</td>\n",
              "    </tr>\n",
              "    <tr>\n",
              "      <th>10750</th>\n",
              "      <td>173706</td>\n",
              "      <td>Шаурма</td>\n",
              "      <td>нет</td>\n",
              "      <td>предприятие быстрого обслуживания</td>\n",
              "      <td>город Москва, Бескудниковский бульвар, дом 12</td>\n",
              "      <td>0</td>\n",
              "    </tr>\n",
              "    <tr>\n",
              "      <th>11520</th>\n",
              "      <td>183275</td>\n",
              "      <td>Шаурма</td>\n",
              "      <td>нет</td>\n",
              "      <td>предприятие быстрого обслуживания</td>\n",
              "      <td>город Москва, Ореховый бульвар, дом 14, корпус...</td>\n",
              "      <td>0</td>\n",
              "    </tr>\n",
              "    <tr>\n",
              "      <th>14376</th>\n",
              "      <td>217108</td>\n",
              "      <td>Шурма</td>\n",
              "      <td>нет</td>\n",
              "      <td>предприятие быстрого обслуживания</td>\n",
              "      <td>город Москва, Ярцевская улица, дом 25А</td>\n",
              "      <td>0</td>\n",
              "    </tr>\n",
              "    <tr>\n",
              "      <th>14379</th>\n",
              "      <td>217555</td>\n",
              "      <td>Шурма</td>\n",
              "      <td>нет</td>\n",
              "      <td>предприятие быстрого обслуживания</td>\n",
              "      <td>город Москва, Ярцевская улица, дом 25А</td>\n",
              "      <td>0</td>\n",
              "    </tr>\n",
              "  </tbody>\n",
              "</table>\n",
              "<p>144 rows × 6 columns</p>\n",
              "</div>\n",
              "      <button class=\"colab-df-convert\" onclick=\"convertToInteractive('df-4dab1b08-8291-4b12-842d-4fb476c24f50')\"\n",
              "              title=\"Convert this dataframe to an interactive table.\"\n",
              "              style=\"display:none;\">\n",
              "        \n",
              "  <svg xmlns=\"http://www.w3.org/2000/svg\" height=\"24px\"viewBox=\"0 0 24 24\"\n",
              "       width=\"24px\">\n",
              "    <path d=\"M0 0h24v24H0V0z\" fill=\"none\"/>\n",
              "    <path d=\"M18.56 5.44l.94 2.06.94-2.06 2.06-.94-2.06-.94-.94-2.06-.94 2.06-2.06.94zm-11 1L8.5 8.5l.94-2.06 2.06-.94-2.06-.94L8.5 2.5l-.94 2.06-2.06.94zm10 10l.94 2.06.94-2.06 2.06-.94-2.06-.94-.94-2.06-.94 2.06-2.06.94z\"/><path d=\"M17.41 7.96l-1.37-1.37c-.4-.4-.92-.59-1.43-.59-.52 0-1.04.2-1.43.59L10.3 9.45l-7.72 7.72c-.78.78-.78 2.05 0 2.83L4 21.41c.39.39.9.59 1.41.59.51 0 1.02-.2 1.41-.59l7.78-7.78 2.81-2.81c.8-.78.8-2.07 0-2.86zM5.41 20L4 18.59l7.72-7.72 1.47 1.35L5.41 20z\"/>\n",
              "  </svg>\n",
              "      </button>\n",
              "      \n",
              "  <style>\n",
              "    .colab-df-container {\n",
              "      display:flex;\n",
              "      flex-wrap:wrap;\n",
              "      gap: 12px;\n",
              "    }\n",
              "\n",
              "    .colab-df-convert {\n",
              "      background-color: #E8F0FE;\n",
              "      border: none;\n",
              "      border-radius: 50%;\n",
              "      cursor: pointer;\n",
              "      display: none;\n",
              "      fill: #1967D2;\n",
              "      height: 32px;\n",
              "      padding: 0 0 0 0;\n",
              "      width: 32px;\n",
              "    }\n",
              "\n",
              "    .colab-df-convert:hover {\n",
              "      background-color: #E2EBFA;\n",
              "      box-shadow: 0px 1px 2px rgba(60, 64, 67, 0.3), 0px 1px 3px 1px rgba(60, 64, 67, 0.15);\n",
              "      fill: #174EA6;\n",
              "    }\n",
              "\n",
              "    [theme=dark] .colab-df-convert {\n",
              "      background-color: #3B4455;\n",
              "      fill: #D2E3FC;\n",
              "    }\n",
              "\n",
              "    [theme=dark] .colab-df-convert:hover {\n",
              "      background-color: #434B5C;\n",
              "      box-shadow: 0px 1px 3px 1px rgba(0, 0, 0, 0.15);\n",
              "      filter: drop-shadow(0px 1px 2px rgba(0, 0, 0, 0.3));\n",
              "      fill: #FFFFFF;\n",
              "    }\n",
              "  </style>\n",
              "\n",
              "      <script>\n",
              "        const buttonEl =\n",
              "          document.querySelector('#df-4dab1b08-8291-4b12-842d-4fb476c24f50 button.colab-df-convert');\n",
              "        buttonEl.style.display =\n",
              "          google.colab.kernel.accessAllowed ? 'block' : 'none';\n",
              "\n",
              "        async function convertToInteractive(key) {\n",
              "          const element = document.querySelector('#df-4dab1b08-8291-4b12-842d-4fb476c24f50');\n",
              "          const dataTable =\n",
              "            await google.colab.kernel.invokeFunction('convertToInteractive',\n",
              "                                                     [key], {});\n",
              "          if (!dataTable) return;\n",
              "\n",
              "          const docLinkHtml = 'Like what you see? Visit the ' +\n",
              "            '<a target=\"_blank\" href=https://colab.research.google.com/notebooks/data_table.ipynb>data table notebook</a>'\n",
              "            + ' to learn more about interactive tables.';\n",
              "          element.innerHTML = '';\n",
              "          dataTable['output_type'] = 'display_data';\n",
              "          await google.colab.output.renderOutput(dataTable, element);\n",
              "          const docLink = document.createElement('div');\n",
              "          docLink.innerHTML = docLinkHtml;\n",
              "          element.appendChild(docLink);\n",
              "        }\n",
              "      </script>\n",
              "    </div>\n",
              "  </div>\n",
              "  "
            ]
          },
          "metadata": {},
          "execution_count": 5
        }
      ],
      "source": [
        "# Код ревьюера\n",
        "\n",
        "rest_data[rest_data.drop('id', axis=1).duplicated(keep=False)].sort_values(by='object_name')"
      ]
    },
    {
      "cell_type": "markdown",
      "metadata": {
        "id": "MaVt0JxR-vgm"
      },
      "source": [
        "**Выводы 1:**   \n",
        "* В датафремем 15366 записей (наблюдений) и 6 колонок.  \n",
        "* Пропущенных значений нет.   \n",
        "* Типы данных в колонках соответствуют содержащихся в них данным.  \n",
        "* Заглавия колонок соотвествуют \"хорошему тону\".  \n",
        "* Дублирующих записей (дубликатов) - нет."
      ]
    },
    {
      "cell_type": "code",
      "execution_count": null,
      "metadata": {
        "id": "xZkKN3lj-vgm",
        "outputId": "7f393942-b494-4e98-82aa-263f5d4d489f",
        "colab": {
          "base_uri": "https://localhost:8080/"
        }
      },
      "outputs": [
        {
          "output_type": "execute_result",
          "data": {
            "text/plain": [
              "Столовая                   267\n",
              "Кафе                       236\n",
              "Шаурма                     234\n",
              "KFC                        155\n",
              "Шоколадница                142\n",
              "                          ... \n",
              "Столовая ТЦ «Энтузиаст»      1\n",
              "Охунова У.Д.                 1\n",
              "СОК ООО АВТОКОМБИНАТ 3       1\n",
              "АВТОКОМБИНАТ 3               1\n",
              "Кальянная «Мята Lounge»      1\n",
              "Name: object_name, Length: 10393, dtype: int64"
            ]
          },
          "metadata": {},
          "execution_count": 6
        }
      ],
      "source": [
        "# Посмотрим уникальные значений в каждой из колонок, кроме id - где все значений уникальны\n",
        "rest_data['object_name'].value_counts()"
      ]
    },
    {
      "cell_type": "code",
      "execution_count": null,
      "metadata": {
        "id": "GbqRINqk-vgn",
        "outputId": "8ba772d7-e50f-4f3e-cb4f-df31445b5503",
        "colab": {
          "base_uri": "https://localhost:8080/"
        }
      },
      "outputs": [
        {
          "output_type": "execute_result",
          "data": {
            "text/plain": [
              "нет    12398\n",
              "да      2968\n",
              "Name: chain, dtype: int64"
            ]
          },
          "metadata": {},
          "execution_count": 7
        }
      ],
      "source": [
        "rest_data['chain'].value_counts()"
      ]
    },
    {
      "cell_type": "code",
      "execution_count": null,
      "metadata": {
        "id": "wS2g5Cag-vgo",
        "outputId": "0ea0c3be-74e6-438e-8e7a-6af072be3ba6",
        "colab": {
          "base_uri": "https://localhost:8080/"
        }
      },
      "outputs": [
        {
          "output_type": "execute_result",
          "data": {
            "text/plain": [
              "кафе                                 6099\n",
              "столовая                             2587\n",
              "ресторан                             2285\n",
              "предприятие быстрого обслуживания    1923\n",
              "бар                                   856\n",
              "буфет                                 585\n",
              "кафетерий                             398\n",
              "закусочная                            360\n",
              "магазин (отдел кулинарии)             273\n",
              "Name: object_type, dtype: int64"
            ]
          },
          "metadata": {},
          "execution_count": 8
        }
      ],
      "source": [
        "rest_data['object_type'].value_counts()"
      ]
    },
    {
      "cell_type": "code",
      "execution_count": null,
      "metadata": {
        "id": "HDxWDNMY-vgo",
        "outputId": "2aba32f1-ff2b-463f-eb98-5f4123392863",
        "colab": {
          "base_uri": "https://localhost:8080/"
        }
      },
      "outputs": [
        {
          "output_type": "execute_result",
          "data": {
            "text/plain": [
              "город Москва, Ходынский бульвар, дом 4                     95\n",
              "город Москва, Пресненская набережная, дом 2                63\n",
              "город Москва, проспект Мира, дом 211, корпус 2             60\n",
              "город Москва, Кировоградская улица, дом 13А                53\n",
              "город Москва, площадь Киевского Вокзала, дом 2             48\n",
              "                                                           ..\n",
              "город Москва, проспект Мира, дом 87                         1\n",
              "город Москва, Новомосковская улица, дом 15А, строение 1     1\n",
              "город Москва, улица Кондратюка, дом 5                       1\n",
              "город Москва, 1-я Останкинская улица, дом 29                1\n",
              "город Москва, улица Новый Арбат, дом 13                     1\n",
              "Name: address, Length: 9108, dtype: int64"
            ]
          },
          "metadata": {},
          "execution_count": 9
        }
      ],
      "source": [
        "rest_data['address'].value_counts()"
      ]
    },
    {
      "cell_type": "code",
      "execution_count": null,
      "metadata": {
        "id": "9uM2xGM9-vgp",
        "outputId": "57ae88ca-998e-41d4-fa75-5c60d895db98",
        "colab": {
          "base_uri": "https://localhost:8080/"
        }
      },
      "outputs": [
        {
          "output_type": "execute_result",
          "data": {
            "text/plain": [
              "0      1621\n",
              "40      835\n",
              "20      727\n",
              "30      685\n",
              "10      644\n",
              "       ... \n",
              "229       1\n",
              "356       1\n",
              "481       1\n",
              "167       1\n",
              "119       1\n",
              "Name: number, Length: 315, dtype: int64"
            ]
          },
          "metadata": {},
          "execution_count": 10
        }
      ],
      "source": [
        "rest_data['number'].value_counts()"
      ]
    },
    {
      "cell_type": "code",
      "execution_count": null,
      "metadata": {
        "id": "JHVUxmB--vgp",
        "outputId": "b900f098-3759-4474-d24c-b122d98e8414",
        "colab": {
          "base_uri": "https://localhost:8080/"
        }
      },
      "outputs": [
        {
          "output_type": "execute_result",
          "data": {
            "text/plain": [
              "count    15366.000000\n",
              "mean        59.547182\n",
              "std         74.736833\n",
              "min          0.000000\n",
              "25%         12.000000\n",
              "50%         40.000000\n",
              "75%         80.000000\n",
              "max       1700.000000\n",
              "Name: number, dtype: float64"
            ]
          },
          "metadata": {},
          "execution_count": 11
        }
      ],
      "source": [
        "rest_data['number'].describe()"
      ]
    },
    {
      "cell_type": "markdown",
      "metadata": {
        "id": "fv-yJNuF-vgp"
      },
      "source": [
        "**Выводы 2:**  \n",
        "* У московского общепита популярны родовые названия  \"Столовая\", \"Кафе\" и \"Шаурма\", или названия, относящие заведения к известным сетям  - KFC и \"Шоколадница\" (видимо эти сети самые обширные).  \n",
        "* Сетевых заведений в почти в 4,2 раза меньше чем несетевых.  \n",
        "* Наиболее распрастранённые типы заведений это кафе, столовая, ресторан и фастфуд (предпряития бысторого питания). \n",
        "* В Москве есть огоромные гастроклатеры, в основном это торгово-развлекательные центры:  \n",
        "в ТРЦ \"Авапарк\" (Ходынский бульвар, дом 4) 95 заведений общепита,    \n",
        "в ТРЦ \"Афимолл Сити\" (Пресненская набережная, дом 2) - 63,  \n",
        "в ТЦ \"Европолис\" (проспект Мира, дом 211, корпус 2) - 60,   \n",
        "в ТРЦ Columbus (Кировоградская улица, дом 13А) - 53,  \n",
        "в ТРЦ \"Европейский\" (площадь Киевского Вокзала, дом 2) - 48.  \n",
        "* Больше число заведений не имеют посадочных мест - еда на вынос. Средние число посадочных мест - 59.55, медианное (что вернее) - 40. Максимальное  - 1700 .\n",
        "\n"
      ]
    },
    {
      "cell_type": "markdown",
      "metadata": {
        "id": "chAO-tcx-vgq"
      },
      "source": [
        "---"
      ]
    },
    {
      "cell_type": "markdown",
      "metadata": {
        "id": "fZ_7kiku-vgq"
      },
      "source": [
        "## Анализ данных  <a id=\"analysis\"></a>"
      ]
    },
    {
      "cell_type": "markdown",
      "metadata": {
        "id": "ANv7UoEl-vgr"
      },
      "source": [
        "### Соотношение типов объектов общественного питания по количеству<a id=\"type\"></a>"
      ]
    },
    {
      "cell_type": "code",
      "execution_count": null,
      "metadata": {
        "id": "QvoGg5ug-vgr",
        "outputId": "457ff831-b184-49a1-8ac8-d765589a7080",
        "colab": {
          "base_uri": "https://localhost:8080/",
          "height": 542
        }
      },
      "outputs": [
        {
          "output_type": "display_data",
          "data": {
            "text/html": [
              "<html>\n",
              "<head><meta charset=\"utf-8\" /></head>\n",
              "<body>\n",
              "    <div>            <script src=\"https://cdnjs.cloudflare.com/ajax/libs/mathjax/2.7.5/MathJax.js?config=TeX-AMS-MML_SVG\"></script><script type=\"text/javascript\">if (window.MathJax) {MathJax.Hub.Config({SVG: {font: \"STIX-Web\"}});}</script>                <script type=\"text/javascript\">window.PlotlyConfig = {MathJaxConfig: 'local'};</script>\n",
              "        <script src=\"https://cdn.plot.ly/plotly-2.8.3.min.js\"></script>                <div id=\"71931619-5373-4282-a3ff-dd339f2a03a9\" class=\"plotly-graph-div\" style=\"height:525px; width:100%;\"></div>            <script type=\"text/javascript\">                                    window.PLOTLYENV=window.PLOTLYENV || {};                                    if (document.getElementById(\"71931619-5373-4282-a3ff-dd339f2a03a9\")) {                    Plotly.newPlot(                        \"71931619-5373-4282-a3ff-dd339f2a03a9\",                        [{\"alignmentgroup\":\"True\",\"hovertemplate\":\"\\u0422\\u0438\\u043f \\u043e\\u0431\\u044a\\u0435\\u043a\\u0442\\u0430=%{x}<br>\\u041a\\u043e\\u043b\\u0438\\u0447\\u0435\\u0441\\u0442\\u0432\\u043e \\u043e\\u0431\\u044a\\u0435\\u043a\\u0442\\u043e\\u0432, \\u0435\\u0434.=%{text}<extra></extra>\",\"legendgroup\":\"\",\"marker\":{\"color\":\"#636efa\",\"pattern\":{\"shape\":\"\"}},\"name\":\"\",\"offsetgroup\":\"\",\"orientation\":\"v\",\"showlegend\":false,\"text\":[6099.0,2587.0,2285.0,1923.0,856.0,585.0,398.0,360.0,273.0],\"textposition\":\"outside\",\"x\":[\"\\u043a\\u0430\\u0444\\u0435\",\"\\u0441\\u0442\\u043e\\u043b\\u043e\\u0432\\u0430\\u044f\",\"\\u0440\\u0435\\u0441\\u0442\\u043e\\u0440\\u0430\\u043d\",\"\\u043f\\u0440\\u0435\\u0434\\u043f\\u0440\\u0438\\u044f\\u0442\\u0438\\u0435 \\u0431\\u044b\\u0441\\u0442\\u0440\\u043e\\u0433\\u043e \\u043e\\u0431\\u0441\\u043b\\u0443\\u0436\\u0438\\u0432\\u0430\\u043d\\u0438\\u044f\",\"\\u0431\\u0430\\u0440\",\"\\u0431\\u0443\\u0444\\u0435\\u0442\",\"\\u043a\\u0430\\u0444\\u0435\\u0442\\u0435\\u0440\\u0438\\u0439\",\"\\u0437\\u0430\\u043a\\u0443\\u0441\\u043e\\u0447\\u043d\\u0430\\u044f\",\"\\u043c\\u0430\\u0433\\u0430\\u0437\\u0438\\u043d (\\u043e\\u0442\\u0434\\u0435\\u043b \\u043a\\u0443\\u043b\\u0438\\u043d\\u0430\\u0440\\u0438\\u0438)\"],\"xaxis\":\"x\",\"y\":[6099,2587,2285,1923,856,585,398,360,273],\"yaxis\":\"y\",\"type\":\"bar\"}],                        {\"template\":{\"data\":{\"bar\":[{\"error_x\":{\"color\":\"#2a3f5f\"},\"error_y\":{\"color\":\"#2a3f5f\"},\"marker\":{\"line\":{\"color\":\"#E5ECF6\",\"width\":0.5},\"pattern\":{\"fillmode\":\"overlay\",\"size\":10,\"solidity\":0.2}},\"type\":\"bar\"}],\"barpolar\":[{\"marker\":{\"line\":{\"color\":\"#E5ECF6\",\"width\":0.5},\"pattern\":{\"fillmode\":\"overlay\",\"size\":10,\"solidity\":0.2}},\"type\":\"barpolar\"}],\"carpet\":[{\"aaxis\":{\"endlinecolor\":\"#2a3f5f\",\"gridcolor\":\"white\",\"linecolor\":\"white\",\"minorgridcolor\":\"white\",\"startlinecolor\":\"#2a3f5f\"},\"baxis\":{\"endlinecolor\":\"#2a3f5f\",\"gridcolor\":\"white\",\"linecolor\":\"white\",\"minorgridcolor\":\"white\",\"startlinecolor\":\"#2a3f5f\"},\"type\":\"carpet\"}],\"choropleth\":[{\"colorbar\":{\"outlinewidth\":0,\"ticks\":\"\"},\"type\":\"choropleth\"}],\"contour\":[{\"colorbar\":{\"outlinewidth\":0,\"ticks\":\"\"},\"colorscale\":[[0.0,\"#0d0887\"],[0.1111111111111111,\"#46039f\"],[0.2222222222222222,\"#7201a8\"],[0.3333333333333333,\"#9c179e\"],[0.4444444444444444,\"#bd3786\"],[0.5555555555555556,\"#d8576b\"],[0.6666666666666666,\"#ed7953\"],[0.7777777777777778,\"#fb9f3a\"],[0.8888888888888888,\"#fdca26\"],[1.0,\"#f0f921\"]],\"type\":\"contour\"}],\"contourcarpet\":[{\"colorbar\":{\"outlinewidth\":0,\"ticks\":\"\"},\"type\":\"contourcarpet\"}],\"heatmap\":[{\"colorbar\":{\"outlinewidth\":0,\"ticks\":\"\"},\"colorscale\":[[0.0,\"#0d0887\"],[0.1111111111111111,\"#46039f\"],[0.2222222222222222,\"#7201a8\"],[0.3333333333333333,\"#9c179e\"],[0.4444444444444444,\"#bd3786\"],[0.5555555555555556,\"#d8576b\"],[0.6666666666666666,\"#ed7953\"],[0.7777777777777778,\"#fb9f3a\"],[0.8888888888888888,\"#fdca26\"],[1.0,\"#f0f921\"]],\"type\":\"heatmap\"}],\"heatmapgl\":[{\"colorbar\":{\"outlinewidth\":0,\"ticks\":\"\"},\"colorscale\":[[0.0,\"#0d0887\"],[0.1111111111111111,\"#46039f\"],[0.2222222222222222,\"#7201a8\"],[0.3333333333333333,\"#9c179e\"],[0.4444444444444444,\"#bd3786\"],[0.5555555555555556,\"#d8576b\"],[0.6666666666666666,\"#ed7953\"],[0.7777777777777778,\"#fb9f3a\"],[0.8888888888888888,\"#fdca26\"],[1.0,\"#f0f921\"]],\"type\":\"heatmapgl\"}],\"histogram\":[{\"marker\":{\"pattern\":{\"fillmode\":\"overlay\",\"size\":10,\"solidity\":0.2}},\"type\":\"histogram\"}],\"histogram2d\":[{\"colorbar\":{\"outlinewidth\":0,\"ticks\":\"\"},\"colorscale\":[[0.0,\"#0d0887\"],[0.1111111111111111,\"#46039f\"],[0.2222222222222222,\"#7201a8\"],[0.3333333333333333,\"#9c179e\"],[0.4444444444444444,\"#bd3786\"],[0.5555555555555556,\"#d8576b\"],[0.6666666666666666,\"#ed7953\"],[0.7777777777777778,\"#fb9f3a\"],[0.8888888888888888,\"#fdca26\"],[1.0,\"#f0f921\"]],\"type\":\"histogram2d\"}],\"histogram2dcontour\":[{\"colorbar\":{\"outlinewidth\":0,\"ticks\":\"\"},\"colorscale\":[[0.0,\"#0d0887\"],[0.1111111111111111,\"#46039f\"],[0.2222222222222222,\"#7201a8\"],[0.3333333333333333,\"#9c179e\"],[0.4444444444444444,\"#bd3786\"],[0.5555555555555556,\"#d8576b\"],[0.6666666666666666,\"#ed7953\"],[0.7777777777777778,\"#fb9f3a\"],[0.8888888888888888,\"#fdca26\"],[1.0,\"#f0f921\"]],\"type\":\"histogram2dcontour\"}],\"mesh3d\":[{\"colorbar\":{\"outlinewidth\":0,\"ticks\":\"\"},\"type\":\"mesh3d\"}],\"parcoords\":[{\"line\":{\"colorbar\":{\"outlinewidth\":0,\"ticks\":\"\"}},\"type\":\"parcoords\"}],\"pie\":[{\"automargin\":true,\"type\":\"pie\"}],\"scatter\":[{\"marker\":{\"colorbar\":{\"outlinewidth\":0,\"ticks\":\"\"}},\"type\":\"scatter\"}],\"scatter3d\":[{\"line\":{\"colorbar\":{\"outlinewidth\":0,\"ticks\":\"\"}},\"marker\":{\"colorbar\":{\"outlinewidth\":0,\"ticks\":\"\"}},\"type\":\"scatter3d\"}],\"scattercarpet\":[{\"marker\":{\"colorbar\":{\"outlinewidth\":0,\"ticks\":\"\"}},\"type\":\"scattercarpet\"}],\"scattergeo\":[{\"marker\":{\"colorbar\":{\"outlinewidth\":0,\"ticks\":\"\"}},\"type\":\"scattergeo\"}],\"scattergl\":[{\"marker\":{\"colorbar\":{\"outlinewidth\":0,\"ticks\":\"\"}},\"type\":\"scattergl\"}],\"scattermapbox\":[{\"marker\":{\"colorbar\":{\"outlinewidth\":0,\"ticks\":\"\"}},\"type\":\"scattermapbox\"}],\"scatterpolar\":[{\"marker\":{\"colorbar\":{\"outlinewidth\":0,\"ticks\":\"\"}},\"type\":\"scatterpolar\"}],\"scatterpolargl\":[{\"marker\":{\"colorbar\":{\"outlinewidth\":0,\"ticks\":\"\"}},\"type\":\"scatterpolargl\"}],\"scatterternary\":[{\"marker\":{\"colorbar\":{\"outlinewidth\":0,\"ticks\":\"\"}},\"type\":\"scatterternary\"}],\"surface\":[{\"colorbar\":{\"outlinewidth\":0,\"ticks\":\"\"},\"colorscale\":[[0.0,\"#0d0887\"],[0.1111111111111111,\"#46039f\"],[0.2222222222222222,\"#7201a8\"],[0.3333333333333333,\"#9c179e\"],[0.4444444444444444,\"#bd3786\"],[0.5555555555555556,\"#d8576b\"],[0.6666666666666666,\"#ed7953\"],[0.7777777777777778,\"#fb9f3a\"],[0.8888888888888888,\"#fdca26\"],[1.0,\"#f0f921\"]],\"type\":\"surface\"}],\"table\":[{\"cells\":{\"fill\":{\"color\":\"#EBF0F8\"},\"line\":{\"color\":\"white\"}},\"header\":{\"fill\":{\"color\":\"#C8D4E3\"},\"line\":{\"color\":\"white\"}},\"type\":\"table\"}]},\"layout\":{\"annotationdefaults\":{\"arrowcolor\":\"#2a3f5f\",\"arrowhead\":0,\"arrowwidth\":1},\"autotypenumbers\":\"strict\",\"coloraxis\":{\"colorbar\":{\"outlinewidth\":0,\"ticks\":\"\"}},\"colorscale\":{\"diverging\":[[0,\"#8e0152\"],[0.1,\"#c51b7d\"],[0.2,\"#de77ae\"],[0.3,\"#f1b6da\"],[0.4,\"#fde0ef\"],[0.5,\"#f7f7f7\"],[0.6,\"#e6f5d0\"],[0.7,\"#b8e186\"],[0.8,\"#7fbc41\"],[0.9,\"#4d9221\"],[1,\"#276419\"]],\"sequential\":[[0.0,\"#0d0887\"],[0.1111111111111111,\"#46039f\"],[0.2222222222222222,\"#7201a8\"],[0.3333333333333333,\"#9c179e\"],[0.4444444444444444,\"#bd3786\"],[0.5555555555555556,\"#d8576b\"],[0.6666666666666666,\"#ed7953\"],[0.7777777777777778,\"#fb9f3a\"],[0.8888888888888888,\"#fdca26\"],[1.0,\"#f0f921\"]],\"sequentialminus\":[[0.0,\"#0d0887\"],[0.1111111111111111,\"#46039f\"],[0.2222222222222222,\"#7201a8\"],[0.3333333333333333,\"#9c179e\"],[0.4444444444444444,\"#bd3786\"],[0.5555555555555556,\"#d8576b\"],[0.6666666666666666,\"#ed7953\"],[0.7777777777777778,\"#fb9f3a\"],[0.8888888888888888,\"#fdca26\"],[1.0,\"#f0f921\"]]},\"colorway\":[\"#636efa\",\"#EF553B\",\"#00cc96\",\"#ab63fa\",\"#FFA15A\",\"#19d3f3\",\"#FF6692\",\"#B6E880\",\"#FF97FF\",\"#FECB52\"],\"font\":{\"color\":\"#2a3f5f\"},\"geo\":{\"bgcolor\":\"white\",\"lakecolor\":\"white\",\"landcolor\":\"#E5ECF6\",\"showlakes\":true,\"showland\":true,\"subunitcolor\":\"white\"},\"hoverlabel\":{\"align\":\"left\"},\"hovermode\":\"closest\",\"mapbox\":{\"style\":\"light\"},\"paper_bgcolor\":\"white\",\"plot_bgcolor\":\"#E5ECF6\",\"polar\":{\"angularaxis\":{\"gridcolor\":\"white\",\"linecolor\":\"white\",\"ticks\":\"\"},\"bgcolor\":\"#E5ECF6\",\"radialaxis\":{\"gridcolor\":\"white\",\"linecolor\":\"white\",\"ticks\":\"\"}},\"scene\":{\"xaxis\":{\"backgroundcolor\":\"#E5ECF6\",\"gridcolor\":\"white\",\"gridwidth\":2,\"linecolor\":\"white\",\"showbackground\":true,\"ticks\":\"\",\"zerolinecolor\":\"white\"},\"yaxis\":{\"backgroundcolor\":\"#E5ECF6\",\"gridcolor\":\"white\",\"gridwidth\":2,\"linecolor\":\"white\",\"showbackground\":true,\"ticks\":\"\",\"zerolinecolor\":\"white\"},\"zaxis\":{\"backgroundcolor\":\"#E5ECF6\",\"gridcolor\":\"white\",\"gridwidth\":2,\"linecolor\":\"white\",\"showbackground\":true,\"ticks\":\"\",\"zerolinecolor\":\"white\"}},\"shapedefaults\":{\"line\":{\"color\":\"#2a3f5f\"}},\"ternary\":{\"aaxis\":{\"gridcolor\":\"white\",\"linecolor\":\"white\",\"ticks\":\"\"},\"baxis\":{\"gridcolor\":\"white\",\"linecolor\":\"white\",\"ticks\":\"\"},\"bgcolor\":\"#E5ECF6\",\"caxis\":{\"gridcolor\":\"white\",\"linecolor\":\"white\",\"ticks\":\"\"}},\"title\":{\"x\":0.05},\"xaxis\":{\"automargin\":true,\"gridcolor\":\"white\",\"linecolor\":\"white\",\"ticks\":\"\",\"title\":{\"standoff\":15},\"zerolinecolor\":\"white\",\"zerolinewidth\":2},\"yaxis\":{\"automargin\":true,\"gridcolor\":\"white\",\"linecolor\":\"white\",\"ticks\":\"\",\"title\":{\"standoff\":15},\"zerolinecolor\":\"white\",\"zerolinewidth\":2}}},\"xaxis\":{\"anchor\":\"y\",\"domain\":[0.0,1.0],\"title\":{\"text\":\"\\u0422\\u0438\\u043f \\u043e\\u0431\\u044a\\u0435\\u043a\\u0442\\u0430\"},\"tickmode\":\"array\",\"tickvals\":[\"\\u043a\\u0430\\u0444\\u0435\",\"\\u0441\\u0442\\u043e\\u043b\\u043e\\u0432\\u0430\\u044f\",\"\\u0440\\u0435\\u0441\\u0442\\u043e\\u0440\\u0430\\u043d\",\"\\u043f\\u0440\\u0435\\u0434\\u043f\\u0440\\u0438\\u044f\\u0442\\u0438\\u0435 \\u0431\\u044b\\u0441\\u0442\\u0440\\u043e\\u0433\\u043e \\u043e\\u0431\\u0441\\u043b\\u0443\\u0436\\u0438\\u0432\\u0430\\u043d\\u0438\\u044f\",\"\\u0431\\u0430\\u0440\",\"\\u0431\\u0443\\u0444\\u0435\\u0442\",\"\\u043a\\u0430\\u0444\\u0435\\u0442\\u0435\\u0440\\u0438\\u0439\",\"\\u0437\\u0430\\u043a\\u0443\\u0441\\u043e\\u0447\\u043d\\u0430\\u044f\",\"\\u043c\\u0430\\u0433\\u0430\\u0437\\u0438\\u043d (\\u043e\\u0442\\u0434\\u0435\\u043b \\u043a\\u0443\\u043b\\u0438\\u043d\\u0430\\u0440\\u0438\\u0438)\"],\"ticktext\":[\"\\u043a\\u0430\\u0444\\u0435\",\"\\u0441\\u0442\\u043e\\u043b\\u043e\\u0432\\u0430\\u044f\",\"\\u0440\\u0435\\u0441\\u0442\\u043e\\u0440\\u0430\\u043d\",\"\\u043f\\u0440\\u0435\\u0434\\u043f\\u0440\\u0438\\u044f\\u0442\\u0438\\u0435<br>\\u0431\\u044b\\u0441\\u0442\\u0440\\u043e\\u0433\\u043e<br>\\u043e\\u0431\\u0441\\u043b\\u0443\\u0436\\u0438\\u0432\\u0430\\u043d\\u0438\\u044f\",\"\\u0431\\u0430\\u0440\",\"\\u0431\\u0443\\u0444\\u0435\\u0442\",\"\\u043a\\u0430\\u0444\\u0435\\u0442\\u0435\\u0440\\u0438\\u0439\",\"\\u0437\\u0430\\u043a\\u0443\\u0441\\u043e\\u0447\\u043d\\u0430\\u044f\",\"\\u043c\\u0430\\u0433\\u0430\\u0437\\u0438\\u043d<br>(\\u043e\\u0442\\u0434\\u0435\\u043b<br>\\u043a\\u0443\\u043b\\u0438\\u043d\\u0430\\u0440\\u0438\\u0438)\"]},\"yaxis\":{\"anchor\":\"x\",\"domain\":[0.0,1.0],\"title\":{\"text\":\"\\u041a\\u043e\\u043b\\u0438\\u0447\\u0435\\u0441\\u0442\\u0432\\u043e \\u043e\\u0431\\u044a\\u0435\\u043a\\u0442\\u043e\\u0432, \\u0435\\u0434.\"},\"range\":[0,7000]},\"legend\":{\"tracegroupgap\":0},\"title\":{\"text\":\"\\u041a\\u043e\\u043b\\u0438\\u0447\\u0435\\u0441\\u0442\\u0432\\u043e \\u043e\\u0431\\u044a\\u0435\\u043a\\u0442\\u043e\\u0432 \\u043f\\u043e \\u0442\\u0438\\u043f\\u0443 \\u0437\\u0430\\u0432\\u0435\\u0434\\u0435\\u043d\\u0438\\u044f\"},\"barmode\":\"relative\"},                        {\"responsive\": true}                    ).then(function(){\n",
              "                            \n",
              "var gd = document.getElementById('71931619-5373-4282-a3ff-dd339f2a03a9');\n",
              "var x = new MutationObserver(function (mutations, observer) {{\n",
              "        var display = window.getComputedStyle(gd).display;\n",
              "        if (!display || display === 'none') {{\n",
              "            console.log([gd, 'removed!']);\n",
              "            Plotly.purge(gd);\n",
              "            observer.disconnect();\n",
              "        }}\n",
              "}});\n",
              "\n",
              "// Listen for the removal of the full notebook cells\n",
              "var notebookContainer = gd.closest('#notebook-container');\n",
              "if (notebookContainer) {{\n",
              "    x.observe(notebookContainer, {childList: true});\n",
              "}}\n",
              "\n",
              "// Listen for the clearing of the current output cell\n",
              "var outputEl = gd.closest('.output');\n",
              "if (outputEl) {{\n",
              "    x.observe(outputEl, {childList: true});\n",
              "}}\n",
              "\n",
              "                        })                };                            </script>        </div>\n",
              "</body>\n",
              "</html>"
            ]
          },
          "metadata": {}
        }
      ],
      "source": [
        "# Сгруппируем данные по типам объектов общепита\n",
        "# и построим столбчатую диаграмму по данным сгруппированым типам объектов общепита\n",
        "object_type_fig = px.bar(rest_data.groupby('object_type').count().reset_index().sort_values(by='id', ascending=False),\n",
        "                y='id', # зададим ось Y \n",
        "                x='object_type', # зададим ось Х \n",
        "                text='id', # зададим подписи данных \n",
        "                title='Количество объектов по типу заведения',  # зададим заголовок диаграммы \n",
        "                labels={'id':'Количество объектов, ед.','object_type':'Тип объекта'}) # зададим подписи осей \n",
        "object_type_fig.update_yaxes(range=[0, 7000])\n",
        "object_type_fig.update_traces(textposition=\"outside\")\n",
        "\n",
        "\n",
        "object_type_fig.update_layout(\n",
        "    xaxis=dict(\n",
        "        tickmode='array',\n",
        "        tickvals=rest_data.groupby('object_type').count().reset_index().sort_values(by='id', ascending=False)['object_type'],\n",
        "        ticktext=rest_data.groupby('object_type').count().reset_index().sort_values(by='id', ascending=False)['object_type'].apply(lambda x : '<br>'.join(x.split()))\n",
        "    )\n",
        ")\n",
        "\n",
        "object_type_fig.show()"
      ]
    },
    {
      "cell_type": "markdown",
      "metadata": {
        "id": "W_pf2gHX-vgs"
      },
      "source": [
        "**Вывод:** Наиболее распрастранённые типы заведений это кафе, столовая, ресторан и фастфуд (предприятия бысторого питания)."
      ]
    },
    {
      "cell_type": "markdown",
      "metadata": {
        "id": "Zo7b05Jb-vgs"
      },
      "source": [
        " ### Соотношение сетевых и несетевых заведений по количеству<a id=\"network\"></a>   \n",
        "    \n",
        "1. Для какого вида объекта общественного питания характерно сетевое распространение?   \n",
        "1. Что характерно для сетевых заведений: много заведений с небольшим числом посадочных мест в каждом или мало заведений с большим количеством посадочных мест?   "
      ]
    },
    {
      "cell_type": "code",
      "execution_count": null,
      "metadata": {
        "id": "VSlR-3N0-vgt",
        "outputId": "b2657498-302e-4cf5-b915-7ef8eabed8af",
        "colab": {
          "base_uri": "https://localhost:8080/"
        }
      },
      "outputs": [
        {
          "output_type": "execute_result",
          "data": {
            "text/plain": [
              "несетевые    12398\n",
              "сетевые       2968\n",
              "Name: chain, dtype: int64"
            ]
          },
          "metadata": {},
          "execution_count": 13
        }
      ],
      "source": [
        "# Заменим \"да\" и \"нет\" в описание относится ли заведение к сетям, соответсвенно на \"сетевые\" и \"несетевые\" \n",
        "# использовав метод .map\n",
        "new_name = {'да': 'сетевые', 'нет': 'несетевые'}\n",
        "rest_data['chain'] = rest_data['chain'].map(new_name)\n",
        "rest_data['chain'].value_counts()"
      ]
    },
    {
      "cell_type": "code",
      "execution_count": null,
      "metadata": {
        "id": "zjWIHd4v-vgt",
        "outputId": "003818ad-8319-4a63-f3a9-aeb962dbca09",
        "colab": {
          "base_uri": "https://localhost:8080/",
          "height": 542
        }
      },
      "outputs": [
        {
          "output_type": "display_data",
          "data": {
            "text/html": [
              "<html>\n",
              "<head><meta charset=\"utf-8\" /></head>\n",
              "<body>\n",
              "    <div>            <script src=\"https://cdnjs.cloudflare.com/ajax/libs/mathjax/2.7.5/MathJax.js?config=TeX-AMS-MML_SVG\"></script><script type=\"text/javascript\">if (window.MathJax) {MathJax.Hub.Config({SVG: {font: \"STIX-Web\"}});}</script>                <script type=\"text/javascript\">window.PlotlyConfig = {MathJaxConfig: 'local'};</script>\n",
              "        <script src=\"https://cdn.plot.ly/plotly-2.8.3.min.js\"></script>                <div id=\"f5bf7bb1-88b7-4fea-9d0f-a81401a62ba6\" class=\"plotly-graph-div\" style=\"height:525px; width:100%;\"></div>            <script type=\"text/javascript\">                                    window.PLOTLYENV=window.PLOTLYENV || {};                                    if (document.getElementById(\"f5bf7bb1-88b7-4fea-9d0f-a81401a62ba6\")) {                    Plotly.newPlot(                        \"f5bf7bb1-88b7-4fea-9d0f-a81401a62ba6\",                        [{\"alignmentgroup\":\"True\",\"hovertemplate\":\"\\u0422\\u0438\\u043f=%{x}<br>\\u041a\\u043e\\u043b\\u0438\\u0447\\u0435\\u0441\\u0442\\u0432\\u043e \\u043e\\u0431\\u044a\\u0435\\u043a\\u0442\\u043e\\u0432, \\u0435\\u0434.=%{text}<extra></extra>\",\"legendgroup\":\"\\u043d\\u0435\\u0441\\u0435\\u0442\\u0435\\u0432\\u044b\\u0435\",\"marker\":{\"color\":\"#636efa\",\"pattern\":{\"shape\":\"\"}},\"name\":\"\\u043d\\u0435\\u0441\\u0435\\u0442\\u0435\\u0432\\u044b\\u0435\",\"offsetgroup\":\"\\u043d\\u0435\\u0441\\u0435\\u0442\\u0435\\u0432\\u044b\\u0435\",\"orientation\":\"v\",\"showlegend\":true,\"text\":[12398.0],\"textposition\":\"outside\",\"x\":[\"\\u043d\\u0435\\u0441\\u0435\\u0442\\u0435\\u0432\\u044b\\u0435\"],\"xaxis\":\"x\",\"y\":[12398],\"yaxis\":\"y\",\"type\":\"bar\"},{\"alignmentgroup\":\"True\",\"hovertemplate\":\"\\u0422\\u0438\\u043f=%{x}<br>\\u041a\\u043e\\u043b\\u0438\\u0447\\u0435\\u0441\\u0442\\u0432\\u043e \\u043e\\u0431\\u044a\\u0435\\u043a\\u0442\\u043e\\u0432, \\u0435\\u0434.=%{text}<extra></extra>\",\"legendgroup\":\"\\u0441\\u0435\\u0442\\u0435\\u0432\\u044b\\u0435\",\"marker\":{\"color\":\"#EF553B\",\"pattern\":{\"shape\":\"\"}},\"name\":\"\\u0441\\u0435\\u0442\\u0435\\u0432\\u044b\\u0435\",\"offsetgroup\":\"\\u0441\\u0435\\u0442\\u0435\\u0432\\u044b\\u0435\",\"orientation\":\"v\",\"showlegend\":true,\"text\":[2968.0],\"textposition\":\"outside\",\"x\":[\"\\u0441\\u0435\\u0442\\u0435\\u0432\\u044b\\u0435\"],\"xaxis\":\"x\",\"y\":[2968],\"yaxis\":\"y\",\"type\":\"bar\"}],                        {\"template\":{\"data\":{\"bar\":[{\"error_x\":{\"color\":\"#2a3f5f\"},\"error_y\":{\"color\":\"#2a3f5f\"},\"marker\":{\"line\":{\"color\":\"#E5ECF6\",\"width\":0.5},\"pattern\":{\"fillmode\":\"overlay\",\"size\":10,\"solidity\":0.2}},\"type\":\"bar\"}],\"barpolar\":[{\"marker\":{\"line\":{\"color\":\"#E5ECF6\",\"width\":0.5},\"pattern\":{\"fillmode\":\"overlay\",\"size\":10,\"solidity\":0.2}},\"type\":\"barpolar\"}],\"carpet\":[{\"aaxis\":{\"endlinecolor\":\"#2a3f5f\",\"gridcolor\":\"white\",\"linecolor\":\"white\",\"minorgridcolor\":\"white\",\"startlinecolor\":\"#2a3f5f\"},\"baxis\":{\"endlinecolor\":\"#2a3f5f\",\"gridcolor\":\"white\",\"linecolor\":\"white\",\"minorgridcolor\":\"white\",\"startlinecolor\":\"#2a3f5f\"},\"type\":\"carpet\"}],\"choropleth\":[{\"colorbar\":{\"outlinewidth\":0,\"ticks\":\"\"},\"type\":\"choropleth\"}],\"contour\":[{\"colorbar\":{\"outlinewidth\":0,\"ticks\":\"\"},\"colorscale\":[[0.0,\"#0d0887\"],[0.1111111111111111,\"#46039f\"],[0.2222222222222222,\"#7201a8\"],[0.3333333333333333,\"#9c179e\"],[0.4444444444444444,\"#bd3786\"],[0.5555555555555556,\"#d8576b\"],[0.6666666666666666,\"#ed7953\"],[0.7777777777777778,\"#fb9f3a\"],[0.8888888888888888,\"#fdca26\"],[1.0,\"#f0f921\"]],\"type\":\"contour\"}],\"contourcarpet\":[{\"colorbar\":{\"outlinewidth\":0,\"ticks\":\"\"},\"type\":\"contourcarpet\"}],\"heatmap\":[{\"colorbar\":{\"outlinewidth\":0,\"ticks\":\"\"},\"colorscale\":[[0.0,\"#0d0887\"],[0.1111111111111111,\"#46039f\"],[0.2222222222222222,\"#7201a8\"],[0.3333333333333333,\"#9c179e\"],[0.4444444444444444,\"#bd3786\"],[0.5555555555555556,\"#d8576b\"],[0.6666666666666666,\"#ed7953\"],[0.7777777777777778,\"#fb9f3a\"],[0.8888888888888888,\"#fdca26\"],[1.0,\"#f0f921\"]],\"type\":\"heatmap\"}],\"heatmapgl\":[{\"colorbar\":{\"outlinewidth\":0,\"ticks\":\"\"},\"colorscale\":[[0.0,\"#0d0887\"],[0.1111111111111111,\"#46039f\"],[0.2222222222222222,\"#7201a8\"],[0.3333333333333333,\"#9c179e\"],[0.4444444444444444,\"#bd3786\"],[0.5555555555555556,\"#d8576b\"],[0.6666666666666666,\"#ed7953\"],[0.7777777777777778,\"#fb9f3a\"],[0.8888888888888888,\"#fdca26\"],[1.0,\"#f0f921\"]],\"type\":\"heatmapgl\"}],\"histogram\":[{\"marker\":{\"pattern\":{\"fillmode\":\"overlay\",\"size\":10,\"solidity\":0.2}},\"type\":\"histogram\"}],\"histogram2d\":[{\"colorbar\":{\"outlinewidth\":0,\"ticks\":\"\"},\"colorscale\":[[0.0,\"#0d0887\"],[0.1111111111111111,\"#46039f\"],[0.2222222222222222,\"#7201a8\"],[0.3333333333333333,\"#9c179e\"],[0.4444444444444444,\"#bd3786\"],[0.5555555555555556,\"#d8576b\"],[0.6666666666666666,\"#ed7953\"],[0.7777777777777778,\"#fb9f3a\"],[0.8888888888888888,\"#fdca26\"],[1.0,\"#f0f921\"]],\"type\":\"histogram2d\"}],\"histogram2dcontour\":[{\"colorbar\":{\"outlinewidth\":0,\"ticks\":\"\"},\"colorscale\":[[0.0,\"#0d0887\"],[0.1111111111111111,\"#46039f\"],[0.2222222222222222,\"#7201a8\"],[0.3333333333333333,\"#9c179e\"],[0.4444444444444444,\"#bd3786\"],[0.5555555555555556,\"#d8576b\"],[0.6666666666666666,\"#ed7953\"],[0.7777777777777778,\"#fb9f3a\"],[0.8888888888888888,\"#fdca26\"],[1.0,\"#f0f921\"]],\"type\":\"histogram2dcontour\"}],\"mesh3d\":[{\"colorbar\":{\"outlinewidth\":0,\"ticks\":\"\"},\"type\":\"mesh3d\"}],\"parcoords\":[{\"line\":{\"colorbar\":{\"outlinewidth\":0,\"ticks\":\"\"}},\"type\":\"parcoords\"}],\"pie\":[{\"automargin\":true,\"type\":\"pie\"}],\"scatter\":[{\"marker\":{\"colorbar\":{\"outlinewidth\":0,\"ticks\":\"\"}},\"type\":\"scatter\"}],\"scatter3d\":[{\"line\":{\"colorbar\":{\"outlinewidth\":0,\"ticks\":\"\"}},\"marker\":{\"colorbar\":{\"outlinewidth\":0,\"ticks\":\"\"}},\"type\":\"scatter3d\"}],\"scattercarpet\":[{\"marker\":{\"colorbar\":{\"outlinewidth\":0,\"ticks\":\"\"}},\"type\":\"scattercarpet\"}],\"scattergeo\":[{\"marker\":{\"colorbar\":{\"outlinewidth\":0,\"ticks\":\"\"}},\"type\":\"scattergeo\"}],\"scattergl\":[{\"marker\":{\"colorbar\":{\"outlinewidth\":0,\"ticks\":\"\"}},\"type\":\"scattergl\"}],\"scattermapbox\":[{\"marker\":{\"colorbar\":{\"outlinewidth\":0,\"ticks\":\"\"}},\"type\":\"scattermapbox\"}],\"scatterpolar\":[{\"marker\":{\"colorbar\":{\"outlinewidth\":0,\"ticks\":\"\"}},\"type\":\"scatterpolar\"}],\"scatterpolargl\":[{\"marker\":{\"colorbar\":{\"outlinewidth\":0,\"ticks\":\"\"}},\"type\":\"scatterpolargl\"}],\"scatterternary\":[{\"marker\":{\"colorbar\":{\"outlinewidth\":0,\"ticks\":\"\"}},\"type\":\"scatterternary\"}],\"surface\":[{\"colorbar\":{\"outlinewidth\":0,\"ticks\":\"\"},\"colorscale\":[[0.0,\"#0d0887\"],[0.1111111111111111,\"#46039f\"],[0.2222222222222222,\"#7201a8\"],[0.3333333333333333,\"#9c179e\"],[0.4444444444444444,\"#bd3786\"],[0.5555555555555556,\"#d8576b\"],[0.6666666666666666,\"#ed7953\"],[0.7777777777777778,\"#fb9f3a\"],[0.8888888888888888,\"#fdca26\"],[1.0,\"#f0f921\"]],\"type\":\"surface\"}],\"table\":[{\"cells\":{\"fill\":{\"color\":\"#EBF0F8\"},\"line\":{\"color\":\"white\"}},\"header\":{\"fill\":{\"color\":\"#C8D4E3\"},\"line\":{\"color\":\"white\"}},\"type\":\"table\"}]},\"layout\":{\"annotationdefaults\":{\"arrowcolor\":\"#2a3f5f\",\"arrowhead\":0,\"arrowwidth\":1},\"autotypenumbers\":\"strict\",\"coloraxis\":{\"colorbar\":{\"outlinewidth\":0,\"ticks\":\"\"}},\"colorscale\":{\"diverging\":[[0,\"#8e0152\"],[0.1,\"#c51b7d\"],[0.2,\"#de77ae\"],[0.3,\"#f1b6da\"],[0.4,\"#fde0ef\"],[0.5,\"#f7f7f7\"],[0.6,\"#e6f5d0\"],[0.7,\"#b8e186\"],[0.8,\"#7fbc41\"],[0.9,\"#4d9221\"],[1,\"#276419\"]],\"sequential\":[[0.0,\"#0d0887\"],[0.1111111111111111,\"#46039f\"],[0.2222222222222222,\"#7201a8\"],[0.3333333333333333,\"#9c179e\"],[0.4444444444444444,\"#bd3786\"],[0.5555555555555556,\"#d8576b\"],[0.6666666666666666,\"#ed7953\"],[0.7777777777777778,\"#fb9f3a\"],[0.8888888888888888,\"#fdca26\"],[1.0,\"#f0f921\"]],\"sequentialminus\":[[0.0,\"#0d0887\"],[0.1111111111111111,\"#46039f\"],[0.2222222222222222,\"#7201a8\"],[0.3333333333333333,\"#9c179e\"],[0.4444444444444444,\"#bd3786\"],[0.5555555555555556,\"#d8576b\"],[0.6666666666666666,\"#ed7953\"],[0.7777777777777778,\"#fb9f3a\"],[0.8888888888888888,\"#fdca26\"],[1.0,\"#f0f921\"]]},\"colorway\":[\"#636efa\",\"#EF553B\",\"#00cc96\",\"#ab63fa\",\"#FFA15A\",\"#19d3f3\",\"#FF6692\",\"#B6E880\",\"#FF97FF\",\"#FECB52\"],\"font\":{\"color\":\"#2a3f5f\"},\"geo\":{\"bgcolor\":\"white\",\"lakecolor\":\"white\",\"landcolor\":\"#E5ECF6\",\"showlakes\":true,\"showland\":true,\"subunitcolor\":\"white\"},\"hoverlabel\":{\"align\":\"left\"},\"hovermode\":\"closest\",\"mapbox\":{\"style\":\"light\"},\"paper_bgcolor\":\"white\",\"plot_bgcolor\":\"#E5ECF6\",\"polar\":{\"angularaxis\":{\"gridcolor\":\"white\",\"linecolor\":\"white\",\"ticks\":\"\"},\"bgcolor\":\"#E5ECF6\",\"radialaxis\":{\"gridcolor\":\"white\",\"linecolor\":\"white\",\"ticks\":\"\"}},\"scene\":{\"xaxis\":{\"backgroundcolor\":\"#E5ECF6\",\"gridcolor\":\"white\",\"gridwidth\":2,\"linecolor\":\"white\",\"showbackground\":true,\"ticks\":\"\",\"zerolinecolor\":\"white\"},\"yaxis\":{\"backgroundcolor\":\"#E5ECF6\",\"gridcolor\":\"white\",\"gridwidth\":2,\"linecolor\":\"white\",\"showbackground\":true,\"ticks\":\"\",\"zerolinecolor\":\"white\"},\"zaxis\":{\"backgroundcolor\":\"#E5ECF6\",\"gridcolor\":\"white\",\"gridwidth\":2,\"linecolor\":\"white\",\"showbackground\":true,\"ticks\":\"\",\"zerolinecolor\":\"white\"}},\"shapedefaults\":{\"line\":{\"color\":\"#2a3f5f\"}},\"ternary\":{\"aaxis\":{\"gridcolor\":\"white\",\"linecolor\":\"white\",\"ticks\":\"\"},\"baxis\":{\"gridcolor\":\"white\",\"linecolor\":\"white\",\"ticks\":\"\"},\"bgcolor\":\"#E5ECF6\",\"caxis\":{\"gridcolor\":\"white\",\"linecolor\":\"white\",\"ticks\":\"\"}},\"title\":{\"x\":0.05},\"xaxis\":{\"automargin\":true,\"gridcolor\":\"white\",\"linecolor\":\"white\",\"ticks\":\"\",\"title\":{\"standoff\":15},\"zerolinecolor\":\"white\",\"zerolinewidth\":2},\"yaxis\":{\"automargin\":true,\"gridcolor\":\"white\",\"linecolor\":\"white\",\"ticks\":\"\",\"title\":{\"standoff\":15},\"zerolinecolor\":\"white\",\"zerolinewidth\":2}}},\"xaxis\":{\"anchor\":\"y\",\"domain\":[0.0,1.0],\"title\":{\"text\":\"\\u0422\\u0438\\u043f\"},\"categoryorder\":\"array\",\"categoryarray\":[\"\\u043d\\u0435\\u0441\\u0435\\u0442\\u0435\\u0432\\u044b\\u0435\",\"\\u0441\\u0435\\u0442\\u0435\\u0432\\u044b\\u0435\"]},\"yaxis\":{\"anchor\":\"x\",\"domain\":[0.0,1.0],\"title\":{\"text\":\"\\u041a\\u043e\\u043b\\u0438\\u0447\\u0435\\u0441\\u0442\\u0432\\u043e \\u043e\\u0431\\u044a\\u0435\\u043a\\u0442\\u043e\\u0432, \\u0435\\u0434.\"},\"range\":[0,13200]},\"legend\":{\"title\":{\"text\":\"\\u0422\\u0438\\u043f\"},\"tracegroupgap\":0},\"title\":{\"text\":\"\\u041a\\u043e\\u043b\\u0438\\u0447\\u0435\\u0441\\u0442\\u0432\\u043e \\u043e\\u0431\\u044a\\u0435\\u043a\\u0442\\u043e\\u0432 \\u043f\\u043e \\u0442\\u0438\\u043f\\u0443 \\u0437\\u0430\\u0432\\u0435\\u0434\\u0435\\u043d\\u0438\\u044f\"},\"barmode\":\"relative\"},                        {\"responsive\": true}                    ).then(function(){\n",
              "                            \n",
              "var gd = document.getElementById('f5bf7bb1-88b7-4fea-9d0f-a81401a62ba6');\n",
              "var x = new MutationObserver(function (mutations, observer) {{\n",
              "        var display = window.getComputedStyle(gd).display;\n",
              "        if (!display || display === 'none') {{\n",
              "            console.log([gd, 'removed!']);\n",
              "            Plotly.purge(gd);\n",
              "            observer.disconnect();\n",
              "        }}\n",
              "}});\n",
              "\n",
              "// Listen for the removal of the full notebook cells\n",
              "var notebookContainer = gd.closest('#notebook-container');\n",
              "if (notebookContainer) {{\n",
              "    x.observe(notebookContainer, {childList: true});\n",
              "}}\n",
              "\n",
              "// Listen for the clearing of the current output cell\n",
              "var outputEl = gd.closest('.output');\n",
              "if (outputEl) {{\n",
              "    x.observe(outputEl, {childList: true});\n",
              "}}\n",
              "\n",
              "                        })                };                            </script>        </div>\n",
              "</body>\n",
              "</html>"
            ]
          },
          "metadata": {}
        }
      ],
      "source": [
        "# Построим столбчатую диаграмму по данным сгруппированым по принадлежности к сетям\n",
        "chain_fig_bar = px.bar(rest_data.groupby('chain')['id'].count().reset_index().sort_values(by='id', ascending=False),\n",
        "                y='id', # зададим ось Y\n",
        "                x='chain', # зададим ось Х \n",
        "                text='id', # зададим подписи данных\n",
        "                color = 'chain',       \n",
        "                title='Количество объектов по типу заведения', # зададим заголовок диаграммы\n",
        "                labels={'id':'Количество объектов, ед.','chain':'Тип'}) # зададим подписи осей\n",
        "chain_fig_bar.update_yaxes(range=[0, 13200])\n",
        "chain_fig_bar.update_traces(textposition=\"outside\")\n",
        "chain_fig_bar.show()"
      ]
    },
    {
      "cell_type": "code",
      "execution_count": null,
      "metadata": {
        "id": "GrRzJmGV-vgu",
        "outputId": "a9b70e63-1e1d-4dae-ec5d-cda679f9a872",
        "colab": {
          "base_uri": "https://localhost:8080/",
          "height": 542
        }
      },
      "outputs": [
        {
          "output_type": "display_data",
          "data": {
            "text/html": [
              "<html>\n",
              "<head><meta charset=\"utf-8\" /></head>\n",
              "<body>\n",
              "    <div>            <script src=\"https://cdnjs.cloudflare.com/ajax/libs/mathjax/2.7.5/MathJax.js?config=TeX-AMS-MML_SVG\"></script><script type=\"text/javascript\">if (window.MathJax) {MathJax.Hub.Config({SVG: {font: \"STIX-Web\"}});}</script>                <script type=\"text/javascript\">window.PlotlyConfig = {MathJaxConfig: 'local'};</script>\n",
              "        <script src=\"https://cdn.plot.ly/plotly-2.8.3.min.js\"></script>                <div id=\"3dd66393-987a-4323-8655-d33f1bff87b3\" class=\"plotly-graph-div\" style=\"height:525px; width:100%;\"></div>            <script type=\"text/javascript\">                                    window.PLOTLYENV=window.PLOTLYENV || {};                                    if (document.getElementById(\"3dd66393-987a-4323-8655-d33f1bff87b3\")) {                    Plotly.newPlot(                        \"3dd66393-987a-4323-8655-d33f1bff87b3\",                        [{\"labels\":[\"\\u043d\\u0435\\u0441\\u0435\\u0442\\u0435\\u0432\\u044b\\u0435\",\"\\u0441\\u0435\\u0442\\u0435\\u0432\\u044b\\u0435\"],\"values\":[12398,2968],\"type\":\"pie\"}],                        {\"template\":{\"data\":{\"bar\":[{\"error_x\":{\"color\":\"#2a3f5f\"},\"error_y\":{\"color\":\"#2a3f5f\"},\"marker\":{\"line\":{\"color\":\"#E5ECF6\",\"width\":0.5},\"pattern\":{\"fillmode\":\"overlay\",\"size\":10,\"solidity\":0.2}},\"type\":\"bar\"}],\"barpolar\":[{\"marker\":{\"line\":{\"color\":\"#E5ECF6\",\"width\":0.5},\"pattern\":{\"fillmode\":\"overlay\",\"size\":10,\"solidity\":0.2}},\"type\":\"barpolar\"}],\"carpet\":[{\"aaxis\":{\"endlinecolor\":\"#2a3f5f\",\"gridcolor\":\"white\",\"linecolor\":\"white\",\"minorgridcolor\":\"white\",\"startlinecolor\":\"#2a3f5f\"},\"baxis\":{\"endlinecolor\":\"#2a3f5f\",\"gridcolor\":\"white\",\"linecolor\":\"white\",\"minorgridcolor\":\"white\",\"startlinecolor\":\"#2a3f5f\"},\"type\":\"carpet\"}],\"choropleth\":[{\"colorbar\":{\"outlinewidth\":0,\"ticks\":\"\"},\"type\":\"choropleth\"}],\"contour\":[{\"colorbar\":{\"outlinewidth\":0,\"ticks\":\"\"},\"colorscale\":[[0.0,\"#0d0887\"],[0.1111111111111111,\"#46039f\"],[0.2222222222222222,\"#7201a8\"],[0.3333333333333333,\"#9c179e\"],[0.4444444444444444,\"#bd3786\"],[0.5555555555555556,\"#d8576b\"],[0.6666666666666666,\"#ed7953\"],[0.7777777777777778,\"#fb9f3a\"],[0.8888888888888888,\"#fdca26\"],[1.0,\"#f0f921\"]],\"type\":\"contour\"}],\"contourcarpet\":[{\"colorbar\":{\"outlinewidth\":0,\"ticks\":\"\"},\"type\":\"contourcarpet\"}],\"heatmap\":[{\"colorbar\":{\"outlinewidth\":0,\"ticks\":\"\"},\"colorscale\":[[0.0,\"#0d0887\"],[0.1111111111111111,\"#46039f\"],[0.2222222222222222,\"#7201a8\"],[0.3333333333333333,\"#9c179e\"],[0.4444444444444444,\"#bd3786\"],[0.5555555555555556,\"#d8576b\"],[0.6666666666666666,\"#ed7953\"],[0.7777777777777778,\"#fb9f3a\"],[0.8888888888888888,\"#fdca26\"],[1.0,\"#f0f921\"]],\"type\":\"heatmap\"}],\"heatmapgl\":[{\"colorbar\":{\"outlinewidth\":0,\"ticks\":\"\"},\"colorscale\":[[0.0,\"#0d0887\"],[0.1111111111111111,\"#46039f\"],[0.2222222222222222,\"#7201a8\"],[0.3333333333333333,\"#9c179e\"],[0.4444444444444444,\"#bd3786\"],[0.5555555555555556,\"#d8576b\"],[0.6666666666666666,\"#ed7953\"],[0.7777777777777778,\"#fb9f3a\"],[0.8888888888888888,\"#fdca26\"],[1.0,\"#f0f921\"]],\"type\":\"heatmapgl\"}],\"histogram\":[{\"marker\":{\"pattern\":{\"fillmode\":\"overlay\",\"size\":10,\"solidity\":0.2}},\"type\":\"histogram\"}],\"histogram2d\":[{\"colorbar\":{\"outlinewidth\":0,\"ticks\":\"\"},\"colorscale\":[[0.0,\"#0d0887\"],[0.1111111111111111,\"#46039f\"],[0.2222222222222222,\"#7201a8\"],[0.3333333333333333,\"#9c179e\"],[0.4444444444444444,\"#bd3786\"],[0.5555555555555556,\"#d8576b\"],[0.6666666666666666,\"#ed7953\"],[0.7777777777777778,\"#fb9f3a\"],[0.8888888888888888,\"#fdca26\"],[1.0,\"#f0f921\"]],\"type\":\"histogram2d\"}],\"histogram2dcontour\":[{\"colorbar\":{\"outlinewidth\":0,\"ticks\":\"\"},\"colorscale\":[[0.0,\"#0d0887\"],[0.1111111111111111,\"#46039f\"],[0.2222222222222222,\"#7201a8\"],[0.3333333333333333,\"#9c179e\"],[0.4444444444444444,\"#bd3786\"],[0.5555555555555556,\"#d8576b\"],[0.6666666666666666,\"#ed7953\"],[0.7777777777777778,\"#fb9f3a\"],[0.8888888888888888,\"#fdca26\"],[1.0,\"#f0f921\"]],\"type\":\"histogram2dcontour\"}],\"mesh3d\":[{\"colorbar\":{\"outlinewidth\":0,\"ticks\":\"\"},\"type\":\"mesh3d\"}],\"parcoords\":[{\"line\":{\"colorbar\":{\"outlinewidth\":0,\"ticks\":\"\"}},\"type\":\"parcoords\"}],\"pie\":[{\"automargin\":true,\"type\":\"pie\"}],\"scatter\":[{\"marker\":{\"colorbar\":{\"outlinewidth\":0,\"ticks\":\"\"}},\"type\":\"scatter\"}],\"scatter3d\":[{\"line\":{\"colorbar\":{\"outlinewidth\":0,\"ticks\":\"\"}},\"marker\":{\"colorbar\":{\"outlinewidth\":0,\"ticks\":\"\"}},\"type\":\"scatter3d\"}],\"scattercarpet\":[{\"marker\":{\"colorbar\":{\"outlinewidth\":0,\"ticks\":\"\"}},\"type\":\"scattercarpet\"}],\"scattergeo\":[{\"marker\":{\"colorbar\":{\"outlinewidth\":0,\"ticks\":\"\"}},\"type\":\"scattergeo\"}],\"scattergl\":[{\"marker\":{\"colorbar\":{\"outlinewidth\":0,\"ticks\":\"\"}},\"type\":\"scattergl\"}],\"scattermapbox\":[{\"marker\":{\"colorbar\":{\"outlinewidth\":0,\"ticks\":\"\"}},\"type\":\"scattermapbox\"}],\"scatterpolar\":[{\"marker\":{\"colorbar\":{\"outlinewidth\":0,\"ticks\":\"\"}},\"type\":\"scatterpolar\"}],\"scatterpolargl\":[{\"marker\":{\"colorbar\":{\"outlinewidth\":0,\"ticks\":\"\"}},\"type\":\"scatterpolargl\"}],\"scatterternary\":[{\"marker\":{\"colorbar\":{\"outlinewidth\":0,\"ticks\":\"\"}},\"type\":\"scatterternary\"}],\"surface\":[{\"colorbar\":{\"outlinewidth\":0,\"ticks\":\"\"},\"colorscale\":[[0.0,\"#0d0887\"],[0.1111111111111111,\"#46039f\"],[0.2222222222222222,\"#7201a8\"],[0.3333333333333333,\"#9c179e\"],[0.4444444444444444,\"#bd3786\"],[0.5555555555555556,\"#d8576b\"],[0.6666666666666666,\"#ed7953\"],[0.7777777777777778,\"#fb9f3a\"],[0.8888888888888888,\"#fdca26\"],[1.0,\"#f0f921\"]],\"type\":\"surface\"}],\"table\":[{\"cells\":{\"fill\":{\"color\":\"#EBF0F8\"},\"line\":{\"color\":\"white\"}},\"header\":{\"fill\":{\"color\":\"#C8D4E3\"},\"line\":{\"color\":\"white\"}},\"type\":\"table\"}]},\"layout\":{\"annotationdefaults\":{\"arrowcolor\":\"#2a3f5f\",\"arrowhead\":0,\"arrowwidth\":1},\"autotypenumbers\":\"strict\",\"coloraxis\":{\"colorbar\":{\"outlinewidth\":0,\"ticks\":\"\"}},\"colorscale\":{\"diverging\":[[0,\"#8e0152\"],[0.1,\"#c51b7d\"],[0.2,\"#de77ae\"],[0.3,\"#f1b6da\"],[0.4,\"#fde0ef\"],[0.5,\"#f7f7f7\"],[0.6,\"#e6f5d0\"],[0.7,\"#b8e186\"],[0.8,\"#7fbc41\"],[0.9,\"#4d9221\"],[1,\"#276419\"]],\"sequential\":[[0.0,\"#0d0887\"],[0.1111111111111111,\"#46039f\"],[0.2222222222222222,\"#7201a8\"],[0.3333333333333333,\"#9c179e\"],[0.4444444444444444,\"#bd3786\"],[0.5555555555555556,\"#d8576b\"],[0.6666666666666666,\"#ed7953\"],[0.7777777777777778,\"#fb9f3a\"],[0.8888888888888888,\"#fdca26\"],[1.0,\"#f0f921\"]],\"sequentialminus\":[[0.0,\"#0d0887\"],[0.1111111111111111,\"#46039f\"],[0.2222222222222222,\"#7201a8\"],[0.3333333333333333,\"#9c179e\"],[0.4444444444444444,\"#bd3786\"],[0.5555555555555556,\"#d8576b\"],[0.6666666666666666,\"#ed7953\"],[0.7777777777777778,\"#fb9f3a\"],[0.8888888888888888,\"#fdca26\"],[1.0,\"#f0f921\"]]},\"colorway\":[\"#636efa\",\"#EF553B\",\"#00cc96\",\"#ab63fa\",\"#FFA15A\",\"#19d3f3\",\"#FF6692\",\"#B6E880\",\"#FF97FF\",\"#FECB52\"],\"font\":{\"color\":\"#2a3f5f\"},\"geo\":{\"bgcolor\":\"white\",\"lakecolor\":\"white\",\"landcolor\":\"#E5ECF6\",\"showlakes\":true,\"showland\":true,\"subunitcolor\":\"white\"},\"hoverlabel\":{\"align\":\"left\"},\"hovermode\":\"closest\",\"mapbox\":{\"style\":\"light\"},\"paper_bgcolor\":\"white\",\"plot_bgcolor\":\"#E5ECF6\",\"polar\":{\"angularaxis\":{\"gridcolor\":\"white\",\"linecolor\":\"white\",\"ticks\":\"\"},\"bgcolor\":\"#E5ECF6\",\"radialaxis\":{\"gridcolor\":\"white\",\"linecolor\":\"white\",\"ticks\":\"\"}},\"scene\":{\"xaxis\":{\"backgroundcolor\":\"#E5ECF6\",\"gridcolor\":\"white\",\"gridwidth\":2,\"linecolor\":\"white\",\"showbackground\":true,\"ticks\":\"\",\"zerolinecolor\":\"white\"},\"yaxis\":{\"backgroundcolor\":\"#E5ECF6\",\"gridcolor\":\"white\",\"gridwidth\":2,\"linecolor\":\"white\",\"showbackground\":true,\"ticks\":\"\",\"zerolinecolor\":\"white\"},\"zaxis\":{\"backgroundcolor\":\"#E5ECF6\",\"gridcolor\":\"white\",\"gridwidth\":2,\"linecolor\":\"white\",\"showbackground\":true,\"ticks\":\"\",\"zerolinecolor\":\"white\"}},\"shapedefaults\":{\"line\":{\"color\":\"#2a3f5f\"}},\"ternary\":{\"aaxis\":{\"gridcolor\":\"white\",\"linecolor\":\"white\",\"ticks\":\"\"},\"baxis\":{\"gridcolor\":\"white\",\"linecolor\":\"white\",\"ticks\":\"\"},\"bgcolor\":\"#E5ECF6\",\"caxis\":{\"gridcolor\":\"white\",\"linecolor\":\"white\",\"ticks\":\"\"}},\"title\":{\"x\":0.05},\"xaxis\":{\"automargin\":true,\"gridcolor\":\"white\",\"linecolor\":\"white\",\"ticks\":\"\",\"title\":{\"standoff\":15},\"zerolinecolor\":\"white\",\"zerolinewidth\":2},\"yaxis\":{\"automargin\":true,\"gridcolor\":\"white\",\"linecolor\":\"white\",\"ticks\":\"\",\"title\":{\"standoff\":15},\"zerolinecolor\":\"white\",\"zerolinewidth\":2}}},\"legend\":{\"orientation\":\"h\"}},                        {\"responsive\": true}                    ).then(function(){\n",
              "                            \n",
              "var gd = document.getElementById('3dd66393-987a-4323-8655-d33f1bff87b3');\n",
              "var x = new MutationObserver(function (mutations, observer) {{\n",
              "        var display = window.getComputedStyle(gd).display;\n",
              "        if (!display || display === 'none') {{\n",
              "            console.log([gd, 'removed!']);\n",
              "            Plotly.purge(gd);\n",
              "            observer.disconnect();\n",
              "        }}\n",
              "}});\n",
              "\n",
              "// Listen for the removal of the full notebook cells\n",
              "var notebookContainer = gd.closest('#notebook-container');\n",
              "if (notebookContainer) {{\n",
              "    x.observe(notebookContainer, {childList: true});\n",
              "}}\n",
              "\n",
              "// Listen for the clearing of the current output cell\n",
              "var outputEl = gd.closest('.output');\n",
              "if (outputEl) {{\n",
              "    x.observe(outputEl, {childList: true});\n",
              "}}\n",
              "\n",
              "                        })                };                            </script>        </div>\n",
              "</body>\n",
              "</html>"
            ]
          },
          "metadata": {}
        }
      ],
      "source": [
        "# Построим круговую диаграмму по данным сгруппированым по принадлежности к сетям\n",
        "chain = rest_data.groupby('chain')['id'].count().reset_index().sort_values(by='id', ascending=False)\n",
        "chain_fig_pie = go.Figure(data=[go.Pie(labels=chain['chain'], values=chain['id'])])\n",
        "chain_fig_pie.update_layout(legend_orientation=\"h\")\n",
        "chain_fig_pie.show() "
      ]
    },
    {
      "cell_type": "markdown",
      "metadata": {
        "id": "t-HEjn7S-vgu"
      },
      "source": [
        "**Вывод** Сетевых заведений 2968 (19.3% от ообщего числа), несетевых - 12398 (80.7%), то есть в 4,2 раза меньше."
      ]
    },
    {
      "cell_type": "code",
      "execution_count": null,
      "metadata": {
        "id": "jTxWmqE0-vgu",
        "outputId": "08d3454d-4406-4c3a-c96f-8a43c11cb5d3",
        "colab": {
          "base_uri": "https://localhost:8080/",
          "height": 542
        }
      },
      "outputs": [
        {
          "output_type": "display_data",
          "data": {
            "text/html": [
              "<html>\n",
              "<head><meta charset=\"utf-8\" /></head>\n",
              "<body>\n",
              "    <div>            <script src=\"https://cdnjs.cloudflare.com/ajax/libs/mathjax/2.7.5/MathJax.js?config=TeX-AMS-MML_SVG\"></script><script type=\"text/javascript\">if (window.MathJax) {MathJax.Hub.Config({SVG: {font: \"STIX-Web\"}});}</script>                <script type=\"text/javascript\">window.PlotlyConfig = {MathJaxConfig: 'local'};</script>\n",
              "        <script src=\"https://cdn.plot.ly/plotly-2.8.3.min.js\"></script>                <div id=\"126e2828-afe8-41f8-bc0e-45396f216f6e\" class=\"plotly-graph-div\" style=\"height:525px; width:100%;\"></div>            <script type=\"text/javascript\">                                    window.PLOTLYENV=window.PLOTLYENV || {};                                    if (document.getElementById(\"126e2828-afe8-41f8-bc0e-45396f216f6e\")) {                    Plotly.newPlot(                        \"126e2828-afe8-41f8-bc0e-45396f216f6e\",                        [{\"alignmentgroup\":\"True\",\"hovertemplate\":\"\\u0422\\u0438\\u043f \\u043e\\u0431\\u044a\\u0435\\u043a\\u0442\\u0430=%{x}<br>\\u0414\\u043e\\u043b\\u044f \\u0441\\u0435\\u0442\\u0435\\u0432\\u044b\\u0445 \\u0437\\u0430\\u0432\\u0435\\u0434\\u0435\\u043d\\u0438\\u0439, %=%{text}<extra></extra>\",\"legendgroup\":\"\",\"marker\":{\"color\":\"#636efa\",\"pattern\":{\"shape\":\"\"}},\"name\":\"\",\"offsetgroup\":\"\",\"orientation\":\"v\",\"showlegend\":false,\"text\":[41.1,28.6,23.8,22.9,15.6,13.1,4.3,1.9,0.1],\"textposition\":\"outside\",\"x\":[\"\\u043f\\u0440\\u0435\\u0434\\u043f\\u0440\\u0438\\u044f\\u0442\\u0438\\u0435 \\u0431\\u044b\\u0441\\u0442\\u0440\\u043e\\u0433\\u043e \\u043e\\u0431\\u0441\\u043b\\u0443\\u0436\\u0438\\u0432\\u0430\\u043d\\u0438\\u044f\",\"\\u043c\\u0430\\u0433\\u0430\\u0437\\u0438\\u043d (\\u043e\\u0442\\u0434\\u0435\\u043b \\u043a\\u0443\\u043b\\u0438\\u043d\\u0430\\u0440\\u0438\\u0438)\",\"\\u0440\\u0435\\u0441\\u0442\\u043e\\u0440\\u0430\\u043d\",\"\\u043a\\u0430\\u0444\\u0435\",\"\\u0437\\u0430\\u043a\\u0443\\u0441\\u043e\\u0447\\u043d\\u0430\\u044f\",\"\\u043a\\u0430\\u0444\\u0435\\u0442\\u0435\\u0440\\u0438\\u0439\",\"\\u0431\\u0430\\u0440\",\"\\u0431\\u0443\\u0444\\u0435\\u0442\",\"\\u0441\\u0442\\u043e\\u043b\\u043e\\u0432\\u0430\\u044f\"],\"xaxis\":\"x\",\"y\":[41.1,28.6,23.8,22.9,15.6,13.1,4.3,1.9,0.1],\"yaxis\":\"y\",\"type\":\"bar\"}],                        {\"template\":{\"data\":{\"bar\":[{\"error_x\":{\"color\":\"#2a3f5f\"},\"error_y\":{\"color\":\"#2a3f5f\"},\"marker\":{\"line\":{\"color\":\"#E5ECF6\",\"width\":0.5},\"pattern\":{\"fillmode\":\"overlay\",\"size\":10,\"solidity\":0.2}},\"type\":\"bar\"}],\"barpolar\":[{\"marker\":{\"line\":{\"color\":\"#E5ECF6\",\"width\":0.5},\"pattern\":{\"fillmode\":\"overlay\",\"size\":10,\"solidity\":0.2}},\"type\":\"barpolar\"}],\"carpet\":[{\"aaxis\":{\"endlinecolor\":\"#2a3f5f\",\"gridcolor\":\"white\",\"linecolor\":\"white\",\"minorgridcolor\":\"white\",\"startlinecolor\":\"#2a3f5f\"},\"baxis\":{\"endlinecolor\":\"#2a3f5f\",\"gridcolor\":\"white\",\"linecolor\":\"white\",\"minorgridcolor\":\"white\",\"startlinecolor\":\"#2a3f5f\"},\"type\":\"carpet\"}],\"choropleth\":[{\"colorbar\":{\"outlinewidth\":0,\"ticks\":\"\"},\"type\":\"choropleth\"}],\"contour\":[{\"colorbar\":{\"outlinewidth\":0,\"ticks\":\"\"},\"colorscale\":[[0.0,\"#0d0887\"],[0.1111111111111111,\"#46039f\"],[0.2222222222222222,\"#7201a8\"],[0.3333333333333333,\"#9c179e\"],[0.4444444444444444,\"#bd3786\"],[0.5555555555555556,\"#d8576b\"],[0.6666666666666666,\"#ed7953\"],[0.7777777777777778,\"#fb9f3a\"],[0.8888888888888888,\"#fdca26\"],[1.0,\"#f0f921\"]],\"type\":\"contour\"}],\"contourcarpet\":[{\"colorbar\":{\"outlinewidth\":0,\"ticks\":\"\"},\"type\":\"contourcarpet\"}],\"heatmap\":[{\"colorbar\":{\"outlinewidth\":0,\"ticks\":\"\"},\"colorscale\":[[0.0,\"#0d0887\"],[0.1111111111111111,\"#46039f\"],[0.2222222222222222,\"#7201a8\"],[0.3333333333333333,\"#9c179e\"],[0.4444444444444444,\"#bd3786\"],[0.5555555555555556,\"#d8576b\"],[0.6666666666666666,\"#ed7953\"],[0.7777777777777778,\"#fb9f3a\"],[0.8888888888888888,\"#fdca26\"],[1.0,\"#f0f921\"]],\"type\":\"heatmap\"}],\"heatmapgl\":[{\"colorbar\":{\"outlinewidth\":0,\"ticks\":\"\"},\"colorscale\":[[0.0,\"#0d0887\"],[0.1111111111111111,\"#46039f\"],[0.2222222222222222,\"#7201a8\"],[0.3333333333333333,\"#9c179e\"],[0.4444444444444444,\"#bd3786\"],[0.5555555555555556,\"#d8576b\"],[0.6666666666666666,\"#ed7953\"],[0.7777777777777778,\"#fb9f3a\"],[0.8888888888888888,\"#fdca26\"],[1.0,\"#f0f921\"]],\"type\":\"heatmapgl\"}],\"histogram\":[{\"marker\":{\"pattern\":{\"fillmode\":\"overlay\",\"size\":10,\"solidity\":0.2}},\"type\":\"histogram\"}],\"histogram2d\":[{\"colorbar\":{\"outlinewidth\":0,\"ticks\":\"\"},\"colorscale\":[[0.0,\"#0d0887\"],[0.1111111111111111,\"#46039f\"],[0.2222222222222222,\"#7201a8\"],[0.3333333333333333,\"#9c179e\"],[0.4444444444444444,\"#bd3786\"],[0.5555555555555556,\"#d8576b\"],[0.6666666666666666,\"#ed7953\"],[0.7777777777777778,\"#fb9f3a\"],[0.8888888888888888,\"#fdca26\"],[1.0,\"#f0f921\"]],\"type\":\"histogram2d\"}],\"histogram2dcontour\":[{\"colorbar\":{\"outlinewidth\":0,\"ticks\":\"\"},\"colorscale\":[[0.0,\"#0d0887\"],[0.1111111111111111,\"#46039f\"],[0.2222222222222222,\"#7201a8\"],[0.3333333333333333,\"#9c179e\"],[0.4444444444444444,\"#bd3786\"],[0.5555555555555556,\"#d8576b\"],[0.6666666666666666,\"#ed7953\"],[0.7777777777777778,\"#fb9f3a\"],[0.8888888888888888,\"#fdca26\"],[1.0,\"#f0f921\"]],\"type\":\"histogram2dcontour\"}],\"mesh3d\":[{\"colorbar\":{\"outlinewidth\":0,\"ticks\":\"\"},\"type\":\"mesh3d\"}],\"parcoords\":[{\"line\":{\"colorbar\":{\"outlinewidth\":0,\"ticks\":\"\"}},\"type\":\"parcoords\"}],\"pie\":[{\"automargin\":true,\"type\":\"pie\"}],\"scatter\":[{\"marker\":{\"colorbar\":{\"outlinewidth\":0,\"ticks\":\"\"}},\"type\":\"scatter\"}],\"scatter3d\":[{\"line\":{\"colorbar\":{\"outlinewidth\":0,\"ticks\":\"\"}},\"marker\":{\"colorbar\":{\"outlinewidth\":0,\"ticks\":\"\"}},\"type\":\"scatter3d\"}],\"scattercarpet\":[{\"marker\":{\"colorbar\":{\"outlinewidth\":0,\"ticks\":\"\"}},\"type\":\"scattercarpet\"}],\"scattergeo\":[{\"marker\":{\"colorbar\":{\"outlinewidth\":0,\"ticks\":\"\"}},\"type\":\"scattergeo\"}],\"scattergl\":[{\"marker\":{\"colorbar\":{\"outlinewidth\":0,\"ticks\":\"\"}},\"type\":\"scattergl\"}],\"scattermapbox\":[{\"marker\":{\"colorbar\":{\"outlinewidth\":0,\"ticks\":\"\"}},\"type\":\"scattermapbox\"}],\"scatterpolar\":[{\"marker\":{\"colorbar\":{\"outlinewidth\":0,\"ticks\":\"\"}},\"type\":\"scatterpolar\"}],\"scatterpolargl\":[{\"marker\":{\"colorbar\":{\"outlinewidth\":0,\"ticks\":\"\"}},\"type\":\"scatterpolargl\"}],\"scatterternary\":[{\"marker\":{\"colorbar\":{\"outlinewidth\":0,\"ticks\":\"\"}},\"type\":\"scatterternary\"}],\"surface\":[{\"colorbar\":{\"outlinewidth\":0,\"ticks\":\"\"},\"colorscale\":[[0.0,\"#0d0887\"],[0.1111111111111111,\"#46039f\"],[0.2222222222222222,\"#7201a8\"],[0.3333333333333333,\"#9c179e\"],[0.4444444444444444,\"#bd3786\"],[0.5555555555555556,\"#d8576b\"],[0.6666666666666666,\"#ed7953\"],[0.7777777777777778,\"#fb9f3a\"],[0.8888888888888888,\"#fdca26\"],[1.0,\"#f0f921\"]],\"type\":\"surface\"}],\"table\":[{\"cells\":{\"fill\":{\"color\":\"#EBF0F8\"},\"line\":{\"color\":\"white\"}},\"header\":{\"fill\":{\"color\":\"#C8D4E3\"},\"line\":{\"color\":\"white\"}},\"type\":\"table\"}]},\"layout\":{\"annotationdefaults\":{\"arrowcolor\":\"#2a3f5f\",\"arrowhead\":0,\"arrowwidth\":1},\"autotypenumbers\":\"strict\",\"coloraxis\":{\"colorbar\":{\"outlinewidth\":0,\"ticks\":\"\"}},\"colorscale\":{\"diverging\":[[0,\"#8e0152\"],[0.1,\"#c51b7d\"],[0.2,\"#de77ae\"],[0.3,\"#f1b6da\"],[0.4,\"#fde0ef\"],[0.5,\"#f7f7f7\"],[0.6,\"#e6f5d0\"],[0.7,\"#b8e186\"],[0.8,\"#7fbc41\"],[0.9,\"#4d9221\"],[1,\"#276419\"]],\"sequential\":[[0.0,\"#0d0887\"],[0.1111111111111111,\"#46039f\"],[0.2222222222222222,\"#7201a8\"],[0.3333333333333333,\"#9c179e\"],[0.4444444444444444,\"#bd3786\"],[0.5555555555555556,\"#d8576b\"],[0.6666666666666666,\"#ed7953\"],[0.7777777777777778,\"#fb9f3a\"],[0.8888888888888888,\"#fdca26\"],[1.0,\"#f0f921\"]],\"sequentialminus\":[[0.0,\"#0d0887\"],[0.1111111111111111,\"#46039f\"],[0.2222222222222222,\"#7201a8\"],[0.3333333333333333,\"#9c179e\"],[0.4444444444444444,\"#bd3786\"],[0.5555555555555556,\"#d8576b\"],[0.6666666666666666,\"#ed7953\"],[0.7777777777777778,\"#fb9f3a\"],[0.8888888888888888,\"#fdca26\"],[1.0,\"#f0f921\"]]},\"colorway\":[\"#636efa\",\"#EF553B\",\"#00cc96\",\"#ab63fa\",\"#FFA15A\",\"#19d3f3\",\"#FF6692\",\"#B6E880\",\"#FF97FF\",\"#FECB52\"],\"font\":{\"color\":\"#2a3f5f\"},\"geo\":{\"bgcolor\":\"white\",\"lakecolor\":\"white\",\"landcolor\":\"#E5ECF6\",\"showlakes\":true,\"showland\":true,\"subunitcolor\":\"white\"},\"hoverlabel\":{\"align\":\"left\"},\"hovermode\":\"closest\",\"mapbox\":{\"style\":\"light\"},\"paper_bgcolor\":\"white\",\"plot_bgcolor\":\"#E5ECF6\",\"polar\":{\"angularaxis\":{\"gridcolor\":\"white\",\"linecolor\":\"white\",\"ticks\":\"\"},\"bgcolor\":\"#E5ECF6\",\"radialaxis\":{\"gridcolor\":\"white\",\"linecolor\":\"white\",\"ticks\":\"\"}},\"scene\":{\"xaxis\":{\"backgroundcolor\":\"#E5ECF6\",\"gridcolor\":\"white\",\"gridwidth\":2,\"linecolor\":\"white\",\"showbackground\":true,\"ticks\":\"\",\"zerolinecolor\":\"white\"},\"yaxis\":{\"backgroundcolor\":\"#E5ECF6\",\"gridcolor\":\"white\",\"gridwidth\":2,\"linecolor\":\"white\",\"showbackground\":true,\"ticks\":\"\",\"zerolinecolor\":\"white\"},\"zaxis\":{\"backgroundcolor\":\"#E5ECF6\",\"gridcolor\":\"white\",\"gridwidth\":2,\"linecolor\":\"white\",\"showbackground\":true,\"ticks\":\"\",\"zerolinecolor\":\"white\"}},\"shapedefaults\":{\"line\":{\"color\":\"#2a3f5f\"}},\"ternary\":{\"aaxis\":{\"gridcolor\":\"white\",\"linecolor\":\"white\",\"ticks\":\"\"},\"baxis\":{\"gridcolor\":\"white\",\"linecolor\":\"white\",\"ticks\":\"\"},\"bgcolor\":\"#E5ECF6\",\"caxis\":{\"gridcolor\":\"white\",\"linecolor\":\"white\",\"ticks\":\"\"}},\"title\":{\"x\":0.05},\"xaxis\":{\"automargin\":true,\"gridcolor\":\"white\",\"linecolor\":\"white\",\"ticks\":\"\",\"title\":{\"standoff\":15},\"zerolinecolor\":\"white\",\"zerolinewidth\":2},\"yaxis\":{\"automargin\":true,\"gridcolor\":\"white\",\"linecolor\":\"white\",\"ticks\":\"\",\"title\":{\"standoff\":15},\"zerolinecolor\":\"white\",\"zerolinewidth\":2}}},\"xaxis\":{\"anchor\":\"y\",\"domain\":[0.0,1.0],\"title\":{\"text\":\"\\u0422\\u0438\\u043f \\u043e\\u0431\\u044a\\u0435\\u043a\\u0442\\u0430\"}},\"yaxis\":{\"anchor\":\"x\",\"domain\":[0.0,1.0],\"title\":{\"text\":\"\\u0414\\u043e\\u043b\\u044f \\u0441\\u0435\\u0442\\u0435\\u0432\\u044b\\u0445 \\u0437\\u0430\\u0432\\u0435\\u0434\\u0435\\u043d\\u0438\\u0439, %\"},\"range\":[0,45]},\"legend\":{\"tracegroupgap\":0},\"title\":{\"text\":\"\\u0414\\u043e\\u043b\\u044f \\u0441\\u0435\\u0442\\u0435\\u0432\\u044b\\u0445 \\u0437\\u0430\\u0432\\u0435\\u0434\\u0435\\u043d\\u0438\\u0439 \\u043f\\u043e \\u0442\\u0438\\u043f\\u0430\\u043c \\u0437\\u0430\\u0432\\u0435\\u0434\\u0435\\u043d\\u0438\\u0439\"},\"barmode\":\"relative\"},                        {\"responsive\": true}                    ).then(function(){\n",
              "                            \n",
              "var gd = document.getElementById('126e2828-afe8-41f8-bc0e-45396f216f6e');\n",
              "var x = new MutationObserver(function (mutations, observer) {{\n",
              "        var display = window.getComputedStyle(gd).display;\n",
              "        if (!display || display === 'none') {{\n",
              "            console.log([gd, 'removed!']);\n",
              "            Plotly.purge(gd);\n",
              "            observer.disconnect();\n",
              "        }}\n",
              "}});\n",
              "\n",
              "// Listen for the removal of the full notebook cells\n",
              "var notebookContainer = gd.closest('#notebook-container');\n",
              "if (notebookContainer) {{\n",
              "    x.observe(notebookContainer, {childList: true});\n",
              "}}\n",
              "\n",
              "// Listen for the clearing of the current output cell\n",
              "var outputEl = gd.closest('.output');\n",
              "if (outputEl) {{\n",
              "    x.observe(outputEl, {childList: true});\n",
              "}}\n",
              "\n",
              "                        })                };                            </script>        </div>\n",
              "</body>\n",
              "</html>"
            ]
          },
          "metadata": {}
        }
      ],
      "source": [
        "# Определим для какого типа объектов общественного питания характерно сетевое распространение\n",
        "# Создадим сводную таблицу \n",
        "grouped_chain = rest_data.pivot_table(values = 'object_name', index='object_type', columns=['chain'], aggfunc='count').reset_index()\n",
        "\n",
        "# Расчитаем долю (ratio) сетевых заведений в каждом из типов \n",
        "grouped_chain['ratio'] = (grouped_chain['сетевые']/(grouped_chain['сетевые']+grouped_chain['несетевые'])*100).round(1)\n",
        "\n",
        "# Построим столбчатую диаграмму \n",
        "grouped_chain_fig = px.bar(grouped_chain.sort_values(by='ratio', ascending=False),\n",
        "                y='ratio',\n",
        "                x='object_type',\n",
        "                text='ratio',\n",
        "                title='Доля сетевых заведений по типам заведений',\n",
        "                labels={'ratio':'Доля сетевых заведений, %', 'object_type':'Тип объекта'})\n",
        "grouped_chain_fig.update_yaxes(range=[0, 45])\n",
        "grouped_chain_fig.update_traces(textposition=\"outside\")\n",
        "grouped_chain_fig.show()"
      ]
    },
    {
      "cell_type": "code",
      "execution_count": null,
      "metadata": {
        "id": "Q02vRYtM-vgv",
        "outputId": "e955b412-f1f8-42a7-e131-0d70594ca5cf",
        "colab": {
          "base_uri": "https://localhost:8080/",
          "height": 363
        }
      },
      "outputs": [
        {
          "output_type": "execute_result",
          "data": {
            "text/plain": [
              "                                      chain\n",
              "object_type                                \n",
              "бар                                0.043224\n",
              "буфет                              0.018803\n",
              "закусочная                         0.155556\n",
              "кафе                               0.228890\n",
              "кафетерий                          0.130653\n",
              "магазин (отдел кулинарии)          0.285714\n",
              "предприятие быстрого обслуживания  0.411336\n",
              "ресторан                           0.238074\n",
              "столовая                           0.001160"
            ],
            "text/html": [
              "\n",
              "  <div id=\"df-93e64a15-7fee-4480-bbde-9eb291a2ebaa\">\n",
              "    <div class=\"colab-df-container\">\n",
              "      <div>\n",
              "<style scoped>\n",
              "    .dataframe tbody tr th:only-of-type {\n",
              "        vertical-align: middle;\n",
              "    }\n",
              "\n",
              "    .dataframe tbody tr th {\n",
              "        vertical-align: top;\n",
              "    }\n",
              "\n",
              "    .dataframe thead th {\n",
              "        text-align: right;\n",
              "    }\n",
              "</style>\n",
              "<table border=\"1\" class=\"dataframe\">\n",
              "  <thead>\n",
              "    <tr style=\"text-align: right;\">\n",
              "      <th></th>\n",
              "      <th>chain</th>\n",
              "    </tr>\n",
              "    <tr>\n",
              "      <th>object_type</th>\n",
              "      <th></th>\n",
              "    </tr>\n",
              "  </thead>\n",
              "  <tbody>\n",
              "    <tr>\n",
              "      <th>бар</th>\n",
              "      <td>0.043224</td>\n",
              "    </tr>\n",
              "    <tr>\n",
              "      <th>буфет</th>\n",
              "      <td>0.018803</td>\n",
              "    </tr>\n",
              "    <tr>\n",
              "      <th>закусочная</th>\n",
              "      <td>0.155556</td>\n",
              "    </tr>\n",
              "    <tr>\n",
              "      <th>кафе</th>\n",
              "      <td>0.228890</td>\n",
              "    </tr>\n",
              "    <tr>\n",
              "      <th>кафетерий</th>\n",
              "      <td>0.130653</td>\n",
              "    </tr>\n",
              "    <tr>\n",
              "      <th>магазин (отдел кулинарии)</th>\n",
              "      <td>0.285714</td>\n",
              "    </tr>\n",
              "    <tr>\n",
              "      <th>предприятие быстрого обслуживания</th>\n",
              "      <td>0.411336</td>\n",
              "    </tr>\n",
              "    <tr>\n",
              "      <th>ресторан</th>\n",
              "      <td>0.238074</td>\n",
              "    </tr>\n",
              "    <tr>\n",
              "      <th>столовая</th>\n",
              "      <td>0.001160</td>\n",
              "    </tr>\n",
              "  </tbody>\n",
              "</table>\n",
              "</div>\n",
              "      <button class=\"colab-df-convert\" onclick=\"convertToInteractive('df-93e64a15-7fee-4480-bbde-9eb291a2ebaa')\"\n",
              "              title=\"Convert this dataframe to an interactive table.\"\n",
              "              style=\"display:none;\">\n",
              "        \n",
              "  <svg xmlns=\"http://www.w3.org/2000/svg\" height=\"24px\"viewBox=\"0 0 24 24\"\n",
              "       width=\"24px\">\n",
              "    <path d=\"M0 0h24v24H0V0z\" fill=\"none\"/>\n",
              "    <path d=\"M18.56 5.44l.94 2.06.94-2.06 2.06-.94-2.06-.94-.94-2.06-.94 2.06-2.06.94zm-11 1L8.5 8.5l.94-2.06 2.06-.94-2.06-.94L8.5 2.5l-.94 2.06-2.06.94zm10 10l.94 2.06.94-2.06 2.06-.94-2.06-.94-.94-2.06-.94 2.06-2.06.94z\"/><path d=\"M17.41 7.96l-1.37-1.37c-.4-.4-.92-.59-1.43-.59-.52 0-1.04.2-1.43.59L10.3 9.45l-7.72 7.72c-.78.78-.78 2.05 0 2.83L4 21.41c.39.39.9.59 1.41.59.51 0 1.02-.2 1.41-.59l7.78-7.78 2.81-2.81c.8-.78.8-2.07 0-2.86zM5.41 20L4 18.59l7.72-7.72 1.47 1.35L5.41 20z\"/>\n",
              "  </svg>\n",
              "      </button>\n",
              "      \n",
              "  <style>\n",
              "    .colab-df-container {\n",
              "      display:flex;\n",
              "      flex-wrap:wrap;\n",
              "      gap: 12px;\n",
              "    }\n",
              "\n",
              "    .colab-df-convert {\n",
              "      background-color: #E8F0FE;\n",
              "      border: none;\n",
              "      border-radius: 50%;\n",
              "      cursor: pointer;\n",
              "      display: none;\n",
              "      fill: #1967D2;\n",
              "      height: 32px;\n",
              "      padding: 0 0 0 0;\n",
              "      width: 32px;\n",
              "    }\n",
              "\n",
              "    .colab-df-convert:hover {\n",
              "      background-color: #E2EBFA;\n",
              "      box-shadow: 0px 1px 2px rgba(60, 64, 67, 0.3), 0px 1px 3px 1px rgba(60, 64, 67, 0.15);\n",
              "      fill: #174EA6;\n",
              "    }\n",
              "\n",
              "    [theme=dark] .colab-df-convert {\n",
              "      background-color: #3B4455;\n",
              "      fill: #D2E3FC;\n",
              "    }\n",
              "\n",
              "    [theme=dark] .colab-df-convert:hover {\n",
              "      background-color: #434B5C;\n",
              "      box-shadow: 0px 1px 3px 1px rgba(0, 0, 0, 0.15);\n",
              "      filter: drop-shadow(0px 1px 2px rgba(0, 0, 0, 0.3));\n",
              "      fill: #FFFFFF;\n",
              "    }\n",
              "  </style>\n",
              "\n",
              "      <script>\n",
              "        const buttonEl =\n",
              "          document.querySelector('#df-93e64a15-7fee-4480-bbde-9eb291a2ebaa button.colab-df-convert');\n",
              "        buttonEl.style.display =\n",
              "          google.colab.kernel.accessAllowed ? 'block' : 'none';\n",
              "\n",
              "        async function convertToInteractive(key) {\n",
              "          const element = document.querySelector('#df-93e64a15-7fee-4480-bbde-9eb291a2ebaa');\n",
              "          const dataTable =\n",
              "            await google.colab.kernel.invokeFunction('convertToInteractive',\n",
              "                                                     [key], {});\n",
              "          if (!dataTable) return;\n",
              "\n",
              "          const docLinkHtml = 'Like what you see? Visit the ' +\n",
              "            '<a target=\"_blank\" href=https://colab.research.google.com/notebooks/data_table.ipynb>data table notebook</a>'\n",
              "            + ' to learn more about interactive tables.';\n",
              "          element.innerHTML = '';\n",
              "          dataTable['output_type'] = 'display_data';\n",
              "          await google.colab.output.renderOutput(dataTable, element);\n",
              "          const docLink = document.createElement('div');\n",
              "          docLink.innerHTML = docLinkHtml;\n",
              "          element.appendChild(docLink);\n",
              "        }\n",
              "      </script>\n",
              "    </div>\n",
              "  </div>\n",
              "  "
            ]
          },
          "metadata": {},
          "execution_count": 17
        }
      ],
      "source": [
        "# Код ревьюера\n",
        "\n",
        "rest_data.groupby('object_type').agg({'chain' : lambda x : (x == 'сетевые').mean()})"
      ]
    },
    {
      "cell_type": "markdown",
      "metadata": {
        "id": "ZWSIy3Zi-vgv"
      },
      "source": [
        "**Вывод** Выше всего доля сетевых завдений в фастфуде, кулинарии, ресторанах и кафе. Столовые, буфеты и бары, напротив в подовляющим большинстве - несетевые заведений."
      ]
    },
    {
      "cell_type": "code",
      "execution_count": null,
      "metadata": {
        "id": "YdSsErFZ-vgv",
        "outputId": "93b40ebe-f0ed-4b9b-8b2e-3abfe1a6bde8",
        "colab": {
          "base_uri": "https://localhost:8080/",
          "height": 458
        }
      },
      "outputs": [
        {
          "output_type": "stream",
          "name": "stdout",
          "text": [
            "Максимальное число заведений 155\n",
            "Максимальное количество посадочных мест 356.0\n"
          ]
        },
        {
          "output_type": "display_data",
          "data": {
            "text/plain": [
              "                object_name   id      number\n",
              "0                       KFC  155   55.341935\n",
              "1               Шоколадница  141   56.170213\n",
              "2                Макдоналдс  122   81.500000\n",
              "3               Бургер Кинг  122   45.016393\n",
              "4            Домино'с Пицца   86   18.209302\n",
              "..                      ...  ...         ...\n",
              "719         Кафе «Марукамэ»    1   40.000000\n",
              "720          Кафе «МЕЛЕНКА»    1   60.000000\n",
              "721       Кафе «МАКДОНАЛДС»    1   40.000000\n",
              "722  Кафе «Кулинарное бюро»    1   18.000000\n",
              "723     ресторан «Якитория»    1  124.000000\n",
              "\n",
              "[724 rows x 3 columns]"
            ],
            "text/html": [
              "\n",
              "  <div id=\"df-00ea30cf-0f1d-4fed-8a21-775199f2603b\">\n",
              "    <div class=\"colab-df-container\">\n",
              "      <div>\n",
              "<style scoped>\n",
              "    .dataframe tbody tr th:only-of-type {\n",
              "        vertical-align: middle;\n",
              "    }\n",
              "\n",
              "    .dataframe tbody tr th {\n",
              "        vertical-align: top;\n",
              "    }\n",
              "\n",
              "    .dataframe thead th {\n",
              "        text-align: right;\n",
              "    }\n",
              "</style>\n",
              "<table border=\"1\" class=\"dataframe\">\n",
              "  <thead>\n",
              "    <tr style=\"text-align: right;\">\n",
              "      <th></th>\n",
              "      <th>object_name</th>\n",
              "      <th>id</th>\n",
              "      <th>number</th>\n",
              "    </tr>\n",
              "  </thead>\n",
              "  <tbody>\n",
              "    <tr>\n",
              "      <th>0</th>\n",
              "      <td>KFC</td>\n",
              "      <td>155</td>\n",
              "      <td>55.341935</td>\n",
              "    </tr>\n",
              "    <tr>\n",
              "      <th>1</th>\n",
              "      <td>Шоколадница</td>\n",
              "      <td>141</td>\n",
              "      <td>56.170213</td>\n",
              "    </tr>\n",
              "    <tr>\n",
              "      <th>2</th>\n",
              "      <td>Макдоналдс</td>\n",
              "      <td>122</td>\n",
              "      <td>81.500000</td>\n",
              "    </tr>\n",
              "    <tr>\n",
              "      <th>3</th>\n",
              "      <td>Бургер Кинг</td>\n",
              "      <td>122</td>\n",
              "      <td>45.016393</td>\n",
              "    </tr>\n",
              "    <tr>\n",
              "      <th>4</th>\n",
              "      <td>Домино'с Пицца</td>\n",
              "      <td>86</td>\n",
              "      <td>18.209302</td>\n",
              "    </tr>\n",
              "    <tr>\n",
              "      <th>...</th>\n",
              "      <td>...</td>\n",
              "      <td>...</td>\n",
              "      <td>...</td>\n",
              "    </tr>\n",
              "    <tr>\n",
              "      <th>719</th>\n",
              "      <td>Кафе «Марукамэ»</td>\n",
              "      <td>1</td>\n",
              "      <td>40.000000</td>\n",
              "    </tr>\n",
              "    <tr>\n",
              "      <th>720</th>\n",
              "      <td>Кафе «МЕЛЕНКА»</td>\n",
              "      <td>1</td>\n",
              "      <td>60.000000</td>\n",
              "    </tr>\n",
              "    <tr>\n",
              "      <th>721</th>\n",
              "      <td>Кафе «МАКДОНАЛДС»</td>\n",
              "      <td>1</td>\n",
              "      <td>40.000000</td>\n",
              "    </tr>\n",
              "    <tr>\n",
              "      <th>722</th>\n",
              "      <td>Кафе «Кулинарное бюро»</td>\n",
              "      <td>1</td>\n",
              "      <td>18.000000</td>\n",
              "    </tr>\n",
              "    <tr>\n",
              "      <th>723</th>\n",
              "      <td>ресторан «Якитория»</td>\n",
              "      <td>1</td>\n",
              "      <td>124.000000</td>\n",
              "    </tr>\n",
              "  </tbody>\n",
              "</table>\n",
              "<p>724 rows × 3 columns</p>\n",
              "</div>\n",
              "      <button class=\"colab-df-convert\" onclick=\"convertToInteractive('df-00ea30cf-0f1d-4fed-8a21-775199f2603b')\"\n",
              "              title=\"Convert this dataframe to an interactive table.\"\n",
              "              style=\"display:none;\">\n",
              "        \n",
              "  <svg xmlns=\"http://www.w3.org/2000/svg\" height=\"24px\"viewBox=\"0 0 24 24\"\n",
              "       width=\"24px\">\n",
              "    <path d=\"M0 0h24v24H0V0z\" fill=\"none\"/>\n",
              "    <path d=\"M18.56 5.44l.94 2.06.94-2.06 2.06-.94-2.06-.94-.94-2.06-.94 2.06-2.06.94zm-11 1L8.5 8.5l.94-2.06 2.06-.94-2.06-.94L8.5 2.5l-.94 2.06-2.06.94zm10 10l.94 2.06.94-2.06 2.06-.94-2.06-.94-.94-2.06-.94 2.06-2.06.94z\"/><path d=\"M17.41 7.96l-1.37-1.37c-.4-.4-.92-.59-1.43-.59-.52 0-1.04.2-1.43.59L10.3 9.45l-7.72 7.72c-.78.78-.78 2.05 0 2.83L4 21.41c.39.39.9.59 1.41.59.51 0 1.02-.2 1.41-.59l7.78-7.78 2.81-2.81c.8-.78.8-2.07 0-2.86zM5.41 20L4 18.59l7.72-7.72 1.47 1.35L5.41 20z\"/>\n",
              "  </svg>\n",
              "      </button>\n",
              "      \n",
              "  <style>\n",
              "    .colab-df-container {\n",
              "      display:flex;\n",
              "      flex-wrap:wrap;\n",
              "      gap: 12px;\n",
              "    }\n",
              "\n",
              "    .colab-df-convert {\n",
              "      background-color: #E8F0FE;\n",
              "      border: none;\n",
              "      border-radius: 50%;\n",
              "      cursor: pointer;\n",
              "      display: none;\n",
              "      fill: #1967D2;\n",
              "      height: 32px;\n",
              "      padding: 0 0 0 0;\n",
              "      width: 32px;\n",
              "    }\n",
              "\n",
              "    .colab-df-convert:hover {\n",
              "      background-color: #E2EBFA;\n",
              "      box-shadow: 0px 1px 2px rgba(60, 64, 67, 0.3), 0px 1px 3px 1px rgba(60, 64, 67, 0.15);\n",
              "      fill: #174EA6;\n",
              "    }\n",
              "\n",
              "    [theme=dark] .colab-df-convert {\n",
              "      background-color: #3B4455;\n",
              "      fill: #D2E3FC;\n",
              "    }\n",
              "\n",
              "    [theme=dark] .colab-df-convert:hover {\n",
              "      background-color: #434B5C;\n",
              "      box-shadow: 0px 1px 3px 1px rgba(0, 0, 0, 0.15);\n",
              "      filter: drop-shadow(0px 1px 2px rgba(0, 0, 0, 0.3));\n",
              "      fill: #FFFFFF;\n",
              "    }\n",
              "  </style>\n",
              "\n",
              "      <script>\n",
              "        const buttonEl =\n",
              "          document.querySelector('#df-00ea30cf-0f1d-4fed-8a21-775199f2603b button.colab-df-convert');\n",
              "        buttonEl.style.display =\n",
              "          google.colab.kernel.accessAllowed ? 'block' : 'none';\n",
              "\n",
              "        async function convertToInteractive(key) {\n",
              "          const element = document.querySelector('#df-00ea30cf-0f1d-4fed-8a21-775199f2603b');\n",
              "          const dataTable =\n",
              "            await google.colab.kernel.invokeFunction('convertToInteractive',\n",
              "                                                     [key], {});\n",
              "          if (!dataTable) return;\n",
              "\n",
              "          const docLinkHtml = 'Like what you see? Visit the ' +\n",
              "            '<a target=\"_blank\" href=https://colab.research.google.com/notebooks/data_table.ipynb>data table notebook</a>'\n",
              "            + ' to learn more about interactive tables.';\n",
              "          element.innerHTML = '';\n",
              "          dataTable['output_type'] = 'display_data';\n",
              "          await google.colab.output.renderOutput(dataTable, element);\n",
              "          const docLink = document.createElement('div');\n",
              "          docLink.innerHTML = docLinkHtml;\n",
              "          element.appendChild(docLink);\n",
              "        }\n",
              "      </script>\n",
              "    </div>\n",
              "  </div>\n",
              "  "
            ]
          },
          "metadata": {}
        }
      ],
      "source": [
        "# Сделаем срез данных, включающий только сетевые заведения\n",
        "network_catering_enterprises = rest_data.query(\"chain == 'сетевые'\")\n",
        "\n",
        "# На его основе построим сводную таблицу где расчитаем для каждой из сетей \n",
        "# число заведений и среднее число посадочных мест\n",
        "network_catering_enterprises = network_catering_enterprises.pivot_table(\n",
        "                               index='object_name', \n",
        "                               values=['id', 'number'],\n",
        "                               aggfunc={'id': 'count', 'number': 'mean'}).sort_values(by='id', ascending=False).reset_index() \n",
        "\n",
        "print('Максимальное число заведений', network_catering_enterprises['id'].max())\n",
        "print('Максимальное количество посадочных мест', network_catering_enterprises['number'].max())\n",
        "display(network_catering_enterprises)"
      ]
    },
    {
      "cell_type": "code",
      "execution_count": null,
      "metadata": {
        "id": "SsjpGtpj-vgw",
        "outputId": "e764f234-e64a-4af4-c5d5-96410a392d4a",
        "colab": {
          "base_uri": "https://localhost:8080/",
          "height": 571
        }
      },
      "outputs": [
        {
          "output_type": "display_data",
          "data": {
            "text/plain": [
              "<Figure size 720x576 with 3 Axes>"
            ],
            "image/png": "[encoded data removed]"
          },
          "metadata": {
            "needs_background": "light"
          }
        }
      ],
      "source": [
        "# Постоим Joint plot , чтобы совместить  на одном графике распереление числа завдений и посадочных мест\n",
        "nce_fug = sns.jointplot(x='number', y='id', data=network_catering_enterprises, color='#4000ff', kind='reg')\n",
        "nce_fug.fig.set_figwidth(10)\n",
        "nce_fug.fig.set_figheight(8)\n",
        "nce_fug.fig.suptitle('Распределение сетевых заведений по количеству объектов и посадочных мест', fontsize=14)\n",
        "\n",
        "nce_fug.set_axis_labels('Количество посадочных мест, ед.','Количество объектов, ед.', fontsize=10 )\n",
        "plt.xlim(0,360)\n",
        "plt.ylim(0,160)\n",
        "plt.show()"
      ]
    },
    {
      "cell_type": "markdown",
      "metadata": {
        "id": "ODDiAEzM-vgw"
      },
      "source": [
        "**Вывод** Среди московских сетевых заведений общественного питания преобладают сети с небольшим числом объектов (до 10) и небольшим количеством посадочных мест (20-50). Заведения с большим количеством объектов обладают небольшой вместимостью (40-70 мест)"
      ]
    },
    {
      "cell_type": "markdown",
      "metadata": {
        "id": "f13iMgPq-vgw"
      },
      "source": [
        "Разобъём все сети на группы:   \n",
        "* мало заведений / мало мест  \n",
        "* мало заведений / много мест  \n",
        "* много заведений/ мало мест  \n",
        "* много заведений/много мест  \n",
        "Чтобы определить сколько счистать \"мало\" и \"много\" посмотрим на квартили и перцентили"
      ]
    },
    {
      "cell_type": "code",
      "execution_count": null,
      "metadata": {
        "id": "jF98cWB6-vgx",
        "outputId": "318e3d99-dcbe-4eb8-9e94-052c9cf7486d",
        "colab": {
          "base_uri": "https://localhost:8080/"
        }
      },
      "outputs": [
        {
          "output_type": "stream",
          "name": "stdout",
          "text": [
            "3/4 сетей состят из [2.] заведений\n"
          ]
        }
      ],
      "source": [
        "print('3/4 сетей состят из',np.percentile(network_catering_enterprises['id'], [75]), 'заведений')"
      ]
    },
    {
      "cell_type": "code",
      "execution_count": null,
      "metadata": {
        "id": "VLZDO2x--vgx",
        "outputId": "8005071f-36af-4739-beb7-63491bd3ed77",
        "colab": {
          "base_uri": "https://localhost:8080/"
        }
      },
      "outputs": [
        {
          "output_type": "stream",
          "name": "stdout",
          "text": [
            "95% сетей состят из [12.] заведений\n"
          ]
        }
      ],
      "source": [
        "# Чтото 75% совсем мало завдений имеют - 2 это не сеть, в моём понимании, посмотрим на 95%\n",
        "print('95% сетей состят из',np.percentile(network_catering_enterprises['id'], [95]), 'заведений')"
      ]
    },
    {
      "cell_type": "code",
      "execution_count": null,
      "metadata": {
        "id": "SuMNcNMd-vgx",
        "outputId": "49350f63-ed57-479d-e5b3-e270fb98e1d2",
        "colab": {
          "base_uri": "https://localhost:8080/"
        }
      },
      "outputs": [
        {
          "output_type": "stream",
          "name": "stdout",
          "text": [
            "3/4 сетей имеют [83.625] посадочных мест/-а\n"
          ]
        }
      ],
      "source": [
        "print('3/4 сетей имеют', np.percentile(network_catering_enterprises['number'], [75]), 'посадочных мест/-а')"
      ]
    },
    {
      "cell_type": "code",
      "execution_count": null,
      "metadata": {
        "id": "ltWnoYdS-vgy",
        "outputId": "3d89cd6c-529b-43f7-d1c7-dafd582bad6a",
        "colab": {
          "base_uri": "https://localhost:8080/"
        }
      },
      "outputs": [
        {
          "output_type": "stream",
          "name": "stdout",
          "text": [
            "Половина сетей имеют [45.] посадочных мест/-а\n"
          ]
        }
      ],
      "source": [
        "# 83 долеко отсредлнего, посмотрим медиану\n",
        "print('Половина сетей имеют', np.percentile(network_catering_enterprises['number'], [50]), 'посадочных мест/-а')"
      ]
    },
    {
      "cell_type": "markdown",
      "metadata": {
        "id": "pmihqmJg-vgy"
      },
      "source": [
        "По числу заведений отсечку мало/ много устновим на уровне 12 заведений, по числу посадочных мест - 45 мест.  \n",
        "Напишим функцию, которая будет примвивать категиорию в новый столбец датафрейма network_catering_enterprises"
      ]
    },
    {
      "cell_type": "code",
      "execution_count": null,
      "metadata": {
        "id": "9nyVbuYz-vgy",
        "outputId": "d670d1a5-9dcf-43f3-bb50-15a8f3525461",
        "colab": {
          "base_uri": "https://localhost:8080/",
          "height": 206
        }
      },
      "outputs": [
        {
          "output_type": "display_data",
          "data": {
            "text/plain": [
              "      object_name   id     number                    category\n",
              "0             KFC  155  55.341935  много заведений/много мест\n",
              "1     Шоколадница  141  56.170213  много заведений/много мест\n",
              "2      Макдоналдс  122  81.500000  много заведений/много мест\n",
              "3     Бургер Кинг  122  45.016393  много заведений/много мест\n",
              "4  Домино'с Пицца   86  18.209302  много заведений/ мало мест"
            ],
            "text/html": [
              "\n",
              "  <div id=\"df-9c8a51b7-d729-4517-9385-90994a27868e\">\n",
              "    <div class=\"colab-df-container\">\n",
              "      <div>\n",
              "<style scoped>\n",
              "    .dataframe tbody tr th:only-of-type {\n",
              "        vertical-align: middle;\n",
              "    }\n",
              "\n",
              "    .dataframe tbody tr th {\n",
              "        vertical-align: top;\n",
              "    }\n",
              "\n",
              "    .dataframe thead th {\n",
              "        text-align: right;\n",
              "    }\n",
              "</style>\n",
              "<table border=\"1\" class=\"dataframe\">\n",
              "  <thead>\n",
              "    <tr style=\"text-align: right;\">\n",
              "      <th></th>\n",
              "      <th>object_name</th>\n",
              "      <th>id</th>\n",
              "      <th>number</th>\n",
              "      <th>category</th>\n",
              "    </tr>\n",
              "  </thead>\n",
              "  <tbody>\n",
              "    <tr>\n",
              "      <th>0</th>\n",
              "      <td>KFC</td>\n",
              "      <td>155</td>\n",
              "      <td>55.341935</td>\n",
              "      <td>много заведений/много мест</td>\n",
              "    </tr>\n",
              "    <tr>\n",
              "      <th>1</th>\n",
              "      <td>Шоколадница</td>\n",
              "      <td>141</td>\n",
              "      <td>56.170213</td>\n",
              "      <td>много заведений/много мест</td>\n",
              "    </tr>\n",
              "    <tr>\n",
              "      <th>2</th>\n",
              "      <td>Макдоналдс</td>\n",
              "      <td>122</td>\n",
              "      <td>81.500000</td>\n",
              "      <td>много заведений/много мест</td>\n",
              "    </tr>\n",
              "    <tr>\n",
              "      <th>3</th>\n",
              "      <td>Бургер Кинг</td>\n",
              "      <td>122</td>\n",
              "      <td>45.016393</td>\n",
              "      <td>много заведений/много мест</td>\n",
              "    </tr>\n",
              "    <tr>\n",
              "      <th>4</th>\n",
              "      <td>Домино'с Пицца</td>\n",
              "      <td>86</td>\n",
              "      <td>18.209302</td>\n",
              "      <td>много заведений/ мало мест</td>\n",
              "    </tr>\n",
              "  </tbody>\n",
              "</table>\n",
              "</div>\n",
              "      <button class=\"colab-df-convert\" onclick=\"convertToInteractive('df-9c8a51b7-d729-4517-9385-90994a27868e')\"\n",
              "              title=\"Convert this dataframe to an interactive table.\"\n",
              "              style=\"display:none;\">\n",
              "        \n",
              "  <svg xmlns=\"http://www.w3.org/2000/svg\" height=\"24px\"viewBox=\"0 0 24 24\"\n",
              "       width=\"24px\">\n",
              "    <path d=\"M0 0h24v24H0V0z\" fill=\"none\"/>\n",
              "    <path d=\"M18.56 5.44l.94 2.06.94-2.06 2.06-.94-2.06-.94-.94-2.06-.94 2.06-2.06.94zm-11 1L8.5 8.5l.94-2.06 2.06-.94-2.06-.94L8.5 2.5l-.94 2.06-2.06.94zm10 10l.94 2.06.94-2.06 2.06-.94-2.06-.94-.94-2.06-.94 2.06-2.06.94z\"/><path d=\"M17.41 7.96l-1.37-1.37c-.4-.4-.92-.59-1.43-.59-.52 0-1.04.2-1.43.59L10.3 9.45l-7.72 7.72c-.78.78-.78 2.05 0 2.83L4 21.41c.39.39.9.59 1.41.59.51 0 1.02-.2 1.41-.59l7.78-7.78 2.81-2.81c.8-.78.8-2.07 0-2.86zM5.41 20L4 18.59l7.72-7.72 1.47 1.35L5.41 20z\"/>\n",
              "  </svg>\n",
              "      </button>\n",
              "      \n",
              "  <style>\n",
              "    .colab-df-container {\n",
              "      display:flex;\n",
              "      flex-wrap:wrap;\n",
              "      gap: 12px;\n",
              "    }\n",
              "\n",
              "    .colab-df-convert {\n",
              "      background-color: #E8F0FE;\n",
              "      border: none;\n",
              "      border-radius: 50%;\n",
              "      cursor: pointer;\n",
              "      display: none;\n",
              "      fill: #1967D2;\n",
              "      height: 32px;\n",
              "      padding: 0 0 0 0;\n",
              "      width: 32px;\n",
              "    }\n",
              "\n",
              "    .colab-df-convert:hover {\n",
              "      background-color: #E2EBFA;\n",
              "      box-shadow: 0px 1px 2px rgba(60, 64, 67, 0.3), 0px 1px 3px 1px rgba(60, 64, 67, 0.15);\n",
              "      fill: #174EA6;\n",
              "    }\n",
              "\n",
              "    [theme=dark] .colab-df-convert {\n",
              "      background-color: #3B4455;\n",
              "      fill: #D2E3FC;\n",
              "    }\n",
              "\n",
              "    [theme=dark] .colab-df-convert:hover {\n",
              "      background-color: #434B5C;\n",
              "      box-shadow: 0px 1px 3px 1px rgba(0, 0, 0, 0.15);\n",
              "      filter: drop-shadow(0px 1px 2px rgba(0, 0, 0, 0.3));\n",
              "      fill: #FFFFFF;\n",
              "    }\n",
              "  </style>\n",
              "\n",
              "      <script>\n",
              "        const buttonEl =\n",
              "          document.querySelector('#df-9c8a51b7-d729-4517-9385-90994a27868e button.colab-df-convert');\n",
              "        buttonEl.style.display =\n",
              "          google.colab.kernel.accessAllowed ? 'block' : 'none';\n",
              "\n",
              "        async function convertToInteractive(key) {\n",
              "          const element = document.querySelector('#df-9c8a51b7-d729-4517-9385-90994a27868e');\n",
              "          const dataTable =\n",
              "            await google.colab.kernel.invokeFunction('convertToInteractive',\n",
              "                                                     [key], {});\n",
              "          if (!dataTable) return;\n",
              "\n",
              "          const docLinkHtml = 'Like what you see? Visit the ' +\n",
              "            '<a target=\"_blank\" href=https://colab.research.google.com/notebooks/data_table.ipynb>data table notebook</a>'\n",
              "            + ' to learn more about interactive tables.';\n",
              "          element.innerHTML = '';\n",
              "          dataTable['output_type'] = 'display_data';\n",
              "          await google.colab.output.renderOutput(dataTable, element);\n",
              "          const docLink = document.createElement('div');\n",
              "          docLink.innerHTML = docLinkHtml;\n",
              "          element.appendChild(docLink);\n",
              "        }\n",
              "      </script>\n",
              "    </div>\n",
              "  </div>\n",
              "  "
            ]
          },
          "metadata": {}
        }
      ],
      "source": [
        "def number (i):\n",
        "    object_count = i['id']\n",
        "    number_count=i['number']\n",
        "    if object_count < 12 and number_count < 45:\n",
        "            return 'мало заведений / мало мест'\n",
        "    if object_count < 12 and number_count >= 45:\n",
        "            return 'мало заведений / много мест'\n",
        "    if object_count >=12 and number_count < 45:\n",
        "            return 'много заведений/ мало мест'\n",
        "    if object_count >=12 and number_count >= 45:\n",
        "            return 'много заведений/много мест'\n",
        "    \n",
        "network_catering_enterprises['category'] = network_catering_enterprises.apply(number, axis = 1)\n",
        "display(network_catering_enterprises.head())"
      ]
    },
    {
      "cell_type": "code",
      "execution_count": null,
      "metadata": {
        "id": "e2ADi5FM-vgz",
        "outputId": "557716ea-e981-4069-d1a0-cb64f69de976",
        "colab": {
          "base_uri": "https://localhost:8080/",
          "height": 206
        }
      },
      "outputs": [
        {
          "output_type": "display_data",
          "data": {
            "text/plain": [
              "                             category\n",
              "category                             \n",
              "мало заведений / мало мест        331\n",
              "мало заведений / много мест       353\n",
              "много заведений/ мало мест         23\n",
              "много заведений/много мест         17"
            ],
            "text/html": [
              "\n",
              "  <div id=\"df-296cbe6f-0e50-48fd-ada9-1b977b7bea80\">\n",
              "    <div class=\"colab-df-container\">\n",
              "      <div>\n",
              "<style scoped>\n",
              "    .dataframe tbody tr th:only-of-type {\n",
              "        vertical-align: middle;\n",
              "    }\n",
              "\n",
              "    .dataframe tbody tr th {\n",
              "        vertical-align: top;\n",
              "    }\n",
              "\n",
              "    .dataframe thead th {\n",
              "        text-align: right;\n",
              "    }\n",
              "</style>\n",
              "<table border=\"1\" class=\"dataframe\">\n",
              "  <thead>\n",
              "    <tr style=\"text-align: right;\">\n",
              "      <th></th>\n",
              "      <th>category</th>\n",
              "    </tr>\n",
              "    <tr>\n",
              "      <th>category</th>\n",
              "      <th></th>\n",
              "    </tr>\n",
              "  </thead>\n",
              "  <tbody>\n",
              "    <tr>\n",
              "      <th>мало заведений / мало мест</th>\n",
              "      <td>331</td>\n",
              "    </tr>\n",
              "    <tr>\n",
              "      <th>мало заведений / много мест</th>\n",
              "      <td>353</td>\n",
              "    </tr>\n",
              "    <tr>\n",
              "      <th>много заведений/ мало мест</th>\n",
              "      <td>23</td>\n",
              "    </tr>\n",
              "    <tr>\n",
              "      <th>много заведений/много мест</th>\n",
              "      <td>17</td>\n",
              "    </tr>\n",
              "  </tbody>\n",
              "</table>\n",
              "</div>\n",
              "      <button class=\"colab-df-convert\" onclick=\"convertToInteractive('df-296cbe6f-0e50-48fd-ada9-1b977b7bea80')\"\n",
              "              title=\"Convert this dataframe to an interactive table.\"\n",
              "              style=\"display:none;\">\n",
              "        \n",
              "  <svg xmlns=\"http://www.w3.org/2000/svg\" height=\"24px\"viewBox=\"0 0 24 24\"\n",
              "       width=\"24px\">\n",
              "    <path d=\"M0 0h24v24H0V0z\" fill=\"none\"/>\n",
              "    <path d=\"M18.56 5.44l.94 2.06.94-2.06 2.06-.94-2.06-.94-.94-2.06-.94 2.06-2.06.94zm-11 1L8.5 8.5l.94-2.06 2.06-.94-2.06-.94L8.5 2.5l-.94 2.06-2.06.94zm10 10l.94 2.06.94-2.06 2.06-.94-2.06-.94-.94-2.06-.94 2.06-2.06.94z\"/><path d=\"M17.41 7.96l-1.37-1.37c-.4-.4-.92-.59-1.43-.59-.52 0-1.04.2-1.43.59L10.3 9.45l-7.72 7.72c-.78.78-.78 2.05 0 2.83L4 21.41c.39.39.9.59 1.41.59.51 0 1.02-.2 1.41-.59l7.78-7.78 2.81-2.81c.8-.78.8-2.07 0-2.86zM5.41 20L4 18.59l7.72-7.72 1.47 1.35L5.41 20z\"/>\n",
              "  </svg>\n",
              "      </button>\n",
              "      \n",
              "  <style>\n",
              "    .colab-df-container {\n",
              "      display:flex;\n",
              "      flex-wrap:wrap;\n",
              "      gap: 12px;\n",
              "    }\n",
              "\n",
              "    .colab-df-convert {\n",
              "      background-color: #E8F0FE;\n",
              "      border: none;\n",
              "      border-radius: 50%;\n",
              "      cursor: pointer;\n",
              "      display: none;\n",
              "      fill: #1967D2;\n",
              "      height: 32px;\n",
              "      padding: 0 0 0 0;\n",
              "      width: 32px;\n",
              "    }\n",
              "\n",
              "    .colab-df-convert:hover {\n",
              "      background-color: #E2EBFA;\n",
              "      box-shadow: 0px 1px 2px rgba(60, 64, 67, 0.3), 0px 1px 3px 1px rgba(60, 64, 67, 0.15);\n",
              "      fill: #174EA6;\n",
              "    }\n",
              "\n",
              "    [theme=dark] .colab-df-convert {\n",
              "      background-color: #3B4455;\n",
              "      fill: #D2E3FC;\n",
              "    }\n",
              "\n",
              "    [theme=dark] .colab-df-convert:hover {\n",
              "      background-color: #434B5C;\n",
              "      box-shadow: 0px 1px 3px 1px rgba(0, 0, 0, 0.15);\n",
              "      filter: drop-shadow(0px 1px 2px rgba(0, 0, 0, 0.3));\n",
              "      fill: #FFFFFF;\n",
              "    }\n",
              "  </style>\n",
              "\n",
              "      <script>\n",
              "        const buttonEl =\n",
              "          document.querySelector('#df-296cbe6f-0e50-48fd-ada9-1b977b7bea80 button.colab-df-convert');\n",
              "        buttonEl.style.display =\n",
              "          google.colab.kernel.accessAllowed ? 'block' : 'none';\n",
              "\n",
              "        async function convertToInteractive(key) {\n",
              "          const element = document.querySelector('#df-296cbe6f-0e50-48fd-ada9-1b977b7bea80');\n",
              "          const dataTable =\n",
              "            await google.colab.kernel.invokeFunction('convertToInteractive',\n",
              "                                                     [key], {});\n",
              "          if (!dataTable) return;\n",
              "\n",
              "          const docLinkHtml = 'Like what you see? Visit the ' +\n",
              "            '<a target=\"_blank\" href=https://colab.research.google.com/notebooks/data_table.ipynb>data table notebook</a>'\n",
              "            + ' to learn more about interactive tables.';\n",
              "          element.innerHTML = '';\n",
              "          dataTable['output_type'] = 'display_data';\n",
              "          await google.colab.output.renderOutput(dataTable, element);\n",
              "          const docLink = document.createElement('div');\n",
              "          docLink.innerHTML = docLinkHtml;\n",
              "          element.appendChild(docLink);\n",
              "        }\n",
              "      </script>\n",
              "    </div>\n",
              "  </div>\n",
              "  "
            ]
          },
          "metadata": {}
        }
      ],
      "source": [
        "category = network_catering_enterprises.groupby('category').agg({'category':'count'})\n",
        "display(category)"
      ]
    },
    {
      "cell_type": "markdown",
      "metadata": {
        "id": "SdoGHc4q-vgz"
      },
      "source": [
        "**Вывод** В большинстве своём московский сетевой общепит представлен двумя типами сетей:   \n",
        "* размером до 12 заведений, со средним числом посадочных мест менее 45 посадочных мест и   \n",
        "* размером до 12 заведений, со средним числом посадочных мест более 45 посадочных мест.   \n",
        "Но, в обоих случаясх это сети до 12 завеъдений - в нашем понимании небольшие."
      ]
    },
    {
      "cell_type": "markdown",
      "metadata": {
        "id": "YGkqMzcC-vgz"
      },
      "source": [
        "### Среднее количество посадочных мест<a id=\"avg\"></a>  \n",
        "Для каждого вида объекта общественного питания опишите среднее количество посадочных мест. Какой вид предоставляет в среднем самое большое количество посадочных мест? Постройте графики."
      ]
    },
    {
      "cell_type": "code",
      "execution_count": null,
      "metadata": {
        "id": "WAr5Xuvd-vgz",
        "outputId": "6f973c10-2c16-4d52-c2cb-b00bf57b1297",
        "colab": {
          "base_uri": "https://localhost:8080/",
          "height": 332
        }
      },
      "outputs": [
        {
          "output_type": "display_data",
          "data": {
            "text/plain": [
              "                         object_type  number\n",
              "0                           столовая   130.2\n",
              "1                           ресторан    96.8\n",
              "2                              буфет    51.1\n",
              "3                                бар    43.5\n",
              "4                               кафе    39.7\n",
              "5  предприятие быстрого обслуживания    20.6\n",
              "6                          кафетерий     9.1\n",
              "7                         закусочная     7.6\n",
              "8          магазин (отдел кулинарии)     5.6"
            ],
            "text/html": [
              "\n",
              "  <div id=\"df-0795ff0c-60e0-4022-a721-03ad7a6fc7c0\">\n",
              "    <div class=\"colab-df-container\">\n",
              "      <div>\n",
              "<style scoped>\n",
              "    .dataframe tbody tr th:only-of-type {\n",
              "        vertical-align: middle;\n",
              "    }\n",
              "\n",
              "    .dataframe tbody tr th {\n",
              "        vertical-align: top;\n",
              "    }\n",
              "\n",
              "    .dataframe thead th {\n",
              "        text-align: right;\n",
              "    }\n",
              "</style>\n",
              "<table border=\"1\" class=\"dataframe\">\n",
              "  <thead>\n",
              "    <tr style=\"text-align: right;\">\n",
              "      <th></th>\n",
              "      <th>object_type</th>\n",
              "      <th>number</th>\n",
              "    </tr>\n",
              "  </thead>\n",
              "  <tbody>\n",
              "    <tr>\n",
              "      <th>0</th>\n",
              "      <td>столовая</td>\n",
              "      <td>130.2</td>\n",
              "    </tr>\n",
              "    <tr>\n",
              "      <th>1</th>\n",
              "      <td>ресторан</td>\n",
              "      <td>96.8</td>\n",
              "    </tr>\n",
              "    <tr>\n",
              "      <th>2</th>\n",
              "      <td>буфет</td>\n",
              "      <td>51.1</td>\n",
              "    </tr>\n",
              "    <tr>\n",
              "      <th>3</th>\n",
              "      <td>бар</td>\n",
              "      <td>43.5</td>\n",
              "    </tr>\n",
              "    <tr>\n",
              "      <th>4</th>\n",
              "      <td>кафе</td>\n",
              "      <td>39.7</td>\n",
              "    </tr>\n",
              "    <tr>\n",
              "      <th>5</th>\n",
              "      <td>предприятие быстрого обслуживания</td>\n",
              "      <td>20.6</td>\n",
              "    </tr>\n",
              "    <tr>\n",
              "      <th>6</th>\n",
              "      <td>кафетерий</td>\n",
              "      <td>9.1</td>\n",
              "    </tr>\n",
              "    <tr>\n",
              "      <th>7</th>\n",
              "      <td>закусочная</td>\n",
              "      <td>7.6</td>\n",
              "    </tr>\n",
              "    <tr>\n",
              "      <th>8</th>\n",
              "      <td>магазин (отдел кулинарии)</td>\n",
              "      <td>5.6</td>\n",
              "    </tr>\n",
              "  </tbody>\n",
              "</table>\n",
              "</div>\n",
              "      <button class=\"colab-df-convert\" onclick=\"convertToInteractive('df-0795ff0c-60e0-4022-a721-03ad7a6fc7c0')\"\n",
              "              title=\"Convert this dataframe to an interactive table.\"\n",
              "              style=\"display:none;\">\n",
              "        \n",
              "  <svg xmlns=\"http://www.w3.org/2000/svg\" height=\"24px\"viewBox=\"0 0 24 24\"\n",
              "       width=\"24px\">\n",
              "    <path d=\"M0 0h24v24H0V0z\" fill=\"none\"/>\n",
              "    <path d=\"M18.56 5.44l.94 2.06.94-2.06 2.06-.94-2.06-.94-.94-2.06-.94 2.06-2.06.94zm-11 1L8.5 8.5l.94-2.06 2.06-.94-2.06-.94L8.5 2.5l-.94 2.06-2.06.94zm10 10l.94 2.06.94-2.06 2.06-.94-2.06-.94-.94-2.06-.94 2.06-2.06.94z\"/><path d=\"M17.41 7.96l-1.37-1.37c-.4-.4-.92-.59-1.43-.59-.52 0-1.04.2-1.43.59L10.3 9.45l-7.72 7.72c-.78.78-.78 2.05 0 2.83L4 21.41c.39.39.9.59 1.41.59.51 0 1.02-.2 1.41-.59l7.78-7.78 2.81-2.81c.8-.78.8-2.07 0-2.86zM5.41 20L4 18.59l7.72-7.72 1.47 1.35L5.41 20z\"/>\n",
              "  </svg>\n",
              "      </button>\n",
              "      \n",
              "  <style>\n",
              "    .colab-df-container {\n",
              "      display:flex;\n",
              "      flex-wrap:wrap;\n",
              "      gap: 12px;\n",
              "    }\n",
              "\n",
              "    .colab-df-convert {\n",
              "      background-color: #E8F0FE;\n",
              "      border: none;\n",
              "      border-radius: 50%;\n",
              "      cursor: pointer;\n",
              "      display: none;\n",
              "      fill: #1967D2;\n",
              "      height: 32px;\n",
              "      padding: 0 0 0 0;\n",
              "      width: 32px;\n",
              "    }\n",
              "\n",
              "    .colab-df-convert:hover {\n",
              "      background-color: #E2EBFA;\n",
              "      box-shadow: 0px 1px 2px rgba(60, 64, 67, 0.3), 0px 1px 3px 1px rgba(60, 64, 67, 0.15);\n",
              "      fill: #174EA6;\n",
              "    }\n",
              "\n",
              "    [theme=dark] .colab-df-convert {\n",
              "      background-color: #3B4455;\n",
              "      fill: #D2E3FC;\n",
              "    }\n",
              "\n",
              "    [theme=dark] .colab-df-convert:hover {\n",
              "      background-color: #434B5C;\n",
              "      box-shadow: 0px 1px 3px 1px rgba(0, 0, 0, 0.15);\n",
              "      filter: drop-shadow(0px 1px 2px rgba(0, 0, 0, 0.3));\n",
              "      fill: #FFFFFF;\n",
              "    }\n",
              "  </style>\n",
              "\n",
              "      <script>\n",
              "        const buttonEl =\n",
              "          document.querySelector('#df-0795ff0c-60e0-4022-a721-03ad7a6fc7c0 button.colab-df-convert');\n",
              "        buttonEl.style.display =\n",
              "          google.colab.kernel.accessAllowed ? 'block' : 'none';\n",
              "\n",
              "        async function convertToInteractive(key) {\n",
              "          const element = document.querySelector('#df-0795ff0c-60e0-4022-a721-03ad7a6fc7c0');\n",
              "          const dataTable =\n",
              "            await google.colab.kernel.invokeFunction('convertToInteractive',\n",
              "                                                     [key], {});\n",
              "          if (!dataTable) return;\n",
              "\n",
              "          const docLinkHtml = 'Like what you see? Visit the ' +\n",
              "            '<a target=\"_blank\" href=https://colab.research.google.com/notebooks/data_table.ipynb>data table notebook</a>'\n",
              "            + ' to learn more about interactive tables.';\n",
              "          element.innerHTML = '';\n",
              "          dataTable['output_type'] = 'display_data';\n",
              "          await google.colab.output.renderOutput(dataTable, element);\n",
              "          const docLink = document.createElement('div');\n",
              "          docLink.innerHTML = docLinkHtml;\n",
              "          element.appendChild(docLink);\n",
              "        }\n",
              "      </script>\n",
              "    </div>\n",
              "  </div>\n",
              "  "
            ]
          },
          "metadata": {}
        }
      ],
      "source": [
        "# Посчитаем среднее число посадочных мест по типу завдения\n",
        "avg_number_type = rest_data.pivot_table(index='object_type', values='number',\n",
        "                        aggfunc= {'number': 'mean'}).sort_values(by=('number'), ascending=False).reset_index()\n",
        "avg_number_type['number'] = avg_number_type['number'].round(1)\n",
        "display(avg_number_type)"
      ]
    },
    {
      "cell_type": "code",
      "execution_count": null,
      "metadata": {
        "id": "l1JKK9D4-vg0",
        "outputId": "afbf22ac-9d7e-4ecf-f217-452fac01de23",
        "colab": {
          "base_uri": "https://localhost:8080/",
          "height": 542
        }
      },
      "outputs": [
        {
          "output_type": "display_data",
          "data": {
            "text/html": [
              "<html>\n",
              "<head><meta charset=\"utf-8\" /></head>\n",
              "<body>\n",
              "    <div>            <script src=\"https://cdnjs.cloudflare.com/ajax/libs/mathjax/2.7.5/MathJax.js?config=TeX-AMS-MML_SVG\"></script><script type=\"text/javascript\">if (window.MathJax) {MathJax.Hub.Config({SVG: {font: \"STIX-Web\"}});}</script>                <script type=\"text/javascript\">window.PlotlyConfig = {MathJaxConfig: 'local'};</script>\n",
              "        <script src=\"https://cdn.plot.ly/plotly-2.8.3.min.js\"></script>                <div id=\"b1bb9bb9-cda6-42ad-b741-e1382508fe89\" class=\"plotly-graph-div\" style=\"height:525px; width:100%;\"></div>            <script type=\"text/javascript\">                                    window.PLOTLYENV=window.PLOTLYENV || {};                                    if (document.getElementById(\"b1bb9bb9-cda6-42ad-b741-e1382508fe89\")) {                    Plotly.newPlot(                        \"b1bb9bb9-cda6-42ad-b741-e1382508fe89\",                        [{\"alignmentgroup\":\"True\",\"hovertemplate\":\"\\u0427\\u0438\\u0441\\u043b\\u043e \\u043f\\u043e\\u0441\\u0430\\u0434\\u043e\\u0447\\u043d\\u044b\\u0445 \\u043c\\u0435\\u0441\\u0442, \\u0435\\u0434.=%{text}<br>\\u0422\\u0438\\u043f \\u043e\\u0431\\u044a\\u0435\\u043a\\u0442\\u0430=%{y}<extra></extra>\",\"legendgroup\":\"\",\"marker\":{\"color\":\"#636efa\",\"pattern\":{\"shape\":\"\"}},\"name\":\"\",\"offsetgroup\":\"\",\"orientation\":\"h\",\"showlegend\":false,\"text\":[5.6,7.6,9.1,20.6,39.7,43.5,51.1,96.8,130.2],\"textposition\":\"outside\",\"x\":[5.6,7.6,9.1,20.6,39.7,43.5,51.1,96.8,130.2],\"xaxis\":\"x\",\"y\":[\"\\u043c\\u0430\\u0433\\u0430\\u0437\\u0438\\u043d (\\u043e\\u0442\\u0434\\u0435\\u043b \\u043a\\u0443\\u043b\\u0438\\u043d\\u0430\\u0440\\u0438\\u0438)\",\"\\u0437\\u0430\\u043a\\u0443\\u0441\\u043e\\u0447\\u043d\\u0430\\u044f\",\"\\u043a\\u0430\\u0444\\u0435\\u0442\\u0435\\u0440\\u0438\\u0439\",\"\\u043f\\u0440\\u0435\\u0434\\u043f\\u0440\\u0438\\u044f\\u0442\\u0438\\u0435 \\u0431\\u044b\\u0441\\u0442\\u0440\\u043e\\u0433\\u043e \\u043e\\u0431\\u0441\\u043b\\u0443\\u0436\\u0438\\u0432\\u0430\\u043d\\u0438\\u044f\",\"\\u043a\\u0430\\u0444\\u0435\",\"\\u0431\\u0430\\u0440\",\"\\u0431\\u0443\\u0444\\u0435\\u0442\",\"\\u0440\\u0435\\u0441\\u0442\\u043e\\u0440\\u0430\\u043d\",\"\\u0441\\u0442\\u043e\\u043b\\u043e\\u0432\\u0430\\u044f\"],\"yaxis\":\"y\",\"type\":\"bar\"}],                        {\"template\":{\"data\":{\"bar\":[{\"error_x\":{\"color\":\"#2a3f5f\"},\"error_y\":{\"color\":\"#2a3f5f\"},\"marker\":{\"line\":{\"color\":\"#E5ECF6\",\"width\":0.5},\"pattern\":{\"fillmode\":\"overlay\",\"size\":10,\"solidity\":0.2}},\"type\":\"bar\"}],\"barpolar\":[{\"marker\":{\"line\":{\"color\":\"#E5ECF6\",\"width\":0.5},\"pattern\":{\"fillmode\":\"overlay\",\"size\":10,\"solidity\":0.2}},\"type\":\"barpolar\"}],\"carpet\":[{\"aaxis\":{\"endlinecolor\":\"#2a3f5f\",\"gridcolor\":\"white\",\"linecolor\":\"white\",\"minorgridcolor\":\"white\",\"startlinecolor\":\"#2a3f5f\"},\"baxis\":{\"endlinecolor\":\"#2a3f5f\",\"gridcolor\":\"white\",\"linecolor\":\"white\",\"minorgridcolor\":\"white\",\"startlinecolor\":\"#2a3f5f\"},\"type\":\"carpet\"}],\"choropleth\":[{\"colorbar\":{\"outlinewidth\":0,\"ticks\":\"\"},\"type\":\"choropleth\"}],\"contour\":[{\"colorbar\":{\"outlinewidth\":0,\"ticks\":\"\"},\"colorscale\":[[0.0,\"#0d0887\"],[0.1111111111111111,\"#46039f\"],[0.2222222222222222,\"#7201a8\"],[0.3333333333333333,\"#9c179e\"],[0.4444444444444444,\"#bd3786\"],[0.5555555555555556,\"#d8576b\"],[0.6666666666666666,\"#ed7953\"],[0.7777777777777778,\"#fb9f3a\"],[0.8888888888888888,\"#fdca26\"],[1.0,\"#f0f921\"]],\"type\":\"contour\"}],\"contourcarpet\":[{\"colorbar\":{\"outlinewidth\":0,\"ticks\":\"\"},\"type\":\"contourcarpet\"}],\"heatmap\":[{\"colorbar\":{\"outlinewidth\":0,\"ticks\":\"\"},\"colorscale\":[[0.0,\"#0d0887\"],[0.1111111111111111,\"#46039f\"],[0.2222222222222222,\"#7201a8\"],[0.3333333333333333,\"#9c179e\"],[0.4444444444444444,\"#bd3786\"],[0.5555555555555556,\"#d8576b\"],[0.6666666666666666,\"#ed7953\"],[0.7777777777777778,\"#fb9f3a\"],[0.8888888888888888,\"#fdca26\"],[1.0,\"#f0f921\"]],\"type\":\"heatmap\"}],\"heatmapgl\":[{\"colorbar\":{\"outlinewidth\":0,\"ticks\":\"\"},\"colorscale\":[[0.0,\"#0d0887\"],[0.1111111111111111,\"#46039f\"],[0.2222222222222222,\"#7201a8\"],[0.3333333333333333,\"#9c179e\"],[0.4444444444444444,\"#bd3786\"],[0.5555555555555556,\"#d8576b\"],[0.6666666666666666,\"#ed7953\"],[0.7777777777777778,\"#fb9f3a\"],[0.8888888888888888,\"#fdca26\"],[1.0,\"#f0f921\"]],\"type\":\"heatmapgl\"}],\"histogram\":[{\"marker\":{\"pattern\":{\"fillmode\":\"overlay\",\"size\":10,\"solidity\":0.2}},\"type\":\"histogram\"}],\"histogram2d\":[{\"colorbar\":{\"outlinewidth\":0,\"ticks\":\"\"},\"colorscale\":[[0.0,\"#0d0887\"],[0.1111111111111111,\"#46039f\"],[0.2222222222222222,\"#7201a8\"],[0.3333333333333333,\"#9c179e\"],[0.4444444444444444,\"#bd3786\"],[0.5555555555555556,\"#d8576b\"],[0.6666666666666666,\"#ed7953\"],[0.7777777777777778,\"#fb9f3a\"],[0.8888888888888888,\"#fdca26\"],[1.0,\"#f0f921\"]],\"type\":\"histogram2d\"}],\"histogram2dcontour\":[{\"colorbar\":{\"outlinewidth\":0,\"ticks\":\"\"},\"colorscale\":[[0.0,\"#0d0887\"],[0.1111111111111111,\"#46039f\"],[0.2222222222222222,\"#7201a8\"],[0.3333333333333333,\"#9c179e\"],[0.4444444444444444,\"#bd3786\"],[0.5555555555555556,\"#d8576b\"],[0.6666666666666666,\"#ed7953\"],[0.7777777777777778,\"#fb9f3a\"],[0.8888888888888888,\"#fdca26\"],[1.0,\"#f0f921\"]],\"type\":\"histogram2dcontour\"}],\"mesh3d\":[{\"colorbar\":{\"outlinewidth\":0,\"ticks\":\"\"},\"type\":\"mesh3d\"}],\"parcoords\":[{\"line\":{\"colorbar\":{\"outlinewidth\":0,\"ticks\":\"\"}},\"type\":\"parcoords\"}],\"pie\":[{\"automargin\":true,\"type\":\"pie\"}],\"scatter\":[{\"marker\":{\"colorbar\":{\"outlinewidth\":0,\"ticks\":\"\"}},\"type\":\"scatter\"}],\"scatter3d\":[{\"line\":{\"colorbar\":{\"outlinewidth\":0,\"ticks\":\"\"}},\"marker\":{\"colorbar\":{\"outlinewidth\":0,\"ticks\":\"\"}},\"type\":\"scatter3d\"}],\"scattercarpet\":[{\"marker\":{\"colorbar\":{\"outlinewidth\":0,\"ticks\":\"\"}},\"type\":\"scattercarpet\"}],\"scattergeo\":[{\"marker\":{\"colorbar\":{\"outlinewidth\":0,\"ticks\":\"\"}},\"type\":\"scattergeo\"}],\"scattergl\":[{\"marker\":{\"colorbar\":{\"outlinewidth\":0,\"ticks\":\"\"}},\"type\":\"scattergl\"}],\"scattermapbox\":[{\"marker\":{\"colorbar\":{\"outlinewidth\":0,\"ticks\":\"\"}},\"type\":\"scattermapbox\"}],\"scatterpolar\":[{\"marker\":{\"colorbar\":{\"outlinewidth\":0,\"ticks\":\"\"}},\"type\":\"scatterpolar\"}],\"scatterpolargl\":[{\"marker\":{\"colorbar\":{\"outlinewidth\":0,\"ticks\":\"\"}},\"type\":\"scatterpolargl\"}],\"scatterternary\":[{\"marker\":{\"colorbar\":{\"outlinewidth\":0,\"ticks\":\"\"}},\"type\":\"scatterternary\"}],\"surface\":[{\"colorbar\":{\"outlinewidth\":0,\"ticks\":\"\"},\"colorscale\":[[0.0,\"#0d0887\"],[0.1111111111111111,\"#46039f\"],[0.2222222222222222,\"#7201a8\"],[0.3333333333333333,\"#9c179e\"],[0.4444444444444444,\"#bd3786\"],[0.5555555555555556,\"#d8576b\"],[0.6666666666666666,\"#ed7953\"],[0.7777777777777778,\"#fb9f3a\"],[0.8888888888888888,\"#fdca26\"],[1.0,\"#f0f921\"]],\"type\":\"surface\"}],\"table\":[{\"cells\":{\"fill\":{\"color\":\"#EBF0F8\"},\"line\":{\"color\":\"white\"}},\"header\":{\"fill\":{\"color\":\"#C8D4E3\"},\"line\":{\"color\":\"white\"}},\"type\":\"table\"}]},\"layout\":{\"annotationdefaults\":{\"arrowcolor\":\"#2a3f5f\",\"arrowhead\":0,\"arrowwidth\":1},\"autotypenumbers\":\"strict\",\"coloraxis\":{\"colorbar\":{\"outlinewidth\":0,\"ticks\":\"\"}},\"colorscale\":{\"diverging\":[[0,\"#8e0152\"],[0.1,\"#c51b7d\"],[0.2,\"#de77ae\"],[0.3,\"#f1b6da\"],[0.4,\"#fde0ef\"],[0.5,\"#f7f7f7\"],[0.6,\"#e6f5d0\"],[0.7,\"#b8e186\"],[0.8,\"#7fbc41\"],[0.9,\"#4d9221\"],[1,\"#276419\"]],\"sequential\":[[0.0,\"#0d0887\"],[0.1111111111111111,\"#46039f\"],[0.2222222222222222,\"#7201a8\"],[0.3333333333333333,\"#9c179e\"],[0.4444444444444444,\"#bd3786\"],[0.5555555555555556,\"#d8576b\"],[0.6666666666666666,\"#ed7953\"],[0.7777777777777778,\"#fb9f3a\"],[0.8888888888888888,\"#fdca26\"],[1.0,\"#f0f921\"]],\"sequentialminus\":[[0.0,\"#0d0887\"],[0.1111111111111111,\"#46039f\"],[0.2222222222222222,\"#7201a8\"],[0.3333333333333333,\"#9c179e\"],[0.4444444444444444,\"#bd3786\"],[0.5555555555555556,\"#d8576b\"],[0.6666666666666666,\"#ed7953\"],[0.7777777777777778,\"#fb9f3a\"],[0.8888888888888888,\"#fdca26\"],[1.0,\"#f0f921\"]]},\"colorway\":[\"#636efa\",\"#EF553B\",\"#00cc96\",\"#ab63fa\",\"#FFA15A\",\"#19d3f3\",\"#FF6692\",\"#B6E880\",\"#FF97FF\",\"#FECB52\"],\"font\":{\"color\":\"#2a3f5f\"},\"geo\":{\"bgcolor\":\"white\",\"lakecolor\":\"white\",\"landcolor\":\"#E5ECF6\",\"showlakes\":true,\"showland\":true,\"subunitcolor\":\"white\"},\"hoverlabel\":{\"align\":\"left\"},\"hovermode\":\"closest\",\"mapbox\":{\"style\":\"light\"},\"paper_bgcolor\":\"white\",\"plot_bgcolor\":\"#E5ECF6\",\"polar\":{\"angularaxis\":{\"gridcolor\":\"white\",\"linecolor\":\"white\",\"ticks\":\"\"},\"bgcolor\":\"#E5ECF6\",\"radialaxis\":{\"gridcolor\":\"white\",\"linecolor\":\"white\",\"ticks\":\"\"}},\"scene\":{\"xaxis\":{\"backgroundcolor\":\"#E5ECF6\",\"gridcolor\":\"white\",\"gridwidth\":2,\"linecolor\":\"white\",\"showbackground\":true,\"ticks\":\"\",\"zerolinecolor\":\"white\"},\"yaxis\":{\"backgroundcolor\":\"#E5ECF6\",\"gridcolor\":\"white\",\"gridwidth\":2,\"linecolor\":\"white\",\"showbackground\":true,\"ticks\":\"\",\"zerolinecolor\":\"white\"},\"zaxis\":{\"backgroundcolor\":\"#E5ECF6\",\"gridcolor\":\"white\",\"gridwidth\":2,\"linecolor\":\"white\",\"showbackground\":true,\"ticks\":\"\",\"zerolinecolor\":\"white\"}},\"shapedefaults\":{\"line\":{\"color\":\"#2a3f5f\"}},\"ternary\":{\"aaxis\":{\"gridcolor\":\"white\",\"linecolor\":\"white\",\"ticks\":\"\"},\"baxis\":{\"gridcolor\":\"white\",\"linecolor\":\"white\",\"ticks\":\"\"},\"bgcolor\":\"#E5ECF6\",\"caxis\":{\"gridcolor\":\"white\",\"linecolor\":\"white\",\"ticks\":\"\"}},\"title\":{\"x\":0.05},\"xaxis\":{\"automargin\":true,\"gridcolor\":\"white\",\"linecolor\":\"white\",\"ticks\":\"\",\"title\":{\"standoff\":15},\"zerolinecolor\":\"white\",\"zerolinewidth\":2},\"yaxis\":{\"automargin\":true,\"gridcolor\":\"white\",\"linecolor\":\"white\",\"ticks\":\"\",\"title\":{\"standoff\":15},\"zerolinecolor\":\"white\",\"zerolinewidth\":2}}},\"xaxis\":{\"anchor\":\"y\",\"domain\":[0.0,1.0],\"title\":{\"text\":\"\\u0427\\u0438\\u0441\\u043b\\u043e \\u043f\\u043e\\u0441\\u0430\\u0434\\u043e\\u0447\\u043d\\u044b\\u0445 \\u043c\\u0435\\u0441\\u0442, \\u0435\\u0434.\"},\"range\":[0,140],\"tickangle\":0},\"yaxis\":{\"anchor\":\"x\",\"domain\":[0.0,1.0],\"title\":{\"text\":\"\\u0422\\u0438\\u043f \\u043e\\u0431\\u044a\\u0435\\u043a\\u0442\\u0430\"}},\"legend\":{\"tracegroupgap\":0},\"title\":{\"text\":\"\\u0421\\u0440\\u0435\\u0434\\u043d\\u0435\\u0435 \\u0447\\u0438\\u0441\\u043b\\u043e \\u043f\\u043e\\u0441\\u0430\\u0434\\u043e\\u0447\\u043d\\u044b\\u0445 \\u043c\\u0435\\u0441\\u0442\"},\"barmode\":\"relative\"},                        {\"responsive\": true}                    ).then(function(){\n",
              "                            \n",
              "var gd = document.getElementById('b1bb9bb9-cda6-42ad-b741-e1382508fe89');\n",
              "var x = new MutationObserver(function (mutations, observer) {{\n",
              "        var display = window.getComputedStyle(gd).display;\n",
              "        if (!display || display === 'none') {{\n",
              "            console.log([gd, 'removed!']);\n",
              "            Plotly.purge(gd);\n",
              "            observer.disconnect();\n",
              "        }}\n",
              "}});\n",
              "\n",
              "// Listen for the removal of the full notebook cells\n",
              "var notebookContainer = gd.closest('#notebook-container');\n",
              "if (notebookContainer) {{\n",
              "    x.observe(notebookContainer, {childList: true});\n",
              "}}\n",
              "\n",
              "// Listen for the clearing of the current output cell\n",
              "var outputEl = gd.closest('.output');\n",
              "if (outputEl) {{\n",
              "    x.observe(outputEl, {childList: true});\n",
              "}}\n",
              "\n",
              "                        })                };                            </script>        </div>\n",
              "</body>\n",
              "</html>"
            ]
          },
          "metadata": {}
        }
      ],
      "source": [
        "# Посторим диаграмму по этим данным\n",
        "avg_number_type = avg_number_type.sort_values(by=('number'), ascending=True)\n",
        "avg_number_fig = px.bar(avg_number_type, \n",
        "             x='number', \n",
        "             y='object_type',\n",
        "             text='number',      \n",
        "             title='Среднее число посадочных мест',\n",
        "             labels={'number':'Число посадочных мест, ед.', 'object_type':'Тип объекта'}\n",
        "                       )\n",
        "avg_number_fig.update_xaxes(range=[0, 140])\n",
        "avg_number_fig.update_traces(textposition=\"outside\")\n",
        "avg_number_fig.update_xaxes(tickangle=0)\n",
        "avg_number_fig.show() "
      ]
    },
    {
      "cell_type": "markdown",
      "metadata": {
        "id": "fl3MWehW-vg0"
      },
      "source": [
        "**Вывод** Больше всего среднее число посадочных мест у столовых и ресторанов, далее - буфеты и бары, за ними следуют кафе"
      ]
    },
    {
      "cell_type": "markdown",
      "metadata": {
        "id": "oozrsj-W-vg0"
      },
      "source": [
        "### География московского общепита <a id=\"geo\"></a>    \n",
        "1. Выделите в отдельный столбец информацию об улице из столбца address.   \n",
        "1. Постройте график топ-10 улиц по количеству объектов общественного питания. Воспользуйтесь внешней информацией и ответьте на вопрос — в каких районах Москвы находятся эти улицы?  \n",
        "1. Найдите число улиц с одним объектом общественного питания. Воспользуйтесь внешней информацией и ответьте на вопрос — в каких районах Москвы находятся эти улицы?"
      ]
    },
    {
      "cell_type": "markdown",
      "metadata": {
        "id": "WgWge2bk-vg0"
      },
      "source": [
        "#### Выделение адреса"
      ]
    },
    {
      "cell_type": "code",
      "execution_count": null,
      "metadata": {
        "id": "VFYVxHwQ-vg0",
        "outputId": "95ef6ea4-620b-4b91-cec1-2dc65fa0a44d",
        "colab": {
          "base_uri": "https://localhost:8080/"
        }
      },
      "outputs": [
        {
          "output_type": "display_data",
          "data": {
            "text/plain": [
              "           id             object_name      chain object_type  \\\n",
              "0      151635                 СМЕТАНА  несетевые        кафе   \n",
              "1       77874                  Родник  несетевые        кафе   \n",
              "2       24309         Кафе «Академия»  несетевые        кафе   \n",
              "3       21894              ПИЦЦЕТОРИЯ    сетевые        кафе   \n",
              "4      119365  Кафе «Вишневая метель»  несетевые        кафе   \n",
              "...       ...                     ...        ...         ...   \n",
              "15361  208537             Шоколадница    сетевые        кафе   \n",
              "15362  209264             Шоколадница    сетевые        кафе   \n",
              "15363  209186             Шоколадница    сетевые        кафе   \n",
              "15364  221900             Шоколадница    сетевые        кафе   \n",
              "15365  222535             Шоколадница    сетевые        кафе   \n",
              "\n",
              "                                                 address  number  \\\n",
              "0             город Москва, улица Егора Абакумова, дом 9      48   \n",
              "1      город Москва, улица Талалихина, дом 2/1, корпус 1      35   \n",
              "2              город Москва, Абельмановская улица, дом 6      95   \n",
              "3                город Москва, Абрамцевская улица, дом 1      40   \n",
              "4      город Москва, Абрамцевская улица, дом 9, корпус 1      50   \n",
              "...                                                  ...     ...   \n",
              "15361       город Москва, 3-й Крутицкий переулок, дом 18      50   \n",
              "15362           город Москва, улица Земляной Вал, дом 33      10   \n",
              "15363           город Москва, улица Земляной Вал, дом 33      20   \n",
              "15364  город Москва, поселение Московский, Киевское ш...      36   \n",
              "15365             город Москва, Ходынский бульвар, дом 4      10   \n",
              "\n",
              "                       street  \n",
              "0       улица Егора Абакумова  \n",
              "1            улица Талалихина  \n",
              "2        Абельмановская улица  \n",
              "3          Абрамцевская улица  \n",
              "4          Абрамцевская улица  \n",
              "...                       ...  \n",
              "15361  3-й Крутицкий переулок  \n",
              "15362      улица Земляной Вал  \n",
              "15363      улица Земляной Вал  \n",
              "15364          Киевское шоссе  \n",
              "15365       Ходынский бульвар  \n",
              "\n",
              "[15366 rows x 7 columns]"
            ],
            "text/html": [
              "\n",
              "  <div id=\"df-83c05b18-22e1-4a23-a5ec-9e03b19f5ac7\">\n",
              "    <div class=\"colab-df-container\">\n",
              "      <div>\n",
              "<style scoped>\n",
              "    .dataframe tbody tr th:only-of-type {\n",
              "        vertical-align: middle;\n",
              "    }\n",
              "\n",
              "    .dataframe tbody tr th {\n",
              "        vertical-align: top;\n",
              "    }\n",
              "\n",
              "    .dataframe thead th {\n",
              "        text-align: right;\n",
              "    }\n",
              "</style>\n",
              "<table border=\"1\" class=\"dataframe\">\n",
              "  <thead>\n",
              "    <tr style=\"text-align: right;\">\n",
              "      <th></th>\n",
              "      <th>id</th>\n",
              "      <th>object_name</th>\n",
              "      <th>chain</th>\n",
              "      <th>object_type</th>\n",
              "      <th>address</th>\n",
              "      <th>number</th>\n",
              "      <th>street</th>\n",
              "    </tr>\n",
              "  </thead>\n",
              "  <tbody>\n",
              "    <tr>\n",
              "      <th>0</th>\n",
              "      <td>151635</td>\n",
              "      <td>СМЕТАНА</td>\n",
              "      <td>несетевые</td>\n",
              "      <td>кафе</td>\n",
              "      <td>город Москва, улица Егора Абакумова, дом 9</td>\n",
              "      <td>48</td>\n",
              "      <td>улица Егора Абакумова</td>\n",
              "    </tr>\n",
              "    <tr>\n",
              "      <th>1</th>\n",
              "      <td>77874</td>\n",
              "      <td>Родник</td>\n",
              "      <td>несетевые</td>\n",
              "      <td>кафе</td>\n",
              "      <td>город Москва, улица Талалихина, дом 2/1, корпус 1</td>\n",
              "      <td>35</td>\n",
              "      <td>улица Талалихина</td>\n",
              "    </tr>\n",
              "    <tr>\n",
              "      <th>2</th>\n",
              "      <td>24309</td>\n",
              "      <td>Кафе «Академия»</td>\n",
              "      <td>несетевые</td>\n",
              "      <td>кафе</td>\n",
              "      <td>город Москва, Абельмановская улица, дом 6</td>\n",
              "      <td>95</td>\n",
              "      <td>Абельмановская улица</td>\n",
              "    </tr>\n",
              "    <tr>\n",
              "      <th>3</th>\n",
              "      <td>21894</td>\n",
              "      <td>ПИЦЦЕТОРИЯ</td>\n",
              "      <td>сетевые</td>\n",
              "      <td>кафе</td>\n",
              "      <td>город Москва, Абрамцевская улица, дом 1</td>\n",
              "      <td>40</td>\n",
              "      <td>Абрамцевская улица</td>\n",
              "    </tr>\n",
              "    <tr>\n",
              "      <th>4</th>\n",
              "      <td>119365</td>\n",
              "      <td>Кафе «Вишневая метель»</td>\n",
              "      <td>несетевые</td>\n",
              "      <td>кафе</td>\n",
              "      <td>город Москва, Абрамцевская улица, дом 9, корпус 1</td>\n",
              "      <td>50</td>\n",
              "      <td>Абрамцевская улица</td>\n",
              "    </tr>\n",
              "    <tr>\n",
              "      <th>...</th>\n",
              "      <td>...</td>\n",
              "      <td>...</td>\n",
              "      <td>...</td>\n",
              "      <td>...</td>\n",
              "      <td>...</td>\n",
              "      <td>...</td>\n",
              "      <td>...</td>\n",
              "    </tr>\n",
              "    <tr>\n",
              "      <th>15361</th>\n",
              "      <td>208537</td>\n",
              "      <td>Шоколадница</td>\n",
              "      <td>сетевые</td>\n",
              "      <td>кафе</td>\n",
              "      <td>город Москва, 3-й Крутицкий переулок, дом 18</td>\n",
              "      <td>50</td>\n",
              "      <td>3-й Крутицкий переулок</td>\n",
              "    </tr>\n",
              "    <tr>\n",
              "      <th>15362</th>\n",
              "      <td>209264</td>\n",
              "      <td>Шоколадница</td>\n",
              "      <td>сетевые</td>\n",
              "      <td>кафе</td>\n",
              "      <td>город Москва, улица Земляной Вал, дом 33</td>\n",
              "      <td>10</td>\n",
              "      <td>улица Земляной Вал</td>\n",
              "    </tr>\n",
              "    <tr>\n",
              "      <th>15363</th>\n",
              "      <td>209186</td>\n",
              "      <td>Шоколадница</td>\n",
              "      <td>сетевые</td>\n",
              "      <td>кафе</td>\n",
              "      <td>город Москва, улица Земляной Вал, дом 33</td>\n",
              "      <td>20</td>\n",
              "      <td>улица Земляной Вал</td>\n",
              "    </tr>\n",
              "    <tr>\n",
              "      <th>15364</th>\n",
              "      <td>221900</td>\n",
              "      <td>Шоколадница</td>\n",
              "      <td>сетевые</td>\n",
              "      <td>кафе</td>\n",
              "      <td>город Москва, поселение Московский, Киевское ш...</td>\n",
              "      <td>36</td>\n",
              "      <td>Киевское шоссе</td>\n",
              "    </tr>\n",
              "    <tr>\n",
              "      <th>15365</th>\n",
              "      <td>222535</td>\n",
              "      <td>Шоколадница</td>\n",
              "      <td>сетевые</td>\n",
              "      <td>кафе</td>\n",
              "      <td>город Москва, Ходынский бульвар, дом 4</td>\n",
              "      <td>10</td>\n",
              "      <td>Ходынский бульвар</td>\n",
              "    </tr>\n",
              "  </tbody>\n",
              "</table>\n",
              "<p>15366 rows × 7 columns</p>\n",
              "</div>\n",
              "      <button class=\"colab-df-convert\" onclick=\"convertToInteractive('df-83c05b18-22e1-4a23-a5ec-9e03b19f5ac7')\"\n",
              "              title=\"Convert this dataframe to an interactive table.\"\n",
              "              style=\"display:none;\">\n",
              "        \n",
              "  <svg xmlns=\"http://www.w3.org/2000/svg\" height=\"24px\"viewBox=\"0 0 24 24\"\n",
              "       width=\"24px\">\n",
              "    <path d=\"M0 0h24v24H0V0z\" fill=\"none\"/>\n",
              "    <path d=\"M18.56 5.44l.94 2.06.94-2.06 2.06-.94-2.06-.94-.94-2.06-.94 2.06-2.06.94zm-11 1L8.5 8.5l.94-2.06 2.06-.94-2.06-.94L8.5 2.5l-.94 2.06-2.06.94zm10 10l.94 2.06.94-2.06 2.06-.94-2.06-.94-.94-2.06-.94 2.06-2.06.94z\"/><path d=\"M17.41 7.96l-1.37-1.37c-.4-.4-.92-.59-1.43-.59-.52 0-1.04.2-1.43.59L10.3 9.45l-7.72 7.72c-.78.78-.78 2.05 0 2.83L4 21.41c.39.39.9.59 1.41.59.51 0 1.02-.2 1.41-.59l7.78-7.78 2.81-2.81c.8-.78.8-2.07 0-2.86zM5.41 20L4 18.59l7.72-7.72 1.47 1.35L5.41 20z\"/>\n",
              "  </svg>\n",
              "      </button>\n",
              "      \n",
              "  <style>\n",
              "    .colab-df-container {\n",
              "      display:flex;\n",
              "      flex-wrap:wrap;\n",
              "      gap: 12px;\n",
              "    }\n",
              "\n",
              "    .colab-df-convert {\n",
              "      background-color: #E8F0FE;\n",
              "      border: none;\n",
              "      border-radius: 50%;\n",
              "      cursor: pointer;\n",
              "      display: none;\n",
              "      fill: #1967D2;\n",
              "      height: 32px;\n",
              "      padding: 0 0 0 0;\n",
              "      width: 32px;\n",
              "    }\n",
              "\n",
              "    .colab-df-convert:hover {\n",
              "      background-color: #E2EBFA;\n",
              "      box-shadow: 0px 1px 2px rgba(60, 64, 67, 0.3), 0px 1px 3px 1px rgba(60, 64, 67, 0.15);\n",
              "      fill: #174EA6;\n",
              "    }\n",
              "\n",
              "    [theme=dark] .colab-df-convert {\n",
              "      background-color: #3B4455;\n",
              "      fill: #D2E3FC;\n",
              "    }\n",
              "\n",
              "    [theme=dark] .colab-df-convert:hover {\n",
              "      background-color: #434B5C;\n",
              "      box-shadow: 0px 1px 3px 1px rgba(0, 0, 0, 0.15);\n",
              "      filter: drop-shadow(0px 1px 2px rgba(0, 0, 0, 0.3));\n",
              "      fill: #FFFFFF;\n",
              "    }\n",
              "  </style>\n",
              "\n",
              "      <script>\n",
              "        const buttonEl =\n",
              "          document.querySelector('#df-83c05b18-22e1-4a23-a5ec-9e03b19f5ac7 button.colab-df-convert');\n",
              "        buttonEl.style.display =\n",
              "          google.colab.kernel.accessAllowed ? 'block' : 'none';\n",
              "\n",
              "        async function convertToInteractive(key) {\n",
              "          const element = document.querySelector('#df-83c05b18-22e1-4a23-a5ec-9e03b19f5ac7');\n",
              "          const dataTable =\n",
              "            await google.colab.kernel.invokeFunction('convertToInteractive',\n",
              "                                                     [key], {});\n",
              "          if (!dataTable) return;\n",
              "\n",
              "          const docLinkHtml = 'Like what you see? Visit the ' +\n",
              "            '<a target=\"_blank\" href=https://colab.research.google.com/notebooks/data_table.ipynb>data table notebook</a>'\n",
              "            + ' to learn more about interactive tables.';\n",
              "          element.innerHTML = '';\n",
              "          dataTable['output_type'] = 'display_data';\n",
              "          await google.colab.output.renderOutput(dataTable, element);\n",
              "          const docLink = document.createElement('div');\n",
              "          docLink.innerHTML = docLinkHtml;\n",
              "          element.appendChild(docLink);\n",
              "        }\n",
              "      </script>\n",
              "    </div>\n",
              "  </div>\n",
              "  "
            ]
          },
          "metadata": {}
        }
      ],
      "source": [
        "# Выделим адрес, для этого используем рещгулярные выражений - будем искать по родовому имени (улица, аллея, переулок и т.д.)\n",
        "# Типы улиц взяты с http://mosopen.ru/streets\n",
        "words = ['улица','ул','переулок','шоссе','проспект','площадь','проезд',\n",
        "         'село','аллея','бульвар','набережная','тупик','линия', 'просек']\n",
        "\n",
        "str_pat = r\".*,\\s*\\b([^,]*?(?:{})\\b[^,]*)[$|,]+\".format('|'.join(words))\n",
        "\n",
        "rest_data['street'] = rest_data['address'].str.extract(str_pat, flags=re.I)\n",
        "\n",
        "display(rest_data)"
      ]
    },
    {
      "cell_type": "markdown",
      "metadata": {
        "id": "uVFH8FUX-vg1"
      },
      "source": [
        "#### Топ-10 улиц по числу заведений"
      ]
    },
    {
      "cell_type": "code",
      "execution_count": null,
      "metadata": {
        "id": "EaMcykS6-vg1",
        "outputId": "1d1a8a64-80cd-4b3d-91f6-745f6befe73c",
        "colab": {
          "base_uri": "https://localhost:8080/"
        }
      },
      "outputs": [
        {
          "output_type": "display_data",
          "data": {
            "text/plain": [
              "                   street  object_count\n",
              "0           проспект Мира           204\n",
              "1       Профсоюзная улица           182\n",
              "2  Ленинградский проспект           171\n",
              "3  Пресненская набережная           167\n",
              "4        Варшавское шоссе           164\n",
              "5      Ленинский проспект           147\n",
              "6    проспект Вернадского           132\n",
              "7    Кутузовский проспект           114\n",
              "8         Каширское шоссе           112\n",
              "9    Кировоградская улица           110"
            ],
            "text/html": [
              "\n",
              "  <div id=\"df-058200c2-9d33-481c-8086-bf154f80cea8\">\n",
              "    <div class=\"colab-df-container\">\n",
              "      <div>\n",
              "<style scoped>\n",
              "    .dataframe tbody tr th:only-of-type {\n",
              "        vertical-align: middle;\n",
              "    }\n",
              "\n",
              "    .dataframe tbody tr th {\n",
              "        vertical-align: top;\n",
              "    }\n",
              "\n",
              "    .dataframe thead th {\n",
              "        text-align: right;\n",
              "    }\n",
              "</style>\n",
              "<table border=\"1\" class=\"dataframe\">\n",
              "  <thead>\n",
              "    <tr style=\"text-align: right;\">\n",
              "      <th></th>\n",
              "      <th>street</th>\n",
              "      <th>object_count</th>\n",
              "    </tr>\n",
              "  </thead>\n",
              "  <tbody>\n",
              "    <tr>\n",
              "      <th>0</th>\n",
              "      <td>проспект Мира</td>\n",
              "      <td>204</td>\n",
              "    </tr>\n",
              "    <tr>\n",
              "      <th>1</th>\n",
              "      <td>Профсоюзная улица</td>\n",
              "      <td>182</td>\n",
              "    </tr>\n",
              "    <tr>\n",
              "      <th>2</th>\n",
              "      <td>Ленинградский проспект</td>\n",
              "      <td>171</td>\n",
              "    </tr>\n",
              "    <tr>\n",
              "      <th>3</th>\n",
              "      <td>Пресненская набережная</td>\n",
              "      <td>167</td>\n",
              "    </tr>\n",
              "    <tr>\n",
              "      <th>4</th>\n",
              "      <td>Варшавское шоссе</td>\n",
              "      <td>164</td>\n",
              "    </tr>\n",
              "    <tr>\n",
              "      <th>5</th>\n",
              "      <td>Ленинский проспект</td>\n",
              "      <td>147</td>\n",
              "    </tr>\n",
              "    <tr>\n",
              "      <th>6</th>\n",
              "      <td>проспект Вернадского</td>\n",
              "      <td>132</td>\n",
              "    </tr>\n",
              "    <tr>\n",
              "      <th>7</th>\n",
              "      <td>Кутузовский проспект</td>\n",
              "      <td>114</td>\n",
              "    </tr>\n",
              "    <tr>\n",
              "      <th>8</th>\n",
              "      <td>Каширское шоссе</td>\n",
              "      <td>112</td>\n",
              "    </tr>\n",
              "    <tr>\n",
              "      <th>9</th>\n",
              "      <td>Кировоградская улица</td>\n",
              "      <td>110</td>\n",
              "    </tr>\n",
              "  </tbody>\n",
              "</table>\n",
              "</div>\n",
              "      <button class=\"colab-df-convert\" onclick=\"convertToInteractive('df-058200c2-9d33-481c-8086-bf154f80cea8')\"\n",
              "              title=\"Convert this dataframe to an interactive table.\"\n",
              "              style=\"display:none;\">\n",
              "        \n",
              "  <svg xmlns=\"http://www.w3.org/2000/svg\" height=\"24px\"viewBox=\"0 0 24 24\"\n",
              "       width=\"24px\">\n",
              "    <path d=\"M0 0h24v24H0V0z\" fill=\"none\"/>\n",
              "    <path d=\"M18.56 5.44l.94 2.06.94-2.06 2.06-.94-2.06-.94-.94-2.06-.94 2.06-2.06.94zm-11 1L8.5 8.5l.94-2.06 2.06-.94-2.06-.94L8.5 2.5l-.94 2.06-2.06.94zm10 10l.94 2.06.94-2.06 2.06-.94-2.06-.94-.94-2.06-.94 2.06-2.06.94z\"/><path d=\"M17.41 7.96l-1.37-1.37c-.4-.4-.92-.59-1.43-.59-.52 0-1.04.2-1.43.59L10.3 9.45l-7.72 7.72c-.78.78-.78 2.05 0 2.83L4 21.41c.39.39.9.59 1.41.59.51 0 1.02-.2 1.41-.59l7.78-7.78 2.81-2.81c.8-.78.8-2.07 0-2.86zM5.41 20L4 18.59l7.72-7.72 1.47 1.35L5.41 20z\"/>\n",
              "  </svg>\n",
              "      </button>\n",
              "      \n",
              "  <style>\n",
              "    .colab-df-container {\n",
              "      display:flex;\n",
              "      flex-wrap:wrap;\n",
              "      gap: 12px;\n",
              "    }\n",
              "\n",
              "    .colab-df-convert {\n",
              "      background-color: #E8F0FE;\n",
              "      border: none;\n",
              "      border-radius: 50%;\n",
              "      cursor: pointer;\n",
              "      display: none;\n",
              "      fill: #1967D2;\n",
              "      height: 32px;\n",
              "      padding: 0 0 0 0;\n",
              "      width: 32px;\n",
              "    }\n",
              "\n",
              "    .colab-df-convert:hover {\n",
              "      background-color: #E2EBFA;\n",
              "      box-shadow: 0px 1px 2px rgba(60, 64, 67, 0.3), 0px 1px 3px 1px rgba(60, 64, 67, 0.15);\n",
              "      fill: #174EA6;\n",
              "    }\n",
              "\n",
              "    [theme=dark] .colab-df-convert {\n",
              "      background-color: #3B4455;\n",
              "      fill: #D2E3FC;\n",
              "    }\n",
              "\n",
              "    [theme=dark] .colab-df-convert:hover {\n",
              "      background-color: #434B5C;\n",
              "      box-shadow: 0px 1px 3px 1px rgba(0, 0, 0, 0.15);\n",
              "      filter: drop-shadow(0px 1px 2px rgba(0, 0, 0, 0.3));\n",
              "      fill: #FFFFFF;\n",
              "    }\n",
              "  </style>\n",
              "\n",
              "      <script>\n",
              "        const buttonEl =\n",
              "          document.querySelector('#df-058200c2-9d33-481c-8086-bf154f80cea8 button.colab-df-convert');\n",
              "        buttonEl.style.display =\n",
              "          google.colab.kernel.accessAllowed ? 'block' : 'none';\n",
              "\n",
              "        async function convertToInteractive(key) {\n",
              "          const element = document.querySelector('#df-058200c2-9d33-481c-8086-bf154f80cea8');\n",
              "          const dataTable =\n",
              "            await google.colab.kernel.invokeFunction('convertToInteractive',\n",
              "                                                     [key], {});\n",
              "          if (!dataTable) return;\n",
              "\n",
              "          const docLinkHtml = 'Like what you see? Visit the ' +\n",
              "            '<a target=\"_blank\" href=https://colab.research.google.com/notebooks/data_table.ipynb>data table notebook</a>'\n",
              "            + ' to learn more about interactive tables.';\n",
              "          element.innerHTML = '';\n",
              "          dataTable['output_type'] = 'display_data';\n",
              "          await google.colab.output.renderOutput(dataTable, element);\n",
              "          const docLink = document.createElement('div');\n",
              "          docLink.innerHTML = docLinkHtml;\n",
              "          element.appendChild(docLink);\n",
              "        }\n",
              "      </script>\n",
              "    </div>\n",
              "  </div>\n",
              "  "
            ]
          },
          "metadata": {}
        }
      ],
      "source": [
        "# Подсчитаем количество объектов на каждой улице и отсортируем по убыванию числа объектов\n",
        "street_object_count = (rest_data.groupby(['street'])\n",
        "                    .agg({'object_name':'count'})\n",
        "                    .sort_values(by='object_name', ascending=False)\n",
        "                    .reset_index()\n",
        "                   )\n",
        "street_object_count.rename(columns={'object_name' : 'object_count'}, inplace = True)\n",
        "# Возмём топ-10 улиц\n",
        "street_top_10 = street_object_count.head(10)\n",
        "display(street_top_10)"
      ]
    },
    {
      "cell_type": "code",
      "execution_count": null,
      "metadata": {
        "id": "T-uZHhqK-vg1",
        "outputId": "83feacf7-bc3c-4c3b-9249-51bceb804fc3",
        "colab": {
          "base_uri": "https://localhost:8080/"
        }
      },
      "outputs": [
        {
          "output_type": "display_data",
          "data": {
            "text/html": [
              "<html>\n",
              "<head><meta charset=\"utf-8\" /></head>\n",
              "<body>\n",
              "    <div>            <script src=\"https://cdnjs.cloudflare.com/ajax/libs/mathjax/2.7.5/MathJax.js?config=TeX-AMS-MML_SVG\"></script><script type=\"text/javascript\">if (window.MathJax) {MathJax.Hub.Config({SVG: {font: \"STIX-Web\"}});}</script>                <script type=\"text/javascript\">window.PlotlyConfig = {MathJaxConfig: 'local'};</script>\n",
              "        <script src=\"https://cdn.plot.ly/plotly-2.8.3.min.js\"></script>                <div id=\"b61a7379-33b9-48dd-9f47-1b46c382c464\" class=\"plotly-graph-div\" style=\"height:525px; width:100%;\"></div>            <script type=\"text/javascript\">                                    window.PLOTLYENV=window.PLOTLYENV || {};                                    if (document.getElementById(\"b61a7379-33b9-48dd-9f47-1b46c382c464\")) {                    Plotly.newPlot(                        \"b61a7379-33b9-48dd-9f47-1b46c382c464\",                        [{\"alignmentgroup\":\"True\",\"hovertemplate\":\"\\u0427\\u0438\\u0441\\u043b\\u043e \\u0437\\u0430\\u0432\\u0435\\u0434\\u0435\\u043d\\u0438\\u0439, \\u0435\\u0434.=%{text}<br>\\u0423\\u043b\\u0438\\u0446\\u0430=%{y}<extra></extra>\",\"legendgroup\":\"\",\"marker\":{\"color\":\"#636efa\",\"pattern\":{\"shape\":\"\"}},\"name\":\"\",\"offsetgroup\":\"\",\"orientation\":\"h\",\"showlegend\":false,\"text\":[110.0,112.0,114.0,132.0,147.0,164.0,167.0,171.0,182.0,204.0],\"textposition\":\"outside\",\"x\":[110,112,114,132,147,164,167,171,182,204],\"xaxis\":\"x\",\"y\":[\"\\u041a\\u0438\\u0440\\u043e\\u0432\\u043e\\u0433\\u0440\\u0430\\u0434\\u0441\\u043a\\u0430\\u044f \\u0443\\u043b\\u0438\\u0446\\u0430\",\"\\u041a\\u0430\\u0448\\u0438\\u0440\\u0441\\u043a\\u043e\\u0435 \\u0448\\u043e\\u0441\\u0441\\u0435\",\"\\u041a\\u0443\\u0442\\u0443\\u0437\\u043e\\u0432\\u0441\\u043a\\u0438\\u0439 \\u043f\\u0440\\u043e\\u0441\\u043f\\u0435\\u043a\\u0442\",\"\\u043f\\u0440\\u043e\\u0441\\u043f\\u0435\\u043a\\u0442 \\u0412\\u0435\\u0440\\u043d\\u0430\\u0434\\u0441\\u043a\\u043e\\u0433\\u043e\",\"\\u041b\\u0435\\u043d\\u0438\\u043d\\u0441\\u043a\\u0438\\u0439 \\u043f\\u0440\\u043e\\u0441\\u043f\\u0435\\u043a\\u0442\",\"\\u0412\\u0430\\u0440\\u0448\\u0430\\u0432\\u0441\\u043a\\u043e\\u0435 \\u0448\\u043e\\u0441\\u0441\\u0435\",\"\\u041f\\u0440\\u0435\\u0441\\u043d\\u0435\\u043d\\u0441\\u043a\\u0430\\u044f \\u043d\\u0430\\u0431\\u0435\\u0440\\u0435\\u0436\\u043d\\u0430\\u044f\",\"\\u041b\\u0435\\u043d\\u0438\\u043d\\u0433\\u0440\\u0430\\u0434\\u0441\\u043a\\u0438\\u0439 \\u043f\\u0440\\u043e\\u0441\\u043f\\u0435\\u043a\\u0442\",\"\\u041f\\u0440\\u043e\\u0444\\u0441\\u043e\\u044e\\u0437\\u043d\\u0430\\u044f \\u0443\\u043b\\u0438\\u0446\\u0430\",\"\\u043f\\u0440\\u043e\\u0441\\u043f\\u0435\\u043a\\u0442 \\u041c\\u0438\\u0440\\u0430\"],\"yaxis\":\"y\",\"type\":\"bar\"}],                        {\"template\":{\"data\":{\"bar\":[{\"error_x\":{\"color\":\"#2a3f5f\"},\"error_y\":{\"color\":\"#2a3f5f\"},\"marker\":{\"line\":{\"color\":\"#E5ECF6\",\"width\":0.5},\"pattern\":{\"fillmode\":\"overlay\",\"size\":10,\"solidity\":0.2}},\"type\":\"bar\"}],\"barpolar\":[{\"marker\":{\"line\":{\"color\":\"#E5ECF6\",\"width\":0.5},\"pattern\":{\"fillmode\":\"overlay\",\"size\":10,\"solidity\":0.2}},\"type\":\"barpolar\"}],\"carpet\":[{\"aaxis\":{\"endlinecolor\":\"#2a3f5f\",\"gridcolor\":\"white\",\"linecolor\":\"white\",\"minorgridcolor\":\"white\",\"startlinecolor\":\"#2a3f5f\"},\"baxis\":{\"endlinecolor\":\"#2a3f5f\",\"gridcolor\":\"white\",\"linecolor\":\"white\",\"minorgridcolor\":\"white\",\"startlinecolor\":\"#2a3f5f\"},\"type\":\"carpet\"}],\"choropleth\":[{\"colorbar\":{\"outlinewidth\":0,\"ticks\":\"\"},\"type\":\"choropleth\"}],\"contour\":[{\"colorbar\":{\"outlinewidth\":0,\"ticks\":\"\"},\"colorscale\":[[0.0,\"#0d0887\"],[0.1111111111111111,\"#46039f\"],[0.2222222222222222,\"#7201a8\"],[0.3333333333333333,\"#9c179e\"],[0.4444444444444444,\"#bd3786\"],[0.5555555555555556,\"#d8576b\"],[0.6666666666666666,\"#ed7953\"],[0.7777777777777778,\"#fb9f3a\"],[0.8888888888888888,\"#fdca26\"],[1.0,\"#f0f921\"]],\"type\":\"contour\"}],\"contourcarpet\":[{\"colorbar\":{\"outlinewidth\":0,\"ticks\":\"\"},\"type\":\"contourcarpet\"}],\"heatmap\":[{\"colorbar\":{\"outlinewidth\":0,\"ticks\":\"\"},\"colorscale\":[[0.0,\"#0d0887\"],[0.1111111111111111,\"#46039f\"],[0.2222222222222222,\"#7201a8\"],[0.3333333333333333,\"#9c179e\"],[0.4444444444444444,\"#bd3786\"],[0.5555555555555556,\"#d8576b\"],[0.6666666666666666,\"#ed7953\"],[0.7777777777777778,\"#fb9f3a\"],[0.8888888888888888,\"#fdca26\"],[1.0,\"#f0f921\"]],\"type\":\"heatmap\"}],\"heatmapgl\":[{\"colorbar\":{\"outlinewidth\":0,\"ticks\":\"\"},\"colorscale\":[[0.0,\"#0d0887\"],[0.1111111111111111,\"#46039f\"],[0.2222222222222222,\"#7201a8\"],[0.3333333333333333,\"#9c179e\"],[0.4444444444444444,\"#bd3786\"],[0.5555555555555556,\"#d8576b\"],[0.6666666666666666,\"#ed7953\"],[0.7777777777777778,\"#fb9f3a\"],[0.8888888888888888,\"#fdca26\"],[1.0,\"#f0f921\"]],\"type\":\"heatmapgl\"}],\"histogram\":[{\"marker\":{\"pattern\":{\"fillmode\":\"overlay\",\"size\":10,\"solidity\":0.2}},\"type\":\"histogram\"}],\"histogram2d\":[{\"colorbar\":{\"outlinewidth\":0,\"ticks\":\"\"},\"colorscale\":[[0.0,\"#0d0887\"],[0.1111111111111111,\"#46039f\"],[0.2222222222222222,\"#7201a8\"],[0.3333333333333333,\"#9c179e\"],[0.4444444444444444,\"#bd3786\"],[0.5555555555555556,\"#d8576b\"],[0.6666666666666666,\"#ed7953\"],[0.7777777777777778,\"#fb9f3a\"],[0.8888888888888888,\"#fdca26\"],[1.0,\"#f0f921\"]],\"type\":\"histogram2d\"}],\"histogram2dcontour\":[{\"colorbar\":{\"outlinewidth\":0,\"ticks\":\"\"},\"colorscale\":[[0.0,\"#0d0887\"],[0.1111111111111111,\"#46039f\"],[0.2222222222222222,\"#7201a8\"],[0.3333333333333333,\"#9c179e\"],[0.4444444444444444,\"#bd3786\"],[0.5555555555555556,\"#d8576b\"],[0.6666666666666666,\"#ed7953\"],[0.7777777777777778,\"#fb9f3a\"],[0.8888888888888888,\"#fdca26\"],[1.0,\"#f0f921\"]],\"type\":\"histogram2dcontour\"}],\"mesh3d\":[{\"colorbar\":{\"outlinewidth\":0,\"ticks\":\"\"},\"type\":\"mesh3d\"}],\"parcoords\":[{\"line\":{\"colorbar\":{\"outlinewidth\":0,\"ticks\":\"\"}},\"type\":\"parcoords\"}],\"pie\":[{\"automargin\":true,\"type\":\"pie\"}],\"scatter\":[{\"marker\":{\"colorbar\":{\"outlinewidth\":0,\"ticks\":\"\"}},\"type\":\"scatter\"}],\"scatter3d\":[{\"line\":{\"colorbar\":{\"outlinewidth\":0,\"ticks\":\"\"}},\"marker\":{\"colorbar\":{\"outlinewidth\":0,\"ticks\":\"\"}},\"type\":\"scatter3d\"}],\"scattercarpet\":[{\"marker\":{\"colorbar\":{\"outlinewidth\":0,\"ticks\":\"\"}},\"type\":\"scattercarpet\"}],\"scattergeo\":[{\"marker\":{\"colorbar\":{\"outlinewidth\":0,\"ticks\":\"\"}},\"type\":\"scattergeo\"}],\"scattergl\":[{\"marker\":{\"colorbar\":{\"outlinewidth\":0,\"ticks\":\"\"}},\"type\":\"scattergl\"}],\"scattermapbox\":[{\"marker\":{\"colorbar\":{\"outlinewidth\":0,\"ticks\":\"\"}},\"type\":\"scattermapbox\"}],\"scatterpolar\":[{\"marker\":{\"colorbar\":{\"outlinewidth\":0,\"ticks\":\"\"}},\"type\":\"scatterpolar\"}],\"scatterpolargl\":[{\"marker\":{\"colorbar\":{\"outlinewidth\":0,\"ticks\":\"\"}},\"type\":\"scatterpolargl\"}],\"scatterternary\":[{\"marker\":{\"colorbar\":{\"outlinewidth\":0,\"ticks\":\"\"}},\"type\":\"scatterternary\"}],\"surface\":[{\"colorbar\":{\"outlinewidth\":0,\"ticks\":\"\"},\"colorscale\":[[0.0,\"#0d0887\"],[0.1111111111111111,\"#46039f\"],[0.2222222222222222,\"#7201a8\"],[0.3333333333333333,\"#9c179e\"],[0.4444444444444444,\"#bd3786\"],[0.5555555555555556,\"#d8576b\"],[0.6666666666666666,\"#ed7953\"],[0.7777777777777778,\"#fb9f3a\"],[0.8888888888888888,\"#fdca26\"],[1.0,\"#f0f921\"]],\"type\":\"surface\"}],\"table\":[{\"cells\":{\"fill\":{\"color\":\"#EBF0F8\"},\"line\":{\"color\":\"white\"}},\"header\":{\"fill\":{\"color\":\"#C8D4E3\"},\"line\":{\"color\":\"white\"}},\"type\":\"table\"}]},\"layout\":{\"annotationdefaults\":{\"arrowcolor\":\"#2a3f5f\",\"arrowhead\":0,\"arrowwidth\":1},\"autotypenumbers\":\"strict\",\"coloraxis\":{\"colorbar\":{\"outlinewidth\":0,\"ticks\":\"\"}},\"colorscale\":{\"diverging\":[[0,\"#8e0152\"],[0.1,\"#c51b7d\"],[0.2,\"#de77ae\"],[0.3,\"#f1b6da\"],[0.4,\"#fde0ef\"],[0.5,\"#f7f7f7\"],[0.6,\"#e6f5d0\"],[0.7,\"#b8e186\"],[0.8,\"#7fbc41\"],[0.9,\"#4d9221\"],[1,\"#276419\"]],\"sequential\":[[0.0,\"#0d0887\"],[0.1111111111111111,\"#46039f\"],[0.2222222222222222,\"#7201a8\"],[0.3333333333333333,\"#9c179e\"],[0.4444444444444444,\"#bd3786\"],[0.5555555555555556,\"#d8576b\"],[0.6666666666666666,\"#ed7953\"],[0.7777777777777778,\"#fb9f3a\"],[0.8888888888888888,\"#fdca26\"],[1.0,\"#f0f921\"]],\"sequentialminus\":[[0.0,\"#0d0887\"],[0.1111111111111111,\"#46039f\"],[0.2222222222222222,\"#7201a8\"],[0.3333333333333333,\"#9c179e\"],[0.4444444444444444,\"#bd3786\"],[0.5555555555555556,\"#d8576b\"],[0.6666666666666666,\"#ed7953\"],[0.7777777777777778,\"#fb9f3a\"],[0.8888888888888888,\"#fdca26\"],[1.0,\"#f0f921\"]]},\"colorway\":[\"#636efa\",\"#EF553B\",\"#00cc96\",\"#ab63fa\",\"#FFA15A\",\"#19d3f3\",\"#FF6692\",\"#B6E880\",\"#FF97FF\",\"#FECB52\"],\"font\":{\"color\":\"#2a3f5f\"},\"geo\":{\"bgcolor\":\"white\",\"lakecolor\":\"white\",\"landcolor\":\"#E5ECF6\",\"showlakes\":true,\"showland\":true,\"subunitcolor\":\"white\"},\"hoverlabel\":{\"align\":\"left\"},\"hovermode\":\"closest\",\"mapbox\":{\"style\":\"light\"},\"paper_bgcolor\":\"white\",\"plot_bgcolor\":\"#E5ECF6\",\"polar\":{\"angularaxis\":{\"gridcolor\":\"white\",\"linecolor\":\"white\",\"ticks\":\"\"},\"bgcolor\":\"#E5ECF6\",\"radialaxis\":{\"gridcolor\":\"white\",\"linecolor\":\"white\",\"ticks\":\"\"}},\"scene\":{\"xaxis\":{\"backgroundcolor\":\"#E5ECF6\",\"gridcolor\":\"white\",\"gridwidth\":2,\"linecolor\":\"white\",\"showbackground\":true,\"ticks\":\"\",\"zerolinecolor\":\"white\"},\"yaxis\":{\"backgroundcolor\":\"#E5ECF6\",\"gridcolor\":\"white\",\"gridwidth\":2,\"linecolor\":\"white\",\"showbackground\":true,\"ticks\":\"\",\"zerolinecolor\":\"white\"},\"zaxis\":{\"backgroundcolor\":\"#E5ECF6\",\"gridcolor\":\"white\",\"gridwidth\":2,\"linecolor\":\"white\",\"showbackground\":true,\"ticks\":\"\",\"zerolinecolor\":\"white\"}},\"shapedefaults\":{\"line\":{\"color\":\"#2a3f5f\"}},\"ternary\":{\"aaxis\":{\"gridcolor\":\"white\",\"linecolor\":\"white\",\"ticks\":\"\"},\"baxis\":{\"gridcolor\":\"white\",\"linecolor\":\"white\",\"ticks\":\"\"},\"bgcolor\":\"#E5ECF6\",\"caxis\":{\"gridcolor\":\"white\",\"linecolor\":\"white\",\"ticks\":\"\"}},\"title\":{\"x\":0.05},\"xaxis\":{\"automargin\":true,\"gridcolor\":\"white\",\"linecolor\":\"white\",\"ticks\":\"\",\"title\":{\"standoff\":15},\"zerolinecolor\":\"white\",\"zerolinewidth\":2},\"yaxis\":{\"automargin\":true,\"gridcolor\":\"white\",\"linecolor\":\"white\",\"ticks\":\"\",\"title\":{\"standoff\":15},\"zerolinecolor\":\"white\",\"zerolinewidth\":2}}},\"xaxis\":{\"anchor\":\"y\",\"domain\":[0.0,1.0],\"title\":{\"text\":\"\\u0427\\u0438\\u0441\\u043b\\u043e \\u0437\\u0430\\u0432\\u0435\\u0434\\u0435\\u043d\\u0438\\u0439, \\u0435\\u0434.\"},\"range\":[0,220],\"tickangle\":0},\"yaxis\":{\"anchor\":\"x\",\"domain\":[0.0,1.0],\"title\":{\"text\":\"\\u0423\\u043b\\u0438\\u0446\\u0430\"}},\"legend\":{\"tracegroupgap\":0},\"title\":{\"text\":\"\\u0422\\u043e\\u043f-10 \\u0443\\u043b\\u0438\\u0446 \\u043f\\u043e \\u0447\\u0438\\u0441\\u043b\\u0443 \\u0437\\u0430\\u0432\\u0435\\u0434\\u0435\\u043d\\u0438\\u0439\"},\"barmode\":\"relative\"},                        {\"responsive\": true}                    ).then(function(){\n",
              "                            \n",
              "var gd = document.getElementById('b61a7379-33b9-48dd-9f47-1b46c382c464');\n",
              "var x = new MutationObserver(function (mutations, observer) {{\n",
              "        var display = window.getComputedStyle(gd).display;\n",
              "        if (!display || display === 'none') {{\n",
              "            console.log([gd, 'removed!']);\n",
              "            Plotly.purge(gd);\n",
              "            observer.disconnect();\n",
              "        }}\n",
              "}});\n",
              "\n",
              "// Listen for the removal of the full notebook cells\n",
              "var notebookContainer = gd.closest('#notebook-container');\n",
              "if (notebookContainer) {{\n",
              "    x.observe(notebookContainer, {childList: true});\n",
              "}}\n",
              "\n",
              "// Listen for the clearing of the current output cell\n",
              "var outputEl = gd.closest('.output');\n",
              "if (outputEl) {{\n",
              "    x.observe(outputEl, {childList: true});\n",
              "}}\n",
              "\n",
              "                        })                };                            </script>        </div>\n",
              "</body>\n",
              "</html>"
            ]
          },
          "metadata": {}
        }
      ],
      "source": [
        "street_top_10 = street_top_10.sort_values(by=('object_count'), ascending=True)\n",
        "fig = px.bar(street_top_10, \n",
        "             x='object_count', \n",
        "             y='street',\n",
        "             text='object_count',\n",
        "             title='Топ-10 улиц по числу заведений',\n",
        "             labels={'object_count':'Число заведений, ед.', 'street':'Улица'}\n",
        ")\n",
        "fig.update_xaxes(range=[0, 220])\n",
        "fig.update_traces(textposition=\"outside\")\n",
        "fig.update_xaxes(tickangle=0)\n",
        "fig.show() "
      ]
    },
    {
      "cell_type": "markdown",
      "metadata": {
        "id": "BCWAmDTV-vg2"
      },
      "source": [
        "**Вывод** Самая \"населённая\" заведениями улица Москвы - проспект Мира"
      ]
    },
    {
      "cell_type": "markdown",
      "metadata": {
        "id": "Sb7CfEr8-vg2"
      },
      "source": [
        "**ЗАГРУЗКА ДАННЫХ ИЗ ВНЕШНИХ ИСТОЧНИКОВ!**  \n",
        "1. Нашёл в Интернете список всех улиц Москвы и их привязка к районам с сайта МосГаз https://frs.noosphere.ru/xmlui/handle/20.500.11925/714058?show=full   \n",
        "1. Загрузил csv-файл в гугл-диск, оттуда мы его и прочитаем."
      ]
    },
    {
      "cell_type": "code",
      "execution_count": null,
      "metadata": {
        "id": "oOhms7rj-vg2",
        "outputId": "226aa48d-c70c-46b8-ed07-4e527ba05982",
        "colab": {
          "base_uri": "https://localhost:8080/"
        }
      },
      "outputs": [
        {
          "output_type": "display_data",
          "data": {
            "text/plain": [
              "                        streetname  areaid okrug               area\n",
              "0             Выставочный переулок    17.0   ЦАО  Пресненский район\n",
              "1                     улица Гашека    17.0   ЦАО  Пресненский район\n",
              "2          Большая Никитская улица    17.0   ЦАО  Пресненский район\n",
              "3                Глубокий переулок    17.0   ЦАО  Пресненский район\n",
              "4  Большой Гнездниковский переулок    17.0   ЦАО  Пресненский район"
            ],
            "text/html": [
              "\n",
              "  <div id=\"df-d4189cfc-5fff-426a-9bf2-681c5cd9a842\">\n",
              "    <div class=\"colab-df-container\">\n",
              "      <div>\n",
              "<style scoped>\n",
              "    .dataframe tbody tr th:only-of-type {\n",
              "        vertical-align: middle;\n",
              "    }\n",
              "\n",
              "    .dataframe tbody tr th {\n",
              "        vertical-align: top;\n",
              "    }\n",
              "\n",
              "    .dataframe thead th {\n",
              "        text-align: right;\n",
              "    }\n",
              "</style>\n",
              "<table border=\"1\" class=\"dataframe\">\n",
              "  <thead>\n",
              "    <tr style=\"text-align: right;\">\n",
              "      <th></th>\n",
              "      <th>streetname</th>\n",
              "      <th>areaid</th>\n",
              "      <th>okrug</th>\n",
              "      <th>area</th>\n",
              "    </tr>\n",
              "  </thead>\n",
              "  <tbody>\n",
              "    <tr>\n",
              "      <th>0</th>\n",
              "      <td>Выставочный переулок</td>\n",
              "      <td>17.0</td>\n",
              "      <td>ЦАО</td>\n",
              "      <td>Пресненский район</td>\n",
              "    </tr>\n",
              "    <tr>\n",
              "      <th>1</th>\n",
              "      <td>улица Гашека</td>\n",
              "      <td>17.0</td>\n",
              "      <td>ЦАО</td>\n",
              "      <td>Пресненский район</td>\n",
              "    </tr>\n",
              "    <tr>\n",
              "      <th>2</th>\n",
              "      <td>Большая Никитская улица</td>\n",
              "      <td>17.0</td>\n",
              "      <td>ЦАО</td>\n",
              "      <td>Пресненский район</td>\n",
              "    </tr>\n",
              "    <tr>\n",
              "      <th>3</th>\n",
              "      <td>Глубокий переулок</td>\n",
              "      <td>17.0</td>\n",
              "      <td>ЦАО</td>\n",
              "      <td>Пресненский район</td>\n",
              "    </tr>\n",
              "    <tr>\n",
              "      <th>4</th>\n",
              "      <td>Большой Гнездниковский переулок</td>\n",
              "      <td>17.0</td>\n",
              "      <td>ЦАО</td>\n",
              "      <td>Пресненский район</td>\n",
              "    </tr>\n",
              "  </tbody>\n",
              "</table>\n",
              "</div>\n",
              "      <button class=\"colab-df-convert\" onclick=\"convertToInteractive('df-d4189cfc-5fff-426a-9bf2-681c5cd9a842')\"\n",
              "              title=\"Convert this dataframe to an interactive table.\"\n",
              "              style=\"display:none;\">\n",
              "        \n",
              "  <svg xmlns=\"http://www.w3.org/2000/svg\" height=\"24px\"viewBox=\"0 0 24 24\"\n",
              "       width=\"24px\">\n",
              "    <path d=\"M0 0h24v24H0V0z\" fill=\"none\"/>\n",
              "    <path d=\"M18.56 5.44l.94 2.06.94-2.06 2.06-.94-2.06-.94-.94-2.06-.94 2.06-2.06.94zm-11 1L8.5 8.5l.94-2.06 2.06-.94-2.06-.94L8.5 2.5l-.94 2.06-2.06.94zm10 10l.94 2.06.94-2.06 2.06-.94-2.06-.94-.94-2.06-.94 2.06-2.06.94z\"/><path d=\"M17.41 7.96l-1.37-1.37c-.4-.4-.92-.59-1.43-.59-.52 0-1.04.2-1.43.59L10.3 9.45l-7.72 7.72c-.78.78-.78 2.05 0 2.83L4 21.41c.39.39.9.59 1.41.59.51 0 1.02-.2 1.41-.59l7.78-7.78 2.81-2.81c.8-.78.8-2.07 0-2.86zM5.41 20L4 18.59l7.72-7.72 1.47 1.35L5.41 20z\"/>\n",
              "  </svg>\n",
              "      </button>\n",
              "      \n",
              "  <style>\n",
              "    .colab-df-container {\n",
              "      display:flex;\n",
              "      flex-wrap:wrap;\n",
              "      gap: 12px;\n",
              "    }\n",
              "\n",
              "    .colab-df-convert {\n",
              "      background-color: #E8F0FE;\n",
              "      border: none;\n",
              "      border-radius: 50%;\n",
              "      cursor: pointer;\n",
              "      display: none;\n",
              "      fill: #1967D2;\n",
              "      height: 32px;\n",
              "      padding: 0 0 0 0;\n",
              "      width: 32px;\n",
              "    }\n",
              "\n",
              "    .colab-df-convert:hover {\n",
              "      background-color: #E2EBFA;\n",
              "      box-shadow: 0px 1px 2px rgba(60, 64, 67, 0.3), 0px 1px 3px 1px rgba(60, 64, 67, 0.15);\n",
              "      fill: #174EA6;\n",
              "    }\n",
              "\n",
              "    [theme=dark] .colab-df-convert {\n",
              "      background-color: #3B4455;\n",
              "      fill: #D2E3FC;\n",
              "    }\n",
              "\n",
              "    [theme=dark] .colab-df-convert:hover {\n",
              "      background-color: #434B5C;\n",
              "      box-shadow: 0px 1px 3px 1px rgba(0, 0, 0, 0.15);\n",
              "      filter: drop-shadow(0px 1px 2px rgba(0, 0, 0, 0.3));\n",
              "      fill: #FFFFFF;\n",
              "    }\n",
              "  </style>\n",
              "\n",
              "      <script>\n",
              "        const buttonEl =\n",
              "          document.querySelector('#df-d4189cfc-5fff-426a-9bf2-681c5cd9a842 button.colab-df-convert');\n",
              "        buttonEl.style.display =\n",
              "          google.colab.kernel.accessAllowed ? 'block' : 'none';\n",
              "\n",
              "        async function convertToInteractive(key) {\n",
              "          const element = document.querySelector('#df-d4189cfc-5fff-426a-9bf2-681c5cd9a842');\n",
              "          const dataTable =\n",
              "            await google.colab.kernel.invokeFunction('convertToInteractive',\n",
              "                                                     [key], {});\n",
              "          if (!dataTable) return;\n",
              "\n",
              "          const docLinkHtml = 'Like what you see? Visit the ' +\n",
              "            '<a target=\"_blank\" href=https://colab.research.google.com/notebooks/data_table.ipynb>data table notebook</a>'\n",
              "            + ' to learn more about interactive tables.';\n",
              "          element.innerHTML = '';\n",
              "          dataTable['output_type'] = 'display_data';\n",
              "          await google.colab.output.renderOutput(dataTable, element);\n",
              "          const docLink = document.createElement('div');\n",
              "          docLink.innerHTML = docLinkHtml;\n",
              "          element.appendChild(docLink);\n",
              "        }\n",
              "      </script>\n",
              "    </div>\n",
              "  </div>\n",
              "  "
            ]
          },
          "metadata": {}
        }
      ],
      "source": [
        "# Импорт библиотек\n",
        "spreadsheet_id = '1o0Rmxii5snYG8fk0Q81p9D5F9bZyslSPOGci7lpQ1Po'\n",
        "file_name = 'https://docs.google.com/spreadsheets/d/{}/export?format=csv'.format(spreadsheet_id)\n",
        "r = requests.get(file_name)\n",
        "moscow_streets = pd.read_csv(BytesIO(r.content))\n",
        "display(moscow_streets.head())"
      ]
    },
    {
      "cell_type": "markdown",
      "metadata": {
        "id": "bbW3GVUY-vg2"
      },
      "source": [
        "**Описание данных:**  \n",
        "**streetname** - название улицы    \n",
        "**areaid** - код района   \n",
        "**okrug** - название округа   \n",
        "**area** - район"
      ]
    },
    {
      "cell_type": "code",
      "execution_count": null,
      "metadata": {
        "id": "kZ1M7QOr-vg3",
        "outputId": "e2dfdde6-542a-4b7d-9b27-93353564ca24",
        "colab": {
          "base_uri": "https://localhost:8080/"
        }
      },
      "outputs": [
        {
          "output_type": "stream",
          "name": "stdout",
          "text": [
            "<class 'pandas.core.frame.DataFrame'>\n",
            "RangeIndex: 4432 entries, 0 to 4431\n",
            "Data columns (total 4 columns):\n",
            " #   Column      Non-Null Count  Dtype  \n",
            "---  ------      --------------  -----  \n",
            " 0   streetname  4432 non-null   object \n",
            " 1   areaid      4397 non-null   float64\n",
            " 2   okrug       4431 non-null   object \n",
            " 3   area        4431 non-null   object \n",
            "dtypes: float64(1), object(3)\n",
            "memory usage: 138.6+ KB\n"
          ]
        }
      ],
      "source": [
        "moscow_streets.info()"
      ]
    },
    {
      "cell_type": "code",
      "execution_count": null,
      "metadata": {
        "id": "DmhBk1AC-vg3",
        "outputId": "50fe5b28-bc22-4374-b891-ecd74686ea80",
        "colab": {
          "base_uri": "https://localhost:8080/"
        }
      },
      "outputs": [
        {
          "output_type": "execute_result",
          "data": {
            "text/plain": [
              "streetname    8\n",
              "areaid        8\n",
              "okrug         8\n",
              "area          8\n",
              "dtype: int64"
            ]
          },
          "metadata": {},
          "execution_count": 33
        }
      ],
      "source": [
        "moscow_streets[moscow_streets.duplicated()].count()"
      ]
    },
    {
      "cell_type": "code",
      "execution_count": null,
      "metadata": {
        "id": "houF1ez_-vg3",
        "outputId": "eb5d780c-7005-4020-c713-81c462f48457",
        "colab": {
          "base_uri": "https://localhost:8080/"
        }
      },
      "outputs": [
        {
          "output_type": "execute_result",
          "data": {
            "text/plain": [
              "streetname    0\n",
              "areaid        0\n",
              "okrug         0\n",
              "area          0\n",
              "dtype: int64"
            ]
          },
          "metadata": {},
          "execution_count": 34
        }
      ],
      "source": [
        "moscow_streets = moscow_streets.drop_duplicates().reset_index(drop=True)\n",
        "moscow_streets[moscow_streets.duplicated()].count()"
      ]
    },
    {
      "cell_type": "markdown",
      "metadata": {
        "id": "L4ROPZQC-vg3"
      },
      "source": [
        "Датафрейм содержит данные о 4424  московских улицах. Пропусков нет. Типы данных в порядке. Были дубликаты."
      ]
    },
    {
      "cell_type": "code",
      "execution_count": null,
      "metadata": {
        "id": "5ROiAA-8-vg3",
        "outputId": "a0f45775-4009-40c4-f627-920787a4aec3",
        "colab": {
          "base_uri": "https://localhost:8080/"
        }
      },
      "outputs": [
        {
          "output_type": "display_data",
          "data": {
            "text/plain": [
              "                    street  object_count  areaid okrug  \\\n",
              "0     Кировоградская улица           110   109.0   ЮАО   \n",
              "1     Кировоградская улица           110   108.0   ЮАО   \n",
              "2     Кировоградская улица           110   110.0   ЮАО   \n",
              "3          Каширское шоссе           112   101.0   ЮАО   \n",
              "4          Каширское шоссе           112   102.0   ЮАО   \n",
              "5          Каширское шоссе           112   106.0   ЮАО   \n",
              "6          Каширское шоссе           112   105.0   ЮАО   \n",
              "7     Кутузовский проспект           114    38.0   ЗАО   \n",
              "8     Кутузовский проспект           114    49.0   ЗАО   \n",
              "9     проспект Вернадского           132    44.0   ЗАО   \n",
              "10    проспект Вернадского           132    45.0   ЗАО   \n",
              "11    проспект Вернадского           132    47.0   ЗАО   \n",
              "12    проспект Вернадского           132   124.0  ЮЗАО   \n",
              "13    проспект Вернадского           132   128.0  ЮЗАО   \n",
              "14      Ленинский проспект           147    44.0   ЗАО   \n",
              "15      Ленинский проспект           147    47.0   ЗАО   \n",
              "16      Ленинский проспект           147    99.0   ЮАО   \n",
              "17      Ленинский проспект           147   124.0  ЮЗАО   \n",
              "18      Ленинский проспект           147   128.0  ЮЗАО   \n",
              "19      Ленинский проспект           147   129.0  ЮЗАО   \n",
              "20      Ленинский проспект           147   131.0  ЮЗАО   \n",
              "21      Ленинский проспект           147    21.0   ЦАО   \n",
              "22        Варшавское шоссе           164   109.0   ЮАО   \n",
              "23        Варшавское шоссе           164   108.0   ЮАО   \n",
              "24        Варшавское шоссе           164   110.0   ЮАО   \n",
              "25        Варшавское шоссе           164    99.0   ЮАО   \n",
              "26        Варшавское шоссе           164   102.0   ЮАО   \n",
              "27        Варшавское шоссе           164   104.0   ЮАО   \n",
              "28        Варшавское шоссе           164   130.0  ЮЗАО   \n",
              "29        Варшавское шоссе           164   133.0  ЮЗАО   \n",
              "30  Пресненская набережная           167    17.0   ЦАО   \n",
              "31  Ленинградский проспект           171    54.0   САО   \n",
              "32  Ленинградский проспект           171    55.0   САО   \n",
              "33  Ленинградский проспект           171    69.0   САО   \n",
              "34  Ленинградский проспект           171    66.0   САО   \n",
              "35       Профсоюзная улица           182   123.0  ЮЗАО   \n",
              "36       Профсоюзная улица           182   132.0  ЮЗАО   \n",
              "37       Профсоюзная улица           182   134.0  ЮЗАО   \n",
              "38       Профсоюзная улица           182   126.0  ЮЗАО   \n",
              "39       Профсоюзная улица           182   129.0  ЮЗАО   \n",
              "40       Профсоюзная улица           182   131.0  ЮЗАО   \n",
              "41           проспект Мира           204    70.0  СВАО   \n",
              "42           проспект Мира           204    86.0  СВАО   \n",
              "43           проспект Мира           204    78.0  СВАО   \n",
              "44           проспект Мира           204    79.0  СВАО   \n",
              "45           проспект Мира           204    81.0  СВАО   \n",
              "46           проспект Мира           204    82.0  СВАО   \n",
              "47           проспект Мира           204    16.0   ЦАО   \n",
              "\n",
              "                               area  \n",
              "0       Район Чертаново Центральное  \n",
              "1          Район Чертаново Северное  \n",
              "2             Район Чертаново Южное  \n",
              "3        Район Москворечье-Сабурово  \n",
              "4          Район Нагатино-Садовники  \n",
              "5      Район Орехово-Борисово Южное  \n",
              "6   Район Орехово-Борисово Северное  \n",
              "7                Район Дорогомилово  \n",
              "8              Район Фили-Давыдково  \n",
              "9        Район Проспект Вернадского  \n",
              "10                    Район Раменки  \n",
              "11         Район Тропарево-Никулино  \n",
              "12                Район Гагаринский  \n",
              "13              Ломоносовский район  \n",
              "14       Район Проспект Вернадского  \n",
              "15         Район Тропарево-Никулино  \n",
              "16                    Донской район  \n",
              "17                Район Гагаринский  \n",
              "18              Ломоносовский район  \n",
              "19                Обручевский район  \n",
              "20                Район Теплый Стан  \n",
              "21                   Район Якиманка  \n",
              "22      Район Чертаново Центральное  \n",
              "23         Район Чертаново Северное  \n",
              "24            Район Чертаново Южное  \n",
              "25                    Донской район  \n",
              "26         Район Нагатино-Садовники  \n",
              "27                   Нагорный район  \n",
              "28            Район Северное Бутово  \n",
              "29               Район Южное Бутово  \n",
              "30                Пресненский район  \n",
              "31                   Район Аэропорт  \n",
              "32                    Район Беговой  \n",
              "33                Хорошевский район  \n",
              "34                      Район Сокол  \n",
              "35              Академический район  \n",
              "36                  Район Черемушки  \n",
              "37                    Район Ясенево  \n",
              "38                   Район Коньково  \n",
              "39                Обручевский район  \n",
              "40                Район Теплый Стан  \n",
              "41               Алексеевский район  \n",
              "42                Ярославский Район  \n",
              "43               Район Марьина роща  \n",
              "44               Останкинский район  \n",
              "45                  Район Ростокино  \n",
              "46                   Район Свиблово  \n",
              "47                  Мещанский район  "
            ],
            "text/html": [
              "\n",
              "  <div id=\"df-fe54c643-358b-42fc-93c9-bbe4ce1be5c9\">\n",
              "    <div class=\"colab-df-container\">\n",
              "      <div>\n",
              "<style scoped>\n",
              "    .dataframe tbody tr th:only-of-type {\n",
              "        vertical-align: middle;\n",
              "    }\n",
              "\n",
              "    .dataframe tbody tr th {\n",
              "        vertical-align: top;\n",
              "    }\n",
              "\n",
              "    .dataframe thead th {\n",
              "        text-align: right;\n",
              "    }\n",
              "</style>\n",
              "<table border=\"1\" class=\"dataframe\">\n",
              "  <thead>\n",
              "    <tr style=\"text-align: right;\">\n",
              "      <th></th>\n",
              "      <th>street</th>\n",
              "      <th>object_count</th>\n",
              "      <th>areaid</th>\n",
              "      <th>okrug</th>\n",
              "      <th>area</th>\n",
              "    </tr>\n",
              "  </thead>\n",
              "  <tbody>\n",
              "    <tr>\n",
              "      <th>0</th>\n",
              "      <td>Кировоградская улица</td>\n",
              "      <td>110</td>\n",
              "      <td>109.0</td>\n",
              "      <td>ЮАО</td>\n",
              "      <td>Район Чертаново Центральное</td>\n",
              "    </tr>\n",
              "    <tr>\n",
              "      <th>1</th>\n",
              "      <td>Кировоградская улица</td>\n",
              "      <td>110</td>\n",
              "      <td>108.0</td>\n",
              "      <td>ЮАО</td>\n",
              "      <td>Район Чертаново Северное</td>\n",
              "    </tr>\n",
              "    <tr>\n",
              "      <th>2</th>\n",
              "      <td>Кировоградская улица</td>\n",
              "      <td>110</td>\n",
              "      <td>110.0</td>\n",
              "      <td>ЮАО</td>\n",
              "      <td>Район Чертаново Южное</td>\n",
              "    </tr>\n",
              "    <tr>\n",
              "      <th>3</th>\n",
              "      <td>Каширское шоссе</td>\n",
              "      <td>112</td>\n",
              "      <td>101.0</td>\n",
              "      <td>ЮАО</td>\n",
              "      <td>Район Москворечье-Сабурово</td>\n",
              "    </tr>\n",
              "    <tr>\n",
              "      <th>4</th>\n",
              "      <td>Каширское шоссе</td>\n",
              "      <td>112</td>\n",
              "      <td>102.0</td>\n",
              "      <td>ЮАО</td>\n",
              "      <td>Район Нагатино-Садовники</td>\n",
              "    </tr>\n",
              "    <tr>\n",
              "      <th>5</th>\n",
              "      <td>Каширское шоссе</td>\n",
              "      <td>112</td>\n",
              "      <td>106.0</td>\n",
              "      <td>ЮАО</td>\n",
              "      <td>Район Орехово-Борисово Южное</td>\n",
              "    </tr>\n",
              "    <tr>\n",
              "      <th>6</th>\n",
              "      <td>Каширское шоссе</td>\n",
              "      <td>112</td>\n",
              "      <td>105.0</td>\n",
              "      <td>ЮАО</td>\n",
              "      <td>Район Орехово-Борисово Северное</td>\n",
              "    </tr>\n",
              "    <tr>\n",
              "      <th>7</th>\n",
              "      <td>Кутузовский проспект</td>\n",
              "      <td>114</td>\n",
              "      <td>38.0</td>\n",
              "      <td>ЗАО</td>\n",
              "      <td>Район Дорогомилово</td>\n",
              "    </tr>\n",
              "    <tr>\n",
              "      <th>8</th>\n",
              "      <td>Кутузовский проспект</td>\n",
              "      <td>114</td>\n",
              "      <td>49.0</td>\n",
              "      <td>ЗАО</td>\n",
              "      <td>Район Фили-Давыдково</td>\n",
              "    </tr>\n",
              "    <tr>\n",
              "      <th>9</th>\n",
              "      <td>проспект Вернадского</td>\n",
              "      <td>132</td>\n",
              "      <td>44.0</td>\n",
              "      <td>ЗАО</td>\n",
              "      <td>Район Проспект Вернадского</td>\n",
              "    </tr>\n",
              "    <tr>\n",
              "      <th>10</th>\n",
              "      <td>проспект Вернадского</td>\n",
              "      <td>132</td>\n",
              "      <td>45.0</td>\n",
              "      <td>ЗАО</td>\n",
              "      <td>Район Раменки</td>\n",
              "    </tr>\n",
              "    <tr>\n",
              "      <th>11</th>\n",
              "      <td>проспект Вернадского</td>\n",
              "      <td>132</td>\n",
              "      <td>47.0</td>\n",
              "      <td>ЗАО</td>\n",
              "      <td>Район Тропарево-Никулино</td>\n",
              "    </tr>\n",
              "    <tr>\n",
              "      <th>12</th>\n",
              "      <td>проспект Вернадского</td>\n",
              "      <td>132</td>\n",
              "      <td>124.0</td>\n",
              "      <td>ЮЗАО</td>\n",
              "      <td>Район Гагаринский</td>\n",
              "    </tr>\n",
              "    <tr>\n",
              "      <th>13</th>\n",
              "      <td>проспект Вернадского</td>\n",
              "      <td>132</td>\n",
              "      <td>128.0</td>\n",
              "      <td>ЮЗАО</td>\n",
              "      <td>Ломоносовский район</td>\n",
              "    </tr>\n",
              "    <tr>\n",
              "      <th>14</th>\n",
              "      <td>Ленинский проспект</td>\n",
              "      <td>147</td>\n",
              "      <td>44.0</td>\n",
              "      <td>ЗАО</td>\n",
              "      <td>Район Проспект Вернадского</td>\n",
              "    </tr>\n",
              "    <tr>\n",
              "      <th>15</th>\n",
              "      <td>Ленинский проспект</td>\n",
              "      <td>147</td>\n",
              "      <td>47.0</td>\n",
              "      <td>ЗАО</td>\n",
              "      <td>Район Тропарево-Никулино</td>\n",
              "    </tr>\n",
              "    <tr>\n",
              "      <th>16</th>\n",
              "      <td>Ленинский проспект</td>\n",
              "      <td>147</td>\n",
              "      <td>99.0</td>\n",
              "      <td>ЮАО</td>\n",
              "      <td>Донской район</td>\n",
              "    </tr>\n",
              "    <tr>\n",
              "      <th>17</th>\n",
              "      <td>Ленинский проспект</td>\n",
              "      <td>147</td>\n",
              "      <td>124.0</td>\n",
              "      <td>ЮЗАО</td>\n",
              "      <td>Район Гагаринский</td>\n",
              "    </tr>\n",
              "    <tr>\n",
              "      <th>18</th>\n",
              "      <td>Ленинский проспект</td>\n",
              "      <td>147</td>\n",
              "      <td>128.0</td>\n",
              "      <td>ЮЗАО</td>\n",
              "      <td>Ломоносовский район</td>\n",
              "    </tr>\n",
              "    <tr>\n",
              "      <th>19</th>\n",
              "      <td>Ленинский проспект</td>\n",
              "      <td>147</td>\n",
              "      <td>129.0</td>\n",
              "      <td>ЮЗАО</td>\n",
              "      <td>Обручевский район</td>\n",
              "    </tr>\n",
              "    <tr>\n",
              "      <th>20</th>\n",
              "      <td>Ленинский проспект</td>\n",
              "      <td>147</td>\n",
              "      <td>131.0</td>\n",
              "      <td>ЮЗАО</td>\n",
              "      <td>Район Теплый Стан</td>\n",
              "    </tr>\n",
              "    <tr>\n",
              "      <th>21</th>\n",
              "      <td>Ленинский проспект</td>\n",
              "      <td>147</td>\n",
              "      <td>21.0</td>\n",
              "      <td>ЦАО</td>\n",
              "      <td>Район Якиманка</td>\n",
              "    </tr>\n",
              "    <tr>\n",
              "      <th>22</th>\n",
              "      <td>Варшавское шоссе</td>\n",
              "      <td>164</td>\n",
              "      <td>109.0</td>\n",
              "      <td>ЮАО</td>\n",
              "      <td>Район Чертаново Центральное</td>\n",
              "    </tr>\n",
              "    <tr>\n",
              "      <th>23</th>\n",
              "      <td>Варшавское шоссе</td>\n",
              "      <td>164</td>\n",
              "      <td>108.0</td>\n",
              "      <td>ЮАО</td>\n",
              "      <td>Район Чертаново Северное</td>\n",
              "    </tr>\n",
              "    <tr>\n",
              "      <th>24</th>\n",
              "      <td>Варшавское шоссе</td>\n",
              "      <td>164</td>\n",
              "      <td>110.0</td>\n",
              "      <td>ЮАО</td>\n",
              "      <td>Район Чертаново Южное</td>\n",
              "    </tr>\n",
              "    <tr>\n",
              "      <th>25</th>\n",
              "      <td>Варшавское шоссе</td>\n",
              "      <td>164</td>\n",
              "      <td>99.0</td>\n",
              "      <td>ЮАО</td>\n",
              "      <td>Донской район</td>\n",
              "    </tr>\n",
              "    <tr>\n",
              "      <th>26</th>\n",
              "      <td>Варшавское шоссе</td>\n",
              "      <td>164</td>\n",
              "      <td>102.0</td>\n",
              "      <td>ЮАО</td>\n",
              "      <td>Район Нагатино-Садовники</td>\n",
              "    </tr>\n",
              "    <tr>\n",
              "      <th>27</th>\n",
              "      <td>Варшавское шоссе</td>\n",
              "      <td>164</td>\n",
              "      <td>104.0</td>\n",
              "      <td>ЮАО</td>\n",
              "      <td>Нагорный район</td>\n",
              "    </tr>\n",
              "    <tr>\n",
              "      <th>28</th>\n",
              "      <td>Варшавское шоссе</td>\n",
              "      <td>164</td>\n",
              "      <td>130.0</td>\n",
              "      <td>ЮЗАО</td>\n",
              "      <td>Район Северное Бутово</td>\n",
              "    </tr>\n",
              "    <tr>\n",
              "      <th>29</th>\n",
              "      <td>Варшавское шоссе</td>\n",
              "      <td>164</td>\n",
              "      <td>133.0</td>\n",
              "      <td>ЮЗАО</td>\n",
              "      <td>Район Южное Бутово</td>\n",
              "    </tr>\n",
              "    <tr>\n",
              "      <th>30</th>\n",
              "      <td>Пресненская набережная</td>\n",
              "      <td>167</td>\n",
              "      <td>17.0</td>\n",
              "      <td>ЦАО</td>\n",
              "      <td>Пресненский район</td>\n",
              "    </tr>\n",
              "    <tr>\n",
              "      <th>31</th>\n",
              "      <td>Ленинградский проспект</td>\n",
              "      <td>171</td>\n",
              "      <td>54.0</td>\n",
              "      <td>САО</td>\n",
              "      <td>Район Аэропорт</td>\n",
              "    </tr>\n",
              "    <tr>\n",
              "      <th>32</th>\n",
              "      <td>Ленинградский проспект</td>\n",
              "      <td>171</td>\n",
              "      <td>55.0</td>\n",
              "      <td>САО</td>\n",
              "      <td>Район Беговой</td>\n",
              "    </tr>\n",
              "    <tr>\n",
              "      <th>33</th>\n",
              "      <td>Ленинградский проспект</td>\n",
              "      <td>171</td>\n",
              "      <td>69.0</td>\n",
              "      <td>САО</td>\n",
              "      <td>Хорошевский район</td>\n",
              "    </tr>\n",
              "    <tr>\n",
              "      <th>34</th>\n",
              "      <td>Ленинградский проспект</td>\n",
              "      <td>171</td>\n",
              "      <td>66.0</td>\n",
              "      <td>САО</td>\n",
              "      <td>Район Сокол</td>\n",
              "    </tr>\n",
              "    <tr>\n",
              "      <th>35</th>\n",
              "      <td>Профсоюзная улица</td>\n",
              "      <td>182</td>\n",
              "      <td>123.0</td>\n",
              "      <td>ЮЗАО</td>\n",
              "      <td>Академический район</td>\n",
              "    </tr>\n",
              "    <tr>\n",
              "      <th>36</th>\n",
              "      <td>Профсоюзная улица</td>\n",
              "      <td>182</td>\n",
              "      <td>132.0</td>\n",
              "      <td>ЮЗАО</td>\n",
              "      <td>Район Черемушки</td>\n",
              "    </tr>\n",
              "    <tr>\n",
              "      <th>37</th>\n",
              "      <td>Профсоюзная улица</td>\n",
              "      <td>182</td>\n",
              "      <td>134.0</td>\n",
              "      <td>ЮЗАО</td>\n",
              "      <td>Район Ясенево</td>\n",
              "    </tr>\n",
              "    <tr>\n",
              "      <th>38</th>\n",
              "      <td>Профсоюзная улица</td>\n",
              "      <td>182</td>\n",
              "      <td>126.0</td>\n",
              "      <td>ЮЗАО</td>\n",
              "      <td>Район Коньково</td>\n",
              "    </tr>\n",
              "    <tr>\n",
              "      <th>39</th>\n",
              "      <td>Профсоюзная улица</td>\n",
              "      <td>182</td>\n",
              "      <td>129.0</td>\n",
              "      <td>ЮЗАО</td>\n",
              "      <td>Обручевский район</td>\n",
              "    </tr>\n",
              "    <tr>\n",
              "      <th>40</th>\n",
              "      <td>Профсоюзная улица</td>\n",
              "      <td>182</td>\n",
              "      <td>131.0</td>\n",
              "      <td>ЮЗАО</td>\n",
              "      <td>Район Теплый Стан</td>\n",
              "    </tr>\n",
              "    <tr>\n",
              "      <th>41</th>\n",
              "      <td>проспект Мира</td>\n",
              "      <td>204</td>\n",
              "      <td>70.0</td>\n",
              "      <td>СВАО</td>\n",
              "      <td>Алексеевский район</td>\n",
              "    </tr>\n",
              "    <tr>\n",
              "      <th>42</th>\n",
              "      <td>проспект Мира</td>\n",
              "      <td>204</td>\n",
              "      <td>86.0</td>\n",
              "      <td>СВАО</td>\n",
              "      <td>Ярославский Район</td>\n",
              "    </tr>\n",
              "    <tr>\n",
              "      <th>43</th>\n",
              "      <td>проспект Мира</td>\n",
              "      <td>204</td>\n",
              "      <td>78.0</td>\n",
              "      <td>СВАО</td>\n",
              "      <td>Район Марьина роща</td>\n",
              "    </tr>\n",
              "    <tr>\n",
              "      <th>44</th>\n",
              "      <td>проспект Мира</td>\n",
              "      <td>204</td>\n",
              "      <td>79.0</td>\n",
              "      <td>СВАО</td>\n",
              "      <td>Останкинский район</td>\n",
              "    </tr>\n",
              "    <tr>\n",
              "      <th>45</th>\n",
              "      <td>проспект Мира</td>\n",
              "      <td>204</td>\n",
              "      <td>81.0</td>\n",
              "      <td>СВАО</td>\n",
              "      <td>Район Ростокино</td>\n",
              "    </tr>\n",
              "    <tr>\n",
              "      <th>46</th>\n",
              "      <td>проспект Мира</td>\n",
              "      <td>204</td>\n",
              "      <td>82.0</td>\n",
              "      <td>СВАО</td>\n",
              "      <td>Район Свиблово</td>\n",
              "    </tr>\n",
              "    <tr>\n",
              "      <th>47</th>\n",
              "      <td>проспект Мира</td>\n",
              "      <td>204</td>\n",
              "      <td>16.0</td>\n",
              "      <td>ЦАО</td>\n",
              "      <td>Мещанский район</td>\n",
              "    </tr>\n",
              "  </tbody>\n",
              "</table>\n",
              "</div>\n",
              "      <button class=\"colab-df-convert\" onclick=\"convertToInteractive('df-fe54c643-358b-42fc-93c9-bbe4ce1be5c9')\"\n",
              "              title=\"Convert this dataframe to an interactive table.\"\n",
              "              style=\"display:none;\">\n",
              "        \n",
              "  <svg xmlns=\"http://www.w3.org/2000/svg\" height=\"24px\"viewBox=\"0 0 24 24\"\n",
              "       width=\"24px\">\n",
              "    <path d=\"M0 0h24v24H0V0z\" fill=\"none\"/>\n",
              "    <path d=\"M18.56 5.44l.94 2.06.94-2.06 2.06-.94-2.06-.94-.94-2.06-.94 2.06-2.06.94zm-11 1L8.5 8.5l.94-2.06 2.06-.94-2.06-.94L8.5 2.5l-.94 2.06-2.06.94zm10 10l.94 2.06.94-2.06 2.06-.94-2.06-.94-.94-2.06-.94 2.06-2.06.94z\"/><path d=\"M17.41 7.96l-1.37-1.37c-.4-.4-.92-.59-1.43-.59-.52 0-1.04.2-1.43.59L10.3 9.45l-7.72 7.72c-.78.78-.78 2.05 0 2.83L4 21.41c.39.39.9.59 1.41.59.51 0 1.02-.2 1.41-.59l7.78-7.78 2.81-2.81c.8-.78.8-2.07 0-2.86zM5.41 20L4 18.59l7.72-7.72 1.47 1.35L5.41 20z\"/>\n",
              "  </svg>\n",
              "      </button>\n",
              "      \n",
              "  <style>\n",
              "    .colab-df-container {\n",
              "      display:flex;\n",
              "      flex-wrap:wrap;\n",
              "      gap: 12px;\n",
              "    }\n",
              "\n",
              "    .colab-df-convert {\n",
              "      background-color: #E8F0FE;\n",
              "      border: none;\n",
              "      border-radius: 50%;\n",
              "      cursor: pointer;\n",
              "      display: none;\n",
              "      fill: #1967D2;\n",
              "      height: 32px;\n",
              "      padding: 0 0 0 0;\n",
              "      width: 32px;\n",
              "    }\n",
              "\n",
              "    .colab-df-convert:hover {\n",
              "      background-color: #E2EBFA;\n",
              "      box-shadow: 0px 1px 2px rgba(60, 64, 67, 0.3), 0px 1px 3px 1px rgba(60, 64, 67, 0.15);\n",
              "      fill: #174EA6;\n",
              "    }\n",
              "\n",
              "    [theme=dark] .colab-df-convert {\n",
              "      background-color: #3B4455;\n",
              "      fill: #D2E3FC;\n",
              "    }\n",
              "\n",
              "    [theme=dark] .colab-df-convert:hover {\n",
              "      background-color: #434B5C;\n",
              "      box-shadow: 0px 1px 3px 1px rgba(0, 0, 0, 0.15);\n",
              "      filter: drop-shadow(0px 1px 2px rgba(0, 0, 0, 0.3));\n",
              "      fill: #FFFFFF;\n",
              "    }\n",
              "  </style>\n",
              "\n",
              "      <script>\n",
              "        const buttonEl =\n",
              "          document.querySelector('#df-fe54c643-358b-42fc-93c9-bbe4ce1be5c9 button.colab-df-convert');\n",
              "        buttonEl.style.display =\n",
              "          google.colab.kernel.accessAllowed ? 'block' : 'none';\n",
              "\n",
              "        async function convertToInteractive(key) {\n",
              "          const element = document.querySelector('#df-fe54c643-358b-42fc-93c9-bbe4ce1be5c9');\n",
              "          const dataTable =\n",
              "            await google.colab.kernel.invokeFunction('convertToInteractive',\n",
              "                                                     [key], {});\n",
              "          if (!dataTable) return;\n",
              "\n",
              "          const docLinkHtml = 'Like what you see? Visit the ' +\n",
              "            '<a target=\"_blank\" href=https://colab.research.google.com/notebooks/data_table.ipynb>data table notebook</a>'\n",
              "            + ' to learn more about interactive tables.';\n",
              "          element.innerHTML = '';\n",
              "          dataTable['output_type'] = 'display_data';\n",
              "          await google.colab.output.renderOutput(dataTable, element);\n",
              "          const docLink = document.createElement('div');\n",
              "          docLink.innerHTML = docLinkHtml;\n",
              "          element.appendChild(docLink);\n",
              "        }\n",
              "      </script>\n",
              "    </div>\n",
              "  </div>\n",
              "  "
            ]
          },
          "metadata": {}
        }
      ],
      "source": [
        "# Объеденим таблицу с топ-10 улицами с данными о районе и округе\n",
        "moscow_streets.rename(columns={'streetname':'street'}, inplace = True) # Для объеденения будем использовать поле street\n",
        "street_top_10 = street_top_10.merge(moscow_streets, on='street', how='left') \n",
        "display(street_top_10)"
      ]
    },
    {
      "cell_type": "code",
      "execution_count": null,
      "metadata": {
        "id": "VxCm1b4L-vg4",
        "outputId": "276cd55b-b0b1-48f7-9be0-99ef029506f1",
        "colab": {
          "base_uri": "https://localhost:8080/"
        }
      },
      "outputs": [
        {
          "output_type": "execute_result",
          "data": {
            "text/plain": [
              "street          0\n",
              "object_count    0\n",
              "areaid          0\n",
              "okrug           0\n",
              "area            0\n",
              "dtype: int64"
            ]
          },
          "metadata": {},
          "execution_count": 36
        }
      ],
      "source": [
        "# Проверим не повились ли после объеденения данных пропуски\n",
        "street_top_10.isna().sum()"
      ]
    },
    {
      "cell_type": "code",
      "execution_count": null,
      "metadata": {
        "id": "zBlXCsKY-vg4",
        "outputId": "9a9d75fe-6fec-4bc1-c225-447c0f7f857a",
        "colab": {
          "base_uri": "https://localhost:8080/"
        }
      },
      "outputs": [
        {
          "output_type": "display_data",
          "data": {
            "text/plain": [
              "                                                              object_count\n",
              "okrug area                            street                              \n",
              "СВАО  Алексеевский район              проспект Мира                    204\n",
              "      Останкинский район              проспект Мира                    204\n",
              "ЦАО   Мещанский район                 проспект Мира                    204\n",
              "СВАО  Ярославский Район               проспект Мира                    204\n",
              "      Район Свиблово                  проспект Мира                    204\n",
              "      Район Ростокино                 проспект Мира                    204\n",
              "      Район Марьина роща              проспект Мира                    204\n",
              "ЮЗАО  Академический район             Профсоюзная улица                182\n",
              "      Обручевский район               Профсоюзная улица                182\n",
              "      Район Ясенево                   Профсоюзная улица                182\n",
              "      Район Коньково                  Профсоюзная улица                182\n",
              "      Район Теплый Стан               Профсоюзная улица                182\n",
              "      Район Черемушки                 Профсоюзная улица                182\n",
              "САО   Хорошевский район               Ленинградский проспект           171\n",
              "      Район Сокол                     Ленинградский проспект           171\n",
              "      Район Беговой                   Ленинградский проспект           171\n",
              "      Район Аэропорт                  Ленинградский проспект           171\n",
              "ЦАО   Пресненский район               Пресненская набережная           167\n",
              "ЮАО   Район Чертаново Северное        Варшавское шоссе                 164\n",
              "ЮЗАО  Район Северное Бутово           Варшавское шоссе                 164\n",
              "      Район Южное Бутово              Варшавское шоссе                 164\n",
              "ЮАО   Район Чертаново Южное           Варшавское шоссе                 164\n",
              "      Район Чертаново Центральное     Варшавское шоссе                 164\n",
              "      Район Нагатино-Садовники        Варшавское шоссе                 164\n",
              "      Нагорный район                  Варшавское шоссе                 164\n",
              "      Донской район                   Варшавское шоссе                 164\n",
              "ЗАО   Район Проспект Вернадского      Ленинский проспект               147\n",
              "ЦАО   Район Якиманка                  Ленинский проспект               147\n",
              "ЗАО   Район Тропарево-Никулино        Ленинский проспект               147\n",
              "ЮЗАО  Район Теплый Стан               Ленинский проспект               147\n",
              "ЮАО   Донской район                   Ленинский проспект               147\n",
              "ЮЗАО  Ломоносовский район             Ленинский проспект               147\n",
              "      Район Гагаринский               Ленинский проспект               147\n",
              "      Обручевский район               Ленинский проспект               147\n",
              "ЗАО   Район Проспект Вернадского      проспект Вернадского             132\n",
              "      Район Раменки                   проспект Вернадского             132\n",
              "      Район Тропарево-Никулино        проспект Вернадского             132\n",
              "ЮЗАО  Район Гагаринский               проспект Вернадского             132\n",
              "      Ломоносовский район             проспект Вернадского             132\n",
              "ЗАО   Район Фили-Давыдково            Кутузовский проспект             114\n",
              "      Район Дорогомилово              Кутузовский проспект             114\n",
              "ЮАО   Район Нагатино-Садовники        Каширское шоссе                  112\n",
              "      Район Москворечье-Сабурово      Каширское шоссе                  112\n",
              "      Район Орехово-Борисово Южное    Каширское шоссе                  112\n",
              "      Район Орехово-Борисово Северное Каширское шоссе                  112\n",
              "      Район Чертаново Южное           Кировоградская улица             110\n",
              "      Район Чертаново Центральное     Кировоградская улица             110\n",
              "      Район Чертаново Северное        Кировоградская улица             110"
            ],
            "text/html": [
              "\n",
              "  <div id=\"df-fd40a8df-f03e-40eb-b877-115f01bc15e0\">\n",
              "    <div class=\"colab-df-container\">\n",
              "      <div>\n",
              "<style scoped>\n",
              "    .dataframe tbody tr th:only-of-type {\n",
              "        vertical-align: middle;\n",
              "    }\n",
              "\n",
              "    .dataframe tbody tr th {\n",
              "        vertical-align: top;\n",
              "    }\n",
              "\n",
              "    .dataframe thead th {\n",
              "        text-align: right;\n",
              "    }\n",
              "</style>\n",
              "<table border=\"1\" class=\"dataframe\">\n",
              "  <thead>\n",
              "    <tr style=\"text-align: right;\">\n",
              "      <th></th>\n",
              "      <th></th>\n",
              "      <th></th>\n",
              "      <th>object_count</th>\n",
              "    </tr>\n",
              "    <tr>\n",
              "      <th>okrug</th>\n",
              "      <th>area</th>\n",
              "      <th>street</th>\n",
              "      <th></th>\n",
              "    </tr>\n",
              "  </thead>\n",
              "  <tbody>\n",
              "    <tr>\n",
              "      <th rowspan=\"2\" valign=\"top\">СВАО</th>\n",
              "      <th>Алексеевский район</th>\n",
              "      <th>проспект Мира</th>\n",
              "      <td>204</td>\n",
              "    </tr>\n",
              "    <tr>\n",
              "      <th>Останкинский район</th>\n",
              "      <th>проспект Мира</th>\n",
              "      <td>204</td>\n",
              "    </tr>\n",
              "    <tr>\n",
              "      <th>ЦАО</th>\n",
              "      <th>Мещанский район</th>\n",
              "      <th>проспект Мира</th>\n",
              "      <td>204</td>\n",
              "    </tr>\n",
              "    <tr>\n",
              "      <th rowspan=\"4\" valign=\"top\">СВАО</th>\n",
              "      <th>Ярославский Район</th>\n",
              "      <th>проспект Мира</th>\n",
              "      <td>204</td>\n",
              "    </tr>\n",
              "    <tr>\n",
              "      <th>Район Свиблово</th>\n",
              "      <th>проспект Мира</th>\n",
              "      <td>204</td>\n",
              "    </tr>\n",
              "    <tr>\n",
              "      <th>Район Ростокино</th>\n",
              "      <th>проспект Мира</th>\n",
              "      <td>204</td>\n",
              "    </tr>\n",
              "    <tr>\n",
              "      <th>Район Марьина роща</th>\n",
              "      <th>проспект Мира</th>\n",
              "      <td>204</td>\n",
              "    </tr>\n",
              "    <tr>\n",
              "      <th rowspan=\"6\" valign=\"top\">ЮЗАО</th>\n",
              "      <th>Академический район</th>\n",
              "      <th>Профсоюзная улица</th>\n",
              "      <td>182</td>\n",
              "    </tr>\n",
              "    <tr>\n",
              "      <th>Обручевский район</th>\n",
              "      <th>Профсоюзная улица</th>\n",
              "      <td>182</td>\n",
              "    </tr>\n",
              "    <tr>\n",
              "      <th>Район Ясенево</th>\n",
              "      <th>Профсоюзная улица</th>\n",
              "      <td>182</td>\n",
              "    </tr>\n",
              "    <tr>\n",
              "      <th>Район Коньково</th>\n",
              "      <th>Профсоюзная улица</th>\n",
              "      <td>182</td>\n",
              "    </tr>\n",
              "    <tr>\n",
              "      <th>Район Теплый Стан</th>\n",
              "      <th>Профсоюзная улица</th>\n",
              "      <td>182</td>\n",
              "    </tr>\n",
              "    <tr>\n",
              "      <th>Район Черемушки</th>\n",
              "      <th>Профсоюзная улица</th>\n",
              "      <td>182</td>\n",
              "    </tr>\n",
              "    <tr>\n",
              "      <th rowspan=\"4\" valign=\"top\">САО</th>\n",
              "      <th>Хорошевский район</th>\n",
              "      <th>Ленинградский проспект</th>\n",
              "      <td>171</td>\n",
              "    </tr>\n",
              "    <tr>\n",
              "      <th>Район Сокол</th>\n",
              "      <th>Ленинградский проспект</th>\n",
              "      <td>171</td>\n",
              "    </tr>\n",
              "    <tr>\n",
              "      <th>Район Беговой</th>\n",
              "      <th>Ленинградский проспект</th>\n",
              "      <td>171</td>\n",
              "    </tr>\n",
              "    <tr>\n",
              "      <th>Район Аэропорт</th>\n",
              "      <th>Ленинградский проспект</th>\n",
              "      <td>171</td>\n",
              "    </tr>\n",
              "    <tr>\n",
              "      <th>ЦАО</th>\n",
              "      <th>Пресненский район</th>\n",
              "      <th>Пресненская набережная</th>\n",
              "      <td>167</td>\n",
              "    </tr>\n",
              "    <tr>\n",
              "      <th>ЮАО</th>\n",
              "      <th>Район Чертаново Северное</th>\n",
              "      <th>Варшавское шоссе</th>\n",
              "      <td>164</td>\n",
              "    </tr>\n",
              "    <tr>\n",
              "      <th rowspan=\"2\" valign=\"top\">ЮЗАО</th>\n",
              "      <th>Район Северное Бутово</th>\n",
              "      <th>Варшавское шоссе</th>\n",
              "      <td>164</td>\n",
              "    </tr>\n",
              "    <tr>\n",
              "      <th>Район Южное Бутово</th>\n",
              "      <th>Варшавское шоссе</th>\n",
              "      <td>164</td>\n",
              "    </tr>\n",
              "    <tr>\n",
              "      <th rowspan=\"5\" valign=\"top\">ЮАО</th>\n",
              "      <th>Район Чертаново Южное</th>\n",
              "      <th>Варшавское шоссе</th>\n",
              "      <td>164</td>\n",
              "    </tr>\n",
              "    <tr>\n",
              "      <th>Район Чертаново Центральное</th>\n",
              "      <th>Варшавское шоссе</th>\n",
              "      <td>164</td>\n",
              "    </tr>\n",
              "    <tr>\n",
              "      <th>Район Нагатино-Садовники</th>\n",
              "      <th>Варшавское шоссе</th>\n",
              "      <td>164</td>\n",
              "    </tr>\n",
              "    <tr>\n",
              "      <th>Нагорный район</th>\n",
              "      <th>Варшавское шоссе</th>\n",
              "      <td>164</td>\n",
              "    </tr>\n",
              "    <tr>\n",
              "      <th>Донской район</th>\n",
              "      <th>Варшавское шоссе</th>\n",
              "      <td>164</td>\n",
              "    </tr>\n",
              "    <tr>\n",
              "      <th>ЗАО</th>\n",
              "      <th>Район Проспект Вернадского</th>\n",
              "      <th>Ленинский проспект</th>\n",
              "      <td>147</td>\n",
              "    </tr>\n",
              "    <tr>\n",
              "      <th>ЦАО</th>\n",
              "      <th>Район Якиманка</th>\n",
              "      <th>Ленинский проспект</th>\n",
              "      <td>147</td>\n",
              "    </tr>\n",
              "    <tr>\n",
              "      <th>ЗАО</th>\n",
              "      <th>Район Тропарево-Никулино</th>\n",
              "      <th>Ленинский проспект</th>\n",
              "      <td>147</td>\n",
              "    </tr>\n",
              "    <tr>\n",
              "      <th>ЮЗАО</th>\n",
              "      <th>Район Теплый Стан</th>\n",
              "      <th>Ленинский проспект</th>\n",
              "      <td>147</td>\n",
              "    </tr>\n",
              "    <tr>\n",
              "      <th>ЮАО</th>\n",
              "      <th>Донской район</th>\n",
              "      <th>Ленинский проспект</th>\n",
              "      <td>147</td>\n",
              "    </tr>\n",
              "    <tr>\n",
              "      <th rowspan=\"3\" valign=\"top\">ЮЗАО</th>\n",
              "      <th>Ломоносовский район</th>\n",
              "      <th>Ленинский проспект</th>\n",
              "      <td>147</td>\n",
              "    </tr>\n",
              "    <tr>\n",
              "      <th>Район Гагаринский</th>\n",
              "      <th>Ленинский проспект</th>\n",
              "      <td>147</td>\n",
              "    </tr>\n",
              "    <tr>\n",
              "      <th>Обручевский район</th>\n",
              "      <th>Ленинский проспект</th>\n",
              "      <td>147</td>\n",
              "    </tr>\n",
              "    <tr>\n",
              "      <th rowspan=\"3\" valign=\"top\">ЗАО</th>\n",
              "      <th>Район Проспект Вернадского</th>\n",
              "      <th>проспект Вернадского</th>\n",
              "      <td>132</td>\n",
              "    </tr>\n",
              "    <tr>\n",
              "      <th>Район Раменки</th>\n",
              "      <th>проспект Вернадского</th>\n",
              "      <td>132</td>\n",
              "    </tr>\n",
              "    <tr>\n",
              "      <th>Район Тропарево-Никулино</th>\n",
              "      <th>проспект Вернадского</th>\n",
              "      <td>132</td>\n",
              "    </tr>\n",
              "    <tr>\n",
              "      <th rowspan=\"2\" valign=\"top\">ЮЗАО</th>\n",
              "      <th>Район Гагаринский</th>\n",
              "      <th>проспект Вернадского</th>\n",
              "      <td>132</td>\n",
              "    </tr>\n",
              "    <tr>\n",
              "      <th>Ломоносовский район</th>\n",
              "      <th>проспект Вернадского</th>\n",
              "      <td>132</td>\n",
              "    </tr>\n",
              "    <tr>\n",
              "      <th rowspan=\"2\" valign=\"top\">ЗАО</th>\n",
              "      <th>Район Фили-Давыдково</th>\n",
              "      <th>Кутузовский проспект</th>\n",
              "      <td>114</td>\n",
              "    </tr>\n",
              "    <tr>\n",
              "      <th>Район Дорогомилово</th>\n",
              "      <th>Кутузовский проспект</th>\n",
              "      <td>114</td>\n",
              "    </tr>\n",
              "    <tr>\n",
              "      <th rowspan=\"7\" valign=\"top\">ЮАО</th>\n",
              "      <th>Район Нагатино-Садовники</th>\n",
              "      <th>Каширское шоссе</th>\n",
              "      <td>112</td>\n",
              "    </tr>\n",
              "    <tr>\n",
              "      <th>Район Москворечье-Сабурово</th>\n",
              "      <th>Каширское шоссе</th>\n",
              "      <td>112</td>\n",
              "    </tr>\n",
              "    <tr>\n",
              "      <th>Район Орехово-Борисово Южное</th>\n",
              "      <th>Каширское шоссе</th>\n",
              "      <td>112</td>\n",
              "    </tr>\n",
              "    <tr>\n",
              "      <th>Район Орехово-Борисово Северное</th>\n",
              "      <th>Каширское шоссе</th>\n",
              "      <td>112</td>\n",
              "    </tr>\n",
              "    <tr>\n",
              "      <th>Район Чертаново Южное</th>\n",
              "      <th>Кировоградская улица</th>\n",
              "      <td>110</td>\n",
              "    </tr>\n",
              "    <tr>\n",
              "      <th>Район Чертаново Центральное</th>\n",
              "      <th>Кировоградская улица</th>\n",
              "      <td>110</td>\n",
              "    </tr>\n",
              "    <tr>\n",
              "      <th>Район Чертаново Северное</th>\n",
              "      <th>Кировоградская улица</th>\n",
              "      <td>110</td>\n",
              "    </tr>\n",
              "  </tbody>\n",
              "</table>\n",
              "</div>\n",
              "      <button class=\"colab-df-convert\" onclick=\"convertToInteractive('df-fd40a8df-f03e-40eb-b877-115f01bc15e0')\"\n",
              "              title=\"Convert this dataframe to an interactive table.\"\n",
              "              style=\"display:none;\">\n",
              "        \n",
              "  <svg xmlns=\"http://www.w3.org/2000/svg\" height=\"24px\"viewBox=\"0 0 24 24\"\n",
              "       width=\"24px\">\n",
              "    <path d=\"M0 0h24v24H0V0z\" fill=\"none\"/>\n",
              "    <path d=\"M18.56 5.44l.94 2.06.94-2.06 2.06-.94-2.06-.94-.94-2.06-.94 2.06-2.06.94zm-11 1L8.5 8.5l.94-2.06 2.06-.94-2.06-.94L8.5 2.5l-.94 2.06-2.06.94zm10 10l.94 2.06.94-2.06 2.06-.94-2.06-.94-.94-2.06-.94 2.06-2.06.94z\"/><path d=\"M17.41 7.96l-1.37-1.37c-.4-.4-.92-.59-1.43-.59-.52 0-1.04.2-1.43.59L10.3 9.45l-7.72 7.72c-.78.78-.78 2.05 0 2.83L4 21.41c.39.39.9.59 1.41.59.51 0 1.02-.2 1.41-.59l7.78-7.78 2.81-2.81c.8-.78.8-2.07 0-2.86zM5.41 20L4 18.59l7.72-7.72 1.47 1.35L5.41 20z\"/>\n",
              "  </svg>\n",
              "      </button>\n",
              "      \n",
              "  <style>\n",
              "    .colab-df-container {\n",
              "      display:flex;\n",
              "      flex-wrap:wrap;\n",
              "      gap: 12px;\n",
              "    }\n",
              "\n",
              "    .colab-df-convert {\n",
              "      background-color: #E8F0FE;\n",
              "      border: none;\n",
              "      border-radius: 50%;\n",
              "      cursor: pointer;\n",
              "      display: none;\n",
              "      fill: #1967D2;\n",
              "      height: 32px;\n",
              "      padding: 0 0 0 0;\n",
              "      width: 32px;\n",
              "    }\n",
              "\n",
              "    .colab-df-convert:hover {\n",
              "      background-color: #E2EBFA;\n",
              "      box-shadow: 0px 1px 2px rgba(60, 64, 67, 0.3), 0px 1px 3px 1px rgba(60, 64, 67, 0.15);\n",
              "      fill: #174EA6;\n",
              "    }\n",
              "\n",
              "    [theme=dark] .colab-df-convert {\n",
              "      background-color: #3B4455;\n",
              "      fill: #D2E3FC;\n",
              "    }\n",
              "\n",
              "    [theme=dark] .colab-df-convert:hover {\n",
              "      background-color: #434B5C;\n",
              "      box-shadow: 0px 1px 3px 1px rgba(0, 0, 0, 0.15);\n",
              "      filter: drop-shadow(0px 1px 2px rgba(0, 0, 0, 0.3));\n",
              "      fill: #FFFFFF;\n",
              "    }\n",
              "  </style>\n",
              "\n",
              "      <script>\n",
              "        const buttonEl =\n",
              "          document.querySelector('#df-fd40a8df-f03e-40eb-b877-115f01bc15e0 button.colab-df-convert');\n",
              "        buttonEl.style.display =\n",
              "          google.colab.kernel.accessAllowed ? 'block' : 'none';\n",
              "\n",
              "        async function convertToInteractive(key) {\n",
              "          const element = document.querySelector('#df-fd40a8df-f03e-40eb-b877-115f01bc15e0');\n",
              "          const dataTable =\n",
              "            await google.colab.kernel.invokeFunction('convertToInteractive',\n",
              "                                                     [key], {});\n",
              "          if (!dataTable) return;\n",
              "\n",
              "          const docLinkHtml = 'Like what you see? Visit the ' +\n",
              "            '<a target=\"_blank\" href=https://colab.research.google.com/notebooks/data_table.ipynb>data table notebook</a>'\n",
              "            + ' to learn more about interactive tables.';\n",
              "          element.innerHTML = '';\n",
              "          dataTable['output_type'] = 'display_data';\n",
              "          await google.colab.output.renderOutput(dataTable, element);\n",
              "          const docLink = document.createElement('div');\n",
              "          docLink.innerHTML = docLinkHtml;\n",
              "          element.appendChild(docLink);\n",
              "        }\n",
              "      </script>\n",
              "    </div>\n",
              "  </div>\n",
              "  "
            ]
          },
          "metadata": {}
        }
      ],
      "source": [
        "# Одна и таже улица попадает в разные районы и даже округа - посмотрим в какие\n",
        "street_top_10_pivot = street_top_10.pivot_table(index=['okrug', 'area', 'street'], \n",
        "                  values='object_count', \n",
        "                  aggfunc='max').sort_values(by='object_count', ascending=False)#.reset_index()\n",
        "display(street_top_10_pivot)"
      ]
    },
    {
      "cell_type": "markdown",
      "metadata": {
        "id": "AJk89AY4-vg4"
      },
      "source": [
        "**Вывод** Многие улицы проходят но нескольким районам и даже округам Москвы - улицы с большой протяжённостью, поэтому на них много заведений общественного питания"
      ]
    },
    {
      "cell_type": "code",
      "execution_count": null,
      "metadata": {
        "id": "h4lvEMQ9-vg4",
        "outputId": "53a31a02-b29e-472a-d7f6-aef5739b54f9",
        "colab": {
          "base_uri": "https://localhost:8080/"
        }
      },
      "outputs": [
        {
          "output_type": "display_data",
          "data": {
            "text/plain": [
              "                   street  area_count\n",
              "0        Варшавское шоссе           8\n",
              "5      Ленинский проспект           8\n",
              "9           проспект Мира           7\n",
              "7       Профсоюзная улица           6\n",
              "8    проспект Вернадского           5\n",
              "1         Каширское шоссе           4\n",
              "4  Ленинградский проспект           4\n",
              "2    Кировоградская улица           3\n",
              "3    Кутузовский проспект           2\n",
              "6  Пресненская набережная           1"
            ],
            "text/html": [
              "\n",
              "  <div id=\"df-599ee132-60bd-4539-966c-e00b19142849\">\n",
              "    <div class=\"colab-df-container\">\n",
              "      <div>\n",
              "<style scoped>\n",
              "    .dataframe tbody tr th:only-of-type {\n",
              "        vertical-align: middle;\n",
              "    }\n",
              "\n",
              "    .dataframe tbody tr th {\n",
              "        vertical-align: top;\n",
              "    }\n",
              "\n",
              "    .dataframe thead th {\n",
              "        text-align: right;\n",
              "    }\n",
              "</style>\n",
              "<table border=\"1\" class=\"dataframe\">\n",
              "  <thead>\n",
              "    <tr style=\"text-align: right;\">\n",
              "      <th></th>\n",
              "      <th>street</th>\n",
              "      <th>area_count</th>\n",
              "    </tr>\n",
              "  </thead>\n",
              "  <tbody>\n",
              "    <tr>\n",
              "      <th>0</th>\n",
              "      <td>Варшавское шоссе</td>\n",
              "      <td>8</td>\n",
              "    </tr>\n",
              "    <tr>\n",
              "      <th>5</th>\n",
              "      <td>Ленинский проспект</td>\n",
              "      <td>8</td>\n",
              "    </tr>\n",
              "    <tr>\n",
              "      <th>9</th>\n",
              "      <td>проспект Мира</td>\n",
              "      <td>7</td>\n",
              "    </tr>\n",
              "    <tr>\n",
              "      <th>7</th>\n",
              "      <td>Профсоюзная улица</td>\n",
              "      <td>6</td>\n",
              "    </tr>\n",
              "    <tr>\n",
              "      <th>8</th>\n",
              "      <td>проспект Вернадского</td>\n",
              "      <td>5</td>\n",
              "    </tr>\n",
              "    <tr>\n",
              "      <th>1</th>\n",
              "      <td>Каширское шоссе</td>\n",
              "      <td>4</td>\n",
              "    </tr>\n",
              "    <tr>\n",
              "      <th>4</th>\n",
              "      <td>Ленинградский проспект</td>\n",
              "      <td>4</td>\n",
              "    </tr>\n",
              "    <tr>\n",
              "      <th>2</th>\n",
              "      <td>Кировоградская улица</td>\n",
              "      <td>3</td>\n",
              "    </tr>\n",
              "    <tr>\n",
              "      <th>3</th>\n",
              "      <td>Кутузовский проспект</td>\n",
              "      <td>2</td>\n",
              "    </tr>\n",
              "    <tr>\n",
              "      <th>6</th>\n",
              "      <td>Пресненская набережная</td>\n",
              "      <td>1</td>\n",
              "    </tr>\n",
              "  </tbody>\n",
              "</table>\n",
              "</div>\n",
              "      <button class=\"colab-df-convert\" onclick=\"convertToInteractive('df-599ee132-60bd-4539-966c-e00b19142849')\"\n",
              "              title=\"Convert this dataframe to an interactive table.\"\n",
              "              style=\"display:none;\">\n",
              "        \n",
              "  <svg xmlns=\"http://www.w3.org/2000/svg\" height=\"24px\"viewBox=\"0 0 24 24\"\n",
              "       width=\"24px\">\n",
              "    <path d=\"M0 0h24v24H0V0z\" fill=\"none\"/>\n",
              "    <path d=\"M18.56 5.44l.94 2.06.94-2.06 2.06-.94-2.06-.94-.94-2.06-.94 2.06-2.06.94zm-11 1L8.5 8.5l.94-2.06 2.06-.94-2.06-.94L8.5 2.5l-.94 2.06-2.06.94zm10 10l.94 2.06.94-2.06 2.06-.94-2.06-.94-.94-2.06-.94 2.06-2.06.94z\"/><path d=\"M17.41 7.96l-1.37-1.37c-.4-.4-.92-.59-1.43-.59-.52 0-1.04.2-1.43.59L10.3 9.45l-7.72 7.72c-.78.78-.78 2.05 0 2.83L4 21.41c.39.39.9.59 1.41.59.51 0 1.02-.2 1.41-.59l7.78-7.78 2.81-2.81c.8-.78.8-2.07 0-2.86zM5.41 20L4 18.59l7.72-7.72 1.47 1.35L5.41 20z\"/>\n",
              "  </svg>\n",
              "      </button>\n",
              "      \n",
              "  <style>\n",
              "    .colab-df-container {\n",
              "      display:flex;\n",
              "      flex-wrap:wrap;\n",
              "      gap: 12px;\n",
              "    }\n",
              "\n",
              "    .colab-df-convert {\n",
              "      background-color: #E8F0FE;\n",
              "      border: none;\n",
              "      border-radius: 50%;\n",
              "      cursor: pointer;\n",
              "      display: none;\n",
              "      fill: #1967D2;\n",
              "      height: 32px;\n",
              "      padding: 0 0 0 0;\n",
              "      width: 32px;\n",
              "    }\n",
              "\n",
              "    .colab-df-convert:hover {\n",
              "      background-color: #E2EBFA;\n",
              "      box-shadow: 0px 1px 2px rgba(60, 64, 67, 0.3), 0px 1px 3px 1px rgba(60, 64, 67, 0.15);\n",
              "      fill: #174EA6;\n",
              "    }\n",
              "\n",
              "    [theme=dark] .colab-df-convert {\n",
              "      background-color: #3B4455;\n",
              "      fill: #D2E3FC;\n",
              "    }\n",
              "\n",
              "    [theme=dark] .colab-df-convert:hover {\n",
              "      background-color: #434B5C;\n",
              "      box-shadow: 0px 1px 3px 1px rgba(0, 0, 0, 0.15);\n",
              "      filter: drop-shadow(0px 1px 2px rgba(0, 0, 0, 0.3));\n",
              "      fill: #FFFFFF;\n",
              "    }\n",
              "  </style>\n",
              "\n",
              "      <script>\n",
              "        const buttonEl =\n",
              "          document.querySelector('#df-599ee132-60bd-4539-966c-e00b19142849 button.colab-df-convert');\n",
              "        buttonEl.style.display =\n",
              "          google.colab.kernel.accessAllowed ? 'block' : 'none';\n",
              "\n",
              "        async function convertToInteractive(key) {\n",
              "          const element = document.querySelector('#df-599ee132-60bd-4539-966c-e00b19142849');\n",
              "          const dataTable =\n",
              "            await google.colab.kernel.invokeFunction('convertToInteractive',\n",
              "                                                     [key], {});\n",
              "          if (!dataTable) return;\n",
              "\n",
              "          const docLinkHtml = 'Like what you see? Visit the ' +\n",
              "            '<a target=\"_blank\" href=https://colab.research.google.com/notebooks/data_table.ipynb>data table notebook</a>'\n",
              "            + ' to learn more about interactive tables.';\n",
              "          element.innerHTML = '';\n",
              "          dataTable['output_type'] = 'display_data';\n",
              "          await google.colab.output.renderOutput(dataTable, element);\n",
              "          const docLink = document.createElement('div');\n",
              "          docLink.innerHTML = docLinkHtml;\n",
              "          element.appendChild(docLink);\n",
              "        }\n",
              "      </script>\n",
              "    </div>\n",
              "  </div>\n",
              "  "
            ]
          },
          "metadata": {}
        }
      ],
      "source": [
        "# Посмотрим на самые \"протяжённые\" улицы - улицы которые проходят по наибольшему числу районов\n",
        "street_top_10_pivot_2=(street_top_10_pivot.reset_index()\n",
        "            .groupby('street')['area'].count().reset_index()\n",
        "            .sort_values(by='area', ascending=False)\n",
        "            .rename(columns=({'area':'area_count'}))\n",
        "      \n",
        "     )\n",
        "     \n",
        "display(street_top_10_pivot_2)"
      ]
    },
    {
      "cell_type": "code",
      "execution_count": null,
      "metadata": {
        "id": "TtVTc54S-vg5",
        "outputId": "6c37db8f-f476-4035-f0e6-c55ed3fae854",
        "colab": {
          "base_uri": "https://localhost:8080/"
        }
      },
      "outputs": [
        {
          "output_type": "display_data",
          "data": {
            "text/html": [
              "<html>\n",
              "<head><meta charset=\"utf-8\" /></head>\n",
              "<body>\n",
              "    <div>            <script src=\"https://cdnjs.cloudflare.com/ajax/libs/mathjax/2.7.5/MathJax.js?config=TeX-AMS-MML_SVG\"></script><script type=\"text/javascript\">if (window.MathJax) {MathJax.Hub.Config({SVG: {font: \"STIX-Web\"}});}</script>                <script type=\"text/javascript\">window.PlotlyConfig = {MathJaxConfig: 'local'};</script>\n",
              "        <script src=\"https://cdn.plot.ly/plotly-2.8.3.min.js\"></script>                <div id=\"6dfb42a8-d58b-4db6-9652-370acb172742\" class=\"plotly-graph-div\" style=\"height:525px; width:100%;\"></div>            <script type=\"text/javascript\">                                    window.PLOTLYENV=window.PLOTLYENV || {};                                    if (document.getElementById(\"6dfb42a8-d58b-4db6-9652-370acb172742\")) {                    Plotly.newPlot(                        \"6dfb42a8-d58b-4db6-9652-370acb172742\",                        [{\"alignmentgroup\":\"True\",\"hovertemplate\":\"\\u0423\\u043b\\u0438\\u0446\\u0430=%{x}<br>\\u0427\\u0438\\u0441\\u043b\\u043e \\u0440\\u0430\\u0439\\u043e\\u043d\\u043e\\u0432, \\u0435\\u0434.=%{text}<extra></extra>\",\"legendgroup\":\"\",\"marker\":{\"color\":\"#636efa\",\"pattern\":{\"shape\":\"\"}},\"name\":\"\",\"offsetgroup\":\"\",\"orientation\":\"v\",\"showlegend\":false,\"text\":[8.0,8.0,7.0,6.0,5.0,4.0,4.0,3.0,2.0,1.0],\"textposition\":\"outside\",\"x\":[\"\\u0412\\u0430\\u0440\\u0448\\u0430\\u0432\\u0441\\u043a\\u043e\\u0435 \\u0448\\u043e\\u0441\\u0441\\u0435\",\"\\u041b\\u0435\\u043d\\u0438\\u043d\\u0441\\u043a\\u0438\\u0439 \\u043f\\u0440\\u043e\\u0441\\u043f\\u0435\\u043a\\u0442\",\"\\u043f\\u0440\\u043e\\u0441\\u043f\\u0435\\u043a\\u0442 \\u041c\\u0438\\u0440\\u0430\",\"\\u041f\\u0440\\u043e\\u0444\\u0441\\u043e\\u044e\\u0437\\u043d\\u0430\\u044f \\u0443\\u043b\\u0438\\u0446\\u0430\",\"\\u043f\\u0440\\u043e\\u0441\\u043f\\u0435\\u043a\\u0442 \\u0412\\u0435\\u0440\\u043d\\u0430\\u0434\\u0441\\u043a\\u043e\\u0433\\u043e\",\"\\u041a\\u0430\\u0448\\u0438\\u0440\\u0441\\u043a\\u043e\\u0435 \\u0448\\u043e\\u0441\\u0441\\u0435\",\"\\u041b\\u0435\\u043d\\u0438\\u043d\\u0433\\u0440\\u0430\\u0434\\u0441\\u043a\\u0438\\u0439 \\u043f\\u0440\\u043e\\u0441\\u043f\\u0435\\u043a\\u0442\",\"\\u041a\\u0438\\u0440\\u043e\\u0432\\u043e\\u0433\\u0440\\u0430\\u0434\\u0441\\u043a\\u0430\\u044f \\u0443\\u043b\\u0438\\u0446\\u0430\",\"\\u041a\\u0443\\u0442\\u0443\\u0437\\u043e\\u0432\\u0441\\u043a\\u0438\\u0439 \\u043f\\u0440\\u043e\\u0441\\u043f\\u0435\\u043a\\u0442\",\"\\u041f\\u0440\\u0435\\u0441\\u043d\\u0435\\u043d\\u0441\\u043a\\u0430\\u044f \\u043d\\u0430\\u0431\\u0435\\u0440\\u0435\\u0436\\u043d\\u0430\\u044f\"],\"xaxis\":\"x\",\"y\":[8,8,7,6,5,4,4,3,2,1],\"yaxis\":\"y\",\"type\":\"bar\"}],                        {\"template\":{\"data\":{\"bar\":[{\"error_x\":{\"color\":\"#2a3f5f\"},\"error_y\":{\"color\":\"#2a3f5f\"},\"marker\":{\"line\":{\"color\":\"#E5ECF6\",\"width\":0.5},\"pattern\":{\"fillmode\":\"overlay\",\"size\":10,\"solidity\":0.2}},\"type\":\"bar\"}],\"barpolar\":[{\"marker\":{\"line\":{\"color\":\"#E5ECF6\",\"width\":0.5},\"pattern\":{\"fillmode\":\"overlay\",\"size\":10,\"solidity\":0.2}},\"type\":\"barpolar\"}],\"carpet\":[{\"aaxis\":{\"endlinecolor\":\"#2a3f5f\",\"gridcolor\":\"white\",\"linecolor\":\"white\",\"minorgridcolor\":\"white\",\"startlinecolor\":\"#2a3f5f\"},\"baxis\":{\"endlinecolor\":\"#2a3f5f\",\"gridcolor\":\"white\",\"linecolor\":\"white\",\"minorgridcolor\":\"white\",\"startlinecolor\":\"#2a3f5f\"},\"type\":\"carpet\"}],\"choropleth\":[{\"colorbar\":{\"outlinewidth\":0,\"ticks\":\"\"},\"type\":\"choropleth\"}],\"contour\":[{\"colorbar\":{\"outlinewidth\":0,\"ticks\":\"\"},\"colorscale\":[[0.0,\"#0d0887\"],[0.1111111111111111,\"#46039f\"],[0.2222222222222222,\"#7201a8\"],[0.3333333333333333,\"#9c179e\"],[0.4444444444444444,\"#bd3786\"],[0.5555555555555556,\"#d8576b\"],[0.6666666666666666,\"#ed7953\"],[0.7777777777777778,\"#fb9f3a\"],[0.8888888888888888,\"#fdca26\"],[1.0,\"#f0f921\"]],\"type\":\"contour\"}],\"contourcarpet\":[{\"colorbar\":{\"outlinewidth\":0,\"ticks\":\"\"},\"type\":\"contourcarpet\"}],\"heatmap\":[{\"colorbar\":{\"outlinewidth\":0,\"ticks\":\"\"},\"colorscale\":[[0.0,\"#0d0887\"],[0.1111111111111111,\"#46039f\"],[0.2222222222222222,\"#7201a8\"],[0.3333333333333333,\"#9c179e\"],[0.4444444444444444,\"#bd3786\"],[0.5555555555555556,\"#d8576b\"],[0.6666666666666666,\"#ed7953\"],[0.7777777777777778,\"#fb9f3a\"],[0.8888888888888888,\"#fdca26\"],[1.0,\"#f0f921\"]],\"type\":\"heatmap\"}],\"heatmapgl\":[{\"colorbar\":{\"outlinewidth\":0,\"ticks\":\"\"},\"colorscale\":[[0.0,\"#0d0887\"],[0.1111111111111111,\"#46039f\"],[0.2222222222222222,\"#7201a8\"],[0.3333333333333333,\"#9c179e\"],[0.4444444444444444,\"#bd3786\"],[0.5555555555555556,\"#d8576b\"],[0.6666666666666666,\"#ed7953\"],[0.7777777777777778,\"#fb9f3a\"],[0.8888888888888888,\"#fdca26\"],[1.0,\"#f0f921\"]],\"type\":\"heatmapgl\"}],\"histogram\":[{\"marker\":{\"pattern\":{\"fillmode\":\"overlay\",\"size\":10,\"solidity\":0.2}},\"type\":\"histogram\"}],\"histogram2d\":[{\"colorbar\":{\"outlinewidth\":0,\"ticks\":\"\"},\"colorscale\":[[0.0,\"#0d0887\"],[0.1111111111111111,\"#46039f\"],[0.2222222222222222,\"#7201a8\"],[0.3333333333333333,\"#9c179e\"],[0.4444444444444444,\"#bd3786\"],[0.5555555555555556,\"#d8576b\"],[0.6666666666666666,\"#ed7953\"],[0.7777777777777778,\"#fb9f3a\"],[0.8888888888888888,\"#fdca26\"],[1.0,\"#f0f921\"]],\"type\":\"histogram2d\"}],\"histogram2dcontour\":[{\"colorbar\":{\"outlinewidth\":0,\"ticks\":\"\"},\"colorscale\":[[0.0,\"#0d0887\"],[0.1111111111111111,\"#46039f\"],[0.2222222222222222,\"#7201a8\"],[0.3333333333333333,\"#9c179e\"],[0.4444444444444444,\"#bd3786\"],[0.5555555555555556,\"#d8576b\"],[0.6666666666666666,\"#ed7953\"],[0.7777777777777778,\"#fb9f3a\"],[0.8888888888888888,\"#fdca26\"],[1.0,\"#f0f921\"]],\"type\":\"histogram2dcontour\"}],\"mesh3d\":[{\"colorbar\":{\"outlinewidth\":0,\"ticks\":\"\"},\"type\":\"mesh3d\"}],\"parcoords\":[{\"line\":{\"colorbar\":{\"outlinewidth\":0,\"ticks\":\"\"}},\"type\":\"parcoords\"}],\"pie\":[{\"automargin\":true,\"type\":\"pie\"}],\"scatter\":[{\"marker\":{\"colorbar\":{\"outlinewidth\":0,\"ticks\":\"\"}},\"type\":\"scatter\"}],\"scatter3d\":[{\"line\":{\"colorbar\":{\"outlinewidth\":0,\"ticks\":\"\"}},\"marker\":{\"colorbar\":{\"outlinewidth\":0,\"ticks\":\"\"}},\"type\":\"scatter3d\"}],\"scattercarpet\":[{\"marker\":{\"colorbar\":{\"outlinewidth\":0,\"ticks\":\"\"}},\"type\":\"scattercarpet\"}],\"scattergeo\":[{\"marker\":{\"colorbar\":{\"outlinewidth\":0,\"ticks\":\"\"}},\"type\":\"scattergeo\"}],\"scattergl\":[{\"marker\":{\"colorbar\":{\"outlinewidth\":0,\"ticks\":\"\"}},\"type\":\"scattergl\"}],\"scattermapbox\":[{\"marker\":{\"colorbar\":{\"outlinewidth\":0,\"ticks\":\"\"}},\"type\":\"scattermapbox\"}],\"scatterpolar\":[{\"marker\":{\"colorbar\":{\"outlinewidth\":0,\"ticks\":\"\"}},\"type\":\"scatterpolar\"}],\"scatterpolargl\":[{\"marker\":{\"colorbar\":{\"outlinewidth\":0,\"ticks\":\"\"}},\"type\":\"scatterpolargl\"}],\"scatterternary\":[{\"marker\":{\"colorbar\":{\"outlinewidth\":0,\"ticks\":\"\"}},\"type\":\"scatterternary\"}],\"surface\":[{\"colorbar\":{\"outlinewidth\":0,\"ticks\":\"\"},\"colorscale\":[[0.0,\"#0d0887\"],[0.1111111111111111,\"#46039f\"],[0.2222222222222222,\"#7201a8\"],[0.3333333333333333,\"#9c179e\"],[0.4444444444444444,\"#bd3786\"],[0.5555555555555556,\"#d8576b\"],[0.6666666666666666,\"#ed7953\"],[0.7777777777777778,\"#fb9f3a\"],[0.8888888888888888,\"#fdca26\"],[1.0,\"#f0f921\"]],\"type\":\"surface\"}],\"table\":[{\"cells\":{\"fill\":{\"color\":\"#EBF0F8\"},\"line\":{\"color\":\"white\"}},\"header\":{\"fill\":{\"color\":\"#C8D4E3\"},\"line\":{\"color\":\"white\"}},\"type\":\"table\"}]},\"layout\":{\"annotationdefaults\":{\"arrowcolor\":\"#2a3f5f\",\"arrowhead\":0,\"arrowwidth\":1},\"autotypenumbers\":\"strict\",\"coloraxis\":{\"colorbar\":{\"outlinewidth\":0,\"ticks\":\"\"}},\"colorscale\":{\"diverging\":[[0,\"#8e0152\"],[0.1,\"#c51b7d\"],[0.2,\"#de77ae\"],[0.3,\"#f1b6da\"],[0.4,\"#fde0ef\"],[0.5,\"#f7f7f7\"],[0.6,\"#e6f5d0\"],[0.7,\"#b8e186\"],[0.8,\"#7fbc41\"],[0.9,\"#4d9221\"],[1,\"#276419\"]],\"sequential\":[[0.0,\"#0d0887\"],[0.1111111111111111,\"#46039f\"],[0.2222222222222222,\"#7201a8\"],[0.3333333333333333,\"#9c179e\"],[0.4444444444444444,\"#bd3786\"],[0.5555555555555556,\"#d8576b\"],[0.6666666666666666,\"#ed7953\"],[0.7777777777777778,\"#fb9f3a\"],[0.8888888888888888,\"#fdca26\"],[1.0,\"#f0f921\"]],\"sequentialminus\":[[0.0,\"#0d0887\"],[0.1111111111111111,\"#46039f\"],[0.2222222222222222,\"#7201a8\"],[0.3333333333333333,\"#9c179e\"],[0.4444444444444444,\"#bd3786\"],[0.5555555555555556,\"#d8576b\"],[0.6666666666666666,\"#ed7953\"],[0.7777777777777778,\"#fb9f3a\"],[0.8888888888888888,\"#fdca26\"],[1.0,\"#f0f921\"]]},\"colorway\":[\"#636efa\",\"#EF553B\",\"#00cc96\",\"#ab63fa\",\"#FFA15A\",\"#19d3f3\",\"#FF6692\",\"#B6E880\",\"#FF97FF\",\"#FECB52\"],\"font\":{\"color\":\"#2a3f5f\"},\"geo\":{\"bgcolor\":\"white\",\"lakecolor\":\"white\",\"landcolor\":\"#E5ECF6\",\"showlakes\":true,\"showland\":true,\"subunitcolor\":\"white\"},\"hoverlabel\":{\"align\":\"left\"},\"hovermode\":\"closest\",\"mapbox\":{\"style\":\"light\"},\"paper_bgcolor\":\"white\",\"plot_bgcolor\":\"#E5ECF6\",\"polar\":{\"angularaxis\":{\"gridcolor\":\"white\",\"linecolor\":\"white\",\"ticks\":\"\"},\"bgcolor\":\"#E5ECF6\",\"radialaxis\":{\"gridcolor\":\"white\",\"linecolor\":\"white\",\"ticks\":\"\"}},\"scene\":{\"xaxis\":{\"backgroundcolor\":\"#E5ECF6\",\"gridcolor\":\"white\",\"gridwidth\":2,\"linecolor\":\"white\",\"showbackground\":true,\"ticks\":\"\",\"zerolinecolor\":\"white\"},\"yaxis\":{\"backgroundcolor\":\"#E5ECF6\",\"gridcolor\":\"white\",\"gridwidth\":2,\"linecolor\":\"white\",\"showbackground\":true,\"ticks\":\"\",\"zerolinecolor\":\"white\"},\"zaxis\":{\"backgroundcolor\":\"#E5ECF6\",\"gridcolor\":\"white\",\"gridwidth\":2,\"linecolor\":\"white\",\"showbackground\":true,\"ticks\":\"\",\"zerolinecolor\":\"white\"}},\"shapedefaults\":{\"line\":{\"color\":\"#2a3f5f\"}},\"ternary\":{\"aaxis\":{\"gridcolor\":\"white\",\"linecolor\":\"white\",\"ticks\":\"\"},\"baxis\":{\"gridcolor\":\"white\",\"linecolor\":\"white\",\"ticks\":\"\"},\"bgcolor\":\"#E5ECF6\",\"caxis\":{\"gridcolor\":\"white\",\"linecolor\":\"white\",\"ticks\":\"\"}},\"title\":{\"x\":0.05},\"xaxis\":{\"automargin\":true,\"gridcolor\":\"white\",\"linecolor\":\"white\",\"ticks\":\"\",\"title\":{\"standoff\":15},\"zerolinecolor\":\"white\",\"zerolinewidth\":2},\"yaxis\":{\"automargin\":true,\"gridcolor\":\"white\",\"linecolor\":\"white\",\"ticks\":\"\",\"title\":{\"standoff\":15},\"zerolinecolor\":\"white\",\"zerolinewidth\":2}}},\"xaxis\":{\"anchor\":\"y\",\"domain\":[0.0,1.0],\"title\":{\"text\":\"\\u0423\\u043b\\u0438\\u0446\\u0430\"},\"tickangle\":45},\"yaxis\":{\"anchor\":\"x\",\"domain\":[0.0,1.0],\"title\":{\"text\":\"\\u0427\\u0438\\u0441\\u043b\\u043e \\u0440\\u0430\\u0439\\u043e\\u043d\\u043e\\u0432, \\u0435\\u0434.\"},\"range\":[0,9]},\"legend\":{\"tracegroupgap\":0},\"title\":{\"text\":\"\\u0427\\u0438\\u0441\\u043b\\u043e \\u0440\\u0430\\u0439\\u043e\\u043d\\u043e\\u0432, \\u0447\\u0435\\u0440\\u0435\\u0437 \\u043a\\u043e\\u0442\\u043e\\u0440\\u044b\\u0435 \\u043f\\u0440\\u043e\\u0445\\u043e\\u0434\\u0438\\u0442 \\u0442\\u043e\\u043f-10 \\u0443\\u043b\\u0438\\u0446\"},\"barmode\":\"relative\"},                        {\"responsive\": true}                    ).then(function(){\n",
              "                            \n",
              "var gd = document.getElementById('6dfb42a8-d58b-4db6-9652-370acb172742');\n",
              "var x = new MutationObserver(function (mutations, observer) {{\n",
              "        var display = window.getComputedStyle(gd).display;\n",
              "        if (!display || display === 'none') {{\n",
              "            console.log([gd, 'removed!']);\n",
              "            Plotly.purge(gd);\n",
              "            observer.disconnect();\n",
              "        }}\n",
              "}});\n",
              "\n",
              "// Listen for the removal of the full notebook cells\n",
              "var notebookContainer = gd.closest('#notebook-container');\n",
              "if (notebookContainer) {{\n",
              "    x.observe(notebookContainer, {childList: true});\n",
              "}}\n",
              "\n",
              "// Listen for the clearing of the current output cell\n",
              "var outputEl = gd.closest('.output');\n",
              "if (outputEl) {{\n",
              "    x.observe(outputEl, {childList: true});\n",
              "}}\n",
              "\n",
              "                        })                };                            </script>        </div>\n",
              "</body>\n",
              "</html>"
            ]
          },
          "metadata": {}
        }
      ],
      "source": [
        "# Визуализируем эти данные\n",
        "street_top_10_pivot_fig = px.bar(\n",
        "    street_top_10_pivot_2, x='street', \n",
        "    y='area_count', \n",
        "    title='Число районов, через которые проходит топ-10 улиц', \n",
        "    text='area_count',\n",
        "    labels={'area_count':'Число районов, ед.', 'street':'Улица'}\n",
        ")\n",
        "street_top_10_pivot_fig.update_yaxes(range=[0, 9])\n",
        "street_top_10_pivot_fig.update_traces(textposition=\"outside\")\n",
        "street_top_10_pivot_fig.update_xaxes(tickangle=45)\n",
        "street_top_10_pivot_fig.show() "
      ]
    },
    {
      "cell_type": "markdown",
      "metadata": {
        "id": "P76-gEtP-vg5"
      },
      "source": [
        "**Вывод** Самые \"протяжённые\" улицы - Варшавское шоссе, Ленинский проспект и проспект Мира - одни из самых \"населённых\" заведениями общественного питания"
      ]
    },
    {
      "cell_type": "markdown",
      "metadata": {
        "id": "np6dj6ec-vg5"
      },
      "source": [
        "Посмотрим где эти улицы находятся на карте Москвы. Для этого:  \n",
        "1. Геокодируем адреса - получим геграфические координаты местоположения заведений, расположеннх на топ-10 улиц.  \n",
        "1. Нанесём их на карту, добавим фильтры по типу заведния и принадлежности к сетям (для наглядности и большей инфромативности)."
      ]
    },
    {
      "cell_type": "code",
      "execution_count": null,
      "metadata": {
        "id": "S-nVqu4y-vg5",
        "outputId": "44a6266b-793e-4c79-9cde-ceb4da92aeb8",
        "colab": {
          "base_uri": "https://localhost:8080/"
        }
      },
      "outputs": [
        {
          "output_type": "display_data",
          "data": {
            "text/plain": [
              "       object_name      chain                        object_type  \\\n",
              "0  Кафе «Андерсон»    сетевое                               кафе   \n",
              "1    Кафе «Subway»    сетевое                               кафе   \n",
              "2   Кафе «Ламаджо»  несетевое                               кафе   \n",
              "3    Шаурма в пите  несетевое  предприятие быстрого обслуживания   \n",
              "4          Выпечка  несетевое                          кафетерий   \n",
              "\n",
              "                                            address   latitude  longitude  \n",
              "0             город Москва, Варшавское шоссе, дом 2  55.699949  37.619977  \n",
              "1   город Москва, Варшавское шоссе, дом 7, корпус 1  55.700888  37.622402  \n",
              "2            город Москва, Варшавское шоссе, дом 29  55.692722  37.622342  \n",
              "3  город Москва, Варшавское шоссе, дом 72, корпус 2  55.656813  37.618777  \n",
              "4           город Москва, Варшавское шоссе, дом 100  55.645996  37.618901  "
            ],
            "text/html": [
              "\n",
              "  <div id=\"df-d264fee2-353a-4d95-b806-8ecbc7a34541\">\n",
              "    <div class=\"colab-df-container\">\n",
              "      <div>\n",
              "<style scoped>\n",
              "    .dataframe tbody tr th:only-of-type {\n",
              "        vertical-align: middle;\n",
              "    }\n",
              "\n",
              "    .dataframe tbody tr th {\n",
              "        vertical-align: top;\n",
              "    }\n",
              "\n",
              "    .dataframe thead th {\n",
              "        text-align: right;\n",
              "    }\n",
              "</style>\n",
              "<table border=\"1\" class=\"dataframe\">\n",
              "  <thead>\n",
              "    <tr style=\"text-align: right;\">\n",
              "      <th></th>\n",
              "      <th>object_name</th>\n",
              "      <th>chain</th>\n",
              "      <th>object_type</th>\n",
              "      <th>address</th>\n",
              "      <th>latitude</th>\n",
              "      <th>longitude</th>\n",
              "    </tr>\n",
              "  </thead>\n",
              "  <tbody>\n",
              "    <tr>\n",
              "      <th>0</th>\n",
              "      <td>Кафе «Андерсон»</td>\n",
              "      <td>сетевое</td>\n",
              "      <td>кафе</td>\n",
              "      <td>город Москва, Варшавское шоссе, дом 2</td>\n",
              "      <td>55.699949</td>\n",
              "      <td>37.619977</td>\n",
              "    </tr>\n",
              "    <tr>\n",
              "      <th>1</th>\n",
              "      <td>Кафе «Subway»</td>\n",
              "      <td>сетевое</td>\n",
              "      <td>кафе</td>\n",
              "      <td>город Москва, Варшавское шоссе, дом 7, корпус 1</td>\n",
              "      <td>55.700888</td>\n",
              "      <td>37.622402</td>\n",
              "    </tr>\n",
              "    <tr>\n",
              "      <th>2</th>\n",
              "      <td>Кафе «Ламаджо»</td>\n",
              "      <td>несетевое</td>\n",
              "      <td>кафе</td>\n",
              "      <td>город Москва, Варшавское шоссе, дом 29</td>\n",
              "      <td>55.692722</td>\n",
              "      <td>37.622342</td>\n",
              "    </tr>\n",
              "    <tr>\n",
              "      <th>3</th>\n",
              "      <td>Шаурма в пите</td>\n",
              "      <td>несетевое</td>\n",
              "      <td>предприятие быстрого обслуживания</td>\n",
              "      <td>город Москва, Варшавское шоссе, дом 72, корпус 2</td>\n",
              "      <td>55.656813</td>\n",
              "      <td>37.618777</td>\n",
              "    </tr>\n",
              "    <tr>\n",
              "      <th>4</th>\n",
              "      <td>Выпечка</td>\n",
              "      <td>несетевое</td>\n",
              "      <td>кафетерий</td>\n",
              "      <td>город Москва, Варшавское шоссе, дом 100</td>\n",
              "      <td>55.645996</td>\n",
              "      <td>37.618901</td>\n",
              "    </tr>\n",
              "  </tbody>\n",
              "</table>\n",
              "</div>\n",
              "      <button class=\"colab-df-convert\" onclick=\"convertToInteractive('df-d264fee2-353a-4d95-b806-8ecbc7a34541')\"\n",
              "              title=\"Convert this dataframe to an interactive table.\"\n",
              "              style=\"display:none;\">\n",
              "        \n",
              "  <svg xmlns=\"http://www.w3.org/2000/svg\" height=\"24px\"viewBox=\"0 0 24 24\"\n",
              "       width=\"24px\">\n",
              "    <path d=\"M0 0h24v24H0V0z\" fill=\"none\"/>\n",
              "    <path d=\"M18.56 5.44l.94 2.06.94-2.06 2.06-.94-2.06-.94-.94-2.06-.94 2.06-2.06.94zm-11 1L8.5 8.5l.94-2.06 2.06-.94-2.06-.94L8.5 2.5l-.94 2.06-2.06.94zm10 10l.94 2.06.94-2.06 2.06-.94-2.06-.94-.94-2.06-.94 2.06-2.06.94z\"/><path d=\"M17.41 7.96l-1.37-1.37c-.4-.4-.92-.59-1.43-.59-.52 0-1.04.2-1.43.59L10.3 9.45l-7.72 7.72c-.78.78-.78 2.05 0 2.83L4 21.41c.39.39.9.59 1.41.59.51 0 1.02-.2 1.41-.59l7.78-7.78 2.81-2.81c.8-.78.8-2.07 0-2.86zM5.41 20L4 18.59l7.72-7.72 1.47 1.35L5.41 20z\"/>\n",
              "  </svg>\n",
              "      </button>\n",
              "      \n",
              "  <style>\n",
              "    .colab-df-container {\n",
              "      display:flex;\n",
              "      flex-wrap:wrap;\n",
              "      gap: 12px;\n",
              "    }\n",
              "\n",
              "    .colab-df-convert {\n",
              "      background-color: #E8F0FE;\n",
              "      border: none;\n",
              "      border-radius: 50%;\n",
              "      cursor: pointer;\n",
              "      display: none;\n",
              "      fill: #1967D2;\n",
              "      height: 32px;\n",
              "      padding: 0 0 0 0;\n",
              "      width: 32px;\n",
              "    }\n",
              "\n",
              "    .colab-df-convert:hover {\n",
              "      background-color: #E2EBFA;\n",
              "      box-shadow: 0px 1px 2px rgba(60, 64, 67, 0.3), 0px 1px 3px 1px rgba(60, 64, 67, 0.15);\n",
              "      fill: #174EA6;\n",
              "    }\n",
              "\n",
              "    [theme=dark] .colab-df-convert {\n",
              "      background-color: #3B4455;\n",
              "      fill: #D2E3FC;\n",
              "    }\n",
              "\n",
              "    [theme=dark] .colab-df-convert:hover {\n",
              "      background-color: #434B5C;\n",
              "      box-shadow: 0px 1px 3px 1px rgba(0, 0, 0, 0.15);\n",
              "      filter: drop-shadow(0px 1px 2px rgba(0, 0, 0, 0.3));\n",
              "      fill: #FFFFFF;\n",
              "    }\n",
              "  </style>\n",
              "\n",
              "      <script>\n",
              "        const buttonEl =\n",
              "          document.querySelector('#df-d264fee2-353a-4d95-b806-8ecbc7a34541 button.colab-df-convert');\n",
              "        buttonEl.style.display =\n",
              "          google.colab.kernel.accessAllowed ? 'block' : 'none';\n",
              "\n",
              "        async function convertToInteractive(key) {\n",
              "          const element = document.querySelector('#df-d264fee2-353a-4d95-b806-8ecbc7a34541');\n",
              "          const dataTable =\n",
              "            await google.colab.kernel.invokeFunction('convertToInteractive',\n",
              "                                                     [key], {});\n",
              "          if (!dataTable) return;\n",
              "\n",
              "          const docLinkHtml = 'Like what you see? Visit the ' +\n",
              "            '<a target=\"_blank\" href=https://colab.research.google.com/notebooks/data_table.ipynb>data table notebook</a>'\n",
              "            + ' to learn more about interactive tables.';\n",
              "          element.innerHTML = '';\n",
              "          dataTable['output_type'] = 'display_data';\n",
              "          await google.colab.output.renderOutput(dataTable, element);\n",
              "          const docLink = document.createElement('div');\n",
              "          docLink.innerHTML = docLinkHtml;\n",
              "          element.appendChild(docLink);\n",
              "        }\n",
              "      </script>\n",
              "    </div>\n",
              "  </div>\n",
              "  "
            ]
          },
          "metadata": {}
        }
      ],
      "source": [
        "# Для геокодирования использовал Geocode by Awesome Table для гугл-таблиц\n",
        "# Сохраним в переменную датафрейм с гугл-таблиц с координатами\n",
        "spreadsheet_id = '1OeSu3Lz15QV0TGJQeD7Ms_3Okr22HQ4kQFgaAJ-ImWk'\n",
        "file_name = 'https://docs.google.com/spreadsheets/d/{}/export?format=csv'.format(spreadsheet_id)\n",
        "r = requests.get(file_name)\n",
        "top_10_geo = pd.read_csv(BytesIO(r.content))\n",
        "display(top_10_geo.head())"
      ]
    },
    {
      "cell_type": "markdown",
      "metadata": {
        "id": "o1DjphQg-vg6"
      },
      "source": [
        "Для визуализации выбрал гугл-карты.    \n",
        "Ссылка на карту: https://www.google.com/maps/d/edit?mid=1219GKLTppniisZwhJTC5T3AvNJM25-Q&usp=sharing"
      ]
    },
    {
      "cell_type": "markdown",
      "metadata": {
        "id": "k68aPVbF-vg6"
      },
      "source": [
        "**Выводы:**   \n",
        "1. Топ-10 улиц радиально расходятся о центра Москвы, но не заходят к центру ближе Бульварного кольца.   \n",
        "1. На восточном направелении нет ни одной улицы из топ-10.  Юго-западное направление - против очень насышено - целых 2 улицы из топ-10.  \n",
        "1. География сетевых и несетевых заведений в целом схожа.  \n",
        "1. Геграфия типов заведений тоже в целом похожа.\n"
      ]
    },
    {
      "cell_type": "markdown",
      "metadata": {
        "id": "toNGxGCz-vg6"
      },
      "source": [
        "#### Улицы с одним заведением"
      ]
    },
    {
      "cell_type": "code",
      "execution_count": null,
      "metadata": {
        "id": "YasqPhAm-vg6",
        "outputId": "cffc1211-ff67-4911-9aab-c1aea2d1e8e7",
        "colab": {
          "base_uri": "https://localhost:8080/"
        }
      },
      "outputs": [
        {
          "output_type": "display_data",
          "data": {
            "text/plain": [
              "                       street  object_count\n",
              "1348      улица Пржевальского             1\n",
              "1349   1-й Кирпичный переулок             1\n",
              "1350       улица Кухмистерова             1\n",
              "1351  улица Корнея Чуковского             1\n",
              "1352           улица Кутузова             1"
            ],
            "text/html": [
              "\n",
              "  <div id=\"df-32627e25-05ea-4dfa-8363-5f709ab36ada\">\n",
              "    <div class=\"colab-df-container\">\n",
              "      <div>\n",
              "<style scoped>\n",
              "    .dataframe tbody tr th:only-of-type {\n",
              "        vertical-align: middle;\n",
              "    }\n",
              "\n",
              "    .dataframe tbody tr th {\n",
              "        vertical-align: top;\n",
              "    }\n",
              "\n",
              "    .dataframe thead th {\n",
              "        text-align: right;\n",
              "    }\n",
              "</style>\n",
              "<table border=\"1\" class=\"dataframe\">\n",
              "  <thead>\n",
              "    <tr style=\"text-align: right;\">\n",
              "      <th></th>\n",
              "      <th>street</th>\n",
              "      <th>object_count</th>\n",
              "    </tr>\n",
              "  </thead>\n",
              "  <tbody>\n",
              "    <tr>\n",
              "      <th>1348</th>\n",
              "      <td>улица Пржевальского</td>\n",
              "      <td>1</td>\n",
              "    </tr>\n",
              "    <tr>\n",
              "      <th>1349</th>\n",
              "      <td>1-й Кирпичный переулок</td>\n",
              "      <td>1</td>\n",
              "    </tr>\n",
              "    <tr>\n",
              "      <th>1350</th>\n",
              "      <td>улица Кухмистерова</td>\n",
              "      <td>1</td>\n",
              "    </tr>\n",
              "    <tr>\n",
              "      <th>1351</th>\n",
              "      <td>улица Корнея Чуковского</td>\n",
              "      <td>1</td>\n",
              "    </tr>\n",
              "    <tr>\n",
              "      <th>1352</th>\n",
              "      <td>улица Кутузова</td>\n",
              "      <td>1</td>\n",
              "    </tr>\n",
              "  </tbody>\n",
              "</table>\n",
              "</div>\n",
              "      <button class=\"colab-df-convert\" onclick=\"convertToInteractive('df-32627e25-05ea-4dfa-8363-5f709ab36ada')\"\n",
              "              title=\"Convert this dataframe to an interactive table.\"\n",
              "              style=\"display:none;\">\n",
              "        \n",
              "  <svg xmlns=\"http://www.w3.org/2000/svg\" height=\"24px\"viewBox=\"0 0 24 24\"\n",
              "       width=\"24px\">\n",
              "    <path d=\"M0 0h24v24H0V0z\" fill=\"none\"/>\n",
              "    <path d=\"M18.56 5.44l.94 2.06.94-2.06 2.06-.94-2.06-.94-.94-2.06-.94 2.06-2.06.94zm-11 1L8.5 8.5l.94-2.06 2.06-.94-2.06-.94L8.5 2.5l-.94 2.06-2.06.94zm10 10l.94 2.06.94-2.06 2.06-.94-2.06-.94-.94-2.06-.94 2.06-2.06.94z\"/><path d=\"M17.41 7.96l-1.37-1.37c-.4-.4-.92-.59-1.43-.59-.52 0-1.04.2-1.43.59L10.3 9.45l-7.72 7.72c-.78.78-.78 2.05 0 2.83L4 21.41c.39.39.9.59 1.41.59.51 0 1.02-.2 1.41-.59l7.78-7.78 2.81-2.81c.8-.78.8-2.07 0-2.86zM5.41 20L4 18.59l7.72-7.72 1.47 1.35L5.41 20z\"/>\n",
              "  </svg>\n",
              "      </button>\n",
              "      \n",
              "  <style>\n",
              "    .colab-df-container {\n",
              "      display:flex;\n",
              "      flex-wrap:wrap;\n",
              "      gap: 12px;\n",
              "    }\n",
              "\n",
              "    .colab-df-convert {\n",
              "      background-color: #E8F0FE;\n",
              "      border: none;\n",
              "      border-radius: 50%;\n",
              "      cursor: pointer;\n",
              "      display: none;\n",
              "      fill: #1967D2;\n",
              "      height: 32px;\n",
              "      padding: 0 0 0 0;\n",
              "      width: 32px;\n",
              "    }\n",
              "\n",
              "    .colab-df-convert:hover {\n",
              "      background-color: #E2EBFA;\n",
              "      box-shadow: 0px 1px 2px rgba(60, 64, 67, 0.3), 0px 1px 3px 1px rgba(60, 64, 67, 0.15);\n",
              "      fill: #174EA6;\n",
              "    }\n",
              "\n",
              "    [theme=dark] .colab-df-convert {\n",
              "      background-color: #3B4455;\n",
              "      fill: #D2E3FC;\n",
              "    }\n",
              "\n",
              "    [theme=dark] .colab-df-convert:hover {\n",
              "      background-color: #434B5C;\n",
              "      box-shadow: 0px 1px 3px 1px rgba(0, 0, 0, 0.15);\n",
              "      filter: drop-shadow(0px 1px 2px rgba(0, 0, 0, 0.3));\n",
              "      fill: #FFFFFF;\n",
              "    }\n",
              "  </style>\n",
              "\n",
              "      <script>\n",
              "        const buttonEl =\n",
              "          document.querySelector('#df-32627e25-05ea-4dfa-8363-5f709ab36ada button.colab-df-convert');\n",
              "        buttonEl.style.display =\n",
              "          google.colab.kernel.accessAllowed ? 'block' : 'none';\n",
              "\n",
              "        async function convertToInteractive(key) {\n",
              "          const element = document.querySelector('#df-32627e25-05ea-4dfa-8363-5f709ab36ada');\n",
              "          const dataTable =\n",
              "            await google.colab.kernel.invokeFunction('convertToInteractive',\n",
              "                                                     [key], {});\n",
              "          if (!dataTable) return;\n",
              "\n",
              "          const docLinkHtml = 'Like what you see? Visit the ' +\n",
              "            '<a target=\"_blank\" href=https://colab.research.google.com/notebooks/data_table.ipynb>data table notebook</a>'\n",
              "            + ' to learn more about interactive tables.';\n",
              "          element.innerHTML = '';\n",
              "          dataTable['output_type'] = 'display_data';\n",
              "          await google.colab.output.renderOutput(dataTable, element);\n",
              "          const docLink = document.createElement('div');\n",
              "          docLink.innerHTML = docLinkHtml;\n",
              "          element.appendChild(docLink);\n",
              "        }\n",
              "      </script>\n",
              "    </div>\n",
              "  </div>\n",
              "  "
            ]
          },
          "metadata": {}
        },
        {
          "output_type": "stream",
          "name": "stdout",
          "text": [
            "Улиц с одним заведением: 555\n"
          ]
        }
      ],
      "source": [
        "# Сделаем срез данных, включающий только улицы с одним заведением \n",
        "single_street =street_object_count.query(\"object_count == 1\")\n",
        "display(single_street.head())\n",
        "print('Улиц с одним заведением:', single_street['object_count'].sum())"
      ]
    },
    {
      "cell_type": "code",
      "execution_count": null,
      "metadata": {
        "id": "hAKDrXBH-vg6",
        "outputId": "02974469-6b5f-4fd3-b9a4-86bd2f10c2e1",
        "colab": {
          "base_uri": "https://localhost:8080/"
        }
      },
      "outputs": [
        {
          "output_type": "display_data",
          "data": {
            "text/plain": [
              "                    street  object_count  areaid okrug  \\\n",
              "0      улица Пржевальского             1    50.0   ЗАО   \n",
              "1   1-й Кирпичный переулок             1    36.0   ВАО   \n",
              "2       улица Кухмистерова             1   118.0  ЮВАО   \n",
              "3  улица Корнея Чуковского             1     NaN   ЗАО   \n",
              "4           улица Кутузова             1    41.0   ЗАО   \n",
              "\n",
              "                        area  \n",
              "0  Район Очаково-Матвеевское  \n",
              "1       Район Соколиная Гора  \n",
              "2            Район Печатники  \n",
              "3              Район Внуково  \n",
              "4            Можайский Район  "
            ],
            "text/html": [
              "\n",
              "  <div id=\"df-02db3ab8-6ee5-4b8b-a6df-2818ccb882ac\">\n",
              "    <div class=\"colab-df-container\">\n",
              "      <div>\n",
              "<style scoped>\n",
              "    .dataframe tbody tr th:only-of-type {\n",
              "        vertical-align: middle;\n",
              "    }\n",
              "\n",
              "    .dataframe tbody tr th {\n",
              "        vertical-align: top;\n",
              "    }\n",
              "\n",
              "    .dataframe thead th {\n",
              "        text-align: right;\n",
              "    }\n",
              "</style>\n",
              "<table border=\"1\" class=\"dataframe\">\n",
              "  <thead>\n",
              "    <tr style=\"text-align: right;\">\n",
              "      <th></th>\n",
              "      <th>street</th>\n",
              "      <th>object_count</th>\n",
              "      <th>areaid</th>\n",
              "      <th>okrug</th>\n",
              "      <th>area</th>\n",
              "    </tr>\n",
              "  </thead>\n",
              "  <tbody>\n",
              "    <tr>\n",
              "      <th>0</th>\n",
              "      <td>улица Пржевальского</td>\n",
              "      <td>1</td>\n",
              "      <td>50.0</td>\n",
              "      <td>ЗАО</td>\n",
              "      <td>Район Очаково-Матвеевское</td>\n",
              "    </tr>\n",
              "    <tr>\n",
              "      <th>1</th>\n",
              "      <td>1-й Кирпичный переулок</td>\n",
              "      <td>1</td>\n",
              "      <td>36.0</td>\n",
              "      <td>ВАО</td>\n",
              "      <td>Район Соколиная Гора</td>\n",
              "    </tr>\n",
              "    <tr>\n",
              "      <th>2</th>\n",
              "      <td>улица Кухмистерова</td>\n",
              "      <td>1</td>\n",
              "      <td>118.0</td>\n",
              "      <td>ЮВАО</td>\n",
              "      <td>Район Печатники</td>\n",
              "    </tr>\n",
              "    <tr>\n",
              "      <th>3</th>\n",
              "      <td>улица Корнея Чуковского</td>\n",
              "      <td>1</td>\n",
              "      <td>NaN</td>\n",
              "      <td>ЗАО</td>\n",
              "      <td>Район Внуково</td>\n",
              "    </tr>\n",
              "    <tr>\n",
              "      <th>4</th>\n",
              "      <td>улица Кутузова</td>\n",
              "      <td>1</td>\n",
              "      <td>41.0</td>\n",
              "      <td>ЗАО</td>\n",
              "      <td>Можайский Район</td>\n",
              "    </tr>\n",
              "  </tbody>\n",
              "</table>\n",
              "</div>\n",
              "      <button class=\"colab-df-convert\" onclick=\"convertToInteractive('df-02db3ab8-6ee5-4b8b-a6df-2818ccb882ac')\"\n",
              "              title=\"Convert this dataframe to an interactive table.\"\n",
              "              style=\"display:none;\">\n",
              "        \n",
              "  <svg xmlns=\"http://www.w3.org/2000/svg\" height=\"24px\"viewBox=\"0 0 24 24\"\n",
              "       width=\"24px\">\n",
              "    <path d=\"M0 0h24v24H0V0z\" fill=\"none\"/>\n",
              "    <path d=\"M18.56 5.44l.94 2.06.94-2.06 2.06-.94-2.06-.94-.94-2.06-.94 2.06-2.06.94zm-11 1L8.5 8.5l.94-2.06 2.06-.94-2.06-.94L8.5 2.5l-.94 2.06-2.06.94zm10 10l.94 2.06.94-2.06 2.06-.94-2.06-.94-.94-2.06-.94 2.06-2.06.94z\"/><path d=\"M17.41 7.96l-1.37-1.37c-.4-.4-.92-.59-1.43-.59-.52 0-1.04.2-1.43.59L10.3 9.45l-7.72 7.72c-.78.78-.78 2.05 0 2.83L4 21.41c.39.39.9.59 1.41.59.51 0 1.02-.2 1.41-.59l7.78-7.78 2.81-2.81c.8-.78.8-2.07 0-2.86zM5.41 20L4 18.59l7.72-7.72 1.47 1.35L5.41 20z\"/>\n",
              "  </svg>\n",
              "      </button>\n",
              "      \n",
              "  <style>\n",
              "    .colab-df-container {\n",
              "      display:flex;\n",
              "      flex-wrap:wrap;\n",
              "      gap: 12px;\n",
              "    }\n",
              "\n",
              "    .colab-df-convert {\n",
              "      background-color: #E8F0FE;\n",
              "      border: none;\n",
              "      border-radius: 50%;\n",
              "      cursor: pointer;\n",
              "      display: none;\n",
              "      fill: #1967D2;\n",
              "      height: 32px;\n",
              "      padding: 0 0 0 0;\n",
              "      width: 32px;\n",
              "    }\n",
              "\n",
              "    .colab-df-convert:hover {\n",
              "      background-color: #E2EBFA;\n",
              "      box-shadow: 0px 1px 2px rgba(60, 64, 67, 0.3), 0px 1px 3px 1px rgba(60, 64, 67, 0.15);\n",
              "      fill: #174EA6;\n",
              "    }\n",
              "\n",
              "    [theme=dark] .colab-df-convert {\n",
              "      background-color: #3B4455;\n",
              "      fill: #D2E3FC;\n",
              "    }\n",
              "\n",
              "    [theme=dark] .colab-df-convert:hover {\n",
              "      background-color: #434B5C;\n",
              "      box-shadow: 0px 1px 3px 1px rgba(0, 0, 0, 0.15);\n",
              "      filter: drop-shadow(0px 1px 2px rgba(0, 0, 0, 0.3));\n",
              "      fill: #FFFFFF;\n",
              "    }\n",
              "  </style>\n",
              "\n",
              "      <script>\n",
              "        const buttonEl =\n",
              "          document.querySelector('#df-02db3ab8-6ee5-4b8b-a6df-2818ccb882ac button.colab-df-convert');\n",
              "        buttonEl.style.display =\n",
              "          google.colab.kernel.accessAllowed ? 'block' : 'none';\n",
              "\n",
              "        async function convertToInteractive(key) {\n",
              "          const element = document.querySelector('#df-02db3ab8-6ee5-4b8b-a6df-2818ccb882ac');\n",
              "          const dataTable =\n",
              "            await google.colab.kernel.invokeFunction('convertToInteractive',\n",
              "                                                     [key], {});\n",
              "          if (!dataTable) return;\n",
              "\n",
              "          const docLinkHtml = 'Like what you see? Visit the ' +\n",
              "            '<a target=\"_blank\" href=https://colab.research.google.com/notebooks/data_table.ipynb>data table notebook</a>'\n",
              "            + ' to learn more about interactive tables.';\n",
              "          element.innerHTML = '';\n",
              "          dataTable['output_type'] = 'display_data';\n",
              "          await google.colab.output.renderOutput(dataTable, element);\n",
              "          const docLink = document.createElement('div');\n",
              "          docLink.innerHTML = docLinkHtml;\n",
              "          element.appendChild(docLink);\n",
              "        }\n",
              "      </script>\n",
              "    </div>\n",
              "  </div>\n",
              "  "
            ]
          },
          "metadata": {}
        }
      ],
      "source": [
        "# Подтянем к ним районы и округа\n",
        "single_street = single_street.merge(moscow_streets, on='street', how='left') \n",
        "display(single_street.head())"
      ]
    },
    {
      "cell_type": "code",
      "execution_count": null,
      "metadata": {
        "id": "j91Wf0t1-vg7",
        "outputId": "3d0e8501-8124-4cb0-d688-6cd4caf6fd33",
        "colab": {
          "base_uri": "https://localhost:8080/"
        }
      },
      "outputs": [
        {
          "output_type": "execute_result",
          "data": {
            "text/plain": [
              "street           0\n",
              "object_count     0\n",
              "areaid          34\n",
              "okrug            1\n",
              "area             1\n",
              "dtype: int64"
            ]
          },
          "metadata": {},
          "execution_count": 43
        }
      ],
      "source": [
        "# В данных есть пропуски, посчитаем их\n",
        "single_street.isna().sum()"
      ]
    },
    {
      "cell_type": "markdown",
      "metadata": {
        "id": "DMuuCH-I-vg7"
      },
      "source": [
        "Пропуски есть - у ряда районов нет кода, но мы используем эти данные в анализе (данных нет в исходном датасете), у одно улицы нет даннх об округе и районе (данных нет в исходном датасете)"
      ]
    },
    {
      "cell_type": "code",
      "execution_count": null,
      "metadata": {
        "id": "v69EJoLC-vg7",
        "outputId": "cb395c63-ab2b-436d-a8b2-50d4257582d8",
        "colab": {
          "base_uri": "https://localhost:8080/"
        }
      },
      "outputs": [
        {
          "output_type": "display_data",
          "data": {
            "text/plain": [
              "Таганский район               28\n",
              "Район Хамовники               26\n",
              "Басманный район               26\n",
              "Тверской район                21\n",
              "Пресненский район             20\n",
              "                              ..\n",
              "Московский район               1\n",
              "Район Капотня                  1\n",
              "Район Москворечье-Сабурово     1\n",
              "Ватутинки                      1\n",
              "Район Западное Дегунино        1\n",
              "Name: area, Length: 114, dtype: int64"
            ]
          },
          "metadata": {}
        }
      ],
      "source": [
        "# Сгруппируем \"одинокие\" улицы по районам\n",
        "display(single_street['area'].value_counts())"
      ]
    },
    {
      "cell_type": "code",
      "execution_count": null,
      "metadata": {
        "id": "0WoakakQ-vg8",
        "outputId": "133d9631-e9d5-4fd7-b8b0-c0fa43c8df97",
        "colab": {
          "base_uri": "https://localhost:8080/"
        }
      },
      "outputs": [
        {
          "output_type": "display_data",
          "data": {
            "text/plain": [
              "                  area  count\n",
              "0      Таганский район     28\n",
              "1      Район Хамовники     26\n",
              "2      Басманный район     26\n",
              "3       Тверской район     21\n",
              "4    Пресненский район     20\n",
              "5   Район Марьина роща     19\n",
              "6      Мещанский район     17\n",
              "7          Район Арбат     17\n",
              "8     Район Сокольники     15\n",
              "9  Район Замоскворечье     14"
            ],
            "text/html": [
              "\n",
              "  <div id=\"df-f342d373-de9a-4ed5-95b9-076c2e07396b\">\n",
              "    <div class=\"colab-df-container\">\n",
              "      <div>\n",
              "<style scoped>\n",
              "    .dataframe tbody tr th:only-of-type {\n",
              "        vertical-align: middle;\n",
              "    }\n",
              "\n",
              "    .dataframe tbody tr th {\n",
              "        vertical-align: top;\n",
              "    }\n",
              "\n",
              "    .dataframe thead th {\n",
              "        text-align: right;\n",
              "    }\n",
              "</style>\n",
              "<table border=\"1\" class=\"dataframe\">\n",
              "  <thead>\n",
              "    <tr style=\"text-align: right;\">\n",
              "      <th></th>\n",
              "      <th>area</th>\n",
              "      <th>count</th>\n",
              "    </tr>\n",
              "  </thead>\n",
              "  <tbody>\n",
              "    <tr>\n",
              "      <th>0</th>\n",
              "      <td>Таганский район</td>\n",
              "      <td>28</td>\n",
              "    </tr>\n",
              "    <tr>\n",
              "      <th>1</th>\n",
              "      <td>Район Хамовники</td>\n",
              "      <td>26</td>\n",
              "    </tr>\n",
              "    <tr>\n",
              "      <th>2</th>\n",
              "      <td>Басманный район</td>\n",
              "      <td>26</td>\n",
              "    </tr>\n",
              "    <tr>\n",
              "      <th>3</th>\n",
              "      <td>Тверской район</td>\n",
              "      <td>21</td>\n",
              "    </tr>\n",
              "    <tr>\n",
              "      <th>4</th>\n",
              "      <td>Пресненский район</td>\n",
              "      <td>20</td>\n",
              "    </tr>\n",
              "    <tr>\n",
              "      <th>5</th>\n",
              "      <td>Район Марьина роща</td>\n",
              "      <td>19</td>\n",
              "    </tr>\n",
              "    <tr>\n",
              "      <th>6</th>\n",
              "      <td>Мещанский район</td>\n",
              "      <td>17</td>\n",
              "    </tr>\n",
              "    <tr>\n",
              "      <th>7</th>\n",
              "      <td>Район Арбат</td>\n",
              "      <td>17</td>\n",
              "    </tr>\n",
              "    <tr>\n",
              "      <th>8</th>\n",
              "      <td>Район Сокольники</td>\n",
              "      <td>15</td>\n",
              "    </tr>\n",
              "    <tr>\n",
              "      <th>9</th>\n",
              "      <td>Район Замоскворечье</td>\n",
              "      <td>14</td>\n",
              "    </tr>\n",
              "  </tbody>\n",
              "</table>\n",
              "</div>\n",
              "      <button class=\"colab-df-convert\" onclick=\"convertToInteractive('df-f342d373-de9a-4ed5-95b9-076c2e07396b')\"\n",
              "              title=\"Convert this dataframe to an interactive table.\"\n",
              "              style=\"display:none;\">\n",
              "        \n",
              "  <svg xmlns=\"http://www.w3.org/2000/svg\" height=\"24px\"viewBox=\"0 0 24 24\"\n",
              "       width=\"24px\">\n",
              "    <path d=\"M0 0h24v24H0V0z\" fill=\"none\"/>\n",
              "    <path d=\"M18.56 5.44l.94 2.06.94-2.06 2.06-.94-2.06-.94-.94-2.06-.94 2.06-2.06.94zm-11 1L8.5 8.5l.94-2.06 2.06-.94-2.06-.94L8.5 2.5l-.94 2.06-2.06.94zm10 10l.94 2.06.94-2.06 2.06-.94-2.06-.94-.94-2.06-.94 2.06-2.06.94z\"/><path d=\"M17.41 7.96l-1.37-1.37c-.4-.4-.92-.59-1.43-.59-.52 0-1.04.2-1.43.59L10.3 9.45l-7.72 7.72c-.78.78-.78 2.05 0 2.83L4 21.41c.39.39.9.59 1.41.59.51 0 1.02-.2 1.41-.59l7.78-7.78 2.81-2.81c.8-.78.8-2.07 0-2.86zM5.41 20L4 18.59l7.72-7.72 1.47 1.35L5.41 20z\"/>\n",
              "  </svg>\n",
              "      </button>\n",
              "      \n",
              "  <style>\n",
              "    .colab-df-container {\n",
              "      display:flex;\n",
              "      flex-wrap:wrap;\n",
              "      gap: 12px;\n",
              "    }\n",
              "\n",
              "    .colab-df-convert {\n",
              "      background-color: #E8F0FE;\n",
              "      border: none;\n",
              "      border-radius: 50%;\n",
              "      cursor: pointer;\n",
              "      display: none;\n",
              "      fill: #1967D2;\n",
              "      height: 32px;\n",
              "      padding: 0 0 0 0;\n",
              "      width: 32px;\n",
              "    }\n",
              "\n",
              "    .colab-df-convert:hover {\n",
              "      background-color: #E2EBFA;\n",
              "      box-shadow: 0px 1px 2px rgba(60, 64, 67, 0.3), 0px 1px 3px 1px rgba(60, 64, 67, 0.15);\n",
              "      fill: #174EA6;\n",
              "    }\n",
              "\n",
              "    [theme=dark] .colab-df-convert {\n",
              "      background-color: #3B4455;\n",
              "      fill: #D2E3FC;\n",
              "    }\n",
              "\n",
              "    [theme=dark] .colab-df-convert:hover {\n",
              "      background-color: #434B5C;\n",
              "      box-shadow: 0px 1px 3px 1px rgba(0, 0, 0, 0.15);\n",
              "      filter: drop-shadow(0px 1px 2px rgba(0, 0, 0, 0.3));\n",
              "      fill: #FFFFFF;\n",
              "    }\n",
              "  </style>\n",
              "\n",
              "      <script>\n",
              "        const buttonEl =\n",
              "          document.querySelector('#df-f342d373-de9a-4ed5-95b9-076c2e07396b button.colab-df-convert');\n",
              "        buttonEl.style.display =\n",
              "          google.colab.kernel.accessAllowed ? 'block' : 'none';\n",
              "\n",
              "        async function convertToInteractive(key) {\n",
              "          const element = document.querySelector('#df-f342d373-de9a-4ed5-95b9-076c2e07396b');\n",
              "          const dataTable =\n",
              "            await google.colab.kernel.invokeFunction('convertToInteractive',\n",
              "                                                     [key], {});\n",
              "          if (!dataTable) return;\n",
              "\n",
              "          const docLinkHtml = 'Like what you see? Visit the ' +\n",
              "            '<a target=\"_blank\" href=https://colab.research.google.com/notebooks/data_table.ipynb>data table notebook</a>'\n",
              "            + ' to learn more about interactive tables.';\n",
              "          element.innerHTML = '';\n",
              "          dataTable['output_type'] = 'display_data';\n",
              "          await google.colab.output.renderOutput(dataTable, element);\n",
              "          const docLink = document.createElement('div');\n",
              "          docLink.innerHTML = docLinkHtml;\n",
              "          element.appendChild(docLink);\n",
              "        }\n",
              "      </script>\n",
              "    </div>\n",
              "  </div>\n",
              "  "
            ]
          },
          "metadata": {}
        }
      ],
      "source": [
        "# Топ-10 районов\n",
        "area_top_10 = single_street['area'].value_counts().reset_index().head(10).rename(columns=({'index':'area','area':'count'}))\n",
        "display(area_top_10)"
      ]
    },
    {
      "cell_type": "code",
      "execution_count": null,
      "metadata": {
        "id": "B2YLxvV0-vg8",
        "outputId": "024388bc-1f17-4674-93e7-c1445e9c4a74",
        "colab": {
          "base_uri": "https://localhost:8080/"
        }
      },
      "outputs": [
        {
          "output_type": "display_data",
          "data": {
            "text/html": [
              "<html>\n",
              "<head><meta charset=\"utf-8\" /></head>\n",
              "<body>\n",
              "    <div>            <script src=\"https://cdnjs.cloudflare.com/ajax/libs/mathjax/2.7.5/MathJax.js?config=TeX-AMS-MML_SVG\"></script><script type=\"text/javascript\">if (window.MathJax) {MathJax.Hub.Config({SVG: {font: \"STIX-Web\"}});}</script>                <script type=\"text/javascript\">window.PlotlyConfig = {MathJaxConfig: 'local'};</script>\n",
              "        <script src=\"https://cdn.plot.ly/plotly-2.8.3.min.js\"></script>                <div id=\"5fcc3341-c7bf-4a21-b795-ca8a00d43f98\" class=\"plotly-graph-div\" style=\"height:525px; width:100%;\"></div>            <script type=\"text/javascript\">                                    window.PLOTLYENV=window.PLOTLYENV || {};                                    if (document.getElementById(\"5fcc3341-c7bf-4a21-b795-ca8a00d43f98\")) {                    Plotly.newPlot(                        \"5fcc3341-c7bf-4a21-b795-ca8a00d43f98\",                        [{\"alignmentgroup\":\"True\",\"hovertemplate\":\"\\u0420\\u0430\\u0439\\u043e\\u043d=%{x}<br>\\u0427\\u0438\\u0441\\u043b\\u043e \\u0437\\u0430\\u0432\\u0435\\u0434\\u0435\\u043d\\u0438\\u0439, \\u0435\\u0434.=%{text}<extra></extra>\",\"legendgroup\":\"\",\"marker\":{\"color\":\"#636efa\",\"pattern\":{\"shape\":\"\"}},\"name\":\"\",\"offsetgroup\":\"\",\"orientation\":\"v\",\"showlegend\":false,\"text\":[28.0,26.0,26.0,21.0,20.0,19.0,17.0,17.0,15.0,14.0],\"textposition\":\"outside\",\"x\":[\"\\u0422\\u0430\\u0433\\u0430\\u043d\\u0441\\u043a\\u0438\\u0439 \\u0440\\u0430\\u0439\\u043e\\u043d\",\"\\u0420\\u0430\\u0439\\u043e\\u043d \\u0425\\u0430\\u043c\\u043e\\u0432\\u043d\\u0438\\u043a\\u0438\",\"\\u0411\\u0430\\u0441\\u043c\\u0430\\u043d\\u043d\\u044b\\u0439 \\u0440\\u0430\\u0439\\u043e\\u043d\",\"\\u0422\\u0432\\u0435\\u0440\\u0441\\u043a\\u043e\\u0439 \\u0440\\u0430\\u0439\\u043e\\u043d\",\"\\u041f\\u0440\\u0435\\u0441\\u043d\\u0435\\u043d\\u0441\\u043a\\u0438\\u0439 \\u0440\\u0430\\u0439\\u043e\\u043d\",\"\\u0420\\u0430\\u0439\\u043e\\u043d \\u041c\\u0430\\u0440\\u044c\\u0438\\u043d\\u0430 \\u0440\\u043e\\u0449\\u0430\",\"\\u041c\\u0435\\u0449\\u0430\\u043d\\u0441\\u043a\\u0438\\u0439 \\u0440\\u0430\\u0439\\u043e\\u043d\",\"\\u0420\\u0430\\u0439\\u043e\\u043d \\u0410\\u0440\\u0431\\u0430\\u0442\",\"\\u0420\\u0430\\u0439\\u043e\\u043d \\u0421\\u043e\\u043a\\u043e\\u043b\\u044c\\u043d\\u0438\\u043a\\u0438\",\"\\u0420\\u0430\\u0439\\u043e\\u043d \\u0417\\u0430\\u043c\\u043e\\u0441\\u043a\\u0432\\u043e\\u0440\\u0435\\u0447\\u044c\\u0435\"],\"xaxis\":\"x\",\"y\":[28,26,26,21,20,19,17,17,15,14],\"yaxis\":\"y\",\"type\":\"bar\"}],                        {\"template\":{\"data\":{\"bar\":[{\"error_x\":{\"color\":\"#2a3f5f\"},\"error_y\":{\"color\":\"#2a3f5f\"},\"marker\":{\"line\":{\"color\":\"#E5ECF6\",\"width\":0.5},\"pattern\":{\"fillmode\":\"overlay\",\"size\":10,\"solidity\":0.2}},\"type\":\"bar\"}],\"barpolar\":[{\"marker\":{\"line\":{\"color\":\"#E5ECF6\",\"width\":0.5},\"pattern\":{\"fillmode\":\"overlay\",\"size\":10,\"solidity\":0.2}},\"type\":\"barpolar\"}],\"carpet\":[{\"aaxis\":{\"endlinecolor\":\"#2a3f5f\",\"gridcolor\":\"white\",\"linecolor\":\"white\",\"minorgridcolor\":\"white\",\"startlinecolor\":\"#2a3f5f\"},\"baxis\":{\"endlinecolor\":\"#2a3f5f\",\"gridcolor\":\"white\",\"linecolor\":\"white\",\"minorgridcolor\":\"white\",\"startlinecolor\":\"#2a3f5f\"},\"type\":\"carpet\"}],\"choropleth\":[{\"colorbar\":{\"outlinewidth\":0,\"ticks\":\"\"},\"type\":\"choropleth\"}],\"contour\":[{\"colorbar\":{\"outlinewidth\":0,\"ticks\":\"\"},\"colorscale\":[[0.0,\"#0d0887\"],[0.1111111111111111,\"#46039f\"],[0.2222222222222222,\"#7201a8\"],[0.3333333333333333,\"#9c179e\"],[0.4444444444444444,\"#bd3786\"],[0.5555555555555556,\"#d8576b\"],[0.6666666666666666,\"#ed7953\"],[0.7777777777777778,\"#fb9f3a\"],[0.8888888888888888,\"#fdca26\"],[1.0,\"#f0f921\"]],\"type\":\"contour\"}],\"contourcarpet\":[{\"colorbar\":{\"outlinewidth\":0,\"ticks\":\"\"},\"type\":\"contourcarpet\"}],\"heatmap\":[{\"colorbar\":{\"outlinewidth\":0,\"ticks\":\"\"},\"colorscale\":[[0.0,\"#0d0887\"],[0.1111111111111111,\"#46039f\"],[0.2222222222222222,\"#7201a8\"],[0.3333333333333333,\"#9c179e\"],[0.4444444444444444,\"#bd3786\"],[0.5555555555555556,\"#d8576b\"],[0.6666666666666666,\"#ed7953\"],[0.7777777777777778,\"#fb9f3a\"],[0.8888888888888888,\"#fdca26\"],[1.0,\"#f0f921\"]],\"type\":\"heatmap\"}],\"heatmapgl\":[{\"colorbar\":{\"outlinewidth\":0,\"ticks\":\"\"},\"colorscale\":[[0.0,\"#0d0887\"],[0.1111111111111111,\"#46039f\"],[0.2222222222222222,\"#7201a8\"],[0.3333333333333333,\"#9c179e\"],[0.4444444444444444,\"#bd3786\"],[0.5555555555555556,\"#d8576b\"],[0.6666666666666666,\"#ed7953\"],[0.7777777777777778,\"#fb9f3a\"],[0.8888888888888888,\"#fdca26\"],[1.0,\"#f0f921\"]],\"type\":\"heatmapgl\"}],\"histogram\":[{\"marker\":{\"pattern\":{\"fillmode\":\"overlay\",\"size\":10,\"solidity\":0.2}},\"type\":\"histogram\"}],\"histogram2d\":[{\"colorbar\":{\"outlinewidth\":0,\"ticks\":\"\"},\"colorscale\":[[0.0,\"#0d0887\"],[0.1111111111111111,\"#46039f\"],[0.2222222222222222,\"#7201a8\"],[0.3333333333333333,\"#9c179e\"],[0.4444444444444444,\"#bd3786\"],[0.5555555555555556,\"#d8576b\"],[0.6666666666666666,\"#ed7953\"],[0.7777777777777778,\"#fb9f3a\"],[0.8888888888888888,\"#fdca26\"],[1.0,\"#f0f921\"]],\"type\":\"histogram2d\"}],\"histogram2dcontour\":[{\"colorbar\":{\"outlinewidth\":0,\"ticks\":\"\"},\"colorscale\":[[0.0,\"#0d0887\"],[0.1111111111111111,\"#46039f\"],[0.2222222222222222,\"#7201a8\"],[0.3333333333333333,\"#9c179e\"],[0.4444444444444444,\"#bd3786\"],[0.5555555555555556,\"#d8576b\"],[0.6666666666666666,\"#ed7953\"],[0.7777777777777778,\"#fb9f3a\"],[0.8888888888888888,\"#fdca26\"],[1.0,\"#f0f921\"]],\"type\":\"histogram2dcontour\"}],\"mesh3d\":[{\"colorbar\":{\"outlinewidth\":0,\"ticks\":\"\"},\"type\":\"mesh3d\"}],\"parcoords\":[{\"line\":{\"colorbar\":{\"outlinewidth\":0,\"ticks\":\"\"}},\"type\":\"parcoords\"}],\"pie\":[{\"automargin\":true,\"type\":\"pie\"}],\"scatter\":[{\"marker\":{\"colorbar\":{\"outlinewidth\":0,\"ticks\":\"\"}},\"type\":\"scatter\"}],\"scatter3d\":[{\"line\":{\"colorbar\":{\"outlinewidth\":0,\"ticks\":\"\"}},\"marker\":{\"colorbar\":{\"outlinewidth\":0,\"ticks\":\"\"}},\"type\":\"scatter3d\"}],\"scattercarpet\":[{\"marker\":{\"colorbar\":{\"outlinewidth\":0,\"ticks\":\"\"}},\"type\":\"scattercarpet\"}],\"scattergeo\":[{\"marker\":{\"colorbar\":{\"outlinewidth\":0,\"ticks\":\"\"}},\"type\":\"scattergeo\"}],\"scattergl\":[{\"marker\":{\"colorbar\":{\"outlinewidth\":0,\"ticks\":\"\"}},\"type\":\"scattergl\"}],\"scattermapbox\":[{\"marker\":{\"colorbar\":{\"outlinewidth\":0,\"ticks\":\"\"}},\"type\":\"scattermapbox\"}],\"scatterpolar\":[{\"marker\":{\"colorbar\":{\"outlinewidth\":0,\"ticks\":\"\"}},\"type\":\"scatterpolar\"}],\"scatterpolargl\":[{\"marker\":{\"colorbar\":{\"outlinewidth\":0,\"ticks\":\"\"}},\"type\":\"scatterpolargl\"}],\"scatterternary\":[{\"marker\":{\"colorbar\":{\"outlinewidth\":0,\"ticks\":\"\"}},\"type\":\"scatterternary\"}],\"surface\":[{\"colorbar\":{\"outlinewidth\":0,\"ticks\":\"\"},\"colorscale\":[[0.0,\"#0d0887\"],[0.1111111111111111,\"#46039f\"],[0.2222222222222222,\"#7201a8\"],[0.3333333333333333,\"#9c179e\"],[0.4444444444444444,\"#bd3786\"],[0.5555555555555556,\"#d8576b\"],[0.6666666666666666,\"#ed7953\"],[0.7777777777777778,\"#fb9f3a\"],[0.8888888888888888,\"#fdca26\"],[1.0,\"#f0f921\"]],\"type\":\"surface\"}],\"table\":[{\"cells\":{\"fill\":{\"color\":\"#EBF0F8\"},\"line\":{\"color\":\"white\"}},\"header\":{\"fill\":{\"color\":\"#C8D4E3\"},\"line\":{\"color\":\"white\"}},\"type\":\"table\"}]},\"layout\":{\"annotationdefaults\":{\"arrowcolor\":\"#2a3f5f\",\"arrowhead\":0,\"arrowwidth\":1},\"autotypenumbers\":\"strict\",\"coloraxis\":{\"colorbar\":{\"outlinewidth\":0,\"ticks\":\"\"}},\"colorscale\":{\"diverging\":[[0,\"#8e0152\"],[0.1,\"#c51b7d\"],[0.2,\"#de77ae\"],[0.3,\"#f1b6da\"],[0.4,\"#fde0ef\"],[0.5,\"#f7f7f7\"],[0.6,\"#e6f5d0\"],[0.7,\"#b8e186\"],[0.8,\"#7fbc41\"],[0.9,\"#4d9221\"],[1,\"#276419\"]],\"sequential\":[[0.0,\"#0d0887\"],[0.1111111111111111,\"#46039f\"],[0.2222222222222222,\"#7201a8\"],[0.3333333333333333,\"#9c179e\"],[0.4444444444444444,\"#bd3786\"],[0.5555555555555556,\"#d8576b\"],[0.6666666666666666,\"#ed7953\"],[0.7777777777777778,\"#fb9f3a\"],[0.8888888888888888,\"#fdca26\"],[1.0,\"#f0f921\"]],\"sequentialminus\":[[0.0,\"#0d0887\"],[0.1111111111111111,\"#46039f\"],[0.2222222222222222,\"#7201a8\"],[0.3333333333333333,\"#9c179e\"],[0.4444444444444444,\"#bd3786\"],[0.5555555555555556,\"#d8576b\"],[0.6666666666666666,\"#ed7953\"],[0.7777777777777778,\"#fb9f3a\"],[0.8888888888888888,\"#fdca26\"],[1.0,\"#f0f921\"]]},\"colorway\":[\"#636efa\",\"#EF553B\",\"#00cc96\",\"#ab63fa\",\"#FFA15A\",\"#19d3f3\",\"#FF6692\",\"#B6E880\",\"#FF97FF\",\"#FECB52\"],\"font\":{\"color\":\"#2a3f5f\"},\"geo\":{\"bgcolor\":\"white\",\"lakecolor\":\"white\",\"landcolor\":\"#E5ECF6\",\"showlakes\":true,\"showland\":true,\"subunitcolor\":\"white\"},\"hoverlabel\":{\"align\":\"left\"},\"hovermode\":\"closest\",\"mapbox\":{\"style\":\"light\"},\"paper_bgcolor\":\"white\",\"plot_bgcolor\":\"#E5ECF6\",\"polar\":{\"angularaxis\":{\"gridcolor\":\"white\",\"linecolor\":\"white\",\"ticks\":\"\"},\"bgcolor\":\"#E5ECF6\",\"radialaxis\":{\"gridcolor\":\"white\",\"linecolor\":\"white\",\"ticks\":\"\"}},\"scene\":{\"xaxis\":{\"backgroundcolor\":\"#E5ECF6\",\"gridcolor\":\"white\",\"gridwidth\":2,\"linecolor\":\"white\",\"showbackground\":true,\"ticks\":\"\",\"zerolinecolor\":\"white\"},\"yaxis\":{\"backgroundcolor\":\"#E5ECF6\",\"gridcolor\":\"white\",\"gridwidth\":2,\"linecolor\":\"white\",\"showbackground\":true,\"ticks\":\"\",\"zerolinecolor\":\"white\"},\"zaxis\":{\"backgroundcolor\":\"#E5ECF6\",\"gridcolor\":\"white\",\"gridwidth\":2,\"linecolor\":\"white\",\"showbackground\":true,\"ticks\":\"\",\"zerolinecolor\":\"white\"}},\"shapedefaults\":{\"line\":{\"color\":\"#2a3f5f\"}},\"ternary\":{\"aaxis\":{\"gridcolor\":\"white\",\"linecolor\":\"white\",\"ticks\":\"\"},\"baxis\":{\"gridcolor\":\"white\",\"linecolor\":\"white\",\"ticks\":\"\"},\"bgcolor\":\"#E5ECF6\",\"caxis\":{\"gridcolor\":\"white\",\"linecolor\":\"white\",\"ticks\":\"\"}},\"title\":{\"x\":0.05},\"xaxis\":{\"automargin\":true,\"gridcolor\":\"white\",\"linecolor\":\"white\",\"ticks\":\"\",\"title\":{\"standoff\":15},\"zerolinecolor\":\"white\",\"zerolinewidth\":2},\"yaxis\":{\"automargin\":true,\"gridcolor\":\"white\",\"linecolor\":\"white\",\"ticks\":\"\",\"title\":{\"standoff\":15},\"zerolinecolor\":\"white\",\"zerolinewidth\":2}}},\"xaxis\":{\"anchor\":\"y\",\"domain\":[0.0,1.0],\"title\":{\"text\":\"\\u0420\\u0430\\u0439\\u043e\\u043d\"},\"tickangle\":45},\"yaxis\":{\"anchor\":\"x\",\"domain\":[0.0,1.0],\"title\":{\"text\":\"\\u0427\\u0438\\u0441\\u043b\\u043e \\u0437\\u0430\\u0432\\u0435\\u0434\\u0435\\u043d\\u0438\\u0439, \\u0435\\u0434.\"},\"range\":[0,30]},\"legend\":{\"tracegroupgap\":0},\"title\":{\"text\":\"\\u0422\\u043e\\u043f-10 \\u0440\\u0430\\u0439\\u043e\\u043d\\u043e\\u0432 \\u0441 \\u0443\\u043b\\u0438\\u0446\\u0430\\u043c\\u0438 \\u0441 \\u043e\\u0434\\u043d\\u0438\\u043c \\u0437\\u0430\\u0432\\u0435\\u0434\\u0435\\u043d\\u0438\\u0435\\u043c\"},\"barmode\":\"relative\"},                        {\"responsive\": true}                    ).then(function(){\n",
              "                            \n",
              "var gd = document.getElementById('5fcc3341-c7bf-4a21-b795-ca8a00d43f98');\n",
              "var x = new MutationObserver(function (mutations, observer) {{\n",
              "        var display = window.getComputedStyle(gd).display;\n",
              "        if (!display || display === 'none') {{\n",
              "            console.log([gd, 'removed!']);\n",
              "            Plotly.purge(gd);\n",
              "            observer.disconnect();\n",
              "        }}\n",
              "}});\n",
              "\n",
              "// Listen for the removal of the full notebook cells\n",
              "var notebookContainer = gd.closest('#notebook-container');\n",
              "if (notebookContainer) {{\n",
              "    x.observe(notebookContainer, {childList: true});\n",
              "}}\n",
              "\n",
              "// Listen for the clearing of the current output cell\n",
              "var outputEl = gd.closest('.output');\n",
              "if (outputEl) {{\n",
              "    x.observe(outputEl, {childList: true});\n",
              "}}\n",
              "\n",
              "                        })                };                            </script>        </div>\n",
              "</body>\n",
              "</html>"
            ]
          },
          "metadata": {}
        }
      ],
      "source": [
        "# Визуализируем эти данные\n",
        "area_top_10_fig = px.bar(\n",
        "    area_top_10, x='area', \n",
        "    y='count', \n",
        "    title='Топ-10 районов с улицами с одним заведением', \n",
        "    text='count',\n",
        "    labels={'count':'Число заведений, ед.', 'area':'Район'}\n",
        ")\n",
        "area_top_10_fig.update_yaxes(range=[0, 30])\n",
        "area_top_10_fig.update_traces(textposition=\"outside\")\n",
        "area_top_10_fig.update_xaxes(tickangle=45)\n",
        "area_top_10_fig.show() "
      ]
    },
    {
      "cell_type": "markdown",
      "metadata": {
        "id": "nJY2YeEO-vg9"
      },
      "source": [
        "**Вывод** Самое большое число улиц с одним заведеним в Таганском, Басманном районах и Хамовниках - возможно это короткие улицы"
      ]
    },
    {
      "cell_type": "code",
      "execution_count": null,
      "metadata": {
        "id": "LUGoLtA9-vg9",
        "outputId": "d5661c9a-087d-4181-e38a-d26c876010db",
        "colab": {
          "base_uri": "https://localhost:8080/"
        }
      },
      "outputs": [
        {
          "output_type": "display_data",
          "data": {
            "text/plain": [
              "                       street  area_count\n",
              "409             Хавская улица           3\n",
              "282            Нарвская улица           3\n",
              "39        11-я Парковая улица           3\n",
              "323             Полевая улица           3\n",
              "484        улица Достоевского           3\n",
              "113  8-я улица Соколиной Горы           2\n",
              "310          Перовский проезд           2\n",
              "521      улица Павла Андреева           2\n",
              "129          Балтийская улица           2\n",
              "249      Малая Тульская улица           2"
            ],
            "text/html": [
              "\n",
              "  <div id=\"df-9a4e0cd7-46b6-4c57-9542-52387f5ed899\">\n",
              "    <div class=\"colab-df-container\">\n",
              "      <div>\n",
              "<style scoped>\n",
              "    .dataframe tbody tr th:only-of-type {\n",
              "        vertical-align: middle;\n",
              "    }\n",
              "\n",
              "    .dataframe tbody tr th {\n",
              "        vertical-align: top;\n",
              "    }\n",
              "\n",
              "    .dataframe thead th {\n",
              "        text-align: right;\n",
              "    }\n",
              "</style>\n",
              "<table border=\"1\" class=\"dataframe\">\n",
              "  <thead>\n",
              "    <tr style=\"text-align: right;\">\n",
              "      <th></th>\n",
              "      <th>street</th>\n",
              "      <th>area_count</th>\n",
              "    </tr>\n",
              "  </thead>\n",
              "  <tbody>\n",
              "    <tr>\n",
              "      <th>409</th>\n",
              "      <td>Хавская улица</td>\n",
              "      <td>3</td>\n",
              "    </tr>\n",
              "    <tr>\n",
              "      <th>282</th>\n",
              "      <td>Нарвская улица</td>\n",
              "      <td>3</td>\n",
              "    </tr>\n",
              "    <tr>\n",
              "      <th>39</th>\n",
              "      <td>11-я Парковая улица</td>\n",
              "      <td>3</td>\n",
              "    </tr>\n",
              "    <tr>\n",
              "      <th>323</th>\n",
              "      <td>Полевая улица</td>\n",
              "      <td>3</td>\n",
              "    </tr>\n",
              "    <tr>\n",
              "      <th>484</th>\n",
              "      <td>улица Достоевского</td>\n",
              "      <td>3</td>\n",
              "    </tr>\n",
              "    <tr>\n",
              "      <th>113</th>\n",
              "      <td>8-я улица Соколиной Горы</td>\n",
              "      <td>2</td>\n",
              "    </tr>\n",
              "    <tr>\n",
              "      <th>310</th>\n",
              "      <td>Перовский проезд</td>\n",
              "      <td>2</td>\n",
              "    </tr>\n",
              "    <tr>\n",
              "      <th>521</th>\n",
              "      <td>улица Павла Андреева</td>\n",
              "      <td>2</td>\n",
              "    </tr>\n",
              "    <tr>\n",
              "      <th>129</th>\n",
              "      <td>Балтийская улица</td>\n",
              "      <td>2</td>\n",
              "    </tr>\n",
              "    <tr>\n",
              "      <th>249</th>\n",
              "      <td>Малая Тульская улица</td>\n",
              "      <td>2</td>\n",
              "    </tr>\n",
              "  </tbody>\n",
              "</table>\n",
              "</div>\n",
              "      <button class=\"colab-df-convert\" onclick=\"convertToInteractive('df-9a4e0cd7-46b6-4c57-9542-52387f5ed899')\"\n",
              "              title=\"Convert this dataframe to an interactive table.\"\n",
              "              style=\"display:none;\">\n",
              "        \n",
              "  <svg xmlns=\"http://www.w3.org/2000/svg\" height=\"24px\"viewBox=\"0 0 24 24\"\n",
              "       width=\"24px\">\n",
              "    <path d=\"M0 0h24v24H0V0z\" fill=\"none\"/>\n",
              "    <path d=\"M18.56 5.44l.94 2.06.94-2.06 2.06-.94-2.06-.94-.94-2.06-.94 2.06-2.06.94zm-11 1L8.5 8.5l.94-2.06 2.06-.94-2.06-.94L8.5 2.5l-.94 2.06-2.06.94zm10 10l.94 2.06.94-2.06 2.06-.94-2.06-.94-.94-2.06-.94 2.06-2.06.94z\"/><path d=\"M17.41 7.96l-1.37-1.37c-.4-.4-.92-.59-1.43-.59-.52 0-1.04.2-1.43.59L10.3 9.45l-7.72 7.72c-.78.78-.78 2.05 0 2.83L4 21.41c.39.39.9.59 1.41.59.51 0 1.02-.2 1.41-.59l7.78-7.78 2.81-2.81c.8-.78.8-2.07 0-2.86zM5.41 20L4 18.59l7.72-7.72 1.47 1.35L5.41 20z\"/>\n",
              "  </svg>\n",
              "      </button>\n",
              "      \n",
              "  <style>\n",
              "    .colab-df-container {\n",
              "      display:flex;\n",
              "      flex-wrap:wrap;\n",
              "      gap: 12px;\n",
              "    }\n",
              "\n",
              "    .colab-df-convert {\n",
              "      background-color: #E8F0FE;\n",
              "      border: none;\n",
              "      border-radius: 50%;\n",
              "      cursor: pointer;\n",
              "      display: none;\n",
              "      fill: #1967D2;\n",
              "      height: 32px;\n",
              "      padding: 0 0 0 0;\n",
              "      width: 32px;\n",
              "    }\n",
              "\n",
              "    .colab-df-convert:hover {\n",
              "      background-color: #E2EBFA;\n",
              "      box-shadow: 0px 1px 2px rgba(60, 64, 67, 0.3), 0px 1px 3px 1px rgba(60, 64, 67, 0.15);\n",
              "      fill: #174EA6;\n",
              "    }\n",
              "\n",
              "    [theme=dark] .colab-df-convert {\n",
              "      background-color: #3B4455;\n",
              "      fill: #D2E3FC;\n",
              "    }\n",
              "\n",
              "    [theme=dark] .colab-df-convert:hover {\n",
              "      background-color: #434B5C;\n",
              "      box-shadow: 0px 1px 3px 1px rgba(0, 0, 0, 0.15);\n",
              "      filter: drop-shadow(0px 1px 2px rgba(0, 0, 0, 0.3));\n",
              "      fill: #FFFFFF;\n",
              "    }\n",
              "  </style>\n",
              "\n",
              "      <script>\n",
              "        const buttonEl =\n",
              "          document.querySelector('#df-9a4e0cd7-46b6-4c57-9542-52387f5ed899 button.colab-df-convert');\n",
              "        buttonEl.style.display =\n",
              "          google.colab.kernel.accessAllowed ? 'block' : 'none';\n",
              "\n",
              "        async function convertToInteractive(key) {\n",
              "          const element = document.querySelector('#df-9a4e0cd7-46b6-4c57-9542-52387f5ed899');\n",
              "          const dataTable =\n",
              "            await google.colab.kernel.invokeFunction('convertToInteractive',\n",
              "                                                     [key], {});\n",
              "          if (!dataTable) return;\n",
              "\n",
              "          const docLinkHtml = 'Like what you see? Visit the ' +\n",
              "            '<a target=\"_blank\" href=https://colab.research.google.com/notebooks/data_table.ipynb>data table notebook</a>'\n",
              "            + ' to learn more about interactive tables.';\n",
              "          element.innerHTML = '';\n",
              "          dataTable['output_type'] = 'display_data';\n",
              "          await google.colab.output.renderOutput(dataTable, element);\n",
              "          const docLink = document.createElement('div');\n",
              "          docLink.innerHTML = docLinkHtml;\n",
              "          element.appendChild(docLink);\n",
              "        }\n",
              "      </script>\n",
              "    </div>\n",
              "  </div>\n",
              "  "
            ]
          },
          "metadata": {}
        }
      ],
      "source": [
        "# Посмотрим на \"протяжённость\" улиц с одним заведеним\n",
        "area_top_10=(single_street.reset_index()\n",
        "            .groupby('street')['area'].count().reset_index()\n",
        "            .sort_values(by='area', ascending=False)\n",
        "            .rename(columns=({'area':'area_count'})).head(10)\n",
        "      \n",
        "     )\n",
        "     \n",
        "display(area_top_10)"
      ]
    },
    {
      "cell_type": "code",
      "execution_count": null,
      "metadata": {
        "id": "2bU6GQz_-vg9",
        "outputId": "e73081b9-53ff-4f2b-8e5f-09b10ee2aee9",
        "colab": {
          "base_uri": "https://localhost:8080/"
        }
      },
      "outputs": [
        {
          "output_type": "display_data",
          "data": {
            "text/plain": [
              "                                                               area_count\n",
              "street                   okrug      area                                 \n",
              "11-я Парковая улица      ВАО        Район Восточное Измайлово           3\n",
              "Полевая улица            ЮЗАО       Район Южное Бутово                  3\n",
              "11-я Парковая улица      ВАО        Район Северное Измайлово            3\n",
              "улица Достоевского       ЦАО        Тверской район                      3\n",
              "                                    Мещанский район                     3\n",
              "                         СВАО       Район Марьина роща                  3\n",
              "Хавская улица            ЮАО        Донской район                       3\n",
              "                                    Даниловский район                   3\n",
              "Нарвская улица           САО        Войковский Район                    3\n",
              "                                    Головинский район                   3\n",
              "                                    Район Коптево                       3\n",
              "11-я Парковая улица      ВАО        Район Измайлово                     3\n",
              "Хавская улица            ЦАО        Район Якиманка                      3\n",
              "Полевая улица            ЗАО        Район Внуково                       3\n",
              "                         Зеленоград Район Крюково                       3\n",
              "улица Павла Андреева     ЦАО        Район Замоскворечье                 2\n",
              "Перовский проезд         ЮВАО       Нижегородский район                 2\n",
              "                                    Район Лефортово                     2\n",
              "Малая Тульская улица     ЮАО        Донской район                       2\n",
              "                                    Даниловский район                   2\n",
              "Балтийская улица         САО        Район Сокол                         2\n",
              "                                    Район Аэропорт                      2\n",
              "8-я улица Соколиной Горы ВАО        Район Соколиная Гора                2\n",
              "                                    Район Измайлово                     2\n",
              "улица Павла Андреева     ЮАО        Даниловский район                   2"
            ],
            "text/html": [
              "\n",
              "  <div id=\"df-f86296b0-34aa-4b75-9662-e237de4d222e\">\n",
              "    <div class=\"colab-df-container\">\n",
              "      <div>\n",
              "<style scoped>\n",
              "    .dataframe tbody tr th:only-of-type {\n",
              "        vertical-align: middle;\n",
              "    }\n",
              "\n",
              "    .dataframe tbody tr th {\n",
              "        vertical-align: top;\n",
              "    }\n",
              "\n",
              "    .dataframe thead th {\n",
              "        text-align: right;\n",
              "    }\n",
              "</style>\n",
              "<table border=\"1\" class=\"dataframe\">\n",
              "  <thead>\n",
              "    <tr style=\"text-align: right;\">\n",
              "      <th></th>\n",
              "      <th></th>\n",
              "      <th></th>\n",
              "      <th>area_count</th>\n",
              "    </tr>\n",
              "    <tr>\n",
              "      <th>street</th>\n",
              "      <th>okrug</th>\n",
              "      <th>area</th>\n",
              "      <th></th>\n",
              "    </tr>\n",
              "  </thead>\n",
              "  <tbody>\n",
              "    <tr>\n",
              "      <th>11-я Парковая улица</th>\n",
              "      <th>ВАО</th>\n",
              "      <th>Район Восточное Измайлово</th>\n",
              "      <td>3</td>\n",
              "    </tr>\n",
              "    <tr>\n",
              "      <th>Полевая улица</th>\n",
              "      <th>ЮЗАО</th>\n",
              "      <th>Район Южное Бутово</th>\n",
              "      <td>3</td>\n",
              "    </tr>\n",
              "    <tr>\n",
              "      <th>11-я Парковая улица</th>\n",
              "      <th>ВАО</th>\n",
              "      <th>Район Северное Измайлово</th>\n",
              "      <td>3</td>\n",
              "    </tr>\n",
              "    <tr>\n",
              "      <th rowspan=\"3\" valign=\"top\">улица Достоевского</th>\n",
              "      <th rowspan=\"2\" valign=\"top\">ЦАО</th>\n",
              "      <th>Тверской район</th>\n",
              "      <td>3</td>\n",
              "    </tr>\n",
              "    <tr>\n",
              "      <th>Мещанский район</th>\n",
              "      <td>3</td>\n",
              "    </tr>\n",
              "    <tr>\n",
              "      <th>СВАО</th>\n",
              "      <th>Район Марьина роща</th>\n",
              "      <td>3</td>\n",
              "    </tr>\n",
              "    <tr>\n",
              "      <th rowspan=\"2\" valign=\"top\">Хавская улица</th>\n",
              "      <th rowspan=\"2\" valign=\"top\">ЮАО</th>\n",
              "      <th>Донской район</th>\n",
              "      <td>3</td>\n",
              "    </tr>\n",
              "    <tr>\n",
              "      <th>Даниловский район</th>\n",
              "      <td>3</td>\n",
              "    </tr>\n",
              "    <tr>\n",
              "      <th rowspan=\"3\" valign=\"top\">Нарвская улица</th>\n",
              "      <th rowspan=\"3\" valign=\"top\">САО</th>\n",
              "      <th>Войковский Район</th>\n",
              "      <td>3</td>\n",
              "    </tr>\n",
              "    <tr>\n",
              "      <th>Головинский район</th>\n",
              "      <td>3</td>\n",
              "    </tr>\n",
              "    <tr>\n",
              "      <th>Район Коптево</th>\n",
              "      <td>3</td>\n",
              "    </tr>\n",
              "    <tr>\n",
              "      <th>11-я Парковая улица</th>\n",
              "      <th>ВАО</th>\n",
              "      <th>Район Измайлово</th>\n",
              "      <td>3</td>\n",
              "    </tr>\n",
              "    <tr>\n",
              "      <th>Хавская улица</th>\n",
              "      <th>ЦАО</th>\n",
              "      <th>Район Якиманка</th>\n",
              "      <td>3</td>\n",
              "    </tr>\n",
              "    <tr>\n",
              "      <th rowspan=\"2\" valign=\"top\">Полевая улица</th>\n",
              "      <th>ЗАО</th>\n",
              "      <th>Район Внуково</th>\n",
              "      <td>3</td>\n",
              "    </tr>\n",
              "    <tr>\n",
              "      <th>Зеленоград</th>\n",
              "      <th>Район Крюково</th>\n",
              "      <td>3</td>\n",
              "    </tr>\n",
              "    <tr>\n",
              "      <th>улица Павла Андреева</th>\n",
              "      <th>ЦАО</th>\n",
              "      <th>Район Замоскворечье</th>\n",
              "      <td>2</td>\n",
              "    </tr>\n",
              "    <tr>\n",
              "      <th rowspan=\"2\" valign=\"top\">Перовский проезд</th>\n",
              "      <th rowspan=\"2\" valign=\"top\">ЮВАО</th>\n",
              "      <th>Нижегородский район</th>\n",
              "      <td>2</td>\n",
              "    </tr>\n",
              "    <tr>\n",
              "      <th>Район Лефортово</th>\n",
              "      <td>2</td>\n",
              "    </tr>\n",
              "    <tr>\n",
              "      <th rowspan=\"2\" valign=\"top\">Малая Тульская улица</th>\n",
              "      <th rowspan=\"2\" valign=\"top\">ЮАО</th>\n",
              "      <th>Донской район</th>\n",
              "      <td>2</td>\n",
              "    </tr>\n",
              "    <tr>\n",
              "      <th>Даниловский район</th>\n",
              "      <td>2</td>\n",
              "    </tr>\n",
              "    <tr>\n",
              "      <th rowspan=\"2\" valign=\"top\">Балтийская улица</th>\n",
              "      <th rowspan=\"2\" valign=\"top\">САО</th>\n",
              "      <th>Район Сокол</th>\n",
              "      <td>2</td>\n",
              "    </tr>\n",
              "    <tr>\n",
              "      <th>Район Аэропорт</th>\n",
              "      <td>2</td>\n",
              "    </tr>\n",
              "    <tr>\n",
              "      <th rowspan=\"2\" valign=\"top\">8-я улица Соколиной Горы</th>\n",
              "      <th rowspan=\"2\" valign=\"top\">ВАО</th>\n",
              "      <th>Район Соколиная Гора</th>\n",
              "      <td>2</td>\n",
              "    </tr>\n",
              "    <tr>\n",
              "      <th>Район Измайлово</th>\n",
              "      <td>2</td>\n",
              "    </tr>\n",
              "    <tr>\n",
              "      <th>улица Павла Андреева</th>\n",
              "      <th>ЮАО</th>\n",
              "      <th>Даниловский район</th>\n",
              "      <td>2</td>\n",
              "    </tr>\n",
              "  </tbody>\n",
              "</table>\n",
              "</div>\n",
              "      <button class=\"colab-df-convert\" onclick=\"convertToInteractive('df-f86296b0-34aa-4b75-9662-e237de4d222e')\"\n",
              "              title=\"Convert this dataframe to an interactive table.\"\n",
              "              style=\"display:none;\">\n",
              "        \n",
              "  <svg xmlns=\"http://www.w3.org/2000/svg\" height=\"24px\"viewBox=\"0 0 24 24\"\n",
              "       width=\"24px\">\n",
              "    <path d=\"M0 0h24v24H0V0z\" fill=\"none\"/>\n",
              "    <path d=\"M18.56 5.44l.94 2.06.94-2.06 2.06-.94-2.06-.94-.94-2.06-.94 2.06-2.06.94zm-11 1L8.5 8.5l.94-2.06 2.06-.94-2.06-.94L8.5 2.5l-.94 2.06-2.06.94zm10 10l.94 2.06.94-2.06 2.06-.94-2.06-.94-.94-2.06-.94 2.06-2.06.94z\"/><path d=\"M17.41 7.96l-1.37-1.37c-.4-.4-.92-.59-1.43-.59-.52 0-1.04.2-1.43.59L10.3 9.45l-7.72 7.72c-.78.78-.78 2.05 0 2.83L4 21.41c.39.39.9.59 1.41.59.51 0 1.02-.2 1.41-.59l7.78-7.78 2.81-2.81c.8-.78.8-2.07 0-2.86zM5.41 20L4 18.59l7.72-7.72 1.47 1.35L5.41 20z\"/>\n",
              "  </svg>\n",
              "      </button>\n",
              "      \n",
              "  <style>\n",
              "    .colab-df-container {\n",
              "      display:flex;\n",
              "      flex-wrap:wrap;\n",
              "      gap: 12px;\n",
              "    }\n",
              "\n",
              "    .colab-df-convert {\n",
              "      background-color: #E8F0FE;\n",
              "      border: none;\n",
              "      border-radius: 50%;\n",
              "      cursor: pointer;\n",
              "      display: none;\n",
              "      fill: #1967D2;\n",
              "      height: 32px;\n",
              "      padding: 0 0 0 0;\n",
              "      width: 32px;\n",
              "    }\n",
              "\n",
              "    .colab-df-convert:hover {\n",
              "      background-color: #E2EBFA;\n",
              "      box-shadow: 0px 1px 2px rgba(60, 64, 67, 0.3), 0px 1px 3px 1px rgba(60, 64, 67, 0.15);\n",
              "      fill: #174EA6;\n",
              "    }\n",
              "\n",
              "    [theme=dark] .colab-df-convert {\n",
              "      background-color: #3B4455;\n",
              "      fill: #D2E3FC;\n",
              "    }\n",
              "\n",
              "    [theme=dark] .colab-df-convert:hover {\n",
              "      background-color: #434B5C;\n",
              "      box-shadow: 0px 1px 3px 1px rgba(0, 0, 0, 0.15);\n",
              "      filter: drop-shadow(0px 1px 2px rgba(0, 0, 0, 0.3));\n",
              "      fill: #FFFFFF;\n",
              "    }\n",
              "  </style>\n",
              "\n",
              "      <script>\n",
              "        const buttonEl =\n",
              "          document.querySelector('#df-f86296b0-34aa-4b75-9662-e237de4d222e button.colab-df-convert');\n",
              "        buttonEl.style.display =\n",
              "          google.colab.kernel.accessAllowed ? 'block' : 'none';\n",
              "\n",
              "        async function convertToInteractive(key) {\n",
              "          const element = document.querySelector('#df-f86296b0-34aa-4b75-9662-e237de4d222e');\n",
              "          const dataTable =\n",
              "            await google.colab.kernel.invokeFunction('convertToInteractive',\n",
              "                                                     [key], {});\n",
              "          if (!dataTable) return;\n",
              "\n",
              "          const docLinkHtml = 'Like what you see? Visit the ' +\n",
              "            '<a target=\"_blank\" href=https://colab.research.google.com/notebooks/data_table.ipynb>data table notebook</a>'\n",
              "            + ' to learn more about interactive tables.';\n",
              "          element.innerHTML = '';\n",
              "          dataTable['output_type'] = 'display_data';\n",
              "          await google.colab.output.renderOutput(dataTable, element);\n",
              "          const docLink = document.createElement('div');\n",
              "          docLink.innerHTML = docLinkHtml;\n",
              "          element.appendChild(docLink);\n",
              "        }\n",
              "      </script>\n",
              "    </div>\n",
              "  </div>\n",
              "  "
            ]
          },
          "metadata": {}
        }
      ],
      "source": [
        "# Одна и таже улица попадает в разные районы и даже округа - посмотрим в какие\n",
        "area_top_10_pivot = area_top_10.merge(moscow_streets, on='street', how='left')\n",
        "area_top_10_pivot = area_top_10_pivot.pivot_table(index=['street', 'okrug', 'area'], \n",
        "                  values='area_count', \n",
        "                  aggfunc='max').sort_values(by='area_count', ascending=False)#.reset_index()\n",
        "display(area_top_10_pivot)"
      ]
    },
    {
      "cell_type": "markdown",
      "metadata": {
        "id": "zeYU66xZ-vg9"
      },
      "source": [
        "**Выводы**   \n",
        "1. Среди самых \"протяжённых\" улиц с одним заведением только Большой Полуярославский переулок проходит по Таганскому и Басманному районам - видимо остальные улицы в них не выходят за пределы районов.   \n",
        "1. Многие улицы с лдним завдением расположены в отдалённых рафонах Москвы - Внкуово, Измайлово, Бутово, Марьина роща, Аэропорт\n"
      ]
    },
    {
      "cell_type": "markdown",
      "metadata": {
        "id": "s5J67ibk-vg-"
      },
      "source": [
        "---"
      ]
    },
    {
      "cell_type": "markdown",
      "metadata": {
        "id": "UoL194Me-vg-"
      },
      "source": [
        "## Вывод <a id=\"summary\"></a>  \n",
        "\n",
        "**Рекомендации:**  \n",
        "1. Тип заведения - кафе, не входящие в сети предпрятий общестенного питания.  \n",
        "1. С числом посадочных мест в пределах 40 посадочных мест.   \n",
        "1. Районы расположения - Таганский, Басманный и Хамовники. Районы расположен в Центральном административном\n",
        "округе - много офисных центров, точек притяжения (музеев, галерей и театров) обеспечивающих большой поток людей,\n",
        "хорошая транспортная доступность. В районах больше всего улиц с одним\n",
        "объектом общественного питания, что позволит при меньшей конкуренции\n",
        "претендовать на хорошие (проходимые) места для аренды и хорошую посещаемость.  \n",
        "  \n",
        "1. Возможности развития сети:   \n",
        "*  развитие доставки - но только роботами-курьерами Яндекса, чтобы сохранить тематику.\n",
        "* экспансия в другие районы Москвы, другие города милионники (прежде всего - Санкт-Петербург, Екатеринбург, Казань, Краснодар - где покупательская способность населения выше), города-курорты - Сочи, Калиниградскую область (гости кафе - туристы).   \n",
        "* реализация франшизы. \n",
        "*  возможно размещение в торгово-развлекательных центрах - притяжения большого количество людей с детьми, для которых робото-кафе это аттракцион.\n",
        "\n",
        "NB! В Перми уже есть такое кафе от местного производителя роботов Promobot https://promo-bot.ru/news/v-rossii-sozdali-pervoe-kiber-kafe-s-vneshnostyu-supermodeli/"
      ]
    },
    {
      "cell_type": "code",
      "execution_count": null,
      "metadata": {
        "id": "u8cCgF6p-vg-",
        "outputId": "467da09f-7b70-4c10-af38-14292f83ca32",
        "colab": {
          "base_uri": "https://localhost:8080/",
          "height": 288
        }
      },
      "outputs": [
        {
          "output_type": "display_data",
          "data": {
            "text/plain": [
              "<IPython.core.display.Image object>"
            ],
            "text/html": [
              "<img src=\"https://promo-bot.ru/wp-content/uploads/2022/04/photo_2022-04-20_13-25-55-1.jpg\" width=\"400\"/>"
            ]
          },
          "metadata": {}
        }
      ],
      "source": [
        "# Пермское кафе с роботом Дуняшей\n",
        "from IPython.display import Image\n",
        "display(Image(url='https://promo-bot.ru/wp-content/uploads/2022/04/photo_2022-04-20_13-25-55-1.jpg', width = 400))"
      ]
    },
    {
      "cell_type": "markdown",
      "metadata": {
        "id": "KNgPRC90-vg-"
      },
      "source": [
        "---"
      ]
    },
    {
      "cell_type": "markdown",
      "metadata": {
        "id": "5YOaCARM-vg-"
      },
      "source": [
        "## Презентация<a id=\"presentation\"></a>  "
      ]
    },
    {
      "cell_type": "markdown",
      "metadata": {
        "id": "DF49WRlo-vg_"
      },
      "source": [
        "Ссылка на презентацию: https://drive.google.com/file/d/1PRw9nHmMBlI-Z6_61Z-kTW8v4G8wg3-7/view?usp=sharing "
      ]
    }
  ],
  "metadata": {
    "ExecuteTimeLog": [
      {
        "duration": 562,
        "start_time": "2022-06-06T15:17:30.946Z"
      },
      {
        "duration": 73,
        "start_time": "2022-06-06T15:18:11.676Z"
      },
      {
        "duration": 25,
        "start_time": "2022-06-06T15:18:19.991Z"
      },
      {
        "duration": 720,
        "start_time": "2022-06-06T15:18:42.975Z"
      },
      {
        "duration": 94,
        "start_time": "2022-06-06T15:19:00.376Z"
      },
      {
        "duration": 19,
        "start_time": "2022-06-06T15:19:19.202Z"
      },
      {
        "duration": 81,
        "start_time": "2022-06-06T15:25:45.839Z"
      },
      {
        "duration": 19,
        "start_time": "2022-06-06T15:26:32.059Z"
      },
      {
        "duration": 22,
        "start_time": "2022-06-06T15:30:33.501Z"
      },
      {
        "duration": 29,
        "start_time": "2022-06-06T15:30:48.064Z"
      },
      {
        "duration": 26,
        "start_time": "2022-06-06T15:32:21.922Z"
      },
      {
        "duration": 12,
        "start_time": "2022-06-06T15:32:31.857Z"
      },
      {
        "duration": 449,
        "start_time": "2022-06-06T15:32:40.875Z"
      },
      {
        "duration": 19,
        "start_time": "2022-06-06T15:32:45.291Z"
      },
      {
        "duration": 11,
        "start_time": "2022-06-06T15:33:08.582Z"
      },
      {
        "duration": 16,
        "start_time": "2022-06-06T15:34:11.863Z"
      },
      {
        "duration": 17,
        "start_time": "2022-06-06T15:34:20.247Z"
      },
      {
        "duration": 9,
        "start_time": "2022-06-06T15:34:37.016Z"
      },
      {
        "duration": 8,
        "start_time": "2022-06-06T15:34:40.853Z"
      },
      {
        "duration": 8,
        "start_time": "2022-06-06T15:34:58.081Z"
      },
      {
        "duration": 7,
        "start_time": "2022-06-06T15:35:02.617Z"
      },
      {
        "duration": 13,
        "start_time": "2022-06-06T15:35:20.650Z"
      },
      {
        "duration": 17,
        "start_time": "2022-06-06T15:35:26.754Z"
      },
      {
        "duration": 33,
        "start_time": "2022-06-06T15:35:42.611Z"
      },
      {
        "duration": 7,
        "start_time": "2022-06-06T15:36:13.395Z"
      },
      {
        "duration": 1531,
        "start_time": "2022-06-06T15:57:22.073Z"
      },
      {
        "duration": 92,
        "start_time": "2022-06-06T15:57:23.607Z"
      },
      {
        "duration": 16,
        "start_time": "2022-06-06T15:57:23.701Z"
      },
      {
        "duration": 56,
        "start_time": "2022-06-06T15:57:23.718Z"
      },
      {
        "duration": 13,
        "start_time": "2022-06-06T15:57:23.776Z"
      },
      {
        "duration": 21,
        "start_time": "2022-06-06T15:57:23.790Z"
      },
      {
        "duration": 23,
        "start_time": "2022-06-06T15:57:23.812Z"
      },
      {
        "duration": 20,
        "start_time": "2022-06-06T15:57:23.840Z"
      },
      {
        "duration": 10,
        "start_time": "2022-06-06T15:57:23.862Z"
      },
      {
        "duration": 122,
        "start_time": "2022-06-06T15:59:17.559Z"
      },
      {
        "duration": 11,
        "start_time": "2022-06-06T15:59:34.992Z"
      },
      {
        "duration": 10,
        "start_time": "2022-06-06T15:59:53.741Z"
      },
      {
        "duration": 1442,
        "start_time": "2022-06-06T16:00:05.890Z"
      },
      {
        "duration": 105,
        "start_time": "2022-06-06T16:00:07.341Z"
      },
      {
        "duration": 19,
        "start_time": "2022-06-06T16:00:07.451Z"
      },
      {
        "duration": 35,
        "start_time": "2022-06-06T16:00:07.474Z"
      },
      {
        "duration": 17,
        "start_time": "2022-06-06T16:00:07.512Z"
      },
      {
        "duration": 39,
        "start_time": "2022-06-06T16:00:07.533Z"
      },
      {
        "duration": 17,
        "start_time": "2022-06-06T16:00:07.574Z"
      },
      {
        "duration": 33,
        "start_time": "2022-06-06T16:00:07.594Z"
      },
      {
        "duration": 20,
        "start_time": "2022-06-06T16:00:07.629Z"
      },
      {
        "duration": 18,
        "start_time": "2022-06-06T16:00:07.657Z"
      },
      {
        "duration": 10,
        "start_time": "2022-06-06T16:02:02.547Z"
      },
      {
        "duration": 1368,
        "start_time": "2022-06-06T16:02:13.143Z"
      },
      {
        "duration": 95,
        "start_time": "2022-06-06T16:02:14.513Z"
      },
      {
        "duration": 23,
        "start_time": "2022-06-06T16:02:14.611Z"
      },
      {
        "duration": 41,
        "start_time": "2022-06-06T16:02:14.637Z"
      },
      {
        "duration": 22,
        "start_time": "2022-06-06T16:02:14.681Z"
      },
      {
        "duration": 20,
        "start_time": "2022-06-06T16:02:14.706Z"
      },
      {
        "duration": 24,
        "start_time": "2022-06-06T16:02:14.728Z"
      },
      {
        "duration": 15,
        "start_time": "2022-06-06T16:02:14.754Z"
      },
      {
        "duration": 8,
        "start_time": "2022-06-06T16:02:14.770Z"
      },
      {
        "duration": 14,
        "start_time": "2022-06-06T16:02:14.779Z"
      },
      {
        "duration": 11,
        "start_time": "2022-06-06T16:04:04.883Z"
      },
      {
        "duration": 10,
        "start_time": "2022-06-06T16:04:12.456Z"
      },
      {
        "duration": 8,
        "start_time": "2022-06-06T16:04:14.185Z"
      },
      {
        "duration": 10,
        "start_time": "2022-06-06T16:04:16.657Z"
      },
      {
        "duration": 10,
        "start_time": "2022-06-06T16:07:22.113Z"
      },
      {
        "duration": 152,
        "start_time": "2022-06-06T16:08:08.946Z"
      },
      {
        "duration": 15,
        "start_time": "2022-06-06T16:09:43.176Z"
      },
      {
        "duration": 39,
        "start_time": "2022-06-06T16:09:48.943Z"
      },
      {
        "duration": 33,
        "start_time": "2022-06-06T16:09:53.971Z"
      },
      {
        "duration": 9,
        "start_time": "2022-06-06T16:10:04.614Z"
      },
      {
        "duration": 7,
        "start_time": "2022-06-06T16:10:07.196Z"
      },
      {
        "duration": 18,
        "start_time": "2022-06-06T16:10:24.997Z"
      },
      {
        "duration": 32,
        "start_time": "2022-06-06T16:12:15.116Z"
      },
      {
        "duration": 16,
        "start_time": "2022-06-06T16:12:53.294Z"
      },
      {
        "duration": 17,
        "start_time": "2022-06-06T16:13:18.956Z"
      },
      {
        "duration": 15,
        "start_time": "2022-06-06T16:13:26.952Z"
      },
      {
        "duration": 22,
        "start_time": "2022-06-06T16:13:52.395Z"
      },
      {
        "duration": 5,
        "start_time": "2022-06-06T16:14:25.292Z"
      },
      {
        "duration": 31,
        "start_time": "2022-06-06T16:16:09.558Z"
      },
      {
        "duration": 7,
        "start_time": "2022-06-06T16:17:43.073Z"
      },
      {
        "duration": 11,
        "start_time": "2022-06-06T16:17:55.253Z"
      },
      {
        "duration": 21,
        "start_time": "2022-06-06T16:18:08.349Z"
      },
      {
        "duration": 480,
        "start_time": "2022-06-06T16:18:24.849Z"
      },
      {
        "duration": 58,
        "start_time": "2022-06-06T16:19:06.959Z"
      },
      {
        "duration": 23,
        "start_time": "2022-06-06T16:19:14.280Z"
      },
      {
        "duration": 17,
        "start_time": "2022-06-06T16:19:25.094Z"
      },
      {
        "duration": 18,
        "start_time": "2022-06-06T16:19:35.995Z"
      },
      {
        "duration": 17,
        "start_time": "2022-06-06T16:19:41.596Z"
      },
      {
        "duration": 26,
        "start_time": "2022-06-06T16:20:28.462Z"
      },
      {
        "duration": 16,
        "start_time": "2022-06-06T16:21:08.851Z"
      },
      {
        "duration": 19,
        "start_time": "2022-06-06T16:21:10.749Z"
      },
      {
        "duration": 18,
        "start_time": "2022-06-06T16:21:27.520Z"
      },
      {
        "duration": 18,
        "start_time": "2022-06-06T16:21:36.498Z"
      },
      {
        "duration": 17,
        "start_time": "2022-06-06T16:22:37.349Z"
      },
      {
        "duration": 21,
        "start_time": "2022-06-06T16:22:47.665Z"
      },
      {
        "duration": 28,
        "start_time": "2022-06-06T16:23:10.406Z"
      },
      {
        "duration": 43,
        "start_time": "2022-06-06T16:23:27.807Z"
      },
      {
        "duration": 1365,
        "start_time": "2022-06-06T16:24:26.224Z"
      },
      {
        "duration": 89,
        "start_time": "2022-06-06T16:24:27.591Z"
      },
      {
        "duration": 13,
        "start_time": "2022-06-06T16:24:27.682Z"
      },
      {
        "duration": 38,
        "start_time": "2022-06-06T16:24:27.697Z"
      },
      {
        "duration": 17,
        "start_time": "2022-06-06T16:24:27.738Z"
      },
      {
        "duration": 11,
        "start_time": "2022-06-06T16:24:27.757Z"
      },
      {
        "duration": 8,
        "start_time": "2022-06-06T16:24:27.769Z"
      },
      {
        "duration": 15,
        "start_time": "2022-06-06T16:24:27.779Z"
      },
      {
        "duration": 35,
        "start_time": "2022-06-06T16:24:27.796Z"
      },
      {
        "duration": 31,
        "start_time": "2022-06-06T16:24:27.833Z"
      },
      {
        "duration": 17,
        "start_time": "2022-06-06T16:24:27.866Z"
      },
      {
        "duration": 128,
        "start_time": "2022-06-06T16:24:27.885Z"
      },
      {
        "duration": 0,
        "start_time": "2022-06-06T16:24:28.015Z"
      },
      {
        "duration": 38,
        "start_time": "2022-06-06T16:24:49.335Z"
      },
      {
        "duration": 21,
        "start_time": "2022-06-06T16:25:13.883Z"
      },
      {
        "duration": 11,
        "start_time": "2022-06-06T16:25:26.060Z"
      },
      {
        "duration": 17,
        "start_time": "2022-06-06T16:25:29.172Z"
      },
      {
        "duration": 16,
        "start_time": "2022-06-06T16:25:31.203Z"
      },
      {
        "duration": 17,
        "start_time": "2022-06-06T16:25:55.250Z"
      },
      {
        "duration": 32,
        "start_time": "2022-06-06T16:26:14.727Z"
      },
      {
        "duration": 618,
        "start_time": "2022-06-06T16:26:54.574Z"
      },
      {
        "duration": 64,
        "start_time": "2022-06-06T16:27:03.536Z"
      },
      {
        "duration": 77,
        "start_time": "2022-06-06T16:27:58.592Z"
      },
      {
        "duration": 52,
        "start_time": "2022-06-06T16:28:20.158Z"
      },
      {
        "duration": 80,
        "start_time": "2022-06-06T16:28:39.712Z"
      },
      {
        "duration": 56,
        "start_time": "2022-06-06T16:29:32.937Z"
      },
      {
        "duration": 64,
        "start_time": "2022-06-06T16:30:10.531Z"
      },
      {
        "duration": 5,
        "start_time": "2022-06-06T16:31:19.645Z"
      },
      {
        "duration": 79,
        "start_time": "2022-06-06T16:31:34.502Z"
      },
      {
        "duration": 39,
        "start_time": "2022-06-06T16:31:38.021Z"
      },
      {
        "duration": 19,
        "start_time": "2022-06-06T16:32:12.464Z"
      },
      {
        "duration": 33,
        "start_time": "2022-06-06T16:39:25.621Z"
      },
      {
        "duration": 99,
        "start_time": "2022-06-06T16:39:30.034Z"
      },
      {
        "duration": 87,
        "start_time": "2022-06-06T16:39:42.334Z"
      },
      {
        "duration": 3,
        "start_time": "2022-06-06T16:41:44.777Z"
      },
      {
        "duration": 16,
        "start_time": "2022-06-06T16:42:04.946Z"
      },
      {
        "duration": 102,
        "start_time": "2022-06-06T16:42:57.597Z"
      },
      {
        "duration": 18,
        "start_time": "2022-06-06T16:43:29.647Z"
      },
      {
        "duration": 41,
        "start_time": "2022-06-06T16:43:41.798Z"
      },
      {
        "duration": 27,
        "start_time": "2022-06-06T16:44:36.280Z"
      },
      {
        "duration": 23,
        "start_time": "2022-06-06T16:46:18.903Z"
      },
      {
        "duration": 33,
        "start_time": "2022-06-06T16:46:57.772Z"
      },
      {
        "duration": 22,
        "start_time": "2022-06-06T16:47:09.423Z"
      },
      {
        "duration": 13,
        "start_time": "2022-06-06T16:47:39.184Z"
      },
      {
        "duration": 357,
        "start_time": "2022-06-06T16:48:51.214Z"
      },
      {
        "duration": 71,
        "start_time": "2022-06-06T16:50:54.906Z"
      },
      {
        "duration": 17,
        "start_time": "2022-06-06T16:51:53.709Z"
      },
      {
        "duration": 12,
        "start_time": "2022-06-06T16:52:50.670Z"
      },
      {
        "duration": 58,
        "start_time": "2022-06-06T16:53:29.179Z"
      },
      {
        "duration": 1300,
        "start_time": "2022-06-06T16:54:22.084Z"
      },
      {
        "duration": 91,
        "start_time": "2022-06-06T16:54:23.387Z"
      },
      {
        "duration": 21,
        "start_time": "2022-06-06T16:54:23.480Z"
      },
      {
        "duration": 40,
        "start_time": "2022-06-06T16:54:23.505Z"
      },
      {
        "duration": 40,
        "start_time": "2022-06-06T16:54:23.546Z"
      },
      {
        "duration": 28,
        "start_time": "2022-06-06T16:54:23.589Z"
      },
      {
        "duration": 22,
        "start_time": "2022-06-06T16:54:23.619Z"
      },
      {
        "duration": 29,
        "start_time": "2022-06-06T16:54:23.643Z"
      },
      {
        "duration": 26,
        "start_time": "2022-06-06T16:54:23.674Z"
      },
      {
        "duration": 20,
        "start_time": "2022-06-06T16:54:23.703Z"
      },
      {
        "duration": 30,
        "start_time": "2022-06-06T16:54:23.725Z"
      },
      {
        "duration": 454,
        "start_time": "2022-06-06T16:54:23.757Z"
      },
      {
        "duration": 11,
        "start_time": "2022-06-06T16:54:24.213Z"
      },
      {
        "duration": 139,
        "start_time": "2022-06-06T16:54:24.226Z"
      },
      {
        "duration": 18,
        "start_time": "2022-06-06T16:54:24.367Z"
      },
      {
        "duration": 75,
        "start_time": "2022-06-06T16:54:24.387Z"
      },
      {
        "duration": 49,
        "start_time": "2022-06-06T16:54:43.761Z"
      },
      {
        "duration": 60,
        "start_time": "2022-06-06T16:55:17.074Z"
      },
      {
        "duration": 11,
        "start_time": "2022-06-06T16:56:18.885Z"
      },
      {
        "duration": 18,
        "start_time": "2022-06-06T16:56:21.652Z"
      },
      {
        "duration": 66,
        "start_time": "2022-06-06T16:56:23.350Z"
      },
      {
        "duration": 18,
        "start_time": "2022-06-06T16:56:29.276Z"
      },
      {
        "duration": 1421,
        "start_time": "2022-06-06T16:56:42.771Z"
      },
      {
        "duration": 92,
        "start_time": "2022-06-06T16:56:44.194Z"
      },
      {
        "duration": 16,
        "start_time": "2022-06-06T16:56:44.288Z"
      },
      {
        "duration": 47,
        "start_time": "2022-06-06T16:56:44.306Z"
      },
      {
        "duration": 17,
        "start_time": "2022-06-06T16:56:44.355Z"
      },
      {
        "duration": 9,
        "start_time": "2022-06-06T16:56:44.374Z"
      },
      {
        "duration": 83,
        "start_time": "2022-06-06T16:56:44.389Z"
      },
      {
        "duration": 33,
        "start_time": "2022-06-06T16:56:44.475Z"
      },
      {
        "duration": 9,
        "start_time": "2022-06-06T16:56:44.510Z"
      },
      {
        "duration": 22,
        "start_time": "2022-06-06T16:56:44.522Z"
      },
      {
        "duration": 48,
        "start_time": "2022-06-06T16:56:44.546Z"
      },
      {
        "duration": 591,
        "start_time": "2022-06-06T16:56:44.596Z"
      },
      {
        "duration": 17,
        "start_time": "2022-06-06T16:56:45.189Z"
      },
      {
        "duration": 156,
        "start_time": "2022-06-06T16:56:45.208Z"
      },
      {
        "duration": 21,
        "start_time": "2022-06-06T16:56:45.365Z"
      },
      {
        "duration": 83,
        "start_time": "2022-06-06T16:56:45.388Z"
      },
      {
        "duration": 205,
        "start_time": "2022-06-06T16:58:00.304Z"
      },
      {
        "duration": 18,
        "start_time": "2022-06-06T16:58:11.046Z"
      },
      {
        "duration": 19,
        "start_time": "2022-06-06T17:00:26.871Z"
      },
      {
        "duration": 431,
        "start_time": "2022-06-06T17:00:40.078Z"
      },
      {
        "duration": 64,
        "start_time": "2022-06-06T17:01:09.480Z"
      },
      {
        "duration": 65,
        "start_time": "2022-06-06T17:02:15.753Z"
      },
      {
        "duration": 59,
        "start_time": "2022-06-06T17:02:39.160Z"
      },
      {
        "duration": 31,
        "start_time": "2022-06-06T17:03:16.069Z"
      },
      {
        "duration": 40,
        "start_time": "2022-06-06T17:03:26.821Z"
      },
      {
        "duration": 25,
        "start_time": "2022-06-06T17:03:41.455Z"
      },
      {
        "duration": 62,
        "start_time": "2022-06-06T17:03:59.016Z"
      },
      {
        "duration": 71,
        "start_time": "2022-06-06T17:04:11.522Z"
      },
      {
        "duration": 72,
        "start_time": "2022-06-06T17:04:29.978Z"
      },
      {
        "duration": 65,
        "start_time": "2022-06-06T17:04:44.546Z"
      },
      {
        "duration": 54,
        "start_time": "2022-06-06T17:04:54.730Z"
      },
      {
        "duration": 14,
        "start_time": "2022-06-06T17:05:26.020Z"
      },
      {
        "duration": 21,
        "start_time": "2022-06-06T17:05:45.581Z"
      },
      {
        "duration": 4,
        "start_time": "2022-06-06T17:06:38.677Z"
      },
      {
        "duration": 20,
        "start_time": "2022-06-06T17:06:53.980Z"
      },
      {
        "duration": 95,
        "start_time": "2022-06-06T17:07:58.948Z"
      },
      {
        "duration": 226,
        "start_time": "2022-06-06T17:10:15.485Z"
      },
      {
        "duration": 24,
        "start_time": "2022-06-06T17:12:00.764Z"
      },
      {
        "duration": 6,
        "start_time": "2022-06-06T17:12:44.458Z"
      },
      {
        "duration": 61,
        "start_time": "2022-06-06T17:20:36.563Z"
      },
      {
        "duration": 22,
        "start_time": "2022-06-06T17:22:19.362Z"
      },
      {
        "duration": 40,
        "start_time": "2022-06-06T17:23:24.998Z"
      },
      {
        "duration": 30,
        "start_time": "2022-06-06T17:24:55.796Z"
      },
      {
        "duration": 1768,
        "start_time": "2022-06-06T17:25:28.138Z"
      },
      {
        "duration": 245,
        "start_time": "2022-06-06T17:28:09.942Z"
      },
      {
        "duration": 595,
        "start_time": "2022-06-06T17:28:21.858Z"
      },
      {
        "duration": 1367,
        "start_time": "2022-06-06T17:30:50.450Z"
      },
      {
        "duration": 79,
        "start_time": "2022-06-06T17:30:51.819Z"
      },
      {
        "duration": 16,
        "start_time": "2022-06-06T17:30:51.900Z"
      },
      {
        "duration": 28,
        "start_time": "2022-06-06T17:30:51.918Z"
      },
      {
        "duration": 11,
        "start_time": "2022-06-06T17:30:51.948Z"
      },
      {
        "duration": 14,
        "start_time": "2022-06-06T17:30:51.962Z"
      },
      {
        "duration": 19,
        "start_time": "2022-06-06T17:30:51.978Z"
      },
      {
        "duration": 30,
        "start_time": "2022-06-06T17:30:51.999Z"
      },
      {
        "duration": 6,
        "start_time": "2022-06-06T17:30:52.031Z"
      },
      {
        "duration": 10,
        "start_time": "2022-06-06T17:30:52.040Z"
      },
      {
        "duration": 20,
        "start_time": "2022-06-06T17:30:52.052Z"
      },
      {
        "duration": 508,
        "start_time": "2022-06-06T17:30:52.074Z"
      },
      {
        "duration": 11,
        "start_time": "2022-06-06T17:30:52.584Z"
      },
      {
        "duration": 129,
        "start_time": "2022-06-06T17:30:52.597Z"
      },
      {
        "duration": 17,
        "start_time": "2022-06-06T17:30:52.728Z"
      },
      {
        "duration": 148,
        "start_time": "2022-06-06T17:30:52.747Z"
      },
      {
        "duration": 56,
        "start_time": "2022-06-06T17:30:52.897Z"
      },
      {
        "duration": 616,
        "start_time": "2022-06-06T17:30:52.956Z"
      },
      {
        "duration": 0,
        "start_time": "2022-06-06T17:30:53.574Z"
      },
      {
        "duration": 1453,
        "start_time": "2022-06-07T03:58:35.759Z"
      },
      {
        "duration": 239,
        "start_time": "2022-06-07T03:58:37.215Z"
      },
      {
        "duration": 15,
        "start_time": "2022-06-07T03:58:37.455Z"
      },
      {
        "duration": 20,
        "start_time": "2022-06-07T03:58:37.472Z"
      },
      {
        "duration": 12,
        "start_time": "2022-06-07T03:58:37.494Z"
      },
      {
        "duration": 10,
        "start_time": "2022-06-07T03:58:37.507Z"
      },
      {
        "duration": 11,
        "start_time": "2022-06-07T03:58:37.518Z"
      },
      {
        "duration": 36,
        "start_time": "2022-06-07T03:58:37.531Z"
      },
      {
        "duration": 9,
        "start_time": "2022-06-07T03:58:37.569Z"
      },
      {
        "duration": 19,
        "start_time": "2022-06-07T03:58:37.581Z"
      },
      {
        "duration": 28,
        "start_time": "2022-06-07T03:58:37.602Z"
      },
      {
        "duration": 464,
        "start_time": "2022-06-07T03:58:37.632Z"
      },
      {
        "duration": 10,
        "start_time": "2022-06-07T03:58:38.098Z"
      },
      {
        "duration": 71,
        "start_time": "2022-06-07T03:58:38.109Z"
      },
      {
        "duration": 14,
        "start_time": "2022-06-07T03:58:38.181Z"
      },
      {
        "duration": 117,
        "start_time": "2022-06-07T03:58:38.197Z"
      },
      {
        "duration": 51,
        "start_time": "2022-06-07T03:58:38.315Z"
      },
      {
        "duration": 2270,
        "start_time": "2022-06-07T03:58:38.367Z"
      },
      {
        "duration": 0,
        "start_time": "2022-06-07T03:58:40.639Z"
      },
      {
        "duration": 29,
        "start_time": "2022-06-07T04:00:25.780Z"
      },
      {
        "duration": 26,
        "start_time": "2022-06-07T04:00:32.876Z"
      },
      {
        "duration": 20,
        "start_time": "2022-06-07T04:00:41.699Z"
      },
      {
        "duration": 19,
        "start_time": "2022-06-07T04:07:54.424Z"
      },
      {
        "duration": 23,
        "start_time": "2022-06-07T04:08:03.249Z"
      },
      {
        "duration": 29,
        "start_time": "2022-06-07T04:08:16.167Z"
      },
      {
        "duration": 137,
        "start_time": "2022-06-07T04:09:22.257Z"
      },
      {
        "duration": 30,
        "start_time": "2022-06-07T04:09:37.681Z"
      },
      {
        "duration": 20,
        "start_time": "2022-06-07T04:09:43.226Z"
      },
      {
        "duration": 24,
        "start_time": "2022-06-07T04:10:23.719Z"
      },
      {
        "duration": 22,
        "start_time": "2022-06-07T04:10:43.880Z"
      },
      {
        "duration": 34,
        "start_time": "2022-06-07T04:12:11.769Z"
      },
      {
        "duration": 15534,
        "start_time": "2022-06-07T04:12:22.802Z"
      },
      {
        "duration": 416,
        "start_time": "2022-06-07T04:17:47.333Z"
      },
      {
        "duration": 1284,
        "start_time": "2022-06-07T04:19:14.548Z"
      },
      {
        "duration": 1583,
        "start_time": "2022-06-07T04:19:45.623Z"
      },
      {
        "duration": 1646,
        "start_time": "2022-06-07T04:20:24.109Z"
      },
      {
        "duration": 1364,
        "start_time": "2022-06-07T04:20:49.942Z"
      },
      {
        "duration": 1777,
        "start_time": "2022-06-07T04:22:25.757Z"
      },
      {
        "duration": 1452,
        "start_time": "2022-06-07T04:22:47.909Z"
      },
      {
        "duration": 1767,
        "start_time": "2022-06-07T04:23:10.493Z"
      },
      {
        "duration": 1474,
        "start_time": "2022-06-07T04:23:21.453Z"
      },
      {
        "duration": 1495,
        "start_time": "2022-06-07T04:24:13.717Z"
      },
      {
        "duration": 1867,
        "start_time": "2022-06-07T04:24:27.445Z"
      },
      {
        "duration": 1495,
        "start_time": "2022-06-07T04:24:43.637Z"
      },
      {
        "duration": 1871,
        "start_time": "2022-06-07T04:24:54.101Z"
      },
      {
        "duration": 1576,
        "start_time": "2022-06-07T04:25:06.797Z"
      },
      {
        "duration": 1844,
        "start_time": "2022-06-07T04:25:38.869Z"
      },
      {
        "duration": 1489,
        "start_time": "2022-06-07T04:26:56.093Z"
      },
      {
        "duration": 2049,
        "start_time": "2022-06-07T04:27:38.588Z"
      },
      {
        "duration": 1432,
        "start_time": "2022-06-07T04:28:30.123Z"
      },
      {
        "duration": 1909,
        "start_time": "2022-06-07T04:28:56.267Z"
      },
      {
        "duration": 1458,
        "start_time": "2022-06-07T04:30:48.850Z"
      },
      {
        "duration": 24,
        "start_time": "2022-06-07T04:31:47.824Z"
      },
      {
        "duration": 17,
        "start_time": "2022-06-07T04:31:56.600Z"
      },
      {
        "duration": 1926,
        "start_time": "2022-06-07T04:32:09.640Z"
      },
      {
        "duration": 1459,
        "start_time": "2022-06-07T04:32:19.632Z"
      },
      {
        "duration": 1563,
        "start_time": "2022-06-07T04:32:31.080Z"
      },
      {
        "duration": 26,
        "start_time": "2022-06-07T04:32:45.488Z"
      },
      {
        "duration": 29,
        "start_time": "2022-06-07T04:32:51.342Z"
      },
      {
        "duration": 25,
        "start_time": "2022-06-07T04:33:34.559Z"
      },
      {
        "duration": 25,
        "start_time": "2022-06-07T04:34:07.439Z"
      },
      {
        "duration": 25,
        "start_time": "2022-06-07T04:34:24.567Z"
      },
      {
        "duration": 1945,
        "start_time": "2022-06-07T04:34:34.183Z"
      },
      {
        "duration": 16,
        "start_time": "2022-06-07T04:37:14.557Z"
      },
      {
        "duration": 12,
        "start_time": "2022-06-07T04:37:20.389Z"
      },
      {
        "duration": 24,
        "start_time": "2022-06-07T04:37:47.221Z"
      },
      {
        "duration": 24,
        "start_time": "2022-06-07T04:38:28.090Z"
      },
      {
        "duration": 21,
        "start_time": "2022-06-07T04:38:40.292Z"
      },
      {
        "duration": 18,
        "start_time": "2022-06-07T04:38:48.292Z"
      },
      {
        "duration": 17,
        "start_time": "2022-06-07T04:39:46.476Z"
      },
      {
        "duration": 16,
        "start_time": "2022-06-07T04:40:01.708Z"
      },
      {
        "duration": 20,
        "start_time": "2022-06-07T04:40:18.323Z"
      },
      {
        "duration": 18,
        "start_time": "2022-06-07T04:41:01.689Z"
      },
      {
        "duration": 39,
        "start_time": "2022-06-07T04:44:17.154Z"
      },
      {
        "duration": 151,
        "start_time": "2022-06-07T04:44:28.874Z"
      },
      {
        "duration": 11,
        "start_time": "2022-06-07T04:44:47.641Z"
      },
      {
        "duration": 13,
        "start_time": "2022-06-07T04:46:18.369Z"
      },
      {
        "duration": 14,
        "start_time": "2022-06-07T04:46:31.240Z"
      },
      {
        "duration": 3,
        "start_time": "2022-06-07T04:46:48.648Z"
      },
      {
        "duration": 183,
        "start_time": "2022-06-07T04:46:54.833Z"
      },
      {
        "duration": 26,
        "start_time": "2022-06-07T04:47:07.736Z"
      },
      {
        "duration": 198,
        "start_time": "2022-06-07T04:47:20.417Z"
      },
      {
        "duration": 23,
        "start_time": "2022-06-07T04:47:24.448Z"
      },
      {
        "duration": 204,
        "start_time": "2022-06-07T04:47:44.705Z"
      },
      {
        "duration": 180,
        "start_time": "2022-06-07T04:47:57.704Z"
      },
      {
        "duration": 202,
        "start_time": "2022-06-07T04:48:10.752Z"
      },
      {
        "duration": 217,
        "start_time": "2022-06-07T04:48:23.356Z"
      },
      {
        "duration": 188,
        "start_time": "2022-06-07T04:48:39.712Z"
      },
      {
        "duration": 1532,
        "start_time": "2022-06-07T04:50:05.871Z"
      },
      {
        "duration": 1872,
        "start_time": "2022-06-07T04:50:13.991Z"
      },
      {
        "duration": 27,
        "start_time": "2022-06-07T04:57:07.436Z"
      },
      {
        "duration": 25,
        "start_time": "2022-06-07T04:57:23.716Z"
      },
      {
        "duration": 25,
        "start_time": "2022-06-07T04:58:41.804Z"
      },
      {
        "duration": 28,
        "start_time": "2022-06-07T04:59:00.180Z"
      },
      {
        "duration": 29,
        "start_time": "2022-06-07T05:00:06.931Z"
      },
      {
        "duration": 16,
        "start_time": "2022-06-07T05:00:16.275Z"
      },
      {
        "duration": 28,
        "start_time": "2022-06-07T05:00:24.802Z"
      },
      {
        "duration": 29,
        "start_time": "2022-06-07T05:00:35.027Z"
      },
      {
        "duration": 14,
        "start_time": "2022-06-07T05:06:14.466Z"
      },
      {
        "duration": 12,
        "start_time": "2022-06-07T05:06:19.554Z"
      },
      {
        "duration": 4,
        "start_time": "2022-06-07T05:07:34.105Z"
      },
      {
        "duration": 1295,
        "start_time": "2022-06-07T05:07:42.672Z"
      },
      {
        "duration": 73,
        "start_time": "2022-06-07T05:07:43.969Z"
      },
      {
        "duration": 13,
        "start_time": "2022-06-07T05:07:44.044Z"
      },
      {
        "duration": 21,
        "start_time": "2022-06-07T05:07:44.059Z"
      },
      {
        "duration": 10,
        "start_time": "2022-06-07T05:07:44.082Z"
      },
      {
        "duration": 6,
        "start_time": "2022-06-07T05:07:44.093Z"
      },
      {
        "duration": 7,
        "start_time": "2022-06-07T05:07:44.101Z"
      },
      {
        "duration": 12,
        "start_time": "2022-06-07T05:07:44.110Z"
      },
      {
        "duration": 5,
        "start_time": "2022-06-07T05:07:44.124Z"
      },
      {
        "duration": 12,
        "start_time": "2022-06-07T05:07:44.158Z"
      },
      {
        "duration": 413,
        "start_time": "2022-06-07T05:07:44.172Z"
      },
      {
        "duration": 9,
        "start_time": "2022-06-07T05:07:44.587Z"
      },
      {
        "duration": 84,
        "start_time": "2022-06-07T05:07:44.597Z"
      },
      {
        "duration": 13,
        "start_time": "2022-06-07T05:07:44.683Z"
      },
      {
        "duration": 118,
        "start_time": "2022-06-07T05:07:44.697Z"
      },
      {
        "duration": 47,
        "start_time": "2022-06-07T05:07:44.817Z"
      },
      {
        "duration": 1623,
        "start_time": "2022-06-07T05:07:44.866Z"
      },
      {
        "duration": 16,
        "start_time": "2022-06-07T05:07:46.491Z"
      },
      {
        "duration": 223,
        "start_time": "2022-06-07T05:07:46.508Z"
      },
      {
        "duration": 335,
        "start_time": "2022-06-07T05:07:46.733Z"
      },
      {
        "duration": 0,
        "start_time": "2022-06-07T05:07:47.070Z"
      },
      {
        "duration": 189,
        "start_time": "2022-06-07T05:07:55.289Z"
      },
      {
        "duration": 293,
        "start_time": "2022-06-07T05:08:13.409Z"
      },
      {
        "duration": 211,
        "start_time": "2022-06-07T05:09:54.311Z"
      },
      {
        "duration": 270,
        "start_time": "2022-06-07T05:10:26.415Z"
      },
      {
        "duration": 17,
        "start_time": "2022-06-07T05:11:11.969Z"
      },
      {
        "duration": 19,
        "start_time": "2022-06-07T05:12:54.997Z"
      },
      {
        "duration": 24,
        "start_time": "2022-06-07T05:14:57.285Z"
      },
      {
        "duration": 203,
        "start_time": "2022-06-07T05:15:35.039Z"
      },
      {
        "duration": 218,
        "start_time": "2022-06-07T05:15:55.303Z"
      },
      {
        "duration": 230,
        "start_time": "2022-06-07T05:37:55.879Z"
      },
      {
        "duration": 1009,
        "start_time": "2022-06-07T05:41:37.773Z"
      },
      {
        "duration": 828,
        "start_time": "2022-06-07T05:42:10.683Z"
      },
      {
        "duration": 874,
        "start_time": "2022-06-07T05:45:39.997Z"
      },
      {
        "duration": 1017,
        "start_time": "2022-06-07T05:45:44.781Z"
      },
      {
        "duration": 842,
        "start_time": "2022-06-07T05:45:49.868Z"
      },
      {
        "duration": 1378,
        "start_time": "2022-06-07T05:46:47.724Z"
      },
      {
        "duration": 844,
        "start_time": "2022-06-07T05:46:50.698Z"
      },
      {
        "duration": 26,
        "start_time": "2022-06-07T05:47:58.571Z"
      },
      {
        "duration": 22,
        "start_time": "2022-06-07T05:48:06.060Z"
      },
      {
        "duration": 24,
        "start_time": "2022-06-07T05:48:47.811Z"
      },
      {
        "duration": 1302,
        "start_time": "2022-06-07T05:53:06.273Z"
      },
      {
        "duration": 20,
        "start_time": "2022-06-07T05:53:09.442Z"
      },
      {
        "duration": 1512,
        "start_time": "2022-06-07T05:53:30.487Z"
      },
      {
        "duration": 170,
        "start_time": "2022-06-07T05:53:32.001Z"
      },
      {
        "duration": 18,
        "start_time": "2022-06-07T05:53:32.173Z"
      },
      {
        "duration": 80,
        "start_time": "2022-06-07T05:53:32.193Z"
      },
      {
        "duration": 16,
        "start_time": "2022-06-07T05:53:32.277Z"
      },
      {
        "duration": 14,
        "start_time": "2022-06-07T05:53:32.295Z"
      },
      {
        "duration": 20,
        "start_time": "2022-06-07T05:53:32.312Z"
      },
      {
        "duration": 18,
        "start_time": "2022-06-07T05:53:32.358Z"
      },
      {
        "duration": 9,
        "start_time": "2022-06-07T05:53:32.378Z"
      },
      {
        "duration": 11,
        "start_time": "2022-06-07T05:53:32.389Z"
      },
      {
        "duration": 485,
        "start_time": "2022-06-07T05:53:32.402Z"
      },
      {
        "duration": 13,
        "start_time": "2022-06-07T05:53:32.889Z"
      },
      {
        "duration": 98,
        "start_time": "2022-06-07T05:53:32.904Z"
      },
      {
        "duration": 20,
        "start_time": "2022-06-07T05:53:33.062Z"
      },
      {
        "duration": 97,
        "start_time": "2022-06-07T05:53:33.084Z"
      },
      {
        "duration": 26,
        "start_time": "2022-06-07T05:53:33.183Z"
      },
      {
        "duration": 1598,
        "start_time": "2022-06-07T05:53:33.212Z"
      },
      {
        "duration": 19,
        "start_time": "2022-06-07T05:53:34.812Z"
      },
      {
        "duration": 249,
        "start_time": "2022-06-07T05:53:34.833Z"
      },
      {
        "duration": 224,
        "start_time": "2022-06-07T05:53:35.084Z"
      },
      {
        "duration": 4,
        "start_time": "2022-06-07T05:53:35.310Z"
      },
      {
        "duration": 0,
        "start_time": "2022-06-07T05:53:35.315Z"
      },
      {
        "duration": 0,
        "start_time": "2022-06-07T05:53:35.317Z"
      },
      {
        "duration": 0,
        "start_time": "2022-06-07T05:53:35.318Z"
      },
      {
        "duration": 0,
        "start_time": "2022-06-07T05:53:35.320Z"
      },
      {
        "duration": 0,
        "start_time": "2022-06-07T05:53:35.321Z"
      },
      {
        "duration": 17,
        "start_time": "2022-06-07T05:54:22.650Z"
      },
      {
        "duration": 10,
        "start_time": "2022-06-07T05:54:26.769Z"
      },
      {
        "duration": 148,
        "start_time": "2022-06-07T05:54:29.297Z"
      },
      {
        "duration": 940,
        "start_time": "2022-06-07T05:54:36.377Z"
      },
      {
        "duration": 18,
        "start_time": "2022-06-07T05:54:44.386Z"
      },
      {
        "duration": 16,
        "start_time": "2022-06-07T05:56:55.049Z"
      },
      {
        "duration": 1114,
        "start_time": "2022-06-07T05:56:59.297Z"
      },
      {
        "duration": 16,
        "start_time": "2022-06-07T05:57:02.794Z"
      },
      {
        "duration": 27,
        "start_time": "2022-06-07T05:58:12.327Z"
      },
      {
        "duration": 40,
        "start_time": "2022-06-07T05:59:08.201Z"
      },
      {
        "duration": 1288,
        "start_time": "2022-06-07T05:59:53.127Z"
      },
      {
        "duration": 78,
        "start_time": "2022-06-07T05:59:54.417Z"
      },
      {
        "duration": 15,
        "start_time": "2022-06-07T05:59:54.496Z"
      },
      {
        "duration": 23,
        "start_time": "2022-06-07T05:59:54.513Z"
      },
      {
        "duration": 30,
        "start_time": "2022-06-07T05:59:54.538Z"
      },
      {
        "duration": 6,
        "start_time": "2022-06-07T05:59:54.570Z"
      },
      {
        "duration": 13,
        "start_time": "2022-06-07T05:59:54.577Z"
      },
      {
        "duration": 13,
        "start_time": "2022-06-07T05:59:54.592Z"
      },
      {
        "duration": 5,
        "start_time": "2022-06-07T05:59:54.607Z"
      },
      {
        "duration": 46,
        "start_time": "2022-06-07T05:59:54.614Z"
      },
      {
        "duration": 429,
        "start_time": "2022-06-07T05:59:54.661Z"
      },
      {
        "duration": 10,
        "start_time": "2022-06-07T05:59:55.091Z"
      },
      {
        "duration": 99,
        "start_time": "2022-06-07T05:59:55.104Z"
      },
      {
        "duration": 19,
        "start_time": "2022-06-07T05:59:55.258Z"
      },
      {
        "duration": 92,
        "start_time": "2022-06-07T05:59:55.279Z"
      },
      {
        "duration": 26,
        "start_time": "2022-06-07T05:59:55.373Z"
      },
      {
        "duration": 1552,
        "start_time": "2022-06-07T05:59:55.401Z"
      },
      {
        "duration": 18,
        "start_time": "2022-06-07T05:59:56.954Z"
      },
      {
        "duration": 236,
        "start_time": "2022-06-07T05:59:56.974Z"
      },
      {
        "duration": 233,
        "start_time": "2022-06-07T05:59:57.212Z"
      },
      {
        "duration": 21,
        "start_time": "2022-06-07T05:59:57.447Z"
      },
      {
        "duration": 175,
        "start_time": "2022-06-07T05:59:57.470Z"
      },
      {
        "duration": 0,
        "start_time": "2022-06-07T05:59:57.647Z"
      },
      {
        "duration": 0,
        "start_time": "2022-06-07T05:59:57.649Z"
      },
      {
        "duration": 0,
        "start_time": "2022-06-07T05:59:57.652Z"
      },
      {
        "duration": 0,
        "start_time": "2022-06-07T05:59:57.659Z"
      },
      {
        "duration": 212,
        "start_time": "2022-06-07T06:00:32.249Z"
      },
      {
        "duration": 1207,
        "start_time": "2022-06-07T06:00:34.952Z"
      },
      {
        "duration": 19,
        "start_time": "2022-06-07T06:00:38.520Z"
      },
      {
        "duration": 21,
        "start_time": "2022-06-07T06:00:41.897Z"
      },
      {
        "duration": 25,
        "start_time": "2022-06-07T06:01:18.528Z"
      },
      {
        "duration": 18,
        "start_time": "2022-06-07T06:01:28.616Z"
      },
      {
        "duration": 22,
        "start_time": "2022-06-07T06:02:11.873Z"
      },
      {
        "duration": 21,
        "start_time": "2022-06-07T06:02:40.113Z"
      },
      {
        "duration": 26,
        "start_time": "2022-06-07T06:02:48.752Z"
      },
      {
        "duration": 19,
        "start_time": "2022-06-07T06:03:11.952Z"
      },
      {
        "duration": 23,
        "start_time": "2022-06-07T06:03:20.959Z"
      },
      {
        "duration": 22,
        "start_time": "2022-06-07T06:04:20.040Z"
      },
      {
        "duration": 25,
        "start_time": "2022-06-07T06:04:25.984Z"
      },
      {
        "duration": 24,
        "start_time": "2022-06-07T06:04:34.295Z"
      },
      {
        "duration": 21,
        "start_time": "2022-06-07T06:04:44.511Z"
      },
      {
        "duration": 19,
        "start_time": "2022-06-07T06:05:22.277Z"
      },
      {
        "duration": 14,
        "start_time": "2022-06-07T06:06:11.278Z"
      },
      {
        "duration": 17,
        "start_time": "2022-06-07T06:06:30.199Z"
      },
      {
        "duration": 1479,
        "start_time": "2022-06-07T06:06:42.613Z"
      },
      {
        "duration": 166,
        "start_time": "2022-06-07T06:06:44.095Z"
      },
      {
        "duration": 14,
        "start_time": "2022-06-07T06:06:44.263Z"
      },
      {
        "duration": 25,
        "start_time": "2022-06-07T06:06:44.279Z"
      },
      {
        "duration": 54,
        "start_time": "2022-06-07T06:06:44.306Z"
      },
      {
        "duration": 7,
        "start_time": "2022-06-07T06:06:44.362Z"
      },
      {
        "duration": 10,
        "start_time": "2022-06-07T06:06:44.370Z"
      },
      {
        "duration": 16,
        "start_time": "2022-06-07T06:06:44.381Z"
      },
      {
        "duration": 6,
        "start_time": "2022-06-07T06:06:44.399Z"
      },
      {
        "duration": 9,
        "start_time": "2022-06-07T06:06:44.407Z"
      },
      {
        "duration": 622,
        "start_time": "2022-06-07T06:06:44.418Z"
      },
      {
        "duration": 10,
        "start_time": "2022-06-07T06:06:45.042Z"
      },
      {
        "duration": 116,
        "start_time": "2022-06-07T06:06:45.054Z"
      },
      {
        "duration": 15,
        "start_time": "2022-06-07T06:06:45.173Z"
      },
      {
        "duration": 94,
        "start_time": "2022-06-07T06:06:45.189Z"
      },
      {
        "duration": 30,
        "start_time": "2022-06-07T06:06:45.285Z"
      },
      {
        "duration": 1575,
        "start_time": "2022-06-07T06:06:45.317Z"
      },
      {
        "duration": 16,
        "start_time": "2022-06-07T06:06:46.894Z"
      },
      {
        "duration": 213,
        "start_time": "2022-06-07T06:06:46.912Z"
      },
      {
        "duration": 246,
        "start_time": "2022-06-07T06:06:47.128Z"
      },
      {
        "duration": 23,
        "start_time": "2022-06-07T06:06:47.376Z"
      },
      {
        "duration": 225,
        "start_time": "2022-06-07T06:06:47.401Z"
      },
      {
        "duration": 1300,
        "start_time": "2022-06-07T06:06:47.628Z"
      },
      {
        "duration": 156,
        "start_time": "2022-06-07T06:06:48.930Z"
      },
      {
        "duration": 0,
        "start_time": "2022-06-07T06:06:49.087Z"
      },
      {
        "duration": 0,
        "start_time": "2022-06-07T06:06:49.089Z"
      },
      {
        "duration": 0,
        "start_time": "2022-06-07T06:06:49.089Z"
      },
      {
        "duration": 30,
        "start_time": "2022-06-07T06:07:01.138Z"
      },
      {
        "duration": 30,
        "start_time": "2022-06-07T06:07:04.236Z"
      },
      {
        "duration": 1257,
        "start_time": "2022-06-07T06:07:16.163Z"
      },
      {
        "duration": 74,
        "start_time": "2022-06-07T06:07:17.422Z"
      },
      {
        "duration": 13,
        "start_time": "2022-06-07T06:07:17.498Z"
      },
      {
        "duration": 33,
        "start_time": "2022-06-07T06:07:17.513Z"
      },
      {
        "duration": 15,
        "start_time": "2022-06-07T06:07:17.548Z"
      },
      {
        "duration": 15,
        "start_time": "2022-06-07T06:07:17.564Z"
      },
      {
        "duration": 24,
        "start_time": "2022-06-07T06:07:17.581Z"
      },
      {
        "duration": 27,
        "start_time": "2022-06-07T06:07:17.607Z"
      },
      {
        "duration": 21,
        "start_time": "2022-06-07T06:07:17.636Z"
      },
      {
        "duration": 29,
        "start_time": "2022-06-07T06:07:17.658Z"
      },
      {
        "duration": 452,
        "start_time": "2022-06-07T06:07:17.689Z"
      },
      {
        "duration": 17,
        "start_time": "2022-06-07T06:07:18.142Z"
      },
      {
        "duration": 98,
        "start_time": "2022-06-07T06:07:18.161Z"
      },
      {
        "duration": 16,
        "start_time": "2022-06-07T06:07:18.262Z"
      },
      {
        "duration": 107,
        "start_time": "2022-06-07T06:07:18.280Z"
      },
      {
        "duration": 29,
        "start_time": "2022-06-07T06:07:18.389Z"
      },
      {
        "duration": 1530,
        "start_time": "2022-06-07T06:07:18.419Z"
      },
      {
        "duration": 17,
        "start_time": "2022-06-07T06:07:19.958Z"
      },
      {
        "duration": 214,
        "start_time": "2022-06-07T06:07:19.976Z"
      },
      {
        "duration": 196,
        "start_time": "2022-06-07T06:07:20.193Z"
      },
      {
        "duration": 16,
        "start_time": "2022-06-07T06:07:20.390Z"
      },
      {
        "duration": 217,
        "start_time": "2022-06-07T06:07:20.408Z"
      },
      {
        "duration": 1121,
        "start_time": "2022-06-07T06:07:20.626Z"
      },
      {
        "duration": 18,
        "start_time": "2022-06-07T06:07:21.749Z"
      },
      {
        "duration": 18,
        "start_time": "2022-06-07T06:07:21.770Z"
      },
      {
        "duration": 190,
        "start_time": "2022-06-07T06:07:21.790Z"
      },
      {
        "duration": 0,
        "start_time": "2022-06-07T06:07:21.982Z"
      },
      {
        "duration": 14,
        "start_time": "2022-06-07T06:07:41.651Z"
      },
      {
        "duration": 13,
        "start_time": "2022-06-07T06:07:56.138Z"
      },
      {
        "duration": 12,
        "start_time": "2022-06-07T06:08:19.011Z"
      },
      {
        "duration": 211,
        "start_time": "2022-06-07T06:08:33.179Z"
      },
      {
        "duration": 72,
        "start_time": "2022-06-07T06:09:38.339Z"
      },
      {
        "duration": 85,
        "start_time": "2022-06-07T06:09:57.483Z"
      },
      {
        "duration": 346,
        "start_time": "2022-06-07T06:10:25.824Z"
      },
      {
        "duration": 23,
        "start_time": "2022-06-07T06:11:08.521Z"
      },
      {
        "duration": 47,
        "start_time": "2022-06-07T06:11:23.658Z"
      },
      {
        "duration": 47,
        "start_time": "2022-06-07T06:12:06.425Z"
      },
      {
        "duration": 78,
        "start_time": "2022-06-07T06:13:41.569Z"
      },
      {
        "duration": 75,
        "start_time": "2022-06-07T06:44:33.945Z"
      },
      {
        "duration": 3299,
        "start_time": "2022-06-07T06:44:36.959Z"
      },
      {
        "duration": 2203,
        "start_time": "2022-06-07T06:44:52.122Z"
      },
      {
        "duration": 1295,
        "start_time": "2022-06-07T06:47:55.176Z"
      },
      {
        "duration": 80,
        "start_time": "2022-06-07T06:47:56.473Z"
      },
      {
        "duration": 16,
        "start_time": "2022-06-07T06:47:56.554Z"
      },
      {
        "duration": 26,
        "start_time": "2022-06-07T06:47:56.572Z"
      },
      {
        "duration": 12,
        "start_time": "2022-06-07T06:47:56.600Z"
      },
      {
        "duration": 17,
        "start_time": "2022-06-07T06:47:56.613Z"
      },
      {
        "duration": 11,
        "start_time": "2022-06-07T06:47:56.632Z"
      },
      {
        "duration": 15,
        "start_time": "2022-06-07T06:47:56.659Z"
      },
      {
        "duration": 6,
        "start_time": "2022-06-07T06:47:56.676Z"
      },
      {
        "duration": 13,
        "start_time": "2022-06-07T06:47:56.684Z"
      },
      {
        "duration": 462,
        "start_time": "2022-06-07T06:47:56.699Z"
      },
      {
        "duration": 12,
        "start_time": "2022-06-07T06:47:57.163Z"
      },
      {
        "duration": 182,
        "start_time": "2022-06-07T06:47:57.177Z"
      },
      {
        "duration": 17,
        "start_time": "2022-06-07T06:47:57.363Z"
      },
      {
        "duration": 95,
        "start_time": "2022-06-07T06:47:57.381Z"
      },
      {
        "duration": 26,
        "start_time": "2022-06-07T06:47:57.478Z"
      },
      {
        "duration": 1549,
        "start_time": "2022-06-07T06:47:57.505Z"
      },
      {
        "duration": 17,
        "start_time": "2022-06-07T06:47:59.058Z"
      },
      {
        "duration": 219,
        "start_time": "2022-06-07T06:47:59.077Z"
      },
      {
        "duration": 196,
        "start_time": "2022-06-07T06:47:59.298Z"
      },
      {
        "duration": 16,
        "start_time": "2022-06-07T06:47:59.495Z"
      },
      {
        "duration": 205,
        "start_time": "2022-06-07T06:47:59.513Z"
      },
      {
        "duration": 58,
        "start_time": "2022-06-07T06:47:59.720Z"
      },
      {
        "duration": 1145,
        "start_time": "2022-06-07T06:47:59.779Z"
      },
      {
        "duration": 18,
        "start_time": "2022-06-07T06:48:00.926Z"
      },
      {
        "duration": 24,
        "start_time": "2022-06-07T06:48:00.947Z"
      },
      {
        "duration": 30,
        "start_time": "2022-06-07T06:48:00.972Z"
      },
      {
        "duration": 91,
        "start_time": "2022-06-07T06:48:01.004Z"
      },
      {
        "duration": 2,
        "start_time": "2022-06-07T06:48:01.097Z"
      },
      {
        "duration": 1251,
        "start_time": "2022-06-07T07:07:45.152Z"
      },
      {
        "duration": 78,
        "start_time": "2022-06-07T07:07:46.406Z"
      },
      {
        "duration": 15,
        "start_time": "2022-06-07T07:07:46.486Z"
      },
      {
        "duration": 29,
        "start_time": "2022-06-07T07:07:46.503Z"
      },
      {
        "duration": 36,
        "start_time": "2022-06-07T07:07:46.534Z"
      },
      {
        "duration": 9,
        "start_time": "2022-06-07T07:07:46.572Z"
      },
      {
        "duration": 15,
        "start_time": "2022-06-07T07:07:46.583Z"
      },
      {
        "duration": 22,
        "start_time": "2022-06-07T07:07:46.601Z"
      },
      {
        "duration": 8,
        "start_time": "2022-06-07T07:07:46.625Z"
      },
      {
        "duration": 12,
        "start_time": "2022-06-07T07:07:46.660Z"
      },
      {
        "duration": 442,
        "start_time": "2022-06-07T07:07:46.674Z"
      },
      {
        "duration": 17,
        "start_time": "2022-06-07T07:07:47.118Z"
      },
      {
        "duration": 136,
        "start_time": "2022-06-07T07:07:47.137Z"
      },
      {
        "duration": 17,
        "start_time": "2022-06-07T07:07:47.276Z"
      },
      {
        "duration": 117,
        "start_time": "2022-06-07T07:07:47.296Z"
      },
      {
        "duration": 29,
        "start_time": "2022-06-07T07:07:47.415Z"
      },
      {
        "duration": 1670,
        "start_time": "2022-06-07T07:07:47.459Z"
      },
      {
        "duration": 29,
        "start_time": "2022-06-07T07:07:49.131Z"
      },
      {
        "duration": 213,
        "start_time": "2022-06-07T07:07:49.162Z"
      },
      {
        "duration": 198,
        "start_time": "2022-06-07T07:07:49.377Z"
      },
      {
        "duration": 15,
        "start_time": "2022-06-07T07:07:49.577Z"
      },
      {
        "duration": 218,
        "start_time": "2022-06-07T07:07:49.594Z"
      },
      {
        "duration": 57,
        "start_time": "2022-06-07T07:07:49.813Z"
      },
      {
        "duration": 1263,
        "start_time": "2022-06-07T07:07:49.872Z"
      },
      {
        "duration": 16,
        "start_time": "2022-06-07T07:07:51.137Z"
      },
      {
        "duration": 27,
        "start_time": "2022-06-07T07:07:51.155Z"
      },
      {
        "duration": 34,
        "start_time": "2022-06-07T07:07:51.183Z"
      },
      {
        "duration": 91,
        "start_time": "2022-06-07T07:07:51.219Z"
      },
      {
        "duration": 2,
        "start_time": "2022-06-07T07:07:51.312Z"
      },
      {
        "duration": 168,
        "start_time": "2022-06-07T07:09:08.792Z"
      },
      {
        "duration": 12,
        "start_time": "2022-06-07T07:10:07.642Z"
      },
      {
        "duration": 94,
        "start_time": "2022-06-07T07:10:40.689Z"
      },
      {
        "duration": 76,
        "start_time": "2022-06-07T07:10:54.113Z"
      },
      {
        "duration": 74,
        "start_time": "2022-06-07T07:11:27.593Z"
      },
      {
        "duration": 76,
        "start_time": "2022-06-07T07:11:31.713Z"
      },
      {
        "duration": 18,
        "start_time": "2022-06-07T07:12:12.011Z"
      },
      {
        "duration": 18,
        "start_time": "2022-06-07T07:12:17.457Z"
      },
      {
        "duration": 14,
        "start_time": "2022-06-07T07:12:26.560Z"
      },
      {
        "duration": 75,
        "start_time": "2022-06-07T07:12:29.145Z"
      },
      {
        "duration": 25,
        "start_time": "2022-06-07T07:16:38.607Z"
      },
      {
        "duration": 191,
        "start_time": "2022-06-07T07:16:51.664Z"
      },
      {
        "duration": 46,
        "start_time": "2022-06-07T07:17:06.825Z"
      },
      {
        "duration": 44,
        "start_time": "2022-06-07T07:17:29.920Z"
      },
      {
        "duration": 49,
        "start_time": "2022-06-07T07:18:14.144Z"
      },
      {
        "duration": 44,
        "start_time": "2022-06-07T07:18:19.744Z"
      },
      {
        "duration": 44,
        "start_time": "2022-06-07T07:18:42.792Z"
      },
      {
        "duration": 201,
        "start_time": "2022-06-07T07:19:01.144Z"
      },
      {
        "duration": 48,
        "start_time": "2022-06-07T07:19:06.047Z"
      },
      {
        "duration": 30,
        "start_time": "2022-06-07T07:19:37.273Z"
      },
      {
        "duration": 1309,
        "start_time": "2022-06-07T07:20:14.823Z"
      },
      {
        "duration": 79,
        "start_time": "2022-06-07T07:20:16.135Z"
      },
      {
        "duration": 15,
        "start_time": "2022-06-07T07:20:16.216Z"
      },
      {
        "duration": 35,
        "start_time": "2022-06-07T07:20:16.234Z"
      },
      {
        "duration": 13,
        "start_time": "2022-06-07T07:20:16.271Z"
      },
      {
        "duration": 27,
        "start_time": "2022-06-07T07:20:16.286Z"
      },
      {
        "duration": 43,
        "start_time": "2022-06-07T07:20:16.314Z"
      },
      {
        "duration": 22,
        "start_time": "2022-06-07T07:20:16.359Z"
      },
      {
        "duration": 13,
        "start_time": "2022-06-07T07:20:16.383Z"
      },
      {
        "duration": 23,
        "start_time": "2022-06-07T07:20:16.399Z"
      },
      {
        "duration": 453,
        "start_time": "2022-06-07T07:20:16.424Z"
      },
      {
        "duration": 11,
        "start_time": "2022-06-07T07:20:16.880Z"
      },
      {
        "duration": 99,
        "start_time": "2022-06-07T07:20:16.893Z"
      },
      {
        "duration": 64,
        "start_time": "2022-06-07T07:20:16.995Z"
      },
      {
        "duration": 63,
        "start_time": "2022-06-07T07:20:17.061Z"
      },
      {
        "duration": 46,
        "start_time": "2022-06-07T07:20:17.136Z"
      },
      {
        "duration": 1711,
        "start_time": "2022-06-07T07:20:17.185Z"
      },
      {
        "duration": 20,
        "start_time": "2022-06-07T07:20:18.898Z"
      },
      {
        "duration": 257,
        "start_time": "2022-06-07T07:20:18.921Z"
      },
      {
        "duration": 207,
        "start_time": "2022-06-07T07:20:19.180Z"
      },
      {
        "duration": 17,
        "start_time": "2022-06-07T07:20:19.389Z"
      },
      {
        "duration": 66,
        "start_time": "2022-06-07T07:20:19.407Z"
      },
      {
        "duration": 1406,
        "start_time": "2022-06-07T07:20:19.476Z"
      },
      {
        "duration": 20,
        "start_time": "2022-06-07T07:20:20.884Z"
      },
      {
        "duration": 203,
        "start_time": "2022-06-07T07:20:20.905Z"
      },
      {
        "duration": 0,
        "start_time": "2022-06-07T07:20:21.110Z"
      },
      {
        "duration": 0,
        "start_time": "2022-06-07T07:20:21.111Z"
      },
      {
        "duration": 0,
        "start_time": "2022-06-07T07:20:21.113Z"
      },
      {
        "duration": 0,
        "start_time": "2022-06-07T07:20:21.114Z"
      },
      {
        "duration": 19,
        "start_time": "2022-06-07T07:22:17.991Z"
      },
      {
        "duration": 1253,
        "start_time": "2022-06-07T07:22:38.824Z"
      },
      {
        "duration": 80,
        "start_time": "2022-06-07T07:22:40.078Z"
      },
      {
        "duration": 14,
        "start_time": "2022-06-07T07:22:40.160Z"
      },
      {
        "duration": 28,
        "start_time": "2022-06-07T07:22:40.176Z"
      },
      {
        "duration": 19,
        "start_time": "2022-06-07T07:22:40.205Z"
      },
      {
        "duration": 32,
        "start_time": "2022-06-07T07:22:40.225Z"
      },
      {
        "duration": 31,
        "start_time": "2022-06-07T07:22:40.259Z"
      },
      {
        "duration": 32,
        "start_time": "2022-06-07T07:22:40.292Z"
      },
      {
        "duration": 21,
        "start_time": "2022-06-07T07:22:40.325Z"
      },
      {
        "duration": 36,
        "start_time": "2022-06-07T07:22:40.349Z"
      },
      {
        "duration": 436,
        "start_time": "2022-06-07T07:22:40.387Z"
      },
      {
        "duration": 9,
        "start_time": "2022-06-07T07:22:40.825Z"
      },
      {
        "duration": 56,
        "start_time": "2022-06-07T07:22:40.836Z"
      },
      {
        "duration": 70,
        "start_time": "2022-06-07T07:22:40.894Z"
      },
      {
        "duration": 116,
        "start_time": "2022-06-07T07:22:40.967Z"
      },
      {
        "duration": 31,
        "start_time": "2022-06-07T07:22:41.085Z"
      },
      {
        "duration": 1571,
        "start_time": "2022-06-07T07:22:41.117Z"
      },
      {
        "duration": 18,
        "start_time": "2022-06-07T07:22:42.690Z"
      },
      {
        "duration": 229,
        "start_time": "2022-06-07T07:22:42.710Z"
      },
      {
        "duration": 225,
        "start_time": "2022-06-07T07:22:42.940Z"
      },
      {
        "duration": 15,
        "start_time": "2022-06-07T07:22:43.167Z"
      },
      {
        "duration": 45,
        "start_time": "2022-06-07T07:22:43.184Z"
      },
      {
        "duration": 1168,
        "start_time": "2022-06-07T07:22:43.230Z"
      },
      {
        "duration": 19,
        "start_time": "2022-06-07T07:22:44.400Z"
      },
      {
        "duration": 160,
        "start_time": "2022-06-07T07:22:44.421Z"
      },
      {
        "duration": 0,
        "start_time": "2022-06-07T07:22:44.582Z"
      },
      {
        "duration": 0,
        "start_time": "2022-06-07T07:22:44.584Z"
      },
      {
        "duration": 0,
        "start_time": "2022-06-07T07:22:44.585Z"
      },
      {
        "duration": 0,
        "start_time": "2022-06-07T07:22:44.586Z"
      },
      {
        "duration": 22,
        "start_time": "2022-06-07T07:23:39.123Z"
      },
      {
        "duration": 23,
        "start_time": "2022-06-07T07:23:45.982Z"
      },
      {
        "duration": 49,
        "start_time": "2022-06-07T07:23:53.805Z"
      },
      {
        "duration": 1228,
        "start_time": "2022-06-07T07:24:09.071Z"
      },
      {
        "duration": 76,
        "start_time": "2022-06-07T07:24:10.301Z"
      },
      {
        "duration": 15,
        "start_time": "2022-06-07T07:24:10.378Z"
      },
      {
        "duration": 19,
        "start_time": "2022-06-07T07:24:10.394Z"
      },
      {
        "duration": 10,
        "start_time": "2022-06-07T07:24:10.416Z"
      },
      {
        "duration": 34,
        "start_time": "2022-06-07T07:24:10.428Z"
      },
      {
        "duration": 17,
        "start_time": "2022-06-07T07:24:10.463Z"
      },
      {
        "duration": 17,
        "start_time": "2022-06-07T07:24:10.482Z"
      },
      {
        "duration": 6,
        "start_time": "2022-06-07T07:24:10.501Z"
      },
      {
        "duration": 9,
        "start_time": "2022-06-07T07:24:10.508Z"
      },
      {
        "duration": 457,
        "start_time": "2022-06-07T07:24:10.518Z"
      },
      {
        "duration": 10,
        "start_time": "2022-06-07T07:24:10.977Z"
      },
      {
        "duration": 97,
        "start_time": "2022-06-07T07:24:10.989Z"
      },
      {
        "duration": 69,
        "start_time": "2022-06-07T07:24:11.090Z"
      },
      {
        "duration": 79,
        "start_time": "2022-06-07T07:24:11.162Z"
      },
      {
        "duration": 41,
        "start_time": "2022-06-07T07:24:11.242Z"
      },
      {
        "duration": 1608,
        "start_time": "2022-06-07T07:24:11.284Z"
      },
      {
        "duration": 18,
        "start_time": "2022-06-07T07:24:12.894Z"
      },
      {
        "duration": 254,
        "start_time": "2022-06-07T07:24:12.915Z"
      },
      {
        "duration": 197,
        "start_time": "2022-06-07T07:24:13.171Z"
      },
      {
        "duration": 16,
        "start_time": "2022-06-07T07:24:13.371Z"
      },
      {
        "duration": 75,
        "start_time": "2022-06-07T07:24:13.389Z"
      },
      {
        "duration": 1051,
        "start_time": "2022-06-07T07:24:13.465Z"
      },
      {
        "duration": 167,
        "start_time": "2022-06-07T07:24:14.518Z"
      },
      {
        "duration": 0,
        "start_time": "2022-06-07T07:24:14.687Z"
      },
      {
        "duration": 0,
        "start_time": "2022-06-07T07:24:14.689Z"
      },
      {
        "duration": 0,
        "start_time": "2022-06-07T07:24:14.690Z"
      },
      {
        "duration": 0,
        "start_time": "2022-06-07T07:24:14.691Z"
      },
      {
        "duration": 0,
        "start_time": "2022-06-07T07:24:14.693Z"
      },
      {
        "duration": 19,
        "start_time": "2022-06-07T07:24:50.754Z"
      },
      {
        "duration": 18,
        "start_time": "2022-06-07T07:25:41.963Z"
      },
      {
        "duration": 28,
        "start_time": "2022-06-07T07:25:58.636Z"
      },
      {
        "duration": 12,
        "start_time": "2022-06-07T07:26:31.706Z"
      },
      {
        "duration": 13,
        "start_time": "2022-06-07T07:26:44.691Z"
      },
      {
        "duration": 17,
        "start_time": "2022-06-07T07:27:04.515Z"
      },
      {
        "duration": 1267,
        "start_time": "2022-06-07T07:30:32.309Z"
      },
      {
        "duration": 80,
        "start_time": "2022-06-07T07:30:33.578Z"
      },
      {
        "duration": 16,
        "start_time": "2022-06-07T07:30:33.661Z"
      },
      {
        "duration": 35,
        "start_time": "2022-06-07T07:30:33.679Z"
      },
      {
        "duration": 12,
        "start_time": "2022-06-07T07:30:33.717Z"
      },
      {
        "duration": 20,
        "start_time": "2022-06-07T07:30:33.731Z"
      },
      {
        "duration": 29,
        "start_time": "2022-06-07T07:30:33.752Z"
      },
      {
        "duration": 52,
        "start_time": "2022-06-07T07:30:33.783Z"
      },
      {
        "duration": 21,
        "start_time": "2022-06-07T07:30:33.837Z"
      },
      {
        "duration": 33,
        "start_time": "2022-06-07T07:30:33.860Z"
      },
      {
        "duration": 462,
        "start_time": "2022-06-07T07:30:33.896Z"
      },
      {
        "duration": 9,
        "start_time": "2022-06-07T07:30:34.360Z"
      },
      {
        "duration": 121,
        "start_time": "2022-06-07T07:30:34.371Z"
      },
      {
        "duration": 65,
        "start_time": "2022-06-07T07:30:34.495Z"
      },
      {
        "duration": 59,
        "start_time": "2022-06-07T07:30:34.562Z"
      },
      {
        "duration": 64,
        "start_time": "2022-06-07T07:30:34.623Z"
      },
      {
        "duration": 1666,
        "start_time": "2022-06-07T07:30:34.689Z"
      },
      {
        "duration": 16,
        "start_time": "2022-06-07T07:30:36.358Z"
      },
      {
        "duration": 225,
        "start_time": "2022-06-07T07:30:36.376Z"
      },
      {
        "duration": 174,
        "start_time": "2022-06-07T07:30:36.603Z"
      },
      {
        "duration": 0,
        "start_time": "2022-06-07T07:30:36.779Z"
      },
      {
        "duration": 0,
        "start_time": "2022-06-07T07:30:36.780Z"
      },
      {
        "duration": 0,
        "start_time": "2022-06-07T07:30:36.781Z"
      },
      {
        "duration": 0,
        "start_time": "2022-06-07T07:30:36.782Z"
      },
      {
        "duration": 0,
        "start_time": "2022-06-07T07:30:36.783Z"
      },
      {
        "duration": 0,
        "start_time": "2022-06-07T07:30:36.784Z"
      },
      {
        "duration": 0,
        "start_time": "2022-06-07T07:30:36.785Z"
      },
      {
        "duration": 0,
        "start_time": "2022-06-07T07:30:36.786Z"
      },
      {
        "duration": 0,
        "start_time": "2022-06-07T07:30:36.787Z"
      },
      {
        "duration": 0,
        "start_time": "2022-06-07T07:30:36.788Z"
      },
      {
        "duration": 73,
        "start_time": "2022-06-07T07:30:53.709Z"
      },
      {
        "duration": 44,
        "start_time": "2022-06-07T07:31:14.141Z"
      },
      {
        "duration": 18,
        "start_time": "2022-06-07T07:32:00.805Z"
      },
      {
        "duration": 47,
        "start_time": "2022-06-07T07:32:07.626Z"
      },
      {
        "duration": 1437,
        "start_time": "2022-06-07T14:26:25.984Z"
      },
      {
        "duration": 271,
        "start_time": "2022-06-07T14:26:27.423Z"
      },
      {
        "duration": 15,
        "start_time": "2022-06-07T14:26:27.696Z"
      },
      {
        "duration": 32,
        "start_time": "2022-06-07T14:26:27.713Z"
      },
      {
        "duration": 15,
        "start_time": "2022-06-07T14:26:27.748Z"
      },
      {
        "duration": 10,
        "start_time": "2022-06-07T14:26:27.765Z"
      },
      {
        "duration": 10,
        "start_time": "2022-06-07T14:26:27.777Z"
      },
      {
        "duration": 15,
        "start_time": "2022-06-07T14:26:27.789Z"
      },
      {
        "duration": 29,
        "start_time": "2022-06-07T14:26:27.805Z"
      },
      {
        "duration": 41,
        "start_time": "2022-06-07T14:26:27.838Z"
      },
      {
        "duration": 491,
        "start_time": "2022-06-07T14:26:27.881Z"
      },
      {
        "duration": 14,
        "start_time": "2022-06-07T14:26:28.374Z"
      },
      {
        "duration": 144,
        "start_time": "2022-06-07T14:26:28.390Z"
      },
      {
        "duration": 20,
        "start_time": "2022-06-07T14:26:28.537Z"
      },
      {
        "duration": 98,
        "start_time": "2022-06-07T14:26:28.559Z"
      },
      {
        "duration": 26,
        "start_time": "2022-06-07T14:26:28.659Z"
      },
      {
        "duration": 1804,
        "start_time": "2022-06-07T14:26:28.687Z"
      },
      {
        "duration": 18,
        "start_time": "2022-06-07T14:26:30.493Z"
      },
      {
        "duration": 239,
        "start_time": "2022-06-07T14:26:30.526Z"
      },
      {
        "duration": 69,
        "start_time": "2022-06-07T14:26:30.768Z"
      },
      {
        "duration": 202,
        "start_time": "2022-06-07T14:26:30.839Z"
      },
      {
        "duration": 25,
        "start_time": "2022-06-07T14:26:31.044Z"
      },
      {
        "duration": 62,
        "start_time": "2022-06-07T14:26:31.071Z"
      },
      {
        "duration": 885,
        "start_time": "2022-06-07T14:26:31.136Z"
      },
      {
        "duration": 26,
        "start_time": "2022-06-07T14:26:32.026Z"
      },
      {
        "duration": 34,
        "start_time": "2022-06-07T14:26:32.054Z"
      },
      {
        "duration": 12,
        "start_time": "2022-06-07T14:26:32.090Z"
      },
      {
        "duration": 236,
        "start_time": "2022-06-07T14:26:32.103Z"
      },
      {
        "duration": 11,
        "start_time": "2022-06-07T14:26:32.343Z"
      },
      {
        "duration": 2,
        "start_time": "2022-06-07T14:26:32.357Z"
      },
      {
        "duration": 72,
        "start_time": "2022-06-07T14:27:07.942Z"
      },
      {
        "duration": 60,
        "start_time": "2022-06-07T14:27:31.680Z"
      },
      {
        "duration": 25,
        "start_time": "2022-06-07T14:27:39.337Z"
      },
      {
        "duration": 4,
        "start_time": "2022-06-07T14:27:42.312Z"
      },
      {
        "duration": 4,
        "start_time": "2022-06-07T14:27:46.840Z"
      },
      {
        "duration": 4,
        "start_time": "2022-06-07T14:27:49.491Z"
      },
      {
        "duration": 10,
        "start_time": "2022-06-07T14:27:58.535Z"
      },
      {
        "duration": 9,
        "start_time": "2022-06-07T14:28:14.608Z"
      },
      {
        "duration": 59,
        "start_time": "2022-06-07T14:28:27.595Z"
      },
      {
        "duration": 67,
        "start_time": "2022-06-07T14:30:03.710Z"
      },
      {
        "duration": 54,
        "start_time": "2022-06-07T14:30:11.216Z"
      },
      {
        "duration": 77,
        "start_time": "2022-06-07T14:30:55.012Z"
      },
      {
        "duration": 56,
        "start_time": "2022-06-07T14:31:00.121Z"
      },
      {
        "duration": 19,
        "start_time": "2022-06-07T14:31:48.113Z"
      },
      {
        "duration": 183,
        "start_time": "2022-06-07T14:32:21.591Z"
      },
      {
        "duration": 22,
        "start_time": "2022-06-07T14:32:37.381Z"
      },
      {
        "duration": 1268,
        "start_time": "2022-06-07T14:32:47.579Z"
      },
      {
        "duration": 102,
        "start_time": "2022-06-07T14:32:48.850Z"
      },
      {
        "duration": 18,
        "start_time": "2022-06-07T14:32:48.956Z"
      },
      {
        "duration": 21,
        "start_time": "2022-06-07T14:32:48.976Z"
      },
      {
        "duration": 24,
        "start_time": "2022-06-07T14:32:48.999Z"
      },
      {
        "duration": 13,
        "start_time": "2022-06-07T14:32:49.025Z"
      },
      {
        "duration": 22,
        "start_time": "2022-06-07T14:32:49.040Z"
      },
      {
        "duration": 14,
        "start_time": "2022-06-07T14:32:49.063Z"
      },
      {
        "duration": 6,
        "start_time": "2022-06-07T14:32:49.078Z"
      },
      {
        "duration": 10,
        "start_time": "2022-06-07T14:32:49.088Z"
      },
      {
        "duration": 466,
        "start_time": "2022-06-07T14:32:49.099Z"
      },
      {
        "duration": 13,
        "start_time": "2022-06-07T14:32:49.567Z"
      },
      {
        "duration": 85,
        "start_time": "2022-06-07T14:32:49.582Z"
      },
      {
        "duration": 68,
        "start_time": "2022-06-07T14:32:49.668Z"
      },
      {
        "duration": 108,
        "start_time": "2022-06-07T14:32:49.737Z"
      },
      {
        "duration": 31,
        "start_time": "2022-06-07T14:32:49.847Z"
      },
      {
        "duration": 1723,
        "start_time": "2022-06-07T14:32:49.879Z"
      },
      {
        "duration": 38,
        "start_time": "2022-06-07T14:32:51.605Z"
      },
      {
        "duration": 51,
        "start_time": "2022-06-07T14:32:51.644Z"
      },
      {
        "duration": 217,
        "start_time": "2022-06-07T14:32:51.696Z"
      },
      {
        "duration": 23,
        "start_time": "2022-06-07T14:32:51.915Z"
      },
      {
        "duration": 181,
        "start_time": "2022-06-07T14:32:51.943Z"
      },
      {
        "duration": 0,
        "start_time": "2022-06-07T14:32:52.129Z"
      },
      {
        "duration": 0,
        "start_time": "2022-06-07T14:32:52.131Z"
      },
      {
        "duration": 0,
        "start_time": "2022-06-07T14:32:52.133Z"
      },
      {
        "duration": 0,
        "start_time": "2022-06-07T14:32:52.134Z"
      },
      {
        "duration": 0,
        "start_time": "2022-06-07T14:32:52.135Z"
      },
      {
        "duration": 0,
        "start_time": "2022-06-07T14:32:52.136Z"
      },
      {
        "duration": 0,
        "start_time": "2022-06-07T14:32:52.137Z"
      },
      {
        "duration": 54,
        "start_time": "2022-06-07T14:34:13.444Z"
      },
      {
        "duration": 17,
        "start_time": "2022-06-07T14:34:44.885Z"
      },
      {
        "duration": 49,
        "start_time": "2022-06-07T14:34:54.275Z"
      },
      {
        "duration": 66,
        "start_time": "2022-06-07T14:36:29.792Z"
      },
      {
        "duration": 70,
        "start_time": "2022-06-07T14:36:43.409Z"
      },
      {
        "duration": 55,
        "start_time": "2022-06-07T14:36:56.522Z"
      },
      {
        "duration": 57,
        "start_time": "2022-06-07T14:37:21.731Z"
      },
      {
        "duration": 64,
        "start_time": "2022-06-07T14:38:00.201Z"
      },
      {
        "duration": 73,
        "start_time": "2022-06-07T14:38:17.275Z"
      },
      {
        "duration": 1183,
        "start_time": "2022-06-07T14:38:39.679Z"
      },
      {
        "duration": 32,
        "start_time": "2022-06-07T14:41:14.409Z"
      },
      {
        "duration": 19,
        "start_time": "2022-06-07T14:41:24.693Z"
      },
      {
        "duration": 13,
        "start_time": "2022-06-07T14:42:34.574Z"
      },
      {
        "duration": 14,
        "start_time": "2022-06-07T14:42:43.879Z"
      },
      {
        "duration": 13,
        "start_time": "2022-06-07T14:44:11.186Z"
      },
      {
        "duration": 11,
        "start_time": "2022-06-07T14:44:21.237Z"
      },
      {
        "duration": 20,
        "start_time": "2022-06-07T14:46:03.675Z"
      },
      {
        "duration": 15,
        "start_time": "2022-06-07T14:47:04.379Z"
      },
      {
        "duration": 48,
        "start_time": "2022-06-07T14:47:33.170Z"
      },
      {
        "duration": 58,
        "start_time": "2022-06-07T14:48:07.194Z"
      },
      {
        "duration": 71,
        "start_time": "2022-06-07T14:48:40.047Z"
      },
      {
        "duration": 69,
        "start_time": "2022-06-07T14:49:18.778Z"
      },
      {
        "duration": 1324,
        "start_time": "2022-06-07T14:49:27.437Z"
      },
      {
        "duration": 84,
        "start_time": "2022-06-07T14:49:28.763Z"
      },
      {
        "duration": 13,
        "start_time": "2022-06-07T14:49:28.849Z"
      },
      {
        "duration": 20,
        "start_time": "2022-06-07T14:49:28.864Z"
      },
      {
        "duration": 13,
        "start_time": "2022-06-07T14:49:28.887Z"
      },
      {
        "duration": 52,
        "start_time": "2022-06-07T14:49:28.901Z"
      },
      {
        "duration": 13,
        "start_time": "2022-06-07T14:49:28.955Z"
      },
      {
        "duration": 21,
        "start_time": "2022-06-07T14:49:28.971Z"
      },
      {
        "duration": 15,
        "start_time": "2022-06-07T14:49:28.995Z"
      },
      {
        "duration": 42,
        "start_time": "2022-06-07T14:49:29.012Z"
      },
      {
        "duration": 507,
        "start_time": "2022-06-07T14:49:29.057Z"
      },
      {
        "duration": 13,
        "start_time": "2022-06-07T14:49:29.566Z"
      },
      {
        "duration": 146,
        "start_time": "2022-06-07T14:49:29.581Z"
      },
      {
        "duration": 16,
        "start_time": "2022-06-07T14:49:29.736Z"
      },
      {
        "duration": 93,
        "start_time": "2022-06-07T14:49:29.754Z"
      },
      {
        "duration": 27,
        "start_time": "2022-06-07T14:49:29.849Z"
      },
      {
        "duration": 1793,
        "start_time": "2022-06-07T14:49:29.877Z"
      },
      {
        "duration": 20,
        "start_time": "2022-06-07T14:49:31.672Z"
      },
      {
        "duration": 87,
        "start_time": "2022-06-07T14:49:31.693Z"
      },
      {
        "duration": 270,
        "start_time": "2022-06-07T14:49:31.782Z"
      },
      {
        "duration": 17,
        "start_time": "2022-06-07T14:49:32.054Z"
      },
      {
        "duration": 81,
        "start_time": "2022-06-07T14:49:32.073Z"
      },
      {
        "duration": 1114,
        "start_time": "2022-06-07T14:49:32.157Z"
      },
      {
        "duration": 15,
        "start_time": "2022-06-07T14:49:33.274Z"
      },
      {
        "duration": 38,
        "start_time": "2022-06-07T14:49:33.291Z"
      },
      {
        "duration": 52,
        "start_time": "2022-06-07T14:49:33.331Z"
      },
      {
        "duration": 25,
        "start_time": "2022-06-07T14:49:33.385Z"
      },
      {
        "duration": 19,
        "start_time": "2022-06-07T14:49:33.412Z"
      },
      {
        "duration": 55,
        "start_time": "2022-06-07T14:49:33.433Z"
      },
      {
        "duration": 8,
        "start_time": "2022-06-07T14:49:33.490Z"
      },
      {
        "duration": 5,
        "start_time": "2022-06-07T14:49:33.500Z"
      },
      {
        "duration": 192,
        "start_time": "2022-06-07T14:50:28.277Z"
      },
      {
        "duration": 77,
        "start_time": "2022-06-07T14:50:39.665Z"
      },
      {
        "duration": 6,
        "start_time": "2022-06-07T14:53:29.890Z"
      },
      {
        "duration": 14,
        "start_time": "2022-06-07T14:53:42.778Z"
      },
      {
        "duration": 13,
        "start_time": "2022-06-07T14:53:52.692Z"
      },
      {
        "duration": 16,
        "start_time": "2022-06-07T14:54:30.044Z"
      },
      {
        "duration": 8,
        "start_time": "2022-06-07T14:54:43.344Z"
      },
      {
        "duration": 7,
        "start_time": "2022-06-07T14:54:58.482Z"
      },
      {
        "duration": 12,
        "start_time": "2022-06-07T14:55:02.086Z"
      },
      {
        "duration": 12,
        "start_time": "2022-06-07T14:55:28.402Z"
      },
      {
        "duration": 12,
        "start_time": "2022-06-07T14:55:34.642Z"
      },
      {
        "duration": 10,
        "start_time": "2022-06-07T14:56:49.873Z"
      },
      {
        "duration": 17,
        "start_time": "2022-06-07T14:57:13.567Z"
      },
      {
        "duration": 19,
        "start_time": "2022-06-07T14:57:24.079Z"
      },
      {
        "duration": 18,
        "start_time": "2022-06-07T14:58:21.287Z"
      },
      {
        "duration": 8,
        "start_time": "2022-06-07T14:58:56.382Z"
      },
      {
        "duration": 1471,
        "start_time": "2022-06-07T14:59:12.003Z"
      },
      {
        "duration": 87,
        "start_time": "2022-06-07T14:59:13.478Z"
      },
      {
        "duration": 16,
        "start_time": "2022-06-07T14:59:13.567Z"
      },
      {
        "duration": 24,
        "start_time": "2022-06-07T14:59:13.586Z"
      },
      {
        "duration": 27,
        "start_time": "2022-06-07T14:59:13.612Z"
      },
      {
        "duration": 16,
        "start_time": "2022-06-07T14:59:13.643Z"
      },
      {
        "duration": 16,
        "start_time": "2022-06-07T14:59:13.661Z"
      },
      {
        "duration": 16,
        "start_time": "2022-06-07T14:59:13.678Z"
      },
      {
        "duration": 8,
        "start_time": "2022-06-07T14:59:13.696Z"
      },
      {
        "duration": 25,
        "start_time": "2022-06-07T14:59:13.707Z"
      },
      {
        "duration": 485,
        "start_time": "2022-06-07T14:59:13.734Z"
      },
      {
        "duration": 15,
        "start_time": "2022-06-07T14:59:14.220Z"
      },
      {
        "duration": 137,
        "start_time": "2022-06-07T14:59:14.238Z"
      },
      {
        "duration": 19,
        "start_time": "2022-06-07T14:59:14.377Z"
      },
      {
        "duration": 70,
        "start_time": "2022-06-07T14:59:14.427Z"
      },
      {
        "duration": 53,
        "start_time": "2022-06-07T14:59:14.499Z"
      },
      {
        "duration": 1834,
        "start_time": "2022-06-07T14:59:14.554Z"
      },
      {
        "duration": 24,
        "start_time": "2022-06-07T14:59:16.390Z"
      },
      {
        "duration": 71,
        "start_time": "2022-06-07T14:59:16.429Z"
      },
      {
        "duration": 232,
        "start_time": "2022-06-07T14:59:16.502Z"
      },
      {
        "duration": 23,
        "start_time": "2022-06-07T14:59:16.735Z"
      },
      {
        "duration": 88,
        "start_time": "2022-06-07T14:59:16.759Z"
      },
      {
        "duration": 1168,
        "start_time": "2022-06-07T14:59:16.853Z"
      },
      {
        "duration": 16,
        "start_time": "2022-06-07T14:59:18.023Z"
      },
      {
        "duration": 40,
        "start_time": "2022-06-07T14:59:18.041Z"
      },
      {
        "duration": 23,
        "start_time": "2022-06-07T14:59:18.083Z"
      },
      {
        "duration": 39,
        "start_time": "2022-06-07T14:59:18.108Z"
      },
      {
        "duration": 22,
        "start_time": "2022-06-07T14:59:18.151Z"
      },
      {
        "duration": 76,
        "start_time": "2022-06-07T14:59:18.175Z"
      },
      {
        "duration": 13,
        "start_time": "2022-06-07T14:59:18.255Z"
      },
      {
        "duration": 41,
        "start_time": "2022-06-07T14:59:18.270Z"
      },
      {
        "duration": 47,
        "start_time": "2022-06-07T14:59:18.313Z"
      },
      {
        "duration": 14,
        "start_time": "2022-06-07T14:59:18.362Z"
      },
      {
        "duration": 8,
        "start_time": "2022-06-07T15:00:33.143Z"
      },
      {
        "duration": 10,
        "start_time": "2022-06-07T15:00:45.245Z"
      },
      {
        "duration": 9,
        "start_time": "2022-06-07T15:01:05.039Z"
      },
      {
        "duration": 10,
        "start_time": "2022-06-07T15:01:21.590Z"
      },
      {
        "duration": 9,
        "start_time": "2022-06-07T15:01:38.766Z"
      },
      {
        "duration": 13,
        "start_time": "2022-06-07T15:01:41.415Z"
      },
      {
        "duration": 31,
        "start_time": "2022-06-07T15:02:29.364Z"
      },
      {
        "duration": 7,
        "start_time": "2022-06-07T15:02:54.667Z"
      },
      {
        "duration": 7,
        "start_time": "2022-06-07T15:02:56.926Z"
      },
      {
        "duration": 14,
        "start_time": "2022-06-07T15:03:01.806Z"
      },
      {
        "duration": 10,
        "start_time": "2022-06-07T15:03:39.943Z"
      },
      {
        "duration": 24,
        "start_time": "2022-06-07T15:04:12.887Z"
      },
      {
        "duration": 15,
        "start_time": "2022-06-07T15:04:23.137Z"
      },
      {
        "duration": 10,
        "start_time": "2022-06-07T15:04:59.168Z"
      },
      {
        "duration": 17,
        "start_time": "2022-06-07T15:05:31.122Z"
      },
      {
        "duration": 53,
        "start_time": "2022-06-07T15:06:25.862Z"
      },
      {
        "duration": 55,
        "start_time": "2022-06-07T15:06:40.383Z"
      },
      {
        "duration": 70,
        "start_time": "2022-06-07T15:07:54.418Z"
      },
      {
        "duration": 1305,
        "start_time": "2022-06-07T15:08:44.674Z"
      },
      {
        "duration": 99,
        "start_time": "2022-06-07T15:08:45.982Z"
      },
      {
        "duration": 17,
        "start_time": "2022-06-07T15:08:46.083Z"
      },
      {
        "duration": 71,
        "start_time": "2022-06-07T15:08:46.102Z"
      },
      {
        "duration": 16,
        "start_time": "2022-06-07T15:08:46.176Z"
      },
      {
        "duration": 22,
        "start_time": "2022-06-07T15:08:46.194Z"
      },
      {
        "duration": 34,
        "start_time": "2022-06-07T15:08:46.218Z"
      },
      {
        "duration": 33,
        "start_time": "2022-06-07T15:08:46.254Z"
      },
      {
        "duration": 21,
        "start_time": "2022-06-07T15:08:46.289Z"
      },
      {
        "duration": 32,
        "start_time": "2022-06-07T15:08:46.311Z"
      },
      {
        "duration": 569,
        "start_time": "2022-06-07T15:08:46.347Z"
      },
      {
        "duration": 18,
        "start_time": "2022-06-07T15:08:46.918Z"
      },
      {
        "duration": 126,
        "start_time": "2022-06-07T15:08:46.938Z"
      },
      {
        "duration": 73,
        "start_time": "2022-06-07T15:08:47.068Z"
      },
      {
        "duration": 73,
        "start_time": "2022-06-07T15:08:47.143Z"
      },
      {
        "duration": 42,
        "start_time": "2022-06-07T15:08:47.224Z"
      },
      {
        "duration": 1920,
        "start_time": "2022-06-07T15:08:47.268Z"
      },
      {
        "duration": 59,
        "start_time": "2022-06-07T15:08:49.191Z"
      },
      {
        "duration": 65,
        "start_time": "2022-06-07T15:08:49.252Z"
      },
      {
        "duration": 256,
        "start_time": "2022-06-07T15:08:49.320Z"
      },
      {
        "duration": 18,
        "start_time": "2022-06-07T15:08:49.578Z"
      },
      {
        "duration": 74,
        "start_time": "2022-06-07T15:08:49.598Z"
      },
      {
        "duration": 1189,
        "start_time": "2022-06-07T15:08:49.675Z"
      },
      {
        "duration": 13,
        "start_time": "2022-06-07T15:08:50.866Z"
      },
      {
        "duration": 19,
        "start_time": "2022-06-07T15:08:50.881Z"
      },
      {
        "duration": 19,
        "start_time": "2022-06-07T15:08:50.902Z"
      },
      {
        "duration": 29,
        "start_time": "2022-06-07T15:08:50.923Z"
      },
      {
        "duration": 15,
        "start_time": "2022-06-07T15:08:50.954Z"
      },
      {
        "duration": 82,
        "start_time": "2022-06-07T15:08:50.971Z"
      },
      {
        "duration": 13,
        "start_time": "2022-06-07T15:08:51.055Z"
      },
      {
        "duration": 26,
        "start_time": "2022-06-07T15:08:51.069Z"
      },
      {
        "duration": 50,
        "start_time": "2022-06-07T15:08:51.096Z"
      },
      {
        "duration": 28,
        "start_time": "2022-06-07T15:08:51.147Z"
      },
      {
        "duration": 21,
        "start_time": "2022-06-07T15:08:51.178Z"
      },
      {
        "duration": 59,
        "start_time": "2022-06-07T15:08:51.200Z"
      },
      {
        "duration": 3,
        "start_time": "2022-06-07T15:08:51.260Z"
      },
      {
        "duration": 10,
        "start_time": "2022-06-07T15:10:36.446Z"
      },
      {
        "duration": 846,
        "start_time": "2022-06-07T15:10:50.176Z"
      },
      {
        "duration": 1393,
        "start_time": "2022-06-07T15:10:59.968Z"
      },
      {
        "duration": 118,
        "start_time": "2022-06-07T15:11:01.369Z"
      },
      {
        "duration": 35,
        "start_time": "2022-06-07T15:11:01.489Z"
      },
      {
        "duration": 98,
        "start_time": "2022-06-07T15:11:01.526Z"
      },
      {
        "duration": 59,
        "start_time": "2022-06-07T15:11:01.633Z"
      },
      {
        "duration": 21,
        "start_time": "2022-06-07T15:11:01.694Z"
      },
      {
        "duration": 51,
        "start_time": "2022-06-07T15:11:01.717Z"
      },
      {
        "duration": 18,
        "start_time": "2022-06-07T15:11:01.770Z"
      },
      {
        "duration": 17,
        "start_time": "2022-06-07T15:11:01.790Z"
      },
      {
        "duration": 48,
        "start_time": "2022-06-07T15:11:01.808Z"
      },
      {
        "duration": 632,
        "start_time": "2022-06-07T15:11:01.858Z"
      },
      {
        "duration": 11,
        "start_time": "2022-06-07T15:11:02.492Z"
      },
      {
        "duration": 140,
        "start_time": "2022-06-07T15:11:02.505Z"
      },
      {
        "duration": 23,
        "start_time": "2022-06-07T15:11:02.649Z"
      },
      {
        "duration": 139,
        "start_time": "2022-06-07T15:11:02.674Z"
      },
      {
        "duration": 39,
        "start_time": "2022-06-07T15:11:02.815Z"
      },
      {
        "duration": 2321,
        "start_time": "2022-06-07T15:11:02.855Z"
      },
      {
        "duration": 25,
        "start_time": "2022-06-07T15:11:05.178Z"
      },
      {
        "duration": 142,
        "start_time": "2022-06-07T15:11:05.206Z"
      },
      {
        "duration": 426,
        "start_time": "2022-06-07T15:11:05.350Z"
      },
      {
        "duration": 29,
        "start_time": "2022-06-07T15:11:05.778Z"
      },
      {
        "duration": 79,
        "start_time": "2022-06-07T15:11:05.809Z"
      },
      {
        "duration": 1067,
        "start_time": "2022-06-07T15:11:05.890Z"
      },
      {
        "duration": 19,
        "start_time": "2022-06-07T15:11:06.964Z"
      },
      {
        "duration": 50,
        "start_time": "2022-06-07T15:11:06.988Z"
      },
      {
        "duration": 99,
        "start_time": "2022-06-07T15:11:07.043Z"
      },
      {
        "duration": 38,
        "start_time": "2022-06-07T15:11:07.149Z"
      },
      {
        "duration": 41,
        "start_time": "2022-06-07T15:11:07.193Z"
      },
      {
        "duration": 125,
        "start_time": "2022-06-07T15:11:07.241Z"
      },
      {
        "duration": 43,
        "start_time": "2022-06-07T15:11:07.376Z"
      },
      {
        "duration": 69,
        "start_time": "2022-06-07T15:11:07.422Z"
      },
      {
        "duration": 86,
        "start_time": "2022-06-07T15:11:07.493Z"
      },
      {
        "duration": 38,
        "start_time": "2022-06-07T15:11:07.581Z"
      },
      {
        "duration": 79,
        "start_time": "2022-06-07T15:11:07.621Z"
      },
      {
        "duration": 74,
        "start_time": "2022-06-07T15:11:07.703Z"
      },
      {
        "duration": 20,
        "start_time": "2022-06-07T15:11:07.779Z"
      },
      {
        "duration": 2313,
        "start_time": "2022-06-07T15:13:01.321Z"
      },
      {
        "duration": 2543,
        "start_time": "2022-06-07T15:13:51.073Z"
      },
      {
        "duration": 2179,
        "start_time": "2022-06-07T15:14:15.442Z"
      },
      {
        "duration": 2003,
        "start_time": "2022-06-07T15:14:52.989Z"
      },
      {
        "duration": 25,
        "start_time": "2022-06-07T15:16:09.985Z"
      },
      {
        "duration": 280,
        "start_time": "2022-06-07T15:16:16.912Z"
      },
      {
        "duration": 125,
        "start_time": "2022-06-07T15:16:44.907Z"
      },
      {
        "duration": 59,
        "start_time": "2022-06-07T15:16:56.446Z"
      },
      {
        "duration": 103,
        "start_time": "2022-06-07T15:17:21.066Z"
      },
      {
        "duration": 31,
        "start_time": "2022-06-07T15:22:15.574Z"
      },
      {
        "duration": 54,
        "start_time": "2022-06-07T15:22:22.663Z"
      },
      {
        "duration": 99,
        "start_time": "2022-06-07T15:22:42.894Z"
      },
      {
        "duration": 29,
        "start_time": "2022-06-07T15:22:51.565Z"
      },
      {
        "duration": 24,
        "start_time": "2022-06-07T15:22:59.060Z"
      },
      {
        "duration": 46,
        "start_time": "2022-06-07T15:23:08.950Z"
      },
      {
        "duration": 66,
        "start_time": "2022-06-07T15:23:17.276Z"
      },
      {
        "duration": 58,
        "start_time": "2022-06-07T15:24:57.145Z"
      },
      {
        "duration": 71,
        "start_time": "2022-06-07T15:25:47.908Z"
      },
      {
        "duration": 37,
        "start_time": "2022-06-07T15:26:08.842Z"
      },
      {
        "duration": 50,
        "start_time": "2022-06-07T15:26:17.358Z"
      },
      {
        "duration": 12,
        "start_time": "2022-06-07T15:26:20.655Z"
      },
      {
        "duration": 29,
        "start_time": "2022-06-07T15:27:13.995Z"
      },
      {
        "duration": 19,
        "start_time": "2022-06-07T15:27:22.665Z"
      },
      {
        "duration": 64,
        "start_time": "2022-06-07T15:28:20.706Z"
      },
      {
        "duration": 23,
        "start_time": "2022-06-07T15:28:24.644Z"
      },
      {
        "duration": 1457,
        "start_time": "2022-06-07T15:28:31.569Z"
      },
      {
        "duration": 131,
        "start_time": "2022-06-07T15:28:33.030Z"
      },
      {
        "duration": 21,
        "start_time": "2022-06-07T15:28:33.168Z"
      },
      {
        "duration": 53,
        "start_time": "2022-06-07T15:28:33.192Z"
      },
      {
        "duration": 25,
        "start_time": "2022-06-07T15:28:33.248Z"
      },
      {
        "duration": 19,
        "start_time": "2022-06-07T15:28:33.275Z"
      },
      {
        "duration": 13,
        "start_time": "2022-06-07T15:28:33.296Z"
      },
      {
        "duration": 36,
        "start_time": "2022-06-07T15:28:33.310Z"
      },
      {
        "duration": 11,
        "start_time": "2022-06-07T15:28:33.348Z"
      },
      {
        "duration": 10,
        "start_time": "2022-06-07T15:28:33.362Z"
      },
      {
        "duration": 593,
        "start_time": "2022-06-07T15:28:33.374Z"
      },
      {
        "duration": 25,
        "start_time": "2022-06-07T15:28:33.970Z"
      },
      {
        "duration": 153,
        "start_time": "2022-06-07T15:28:33.997Z"
      },
      {
        "duration": 29,
        "start_time": "2022-06-07T15:28:34.152Z"
      },
      {
        "duration": 102,
        "start_time": "2022-06-07T15:28:34.183Z"
      },
      {
        "duration": 50,
        "start_time": "2022-06-07T15:28:34.287Z"
      },
      {
        "duration": 1867,
        "start_time": "2022-06-07T15:28:34.339Z"
      },
      {
        "duration": 30,
        "start_time": "2022-06-07T15:28:36.208Z"
      },
      {
        "duration": 52,
        "start_time": "2022-06-07T15:28:36.240Z"
      },
      {
        "duration": 286,
        "start_time": "2022-06-07T15:28:36.294Z"
      },
      {
        "duration": 17,
        "start_time": "2022-06-07T15:28:36.582Z"
      },
      {
        "duration": 70,
        "start_time": "2022-06-07T15:28:36.601Z"
      },
      {
        "duration": 188,
        "start_time": "2022-06-07T15:28:36.673Z"
      },
      {
        "duration": 0,
        "start_time": "2022-06-07T15:28:36.864Z"
      },
      {
        "duration": 0,
        "start_time": "2022-06-07T15:28:36.866Z"
      },
      {
        "duration": 0,
        "start_time": "2022-06-07T15:28:36.868Z"
      },
      {
        "duration": 0,
        "start_time": "2022-06-07T15:28:36.869Z"
      },
      {
        "duration": 0,
        "start_time": "2022-06-07T15:28:36.871Z"
      },
      {
        "duration": 0,
        "start_time": "2022-06-07T15:28:36.872Z"
      },
      {
        "duration": 0,
        "start_time": "2022-06-07T15:28:36.873Z"
      },
      {
        "duration": 0,
        "start_time": "2022-06-07T15:28:36.874Z"
      },
      {
        "duration": 0,
        "start_time": "2022-06-07T15:28:36.875Z"
      },
      {
        "duration": 0,
        "start_time": "2022-06-07T15:28:36.876Z"
      },
      {
        "duration": 0,
        "start_time": "2022-06-07T15:28:36.878Z"
      },
      {
        "duration": 0,
        "start_time": "2022-06-07T15:28:36.879Z"
      },
      {
        "duration": 0,
        "start_time": "2022-06-07T15:28:36.882Z"
      },
      {
        "duration": 0,
        "start_time": "2022-06-07T15:28:36.883Z"
      },
      {
        "duration": 318,
        "start_time": "2022-06-07T15:29:19.157Z"
      },
      {
        "duration": 382,
        "start_time": "2022-06-07T15:30:55.805Z"
      },
      {
        "duration": 1282,
        "start_time": "2022-06-07T15:31:19.977Z"
      },
      {
        "duration": 97,
        "start_time": "2022-06-07T15:31:21.261Z"
      },
      {
        "duration": 15,
        "start_time": "2022-06-07T15:31:21.359Z"
      },
      {
        "duration": 20,
        "start_time": "2022-06-07T15:31:21.376Z"
      },
      {
        "duration": 11,
        "start_time": "2022-06-07T15:31:21.398Z"
      },
      {
        "duration": 9,
        "start_time": "2022-06-07T15:31:21.425Z"
      },
      {
        "duration": 37,
        "start_time": "2022-06-07T15:31:21.435Z"
      },
      {
        "duration": 12,
        "start_time": "2022-06-07T15:31:21.474Z"
      },
      {
        "duration": 6,
        "start_time": "2022-06-07T15:31:21.488Z"
      },
      {
        "duration": 8,
        "start_time": "2022-06-07T15:31:21.497Z"
      },
      {
        "duration": 481,
        "start_time": "2022-06-07T15:31:21.507Z"
      },
      {
        "duration": 19,
        "start_time": "2022-06-07T15:31:21.990Z"
      },
      {
        "duration": 138,
        "start_time": "2022-06-07T15:31:22.010Z"
      },
      {
        "duration": 18,
        "start_time": "2022-06-07T15:31:22.156Z"
      },
      {
        "duration": 110,
        "start_time": "2022-06-07T15:31:22.176Z"
      },
      {
        "duration": 59,
        "start_time": "2022-06-07T15:31:22.288Z"
      },
      {
        "duration": 1823,
        "start_time": "2022-06-07T15:31:22.351Z"
      },
      {
        "duration": 24,
        "start_time": "2022-06-07T15:31:24.176Z"
      },
      {
        "duration": 72,
        "start_time": "2022-06-07T15:31:24.202Z"
      },
      {
        "duration": 232,
        "start_time": "2022-06-07T15:31:24.275Z"
      },
      {
        "duration": 30,
        "start_time": "2022-06-07T15:31:24.509Z"
      },
      {
        "duration": 70,
        "start_time": "2022-06-07T15:31:24.544Z"
      },
      {
        "duration": 1293,
        "start_time": "2022-06-07T15:31:24.616Z"
      },
      {
        "duration": 11,
        "start_time": "2022-06-07T15:31:25.911Z"
      },
      {
        "duration": 79,
        "start_time": "2022-06-07T15:31:25.925Z"
      },
      {
        "duration": 21,
        "start_time": "2022-06-07T15:31:26.006Z"
      },
      {
        "duration": 54,
        "start_time": "2022-06-07T15:31:26.029Z"
      },
      {
        "duration": 12,
        "start_time": "2022-06-07T15:31:26.087Z"
      },
      {
        "duration": 71,
        "start_time": "2022-06-07T15:31:26.101Z"
      },
      {
        "duration": 10,
        "start_time": "2022-06-07T15:31:26.174Z"
      },
      {
        "duration": 22,
        "start_time": "2022-06-07T15:31:26.185Z"
      },
      {
        "duration": 55,
        "start_time": "2022-06-07T15:31:26.209Z"
      },
      {
        "duration": 16,
        "start_time": "2022-06-07T15:31:26.266Z"
      },
      {
        "duration": 37,
        "start_time": "2022-06-07T15:31:26.284Z"
      },
      {
        "duration": 87,
        "start_time": "2022-06-07T15:31:26.323Z"
      },
      {
        "duration": 3,
        "start_time": "2022-06-07T15:31:26.412Z"
      },
      {
        "duration": 71,
        "start_time": "2022-06-07T15:33:06.657Z"
      },
      {
        "duration": 13,
        "start_time": "2022-06-07T15:34:27.008Z"
      },
      {
        "duration": 220,
        "start_time": "2022-06-07T15:35:48.435Z"
      },
      {
        "duration": 1770,
        "start_time": "2022-06-07T15:39:50.655Z"
      },
      {
        "duration": 636,
        "start_time": "2022-06-07T15:41:52.518Z"
      },
      {
        "duration": 271,
        "start_time": "2022-06-07T15:45:54.888Z"
      },
      {
        "duration": 98,
        "start_time": "2022-06-07T15:49:10.441Z"
      },
      {
        "duration": 29,
        "start_time": "2022-06-07T15:51:46.753Z"
      },
      {
        "duration": 48,
        "start_time": "2022-06-07T15:52:33.235Z"
      },
      {
        "duration": 1597,
        "start_time": "2022-06-07T15:53:03.259Z"
      },
      {
        "duration": 146,
        "start_time": "2022-06-07T15:53:04.860Z"
      },
      {
        "duration": 28,
        "start_time": "2022-06-07T15:53:05.014Z"
      },
      {
        "duration": 54,
        "start_time": "2022-06-07T15:53:05.044Z"
      },
      {
        "duration": 91,
        "start_time": "2022-06-07T15:53:05.104Z"
      },
      {
        "duration": 22,
        "start_time": "2022-06-07T15:53:05.197Z"
      },
      {
        "duration": 22,
        "start_time": "2022-06-07T15:53:05.221Z"
      },
      {
        "duration": 58,
        "start_time": "2022-06-07T15:53:05.244Z"
      },
      {
        "duration": 9,
        "start_time": "2022-06-07T15:53:05.304Z"
      },
      {
        "duration": 89,
        "start_time": "2022-06-07T15:53:05.315Z"
      },
      {
        "duration": 545,
        "start_time": "2022-06-07T15:53:05.406Z"
      },
      {
        "duration": 14,
        "start_time": "2022-06-07T15:53:05.953Z"
      },
      {
        "duration": 156,
        "start_time": "2022-06-07T15:53:05.969Z"
      },
      {
        "duration": 26,
        "start_time": "2022-06-07T15:53:06.129Z"
      },
      {
        "duration": 121,
        "start_time": "2022-06-07T15:53:06.157Z"
      },
      {
        "duration": 61,
        "start_time": "2022-06-07T15:53:06.280Z"
      },
      {
        "duration": 2267,
        "start_time": "2022-06-07T15:53:06.343Z"
      },
      {
        "duration": 42,
        "start_time": "2022-06-07T15:53:08.612Z"
      },
      {
        "duration": 88,
        "start_time": "2022-06-07T15:53:08.659Z"
      },
      {
        "duration": 363,
        "start_time": "2022-06-07T15:53:08.752Z"
      },
      {
        "duration": 21,
        "start_time": "2022-06-07T15:53:09.119Z"
      },
      {
        "duration": 104,
        "start_time": "2022-06-07T15:53:09.142Z"
      },
      {
        "duration": 1086,
        "start_time": "2022-06-07T15:53:09.251Z"
      },
      {
        "duration": 20,
        "start_time": "2022-06-07T15:53:10.346Z"
      },
      {
        "duration": 27,
        "start_time": "2022-06-07T15:53:10.369Z"
      },
      {
        "duration": 26,
        "start_time": "2022-06-07T15:53:10.399Z"
      },
      {
        "duration": 29,
        "start_time": "2022-06-07T15:53:10.427Z"
      },
      {
        "duration": 32,
        "start_time": "2022-06-07T15:53:10.458Z"
      },
      {
        "duration": 94,
        "start_time": "2022-06-07T15:53:10.492Z"
      },
      {
        "duration": 19,
        "start_time": "2022-06-07T15:53:10.591Z"
      },
      {
        "duration": 43,
        "start_time": "2022-06-07T15:53:10.612Z"
      },
      {
        "duration": 34,
        "start_time": "2022-06-07T15:53:10.658Z"
      },
      {
        "duration": 21,
        "start_time": "2022-06-07T15:53:10.694Z"
      },
      {
        "duration": 67,
        "start_time": "2022-06-07T15:53:10.718Z"
      },
      {
        "duration": 76,
        "start_time": "2022-06-07T15:53:10.788Z"
      },
      {
        "duration": 4,
        "start_time": "2022-06-07T15:53:10.868Z"
      },
      {
        "duration": 17,
        "start_time": "2022-06-07T15:56:27.172Z"
      },
      {
        "duration": 79,
        "start_time": "2022-06-07T15:56:49.749Z"
      },
      {
        "duration": 375,
        "start_time": "2022-06-07T16:02:10.817Z"
      },
      {
        "duration": 9,
        "start_time": "2022-06-07T16:04:17.855Z"
      },
      {
        "duration": 60,
        "start_time": "2022-06-07T16:10:07.750Z"
      },
      {
        "duration": 235,
        "start_time": "2022-06-07T16:10:49.401Z"
      },
      {
        "duration": 25,
        "start_time": "2022-06-07T16:11:35.757Z"
      },
      {
        "duration": 25,
        "start_time": "2022-06-07T16:11:46.673Z"
      },
      {
        "duration": 23,
        "start_time": "2022-06-07T16:11:55.445Z"
      },
      {
        "duration": 24,
        "start_time": "2022-06-07T16:12:02.388Z"
      },
      {
        "duration": 33,
        "start_time": "2022-06-07T16:12:06.955Z"
      },
      {
        "duration": 47,
        "start_time": "2022-06-07T16:13:23.617Z"
      },
      {
        "duration": 23,
        "start_time": "2022-06-07T16:13:30.776Z"
      },
      {
        "duration": 26,
        "start_time": "2022-06-07T16:13:33.681Z"
      },
      {
        "duration": 48,
        "start_time": "2022-06-07T16:13:36.917Z"
      },
      {
        "duration": 25,
        "start_time": "2022-06-07T16:13:50.853Z"
      },
      {
        "duration": 17,
        "start_time": "2022-06-07T16:13:53.619Z"
      },
      {
        "duration": 17,
        "start_time": "2022-06-07T16:14:00.259Z"
      },
      {
        "duration": 21,
        "start_time": "2022-06-07T16:14:50.166Z"
      },
      {
        "duration": 26,
        "start_time": "2022-06-07T16:15:00.739Z"
      },
      {
        "duration": 30,
        "start_time": "2022-06-07T16:15:06.614Z"
      },
      {
        "duration": 47,
        "start_time": "2022-06-07T16:15:18.927Z"
      },
      {
        "duration": 20,
        "start_time": "2022-06-07T16:15:35.814Z"
      },
      {
        "duration": 49,
        "start_time": "2022-06-07T16:16:27.857Z"
      },
      {
        "duration": 85,
        "start_time": "2022-06-07T16:20:07.804Z"
      },
      {
        "duration": 1818,
        "start_time": "2022-06-07T16:20:18.367Z"
      },
      {
        "duration": 118,
        "start_time": "2022-06-07T16:20:20.189Z"
      },
      {
        "duration": 23,
        "start_time": "2022-06-07T16:20:20.309Z"
      },
      {
        "duration": 49,
        "start_time": "2022-06-07T16:20:20.335Z"
      },
      {
        "duration": 13,
        "start_time": "2022-06-07T16:20:20.390Z"
      },
      {
        "duration": 11,
        "start_time": "2022-06-07T16:20:20.405Z"
      },
      {
        "duration": 63,
        "start_time": "2022-06-07T16:20:20.418Z"
      },
      {
        "duration": 30,
        "start_time": "2022-06-07T16:20:20.483Z"
      },
      {
        "duration": 7,
        "start_time": "2022-06-07T16:20:20.514Z"
      },
      {
        "duration": 72,
        "start_time": "2022-06-07T16:20:20.525Z"
      },
      {
        "duration": 650,
        "start_time": "2022-06-07T16:20:20.599Z"
      },
      {
        "duration": 25,
        "start_time": "2022-06-07T16:20:21.251Z"
      },
      {
        "duration": 150,
        "start_time": "2022-06-07T16:20:21.278Z"
      },
      {
        "duration": 34,
        "start_time": "2022-06-07T16:20:21.430Z"
      },
      {
        "duration": 140,
        "start_time": "2022-06-07T16:20:21.466Z"
      },
      {
        "duration": 45,
        "start_time": "2022-06-07T16:20:21.608Z"
      },
      {
        "duration": 2367,
        "start_time": "2022-06-07T16:20:21.655Z"
      },
      {
        "duration": 28,
        "start_time": "2022-06-07T16:20:24.030Z"
      },
      {
        "duration": 124,
        "start_time": "2022-06-07T16:20:24.064Z"
      },
      {
        "duration": 414,
        "start_time": "2022-06-07T16:20:24.190Z"
      },
      {
        "duration": 29,
        "start_time": "2022-06-07T16:20:24.607Z"
      },
      {
        "duration": 148,
        "start_time": "2022-06-07T16:20:24.638Z"
      },
      {
        "duration": 1277,
        "start_time": "2022-06-07T16:20:24.787Z"
      },
      {
        "duration": 17,
        "start_time": "2022-06-07T16:20:26.066Z"
      },
      {
        "duration": 23,
        "start_time": "2022-06-07T16:20:26.085Z"
      },
      {
        "duration": 29,
        "start_time": "2022-06-07T16:20:26.110Z"
      },
      {
        "duration": 60,
        "start_time": "2022-06-07T16:20:26.142Z"
      },
      {
        "duration": 18,
        "start_time": "2022-06-07T16:20:26.207Z"
      },
      {
        "duration": 89,
        "start_time": "2022-06-07T16:20:26.229Z"
      },
      {
        "duration": 15,
        "start_time": "2022-06-07T16:20:26.319Z"
      },
      {
        "duration": 68,
        "start_time": "2022-06-07T16:20:26.337Z"
      },
      {
        "duration": 9,
        "start_time": "2022-06-07T16:20:26.407Z"
      },
      {
        "duration": 63,
        "start_time": "2022-06-07T16:20:26.417Z"
      },
      {
        "duration": 19,
        "start_time": "2022-06-07T16:20:26.482Z"
      },
      {
        "duration": 86,
        "start_time": "2022-06-07T16:20:26.503Z"
      },
      {
        "duration": 5,
        "start_time": "2022-06-07T16:20:26.591Z"
      },
      {
        "duration": 0,
        "start_time": "2022-06-07T16:20:26.598Z"
      },
      {
        "duration": 0,
        "start_time": "2022-06-07T16:20:26.600Z"
      },
      {
        "duration": 81,
        "start_time": "2022-06-07T16:21:46.615Z"
      },
      {
        "duration": 53,
        "start_time": "2022-06-07T16:22:04.643Z"
      },
      {
        "duration": 35,
        "start_time": "2022-06-07T16:22:19.755Z"
      },
      {
        "duration": 6,
        "start_time": "2022-06-07T16:22:31.091Z"
      },
      {
        "duration": 298,
        "start_time": "2022-06-07T16:23:06.950Z"
      },
      {
        "duration": 98,
        "start_time": "2022-06-07T16:23:16.307Z"
      },
      {
        "duration": 72,
        "start_time": "2022-06-07T16:23:58.049Z"
      },
      {
        "duration": 28,
        "start_time": "2022-06-07T16:25:20.951Z"
      },
      {
        "duration": 21,
        "start_time": "2022-06-07T16:25:36.688Z"
      },
      {
        "duration": 34,
        "start_time": "2022-06-07T16:26:39.976Z"
      },
      {
        "duration": 23,
        "start_time": "2022-06-07T16:27:04.861Z"
      },
      {
        "duration": 38,
        "start_time": "2022-06-07T16:27:22.050Z"
      },
      {
        "duration": 16,
        "start_time": "2022-06-07T16:27:35.165Z"
      },
      {
        "duration": 14,
        "start_time": "2022-06-07T16:27:54.167Z"
      },
      {
        "duration": 27,
        "start_time": "2022-06-07T16:28:43.967Z"
      },
      {
        "duration": 24,
        "start_time": "2022-06-07T16:30:27.103Z"
      },
      {
        "duration": 31,
        "start_time": "2022-06-07T16:30:56.080Z"
      },
      {
        "duration": 53,
        "start_time": "2022-06-07T16:31:09.584Z"
      },
      {
        "duration": 31,
        "start_time": "2022-06-07T16:31:17.158Z"
      },
      {
        "duration": 23,
        "start_time": "2022-06-07T16:32:19.776Z"
      },
      {
        "duration": 63,
        "start_time": "2022-06-07T16:38:39.786Z"
      },
      {
        "duration": 1816,
        "start_time": "2022-06-07T16:52:10.596Z"
      },
      {
        "duration": 1940,
        "start_time": "2022-06-07T16:52:32.169Z"
      },
      {
        "duration": 1701,
        "start_time": "2022-06-07T17:01:00.983Z"
      },
      {
        "duration": 113,
        "start_time": "2022-06-07T17:01:02.687Z"
      },
      {
        "duration": 17,
        "start_time": "2022-06-07T17:01:02.804Z"
      },
      {
        "duration": 29,
        "start_time": "2022-06-07T17:01:02.824Z"
      },
      {
        "duration": 82,
        "start_time": "2022-06-07T17:01:02.855Z"
      },
      {
        "duration": 49,
        "start_time": "2022-06-07T17:01:02.939Z"
      },
      {
        "duration": 15,
        "start_time": "2022-06-07T17:01:02.990Z"
      },
      {
        "duration": 51,
        "start_time": "2022-06-07T17:01:03.007Z"
      },
      {
        "duration": 65,
        "start_time": "2022-06-07T17:01:03.060Z"
      },
      {
        "duration": 39,
        "start_time": "2022-06-07T17:01:03.128Z"
      },
      {
        "duration": 3446,
        "start_time": "2022-06-07T17:01:03.170Z"
      },
      {
        "duration": 21,
        "start_time": "2022-06-07T17:01:06.618Z"
      },
      {
        "duration": 161,
        "start_time": "2022-06-07T17:01:06.642Z"
      },
      {
        "duration": 49,
        "start_time": "2022-06-07T17:01:06.805Z"
      },
      {
        "duration": 106,
        "start_time": "2022-06-07T17:01:06.867Z"
      },
      {
        "duration": 39,
        "start_time": "2022-06-07T17:01:06.979Z"
      },
      {
        "duration": 1953,
        "start_time": "2022-06-07T17:01:07.022Z"
      },
      {
        "duration": 27,
        "start_time": "2022-06-07T17:01:08.981Z"
      },
      {
        "duration": 104,
        "start_time": "2022-06-07T17:01:09.010Z"
      },
      {
        "duration": 346,
        "start_time": "2022-06-07T17:01:09.116Z"
      },
      {
        "duration": 21,
        "start_time": "2022-06-07T17:01:09.464Z"
      },
      {
        "duration": 70,
        "start_time": "2022-06-07T17:01:09.486Z"
      },
      {
        "duration": 1270,
        "start_time": "2022-06-07T17:01:09.559Z"
      },
      {
        "duration": 37,
        "start_time": "2022-06-07T17:01:10.832Z"
      },
      {
        "duration": 15,
        "start_time": "2022-06-07T17:01:10.871Z"
      },
      {
        "duration": 24,
        "start_time": "2022-06-07T17:01:10.887Z"
      },
      {
        "duration": 57,
        "start_time": "2022-06-07T17:01:10.913Z"
      },
      {
        "duration": 18,
        "start_time": "2022-06-07T17:01:10.973Z"
      },
      {
        "duration": 69,
        "start_time": "2022-06-07T17:01:10.992Z"
      },
      {
        "duration": 23,
        "start_time": "2022-06-07T17:01:11.063Z"
      },
      {
        "duration": 22,
        "start_time": "2022-06-07T17:01:11.088Z"
      },
      {
        "duration": 29,
        "start_time": "2022-06-07T17:01:11.113Z"
      },
      {
        "duration": 32,
        "start_time": "2022-06-07T17:01:11.144Z"
      },
      {
        "duration": 13,
        "start_time": "2022-06-07T17:01:11.179Z"
      },
      {
        "duration": 77,
        "start_time": "2022-06-07T17:01:11.195Z"
      },
      {
        "duration": 18,
        "start_time": "2022-06-07T17:01:11.275Z"
      },
      {
        "duration": 47,
        "start_time": "2022-06-07T17:01:11.295Z"
      },
      {
        "duration": 42,
        "start_time": "2022-06-07T17:01:11.348Z"
      },
      {
        "duration": 1377,
        "start_time": "2022-06-08T02:11:24.942Z"
      },
      {
        "duration": 263,
        "start_time": "2022-06-08T02:11:26.322Z"
      },
      {
        "duration": 13,
        "start_time": "2022-06-08T02:11:26.587Z"
      },
      {
        "duration": 19,
        "start_time": "2022-06-08T02:11:26.603Z"
      },
      {
        "duration": 14,
        "start_time": "2022-06-08T02:11:26.624Z"
      },
      {
        "duration": 16,
        "start_time": "2022-06-08T02:11:26.640Z"
      },
      {
        "duration": 9,
        "start_time": "2022-06-08T02:11:26.657Z"
      },
      {
        "duration": 12,
        "start_time": "2022-06-08T02:11:26.667Z"
      },
      {
        "duration": 9,
        "start_time": "2022-06-08T02:11:26.681Z"
      },
      {
        "duration": 10,
        "start_time": "2022-06-08T02:11:26.692Z"
      },
      {
        "duration": 802,
        "start_time": "2022-06-08T02:11:26.704Z"
      },
      {
        "duration": 9,
        "start_time": "2022-06-08T02:11:27.508Z"
      },
      {
        "duration": 60,
        "start_time": "2022-06-08T02:11:27.519Z"
      },
      {
        "duration": 62,
        "start_time": "2022-06-08T02:11:27.581Z"
      },
      {
        "duration": 97,
        "start_time": "2022-06-08T02:11:27.645Z"
      },
      {
        "duration": 31,
        "start_time": "2022-06-08T02:11:27.744Z"
      },
      {
        "duration": 1688,
        "start_time": "2022-06-08T02:11:27.777Z"
      },
      {
        "duration": 16,
        "start_time": "2022-06-08T02:11:29.467Z"
      },
      {
        "duration": 83,
        "start_time": "2022-06-08T02:11:29.484Z"
      },
      {
        "duration": 226,
        "start_time": "2022-06-08T02:11:29.568Z"
      },
      {
        "duration": 15,
        "start_time": "2022-06-08T02:11:29.796Z"
      },
      {
        "duration": 58,
        "start_time": "2022-06-08T02:11:29.813Z"
      },
      {
        "duration": 1021,
        "start_time": "2022-06-08T02:11:29.873Z"
      },
      {
        "duration": 12,
        "start_time": "2022-06-08T02:11:30.895Z"
      },
      {
        "duration": 41,
        "start_time": "2022-06-08T02:11:30.908Z"
      },
      {
        "duration": 45,
        "start_time": "2022-06-08T02:11:30.951Z"
      },
      {
        "duration": 18,
        "start_time": "2022-06-08T02:11:30.998Z"
      },
      {
        "duration": 42,
        "start_time": "2022-06-08T02:11:31.020Z"
      },
      {
        "duration": 73,
        "start_time": "2022-06-08T02:11:31.063Z"
      },
      {
        "duration": 15,
        "start_time": "2022-06-08T02:11:31.142Z"
      },
      {
        "duration": 15,
        "start_time": "2022-06-08T02:11:31.159Z"
      },
      {
        "duration": 6,
        "start_time": "2022-06-08T02:11:31.175Z"
      },
      {
        "duration": 12,
        "start_time": "2022-06-08T02:11:31.183Z"
      },
      {
        "duration": 16,
        "start_time": "2022-06-08T02:11:31.197Z"
      },
      {
        "duration": 87,
        "start_time": "2022-06-08T02:11:31.214Z"
      },
      {
        "duration": 12,
        "start_time": "2022-06-08T02:11:31.303Z"
      },
      {
        "duration": 34,
        "start_time": "2022-06-08T02:11:31.316Z"
      },
      {
        "duration": 25,
        "start_time": "2022-06-08T02:11:31.352Z"
      },
      {
        "duration": 17,
        "start_time": "2022-06-08T02:12:23.364Z"
      },
      {
        "duration": 17,
        "start_time": "2022-06-08T02:12:41.326Z"
      },
      {
        "duration": 12,
        "start_time": "2022-06-08T02:19:43.729Z"
      },
      {
        "duration": 15,
        "start_time": "2022-06-08T02:19:51.830Z"
      },
      {
        "duration": 1321,
        "start_time": "2022-06-08T02:20:02.958Z"
      },
      {
        "duration": 104,
        "start_time": "2022-06-08T02:20:04.281Z"
      },
      {
        "duration": 18,
        "start_time": "2022-06-08T02:20:04.386Z"
      },
      {
        "duration": 52,
        "start_time": "2022-06-08T02:20:04.406Z"
      },
      {
        "duration": 16,
        "start_time": "2022-06-08T02:20:04.461Z"
      },
      {
        "duration": 9,
        "start_time": "2022-06-08T02:20:04.479Z"
      },
      {
        "duration": 10,
        "start_time": "2022-06-08T02:20:04.490Z"
      },
      {
        "duration": 20,
        "start_time": "2022-06-08T02:20:04.502Z"
      },
      {
        "duration": 51,
        "start_time": "2022-06-08T02:20:04.523Z"
      },
      {
        "duration": 31,
        "start_time": "2022-06-08T02:20:04.576Z"
      },
      {
        "duration": 476,
        "start_time": "2022-06-08T02:20:04.609Z"
      },
      {
        "duration": 14,
        "start_time": "2022-06-08T02:20:05.087Z"
      },
      {
        "duration": 159,
        "start_time": "2022-06-08T02:20:05.103Z"
      },
      {
        "duration": 18,
        "start_time": "2022-06-08T02:20:05.268Z"
      },
      {
        "duration": 100,
        "start_time": "2022-06-08T02:20:05.288Z"
      },
      {
        "duration": 55,
        "start_time": "2022-06-08T02:20:05.390Z"
      },
      {
        "duration": 1905,
        "start_time": "2022-06-08T02:20:05.446Z"
      },
      {
        "duration": 22,
        "start_time": "2022-06-08T02:20:07.352Z"
      },
      {
        "duration": 46,
        "start_time": "2022-06-08T02:20:07.375Z"
      },
      {
        "duration": 249,
        "start_time": "2022-06-08T02:20:07.429Z"
      },
      {
        "duration": 14,
        "start_time": "2022-06-08T02:20:07.680Z"
      },
      {
        "duration": 72,
        "start_time": "2022-06-08T02:20:07.695Z"
      },
      {
        "duration": 8229,
        "start_time": "2022-06-08T02:20:07.770Z"
      },
      {
        "duration": 10,
        "start_time": "2022-06-08T02:20:16.001Z"
      },
      {
        "duration": 56,
        "start_time": "2022-06-08T02:20:16.013Z"
      },
      {
        "duration": 30,
        "start_time": "2022-06-08T02:20:16.071Z"
      },
      {
        "duration": 22,
        "start_time": "2022-06-08T02:20:16.103Z"
      },
      {
        "duration": 65,
        "start_time": "2022-06-08T02:20:16.127Z"
      },
      {
        "duration": 90,
        "start_time": "2022-06-08T02:20:16.194Z"
      },
      {
        "duration": 117,
        "start_time": "2022-06-08T02:20:16.286Z"
      },
      {
        "duration": 14,
        "start_time": "2022-06-08T02:20:16.405Z"
      },
      {
        "duration": 66,
        "start_time": "2022-06-08T02:20:16.421Z"
      },
      {
        "duration": 29,
        "start_time": "2022-06-08T02:20:16.489Z"
      },
      {
        "duration": 72,
        "start_time": "2022-06-08T02:20:16.521Z"
      },
      {
        "duration": 28,
        "start_time": "2022-06-08T02:20:16.594Z"
      },
      {
        "duration": 67,
        "start_time": "2022-06-08T02:20:16.624Z"
      },
      {
        "duration": 87,
        "start_time": "2022-06-08T02:20:16.692Z"
      },
      {
        "duration": 20,
        "start_time": "2022-06-08T02:20:16.780Z"
      },
      {
        "duration": 36,
        "start_time": "2022-06-08T02:20:16.802Z"
      },
      {
        "duration": 40,
        "start_time": "2022-06-08T02:20:16.840Z"
      },
      {
        "duration": 12,
        "start_time": "2022-06-08T02:20:32.410Z"
      },
      {
        "duration": 23,
        "start_time": "2022-06-08T02:22:14.525Z"
      },
      {
        "duration": 656,
        "start_time": "2022-06-08T02:22:32.128Z"
      },
      {
        "duration": 11,
        "start_time": "2022-06-08T02:22:57.947Z"
      },
      {
        "duration": 8,
        "start_time": "2022-06-08T02:24:34.685Z"
      },
      {
        "duration": 15,
        "start_time": "2022-06-08T02:24:50.870Z"
      },
      {
        "duration": 6,
        "start_time": "2022-06-08T02:24:57.454Z"
      },
      {
        "duration": 1331,
        "start_time": "2022-06-08T03:51:30.295Z"
      },
      {
        "duration": 269,
        "start_time": "2022-06-08T03:51:31.630Z"
      },
      {
        "duration": 16,
        "start_time": "2022-06-08T03:51:31.901Z"
      },
      {
        "duration": 19,
        "start_time": "2022-06-08T03:51:31.919Z"
      },
      {
        "duration": 19,
        "start_time": "2022-06-08T03:51:31.940Z"
      },
      {
        "duration": 7,
        "start_time": "2022-06-08T03:51:31.961Z"
      },
      {
        "duration": 13,
        "start_time": "2022-06-08T03:51:31.969Z"
      },
      {
        "duration": 13,
        "start_time": "2022-06-08T03:51:31.984Z"
      },
      {
        "duration": 6,
        "start_time": "2022-06-08T03:51:31.998Z"
      },
      {
        "duration": 11,
        "start_time": "2022-06-08T03:51:32.006Z"
      },
      {
        "duration": 420,
        "start_time": "2022-06-08T03:51:32.019Z"
      },
      {
        "duration": 9,
        "start_time": "2022-06-08T03:51:32.441Z"
      },
      {
        "duration": 103,
        "start_time": "2022-06-08T03:51:32.459Z"
      },
      {
        "duration": 13,
        "start_time": "2022-06-08T03:51:32.564Z"
      },
      {
        "duration": 99,
        "start_time": "2022-06-08T03:51:32.579Z"
      },
      {
        "duration": 24,
        "start_time": "2022-06-08T03:51:32.680Z"
      },
      {
        "duration": 1566,
        "start_time": "2022-06-08T03:51:32.706Z"
      },
      {
        "duration": 15,
        "start_time": "2022-06-08T03:51:34.274Z"
      },
      {
        "duration": 41,
        "start_time": "2022-06-08T03:51:34.291Z"
      },
      {
        "duration": 201,
        "start_time": "2022-06-08T03:51:34.334Z"
      },
      {
        "duration": 22,
        "start_time": "2022-06-08T03:51:34.537Z"
      },
      {
        "duration": 42,
        "start_time": "2022-06-08T03:51:34.560Z"
      },
      {
        "duration": 1174,
        "start_time": "2022-06-08T03:51:34.604Z"
      },
      {
        "duration": 10,
        "start_time": "2022-06-08T03:51:35.780Z"
      },
      {
        "duration": 29,
        "start_time": "2022-06-08T03:51:35.791Z"
      },
      {
        "duration": 41,
        "start_time": "2022-06-08T03:51:35.821Z"
      },
      {
        "duration": 5,
        "start_time": "2022-06-08T03:51:35.864Z"
      },
      {
        "duration": 45,
        "start_time": "2022-06-08T03:51:35.872Z"
      },
      {
        "duration": 35,
        "start_time": "2022-06-08T03:51:35.919Z"
      },
      {
        "duration": 53,
        "start_time": "2022-06-08T03:51:35.956Z"
      },
      {
        "duration": 11,
        "start_time": "2022-06-08T03:51:36.010Z"
      },
      {
        "duration": 33,
        "start_time": "2022-06-08T03:51:36.023Z"
      },
      {
        "duration": 26,
        "start_time": "2022-06-08T03:51:36.058Z"
      },
      {
        "duration": 24,
        "start_time": "2022-06-08T03:51:36.086Z"
      },
      {
        "duration": 39,
        "start_time": "2022-06-08T03:51:36.112Z"
      },
      {
        "duration": 27,
        "start_time": "2022-06-08T03:51:36.152Z"
      },
      {
        "duration": 68,
        "start_time": "2022-06-08T03:51:36.181Z"
      },
      {
        "duration": 12,
        "start_time": "2022-06-08T03:51:36.251Z"
      },
      {
        "duration": 39,
        "start_time": "2022-06-08T03:51:36.265Z"
      },
      {
        "duration": 30,
        "start_time": "2022-06-08T03:51:36.305Z"
      },
      {
        "duration": 6,
        "start_time": "2022-06-08T03:53:39.160Z"
      },
      {
        "duration": 156,
        "start_time": "2022-06-08T03:55:15.141Z"
      },
      {
        "duration": 11,
        "start_time": "2022-06-08T03:55:19.523Z"
      },
      {
        "duration": 6,
        "start_time": "2022-06-08T03:55:26.736Z"
      },
      {
        "duration": 10,
        "start_time": "2022-06-08T03:55:35.855Z"
      },
      {
        "duration": 11,
        "start_time": "2022-06-08T03:55:44.934Z"
      },
      {
        "duration": 6,
        "start_time": "2022-06-08T03:55:58.791Z"
      },
      {
        "duration": 5,
        "start_time": "2022-06-08T03:56:15.241Z"
      },
      {
        "duration": 378,
        "start_time": "2022-06-08T03:56:29.691Z"
      },
      {
        "duration": 29,
        "start_time": "2022-06-08T03:56:39.107Z"
      },
      {
        "duration": 5,
        "start_time": "2022-06-08T03:56:41.970Z"
      },
      {
        "duration": 7,
        "start_time": "2022-06-08T04:11:05.458Z"
      },
      {
        "duration": 3,
        "start_time": "2022-06-08T04:11:46.622Z"
      },
      {
        "duration": 7,
        "start_time": "2022-06-08T04:12:00.624Z"
      },
      {
        "duration": 1125,
        "start_time": "2022-06-08T04:15:09.898Z"
      },
      {
        "duration": 73,
        "start_time": "2022-06-08T04:15:11.026Z"
      },
      {
        "duration": 13,
        "start_time": "2022-06-08T04:15:11.101Z"
      },
      {
        "duration": 20,
        "start_time": "2022-06-08T04:15:11.116Z"
      },
      {
        "duration": 25,
        "start_time": "2022-06-08T04:15:11.138Z"
      },
      {
        "duration": 6,
        "start_time": "2022-06-08T04:15:11.165Z"
      },
      {
        "duration": 8,
        "start_time": "2022-06-08T04:15:11.172Z"
      },
      {
        "duration": 19,
        "start_time": "2022-06-08T04:15:11.181Z"
      },
      {
        "duration": 17,
        "start_time": "2022-06-08T04:15:11.202Z"
      },
      {
        "duration": 9,
        "start_time": "2022-06-08T04:15:11.222Z"
      },
      {
        "duration": 414,
        "start_time": "2022-06-08T04:15:11.233Z"
      },
      {
        "duration": 13,
        "start_time": "2022-06-08T04:15:11.649Z"
      },
      {
        "duration": 109,
        "start_time": "2022-06-08T04:15:11.663Z"
      },
      {
        "duration": 11,
        "start_time": "2022-06-08T04:15:11.773Z"
      },
      {
        "duration": 86,
        "start_time": "2022-06-08T04:15:11.786Z"
      },
      {
        "duration": 25,
        "start_time": "2022-06-08T04:15:11.873Z"
      },
      {
        "duration": 1524,
        "start_time": "2022-06-08T04:15:11.899Z"
      },
      {
        "duration": 22,
        "start_time": "2022-06-08T04:15:13.425Z"
      },
      {
        "duration": 47,
        "start_time": "2022-06-08T04:15:13.459Z"
      },
      {
        "duration": 196,
        "start_time": "2022-06-08T04:15:13.507Z"
      },
      {
        "duration": 14,
        "start_time": "2022-06-08T04:15:13.704Z"
      },
      {
        "duration": 55,
        "start_time": "2022-06-08T04:15:13.719Z"
      },
      {
        "duration": 1101,
        "start_time": "2022-06-08T04:15:13.776Z"
      },
      {
        "duration": 11,
        "start_time": "2022-06-08T04:15:14.879Z"
      },
      {
        "duration": 14,
        "start_time": "2022-06-08T04:15:14.891Z"
      },
      {
        "duration": 17,
        "start_time": "2022-06-08T04:15:14.906Z"
      },
      {
        "duration": 6,
        "start_time": "2022-06-08T04:15:14.924Z"
      },
      {
        "duration": 24,
        "start_time": "2022-06-08T04:15:14.960Z"
      },
      {
        "duration": 12,
        "start_time": "2022-06-08T04:15:14.985Z"
      },
      {
        "duration": 64,
        "start_time": "2022-06-08T04:15:14.998Z"
      },
      {
        "duration": 10,
        "start_time": "2022-06-08T04:15:15.064Z"
      },
      {
        "duration": 12,
        "start_time": "2022-06-08T04:15:15.076Z"
      },
      {
        "duration": 5,
        "start_time": "2022-06-08T04:15:15.090Z"
      },
      {
        "duration": 7,
        "start_time": "2022-06-08T04:15:15.096Z"
      },
      {
        "duration": 6,
        "start_time": "2022-06-08T04:15:15.105Z"
      },
      {
        "duration": 7,
        "start_time": "2022-06-08T04:15:15.113Z"
      },
      {
        "duration": 38,
        "start_time": "2022-06-08T04:15:15.122Z"
      },
      {
        "duration": 43,
        "start_time": "2022-06-08T04:15:15.161Z"
      },
      {
        "duration": 13,
        "start_time": "2022-06-08T04:15:15.205Z"
      },
      {
        "duration": 47,
        "start_time": "2022-06-08T04:15:15.219Z"
      },
      {
        "duration": 17,
        "start_time": "2022-06-08T04:15:15.268Z"
      },
      {
        "duration": 8,
        "start_time": "2022-06-08T04:24:10.969Z"
      },
      {
        "duration": 10,
        "start_time": "2022-06-08T04:25:56.007Z"
      },
      {
        "duration": 166,
        "start_time": "2022-06-08T04:26:19.393Z"
      },
      {
        "duration": 23,
        "start_time": "2022-06-08T04:26:26.654Z"
      },
      {
        "duration": 11,
        "start_time": "2022-06-08T04:27:21.331Z"
      },
      {
        "duration": 122,
        "start_time": "2022-06-08T05:03:20.277Z"
      },
      {
        "duration": 15,
        "start_time": "2022-06-08T05:04:57.823Z"
      },
      {
        "duration": 19,
        "start_time": "2022-06-08T05:05:20.300Z"
      },
      {
        "duration": 28,
        "start_time": "2022-06-08T05:17:19.417Z"
      },
      {
        "duration": 34,
        "start_time": "2022-06-08T05:17:39.971Z"
      },
      {
        "duration": 21,
        "start_time": "2022-06-08T05:17:50.215Z"
      },
      {
        "duration": 21,
        "start_time": "2022-06-08T05:18:17.475Z"
      },
      {
        "duration": 13,
        "start_time": "2022-06-08T05:18:44.805Z"
      },
      {
        "duration": 6,
        "start_time": "2022-06-08T05:18:57.774Z"
      },
      {
        "duration": 10,
        "start_time": "2022-06-08T05:19:01.110Z"
      },
      {
        "duration": 13,
        "start_time": "2022-06-08T05:19:27.167Z"
      },
      {
        "duration": 16,
        "start_time": "2022-06-08T05:27:46.746Z"
      },
      {
        "duration": 7,
        "start_time": "2022-06-08T05:29:14.954Z"
      },
      {
        "duration": 7,
        "start_time": "2022-06-08T05:29:37.413Z"
      },
      {
        "duration": 11,
        "start_time": "2022-06-08T05:29:46.108Z"
      },
      {
        "duration": 6,
        "start_time": "2022-06-08T05:29:55.748Z"
      },
      {
        "duration": 1174,
        "start_time": "2022-06-08T05:36:31.457Z"
      },
      {
        "duration": 77,
        "start_time": "2022-06-08T05:36:32.636Z"
      },
      {
        "duration": 17,
        "start_time": "2022-06-08T05:36:32.715Z"
      },
      {
        "duration": 39,
        "start_time": "2022-06-08T05:36:32.733Z"
      },
      {
        "duration": 16,
        "start_time": "2022-06-08T05:36:32.774Z"
      },
      {
        "duration": 9,
        "start_time": "2022-06-08T05:36:32.791Z"
      },
      {
        "duration": 11,
        "start_time": "2022-06-08T05:36:32.802Z"
      },
      {
        "duration": 14,
        "start_time": "2022-06-08T05:36:32.814Z"
      },
      {
        "duration": 6,
        "start_time": "2022-06-08T05:36:32.859Z"
      },
      {
        "duration": 13,
        "start_time": "2022-06-08T05:36:32.867Z"
      },
      {
        "duration": 458,
        "start_time": "2022-06-08T05:36:32.881Z"
      },
      {
        "duration": 12,
        "start_time": "2022-06-08T05:36:33.341Z"
      },
      {
        "duration": 108,
        "start_time": "2022-06-08T05:36:33.355Z"
      },
      {
        "duration": 13,
        "start_time": "2022-06-08T05:36:33.464Z"
      },
      {
        "duration": 82,
        "start_time": "2022-06-08T05:36:33.478Z"
      },
      {
        "duration": 26,
        "start_time": "2022-06-08T05:36:33.562Z"
      },
      {
        "duration": 1536,
        "start_time": "2022-06-08T05:36:33.590Z"
      },
      {
        "duration": 32,
        "start_time": "2022-06-08T05:36:35.128Z"
      },
      {
        "duration": 44,
        "start_time": "2022-06-08T05:36:35.161Z"
      },
      {
        "duration": 211,
        "start_time": "2022-06-08T05:36:35.207Z"
      },
      {
        "duration": 18,
        "start_time": "2022-06-08T05:36:35.420Z"
      },
      {
        "duration": 59,
        "start_time": "2022-06-08T05:36:35.440Z"
      },
      {
        "duration": 780,
        "start_time": "2022-06-08T05:36:35.501Z"
      },
      {
        "duration": 13,
        "start_time": "2022-06-08T05:36:36.284Z"
      },
      {
        "duration": 9,
        "start_time": "2022-06-08T05:36:36.298Z"
      },
      {
        "duration": 26,
        "start_time": "2022-06-08T05:36:36.309Z"
      },
      {
        "duration": 7,
        "start_time": "2022-06-08T05:36:36.359Z"
      },
      {
        "duration": 20,
        "start_time": "2022-06-08T05:36:36.367Z"
      },
      {
        "duration": 18,
        "start_time": "2022-06-08T05:36:36.388Z"
      },
      {
        "duration": 68,
        "start_time": "2022-06-08T05:36:36.408Z"
      },
      {
        "duration": 12,
        "start_time": "2022-06-08T05:36:36.478Z"
      },
      {
        "duration": 46,
        "start_time": "2022-06-08T05:36:36.491Z"
      },
      {
        "duration": 6,
        "start_time": "2022-06-08T05:36:36.539Z"
      },
      {
        "duration": 14,
        "start_time": "2022-06-08T05:36:36.547Z"
      },
      {
        "duration": 13,
        "start_time": "2022-06-08T05:36:36.562Z"
      },
      {
        "duration": 30,
        "start_time": "2022-06-08T05:36:36.576Z"
      },
      {
        "duration": 7,
        "start_time": "2022-06-08T05:36:36.607Z"
      },
      {
        "duration": 12,
        "start_time": "2022-06-08T05:36:36.616Z"
      },
      {
        "duration": 50,
        "start_time": "2022-06-08T05:36:36.629Z"
      },
      {
        "duration": 12,
        "start_time": "2022-06-08T05:36:36.681Z"
      },
      {
        "duration": 20,
        "start_time": "2022-06-08T05:36:36.694Z"
      },
      {
        "duration": 3,
        "start_time": "2022-06-08T05:36:36.715Z"
      },
      {
        "duration": 1213,
        "start_time": "2022-06-08T05:44:21.619Z"
      },
      {
        "duration": 76,
        "start_time": "2022-06-08T05:44:22.834Z"
      },
      {
        "duration": 14,
        "start_time": "2022-06-08T05:44:22.912Z"
      },
      {
        "duration": 43,
        "start_time": "2022-06-08T05:44:22.929Z"
      },
      {
        "duration": 12,
        "start_time": "2022-06-08T05:44:22.974Z"
      },
      {
        "duration": 15,
        "start_time": "2022-06-08T05:44:22.989Z"
      },
      {
        "duration": 17,
        "start_time": "2022-06-08T05:44:23.006Z"
      },
      {
        "duration": 22,
        "start_time": "2022-06-08T05:44:23.025Z"
      },
      {
        "duration": 7,
        "start_time": "2022-06-08T05:44:23.049Z"
      },
      {
        "duration": 13,
        "start_time": "2022-06-08T05:44:23.058Z"
      },
      {
        "duration": 400,
        "start_time": "2022-06-08T05:44:23.073Z"
      },
      {
        "duration": 9,
        "start_time": "2022-06-08T05:44:23.475Z"
      },
      {
        "duration": 94,
        "start_time": "2022-06-08T05:44:23.486Z"
      },
      {
        "duration": 12,
        "start_time": "2022-06-08T05:44:23.582Z"
      },
      {
        "duration": 105,
        "start_time": "2022-06-08T05:44:23.595Z"
      },
      {
        "duration": 26,
        "start_time": "2022-06-08T05:44:23.702Z"
      },
      {
        "duration": 1522,
        "start_time": "2022-06-08T05:44:23.730Z"
      },
      {
        "duration": 21,
        "start_time": "2022-06-08T05:44:25.253Z"
      },
      {
        "duration": 44,
        "start_time": "2022-06-08T05:44:25.276Z"
      },
      {
        "duration": 207,
        "start_time": "2022-06-08T05:44:25.322Z"
      },
      {
        "duration": 16,
        "start_time": "2022-06-08T05:44:25.530Z"
      },
      {
        "duration": 52,
        "start_time": "2022-06-08T05:44:25.548Z"
      },
      {
        "duration": 1140,
        "start_time": "2022-06-08T05:44:25.602Z"
      },
      {
        "duration": 11,
        "start_time": "2022-06-08T05:44:26.743Z"
      },
      {
        "duration": 29,
        "start_time": "2022-06-08T05:44:26.756Z"
      },
      {
        "duration": 38,
        "start_time": "2022-06-08T05:44:26.786Z"
      },
      {
        "duration": 5,
        "start_time": "2022-06-08T05:44:26.826Z"
      },
      {
        "duration": 26,
        "start_time": "2022-06-08T05:44:26.834Z"
      },
      {
        "duration": 39,
        "start_time": "2022-06-08T05:44:26.861Z"
      },
      {
        "duration": 50,
        "start_time": "2022-06-08T05:44:26.902Z"
      },
      {
        "duration": 15,
        "start_time": "2022-06-08T05:44:26.955Z"
      },
      {
        "duration": 30,
        "start_time": "2022-06-08T05:44:26.972Z"
      },
      {
        "duration": 8,
        "start_time": "2022-06-08T05:44:27.005Z"
      },
      {
        "duration": 14,
        "start_time": "2022-06-08T05:44:27.016Z"
      },
      {
        "duration": 38,
        "start_time": "2022-06-08T05:44:27.032Z"
      },
      {
        "duration": 86,
        "start_time": "2022-06-08T05:44:27.072Z"
      },
      {
        "duration": 16,
        "start_time": "2022-06-08T05:44:27.160Z"
      },
      {
        "duration": 33,
        "start_time": "2022-06-08T05:44:27.178Z"
      },
      {
        "duration": 9,
        "start_time": "2022-06-08T05:44:27.213Z"
      },
      {
        "duration": 783,
        "start_time": "2022-06-08T06:26:35.235Z"
      },
      {
        "duration": 30,
        "start_time": "2022-06-08T06:32:55.426Z"
      },
      {
        "duration": 21,
        "start_time": "2022-06-08T06:33:28.933Z"
      },
      {
        "duration": 29,
        "start_time": "2022-06-08T06:34:31.632Z"
      },
      {
        "duration": 24,
        "start_time": "2022-06-08T06:35:29.414Z"
      },
      {
        "duration": 26,
        "start_time": "2022-06-08T06:35:41.650Z"
      },
      {
        "duration": 27,
        "start_time": "2022-06-08T06:35:56.149Z"
      },
      {
        "duration": 964,
        "start_time": "2022-06-08T06:36:17.985Z"
      },
      {
        "duration": 92,
        "start_time": "2022-06-08T06:36:21.701Z"
      },
      {
        "duration": 13,
        "start_time": "2022-06-08T06:36:52.772Z"
      },
      {
        "duration": 170,
        "start_time": "2022-06-08T06:38:13.836Z"
      },
      {
        "duration": 50,
        "start_time": "2022-06-08T06:38:32.789Z"
      },
      {
        "duration": 1197,
        "start_time": "2022-06-08T06:39:55.127Z"
      },
      {
        "duration": 97,
        "start_time": "2022-06-08T06:39:56.326Z"
      },
      {
        "duration": 13,
        "start_time": "2022-06-08T06:39:56.425Z"
      },
      {
        "duration": 23,
        "start_time": "2022-06-08T06:39:56.440Z"
      },
      {
        "duration": 15,
        "start_time": "2022-06-08T06:39:56.471Z"
      },
      {
        "duration": 19,
        "start_time": "2022-06-08T06:39:56.488Z"
      },
      {
        "duration": 14,
        "start_time": "2022-06-08T06:39:56.509Z"
      },
      {
        "duration": 21,
        "start_time": "2022-06-08T06:39:56.525Z"
      },
      {
        "duration": 5,
        "start_time": "2022-06-08T06:39:56.548Z"
      },
      {
        "duration": 16,
        "start_time": "2022-06-08T06:39:56.559Z"
      },
      {
        "duration": 401,
        "start_time": "2022-06-08T06:39:56.577Z"
      },
      {
        "duration": 16,
        "start_time": "2022-06-08T06:39:56.980Z"
      },
      {
        "duration": 109,
        "start_time": "2022-06-08T06:39:56.997Z"
      },
      {
        "duration": 67,
        "start_time": "2022-06-08T06:39:57.108Z"
      },
      {
        "duration": 77,
        "start_time": "2022-06-08T06:39:57.177Z"
      },
      {
        "duration": 39,
        "start_time": "2022-06-08T06:39:57.256Z"
      },
      {
        "duration": 1554,
        "start_time": "2022-06-08T06:39:57.297Z"
      },
      {
        "duration": 25,
        "start_time": "2022-06-08T06:39:58.852Z"
      },
      {
        "duration": 61,
        "start_time": "2022-06-08T06:39:58.879Z"
      },
      {
        "duration": 192,
        "start_time": "2022-06-08T06:39:58.941Z"
      },
      {
        "duration": 25,
        "start_time": "2022-06-08T06:39:59.134Z"
      },
      {
        "duration": 42,
        "start_time": "2022-06-08T06:39:59.164Z"
      },
      {
        "duration": 1006,
        "start_time": "2022-06-08T06:39:59.208Z"
      },
      {
        "duration": 11,
        "start_time": "2022-06-08T06:40:00.217Z"
      },
      {
        "duration": 63,
        "start_time": "2022-06-08T06:40:00.229Z"
      },
      {
        "duration": 19,
        "start_time": "2022-06-08T06:40:00.293Z"
      },
      {
        "duration": 6,
        "start_time": "2022-06-08T06:40:00.313Z"
      },
      {
        "duration": 35,
        "start_time": "2022-06-08T06:40:00.322Z"
      },
      {
        "duration": 30,
        "start_time": "2022-06-08T06:40:00.358Z"
      },
      {
        "duration": 79,
        "start_time": "2022-06-08T06:40:00.390Z"
      },
      {
        "duration": 12,
        "start_time": "2022-06-08T06:40:00.471Z"
      },
      {
        "duration": 22,
        "start_time": "2022-06-08T06:40:00.485Z"
      },
      {
        "duration": 10,
        "start_time": "2022-06-08T06:40:00.509Z"
      },
      {
        "duration": 13,
        "start_time": "2022-06-08T06:40:00.521Z"
      },
      {
        "duration": 32,
        "start_time": "2022-06-08T06:40:00.537Z"
      },
      {
        "duration": 61,
        "start_time": "2022-06-08T06:40:00.572Z"
      },
      {
        "duration": 31,
        "start_time": "2022-06-08T06:40:00.635Z"
      },
      {
        "duration": 38,
        "start_time": "2022-06-08T06:40:00.674Z"
      },
      {
        "duration": 11,
        "start_time": "2022-06-08T06:40:00.714Z"
      },
      {
        "duration": 772,
        "start_time": "2022-06-08T06:40:00.727Z"
      },
      {
        "duration": 54,
        "start_time": "2022-06-08T06:40:01.500Z"
      },
      {
        "duration": 176,
        "start_time": "2022-06-08T06:41:29.457Z"
      },
      {
        "duration": 51,
        "start_time": "2022-06-08T06:41:55.997Z"
      },
      {
        "duration": 61,
        "start_time": "2022-06-08T06:42:21.073Z"
      },
      {
        "duration": 951,
        "start_time": "2022-06-08T07:19:31.612Z"
      },
      {
        "duration": 1186,
        "start_time": "2022-06-08T07:26:21.167Z"
      },
      {
        "duration": 870,
        "start_time": "2022-06-08T07:26:24.737Z"
      },
      {
        "duration": 842,
        "start_time": "2022-06-08T07:30:11.651Z"
      },
      {
        "duration": 1153,
        "start_time": "2022-06-08T08:01:13.404Z"
      },
      {
        "duration": 76,
        "start_time": "2022-06-08T08:01:14.559Z"
      },
      {
        "duration": 13,
        "start_time": "2022-06-08T08:01:14.636Z"
      },
      {
        "duration": 25,
        "start_time": "2022-06-08T08:01:14.652Z"
      },
      {
        "duration": 12,
        "start_time": "2022-06-08T08:01:14.679Z"
      },
      {
        "duration": 9,
        "start_time": "2022-06-08T08:01:14.692Z"
      },
      {
        "duration": 9,
        "start_time": "2022-06-08T08:01:14.702Z"
      },
      {
        "duration": 17,
        "start_time": "2022-06-08T08:01:14.713Z"
      },
      {
        "duration": 32,
        "start_time": "2022-06-08T08:01:14.731Z"
      },
      {
        "duration": 16,
        "start_time": "2022-06-08T08:01:14.766Z"
      },
      {
        "duration": 443,
        "start_time": "2022-06-08T08:01:14.784Z"
      },
      {
        "duration": 10,
        "start_time": "2022-06-08T08:01:15.229Z"
      },
      {
        "duration": 147,
        "start_time": "2022-06-08T08:01:15.241Z"
      },
      {
        "duration": 18,
        "start_time": "2022-06-08T08:01:15.390Z"
      },
      {
        "duration": 104,
        "start_time": "2022-06-08T08:01:15.411Z"
      },
      {
        "duration": 25,
        "start_time": "2022-06-08T08:01:15.516Z"
      },
      {
        "duration": 1668,
        "start_time": "2022-06-08T08:01:15.542Z"
      },
      {
        "duration": 21,
        "start_time": "2022-06-08T08:01:17.212Z"
      },
      {
        "duration": 73,
        "start_time": "2022-06-08T08:01:17.235Z"
      },
      {
        "duration": 298,
        "start_time": "2022-06-08T08:01:17.310Z"
      },
      {
        "duration": 14,
        "start_time": "2022-06-08T08:01:17.610Z"
      },
      {
        "duration": 62,
        "start_time": "2022-06-08T08:01:17.626Z"
      },
      {
        "duration": 1378,
        "start_time": "2022-06-08T08:01:17.689Z"
      },
      {
        "duration": 15,
        "start_time": "2022-06-08T08:01:19.069Z"
      },
      {
        "duration": 14,
        "start_time": "2022-06-08T08:01:19.086Z"
      },
      {
        "duration": 19,
        "start_time": "2022-06-08T08:01:19.102Z"
      },
      {
        "duration": 5,
        "start_time": "2022-06-08T08:01:19.123Z"
      },
      {
        "duration": 32,
        "start_time": "2022-06-08T08:01:19.160Z"
      },
      {
        "duration": 18,
        "start_time": "2022-06-08T08:01:19.194Z"
      },
      {
        "duration": 44,
        "start_time": "2022-06-08T08:01:19.214Z"
      },
      {
        "duration": 1032,
        "start_time": "2022-06-08T08:01:19.260Z"
      },
      {
        "duration": 11,
        "start_time": "2022-06-08T08:01:20.293Z"
      },
      {
        "duration": 22,
        "start_time": "2022-06-08T08:01:20.305Z"
      },
      {
        "duration": 7,
        "start_time": "2022-06-08T08:01:20.329Z"
      },
      {
        "duration": 7,
        "start_time": "2022-06-08T08:01:20.337Z"
      },
      {
        "duration": 25,
        "start_time": "2022-06-08T08:01:20.345Z"
      },
      {
        "duration": 59,
        "start_time": "2022-06-08T08:01:20.372Z"
      },
      {
        "duration": 12,
        "start_time": "2022-06-08T08:01:20.433Z"
      },
      {
        "duration": 37,
        "start_time": "2022-06-08T08:01:20.447Z"
      },
      {
        "duration": 31,
        "start_time": "2022-06-08T08:26:55.342Z"
      },
      {
        "duration": 12,
        "start_time": "2022-06-08T08:29:02.538Z"
      },
      {
        "duration": 13,
        "start_time": "2022-06-08T08:29:34.206Z"
      },
      {
        "duration": 13,
        "start_time": "2022-06-08T08:30:40.490Z"
      },
      {
        "duration": 15,
        "start_time": "2022-06-08T08:31:08.213Z"
      },
      {
        "duration": 14,
        "start_time": "2022-06-08T08:32:05.743Z"
      },
      {
        "duration": 3,
        "start_time": "2022-06-08T08:34:09.940Z"
      },
      {
        "duration": 21,
        "start_time": "2022-06-08T08:34:20.108Z"
      },
      {
        "duration": 164,
        "start_time": "2022-06-08T08:34:35.950Z"
      },
      {
        "duration": 4,
        "start_time": "2022-06-08T08:34:54.711Z"
      },
      {
        "duration": 7,
        "start_time": "2022-06-08T08:35:04.093Z"
      },
      {
        "duration": 1146,
        "start_time": "2022-06-08T08:36:02.387Z"
      },
      {
        "duration": 74,
        "start_time": "2022-06-08T08:36:03.535Z"
      },
      {
        "duration": 13,
        "start_time": "2022-06-08T08:36:03.611Z"
      },
      {
        "duration": 16,
        "start_time": "2022-06-08T08:36:03.626Z"
      },
      {
        "duration": 22,
        "start_time": "2022-06-08T08:36:03.644Z"
      },
      {
        "duration": 8,
        "start_time": "2022-06-08T08:36:03.667Z"
      },
      {
        "duration": 14,
        "start_time": "2022-06-08T08:36:03.676Z"
      },
      {
        "duration": 32,
        "start_time": "2022-06-08T08:36:03.692Z"
      },
      {
        "duration": 7,
        "start_time": "2022-06-08T08:36:03.725Z"
      },
      {
        "duration": 24,
        "start_time": "2022-06-08T08:36:03.735Z"
      },
      {
        "duration": 416,
        "start_time": "2022-06-08T08:36:03.760Z"
      },
      {
        "duration": 9,
        "start_time": "2022-06-08T08:36:04.178Z"
      },
      {
        "duration": 89,
        "start_time": "2022-06-08T08:36:04.189Z"
      },
      {
        "duration": 17,
        "start_time": "2022-06-08T08:36:04.281Z"
      },
      {
        "duration": 111,
        "start_time": "2022-06-08T08:36:04.300Z"
      },
      {
        "duration": 48,
        "start_time": "2022-06-08T08:36:04.413Z"
      },
      {
        "duration": 1504,
        "start_time": "2022-06-08T08:36:04.463Z"
      },
      {
        "duration": 18,
        "start_time": "2022-06-08T08:36:05.969Z"
      },
      {
        "duration": 60,
        "start_time": "2022-06-08T08:36:05.988Z"
      },
      {
        "duration": 190,
        "start_time": "2022-06-08T08:36:06.049Z"
      },
      {
        "duration": 19,
        "start_time": "2022-06-08T08:36:06.240Z"
      },
      {
        "duration": 42,
        "start_time": "2022-06-08T08:36:06.261Z"
      },
      {
        "duration": 1366,
        "start_time": "2022-06-08T08:36:06.305Z"
      },
      {
        "duration": 12,
        "start_time": "2022-06-08T08:36:07.673Z"
      },
      {
        "duration": 11,
        "start_time": "2022-06-08T08:36:07.686Z"
      },
      {
        "duration": 19,
        "start_time": "2022-06-08T08:36:07.699Z"
      },
      {
        "duration": 5,
        "start_time": "2022-06-08T08:36:07.720Z"
      },
      {
        "duration": 42,
        "start_time": "2022-06-08T08:36:07.728Z"
      },
      {
        "duration": 14,
        "start_time": "2022-06-08T08:36:07.772Z"
      },
      {
        "duration": 44,
        "start_time": "2022-06-08T08:36:07.788Z"
      },
      {
        "duration": 1374,
        "start_time": "2022-06-08T08:36:07.834Z"
      },
      {
        "duration": 10,
        "start_time": "2022-06-08T08:36:09.210Z"
      },
      {
        "duration": 12,
        "start_time": "2022-06-08T08:36:09.221Z"
      },
      {
        "duration": 5,
        "start_time": "2022-06-08T08:36:09.235Z"
      },
      {
        "duration": 7,
        "start_time": "2022-06-08T08:36:09.242Z"
      },
      {
        "duration": 11,
        "start_time": "2022-06-08T08:36:09.250Z"
      },
      {
        "duration": 44,
        "start_time": "2022-06-08T08:36:09.262Z"
      },
      {
        "duration": 11,
        "start_time": "2022-06-08T08:36:09.308Z"
      },
      {
        "duration": 40,
        "start_time": "2022-06-08T08:36:09.320Z"
      },
      {
        "duration": 1172,
        "start_time": "2022-06-08T08:58:53.405Z"
      },
      {
        "duration": 76,
        "start_time": "2022-06-08T08:58:54.579Z"
      },
      {
        "duration": 14,
        "start_time": "2022-06-08T08:58:54.657Z"
      },
      {
        "duration": 31,
        "start_time": "2022-06-08T08:58:54.674Z"
      },
      {
        "duration": 11,
        "start_time": "2022-06-08T08:58:54.707Z"
      },
      {
        "duration": 6,
        "start_time": "2022-06-08T08:58:54.720Z"
      },
      {
        "duration": 13,
        "start_time": "2022-06-08T08:58:54.728Z"
      },
      {
        "duration": 17,
        "start_time": "2022-06-08T08:58:54.758Z"
      },
      {
        "duration": 8,
        "start_time": "2022-06-08T08:58:54.777Z"
      },
      {
        "duration": 10,
        "start_time": "2022-06-08T08:58:54.788Z"
      },
      {
        "duration": 441,
        "start_time": "2022-06-08T08:58:54.799Z"
      },
      {
        "duration": 14,
        "start_time": "2022-06-08T08:58:55.242Z"
      },
      {
        "duration": 121,
        "start_time": "2022-06-08T08:58:55.259Z"
      },
      {
        "duration": 12,
        "start_time": "2022-06-08T08:58:55.382Z"
      },
      {
        "duration": 116,
        "start_time": "2022-06-08T08:58:55.396Z"
      },
      {
        "duration": 52,
        "start_time": "2022-06-08T08:58:55.514Z"
      },
      {
        "duration": 1925,
        "start_time": "2022-06-08T08:58:55.568Z"
      },
      {
        "duration": 30,
        "start_time": "2022-06-08T08:58:57.496Z"
      },
      {
        "duration": 102,
        "start_time": "2022-06-08T08:58:57.528Z"
      },
      {
        "duration": 218,
        "start_time": "2022-06-08T08:58:57.632Z"
      },
      {
        "duration": 18,
        "start_time": "2022-06-08T08:58:57.852Z"
      },
      {
        "duration": 81,
        "start_time": "2022-06-08T08:58:57.872Z"
      },
      {
        "duration": 1068,
        "start_time": "2022-06-08T08:58:57.955Z"
      },
      {
        "duration": 11,
        "start_time": "2022-06-08T08:58:59.025Z"
      },
      {
        "duration": 35,
        "start_time": "2022-06-08T08:58:59.037Z"
      },
      {
        "duration": 28,
        "start_time": "2022-06-08T08:58:59.074Z"
      },
      {
        "duration": 17,
        "start_time": "2022-06-08T08:58:59.104Z"
      },
      {
        "duration": 34,
        "start_time": "2022-06-08T08:58:59.124Z"
      },
      {
        "duration": 37,
        "start_time": "2022-06-08T08:58:59.160Z"
      },
      {
        "duration": 63,
        "start_time": "2022-06-08T08:58:59.199Z"
      },
      {
        "duration": 1025,
        "start_time": "2022-06-08T08:58:59.264Z"
      },
      {
        "duration": 11,
        "start_time": "2022-06-08T08:59:00.291Z"
      },
      {
        "duration": 48,
        "start_time": "2022-06-08T08:59:00.304Z"
      },
      {
        "duration": 8,
        "start_time": "2022-06-08T08:59:00.355Z"
      },
      {
        "duration": 23,
        "start_time": "2022-06-08T08:59:00.366Z"
      },
      {
        "duration": 41,
        "start_time": "2022-06-08T08:59:00.392Z"
      },
      {
        "duration": 87,
        "start_time": "2022-06-08T08:59:00.436Z"
      },
      {
        "duration": 15,
        "start_time": "2022-06-08T08:59:00.525Z"
      },
      {
        "duration": 41,
        "start_time": "2022-06-08T08:59:00.542Z"
      },
      {
        "duration": 4,
        "start_time": "2022-06-08T09:16:46.212Z"
      },
      {
        "duration": 4,
        "start_time": "2022-06-08T09:16:49.917Z"
      },
      {
        "duration": 1182,
        "start_time": "2022-06-08T09:28:11.858Z"
      },
      {
        "duration": 76,
        "start_time": "2022-06-08T09:28:13.042Z"
      },
      {
        "duration": 13,
        "start_time": "2022-06-08T09:28:13.119Z"
      },
      {
        "duration": 26,
        "start_time": "2022-06-08T09:28:13.135Z"
      },
      {
        "duration": 10,
        "start_time": "2022-06-08T09:28:13.163Z"
      },
      {
        "duration": 6,
        "start_time": "2022-06-08T09:28:13.175Z"
      },
      {
        "duration": 8,
        "start_time": "2022-06-08T09:28:13.182Z"
      },
      {
        "duration": 11,
        "start_time": "2022-06-08T09:28:13.191Z"
      },
      {
        "duration": 6,
        "start_time": "2022-06-08T09:28:13.204Z"
      },
      {
        "duration": 10,
        "start_time": "2022-06-08T09:28:13.212Z"
      },
      {
        "duration": 405,
        "start_time": "2022-06-08T09:28:13.224Z"
      },
      {
        "duration": 9,
        "start_time": "2022-06-08T09:28:13.630Z"
      },
      {
        "duration": 118,
        "start_time": "2022-06-08T09:28:13.641Z"
      },
      {
        "duration": 11,
        "start_time": "2022-06-08T09:28:13.761Z"
      },
      {
        "duration": 61,
        "start_time": "2022-06-08T09:28:13.774Z"
      },
      {
        "duration": 43,
        "start_time": "2022-06-08T09:28:13.837Z"
      },
      {
        "duration": 1458,
        "start_time": "2022-06-08T09:28:13.882Z"
      },
      {
        "duration": 23,
        "start_time": "2022-06-08T09:28:15.342Z"
      },
      {
        "duration": 40,
        "start_time": "2022-06-08T09:28:15.367Z"
      },
      {
        "duration": 194,
        "start_time": "2022-06-08T09:28:15.409Z"
      },
      {
        "duration": 14,
        "start_time": "2022-06-08T09:28:15.605Z"
      },
      {
        "duration": 57,
        "start_time": "2022-06-08T09:28:15.621Z"
      },
      {
        "duration": 1217,
        "start_time": "2022-06-08T09:28:15.680Z"
      },
      {
        "duration": 12,
        "start_time": "2022-06-08T09:28:16.905Z"
      },
      {
        "duration": 22,
        "start_time": "2022-06-08T09:28:16.926Z"
      },
      {
        "duration": 19,
        "start_time": "2022-06-08T09:28:16.949Z"
      },
      {
        "duration": 5,
        "start_time": "2022-06-08T09:28:16.970Z"
      },
      {
        "duration": 17,
        "start_time": "2022-06-08T09:28:16.978Z"
      },
      {
        "duration": 11,
        "start_time": "2022-06-08T09:28:16.996Z"
      },
      {
        "duration": 67,
        "start_time": "2022-06-08T09:28:17.009Z"
      },
      {
        "duration": 823,
        "start_time": "2022-06-08T09:28:17.077Z"
      },
      {
        "duration": 10,
        "start_time": "2022-06-08T09:28:17.901Z"
      },
      {
        "duration": 18,
        "start_time": "2022-06-08T09:28:17.912Z"
      },
      {
        "duration": 6,
        "start_time": "2022-06-08T09:28:17.932Z"
      },
      {
        "duration": 8,
        "start_time": "2022-06-08T09:28:17.940Z"
      },
      {
        "duration": 12,
        "start_time": "2022-06-08T09:28:17.950Z"
      },
      {
        "duration": 60,
        "start_time": "2022-06-08T09:28:17.963Z"
      },
      {
        "duration": 11,
        "start_time": "2022-06-08T09:28:18.025Z"
      },
      {
        "duration": 26,
        "start_time": "2022-06-08T09:28:18.037Z"
      },
      {
        "duration": 4,
        "start_time": "2022-06-08T09:28:18.065Z"
      },
      {
        "duration": 1125,
        "start_time": "2022-06-08T09:33:54.023Z"
      },
      {
        "duration": 76,
        "start_time": "2022-06-08T09:33:55.149Z"
      },
      {
        "duration": 12,
        "start_time": "2022-06-08T09:33:55.227Z"
      },
      {
        "duration": 29,
        "start_time": "2022-06-08T09:33:55.241Z"
      },
      {
        "duration": 10,
        "start_time": "2022-06-08T09:33:55.271Z"
      },
      {
        "duration": 7,
        "start_time": "2022-06-08T09:33:55.282Z"
      },
      {
        "duration": 8,
        "start_time": "2022-06-08T09:33:55.291Z"
      },
      {
        "duration": 19,
        "start_time": "2022-06-08T09:33:55.300Z"
      },
      {
        "duration": 5,
        "start_time": "2022-06-08T09:33:55.321Z"
      },
      {
        "duration": 31,
        "start_time": "2022-06-08T09:33:55.328Z"
      },
      {
        "duration": 406,
        "start_time": "2022-06-08T09:33:55.361Z"
      },
      {
        "duration": 10,
        "start_time": "2022-06-08T09:33:55.768Z"
      },
      {
        "duration": 105,
        "start_time": "2022-06-08T09:33:55.779Z"
      },
      {
        "duration": 12,
        "start_time": "2022-06-08T09:33:55.885Z"
      },
      {
        "duration": 110,
        "start_time": "2022-06-08T09:33:55.899Z"
      },
      {
        "duration": 25,
        "start_time": "2022-06-08T09:33:56.011Z"
      },
      {
        "duration": 1537,
        "start_time": "2022-06-08T09:33:56.037Z"
      },
      {
        "duration": 16,
        "start_time": "2022-06-08T09:33:57.576Z"
      },
      {
        "duration": 65,
        "start_time": "2022-06-08T09:33:57.594Z"
      },
      {
        "duration": 192,
        "start_time": "2022-06-08T09:33:57.660Z"
      },
      {
        "duration": 18,
        "start_time": "2022-06-08T09:33:57.853Z"
      },
      {
        "duration": 45,
        "start_time": "2022-06-08T09:33:57.873Z"
      },
      {
        "duration": 991,
        "start_time": "2022-06-08T09:33:57.920Z"
      },
      {
        "duration": 10,
        "start_time": "2022-06-08T09:33:58.913Z"
      },
      {
        "duration": 13,
        "start_time": "2022-06-08T09:33:58.924Z"
      },
      {
        "duration": 17,
        "start_time": "2022-06-08T09:33:58.939Z"
      },
      {
        "duration": 5,
        "start_time": "2022-06-08T09:33:58.958Z"
      },
      {
        "duration": 17,
        "start_time": "2022-06-08T09:33:58.966Z"
      },
      {
        "duration": 10,
        "start_time": "2022-06-08T09:33:58.985Z"
      },
      {
        "duration": 64,
        "start_time": "2022-06-08T09:33:58.997Z"
      },
      {
        "duration": 764,
        "start_time": "2022-06-08T09:33:59.063Z"
      },
      {
        "duration": 11,
        "start_time": "2022-06-08T09:33:59.829Z"
      },
      {
        "duration": 15,
        "start_time": "2022-06-08T09:33:59.841Z"
      },
      {
        "duration": 6,
        "start_time": "2022-06-08T09:33:59.858Z"
      },
      {
        "duration": 9,
        "start_time": "2022-06-08T09:33:59.866Z"
      },
      {
        "duration": 10,
        "start_time": "2022-06-08T09:33:59.876Z"
      },
      {
        "duration": 54,
        "start_time": "2022-06-08T09:33:59.887Z"
      },
      {
        "duration": 12,
        "start_time": "2022-06-08T09:33:59.958Z"
      },
      {
        "duration": 19,
        "start_time": "2022-06-08T09:33:59.972Z"
      },
      {
        "duration": 4,
        "start_time": "2022-06-08T09:33:59.992Z"
      },
      {
        "duration": 1127,
        "start_time": "2022-06-08T09:37:55.915Z"
      },
      {
        "duration": 78,
        "start_time": "2022-06-08T09:37:57.044Z"
      },
      {
        "duration": 11,
        "start_time": "2022-06-08T09:37:57.124Z"
      },
      {
        "duration": 17,
        "start_time": "2022-06-08T09:37:57.137Z"
      },
      {
        "duration": 10,
        "start_time": "2022-06-08T09:37:57.158Z"
      },
      {
        "duration": 7,
        "start_time": "2022-06-08T09:37:57.170Z"
      },
      {
        "duration": 21,
        "start_time": "2022-06-08T09:37:57.179Z"
      },
      {
        "duration": 17,
        "start_time": "2022-06-08T09:37:57.202Z"
      },
      {
        "duration": 12,
        "start_time": "2022-06-08T09:37:57.221Z"
      },
      {
        "duration": 25,
        "start_time": "2022-06-08T09:37:57.236Z"
      },
      {
        "duration": 425,
        "start_time": "2022-06-08T09:37:57.262Z"
      },
      {
        "duration": 9,
        "start_time": "2022-06-08T09:37:57.689Z"
      },
      {
        "duration": 86,
        "start_time": "2022-06-08T09:37:57.699Z"
      },
      {
        "duration": 12,
        "start_time": "2022-06-08T09:37:57.787Z"
      },
      {
        "duration": 112,
        "start_time": "2022-06-08T09:37:57.801Z"
      },
      {
        "duration": 25,
        "start_time": "2022-06-08T09:37:57.915Z"
      },
      {
        "duration": 1513,
        "start_time": "2022-06-08T09:37:57.959Z"
      },
      {
        "duration": 17,
        "start_time": "2022-06-08T09:37:59.474Z"
      },
      {
        "duration": 47,
        "start_time": "2022-06-08T09:37:59.493Z"
      },
      {
        "duration": 188,
        "start_time": "2022-06-08T09:37:59.558Z"
      },
      {
        "duration": 18,
        "start_time": "2022-06-08T09:37:59.748Z"
      },
      {
        "duration": 42,
        "start_time": "2022-06-08T09:37:59.768Z"
      },
      {
        "duration": 999,
        "start_time": "2022-06-08T09:37:59.812Z"
      },
      {
        "duration": 11,
        "start_time": "2022-06-08T09:38:00.812Z"
      },
      {
        "duration": 13,
        "start_time": "2022-06-08T09:38:00.824Z"
      },
      {
        "duration": 32,
        "start_time": "2022-06-08T09:38:00.838Z"
      },
      {
        "duration": 6,
        "start_time": "2022-06-08T09:38:00.871Z"
      },
      {
        "duration": 26,
        "start_time": "2022-06-08T09:38:00.880Z"
      },
      {
        "duration": 23,
        "start_time": "2022-06-08T09:38:00.908Z"
      },
      {
        "duration": 54,
        "start_time": "2022-06-08T09:38:00.932Z"
      },
      {
        "duration": 654,
        "start_time": "2022-06-08T09:38:00.987Z"
      },
      {
        "duration": 9,
        "start_time": "2022-06-08T09:38:01.643Z"
      },
      {
        "duration": 71,
        "start_time": "2022-06-08T09:38:01.654Z"
      },
      {
        "duration": 55,
        "start_time": "2022-06-08T09:38:01.727Z"
      },
      {
        "duration": 32,
        "start_time": "2022-06-08T09:38:01.783Z"
      },
      {
        "duration": 56,
        "start_time": "2022-06-08T09:38:01.816Z"
      },
      {
        "duration": 66,
        "start_time": "2022-06-08T09:38:01.873Z"
      },
      {
        "duration": 53,
        "start_time": "2022-06-08T09:38:01.941Z"
      },
      {
        "duration": 76,
        "start_time": "2022-06-08T09:38:01.995Z"
      },
      {
        "duration": 26,
        "start_time": "2022-06-08T09:38:02.073Z"
      },
      {
        "duration": 4,
        "start_time": "2022-06-08T09:39:02.284Z"
      },
      {
        "duration": 1141,
        "start_time": "2022-06-08T09:39:14.121Z"
      },
      {
        "duration": 79,
        "start_time": "2022-06-08T09:39:15.263Z"
      },
      {
        "duration": 14,
        "start_time": "2022-06-08T09:39:15.344Z"
      },
      {
        "duration": 18,
        "start_time": "2022-06-08T09:39:15.361Z"
      },
      {
        "duration": 10,
        "start_time": "2022-06-08T09:39:15.380Z"
      },
      {
        "duration": 7,
        "start_time": "2022-06-08T09:39:15.391Z"
      },
      {
        "duration": 13,
        "start_time": "2022-06-08T09:39:15.400Z"
      },
      {
        "duration": 12,
        "start_time": "2022-06-08T09:39:15.415Z"
      },
      {
        "duration": 7,
        "start_time": "2022-06-08T09:39:15.429Z"
      },
      {
        "duration": 29,
        "start_time": "2022-06-08T09:39:15.438Z"
      },
      {
        "duration": 395,
        "start_time": "2022-06-08T09:39:15.468Z"
      },
      {
        "duration": 9,
        "start_time": "2022-06-08T09:39:15.864Z"
      },
      {
        "duration": 107,
        "start_time": "2022-06-08T09:39:15.874Z"
      },
      {
        "duration": 12,
        "start_time": "2022-06-08T09:39:15.983Z"
      },
      {
        "duration": 97,
        "start_time": "2022-06-08T09:39:15.996Z"
      },
      {
        "duration": 24,
        "start_time": "2022-06-08T09:39:16.095Z"
      },
      {
        "duration": 1542,
        "start_time": "2022-06-08T09:39:16.121Z"
      },
      {
        "duration": 17,
        "start_time": "2022-06-08T09:39:17.665Z"
      },
      {
        "duration": 43,
        "start_time": "2022-06-08T09:39:17.683Z"
      },
      {
        "duration": 214,
        "start_time": "2022-06-08T09:39:17.728Z"
      },
      {
        "duration": 21,
        "start_time": "2022-06-08T09:39:17.943Z"
      },
      {
        "duration": 47,
        "start_time": "2022-06-08T09:39:17.966Z"
      },
      {
        "duration": 1094,
        "start_time": "2022-06-08T09:39:18.015Z"
      },
      {
        "duration": 10,
        "start_time": "2022-06-08T09:39:19.110Z"
      },
      {
        "duration": 14,
        "start_time": "2022-06-08T09:39:19.122Z"
      },
      {
        "duration": 18,
        "start_time": "2022-06-08T09:39:19.138Z"
      },
      {
        "duration": 5,
        "start_time": "2022-06-08T09:39:19.158Z"
      },
      {
        "duration": 18,
        "start_time": "2022-06-08T09:39:19.166Z"
      },
      {
        "duration": 18,
        "start_time": "2022-06-08T09:39:19.185Z"
      },
      {
        "duration": 47,
        "start_time": "2022-06-08T09:39:19.205Z"
      },
      {
        "duration": 774,
        "start_time": "2022-06-08T09:39:19.253Z"
      },
      {
        "duration": 11,
        "start_time": "2022-06-08T09:39:20.029Z"
      },
      {
        "duration": 26,
        "start_time": "2022-06-08T09:39:20.042Z"
      },
      {
        "duration": 6,
        "start_time": "2022-06-08T09:39:20.070Z"
      },
      {
        "duration": 8,
        "start_time": "2022-06-08T09:39:20.077Z"
      },
      {
        "duration": 20,
        "start_time": "2022-06-08T09:39:20.086Z"
      },
      {
        "duration": 54,
        "start_time": "2022-06-08T09:39:20.107Z"
      },
      {
        "duration": 11,
        "start_time": "2022-06-08T09:39:20.163Z"
      },
      {
        "duration": 18,
        "start_time": "2022-06-08T09:39:20.175Z"
      },
      {
        "duration": 4,
        "start_time": "2022-06-08T09:39:20.194Z"
      },
      {
        "duration": 46,
        "start_time": "2022-06-08T16:15:34.495Z"
      },
      {
        "duration": 1634,
        "start_time": "2022-06-08T16:15:40.244Z"
      },
      {
        "duration": 248,
        "start_time": "2022-06-08T16:15:41.880Z"
      },
      {
        "duration": 13,
        "start_time": "2022-06-08T16:15:42.130Z"
      },
      {
        "duration": 19,
        "start_time": "2022-06-08T16:15:42.145Z"
      },
      {
        "duration": 9,
        "start_time": "2022-06-08T16:15:42.167Z"
      },
      {
        "duration": 10,
        "start_time": "2022-06-08T16:15:42.177Z"
      },
      {
        "duration": 10,
        "start_time": "2022-06-08T16:15:42.188Z"
      },
      {
        "duration": 22,
        "start_time": "2022-06-08T16:15:42.200Z"
      },
      {
        "duration": 5,
        "start_time": "2022-06-08T16:15:42.224Z"
      },
      {
        "duration": 28,
        "start_time": "2022-06-08T16:15:42.231Z"
      },
      {
        "duration": 356,
        "start_time": "2022-06-08T16:15:42.260Z"
      },
      {
        "duration": 10,
        "start_time": "2022-06-08T16:15:42.617Z"
      },
      {
        "duration": 70,
        "start_time": "2022-06-08T16:15:42.628Z"
      },
      {
        "duration": 60,
        "start_time": "2022-06-08T16:15:42.701Z"
      },
      {
        "duration": 59,
        "start_time": "2022-06-08T16:15:42.763Z"
      },
      {
        "duration": 36,
        "start_time": "2022-06-08T16:15:42.824Z"
      },
      {
        "duration": 25,
        "start_time": "2022-06-08T16:15:42.861Z"
      },
      {
        "duration": 1565,
        "start_time": "2022-06-08T16:15:42.888Z"
      },
      {
        "duration": 16,
        "start_time": "2022-06-08T16:15:44.458Z"
      },
      {
        "duration": 42,
        "start_time": "2022-06-08T16:15:44.476Z"
      },
      {
        "duration": 307,
        "start_time": "2022-06-08T16:15:44.520Z"
      },
      {
        "duration": 15,
        "start_time": "2022-06-08T16:15:44.828Z"
      },
      {
        "duration": 55,
        "start_time": "2022-06-08T16:15:44.845Z"
      },
      {
        "duration": 1241,
        "start_time": "2022-06-08T16:15:44.902Z"
      },
      {
        "duration": 9,
        "start_time": "2022-06-08T16:15:46.145Z"
      },
      {
        "duration": 11,
        "start_time": "2022-06-08T16:15:46.156Z"
      },
      {
        "duration": 20,
        "start_time": "2022-06-08T16:15:46.168Z"
      },
      {
        "duration": 6,
        "start_time": "2022-06-08T16:15:46.189Z"
      },
      {
        "duration": 29,
        "start_time": "2022-06-08T16:15:46.197Z"
      },
      {
        "duration": 25,
        "start_time": "2022-06-08T16:15:46.228Z"
      },
      {
        "duration": 48,
        "start_time": "2022-06-08T16:15:46.255Z"
      },
      {
        "duration": 1200,
        "start_time": "2022-06-08T16:15:46.304Z"
      },
      {
        "duration": 8,
        "start_time": "2022-06-08T16:15:47.506Z"
      },
      {
        "duration": 19,
        "start_time": "2022-06-08T16:15:47.516Z"
      },
      {
        "duration": 6,
        "start_time": "2022-06-08T16:15:47.536Z"
      },
      {
        "duration": 8,
        "start_time": "2022-06-08T16:15:47.543Z"
      },
      {
        "duration": 11,
        "start_time": "2022-06-08T16:15:47.553Z"
      },
      {
        "duration": 45,
        "start_time": "2022-06-08T16:15:47.565Z"
      },
      {
        "duration": 12,
        "start_time": "2022-06-08T16:15:47.612Z"
      },
      {
        "duration": 43,
        "start_time": "2022-06-08T16:15:47.625Z"
      },
      {
        "duration": 4,
        "start_time": "2022-06-08T16:15:47.671Z"
      },
      {
        "duration": 13,
        "start_time": "2022-06-08T16:15:55.685Z"
      },
      {
        "duration": 4,
        "start_time": "2022-06-08T16:19:15.742Z"
      },
      {
        "duration": 1293,
        "start_time": "2022-06-09T03:32:05.218Z"
      },
      {
        "duration": 256,
        "start_time": "2022-06-09T03:32:06.513Z"
      },
      {
        "duration": 15,
        "start_time": "2022-06-09T03:32:06.771Z"
      },
      {
        "duration": 20,
        "start_time": "2022-06-09T03:32:06.788Z"
      },
      {
        "duration": 11,
        "start_time": "2022-06-09T03:32:06.810Z"
      },
      {
        "duration": 7,
        "start_time": "2022-06-09T03:32:06.823Z"
      },
      {
        "duration": 36,
        "start_time": "2022-06-09T03:32:06.831Z"
      },
      {
        "duration": 12,
        "start_time": "2022-06-09T03:32:06.869Z"
      },
      {
        "duration": 6,
        "start_time": "2022-06-09T03:32:06.883Z"
      },
      {
        "duration": 9,
        "start_time": "2022-06-09T03:32:06.892Z"
      },
      {
        "duration": 372,
        "start_time": "2022-06-09T03:32:06.903Z"
      },
      {
        "duration": 13,
        "start_time": "2022-06-09T03:32:07.276Z"
      },
      {
        "duration": 108,
        "start_time": "2022-06-09T03:32:07.291Z"
      },
      {
        "duration": 67,
        "start_time": "2022-06-09T03:32:07.401Z"
      },
      {
        "duration": 56,
        "start_time": "2022-06-09T03:32:07.470Z"
      },
      {
        "duration": 36,
        "start_time": "2022-06-09T03:32:07.528Z"
      },
      {
        "duration": 27,
        "start_time": "2022-06-09T03:32:07.567Z"
      },
      {
        "duration": 1624,
        "start_time": "2022-06-09T03:32:07.596Z"
      },
      {
        "duration": 17,
        "start_time": "2022-06-09T03:32:09.223Z"
      },
      {
        "duration": 56,
        "start_time": "2022-06-09T03:32:09.241Z"
      },
      {
        "duration": 199,
        "start_time": "2022-06-09T03:32:09.299Z"
      },
      {
        "duration": 5,
        "start_time": "2022-06-09T03:32:09.500Z"
      },
      {
        "duration": 15,
        "start_time": "2022-06-09T03:32:09.506Z"
      },
      {
        "duration": 64,
        "start_time": "2022-06-09T03:32:09.523Z"
      },
      {
        "duration": 1385,
        "start_time": "2022-06-09T03:32:09.589Z"
      },
      {
        "duration": 12,
        "start_time": "2022-06-09T03:32:10.975Z"
      },
      {
        "duration": 27,
        "start_time": "2022-06-09T03:32:10.988Z"
      },
      {
        "duration": 20,
        "start_time": "2022-06-09T03:32:11.019Z"
      },
      {
        "duration": 6,
        "start_time": "2022-06-09T03:32:11.041Z"
      },
      {
        "duration": 34,
        "start_time": "2022-06-09T03:32:11.048Z"
      },
      {
        "duration": 20,
        "start_time": "2022-06-09T03:32:11.084Z"
      },
      {
        "duration": 44,
        "start_time": "2022-06-09T03:32:11.106Z"
      },
      {
        "duration": 1319,
        "start_time": "2022-06-09T03:32:11.152Z"
      },
      {
        "duration": 9,
        "start_time": "2022-06-09T03:32:12.473Z"
      },
      {
        "duration": 18,
        "start_time": "2022-06-09T03:32:12.483Z"
      },
      {
        "duration": 6,
        "start_time": "2022-06-09T03:32:12.503Z"
      },
      {
        "duration": 10,
        "start_time": "2022-06-09T03:32:12.511Z"
      },
      {
        "duration": 9,
        "start_time": "2022-06-09T03:32:12.522Z"
      },
      {
        "duration": 68,
        "start_time": "2022-06-09T03:32:12.533Z"
      },
      {
        "duration": 11,
        "start_time": "2022-06-09T03:32:12.602Z"
      },
      {
        "duration": 18,
        "start_time": "2022-06-09T03:32:12.614Z"
      },
      {
        "duration": 4,
        "start_time": "2022-06-09T03:32:12.633Z"
      },
      {
        "duration": 19,
        "start_time": "2022-06-09T03:34:11.197Z"
      },
      {
        "duration": 156,
        "start_time": "2022-06-09T03:38:17.582Z"
      },
      {
        "duration": 48,
        "start_time": "2022-06-09T03:38:42.780Z"
      },
      {
        "duration": 47,
        "start_time": "2022-06-09T03:39:24.124Z"
      },
      {
        "duration": 44,
        "start_time": "2022-06-09T03:39:31.731Z"
      },
      {
        "duration": 13,
        "start_time": "2022-06-09T03:39:54.772Z"
      },
      {
        "duration": 64,
        "start_time": "2022-06-09T03:42:06.329Z"
      },
      {
        "duration": 47,
        "start_time": "2022-06-09T03:42:14.595Z"
      },
      {
        "duration": 46,
        "start_time": "2022-06-09T03:42:30.580Z"
      },
      {
        "duration": 14,
        "start_time": "2022-06-09T03:46:54.120Z"
      },
      {
        "duration": 14,
        "start_time": "2022-06-09T03:47:15.601Z"
      },
      {
        "duration": 12,
        "start_time": "2022-06-09T03:47:34.617Z"
      },
      {
        "duration": 17,
        "start_time": "2022-06-09T03:48:16.073Z"
      },
      {
        "duration": 5,
        "start_time": "2022-06-09T03:49:23.345Z"
      },
      {
        "duration": 5,
        "start_time": "2022-06-09T03:54:55.205Z"
      },
      {
        "duration": 6,
        "start_time": "2022-06-09T03:55:03.950Z"
      },
      {
        "duration": 6,
        "start_time": "2022-06-09T03:55:13.358Z"
      },
      {
        "duration": 5,
        "start_time": "2022-06-09T03:55:22.173Z"
      },
      {
        "duration": 5,
        "start_time": "2022-06-09T03:55:34.798Z"
      },
      {
        "duration": 4,
        "start_time": "2022-06-09T03:59:59.852Z"
      },
      {
        "duration": 6,
        "start_time": "2022-06-09T04:00:50.829Z"
      },
      {
        "duration": 22,
        "start_time": "2022-06-09T04:01:56.195Z"
      },
      {
        "duration": 4,
        "start_time": "2022-06-09T04:02:02.491Z"
      },
      {
        "duration": 5,
        "start_time": "2022-06-09T04:02:18.546Z"
      },
      {
        "duration": 4,
        "start_time": "2022-06-09T04:02:27.929Z"
      },
      {
        "duration": 4,
        "start_time": "2022-06-09T04:04:25.371Z"
      },
      {
        "duration": 4,
        "start_time": "2022-06-09T04:04:39.393Z"
      },
      {
        "duration": 4,
        "start_time": "2022-06-09T04:05:07.546Z"
      },
      {
        "duration": 5,
        "start_time": "2022-06-09T04:05:15.417Z"
      },
      {
        "duration": 4,
        "start_time": "2022-06-09T04:06:24.431Z"
      },
      {
        "duration": 5,
        "start_time": "2022-06-09T04:06:30.801Z"
      },
      {
        "duration": 5,
        "start_time": "2022-06-09T04:06:43.744Z"
      },
      {
        "duration": 4,
        "start_time": "2022-06-09T04:06:45.808Z"
      },
      {
        "duration": 4,
        "start_time": "2022-06-09T04:07:37.729Z"
      },
      {
        "duration": 4,
        "start_time": "2022-06-09T04:07:41.960Z"
      },
      {
        "duration": 5,
        "start_time": "2022-06-09T04:07:45.183Z"
      },
      {
        "duration": 21,
        "start_time": "2022-06-09T04:14:16.709Z"
      },
      {
        "duration": 13,
        "start_time": "2022-06-09T04:14:38.805Z"
      },
      {
        "duration": 22,
        "start_time": "2022-06-09T04:14:52.206Z"
      },
      {
        "duration": 21,
        "start_time": "2022-06-09T04:15:11.101Z"
      },
      {
        "duration": 17,
        "start_time": "2022-06-09T04:15:18.613Z"
      },
      {
        "duration": 20,
        "start_time": "2022-06-09T04:15:43.238Z"
      },
      {
        "duration": 14,
        "start_time": "2022-06-09T04:17:17.465Z"
      },
      {
        "duration": 19,
        "start_time": "2022-06-09T04:17:32.100Z"
      },
      {
        "duration": 15,
        "start_time": "2022-06-09T04:18:05.347Z"
      },
      {
        "duration": 7,
        "start_time": "2022-06-09T04:18:19.492Z"
      },
      {
        "duration": 18,
        "start_time": "2022-06-09T04:18:28.956Z"
      },
      {
        "duration": 10,
        "start_time": "2022-06-09T04:18:44.427Z"
      },
      {
        "duration": 22,
        "start_time": "2022-06-09T04:19:45.411Z"
      },
      {
        "duration": 17,
        "start_time": "2022-06-09T04:20:03.163Z"
      },
      {
        "duration": 12,
        "start_time": "2022-06-09T04:20:05.915Z"
      },
      {
        "duration": 20,
        "start_time": "2022-06-09T04:20:26.057Z"
      },
      {
        "duration": 5,
        "start_time": "2022-06-09T04:25:47.876Z"
      },
      {
        "duration": 54,
        "start_time": "2022-06-09T04:28:33.261Z"
      },
      {
        "duration": 50,
        "start_time": "2022-06-09T04:29:49.367Z"
      },
      {
        "duration": 51,
        "start_time": "2022-06-09T04:30:03.199Z"
      },
      {
        "duration": 72,
        "start_time": "2022-06-09T04:30:27.271Z"
      },
      {
        "duration": 15,
        "start_time": "2022-06-09T04:34:54.835Z"
      },
      {
        "duration": 66,
        "start_time": "2022-06-09T04:37:00.602Z"
      },
      {
        "duration": 53,
        "start_time": "2022-06-09T04:38:01.993Z"
      },
      {
        "duration": 50,
        "start_time": "2022-06-09T04:38:15.651Z"
      },
      {
        "duration": 52,
        "start_time": "2022-06-09T04:38:20.826Z"
      },
      {
        "duration": 57,
        "start_time": "2022-06-09T04:38:26.979Z"
      },
      {
        "duration": 56,
        "start_time": "2022-06-09T04:38:34.003Z"
      },
      {
        "duration": 66,
        "start_time": "2022-06-09T04:39:10.755Z"
      },
      {
        "duration": 64,
        "start_time": "2022-06-09T04:39:51.474Z"
      },
      {
        "duration": 56,
        "start_time": "2022-06-09T04:40:00.706Z"
      },
      {
        "duration": 50,
        "start_time": "2022-06-09T04:40:04.834Z"
      },
      {
        "duration": 64,
        "start_time": "2022-06-09T04:40:08.938Z"
      },
      {
        "duration": 55,
        "start_time": "2022-06-09T04:40:34.651Z"
      },
      {
        "duration": 67,
        "start_time": "2022-06-09T04:41:14.619Z"
      },
      {
        "duration": 1189,
        "start_time": "2022-06-09T04:41:25.870Z"
      },
      {
        "duration": 78,
        "start_time": "2022-06-09T04:41:27.061Z"
      },
      {
        "duration": 14,
        "start_time": "2022-06-09T04:41:27.141Z"
      },
      {
        "duration": 22,
        "start_time": "2022-06-09T04:41:27.157Z"
      },
      {
        "duration": 12,
        "start_time": "2022-06-09T04:41:27.180Z"
      },
      {
        "duration": 5,
        "start_time": "2022-06-09T04:41:27.195Z"
      },
      {
        "duration": 10,
        "start_time": "2022-06-09T04:41:27.202Z"
      },
      {
        "duration": 15,
        "start_time": "2022-06-09T04:41:27.214Z"
      },
      {
        "duration": 39,
        "start_time": "2022-06-09T04:41:27.231Z"
      },
      {
        "duration": 9,
        "start_time": "2022-06-09T04:41:27.272Z"
      },
      {
        "duration": 408,
        "start_time": "2022-06-09T04:41:27.284Z"
      },
      {
        "duration": 16,
        "start_time": "2022-06-09T04:41:27.694Z"
      },
      {
        "duration": 89,
        "start_time": "2022-06-09T04:41:27.712Z"
      },
      {
        "duration": 65,
        "start_time": "2022-06-09T04:41:27.803Z"
      },
      {
        "duration": 115,
        "start_time": "2022-06-09T04:41:27.870Z"
      },
      {
        "duration": 15,
        "start_time": "2022-06-09T04:41:27.986Z"
      },
      {
        "duration": 62,
        "start_time": "2022-06-09T04:41:28.002Z"
      },
      {
        "duration": 1924,
        "start_time": "2022-06-09T04:41:28.066Z"
      },
      {
        "duration": 4,
        "start_time": "2022-06-09T04:41:29.992Z"
      },
      {
        "duration": 17,
        "start_time": "2022-06-09T04:41:29.998Z"
      },
      {
        "duration": 26,
        "start_time": "2022-06-09T04:41:30.017Z"
      },
      {
        "duration": 18,
        "start_time": "2022-06-09T04:41:30.044Z"
      },
      {
        "duration": 35,
        "start_time": "2022-06-09T04:41:30.063Z"
      },
      {
        "duration": 29,
        "start_time": "2022-06-09T04:41:30.100Z"
      },
      {
        "duration": 23,
        "start_time": "2022-06-09T04:41:30.131Z"
      },
      {
        "duration": 63,
        "start_time": "2022-06-09T04:41:30.156Z"
      },
      {
        "duration": 226,
        "start_time": "2022-06-09T04:41:30.220Z"
      },
      {
        "duration": 5,
        "start_time": "2022-06-09T04:41:30.449Z"
      },
      {
        "duration": 21,
        "start_time": "2022-06-09T04:41:30.465Z"
      },
      {
        "duration": 66,
        "start_time": "2022-06-09T04:41:30.488Z"
      },
      {
        "duration": 1287,
        "start_time": "2022-06-09T04:41:30.556Z"
      },
      {
        "duration": 12,
        "start_time": "2022-06-09T04:41:31.845Z"
      },
      {
        "duration": 37,
        "start_time": "2022-06-09T04:41:31.859Z"
      },
      {
        "duration": 27,
        "start_time": "2022-06-09T04:41:31.901Z"
      },
      {
        "duration": 42,
        "start_time": "2022-06-09T04:41:31.930Z"
      },
      {
        "duration": 8,
        "start_time": "2022-06-09T04:41:31.975Z"
      },
      {
        "duration": 42,
        "start_time": "2022-06-09T04:41:31.986Z"
      },
      {
        "duration": 24,
        "start_time": "2022-06-09T04:41:32.029Z"
      },
      {
        "duration": 51,
        "start_time": "2022-06-09T04:41:32.055Z"
      },
      {
        "duration": 1182,
        "start_time": "2022-06-09T04:41:32.107Z"
      },
      {
        "duration": 16,
        "start_time": "2022-06-09T04:41:33.292Z"
      },
      {
        "duration": 19,
        "start_time": "2022-06-09T04:41:33.311Z"
      },
      {
        "duration": 8,
        "start_time": "2022-06-09T04:41:33.333Z"
      },
      {
        "duration": 28,
        "start_time": "2022-06-09T04:41:33.343Z"
      },
      {
        "duration": 11,
        "start_time": "2022-06-09T04:41:33.372Z"
      },
      {
        "duration": 54,
        "start_time": "2022-06-09T04:41:33.385Z"
      },
      {
        "duration": 42,
        "start_time": "2022-06-09T04:41:33.441Z"
      },
      {
        "duration": 34,
        "start_time": "2022-06-09T04:41:33.485Z"
      },
      {
        "duration": 5,
        "start_time": "2022-06-09T04:41:33.522Z"
      },
      {
        "duration": 50,
        "start_time": "2022-06-09T04:42:24.784Z"
      },
      {
        "duration": 62,
        "start_time": "2022-06-09T04:42:37.905Z"
      },
      {
        "duration": 61,
        "start_time": "2022-06-09T04:42:42.337Z"
      },
      {
        "duration": 178,
        "start_time": "2022-06-09T04:43:13.592Z"
      },
      {
        "duration": 17,
        "start_time": "2022-06-09T04:43:50.335Z"
      },
      {
        "duration": 1192,
        "start_time": "2022-06-09T04:44:22.673Z"
      },
      {
        "duration": 81,
        "start_time": "2022-06-09T04:44:23.868Z"
      },
      {
        "duration": 13,
        "start_time": "2022-06-09T04:44:23.951Z"
      },
      {
        "duration": 24,
        "start_time": "2022-06-09T04:44:23.966Z"
      },
      {
        "duration": 11,
        "start_time": "2022-06-09T04:44:23.992Z"
      },
      {
        "duration": 8,
        "start_time": "2022-06-09T04:44:24.005Z"
      },
      {
        "duration": 7,
        "start_time": "2022-06-09T04:44:24.015Z"
      },
      {
        "duration": 42,
        "start_time": "2022-06-09T04:44:24.024Z"
      },
      {
        "duration": 6,
        "start_time": "2022-06-09T04:44:24.067Z"
      },
      {
        "duration": 11,
        "start_time": "2022-06-09T04:44:24.076Z"
      },
      {
        "duration": 633,
        "start_time": "2022-06-09T04:44:24.089Z"
      },
      {
        "duration": 11,
        "start_time": "2022-06-09T04:44:24.724Z"
      },
      {
        "duration": 78,
        "start_time": "2022-06-09T04:44:24.736Z"
      },
      {
        "duration": 13,
        "start_time": "2022-06-09T04:44:24.815Z"
      },
      {
        "duration": 79,
        "start_time": "2022-06-09T04:44:24.830Z"
      },
      {
        "duration": 65,
        "start_time": "2022-06-09T04:44:24.911Z"
      },
      {
        "duration": 88,
        "start_time": "2022-06-09T04:44:24.978Z"
      },
      {
        "duration": 1688,
        "start_time": "2022-06-09T04:44:25.067Z"
      },
      {
        "duration": 7,
        "start_time": "2022-06-09T04:44:26.757Z"
      },
      {
        "duration": 8,
        "start_time": "2022-06-09T04:44:26.766Z"
      },
      {
        "duration": 6,
        "start_time": "2022-06-09T04:44:26.775Z"
      },
      {
        "duration": 5,
        "start_time": "2022-06-09T04:44:26.783Z"
      },
      {
        "duration": 18,
        "start_time": "2022-06-09T04:44:26.790Z"
      },
      {
        "duration": 12,
        "start_time": "2022-06-09T04:44:26.810Z"
      },
      {
        "duration": 53,
        "start_time": "2022-06-09T04:44:26.824Z"
      },
      {
        "duration": 48,
        "start_time": "2022-06-09T04:44:26.879Z"
      },
      {
        "duration": 211,
        "start_time": "2022-06-09T04:44:26.929Z"
      },
      {
        "duration": 5,
        "start_time": "2022-06-09T04:44:27.143Z"
      },
      {
        "duration": 22,
        "start_time": "2022-06-09T04:44:27.150Z"
      },
      {
        "duration": 59,
        "start_time": "2022-06-09T04:44:27.174Z"
      },
      {
        "duration": 1218,
        "start_time": "2022-06-09T04:44:27.236Z"
      },
      {
        "duration": 10,
        "start_time": "2022-06-09T04:44:28.456Z"
      },
      {
        "duration": 9,
        "start_time": "2022-06-09T04:44:28.468Z"
      },
      {
        "duration": 11,
        "start_time": "2022-06-09T04:44:28.478Z"
      },
      {
        "duration": 19,
        "start_time": "2022-06-09T04:44:28.490Z"
      },
      {
        "duration": 5,
        "start_time": "2022-06-09T04:44:28.511Z"
      },
      {
        "duration": 52,
        "start_time": "2022-06-09T04:44:28.518Z"
      },
      {
        "duration": 14,
        "start_time": "2022-06-09T04:44:28.573Z"
      },
      {
        "duration": 48,
        "start_time": "2022-06-09T04:44:28.589Z"
      },
      {
        "duration": 766,
        "start_time": "2022-06-09T04:44:28.639Z"
      },
      {
        "duration": 10,
        "start_time": "2022-06-09T04:44:29.407Z"
      },
      {
        "duration": 12,
        "start_time": "2022-06-09T04:44:29.419Z"
      },
      {
        "duration": 6,
        "start_time": "2022-06-09T04:44:29.433Z"
      },
      {
        "duration": 8,
        "start_time": "2022-06-09T04:44:29.440Z"
      },
      {
        "duration": 16,
        "start_time": "2022-06-09T04:44:29.450Z"
      },
      {
        "duration": 43,
        "start_time": "2022-06-09T04:44:29.468Z"
      },
      {
        "duration": 12,
        "start_time": "2022-06-09T04:44:29.512Z"
      },
      {
        "duration": 42,
        "start_time": "2022-06-09T04:44:29.527Z"
      },
      {
        "duration": 4,
        "start_time": "2022-06-09T04:44:29.571Z"
      },
      {
        "duration": 30,
        "start_time": "2022-06-09T04:46:12.315Z"
      },
      {
        "duration": 28,
        "start_time": "2022-06-09T04:47:38.690Z"
      },
      {
        "duration": 24,
        "start_time": "2022-06-09T04:47:45.380Z"
      },
      {
        "duration": 24,
        "start_time": "2022-06-09T04:47:54.977Z"
      },
      {
        "duration": 58,
        "start_time": "2022-06-09T04:51:41.792Z"
      },
      {
        "duration": 1224,
        "start_time": "2022-06-09T04:57:39.325Z"
      },
      {
        "duration": 109,
        "start_time": "2022-06-09T04:57:40.551Z"
      },
      {
        "duration": 15,
        "start_time": "2022-06-09T04:57:40.661Z"
      },
      {
        "duration": 23,
        "start_time": "2022-06-09T04:57:40.678Z"
      },
      {
        "duration": 11,
        "start_time": "2022-06-09T04:57:40.703Z"
      },
      {
        "duration": 11,
        "start_time": "2022-06-09T04:57:40.715Z"
      },
      {
        "duration": 39,
        "start_time": "2022-06-09T04:57:40.727Z"
      },
      {
        "duration": 14,
        "start_time": "2022-06-09T04:57:40.767Z"
      },
      {
        "duration": 7,
        "start_time": "2022-06-09T04:57:40.782Z"
      },
      {
        "duration": 11,
        "start_time": "2022-06-09T04:57:40.790Z"
      },
      {
        "duration": 408,
        "start_time": "2022-06-09T04:57:40.803Z"
      },
      {
        "duration": 11,
        "start_time": "2022-06-09T04:57:41.213Z"
      },
      {
        "duration": 69,
        "start_time": "2022-06-09T04:57:41.226Z"
      },
      {
        "duration": 14,
        "start_time": "2022-06-09T04:57:41.299Z"
      },
      {
        "duration": 59,
        "start_time": "2022-06-09T04:57:41.365Z"
      },
      {
        "duration": 13,
        "start_time": "2022-06-09T04:57:41.426Z"
      },
      {
        "duration": 37,
        "start_time": "2022-06-09T04:57:41.464Z"
      },
      {
        "duration": 1631,
        "start_time": "2022-06-09T04:57:41.504Z"
      },
      {
        "duration": 5,
        "start_time": "2022-06-09T04:57:43.136Z"
      },
      {
        "duration": 23,
        "start_time": "2022-06-09T04:57:43.143Z"
      },
      {
        "duration": 9,
        "start_time": "2022-06-09T04:57:43.168Z"
      },
      {
        "duration": 11,
        "start_time": "2022-06-09T04:57:43.179Z"
      },
      {
        "duration": 21,
        "start_time": "2022-06-09T04:57:43.191Z"
      },
      {
        "duration": 11,
        "start_time": "2022-06-09T04:57:43.213Z"
      },
      {
        "duration": 55,
        "start_time": "2022-06-09T04:57:43.226Z"
      },
      {
        "duration": 60,
        "start_time": "2022-06-09T04:57:43.284Z"
      },
      {
        "duration": 330,
        "start_time": "2022-06-09T04:57:43.364Z"
      },
      {
        "duration": 5,
        "start_time": "2022-06-09T04:57:43.696Z"
      },
      {
        "duration": 24,
        "start_time": "2022-06-09T04:57:43.703Z"
      },
      {
        "duration": 68,
        "start_time": "2022-06-09T04:57:43.729Z"
      },
      {
        "duration": 875,
        "start_time": "2022-06-09T04:57:43.799Z"
      },
      {
        "duration": 11,
        "start_time": "2022-06-09T04:57:44.677Z"
      },
      {
        "duration": 16,
        "start_time": "2022-06-09T04:57:44.691Z"
      },
      {
        "duration": 15,
        "start_time": "2022-06-09T04:57:44.710Z"
      },
      {
        "duration": 43,
        "start_time": "2022-06-09T04:57:44.727Z"
      },
      {
        "duration": 6,
        "start_time": "2022-06-09T04:57:44.772Z"
      },
      {
        "duration": 26,
        "start_time": "2022-06-09T04:57:44.780Z"
      },
      {
        "duration": 20,
        "start_time": "2022-06-09T04:57:44.808Z"
      },
      {
        "duration": 69,
        "start_time": "2022-06-09T04:57:44.829Z"
      },
      {
        "duration": 883,
        "start_time": "2022-06-09T04:57:44.900Z"
      },
      {
        "duration": 11,
        "start_time": "2022-06-09T04:57:45.787Z"
      },
      {
        "duration": 27,
        "start_time": "2022-06-09T04:57:45.800Z"
      },
      {
        "duration": 7,
        "start_time": "2022-06-09T04:57:45.829Z"
      },
      {
        "duration": 10,
        "start_time": "2022-06-09T04:57:45.837Z"
      },
      {
        "duration": 12,
        "start_time": "2022-06-09T04:57:45.864Z"
      },
      {
        "duration": 51,
        "start_time": "2022-06-09T04:57:45.878Z"
      },
      {
        "duration": 43,
        "start_time": "2022-06-09T04:57:45.932Z"
      },
      {
        "duration": 21,
        "start_time": "2022-06-09T04:57:45.977Z"
      },
      {
        "duration": 4,
        "start_time": "2022-06-09T04:57:45.999Z"
      },
      {
        "duration": 296,
        "start_time": "2022-06-09T05:00:19.424Z"
      },
      {
        "duration": 15,
        "start_time": "2022-06-09T05:00:28.384Z"
      },
      {
        "duration": 29,
        "start_time": "2022-06-09T05:00:41.841Z"
      },
      {
        "duration": 29,
        "start_time": "2022-06-09T05:01:41.816Z"
      },
      {
        "duration": 20,
        "start_time": "2022-06-09T05:02:20.352Z"
      },
      {
        "duration": 37,
        "start_time": "2022-06-09T05:02:57.944Z"
      },
      {
        "duration": 14,
        "start_time": "2022-06-09T05:03:21.079Z"
      },
      {
        "duration": 15,
        "start_time": "2022-06-09T05:03:37.216Z"
      },
      {
        "duration": 1290,
        "start_time": "2022-06-09T05:03:58.624Z"
      },
      {
        "duration": 88,
        "start_time": "2022-06-09T05:03:59.916Z"
      },
      {
        "duration": 14,
        "start_time": "2022-06-09T05:04:00.006Z"
      },
      {
        "duration": 29,
        "start_time": "2022-06-09T05:04:00.022Z"
      },
      {
        "duration": 26,
        "start_time": "2022-06-09T05:04:00.052Z"
      },
      {
        "duration": 11,
        "start_time": "2022-06-09T05:04:00.081Z"
      },
      {
        "duration": 15,
        "start_time": "2022-06-09T05:04:00.094Z"
      },
      {
        "duration": 17,
        "start_time": "2022-06-09T05:04:00.111Z"
      },
      {
        "duration": 9,
        "start_time": "2022-06-09T05:04:00.130Z"
      },
      {
        "duration": 27,
        "start_time": "2022-06-09T05:04:00.142Z"
      },
      {
        "duration": 445,
        "start_time": "2022-06-09T05:04:00.174Z"
      },
      {
        "duration": 16,
        "start_time": "2022-06-09T05:04:00.621Z"
      },
      {
        "duration": 158,
        "start_time": "2022-06-09T05:04:00.639Z"
      },
      {
        "duration": 14,
        "start_time": "2022-06-09T05:04:00.800Z"
      },
      {
        "duration": 115,
        "start_time": "2022-06-09T05:04:00.816Z"
      },
      {
        "duration": 15,
        "start_time": "2022-06-09T05:04:00.933Z"
      },
      {
        "duration": 47,
        "start_time": "2022-06-09T05:04:00.950Z"
      },
      {
        "duration": 1805,
        "start_time": "2022-06-09T05:04:00.999Z"
      },
      {
        "duration": 6,
        "start_time": "2022-06-09T05:04:02.807Z"
      },
      {
        "duration": 7,
        "start_time": "2022-06-09T05:04:02.815Z"
      },
      {
        "duration": 10,
        "start_time": "2022-06-09T05:04:02.824Z"
      },
      {
        "duration": 9,
        "start_time": "2022-06-09T05:04:02.836Z"
      },
      {
        "duration": 27,
        "start_time": "2022-06-09T05:04:02.864Z"
      },
      {
        "duration": 12,
        "start_time": "2022-06-09T05:04:02.893Z"
      },
      {
        "duration": 24,
        "start_time": "2022-06-09T05:04:02.908Z"
      },
      {
        "duration": 78,
        "start_time": "2022-06-09T05:04:02.934Z"
      },
      {
        "duration": 237,
        "start_time": "2022-06-09T05:04:03.014Z"
      },
      {
        "duration": 15,
        "start_time": "2022-06-09T05:04:03.255Z"
      },
      {
        "duration": 32,
        "start_time": "2022-06-09T05:04:03.271Z"
      },
      {
        "duration": 52,
        "start_time": "2022-06-09T05:04:03.305Z"
      },
      {
        "duration": 1453,
        "start_time": "2022-06-09T05:04:03.360Z"
      },
      {
        "duration": 12,
        "start_time": "2022-06-09T05:04:04.815Z"
      },
      {
        "duration": 17,
        "start_time": "2022-06-09T05:04:04.828Z"
      },
      {
        "duration": 13,
        "start_time": "2022-06-09T05:04:04.846Z"
      },
      {
        "duration": 29,
        "start_time": "2022-06-09T05:04:04.860Z"
      },
      {
        "duration": 6,
        "start_time": "2022-06-09T05:04:04.891Z"
      },
      {
        "duration": 23,
        "start_time": "2022-06-09T05:04:04.899Z"
      },
      {
        "duration": 13,
        "start_time": "2022-06-09T05:04:04.924Z"
      },
      {
        "duration": 74,
        "start_time": "2022-06-09T05:04:04.939Z"
      },
      {
        "duration": 1156,
        "start_time": "2022-06-09T05:04:05.015Z"
      },
      {
        "duration": 13,
        "start_time": "2022-06-09T05:04:06.172Z"
      },
      {
        "duration": 22,
        "start_time": "2022-06-09T05:04:06.187Z"
      },
      {
        "duration": 7,
        "start_time": "2022-06-09T05:04:06.211Z"
      },
      {
        "duration": 18,
        "start_time": "2022-06-09T05:04:06.219Z"
      },
      {
        "duration": 41,
        "start_time": "2022-06-09T05:04:06.239Z"
      },
      {
        "duration": 68,
        "start_time": "2022-06-09T05:04:06.283Z"
      },
      {
        "duration": 21,
        "start_time": "2022-06-09T05:04:06.353Z"
      },
      {
        "duration": 47,
        "start_time": "2022-06-09T05:04:06.376Z"
      },
      {
        "duration": 4,
        "start_time": "2022-06-09T05:04:06.425Z"
      },
      {
        "duration": 7,
        "start_time": "2022-06-09T05:09:09.271Z"
      },
      {
        "duration": 87,
        "start_time": "2022-06-09T05:09:09.280Z"
      },
      {
        "duration": 15,
        "start_time": "2022-06-09T05:09:09.368Z"
      },
      {
        "duration": 22,
        "start_time": "2022-06-09T05:09:09.385Z"
      },
      {
        "duration": 12,
        "start_time": "2022-06-09T05:09:09.408Z"
      },
      {
        "duration": 8,
        "start_time": "2022-06-09T05:09:09.422Z"
      },
      {
        "duration": 41,
        "start_time": "2022-06-09T05:09:09.432Z"
      },
      {
        "duration": 18,
        "start_time": "2022-06-09T05:09:09.475Z"
      },
      {
        "duration": 7,
        "start_time": "2022-06-09T05:09:09.495Z"
      },
      {
        "duration": 16,
        "start_time": "2022-06-09T05:09:09.503Z"
      },
      {
        "duration": 83,
        "start_time": "2022-06-09T05:09:09.521Z"
      },
      {
        "duration": 10,
        "start_time": "2022-06-09T05:09:09.606Z"
      },
      {
        "duration": 76,
        "start_time": "2022-06-09T05:09:09.617Z"
      },
      {
        "duration": 14,
        "start_time": "2022-06-09T05:09:09.694Z"
      },
      {
        "duration": 83,
        "start_time": "2022-06-09T05:09:09.710Z"
      },
      {
        "duration": 15,
        "start_time": "2022-06-09T05:09:09.795Z"
      },
      {
        "duration": 55,
        "start_time": "2022-06-09T05:09:09.811Z"
      },
      {
        "duration": 1688,
        "start_time": "2022-06-09T05:09:09.867Z"
      },
      {
        "duration": 11,
        "start_time": "2022-06-09T05:09:11.556Z"
      },
      {
        "duration": 9,
        "start_time": "2022-06-09T05:09:11.569Z"
      },
      {
        "duration": 11,
        "start_time": "2022-06-09T05:09:11.580Z"
      },
      {
        "duration": 7,
        "start_time": "2022-06-09T05:09:11.593Z"
      },
      {
        "duration": 38,
        "start_time": "2022-06-09T05:09:11.602Z"
      },
      {
        "duration": 16,
        "start_time": "2022-06-09T05:09:11.642Z"
      },
      {
        "duration": 21,
        "start_time": "2022-06-09T05:09:11.660Z"
      },
      {
        "duration": 53,
        "start_time": "2022-06-09T05:09:11.682Z"
      },
      {
        "duration": 232,
        "start_time": "2022-06-09T05:09:11.736Z"
      },
      {
        "duration": 5,
        "start_time": "2022-06-09T05:09:11.969Z"
      },
      {
        "duration": 27,
        "start_time": "2022-06-09T05:09:11.975Z"
      },
      {
        "duration": 71,
        "start_time": "2022-06-09T05:09:12.004Z"
      },
      {
        "duration": 888,
        "start_time": "2022-06-09T05:09:12.076Z"
      },
      {
        "duration": 11,
        "start_time": "2022-06-09T05:09:12.966Z"
      },
      {
        "duration": 10,
        "start_time": "2022-06-09T05:09:12.983Z"
      },
      {
        "duration": 13,
        "start_time": "2022-06-09T05:09:12.994Z"
      },
      {
        "duration": 56,
        "start_time": "2022-06-09T05:09:13.009Z"
      },
      {
        "duration": 7,
        "start_time": "2022-06-09T05:09:13.067Z"
      },
      {
        "duration": 25,
        "start_time": "2022-06-09T05:09:13.076Z"
      },
      {
        "duration": 16,
        "start_time": "2022-06-09T05:09:13.103Z"
      },
      {
        "duration": 84,
        "start_time": "2022-06-09T05:09:13.122Z"
      },
      {
        "duration": 850,
        "start_time": "2022-06-09T05:09:13.207Z"
      },
      {
        "duration": 11,
        "start_time": "2022-06-09T05:09:14.059Z"
      },
      {
        "duration": 15,
        "start_time": "2022-06-09T05:09:14.072Z"
      },
      {
        "duration": 6,
        "start_time": "2022-06-09T05:09:14.089Z"
      },
      {
        "duration": 18,
        "start_time": "2022-06-09T05:09:14.097Z"
      },
      {
        "duration": 11,
        "start_time": "2022-06-09T05:09:14.117Z"
      },
      {
        "duration": 67,
        "start_time": "2022-06-09T05:09:14.130Z"
      },
      {
        "duration": 12,
        "start_time": "2022-06-09T05:09:14.199Z"
      },
      {
        "duration": 21,
        "start_time": "2022-06-09T05:09:14.212Z"
      },
      {
        "duration": 5,
        "start_time": "2022-06-09T05:09:14.234Z"
      },
      {
        "duration": 1309,
        "start_time": "2022-06-09T05:09:17.013Z"
      },
      {
        "duration": 92,
        "start_time": "2022-06-09T05:09:18.324Z"
      },
      {
        "duration": 15,
        "start_time": "2022-06-09T05:09:18.419Z"
      },
      {
        "duration": 43,
        "start_time": "2022-06-09T05:09:18.437Z"
      },
      {
        "duration": 12,
        "start_time": "2022-06-09T05:09:18.482Z"
      },
      {
        "duration": 8,
        "start_time": "2022-06-09T05:09:18.496Z"
      },
      {
        "duration": 15,
        "start_time": "2022-06-09T05:09:18.506Z"
      },
      {
        "duration": 14,
        "start_time": "2022-06-09T05:09:18.523Z"
      },
      {
        "duration": 27,
        "start_time": "2022-06-09T05:09:18.539Z"
      },
      {
        "duration": 32,
        "start_time": "2022-06-09T05:09:18.570Z"
      },
      {
        "duration": 451,
        "start_time": "2022-06-09T05:09:18.604Z"
      },
      {
        "duration": 14,
        "start_time": "2022-06-09T05:09:19.057Z"
      },
      {
        "duration": 192,
        "start_time": "2022-06-09T05:09:19.073Z"
      },
      {
        "duration": 21,
        "start_time": "2022-06-09T05:09:19.267Z"
      },
      {
        "duration": 108,
        "start_time": "2022-06-09T05:09:19.292Z"
      },
      {
        "duration": 23,
        "start_time": "2022-06-09T05:09:19.402Z"
      },
      {
        "duration": 51,
        "start_time": "2022-06-09T05:09:19.427Z"
      },
      {
        "duration": 1776,
        "start_time": "2022-06-09T05:09:19.481Z"
      },
      {
        "duration": 5,
        "start_time": "2022-06-09T05:09:21.264Z"
      },
      {
        "duration": 22,
        "start_time": "2022-06-09T05:09:21.272Z"
      },
      {
        "duration": 8,
        "start_time": "2022-06-09T05:09:21.296Z"
      },
      {
        "duration": 6,
        "start_time": "2022-06-09T05:09:21.305Z"
      },
      {
        "duration": 20,
        "start_time": "2022-06-09T05:09:21.313Z"
      },
      {
        "duration": 30,
        "start_time": "2022-06-09T05:09:21.335Z"
      },
      {
        "duration": 25,
        "start_time": "2022-06-09T05:09:21.367Z"
      },
      {
        "duration": 76,
        "start_time": "2022-06-09T05:09:21.395Z"
      },
      {
        "duration": 217,
        "start_time": "2022-06-09T05:09:21.474Z"
      },
      {
        "duration": 5,
        "start_time": "2022-06-09T05:09:21.697Z"
      },
      {
        "duration": 23,
        "start_time": "2022-06-09T05:09:21.704Z"
      },
      {
        "duration": 82,
        "start_time": "2022-06-09T05:09:21.729Z"
      },
      {
        "duration": 1099,
        "start_time": "2022-06-09T05:09:21.813Z"
      },
      {
        "duration": 13,
        "start_time": "2022-06-09T05:09:22.914Z"
      },
      {
        "duration": 15,
        "start_time": "2022-06-09T05:09:22.928Z"
      },
      {
        "duration": 12,
        "start_time": "2022-06-09T05:09:22.946Z"
      },
      {
        "duration": 21,
        "start_time": "2022-06-09T05:09:22.960Z"
      },
      {
        "duration": 7,
        "start_time": "2022-06-09T05:09:22.983Z"
      },
      {
        "duration": 23,
        "start_time": "2022-06-09T05:09:22.991Z"
      },
      {
        "duration": 22,
        "start_time": "2022-06-09T05:09:23.017Z"
      },
      {
        "duration": 74,
        "start_time": "2022-06-09T05:09:23.041Z"
      },
      {
        "duration": 961,
        "start_time": "2022-06-09T05:09:23.117Z"
      },
      {
        "duration": 10,
        "start_time": "2022-06-09T05:09:24.080Z"
      },
      {
        "duration": 18,
        "start_time": "2022-06-09T05:09:24.092Z"
      },
      {
        "duration": 6,
        "start_time": "2022-06-09T05:09:24.112Z"
      },
      {
        "duration": 12,
        "start_time": "2022-06-09T05:09:24.120Z"
      },
      {
        "duration": 38,
        "start_time": "2022-06-09T05:09:24.134Z"
      },
      {
        "duration": 52,
        "start_time": "2022-06-09T05:09:24.174Z"
      },
      {
        "duration": 37,
        "start_time": "2022-06-09T05:09:24.228Z"
      },
      {
        "duration": 23,
        "start_time": "2022-06-09T05:09:24.267Z"
      },
      {
        "duration": 4,
        "start_time": "2022-06-09T05:09:24.292Z"
      },
      {
        "duration": 58,
        "start_time": "2022-06-09T14:47:37.652Z"
      },
      {
        "duration": 1619,
        "start_time": "2022-06-09T14:47:40.007Z"
      },
      {
        "duration": 83,
        "start_time": "2022-06-09T14:47:41.628Z"
      },
      {
        "duration": 14,
        "start_time": "2022-06-09T14:47:41.713Z"
      },
      {
        "duration": 22,
        "start_time": "2022-06-09T14:47:41.729Z"
      },
      {
        "duration": 28,
        "start_time": "2022-06-09T14:47:41.753Z"
      },
      {
        "duration": 37,
        "start_time": "2022-06-09T14:47:41.787Z"
      },
      {
        "duration": 14,
        "start_time": "2022-06-09T14:47:41.825Z"
      },
      {
        "duration": 17,
        "start_time": "2022-06-09T14:47:41.840Z"
      },
      {
        "duration": 13,
        "start_time": "2022-06-09T14:47:41.858Z"
      },
      {
        "duration": 43,
        "start_time": "2022-06-09T14:47:41.872Z"
      },
      {
        "duration": 400,
        "start_time": "2022-06-09T14:47:41.917Z"
      },
      {
        "duration": 10,
        "start_time": "2022-06-09T14:47:42.318Z"
      },
      {
        "duration": 93,
        "start_time": "2022-06-09T14:47:42.329Z"
      },
      {
        "duration": 17,
        "start_time": "2022-06-09T14:47:42.425Z"
      },
      {
        "duration": 93,
        "start_time": "2022-06-09T14:47:42.443Z"
      },
      {
        "duration": 12,
        "start_time": "2022-06-09T14:47:42.538Z"
      },
      {
        "duration": 48,
        "start_time": "2022-06-09T14:47:42.551Z"
      },
      {
        "duration": 1574,
        "start_time": "2022-06-09T14:47:42.600Z"
      },
      {
        "duration": 9,
        "start_time": "2022-06-09T14:47:44.179Z"
      },
      {
        "duration": 31,
        "start_time": "2022-06-09T14:47:44.194Z"
      },
      {
        "duration": 10,
        "start_time": "2022-06-09T14:47:44.226Z"
      },
      {
        "duration": 6,
        "start_time": "2022-06-09T14:47:44.237Z"
      },
      {
        "duration": 17,
        "start_time": "2022-06-09T14:47:44.244Z"
      },
      {
        "duration": 8,
        "start_time": "2022-06-09T14:47:44.262Z"
      },
      {
        "duration": 26,
        "start_time": "2022-06-09T14:47:44.271Z"
      },
      {
        "duration": 63,
        "start_time": "2022-06-09T14:47:44.299Z"
      },
      {
        "duration": 317,
        "start_time": "2022-06-09T14:47:44.364Z"
      },
      {
        "duration": 9,
        "start_time": "2022-06-09T14:47:44.682Z"
      },
      {
        "duration": 39,
        "start_time": "2022-06-09T14:47:44.693Z"
      },
      {
        "duration": 65,
        "start_time": "2022-06-09T14:47:44.734Z"
      },
      {
        "duration": 1653,
        "start_time": "2022-06-09T14:47:44.805Z"
      },
      {
        "duration": 12,
        "start_time": "2022-06-09T14:47:46.460Z"
      },
      {
        "duration": 24,
        "start_time": "2022-06-09T14:47:46.474Z"
      },
      {
        "duration": 21,
        "start_time": "2022-06-09T14:47:46.502Z"
      },
      {
        "duration": 20,
        "start_time": "2022-06-09T14:47:46.524Z"
      },
      {
        "duration": 7,
        "start_time": "2022-06-09T14:47:46.546Z"
      },
      {
        "duration": 36,
        "start_time": "2022-06-09T14:47:46.555Z"
      },
      {
        "duration": 20,
        "start_time": "2022-06-09T14:47:46.598Z"
      },
      {
        "duration": 47,
        "start_time": "2022-06-09T14:47:46.619Z"
      },
      {
        "duration": 1087,
        "start_time": "2022-06-09T14:47:46.668Z"
      },
      {
        "duration": 9,
        "start_time": "2022-06-09T14:47:47.758Z"
      },
      {
        "duration": 21,
        "start_time": "2022-06-09T14:47:47.768Z"
      },
      {
        "duration": 25,
        "start_time": "2022-06-09T14:47:47.791Z"
      },
      {
        "duration": 9,
        "start_time": "2022-06-09T14:47:47.817Z"
      },
      {
        "duration": 14,
        "start_time": "2022-06-09T14:47:47.828Z"
      },
      {
        "duration": 54,
        "start_time": "2022-06-09T14:47:47.844Z"
      },
      {
        "duration": 23,
        "start_time": "2022-06-09T14:47:47.899Z"
      },
      {
        "duration": 26,
        "start_time": "2022-06-09T14:47:47.924Z"
      },
      {
        "duration": 5,
        "start_time": "2022-06-09T14:47:47.952Z"
      },
      {
        "duration": 33,
        "start_time": "2022-06-09T14:51:42.676Z"
      },
      {
        "duration": 37,
        "start_time": "2022-06-09T14:51:47.306Z"
      },
      {
        "duration": 47,
        "start_time": "2022-06-09T14:52:07.772Z"
      }
    ],
    "kernelspec": {
      "display_name": "Python 3",
      "language": "python",
      "name": "python3"
    },
    "language_info": {
      "codemirror_mode": {
        "name": "ipython",
        "version": 3
      },
      "file_extension": ".py",
      "mimetype": "text/x-python",
      "name": "python",
      "nbconvert_exporter": "python",
      "pygments_lexer": "ipython3",
      "version": "3.8.5"
    },
    "toc": {
      "base_numbering": 1,
      "nav_menu": {},
      "number_sections": true,
      "sideBar": true,
      "skip_h1_title": true,
      "title_cell": "Table of Contents",
      "title_sidebar": "Contents",
      "toc_cell": false,
      "toc_position": {},
      "toc_section_display": true,
      "toc_window_display": false
    },
    "colab": {
      "name": "zayakin_p9_catering_establishments.ipynb",
      "provenance": [],
      "collapsed_sections": [
        "WgWge2bk-vg0",
        "uVFH8FUX-vg1",
        "toNGxGCz-vg6"
      ]
    }
  },
  "nbformat": 4,
  "nbformat_minor": 0
}