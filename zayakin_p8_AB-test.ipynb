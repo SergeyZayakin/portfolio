{
 "cells": [
  {
   "cell_type": "markdown",
   "metadata": {},
   "source": [
    "# Приоритизация гипотез и оценка результатов А/В-теста"
   ]
  },
  {
   "cell_type": "markdown",
   "metadata": {},
   "source": [
    "   \n",
    "<div class=\"alert alert-info\">\n",
    "<h2> Привет!<a class=\"tocSkip\"></h2>\n",
    "<hr>  \n",
    "Я - Сергей. Рад что ты читаешь это текст :) Сделаю пару ремарок общего характера. В описании выполняемых действий, комментариях, я использую местоимение 'мы', так как считаю что ты, читая код, становиться моим соучастником ('соучавствующие программирование') и мы вместе проходим по пути исследования. Да и сформировлась привычка так писать в ходе написания научных работ.   \n",
    "NB! - так помечаю важные на мой взгдял идеи, которые стоит взять на заметку; инсайты, проработка которых требует большего знания предметной области.   \n",
    "Надеюсь мои многословные комментарии тебя не утомят.    \n",
    "</div>\n",
    "    \n",
    "<br/>"
   ]
  },
  {
   "cell_type": "markdown",
   "metadata": {},
   "source": [
    "**Оглавление**    \n",
    "[1  Описание проекта](#description)     \n",
    "[2  Изучение и предобработка данных](#exploration)    \n",
    "[3  Приоритизация гипотез](#prioritization)  \n",
    "[3.1  Фреймворк ICE для приоритизации гипотез](#ice)   \n",
    "[3.2  Фреймворк RICE для приоритизации гипотез](#rice)   \n",
    "[4  Анализ A/B-теста](#a_b_test)   \n",
    "[4.1  График кумулятивной выручки по группам](#a_b_test_1)   \n",
    "[4.2  Гафик кумулятивного среднего чека по группам](#a_b_test_2)   \n",
    "[4.3  График относительного изменения кумулятивного среднего чека группы B к группе A](#a_b_test_3)   \n",
    "[4.4  График кумулятивной конверсии по группам](#a_b_test_4)   \n",
    "[4.5  График относительного изменения кумулятивной конверсии группы B к группе A](#a_b_test_5)   \n",
    "[4.6  Точечный график количества заказов по пользователям](#a_b_test_6)   \n",
    "[4.7  95-й и 99-й перцентили количества заказов на пользователя](#a_b_test_7)   \n",
    "[4.8  Точечный график стоимостей заказов](#a_b_test_8)   \n",
    "[4.9  95-й и 99-й перцентили стоимости заказов](#a_b_test_9)   \n",
    "[4.10  Расчёт статистической значимости различий в конверсии между группами по «сырым» данным](#a_b_test_10)   \n",
    "[4.11  Расчёт статистической значимости различий в среднем чеке заказа между группами по «сырым» данным](#a_b_test_11)   \n",
    "[4.12  Расчёт статистической значимости различий в конверсии между группами по «очищенным» данным](#a_b_test_12)   \n",
    "[4.13  Расчёт статистической значимости различий в среднем чеке заказа между группами по «очищенным» данным](#a_b_test_13)   \n",
    "[4.14  Решение по результатам теста](#a_b_test_summary)   \n",
    "[5 Заключение](#summary)"
   ]
  },
  {
   "cell_type": "markdown",
   "metadata": {},
   "source": [
    "## Описание проекта <a id=\"description\"></a> \n",
    "   \n",
    "Вы — аналитик крупного интернет-магазина. Вместе с отделом маркетинга вы подготовили список гипотез для увеличения выручки.  \n",
    "\n",
    "**Задачи исследования**  \n",
    "1. Приоритизировать гипотезы.\n",
    "1. Проанализировать результаты A/B-теста и принять решение об его завершении или продолжении.   \n",
    "    \n",
    "**Описание данных**  \n",
    "1. Файл hypothesis.csv  \n",
    "Hypothesis — краткое описание гипотезы;   \n",
    "Reach — охват пользователей по 10-балльной шкале;   \n",
    "Impact — влияние на пользователей по 10-балльной шкале;   \n",
    "Confidence — уверенность в гипотезе по 10-балльной шкале;  \n",
    "Efforts — затраты ресурсов на проверку гипотезы по 10-балльной шкале. Чем больше значение Efforts, тем дороже проверка гипотезы.  \n",
    "1. Файл orders.csv  \n",
    "transactionId — идентификатор заказа;  \n",
    "visitorId — идентификатор пользователя, совершившего заказ;  \n",
    "date — дата, когда был совершён заказ;  \n",
    "revenue — выручка заказа;  \n",
    "group — группа A/B-теста, в которую попал заказ.\n",
    "1. Файл visitors.csv   \n",
    "date — дата;   \n",
    "group — группа A/B-теста;  \n",
    "visitors — количество пользователей в указанную дату в указанной группе A/B-теста.     "
   ]
  },
  {
   "cell_type": "markdown",
   "metadata": {},
   "source": [
    "---"
   ]
  },
  {
   "cell_type": "markdown",
   "metadata": {},
   "source": [
    "## Изучение и предобработка данных <a id=\"exploration\"></a>"
   ]
  },
  {
   "cell_type": "code",
   "execution_count": 1,
   "metadata": {},
   "outputs": [],
   "source": [
    "# Импортируем необходимые библиотеки\n",
    "import pandas as pd\n",
    "import scipy.stats as stats\n",
    "import datetime as dt\n",
    "import numpy as np\n",
    "import matplotlib.pyplot as plt \n",
    "import seaborn as sns \n",
    "%matplotlib inline"
   ]
  },
  {
   "cell_type": "code",
   "execution_count": 2,
   "metadata": {},
   "outputs": [],
   "source": [
    "from io import BytesIO\n",
    "import requests\n",
    "spreadsheet_hypothesis = '1JtjsAO-q4zWGeMq0igfUnaNvvQ9x93WprdM2bHESQ7s'\n",
    "spreadsheet_orders = '1JS5tiMDWi9k867ic8yBPCFrAICQLQqD_hubmNS0-KiY'\n",
    "spreadsheet_visitors = '1BbtMxPuA1Fhdnrp6ZW27GPDON1WE_1A3b359sjN0OPw'\n",
    "file_name_hypothesis = 'https://docs.google.com/spreadsheets/d/{}/export?format=csv'.format(spreadsheet_hypothesis)\n",
    "file_name_orders = 'https://docs.google.com/spreadsheets/d/{}/export?format=csv'.format(spreadsheet_orders)\n",
    "file_name_visitors = 'https://docs.google.com/spreadsheets/d/{}/export?format=csv'.format(spreadsheet_visitors)\n",
    "r_hypothesis = requests.get(file_name_hypothesis)\n",
    "r_order = requests.get(file_name_orders)\n",
    "r_visitors = requests.get(file_name_visitors)\n",
    "hypothesis = pd.read_csv(BytesIO(r_hypothesis.content))\n",
    "orders = pd.read_csv(BytesIO(r_order.content))\n",
    "visitors = pd.read_csv(BytesIO(r_visitors.content))"
   ]
  },
  {
   "cell_type": "markdown",
   "metadata": {},
   "source": [
    "Выведим данные обо всех датафремах"
   ]
  },
  {
   "cell_type": "code",
   "execution_count": 3,
   "metadata": {},
   "outputs": [
    {
     "name": "stdout",
     "output_type": "stream",
     "text": [
      "<class 'pandas.core.frame.DataFrame'>\n",
      "RangeIndex: 9 entries, 0 to 8\n",
      "Data columns (total 5 columns):\n",
      " #   Column      Non-Null Count  Dtype \n",
      "---  ------      --------------  ----- \n",
      " 0   Hypothesis  9 non-null      object\n",
      " 1   Reach       9 non-null      int64 \n",
      " 2   Impact      9 non-null      int64 \n",
      " 3   Confidence  9 non-null      int64 \n",
      " 4   Efforts     9 non-null      int64 \n",
      "dtypes: int64(4), object(1)\n",
      "memory usage: 488.0+ bytes\n"
     ]
    },
    {
     "data": {
      "text/html": [
       "<div>\n",
       "<style scoped>\n",
       "    .dataframe tbody tr th:only-of-type {\n",
       "        vertical-align: middle;\n",
       "    }\n",
       "\n",
       "    .dataframe tbody tr th {\n",
       "        vertical-align: top;\n",
       "    }\n",
       "\n",
       "    .dataframe thead th {\n",
       "        text-align: right;\n",
       "    }\n",
       "</style>\n",
       "<table border=\"1\" class=\"dataframe\">\n",
       "  <thead>\n",
       "    <tr style=\"text-align: right;\">\n",
       "      <th></th>\n",
       "      <th>Hypothesis</th>\n",
       "      <th>Reach</th>\n",
       "      <th>Impact</th>\n",
       "      <th>Confidence</th>\n",
       "      <th>Efforts</th>\n",
       "    </tr>\n",
       "  </thead>\n",
       "  <tbody>\n",
       "    <tr>\n",
       "      <th>0</th>\n",
       "      <td>Добавить два новых канала привлечения трафика, что позволит привлекать на 30% больше пользователей</td>\n",
       "      <td>3</td>\n",
       "      <td>10</td>\n",
       "      <td>8</td>\n",
       "      <td>6</td>\n",
       "    </tr>\n",
       "    <tr>\n",
       "      <th>1</th>\n",
       "      <td>Запустить собственную службу доставки, что сократит срок доставки заказов</td>\n",
       "      <td>2</td>\n",
       "      <td>5</td>\n",
       "      <td>4</td>\n",
       "      <td>10</td>\n",
       "    </tr>\n",
       "    <tr>\n",
       "      <th>2</th>\n",
       "      <td>Добавить блоки рекомендаций товаров на сайт интернет магазина, чтобы повысить конверсию и средний чек заказа</td>\n",
       "      <td>8</td>\n",
       "      <td>3</td>\n",
       "      <td>7</td>\n",
       "      <td>3</td>\n",
       "    </tr>\n",
       "    <tr>\n",
       "      <th>3</th>\n",
       "      <td>Изменить структура категорий, что увеличит конверсию, т.к. пользователи быстрее найдут нужный товар</td>\n",
       "      <td>8</td>\n",
       "      <td>3</td>\n",
       "      <td>3</td>\n",
       "      <td>8</td>\n",
       "    </tr>\n",
       "    <tr>\n",
       "      <th>4</th>\n",
       "      <td>Изменить цвет фона главной страницы, чтобы увеличить вовлеченность пользователей</td>\n",
       "      <td>3</td>\n",
       "      <td>1</td>\n",
       "      <td>1</td>\n",
       "      <td>1</td>\n",
       "    </tr>\n",
       "    <tr>\n",
       "      <th>5</th>\n",
       "      <td>Добавить страницу отзывов клиентов о магазине, что позволит увеличить количество заказов</td>\n",
       "      <td>3</td>\n",
       "      <td>2</td>\n",
       "      <td>2</td>\n",
       "      <td>3</td>\n",
       "    </tr>\n",
       "    <tr>\n",
       "      <th>6</th>\n",
       "      <td>Показать на главной странице баннеры с актуальными акциями и распродажами, чтобы увеличить конверсию</td>\n",
       "      <td>5</td>\n",
       "      <td>3</td>\n",
       "      <td>8</td>\n",
       "      <td>3</td>\n",
       "    </tr>\n",
       "    <tr>\n",
       "      <th>7</th>\n",
       "      <td>Добавить форму подписки на все основные страницы, чтобы собрать базу клиентов для email-рассылок</td>\n",
       "      <td>10</td>\n",
       "      <td>7</td>\n",
       "      <td>8</td>\n",
       "      <td>5</td>\n",
       "    </tr>\n",
       "    <tr>\n",
       "      <th>8</th>\n",
       "      <td>Запустить акцию, дающую скидку на товар в день рождения</td>\n",
       "      <td>1</td>\n",
       "      <td>9</td>\n",
       "      <td>9</td>\n",
       "      <td>5</td>\n",
       "    </tr>\n",
       "  </tbody>\n",
       "</table>\n",
       "</div>"
      ],
      "text/plain": [
       "                                                                                                     Hypothesis  \\\n",
       "0            Добавить два новых канала привлечения трафика, что позволит привлекать на 30% больше пользователей   \n",
       "1                                     Запустить собственную службу доставки, что сократит срок доставки заказов   \n",
       "2  Добавить блоки рекомендаций товаров на сайт интернет магазина, чтобы повысить конверсию и средний чек заказа   \n",
       "3           Изменить структура категорий, что увеличит конверсию, т.к. пользователи быстрее найдут нужный товар   \n",
       "4                              Изменить цвет фона главной страницы, чтобы увеличить вовлеченность пользователей   \n",
       "5                      Добавить страницу отзывов клиентов о магазине, что позволит увеличить количество заказов   \n",
       "6          Показать на главной странице баннеры с актуальными акциями и распродажами, чтобы увеличить конверсию   \n",
       "7              Добавить форму подписки на все основные страницы, чтобы собрать базу клиентов для email-рассылок   \n",
       "8                                                       Запустить акцию, дающую скидку на товар в день рождения   \n",
       "\n",
       "   Reach  Impact  Confidence  Efforts  \n",
       "0      3      10           8        6  \n",
       "1      2       5           4       10  \n",
       "2      8       3           7        3  \n",
       "3      8       3           3        8  \n",
       "4      3       1           1        1  \n",
       "5      3       2           2        3  \n",
       "6      5       3           8        3  \n",
       "7     10       7           8        5  \n",
       "8      1       9           9        5  "
      ]
     },
     "execution_count": 3,
     "metadata": {},
     "output_type": "execute_result"
    }
   ],
   "source": [
    "hypothesis.info()\n",
    "pd.options.display.max_colwidth = 200\n",
    "hypothesis.head(9)"
   ]
  },
  {
   "cell_type": "markdown",
   "metadata": {},
   "source": [
    "Пропущенных значений нет, всего 9 записей - гипотез. Название колонок приведм к срочноым буквам (к хорошому тону написания заголовков колонок) "
   ]
  },
  {
   "cell_type": "code",
   "execution_count": 4,
   "metadata": {},
   "outputs": [],
   "source": [
    "hypothesis.columns = hypothesis.columns.str.lower()\n",
    "#hypothesis.head(9)"
   ]
  },
  {
   "cell_type": "code",
   "execution_count": 5,
   "metadata": {},
   "outputs": [
    {
     "name": "stdout",
     "output_type": "stream",
     "text": [
      "<class 'pandas.core.frame.DataFrame'>\n",
      "RangeIndex: 1197 entries, 0 to 1196\n",
      "Data columns (total 5 columns):\n",
      " #   Column         Non-Null Count  Dtype \n",
      "---  ------         --------------  ----- \n",
      " 0   transactionId  1197 non-null   int64 \n",
      " 1   visitorId      1197 non-null   int64 \n",
      " 2   date           1197 non-null   object\n",
      " 3   revenue        1197 non-null   int64 \n",
      " 4   group          1197 non-null   object\n",
      "dtypes: int64(3), object(2)\n",
      "memory usage: 46.9+ KB\n"
     ]
    },
    {
     "data": {
      "text/html": [
       "<div>\n",
       "<style scoped>\n",
       "    .dataframe tbody tr th:only-of-type {\n",
       "        vertical-align: middle;\n",
       "    }\n",
       "\n",
       "    .dataframe tbody tr th {\n",
       "        vertical-align: top;\n",
       "    }\n",
       "\n",
       "    .dataframe thead th {\n",
       "        text-align: right;\n",
       "    }\n",
       "</style>\n",
       "<table border=\"1\" class=\"dataframe\">\n",
       "  <thead>\n",
       "    <tr style=\"text-align: right;\">\n",
       "      <th></th>\n",
       "      <th>transactionId</th>\n",
       "      <th>visitorId</th>\n",
       "      <th>date</th>\n",
       "      <th>revenue</th>\n",
       "      <th>group</th>\n",
       "    </tr>\n",
       "  </thead>\n",
       "  <tbody>\n",
       "    <tr>\n",
       "      <th>0</th>\n",
       "      <td>3667963787</td>\n",
       "      <td>3312258926</td>\n",
       "      <td>2019-08-15</td>\n",
       "      <td>1650</td>\n",
       "      <td>B</td>\n",
       "    </tr>\n",
       "    <tr>\n",
       "      <th>1</th>\n",
       "      <td>2804400009</td>\n",
       "      <td>3642806036</td>\n",
       "      <td>2019-08-15</td>\n",
       "      <td>730</td>\n",
       "      <td>B</td>\n",
       "    </tr>\n",
       "    <tr>\n",
       "      <th>2</th>\n",
       "      <td>2961555356</td>\n",
       "      <td>4069496402</td>\n",
       "      <td>2019-08-15</td>\n",
       "      <td>400</td>\n",
       "      <td>A</td>\n",
       "    </tr>\n",
       "    <tr>\n",
       "      <th>3</th>\n",
       "      <td>3797467345</td>\n",
       "      <td>1196621759</td>\n",
       "      <td>2019-08-15</td>\n",
       "      <td>9759</td>\n",
       "      <td>B</td>\n",
       "    </tr>\n",
       "    <tr>\n",
       "      <th>4</th>\n",
       "      <td>2282983706</td>\n",
       "      <td>2322279887</td>\n",
       "      <td>2019-08-15</td>\n",
       "      <td>2308</td>\n",
       "      <td>B</td>\n",
       "    </tr>\n",
       "  </tbody>\n",
       "</table>\n",
       "</div>"
      ],
      "text/plain": [
       "   transactionId   visitorId        date  revenue group\n",
       "0     3667963787  3312258926  2019-08-15     1650     B\n",
       "1     2804400009  3642806036  2019-08-15      730     B\n",
       "2     2961555356  4069496402  2019-08-15      400     A\n",
       "3     3797467345  1196621759  2019-08-15     9759     B\n",
       "4     2282983706  2322279887  2019-08-15     2308     B"
      ]
     },
     "execution_count": 5,
     "metadata": {},
     "output_type": "execute_result"
    }
   ],
   "source": [
    "orders.info()\n",
    "orders.head()"
   ]
  },
  {
   "cell_type": "markdown",
   "metadata": {},
   "source": [
    "Пропущенных значений нет. Дата храниться в форматее object, изменим на datetime"
   ]
  },
  {
   "cell_type": "code",
   "execution_count": 6,
   "metadata": {},
   "outputs": [],
   "source": [
    "orders['date'] = pd.to_datetime(orders['date'])\n",
    "#orders.info()"
   ]
  },
  {
   "cell_type": "code",
   "execution_count": 7,
   "metadata": {},
   "outputs": [
    {
     "name": "stdout",
     "output_type": "stream",
     "text": [
      "<class 'pandas.core.frame.DataFrame'>\n",
      "RangeIndex: 62 entries, 0 to 61\n",
      "Data columns (total 3 columns):\n",
      " #   Column    Non-Null Count  Dtype \n",
      "---  ------    --------------  ----- \n",
      " 0   date      62 non-null     object\n",
      " 1   group     62 non-null     object\n",
      " 2   visitors  62 non-null     int64 \n",
      "dtypes: int64(1), object(2)\n",
      "memory usage: 1.6+ KB\n"
     ]
    },
    {
     "data": {
      "text/html": [
       "<div>\n",
       "<style scoped>\n",
       "    .dataframe tbody tr th:only-of-type {\n",
       "        vertical-align: middle;\n",
       "    }\n",
       "\n",
       "    .dataframe tbody tr th {\n",
       "        vertical-align: top;\n",
       "    }\n",
       "\n",
       "    .dataframe thead th {\n",
       "        text-align: right;\n",
       "    }\n",
       "</style>\n",
       "<table border=\"1\" class=\"dataframe\">\n",
       "  <thead>\n",
       "    <tr style=\"text-align: right;\">\n",
       "      <th></th>\n",
       "      <th>date</th>\n",
       "      <th>group</th>\n",
       "      <th>visitors</th>\n",
       "    </tr>\n",
       "  </thead>\n",
       "  <tbody>\n",
       "    <tr>\n",
       "      <th>0</th>\n",
       "      <td>2019-08-01</td>\n",
       "      <td>A</td>\n",
       "      <td>719</td>\n",
       "    </tr>\n",
       "    <tr>\n",
       "      <th>1</th>\n",
       "      <td>2019-08-02</td>\n",
       "      <td>A</td>\n",
       "      <td>619</td>\n",
       "    </tr>\n",
       "    <tr>\n",
       "      <th>2</th>\n",
       "      <td>2019-08-03</td>\n",
       "      <td>A</td>\n",
       "      <td>507</td>\n",
       "    </tr>\n",
       "    <tr>\n",
       "      <th>3</th>\n",
       "      <td>2019-08-04</td>\n",
       "      <td>A</td>\n",
       "      <td>717</td>\n",
       "    </tr>\n",
       "    <tr>\n",
       "      <th>4</th>\n",
       "      <td>2019-08-05</td>\n",
       "      <td>A</td>\n",
       "      <td>756</td>\n",
       "    </tr>\n",
       "  </tbody>\n",
       "</table>\n",
       "</div>"
      ],
      "text/plain": [
       "         date group  visitors\n",
       "0  2019-08-01     A       719\n",
       "1  2019-08-02     A       619\n",
       "2  2019-08-03     A       507\n",
       "3  2019-08-04     A       717\n",
       "4  2019-08-05     A       756"
      ]
     },
     "execution_count": 7,
     "metadata": {},
     "output_type": "execute_result"
    }
   ],
   "source": [
    "visitors.info()\n",
    "visitors.head()"
   ]
  },
  {
   "cell_type": "markdown",
   "metadata": {},
   "source": [
    "Пропущенных значений нет. Дата храниться в форматее object, изменим на datetime"
   ]
  },
  {
   "cell_type": "code",
   "execution_count": 8,
   "metadata": {},
   "outputs": [],
   "source": [
    "visitors['date'] = pd.to_datetime(visitors['date'])\n",
    "#visitors.info()"
   ]
  },
  {
   "cell_type": "markdown",
   "metadata": {},
   "source": [
    "Проверим наличие дубликатов"
   ]
  },
  {
   "cell_type": "code",
   "execution_count": 9,
   "metadata": {},
   "outputs": [
    {
     "name": "stdout",
     "output_type": "stream",
     "text": [
      "0\n",
      "0\n",
      "0\n"
     ]
    }
   ],
   "source": [
    "# Проверям дубликаты\n",
    "print(hypothesis.duplicated().sum())\n",
    "print(orders.duplicated().sum())\n",
    "print(visitors.duplicated().sum())"
   ]
  },
  {
   "cell_type": "markdown",
   "metadata": {},
   "source": [
    "Дубликатов нет"
   ]
  },
  {
   "cell_type": "markdown",
   "metadata": {},
   "source": [
    "---"
   ]
  },
  {
   "cell_type": "markdown",
   "metadata": {},
   "source": [
    "## Приоритизация гипотез<a id=\"prioritization\"></a>"
   ]
  },
  {
   "cell_type": "markdown",
   "metadata": {},
   "source": [
    "### Фреймворк ICE для приоритизации гипотез<a id=\"ice\"></a>"
   ]
  },
  {
   "cell_type": "code",
   "execution_count": 10,
   "metadata": {},
   "outputs": [
    {
     "data": {
      "text/html": [
       "<div>\n",
       "<style scoped>\n",
       "    .dataframe tbody tr th:only-of-type {\n",
       "        vertical-align: middle;\n",
       "    }\n",
       "\n",
       "    .dataframe tbody tr th {\n",
       "        vertical-align: top;\n",
       "    }\n",
       "\n",
       "    .dataframe thead th {\n",
       "        text-align: right;\n",
       "    }\n",
       "</style>\n",
       "<table border=\"1\" class=\"dataframe\">\n",
       "  <thead>\n",
       "    <tr style=\"text-align: right;\">\n",
       "      <th></th>\n",
       "      <th>hypothesis</th>\n",
       "      <th>ICE</th>\n",
       "    </tr>\n",
       "  </thead>\n",
       "  <tbody>\n",
       "    <tr>\n",
       "      <th>8</th>\n",
       "      <td>Запустить акцию, дающую скидку на товар в день рождения</td>\n",
       "      <td>16.20</td>\n",
       "    </tr>\n",
       "    <tr>\n",
       "      <th>0</th>\n",
       "      <td>Добавить два новых канала привлечения трафика, что позволит привлекать на 30% больше пользователей</td>\n",
       "      <td>13.33</td>\n",
       "    </tr>\n",
       "    <tr>\n",
       "      <th>7</th>\n",
       "      <td>Добавить форму подписки на все основные страницы, чтобы собрать базу клиентов для email-рассылок</td>\n",
       "      <td>11.20</td>\n",
       "    </tr>\n",
       "    <tr>\n",
       "      <th>6</th>\n",
       "      <td>Показать на главной странице баннеры с актуальными акциями и распродажами, чтобы увеличить конверсию</td>\n",
       "      <td>8.00</td>\n",
       "    </tr>\n",
       "    <tr>\n",
       "      <th>2</th>\n",
       "      <td>Добавить блоки рекомендаций товаров на сайт интернет магазина, чтобы повысить конверсию и средний чек заказа</td>\n",
       "      <td>7.00</td>\n",
       "    </tr>\n",
       "    <tr>\n",
       "      <th>1</th>\n",
       "      <td>Запустить собственную службу доставки, что сократит срок доставки заказов</td>\n",
       "      <td>2.00</td>\n",
       "    </tr>\n",
       "    <tr>\n",
       "      <th>5</th>\n",
       "      <td>Добавить страницу отзывов клиентов о магазине, что позволит увеличить количество заказов</td>\n",
       "      <td>1.33</td>\n",
       "    </tr>\n",
       "    <tr>\n",
       "      <th>3</th>\n",
       "      <td>Изменить структура категорий, что увеличит конверсию, т.к. пользователи быстрее найдут нужный товар</td>\n",
       "      <td>1.12</td>\n",
       "    </tr>\n",
       "    <tr>\n",
       "      <th>4</th>\n",
       "      <td>Изменить цвет фона главной страницы, чтобы увеличить вовлеченность пользователей</td>\n",
       "      <td>1.00</td>\n",
       "    </tr>\n",
       "  </tbody>\n",
       "</table>\n",
       "</div>"
      ],
      "text/plain": [
       "                                                                                                     hypothesis  \\\n",
       "8                                                       Запустить акцию, дающую скидку на товар в день рождения   \n",
       "0            Добавить два новых канала привлечения трафика, что позволит привлекать на 30% больше пользователей   \n",
       "7              Добавить форму подписки на все основные страницы, чтобы собрать базу клиентов для email-рассылок   \n",
       "6          Показать на главной странице баннеры с актуальными акциями и распродажами, чтобы увеличить конверсию   \n",
       "2  Добавить блоки рекомендаций товаров на сайт интернет магазина, чтобы повысить конверсию и средний чек заказа   \n",
       "1                                     Запустить собственную службу доставки, что сократит срок доставки заказов   \n",
       "5                      Добавить страницу отзывов клиентов о магазине, что позволит увеличить количество заказов   \n",
       "3           Изменить структура категорий, что увеличит конверсию, т.к. пользователи быстрее найдут нужный товар   \n",
       "4                              Изменить цвет фона главной страницы, чтобы увеличить вовлеченность пользователей   \n",
       "\n",
       "     ICE  \n",
       "8  16.20  \n",
       "0  13.33  \n",
       "7  11.20  \n",
       "6   8.00  \n",
       "2   7.00  \n",
       "1   2.00  \n",
       "5   1.33  \n",
       "3   1.12  \n",
       "4   1.00  "
      ]
     },
     "metadata": {},
     "output_type": "display_data"
    }
   ],
   "source": [
    "hypothesis['ICE'] = (hypothesis['impact'] * hypothesis['confidence']) / hypothesis['efforts']\n",
    "hypothesis_ice = hypothesis[['hypothesis', 'ICE']].round(2).sort_values(by='ICE', ascending=False)\n",
    "pd.options.display.max_colwidth = 200\n",
    "display(hypothesis_ice)"
   ]
  },
  {
   "cell_type": "markdown",
   "metadata": {},
   "source": [
    "**Вывод** При применения фрейворка ICE наиболее приоритетными гипотезами являются:     \n",
    "* Запустить акцию, дающую скидку на товар в день рождения (гипотеза 8);   \n",
    "* Добавить два новых канала привлечения трафика, что позволит привлекать на 30% больше пользователей (гипотеза 0);   \n",
    "* Добавить форму подписки на все основные страницы, чтобы собрать базу клиентов для email-рассылок (гипотеза 7)."
   ]
  },
  {
   "cell_type": "markdown",
   "metadata": {},
   "source": [
    "### Фреймворк RICE для приоритизации гипотез<a id=\"rice\"></a>"
   ]
  },
  {
   "cell_type": "code",
   "execution_count": 11,
   "metadata": {},
   "outputs": [
    {
     "data": {
      "text/html": [
       "<div>\n",
       "<style scoped>\n",
       "    .dataframe tbody tr th:only-of-type {\n",
       "        vertical-align: middle;\n",
       "    }\n",
       "\n",
       "    .dataframe tbody tr th {\n",
       "        vertical-align: top;\n",
       "    }\n",
       "\n",
       "    .dataframe thead th {\n",
       "        text-align: right;\n",
       "    }\n",
       "</style>\n",
       "<table border=\"1\" class=\"dataframe\">\n",
       "  <thead>\n",
       "    <tr style=\"text-align: right;\">\n",
       "      <th></th>\n",
       "      <th>hypothesis</th>\n",
       "      <th>RICE</th>\n",
       "    </tr>\n",
       "  </thead>\n",
       "  <tbody>\n",
       "    <tr>\n",
       "      <th>7</th>\n",
       "      <td>Добавить форму подписки на все основные страницы, чтобы собрать базу клиентов для email-рассылок</td>\n",
       "      <td>112.0</td>\n",
       "    </tr>\n",
       "    <tr>\n",
       "      <th>2</th>\n",
       "      <td>Добавить блоки рекомендаций товаров на сайт интернет магазина, чтобы повысить конверсию и средний чек заказа</td>\n",
       "      <td>56.0</td>\n",
       "    </tr>\n",
       "    <tr>\n",
       "      <th>0</th>\n",
       "      <td>Добавить два новых канала привлечения трафика, что позволит привлекать на 30% больше пользователей</td>\n",
       "      <td>40.0</td>\n",
       "    </tr>\n",
       "    <tr>\n",
       "      <th>6</th>\n",
       "      <td>Показать на главной странице баннеры с актуальными акциями и распродажами, чтобы увеличить конверсию</td>\n",
       "      <td>40.0</td>\n",
       "    </tr>\n",
       "    <tr>\n",
       "      <th>8</th>\n",
       "      <td>Запустить акцию, дающую скидку на товар в день рождения</td>\n",
       "      <td>16.2</td>\n",
       "    </tr>\n",
       "    <tr>\n",
       "      <th>3</th>\n",
       "      <td>Изменить структура категорий, что увеличит конверсию, т.к. пользователи быстрее найдут нужный товар</td>\n",
       "      <td>9.0</td>\n",
       "    </tr>\n",
       "    <tr>\n",
       "      <th>1</th>\n",
       "      <td>Запустить собственную службу доставки, что сократит срок доставки заказов</td>\n",
       "      <td>4.0</td>\n",
       "    </tr>\n",
       "    <tr>\n",
       "      <th>5</th>\n",
       "      <td>Добавить страницу отзывов клиентов о магазине, что позволит увеличить количество заказов</td>\n",
       "      <td>4.0</td>\n",
       "    </tr>\n",
       "    <tr>\n",
       "      <th>4</th>\n",
       "      <td>Изменить цвет фона главной страницы, чтобы увеличить вовлеченность пользователей</td>\n",
       "      <td>3.0</td>\n",
       "    </tr>\n",
       "  </tbody>\n",
       "</table>\n",
       "</div>"
      ],
      "text/plain": [
       "                                                                                                     hypothesis  \\\n",
       "7              Добавить форму подписки на все основные страницы, чтобы собрать базу клиентов для email-рассылок   \n",
       "2  Добавить блоки рекомендаций товаров на сайт интернет магазина, чтобы повысить конверсию и средний чек заказа   \n",
       "0            Добавить два новых канала привлечения трафика, что позволит привлекать на 30% больше пользователей   \n",
       "6          Показать на главной странице баннеры с актуальными акциями и распродажами, чтобы увеличить конверсию   \n",
       "8                                                       Запустить акцию, дающую скидку на товар в день рождения   \n",
       "3           Изменить структура категорий, что увеличит конверсию, т.к. пользователи быстрее найдут нужный товар   \n",
       "1                                     Запустить собственную службу доставки, что сократит срок доставки заказов   \n",
       "5                      Добавить страницу отзывов клиентов о магазине, что позволит увеличить количество заказов   \n",
       "4                              Изменить цвет фона главной страницы, чтобы увеличить вовлеченность пользователей   \n",
       "\n",
       "    RICE  \n",
       "7  112.0  \n",
       "2   56.0  \n",
       "0   40.0  \n",
       "6   40.0  \n",
       "8   16.2  \n",
       "3    9.0  \n",
       "1    4.0  \n",
       "5    4.0  \n",
       "4    3.0  "
      ]
     },
     "metadata": {},
     "output_type": "display_data"
    }
   ],
   "source": [
    "hypothesis['RICE'] = (hypothesis['reach'] * hypothesis['impact'] * hypothesis['confidence']) / hypothesis['efforts']\n",
    "hypothesis_rice = hypothesis[['hypothesis', 'RICE']].sort_values(by='RICE', ascending=False)\n",
    "pd.options.display.max_colwidth = 200\n",
    "display(hypothesis_rice)"
   ]
  },
  {
   "cell_type": "markdown",
   "metadata": {},
   "source": [
    "**Вывод** При применения фрейворка RICE наиболее приоритетными гипотезами являются:   \n",
    "* Добавить форму подписки на все основные страницы, чтобы собрать базу клиентов для email-рассылок (гипотеза 7);  \n",
    "* Добавить блоки рекомендаций товаров на сайт интернет магазина, чтобы повысить конверсию и средний чек заказа (гипотеза 2);  \n",
    "* Добавить два новых канала привлечения трафика, что позволит привлекать на 30% больше пользователей (гипотеза 0)."
   ]
  },
  {
   "cell_type": "markdown",
   "metadata": {},
   "source": [
    "Обьеденим оценки приоритетотов гипотез, что бы их можно было сопоставить и выделить значений от большего к меньшему цветом"
   ]
  },
  {
   "cell_type": "code",
   "execution_count": 12,
   "metadata": {},
   "outputs": [
    {
     "data": {
      "text/html": [
       "<style  type=\"text/css\" >\n",
       "#T_a6b23cd1_ebaf_11ec_8b6b_00e04c3620d4row0_col1,#T_a6b23cd1_ebaf_11ec_8b6b_00e04c3620d4row2_col2{\n",
       "            background-color:  #0000ff;\n",
       "            color:  #f1f1f1;\n",
       "        }#T_a6b23cd1_ebaf_11ec_8b6b_00e04c3620d4row0_col2{\n",
       "            background-color:  #d3d3f4;\n",
       "            color:  #000000;\n",
       "        }#T_a6b23cd1_ebaf_11ec_8b6b_00e04c3620d4row1_col1{\n",
       "            background-color:  #2d2dfd;\n",
       "            color:  #f1f1f1;\n",
       "        }#T_a6b23cd1_ebaf_11ec_8b6b_00e04c3620d4row1_col2,#T_a6b23cd1_ebaf_11ec_8b6b_00e04c3620d4row3_col2{\n",
       "            background-color:  #9f9ff7;\n",
       "            color:  #000000;\n",
       "        }#T_a6b23cd1_ebaf_11ec_8b6b_00e04c3620d4row2_col1{\n",
       "            background-color:  #4f4ffb;\n",
       "            color:  #f1f1f1;\n",
       "        }#T_a6b23cd1_ebaf_11ec_8b6b_00e04c3620d4row3_col1{\n",
       "            background-color:  #8282f8;\n",
       "            color:  #000000;\n",
       "        }#T_a6b23cd1_ebaf_11ec_8b6b_00e04c3620d4row4_col1{\n",
       "            background-color:  #9191f8;\n",
       "            color:  #000000;\n",
       "        }#T_a6b23cd1_ebaf_11ec_8b6b_00e04c3620d4row4_col2{\n",
       "            background-color:  #7c7cf9;\n",
       "            color:  #000000;\n",
       "        }#T_a6b23cd1_ebaf_11ec_8b6b_00e04c3620d4row5_col1{\n",
       "            background-color:  #e1e1f4;\n",
       "            color:  #000000;\n",
       "        }#T_a6b23cd1_ebaf_11ec_8b6b_00e04c3620d4row5_col2,#T_a6b23cd1_ebaf_11ec_8b6b_00e04c3620d4row6_col2,#T_a6b23cd1_ebaf_11ec_8b6b_00e04c3620d4row7_col1{\n",
       "            background-color:  #efeff3;\n",
       "            color:  #000000;\n",
       "        }#T_a6b23cd1_ebaf_11ec_8b6b_00e04c3620d4row6_col1{\n",
       "            background-color:  #ececf3;\n",
       "            color:  #000000;\n",
       "        }#T_a6b23cd1_ebaf_11ec_8b6b_00e04c3620d4row7_col2{\n",
       "            background-color:  #e3e3f3;\n",
       "            color:  #000000;\n",
       "        }#T_a6b23cd1_ebaf_11ec_8b6b_00e04c3620d4row8_col1,#T_a6b23cd1_ebaf_11ec_8b6b_00e04c3620d4row8_col2{\n",
       "            background-color:  #f0f0f3;\n",
       "            color:  #000000;\n",
       "        }</style><table id=\"T_a6b23cd1_ebaf_11ec_8b6b_00e04c3620d4\" ><thead>    <tr>        <th class=\"blank level0\" ></th>        <th class=\"col_heading level0 col0\" >hypothesis</th>        <th class=\"col_heading level0 col1\" >ICE</th>        <th class=\"col_heading level0 col2\" >RICE</th>    </tr></thead><tbody>\n",
       "                <tr>\n",
       "                        <th id=\"T_a6b23cd1_ebaf_11ec_8b6b_00e04c3620d4level0_row0\" class=\"row_heading level0 row0\" >0</th>\n",
       "                        <td id=\"T_a6b23cd1_ebaf_11ec_8b6b_00e04c3620d4row0_col0\" class=\"data row0 col0\" >Запустить акцию, дающую скидку на товар в день рождения</td>\n",
       "                        <td id=\"T_a6b23cd1_ebaf_11ec_8b6b_00e04c3620d4row0_col1\" class=\"data row0 col1\" >16.200000</td>\n",
       "                        <td id=\"T_a6b23cd1_ebaf_11ec_8b6b_00e04c3620d4row0_col2\" class=\"data row0 col2\" >16.200000</td>\n",
       "            </tr>\n",
       "            <tr>\n",
       "                        <th id=\"T_a6b23cd1_ebaf_11ec_8b6b_00e04c3620d4level0_row1\" class=\"row_heading level0 row1\" >1</th>\n",
       "                        <td id=\"T_a6b23cd1_ebaf_11ec_8b6b_00e04c3620d4row1_col0\" class=\"data row1 col0\" >Добавить два новых канала привлечения трафика, что позволит привлекать на 30% больше пользователей</td>\n",
       "                        <td id=\"T_a6b23cd1_ebaf_11ec_8b6b_00e04c3620d4row1_col1\" class=\"data row1 col1\" >13.330000</td>\n",
       "                        <td id=\"T_a6b23cd1_ebaf_11ec_8b6b_00e04c3620d4row1_col2\" class=\"data row1 col2\" >40.000000</td>\n",
       "            </tr>\n",
       "            <tr>\n",
       "                        <th id=\"T_a6b23cd1_ebaf_11ec_8b6b_00e04c3620d4level0_row2\" class=\"row_heading level0 row2\" >2</th>\n",
       "                        <td id=\"T_a6b23cd1_ebaf_11ec_8b6b_00e04c3620d4row2_col0\" class=\"data row2 col0\" >Добавить форму подписки на все основные страницы, чтобы собрать базу клиентов для email-рассылок</td>\n",
       "                        <td id=\"T_a6b23cd1_ebaf_11ec_8b6b_00e04c3620d4row2_col1\" class=\"data row2 col1\" >11.200000</td>\n",
       "                        <td id=\"T_a6b23cd1_ebaf_11ec_8b6b_00e04c3620d4row2_col2\" class=\"data row2 col2\" >112.000000</td>\n",
       "            </tr>\n",
       "            <tr>\n",
       "                        <th id=\"T_a6b23cd1_ebaf_11ec_8b6b_00e04c3620d4level0_row3\" class=\"row_heading level0 row3\" >3</th>\n",
       "                        <td id=\"T_a6b23cd1_ebaf_11ec_8b6b_00e04c3620d4row3_col0\" class=\"data row3 col0\" >Показать на главной странице баннеры с актуальными акциями и распродажами, чтобы увеличить конверсию</td>\n",
       "                        <td id=\"T_a6b23cd1_ebaf_11ec_8b6b_00e04c3620d4row3_col1\" class=\"data row3 col1\" >8.000000</td>\n",
       "                        <td id=\"T_a6b23cd1_ebaf_11ec_8b6b_00e04c3620d4row3_col2\" class=\"data row3 col2\" >40.000000</td>\n",
       "            </tr>\n",
       "            <tr>\n",
       "                        <th id=\"T_a6b23cd1_ebaf_11ec_8b6b_00e04c3620d4level0_row4\" class=\"row_heading level0 row4\" >4</th>\n",
       "                        <td id=\"T_a6b23cd1_ebaf_11ec_8b6b_00e04c3620d4row4_col0\" class=\"data row4 col0\" >Добавить блоки рекомендаций товаров на сайт интернет магазина, чтобы повысить конверсию и средний чек заказа</td>\n",
       "                        <td id=\"T_a6b23cd1_ebaf_11ec_8b6b_00e04c3620d4row4_col1\" class=\"data row4 col1\" >7.000000</td>\n",
       "                        <td id=\"T_a6b23cd1_ebaf_11ec_8b6b_00e04c3620d4row4_col2\" class=\"data row4 col2\" >56.000000</td>\n",
       "            </tr>\n",
       "            <tr>\n",
       "                        <th id=\"T_a6b23cd1_ebaf_11ec_8b6b_00e04c3620d4level0_row5\" class=\"row_heading level0 row5\" >5</th>\n",
       "                        <td id=\"T_a6b23cd1_ebaf_11ec_8b6b_00e04c3620d4row5_col0\" class=\"data row5 col0\" >Запустить собственную службу доставки, что сократит срок доставки заказов</td>\n",
       "                        <td id=\"T_a6b23cd1_ebaf_11ec_8b6b_00e04c3620d4row5_col1\" class=\"data row5 col1\" >2.000000</td>\n",
       "                        <td id=\"T_a6b23cd1_ebaf_11ec_8b6b_00e04c3620d4row5_col2\" class=\"data row5 col2\" >4.000000</td>\n",
       "            </tr>\n",
       "            <tr>\n",
       "                        <th id=\"T_a6b23cd1_ebaf_11ec_8b6b_00e04c3620d4level0_row6\" class=\"row_heading level0 row6\" >6</th>\n",
       "                        <td id=\"T_a6b23cd1_ebaf_11ec_8b6b_00e04c3620d4row6_col0\" class=\"data row6 col0\" >Добавить страницу отзывов клиентов о магазине, что позволит увеличить количество заказов</td>\n",
       "                        <td id=\"T_a6b23cd1_ebaf_11ec_8b6b_00e04c3620d4row6_col1\" class=\"data row6 col1\" >1.330000</td>\n",
       "                        <td id=\"T_a6b23cd1_ebaf_11ec_8b6b_00e04c3620d4row6_col2\" class=\"data row6 col2\" >4.000000</td>\n",
       "            </tr>\n",
       "            <tr>\n",
       "                        <th id=\"T_a6b23cd1_ebaf_11ec_8b6b_00e04c3620d4level0_row7\" class=\"row_heading level0 row7\" >7</th>\n",
       "                        <td id=\"T_a6b23cd1_ebaf_11ec_8b6b_00e04c3620d4row7_col0\" class=\"data row7 col0\" >Изменить структура категорий, что увеличит конверсию, т.к. пользователи быстрее найдут нужный товар</td>\n",
       "                        <td id=\"T_a6b23cd1_ebaf_11ec_8b6b_00e04c3620d4row7_col1\" class=\"data row7 col1\" >1.120000</td>\n",
       "                        <td id=\"T_a6b23cd1_ebaf_11ec_8b6b_00e04c3620d4row7_col2\" class=\"data row7 col2\" >9.000000</td>\n",
       "            </tr>\n",
       "            <tr>\n",
       "                        <th id=\"T_a6b23cd1_ebaf_11ec_8b6b_00e04c3620d4level0_row8\" class=\"row_heading level0 row8\" >8</th>\n",
       "                        <td id=\"T_a6b23cd1_ebaf_11ec_8b6b_00e04c3620d4row8_col0\" class=\"data row8 col0\" >Изменить цвет фона главной страницы, чтобы увеличить вовлеченность пользователей</td>\n",
       "                        <td id=\"T_a6b23cd1_ebaf_11ec_8b6b_00e04c3620d4row8_col1\" class=\"data row8 col1\" >1.000000</td>\n",
       "                        <td id=\"T_a6b23cd1_ebaf_11ec_8b6b_00e04c3620d4row8_col2\" class=\"data row8 col2\" >3.000000</td>\n",
       "            </tr>\n",
       "    </tbody></table>"
      ],
      "text/plain": [
       "<pandas.io.formats.style.Styler at 0x2395b840c70>"
      ]
     },
     "execution_count": 12,
     "metadata": {},
     "output_type": "execute_result"
    }
   ],
   "source": [
    "hypothesis_ice_rice = hypothesis_ice.merge(hypothesis_rice, on = 'hypothesis')\n",
    "color = sns.light_palette('blue', as_cmap=True)\n",
    "pd.options.display.max_colwidth = 200\n",
    "hypothesis_ice_rice.style.background_gradient(cmap=color)"
   ]
  },
  {
   "cell_type": "markdown",
   "metadata": {},
   "source": [
    "**Выводы:**   \n",
    "1. Изменения приоритета гипотез связана с тем, что фремворк RICE учитывает охват - таким образом более высокий приоритет получили гипотезы которы могут обеспечить больший овхват пользователей. Гипотеза 8 - Запустить акцию, дающую скидку на товар в день рождения - в моменте охватвывает небольшую долю аудитории;   \n",
    "1. Приоритет стот отдать гипотезам:   \n",
    "* Добавить форму подписки на все основные страницы, чтобы собрать базу клиентов для email-рассылок (гипотеза 7) и   \n",
    "* Добавить два новых канала привлечения трафика, что позволит привлекать на 30% больше пользователей (гипотеза 0) -    \n",
    "так они получили высокий приорите в рамках обоих фреймворков."
   ]
  },
  {
   "cell_type": "markdown",
   "metadata": {},
   "source": [
    "---"
   ]
  },
  {
   "cell_type": "markdown",
   "metadata": {},
   "source": [
    "## Анализ A/B-теста<a id=\"a_b_test\"></a>"
   ]
  },
  {
   "cell_type": "code",
   "execution_count": 13,
   "metadata": {},
   "outputs": [
    {
     "name": "stdout",
     "output_type": "stream",
     "text": [
      "<class 'pandas.core.frame.DataFrame'>\n",
      "RangeIndex: 1197 entries, 0 to 1196\n",
      "Data columns (total 5 columns):\n",
      " #   Column         Non-Null Count  Dtype         \n",
      "---  ------         --------------  -----         \n",
      " 0   transactionId  1197 non-null   int64         \n",
      " 1   visitorId      1197 non-null   int64         \n",
      " 2   date           1197 non-null   datetime64[ns]\n",
      " 3   revenue        1197 non-null   int64         \n",
      " 4   group          1197 non-null   object        \n",
      "dtypes: datetime64[ns](1), int64(3), object(1)\n",
      "memory usage: 46.9+ KB\n"
     ]
    }
   ],
   "source": [
    "orders.info()"
   ]
  },
  {
   "cell_type": "markdown",
   "metadata": {},
   "source": [
    "Все пользователи разделены на 2 группы: А (контрольная) и В (эксперементальная)"
   ]
  },
  {
   "cell_type": "code",
   "execution_count": 14,
   "metadata": {},
   "outputs": [
    {
     "name": "stdout",
     "output_type": "stream",
     "text": [
      "Дата начала теста -  2019-08-01 00:00:00\n",
      "дата окончания теста -  2019-08-31 00:00:00\n",
      "Общее число посещений -  1197\n",
      "Число посещений пользователями из группы А -  557\n",
      "Число посещений пользователями из группы В -  640\n",
      "Число уникальных пользователей -  1031\n",
      "Число уникальных пользователей из группы А -  503\n",
      "Число уникальных пользователей из группы В -  586\n",
      "Сумма уникальных пользователелей из группы А и В -  1089\n"
     ]
    }
   ],
   "source": [
    "# Найдём дату начала и окончания теста\n",
    "print('Дата начала теста - ', min(orders['date']))\n",
    "print('дата окончания теста - ', max(orders['date']))\n",
    "\n",
    "# Подсчитиаем общее число пользователей и чило в каждой из групп \n",
    "print('Общее число посещений - ', orders['visitorId'].count())\n",
    "group_a = orders.loc[orders.loc[:, 'group'] == 'A']['visitorId'].count()\n",
    "group_b = orders.loc[orders.loc[:, 'group'] == 'B']['visitorId'].count()\n",
    "print('Число посещений пользователями из группы А - ' , group_a)\n",
    "print('Число посещений пользователями из группы В - ', group_b)\n",
    "\n",
    "# Подсчитиаем чиcло уникальных пользователей\n",
    "print('Число уникальных пользователей - ', orders['visitorId'].nunique())\n",
    "group_a_unique = orders.loc[orders.loc[:, 'group'] == 'A']['visitorId'].nunique()\n",
    "group_b_unique = orders.loc[orders.loc[:, 'group'] == 'B']['visitorId'].nunique()\n",
    "print('Число уникальных пользователей из группы А - ', group_a_unique)\n",
    "print('Число уникальных пользователей из группы В - ', group_b_unique)\n",
    "print('Сумма уникальных пользователелей из группы А и В - ', group_a_unique + group_b_unique)"
   ]
  },
  {
   "cell_type": "markdown",
   "metadata": {},
   "source": [
    "**Вывод** Сумма уникальных пользователелей из группы А и В больше общего числа уникальных пользователей - одни  и теже пользователи попали в обе группы. Создаем массив уникальных пар значений дат и групп теста и удалим пользователей попавших в обе группы."
   ]
  },
  {
   "cell_type": "code",
   "execution_count": 15,
   "metadata": {},
   "outputs": [
    {
     "data": {
      "text/plain": [
       "2          8300375\n",
       "44       199603092\n",
       "51       232979603\n",
       "55       237748145\n",
       "66       276558944\n",
       "84       351125977\n",
       "97       393266494\n",
       "114      457167155\n",
       "119      471551937\n",
       "122      477780734\n",
       "192      818047933\n",
       "236      963407295\n",
       "299     1230306981\n",
       "311     1294878855\n",
       "316     1316129916\n",
       "318     1333886533\n",
       "340     1404934699\n",
       "386     1602967004\n",
       "393     1614305549\n",
       "402     1648269707\n",
       "406     1668030113\n",
       "422     1738359350\n",
       "436     1801183820\n",
       "469     1959144690\n",
       "487     2038680547\n",
       "491     2044997962\n",
       "569     2378935119\n",
       "591     2458001652\n",
       "614     2579882178\n",
       "619     2587333274\n",
       "622     2600415354\n",
       "639     2654030115\n",
       "648     2686716486\n",
       "661     2712142231\n",
       "662     2716752286\n",
       "677     2780786433\n",
       "710     2927087541\n",
       "715     2949041841\n",
       "718     2954449915\n",
       "744     3062433592\n",
       "784     3202540741\n",
       "792     3234906277\n",
       "884     3656415546\n",
       "897     3717692402\n",
       "909     3766097110\n",
       "917     3803269165\n",
       "932     3891541246\n",
       "950     3941795274\n",
       "954     3951559397\n",
       "957     3957174400\n",
       "958     3963646447\n",
       "960     3972127743\n",
       "963     3984495233\n",
       "984     4069496402\n",
       "992     4120364173\n",
       "1009    4186807279\n",
       "1023    4256040402\n",
       "1026    4266935830\n",
       "Name: visitorId, dtype: int64"
      ]
     },
     "execution_count": 15,
     "metadata": {},
     "output_type": "execute_result"
    }
   ],
   "source": [
    "orders.groupby('visitorId').agg({'group' : 'nunique'}).reset_index().query('group>1')['visitorId']"
   ]
  },
  {
   "cell_type": "code",
   "execution_count": 16,
   "metadata": {},
   "outputs": [
    {
     "name": "stdout",
     "output_type": "stream",
     "text": [
      "Число уникальных пользователей -  1031\n"
     ]
    }
   ],
   "source": [
    "datesGroups = orders[['date','group']].drop_duplicates()\n",
    "print('Число уникальных пользователей - ', orders['visitorId'].nunique())"
   ]
  },
  {
   "cell_type": "markdown",
   "metadata": {},
   "source": [
    "Создадим таблицу ordersAggregated, содержащую следующие колонки:   \n",
    "* дата;   \n",
    "* группа A/B-теста;   \n",
    "* число уникальных заказов в группе теста по указанную дату включительно;   \n",
    "* число уникальных пользователей, совершивших хотя бы 1 заказ в группе теста по указанную дату включительно;  \n",
    "* суммарную выручку заказов в группе теста по указанную дату включительно."
   ]
  },
  {
   "cell_type": "code",
   "execution_count": 17,
   "metadata": {},
   "outputs": [],
   "source": [
    "ordersAggregated = datesGroups.apply(\n",
    "    lambda x: orders[np.logical_and(orders['date'] <= x['date'], orders['group'] == x['group'])].agg({\n",
    "'date' : 'max',\n",
    "'group' : 'max',\n",
    "'transactionId' : pd.Series.nunique,\n",
    "'visitorId' : pd.Series.nunique,\n",
    "'revenue' : 'sum'}), axis=1).sort_values(by=['date','group']) "
   ]
  },
  {
   "cell_type": "markdown",
   "metadata": {},
   "source": [
    "Объявим переменную visitorsAggregated, содержащую:  \n",
    "* дату;    \n",
    "* группу A/B-теста;    \n",
    "* количество уникальных посетителей в группе теста по указанную дату включительно."
   ]
  },
  {
   "cell_type": "code",
   "execution_count": 18,
   "metadata": {},
   "outputs": [],
   "source": [
    "visitorsAggregated = datesGroups.apply(\n",
    "    lambda x: visitors[np.logical_and(visitors['date'] <= x['date'], visitors['group'] == x['group'])].agg({\n",
    "'date' : 'max',\n",
    "'group' : 'max',\n",
    "'visitors' : 'sum'}), axis=1).sort_values(by=['date','group'])"
   ]
  },
  {
   "cell_type": "markdown",
   "metadata": {},
   "source": [
    "Определим переменную cumulativeData, объединив ordersAggregated и visitorsAggregated по колонкам 'date', 'group' методом merge().   \n",
    "Присвоим столбцам cumulativeData названия ['date', 'group', 'orders', 'buyers', 'revenue', 'visitors']\n",
    "\n"
   ]
  },
  {
   "cell_type": "code",
   "execution_count": 19,
   "metadata": {},
   "outputs": [
    {
     "data": {
      "text/html": [
       "<div>\n",
       "<style scoped>\n",
       "    .dataframe tbody tr th:only-of-type {\n",
       "        vertical-align: middle;\n",
       "    }\n",
       "\n",
       "    .dataframe tbody tr th {\n",
       "        vertical-align: top;\n",
       "    }\n",
       "\n",
       "    .dataframe thead th {\n",
       "        text-align: right;\n",
       "    }\n",
       "</style>\n",
       "<table border=\"1\" class=\"dataframe\">\n",
       "  <thead>\n",
       "    <tr style=\"text-align: right;\">\n",
       "      <th></th>\n",
       "      <th>date</th>\n",
       "      <th>group</th>\n",
       "      <th>orders</th>\n",
       "      <th>buyers</th>\n",
       "      <th>revenue</th>\n",
       "      <th>visitors</th>\n",
       "    </tr>\n",
       "  </thead>\n",
       "  <tbody>\n",
       "    <tr>\n",
       "      <th>0</th>\n",
       "      <td>2019-08-01</td>\n",
       "      <td>A</td>\n",
       "      <td>24</td>\n",
       "      <td>20</td>\n",
       "      <td>148579</td>\n",
       "      <td>719</td>\n",
       "    </tr>\n",
       "    <tr>\n",
       "      <th>1</th>\n",
       "      <td>2019-08-01</td>\n",
       "      <td>B</td>\n",
       "      <td>21</td>\n",
       "      <td>20</td>\n",
       "      <td>101217</td>\n",
       "      <td>713</td>\n",
       "    </tr>\n",
       "    <tr>\n",
       "      <th>2</th>\n",
       "      <td>2019-08-02</td>\n",
       "      <td>A</td>\n",
       "      <td>44</td>\n",
       "      <td>38</td>\n",
       "      <td>242401</td>\n",
       "      <td>1338</td>\n",
       "    </tr>\n",
       "    <tr>\n",
       "      <th>3</th>\n",
       "      <td>2019-08-02</td>\n",
       "      <td>B</td>\n",
       "      <td>45</td>\n",
       "      <td>43</td>\n",
       "      <td>266748</td>\n",
       "      <td>1294</td>\n",
       "    </tr>\n",
       "    <tr>\n",
       "      <th>4</th>\n",
       "      <td>2019-08-03</td>\n",
       "      <td>A</td>\n",
       "      <td>68</td>\n",
       "      <td>62</td>\n",
       "      <td>354874</td>\n",
       "      <td>1845</td>\n",
       "    </tr>\n",
       "    <tr>\n",
       "      <th>...</th>\n",
       "      <td>...</td>\n",
       "      <td>...</td>\n",
       "      <td>...</td>\n",
       "      <td>...</td>\n",
       "      <td>...</td>\n",
       "      <td>...</td>\n",
       "    </tr>\n",
       "    <tr>\n",
       "      <th>57</th>\n",
       "      <td>2019-08-29</td>\n",
       "      <td>B</td>\n",
       "      <td>596</td>\n",
       "      <td>544</td>\n",
       "      <td>5559398</td>\n",
       "      <td>17708</td>\n",
       "    </tr>\n",
       "    <tr>\n",
       "      <th>58</th>\n",
       "      <td>2019-08-30</td>\n",
       "      <td>A</td>\n",
       "      <td>545</td>\n",
       "      <td>493</td>\n",
       "      <td>4022970</td>\n",
       "      <td>18037</td>\n",
       "    </tr>\n",
       "    <tr>\n",
       "      <th>59</th>\n",
       "      <td>2019-08-30</td>\n",
       "      <td>B</td>\n",
       "      <td>620</td>\n",
       "      <td>567</td>\n",
       "      <td>5774631</td>\n",
       "      <td>18198</td>\n",
       "    </tr>\n",
       "    <tr>\n",
       "      <th>60</th>\n",
       "      <td>2019-08-31</td>\n",
       "      <td>A</td>\n",
       "      <td>557</td>\n",
       "      <td>503</td>\n",
       "      <td>4084803</td>\n",
       "      <td>18736</td>\n",
       "    </tr>\n",
       "    <tr>\n",
       "      <th>61</th>\n",
       "      <td>2019-08-31</td>\n",
       "      <td>B</td>\n",
       "      <td>640</td>\n",
       "      <td>586</td>\n",
       "      <td>5907760</td>\n",
       "      <td>18916</td>\n",
       "    </tr>\n",
       "  </tbody>\n",
       "</table>\n",
       "<p>62 rows × 6 columns</p>\n",
       "</div>"
      ],
      "text/plain": [
       "         date group  orders  buyers  revenue  visitors\n",
       "0  2019-08-01     A      24      20   148579       719\n",
       "1  2019-08-01     B      21      20   101217       713\n",
       "2  2019-08-02     A      44      38   242401      1338\n",
       "3  2019-08-02     B      45      43   266748      1294\n",
       "4  2019-08-03     A      68      62   354874      1845\n",
       "..        ...   ...     ...     ...      ...       ...\n",
       "57 2019-08-29     B     596     544  5559398     17708\n",
       "58 2019-08-30     A     545     493  4022970     18037\n",
       "59 2019-08-30     B     620     567  5774631     18198\n",
       "60 2019-08-31     A     557     503  4084803     18736\n",
       "61 2019-08-31     B     640     586  5907760     18916\n",
       "\n",
       "[62 rows x 6 columns]"
      ]
     },
     "metadata": {},
     "output_type": "display_data"
    }
   ],
   "source": [
    "cumulativeData = ordersAggregated.merge(visitorsAggregated, left_on=['date', 'group'], right_on=['date', 'group'])\n",
    "cumulativeData.columns = ['date', 'group', 'orders', 'buyers', 'revenue', 'visitors']\n",
    "display(cumulativeData)"
   ]
  },
  {
   "cell_type": "markdown",
   "metadata": {},
   "source": [
    " ### График кумулятивной выручки по группам<a id=\"a_b_test_1\"></a>"
   ]
  },
  {
   "cell_type": "markdown",
   "metadata": {},
   "source": [
    "Объявим переменные cumulativeRevenueA и cumulativeRevenueB, в которых сохраните данные о датах, выручке и числе заказов в группах A и B.\n"
   ]
  },
  {
   "cell_type": "code",
   "execution_count": 20,
   "metadata": {},
   "outputs": [
    {
     "data": {
      "image/png": "[encoded data removed]",
      "text/plain": [
       "<Figure size 1440x576 with 1 Axes>"
      ]
     },
     "metadata": {
      "needs_background": "light"
     },
     "output_type": "display_data"
    }
   ],
   "source": [
    "# Создаём датафрейм с кумулятивным количеством заказов и кумулятивной выручкой по дням в группе А\n",
    "cumulativeRevenueA = cumulativeData[cumulativeData['group']=='A'][['date','revenue', 'orders']]\n",
    "\n",
    "# Создаём датафрейм с кумулятивным количеством заказов и кумулятивной выручкой по дням в группе B\n",
    "cumulativeRevenueB = cumulativeData[cumulativeData['group']=='B'][['date','revenue', 'orders']]\n",
    "\n",
    "# Задаем размер фигуры\n",
    "plt.figure(figsize=(20,8))\n",
    "\n",
    "# Строим график выручки группы А\n",
    "plt.plot(cumulativeRevenueA['date'], cumulativeRevenueA['revenue'], label='A')\n",
    "\n",
    "# Строим график выручки группы B\n",
    "plt.plot(cumulativeRevenueB['date'], cumulativeRevenueB['revenue'], label='B')\n",
    "\n",
    "plt.title('График кумулятивной выручки по группам', size=22)\n",
    "plt.xlabel('Дата', size=14)\n",
    "plt.ylabel('Выручка', size=14)\n",
    "plt.legend()\n",
    "plt.grid()\n",
    "plt.show()"
   ]
  },
  {
   "cell_type": "markdown",
   "metadata": {},
   "source": [
    "**Вывод** До 18 августа 2019 выручка почти равномерно увеличивается. После произошёл скачок вручки группы В, вследствии роста числа заказов, либо появление небольшого числа очень дорогих заказов."
   ]
  },
  {
   "cell_type": "markdown",
   "metadata": {},
   "source": [
    "### Гафик кумулятивного среднего чека по группам<a id=\"a_b_test_2\"></a>"
   ]
  },
  {
   "cell_type": "code",
   "execution_count": 21,
   "metadata": {},
   "outputs": [
    {
     "data": {
      "image/png": "[encoded data removed]",
      "text/plain": [
       "<Figure size 1440x576 with 1 Axes>"
      ]
     },
     "metadata": {
      "needs_background": "light"
     },
     "output_type": "display_data"
    }
   ],
   "source": [
    "plt.figure(figsize=(20,8))\n",
    "\n",
    "# Расичитываем кумулятивныё средний чек по группам\n",
    "plt.plot(cumulativeRevenueA['date'], cumulativeRevenueA['revenue']/cumulativeRevenueA['orders'], label='A')\n",
    "plt.plot(cumulativeRevenueB['date'], cumulativeRevenueB['revenue']/cumulativeRevenueB['orders'], label='B')\n",
    "\n",
    "\n",
    "plt.legend()\n",
    "plt.title('График кумулятивного среднего чека по группам', size=22)\n",
    "plt.xlabel('Дата', size=14)\n",
    "plt.ylabel('Средний чек', size=14)\n",
    "plt.legend()\n",
    "plt.grid()\n",
    "plt.show()"
   ]
  },
  {
   "cell_type": "markdown",
   "metadata": {},
   "source": [
    "**Вывод** Средний чек у обоих групп выравнивается к 18 августа 2019. Далее после резкого скачка у группы В наблюдаем стабильное уменьшение среднего чека - вдимо всё таки оказали вляние крупные заказы. Чтобы группа вернулась к реальному среднему чеку нужен больший горизонт событий."
   ]
  },
  {
   "cell_type": "markdown",
   "metadata": {},
   "source": [
    "### График относительного изменения кумулятивного среднего чека группы B к группе A<a id=\"a_b_test_3\"></a>"
   ]
  },
  {
   "cell_type": "code",
   "execution_count": 22,
   "metadata": {},
   "outputs": [
    {
     "data": {
      "image/png": "[encoded data removed]",
      "text/plain": [
       "<Figure size 1440x576 with 1 Axes>"
      ]
     },
     "metadata": {
      "needs_background": "light"
     },
     "output_type": "display_data"
    }
   ],
   "source": [
    "# Собираем данные в одном датафрейме\n",
    "mergedCumulativeRevenue = cumulativeRevenueA.merge(cumulativeRevenueB, left_on='date', right_on='date', how='left', suffixes=['A', 'B'])\n",
    "\n",
    "plt.figure(figsize=(20,8))\n",
    "plt.plot(mergedCumulativeRevenue['date'], (mergedCumulativeRevenue['revenueB']/mergedCumulativeRevenue['ordersB'])/(mergedCumulativeRevenue['revenueA']/mergedCumulativeRevenue['ordersA'])-1)\n",
    "\n",
    "plt.axhline(y=0, color='red', linestyle='--') \n",
    "plt.title('График относительного изменения кумулятивного среднего чека группы B к группе A', size=22)\n",
    "plt.xlabel('Дата', size=14)\n",
    "plt.grid()\n",
    "plt.show()"
   ]
  },
  {
   "cell_type": "markdown",
   "metadata": {},
   "source": [
    "**Вывод** График \"штормит\" - явно есть вляине анoмальных значений."
   ]
  },
  {
   "cell_type": "markdown",
   "metadata": {},
   "source": [
    "### График кумулятивной конверсии по группам<a id=\"a_b_test_4\"></a>"
   ]
  },
  {
   "cell_type": "code",
   "execution_count": 23,
   "metadata": {},
   "outputs": [
    {
     "name": "stdout",
     "output_type": "stream",
     "text": [
      "2019-08-01 00:00:00\n",
      "2019-08-31 00:00:00\n"
     ]
    }
   ],
   "source": [
    "# Найдём минимальную и максимальную дату, чтобы задать мастаб оси Х\n",
    "print(mergedCumulativeRevenue['date'].min())\n",
    "print(mergedCumulativeRevenue['date'].max())"
   ]
  },
  {
   "cell_type": "code",
   "execution_count": 24,
   "metadata": {},
   "outputs": [
    {
     "data": {
      "image/png": "[encoded data removed]",
      "text/plain": [
       "<Figure size 1440x576 with 1 Axes>"
      ]
     },
     "metadata": {
      "needs_background": "light"
     },
     "output_type": "display_data"
    }
   ],
   "source": [
    "# Считаем кумулятивную конверсию\n",
    "cumulativeData['conversion'] = cumulativeData['orders']/cumulativeData['visitors']\n",
    "\n",
    "# Отделяем данные по группе A\n",
    "cumulativeDataA = cumulativeData[cumulativeData['group']=='A']\n",
    "\n",
    "# Отделяем данные по группе B\n",
    "cumulativeDataB = cumulativeData[cumulativeData['group']=='B']\n",
    "\n",
    "\n",
    "# строим графики\n",
    "plt.figure(figsize=(20,8))\n",
    "plt.plot(cumulativeDataA['date'], cumulativeDataA['conversion'], label='A')\n",
    "plt.plot(cumulativeDataB['date'], cumulativeDataB['conversion'], label='B')\n",
    "plt.legend()\n",
    "\n",
    "# задаем масштаб осей\n",
    "plt.axis([dt.datetime(2019, 8, 1), dt.datetime(2019, 8, 31), 0.001, 0.05])\n",
    "plt.title('График кумулятивной конверсии по группам', size=22)\n",
    "plt.xlabel('Дата', size=14)\n",
    "plt.ylabel('Конверсия', size=14)\n",
    "plt.legend()\n",
    "plt.grid()\n",
    "plt.show()"
   ]
  },
  {
   "cell_type": "markdown",
   "metadata": {},
   "source": [
    "**Вывод** До 6 августа данные колебаются вокруг одного значения. Но затем конверсия группы В вырывается в лидеры и фиксируется примерно на одном уровне. Так же по группе А - с 10 августа она зафиксировалась примерно на одном значении."
   ]
  },
  {
   "cell_type": "markdown",
   "metadata": {},
   "source": [
    "### График относительного изменения кумулятивной конверсии группы B к группе A<a id=\"a_b_test_5\"></a>"
   ]
  },
  {
   "cell_type": "code",
   "execution_count": 25,
   "metadata": {},
   "outputs": [],
   "source": [
    "# Расчитаем относительное изменение кумулятивной конверсии группы B к группе A\n",
    "mergedCumulativeConversions = cumulativeDataA[['date','conversion']].merge(cumulativeDataB[['date','conversion']], left_on = 'date', right_on='date', how = 'left', suffixes = ['A', 'B'])"
   ]
  },
  {
   "cell_type": "code",
   "execution_count": 26,
   "metadata": {},
   "outputs": [
    {
     "data": {
      "image/png": "[encoded data removed]",
      "text/plain": [
       "<Figure size 1440x576 with 1 Axes>"
      ]
     },
     "metadata": {
      "needs_background": "light"
     },
     "output_type": "display_data"
    }
   ],
   "source": [
    "plt.figure(figsize=(20,8))\n",
    "plt.plot(mergedCumulativeConversions['date'], mergedCumulativeConversions['conversionB']/mergedCumulativeConversions['conversionA']-1, label=\"Относительный прирост конверсии группы B относительно группы A\")\n",
    "\n",
    "\n",
    "plt.axhline(y=0, color='green', linestyle='--')\n",
    "plt.axhline(y=0.2, color='red', linestyle='--')\n",
    "\n",
    "plt.axis([dt.datetime(2019, 8, 1), dt.datetime(2019, 8, 31), -0.15, 0.25])\n",
    "plt.title('График относительного изменения кумулятивной конверсии группы B к группе A', size=22)\n",
    "plt.xlabel('Дата', size=14)\n",
    "plt.ylabel('Конверсия, %', size=14)\n",
    "plt.grid()\n",
    "plt.show()"
   ]
  },
  {
   "cell_type": "markdown",
   "metadata": {},
   "source": [
    "**Вывод** С самого начала эксперемента группа В лидирует в конверсии, но достигнув отметки 20% стала немного сбавлять темп и зафиксировалась в отметке примерно 12-13% относительно группы А."
   ]
  },
  {
   "cell_type": "markdown",
   "metadata": {},
   "source": [
    "### Точечный график количества заказов по пользователям<a id=\"a_b_test_6\"></a>"
   ]
  },
  {
   "cell_type": "markdown",
   "metadata": {},
   "source": [
    "Подсчитаем число заказов по пользователям — создим датафрейм c двумя столбцами: 'userId' и 'orders'. Назовиём его ordersByUsers"
   ]
  },
  {
   "cell_type": "code",
   "execution_count": 27,
   "metadata": {},
   "outputs": [
    {
     "data": {
      "text/html": [
       "<div>\n",
       "<style scoped>\n",
       "    .dataframe tbody tr th:only-of-type {\n",
       "        vertical-align: middle;\n",
       "    }\n",
       "\n",
       "    .dataframe tbody tr th {\n",
       "        vertical-align: top;\n",
       "    }\n",
       "\n",
       "    .dataframe thead th {\n",
       "        text-align: right;\n",
       "    }\n",
       "</style>\n",
       "<table border=\"1\" class=\"dataframe\">\n",
       "  <thead>\n",
       "    <tr style=\"text-align: right;\">\n",
       "      <th></th>\n",
       "      <th>userId</th>\n",
       "      <th>orders</th>\n",
       "    </tr>\n",
       "  </thead>\n",
       "  <tbody>\n",
       "    <tr>\n",
       "      <th>0</th>\n",
       "      <td>5114589</td>\n",
       "      <td>1</td>\n",
       "    </tr>\n",
       "    <tr>\n",
       "      <th>656</th>\n",
       "      <td>2705308997</td>\n",
       "      <td>1</td>\n",
       "    </tr>\n",
       "    <tr>\n",
       "      <th>658</th>\n",
       "      <td>2710193528</td>\n",
       "      <td>1</td>\n",
       "    </tr>\n",
       "    <tr>\n",
       "      <th>659</th>\n",
       "      <td>2710478747</td>\n",
       "      <td>1</td>\n",
       "    </tr>\n",
       "    <tr>\n",
       "      <th>660</th>\n",
       "      <td>2710492161</td>\n",
       "      <td>1</td>\n",
       "    </tr>\n",
       "    <tr>\n",
       "      <th>...</th>\n",
       "      <td>...</td>\n",
       "      <td>...</td>\n",
       "    </tr>\n",
       "    <tr>\n",
       "      <th>897</th>\n",
       "      <td>3717692402</td>\n",
       "      <td>5</td>\n",
       "    </tr>\n",
       "    <tr>\n",
       "      <th>487</th>\n",
       "      <td>2038680547</td>\n",
       "      <td>8</td>\n",
       "    </tr>\n",
       "    <tr>\n",
       "      <th>569</th>\n",
       "      <td>2378935119</td>\n",
       "      <td>9</td>\n",
       "    </tr>\n",
       "    <tr>\n",
       "      <th>1023</th>\n",
       "      <td>4256040402</td>\n",
       "      <td>11</td>\n",
       "    </tr>\n",
       "    <tr>\n",
       "      <th>591</th>\n",
       "      <td>2458001652</td>\n",
       "      <td>11</td>\n",
       "    </tr>\n",
       "  </tbody>\n",
       "</table>\n",
       "<p>1031 rows × 2 columns</p>\n",
       "</div>"
      ],
      "text/plain": [
       "          userId  orders\n",
       "0        5114589       1\n",
       "656   2705308997       1\n",
       "658   2710193528       1\n",
       "659   2710478747       1\n",
       "660   2710492161       1\n",
       "...          ...     ...\n",
       "897   3717692402       5\n",
       "487   2038680547       8\n",
       "569   2378935119       9\n",
       "1023  4256040402      11\n",
       "591   2458001652      11\n",
       "\n",
       "[1031 rows x 2 columns]"
      ]
     },
     "execution_count": 27,
     "metadata": {},
     "output_type": "execute_result"
    }
   ],
   "source": [
    "ordersByUsers  = orders.drop(['group', 'revenue', 'date'], \n",
    "                             axis=1).groupby('visitorId', as_index=False).agg({'transactionId': 'nunique'})\n",
    "ordersByUsers.columns = ['userId', 'orders']\n",
    "ordersByUsers.sort_values('orders')"
   ]
  },
  {
   "cell_type": "markdown",
   "metadata": {},
   "source": [
    "Построим гистограмму распледеления"
   ]
  },
  {
   "cell_type": "code",
   "execution_count": 28,
   "metadata": {},
   "outputs": [
    {
     "data": {
      "image/png": "[encoded data removed]",
      "text/plain": [
       "<Figure size 432x288 with 1 Axes>"
      ]
     },
     "metadata": {
      "needs_background": "light"
     },
     "output_type": "display_data"
    }
   ],
   "source": [
    "plt.hist(ordersByUsers['orders'])\n",
    "plt.grid()\n",
    "plt.title('Распределение заказов по пользователям')\n",
    "plt.xlabel('Число заказов, ед.')\n",
    "plt.ylabel('Число пользователей, чел.')\n",
    "plt.show()"
   ]
  },
  {
   "cell_type": "markdown",
   "metadata": {},
   "source": [
    "Большинство пользователей совершило всего 1 заказ.Но, сколько пользователей сделало заказы 2, 3 и более раз не ясно. Постоим точечный график\n"
   ]
  },
  {
   "cell_type": "code",
   "execution_count": 29,
   "metadata": {},
   "outputs": [
    {
     "data": {
      "image/png": "[encoded data removed]",
      "text/plain": [
       "<Figure size 432x288 with 1 Axes>"
      ]
     },
     "metadata": {
      "needs_background": "light"
     },
     "output_type": "display_data"
    }
   ],
   "source": [
    "x_values = pd.Series(range(0, len(ordersByUsers)))\n",
    "plt.scatter(x_values, ordersByUsers['orders'])\n",
    "plt.xlabel('Число заказов, ед.')\n",
    "plt.ylabel('Число пользователей, чел.')\n",
    "plt.show()"
   ]
  },
  {
   "cell_type": "markdown",
   "metadata": {},
   "source": [
    "**Вывод** Пользователей, сделавших более 2-х заказов совсем мало - они вполне могут быть аномальными.\n"
   ]
  },
  {
   "cell_type": "markdown",
   "metadata": {},
   "source": [
    "### 95-й и 99-й перцентили количества заказов на пользователя<a id=\"a_b_test_7\"></a>"
   ]
  },
  {
   "cell_type": "code",
   "execution_count": 30,
   "metadata": {},
   "outputs": [
    {
     "data": {
      "text/plain": [
       "array([2., 4.])"
      ]
     },
     "execution_count": 30,
     "metadata": {},
     "output_type": "execute_result"
    }
   ],
   "source": [
    "np.percentile(ordersByUsers['orders'], [95, 99])"
   ]
  },
  {
   "cell_type": "markdown",
   "metadata": {},
   "source": [
    "**Вывод** Не более 5% пользователей совершали более 2 заказов, и не более 1% - больше 4 заказов."
   ]
  },
  {
   "cell_type": "markdown",
   "metadata": {},
   "source": [
    "### Точечный график стоимостей заказов<a id=\"a_b_test_8\"></a>"
   ]
  },
  {
   "cell_type": "markdown",
   "metadata": {},
   "source": [
    "Построим гистограмму распределения выручки от заказов\n"
   ]
  },
  {
   "cell_type": "code",
   "execution_count": 31,
   "metadata": {},
   "outputs": [
    {
     "data": {
      "image/png": "[encoded data removed]",
      "text/plain": [
       "<Figure size 432x288 with 1 Axes>"
      ]
     },
     "metadata": {
      "needs_background": "light"
     },
     "output_type": "display_data"
    }
   ],
   "source": [
    "plt.hist(orders['revenue'])\n",
    "plt.grid()\n",
    "plt.title('Распределение стоимости заказов')\n",
    "plt.xlabel('Стоимость, руб.')\n",
    "plt.ylabel('Число заказов, ед.')\n",
    "plt.show()"
   ]
  },
  {
   "cell_type": "markdown",
   "metadata": {},
   "source": [
    "Сумма большинства заказов менее 20 000 рублей"
   ]
  },
  {
   "cell_type": "code",
   "execution_count": 32,
   "metadata": {},
   "outputs": [
    {
     "data": {
      "image/png": "[encoded data removed]",
      "text/plain": [
       "<Figure size 432x288 with 1 Axes>"
      ]
     },
     "metadata": {
      "needs_background": "light"
     },
     "output_type": "display_data"
    }
   ],
   "source": [
    "x_values = pd.Series(range(0, len(orders['revenue'])))\n",
    "plt.scatter(x_values, orders['revenue'])\n",
    "plt.xlabel('Число заказов, ед.')\n",
    "plt.ylabel('Стоимость, руб.')\n",
    "plt.show()"
   ]
  },
  {
   "cell_type": "markdown",
   "metadata": {},
   "source": [
    "Один выброс смазывает всю картину, исключим это наблюдение и постром диаграмму рассеивания с без него"
   ]
  },
  {
   "cell_type": "code",
   "execution_count": 33,
   "metadata": {},
   "outputs": [
    {
     "data": {
      "image/png": "[encoded data removed]",
      "text/plain": [
       "<Figure size 432x288 with 1 Axes>"
      ]
     },
     "metadata": {
      "needs_background": "light"
     },
     "output_type": "display_data"
    }
   ],
   "source": [
    "# Удалим заказы с суммлой больше 20000 \n",
    "orders_clean = orders.query('revenue <= 20000')\n",
    "x_values = pd.Series(range(0, len(orders_clean['revenue'])))\n",
    "plt.scatter(x_values, orders_clean['revenue'])\n",
    "plt.xlabel('Число заказов, ед.')\n",
    "plt.ylabel('Стоимость, руб.')\n",
    "plt.show()"
   ]
  },
  {
   "cell_type": "markdown",
   "metadata": {},
   "source": [
    "**Вывод** Большинство заказов в пределах 2500 рублей."
   ]
  },
  {
   "cell_type": "markdown",
   "metadata": {},
   "source": [
    "### 95-й и 99-й перцентили стоимости заказов<a id=\"a_b_test_9\"></a>"
   ]
  },
  {
   "cell_type": "code",
   "execution_count": 34,
   "metadata": {},
   "outputs": [
    {
     "data": {
      "text/plain": [
       "array([28000. , 58233.2])"
      ]
     },
     "execution_count": 34,
     "metadata": {},
     "output_type": "execute_result"
    }
   ],
   "source": [
    "np.percentile(orders['revenue'], [95, 99])"
   ]
  },
  {
   "cell_type": "markdown",
   "metadata": {},
   "source": [
    "**Вывод** Не более, чем у 5% заказов чек дороже 28 000 рублей. И не больше, чем у 1% - дороже 58233 рубля"
   ]
  },
  {
   "cell_type": "markdown",
   "metadata": {},
   "source": [
    "### Расчёт статистической значимости различий в конверсии между группами по «сырым» данным<a id=\"a_b_test_10\"></a>"
   ]
  },
  {
   "cell_type": "markdown",
   "metadata": {},
   "source": [
    "Определим нулевую (Н0) и альтернативную гипотезу (Н1):   \n",
    "* Н0 - Конверсия группы  В равна конверсии группы А;   \n",
    "* Н1 - Конверсия группы  В НЕ равна конверсии группы А.  \n",
    "\n",
    "Зачение альфа - 5%.  \n",
    "\n",
    "Посчитаем статистическую значимость различий в конверсии и среднем чеке между группами по «сырым» данным — без удаления аномальных пользователей. Создадим датафрейм data, со следующими колонками:      \n",
    "* date — дата;   \n",
    "* ordersPerDateA — количество заказов в выбранную дату в группе A;   \n",
    "* revenuePerDateA — суммарная выручка в выбранную дату в группе A;   \n",
    "* ordersPerDateB — количество заказов в выбранную дату в группе B;   \n",
    "* revenuePerDateB — суммарная выручка в выбранную дату в группе B;   \n",
    "* ordersCummulativeA — суммарное число заказов до выбранной даты включительно в группе A;   \n",
    "* revenueCummulativeA — суммарная выручка до выбранной даты включительно в группе A;   \n",
    "* ordersCummulativeB — суммарное количество заказов до выбранной даты включительно в группе B;   \n",
    "* revenueCummulativeB — суммарная выручка до выбранной даты включительно в группе B;  \n",
    "* visitorsPerDateA — количество пользователей в выбранную дату в группе A;  \n",
    "* visitorsPerDateB — количество пользователей в выбранную дату в группе B;  \n",
    "* visitorsCummulativeA — количество пользователей до выбранной даты включительно в группе A;  \n",
    "* visitorsCummulativeB — количество пользователей до выбранной даты включительно в группе B."
   ]
  },
  {
   "cell_type": "code",
   "execution_count": 35,
   "metadata": {},
   "outputs": [
    {
     "data": {
      "text/html": [
       "<div>\n",
       "<style scoped>\n",
       "    .dataframe tbody tr th:only-of-type {\n",
       "        vertical-align: middle;\n",
       "    }\n",
       "\n",
       "    .dataframe tbody tr th {\n",
       "        vertical-align: top;\n",
       "    }\n",
       "\n",
       "    .dataframe thead th {\n",
       "        text-align: right;\n",
       "    }\n",
       "</style>\n",
       "<table border=\"1\" class=\"dataframe\">\n",
       "  <thead>\n",
       "    <tr style=\"text-align: right;\">\n",
       "      <th></th>\n",
       "      <th>date</th>\n",
       "      <th>ordersPerDateA</th>\n",
       "      <th>revenuePerDateA</th>\n",
       "      <th>ordersPerDateB</th>\n",
       "      <th>revenuePerDateB</th>\n",
       "      <th>ordersCummulativeA</th>\n",
       "      <th>revenueCummulativeA</th>\n",
       "      <th>ordersCummulativeB</th>\n",
       "      <th>revenueCummulativeB</th>\n",
       "      <th>visitorsPerDateA</th>\n",
       "      <th>visitorsPerDateB</th>\n",
       "      <th>visitorsCummulativeA</th>\n",
       "      <th>visitorsCummulativeB</th>\n",
       "    </tr>\n",
       "  </thead>\n",
       "  <tbody>\n",
       "    <tr>\n",
       "      <th>0</th>\n",
       "      <td>2019-08-01</td>\n",
       "      <td>24</td>\n",
       "      <td>148579</td>\n",
       "      <td>21</td>\n",
       "      <td>101217</td>\n",
       "      <td>24</td>\n",
       "      <td>148579</td>\n",
       "      <td>21</td>\n",
       "      <td>101217</td>\n",
       "      <td>719</td>\n",
       "      <td>713</td>\n",
       "      <td>719</td>\n",
       "      <td>713</td>\n",
       "    </tr>\n",
       "    <tr>\n",
       "      <th>1</th>\n",
       "      <td>2019-08-02</td>\n",
       "      <td>20</td>\n",
       "      <td>93822</td>\n",
       "      <td>24</td>\n",
       "      <td>165531</td>\n",
       "      <td>44</td>\n",
       "      <td>242401</td>\n",
       "      <td>45</td>\n",
       "      <td>266748</td>\n",
       "      <td>619</td>\n",
       "      <td>581</td>\n",
       "      <td>1338</td>\n",
       "      <td>1294</td>\n",
       "    </tr>\n",
       "    <tr>\n",
       "      <th>2</th>\n",
       "      <td>2019-08-03</td>\n",
       "      <td>24</td>\n",
       "      <td>112473</td>\n",
       "      <td>16</td>\n",
       "      <td>114248</td>\n",
       "      <td>68</td>\n",
       "      <td>354874</td>\n",
       "      <td>61</td>\n",
       "      <td>380996</td>\n",
       "      <td>507</td>\n",
       "      <td>509</td>\n",
       "      <td>1845</td>\n",
       "      <td>1803</td>\n",
       "    </tr>\n",
       "    <tr>\n",
       "      <th>3</th>\n",
       "      <td>2019-08-04</td>\n",
       "      <td>16</td>\n",
       "      <td>70825</td>\n",
       "      <td>17</td>\n",
       "      <td>108571</td>\n",
       "      <td>84</td>\n",
       "      <td>425699</td>\n",
       "      <td>78</td>\n",
       "      <td>489567</td>\n",
       "      <td>717</td>\n",
       "      <td>770</td>\n",
       "      <td>2562</td>\n",
       "      <td>2573</td>\n",
       "    </tr>\n",
       "    <tr>\n",
       "      <th>4</th>\n",
       "      <td>2019-08-05</td>\n",
       "      <td>25</td>\n",
       "      <td>124218</td>\n",
       "      <td>23</td>\n",
       "      <td>92428</td>\n",
       "      <td>109</td>\n",
       "      <td>549917</td>\n",
       "      <td>101</td>\n",
       "      <td>581995</td>\n",
       "      <td>756</td>\n",
       "      <td>707</td>\n",
       "      <td>3318</td>\n",
       "      <td>3280</td>\n",
       "    </tr>\n",
       "  </tbody>\n",
       "</table>\n",
       "</div>"
      ],
      "text/plain": [
       "        date  ordersPerDateA  revenuePerDateA  ordersPerDateB  \\\n",
       "0 2019-08-01              24           148579              21   \n",
       "1 2019-08-02              20            93822              24   \n",
       "2 2019-08-03              24           112473              16   \n",
       "3 2019-08-04              16            70825              17   \n",
       "4 2019-08-05              25           124218              23   \n",
       "\n",
       "   revenuePerDateB  ordersCummulativeA  revenueCummulativeA  \\\n",
       "0           101217                  24               148579   \n",
       "1           165531                  44               242401   \n",
       "2           114248                  68               354874   \n",
       "3           108571                  84               425699   \n",
       "4            92428                 109               549917   \n",
       "\n",
       "   ordersCummulativeB  revenueCummulativeB  visitorsPerDateA  \\\n",
       "0                  21               101217               719   \n",
       "1                  45               266748               619   \n",
       "2                  61               380996               507   \n",
       "3                  78               489567               717   \n",
       "4                 101               581995               756   \n",
       "\n",
       "   visitorsPerDateB  visitorsCummulativeA  visitorsCummulativeB  \n",
       "0               713                   719                   713  \n",
       "1               581                  1338                  1294  \n",
       "2               509                  1845                  1803  \n",
       "3               770                  2562                  2573  \n",
       "4               707                  3318                  3280  "
      ]
     },
     "metadata": {},
     "output_type": "display_data"
    }
   ],
   "source": [
    "visitorsADaily = visitors[visitors['group'] == 'A'][['date', 'visitors']]\n",
    "visitorsADaily.columns = ['date', 'visitorsPerDateA']\n",
    "\n",
    "visitorsACummulative = visitorsADaily.apply(\n",
    "    lambda x: visitorsADaily[visitorsADaily['date'] <= x['date']].agg(\n",
    "        {'date': 'max', 'visitorsPerDateA': 'sum'}\n",
    "    ),\n",
    "    axis=1,\n",
    ")\n",
    "visitorsACummulative.columns = ['date', 'visitorsCummulativeA']\n",
    "\n",
    "visitorsBDaily = visitors[visitors['group'] == 'B'][['date', 'visitors']]\n",
    "visitorsBDaily.columns = ['date', 'visitorsPerDateB']\n",
    "\n",
    "visitorsBCummulative = visitorsBDaily.apply(\n",
    "    lambda x: visitorsBDaily[visitorsBDaily['date'] <= x['date']].agg(\n",
    "        {'date': 'max', 'visitorsPerDateB': 'sum'}\n",
    "    ),\n",
    "    axis=1,\n",
    ")\n",
    "visitorsBCummulative.columns = ['date', 'visitorsCummulativeB']\n",
    "\n",
    "ordersADaily = (\n",
    "    orders[orders['group'] == 'A'][['date', 'transactionId', 'visitorId', 'revenue']]\n",
    "    .groupby('date', as_index=False)\n",
    "    .agg({'transactionId': pd.Series.nunique, 'revenue': 'sum'})\n",
    ")\n",
    "ordersADaily.columns = ['date', 'ordersPerDateA', 'revenuePerDateA']\n",
    "\n",
    "ordersACummulative = ordersADaily.apply(\n",
    "    lambda x: ordersADaily[ordersADaily['date'] <= x['date']].agg(\n",
    "        {'date': 'max', 'ordersPerDateA': 'sum', 'revenuePerDateA': 'sum'}\n",
    "    ),\n",
    "    axis=1,\n",
    ").sort_values(by=['date'])\n",
    "ordersACummulative.columns = [\n",
    "    'date',\n",
    "    'ordersCummulativeA',\n",
    "    'revenueCummulativeA',\n",
    "]\n",
    "\n",
    "ordersBDaily = (\n",
    "    orders[orders['group'] == 'B'][['date', 'transactionId', 'visitorId', 'revenue']]\n",
    "    .groupby('date', as_index=False)\n",
    "    .agg({'transactionId': pd.Series.nunique, 'revenue': 'sum'})\n",
    ")\n",
    "\n",
    "ordersBDaily.columns = ['date', 'ordersPerDateB', 'revenuePerDateB']\n",
    "\n",
    "ordersBCummulative = ordersBDaily.apply(\n",
    "    lambda x: ordersBDaily[ordersBDaily['date'] <= x['date']].agg(\n",
    "        {'date': 'max', 'ordersPerDateB': 'sum', 'revenuePerDateB': 'sum'}\n",
    "    ),\n",
    "    axis=1,\n",
    ").sort_values(by=['date'])\n",
    "ordersBCummulative.columns = [\n",
    "    'date',\n",
    "    'ordersCummulativeB',\n",
    "    'revenueCummulativeB',\n",
    "]\n",
    "\n",
    "data = (\n",
    "    ordersADaily.merge(\n",
    "        ordersBDaily, left_on='date', right_on='date', how='left'\n",
    "    )\n",
    "    .merge(ordersACummulative, left_on='date', right_on='date', how='left')\n",
    "    .merge(ordersBCummulative, left_on='date', right_on='date', how='left')\n",
    "    .merge(visitorsADaily, left_on='date', right_on='date', how='left')\n",
    "    .merge(visitorsBDaily, left_on='date', right_on='date', how='left')\n",
    "    .merge(visitorsACummulative, left_on='date', right_on='date', how='left')\n",
    "    .merge(visitorsBCummulative, left_on='date', right_on='date', how='left')\n",
    ")\n",
    "display(data.head())"
   ]
  },
  {
   "cell_type": "code",
   "execution_count": 36,
   "metadata": {},
   "outputs": [],
   "source": [
    "ordersByUsersA = (\n",
    "    orders[orders['group'] == 'A']\n",
    "    .groupby('visitorId', as_index=False)\n",
    "    .agg({'transactionId': pd.Series.nunique})\n",
    ")\n",
    "ordersByUsersA.columns = ['userId', 'orders']\n",
    "\n",
    "ordersByUsersB = (\n",
    "    orders[orders['group'] == 'B']\n",
    "    .groupby('visitorId', as_index=False)\n",
    "    .agg({'transactionId': pd.Series.nunique})\n",
    ")\n",
    "ordersByUsersB.columns = ['userId', 'orders'] "
   ]
  },
  {
   "cell_type": "code",
   "execution_count": 37,
   "metadata": {},
   "outputs": [],
   "source": [
    "pd.Series(0, index=np.arange(data['visitorsPerDateA'].sum() - len(ordersByUsersA['orders'])), name='orders')\n",
    "sampleA = pd.concat([ordersByUsersA['orders'],pd.Series(0, index=np.arange(data['visitorsPerDateA'].sum() - len(ordersByUsersA['orders'])), name='orders')],axis=0)\n",
    "sampleB = pd.concat([ordersByUsersB['orders'],pd.Series(0, index=np.arange(data['visitorsPerDateB'].sum() - len(ordersByUsersB['orders'])), name='orders')],axis=0) "
   ]
  },
  {
   "cell_type": "code",
   "execution_count": 38,
   "metadata": {},
   "outputs": [],
   "source": [
    "sampleA = pd.concat(\n",
    "    [\n",
    "        ordersByUsersA['orders'],\n",
    "        pd.Series(\n",
    "            0,\n",
    "            index=np.arange(\n",
    "                data['visitorsPerDateA'].sum() - len(ordersByUsersA['orders'])\n",
    "            ),\n",
    "            name='orders',\n",
    "        ),\n",
    "    ],\n",
    "    axis=0,\n",
    ")\n",
    "\n",
    "sampleB = pd.concat(\n",
    "    [\n",
    "        ordersByUsersB['orders'],\n",
    "        pd.Series(\n",
    "            0,\n",
    "            index=np.arange(\n",
    "                data['visitorsPerDateB'].sum() - len(ordersByUsersB['orders'])\n",
    "            ),\n",
    "            name='orders',\n",
    "        ),\n",
    "    ],\n",
    "    axis=0,\n",
    ")"
   ]
  },
  {
   "cell_type": "code",
   "execution_count": 39,
   "metadata": {},
   "outputs": [
    {
     "name": "stdout",
     "output_type": "stream",
     "text": [
      "P-value: 0.00840\n",
      "Прирост конверсии группы В к конверсии группы А: 0.138\n"
     ]
    }
   ],
   "source": [
    "print('P-value:','{0:.5f}'.format(stats.mannwhitneyu(sampleA, sampleB)[1]))\n",
    "\n",
    "print('Прирост конверсии группы В к конверсии группы А:','{0:.3f}'.format(sampleB.mean() / sampleA.mean() - 1))"
   ]
  },
  {
   "cell_type": "markdown",
   "metadata": {},
   "source": [
    "**Вывод** P-value значиительно меньше 0.05, поэтому нулевую гипотезу отвергаем.   \n",
    "Анализ \"сырых\" данных сообщает, что в конверсии между группами есть статистически значимые различия. Отдельный прирост конверсии группы В к конверсии группы А равен 13.8% - статистически значимые различий в группах имеются."
   ]
  },
  {
   "cell_type": "markdown",
   "metadata": {},
   "source": [
    "### Расчёт статистической значимости различий в среднем чеке заказа между группами по «сырым» данным<a id=\"a_b_test_11\"></a>"
   ]
  },
  {
   "cell_type": "markdown",
   "metadata": {},
   "source": [
    "Определим нулевую (Н0) и альтернативную гипотезу (Н1):   \n",
    "* H0 - Средний чек группы A равен среднему чеку группы B;   \n",
    "* H1 - Средний чек группы A НЕ равен среднему чеку группы B;   \n",
    "\n",
    "Значение альфа - 5%.   \n",
    "Посчитаем статистическую значимость различия средних чеков между группами.   "
   ]
  },
  {
   "cell_type": "code",
   "execution_count": 40,
   "metadata": {},
   "outputs": [
    {
     "name": "stdout",
     "output_type": "stream",
     "text": [
      "P-value: 0.365\n",
      "Относительная разница среднего чека между сегментами: 0.259\n"
     ]
    }
   ],
   "source": [
    "print('P-value:','{0:.3f}'.format(stats.mannwhitneyu(orders[orders['group']=='A']['revenue'], orders[orders['group']=='B']['revenue'])[1]))\n",
    "print('Относительная разница среднего чека между сегментами:','{0:.3f}'.format(orders[orders['group']=='B']['revenue'].mean()/orders[orders['group']=='A']['revenue'].mean()-1)) "
   ]
  },
  {
   "cell_type": "markdown",
   "metadata": {},
   "source": [
    "**Вывод** P-value больше 0.05 - статистически значимых отличий в среднем чеке между группами нету. Принимаем гипотезу.   \n",
    "Разница среднего чека между сегментами высока - 25.9%. Скорее всего влитяние оказывают аномальные значений."
   ]
  },
  {
   "cell_type": "markdown",
   "metadata": {},
   "source": [
    "###  Расчёт статистической значимости различий в конверсии между группами по «очищенным» данным<a id=\"a_b_test_12\"></a>"
   ]
  },
  {
   "cell_type": "markdown",
   "metadata": {},
   "source": [
    "95 и 99 перцентили средних чеков равны 28000 и 58233 рублям.95% пользователей сделаи не более 2 заказов.   \n",
    "Примем за аномальных пользователей тех, кто совершил более 2 заказа и более или совершил заказ на сумму свыше 28 000 рублей.   \n",
    "Определить аномальные заказы и пользователей, совершивших их, и добавим их в список аномальных."
   ]
  },
  {
   "cell_type": "code",
   "execution_count": 41,
   "metadata": {},
   "outputs": [],
   "source": [
    "usersWithManyOrders = pd.concat(\n",
    "    [\n",
    "        ordersByUsersA[ordersByUsersA['orders'] > 2]['userId'],\n",
    "        ordersByUsersB[ordersByUsersB['orders'] > 2]['userId'],\n",
    "    ],\n",
    "    axis=0,\n",
    ")\n",
    "usersWithExpensiveOrders = orders[orders['revenue'] > 28000]['visitorId']"
   ]
  },
  {
   "cell_type": "code",
   "execution_count": 42,
   "metadata": {},
   "outputs": [
    {
     "name": "stdout",
     "output_type": "stream",
     "text": [
      "1099    148427295\n",
      "18      199603092\n",
      "928     204675465\n",
      "23      237748145\n",
      "37      249864742\n",
      "dtype: int64\n"
     ]
    }
   ],
   "source": [
    "abnormalUsers = (\n",
    "    pd.concat([usersWithManyOrders, usersWithExpensiveOrders], axis=0)\n",
    "    .drop_duplicates()\n",
    "    .sort_values()\n",
    ")\n",
    "print(abnormalUsers.head())"
   ]
  },
  {
   "cell_type": "code",
   "execution_count": 43,
   "metadata": {},
   "outputs": [
    {
     "name": "stdout",
     "output_type": "stream",
     "text": [
      "Число пользователей с аномальными значениями -  (74,)\n"
     ]
    }
   ],
   "source": [
    "#Посчитаем число аномальных пользователей\n",
    "print('Число пользователей с аномальными значениями - ', abnormalUsers.shape)"
   ]
  },
  {
   "cell_type": "markdown",
   "metadata": {},
   "source": [
    "**Вывод** После удаления аномальных пользователей посчитаем статистическую значимость и узнаем если ли разница до/после очищения от аномальний"
   ]
  },
  {
   "cell_type": "markdown",
   "metadata": {},
   "source": [
    "Определим нулевую (Н0) и альтернативную гипотезу (Н1):   \n",
    "* Н0 - Конверсия группы  В равна конверсии группы А;   \n",
    "* Н1 - Конверсия группы  В НЕ равна конверсии группы А.   \n",
    "\n",
    "Зачение альфа - 5%.  \n",
    "Выясним, есть ли существенные различия конверсии между группами с очищенными данными\n"
   ]
  },
  {
   "cell_type": "code",
   "execution_count": 44,
   "metadata": {},
   "outputs": [],
   "source": [
    "sampleAFiltered = pd.concat(\n",
    "    [\n",
    "        ordersByUsersA[\n",
    "            np.logical_not(ordersByUsersA['userId'].isin(abnormalUsers))\n",
    "        ]['orders'],\n",
    "        pd.Series(\n",
    "            0,\n",
    "            index=np.arange(\n",
    "                data['visitorsPerDateA'].sum() - len(ordersByUsersA['orders'])\n",
    "            ),\n",
    "            name='orders',\n",
    "        ),\n",
    "    ],\n",
    "    axis=0,\n",
    ")\n",
    "\n",
    "sampleBFiltered = pd.concat(\n",
    "    [\n",
    "        ordersByUsersB[\n",
    "            np.logical_not(ordersByUsersB['userId'].isin(abnormalUsers))\n",
    "        ]['orders'],\n",
    "        pd.Series(\n",
    "            0,\n",
    "            index=np.arange(\n",
    "                data['visitorsPerDateB'].sum() - len(ordersByUsersB['orders'])\n",
    "            ),\n",
    "            name='orders',\n",
    "        ),\n",
    "    ],\n",
    "    axis=0,\n",
    ")"
   ]
  },
  {
   "cell_type": "code",
   "execution_count": 45,
   "metadata": {},
   "outputs": [
    {
     "name": "stdout",
     "output_type": "stream",
     "text": [
      "По очищенным данным\n",
      "P-value: 0.00652\n",
      "Прирост конверсии группы В к конверсии группы А: 0.173\n"
     ]
    }
   ],
   "source": [
    "print('По очищенным данным')\n",
    "print('P-value:','{0:.5f}'.format(stats.mannwhitneyu(sampleAFiltered, sampleBFiltered)[1]))\n",
    "print('Прирост конверсии группы В к конверсии группы А:','{0:.3f}'.format(sampleBFiltered.mean()/sampleAFiltered.mean()-1)) "
   ]
  },
  {
   "cell_type": "markdown",
   "metadata": {},
   "source": [
    "**Вывод** Как и в случае с сырыми данными, статистическая значимость достигнута. Сегмент В значительно лучше сегмента А. Отвергаем H0.    \n",
    "После очистки данных значение p-value снизилось с 0.729 для \"сырых\" данных до 0.01304 для очищенных, а прирост конверии упал с 25.9% до 17.3% (на 8.6 процентных пункта)"
   ]
  },
  {
   "cell_type": "markdown",
   "metadata": {},
   "source": [
    "### Расчёт статистической значимости различий в среднем чеке заказа между группами по «очищенным» данным<a id=\"a_b_test_13\"></a>"
   ]
  },
  {
   "cell_type": "markdown",
   "metadata": {},
   "source": [
    "Определим нулевую (Н0) и альтернативную гипотезу (Н1):   \n",
    "* H0 - Средний чек группы A равен среднему чеку группы B;   \n",
    "* H1 - Средний чек группы A НЕ равен среднему чеку группы B;   \n",
    "\n",
    "Значение альфа - 5%.     \n",
    "Выясним, есть ли существенные различия средних чеков межу группами с очищенными данными."
   ]
  },
  {
   "cell_type": "code",
   "execution_count": 46,
   "metadata": {},
   "outputs": [
    {
     "name": "stdout",
     "output_type": "stream",
     "text": [
      "По очищенным данным\n",
      "P-value: 0.738\n",
      "Относительная разница среднего чека между сегментами: -0.020\n"
     ]
    }
   ],
   "source": [
    "print('По очищенным данным')\n",
    "print('P-value:',\n",
    "    '{0:.3f}'.format(\n",
    "        stats.mannwhitneyu(\n",
    "            orders[\n",
    "                np.logical_and(\n",
    "                    orders['group'] == 'A',\n",
    "                    np.logical_not(orders['visitorId'].isin(abnormalUsers)),\n",
    "                )\n",
    "            ]['revenue'],\n",
    "            orders[\n",
    "                np.logical_and(\n",
    "                    orders['group'] == 'B',\n",
    "                    np.logical_not(orders['visitorId'].isin(abnormalUsers)),\n",
    "                )\n",
    "            ]['revenue'], \n",
    "            True, # что бы задать 4ый параметр \n",
    "            'two-sided' # для двух-стороннего теста\n",
    "        )[1]\n",
    "    )\n",
    ")\n",
    "\n",
    "print('Относительная разница среднего чека между сегментами:',\n",
    "    '{0:.3f}'.format(\n",
    "        orders[\n",
    "            np.logical_and(\n",
    "                orders['group'] == 'B',\n",
    "                np.logical_not(orders['visitorId'].isin(abnormalUsers)),\n",
    "            )\n",
    "        ]['revenue'].mean()\n",
    "        / orders[\n",
    "            np.logical_and(\n",
    "                orders['group'] == 'A',\n",
    "                np.logical_not(orders['visitorId'].isin(abnormalUsers)),\n",
    "            )\n",
    "        ]['revenue'].mean()\n",
    "        - 1\n",
    "    )\n",
    ")"
   ]
  },
  {
   "cell_type": "markdown",
   "metadata": {},
   "source": [
    "**Вывод** После очистки данных от аномалий p-value по среднему чеку не изменился - статистически значимых отличий между группами **нет**. Относительное различие группы В относительно группы А, после очистки данных составляет 2% в пользу группы А. Отвергаем Н0."
   ]
  },
  {
   "cell_type": "markdown",
   "metadata": {},
   "source": [
    "### Решение по результатам теста<a id=\"a_b_test_summary\"></a>"
   ]
  },
  {
   "cell_type": "markdown",
   "metadata": {},
   "source": [
    "**Во-первых**, статистически значимое различие по конверсии между группами **есть**, как по 'сырым' данным, так и после фильтрации аномалий.   \n",
    "**Во-вторых**, статистически значимого различия по среднему чеку между группами **нет**, как по 'сырым' данным, так и после фильтрации аномалий.   \n",
    "**В-третьих**, конверсия группы B лучше группы A: она имеют тенденцию к росту, и на 12-13% выше чем у группы А.    \n",
    "**В-четвёртых**, после очистки данных от аномалий - конверсия гоуппы В осталась стаитстически значимой (17%). Но,  существенной разницы в размере среднего чека нет  - пользователи начали  покупать чаще, на на меньшие суммы.   \n",
    "\n",
    "**Вывод** Тест следует остановить, зафиксировав победу группы В."
   ]
  },
  {
   "cell_type": "markdown",
   "metadata": {},
   "source": [
    "---"
   ]
  },
  {
   "cell_type": "markdown",
   "metadata": {},
   "source": [
    "## Заключение<a id=\"summary\"></a>"
   ]
  },
  {
   "cell_type": "markdown",
   "metadata": {},
   "source": [
    "В рамках выполения проекта были сделаны:   \n",
    "1. исследовательский анализ и предобработка данных;   \n",
    "1. приоретизация гипотез - приоритет стот отдать гипотезам:   \n",
    "* добавить форму подписки на все основные страницы, чтобы собрать базу клиентов для email-рассылок (гипотеза 7) и   \n",
    "* добавить два новых канала привлечения трафика, что позволит привлекать на 30% больше пользователей (гипотеза 0)  \n",
    "3. анализ А/В-теста - принято решение рекомендовать завершить тест, зафиксиоровав победу группы В."
   ]
  }
 ],
 "metadata": {
  "ExecuteTimeLog": [
   {
    "duration": 1223,
    "start_time": "2022-05-24T06:19:24.312Z"
   },
   {
    "duration": 5,
    "start_time": "2022-05-24T06:26:01.396Z"
   },
   {
    "duration": 245,
    "start_time": "2022-05-24T06:26:21.364Z"
   },
   {
    "duration": 11,
    "start_time": "2022-05-24T06:26:56.492Z"
   },
   {
    "duration": 25,
    "start_time": "2022-05-24T06:27:10.346Z"
   },
   {
    "duration": 14,
    "start_time": "2022-05-24T06:27:34.836Z"
   },
   {
    "duration": 73,
    "start_time": "2022-05-24T06:30:12.995Z"
   },
   {
    "duration": 15,
    "start_time": "2022-05-24T06:30:15.547Z"
   },
   {
    "duration": 18,
    "start_time": "2022-05-24T06:30:23.763Z"
   },
   {
    "duration": 15,
    "start_time": "2022-05-24T06:30:35.402Z"
   },
   {
    "duration": 72,
    "start_time": "2022-05-24T06:30:59.048Z"
   },
   {
    "duration": 15,
    "start_time": "2022-05-24T06:31:38.795Z"
   },
   {
    "duration": 15,
    "start_time": "2022-05-24T06:32:02.235Z"
   },
   {
    "duration": 14,
    "start_time": "2022-05-24T06:32:11.019Z"
   },
   {
    "duration": 17,
    "start_time": "2022-05-24T06:32:18.410Z"
   },
   {
    "duration": 17,
    "start_time": "2022-05-24T06:32:34.410Z"
   },
   {
    "duration": 15,
    "start_time": "2022-05-24T06:33:00.370Z"
   },
   {
    "duration": 14,
    "start_time": "2022-05-24T06:33:16.666Z"
   },
   {
    "duration": 17,
    "start_time": "2022-05-24T06:33:28.994Z"
   },
   {
    "duration": 13,
    "start_time": "2022-05-24T06:35:09.399Z"
   },
   {
    "duration": 3,
    "start_time": "2022-05-24T06:36:56.624Z"
   },
   {
    "duration": 12,
    "start_time": "2022-05-24T06:37:04.641Z"
   },
   {
    "duration": 3,
    "start_time": "2022-05-24T06:37:15.574Z"
   },
   {
    "duration": 14,
    "start_time": "2022-05-24T06:37:30.849Z"
   },
   {
    "duration": 13,
    "start_time": "2022-05-24T06:41:00.968Z"
   },
   {
    "duration": 6,
    "start_time": "2022-05-24T06:41:30.455Z"
   },
   {
    "duration": 9,
    "start_time": "2022-05-24T06:42:17.200Z"
   },
   {
    "duration": 3,
    "start_time": "2022-05-24T06:43:55.895Z"
   },
   {
    "duration": 9,
    "start_time": "2022-05-24T06:44:50.366Z"
   },
   {
    "duration": 8,
    "start_time": "2022-05-24T06:45:19.727Z"
   },
   {
    "duration": 1190,
    "start_time": "2022-05-24T15:39:08.869Z"
   },
   {
    "duration": 176,
    "start_time": "2022-05-24T15:39:10.061Z"
   },
   {
    "duration": 17,
    "start_time": "2022-05-24T15:39:10.239Z"
   },
   {
    "duration": 2,
    "start_time": "2022-05-24T15:39:10.258Z"
   },
   {
    "duration": 15,
    "start_time": "2022-05-24T15:39:10.262Z"
   },
   {
    "duration": 4,
    "start_time": "2022-05-24T15:39:10.279Z"
   },
   {
    "duration": 13,
    "start_time": "2022-05-24T15:39:10.285Z"
   },
   {
    "duration": 3,
    "start_time": "2022-05-24T15:39:10.299Z"
   },
   {
    "duration": 10,
    "start_time": "2022-05-24T15:39:10.303Z"
   },
   {
    "duration": 9,
    "start_time": "2022-05-24T15:40:09.915Z"
   },
   {
    "duration": 8,
    "start_time": "2022-05-24T15:40:32.743Z"
   },
   {
    "duration": 8,
    "start_time": "2022-05-24T15:41:44.460Z"
   },
   {
    "duration": 10,
    "start_time": "2022-05-24T15:42:31.174Z"
   },
   {
    "duration": 600,
    "start_time": "2022-05-24T15:42:50.821Z"
   },
   {
    "duration": 1105,
    "start_time": "2022-05-24T15:43:13.625Z"
   },
   {
    "duration": 69,
    "start_time": "2022-05-24T15:43:14.732Z"
   },
   {
    "duration": 16,
    "start_time": "2022-05-24T15:43:14.803Z"
   },
   {
    "duration": 16,
    "start_time": "2022-05-24T15:43:14.821Z"
   },
   {
    "duration": 42,
    "start_time": "2022-05-24T15:43:14.838Z"
   },
   {
    "duration": 30,
    "start_time": "2022-05-24T15:43:14.882Z"
   },
   {
    "duration": 56,
    "start_time": "2022-05-24T15:43:14.914Z"
   },
   {
    "duration": 21,
    "start_time": "2022-05-24T15:43:14.972Z"
   },
   {
    "duration": 41,
    "start_time": "2022-05-24T15:43:14.996Z"
   },
   {
    "duration": 53,
    "start_time": "2022-05-24T15:43:15.040Z"
   },
   {
    "duration": 171,
    "start_time": "2022-05-24T15:43:15.095Z"
   },
   {
    "duration": 1110,
    "start_time": "2022-05-24T15:43:59.825Z"
   },
   {
    "duration": 69,
    "start_time": "2022-05-24T15:44:00.937Z"
   },
   {
    "duration": 19,
    "start_time": "2022-05-24T15:44:01.007Z"
   },
   {
    "duration": 3,
    "start_time": "2022-05-24T15:44:01.027Z"
   },
   {
    "duration": 19,
    "start_time": "2022-05-24T15:44:01.032Z"
   },
   {
    "duration": 10,
    "start_time": "2022-05-24T15:44:01.052Z"
   },
   {
    "duration": 17,
    "start_time": "2022-05-24T15:44:01.063Z"
   },
   {
    "duration": 4,
    "start_time": "2022-05-24T15:44:01.081Z"
   },
   {
    "duration": 11,
    "start_time": "2022-05-24T15:44:01.086Z"
   },
   {
    "duration": 12,
    "start_time": "2022-05-24T15:44:01.098Z"
   },
   {
    "duration": 11,
    "start_time": "2022-05-24T15:44:01.112Z"
   },
   {
    "duration": 10,
    "start_time": "2022-05-24T15:47:30.582Z"
   },
   {
    "duration": 10,
    "start_time": "2022-05-24T15:47:32.902Z"
   },
   {
    "duration": 10,
    "start_time": "2022-05-24T15:47:37.482Z"
   },
   {
    "duration": 33,
    "start_time": "2022-05-24T15:48:32.258Z"
   },
   {
    "duration": 5,
    "start_time": "2022-05-24T15:48:45.689Z"
   },
   {
    "duration": 11,
    "start_time": "2022-05-24T15:48:52.001Z"
   },
   {
    "duration": 15,
    "start_time": "2022-05-24T15:49:07.884Z"
   },
   {
    "duration": 11,
    "start_time": "2022-05-24T15:49:27.692Z"
   },
   {
    "duration": 11,
    "start_time": "2022-05-24T15:49:30.973Z"
   },
   {
    "duration": 272,
    "start_time": "2022-05-24T15:49:57.253Z"
   },
   {
    "duration": 12,
    "start_time": "2022-05-24T15:50:14.231Z"
   },
   {
    "duration": 15,
    "start_time": "2022-05-24T15:50:43.503Z"
   },
   {
    "duration": 20,
    "start_time": "2022-05-24T15:51:07.954Z"
   },
   {
    "duration": 16,
    "start_time": "2022-05-24T15:51:26.907Z"
   },
   {
    "duration": 16,
    "start_time": "2022-05-24T15:51:34.194Z"
   },
   {
    "duration": 17,
    "start_time": "2022-05-24T15:52:05.995Z"
   },
   {
    "duration": 19,
    "start_time": "2022-05-24T15:52:47.422Z"
   },
   {
    "duration": 23,
    "start_time": "2022-05-24T15:53:23.769Z"
   },
   {
    "duration": 10,
    "start_time": "2022-05-24T15:53:41.847Z"
   },
   {
    "duration": 11,
    "start_time": "2022-05-24T15:55:47.144Z"
   },
   {
    "duration": 10,
    "start_time": "2022-05-24T15:57:44.729Z"
   },
   {
    "duration": 67,
    "start_time": "2022-05-24T16:04:29.025Z"
   },
   {
    "duration": 1098,
    "start_time": "2022-05-24T16:13:22.642Z"
   },
   {
    "duration": 68,
    "start_time": "2022-05-24T16:13:23.742Z"
   },
   {
    "duration": 20,
    "start_time": "2022-05-24T16:13:23.812Z"
   },
   {
    "duration": 19,
    "start_time": "2022-05-24T16:13:23.834Z"
   },
   {
    "duration": 18,
    "start_time": "2022-05-24T16:13:23.855Z"
   },
   {
    "duration": 5,
    "start_time": "2022-05-24T16:13:23.874Z"
   },
   {
    "duration": 40,
    "start_time": "2022-05-24T16:13:23.881Z"
   },
   {
    "duration": 12,
    "start_time": "2022-05-24T16:13:23.923Z"
   },
   {
    "duration": 13,
    "start_time": "2022-05-24T16:13:23.937Z"
   },
   {
    "duration": 29,
    "start_time": "2022-05-24T16:13:23.952Z"
   },
   {
    "duration": 10,
    "start_time": "2022-05-24T16:13:23.982Z"
   },
   {
    "duration": 114,
    "start_time": "2022-05-24T16:13:23.994Z"
   },
   {
    "duration": 1072,
    "start_time": "2022-05-24T16:26:55.760Z"
   },
   {
    "duration": 69,
    "start_time": "2022-05-24T16:26:56.834Z"
   },
   {
    "duration": 18,
    "start_time": "2022-05-24T16:26:56.904Z"
   },
   {
    "duration": 5,
    "start_time": "2022-05-24T16:26:56.924Z"
   },
   {
    "duration": 20,
    "start_time": "2022-05-24T16:26:56.931Z"
   },
   {
    "duration": 6,
    "start_time": "2022-05-24T16:26:56.952Z"
   },
   {
    "duration": 32,
    "start_time": "2022-05-24T16:26:56.960Z"
   },
   {
    "duration": 6,
    "start_time": "2022-05-24T16:26:56.993Z"
   },
   {
    "duration": 16,
    "start_time": "2022-05-24T16:26:57.000Z"
   },
   {
    "duration": 13,
    "start_time": "2022-05-24T16:26:57.018Z"
   },
   {
    "duration": 10,
    "start_time": "2022-05-24T16:26:57.032Z"
   },
   {
    "duration": 126,
    "start_time": "2022-05-24T16:26:57.043Z"
   },
   {
    "duration": 6,
    "start_time": "2022-05-24T16:31:04.211Z"
   },
   {
    "duration": 6,
    "start_time": "2022-05-24T16:31:06.642Z"
   },
   {
    "duration": 181,
    "start_time": "2022-05-24T16:31:16.243Z"
   },
   {
    "duration": 6,
    "start_time": "2022-05-24T16:32:08.214Z"
   },
   {
    "duration": 177,
    "start_time": "2022-05-24T16:33:23.459Z"
   },
   {
    "duration": 112,
    "start_time": "2022-05-24T16:34:47.334Z"
   },
   {
    "duration": 112,
    "start_time": "2022-05-24T16:34:50.501Z"
   },
   {
    "duration": 98,
    "start_time": "2022-05-24T16:35:40.609Z"
   },
   {
    "duration": 1041,
    "start_time": "2022-05-24T16:35:52.415Z"
   },
   {
    "duration": 70,
    "start_time": "2022-05-24T16:35:53.457Z"
   },
   {
    "duration": 26,
    "start_time": "2022-05-24T16:35:53.528Z"
   },
   {
    "duration": 4,
    "start_time": "2022-05-24T16:35:53.556Z"
   },
   {
    "duration": 28,
    "start_time": "2022-05-24T16:35:53.562Z"
   },
   {
    "duration": 7,
    "start_time": "2022-05-24T16:35:53.592Z"
   },
   {
    "duration": 20,
    "start_time": "2022-05-24T16:35:53.600Z"
   },
   {
    "duration": 4,
    "start_time": "2022-05-24T16:35:53.622Z"
   },
   {
    "duration": 12,
    "start_time": "2022-05-24T16:35:53.628Z"
   },
   {
    "duration": 16,
    "start_time": "2022-05-24T16:35:53.661Z"
   },
   {
    "duration": 19,
    "start_time": "2022-05-24T16:35:53.679Z"
   },
   {
    "duration": 132,
    "start_time": "2022-05-24T16:35:53.702Z"
   },
   {
    "duration": 5,
    "start_time": "2022-05-24T16:35:53.836Z"
   },
   {
    "duration": 206,
    "start_time": "2022-05-24T16:35:53.843Z"
   },
   {
    "duration": 129,
    "start_time": "2022-05-24T16:35:54.050Z"
   },
   {
    "duration": 110,
    "start_time": "2022-05-24T16:35:54.180Z"
   },
   {
    "duration": 16,
    "start_time": "2022-05-24T16:36:22.511Z"
   },
   {
    "duration": 195,
    "start_time": "2022-05-24T16:37:07.490Z"
   },
   {
    "duration": 1064,
    "start_time": "2022-05-24T16:37:45.059Z"
   },
   {
    "duration": 70,
    "start_time": "2022-05-24T16:37:46.124Z"
   },
   {
    "duration": 18,
    "start_time": "2022-05-24T16:37:46.195Z"
   },
   {
    "duration": 2,
    "start_time": "2022-05-24T16:37:46.215Z"
   },
   {
    "duration": 16,
    "start_time": "2022-05-24T16:37:46.219Z"
   },
   {
    "duration": 7,
    "start_time": "2022-05-24T16:37:46.236Z"
   },
   {
    "duration": 15,
    "start_time": "2022-05-24T16:37:46.244Z"
   },
   {
    "duration": 3,
    "start_time": "2022-05-24T16:37:46.260Z"
   },
   {
    "duration": 15,
    "start_time": "2022-05-24T16:37:46.264Z"
   },
   {
    "duration": 11,
    "start_time": "2022-05-24T16:37:46.281Z"
   },
   {
    "duration": 9,
    "start_time": "2022-05-24T16:37:46.293Z"
   },
   {
    "duration": 121,
    "start_time": "2022-05-24T16:37:46.304Z"
   },
   {
    "duration": 5,
    "start_time": "2022-05-24T16:37:46.426Z"
   },
   {
    "duration": 173,
    "start_time": "2022-05-24T16:37:46.432Z"
   },
   {
    "duration": 111,
    "start_time": "2022-05-24T16:37:46.607Z"
   },
   {
    "duration": 14,
    "start_time": "2022-05-24T16:37:46.720Z"
   },
   {
    "duration": 210,
    "start_time": "2022-05-24T16:37:46.735Z"
   },
   {
    "duration": 229,
    "start_time": "2022-05-24T16:38:30.700Z"
   },
   {
    "duration": 232,
    "start_time": "2022-05-24T16:39:14.693Z"
   },
   {
    "duration": 234,
    "start_time": "2022-05-24T16:39:28.732Z"
   },
   {
    "duration": 222,
    "start_time": "2022-05-24T16:40:25.786Z"
   },
   {
    "duration": 258,
    "start_time": "2022-05-24T16:41:17.642Z"
   },
   {
    "duration": 367,
    "start_time": "2022-05-24T16:41:38.957Z"
   },
   {
    "duration": 4,
    "start_time": "2022-05-24T16:43:46.145Z"
   },
   {
    "duration": 4,
    "start_time": "2022-05-24T16:43:50.441Z"
   },
   {
    "duration": 243,
    "start_time": "2022-05-24T16:45:29.243Z"
   },
   {
    "duration": 291,
    "start_time": "2022-05-24T16:45:53.393Z"
   },
   {
    "duration": 324,
    "start_time": "2022-05-24T16:46:28.930Z"
   },
   {
    "duration": 358,
    "start_time": "2022-05-24T16:46:45.491Z"
   },
   {
    "duration": 199,
    "start_time": "2022-05-24T16:47:59.398Z"
   },
   {
    "duration": 219,
    "start_time": "2022-05-24T16:48:12.349Z"
   },
   {
    "duration": 7,
    "start_time": "2022-05-24T16:48:50.689Z"
   },
   {
    "duration": 7,
    "start_time": "2022-05-24T16:49:05.503Z"
   },
   {
    "duration": 301,
    "start_time": "2022-05-24T16:50:03.194Z"
   },
   {
    "duration": 9,
    "start_time": "2022-05-24T16:50:48.051Z"
   },
   {
    "duration": 285,
    "start_time": "2022-05-24T16:50:48.804Z"
   },
   {
    "duration": 12,
    "start_time": "2022-05-24T16:51:38.817Z"
   },
   {
    "duration": 12,
    "start_time": "2022-05-24T16:52:08.493Z"
   },
   {
    "duration": 14,
    "start_time": "2022-05-24T16:52:16.817Z"
   },
   {
    "duration": 14,
    "start_time": "2022-05-24T16:52:19.824Z"
   },
   {
    "duration": 22,
    "start_time": "2022-05-24T16:52:25.854Z"
   },
   {
    "duration": 126,
    "start_time": "2022-05-24T16:53:20.338Z"
   },
   {
    "duration": 125,
    "start_time": "2022-05-24T16:53:43.176Z"
   },
   {
    "duration": 112,
    "start_time": "2022-05-24T16:54:05.308Z"
   },
   {
    "duration": 123,
    "start_time": "2022-05-24T16:54:14.237Z"
   },
   {
    "duration": 12,
    "start_time": "2022-05-24T16:55:22.000Z"
   },
   {
    "duration": 50,
    "start_time": "2022-05-24T16:55:31.440Z"
   },
   {
    "duration": 119,
    "start_time": "2022-05-24T16:55:40.600Z"
   },
   {
    "duration": 5,
    "start_time": "2022-05-24T16:55:55.974Z"
   },
   {
    "duration": 44,
    "start_time": "2022-05-24T16:56:38.900Z"
   },
   {
    "duration": 138,
    "start_time": "2022-05-24T16:56:54.303Z"
   },
   {
    "duration": 229,
    "start_time": "2022-05-24T16:57:05.597Z"
   },
   {
    "duration": 128,
    "start_time": "2022-05-24T16:57:26.311Z"
   },
   {
    "duration": 123,
    "start_time": "2022-05-24T16:57:57.440Z"
   },
   {
    "duration": 5,
    "start_time": "2022-05-24T16:58:15.729Z"
   },
   {
    "duration": 1119,
    "start_time": "2022-05-24T16:58:55.446Z"
   },
   {
    "duration": 68,
    "start_time": "2022-05-24T16:58:56.567Z"
   },
   {
    "duration": 19,
    "start_time": "2022-05-24T16:58:56.637Z"
   },
   {
    "duration": 3,
    "start_time": "2022-05-24T16:58:56.659Z"
   },
   {
    "duration": 14,
    "start_time": "2022-05-24T16:58:56.664Z"
   },
   {
    "duration": 4,
    "start_time": "2022-05-24T16:58:56.680Z"
   },
   {
    "duration": 14,
    "start_time": "2022-05-24T16:58:56.686Z"
   },
   {
    "duration": 4,
    "start_time": "2022-05-24T16:58:56.701Z"
   },
   {
    "duration": 9,
    "start_time": "2022-05-24T16:58:56.706Z"
   },
   {
    "duration": 44,
    "start_time": "2022-05-24T16:58:56.717Z"
   },
   {
    "duration": 10,
    "start_time": "2022-05-24T16:58:56.763Z"
   },
   {
    "duration": 120,
    "start_time": "2022-05-24T16:58:56.774Z"
   },
   {
    "duration": 5,
    "start_time": "2022-05-24T16:58:56.895Z"
   },
   {
    "duration": 170,
    "start_time": "2022-05-24T16:58:56.901Z"
   },
   {
    "duration": 122,
    "start_time": "2022-05-24T16:58:57.073Z"
   },
   {
    "duration": 14,
    "start_time": "2022-05-24T16:58:57.197Z"
   },
   {
    "duration": 344,
    "start_time": "2022-05-24T16:58:57.213Z"
   },
   {
    "duration": 231,
    "start_time": "2022-05-24T16:58:57.559Z"
   },
   {
    "duration": 356,
    "start_time": "2022-05-24T16:58:57.792Z"
   },
   {
    "duration": 4,
    "start_time": "2022-05-24T16:58:58.150Z"
   },
   {
    "duration": 206,
    "start_time": "2022-05-24T16:58:58.159Z"
   },
   {
    "duration": 8,
    "start_time": "2022-05-24T16:58:58.367Z"
   },
   {
    "duration": 325,
    "start_time": "2022-05-24T16:58:58.377Z"
   },
   {
    "duration": 15,
    "start_time": "2022-05-24T16:58:58.704Z"
   },
   {
    "duration": 127,
    "start_time": "2022-05-24T16:58:58.721Z"
   },
   {
    "duration": 112,
    "start_time": "2022-05-24T16:58:58.849Z"
   },
   {
    "duration": 4,
    "start_time": "2022-05-24T16:58:58.962Z"
   },
   {
    "duration": 131,
    "start_time": "2022-05-24T16:58:58.969Z"
   },
   {
    "duration": 127,
    "start_time": "2022-05-24T16:58:59.101Z"
   },
   {
    "duration": 5,
    "start_time": "2022-05-24T16:58:59.229Z"
   },
   {
    "duration": 1350,
    "start_time": "2022-05-25T03:27:39.406Z"
   },
   {
    "duration": 226,
    "start_time": "2022-05-25T03:27:40.758Z"
   },
   {
    "duration": 21,
    "start_time": "2022-05-25T03:27:40.986Z"
   },
   {
    "duration": 3,
    "start_time": "2022-05-25T03:27:41.009Z"
   },
   {
    "duration": 23,
    "start_time": "2022-05-25T03:27:41.013Z"
   },
   {
    "duration": 6,
    "start_time": "2022-05-25T03:27:41.042Z"
   },
   {
    "duration": 18,
    "start_time": "2022-05-25T03:27:41.050Z"
   },
   {
    "duration": 5,
    "start_time": "2022-05-25T03:27:41.070Z"
   },
   {
    "duration": 13,
    "start_time": "2022-05-25T03:27:41.076Z"
   },
   {
    "duration": 13,
    "start_time": "2022-05-25T03:27:41.092Z"
   },
   {
    "duration": 15,
    "start_time": "2022-05-25T03:27:41.123Z"
   },
   {
    "duration": 143,
    "start_time": "2022-05-25T03:27:41.140Z"
   },
   {
    "duration": 6,
    "start_time": "2022-05-25T03:27:41.285Z"
   },
   {
    "duration": 201,
    "start_time": "2022-05-25T03:27:41.293Z"
   },
   {
    "duration": 129,
    "start_time": "2022-05-25T03:27:41.495Z"
   },
   {
    "duration": 22,
    "start_time": "2022-05-25T03:27:41.629Z"
   },
   {
    "duration": 380,
    "start_time": "2022-05-25T03:27:41.652Z"
   },
   {
    "duration": 259,
    "start_time": "2022-05-25T03:27:42.038Z"
   },
   {
    "duration": 446,
    "start_time": "2022-05-25T03:27:42.299Z"
   },
   {
    "duration": 15,
    "start_time": "2022-05-25T03:27:42.747Z"
   },
   {
    "duration": 257,
    "start_time": "2022-05-25T03:27:42.763Z"
   },
   {
    "duration": 12,
    "start_time": "2022-05-25T03:27:43.023Z"
   },
   {
    "duration": 368,
    "start_time": "2022-05-25T03:27:43.037Z"
   },
   {
    "duration": 23,
    "start_time": "2022-05-25T03:27:43.407Z"
   },
   {
    "duration": 135,
    "start_time": "2022-05-25T03:27:43.436Z"
   },
   {
    "duration": 125,
    "start_time": "2022-05-25T03:27:43.573Z"
   },
   {
    "duration": 6,
    "start_time": "2022-05-25T03:27:43.699Z"
   },
   {
    "duration": 166,
    "start_time": "2022-05-25T03:27:43.708Z"
   },
   {
    "duration": 168,
    "start_time": "2022-05-25T03:27:43.876Z"
   },
   {
    "duration": 5,
    "start_time": "2022-05-25T03:27:44.046Z"
   },
   {
    "duration": 150,
    "start_time": "2022-05-25T03:30:46.047Z"
   },
   {
    "duration": 226,
    "start_time": "2022-05-25T03:31:13.279Z"
   },
   {
    "duration": 239,
    "start_time": "2022-05-25T03:31:51.013Z"
   },
   {
    "duration": 240,
    "start_time": "2022-05-25T03:32:00.750Z"
   },
   {
    "duration": 275,
    "start_time": "2022-05-25T03:34:28.336Z"
   },
   {
    "duration": 144,
    "start_time": "2022-05-25T03:34:40.963Z"
   },
   {
    "duration": 168,
    "start_time": "2022-05-25T03:34:45.142Z"
   },
   {
    "duration": 7,
    "start_time": "2022-05-25T03:34:56.475Z"
   },
   {
    "duration": 7,
    "start_time": "2022-05-25T03:34:58.755Z"
   },
   {
    "duration": 7,
    "start_time": "2022-05-25T03:35:08.075Z"
   },
   {
    "duration": 7,
    "start_time": "2022-05-25T03:35:10.771Z"
   },
   {
    "duration": 27,
    "start_time": "2022-05-25T03:35:20.675Z"
   },
   {
    "duration": 40,
    "start_time": "2022-05-25T03:35:22.827Z"
   },
   {
    "duration": 26,
    "start_time": "2022-05-25T03:38:51.784Z"
   },
   {
    "duration": 26,
    "start_time": "2022-05-25T03:39:24.370Z"
   },
   {
    "duration": 10,
    "start_time": "2022-05-25T03:41:16.345Z"
   },
   {
    "duration": 23,
    "start_time": "2022-05-25T03:41:41.543Z"
   },
   {
    "duration": 30,
    "start_time": "2022-05-25T03:42:01.296Z"
   },
   {
    "duration": 11,
    "start_time": "2022-05-25T03:43:12.800Z"
   },
   {
    "duration": 12,
    "start_time": "2022-05-25T03:43:34.141Z"
   },
   {
    "duration": 13,
    "start_time": "2022-05-25T03:43:36.607Z"
   },
   {
    "duration": 7,
    "start_time": "2022-05-25T03:47:27.139Z"
   },
   {
    "duration": 6,
    "start_time": "2022-05-25T03:47:29.598Z"
   },
   {
    "duration": 5,
    "start_time": "2022-05-25T03:47:43.651Z"
   },
   {
    "duration": 5,
    "start_time": "2022-05-25T03:47:57.542Z"
   },
   {
    "duration": 4,
    "start_time": "2022-05-25T03:48:09.414Z"
   },
   {
    "duration": 3,
    "start_time": "2022-05-25T03:48:20.198Z"
   },
   {
    "duration": 12,
    "start_time": "2022-05-25T03:53:22.537Z"
   },
   {
    "duration": 9,
    "start_time": "2022-05-25T03:53:31.516Z"
   },
   {
    "duration": 27,
    "start_time": "2022-05-25T03:54:27.171Z"
   },
   {
    "duration": 35,
    "start_time": "2022-05-25T03:54:37.403Z"
   },
   {
    "duration": 13,
    "start_time": "2022-05-25T03:57:14.683Z"
   },
   {
    "duration": 17,
    "start_time": "2022-05-25T03:57:41.667Z"
   },
   {
    "duration": 19,
    "start_time": "2022-05-25T03:57:53.115Z"
   },
   {
    "duration": 24,
    "start_time": "2022-05-25T03:58:29.147Z"
   },
   {
    "duration": 24,
    "start_time": "2022-05-25T03:58:36.524Z"
   },
   {
    "duration": 16,
    "start_time": "2022-05-25T03:58:47.235Z"
   },
   {
    "duration": 326,
    "start_time": "2022-05-25T04:00:53.585Z"
   },
   {
    "duration": 334,
    "start_time": "2022-05-25T04:00:59.673Z"
   },
   {
    "duration": 332,
    "start_time": "2022-05-25T04:01:14.177Z"
   },
   {
    "duration": 1240,
    "start_time": "2022-05-25T04:02:02.444Z"
   },
   {
    "duration": 85,
    "start_time": "2022-05-25T04:02:03.686Z"
   },
   {
    "duration": 21,
    "start_time": "2022-05-25T04:02:03.773Z"
   },
   {
    "duration": 6,
    "start_time": "2022-05-25T04:02:03.795Z"
   },
   {
    "duration": 17,
    "start_time": "2022-05-25T04:02:03.803Z"
   },
   {
    "duration": 20,
    "start_time": "2022-05-25T04:02:03.822Z"
   },
   {
    "duration": 16,
    "start_time": "2022-05-25T04:02:03.843Z"
   },
   {
    "duration": 4,
    "start_time": "2022-05-25T04:02:03.861Z"
   },
   {
    "duration": 14,
    "start_time": "2022-05-25T04:02:03.866Z"
   },
   {
    "duration": 14,
    "start_time": "2022-05-25T04:02:03.882Z"
   },
   {
    "duration": 11,
    "start_time": "2022-05-25T04:02:03.897Z"
   },
   {
    "duration": 150,
    "start_time": "2022-05-25T04:02:03.923Z"
   },
   {
    "duration": 7,
    "start_time": "2022-05-25T04:02:04.074Z"
   },
   {
    "duration": 213,
    "start_time": "2022-05-25T04:02:04.085Z"
   },
   {
    "duration": 138,
    "start_time": "2022-05-25T04:02:04.300Z"
   },
   {
    "duration": 18,
    "start_time": "2022-05-25T04:02:04.440Z"
   },
   {
    "duration": 438,
    "start_time": "2022-05-25T04:02:04.460Z"
   },
   {
    "duration": 265,
    "start_time": "2022-05-25T04:02:04.900Z"
   },
   {
    "duration": 335,
    "start_time": "2022-05-25T04:02:05.167Z"
   },
   {
    "duration": 4,
    "start_time": "2022-05-25T04:02:05.504Z"
   },
   {
    "duration": 248,
    "start_time": "2022-05-25T04:02:05.526Z"
   },
   {
    "duration": 8,
    "start_time": "2022-05-25T04:02:05.776Z"
   },
   {
    "duration": 398,
    "start_time": "2022-05-25T04:02:05.786Z"
   },
   {
    "duration": 18,
    "start_time": "2022-05-25T04:02:06.186Z"
   },
   {
    "duration": 173,
    "start_time": "2022-05-25T04:02:06.206Z"
   },
   {
    "duration": 133,
    "start_time": "2022-05-25T04:02:06.380Z"
   },
   {
    "duration": 9,
    "start_time": "2022-05-25T04:02:06.523Z"
   },
   {
    "duration": 156,
    "start_time": "2022-05-25T04:02:06.533Z"
   },
   {
    "duration": 151,
    "start_time": "2022-05-25T04:02:06.690Z"
   },
   {
    "duration": 5,
    "start_time": "2022-05-25T04:02:06.844Z"
   },
   {
    "duration": 326,
    "start_time": "2022-05-25T04:02:06.851Z"
   },
   {
    "duration": 153,
    "start_time": "2022-05-25T04:02:07.179Z"
   },
   {
    "duration": 9,
    "start_time": "2022-05-25T04:02:07.333Z"
   },
   {
    "duration": 14,
    "start_time": "2022-05-25T04:02:07.344Z"
   },
   {
    "duration": 32,
    "start_time": "2022-05-25T04:02:07.359Z"
   },
   {
    "duration": 13,
    "start_time": "2022-05-25T04:02:07.393Z"
   },
   {
    "duration": 25,
    "start_time": "2022-05-25T04:02:07.407Z"
   },
   {
    "duration": 15,
    "start_time": "2022-05-25T04:02:07.434Z"
   },
   {
    "duration": 7,
    "start_time": "2022-05-25T04:02:07.451Z"
   },
   {
    "duration": 9,
    "start_time": "2022-05-25T04:02:07.460Z"
   },
   {
    "duration": 26,
    "start_time": "2022-05-25T04:02:07.472Z"
   },
   {
    "duration": 36,
    "start_time": "2022-05-25T04:02:07.500Z"
   },
   {
    "duration": 325,
    "start_time": "2022-05-25T04:02:07.542Z"
   },
   {
    "duration": 1202,
    "start_time": "2022-05-25T04:03:37.391Z"
   },
   {
    "duration": 78,
    "start_time": "2022-05-25T04:03:38.595Z"
   },
   {
    "duration": 30,
    "start_time": "2022-05-25T04:03:38.675Z"
   },
   {
    "duration": 4,
    "start_time": "2022-05-25T04:03:38.707Z"
   },
   {
    "duration": 32,
    "start_time": "2022-05-25T04:03:38.713Z"
   },
   {
    "duration": 6,
    "start_time": "2022-05-25T04:03:38.747Z"
   },
   {
    "duration": 17,
    "start_time": "2022-05-25T04:03:38.754Z"
   },
   {
    "duration": 5,
    "start_time": "2022-05-25T04:03:38.773Z"
   },
   {
    "duration": 16,
    "start_time": "2022-05-25T04:03:38.779Z"
   },
   {
    "duration": 42,
    "start_time": "2022-05-25T04:03:38.797Z"
   },
   {
    "duration": 13,
    "start_time": "2022-05-25T04:03:38.843Z"
   },
   {
    "duration": 156,
    "start_time": "2022-05-25T04:03:38.858Z"
   },
   {
    "duration": 14,
    "start_time": "2022-05-25T04:03:39.015Z"
   },
   {
    "duration": 217,
    "start_time": "2022-05-25T04:03:39.033Z"
   },
   {
    "duration": 143,
    "start_time": "2022-05-25T04:03:39.252Z"
   },
   {
    "duration": 16,
    "start_time": "2022-05-25T04:03:39.397Z"
   },
   {
    "duration": 402,
    "start_time": "2022-05-25T04:03:39.414Z"
   },
   {
    "duration": 276,
    "start_time": "2022-05-25T04:03:39.826Z"
   },
   {
    "duration": 408,
    "start_time": "2022-05-25T04:03:40.104Z"
   },
   {
    "duration": 12,
    "start_time": "2022-05-25T04:03:40.515Z"
   },
   {
    "duration": 279,
    "start_time": "2022-05-25T04:03:40.531Z"
   },
   {
    "duration": 24,
    "start_time": "2022-05-25T04:03:40.812Z"
   },
   {
    "duration": 389,
    "start_time": "2022-05-25T04:03:40.843Z"
   },
   {
    "duration": 16,
    "start_time": "2022-05-25T04:03:41.237Z"
   },
   {
    "duration": 187,
    "start_time": "2022-05-25T04:03:41.255Z"
   },
   {
    "duration": 197,
    "start_time": "2022-05-25T04:03:41.450Z"
   },
   {
    "duration": 6,
    "start_time": "2022-05-25T04:03:41.649Z"
   },
   {
    "duration": 211,
    "start_time": "2022-05-25T04:03:41.659Z"
   },
   {
    "duration": 194,
    "start_time": "2022-05-25T04:03:41.872Z"
   },
   {
    "duration": 6,
    "start_time": "2022-05-25T04:03:42.068Z"
   },
   {
    "duration": 384,
    "start_time": "2022-05-25T04:03:42.076Z"
   },
   {
    "duration": 200,
    "start_time": "2022-05-25T04:03:42.462Z"
   },
   {
    "duration": 10,
    "start_time": "2022-05-25T04:03:42.664Z"
   },
   {
    "duration": 11,
    "start_time": "2022-05-25T04:03:42.676Z"
   },
   {
    "duration": 44,
    "start_time": "2022-05-25T04:03:42.688Z"
   },
   {
    "duration": 16,
    "start_time": "2022-05-25T04:03:42.734Z"
   },
   {
    "duration": 22,
    "start_time": "2022-05-25T04:03:42.752Z"
   },
   {
    "duration": 19,
    "start_time": "2022-05-25T04:03:42.776Z"
   },
   {
    "duration": 11,
    "start_time": "2022-05-25T04:03:42.798Z"
   },
   {
    "duration": 22,
    "start_time": "2022-05-25T04:03:42.811Z"
   },
   {
    "duration": 53,
    "start_time": "2022-05-25T04:03:42.837Z"
   },
   {
    "duration": 14,
    "start_time": "2022-05-25T04:03:42.892Z"
   },
   {
    "duration": 398,
    "start_time": "2022-05-25T04:03:42.907Z"
   },
   {
    "duration": 368,
    "start_time": "2022-05-25T04:04:07.693Z"
   },
   {
    "duration": 3,
    "start_time": "2022-05-25T04:05:26.982Z"
   },
   {
    "duration": 1273,
    "start_time": "2022-05-25T04:05:36.505Z"
   },
   {
    "duration": 84,
    "start_time": "2022-05-25T04:05:37.780Z"
   },
   {
    "duration": 20,
    "start_time": "2022-05-25T04:05:37.866Z"
   },
   {
    "duration": 3,
    "start_time": "2022-05-25T04:05:37.888Z"
   },
   {
    "duration": 24,
    "start_time": "2022-05-25T04:05:37.893Z"
   },
   {
    "duration": 9,
    "start_time": "2022-05-25T04:05:37.919Z"
   },
   {
    "duration": 31,
    "start_time": "2022-05-25T04:05:37.937Z"
   },
   {
    "duration": 8,
    "start_time": "2022-05-25T04:05:37.970Z"
   },
   {
    "duration": 11,
    "start_time": "2022-05-25T04:05:37.980Z"
   },
   {
    "duration": 16,
    "start_time": "2022-05-25T04:05:37.994Z"
   },
   {
    "duration": 19,
    "start_time": "2022-05-25T04:05:38.011Z"
   },
   {
    "duration": 188,
    "start_time": "2022-05-25T04:05:38.032Z"
   },
   {
    "duration": 7,
    "start_time": "2022-05-25T04:05:38.221Z"
   },
   {
    "duration": 245,
    "start_time": "2022-05-25T04:05:38.230Z"
   },
   {
    "duration": 167,
    "start_time": "2022-05-25T04:05:38.477Z"
   },
   {
    "duration": 23,
    "start_time": "2022-05-25T04:05:38.651Z"
   },
   {
    "duration": 560,
    "start_time": "2022-05-25T04:05:38.676Z"
   },
   {
    "duration": 332,
    "start_time": "2022-05-25T04:05:39.250Z"
   },
   {
    "duration": 370,
    "start_time": "2022-05-25T04:05:39.584Z"
   },
   {
    "duration": 6,
    "start_time": "2022-05-25T04:05:39.958Z"
   },
   {
    "duration": 250,
    "start_time": "2022-05-25T04:05:39.967Z"
   },
   {
    "duration": 9,
    "start_time": "2022-05-25T04:05:40.227Z"
   },
   {
    "duration": 354,
    "start_time": "2022-05-25T04:05:40.247Z"
   },
   {
    "duration": 37,
    "start_time": "2022-05-25T04:05:40.603Z"
   },
   {
    "duration": 134,
    "start_time": "2022-05-25T04:05:40.641Z"
   },
   {
    "duration": 151,
    "start_time": "2022-05-25T04:05:40.777Z"
   },
   {
    "duration": 10,
    "start_time": "2022-05-25T04:05:40.930Z"
   },
   {
    "duration": 171,
    "start_time": "2022-05-25T04:05:40.945Z"
   },
   {
    "duration": 152,
    "start_time": "2022-05-25T04:05:41.118Z"
   },
   {
    "duration": 6,
    "start_time": "2022-05-25T04:05:41.272Z"
   },
   {
    "duration": 388,
    "start_time": "2022-05-25T04:05:41.280Z"
   },
   {
    "duration": 156,
    "start_time": "2022-05-25T04:05:41.669Z"
   },
   {
    "duration": 12,
    "start_time": "2022-05-25T04:05:41.832Z"
   },
   {
    "duration": 14,
    "start_time": "2022-05-25T04:05:41.845Z"
   },
   {
    "duration": 41,
    "start_time": "2022-05-25T04:05:41.861Z"
   },
   {
    "duration": 13,
    "start_time": "2022-05-25T04:05:41.904Z"
   },
   {
    "duration": 39,
    "start_time": "2022-05-25T04:05:41.919Z"
   },
   {
    "duration": 18,
    "start_time": "2022-05-25T04:05:41.960Z"
   },
   {
    "duration": 12,
    "start_time": "2022-05-25T04:05:41.980Z"
   },
   {
    "duration": 13,
    "start_time": "2022-05-25T04:05:41.994Z"
   },
   {
    "duration": 78,
    "start_time": "2022-05-25T04:05:42.009Z"
   },
   {
    "duration": 47,
    "start_time": "2022-05-25T04:05:42.089Z"
   },
   {
    "duration": 350,
    "start_time": "2022-05-25T04:05:42.137Z"
   },
   {
    "duration": 1335,
    "start_time": "2022-05-25T15:39:01.636Z"
   },
   {
    "duration": 195,
    "start_time": "2022-05-25T15:39:02.973Z"
   },
   {
    "duration": 23,
    "start_time": "2022-05-25T15:39:03.169Z"
   },
   {
    "duration": 8,
    "start_time": "2022-05-25T15:39:03.194Z"
   },
   {
    "duration": 29,
    "start_time": "2022-05-25T15:39:03.204Z"
   },
   {
    "duration": 31,
    "start_time": "2022-05-25T15:39:03.234Z"
   },
   {
    "duration": 34,
    "start_time": "2022-05-25T15:39:03.267Z"
   },
   {
    "duration": 8,
    "start_time": "2022-05-25T15:39:03.303Z"
   },
   {
    "duration": 25,
    "start_time": "2022-05-25T15:39:03.312Z"
   },
   {
    "duration": 34,
    "start_time": "2022-05-25T15:39:03.339Z"
   },
   {
    "duration": 17,
    "start_time": "2022-05-25T15:39:03.375Z"
   },
   {
    "duration": 134,
    "start_time": "2022-05-25T15:39:03.394Z"
   },
   {
    "duration": 27,
    "start_time": "2022-05-25T15:39:03.529Z"
   },
   {
    "duration": 196,
    "start_time": "2022-05-25T15:39:03.557Z"
   },
   {
    "duration": 122,
    "start_time": "2022-05-25T15:39:03.756Z"
   },
   {
    "duration": 17,
    "start_time": "2022-05-25T15:39:03.880Z"
   },
   {
    "duration": 382,
    "start_time": "2022-05-25T15:39:03.899Z"
   },
   {
    "duration": 271,
    "start_time": "2022-05-25T15:39:04.283Z"
   },
   {
    "duration": 374,
    "start_time": "2022-05-25T15:39:04.556Z"
   },
   {
    "duration": 10,
    "start_time": "2022-05-25T15:39:04.941Z"
   },
   {
    "duration": 246,
    "start_time": "2022-05-25T15:39:04.953Z"
   },
   {
    "duration": 9,
    "start_time": "2022-05-25T15:39:05.203Z"
   },
   {
    "duration": 362,
    "start_time": "2022-05-25T15:39:05.214Z"
   },
   {
    "duration": 12,
    "start_time": "2022-05-25T15:39:05.577Z"
   },
   {
    "duration": 145,
    "start_time": "2022-05-25T15:39:05.591Z"
   },
   {
    "duration": 138,
    "start_time": "2022-05-25T15:39:05.738Z"
   },
   {
    "duration": 5,
    "start_time": "2022-05-25T15:39:05.878Z"
   },
   {
    "duration": 152,
    "start_time": "2022-05-25T15:39:05.886Z"
   },
   {
    "duration": 149,
    "start_time": "2022-05-25T15:39:06.040Z"
   },
   {
    "duration": 6,
    "start_time": "2022-05-25T15:39:06.191Z"
   },
   {
    "duration": 326,
    "start_time": "2022-05-25T15:39:06.199Z"
   },
   {
    "duration": 162,
    "start_time": "2022-05-25T15:39:06.527Z"
   },
   {
    "duration": 8,
    "start_time": "2022-05-25T15:39:06.691Z"
   },
   {
    "duration": 6,
    "start_time": "2022-05-25T15:39:06.700Z"
   },
   {
    "duration": 45,
    "start_time": "2022-05-25T15:39:06.708Z"
   },
   {
    "duration": 12,
    "start_time": "2022-05-25T15:39:06.755Z"
   },
   {
    "duration": 6,
    "start_time": "2022-05-25T15:39:06.769Z"
   },
   {
    "duration": 17,
    "start_time": "2022-05-25T15:39:06.777Z"
   },
   {
    "duration": 8,
    "start_time": "2022-05-25T15:39:06.796Z"
   },
   {
    "duration": 8,
    "start_time": "2022-05-25T15:39:06.805Z"
   },
   {
    "duration": 54,
    "start_time": "2022-05-25T15:39:06.814Z"
   },
   {
    "duration": 17,
    "start_time": "2022-05-25T15:39:06.871Z"
   },
   {
    "duration": 368,
    "start_time": "2022-05-25T15:39:06.890Z"
   },
   {
    "duration": 258,
    "start_time": "2022-05-25T15:40:03.331Z"
   },
   {
    "duration": 248,
    "start_time": "2022-05-25T15:41:52.653Z"
   },
   {
    "duration": 328,
    "start_time": "2022-05-25T15:44:03.377Z"
   },
   {
    "duration": 254,
    "start_time": "2022-05-25T15:45:03.053Z"
   },
   {
    "duration": 333,
    "start_time": "2022-05-25T15:46:42.762Z"
   },
   {
    "duration": 119,
    "start_time": "2022-05-25T15:48:01.365Z"
   },
   {
    "duration": 5,
    "start_time": "2022-05-25T15:48:54.655Z"
   },
   {
    "duration": 152,
    "start_time": "2022-05-25T15:49:33.848Z"
   },
   {
    "duration": 130,
    "start_time": "2022-05-25T15:49:58.490Z"
   },
   {
    "duration": 6,
    "start_time": "2022-05-25T15:51:24.348Z"
   },
   {
    "duration": 1172,
    "start_time": "2022-05-25T16:08:55.341Z"
   },
   {
    "duration": 77,
    "start_time": "2022-05-25T16:08:56.515Z"
   },
   {
    "duration": 18,
    "start_time": "2022-05-25T16:08:56.594Z"
   },
   {
    "duration": 4,
    "start_time": "2022-05-25T16:08:56.614Z"
   },
   {
    "duration": 17,
    "start_time": "2022-05-25T16:08:56.619Z"
   },
   {
    "duration": 13,
    "start_time": "2022-05-25T16:08:56.638Z"
   },
   {
    "duration": 27,
    "start_time": "2022-05-25T16:08:56.652Z"
   },
   {
    "duration": 5,
    "start_time": "2022-05-25T16:08:56.681Z"
   },
   {
    "duration": 11,
    "start_time": "2022-05-25T16:08:56.688Z"
   },
   {
    "duration": 12,
    "start_time": "2022-05-25T16:08:56.702Z"
   },
   {
    "duration": 31,
    "start_time": "2022-05-25T16:08:56.716Z"
   },
   {
    "duration": 141,
    "start_time": "2022-05-25T16:08:56.748Z"
   },
   {
    "duration": 7,
    "start_time": "2022-05-25T16:08:56.892Z"
   },
   {
    "duration": 259,
    "start_time": "2022-05-25T16:08:56.901Z"
   },
   {
    "duration": 146,
    "start_time": "2022-05-25T16:08:57.164Z"
   },
   {
    "duration": 19,
    "start_time": "2022-05-25T16:08:57.312Z"
   },
   {
    "duration": 379,
    "start_time": "2022-05-25T16:08:57.341Z"
   },
   {
    "duration": 270,
    "start_time": "2022-05-25T16:08:57.721Z"
   },
   {
    "duration": 361,
    "start_time": "2022-05-25T16:08:57.993Z"
   },
   {
    "duration": 5,
    "start_time": "2022-05-25T16:08:58.355Z"
   },
   {
    "duration": 275,
    "start_time": "2022-05-25T16:08:58.362Z"
   },
   {
    "duration": 14,
    "start_time": "2022-05-25T16:08:58.640Z"
   },
   {
    "duration": 364,
    "start_time": "2022-05-25T16:08:58.660Z"
   },
   {
    "duration": 26,
    "start_time": "2022-05-25T16:08:59.026Z"
   },
   {
    "duration": 150,
    "start_time": "2022-05-25T16:08:59.054Z"
   },
   {
    "duration": 159,
    "start_time": "2022-05-25T16:08:59.206Z"
   },
   {
    "duration": 6,
    "start_time": "2022-05-25T16:08:59.367Z"
   },
   {
    "duration": 190,
    "start_time": "2022-05-25T16:08:59.376Z"
   },
   {
    "duration": 144,
    "start_time": "2022-05-25T16:08:59.567Z"
   },
   {
    "duration": 5,
    "start_time": "2022-05-25T16:08:59.712Z"
   },
   {
    "duration": 362,
    "start_time": "2022-05-25T16:08:59.719Z"
   },
   {
    "duration": 140,
    "start_time": "2022-05-25T16:09:00.083Z"
   },
   {
    "duration": 17,
    "start_time": "2022-05-25T16:09:00.224Z"
   },
   {
    "duration": 9,
    "start_time": "2022-05-25T16:09:00.245Z"
   },
   {
    "duration": 38,
    "start_time": "2022-05-25T16:09:00.256Z"
   },
   {
    "duration": 11,
    "start_time": "2022-05-25T16:09:00.296Z"
   },
   {
    "duration": 9,
    "start_time": "2022-05-25T16:09:00.309Z"
   },
   {
    "duration": 13,
    "start_time": "2022-05-25T16:09:00.320Z"
   },
   {
    "duration": 16,
    "start_time": "2022-05-25T16:09:00.343Z"
   },
   {
    "duration": 16,
    "start_time": "2022-05-25T16:09:00.361Z"
   },
   {
    "duration": 53,
    "start_time": "2022-05-25T16:09:00.380Z"
   },
   {
    "duration": 22,
    "start_time": "2022-05-25T16:09:00.435Z"
   },
   {
    "duration": 1194,
    "start_time": "2022-05-25T16:11:43.195Z"
   },
   {
    "duration": 88,
    "start_time": "2022-05-25T16:11:44.391Z"
   },
   {
    "duration": 20,
    "start_time": "2022-05-25T16:11:44.483Z"
   },
   {
    "duration": 3,
    "start_time": "2022-05-25T16:11:44.504Z"
   },
   {
    "duration": 21,
    "start_time": "2022-05-25T16:11:44.508Z"
   },
   {
    "duration": 5,
    "start_time": "2022-05-25T16:11:44.531Z"
   },
   {
    "duration": 43,
    "start_time": "2022-05-25T16:11:44.538Z"
   },
   {
    "duration": 6,
    "start_time": "2022-05-25T16:11:44.582Z"
   },
   {
    "duration": 10,
    "start_time": "2022-05-25T16:11:44.590Z"
   },
   {
    "duration": 14,
    "start_time": "2022-05-25T16:11:44.601Z"
   },
   {
    "duration": 11,
    "start_time": "2022-05-25T16:11:44.617Z"
   },
   {
    "duration": 143,
    "start_time": "2022-05-25T16:11:44.629Z"
   },
   {
    "duration": 6,
    "start_time": "2022-05-25T16:11:44.774Z"
   },
   {
    "duration": 201,
    "start_time": "2022-05-25T16:11:44.781Z"
   },
   {
    "duration": 148,
    "start_time": "2022-05-25T16:11:44.984Z"
   },
   {
    "duration": 36,
    "start_time": "2022-05-25T16:11:45.135Z"
   },
   {
    "duration": 435,
    "start_time": "2022-05-25T16:11:45.173Z"
   },
   {
    "duration": 310,
    "start_time": "2022-05-25T16:11:45.609Z"
   },
   {
    "duration": 404,
    "start_time": "2022-05-25T16:11:45.921Z"
   },
   {
    "duration": 4,
    "start_time": "2022-05-25T16:11:46.327Z"
   },
   {
    "duration": 261,
    "start_time": "2022-05-25T16:11:46.345Z"
   },
   {
    "duration": 9,
    "start_time": "2022-05-25T16:11:46.608Z"
   },
   {
    "duration": 433,
    "start_time": "2022-05-25T16:11:46.619Z"
   },
   {
    "duration": 21,
    "start_time": "2022-05-25T16:11:47.054Z"
   },
   {
    "duration": 179,
    "start_time": "2022-05-25T16:11:47.080Z"
   },
   {
    "duration": 145,
    "start_time": "2022-05-25T16:11:47.261Z"
   },
   {
    "duration": 4,
    "start_time": "2022-05-25T16:11:47.410Z"
   },
   {
    "duration": 170,
    "start_time": "2022-05-25T16:11:47.416Z"
   },
   {
    "duration": 151,
    "start_time": "2022-05-25T16:11:47.587Z"
   },
   {
    "duration": 11,
    "start_time": "2022-05-25T16:11:47.739Z"
   },
   {
    "duration": 331,
    "start_time": "2022-05-25T16:11:47.751Z"
   },
   {
    "duration": 169,
    "start_time": "2022-05-25T16:11:48.084Z"
   },
   {
    "duration": 10,
    "start_time": "2022-05-25T16:11:48.260Z"
   },
   {
    "duration": 11,
    "start_time": "2022-05-25T16:11:48.271Z"
   },
   {
    "duration": 43,
    "start_time": "2022-05-25T16:11:48.283Z"
   },
   {
    "duration": 10,
    "start_time": "2022-05-25T16:11:48.328Z"
   },
   {
    "duration": 20,
    "start_time": "2022-05-25T16:11:48.339Z"
   },
   {
    "duration": 17,
    "start_time": "2022-05-25T16:11:48.363Z"
   },
   {
    "duration": 10,
    "start_time": "2022-05-25T16:11:48.382Z"
   },
   {
    "duration": 10,
    "start_time": "2022-05-25T16:11:48.393Z"
   },
   {
    "duration": 29,
    "start_time": "2022-05-25T16:11:48.404Z"
   },
   {
    "duration": 20,
    "start_time": "2022-05-25T16:11:48.435Z"
   },
   {
    "duration": 1184,
    "start_time": "2022-05-25T16:13:09.053Z"
   },
   {
    "duration": 81,
    "start_time": "2022-05-25T16:13:10.240Z"
   },
   {
    "duration": 21,
    "start_time": "2022-05-25T16:13:10.322Z"
   },
   {
    "duration": 4,
    "start_time": "2022-05-25T16:13:10.347Z"
   },
   {
    "duration": 20,
    "start_time": "2022-05-25T16:13:10.355Z"
   },
   {
    "duration": 6,
    "start_time": "2022-05-25T16:13:10.376Z"
   },
   {
    "duration": 25,
    "start_time": "2022-05-25T16:13:10.384Z"
   },
   {
    "duration": 9,
    "start_time": "2022-05-25T16:13:10.410Z"
   },
   {
    "duration": 16,
    "start_time": "2022-05-25T16:13:10.421Z"
   },
   {
    "duration": 33,
    "start_time": "2022-05-25T16:13:10.440Z"
   },
   {
    "duration": 11,
    "start_time": "2022-05-25T16:13:10.475Z"
   },
   {
    "duration": 131,
    "start_time": "2022-05-25T16:13:10.488Z"
   },
   {
    "duration": 5,
    "start_time": "2022-05-25T16:13:10.621Z"
   },
   {
    "duration": 191,
    "start_time": "2022-05-25T16:13:10.629Z"
   },
   {
    "duration": 134,
    "start_time": "2022-05-25T16:13:10.822Z"
   },
   {
    "duration": 16,
    "start_time": "2022-05-25T16:13:10.958Z"
   },
   {
    "duration": 390,
    "start_time": "2022-05-25T16:13:10.976Z"
   },
   {
    "duration": 254,
    "start_time": "2022-05-25T16:13:11.368Z"
   },
   {
    "duration": 373,
    "start_time": "2022-05-25T16:13:11.624Z"
   },
   {
    "duration": 5,
    "start_time": "2022-05-25T16:13:11.999Z"
   },
   {
    "duration": 270,
    "start_time": "2022-05-25T16:13:12.006Z"
   },
   {
    "duration": 7,
    "start_time": "2022-05-25T16:13:12.278Z"
   },
   {
    "duration": 342,
    "start_time": "2022-05-25T16:13:12.287Z"
   },
   {
    "duration": 26,
    "start_time": "2022-05-25T16:13:12.631Z"
   },
   {
    "duration": 143,
    "start_time": "2022-05-25T16:13:12.658Z"
   },
   {
    "duration": 130,
    "start_time": "2022-05-25T16:13:12.803Z"
   },
   {
    "duration": 20,
    "start_time": "2022-05-25T16:13:12.935Z"
   },
   {
    "duration": 153,
    "start_time": "2022-05-25T16:13:12.957Z"
   },
   {
    "duration": 147,
    "start_time": "2022-05-25T16:13:13.111Z"
   },
   {
    "duration": 5,
    "start_time": "2022-05-25T16:13:13.260Z"
   },
   {
    "duration": 326,
    "start_time": "2022-05-25T16:13:13.267Z"
   },
   {
    "duration": 162,
    "start_time": "2022-05-25T16:13:13.594Z"
   },
   {
    "duration": 8,
    "start_time": "2022-05-25T16:13:13.757Z"
   },
   {
    "duration": 6,
    "start_time": "2022-05-25T16:13:13.766Z"
   },
   {
    "duration": 29,
    "start_time": "2022-05-25T16:13:13.774Z"
   },
   {
    "duration": 10,
    "start_time": "2022-05-25T16:13:13.804Z"
   },
   {
    "duration": 11,
    "start_time": "2022-05-25T16:13:13.815Z"
   },
   {
    "duration": 19,
    "start_time": "2022-05-25T16:13:13.828Z"
   },
   {
    "duration": 16,
    "start_time": "2022-05-25T16:13:13.848Z"
   },
   {
    "duration": 8,
    "start_time": "2022-05-25T16:13:13.866Z"
   },
   {
    "duration": 27,
    "start_time": "2022-05-25T16:13:13.877Z"
   },
   {
    "duration": 14,
    "start_time": "2022-05-25T16:13:13.906Z"
   },
   {
    "duration": 1298,
    "start_time": "2022-05-26T04:30:17.158Z"
   },
   {
    "duration": 195,
    "start_time": "2022-05-26T04:30:18.458Z"
   },
   {
    "duration": 19,
    "start_time": "2022-05-26T04:30:18.655Z"
   },
   {
    "duration": 3,
    "start_time": "2022-05-26T04:30:18.676Z"
   },
   {
    "duration": 16,
    "start_time": "2022-05-26T04:30:18.681Z"
   },
   {
    "duration": 7,
    "start_time": "2022-05-26T04:30:18.699Z"
   },
   {
    "duration": 17,
    "start_time": "2022-05-26T04:30:18.708Z"
   },
   {
    "duration": 3,
    "start_time": "2022-05-26T04:30:18.726Z"
   },
   {
    "duration": 11,
    "start_time": "2022-05-26T04:30:18.731Z"
   },
   {
    "duration": 11,
    "start_time": "2022-05-26T04:30:18.744Z"
   },
   {
    "duration": 10,
    "start_time": "2022-05-26T04:30:18.756Z"
   },
   {
    "duration": 181,
    "start_time": "2022-05-26T04:30:18.768Z"
   },
   {
    "duration": 5,
    "start_time": "2022-05-26T04:30:18.950Z"
   },
   {
    "duration": 180,
    "start_time": "2022-05-26T04:30:18.957Z"
   },
   {
    "duration": 120,
    "start_time": "2022-05-26T04:30:19.139Z"
   },
   {
    "duration": 15,
    "start_time": "2022-05-26T04:30:19.260Z"
   },
   {
    "duration": 347,
    "start_time": "2022-05-26T04:30:19.295Z"
   },
   {
    "duration": 232,
    "start_time": "2022-05-26T04:30:19.644Z"
   },
   {
    "duration": 389,
    "start_time": "2022-05-26T04:30:19.878Z"
   },
   {
    "duration": 4,
    "start_time": "2022-05-26T04:30:20.269Z"
   },
   {
    "duration": 221,
    "start_time": "2022-05-26T04:30:20.275Z"
   },
   {
    "duration": 8,
    "start_time": "2022-05-26T04:30:20.498Z"
   },
   {
    "duration": 349,
    "start_time": "2022-05-26T04:30:20.508Z"
   },
   {
    "duration": 12,
    "start_time": "2022-05-26T04:30:20.859Z"
   },
   {
    "duration": 128,
    "start_time": "2022-05-26T04:30:20.873Z"
   },
   {
    "duration": 121,
    "start_time": "2022-05-26T04:30:21.003Z"
   },
   {
    "duration": 6,
    "start_time": "2022-05-26T04:30:21.125Z"
   },
   {
    "duration": 147,
    "start_time": "2022-05-26T04:30:21.133Z"
   },
   {
    "duration": 124,
    "start_time": "2022-05-26T04:30:21.282Z"
   },
   {
    "duration": 5,
    "start_time": "2022-05-26T04:30:21.408Z"
   },
   {
    "duration": 316,
    "start_time": "2022-05-26T04:30:21.414Z"
   },
   {
    "duration": 126,
    "start_time": "2022-05-26T04:30:21.732Z"
   },
   {
    "duration": 6,
    "start_time": "2022-05-26T04:30:21.860Z"
   },
   {
    "duration": 39,
    "start_time": "2022-05-26T04:30:21.868Z"
   },
   {
    "duration": 36,
    "start_time": "2022-05-26T04:30:21.909Z"
   },
   {
    "duration": 10,
    "start_time": "2022-05-26T04:30:21.947Z"
   },
   {
    "duration": 17,
    "start_time": "2022-05-26T04:30:21.958Z"
   },
   {
    "duration": 23,
    "start_time": "2022-05-26T04:30:21.976Z"
   },
   {
    "duration": 24,
    "start_time": "2022-05-26T04:30:22.001Z"
   },
   {
    "duration": 17,
    "start_time": "2022-05-26T04:30:22.027Z"
   },
   {
    "duration": 43,
    "start_time": "2022-05-26T04:30:22.046Z"
   },
   {
    "duration": 15,
    "start_time": "2022-05-26T04:30:22.091Z"
   },
   {
    "duration": 1390,
    "start_time": "2022-05-26T09:50:34.902Z"
   },
   {
    "duration": 190,
    "start_time": "2022-05-26T09:50:36.295Z"
   },
   {
    "duration": 37,
    "start_time": "2022-05-26T09:50:36.488Z"
   },
   {
    "duration": 4,
    "start_time": "2022-05-26T09:50:36.526Z"
   },
   {
    "duration": 23,
    "start_time": "2022-05-26T09:50:36.536Z"
   },
   {
    "duration": 6,
    "start_time": "2022-05-26T09:50:36.562Z"
   },
   {
    "duration": 27,
    "start_time": "2022-05-26T09:50:36.594Z"
   },
   {
    "duration": 5,
    "start_time": "2022-05-26T09:50:36.623Z"
   },
   {
    "duration": 12,
    "start_time": "2022-05-26T09:50:36.630Z"
   },
   {
    "duration": 13,
    "start_time": "2022-05-26T09:50:36.644Z"
   },
   {
    "duration": 52,
    "start_time": "2022-05-26T09:50:36.659Z"
   },
   {
    "duration": 170,
    "start_time": "2022-05-26T09:50:36.712Z"
   },
   {
    "duration": 6,
    "start_time": "2022-05-26T09:50:36.884Z"
   },
   {
    "duration": 226,
    "start_time": "2022-05-26T09:50:36.898Z"
   },
   {
    "duration": 142,
    "start_time": "2022-05-26T09:50:37.132Z"
   },
   {
    "duration": 30,
    "start_time": "2022-05-26T09:50:37.275Z"
   },
   {
    "duration": 387,
    "start_time": "2022-05-26T09:50:37.312Z"
   },
   {
    "duration": 257,
    "start_time": "2022-05-26T09:50:37.710Z"
   },
   {
    "duration": 469,
    "start_time": "2022-05-26T09:50:37.968Z"
   },
   {
    "duration": 5,
    "start_time": "2022-05-26T09:50:38.439Z"
   },
   {
    "duration": 267,
    "start_time": "2022-05-26T09:50:38.446Z"
   },
   {
    "duration": 9,
    "start_time": "2022-05-26T09:50:38.716Z"
   },
   {
    "duration": 419,
    "start_time": "2022-05-26T09:50:38.727Z"
   },
   {
    "duration": 18,
    "start_time": "2022-05-26T09:50:39.148Z"
   },
   {
    "duration": 184,
    "start_time": "2022-05-26T09:50:39.168Z"
   },
   {
    "duration": 184,
    "start_time": "2022-05-26T09:50:39.354Z"
   },
   {
    "duration": 5,
    "start_time": "2022-05-26T09:50:39.540Z"
   },
   {
    "duration": 172,
    "start_time": "2022-05-26T09:50:39.547Z"
   },
   {
    "duration": 140,
    "start_time": "2022-05-26T09:50:39.721Z"
   },
   {
    "duration": 5,
    "start_time": "2022-05-26T09:50:39.863Z"
   },
   {
    "duration": 346,
    "start_time": "2022-05-26T09:50:39.870Z"
   },
   {
    "duration": 162,
    "start_time": "2022-05-26T09:50:40.218Z"
   },
   {
    "duration": 23,
    "start_time": "2022-05-26T09:50:40.382Z"
   },
   {
    "duration": 36,
    "start_time": "2022-05-26T09:50:40.409Z"
   },
   {
    "duration": 53,
    "start_time": "2022-05-26T09:50:40.447Z"
   },
   {
    "duration": 13,
    "start_time": "2022-05-26T09:50:40.504Z"
   },
   {
    "duration": 14,
    "start_time": "2022-05-26T09:50:40.519Z"
   },
   {
    "duration": 15,
    "start_time": "2022-05-26T09:50:40.535Z"
   },
   {
    "duration": 7,
    "start_time": "2022-05-26T09:50:40.552Z"
   },
   {
    "duration": 9,
    "start_time": "2022-05-26T09:50:40.561Z"
   },
   {
    "duration": 65,
    "start_time": "2022-05-26T09:50:40.574Z"
   },
   {
    "duration": 24,
    "start_time": "2022-05-26T09:50:40.641Z"
   },
   {
    "duration": 1322,
    "start_time": "2022-05-27T02:10:07.291Z"
   },
   {
    "duration": 195,
    "start_time": "2022-05-27T02:10:08.616Z"
   },
   {
    "duration": 21,
    "start_time": "2022-05-27T02:10:08.812Z"
   },
   {
    "duration": 5,
    "start_time": "2022-05-27T02:10:08.836Z"
   },
   {
    "duration": 20,
    "start_time": "2022-05-27T02:10:08.843Z"
   },
   {
    "duration": 12,
    "start_time": "2022-05-27T02:10:08.865Z"
   },
   {
    "duration": 20,
    "start_time": "2022-05-27T02:10:08.878Z"
   },
   {
    "duration": 4,
    "start_time": "2022-05-27T02:10:08.900Z"
   },
   {
    "duration": 41,
    "start_time": "2022-05-27T02:10:08.906Z"
   },
   {
    "duration": 16,
    "start_time": "2022-05-27T02:10:08.950Z"
   },
   {
    "duration": 11,
    "start_time": "2022-05-27T02:10:08.968Z"
   },
   {
    "duration": 136,
    "start_time": "2022-05-27T02:10:08.981Z"
   },
   {
    "duration": 11,
    "start_time": "2022-05-27T02:10:09.118Z"
   },
   {
    "duration": 194,
    "start_time": "2022-05-27T02:10:09.130Z"
   },
   {
    "duration": 131,
    "start_time": "2022-05-27T02:10:09.325Z"
   },
   {
    "duration": 17,
    "start_time": "2022-05-27T02:10:09.457Z"
   },
   {
    "duration": 407,
    "start_time": "2022-05-27T02:10:09.476Z"
   },
   {
    "duration": 258,
    "start_time": "2022-05-27T02:10:09.885Z"
   },
   {
    "duration": 374,
    "start_time": "2022-05-27T02:10:10.145Z"
   },
   {
    "duration": 5,
    "start_time": "2022-05-27T02:10:10.520Z"
   },
   {
    "duration": 270,
    "start_time": "2022-05-27T02:10:10.528Z"
   },
   {
    "duration": 10,
    "start_time": "2022-05-27T02:10:10.800Z"
   },
   {
    "duration": 475,
    "start_time": "2022-05-27T02:10:10.811Z"
   },
   {
    "duration": 15,
    "start_time": "2022-05-27T02:10:11.288Z"
   },
   {
    "duration": 166,
    "start_time": "2022-05-27T02:10:11.305Z"
   },
   {
    "duration": 171,
    "start_time": "2022-05-27T02:10:11.473Z"
   },
   {
    "duration": 11,
    "start_time": "2022-05-27T02:10:11.647Z"
   },
   {
    "duration": 214,
    "start_time": "2022-05-27T02:10:11.662Z"
   },
   {
    "duration": 142,
    "start_time": "2022-05-27T02:10:11.877Z"
   },
   {
    "duration": 9,
    "start_time": "2022-05-27T02:10:12.021Z"
   },
   {
    "duration": 357,
    "start_time": "2022-05-27T02:10:12.032Z"
   },
   {
    "duration": 161,
    "start_time": "2022-05-27T02:10:12.391Z"
   },
   {
    "duration": 8,
    "start_time": "2022-05-27T02:10:12.553Z"
   },
   {
    "duration": 27,
    "start_time": "2022-05-27T02:10:12.562Z"
   },
   {
    "duration": 32,
    "start_time": "2022-05-27T02:10:12.590Z"
   },
   {
    "duration": 16,
    "start_time": "2022-05-27T02:10:12.624Z"
   },
   {
    "duration": 10,
    "start_time": "2022-05-27T02:10:12.642Z"
   },
   {
    "duration": 22,
    "start_time": "2022-05-27T02:10:12.653Z"
   },
   {
    "duration": 14,
    "start_time": "2022-05-27T02:10:12.677Z"
   },
   {
    "duration": 19,
    "start_time": "2022-05-27T02:10:12.694Z"
   },
   {
    "duration": 48,
    "start_time": "2022-05-27T02:10:12.716Z"
   },
   {
    "duration": 21,
    "start_time": "2022-05-27T02:10:12.766Z"
   },
   {
    "duration": 14,
    "start_time": "2022-05-27T02:10:41.798Z"
   },
   {
    "duration": 20,
    "start_time": "2022-05-27T02:10:55.347Z"
   },
   {
    "duration": 17,
    "start_time": "2022-05-27T02:11:04.091Z"
   },
   {
    "duration": 8,
    "start_time": "2022-05-27T02:18:17.899Z"
   },
   {
    "duration": 6,
    "start_time": "2022-05-27T02:18:36.708Z"
   },
   {
    "duration": 9,
    "start_time": "2022-05-27T02:18:53.798Z"
   },
   {
    "duration": 21,
    "start_time": "2022-05-27T02:20:25.259Z"
   },
   {
    "duration": 6,
    "start_time": "2022-05-27T02:22:23.506Z"
   },
   {
    "duration": 5,
    "start_time": "2022-05-27T02:22:50.658Z"
   },
   {
    "duration": 6,
    "start_time": "2022-05-27T02:23:00.762Z"
   },
   {
    "duration": 2,
    "start_time": "2022-05-27T02:23:11.771Z"
   },
   {
    "duration": 4,
    "start_time": "2022-05-27T02:23:15.075Z"
   },
   {
    "duration": 10,
    "start_time": "2022-05-27T02:25:29.435Z"
   },
   {
    "duration": 5,
    "start_time": "2022-05-27T02:25:44.168Z"
   },
   {
    "duration": 7,
    "start_time": "2022-05-27T02:27:22.425Z"
   },
   {
    "duration": 7,
    "start_time": "2022-05-27T02:27:32.873Z"
   },
   {
    "duration": 107,
    "start_time": "2022-05-27T02:28:07.954Z"
   },
   {
    "duration": 7,
    "start_time": "2022-05-27T02:28:28.293Z"
   },
   {
    "duration": 11,
    "start_time": "2022-05-27T02:28:38.509Z"
   },
   {
    "duration": 12,
    "start_time": "2022-05-27T02:28:46.941Z"
   },
   {
    "duration": 14,
    "start_time": "2022-05-27T02:29:23.542Z"
   },
   {
    "duration": 7,
    "start_time": "2022-05-27T02:31:19.404Z"
   },
   {
    "duration": 15,
    "start_time": "2022-05-27T02:36:22.771Z"
   },
   {
    "duration": 13,
    "start_time": "2022-05-27T02:36:47.088Z"
   },
   {
    "duration": 13,
    "start_time": "2022-05-27T02:36:54.482Z"
   },
   {
    "duration": 11,
    "start_time": "2022-05-27T02:37:14.947Z"
   },
   {
    "duration": 10,
    "start_time": "2022-05-27T02:37:48.485Z"
   },
   {
    "duration": 10,
    "start_time": "2022-05-27T02:37:55.949Z"
   },
   {
    "duration": 11,
    "start_time": "2022-05-27T02:38:20.293Z"
   },
   {
    "duration": 13,
    "start_time": "2022-05-27T02:38:28.703Z"
   },
   {
    "duration": 12,
    "start_time": "2022-05-27T02:38:51.063Z"
   },
   {
    "duration": 10,
    "start_time": "2022-05-27T02:38:56.576Z"
   },
   {
    "duration": 11,
    "start_time": "2022-05-27T02:40:36.540Z"
   },
   {
    "duration": 11,
    "start_time": "2022-05-27T02:40:56.990Z"
   },
   {
    "duration": 10,
    "start_time": "2022-05-27T02:41:04.038Z"
   },
   {
    "duration": 9,
    "start_time": "2022-05-27T02:44:21.543Z"
   },
   {
    "duration": 10,
    "start_time": "2022-05-27T02:44:28.415Z"
   },
   {
    "duration": 17,
    "start_time": "2022-05-27T02:52:54.630Z"
   },
   {
    "duration": 17,
    "start_time": "2022-05-27T02:53:52.803Z"
   },
   {
    "duration": 15,
    "start_time": "2022-05-27T02:54:43.708Z"
   },
   {
    "duration": 14,
    "start_time": "2022-05-27T02:55:15.807Z"
   },
   {
    "duration": 15,
    "start_time": "2022-05-27T02:55:32.936Z"
   },
   {
    "duration": 15,
    "start_time": "2022-05-27T02:56:00.664Z"
   },
   {
    "duration": 16,
    "start_time": "2022-05-27T02:57:14.971Z"
   },
   {
    "duration": 14,
    "start_time": "2022-05-27T02:58:41.136Z"
   },
   {
    "duration": 7,
    "start_time": "2022-05-27T03:00:50.014Z"
   },
   {
    "duration": 18,
    "start_time": "2022-05-27T03:01:27.749Z"
   },
   {
    "duration": 120,
    "start_time": "2022-05-27T03:05:49.082Z"
   },
   {
    "duration": 23,
    "start_time": "2022-05-27T03:09:40.543Z"
   },
   {
    "duration": 5,
    "start_time": "2022-05-27T03:09:53.305Z"
   },
   {
    "duration": 114,
    "start_time": "2022-05-27T03:10:16.953Z"
   },
   {
    "duration": 189,
    "start_time": "2022-05-27T03:10:54.772Z"
   },
   {
    "duration": 136,
    "start_time": "2022-05-27T03:11:07.050Z"
   },
   {
    "duration": 4,
    "start_time": "2022-05-27T03:20:39.878Z"
   },
   {
    "duration": 3,
    "start_time": "2022-05-27T03:25:42.522Z"
   },
   {
    "duration": 3,
    "start_time": "2022-05-27T03:26:24.600Z"
   },
   {
    "duration": 1222,
    "start_time": "2022-05-27T03:48:28.413Z"
   },
   {
    "duration": 86,
    "start_time": "2022-05-27T03:48:29.637Z"
   },
   {
    "duration": 32,
    "start_time": "2022-05-27T03:48:29.725Z"
   },
   {
    "duration": 12,
    "start_time": "2022-05-27T03:48:29.760Z"
   },
   {
    "duration": 23,
    "start_time": "2022-05-27T03:48:29.774Z"
   },
   {
    "duration": 23,
    "start_time": "2022-05-27T03:48:29.798Z"
   },
   {
    "duration": 42,
    "start_time": "2022-05-27T03:48:29.823Z"
   },
   {
    "duration": 13,
    "start_time": "2022-05-27T03:48:29.867Z"
   },
   {
    "duration": 12,
    "start_time": "2022-05-27T03:48:29.882Z"
   },
   {
    "duration": 21,
    "start_time": "2022-05-27T03:48:29.897Z"
   },
   {
    "duration": 18,
    "start_time": "2022-05-27T03:48:29.920Z"
   },
   {
    "duration": 139,
    "start_time": "2022-05-27T03:48:29.942Z"
   },
   {
    "duration": 16,
    "start_time": "2022-05-27T03:48:30.083Z"
   },
   {
    "duration": 34,
    "start_time": "2022-05-27T03:48:30.101Z"
   },
   {
    "duration": 18,
    "start_time": "2022-05-27T03:48:30.140Z"
   },
   {
    "duration": 207,
    "start_time": "2022-05-27T03:48:30.160Z"
   },
   {
    "duration": 135,
    "start_time": "2022-05-27T03:48:30.368Z"
   },
   {
    "duration": 36,
    "start_time": "2022-05-27T03:48:30.505Z"
   },
   {
    "duration": 480,
    "start_time": "2022-05-27T03:48:30.546Z"
   },
   {
    "duration": 300,
    "start_time": "2022-05-27T03:48:31.029Z"
   },
   {
    "duration": 361,
    "start_time": "2022-05-27T03:48:31.331Z"
   },
   {
    "duration": 5,
    "start_time": "2022-05-27T03:48:31.694Z"
   },
   {
    "duration": 295,
    "start_time": "2022-05-27T03:48:31.702Z"
   },
   {
    "duration": 9,
    "start_time": "2022-05-27T03:48:31.999Z"
   },
   {
    "duration": 405,
    "start_time": "2022-05-27T03:48:32.011Z"
   },
   {
    "duration": 25,
    "start_time": "2022-05-27T03:48:32.419Z"
   },
   {
    "duration": 156,
    "start_time": "2022-05-27T03:48:32.448Z"
   },
   {
    "duration": 144,
    "start_time": "2022-05-27T03:48:32.607Z"
   },
   {
    "duration": 6,
    "start_time": "2022-05-27T03:48:32.753Z"
   },
   {
    "duration": 184,
    "start_time": "2022-05-27T03:48:32.761Z"
   },
   {
    "duration": 135,
    "start_time": "2022-05-27T03:48:32.950Z"
   },
   {
    "duration": 263,
    "start_time": "2022-05-27T03:48:33.087Z"
   },
   {
    "duration": 6,
    "start_time": "2022-05-27T03:48:33.351Z"
   },
   {
    "duration": 253,
    "start_time": "2022-05-27T03:48:33.359Z"
   },
   {
    "duration": 175,
    "start_time": "2022-05-27T03:48:33.614Z"
   },
   {
    "duration": 8,
    "start_time": "2022-05-27T03:48:33.791Z"
   },
   {
    "duration": 13,
    "start_time": "2022-05-27T03:48:33.801Z"
   },
   {
    "duration": 53,
    "start_time": "2022-05-27T03:48:33.816Z"
   },
   {
    "duration": 12,
    "start_time": "2022-05-27T03:48:33.871Z"
   },
   {
    "duration": 6,
    "start_time": "2022-05-27T03:48:33.885Z"
   },
   {
    "duration": 12,
    "start_time": "2022-05-27T03:48:33.892Z"
   },
   {
    "duration": 26,
    "start_time": "2022-05-27T03:48:33.906Z"
   },
   {
    "duration": 35,
    "start_time": "2022-05-27T03:48:33.934Z"
   },
   {
    "duration": 29,
    "start_time": "2022-05-27T03:48:33.971Z"
   },
   {
    "duration": 14,
    "start_time": "2022-05-27T03:48:34.002Z"
   },
   {
    "duration": 1071,
    "start_time": "2022-05-27T22:20:06.215Z"
   },
   {
    "duration": 76,
    "start_time": "2022-05-27T22:20:07.288Z"
   },
   {
    "duration": 18,
    "start_time": "2022-05-27T22:20:07.366Z"
   },
   {
    "duration": 21,
    "start_time": "2022-05-27T22:20:07.386Z"
   },
   {
    "duration": 33,
    "start_time": "2022-05-27T22:20:07.408Z"
   },
   {
    "duration": 13,
    "start_time": "2022-05-27T22:20:07.443Z"
   },
   {
    "duration": 48,
    "start_time": "2022-05-27T22:20:07.457Z"
   },
   {
    "duration": 9,
    "start_time": "2022-05-27T22:20:07.506Z"
   },
   {
    "duration": 33,
    "start_time": "2022-05-27T22:20:07.516Z"
   },
   {
    "duration": 22,
    "start_time": "2022-05-27T22:20:07.552Z"
   },
   {
    "duration": 33,
    "start_time": "2022-05-27T22:20:07.575Z"
   },
   {
    "duration": 124,
    "start_time": "2022-05-27T22:20:07.609Z"
   },
   {
    "duration": 9,
    "start_time": "2022-05-27T22:20:07.735Z"
   },
   {
    "duration": 23,
    "start_time": "2022-05-27T22:20:07.745Z"
   },
   {
    "duration": 34,
    "start_time": "2022-05-27T22:20:07.771Z"
   },
   {
    "duration": 243,
    "start_time": "2022-05-27T22:20:07.809Z"
   },
   {
    "duration": 155,
    "start_time": "2022-05-27T22:20:08.054Z"
   },
   {
    "duration": 14,
    "start_time": "2022-05-27T22:20:08.211Z"
   },
   {
    "duration": 351,
    "start_time": "2022-05-27T22:20:08.226Z"
   },
   {
    "duration": 265,
    "start_time": "2022-05-27T22:20:08.580Z"
   },
   {
    "duration": 426,
    "start_time": "2022-05-27T22:20:08.848Z"
   },
   {
    "duration": 5,
    "start_time": "2022-05-27T22:20:09.276Z"
   },
   {
    "duration": 272,
    "start_time": "2022-05-27T22:20:09.282Z"
   },
   {
    "duration": 8,
    "start_time": "2022-05-27T22:20:09.555Z"
   },
   {
    "duration": 361,
    "start_time": "2022-05-27T22:20:09.565Z"
   },
   {
    "duration": 12,
    "start_time": "2022-05-27T22:20:09.928Z"
   },
   {
    "duration": 145,
    "start_time": "2022-05-27T22:20:09.942Z"
   },
   {
    "duration": 137,
    "start_time": "2022-05-27T22:20:10.092Z"
   },
   {
    "duration": 6,
    "start_time": "2022-05-27T22:20:10.231Z"
   },
   {
    "duration": 171,
    "start_time": "2022-05-27T22:20:10.238Z"
   },
   {
    "duration": 155,
    "start_time": "2022-05-27T22:20:10.411Z"
   },
   {
    "duration": 270,
    "start_time": "2022-05-27T22:20:10.568Z"
   },
   {
    "duration": 5,
    "start_time": "2022-05-27T22:20:10.839Z"
   },
   {
    "duration": 257,
    "start_time": "2022-05-27T22:20:10.846Z"
   },
   {
    "duration": 140,
    "start_time": "2022-05-27T22:20:11.104Z"
   },
   {
    "duration": 20,
    "start_time": "2022-05-27T22:20:11.245Z"
   },
   {
    "duration": 18,
    "start_time": "2022-05-27T22:20:11.267Z"
   },
   {
    "duration": 25,
    "start_time": "2022-05-27T22:20:11.286Z"
   },
   {
    "duration": 9,
    "start_time": "2022-05-27T22:20:11.312Z"
   },
   {
    "duration": 6,
    "start_time": "2022-05-27T22:20:11.323Z"
   },
   {
    "duration": 6,
    "start_time": "2022-05-27T22:20:11.330Z"
   },
   {
    "duration": 23,
    "start_time": "2022-05-27T22:20:11.337Z"
   },
   {
    "duration": 22,
    "start_time": "2022-05-27T22:20:11.362Z"
   },
   {
    "duration": 26,
    "start_time": "2022-05-27T22:20:11.385Z"
   },
   {
    "duration": 13,
    "start_time": "2022-05-27T22:20:11.412Z"
   }
  ],
  "kernelspec": {
   "display_name": "Python 3",
   "language": "python",
   "name": "python3"
  },
  "language_info": {
   "codemirror_mode": {
    "name": "ipython",
    "version": 3
   },
   "file_extension": ".py",
   "mimetype": "text/x-python",
   "name": "python",
   "nbconvert_exporter": "python",
   "pygments_lexer": "ipython3",
   "version": "3.8.5"
  },
  "toc": {
   "base_numbering": 1,
   "nav_menu": {},
   "number_sections": false,
   "sideBar": true,
   "skip_h1_title": false,
   "title_cell": "Table of Contents",
   "title_sidebar": "Contents",
   "toc_cell": false,
   "toc_position": {
    "height": "calc(100% - 180px)",
    "left": "10px",
    "top": "150px",
    "width": "343.011px"
   },
   "toc_section_display": true,
   "toc_window_display": true
  }
 },
 "nbformat": 4,
 "nbformat_minor": 2
}
