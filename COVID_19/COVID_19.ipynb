{
  "cells": [
    {
      "cell_type": "markdown",
      "metadata": {
        "id": "9StIrIuQd5Mp"
      },
      "source": [
        "# Данные о заболеваемости и смертности от COVID-19\n",
        "\n"
      ],
      "id": "9StIrIuQd5Mp"
    },
    {
      "cell_type": "markdown",
      "metadata": {
        "id": "E0BHtBbhecD3"
      },
      "source": [
        "## 0. Загрузка и предобработка данных"
      ],
      "id": "E0BHtBbhecD3"
    },
    {
      "cell_type": "code",
      "execution_count": null,
      "metadata": {
        "id": "pMgm7cGcd51y"
      },
      "outputs": [],
      "source": [
        "#импортируем необходимые библиотеки\n",
        "import pandas as pd\n",
        "import numpy as np\n",
        "from scipy import stats as st\n",
        "import matplotlib.pyplot as plt\n",
        "%matplotlib inline\n",
        "import datetime\n",
        "from datetime import date, datetime, timedelta\n",
        "import seaborn as sns"
      ],
      "id": "pMgm7cGcd51y"
    },
    {
      "cell_type": "code",
      "execution_count": null,
      "metadata": {
        "id": "0dd3be39"
      },
      "outputs": [],
      "source": [
        "data = pd.read_csv('https://covid19.who.int/WHO-COVID-19-global-data.csv') # данные с WHO Coronavirus (COVID-19) Dashboard\n",
        "#data.info()"
      ],
      "id": "0dd3be39"
    },
    {
      "cell_type": "markdown",
      "metadata": {
        "id": "89b974df"
      },
      "source": [
        "### Описание данных: \n",
        "**Date_reported** - дата отчёта, в свой последнея строке - самая последняя дата      \n",
        "**Country_code** - буквенный код страны   \n",
        "**Country** - название страны   \n",
        "**WHO_region** - регион ВОЗ, в который входит страна:  \n",
        "* AFRO - страны Африки  \n",
        "* AMRO - страны Северной, Центральной и Южной Америки   \n",
        "* EMRO - страны Восточного Средиземноморья, Ближнего Востока, Центральной Азии    \n",
        "* EURO - страны Европы   \n",
        "* SEARO - страны Юго-Восточной Азии  \n",
        "* WPRO - страны Западной части Тихого Океана\n",
        "* Other - прочие страны   \n",
        "    \n",
        "**New_cases** - число новых случаев заболевания, ед. (число новых заболевших, чел.)   \n",
        "**Cumulative_cases** - суммарно заболевших, чел.   \n",
        "**New_deaths** - число смертей, ед.   \n",
        "**Cumulative_deaths** - суммарно умерших, ед.       "
      ],
      "id": "89b974df"
    },
    {
      "cell_type": "code",
      "execution_count": null,
      "metadata": {
        "id": "861d29df"
      },
      "outputs": [],
      "source": [
        "# Удалим колонки, не используемые в дальнешем анализе\n",
        "data = data.drop(columns=['Country_code', 'Cumulative_cases', 'Cumulative_deaths']) \n",
        "# Переименуем колонки\n",
        "data.rename(columns={'Country': 'Страна', 'WHO_region': 'Регион', 'New_cases': 'Новые_случаи', 'New_deaths': 'Смерти'}, inplace=True)\n",
        "# Разбираемся с датой отчёта, выделям год и месяц\n",
        "data['Date_reported'] = pd.to_datetime(data['Date_reported'], format='%Y-%m-%d')\n",
        "data['Месяц'] = data['Date_reported'].apply(lambda x: x.month)\n",
        "data['Год'] = data['Date_reported'].apply(lambda x: x.year)\n",
        "data['Год_месяц'] = data['Год'].astype(str) + '-' + data['Месяц'].astype(str)\n",
        "data['Год_месяц'] = pd.to_datetime(data['Год_месяц'], format='%Y-%m').dt.date"
      ],
      "id": "861d29df"
    },
    {
      "cell_type": "markdown",
      "metadata": {
        "id": "S5t5bVxMeYET"
      },
      "source": [
        "---"
      ],
      "id": "S5t5bVxMeYET"
    },
    {
      "cell_type": "markdown",
      "metadata": {
        "id": "f3779965"
      },
      "source": [
        "## 1. Оперативные данные о числе новых выявленных случаев и смертей    \n",
        "В базе доступны данные за день, предыдущий дню обращения (по состянию на 20.04. база работала именно так).   \n",
        "В выходные дни база не обновляется, поэтому для выходных дней и пондельника - выводяться последние доступные данные."
      ],
      "id": "f3779965"
    },
    {
      "cell_type": "code",
      "execution_count": null,
      "metadata": {
        "colab": {
          "base_uri": "https://localhost:8080/"
        },
        "id": "efe985f4",
        "outputId": "f4436323-afee-4157-8512-5cb2810d0637"
      },
      "outputs": [
        {
          "output_type": "stream",
          "name": "stdout",
          "text": [
            "По данным ВОЗ на 2022-07-27\n",
            "------------------------------------------------------------------\n",
            "1019.6 тыс. новых случаев COVID-19 было выявлено в мире\n",
            "------------------------------------------------------------------\n",
            "1.9 тыс. человек умерло от COVID-19\n",
            "------------------------------------------------------------------\n"
          ]
        }
      ],
      "source": [
        "today = date.today().weekday()\n",
        "if today == 0:\n",
        "  tomorrow = date.today() + timedelta(days=-3)\n",
        "elif today == 6:\n",
        "  tomorrow = date.today() + timedelta(days=-2)\n",
        "else:\n",
        "  tomorrow = date.today() + timedelta(days=-1)\n",
        "tomorrow_str = str(tomorrow)\n",
        "tomorrow_new_cases = data.loc[data.loc[:, 'Date_reported'] == tomorrow_str]['Новые_случаи'].sum()\n",
        "tomorrow_new_deaths = data.loc[data.loc[:, 'Date_reported'] == tomorrow_str]['Смерти'].sum()\n",
        "print('По данным ВОЗ на', tomorrow)\n",
        "print('-'*66)\n",
        "print((tomorrow_new_cases/1000).round(1), 'тыс. новых случаев COVID-19 было выявлено в мире')\n",
        "print('-'*66)\n",
        "print((tomorrow_new_deaths/1000).round(1), 'тыс. человек умерло от COVID-19')\n",
        "print('-'*66)"
      ],
      "id": "efe985f4"
    },
    {
      "cell_type": "code",
      "execution_count": null,
      "metadata": {
        "colab": {
          "base_uri": "https://localhost:8080/"
        },
        "id": "aoI8aLr5ZU0g",
        "outputId": "36632104-184c-4714-f1a1-da4e126de963"
      },
      "outputs": [
        {
          "output_type": "stream",
          "name": "stdout",
          "text": [
            "По данным ВОЗ на 2022-07-27\n",
            "------------------------------------------------------------------\n",
            "9.0 тыс. новых случаев COVID-19 было выявлено в России\n",
            "------------------------------------------------------------------\n",
            "0.0 тыс. человек в России умерло от COVID-19\n",
            "------------------------------------------------------------------\n"
          ]
        }
      ],
      "source": [
        "ru_data = data.query('Страна == \"Russian Federation\"')\n",
        "ru_tomorrow_new_cases = ru_data.loc[ru_data.loc[:, 'Date_reported'] == tomorrow_str]['Новые_случаи'].sum()\n",
        "ru_tomorrow_new_deaths = ru_data.loc[ru_data.loc[:, 'Date_reported'] == tomorrow_str]['Смерти'].sum()\n",
        "print('По данным ВОЗ на', tomorrow)\n",
        "print('-'*66)\n",
        "print((ru_tomorrow_new_cases/1000).round(1), 'тыс. новых случаев COVID-19 было выявлено в России')\n",
        "print('-'*66)\n",
        "print((ru_tomorrow_new_deaths/1000).round(1), 'тыс. человек в России умерло от COVID-19')\n",
        "print('-'*66)"
      ],
      "id": "aoI8aLr5ZU0g"
    },
    {
      "cell_type": "markdown",
      "metadata": {
        "id": "LvbDUnwvfWyo"
      },
      "source": [
        "---"
      ],
      "id": "LvbDUnwvfWyo"
    },
    {
      "cell_type": "markdown",
      "metadata": {
        "id": "09662e92"
      },
      "source": [
        "## 2. Годовые данные о числе выявленных новых случаев заболевания и смертности"
      ],
      "id": "09662e92"
    },
    {
      "cell_type": "code",
      "execution_count": null,
      "metadata": {
        "colab": {
          "base_uri": "https://localhost:8080/",
          "height": 178
        },
        "id": "4710fc40",
        "outputId": "42f64ae4-6938-4bd1-d013-d9332b7e9024"
      },
      "outputs": [
        {
          "output_type": "stream",
          "name": "stdout",
          "text": [
            "Число выявленных случаев и смертей за год, ед.\n"
          ]
        },
        {
          "output_type": "display_data",
          "data": {
            "text/plain": [
              "    Год  Новые_случаи   Смерти\n",
              "0  2020      82942485  1928490\n",
              "1  2021     204189882  3521512\n",
              "2  2022     282872650   934126"
            ],
            "text/html": [
              "\n",
              "  <div id=\"df-55672eba-4008-4772-851d-2ded080e5cb4\">\n",
              "    <div class=\"colab-df-container\">\n",
              "      <div>\n",
              "<style scoped>\n",
              "    .dataframe tbody tr th:only-of-type {\n",
              "        vertical-align: middle;\n",
              "    }\n",
              "\n",
              "    .dataframe tbody tr th {\n",
              "        vertical-align: top;\n",
              "    }\n",
              "\n",
              "    .dataframe thead th {\n",
              "        text-align: right;\n",
              "    }\n",
              "</style>\n",
              "<table border=\"1\" class=\"dataframe\">\n",
              "  <thead>\n",
              "    <tr style=\"text-align: right;\">\n",
              "      <th></th>\n",
              "      <th>Год</th>\n",
              "      <th>Новые_случаи</th>\n",
              "      <th>Смерти</th>\n",
              "    </tr>\n",
              "  </thead>\n",
              "  <tbody>\n",
              "    <tr>\n",
              "      <th>0</th>\n",
              "      <td>2020</td>\n",
              "      <td>82942485</td>\n",
              "      <td>1928490</td>\n",
              "    </tr>\n",
              "    <tr>\n",
              "      <th>1</th>\n",
              "      <td>2021</td>\n",
              "      <td>204189882</td>\n",
              "      <td>3521512</td>\n",
              "    </tr>\n",
              "    <tr>\n",
              "      <th>2</th>\n",
              "      <td>2022</td>\n",
              "      <td>282872650</td>\n",
              "      <td>934126</td>\n",
              "    </tr>\n",
              "  </tbody>\n",
              "</table>\n",
              "</div>\n",
              "      <button class=\"colab-df-convert\" onclick=\"convertToInteractive('df-55672eba-4008-4772-851d-2ded080e5cb4')\"\n",
              "              title=\"Convert this dataframe to an interactive table.\"\n",
              "              style=\"display:none;\">\n",
              "        \n",
              "  <svg xmlns=\"http://www.w3.org/2000/svg\" height=\"24px\"viewBox=\"0 0 24 24\"\n",
              "       width=\"24px\">\n",
              "    <path d=\"M0 0h24v24H0V0z\" fill=\"none\"/>\n",
              "    <path d=\"M18.56 5.44l.94 2.06.94-2.06 2.06-.94-2.06-.94-.94-2.06-.94 2.06-2.06.94zm-11 1L8.5 8.5l.94-2.06 2.06-.94-2.06-.94L8.5 2.5l-.94 2.06-2.06.94zm10 10l.94 2.06.94-2.06 2.06-.94-2.06-.94-.94-2.06-.94 2.06-2.06.94z\"/><path d=\"M17.41 7.96l-1.37-1.37c-.4-.4-.92-.59-1.43-.59-.52 0-1.04.2-1.43.59L10.3 9.45l-7.72 7.72c-.78.78-.78 2.05 0 2.83L4 21.41c.39.39.9.59 1.41.59.51 0 1.02-.2 1.41-.59l7.78-7.78 2.81-2.81c.8-.78.8-2.07 0-2.86zM5.41 20L4 18.59l7.72-7.72 1.47 1.35L5.41 20z\"/>\n",
              "  </svg>\n",
              "      </button>\n",
              "      \n",
              "  <style>\n",
              "    .colab-df-container {\n",
              "      display:flex;\n",
              "      flex-wrap:wrap;\n",
              "      gap: 12px;\n",
              "    }\n",
              "\n",
              "    .colab-df-convert {\n",
              "      background-color: #E8F0FE;\n",
              "      border: none;\n",
              "      border-radius: 50%;\n",
              "      cursor: pointer;\n",
              "      display: none;\n",
              "      fill: #1967D2;\n",
              "      height: 32px;\n",
              "      padding: 0 0 0 0;\n",
              "      width: 32px;\n",
              "    }\n",
              "\n",
              "    .colab-df-convert:hover {\n",
              "      background-color: #E2EBFA;\n",
              "      box-shadow: 0px 1px 2px rgba(60, 64, 67, 0.3), 0px 1px 3px 1px rgba(60, 64, 67, 0.15);\n",
              "      fill: #174EA6;\n",
              "    }\n",
              "\n",
              "    [theme=dark] .colab-df-convert {\n",
              "      background-color: #3B4455;\n",
              "      fill: #D2E3FC;\n",
              "    }\n",
              "\n",
              "    [theme=dark] .colab-df-convert:hover {\n",
              "      background-color: #434B5C;\n",
              "      box-shadow: 0px 1px 3px 1px rgba(0, 0, 0, 0.15);\n",
              "      filter: drop-shadow(0px 1px 2px rgba(0, 0, 0, 0.3));\n",
              "      fill: #FFFFFF;\n",
              "    }\n",
              "  </style>\n",
              "\n",
              "      <script>\n",
              "        const buttonEl =\n",
              "          document.querySelector('#df-55672eba-4008-4772-851d-2ded080e5cb4 button.colab-df-convert');\n",
              "        buttonEl.style.display =\n",
              "          google.colab.kernel.accessAllowed ? 'block' : 'none';\n",
              "\n",
              "        async function convertToInteractive(key) {\n",
              "          const element = document.querySelector('#df-55672eba-4008-4772-851d-2ded080e5cb4');\n",
              "          const dataTable =\n",
              "            await google.colab.kernel.invokeFunction('convertToInteractive',\n",
              "                                                     [key], {});\n",
              "          if (!dataTable) return;\n",
              "\n",
              "          const docLinkHtml = 'Like what you see? Visit the ' +\n",
              "            '<a target=\"_blank\" href=https://colab.research.google.com/notebooks/data_table.ipynb>data table notebook</a>'\n",
              "            + ' to learn more about interactive tables.';\n",
              "          element.innerHTML = '';\n",
              "          dataTable['output_type'] = 'display_data';\n",
              "          await google.colab.output.renderOutput(dataTable, element);\n",
              "          const docLink = document.createElement('div');\n",
              "          docLink.innerHTML = docLinkHtml;\n",
              "          element.appendChild(docLink);\n",
              "        }\n",
              "      </script>\n",
              "    </div>\n",
              "  </div>\n",
              "  "
            ]
          },
          "metadata": {}
        },
        {
          "output_type": "stream",
          "name": "stdout",
          "text": [
            "По состянию на 2022-07-27\n"
          ]
        }
      ],
      "source": [
        "print('Число выявленных случаев и смертей за год, ед.')\n",
        "year_new_cases = data.pivot_table(index=['Год'], aggfunc={'Новые_случаи':sum, 'Смерти':sum}).sort_values(by='Год')\n",
        "display((year_new_cases).reset_index())\n",
        "print('По состянию на', tomorrow)"
      ],
      "id": "4710fc40"
    },
    {
      "cell_type": "code",
      "execution_count": null,
      "metadata": {
        "colab": {
          "base_uri": "https://localhost:8080/",
          "height": 362
        },
        "id": "xMRqNDtPTDkO",
        "outputId": "59c9f088-f58e-47dd-fb65-437f13962422"
      },
      "outputs": [
        {
          "output_type": "stream",
          "name": "stdout",
          "text": [
            "Число выявленных случаев за год, ед.\n"
          ]
        },
        {
          "output_type": "display_data",
          "data": {
            "text/plain": [
              "<Figure size 720x360 with 1 Axes>"
            ],
            "image/png": "[encoded data removed]"
          },
          "metadata": {
            "needs_background": "light"
          }
        }
      ],
      "source": [
        "year_new_cases.plot(y='Новые_случаи', kind='bar', figsize=(10, 5), legend=False)\n",
        "plt.xticks(rotation = 0)\n",
        "print('Число выявленных случаев за год, ед.')"
      ],
      "id": "xMRqNDtPTDkO"
    },
    {
      "cell_type": "code",
      "execution_count": null,
      "metadata": {
        "colab": {
          "base_uri": "https://localhost:8080/"
        },
        "id": "n36Ct9UlAfky",
        "outputId": "e764b938-01da-402d-ab6a-a331b007f07c"
      },
      "outputs": [
        {
          "output_type": "execute_result",
          "data": {
            "text/plain": [
              "Новые_случаи    282872650\n",
              "Смерти            3521512\n",
              "dtype: int64"
            ]
          },
          "metadata": {},
          "execution_count": 8
        }
      ],
      "source": [
        "max_elements = year_new_cases.max()\n",
        "max_elements"
      ],
      "id": "n36Ct9UlAfky"
    },
    {
      "cell_type": "code",
      "execution_count": null,
      "metadata": {
        "colab": {
          "base_uri": "https://localhost:8080/",
          "height": 362
        },
        "id": "WtX86p0DsFC_",
        "outputId": "5285f877-8789-4fb2-bebe-edae290464a2"
      },
      "outputs": [
        {
          "output_type": "stream",
          "name": "stdout",
          "text": [
            "Число смертей за год, ед.\n"
          ]
        },
        {
          "output_type": "display_data",
          "data": {
            "text/plain": [
              "<Figure size 720x360 with 1 Axes>"
            ],
            "image/png": "[encoded data removed]"
          },
          "metadata": {
            "needs_background": "light"
          }
        }
      ],
      "source": [
        "year_new_cases.plot(y='Смерти', kind='bar', figsize=(10, 5), legend=False)\n",
        "plt.xticks(rotation = 0)\n",
        "print('Число смертей за год, ед.')"
      ],
      "id": "WtX86p0DsFC_"
    },
    {
      "cell_type": "markdown",
      "metadata": {
        "id": "CIngvwn0fYls"
      },
      "source": [
        "---"
      ],
      "id": "CIngvwn0fYls"
    },
    {
      "cell_type": "markdown",
      "metadata": {
        "id": "d94c56ee"
      },
      "source": [
        "## 3. Число выявленных новых случаев заболевания и смертности в разрезе регионов"
      ],
      "id": "d94c56ee"
    },
    {
      "cell_type": "code",
      "execution_count": null,
      "metadata": {
        "colab": {
          "base_uri": "https://localhost:8080/",
          "height": 742
        },
        "id": "417a9b20",
        "outputId": "da9a7e5c-6ed5-45df-d407-c5c011675946"
      },
      "outputs": [
        {
          "output_type": "stream",
          "name": "stdout",
          "text": [
            "Число выявленных случаев и смертей за год в разрезе регионов, ед. случаев\n"
          ]
        },
        {
          "output_type": "display_data",
          "data": {
            "text/plain": [
              "   Регион   Год  Новые_случаи   Смерти\n",
              "0    AFRO  2020       1900687    42290\n",
              "1    AFRO  2021       5405787   113898\n",
              "2    AFRO  2022       1886964    17775\n",
              "3    AMRO  2020      35795320   956007\n",
              "4    AMRO  2021      68135608  1461335\n",
              "5    AMRO  2022      65410609   366420\n",
              "6    EMRO  2020       4912291   120880\n",
              "7    EMRO  2021      12254676   195342\n",
              "8    EMRO  2022       5391127    28528\n",
              "9    EURO  2022     137331195   361958\n",
              "10   EURO  2021      74911426  1078326\n",
              "11   EURO  2020      27272508   605067\n",
              "12  Other  2020           745       13\n",
              "13  Other  2021            19        0\n",
              "14  Other  2022             0        0\n",
              "15  SEARO  2020      11973259   184188\n",
              "16  SEARO  2021      33001946   536984\n",
              "17  SEARO  2022      14258754    70855\n",
              "18   WPRO  2020       1087675    20045\n",
              "19   WPRO  2021      10480420   135627\n",
              "20   WPRO  2022      58594001    88590"
            ],
            "text/html": [
              "\n",
              "  <div id=\"df-afb17db8-8b79-4541-ac85-5e162fd1920a\">\n",
              "    <div class=\"colab-df-container\">\n",
              "      <div>\n",
              "<style scoped>\n",
              "    .dataframe tbody tr th:only-of-type {\n",
              "        vertical-align: middle;\n",
              "    }\n",
              "\n",
              "    .dataframe tbody tr th {\n",
              "        vertical-align: top;\n",
              "    }\n",
              "\n",
              "    .dataframe thead th {\n",
              "        text-align: right;\n",
              "    }\n",
              "</style>\n",
              "<table border=\"1\" class=\"dataframe\">\n",
              "  <thead>\n",
              "    <tr style=\"text-align: right;\">\n",
              "      <th></th>\n",
              "      <th>Регион</th>\n",
              "      <th>Год</th>\n",
              "      <th>Новые_случаи</th>\n",
              "      <th>Смерти</th>\n",
              "    </tr>\n",
              "  </thead>\n",
              "  <tbody>\n",
              "    <tr>\n",
              "      <th>0</th>\n",
              "      <td>AFRO</td>\n",
              "      <td>2020</td>\n",
              "      <td>1900687</td>\n",
              "      <td>42290</td>\n",
              "    </tr>\n",
              "    <tr>\n",
              "      <th>1</th>\n",
              "      <td>AFRO</td>\n",
              "      <td>2021</td>\n",
              "      <td>5405787</td>\n",
              "      <td>113898</td>\n",
              "    </tr>\n",
              "    <tr>\n",
              "      <th>2</th>\n",
              "      <td>AFRO</td>\n",
              "      <td>2022</td>\n",
              "      <td>1886964</td>\n",
              "      <td>17775</td>\n",
              "    </tr>\n",
              "    <tr>\n",
              "      <th>3</th>\n",
              "      <td>AMRO</td>\n",
              "      <td>2020</td>\n",
              "      <td>35795320</td>\n",
              "      <td>956007</td>\n",
              "    </tr>\n",
              "    <tr>\n",
              "      <th>4</th>\n",
              "      <td>AMRO</td>\n",
              "      <td>2021</td>\n",
              "      <td>68135608</td>\n",
              "      <td>1461335</td>\n",
              "    </tr>\n",
              "    <tr>\n",
              "      <th>5</th>\n",
              "      <td>AMRO</td>\n",
              "      <td>2022</td>\n",
              "      <td>65410609</td>\n",
              "      <td>366420</td>\n",
              "    </tr>\n",
              "    <tr>\n",
              "      <th>6</th>\n",
              "      <td>EMRO</td>\n",
              "      <td>2020</td>\n",
              "      <td>4912291</td>\n",
              "      <td>120880</td>\n",
              "    </tr>\n",
              "    <tr>\n",
              "      <th>7</th>\n",
              "      <td>EMRO</td>\n",
              "      <td>2021</td>\n",
              "      <td>12254676</td>\n",
              "      <td>195342</td>\n",
              "    </tr>\n",
              "    <tr>\n",
              "      <th>8</th>\n",
              "      <td>EMRO</td>\n",
              "      <td>2022</td>\n",
              "      <td>5391127</td>\n",
              "      <td>28528</td>\n",
              "    </tr>\n",
              "    <tr>\n",
              "      <th>9</th>\n",
              "      <td>EURO</td>\n",
              "      <td>2022</td>\n",
              "      <td>137331195</td>\n",
              "      <td>361958</td>\n",
              "    </tr>\n",
              "    <tr>\n",
              "      <th>10</th>\n",
              "      <td>EURO</td>\n",
              "      <td>2021</td>\n",
              "      <td>74911426</td>\n",
              "      <td>1078326</td>\n",
              "    </tr>\n",
              "    <tr>\n",
              "      <th>11</th>\n",
              "      <td>EURO</td>\n",
              "      <td>2020</td>\n",
              "      <td>27272508</td>\n",
              "      <td>605067</td>\n",
              "    </tr>\n",
              "    <tr>\n",
              "      <th>12</th>\n",
              "      <td>Other</td>\n",
              "      <td>2020</td>\n",
              "      <td>745</td>\n",
              "      <td>13</td>\n",
              "    </tr>\n",
              "    <tr>\n",
              "      <th>13</th>\n",
              "      <td>Other</td>\n",
              "      <td>2021</td>\n",
              "      <td>19</td>\n",
              "      <td>0</td>\n",
              "    </tr>\n",
              "    <tr>\n",
              "      <th>14</th>\n",
              "      <td>Other</td>\n",
              "      <td>2022</td>\n",
              "      <td>0</td>\n",
              "      <td>0</td>\n",
              "    </tr>\n",
              "    <tr>\n",
              "      <th>15</th>\n",
              "      <td>SEARO</td>\n",
              "      <td>2020</td>\n",
              "      <td>11973259</td>\n",
              "      <td>184188</td>\n",
              "    </tr>\n",
              "    <tr>\n",
              "      <th>16</th>\n",
              "      <td>SEARO</td>\n",
              "      <td>2021</td>\n",
              "      <td>33001946</td>\n",
              "      <td>536984</td>\n",
              "    </tr>\n",
              "    <tr>\n",
              "      <th>17</th>\n",
              "      <td>SEARO</td>\n",
              "      <td>2022</td>\n",
              "      <td>14258754</td>\n",
              "      <td>70855</td>\n",
              "    </tr>\n",
              "    <tr>\n",
              "      <th>18</th>\n",
              "      <td>WPRO</td>\n",
              "      <td>2020</td>\n",
              "      <td>1087675</td>\n",
              "      <td>20045</td>\n",
              "    </tr>\n",
              "    <tr>\n",
              "      <th>19</th>\n",
              "      <td>WPRO</td>\n",
              "      <td>2021</td>\n",
              "      <td>10480420</td>\n",
              "      <td>135627</td>\n",
              "    </tr>\n",
              "    <tr>\n",
              "      <th>20</th>\n",
              "      <td>WPRO</td>\n",
              "      <td>2022</td>\n",
              "      <td>58594001</td>\n",
              "      <td>88590</td>\n",
              "    </tr>\n",
              "  </tbody>\n",
              "</table>\n",
              "</div>\n",
              "      <button class=\"colab-df-convert\" onclick=\"convertToInteractive('df-afb17db8-8b79-4541-ac85-5e162fd1920a')\"\n",
              "              title=\"Convert this dataframe to an interactive table.\"\n",
              "              style=\"display:none;\">\n",
              "        \n",
              "  <svg xmlns=\"http://www.w3.org/2000/svg\" height=\"24px\"viewBox=\"0 0 24 24\"\n",
              "       width=\"24px\">\n",
              "    <path d=\"M0 0h24v24H0V0z\" fill=\"none\"/>\n",
              "    <path d=\"M18.56 5.44l.94 2.06.94-2.06 2.06-.94-2.06-.94-.94-2.06-.94 2.06-2.06.94zm-11 1L8.5 8.5l.94-2.06 2.06-.94-2.06-.94L8.5 2.5l-.94 2.06-2.06.94zm10 10l.94 2.06.94-2.06 2.06-.94-2.06-.94-.94-2.06-.94 2.06-2.06.94z\"/><path d=\"M17.41 7.96l-1.37-1.37c-.4-.4-.92-.59-1.43-.59-.52 0-1.04.2-1.43.59L10.3 9.45l-7.72 7.72c-.78.78-.78 2.05 0 2.83L4 21.41c.39.39.9.59 1.41.59.51 0 1.02-.2 1.41-.59l7.78-7.78 2.81-2.81c.8-.78.8-2.07 0-2.86zM5.41 20L4 18.59l7.72-7.72 1.47 1.35L5.41 20z\"/>\n",
              "  </svg>\n",
              "      </button>\n",
              "      \n",
              "  <style>\n",
              "    .colab-df-container {\n",
              "      display:flex;\n",
              "      flex-wrap:wrap;\n",
              "      gap: 12px;\n",
              "    }\n",
              "\n",
              "    .colab-df-convert {\n",
              "      background-color: #E8F0FE;\n",
              "      border: none;\n",
              "      border-radius: 50%;\n",
              "      cursor: pointer;\n",
              "      display: none;\n",
              "      fill: #1967D2;\n",
              "      height: 32px;\n",
              "      padding: 0 0 0 0;\n",
              "      width: 32px;\n",
              "    }\n",
              "\n",
              "    .colab-df-convert:hover {\n",
              "      background-color: #E2EBFA;\n",
              "      box-shadow: 0px 1px 2px rgba(60, 64, 67, 0.3), 0px 1px 3px 1px rgba(60, 64, 67, 0.15);\n",
              "      fill: #174EA6;\n",
              "    }\n",
              "\n",
              "    [theme=dark] .colab-df-convert {\n",
              "      background-color: #3B4455;\n",
              "      fill: #D2E3FC;\n",
              "    }\n",
              "\n",
              "    [theme=dark] .colab-df-convert:hover {\n",
              "      background-color: #434B5C;\n",
              "      box-shadow: 0px 1px 3px 1px rgba(0, 0, 0, 0.15);\n",
              "      filter: drop-shadow(0px 1px 2px rgba(0, 0, 0, 0.3));\n",
              "      fill: #FFFFFF;\n",
              "    }\n",
              "  </style>\n",
              "\n",
              "      <script>\n",
              "        const buttonEl =\n",
              "          document.querySelector('#df-afb17db8-8b79-4541-ac85-5e162fd1920a button.colab-df-convert');\n",
              "        buttonEl.style.display =\n",
              "          google.colab.kernel.accessAllowed ? 'block' : 'none';\n",
              "\n",
              "        async function convertToInteractive(key) {\n",
              "          const element = document.querySelector('#df-afb17db8-8b79-4541-ac85-5e162fd1920a');\n",
              "          const dataTable =\n",
              "            await google.colab.kernel.invokeFunction('convertToInteractive',\n",
              "                                                     [key], {});\n",
              "          if (!dataTable) return;\n",
              "\n",
              "          const docLinkHtml = 'Like what you see? Visit the ' +\n",
              "            '<a target=\"_blank\" href=https://colab.research.google.com/notebooks/data_table.ipynb>data table notebook</a>'\n",
              "            + ' to learn more about interactive tables.';\n",
              "          element.innerHTML = '';\n",
              "          dataTable['output_type'] = 'display_data';\n",
              "          await google.colab.output.renderOutput(dataTable, element);\n",
              "          const docLink = document.createElement('div');\n",
              "          docLink.innerHTML = docLinkHtml;\n",
              "          element.appendChild(docLink);\n",
              "        }\n",
              "      </script>\n",
              "    </div>\n",
              "  </div>\n",
              "  "
            ]
          },
          "metadata": {}
        },
        {
          "output_type": "stream",
          "name": "stdout",
          "text": [
            "По состянию на 2022-07-27\n"
          ]
        }
      ],
      "source": [
        "print('Число выявленных случаев и смертей за год в разрезе регионов, ед. случаев')\n",
        "region_new_cases = data.pivot_table(index=['Регион', 'Год'], aggfunc={'Новые_случаи':sum, 'Смерти':sum}).sort_values(by='Регион')\n",
        "display((region_new_cases).reset_index())\n",
        "print('По состянию на', tomorrow)"
      ],
      "id": "417a9b20"
    },
    {
      "cell_type": "code",
      "execution_count": null,
      "metadata": {
        "colab": {
          "base_uri": "https://localhost:8080/",
          "height": 338
        },
        "id": "WPVXxsqzSenI",
        "outputId": "dc791cb3-d543-40a0-c25f-8e50b7acaf16"
      },
      "outputs": [
        {
          "output_type": "stream",
          "name": "stdout",
          "text": [
            "Распределение новых случаев заболевания\n",
            "по регионам, за всё время наблюдений\n"
          ]
        },
        {
          "output_type": "display_data",
          "data": {
            "text/plain": [
              "<Figure size 360x360 with 1 Axes>"
            ],
            "image/png": "[encoded data removed]"
          },
          "metadata": {}
        }
      ],
      "source": [
        "print('Распределение новых случаев заболевания')\n",
        "print('по регионам, за всё время наблюдений')\n",
        "region_year_cases = region_new_cases.pivot_table(index=['Регион'], aggfunc={'Новые_случаи':sum}).sort_values(by='Новые_случаи')\n",
        "region_year_cases.plot(kind='pie', figsize=(5, 5), legend=False, subplots=True)\n",
        "ax = plt.gca()\n",
        "ax.axes.yaxis.set_visible(False)"
      ],
      "id": "WPVXxsqzSenI"
    },
    {
      "cell_type": "code",
      "execution_count": null,
      "metadata": {
        "colab": {
          "base_uri": "https://localhost:8080/",
          "height": 338
        },
        "id": "skBOWuI-SrD0",
        "outputId": "35f4ae28-ee55-4147-976d-32ab94754985"
      },
      "outputs": [
        {
          "output_type": "stream",
          "name": "stdout",
          "text": [
            "Распределение числа смертей по регионам,\n",
            "за всё время наблюдений\n"
          ]
        },
        {
          "output_type": "display_data",
          "data": {
            "text/plain": [
              "<Figure size 360x360 with 1 Axes>"
            ],
            "image/png": "[encoded data removed]"
          },
          "metadata": {}
        }
      ],
      "source": [
        "print('Распределение числа смертей по регионам,')\n",
        "print('за всё время наблюдений')\n",
        "region_year_cases = region_new_cases.pivot_table(index=['Регион'], aggfunc={'Смерти':sum}).sort_values(by='Смерти')\n",
        "region_year_cases.plot(kind='pie', figsize=(5, 5), legend=False, subplots=True)\n",
        "ax = plt.gca()\n",
        "ax.axes.yaxis.set_visible(False)"
      ],
      "id": "skBOWuI-SrD0"
    },
    {
      "cell_type": "markdown",
      "metadata": {
        "id": "tElG4xaifbcX"
      },
      "source": [
        "---"
      ],
      "id": "tElG4xaifbcX"
    },
    {
      "cell_type": "markdown",
      "metadata": {
        "id": "fVWmCoFdfddf"
      },
      "source": [
        "## 4. Число выявленных новых случаев заболевания и смертность в разрезе стран"
      ],
      "id": "fVWmCoFdfddf"
    },
    {
      "cell_type": "markdown",
      "metadata": {
        "id": "2f3e6c2f"
      },
      "source": [
        "### 4.1. Топ-10 стран по числу заболевших за всё время   \n",
        "Выведим топ-10 стран по общему числу зарегестированнх случаев заболевания за всё время."
      ],
      "id": "2f3e6c2f"
    },
    {
      "cell_type": "code",
      "execution_count": null,
      "metadata": {
        "colab": {
          "base_uri": "https://localhost:8080/",
          "height": 398
        },
        "id": "UQxsXaOhDsAG",
        "outputId": "a8b524b9-13cf-4f00-af05-2087a4e61977"
      },
      "outputs": [
        {
          "output_type": "stream",
          "name": "stdout",
          "text": [
            "Топ-10 стран по числу заболевших, ед. случаев\n"
          ]
        },
        {
          "output_type": "display_data",
          "data": {
            "text/plain": [
              "                     Страна  Новые_случаи\n",
              "0  United States of America      89428046\n",
              "1                     India      43938764\n",
              "2                    Brazil      33621965\n",
              "3                    France      32664720\n",
              "4                   Germany      30598385\n",
              "5        The United Kingdom      23213017\n",
              "6                     Italy      20772833\n",
              "7         Republic of Korea      19446946\n",
              "8        Russian Federation      18554036\n",
              "9                   Türkiye      15524071"
            ],
            "text/html": [
              "\n",
              "  <div id=\"df-4b0be2bb-d32e-4ba0-8549-fd6102c911d8\">\n",
              "    <div class=\"colab-df-container\">\n",
              "      <div>\n",
              "<style scoped>\n",
              "    .dataframe tbody tr th:only-of-type {\n",
              "        vertical-align: middle;\n",
              "    }\n",
              "\n",
              "    .dataframe tbody tr th {\n",
              "        vertical-align: top;\n",
              "    }\n",
              "\n",
              "    .dataframe thead th {\n",
              "        text-align: right;\n",
              "    }\n",
              "</style>\n",
              "<table border=\"1\" class=\"dataframe\">\n",
              "  <thead>\n",
              "    <tr style=\"text-align: right;\">\n",
              "      <th></th>\n",
              "      <th>Страна</th>\n",
              "      <th>Новые_случаи</th>\n",
              "    </tr>\n",
              "  </thead>\n",
              "  <tbody>\n",
              "    <tr>\n",
              "      <th>0</th>\n",
              "      <td>United States of America</td>\n",
              "      <td>89428046</td>\n",
              "    </tr>\n",
              "    <tr>\n",
              "      <th>1</th>\n",
              "      <td>India</td>\n",
              "      <td>43938764</td>\n",
              "    </tr>\n",
              "    <tr>\n",
              "      <th>2</th>\n",
              "      <td>Brazil</td>\n",
              "      <td>33621965</td>\n",
              "    </tr>\n",
              "    <tr>\n",
              "      <th>3</th>\n",
              "      <td>France</td>\n",
              "      <td>32664720</td>\n",
              "    </tr>\n",
              "    <tr>\n",
              "      <th>4</th>\n",
              "      <td>Germany</td>\n",
              "      <td>30598385</td>\n",
              "    </tr>\n",
              "    <tr>\n",
              "      <th>5</th>\n",
              "      <td>The United Kingdom</td>\n",
              "      <td>23213017</td>\n",
              "    </tr>\n",
              "    <tr>\n",
              "      <th>6</th>\n",
              "      <td>Italy</td>\n",
              "      <td>20772833</td>\n",
              "    </tr>\n",
              "    <tr>\n",
              "      <th>7</th>\n",
              "      <td>Republic of Korea</td>\n",
              "      <td>19446946</td>\n",
              "    </tr>\n",
              "    <tr>\n",
              "      <th>8</th>\n",
              "      <td>Russian Federation</td>\n",
              "      <td>18554036</td>\n",
              "    </tr>\n",
              "    <tr>\n",
              "      <th>9</th>\n",
              "      <td>Türkiye</td>\n",
              "      <td>15524071</td>\n",
              "    </tr>\n",
              "  </tbody>\n",
              "</table>\n",
              "</div>\n",
              "      <button class=\"colab-df-convert\" onclick=\"convertToInteractive('df-4b0be2bb-d32e-4ba0-8549-fd6102c911d8')\"\n",
              "              title=\"Convert this dataframe to an interactive table.\"\n",
              "              style=\"display:none;\">\n",
              "        \n",
              "  <svg xmlns=\"http://www.w3.org/2000/svg\" height=\"24px\"viewBox=\"0 0 24 24\"\n",
              "       width=\"24px\">\n",
              "    <path d=\"M0 0h24v24H0V0z\" fill=\"none\"/>\n",
              "    <path d=\"M18.56 5.44l.94 2.06.94-2.06 2.06-.94-2.06-.94-.94-2.06-.94 2.06-2.06.94zm-11 1L8.5 8.5l.94-2.06 2.06-.94-2.06-.94L8.5 2.5l-.94 2.06-2.06.94zm10 10l.94 2.06.94-2.06 2.06-.94-2.06-.94-.94-2.06-.94 2.06-2.06.94z\"/><path d=\"M17.41 7.96l-1.37-1.37c-.4-.4-.92-.59-1.43-.59-.52 0-1.04.2-1.43.59L10.3 9.45l-7.72 7.72c-.78.78-.78 2.05 0 2.83L4 21.41c.39.39.9.59 1.41.59.51 0 1.02-.2 1.41-.59l7.78-7.78 2.81-2.81c.8-.78.8-2.07 0-2.86zM5.41 20L4 18.59l7.72-7.72 1.47 1.35L5.41 20z\"/>\n",
              "  </svg>\n",
              "      </button>\n",
              "      \n",
              "  <style>\n",
              "    .colab-df-container {\n",
              "      display:flex;\n",
              "      flex-wrap:wrap;\n",
              "      gap: 12px;\n",
              "    }\n",
              "\n",
              "    .colab-df-convert {\n",
              "      background-color: #E8F0FE;\n",
              "      border: none;\n",
              "      border-radius: 50%;\n",
              "      cursor: pointer;\n",
              "      display: none;\n",
              "      fill: #1967D2;\n",
              "      height: 32px;\n",
              "      padding: 0 0 0 0;\n",
              "      width: 32px;\n",
              "    }\n",
              "\n",
              "    .colab-df-convert:hover {\n",
              "      background-color: #E2EBFA;\n",
              "      box-shadow: 0px 1px 2px rgba(60, 64, 67, 0.3), 0px 1px 3px 1px rgba(60, 64, 67, 0.15);\n",
              "      fill: #174EA6;\n",
              "    }\n",
              "\n",
              "    [theme=dark] .colab-df-convert {\n",
              "      background-color: #3B4455;\n",
              "      fill: #D2E3FC;\n",
              "    }\n",
              "\n",
              "    [theme=dark] .colab-df-convert:hover {\n",
              "      background-color: #434B5C;\n",
              "      box-shadow: 0px 1px 3px 1px rgba(0, 0, 0, 0.15);\n",
              "      filter: drop-shadow(0px 1px 2px rgba(0, 0, 0, 0.3));\n",
              "      fill: #FFFFFF;\n",
              "    }\n",
              "  </style>\n",
              "\n",
              "      <script>\n",
              "        const buttonEl =\n",
              "          document.querySelector('#df-4b0be2bb-d32e-4ba0-8549-fd6102c911d8 button.colab-df-convert');\n",
              "        buttonEl.style.display =\n",
              "          google.colab.kernel.accessAllowed ? 'block' : 'none';\n",
              "\n",
              "        async function convertToInteractive(key) {\n",
              "          const element = document.querySelector('#df-4b0be2bb-d32e-4ba0-8549-fd6102c911d8');\n",
              "          const dataTable =\n",
              "            await google.colab.kernel.invokeFunction('convertToInteractive',\n",
              "                                                     [key], {});\n",
              "          if (!dataTable) return;\n",
              "\n",
              "          const docLinkHtml = 'Like what you see? Visit the ' +\n",
              "            '<a target=\"_blank\" href=https://colab.research.google.com/notebooks/data_table.ipynb>data table notebook</a>'\n",
              "            + ' to learn more about interactive tables.';\n",
              "          element.innerHTML = '';\n",
              "          dataTable['output_type'] = 'display_data';\n",
              "          await google.colab.output.renderOutput(dataTable, element);\n",
              "          const docLink = document.createElement('div');\n",
              "          docLink.innerHTML = docLinkHtml;\n",
              "          element.appendChild(docLink);\n",
              "        }\n",
              "      </script>\n",
              "    </div>\n",
              "  </div>\n",
              "  "
            ]
          },
          "metadata": {}
        },
        {
          "output_type": "stream",
          "name": "stdout",
          "text": [
            "По состянию на 2022-07-27\n"
          ]
        }
      ],
      "source": [
        "print('Топ-10 стран по числу заболевших, ед. случаев')\n",
        "country_new_cases = data.pivot_table(index=['Страна'], aggfunc={'Новые_случаи':sum}).nlargest(10, columns='Новые_случаи')\n",
        "display((country_new_cases).reset_index())\n",
        "print('По состянию на', tomorrow)"
      ],
      "id": "UQxsXaOhDsAG"
    },
    {
      "cell_type": "markdown",
      "metadata": {
        "id": "164fdedc"
      },
      "source": [
        "### 4.2. Топ-10 стран по числу умерших за всё время   \n",
        "1. Выведем топ-10 стран по числу умерших за всё время наблюдений.   \n",
        "1. Посчитаем долю умерших от общего числа заболевших - уровень летальности (% умерших от общего числа счлучаев заболевания)."
      ],
      "id": "164fdedc"
    },
    {
      "cell_type": "code",
      "execution_count": null,
      "metadata": {
        "colab": {
          "base_uri": "https://localhost:8080/",
          "height": 398
        },
        "id": "f0ac8ff8",
        "outputId": "f3a8db8a-03a9-4a00-8a69-add7042bc427"
      },
      "outputs": [
        {
          "output_type": "stream",
          "name": "stdout",
          "text": [
            "Топ-10 стран по числу умерших, ед. случаев\n"
          ]
        },
        {
          "output_type": "display_data",
          "data": {
            "text/plain": [
              "                     Страна  Новые_случаи   Смерти  Летальность, %\n",
              "0  United States of America      89428046  1017366            1.14\n",
              "1                    Brazil      33621965   677143            2.01\n",
              "2                     India      43938764   526167            1.20\n",
              "3        Russian Federation      18554036   382272            2.06\n",
              "4                    Mexico       6628541   327109            4.93\n",
              "5                      Peru       3845093   214071            5.57\n",
              "6        The United Kingdom      23213017   182727            0.79\n",
              "7                     Italy      20772833   171232            0.82\n",
              "8                 Indonesia       6178873   156929            2.54\n",
              "9                    France      32664720   148254            0.45"
            ],
            "text/html": [
              "\n",
              "  <div id=\"df-1e704087-910b-464b-a4c7-283f47c87cb8\">\n",
              "    <div class=\"colab-df-container\">\n",
              "      <div>\n",
              "<style scoped>\n",
              "    .dataframe tbody tr th:only-of-type {\n",
              "        vertical-align: middle;\n",
              "    }\n",
              "\n",
              "    .dataframe tbody tr th {\n",
              "        vertical-align: top;\n",
              "    }\n",
              "\n",
              "    .dataframe thead th {\n",
              "        text-align: right;\n",
              "    }\n",
              "</style>\n",
              "<table border=\"1\" class=\"dataframe\">\n",
              "  <thead>\n",
              "    <tr style=\"text-align: right;\">\n",
              "      <th></th>\n",
              "      <th>Страна</th>\n",
              "      <th>Новые_случаи</th>\n",
              "      <th>Смерти</th>\n",
              "      <th>Летальность, %</th>\n",
              "    </tr>\n",
              "  </thead>\n",
              "  <tbody>\n",
              "    <tr>\n",
              "      <th>0</th>\n",
              "      <td>United States of America</td>\n",
              "      <td>89428046</td>\n",
              "      <td>1017366</td>\n",
              "      <td>1.14</td>\n",
              "    </tr>\n",
              "    <tr>\n",
              "      <th>1</th>\n",
              "      <td>Brazil</td>\n",
              "      <td>33621965</td>\n",
              "      <td>677143</td>\n",
              "      <td>2.01</td>\n",
              "    </tr>\n",
              "    <tr>\n",
              "      <th>2</th>\n",
              "      <td>India</td>\n",
              "      <td>43938764</td>\n",
              "      <td>526167</td>\n",
              "      <td>1.20</td>\n",
              "    </tr>\n",
              "    <tr>\n",
              "      <th>3</th>\n",
              "      <td>Russian Federation</td>\n",
              "      <td>18554036</td>\n",
              "      <td>382272</td>\n",
              "      <td>2.06</td>\n",
              "    </tr>\n",
              "    <tr>\n",
              "      <th>4</th>\n",
              "      <td>Mexico</td>\n",
              "      <td>6628541</td>\n",
              "      <td>327109</td>\n",
              "      <td>4.93</td>\n",
              "    </tr>\n",
              "    <tr>\n",
              "      <th>5</th>\n",
              "      <td>Peru</td>\n",
              "      <td>3845093</td>\n",
              "      <td>214071</td>\n",
              "      <td>5.57</td>\n",
              "    </tr>\n",
              "    <tr>\n",
              "      <th>6</th>\n",
              "      <td>The United Kingdom</td>\n",
              "      <td>23213017</td>\n",
              "      <td>182727</td>\n",
              "      <td>0.79</td>\n",
              "    </tr>\n",
              "    <tr>\n",
              "      <th>7</th>\n",
              "      <td>Italy</td>\n",
              "      <td>20772833</td>\n",
              "      <td>171232</td>\n",
              "      <td>0.82</td>\n",
              "    </tr>\n",
              "    <tr>\n",
              "      <th>8</th>\n",
              "      <td>Indonesia</td>\n",
              "      <td>6178873</td>\n",
              "      <td>156929</td>\n",
              "      <td>2.54</td>\n",
              "    </tr>\n",
              "    <tr>\n",
              "      <th>9</th>\n",
              "      <td>France</td>\n",
              "      <td>32664720</td>\n",
              "      <td>148254</td>\n",
              "      <td>0.45</td>\n",
              "    </tr>\n",
              "  </tbody>\n",
              "</table>\n",
              "</div>\n",
              "      <button class=\"colab-df-convert\" onclick=\"convertToInteractive('df-1e704087-910b-464b-a4c7-283f47c87cb8')\"\n",
              "              title=\"Convert this dataframe to an interactive table.\"\n",
              "              style=\"display:none;\">\n",
              "        \n",
              "  <svg xmlns=\"http://www.w3.org/2000/svg\" height=\"24px\"viewBox=\"0 0 24 24\"\n",
              "       width=\"24px\">\n",
              "    <path d=\"M0 0h24v24H0V0z\" fill=\"none\"/>\n",
              "    <path d=\"M18.56 5.44l.94 2.06.94-2.06 2.06-.94-2.06-.94-.94-2.06-.94 2.06-2.06.94zm-11 1L8.5 8.5l.94-2.06 2.06-.94-2.06-.94L8.5 2.5l-.94 2.06-2.06.94zm10 10l.94 2.06.94-2.06 2.06-.94-2.06-.94-.94-2.06-.94 2.06-2.06.94z\"/><path d=\"M17.41 7.96l-1.37-1.37c-.4-.4-.92-.59-1.43-.59-.52 0-1.04.2-1.43.59L10.3 9.45l-7.72 7.72c-.78.78-.78 2.05 0 2.83L4 21.41c.39.39.9.59 1.41.59.51 0 1.02-.2 1.41-.59l7.78-7.78 2.81-2.81c.8-.78.8-2.07 0-2.86zM5.41 20L4 18.59l7.72-7.72 1.47 1.35L5.41 20z\"/>\n",
              "  </svg>\n",
              "      </button>\n",
              "      \n",
              "  <style>\n",
              "    .colab-df-container {\n",
              "      display:flex;\n",
              "      flex-wrap:wrap;\n",
              "      gap: 12px;\n",
              "    }\n",
              "\n",
              "    .colab-df-convert {\n",
              "      background-color: #E8F0FE;\n",
              "      border: none;\n",
              "      border-radius: 50%;\n",
              "      cursor: pointer;\n",
              "      display: none;\n",
              "      fill: #1967D2;\n",
              "      height: 32px;\n",
              "      padding: 0 0 0 0;\n",
              "      width: 32px;\n",
              "    }\n",
              "\n",
              "    .colab-df-convert:hover {\n",
              "      background-color: #E2EBFA;\n",
              "      box-shadow: 0px 1px 2px rgba(60, 64, 67, 0.3), 0px 1px 3px 1px rgba(60, 64, 67, 0.15);\n",
              "      fill: #174EA6;\n",
              "    }\n",
              "\n",
              "    [theme=dark] .colab-df-convert {\n",
              "      background-color: #3B4455;\n",
              "      fill: #D2E3FC;\n",
              "    }\n",
              "\n",
              "    [theme=dark] .colab-df-convert:hover {\n",
              "      background-color: #434B5C;\n",
              "      box-shadow: 0px 1px 3px 1px rgba(0, 0, 0, 0.15);\n",
              "      filter: drop-shadow(0px 1px 2px rgba(0, 0, 0, 0.3));\n",
              "      fill: #FFFFFF;\n",
              "    }\n",
              "  </style>\n",
              "\n",
              "      <script>\n",
              "        const buttonEl =\n",
              "          document.querySelector('#df-1e704087-910b-464b-a4c7-283f47c87cb8 button.colab-df-convert');\n",
              "        buttonEl.style.display =\n",
              "          google.colab.kernel.accessAllowed ? 'block' : 'none';\n",
              "\n",
              "        async function convertToInteractive(key) {\n",
              "          const element = document.querySelector('#df-1e704087-910b-464b-a4c7-283f47c87cb8');\n",
              "          const dataTable =\n",
              "            await google.colab.kernel.invokeFunction('convertToInteractive',\n",
              "                                                     [key], {});\n",
              "          if (!dataTable) return;\n",
              "\n",
              "          const docLinkHtml = 'Like what you see? Visit the ' +\n",
              "            '<a target=\"_blank\" href=https://colab.research.google.com/notebooks/data_table.ipynb>data table notebook</a>'\n",
              "            + ' to learn more about interactive tables.';\n",
              "          element.innerHTML = '';\n",
              "          dataTable['output_type'] = 'display_data';\n",
              "          await google.colab.output.renderOutput(dataTable, element);\n",
              "          const docLink = document.createElement('div');\n",
              "          docLink.innerHTML = docLinkHtml;\n",
              "          element.appendChild(docLink);\n",
              "        }\n",
              "      </script>\n",
              "    </div>\n",
              "  </div>\n",
              "  "
            ]
          },
          "metadata": {}
        },
        {
          "output_type": "stream",
          "name": "stdout",
          "text": [
            "По состянию на 2022-07-27\n"
          ]
        }
      ],
      "source": [
        "print('Топ-10 стран по числу умерших, ед. случаев')\n",
        "country_deaths = data.pivot_table(index=['Страна'], aggfunc={'Смерти':sum,'Новые_случаи':sum}).nlargest(10, columns='Смерти')\n",
        "country_deaths['Летальность, %'] = ((country_deaths['Смерти']/country_deaths['Новые_случаи'])*100).round(2)\n",
        "display((country_deaths).reset_index())\n",
        "print('По состянию на', tomorrow)"
      ],
      "id": "f0ac8ff8"
    },
    {
      "cell_type": "markdown",
      "metadata": {
        "id": "9810fed7"
      },
      "source": [
        "### 4.3. Топ-10 стран по уровню смертности за всё время     \n",
        " Выведем топ-10 стран по ранее расчитанному уровню летальности."
      ],
      "id": "9810fed7"
    },
    {
      "cell_type": "code",
      "execution_count": null,
      "metadata": {
        "colab": {
          "base_uri": "https://localhost:8080/",
          "height": 398
        },
        "id": "c3a16056",
        "outputId": "3888e29a-2a57-4290-a4c6-38d7c9e81fa2"
      },
      "outputs": [
        {
          "output_type": "stream",
          "name": "stdout",
          "text": [
            "Топ-10 стран по уровню смертности\n"
          ]
        },
        {
          "output_type": "display_data",
          "data": {
            "text/plain": [
              "                     Страна  Новые_случаи   Смерти  Летальность, %\n",
              "0                      Peru       3845093   214071            5.57\n",
              "1                    Mexico       6628541   327109            4.93\n",
              "2                 Indonesia       6178873   156929            2.54\n",
              "3        Russian Federation      18554036   382272            2.06\n",
              "4                    Brazil      33621965   677143            2.01\n",
              "5                     India      43938764   526167            1.20\n",
              "6  United States of America      89428046  1017366            1.14\n",
              "7                     Italy      20772833   171232            0.82\n",
              "8        The United Kingdom      23213017   182727            0.79\n",
              "9                    France      32664720   148254            0.45"
            ],
            "text/html": [
              "\n",
              "  <div id=\"df-e4e5d212-b0fd-4c04-9b32-4510a8386adb\">\n",
              "    <div class=\"colab-df-container\">\n",
              "      <div>\n",
              "<style scoped>\n",
              "    .dataframe tbody tr th:only-of-type {\n",
              "        vertical-align: middle;\n",
              "    }\n",
              "\n",
              "    .dataframe tbody tr th {\n",
              "        vertical-align: top;\n",
              "    }\n",
              "\n",
              "    .dataframe thead th {\n",
              "        text-align: right;\n",
              "    }\n",
              "</style>\n",
              "<table border=\"1\" class=\"dataframe\">\n",
              "  <thead>\n",
              "    <tr style=\"text-align: right;\">\n",
              "      <th></th>\n",
              "      <th>Страна</th>\n",
              "      <th>Новые_случаи</th>\n",
              "      <th>Смерти</th>\n",
              "      <th>Летальность, %</th>\n",
              "    </tr>\n",
              "  </thead>\n",
              "  <tbody>\n",
              "    <tr>\n",
              "      <th>0</th>\n",
              "      <td>Peru</td>\n",
              "      <td>3845093</td>\n",
              "      <td>214071</td>\n",
              "      <td>5.57</td>\n",
              "    </tr>\n",
              "    <tr>\n",
              "      <th>1</th>\n",
              "      <td>Mexico</td>\n",
              "      <td>6628541</td>\n",
              "      <td>327109</td>\n",
              "      <td>4.93</td>\n",
              "    </tr>\n",
              "    <tr>\n",
              "      <th>2</th>\n",
              "      <td>Indonesia</td>\n",
              "      <td>6178873</td>\n",
              "      <td>156929</td>\n",
              "      <td>2.54</td>\n",
              "    </tr>\n",
              "    <tr>\n",
              "      <th>3</th>\n",
              "      <td>Russian Federation</td>\n",
              "      <td>18554036</td>\n",
              "      <td>382272</td>\n",
              "      <td>2.06</td>\n",
              "    </tr>\n",
              "    <tr>\n",
              "      <th>4</th>\n",
              "      <td>Brazil</td>\n",
              "      <td>33621965</td>\n",
              "      <td>677143</td>\n",
              "      <td>2.01</td>\n",
              "    </tr>\n",
              "    <tr>\n",
              "      <th>5</th>\n",
              "      <td>India</td>\n",
              "      <td>43938764</td>\n",
              "      <td>526167</td>\n",
              "      <td>1.20</td>\n",
              "    </tr>\n",
              "    <tr>\n",
              "      <th>6</th>\n",
              "      <td>United States of America</td>\n",
              "      <td>89428046</td>\n",
              "      <td>1017366</td>\n",
              "      <td>1.14</td>\n",
              "    </tr>\n",
              "    <tr>\n",
              "      <th>7</th>\n",
              "      <td>Italy</td>\n",
              "      <td>20772833</td>\n",
              "      <td>171232</td>\n",
              "      <td>0.82</td>\n",
              "    </tr>\n",
              "    <tr>\n",
              "      <th>8</th>\n",
              "      <td>The United Kingdom</td>\n",
              "      <td>23213017</td>\n",
              "      <td>182727</td>\n",
              "      <td>0.79</td>\n",
              "    </tr>\n",
              "    <tr>\n",
              "      <th>9</th>\n",
              "      <td>France</td>\n",
              "      <td>32664720</td>\n",
              "      <td>148254</td>\n",
              "      <td>0.45</td>\n",
              "    </tr>\n",
              "  </tbody>\n",
              "</table>\n",
              "</div>\n",
              "      <button class=\"colab-df-convert\" onclick=\"convertToInteractive('df-e4e5d212-b0fd-4c04-9b32-4510a8386adb')\"\n",
              "              title=\"Convert this dataframe to an interactive table.\"\n",
              "              style=\"display:none;\">\n",
              "        \n",
              "  <svg xmlns=\"http://www.w3.org/2000/svg\" height=\"24px\"viewBox=\"0 0 24 24\"\n",
              "       width=\"24px\">\n",
              "    <path d=\"M0 0h24v24H0V0z\" fill=\"none\"/>\n",
              "    <path d=\"M18.56 5.44l.94 2.06.94-2.06 2.06-.94-2.06-.94-.94-2.06-.94 2.06-2.06.94zm-11 1L8.5 8.5l.94-2.06 2.06-.94-2.06-.94L8.5 2.5l-.94 2.06-2.06.94zm10 10l.94 2.06.94-2.06 2.06-.94-2.06-.94-.94-2.06-.94 2.06-2.06.94z\"/><path d=\"M17.41 7.96l-1.37-1.37c-.4-.4-.92-.59-1.43-.59-.52 0-1.04.2-1.43.59L10.3 9.45l-7.72 7.72c-.78.78-.78 2.05 0 2.83L4 21.41c.39.39.9.59 1.41.59.51 0 1.02-.2 1.41-.59l7.78-7.78 2.81-2.81c.8-.78.8-2.07 0-2.86zM5.41 20L4 18.59l7.72-7.72 1.47 1.35L5.41 20z\"/>\n",
              "  </svg>\n",
              "      </button>\n",
              "      \n",
              "  <style>\n",
              "    .colab-df-container {\n",
              "      display:flex;\n",
              "      flex-wrap:wrap;\n",
              "      gap: 12px;\n",
              "    }\n",
              "\n",
              "    .colab-df-convert {\n",
              "      background-color: #E8F0FE;\n",
              "      border: none;\n",
              "      border-radius: 50%;\n",
              "      cursor: pointer;\n",
              "      display: none;\n",
              "      fill: #1967D2;\n",
              "      height: 32px;\n",
              "      padding: 0 0 0 0;\n",
              "      width: 32px;\n",
              "    }\n",
              "\n",
              "    .colab-df-convert:hover {\n",
              "      background-color: #E2EBFA;\n",
              "      box-shadow: 0px 1px 2px rgba(60, 64, 67, 0.3), 0px 1px 3px 1px rgba(60, 64, 67, 0.15);\n",
              "      fill: #174EA6;\n",
              "    }\n",
              "\n",
              "    [theme=dark] .colab-df-convert {\n",
              "      background-color: #3B4455;\n",
              "      fill: #D2E3FC;\n",
              "    }\n",
              "\n",
              "    [theme=dark] .colab-df-convert:hover {\n",
              "      background-color: #434B5C;\n",
              "      box-shadow: 0px 1px 3px 1px rgba(0, 0, 0, 0.15);\n",
              "      filter: drop-shadow(0px 1px 2px rgba(0, 0, 0, 0.3));\n",
              "      fill: #FFFFFF;\n",
              "    }\n",
              "  </style>\n",
              "\n",
              "      <script>\n",
              "        const buttonEl =\n",
              "          document.querySelector('#df-e4e5d212-b0fd-4c04-9b32-4510a8386adb button.colab-df-convert');\n",
              "        buttonEl.style.display =\n",
              "          google.colab.kernel.accessAllowed ? 'block' : 'none';\n",
              "\n",
              "        async function convertToInteractive(key) {\n",
              "          const element = document.querySelector('#df-e4e5d212-b0fd-4c04-9b32-4510a8386adb');\n",
              "          const dataTable =\n",
              "            await google.colab.kernel.invokeFunction('convertToInteractive',\n",
              "                                                     [key], {});\n",
              "          if (!dataTable) return;\n",
              "\n",
              "          const docLinkHtml = 'Like what you see? Visit the ' +\n",
              "            '<a target=\"_blank\" href=https://colab.research.google.com/notebooks/data_table.ipynb>data table notebook</a>'\n",
              "            + ' to learn more about interactive tables.';\n",
              "          element.innerHTML = '';\n",
              "          dataTable['output_type'] = 'display_data';\n",
              "          await google.colab.output.renderOutput(dataTable, element);\n",
              "          const docLink = document.createElement('div');\n",
              "          docLink.innerHTML = docLinkHtml;\n",
              "          element.appendChild(docLink);\n",
              "        }\n",
              "      </script>\n",
              "    </div>\n",
              "  </div>\n",
              "  "
            ]
          },
          "metadata": {}
        },
        {
          "output_type": "stream",
          "name": "stdout",
          "text": [
            "По состянию на 2022-07-27\n"
          ]
        }
      ],
      "source": [
        "print('Топ-10 стран по уровню смертности')\n",
        "mortality_rate = country_deaths.nlargest(10, columns='Летальность, %')\n",
        "display((mortality_rate).reset_index())\n",
        "print('По состянию на', tomorrow)"
      ],
      "id": "c3a16056"
    },
    {
      "cell_type": "markdown",
      "metadata": {
        "id": "-kRHoAuWf-wj"
      },
      "source": [
        "---"
      ],
      "id": "-kRHoAuWf-wj"
    },
    {
      "cell_type": "markdown",
      "metadata": {
        "id": "oFYg3W4ggAhT"
      },
      "source": [
        "## 5. Месячные данные о числе выявленных новых случаев заболевания и смертность в целом по миру"
      ],
      "id": "oFYg3W4ggAhT"
    },
    {
      "cell_type": "code",
      "execution_count": null,
      "metadata": {
        "colab": {
          "base_uri": "https://localhost:8080/",
          "height": 411
        },
        "id": "718a660e",
        "outputId": "d719e363-4edc-49fa-ca8f-3c6b6894f8dd"
      },
      "outputs": [
        {
          "output_type": "stream",
          "name": "stdout",
          "text": [
            "Число выявленных случаев в мире по месяцам, ед.\n"
          ]
        },
        {
          "output_type": "display_data",
          "data": {
            "text/plain": [
              "<Figure size 1080x360 with 1 Axes>"
            ],
            "image/png": "[encoded data removed]"
          },
          "metadata": {
            "needs_background": "light"
          }
        }
      ],
      "source": [
        "month_new_cases = data.pivot_table(index=['Год_месяц'], aggfunc={'Новые_случаи':sum}).sort_values(by='Год_месяц')\n",
        "month_new_cases.plot(y='Новые_случаи', kind='bar', figsize=(15, 5), legend=False)\n",
        "plt.xticks(rotation = 90)\n",
        "print('Число выявленных случаев в мире по месяцам, ед.')"
      ],
      "id": "718a660e"
    },
    {
      "cell_type": "code",
      "execution_count": null,
      "metadata": {
        "colab": {
          "base_uri": "https://localhost:8080/",
          "height": 400
        },
        "id": "4GMe_U-OWmr-",
        "outputId": "441c668c-1bee-4bb6-b00e-6ced0f21ef47"
      },
      "outputs": [
        {
          "output_type": "stream",
          "name": "stdout",
          "text": [
            "Число смертей в мире по месяцам, ед.\n"
          ]
        },
        {
          "output_type": "display_data",
          "data": {
            "text/plain": [
              "<Figure size 1080x360 with 1 Axes>"
            ],
            "image/png": "[encoded data removed]"
          },
          "metadata": {
            "needs_background": "light"
          }
        }
      ],
      "source": [
        "month_deaths = data.pivot_table(index=['Год_месяц'], aggfunc={'Смерти':sum}).sort_values(by='Год_месяц')\n",
        "month_deaths.plot(y='Смерти', kind='bar', figsize=(15, 5), legend=False)\n",
        "plt.xticks(rotation = 90)\n",
        "print('Число смертей в мире по месяцам, ед.')"
      ],
      "id": "4GMe_U-OWmr-"
    },
    {
      "cell_type": "markdown",
      "metadata": {
        "id": "nTcNvB4jgUk3"
      },
      "source": [
        "---"
      ],
      "id": "nTcNvB4jgUk3"
    },
    {
      "cell_type": "markdown",
      "metadata": {
        "id": "4XL3hLT4gUnE"
      },
      "source": [
        "## 5. Данные о числе выявленных новых случаев заболевания и смертность в России"
      ],
      "id": "4XL3hLT4gUnE"
    },
    {
      "cell_type": "markdown",
      "metadata": {
        "id": "yYksh0UBrqdR"
      },
      "source": [
        "### 5.1. Годовые данные"
      ],
      "id": "yYksh0UBrqdR"
    },
    {
      "cell_type": "code",
      "execution_count": null,
      "metadata": {
        "colab": {
          "base_uri": "https://localhost:8080/"
        },
        "id": "aaEKvBporQZl",
        "outputId": "abc6fb3f-cac9-4fb6-d23c-8534d35aac7c"
      },
      "outputs": [
        {
          "output_type": "stream",
          "name": "stdout",
          "text": [
            "За всё время наблюдений:\n",
            "------------------------------------------------------------------\n",
            "3.26 % общемирового числа случаев заболевания COVID-19 приходится на Россию\n",
            "------------------------------------------------------------------\n",
            "5.99 % общемирового числа умерших от COVID-19 приходится на Россию\n",
            "------------------------------------------------------------------\n",
            "2.06 % - уровень летальности в России\n",
            "------------------------------------------------------------------\n",
            "По данным ВОЗ на 2022-07-27\n"
          ]
        }
      ],
      "source": [
        "new_cases_total = data.loc[:, 'Новые_случаи'].sum()\n",
        "ru_new_cases_total = ru_data.loc[:, 'Новые_случаи'].sum()\n",
        "deaths_total = data.loc[:, 'Смерти'].sum()\n",
        "ru_deaths_total = ru_data.loc[:, 'Смерти'].sum()\n",
        "print('За всё время наблюдений:')\n",
        "print('-'*66)\n",
        "print((ru_new_cases_total/(new_cases_total/100)).round(2), '% общемирового числа случаев заболевания COVID-19 приходится на Россию')\n",
        "print('-'*66)\n",
        "print((ru_deaths_total/(deaths_total/100)).round(2), '% общемирового числа умерших от COVID-19 приходится на Россию')\n",
        "print('-'*66)\n",
        "print((ru_deaths_total/(ru_new_cases_total/100)).round(2), '% - уровень летальности в России')\n",
        "print('-'*66)\n",
        "print('По данным ВОЗ на', tomorrow)"
      ],
      "id": "aaEKvBporQZl"
    },
    {
      "cell_type": "code",
      "execution_count": null,
      "metadata": {
        "colab": {
          "base_uri": "https://localhost:8080/",
          "height": 178
        },
        "id": "_G680WlurdGf",
        "outputId": "18677545-6573-4966-a814-4e30751c8d86"
      },
      "outputs": [
        {
          "output_type": "stream",
          "name": "stdout",
          "text": [
            "Число выявленных случаев и смертей в России за год, ед.\n"
          ]
        },
        {
          "output_type": "display_data",
          "data": {
            "text/plain": [
              "    Год  Новые_случаи  Смерти\n",
              "0  2020       3159297   57019\n",
              "1  2021       7340685  251841\n",
              "2  2022       8054054   73412"
            ],
            "text/html": [
              "\n",
              "  <div id=\"df-ad9eb356-6514-4f45-af63-4cde223db15f\">\n",
              "    <div class=\"colab-df-container\">\n",
              "      <div>\n",
              "<style scoped>\n",
              "    .dataframe tbody tr th:only-of-type {\n",
              "        vertical-align: middle;\n",
              "    }\n",
              "\n",
              "    .dataframe tbody tr th {\n",
              "        vertical-align: top;\n",
              "    }\n",
              "\n",
              "    .dataframe thead th {\n",
              "        text-align: right;\n",
              "    }\n",
              "</style>\n",
              "<table border=\"1\" class=\"dataframe\">\n",
              "  <thead>\n",
              "    <tr style=\"text-align: right;\">\n",
              "      <th></th>\n",
              "      <th>Год</th>\n",
              "      <th>Новые_случаи</th>\n",
              "      <th>Смерти</th>\n",
              "    </tr>\n",
              "  </thead>\n",
              "  <tbody>\n",
              "    <tr>\n",
              "      <th>0</th>\n",
              "      <td>2020</td>\n",
              "      <td>3159297</td>\n",
              "      <td>57019</td>\n",
              "    </tr>\n",
              "    <tr>\n",
              "      <th>1</th>\n",
              "      <td>2021</td>\n",
              "      <td>7340685</td>\n",
              "      <td>251841</td>\n",
              "    </tr>\n",
              "    <tr>\n",
              "      <th>2</th>\n",
              "      <td>2022</td>\n",
              "      <td>8054054</td>\n",
              "      <td>73412</td>\n",
              "    </tr>\n",
              "  </tbody>\n",
              "</table>\n",
              "</div>\n",
              "      <button class=\"colab-df-convert\" onclick=\"convertToInteractive('df-ad9eb356-6514-4f45-af63-4cde223db15f')\"\n",
              "              title=\"Convert this dataframe to an interactive table.\"\n",
              "              style=\"display:none;\">\n",
              "        \n",
              "  <svg xmlns=\"http://www.w3.org/2000/svg\" height=\"24px\"viewBox=\"0 0 24 24\"\n",
              "       width=\"24px\">\n",
              "    <path d=\"M0 0h24v24H0V0z\" fill=\"none\"/>\n",
              "    <path d=\"M18.56 5.44l.94 2.06.94-2.06 2.06-.94-2.06-.94-.94-2.06-.94 2.06-2.06.94zm-11 1L8.5 8.5l.94-2.06 2.06-.94-2.06-.94L8.5 2.5l-.94 2.06-2.06.94zm10 10l.94 2.06.94-2.06 2.06-.94-2.06-.94-.94-2.06-.94 2.06-2.06.94z\"/><path d=\"M17.41 7.96l-1.37-1.37c-.4-.4-.92-.59-1.43-.59-.52 0-1.04.2-1.43.59L10.3 9.45l-7.72 7.72c-.78.78-.78 2.05 0 2.83L4 21.41c.39.39.9.59 1.41.59.51 0 1.02-.2 1.41-.59l7.78-7.78 2.81-2.81c.8-.78.8-2.07 0-2.86zM5.41 20L4 18.59l7.72-7.72 1.47 1.35L5.41 20z\"/>\n",
              "  </svg>\n",
              "      </button>\n",
              "      \n",
              "  <style>\n",
              "    .colab-df-container {\n",
              "      display:flex;\n",
              "      flex-wrap:wrap;\n",
              "      gap: 12px;\n",
              "    }\n",
              "\n",
              "    .colab-df-convert {\n",
              "      background-color: #E8F0FE;\n",
              "      border: none;\n",
              "      border-radius: 50%;\n",
              "      cursor: pointer;\n",
              "      display: none;\n",
              "      fill: #1967D2;\n",
              "      height: 32px;\n",
              "      padding: 0 0 0 0;\n",
              "      width: 32px;\n",
              "    }\n",
              "\n",
              "    .colab-df-convert:hover {\n",
              "      background-color: #E2EBFA;\n",
              "      box-shadow: 0px 1px 2px rgba(60, 64, 67, 0.3), 0px 1px 3px 1px rgba(60, 64, 67, 0.15);\n",
              "      fill: #174EA6;\n",
              "    }\n",
              "\n",
              "    [theme=dark] .colab-df-convert {\n",
              "      background-color: #3B4455;\n",
              "      fill: #D2E3FC;\n",
              "    }\n",
              "\n",
              "    [theme=dark] .colab-df-convert:hover {\n",
              "      background-color: #434B5C;\n",
              "      box-shadow: 0px 1px 3px 1px rgba(0, 0, 0, 0.15);\n",
              "      filter: drop-shadow(0px 1px 2px rgba(0, 0, 0, 0.3));\n",
              "      fill: #FFFFFF;\n",
              "    }\n",
              "  </style>\n",
              "\n",
              "      <script>\n",
              "        const buttonEl =\n",
              "          document.querySelector('#df-ad9eb356-6514-4f45-af63-4cde223db15f button.colab-df-convert');\n",
              "        buttonEl.style.display =\n",
              "          google.colab.kernel.accessAllowed ? 'block' : 'none';\n",
              "\n",
              "        async function convertToInteractive(key) {\n",
              "          const element = document.querySelector('#df-ad9eb356-6514-4f45-af63-4cde223db15f');\n",
              "          const dataTable =\n",
              "            await google.colab.kernel.invokeFunction('convertToInteractive',\n",
              "                                                     [key], {});\n",
              "          if (!dataTable) return;\n",
              "\n",
              "          const docLinkHtml = 'Like what you see? Visit the ' +\n",
              "            '<a target=\"_blank\" href=https://colab.research.google.com/notebooks/data_table.ipynb>data table notebook</a>'\n",
              "            + ' to learn more about interactive tables.';\n",
              "          element.innerHTML = '';\n",
              "          dataTable['output_type'] = 'display_data';\n",
              "          await google.colab.output.renderOutput(dataTable, element);\n",
              "          const docLink = document.createElement('div');\n",
              "          docLink.innerHTML = docLinkHtml;\n",
              "          element.appendChild(docLink);\n",
              "        }\n",
              "      </script>\n",
              "    </div>\n",
              "  </div>\n",
              "  "
            ]
          },
          "metadata": {}
        },
        {
          "output_type": "stream",
          "name": "stdout",
          "text": [
            "По состянию на 2022-07-27\n"
          ]
        }
      ],
      "source": [
        "print('Число выявленных случаев и смертей в России за год, ед.')\n",
        "ru_year_new_cases = ru_data.pivot_table(index=['Год'], aggfunc={'Новые_случаи':sum, 'Смерти':sum}).sort_values(by='Год')\n",
        "display((ru_year_new_cases).reset_index())\n",
        "print('По состянию на', tomorrow)"
      ],
      "id": "_G680WlurdGf"
    },
    {
      "cell_type": "code",
      "execution_count": null,
      "metadata": {
        "colab": {
          "base_uri": "https://localhost:8080/",
          "height": 362
        },
        "id": "blXzlFpbsTdC",
        "outputId": "cd769754-8fe3-4391-950e-ed757c63b4ff"
      },
      "outputs": [
        {
          "output_type": "stream",
          "name": "stdout",
          "text": [
            "Число выявленных случаев в России за год, ед.\n"
          ]
        },
        {
          "output_type": "display_data",
          "data": {
            "text/plain": [
              "<Figure size 720x360 with 1 Axes>"
            ],
            "image/png": "[encoded data removed]"
          },
          "metadata": {
            "needs_background": "light"
          }
        }
      ],
      "source": [
        "ru_year_new_cases.plot(y='Новые_случаи', kind='bar', figsize=(10, 5), legend=False)\n",
        "plt.xticks(rotation = 0)\n",
        "print('Число выявленных случаев в России за год, ед.')"
      ],
      "id": "blXzlFpbsTdC"
    },
    {
      "cell_type": "code",
      "execution_count": null,
      "metadata": {
        "colab": {
          "base_uri": "https://localhost:8080/",
          "height": 351
        },
        "id": "GMFskjBUscln",
        "outputId": "b4e19a64-37ba-4ae0-d2cf-c9e8e24997cd"
      },
      "outputs": [
        {
          "output_type": "stream",
          "name": "stdout",
          "text": [
            "Число смертей в России за год, ед.\n"
          ]
        },
        {
          "output_type": "display_data",
          "data": {
            "text/plain": [
              "<Figure size 720x360 with 1 Axes>"
            ],
            "image/png": "[encoded data removed]"
          },
          "metadata": {
            "needs_background": "light"
          }
        }
      ],
      "source": [
        "ru_year_new_cases.plot(y='Смерти', kind='bar', figsize=(10, 5), legend=False)\n",
        "plt.xticks(rotation = 0)\n",
        "print('Число смертей в России за год, ед.')"
      ],
      "id": "GMFskjBUscln"
    },
    {
      "cell_type": "markdown",
      "metadata": {
        "id": "WS-RVyUIr6vD"
      },
      "source": [
        "### 5.2. Помесячные данные"
      ],
      "id": "WS-RVyUIr6vD"
    },
    {
      "cell_type": "code",
      "execution_count": null,
      "metadata": {
        "colab": {
          "base_uri": "https://localhost:8080/",
          "height": 411
        },
        "id": "Pd8tIZyZXoNV",
        "outputId": "fd8c2e33-c7b0-4ce5-8057-785eaa7f8f2f"
      },
      "outputs": [
        {
          "output_type": "stream",
          "name": "stdout",
          "text": [
            "Число выявленных случаев в России по месяцам, ед.\n"
          ]
        },
        {
          "output_type": "display_data",
          "data": {
            "text/plain": [
              "<Figure size 1080x360 with 1 Axes>"
            ],
            "image/png": "[encoded data removed]"
          },
          "metadata": {
            "needs_background": "light"
          }
        }
      ],
      "source": [
        "ru_month_new_cases = ru_data.pivot_table(index=['Год_месяц'], aggfunc={'Новые_случаи':sum}).sort_values(by='Год_месяц')\n",
        "ru_month_new_cases.plot(y='Новые_случаи', kind='bar', figsize=(15, 5), legend=False)\n",
        "plt.xticks(rotation = 90)\n",
        "print('Число выявленных случаев в России по месяцам, ед.')"
      ],
      "id": "Pd8tIZyZXoNV"
    },
    {
      "cell_type": "code",
      "execution_count": null,
      "metadata": {
        "colab": {
          "base_uri": "https://localhost:8080/",
          "height": 400
        },
        "id": "bEgCS-aBdDyF",
        "outputId": "4349c585-e6df-4212-8f06-6b35815d51a3"
      },
      "outputs": [
        {
          "output_type": "stream",
          "name": "stdout",
          "text": [
            "Число смертей в России по месяцам, ед.\n"
          ]
        },
        {
          "output_type": "display_data",
          "data": {
            "text/plain": [
              "<Figure size 1080x360 with 1 Axes>"
            ],
            "image/png": "[encoded data removed]"
          },
          "metadata": {
            "needs_background": "light"
          }
        }
      ],
      "source": [
        "ru_month_deaths = ru_data.pivot_table(index=['Год_месяц'], aggfunc={'Смерти':sum}).sort_values(by='Год_месяц')\n",
        "ru_month_deaths.plot(y='Смерти', kind='bar', figsize=(15, 5), legend=False)\n",
        "plt.xticks(rotation = 90)\n",
        "print('Число смертей в России по месяцам, ед.')"
      ],
      "id": "bEgCS-aBdDyF"
    }
  ],
  "metadata": {
    "colab": {
      "collapsed_sections": [],
      "name": "COVID-19.ipynb",
      "provenance": []
    },
    "kernelspec": {
      "display_name": "Python 3 (ipykernel)",
      "language": "python",
      "name": "python3"
    },
    "language_info": {
      "codemirror_mode": {
        "name": "ipython",
        "version": 3
      },
      "file_extension": ".py",
      "mimetype": "text/x-python",
      "name": "python",
      "nbconvert_exporter": "python",
      "pygments_lexer": "ipython3",
      "version": "3.9.7"
    }
  },
  "nbformat": 4,
  "nbformat_minor": 5
}