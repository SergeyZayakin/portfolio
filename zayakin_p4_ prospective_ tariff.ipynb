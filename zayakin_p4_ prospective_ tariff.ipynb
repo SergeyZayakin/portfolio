{
 "cells": [
  {
   "cell_type": "markdown",
   "metadata": {},
   "source": [
    "# ПРОЕКТ 4: Определение перспективного мобильного тарифа"
   ]
  },
  {
   "cell_type": "markdown",
   "metadata": {},
   "source": [
    "<br/>\n",
    "    \n",
    "<div class=\"alert alert-info\">\n",
    "<h2> Привет!<a class=\"tocSkip\"></h2>\n",
    "<hr>  \n",
    "Я - Сергей. Рад что ты читаешь это текст :) Сделаю пару ремарок общего характера. В описании выполняемых действий, комментариях, я использую местоимение 'мы', так как считаю что ты - ревьювер, проверя код становиться моим соучастником ('соучавствующие программирование') и мы вместе проходим по пути исследования. Да и сформировлась привычка так писать в ходе написания научных работ.   \n",
    "NB! - так помечаю важные на мой взгдял идеи, которые стоит взять на заметку; инсайты, проработка которых требует большего знания предметной области.   \n",
    "Надеюсь мои многословные комментарии тебя не утомят.    \n",
    "</div>\n",
    "    \n",
    "<br/>"
   ]
  },
  {
   "cell_type": "markdown",
   "metadata": {},
   "source": [
    "# Оглавление"
   ]
  },
  {
   "cell_type": "markdown",
   "metadata": {},
   "source": [
    "[0. Описание проекта](#description)   \n",
    "[1. Изучение данных](#exploration)   \n",
    "[2. Подготовка данных](#preparing)   \n",
    "[2.1. Очистка и изменение типов данных](#clearing)   \n",
    "[2.1.1. Изменение типов данных](#change)   \n",
    "[2.1.2. Удаление колонки](#drop)   \n",
    "[2.1.3. Проверка дубликатов](#duplicates)   \n",
    "[2.1.4. Поиск (почти) аномалий](#anomalies)   \n",
    "[2.2. Подсчёт метрик для каждого пользователя](#counting)   \n",
    "[2.3. Расчёт помесячной выручки каждого из пользователей](#сalculation)   \n",
    "[3. Анализ данных](#analysis)   \n",
    "[3.1. Анализ поведения клиентов разных тарифов](#behaviour_analysis)   \n",
    "[3.2. Подсчёт среднего, дисперсии и стандартного отклонения для всех пользователей](#descriptive_statistics)   \n",
    "[3.3. Описание распределения](#distribution_description)   \n",
    "[4. Проверка гипотез](#hypothesis_testing)   \n",
    "[4.1. Гипотеза 1: Средняя выручка пользователей тарифов «Ультра» и «Смарт» различаются](#hypothesis_1)   \n",
    "[4.2. Гипотеза 2: Средняя выручка пользователей из Москвы отличается от выручки пользователей из других регионов](#hypothesis_2)    \n",
    "[4. Общий вывод](#summary)\n"
   ]
  },
  {
   "cell_type": "markdown",
   "metadata": {},
   "source": [
    "---"
   ]
  },
  {
   "cell_type": "markdown",
   "metadata": {},
   "source": [
    "# 0. Описание проекта <a id=\"description\"></a>\n",
    "Вы аналитик компании «Мегалайн» — федерального оператора сотовой связи. Клиентам предлагают два тарифных плана: «Смарт» и «Ультра». Чтобы скорректировать рекламный бюджет, коммерческий департамент хочет понять, какой тариф приносит больше денег.\n",
    "Вам предстоит сделать предварительный анализ тарифов на небольшой выборке клиентов. В вашем распоряжении данные 500 пользователей «Мегалайна»: кто они, откуда, каким тарифом пользуются, сколько звонков и сообщений каждый отправил за 2018 год. Нужно проанализировать поведение клиентов и сделать вывод — какой тариф лучше."
   ]
  },
  {
   "cell_type": "markdown",
   "metadata": {},
   "source": [
    "**Описание тарифов** \n",
    "1. Тариф «Смарт»\n",
    "Ежемесячная плата: 550 рублей  \n",
    "Включено 500 минут разговора, 50 сообщений и 15 Гб интернет-трафика   \n",
    "Стоимость услуг сверх тарифного пакета:   \n",
    "- минута разговора: 3 рубля  \n",
    "- сообщение: 3 рубля  \n",
    "- 1 Гб интернет-трафика: 200 рублей   \n",
    "2. Тариф «Ультра»  \n",
    "Ежемесячная плата: 1950 рублей   \n",
    "Включено 3000 минут разговора, 1000 сообщений и 30 Гб интернет-трафика  \n",
    "Стоимость услуг сверх тарифного пакета:   \n",
    "- минута разговора: 1 рубль   \n",
    "- сообщение: 1 рубль   \n",
    "- 1 Гб интернет-трафика: 150 рублей"
   ]
  },
  {
   "cell_type": "markdown",
   "metadata": {},
   "source": [
    "**Описание данных**  \n",
    "1. Таблица users (информация о пользователях):   \n",
    "* user_id — уникальный идентификатор пользователя   \n",
    "* first_name — имя пользователя   \n",
    "* last_name — фамилия пользователя   \n",
    "* age — возраст пользователя (годы)   \n",
    "* reg_date — дата подключения тарифа (день, месяц, год)   \n",
    "* churn_date — дата прекращения пользования тарифом (если значение пропущено, то тариф ещё действовал на момент выгрузки данных) \n",
    "* city — город проживания пользователя   \n",
    "* tariff — название тарифного плана   \n",
    "2. Таблица calls (информация о звонках):   \n",
    "* id — уникальный номер звонка   \n",
    "* call_date — дата звонка   \n",
    "* duration — длительность звонка в минутах   \n",
    "* user_id — идентификатор пользователя, сделавшего звонок   \n",
    "3. Таблица messages (информация о сообщениях):   \n",
    "* id — уникальный номер сообщения   \n",
    "* message_date — дата сообщения   \n",
    "* user_id — идентификатор пользователя, отправившего сообщение   \n",
    "4. Таблица internet (информация об интернет-сессиях):   \n",
    "* id — уникальный номер сессии   \n",
    "* mb_used — объём потраченного за сессию интернет-трафика (в мегабайтах)   \n",
    "* session_date — дата интернет-сессии   \n",
    "* user_id — идентификатор пользователя   \n",
    "5. Таблица tariffs (информация о тарифах):   \n",
    "* tariff_name — название тарифа   \n",
    "* rub_monthly_fee — ежемесячная абонентская плата в рублях   \n",
    "* minutes_included — количество минут разговора в месяц, включённых в абонентскую плату   \n",
    "* messages_included — количество сообщений в месяц, включённых в абонентскую плату   \n",
    "* mb_per_month_included — объём интернет-трафика, включённого в абонентскую плату (в мегабайтах)   \n",
    "* rub_per_minute — стоимость минуты разговора сверх тарифного пакета (например, если в тарифе 100 минут разговора в месяц, то со 101 минуты будет взиматься плата)   \n",
    "* rub_per_message — стоимость отправки сообщения сверх тарифного пакета   \n",
    "* rub_per_gb — стоимость дополнительного гигабайта интернет-трафика сверх тарифного пакета (1 гигабайт = 1024 мегабайта)   \n",
    "   \n",
    "**Примечание:**\n",
    "«Мегалайн» всегда округляет секунды до минут, а мегабайты — до гигабайт. Каждый звонок округляется отдельно: даже если он длился всего 1 секунду, будет засчитан как 1 минута.\n",
    "Для веб-трафика отдельные сессии не считаются. Вместо этого общая сумма за месяц округляется в бо́льшую сторону. Если абонент использует 1025 мегабайт в этом месяце, с него возьмут плату за 2 гигабайта.   "
   ]
  },
  {
   "cell_type": "markdown",
   "metadata": {},
   "source": [
    "---"
   ]
  },
  {
   "cell_type": "markdown",
   "metadata": {},
   "source": [
    "# 1. Изучение данных <a id=\"exploration\"></a>"
   ]
  },
  {
   "cell_type": "code",
   "execution_count": 1,
   "metadata": {},
   "outputs": [],
   "source": [
    "#импортируем необходимые библиотеки\n",
    "import pandas as pd\n",
    "import numpy as np\n",
    "from scipy import stats as st\n",
    "import matplotlib.pyplot as plt\n",
    "%matplotlib inline\n",
    "from datetime import datetime  # для получения дня недели из даты\n",
    "import seaborn as sns"
   ]
  },
  {
   "cell_type": "code",
   "execution_count": 3,
   "metadata": {},
   "outputs": [],
   "source": [
    "#Прочитаем файлы с гугл диска\n",
    "from io import BytesIO\n",
    "import requests\n",
    "spreadsheet_id_calls = '1m_dgatIt7V6sjOz2CFh4qaNDQCL-OKqoid0ySnaCSwA'\n",
    "spreadsheet_id_internet = '1nYcmElfvcefUbhmXr6eV0tXVzHUb0S_IaJBDm5iLos4'\n",
    "spreadsheet_id_messages = '1iCGU1LpOiIJDd9YAOuM_jrSd1f7m2PC2z-WgIgqy9MY'\n",
    "spreadsheet_id_tariffs = '1AOHEvYeTZtaOVE2a8l7YONVGhIgiLjJH-nDLvAulik4'\n",
    "spreadsheet_id_users = '18CSqR8lnMInY51PCdCT0exrD3p3FK6fV1NBe9r90OtU'\n",
    "file_name_calls = 'https://docs.google.com/spreadsheets/d/{}/export?format=csv'.format(spreadsheet_id_calls)\n",
    "file_name_internet = 'https://docs.google.com/spreadsheets/d/{}/export?format=csv'.format(spreadsheet_id_internet)\n",
    "file_name_messages = 'https://docs.google.com/spreadsheets/d/{}/export?format=csv'.format(spreadsheet_id_messages)\n",
    "file_name_tariffs = 'https://docs.google.com/spreadsheets/d/{}/export?format=csv'.format(spreadsheet_id_tariffs)\n",
    "file_name_users = 'https://docs.google.com/spreadsheets/d/{}/export?format=csv'.format(spreadsheet_id_users)\n",
    "r_calls = requests.get(file_name_calls)\n",
    "r_internet = requests.get(file_name_internet)\n",
    "r_messages = requests.get(file_name_messages)\n",
    "r_tariffs = requests.get(file_name_tariffs)\n",
    "r_users = requests.get(file_name_users)\n",
    "calls = pd.read_csv(BytesIO(r_calls.content))\n",
    "internet = pd.read_csv(BytesIO(r_internet.content), index_col=0)\n",
    "messages = pd.read_csv(BytesIO(r_messages.content))\n",
    "tariffs = pd.read_csv(BytesIO(r_tariffs.content))\n",
    "users = pd.read_csv(BytesIO(r_users.content))\n",
    "pd.set_option('display.max_columns', 20) "
   ]
  },
  {
   "cell_type": "code",
   "execution_count": 4,
   "metadata": {},
   "outputs": [
    {
     "name": "stdout",
     "output_type": "stream",
     "text": [
      "<class 'pandas.core.frame.DataFrame'>\n",
      "RangeIndex: 202607 entries, 0 to 202606\n",
      "Data columns (total 4 columns):\n",
      " #   Column     Non-Null Count   Dtype  \n",
      "---  ------     --------------   -----  \n",
      " 0   id         202607 non-null  object \n",
      " 1   call_date  202607 non-null  object \n",
      " 2   duration   202607 non-null  float64\n",
      " 3   user_id    202607 non-null  int64  \n",
      "dtypes: float64(1), int64(1), object(2)\n",
      "memory usage: 6.2+ MB\n"
     ]
    }
   ],
   "source": [
    "calls.info() # получим сводку по таблице"
   ]
  },
  {
   "cell_type": "markdown",
   "metadata": {},
   "source": [
    "В таблице calls нет пропущеных значений. Но, значения колонки call_date имеют тип object, а не даты - изменим тип."
   ]
  },
  {
   "cell_type": "code",
   "execution_count": 5,
   "metadata": {},
   "outputs": [
    {
     "name": "stdout",
     "output_type": "stream",
     "text": [
      "<class 'pandas.core.frame.DataFrame'>\n",
      "Int64Index: 149396 entries, 0 to 149395\n",
      "Data columns (total 4 columns):\n",
      " #   Column        Non-Null Count   Dtype  \n",
      "---  ------        --------------   -----  \n",
      " 0   id            149396 non-null  object \n",
      " 1   mb_used       149396 non-null  float64\n",
      " 2   session_date  149396 non-null  object \n",
      " 3   user_id       149396 non-null  int64  \n",
      "dtypes: float64(1), int64(1), object(2)\n",
      "memory usage: 5.7+ MB\n"
     ]
    }
   ],
   "source": [
    "internet.info() # получим сводку по таблице"
   ]
  },
  {
   "cell_type": "markdown",
   "metadata": {},
   "source": [
    "В таблице internet нет пропущеных значений. Но, 1. есть колонка Unnamed: 0 - дублирующая индекс строк. В описании полей её нет - удалим колонку; 2. значения колонки session_date имеют тип object, а не даты - изменим тип."
   ]
  },
  {
   "cell_type": "code",
   "execution_count": 6,
   "metadata": {},
   "outputs": [
    {
     "name": "stdout",
     "output_type": "stream",
     "text": [
      "<class 'pandas.core.frame.DataFrame'>\n",
      "RangeIndex: 123036 entries, 0 to 123035\n",
      "Data columns (total 3 columns):\n",
      " #   Column        Non-Null Count   Dtype \n",
      "---  ------        --------------   ----- \n",
      " 0   id            123036 non-null  object\n",
      " 1   message_date  123036 non-null  object\n",
      " 2   user_id       123036 non-null  int64 \n",
      "dtypes: int64(1), object(2)\n",
      "memory usage: 2.8+ MB\n"
     ]
    }
   ],
   "source": [
    "messages.info() # получим сводку по таблице"
   ]
  },
  {
   "cell_type": "markdown",
   "metadata": {},
   "source": [
    "В таблице messages нет пропущеных значений. Но, значения колонки message_date имеют тип object, а не даты - изменим тип."
   ]
  },
  {
   "cell_type": "code",
   "execution_count": 7,
   "metadata": {},
   "outputs": [
    {
     "name": "stdout",
     "output_type": "stream",
     "text": [
      "<class 'pandas.core.frame.DataFrame'>\n",
      "RangeIndex: 2 entries, 0 to 1\n",
      "Data columns (total 8 columns):\n",
      " #   Column                 Non-Null Count  Dtype \n",
      "---  ------                 --------------  ----- \n",
      " 0   messages_included      2 non-null      int64 \n",
      " 1   mb_per_month_included  2 non-null      int64 \n",
      " 2   minutes_included       2 non-null      int64 \n",
      " 3   rub_monthly_fee        2 non-null      int64 \n",
      " 4   rub_per_gb             2 non-null      int64 \n",
      " 5   rub_per_message        2 non-null      int64 \n",
      " 6   rub_per_minute         2 non-null      int64 \n",
      " 7   tariff_name            2 non-null      object\n",
      "dtypes: int64(7), object(1)\n",
      "memory usage: 256.0+ bytes\n"
     ]
    }
   ],
   "source": [
    "tariffs.info() # получим сводку по таблице"
   ]
  },
  {
   "cell_type": "markdown",
   "metadata": {},
   "source": [
    "В таблице tariffs описание двух тарифов. Без пропусков. Типы данных не трогает."
   ]
  },
  {
   "cell_type": "code",
   "execution_count": 8,
   "metadata": {},
   "outputs": [
    {
     "name": "stdout",
     "output_type": "stream",
     "text": [
      "<class 'pandas.core.frame.DataFrame'>\n",
      "RangeIndex: 500 entries, 0 to 499\n",
      "Data columns (total 8 columns):\n",
      " #   Column      Non-Null Count  Dtype \n",
      "---  ------      --------------  ----- \n",
      " 0   user_id     500 non-null    int64 \n",
      " 1   age         500 non-null    int64 \n",
      " 2   churn_date  38 non-null     object\n",
      " 3   city        500 non-null    object\n",
      " 4   first_name  500 non-null    object\n",
      " 5   last_name   500 non-null    object\n",
      " 6   reg_date    500 non-null    object\n",
      " 7   tariff      500 non-null    object\n",
      "dtypes: int64(2), object(6)\n",
      "memory usage: 31.4+ KB\n"
     ]
    }
   ],
   "source": [
    "users.info() # получим сводку по таблице"
   ]
  },
  {
   "cell_type": "markdown",
   "metadata": {},
   "source": [
    "В таблице users пропуски только в колонке churn_date — дата прекращения пользования тарифом, но если значение пропущено, то тариф ещё действовал на момент выгрузки данных. Но, значения колонки reg_date и churn_date имеют тип object, а не даты - изменим тип."
   ]
  },
  {
   "cell_type": "markdown",
   "metadata": {},
   "source": [
    "**Подитожим** в ряде таблиц нужно изменить тип даннх для некоторых колонок, нужно удалить нужно колонку."
   ]
  },
  {
   "cell_type": "markdown",
   "metadata": {},
   "source": [
    "---"
   ]
  },
  {
   "cell_type": "markdown",
   "metadata": {},
   "source": [
    "# 2. Подготовка данных <a id=\"preparing\"></a>"
   ]
  },
  {
   "cell_type": "markdown",
   "metadata": {},
   "source": [
    "## 2.1. Очистка и изменение типов данных <a id=\"clearing\"></a> "
   ]
  },
  {
   "cell_type": "markdown",
   "metadata": {},
   "source": [
    "### 2.1.1.  Изменение типов данных <a id=\"change\"></a>"
   ]
  },
  {
   "cell_type": "code",
   "execution_count": 9,
   "metadata": {},
   "outputs": [],
   "source": [
    "# Приведём данные колонки call_date таблицы calls в тип datetime\n",
    "calls['call_date'] = pd.to_datetime(calls['call_date'], format='%Y-%m-%d')\n",
    "#display(calls)\n",
    "#calls.info()"
   ]
  },
  {
   "cell_type": "code",
   "execution_count": 10,
   "metadata": {},
   "outputs": [],
   "source": [
    "# Приведём данные колонки message_date таблицы messages в тип datetime\n",
    "messages['message_date'] = pd.to_datetime(messages['message_date'], format='%Y-%m-%d')\n",
    "#display(messages)\n",
    "#messages.info()"
   ]
  },
  {
   "cell_type": "code",
   "execution_count": 11,
   "metadata": {},
   "outputs": [],
   "source": [
    "# Приведём данные колонки reg_date таблицы users в тип datetime\n",
    "users['reg_date'] = pd.to_datetime(users['reg_date'], format='%Y-%m-%d')\n",
    "#display(users)\n",
    "#users.info()"
   ]
  },
  {
   "cell_type": "markdown",
   "metadata": {},
   "source": [
    "**!!!** Так как в колонке churn_date много пропусков, и обрабатывать пропуски мы не будем, то оставим тип данных в колонке как есть. В дальнешем анализе данные колонки churn_date использоваться не будут.  "
   ]
  },
  {
   "cell_type": "code",
   "execution_count": 12,
   "metadata": {},
   "outputs": [],
   "source": [
    "# Приведём данные колонки session_date таблицы internet в тип datetime\n",
    "internet['session_date'] = pd.to_datetime(internet['session_date'], format='%Y-%m-%d')\n",
    "#display(internet)\n",
    "#internet.info()"
   ]
  },
  {
   "cell_type": "markdown",
   "metadata": {},
   "source": [
    "### 2.1.3.  Проверка дубликатов <a id=\"duplicates\"></a>"
   ]
  },
  {
   "cell_type": "code",
   "execution_count": 13,
   "metadata": {},
   "outputs": [
    {
     "name": "stdout",
     "output_type": "stream",
     "text": [
      "В колонке  calls  нет дубликатов\n",
      "В колонке  messages  нет дубликатов\n",
      "В колонке  internet  нет дубликатов\n",
      "В колонке  tariffs  нет дубликатов\n",
      "В колонке  users  нет дубликатов\n"
     ]
    }
   ],
   "source": [
    "# Проверка на дубликаты. Сделам это в цикле.\n",
    "# Составим список названий таблиц.\n",
    "list_tables = [calls, messages, internet, tariffs, users]\n",
    "# Составим список имён таблиц, для вывода.\n",
    "name_tables = ['calls', 'messages', 'internet', 'tariffs', 'users']\n",
    "for i in range(0, len(list_tables)):\n",
    "    if list_tables[i].duplicated().sum() == 0:\n",
    "        print('В колонке ', name_tables[i], ' нет дубликатов')\n",
    "    elif list_tables[i].duplicated().sum() != 0:\n",
    "        print('В колонке ', name_tables[i], ' дубликаты есть')"
   ]
  },
  {
   "cell_type": "markdown",
   "metadata": {},
   "source": [
    "**Вывод** в колонках нет дублирующих значений"
   ]
  },
  {
   "cell_type": "markdown",
   "metadata": {},
   "source": [
    "### 2.1.4.  Поиск (почти) аномалий <a id=\"anomalies\"></a>"
   ]
  },
  {
   "cell_type": "markdown",
   "metadata": {},
   "source": [
    "Из условий известно, что в данных есть звонки с нулевой продолжительностью - пропущенные звонки. Узнаем сколько их."
   ]
  },
  {
   "cell_type": "code",
   "execution_count": 14,
   "metadata": {},
   "outputs": [
    {
     "name": "stdout",
     "output_type": "stream",
     "text": [
      "Доля пропущеных звонков 19.6 %\n"
     ]
    }
   ],
   "source": [
    "null_duration = calls[calls['duration']==0]['duration'].count()\n",
    "null_duration_percent = (null_duration/(len(calls['duration']))*100).round(1)\n",
    "print('Доля пропущеных звонков', null_duration_percent, '%')"
   ]
  },
  {
   "cell_type": "markdown",
   "metadata": {},
   "source": [
    "**Вывод** почти каждый пятый звонок пропущенный. Но, мы их не трогаем, не изменяем."
   ]
  },
  {
   "cell_type": "markdown",
   "metadata": {},
   "source": [
    "**Подитожим** по пункту 2.1.:\n",
    "1. Мы изменили в ряде колонок тип данных, приведя их значений к типу datetime.    \n",
    "1. Удалили из одной талицы колонку, видимо артефакт выгрузки данных.    \n",
    "1. Проверили наличие дублирующих набблюдений - их нет.   \n",
    "1. Изучили на пврый взгляд аномалию - звонки с нулевой продолжительностью, но это не ошидка, а сосбенности учёта звонков."
   ]
  },
  {
   "cell_type": "markdown",
   "metadata": {},
   "source": [
    "## 2.2. Подсчёт метрик для каждого пользователя <a id=\"counting\"></a>"
   ]
  },
  {
   "cell_type": "markdown",
   "metadata": {},
   "source": [
    "Необходимо посчитать для каждого пользователя следующие метрики:   \n",
    "* количество сделанных звонков и израсходованных минут разговора по месяцам;  \n",
    "* количество отправленных сообщений по месяцам;   \n",
    "* объем израсходованного интернет-трафика по месяцам;   \n",
    "* помесячную выручку с каждого пользователя."
   ]
  },
  {
   "cell_type": "code",
   "execution_count": 15,
   "metadata": {},
   "outputs": [],
   "source": [
    "#Добавим в таблицу calls колонку с порядковым чиcлом месяца - month и запишем, в неё порядковый номер месяца\n",
    "calls['month'] = calls['call_date'].apply(lambda x: x.month)\n",
    "#calls['month'] = calls['month'].map(months) # И поменяем значения на названия месяцев\n",
    "#calls.head()"
   ]
  },
  {
   "cell_type": "code",
   "execution_count": 16,
   "metadata": {},
   "outputs": [],
   "source": [
    "#Добавим в таблицу messages колонку с порядковым чиcлом месяца - month и запишем, в неё порядковый номер месяца\n",
    "messages['month'] = messages['message_date'].apply(lambda x: x.month)\n",
    "#messages['month'] = messages['month'].map(months) #И поменяем значения на названия месяцев\n",
    "#messages.head()"
   ]
  },
  {
   "cell_type": "code",
   "execution_count": 17,
   "metadata": {},
   "outputs": [],
   "source": [
    "#Добавим в таблицу internet колонку с порядковым чиcлом месяца - month и запишем, в неё порядковый номер месяца\n",
    "internet['month'] = internet['session_date'].apply(lambda x: x.month)\n",
    "#internet['month'] = internet['month'].map(months) #И поменяем значения на названия месяцев\n",
    "#internet.head()"
   ]
  },
  {
   "cell_type": "markdown",
   "metadata": {},
   "source": [
    "Для расчёта необходимых метрик по каждому из клиентов используем сводные таблицы"
   ]
  },
  {
   "cell_type": "code",
   "execution_count": 18,
   "metadata": {},
   "outputs": [],
   "source": [
    "# Округлим значения длительности звонков и объёма интернет-трафика до целых чисел в большую сторону \n",
    "# с помощью функции ceil() библиотеки numpy (https://numpy.org/doc/stable/reference/generated/numpy.ceil.html)\n",
    "# Метод round округляет к ближашему целому - как в низ, так и вверх,\n",
    "# и нам он не подойдёт, т.к. по условиям всё округляеся вверх\n",
    "calls['duration'] = np.ceil(calls['duration'])"
   ]
  },
  {
   "cell_type": "code",
   "execution_count": 19,
   "metadata": {},
   "outputs": [
    {
     "data": {
      "text/html": [
       "<div>\n",
       "<style scoped>\n",
       "    .dataframe tbody tr th:only-of-type {\n",
       "        vertical-align: middle;\n",
       "    }\n",
       "\n",
       "    .dataframe tbody tr th {\n",
       "        vertical-align: top;\n",
       "    }\n",
       "\n",
       "    .dataframe thead th {\n",
       "        text-align: right;\n",
       "    }\n",
       "</style>\n",
       "<table border=\"1\" class=\"dataframe\">\n",
       "  <thead>\n",
       "    <tr style=\"text-align: right;\">\n",
       "      <th></th>\n",
       "      <th></th>\n",
       "      <th>calls_count</th>\n",
       "      <th>calls_duration</th>\n",
       "    </tr>\n",
       "    <tr>\n",
       "      <th>user_id</th>\n",
       "      <th>month</th>\n",
       "      <th></th>\n",
       "      <th></th>\n",
       "    </tr>\n",
       "  </thead>\n",
       "  <tbody>\n",
       "    <tr>\n",
       "      <th rowspan=\"5\" valign=\"top\">1000</th>\n",
       "      <th>5</th>\n",
       "      <td>22</td>\n",
       "      <td>159.0</td>\n",
       "    </tr>\n",
       "    <tr>\n",
       "      <th>6</th>\n",
       "      <td>43</td>\n",
       "      <td>172.0</td>\n",
       "    </tr>\n",
       "    <tr>\n",
       "      <th>7</th>\n",
       "      <td>47</td>\n",
       "      <td>340.0</td>\n",
       "    </tr>\n",
       "    <tr>\n",
       "      <th>8</th>\n",
       "      <td>52</td>\n",
       "      <td>408.0</td>\n",
       "    </tr>\n",
       "    <tr>\n",
       "      <th>9</th>\n",
       "      <td>58</td>\n",
       "      <td>466.0</td>\n",
       "    </tr>\n",
       "  </tbody>\n",
       "</table>\n",
       "</div>"
      ],
      "text/plain": [
       "               calls_count  calls_duration\n",
       "user_id month                             \n",
       "1000    5               22           159.0\n",
       "        6               43           172.0\n",
       "        7               47           340.0\n",
       "        8               52           408.0\n",
       "        9               58           466.0"
      ]
     },
     "execution_count": 19,
     "metadata": {},
     "output_type": "execute_result"
    }
   ],
   "source": [
    "# Создадам pivot_table по таблице calls, сгуппировав значения по 'user_id' и 'month' \n",
    "# подсчитав число звонков и их продолжительность\n",
    "calls_pivot = calls.pivot_table(index=['user_id', 'month'], aggfunc={'call_date':'count', 'duration':sum}) \n",
    "calls_pivot.columns = ['calls_count', 'calls_duration'] #переименуем колонки, дав им содержательные названия\n",
    "calls_pivot.head()\n",
    "# Этой же логики будем придерживаться и с другими таблицами"
   ]
  },
  {
   "cell_type": "code",
   "execution_count": 20,
   "metadata": {},
   "outputs": [
    {
     "data": {
      "text/html": [
       "<div>\n",
       "<style scoped>\n",
       "    .dataframe tbody tr th:only-of-type {\n",
       "        vertical-align: middle;\n",
       "    }\n",
       "\n",
       "    .dataframe tbody tr th {\n",
       "        vertical-align: top;\n",
       "    }\n",
       "\n",
       "    .dataframe thead th {\n",
       "        text-align: right;\n",
       "    }\n",
       "</style>\n",
       "<table border=\"1\" class=\"dataframe\">\n",
       "  <thead>\n",
       "    <tr style=\"text-align: right;\">\n",
       "      <th></th>\n",
       "      <th></th>\n",
       "      <th>messages_count</th>\n",
       "    </tr>\n",
       "    <tr>\n",
       "      <th>user_id</th>\n",
       "      <th>month</th>\n",
       "      <th></th>\n",
       "    </tr>\n",
       "  </thead>\n",
       "  <tbody>\n",
       "    <tr>\n",
       "      <th rowspan=\"5\" valign=\"top\">1000</th>\n",
       "      <th>5</th>\n",
       "      <td>22</td>\n",
       "    </tr>\n",
       "    <tr>\n",
       "      <th>6</th>\n",
       "      <td>60</td>\n",
       "    </tr>\n",
       "    <tr>\n",
       "      <th>7</th>\n",
       "      <td>75</td>\n",
       "    </tr>\n",
       "    <tr>\n",
       "      <th>8</th>\n",
       "      <td>81</td>\n",
       "    </tr>\n",
       "    <tr>\n",
       "      <th>9</th>\n",
       "      <td>57</td>\n",
       "    </tr>\n",
       "  </tbody>\n",
       "</table>\n",
       "</div>"
      ],
      "text/plain": [
       "               messages_count\n",
       "user_id month                \n",
       "1000    5                  22\n",
       "        6                  60\n",
       "        7                  75\n",
       "        8                  81\n",
       "        9                  57"
      ]
     },
     "execution_count": 20,
     "metadata": {},
     "output_type": "execute_result"
    }
   ],
   "source": [
    "messages_pivot = messages.pivot_table(index=['user_id', 'month'], aggfunc={'id':'count'}) #Подсчитаем частоту \n",
    "messages_pivot.columns = ['messages_count'] #переименуем колонки, дав им содержательные названия\n",
    "messages_pivot.head()"
   ]
  },
  {
   "cell_type": "code",
   "execution_count": 21,
   "metadata": {},
   "outputs": [
    {
     "data": {
      "text/html": [
       "<div>\n",
       "<style scoped>\n",
       "    .dataframe tbody tr th:only-of-type {\n",
       "        vertical-align: middle;\n",
       "    }\n",
       "\n",
       "    .dataframe tbody tr th {\n",
       "        vertical-align: top;\n",
       "    }\n",
       "\n",
       "    .dataframe thead th {\n",
       "        text-align: right;\n",
       "    }\n",
       "</style>\n",
       "<table border=\"1\" class=\"dataframe\">\n",
       "  <thead>\n",
       "    <tr style=\"text-align: right;\">\n",
       "      <th></th>\n",
       "      <th></th>\n",
       "      <th>traffic_volume</th>\n",
       "    </tr>\n",
       "    <tr>\n",
       "      <th>user_id</th>\n",
       "      <th>month</th>\n",
       "      <th></th>\n",
       "    </tr>\n",
       "  </thead>\n",
       "  <tbody>\n",
       "    <tr>\n",
       "      <th rowspan=\"5\" valign=\"top\">1000</th>\n",
       "      <th>5</th>\n",
       "      <td>2253.49</td>\n",
       "    </tr>\n",
       "    <tr>\n",
       "      <th>6</th>\n",
       "      <td>23233.77</td>\n",
       "    </tr>\n",
       "    <tr>\n",
       "      <th>7</th>\n",
       "      <td>14003.64</td>\n",
       "    </tr>\n",
       "    <tr>\n",
       "      <th>8</th>\n",
       "      <td>14055.93</td>\n",
       "    </tr>\n",
       "    <tr>\n",
       "      <th>9</th>\n",
       "      <td>14568.91</td>\n",
       "    </tr>\n",
       "  </tbody>\n",
       "</table>\n",
       "</div>"
      ],
      "text/plain": [
       "               traffic_volume\n",
       "user_id month                \n",
       "1000    5             2253.49\n",
       "        6            23233.77\n",
       "        7            14003.64\n",
       "        8            14055.93\n",
       "        9            14568.91"
      ]
     },
     "execution_count": 21,
     "metadata": {},
     "output_type": "execute_result"
    }
   ],
   "source": [
    "internet_pivot = internet.pivot_table(index=['user_id', 'month'], aggfunc={'mb_used':sum}) #Подсчитаем сумму \n",
    "internet_pivot.columns = ['traffic_volume'] #переименуем колонки, дав им содержательные названия\n",
    "internet_pivot.head()"
   ]
  },
  {
   "cell_type": "markdown",
   "metadata": {},
   "source": [
    "Для подсчёта помесячной выручки с каждого пользователя объеденим таблицу users и полученные сводные таблицы мотодом join"
   ]
  },
  {
   "cell_type": "code",
   "execution_count": 22,
   "metadata": {},
   "outputs": [
    {
     "data": {
      "text/html": [
       "<div>\n",
       "<style scoped>\n",
       "    .dataframe tbody tr th:only-of-type {\n",
       "        vertical-align: middle;\n",
       "    }\n",
       "\n",
       "    .dataframe tbody tr th {\n",
       "        vertical-align: top;\n",
       "    }\n",
       "\n",
       "    .dataframe thead th {\n",
       "        text-align: right;\n",
       "    }\n",
       "</style>\n",
       "<table border=\"1\" class=\"dataframe\">\n",
       "  <thead>\n",
       "    <tr style=\"text-align: right;\">\n",
       "      <th></th>\n",
       "      <th>month</th>\n",
       "      <th>calls_count</th>\n",
       "      <th>calls_duration</th>\n",
       "      <th>messages_count</th>\n",
       "      <th>traffic_volume</th>\n",
       "    </tr>\n",
       "    <tr>\n",
       "      <th>user_id</th>\n",
       "      <th></th>\n",
       "      <th></th>\n",
       "      <th></th>\n",
       "      <th></th>\n",
       "      <th></th>\n",
       "    </tr>\n",
       "  </thead>\n",
       "  <tbody>\n",
       "    <tr>\n",
       "      <th>1000</th>\n",
       "      <td>5</td>\n",
       "      <td>22.0</td>\n",
       "      <td>159.0</td>\n",
       "      <td>22.0</td>\n",
       "      <td>2253.49</td>\n",
       "    </tr>\n",
       "    <tr>\n",
       "      <th>1000</th>\n",
       "      <td>6</td>\n",
       "      <td>43.0</td>\n",
       "      <td>172.0</td>\n",
       "      <td>60.0</td>\n",
       "      <td>23233.77</td>\n",
       "    </tr>\n",
       "    <tr>\n",
       "      <th>1000</th>\n",
       "      <td>7</td>\n",
       "      <td>47.0</td>\n",
       "      <td>340.0</td>\n",
       "      <td>75.0</td>\n",
       "      <td>14003.64</td>\n",
       "    </tr>\n",
       "    <tr>\n",
       "      <th>1000</th>\n",
       "      <td>8</td>\n",
       "      <td>52.0</td>\n",
       "      <td>408.0</td>\n",
       "      <td>81.0</td>\n",
       "      <td>14055.93</td>\n",
       "    </tr>\n",
       "    <tr>\n",
       "      <th>1000</th>\n",
       "      <td>9</td>\n",
       "      <td>58.0</td>\n",
       "      <td>466.0</td>\n",
       "      <td>57.0</td>\n",
       "      <td>14568.91</td>\n",
       "    </tr>\n",
       "  </tbody>\n",
       "</table>\n",
       "</div>"
      ],
      "text/plain": [
       "         month  calls_count  calls_duration  messages_count  traffic_volume\n",
       "user_id                                                                    \n",
       "1000         5         22.0           159.0            22.0         2253.49\n",
       "1000         6         43.0           172.0            60.0        23233.77\n",
       "1000         7         47.0           340.0            75.0        14003.64\n",
       "1000         8         52.0           408.0            81.0        14055.93\n",
       "1000         9         58.0           466.0            57.0        14568.91"
      ]
     },
     "execution_count": 22,
     "metadata": {},
     "output_type": "execute_result"
    }
   ],
   "source": [
    "# При помощи метода join объеденим все сводные таблицы по индексам и сбросим индекс month\n",
    "# Заменил на метод outer\n",
    "users_pivot = calls_pivot.join([messages_pivot, internet_pivot], how='outer').reset_index(level='month')\n",
    "users_pivot.head()"
   ]
  },
  {
   "cell_type": "code",
   "execution_count": 23,
   "metadata": {},
   "outputs": [
    {
     "name": "stdout",
     "output_type": "stream",
     "text": [
      "55305267.730000004\n",
      "55305267.730000004\n",
      "123036\n",
      "123036.0\n",
      "1450301.0\n",
      "1450301.0\n"
     ]
    }
   ],
   "source": [
    "# Проверка\n",
    "print(internet_pivot['traffic_volume'].sum())\n",
    "print(users_pivot['traffic_volume'].sum())\n",
    "print(messages_pivot['messages_count'].sum())\n",
    "print(users_pivot['messages_count'].sum())\n",
    "print(calls_pivot['calls_duration'].sum())\n",
    "print(users_pivot['calls_duration'].sum())"
   ]
  },
  {
   "cell_type": "code",
   "execution_count": 24,
   "metadata": {},
   "outputs": [
    {
     "name": "stdout",
     "output_type": "stream",
     "text": [
      "<class 'pandas.core.frame.DataFrame'>\n",
      "Int64Index: 3214 entries, 1000 to 1499\n",
      "Data columns (total 5 columns):\n",
      " #   Column          Non-Null Count  Dtype  \n",
      "---  ------          --------------  -----  \n",
      " 0   month           3214 non-null   int64  \n",
      " 1   calls_count     3174 non-null   float64\n",
      " 2   calls_duration  3174 non-null   float64\n",
      " 3   messages_count  2717 non-null   float64\n",
      " 4   traffic_volume  3203 non-null   float64\n",
      "dtypes: float64(4), int64(1)\n",
      "memory usage: 150.7 KB\n"
     ]
    }
   ],
   "source": [
    "users_pivot.info()"
   ]
  },
  {
   "cell_type": "code",
   "execution_count": 25,
   "metadata": {},
   "outputs": [
    {
     "data": {
      "text/html": [
       "<div>\n",
       "<style scoped>\n",
       "    .dataframe tbody tr th:only-of-type {\n",
       "        vertical-align: middle;\n",
       "    }\n",
       "\n",
       "    .dataframe tbody tr th {\n",
       "        vertical-align: top;\n",
       "    }\n",
       "\n",
       "    .dataframe thead th {\n",
       "        text-align: right;\n",
       "    }\n",
       "</style>\n",
       "<table border=\"1\" class=\"dataframe\">\n",
       "  <thead>\n",
       "    <tr style=\"text-align: right;\">\n",
       "      <th></th>\n",
       "      <th>user_id</th>\n",
       "      <th>age</th>\n",
       "      <th>churn_date</th>\n",
       "      <th>city</th>\n",
       "      <th>first_name</th>\n",
       "      <th>last_name</th>\n",
       "      <th>reg_date</th>\n",
       "      <th>tariff</th>\n",
       "      <th>month</th>\n",
       "      <th>calls_count</th>\n",
       "      <th>calls_duration</th>\n",
       "      <th>messages_count</th>\n",
       "      <th>traffic_volume</th>\n",
       "    </tr>\n",
       "  </thead>\n",
       "  <tbody>\n",
       "    <tr>\n",
       "      <th>0</th>\n",
       "      <td>1000</td>\n",
       "      <td>52</td>\n",
       "      <td>NaN</td>\n",
       "      <td>Краснодар</td>\n",
       "      <td>Рафаил</td>\n",
       "      <td>Верещагин</td>\n",
       "      <td>2018-05-25</td>\n",
       "      <td>ultra</td>\n",
       "      <td>5.0</td>\n",
       "      <td>22.0</td>\n",
       "      <td>159.0</td>\n",
       "      <td>22.0</td>\n",
       "      <td>2254.0</td>\n",
       "    </tr>\n",
       "    <tr>\n",
       "      <th>0</th>\n",
       "      <td>1000</td>\n",
       "      <td>52</td>\n",
       "      <td>NaN</td>\n",
       "      <td>Краснодар</td>\n",
       "      <td>Рафаил</td>\n",
       "      <td>Верещагин</td>\n",
       "      <td>2018-05-25</td>\n",
       "      <td>ultra</td>\n",
       "      <td>6.0</td>\n",
       "      <td>43.0</td>\n",
       "      <td>172.0</td>\n",
       "      <td>60.0</td>\n",
       "      <td>23234.0</td>\n",
       "    </tr>\n",
       "    <tr>\n",
       "      <th>0</th>\n",
       "      <td>1000</td>\n",
       "      <td>52</td>\n",
       "      <td>NaN</td>\n",
       "      <td>Краснодар</td>\n",
       "      <td>Рафаил</td>\n",
       "      <td>Верещагин</td>\n",
       "      <td>2018-05-25</td>\n",
       "      <td>ultra</td>\n",
       "      <td>7.0</td>\n",
       "      <td>47.0</td>\n",
       "      <td>340.0</td>\n",
       "      <td>75.0</td>\n",
       "      <td>14004.0</td>\n",
       "    </tr>\n",
       "    <tr>\n",
       "      <th>0</th>\n",
       "      <td>1000</td>\n",
       "      <td>52</td>\n",
       "      <td>NaN</td>\n",
       "      <td>Краснодар</td>\n",
       "      <td>Рафаил</td>\n",
       "      <td>Верещагин</td>\n",
       "      <td>2018-05-25</td>\n",
       "      <td>ultra</td>\n",
       "      <td>8.0</td>\n",
       "      <td>52.0</td>\n",
       "      <td>408.0</td>\n",
       "      <td>81.0</td>\n",
       "      <td>14056.0</td>\n",
       "    </tr>\n",
       "    <tr>\n",
       "      <th>0</th>\n",
       "      <td>1000</td>\n",
       "      <td>52</td>\n",
       "      <td>NaN</td>\n",
       "      <td>Краснодар</td>\n",
       "      <td>Рафаил</td>\n",
       "      <td>Верещагин</td>\n",
       "      <td>2018-05-25</td>\n",
       "      <td>ultra</td>\n",
       "      <td>9.0</td>\n",
       "      <td>58.0</td>\n",
       "      <td>466.0</td>\n",
       "      <td>57.0</td>\n",
       "      <td>14569.0</td>\n",
       "    </tr>\n",
       "  </tbody>\n",
       "</table>\n",
       "</div>"
      ],
      "text/plain": [
       "   user_id  age churn_date       city first_name  last_name   reg_date tariff  \\\n",
       "0     1000   52        NaN  Краснодар     Рафаил  Верещагин 2018-05-25  ultra   \n",
       "0     1000   52        NaN  Краснодар     Рафаил  Верещагин 2018-05-25  ultra   \n",
       "0     1000   52        NaN  Краснодар     Рафаил  Верещагин 2018-05-25  ultra   \n",
       "0     1000   52        NaN  Краснодар     Рафаил  Верещагин 2018-05-25  ultra   \n",
       "0     1000   52        NaN  Краснодар     Рафаил  Верещагин 2018-05-25  ultra   \n",
       "\n",
       "   month  calls_count  calls_duration  messages_count  traffic_volume  \n",
       "0    5.0         22.0           159.0            22.0          2254.0  \n",
       "0    6.0         43.0           172.0            60.0         23234.0  \n",
       "0    7.0         47.0           340.0            75.0         14004.0  \n",
       "0    8.0         52.0           408.0            81.0         14056.0  \n",
       "0    9.0         58.0           466.0            57.0         14569.0  "
      ]
     },
     "execution_count": 25,
     "metadata": {},
     "output_type": "execute_result"
    }
   ],
   "source": [
    "# Объединяем таблицу users и user_pivot методом join\n",
    "# параметру метода join on передаем значения таблицы users - user_id\n",
    "# метод join будет искать совпадения этих значений с индексами user_pivot и объединять по ним\n",
    "data_pivot = users.join(users_pivot, on='user_id')\n",
    "data_pivot['traffic_volume'] = np.ceil(data_pivot['traffic_volume'])\n",
    "\n",
    "data_pivot.head()"
   ]
  },
  {
   "cell_type": "code",
   "execution_count": 26,
   "metadata": {},
   "outputs": [],
   "source": [
    "# Приведём получившуюся таблицу в порядок\n",
    "# Удалим колонки, которые не пригодятся нам для дальнешего анализа\n",
    "data_pivot = data_pivot.drop(['churn_date', 'first_name', 'last_name', 'reg_date'], axis='columns')"
   ]
  },
  {
   "cell_type": "code",
   "execution_count": 27,
   "metadata": {},
   "outputs": [],
   "source": [
    "# Добавим к таблице data_pivot информацию о тарифах из таблицы tariffs\n",
    "# объеденив таблицы по колонке с названиями тарифов\n",
    "# Но, для этого сначала в tariffs поменяем название нужного колонки tariff_name на tariff\n",
    "tariffs.rename(columns={'tariff_name': 'tariff'}, inplace=True)\n",
    "# Для объденения таблиц применим метод merge, \n",
    "# параметру on передадим колонку с названиями тарифов, параметр how отсвим по умолчанию - inner\n",
    "data_pivot = data_pivot.merge(tariffs, on='tariff')\n",
    "#data_pivot.head()"
   ]
  },
  {
   "cell_type": "code",
   "execution_count": 28,
   "metadata": {},
   "outputs": [
    {
     "data": {
      "text/plain": [
       "user_id                    0\n",
       "age                        0\n",
       "city                       0\n",
       "tariff                     0\n",
       "month                      2\n",
       "calls_count               42\n",
       "calls_duration            42\n",
       "messages_count           499\n",
       "traffic_volume            13\n",
       "messages_included          0\n",
       "mb_per_month_included      0\n",
       "minutes_included           0\n",
       "rub_monthly_fee            0\n",
       "rub_per_gb                 0\n",
       "rub_per_message            0\n",
       "rub_per_minute             0\n",
       "dtype: int64"
      ]
     },
     "execution_count": 28,
     "metadata": {},
     "output_type": "execute_result"
    }
   ],
   "source": [
    "# Проверим наличие пропусков\n",
    "data_pivot.isnull().sum()"
   ]
  },
  {
   "cell_type": "markdown",
   "metadata": {},
   "source": [
    "**Вывод** в объедененной таблице есть пропущенные значения: в колонках month, calls_count, calls_duration (по 8 пропусков), messages_count (504 пропуска) и traffic_volume (19 пропусков).   \n",
    "1. Пропуски в колонке month - удалим, заменить их нулём, средним или медианной нельзя, и мы потеряем небольшое число наблюдений.    \n",
    "1. Пропуски в колонках calls_count, calls_duration и traffic_volume - заменил на ноль, это не должно повлиять на общую картину.  \n",
    "1. Пропуски в колонке messages_count - заменил на ноль - возможно пропуски означают что клинеты не отправляи SMS, **НО!** если это не так - замены могут повлиять на наши выводы."
   ]
  },
  {
   "cell_type": "code",
   "execution_count": 29,
   "metadata": {},
   "outputs": [],
   "source": [
    "# Пропуски в колонке month - удалим\n",
    "data_pivot = data_pivot.dropna(subset=['month'])\n",
    "\n",
    "# В остальных калонках заменим пропуски на ноль\n",
    "data_pivot = data_pivot.fillna(0)\n",
    "#data_pivot.isnull().sum() #Пропусков нет"
   ]
  },
  {
   "cell_type": "markdown",
   "metadata": {},
   "source": [
    "**Подитожим** у нас есть соводная таблица по всем пользователям с объёмом потребляемых ими услуг, тарифом и его деталями."
   ]
  },
  {
   "cell_type": "markdown",
   "metadata": {},
   "source": [
    "## 2.3. Расчёт помесячной выручки каждого из пользователей <a id=\"сalculation\"></a>"
   ]
  },
  {
   "cell_type": "markdown",
   "metadata": {},
   "source": [
    "Рассчитаем помесячную выручку при помощи функции"
   ]
  },
  {
   "cell_type": "code",
   "execution_count": 30,
   "metadata": {},
   "outputs": [],
   "source": [
    "# Напишем функцию, которая будет принимать строки таблицы data_pivot как аргументы\n",
    "def total_monthly_account(row):\n",
    "    \n",
    "# Зададим переменные:\n",
    "    account_minutes = 0 # Счёт за минуты сверх плана\n",
    "    account_sms = 0 # Счёт за SMS сверх плана\n",
    "    account_traffic = 0 # Счёт за интренет-трафик сверх плана\n",
    "    minutes = row['calls_duration'] # Ежемесячная продолжительсть звоноков\n",
    "    sms = row['messages_count'] # Ежемесячное число SMS\n",
    "    traffic = row['traffic_volume'] # Ежемесячный трафик\n",
    "    tariff = row['tariff'] # Название тарифа\n",
    "    limit_minutes = row['minutes_included'] # Ежемесячный лимит минут входящих в цену тарифа\n",
    "    limit_sms = row['messages_included'] # Ежемесячный лимит SMS входящих в цену тарифа \n",
    "    limit_traffic = row['mb_per_month_included'] # Ежемесячный лимит трафика входящий в цену тарифа \n",
    "    rub_monthly_fee = row['rub_monthly_fee'] # Ежемесячный палатёж за тариф\n",
    "    rub_per_gb = row['rub_per_gb'] # Цена Гб трафика сверх объема трифа\n",
    "    rub_per_message = row['rub_per_message'] # Цена SMS сверх объема трифа\n",
    "    rub_per_minute = row['rub_per_minute'] # Цена минуты разговора сверх объема трифа\n",
    "\n",
    "# Проверим разницу между суммарными значениями звонков, сообщений, трафика и бесплатным лимитом тарифа.\n",
    "# Если эта разница меньше нуля, то возвращаем ноль - клиент не израсходовал бесплатный лимит\n",
    "# Если больше - то разницу умножаем на стоимость сверх тарифного плана.\n",
    "    \n",
    "    if minutes > limit_minutes:\n",
    "        account_minutes += (minutes - limit_minutes) * rub_per_minute\n",
    "    if minutes < limit_minutes:\n",
    "        account_minutes = 0\n",
    "    if sms > limit_sms:\n",
    "        account_sms += (sms - limit_sms) * rub_per_message\n",
    "    if sms < limit_sms:\n",
    "        account_sms = 0\n",
    "    if traffic > limit_traffic:\n",
    "        account_traffic += (np.ceil((traffic - limit_traffic) / 1024 )) * rub_per_gb # округляем мегабайты вверх до гигабайт\n",
    "    if traffic < limit_traffic:\n",
    "        account_traffic = 0\n",
    "        \n",
    "# Функция возвращает итоговый счет за месяц для клиента,\n",
    "# в котором к сумме счетов за отдельные категории услуг прибавляется абонентская плата за тариф\n",
    "    return account_minutes + account_sms + account_traffic + rub_monthly_fee     "
   ]
  },
  {
   "cell_type": "code",
   "execution_count": 31,
   "metadata": {},
   "outputs": [
    {
     "data": {
      "text/html": [
       "<div>\n",
       "<style scoped>\n",
       "    .dataframe tbody tr th:only-of-type {\n",
       "        vertical-align: middle;\n",
       "    }\n",
       "\n",
       "    .dataframe tbody tr th {\n",
       "        vertical-align: top;\n",
       "    }\n",
       "\n",
       "    .dataframe thead th {\n",
       "        text-align: right;\n",
       "    }\n",
       "</style>\n",
       "<table border=\"1\" class=\"dataframe\">\n",
       "  <thead>\n",
       "    <tr style=\"text-align: right;\">\n",
       "      <th></th>\n",
       "      <th>user_id</th>\n",
       "      <th>age</th>\n",
       "      <th>city</th>\n",
       "      <th>tariff</th>\n",
       "      <th>month</th>\n",
       "      <th>calls_count</th>\n",
       "      <th>calls_duration</th>\n",
       "      <th>messages_count</th>\n",
       "      <th>traffic_volume</th>\n",
       "      <th>messages_included</th>\n",
       "      <th>mb_per_month_included</th>\n",
       "      <th>minutes_included</th>\n",
       "      <th>rub_monthly_fee</th>\n",
       "      <th>rub_per_gb</th>\n",
       "      <th>rub_per_message</th>\n",
       "      <th>rub_per_minute</th>\n",
       "      <th>total_account</th>\n",
       "    </tr>\n",
       "  </thead>\n",
       "  <tbody>\n",
       "    <tr>\n",
       "      <th>0</th>\n",
       "      <td>1000</td>\n",
       "      <td>52</td>\n",
       "      <td>Краснодар</td>\n",
       "      <td>ultra</td>\n",
       "      <td>5.0</td>\n",
       "      <td>22.0</td>\n",
       "      <td>159.0</td>\n",
       "      <td>22.0</td>\n",
       "      <td>2254.0</td>\n",
       "      <td>1000</td>\n",
       "      <td>30720</td>\n",
       "      <td>3000</td>\n",
       "      <td>1950</td>\n",
       "      <td>150</td>\n",
       "      <td>1</td>\n",
       "      <td>1</td>\n",
       "      <td>1950.0</td>\n",
       "    </tr>\n",
       "    <tr>\n",
       "      <th>1</th>\n",
       "      <td>1000</td>\n",
       "      <td>52</td>\n",
       "      <td>Краснодар</td>\n",
       "      <td>ultra</td>\n",
       "      <td>6.0</td>\n",
       "      <td>43.0</td>\n",
       "      <td>172.0</td>\n",
       "      <td>60.0</td>\n",
       "      <td>23234.0</td>\n",
       "      <td>1000</td>\n",
       "      <td>30720</td>\n",
       "      <td>3000</td>\n",
       "      <td>1950</td>\n",
       "      <td>150</td>\n",
       "      <td>1</td>\n",
       "      <td>1</td>\n",
       "      <td>1950.0</td>\n",
       "    </tr>\n",
       "    <tr>\n",
       "      <th>2</th>\n",
       "      <td>1000</td>\n",
       "      <td>52</td>\n",
       "      <td>Краснодар</td>\n",
       "      <td>ultra</td>\n",
       "      <td>7.0</td>\n",
       "      <td>47.0</td>\n",
       "      <td>340.0</td>\n",
       "      <td>75.0</td>\n",
       "      <td>14004.0</td>\n",
       "      <td>1000</td>\n",
       "      <td>30720</td>\n",
       "      <td>3000</td>\n",
       "      <td>1950</td>\n",
       "      <td>150</td>\n",
       "      <td>1</td>\n",
       "      <td>1</td>\n",
       "      <td>1950.0</td>\n",
       "    </tr>\n",
       "    <tr>\n",
       "      <th>3</th>\n",
       "      <td>1000</td>\n",
       "      <td>52</td>\n",
       "      <td>Краснодар</td>\n",
       "      <td>ultra</td>\n",
       "      <td>8.0</td>\n",
       "      <td>52.0</td>\n",
       "      <td>408.0</td>\n",
       "      <td>81.0</td>\n",
       "      <td>14056.0</td>\n",
       "      <td>1000</td>\n",
       "      <td>30720</td>\n",
       "      <td>3000</td>\n",
       "      <td>1950</td>\n",
       "      <td>150</td>\n",
       "      <td>1</td>\n",
       "      <td>1</td>\n",
       "      <td>1950.0</td>\n",
       "    </tr>\n",
       "    <tr>\n",
       "      <th>4</th>\n",
       "      <td>1000</td>\n",
       "      <td>52</td>\n",
       "      <td>Краснодар</td>\n",
       "      <td>ultra</td>\n",
       "      <td>9.0</td>\n",
       "      <td>58.0</td>\n",
       "      <td>466.0</td>\n",
       "      <td>57.0</td>\n",
       "      <td>14569.0</td>\n",
       "      <td>1000</td>\n",
       "      <td>30720</td>\n",
       "      <td>3000</td>\n",
       "      <td>1950</td>\n",
       "      <td>150</td>\n",
       "      <td>1</td>\n",
       "      <td>1</td>\n",
       "      <td>1950.0</td>\n",
       "    </tr>\n",
       "  </tbody>\n",
       "</table>\n",
       "</div>"
      ],
      "text/plain": [
       "   user_id  age       city tariff  month  calls_count  calls_duration  \\\n",
       "0     1000   52  Краснодар  ultra    5.0         22.0           159.0   \n",
       "1     1000   52  Краснодар  ultra    6.0         43.0           172.0   \n",
       "2     1000   52  Краснодар  ultra    7.0         47.0           340.0   \n",
       "3     1000   52  Краснодар  ultra    8.0         52.0           408.0   \n",
       "4     1000   52  Краснодар  ultra    9.0         58.0           466.0   \n",
       "\n",
       "   messages_count  traffic_volume  messages_included  mb_per_month_included  \\\n",
       "0            22.0          2254.0               1000                  30720   \n",
       "1            60.0         23234.0               1000                  30720   \n",
       "2            75.0         14004.0               1000                  30720   \n",
       "3            81.0         14056.0               1000                  30720   \n",
       "4            57.0         14569.0               1000                  30720   \n",
       "\n",
       "   minutes_included  rub_monthly_fee  rub_per_gb  rub_per_message  \\\n",
       "0              3000             1950         150                1   \n",
       "1              3000             1950         150                1   \n",
       "2              3000             1950         150                1   \n",
       "3              3000             1950         150                1   \n",
       "4              3000             1950         150                1   \n",
       "\n",
       "   rub_per_minute  total_account  \n",
       "0               1         1950.0  \n",
       "1               1         1950.0  \n",
       "2               1         1950.0  \n",
       "3               1         1950.0  \n",
       "4               1         1950.0  "
      ]
     },
     "execution_count": 31,
     "metadata": {},
     "output_type": "execute_result"
    }
   ],
   "source": [
    "#С помощью метода apply() применяем функцию ко всем строкам таблицы data_pivot, \n",
    "# записывая тоговую сумму в новую колонку total_account\n",
    "data_pivot['total_account'] = data_pivot.apply(total_monthly_account, axis=1) # axis=1 чтобы метод принимал строки, а не колонки\n",
    "data_pivot.head()"
   ]
  },
  {
   "cell_type": "markdown",
   "metadata": {},
   "source": [
    "**Подитожим** Теперь мы знаем сколько потратил каждый из клиентов за время использования тарифа."
   ]
  },
  {
   "cell_type": "markdown",
   "metadata": {},
   "source": [
    "---"
   ]
  },
  {
   "cell_type": "markdown",
   "metadata": {},
   "source": [
    "# 3. Анализ данных <a id=\"analysis\"></a>"
   ]
  },
  {
   "cell_type": "markdown",
   "metadata": {},
   "source": [
    "## 3.1. Анализ поведения клиентов разных тарифов <a id=\"behaviour_analysis\"></a>"
   ]
  },
  {
   "cell_type": "markdown",
   "metadata": {},
   "source": [
    "Агрегируем данные из таблицы data_pivot в разрезе тарифов и месяцев.  "
   ]
  },
  {
   "cell_type": "code",
   "execution_count": 32,
   "metadata": {},
   "outputs": [
    {
     "data": {
      "text/html": [
       "<div>\n",
       "<style scoped>\n",
       "    .dataframe tbody tr th:only-of-type {\n",
       "        vertical-align: middle;\n",
       "    }\n",
       "\n",
       "    .dataframe tbody tr th {\n",
       "        vertical-align: top;\n",
       "    }\n",
       "\n",
       "    .dataframe thead th {\n",
       "        text-align: right;\n",
       "    }\n",
       "</style>\n",
       "<table border=\"1\" class=\"dataframe\">\n",
       "  <thead>\n",
       "    <tr style=\"text-align: right;\">\n",
       "      <th></th>\n",
       "      <th>month</th>\n",
       "      <th>calls_count</th>\n",
       "      <th>calls_duration</th>\n",
       "      <th>messages_count</th>\n",
       "      <th>total_account</th>\n",
       "      <th>traffic_volume</th>\n",
       "    </tr>\n",
       "    <tr>\n",
       "      <th>tariff</th>\n",
       "      <th></th>\n",
       "      <th></th>\n",
       "      <th></th>\n",
       "      <th></th>\n",
       "      <th></th>\n",
       "      <th></th>\n",
       "    </tr>\n",
       "  </thead>\n",
       "  <tbody>\n",
       "    <tr>\n",
       "      <th>smart</th>\n",
       "      <td>1.0</td>\n",
       "      <td>941.0</td>\n",
       "      <td>6931.0</td>\n",
       "      <td>620.0</td>\n",
       "      <td>24525.0</td>\n",
       "      <td>289482.0</td>\n",
       "    </tr>\n",
       "    <tr>\n",
       "      <th>smart</th>\n",
       "      <td>2.0</td>\n",
       "      <td>2331.0</td>\n",
       "      <td>17324.0</td>\n",
       "      <td>1397.0</td>\n",
       "      <td>48001.0</td>\n",
       "      <td>672656.0</td>\n",
       "    </tr>\n",
       "    <tr>\n",
       "      <th>smart</th>\n",
       "      <td>3.0</td>\n",
       "      <td>4183.0</td>\n",
       "      <td>30034.0</td>\n",
       "      <td>2453.0</td>\n",
       "      <td>89676.0</td>\n",
       "      <td>1163058.0</td>\n",
       "    </tr>\n",
       "    <tr>\n",
       "      <th>smart</th>\n",
       "      <td>4.0</td>\n",
       "      <td>5747.0</td>\n",
       "      <td>41119.0</td>\n",
       "      <td>3443.0</td>\n",
       "      <td>107866.0</td>\n",
       "      <td>1507817.0</td>\n",
       "    </tr>\n",
       "    <tr>\n",
       "      <th>smart</th>\n",
       "      <td>5.0</td>\n",
       "      <td>7789.0</td>\n",
       "      <td>54618.0</td>\n",
       "      <td>4762.0</td>\n",
       "      <td>168849.0</td>\n",
       "      <td>2228598.0</td>\n",
       "    </tr>\n",
       "    <tr>\n",
       "      <th>smart</th>\n",
       "      <td>6.0</td>\n",
       "      <td>9110.0</td>\n",
       "      <td>64885.0</td>\n",
       "      <td>5478.0</td>\n",
       "      <td>197459.0</td>\n",
       "      <td>2590405.0</td>\n",
       "    </tr>\n",
       "    <tr>\n",
       "      <th>smart</th>\n",
       "      <td>7.0</td>\n",
       "      <td>11402.0</td>\n",
       "      <td>82079.0</td>\n",
       "      <td>6784.0</td>\n",
       "      <td>246014.0</td>\n",
       "      <td>3164469.0</td>\n",
       "    </tr>\n",
       "    <tr>\n",
       "      <th>smart</th>\n",
       "      <td>8.0</td>\n",
       "      <td>13860.0</td>\n",
       "      <td>99045.0</td>\n",
       "      <td>7905.0</td>\n",
       "      <td>310340.0</td>\n",
       "      <td>3903634.0</td>\n",
       "    </tr>\n",
       "    <tr>\n",
       "      <th>smart</th>\n",
       "      <td>9.0</td>\n",
       "      <td>15482.0</td>\n",
       "      <td>111439.0</td>\n",
       "      <td>8746.0</td>\n",
       "      <td>324986.0</td>\n",
       "      <td>4239065.0</td>\n",
       "    </tr>\n",
       "    <tr>\n",
       "      <th>smart</th>\n",
       "      <td>10.0</td>\n",
       "      <td>17629.0</td>\n",
       "      <td>125284.0</td>\n",
       "      <td>9927.0</td>\n",
       "      <td>401267.0</td>\n",
       "      <td>4926730.0</td>\n",
       "    </tr>\n",
       "    <tr>\n",
       "      <th>smart</th>\n",
       "      <td>11.0</td>\n",
       "      <td>19435.0</td>\n",
       "      <td>137544.0</td>\n",
       "      <td>10768.0</td>\n",
       "      <td>424403.0</td>\n",
       "      <td>5339197.0</td>\n",
       "    </tr>\n",
       "    <tr>\n",
       "      <th>smart</th>\n",
       "      <td>12.0</td>\n",
       "      <td>22406.0</td>\n",
       "      <td>161275.0</td>\n",
       "      <td>12130.0</td>\n",
       "      <td>531965.0</td>\n",
       "      <td>6104468.0</td>\n",
       "    </tr>\n",
       "    <tr>\n",
       "      <th>ultra</th>\n",
       "      <td>1.0</td>\n",
       "      <td>535.0</td>\n",
       "      <td>3853.0</td>\n",
       "      <td>304.0</td>\n",
       "      <td>17550.0</td>\n",
       "      <td>118272.0</td>\n",
       "    </tr>\n",
       "    <tr>\n",
       "      <th>ultra</th>\n",
       "      <td>2.0</td>\n",
       "      <td>997.0</td>\n",
       "      <td>7131.0</td>\n",
       "      <td>527.0</td>\n",
       "      <td>47400.0</td>\n",
       "      <td>282632.0</td>\n",
       "    </tr>\n",
       "    <tr>\n",
       "      <th>ultra</th>\n",
       "      <td>3.0</td>\n",
       "      <td>2504.0</td>\n",
       "      <td>18117.0</td>\n",
       "      <td>1195.0</td>\n",
       "      <td>74550.0</td>\n",
       "      <td>648835.0</td>\n",
       "    </tr>\n",
       "    <tr>\n",
       "      <th>ultra</th>\n",
       "      <td>4.0</td>\n",
       "      <td>3525.0</td>\n",
       "      <td>25191.0</td>\n",
       "      <td>1736.0</td>\n",
       "      <td>110100.0</td>\n",
       "      <td>925574.0</td>\n",
       "    </tr>\n",
       "    <tr>\n",
       "      <th>ultra</th>\n",
       "      <td>5.0</td>\n",
       "      <td>4858.0</td>\n",
       "      <td>34192.0</td>\n",
       "      <td>2536.0</td>\n",
       "      <td>138000.0</td>\n",
       "      <td>1297366.0</td>\n",
       "    </tr>\n",
       "    <tr>\n",
       "      <th>ultra</th>\n",
       "      <td>6.0</td>\n",
       "      <td>5606.0</td>\n",
       "      <td>40295.0</td>\n",
       "      <td>3505.0</td>\n",
       "      <td>171300.0</td>\n",
       "      <td>1589735.0</td>\n",
       "    </tr>\n",
       "    <tr>\n",
       "      <th>ultra</th>\n",
       "      <td>7.0</td>\n",
       "      <td>6896.0</td>\n",
       "      <td>49667.0</td>\n",
       "      <td>4536.0</td>\n",
       "      <td>192750.0</td>\n",
       "      <td>1865150.0</td>\n",
       "    </tr>\n",
       "    <tr>\n",
       "      <th>ultra</th>\n",
       "      <td>8.0</td>\n",
       "      <td>7628.0</td>\n",
       "      <td>54653.0</td>\n",
       "      <td>5183.0</td>\n",
       "      <td>222900.0</td>\n",
       "      <td>2094693.0</td>\n",
       "    </tr>\n",
       "    <tr>\n",
       "      <th>ultra</th>\n",
       "      <td>9.0</td>\n",
       "      <td>8579.0</td>\n",
       "      <td>62036.0</td>\n",
       "      <td>6013.0</td>\n",
       "      <td>232800.0</td>\n",
       "      <td>2208549.0</td>\n",
       "    </tr>\n",
       "    <tr>\n",
       "      <th>ultra</th>\n",
       "      <td>10.0</td>\n",
       "      <td>9517.0</td>\n",
       "      <td>68644.0</td>\n",
       "      <td>7187.0</td>\n",
       "      <td>254100.0</td>\n",
       "      <td>2465640.0</td>\n",
       "    </tr>\n",
       "    <tr>\n",
       "      <th>ultra</th>\n",
       "      <td>11.0</td>\n",
       "      <td>10066.0</td>\n",
       "      <td>72545.0</td>\n",
       "      <td>7476.0</td>\n",
       "      <td>280350.0</td>\n",
       "      <td>2651500.0</td>\n",
       "    </tr>\n",
       "    <tr>\n",
       "      <th>ultra</th>\n",
       "      <td>12.0</td>\n",
       "      <td>11581.0</td>\n",
       "      <td>82400.0</td>\n",
       "      <td>8425.0</td>\n",
       "      <td>297300.0</td>\n",
       "      <td>3029323.0</td>\n",
       "    </tr>\n",
       "  </tbody>\n",
       "</table>\n",
       "</div>"
      ],
      "text/plain": [
       "        month  calls_count  calls_duration  messages_count  total_account  \\\n",
       "tariff                                                                      \n",
       "smart     1.0        941.0          6931.0           620.0        24525.0   \n",
       "smart     2.0       2331.0         17324.0          1397.0        48001.0   \n",
       "smart     3.0       4183.0         30034.0          2453.0        89676.0   \n",
       "smart     4.0       5747.0         41119.0          3443.0       107866.0   \n",
       "smart     5.0       7789.0         54618.0          4762.0       168849.0   \n",
       "smart     6.0       9110.0         64885.0          5478.0       197459.0   \n",
       "smart     7.0      11402.0         82079.0          6784.0       246014.0   \n",
       "smart     8.0      13860.0         99045.0          7905.0       310340.0   \n",
       "smart     9.0      15482.0        111439.0          8746.0       324986.0   \n",
       "smart    10.0      17629.0        125284.0          9927.0       401267.0   \n",
       "smart    11.0      19435.0        137544.0         10768.0       424403.0   \n",
       "smart    12.0      22406.0        161275.0         12130.0       531965.0   \n",
       "ultra     1.0        535.0          3853.0           304.0        17550.0   \n",
       "ultra     2.0        997.0          7131.0           527.0        47400.0   \n",
       "ultra     3.0       2504.0         18117.0          1195.0        74550.0   \n",
       "ultra     4.0       3525.0         25191.0          1736.0       110100.0   \n",
       "ultra     5.0       4858.0         34192.0          2536.0       138000.0   \n",
       "ultra     6.0       5606.0         40295.0          3505.0       171300.0   \n",
       "ultra     7.0       6896.0         49667.0          4536.0       192750.0   \n",
       "ultra     8.0       7628.0         54653.0          5183.0       222900.0   \n",
       "ultra     9.0       8579.0         62036.0          6013.0       232800.0   \n",
       "ultra    10.0       9517.0         68644.0          7187.0       254100.0   \n",
       "ultra    11.0      10066.0         72545.0          7476.0       280350.0   \n",
       "ultra    12.0      11581.0         82400.0          8425.0       297300.0   \n",
       "\n",
       "        traffic_volume  \n",
       "tariff                  \n",
       "smart         289482.0  \n",
       "smart         672656.0  \n",
       "smart        1163058.0  \n",
       "smart        1507817.0  \n",
       "smart        2228598.0  \n",
       "smart        2590405.0  \n",
       "smart        3164469.0  \n",
       "smart        3903634.0  \n",
       "smart        4239065.0  \n",
       "smart        4926730.0  \n",
       "smart        5339197.0  \n",
       "smart        6104468.0  \n",
       "ultra         118272.0  \n",
       "ultra         282632.0  \n",
       "ultra         648835.0  \n",
       "ultra         925574.0  \n",
       "ultra        1297366.0  \n",
       "ultra        1589735.0  \n",
       "ultra        1865150.0  \n",
       "ultra        2094693.0  \n",
       "ultra        2208549.0  \n",
       "ultra        2465640.0  \n",
       "ultra        2651500.0  \n",
       "ultra        3029323.0  "
      ]
     },
     "metadata": {},
     "output_type": "display_data"
    }
   ],
   "source": [
    "data_tariff_pivot = (data_pivot.pivot_table(index=['tariff', 'month'],\n",
    "                    values=['calls_count', 'calls_duration', 'messages_count', 'traffic_volume', 'total_account'],\n",
    "                    aggfunc=sum))\n",
    "\n",
    "data_tariff_pivot = data_tariff_pivot.reset_index(level='month')\n",
    "display(data_tariff_pivot)"
   ]
  },
  {
   "cell_type": "markdown",
   "metadata": {},
   "source": [
    "Для большей наглядности визуализируем данные - построим столбчатые диаграммы распределения суммарных значений параметров в течение года."
   ]
  },
  {
   "cell_type": "code",
   "execution_count": 33,
   "metadata": {},
   "outputs": [
    {
     "data": {
      "image/png": "[encoded data removed]",
      "text/plain": [
       "<Figure size 1080x360 with 2 Axes>"
      ]
     },
     "metadata": {
      "needs_background": "light"
     },
     "output_type": "display_data"
    },
    {
     "data": {
      "image/png": "[encoded data removed]",
      "text/plain": [
       "<Figure size 1080x360 with 2 Axes>"
      ]
     },
     "metadata": {
      "needs_background": "light"
     },
     "output_type": "display_data"
    },
    {
     "data": {
      "image/png": "[encoded data removed]",
      "text/plain": [
       "<Figure size 1080x360 with 2 Axes>"
      ]
     },
     "metadata": {
      "needs_background": "light"
     },
     "output_type": "display_data"
    },
    {
     "data": {
      "image/png": "[encoded data removed]",
      "text/plain": [
       "<Figure size 1080x360 with 2 Axes>"
      ]
     },
     "metadata": {
      "needs_background": "light"
     },
     "output_type": "display_data"
    },
    {
     "data": {
      "image/png": "[encoded data removed]",
      "text/plain": [
       "<Figure size 1080x360 with 2 Axes>"
      ]
     },
     "metadata": {
      "needs_background": "light"
     },
     "output_type": "display_data"
    }
   ],
   "source": [
    "for column in ['calls_count', 'calls_duration', 'messages_count', 'traffic_volume', 'total_account']:\n",
    "    fig, axs = plt.subplots(1,2)\n",
    "    data_tariff_pivot[data_tariff_pivot.index=='smart'].plot(x='month', y=column, kind='bar', title='smart', ax=axs[0], figsize=(15, 5))\n",
    "    data_tariff_pivot[data_tariff_pivot.index=='ultra'].plot(x='month', y=column, kind='bar', title='ultra', ax=axs[1], figsize=(15, 5))"
   ]
  },
  {
   "cell_type": "markdown",
   "metadata": {},
   "source": [
    "**Выводы:**   \n",
    "1. Существенной разницы в поведении клиентов, использующих разные тарифы мы не видим.    \n",
    "1. Потребление всех услуг - звонков (числа и минут), SMS и интернет-трафика - линейно растут на протяжении года. Как будь-то это значения накопленным итогом - **Гипотеза** оба тарифа запустили в начале года и в течении года число их клиентов росло."
   ]
  },
  {
   "cell_type": "code",
   "execution_count": 34,
   "metadata": {},
   "outputs": [
    {
     "data": {
      "text/plain": [
       "<AxesSubplot:ylabel='user_id'>"
      ]
     },
     "execution_count": 34,
     "metadata": {},
     "output_type": "execute_result"
    },
    {
     "data": {
      "image/png": "[encoded data removed]",
      "text/plain": [
       "<Figure size 1080x360 with 1 Axes>"
      ]
     },
     "metadata": {},
     "output_type": "display_data"
    }
   ],
   "source": [
    "# Проверим гипотезу\n",
    "users['month'] = users['reg_date'].apply(lambda x: x.month) # Узнаем месяц регистраци клиента\n",
    "#Подсчитам число новых клиентов накопленым итогом\n",
    "users_pivot = (users.pivot_table(index=['month'], values=['user_id'], aggfunc='count')).cumsum()\n",
    "# Визуализируем число клиентов накопленым итогом по месяцам\n",
    "months = ['январь', 'февраль', 'март', 'апрель', \n",
    "                    'май', 'июнь', 'июль', 'август', 'сентябрь', 'октябрь', 'ноябрь', 'декабрь']\n",
    "sns.set(rc={'figure.figsize':(15,5)}) # зададим размеры графика\n",
    "sns.barplot(data=users_pivot, x=months, y='user_id')\n",
    "sns.lineplot(data=users_pivot, x=months, y='user_id')"
   ]
  },
  {
   "cell_type": "markdown",
   "metadata": {},
   "source": [
    "**Подитожим** число клиентов ежемесячно увеличиволось с начала года, следовательно суммарный объём услуг которые они потребляли и их траты - росли. "
   ]
  },
  {
   "cell_type": "markdown",
   "metadata": {},
   "source": [
    "## 3.2. Подсчёт среднего, дисперсии и стандартного отклонения для всех пользователей <a id=\"descriptive_statistics\"></a>"
   ]
  },
  {
   "cell_type": "code",
   "execution_count": 35,
   "metadata": {},
   "outputs": [],
   "source": [
    "# Посмотрим на описательную статистику по каждой из колонок таблицы data_pivot\n",
    "#(data_pivot.describe()).round()"
   ]
  },
  {
   "cell_type": "code",
   "execution_count": 36,
   "metadata": {},
   "outputs": [
    {
     "data": {
      "text/html": [
       "<div>\n",
       "<style scoped>\n",
       "    .dataframe tbody tr th:only-of-type {\n",
       "        vertical-align: middle;\n",
       "    }\n",
       "\n",
       "    .dataframe tbody tr th {\n",
       "        vertical-align: top;\n",
       "    }\n",
       "\n",
       "    .dataframe thead th {\n",
       "        text-align: right;\n",
       "    }\n",
       "</style>\n",
       "<table border=\"1\" class=\"dataframe\">\n",
       "  <thead>\n",
       "    <tr style=\"text-align: right;\">\n",
       "      <th></th>\n",
       "      <th>calls_duration_mean</th>\n",
       "      <th>messages_count_mean</th>\n",
       "      <th>traffic_volume_mean</th>\n",
       "      <th>total_account_mean</th>\n",
       "    </tr>\n",
       "    <tr>\n",
       "      <th>tariff</th>\n",
       "      <th></th>\n",
       "      <th></th>\n",
       "      <th></th>\n",
       "      <th></th>\n",
       "    </tr>\n",
       "  </thead>\n",
       "  <tbody>\n",
       "    <tr>\n",
       "      <th>smart</th>\n",
       "      <td>417.934948</td>\n",
       "      <td>33.384029</td>\n",
       "      <td>1289.973531</td>\n",
       "      <td>16208.873486</td>\n",
       "    </tr>\n",
       "    <tr>\n",
       "      <th>ultra</th>\n",
       "      <td>526.623350</td>\n",
       "      <td>49.363452</td>\n",
       "      <td>2070.152284</td>\n",
       "      <td>19469.308629</td>\n",
       "    </tr>\n",
       "  </tbody>\n",
       "</table>\n",
       "</div>"
      ],
      "text/plain": [
       "        calls_duration_mean  messages_count_mean  traffic_volume_mean  \\\n",
       "tariff                                                                  \n",
       "smart            417.934948            33.384029          1289.973531   \n",
       "ultra            526.623350            49.363452          2070.152284   \n",
       "\n",
       "        total_account_mean  \n",
       "tariff                      \n",
       "smart         16208.873486  \n",
       "ultra         19469.308629  "
      ]
     },
     "metadata": {},
     "output_type": "display_data"
    },
    {
     "data": {
      "text/html": [
       "<div>\n",
       "<style scoped>\n",
       "    .dataframe tbody tr th:only-of-type {\n",
       "        vertical-align: middle;\n",
       "    }\n",
       "\n",
       "    .dataframe tbody tr th {\n",
       "        vertical-align: top;\n",
       "    }\n",
       "\n",
       "    .dataframe thead th {\n",
       "        text-align: right;\n",
       "    }\n",
       "</style>\n",
       "<table border=\"1\" class=\"dataframe\">\n",
       "  <thead>\n",
       "    <tr style=\"text-align: right;\">\n",
       "      <th></th>\n",
       "      <th>calls_duration_var</th>\n",
       "      <th>messages_count_var</th>\n",
       "      <th>traffic_volume_var</th>\n",
       "      <th>total_account_var</th>\n",
       "    </tr>\n",
       "    <tr>\n",
       "      <th>tariff</th>\n",
       "      <th></th>\n",
       "      <th></th>\n",
       "      <th></th>\n",
       "      <th></th>\n",
       "    </tr>\n",
       "  </thead>\n",
       "  <tbody>\n",
       "    <tr>\n",
       "      <th>smart</th>\n",
       "      <td>36219.315784</td>\n",
       "      <td>796.812958</td>\n",
       "      <td>669785.708006</td>\n",
       "      <td>3.446256e+07</td>\n",
       "    </tr>\n",
       "    <tr>\n",
       "      <th>ultra</th>\n",
       "      <td>100873.633397</td>\n",
       "      <td>2285.266143</td>\n",
       "      <td>141516.745079</td>\n",
       "      <td>1.017516e+08</td>\n",
       "    </tr>\n",
       "  </tbody>\n",
       "</table>\n",
       "</div>"
      ],
      "text/plain": [
       "        calls_duration_var  messages_count_var  traffic_volume_var  \\\n",
       "tariff                                                               \n",
       "smart         36219.315784          796.812958       669785.708006   \n",
       "ultra        100873.633397         2285.266143       141516.745079   \n",
       "\n",
       "        total_account_var  \n",
       "tariff                     \n",
       "smart        3.446256e+07  \n",
       "ultra        1.017516e+08  "
      ]
     },
     "metadata": {},
     "output_type": "display_data"
    },
    {
     "data": {
      "text/html": [
       "<div>\n",
       "<style scoped>\n",
       "    .dataframe tbody tr th:only-of-type {\n",
       "        vertical-align: middle;\n",
       "    }\n",
       "\n",
       "    .dataframe tbody tr th {\n",
       "        vertical-align: top;\n",
       "    }\n",
       "\n",
       "    .dataframe thead th {\n",
       "        text-align: right;\n",
       "    }\n",
       "</style>\n",
       "<table border=\"1\" class=\"dataframe\">\n",
       "  <thead>\n",
       "    <tr style=\"text-align: right;\">\n",
       "      <th></th>\n",
       "      <th>calls_duration_std</th>\n",
       "      <th>messages_count_std</th>\n",
       "      <th>traffic_volume_std</th>\n",
       "      <th>total_account_std</th>\n",
       "    </tr>\n",
       "    <tr>\n",
       "      <th>tariff</th>\n",
       "      <th></th>\n",
       "      <th></th>\n",
       "      <th></th>\n",
       "      <th></th>\n",
       "    </tr>\n",
       "  </thead>\n",
       "  <tbody>\n",
       "    <tr>\n",
       "      <th>smart</th>\n",
       "      <td>190.313730</td>\n",
       "      <td>28.227876</td>\n",
       "      <td>818.404367</td>\n",
       "      <td>5870.482332</td>\n",
       "    </tr>\n",
       "    <tr>\n",
       "      <th>ultra</th>\n",
       "      <td>317.606098</td>\n",
       "      <td>47.804457</td>\n",
       "      <td>376.187114</td>\n",
       "      <td>10087.197726</td>\n",
       "    </tr>\n",
       "  </tbody>\n",
       "</table>\n",
       "</div>"
      ],
      "text/plain": [
       "        calls_duration_std  messages_count_std  traffic_volume_std  \\\n",
       "tariff                                                               \n",
       "smart           190.313730           28.227876          818.404367   \n",
       "ultra           317.606098           47.804457          376.187114   \n",
       "\n",
       "        total_account_std  \n",
       "tariff                     \n",
       "smart         5870.482332  \n",
       "ultra        10087.197726  "
      ]
     },
     "metadata": {},
     "output_type": "display_data"
    }
   ],
   "source": [
    "for i in range(0, 3):\n",
    "    functions = ['mean', np.var, np.std] # Функции, которые будем применять к значениям\n",
    "    tables = ['total_month_mean', 'total_month_var', 'total_month_std'] # Названия сводных таблиц\n",
    "    list_of_cols = ['calls_duration', 'messages_count', 'traffic_volume', 'total_account'] # Названия колонок со значениями\n",
    "    suffix = ['_mean', '_var', '_std'] # Пояснения, который добавим к именам колонок\n",
    "    \n",
    "    tables[i] =  data_pivot.pivot_table(index=['tariff'], values=list_of_cols, aggfunc=functions[i])\n",
    "    tables[i].columns = ['calls_duration'+suffix[i], 'messages_count'+suffix[i], 'traffic_volume'+suffix[i], 'total_account'+suffix[i]]\n",
    "    display(tables[i])"
   ]
  },
  {
   "cell_type": "markdown",
   "metadata": {},
   "source": [
    "**Выводы:**   \n",
    "1. В среднем клиенты тарифа «Ультра» больше используют больший объём каждой из услуг, чем пользователи тарифа «Смарт», и их счета (а для компании это выручка) соответсвенно выше.   \n",
    "1. Дисперсия у тарифа «Ультра» выше чем у тарифа «Смарт», кроме параметра интернет-трафика. Причинами этого могут быть:\n",
    "* Меньший объём наблюдений (выборки) клиентов с тарифом «Ультра» чем с тарифом «Смарт».   \n",
    "* Меньшая дисперсия в интернет-трафике может свидетельствовать о том, что клиенты тарифа «Ультра» меньше следят за использованием интернет-трафика и выбирают тариф именно из-за большего объёма трафика. В тоже время на тарифе «Смарт» объём трафика, входящего в ежемесячный платёж, меньше и клинтеы следт и экономят, чтобы не допускать перерасход.   \n",
    "3. Стандартное оклонение у тарифа «Ультра» выше чем у тарифа «Смарт» - клиенты тарифа чувствуют себя свободнее в использовании услуг. "
   ]
  },
  {
   "cell_type": "markdown",
   "metadata": {},
   "source": [
    "## 3.3. Описание распределения <a id=\"distribution_description\"></a>"
   ]
  },
  {
   "cell_type": "code",
   "execution_count": 37,
   "metadata": {},
   "outputs": [
    {
     "data": {
      "text/html": [
       "<div>\n",
       "<style scoped>\n",
       "    .dataframe tbody tr th:only-of-type {\n",
       "        vertical-align: middle;\n",
       "    }\n",
       "\n",
       "    .dataframe tbody tr th {\n",
       "        vertical-align: top;\n",
       "    }\n",
       "\n",
       "    .dataframe thead th {\n",
       "        text-align: right;\n",
       "    }\n",
       "</style>\n",
       "<table border=\"1\" class=\"dataframe\">\n",
       "  <thead>\n",
       "    <tr style=\"text-align: right;\">\n",
       "      <th></th>\n",
       "      <th>tariff</th>\n",
       "      <th>user_id</th>\n",
       "      <th>calls_count</th>\n",
       "      <th>calls_duration</th>\n",
       "      <th>messages_count</th>\n",
       "      <th>total_account</th>\n",
       "      <th>traffic_volume</th>\n",
       "    </tr>\n",
       "  </thead>\n",
       "  <tbody>\n",
       "    <tr>\n",
       "      <th>0</th>\n",
       "      <td>smart</td>\n",
       "      <td>1001</td>\n",
       "      <td>122.0</td>\n",
       "      <td>844.0</td>\n",
       "      <td>0.0</td>\n",
       "      <td>1700.0</td>\n",
       "      <td>32467.0</td>\n",
       "    </tr>\n",
       "    <tr>\n",
       "      <th>1</th>\n",
       "      <td>smart</td>\n",
       "      <td>1002</td>\n",
       "      <td>217.0</td>\n",
       "      <td>1517.0</td>\n",
       "      <td>70.0</td>\n",
       "      <td>7250.0</td>\n",
       "      <td>116041.0</td>\n",
       "    </tr>\n",
       "    <tr>\n",
       "      <th>2</th>\n",
       "      <td>smart</td>\n",
       "      <td>1005</td>\n",
       "      <td>888.0</td>\n",
       "      <td>6605.0</td>\n",
       "      <td>552.0</td>\n",
       "      <td>9924.0</td>\n",
       "      <td>99692.0</td>\n",
       "    </tr>\n",
       "    <tr>\n",
       "      <th>3</th>\n",
       "      <td>smart</td>\n",
       "      <td>1006</td>\n",
       "      <td>506.0</td>\n",
       "      <td>3501.0</td>\n",
       "      <td>0.0</td>\n",
       "      <td>10250.0</td>\n",
       "      <td>164194.0</td>\n",
       "    </tr>\n",
       "    <tr>\n",
       "      <th>4</th>\n",
       "      <td>smart</td>\n",
       "      <td>1007</td>\n",
       "      <td>612.0</td>\n",
       "      <td>4379.0</td>\n",
       "      <td>225.0</td>\n",
       "      <td>8221.0</td>\n",
       "      <td>131631.0</td>\n",
       "    </tr>\n",
       "  </tbody>\n",
       "</table>\n",
       "</div>"
      ],
      "text/plain": [
       "  tariff  user_id  calls_count  calls_duration  messages_count  total_account  \\\n",
       "0  smart     1001        122.0           844.0             0.0         1700.0   \n",
       "1  smart     1002        217.0          1517.0            70.0         7250.0   \n",
       "2  smart     1005        888.0          6605.0           552.0         9924.0   \n",
       "3  smart     1006        506.0          3501.0             0.0        10250.0   \n",
       "4  smart     1007        612.0          4379.0           225.0         8221.0   \n",
       "\n",
       "   traffic_volume  \n",
       "0         32467.0  \n",
       "1        116041.0  \n",
       "2         99692.0  \n",
       "3        164194.0  \n",
       "4        131631.0  "
      ]
     },
     "execution_count": 37,
     "metadata": {},
     "output_type": "execute_result"
    }
   ],
   "source": [
    "# Используя pivot_table сгруппируем данные по тарифу и пользователям\n",
    "data_pivot_hist = (data_pivot\n",
    "                     .pivot_table(index=['tariff', 'user_id'],\\\n",
    "                                  values=['calls_count', 'calls_duration', 'messages_count', 'traffic_volume', 'total_account'],\\\n",
    "                                  aggfunc=sum))\n",
    "data_pivot_hist.reset_index(inplace=True)\n",
    "data_pivot_hist.head()"
   ]
  },
  {
   "cell_type": "code",
   "execution_count": 38,
   "metadata": {},
   "outputs": [
    {
     "data": {
      "image/png": "[encoded data removed]",
      "text/plain": [
       "<Figure size 1080x360 with 2 Axes>"
      ]
     },
     "metadata": {},
     "output_type": "display_data"
    },
    {
     "data": {
      "image/png": "[encoded data removed]",
      "text/plain": [
       "<Figure size 1080x360 with 2 Axes>"
      ]
     },
     "metadata": {},
     "output_type": "display_data"
    },
    {
     "data": {
      "image/png": "[encoded data removed]",
      "text/plain": [
       "<Figure size 1080x360 with 2 Axes>"
      ]
     },
     "metadata": {},
     "output_type": "display_data"
    },
    {
     "data": {
      "image/png": "[encoded data removed]",
      "text/plain": [
       "<Figure size 1080x360 with 2 Axes>"
      ]
     },
     "metadata": {},
     "output_type": "display_data"
    },
    {
     "data": {
      "image/png": "[encoded data removed]",
      "text/plain": [
       "<Figure size 1080x360 with 2 Axes>"
      ]
     },
     "metadata": {},
     "output_type": "display_data"
    }
   ],
   "source": [
    "# Для большей наглядности визуализируем данные\n",
    "# построим гистограммы по каждому показателю в разрезе тарифов\n",
    "\n",
    "for name_column in data_pivot_hist.columns[2:]:\n",
    "    fig, axs = plt.subplots(1,2)\n",
    "    data_pivot_hist[data_pivot_hist['tariff']=='smart'][name_column].plot(bins=90, kind='hist', figsize=(15, 5), title=name_column+'_smart', ax=axs[0])\n",
    "    data_pivot_hist[data_pivot_hist['tariff']=='ultra'][name_column].plot(bins=60, kind='hist', figsize=(15, 5), title=name_column+'_ultra', ax=axs[1])"
   ]
  },
  {
   "cell_type": "markdown",
   "metadata": {},
   "source": [
    "**Выводы:**  \n",
    "1. **Количество звонков** Пользователи тарифа «Смарт» звонят чаще чем пользователи тарифа «Ультра» - 200 звонков против примерно 120-130 звонков.   \n",
    "1. **Продолжительность звонков** У клиентов тарифа «Смарт» наблюдается два пика - 400 и 1500 минут в год, у «Ультра» один - около 1000 минут в год. Большинство пользователей тарифа «Смарт» говорят не больше 6000 минут в год, в то время как клиенты «Ультра» почти 8000 минут.   \n",
    "1. **Число SMS** Среди клиентов обоих тарифов высока доля клиентов, крайне мало использующих SMS.   \n",
    "1. **Интернет-трафик** У обоих тарифов наблюдается четкая граница использования интернет-трафика в районе 200000 Мб. У тарифа «Смарт» два пика – примерно на 80000 Мб и на 130000 Мб, у тарифа «Ультра» - примерно на 100000 Мб.   \n",
    "1. **Итоговый счёт** Заметим, что пользователи подключались в разное время года и не все оставались на одном тарифе до конца года, что большая часть трат на связь находится до уровня минимальной годовой абонентской платы, которая для тарифа «Смарт» составляет 6600 рублей, а для тарифа «Ультра» 23400 рублей. У тарифа «Смарт» второй пик находится в районе 7500 рублей, после чего идет плавное уменьшение числа людей перерасходовавших траифный план. На тарифе «Ультра» большинство пользователей тратит до 20000 рублей, после чего есть еще одна граница в районе 23000 - 24000 рублей, после чего небольшой хвост, т.е. пользователя тарифа ультра в основном укладываются в лимиты тарифного плана и не перерасходуют его.\n"
   ]
  },
  {
   "cell_type": "markdown",
   "metadata": {},
   "source": [
    "---"
   ]
  },
  {
   "cell_type": "markdown",
   "metadata": {},
   "source": [
    "# 4. Проверка гипотез <a id=\"hypothesis_testing\"></a>"
   ]
  },
  {
   "cell_type": "markdown",
   "metadata": {},
   "source": [
    "**Гипотезы:** \n",
    "1. Средняя выручка пользователей тарифов «Ультра» и «Смарт» различаются.   \n",
    "1. Средняя выручка пользователей из Москвы отличается от выручки пользователей из других регионов."
   ]
  },
  {
   "cell_type": "markdown",
   "metadata": {},
   "source": [
    "## 4.1. Гипотеза 1: Средняя выручка пользователей тарифов «Ультра» и «Смарт» различаются <a id=\"hypothesis_1\"></a>"
   ]
  },
  {
   "cell_type": "markdown",
   "metadata": {},
   "source": [
    "Сформулируем нулевую и альтернативные гипотезы:   \n",
    "H0 - средняя выручка пользователей тарифов «smart» и «ultra» равны.   \n",
    "H1 - средние выручки пользователей тарифов «smart» и «ultra» различаются. При этом нам не важно в какую строну они различаются.   \n",
    "Для проверки гипотезы о равенстве средней выручки пользователей тарифов применим метод scipy.stats.ttest_ind. "
   ]
  },
  {
   "cell_type": "code",
   "execution_count": 39,
   "metadata": {},
   "outputs": [],
   "source": [
    "#зададим значение alpha на уровне 5%-го доверительного интервала (статистичекой значимости)\n",
    "alpha = 0.05"
   ]
  },
  {
   "cell_type": "code",
   "execution_count": 40,
   "metadata": {},
   "outputs": [
    {
     "name": "stdout",
     "output_type": "stream",
     "text": [
      "p-значение: 4.2606313931076085e-250\n",
      "Отвергаем нулевую гипотезу\n"
     ]
    }
   ],
   "source": [
    "smart_ttest = data_pivot[data_pivot['tariff']=='smart']['total_account']\n",
    "ultra_ttest = data_pivot[data_pivot['tariff']=='ultra']['total_account']\n",
    "\n",
    "results = st.ttest_ind(smart_ttest, ultra_ttest, equal_var=False)\n",
    "\n",
    "print('p-значение:', results.pvalue)\n",
    "\n",
    "if results.pvalue < alpha:\n",
    "    print('Отвергаем нулевую гипотезу')\n",
    "else:\n",
    "    print('Не получилось отвергнуть нулевую гипотезу')"
   ]
  },
  {
   "cell_type": "markdown",
   "metadata": {},
   "source": [
    "**Вывод** значение p-уровня значительно меньше установленого нами 5%-го уровня статистической значимости - таким образом мы отвергаем гипотезу о том, что средняя выручка пользователей тарифов «smart» и «ultra» равны. То есть они **значимо отличаются друг от друга**."
   ]
  },
  {
   "cell_type": "markdown",
   "metadata": {},
   "source": [
    "## 4.2. Гипотеза 2: Средняя выручка пользователей из Москвы отличается от выручки пользователей из других регионов <a id=\"hypothesis_2\"></a>"
   ]
  },
  {
   "cell_type": "markdown",
   "metadata": {},
   "source": [
    "Сформулируем нулевую и альтернативные гипотезы:   \n",
    "Н0 - средняя выручка пользователей из Москвы равна средней выручке пользователей из других регионов.   \n",
    "Н1 - средняя выручка пользователей из Москвы отличается от выручки пользователей из других регионов. При этом альтернативная гипотеза двусторонняя, средняя выручка из Москвы может отличаться от других регионов как в большую так и в меньшую сторону.\n",
    "\n",
    "Для проверки гипотезы воспользуемся методом scipy.stats.ttest_1samp, где в качестве массива данных будет выборка выручки по клиентам из Москвы, а в качестве предполагаемого среднего будет выступать среднее значение выручки пользователей из других регионов.   \n",
    "   \n",
    "alpha таже - 5%   "
   ]
  },
  {
   "cell_type": "code",
   "execution_count": 41,
   "metadata": {},
   "outputs": [
    {
     "name": "stdout",
     "output_type": "stream",
     "text": [
      "p-значение:  0.4744239730695693\n",
      "Не получилось отвергнуть нулевую гипотезу\n"
     ]
    }
   ],
   "source": [
    "array = data_pivot[data_pivot['city']=='Москва']['total_account'] # Массив клиентов из Москвы\n",
    "popmean = data_pivot[data_pivot['city']!='Москва']['total_account'].mean() # Предполагаемое среднее выручки пользователей из других регионов\n",
    "\n",
    "results = st.ttest_1samp(array, popmean)\n",
    "\n",
    "print('p-значение: ', results.pvalue)\n",
    "\n",
    "if results.pvalue < alpha:\n",
    "    print('Отвергаем нулевую гипотезу')\n",
    "else:\n",
    "    print('Не получилось отвергнуть нулевую гипотезу')"
   ]
  },
  {
   "cell_type": "markdown",
   "metadata": {},
   "source": [
    "**Вывод** значение p-уровня (32,3%) значительно выше установленого нами 5%-го уровня статистической значимости - таким образом мы не отвергаем гипотезу о том, что средняя выручка пользователей из Москвы равна средней выручке пользователей из других регионов. Таким образом средняя выручка от клиентов из Москвы и средня выручка от клиентов из регионов **значимо НЕ различаются**.    \n"
   ]
  },
  {
   "cell_type": "markdown",
   "metadata": {},
   "source": [
    "---"
   ]
  },
  {
   "cell_type": "markdown",
   "metadata": {},
   "source": [
    "# 5. Общий вывод <a id=\"summary\"></a>"
   ]
  },
  {
   "cell_type": "markdown",
   "metadata": {},
   "source": [
    "1. Средние чеки пользователей тарифов «Смарт» и «Ультра» **значимо отличаются друг от друга**.   \n",
    "1. Средняя выручка пользователей из Москвы равна средней выручке пользователей из других регионов. Таким образом средняя выручка от клиентов из Москвы и средняя выручка от клиентов из регионов **значимо НЕ различаются**. Таким образом рекламную компанию можно устроить по всей территории распространения сети.   \n",
    "1. В течении года на обоих тарифах активно росло число клиентов и объём потребляемых ими услуг.   \n",
    "**Рекомендация** помимо привлечения новых клиентов, необходимо их удерживать или стимулировать переход с более дешевого тарифа «Смарт» на более дорогой тариф «Ультра».   "
   ]
  }
 ],
 "metadata": {
  "ExecuteTimeLog": [
   {
    "duration": 1221,
    "start_time": "2022-04-13T17:50:23.794Z"
   },
   {
    "duration": 405,
    "start_time": "2022-04-13T17:50:25.018Z"
   },
   {
    "duration": 26,
    "start_time": "2022-04-13T17:50:25.424Z"
   },
   {
    "duration": 22,
    "start_time": "2022-04-13T17:50:25.452Z"
   },
   {
    "duration": 19,
    "start_time": "2022-04-13T17:50:25.476Z"
   },
   {
    "duration": 11,
    "start_time": "2022-04-13T17:50:25.497Z"
   },
   {
    "duration": 12,
    "start_time": "2022-04-13T17:50:25.510Z"
   },
   {
    "duration": 62,
    "start_time": "2022-04-13T17:50:25.523Z"
   },
   {
    "duration": 22,
    "start_time": "2022-04-13T17:50:25.587Z"
   },
   {
    "duration": 4,
    "start_time": "2022-04-13T17:50:25.611Z"
   },
   {
    "duration": 29,
    "start_time": "2022-04-13T17:50:25.616Z"
   },
   {
    "duration": 26,
    "start_time": "2022-04-13T17:50:25.647Z"
   },
   {
    "duration": 206,
    "start_time": "2022-04-13T17:50:25.675Z"
   },
   {
    "duration": 12,
    "start_time": "2022-04-13T17:50:25.884Z"
   },
   {
    "duration": 678,
    "start_time": "2022-04-13T17:50:25.898Z"
   },
   {
    "duration": 384,
    "start_time": "2022-04-13T17:50:26.578Z"
   },
   {
    "duration": 512,
    "start_time": "2022-04-13T17:50:26.964Z"
   },
   {
    "duration": 32,
    "start_time": "2022-04-13T17:50:27.478Z"
   },
   {
    "duration": 25,
    "start_time": "2022-04-13T17:50:27.512Z"
   },
   {
    "duration": 52,
    "start_time": "2022-04-13T17:50:27.539Z"
   },
   {
    "duration": 29,
    "start_time": "2022-04-13T17:50:27.593Z"
   },
   {
    "duration": 18,
    "start_time": "2022-04-13T17:50:27.624Z"
   },
   {
    "duration": 39,
    "start_time": "2022-04-13T17:50:27.644Z"
   },
   {
    "duration": 9,
    "start_time": "2022-04-13T17:50:27.685Z"
   },
   {
    "duration": 7,
    "start_time": "2022-04-13T17:50:27.696Z"
   },
   {
    "duration": 7,
    "start_time": "2022-04-13T17:50:27.705Z"
   },
   {
    "duration": 6,
    "start_time": "2022-04-13T17:50:27.714Z"
   },
   {
    "duration": 157,
    "start_time": "2022-04-13T17:50:27.722Z"
   },
   {
    "duration": 26,
    "start_time": "2022-04-13T17:50:27.881Z"
   },
   {
    "duration": 1500,
    "start_time": "2022-04-13T17:50:27.909Z"
   },
   {
    "duration": 319,
    "start_time": "2022-04-13T17:50:29.411Z"
   },
   {
    "duration": 3,
    "start_time": "2022-04-13T17:50:29.732Z"
   },
   {
    "duration": 51,
    "start_time": "2022-04-13T17:50:29.737Z"
   },
   {
    "duration": 19,
    "start_time": "2022-04-13T17:50:29.789Z"
   },
   {
    "duration": 2344,
    "start_time": "2022-04-13T17:50:29.810Z"
   },
   {
    "duration": 3,
    "start_time": "2022-04-13T17:50:32.156Z"
   },
   {
    "duration": 24,
    "start_time": "2022-04-13T17:50:32.160Z"
   },
   {
    "duration": 9,
    "start_time": "2022-04-13T17:50:32.186Z"
   },
   {
    "duration": 10,
    "start_time": "2022-04-13T18:10:13.869Z"
   },
   {
    "duration": 1107,
    "start_time": "2022-04-13T18:10:28.726Z"
   },
   {
    "duration": 393,
    "start_time": "2022-04-13T18:10:29.834Z"
   },
   {
    "duration": 28,
    "start_time": "2022-04-13T18:10:30.229Z"
   },
   {
    "duration": 26,
    "start_time": "2022-04-13T18:10:30.258Z"
   },
   {
    "duration": 19,
    "start_time": "2022-04-13T18:10:30.287Z"
   },
   {
    "duration": 19,
    "start_time": "2022-04-13T18:10:30.307Z"
   },
   {
    "duration": 24,
    "start_time": "2022-04-13T18:10:30.328Z"
   },
   {
    "duration": 50,
    "start_time": "2022-04-13T18:10:30.354Z"
   },
   {
    "duration": 22,
    "start_time": "2022-04-13T18:10:30.407Z"
   },
   {
    "duration": 4,
    "start_time": "2022-04-13T18:10:30.431Z"
   },
   {
    "duration": 46,
    "start_time": "2022-04-13T18:10:30.437Z"
   },
   {
    "duration": 32,
    "start_time": "2022-04-13T18:10:30.485Z"
   },
   {
    "duration": 219,
    "start_time": "2022-04-13T18:10:30.520Z"
   },
   {
    "duration": 13,
    "start_time": "2022-04-13T18:10:30.742Z"
   },
   {
    "duration": 698,
    "start_time": "2022-04-13T18:10:30.756Z"
   },
   {
    "duration": 387,
    "start_time": "2022-04-13T18:10:31.455Z"
   },
   {
    "duration": 561,
    "start_time": "2022-04-13T18:10:31.843Z"
   },
   {
    "duration": 33,
    "start_time": "2022-04-13T18:10:32.406Z"
   },
   {
    "duration": 39,
    "start_time": "2022-04-13T18:10:32.441Z"
   },
   {
    "duration": 23,
    "start_time": "2022-04-13T18:10:32.482Z"
   },
   {
    "duration": 32,
    "start_time": "2022-04-13T18:10:32.506Z"
   },
   {
    "duration": 34,
    "start_time": "2022-04-13T18:10:32.539Z"
   },
   {
    "duration": 23,
    "start_time": "2022-04-13T18:10:32.575Z"
   },
   {
    "duration": 15,
    "start_time": "2022-04-13T18:10:32.599Z"
   },
   {
    "duration": 7,
    "start_time": "2022-04-13T18:10:32.616Z"
   },
   {
    "duration": 12,
    "start_time": "2022-04-13T18:10:32.625Z"
   },
   {
    "duration": 7,
    "start_time": "2022-04-13T18:10:32.639Z"
   },
   {
    "duration": 28,
    "start_time": "2022-04-13T18:10:32.647Z"
   },
   {
    "duration": 135,
    "start_time": "2022-04-13T18:10:32.677Z"
   },
   {
    "duration": 25,
    "start_time": "2022-04-13T18:10:32.814Z"
   },
   {
    "duration": 1478,
    "start_time": "2022-04-13T18:10:32.840Z"
   },
   {
    "duration": 328,
    "start_time": "2022-04-13T18:10:34.320Z"
   },
   {
    "duration": 2,
    "start_time": "2022-04-13T18:10:34.650Z"
   },
   {
    "duration": 63,
    "start_time": "2022-04-13T18:10:34.654Z"
   },
   {
    "duration": 20,
    "start_time": "2022-04-13T18:10:34.719Z"
   },
   {
    "duration": 2319,
    "start_time": "2022-04-13T18:10:34.741Z"
   },
   {
    "duration": 12,
    "start_time": "2022-04-13T18:10:37.061Z"
   },
   {
    "duration": 25,
    "start_time": "2022-04-13T18:10:37.075Z"
   },
   {
    "duration": 8,
    "start_time": "2022-04-13T18:10:37.102Z"
   },
   {
    "duration": 1393,
    "start_time": "2022-04-14T03:32:43.310Z"
   },
   {
    "duration": 431,
    "start_time": "2022-04-14T03:32:44.706Z"
   },
   {
    "duration": 29,
    "start_time": "2022-04-14T03:32:45.139Z"
   },
   {
    "duration": 22,
    "start_time": "2022-04-14T03:32:45.170Z"
   },
   {
    "duration": 30,
    "start_time": "2022-04-14T03:32:45.195Z"
   },
   {
    "duration": 12,
    "start_time": "2022-04-14T03:32:45.227Z"
   },
   {
    "duration": 17,
    "start_time": "2022-04-14T03:32:45.240Z"
   },
   {
    "duration": 43,
    "start_time": "2022-04-14T03:32:45.259Z"
   },
   {
    "duration": 33,
    "start_time": "2022-04-14T03:32:45.304Z"
   },
   {
    "duration": 5,
    "start_time": "2022-04-14T03:32:45.339Z"
   },
   {
    "duration": 38,
    "start_time": "2022-04-14T03:32:45.346Z"
   },
   {
    "duration": 11,
    "start_time": "2022-04-14T03:32:45.386Z"
   },
   {
    "duration": 216,
    "start_time": "2022-04-14T03:32:45.419Z"
   },
   {
    "duration": 15,
    "start_time": "2022-04-14T03:32:45.639Z"
   },
   {
    "duration": 705,
    "start_time": "2022-04-14T03:32:45.655Z"
   },
   {
    "duration": 416,
    "start_time": "2022-04-14T03:32:46.362Z"
   },
   {
    "duration": 557,
    "start_time": "2022-04-14T03:32:46.780Z"
   },
   {
    "duration": 37,
    "start_time": "2022-04-14T03:32:47.339Z"
   },
   {
    "duration": 45,
    "start_time": "2022-04-14T03:32:47.378Z"
   },
   {
    "duration": 26,
    "start_time": "2022-04-14T03:32:47.425Z"
   },
   {
    "duration": 33,
    "start_time": "2022-04-14T03:32:47.452Z"
   },
   {
    "duration": 33,
    "start_time": "2022-04-14T03:32:47.487Z"
   },
   {
    "duration": 23,
    "start_time": "2022-04-14T03:32:47.522Z"
   },
   {
    "duration": 16,
    "start_time": "2022-04-14T03:32:47.547Z"
   },
   {
    "duration": 11,
    "start_time": "2022-04-14T03:32:47.565Z"
   },
   {
    "duration": 13,
    "start_time": "2022-04-14T03:32:47.578Z"
   },
   {
    "duration": 29,
    "start_time": "2022-04-14T03:32:47.593Z"
   },
   {
    "duration": 7,
    "start_time": "2022-04-14T03:32:47.624Z"
   },
   {
    "duration": 132,
    "start_time": "2022-04-14T03:32:47.633Z"
   },
   {
    "duration": 27,
    "start_time": "2022-04-14T03:32:47.767Z"
   },
   {
    "duration": 1540,
    "start_time": "2022-04-14T03:32:47.796Z"
   },
   {
    "duration": 331,
    "start_time": "2022-04-14T03:32:49.338Z"
   },
   {
    "duration": 3,
    "start_time": "2022-04-14T03:32:49.671Z"
   },
   {
    "duration": 57,
    "start_time": "2022-04-14T03:32:49.675Z"
   },
   {
    "duration": 20,
    "start_time": "2022-04-14T03:32:49.734Z"
   },
   {
    "duration": 2351,
    "start_time": "2022-04-14T03:32:49.756Z"
   },
   {
    "duration": 9,
    "start_time": "2022-04-14T03:32:52.109Z"
   },
   {
    "duration": 9,
    "start_time": "2022-04-14T03:32:52.120Z"
   },
   {
    "duration": 9,
    "start_time": "2022-04-14T03:32:52.131Z"
   },
   {
    "duration": 35,
    "start_time": "2022-04-14T03:35:33.595Z"
   },
   {
    "duration": 1172,
    "start_time": "2022-04-14T03:37:12.265Z"
   },
   {
    "duration": 441,
    "start_time": "2022-04-14T03:37:13.440Z"
   },
   {
    "duration": 28,
    "start_time": "2022-04-14T03:37:13.883Z"
   },
   {
    "duration": 27,
    "start_time": "2022-04-14T03:37:13.913Z"
   },
   {
    "duration": 25,
    "start_time": "2022-04-14T03:37:13.942Z"
   },
   {
    "duration": 15,
    "start_time": "2022-04-14T03:37:13.969Z"
   },
   {
    "duration": 17,
    "start_time": "2022-04-14T03:37:13.986Z"
   },
   {
    "duration": 45,
    "start_time": "2022-04-14T03:37:14.005Z"
   },
   {
    "duration": 22,
    "start_time": "2022-04-14T03:37:14.052Z"
   },
   {
    "duration": 4,
    "start_time": "2022-04-14T03:37:14.076Z"
   },
   {
    "duration": 39,
    "start_time": "2022-04-14T03:37:14.082Z"
   },
   {
    "duration": 10,
    "start_time": "2022-04-14T03:37:14.123Z"
   },
   {
    "duration": 209,
    "start_time": "2022-04-14T03:37:14.135Z"
   },
   {
    "duration": 13,
    "start_time": "2022-04-14T03:37:14.347Z"
   },
   {
    "duration": 779,
    "start_time": "2022-04-14T03:37:14.362Z"
   },
   {
    "duration": 389,
    "start_time": "2022-04-14T03:37:15.143Z"
   },
   {
    "duration": 540,
    "start_time": "2022-04-14T03:37:15.534Z"
   },
   {
    "duration": 20,
    "start_time": "2022-04-14T03:37:16.076Z"
   },
   {
    "duration": 2268,
    "start_time": "2022-04-14T03:37:16.098Z"
   },
   {
    "duration": 0,
    "start_time": "2022-04-14T03:37:18.369Z"
   },
   {
    "duration": 0,
    "start_time": "2022-04-14T03:37:18.370Z"
   },
   {
    "duration": 0,
    "start_time": "2022-04-14T03:37:18.372Z"
   },
   {
    "duration": 0,
    "start_time": "2022-04-14T03:37:18.373Z"
   },
   {
    "duration": 0,
    "start_time": "2022-04-14T03:37:18.375Z"
   },
   {
    "duration": 0,
    "start_time": "2022-04-14T03:37:18.377Z"
   },
   {
    "duration": 0,
    "start_time": "2022-04-14T03:37:18.378Z"
   },
   {
    "duration": 0,
    "start_time": "2022-04-14T03:37:18.380Z"
   },
   {
    "duration": 0,
    "start_time": "2022-04-14T03:37:18.381Z"
   },
   {
    "duration": 0,
    "start_time": "2022-04-14T03:37:18.383Z"
   },
   {
    "duration": 0,
    "start_time": "2022-04-14T03:37:18.385Z"
   },
   {
    "duration": 0,
    "start_time": "2022-04-14T03:37:18.386Z"
   },
   {
    "duration": 0,
    "start_time": "2022-04-14T03:37:18.388Z"
   },
   {
    "duration": 0,
    "start_time": "2022-04-14T03:37:18.389Z"
   },
   {
    "duration": 0,
    "start_time": "2022-04-14T03:37:18.391Z"
   },
   {
    "duration": 0,
    "start_time": "2022-04-14T03:37:18.392Z"
   },
   {
    "duration": 0,
    "start_time": "2022-04-14T03:37:18.393Z"
   },
   {
    "duration": 0,
    "start_time": "2022-04-14T03:37:18.395Z"
   },
   {
    "duration": 0,
    "start_time": "2022-04-14T03:37:18.396Z"
   },
   {
    "duration": 0,
    "start_time": "2022-04-14T03:37:18.398Z"
   },
   {
    "duration": 0,
    "start_time": "2022-04-14T03:37:18.399Z"
   },
   {
    "duration": 0,
    "start_time": "2022-04-14T03:37:18.400Z"
   },
   {
    "duration": 14,
    "start_time": "2022-04-14T03:38:07.765Z"
   },
   {
    "duration": 17,
    "start_time": "2022-04-14T03:40:39.187Z"
   },
   {
    "duration": 5,
    "start_time": "2022-04-14T03:41:02.456Z"
   },
   {
    "duration": 421,
    "start_time": "2022-04-14T03:41:02.464Z"
   },
   {
    "duration": 27,
    "start_time": "2022-04-14T03:41:02.887Z"
   },
   {
    "duration": 24,
    "start_time": "2022-04-14T03:41:02.916Z"
   },
   {
    "duration": 19,
    "start_time": "2022-04-14T03:41:02.943Z"
   },
   {
    "duration": 10,
    "start_time": "2022-04-14T03:41:02.965Z"
   },
   {
    "duration": 42,
    "start_time": "2022-04-14T03:41:02.977Z"
   },
   {
    "duration": 39,
    "start_time": "2022-04-14T03:41:03.021Z"
   },
   {
    "duration": 22,
    "start_time": "2022-04-14T03:41:03.062Z"
   },
   {
    "duration": 4,
    "start_time": "2022-04-14T03:41:03.086Z"
   },
   {
    "duration": 46,
    "start_time": "2022-04-14T03:41:03.092Z"
   },
   {
    "duration": 8,
    "start_time": "2022-04-14T03:41:03.141Z"
   },
   {
    "duration": 217,
    "start_time": "2022-04-14T03:41:03.151Z"
   },
   {
    "duration": 10,
    "start_time": "2022-04-14T03:41:03.371Z"
   },
   {
    "duration": 679,
    "start_time": "2022-04-14T03:41:03.383Z"
   },
   {
    "duration": 390,
    "start_time": "2022-04-14T03:41:04.064Z"
   },
   {
    "duration": 539,
    "start_time": "2022-04-14T03:41:04.456Z"
   },
   {
    "duration": 14,
    "start_time": "2022-04-14T03:41:06.959Z"
   },
   {
    "duration": 1186,
    "start_time": "2022-04-14T03:41:52.020Z"
   },
   {
    "duration": 408,
    "start_time": "2022-04-14T03:41:53.209Z"
   },
   {
    "duration": 28,
    "start_time": "2022-04-14T03:41:53.619Z"
   },
   {
    "duration": 22,
    "start_time": "2022-04-14T03:41:53.649Z"
   },
   {
    "duration": 44,
    "start_time": "2022-04-14T03:41:53.674Z"
   },
   {
    "duration": 11,
    "start_time": "2022-04-14T03:41:53.720Z"
   },
   {
    "duration": 18,
    "start_time": "2022-04-14T03:41:53.733Z"
   },
   {
    "duration": 45,
    "start_time": "2022-04-14T03:41:53.752Z"
   },
   {
    "duration": 36,
    "start_time": "2022-04-14T03:41:53.798Z"
   },
   {
    "duration": 4,
    "start_time": "2022-04-14T03:41:53.836Z"
   },
   {
    "duration": 41,
    "start_time": "2022-04-14T03:41:53.841Z"
   },
   {
    "duration": 10,
    "start_time": "2022-04-14T03:41:53.883Z"
   },
   {
    "duration": 224,
    "start_time": "2022-04-14T03:41:53.895Z"
   },
   {
    "duration": 14,
    "start_time": "2022-04-14T03:41:54.122Z"
   },
   {
    "duration": 693,
    "start_time": "2022-04-14T03:41:54.138Z"
   },
   {
    "duration": 396,
    "start_time": "2022-04-14T03:41:54.833Z"
   },
   {
    "duration": 543,
    "start_time": "2022-04-14T03:41:55.230Z"
   },
   {
    "duration": 6,
    "start_time": "2022-04-14T03:41:55.775Z"
   },
   {
    "duration": 51,
    "start_time": "2022-04-14T03:41:55.782Z"
   },
   {
    "duration": 28,
    "start_time": "2022-04-14T03:41:55.835Z"
   },
   {
    "duration": 25,
    "start_time": "2022-04-14T03:41:55.865Z"
   },
   {
    "duration": 53,
    "start_time": "2022-04-14T03:41:55.892Z"
   },
   {
    "duration": 12,
    "start_time": "2022-04-14T03:41:55.947Z"
   },
   {
    "duration": 23,
    "start_time": "2022-04-14T03:41:55.961Z"
   },
   {
    "duration": 6,
    "start_time": "2022-04-14T03:41:55.986Z"
   },
   {
    "duration": 9,
    "start_time": "2022-04-14T03:41:56.018Z"
   },
   {
    "duration": 11,
    "start_time": "2022-04-14T03:41:56.029Z"
   },
   {
    "duration": 10,
    "start_time": "2022-04-14T03:41:56.042Z"
   },
   {
    "duration": 6,
    "start_time": "2022-04-14T03:41:56.054Z"
   },
   {
    "duration": 145,
    "start_time": "2022-04-14T03:41:56.062Z"
   },
   {
    "duration": 33,
    "start_time": "2022-04-14T03:41:56.209Z"
   },
   {
    "duration": 1612,
    "start_time": "2022-04-14T03:41:56.244Z"
   },
   {
    "duration": 333,
    "start_time": "2022-04-14T03:41:57.858Z"
   },
   {
    "duration": 3,
    "start_time": "2022-04-14T03:41:58.193Z"
   },
   {
    "duration": 55,
    "start_time": "2022-04-14T03:41:58.197Z"
   },
   {
    "duration": 22,
    "start_time": "2022-04-14T03:41:58.254Z"
   },
   {
    "duration": 2569,
    "start_time": "2022-04-14T03:41:58.278Z"
   },
   {
    "duration": 3,
    "start_time": "2022-04-14T03:42:00.849Z"
   },
   {
    "duration": 23,
    "start_time": "2022-04-14T03:42:00.854Z"
   },
   {
    "duration": 23,
    "start_time": "2022-04-14T03:42:00.879Z"
   },
   {
    "duration": 422,
    "start_time": "2022-04-14T03:42:55.259Z"
   },
   {
    "duration": 22,
    "start_time": "2022-04-14T03:42:58.315Z"
   },
   {
    "duration": 107,
    "start_time": "2022-04-14T03:43:15.346Z"
   },
   {
    "duration": 35,
    "start_time": "2022-04-14T03:49:42.592Z"
   },
   {
    "duration": 10,
    "start_time": "2022-04-14T03:51:44.892Z"
   },
   {
    "duration": 10,
    "start_time": "2022-04-14T03:52:15.623Z"
   },
   {
    "duration": 31,
    "start_time": "2022-04-14T03:52:20.856Z"
   },
   {
    "duration": 30,
    "start_time": "2022-04-14T03:52:32.127Z"
   },
   {
    "duration": 16,
    "start_time": "2022-04-14T03:55:27.502Z"
   },
   {
    "duration": 1158,
    "start_time": "2022-04-14T03:55:42.743Z"
   },
   {
    "duration": 419,
    "start_time": "2022-04-14T03:55:43.903Z"
   },
   {
    "duration": 31,
    "start_time": "2022-04-14T03:55:44.324Z"
   },
   {
    "duration": 25,
    "start_time": "2022-04-14T03:55:44.357Z"
   },
   {
    "duration": 46,
    "start_time": "2022-04-14T03:55:44.385Z"
   },
   {
    "duration": 12,
    "start_time": "2022-04-14T03:55:44.433Z"
   },
   {
    "duration": 19,
    "start_time": "2022-04-14T03:55:44.447Z"
   },
   {
    "duration": 56,
    "start_time": "2022-04-14T03:55:44.468Z"
   },
   {
    "duration": 24,
    "start_time": "2022-04-14T03:55:44.526Z"
   },
   {
    "duration": 4,
    "start_time": "2022-04-14T03:55:44.552Z"
   },
   {
    "duration": 36,
    "start_time": "2022-04-14T03:55:44.558Z"
   },
   {
    "duration": 232,
    "start_time": "2022-04-14T03:55:44.596Z"
   },
   {
    "duration": 14,
    "start_time": "2022-04-14T03:55:44.830Z"
   },
   {
    "duration": 707,
    "start_time": "2022-04-14T03:55:44.847Z"
   },
   {
    "duration": 398,
    "start_time": "2022-04-14T03:55:45.556Z"
   },
   {
    "duration": 537,
    "start_time": "2022-04-14T03:55:45.956Z"
   },
   {
    "duration": 6,
    "start_time": "2022-04-14T03:55:46.495Z"
   },
   {
    "duration": 42,
    "start_time": "2022-04-14T03:55:46.503Z"
   },
   {
    "duration": 29,
    "start_time": "2022-04-14T03:55:46.546Z"
   },
   {
    "duration": 2258,
    "start_time": "2022-04-14T03:55:46.577Z"
   },
   {
    "duration": 0,
    "start_time": "2022-04-14T03:55:48.837Z"
   },
   {
    "duration": 0,
    "start_time": "2022-04-14T03:55:48.838Z"
   },
   {
    "duration": 0,
    "start_time": "2022-04-14T03:55:48.840Z"
   },
   {
    "duration": 0,
    "start_time": "2022-04-14T03:55:48.841Z"
   },
   {
    "duration": 0,
    "start_time": "2022-04-14T03:55:48.842Z"
   },
   {
    "duration": 0,
    "start_time": "2022-04-14T03:55:48.843Z"
   },
   {
    "duration": 0,
    "start_time": "2022-04-14T03:55:48.844Z"
   },
   {
    "duration": 0,
    "start_time": "2022-04-14T03:55:48.845Z"
   },
   {
    "duration": 0,
    "start_time": "2022-04-14T03:55:48.846Z"
   },
   {
    "duration": 0,
    "start_time": "2022-04-14T03:55:48.847Z"
   },
   {
    "duration": 0,
    "start_time": "2022-04-14T03:55:48.848Z"
   },
   {
    "duration": 0,
    "start_time": "2022-04-14T03:55:48.850Z"
   },
   {
    "duration": 0,
    "start_time": "2022-04-14T03:55:48.851Z"
   },
   {
    "duration": 0,
    "start_time": "2022-04-14T03:55:48.852Z"
   },
   {
    "duration": 0,
    "start_time": "2022-04-14T03:55:48.853Z"
   },
   {
    "duration": 0,
    "start_time": "2022-04-14T03:55:48.854Z"
   },
   {
    "duration": 0,
    "start_time": "2022-04-14T03:55:48.855Z"
   },
   {
    "duration": 0,
    "start_time": "2022-04-14T03:55:48.856Z"
   },
   {
    "duration": 0,
    "start_time": "2022-04-14T03:55:48.858Z"
   },
   {
    "duration": 0,
    "start_time": "2022-04-14T03:55:48.859Z"
   },
   {
    "duration": 29,
    "start_time": "2022-04-14T03:56:06.341Z"
   },
   {
    "duration": 29,
    "start_time": "2022-04-14T03:56:20.077Z"
   },
   {
    "duration": 28,
    "start_time": "2022-04-14T03:56:26.061Z"
   },
   {
    "duration": 26,
    "start_time": "2022-04-14T03:57:32.357Z"
   },
   {
    "duration": 29,
    "start_time": "2022-04-14T03:57:42.052Z"
   },
   {
    "duration": 32,
    "start_time": "2022-04-14T03:58:01.140Z"
   },
   {
    "duration": 6,
    "start_time": "2022-04-14T03:59:12.115Z"
   },
   {
    "duration": 5,
    "start_time": "2022-04-14T03:59:34.395Z"
   },
   {
    "duration": 6,
    "start_time": "2022-04-14T04:00:38.347Z"
   },
   {
    "duration": 30,
    "start_time": "2022-04-14T04:01:17.803Z"
   },
   {
    "duration": 7,
    "start_time": "2022-04-14T04:01:21.091Z"
   },
   {
    "duration": 1197,
    "start_time": "2022-04-14T04:01:36.297Z"
   },
   {
    "duration": 414,
    "start_time": "2022-04-14T04:01:37.496Z"
   },
   {
    "duration": 27,
    "start_time": "2022-04-14T04:01:37.912Z"
   },
   {
    "duration": 28,
    "start_time": "2022-04-14T04:01:37.941Z"
   },
   {
    "duration": 20,
    "start_time": "2022-04-14T04:01:37.971Z"
   },
   {
    "duration": 19,
    "start_time": "2022-04-14T04:01:37.993Z"
   },
   {
    "duration": 13,
    "start_time": "2022-04-14T04:01:38.019Z"
   },
   {
    "duration": 46,
    "start_time": "2022-04-14T04:01:38.033Z"
   },
   {
    "duration": 25,
    "start_time": "2022-04-14T04:01:38.081Z"
   },
   {
    "duration": 4,
    "start_time": "2022-04-14T04:01:38.118Z"
   },
   {
    "duration": 34,
    "start_time": "2022-04-14T04:01:38.124Z"
   },
   {
    "duration": 214,
    "start_time": "2022-04-14T04:01:38.160Z"
   },
   {
    "duration": 14,
    "start_time": "2022-04-14T04:01:38.376Z"
   },
   {
    "duration": 680,
    "start_time": "2022-04-14T04:01:38.393Z"
   },
   {
    "duration": 392,
    "start_time": "2022-04-14T04:01:39.075Z"
   },
   {
    "duration": 549,
    "start_time": "2022-04-14T04:01:39.469Z"
   },
   {
    "duration": 6,
    "start_time": "2022-04-14T04:01:40.020Z"
   },
   {
    "duration": 47,
    "start_time": "2022-04-14T04:01:40.028Z"
   },
   {
    "duration": 29,
    "start_time": "2022-04-14T04:01:40.076Z"
   },
   {
    "duration": 24,
    "start_time": "2022-04-14T04:01:40.119Z"
   },
   {
    "duration": 37,
    "start_time": "2022-04-14T04:01:40.145Z"
   },
   {
    "duration": 7,
    "start_time": "2022-04-14T04:01:40.184Z"
   },
   {
    "duration": 53,
    "start_time": "2022-04-14T04:01:40.193Z"
   },
   {
    "duration": 7,
    "start_time": "2022-04-14T04:01:40.248Z"
   },
   {
    "duration": 23,
    "start_time": "2022-04-14T04:01:40.257Z"
   },
   {
    "duration": 32,
    "start_time": "2022-04-14T04:01:40.282Z"
   },
   {
    "duration": 5,
    "start_time": "2022-04-14T04:01:40.319Z"
   },
   {
    "duration": 13,
    "start_time": "2022-04-14T04:01:40.326Z"
   },
   {
    "duration": 17,
    "start_time": "2022-04-14T04:01:40.341Z"
   },
   {
    "duration": 16,
    "start_time": "2022-04-14T04:01:40.359Z"
   },
   {
    "duration": 22,
    "start_time": "2022-04-14T04:01:40.378Z"
   },
   {
    "duration": 142,
    "start_time": "2022-04-14T04:01:40.401Z"
   },
   {
    "duration": 29,
    "start_time": "2022-04-14T04:01:40.544Z"
   },
   {
    "duration": 1735,
    "start_time": "2022-04-14T04:01:40.574Z"
   },
   {
    "duration": 258,
    "start_time": "2022-04-14T04:01:42.311Z"
   },
   {
    "duration": 3,
    "start_time": "2022-04-14T04:01:42.570Z"
   },
   {
    "duration": 57,
    "start_time": "2022-04-14T04:01:42.575Z"
   },
   {
    "duration": 22,
    "start_time": "2022-04-14T04:01:42.634Z"
   },
   {
    "duration": 2344,
    "start_time": "2022-04-14T04:01:42.658Z"
   },
   {
    "duration": 3,
    "start_time": "2022-04-14T04:01:45.004Z"
   },
   {
    "duration": 19,
    "start_time": "2022-04-14T04:01:45.017Z"
   },
   {
    "duration": 19,
    "start_time": "2022-04-14T04:01:45.038Z"
   },
   {
    "duration": 2258,
    "start_time": "2022-04-14T04:04:24.392Z"
   },
   {
    "duration": 2393,
    "start_time": "2022-04-14T04:05:03.984Z"
   },
   {
    "duration": 2492,
    "start_time": "2022-04-14T04:05:12.026Z"
   },
   {
    "duration": 1189,
    "start_time": "2022-04-14T04:06:36.334Z"
   },
   {
    "duration": 415,
    "start_time": "2022-04-14T04:06:37.525Z"
   },
   {
    "duration": 29,
    "start_time": "2022-04-14T04:06:37.941Z"
   },
   {
    "duration": 37,
    "start_time": "2022-04-14T04:06:37.972Z"
   },
   {
    "duration": 20,
    "start_time": "2022-04-14T04:06:38.012Z"
   },
   {
    "duration": 20,
    "start_time": "2022-04-14T04:06:38.034Z"
   },
   {
    "duration": 14,
    "start_time": "2022-04-14T04:06:38.056Z"
   },
   {
    "duration": 41,
    "start_time": "2022-04-14T04:06:38.072Z"
   },
   {
    "duration": 23,
    "start_time": "2022-04-14T04:06:38.117Z"
   },
   {
    "duration": 4,
    "start_time": "2022-04-14T04:06:38.142Z"
   },
   {
    "duration": 34,
    "start_time": "2022-04-14T04:06:38.148Z"
   },
   {
    "duration": 235,
    "start_time": "2022-04-14T04:06:38.184Z"
   },
   {
    "duration": 14,
    "start_time": "2022-04-14T04:06:38.421Z"
   },
   {
    "duration": 737,
    "start_time": "2022-04-14T04:06:38.439Z"
   },
   {
    "duration": 419,
    "start_time": "2022-04-14T04:06:39.178Z"
   },
   {
    "duration": 566,
    "start_time": "2022-04-14T04:06:39.599Z"
   },
   {
    "duration": 7,
    "start_time": "2022-04-14T04:06:40.167Z"
   },
   {
    "duration": 52,
    "start_time": "2022-04-14T04:06:40.175Z"
   },
   {
    "duration": 29,
    "start_time": "2022-04-14T04:06:40.229Z"
   },
   {
    "duration": 24,
    "start_time": "2022-04-14T04:06:40.259Z"
   },
   {
    "duration": 60,
    "start_time": "2022-04-14T04:06:40.285Z"
   },
   {
    "duration": 7,
    "start_time": "2022-04-14T04:06:40.347Z"
   },
   {
    "duration": 15,
    "start_time": "2022-04-14T04:06:40.356Z"
   },
   {
    "duration": 21,
    "start_time": "2022-04-14T04:06:40.373Z"
   },
   {
    "duration": 25,
    "start_time": "2022-04-14T04:06:40.396Z"
   },
   {
    "duration": 12,
    "start_time": "2022-04-14T04:06:40.423Z"
   },
   {
    "duration": 9,
    "start_time": "2022-04-14T04:06:40.437Z"
   },
   {
    "duration": 7,
    "start_time": "2022-04-14T04:06:40.448Z"
   },
   {
    "duration": 16,
    "start_time": "2022-04-14T04:06:40.458Z"
   },
   {
    "duration": 140,
    "start_time": "2022-04-14T04:06:40.476Z"
   },
   {
    "duration": 28,
    "start_time": "2022-04-14T04:06:40.618Z"
   },
   {
    "duration": 1577,
    "start_time": "2022-04-14T04:06:40.648Z"
   },
   {
    "duration": 357,
    "start_time": "2022-04-14T04:06:42.227Z"
   },
   {
    "duration": 3,
    "start_time": "2022-04-14T04:06:42.586Z"
   },
   {
    "duration": 57,
    "start_time": "2022-04-14T04:06:42.591Z"
   },
   {
    "duration": 24,
    "start_time": "2022-04-14T04:06:42.650Z"
   },
   {
    "duration": 2336,
    "start_time": "2022-04-14T04:06:42.676Z"
   },
   {
    "duration": 3,
    "start_time": "2022-04-14T04:06:45.019Z"
   },
   {
    "duration": 34,
    "start_time": "2022-04-14T04:06:45.024Z"
   },
   {
    "duration": 18,
    "start_time": "2022-04-14T04:06:45.060Z"
   },
   {
    "duration": 29,
    "start_time": "2022-04-14T04:08:30.538Z"
   },
   {
    "duration": 7,
    "start_time": "2022-04-14T04:08:31.298Z"
   },
   {
    "duration": 1163,
    "start_time": "2022-04-14T04:09:06.253Z"
   },
   {
    "duration": 426,
    "start_time": "2022-04-14T04:09:07.418Z"
   },
   {
    "duration": 30,
    "start_time": "2022-04-14T04:09:07.846Z"
   },
   {
    "duration": 25,
    "start_time": "2022-04-14T04:09:07.878Z"
   },
   {
    "duration": 21,
    "start_time": "2022-04-14T04:09:07.906Z"
   },
   {
    "duration": 13,
    "start_time": "2022-04-14T04:09:07.929Z"
   },
   {
    "duration": 12,
    "start_time": "2022-04-14T04:09:07.944Z"
   },
   {
    "duration": 62,
    "start_time": "2022-04-14T04:09:07.958Z"
   },
   {
    "duration": 23,
    "start_time": "2022-04-14T04:09:08.023Z"
   },
   {
    "duration": 5,
    "start_time": "2022-04-14T04:09:08.048Z"
   },
   {
    "duration": 41,
    "start_time": "2022-04-14T04:09:08.055Z"
   },
   {
    "duration": 230,
    "start_time": "2022-04-14T04:09:08.098Z"
   },
   {
    "duration": 14,
    "start_time": "2022-04-14T04:09:08.330Z"
   },
   {
    "duration": 694,
    "start_time": "2022-04-14T04:09:08.348Z"
   },
   {
    "duration": 403,
    "start_time": "2022-04-14T04:09:09.044Z"
   },
   {
    "duration": 542,
    "start_time": "2022-04-14T04:09:09.449Z"
   },
   {
    "duration": 5,
    "start_time": "2022-04-14T04:09:09.993Z"
   },
   {
    "duration": 43,
    "start_time": "2022-04-14T04:09:10.000Z"
   },
   {
    "duration": 28,
    "start_time": "2022-04-14T04:09:10.045Z"
   },
   {
    "duration": 44,
    "start_time": "2022-04-14T04:09:10.075Z"
   },
   {
    "duration": 28,
    "start_time": "2022-04-14T04:09:10.121Z"
   },
   {
    "duration": 7,
    "start_time": "2022-04-14T04:09:10.151Z"
   },
   {
    "duration": 21,
    "start_time": "2022-04-14T04:09:10.160Z"
   },
   {
    "duration": 36,
    "start_time": "2022-04-14T04:09:10.183Z"
   },
   {
    "duration": 5,
    "start_time": "2022-04-14T04:09:10.221Z"
   },
   {
    "duration": 10,
    "start_time": "2022-04-14T04:09:10.228Z"
   },
   {
    "duration": 10,
    "start_time": "2022-04-14T04:09:10.240Z"
   },
   {
    "duration": 10,
    "start_time": "2022-04-14T04:09:10.252Z"
   },
   {
    "duration": 7,
    "start_time": "2022-04-14T04:09:10.264Z"
   },
   {
    "duration": 149,
    "start_time": "2022-04-14T04:09:10.272Z"
   },
   {
    "duration": 27,
    "start_time": "2022-04-14T04:09:10.422Z"
   },
   {
    "duration": 1518,
    "start_time": "2022-04-14T04:09:10.450Z"
   },
   {
    "duration": 331,
    "start_time": "2022-04-14T04:09:11.970Z"
   },
   {
    "duration": 3,
    "start_time": "2022-04-14T04:09:12.302Z"
   },
   {
    "duration": 40,
    "start_time": "2022-04-14T04:09:12.318Z"
   },
   {
    "duration": 21,
    "start_time": "2022-04-14T04:09:12.360Z"
   },
   {
    "duration": 2436,
    "start_time": "2022-04-14T04:09:12.382Z"
   },
   {
    "duration": 3,
    "start_time": "2022-04-14T04:09:14.820Z"
   },
   {
    "duration": 16,
    "start_time": "2022-04-14T04:09:14.825Z"
   },
   {
    "duration": 8,
    "start_time": "2022-04-14T04:09:14.844Z"
   },
   {
    "duration": 1203,
    "start_time": "2022-04-14T04:12:12.914Z"
   },
   {
    "duration": 420,
    "start_time": "2022-04-14T04:12:14.120Z"
   },
   {
    "duration": 28,
    "start_time": "2022-04-14T04:12:14.542Z"
   },
   {
    "duration": 23,
    "start_time": "2022-04-14T04:12:14.572Z"
   },
   {
    "duration": 23,
    "start_time": "2022-04-14T04:12:14.598Z"
   },
   {
    "duration": 11,
    "start_time": "2022-04-14T04:12:14.623Z"
   },
   {
    "duration": 11,
    "start_time": "2022-04-14T04:12:14.636Z"
   },
   {
    "duration": 44,
    "start_time": "2022-04-14T04:12:14.649Z"
   },
   {
    "duration": 22,
    "start_time": "2022-04-14T04:12:14.718Z"
   },
   {
    "duration": 5,
    "start_time": "2022-04-14T04:12:14.742Z"
   },
   {
    "duration": 31,
    "start_time": "2022-04-14T04:12:14.749Z"
   },
   {
    "duration": 240,
    "start_time": "2022-04-14T04:12:14.783Z"
   },
   {
    "duration": 16,
    "start_time": "2022-04-14T04:12:15.025Z"
   },
   {
    "duration": 709,
    "start_time": "2022-04-14T04:12:15.045Z"
   },
   {
    "duration": 424,
    "start_time": "2022-04-14T04:12:15.756Z"
   },
   {
    "duration": 542,
    "start_time": "2022-04-14T04:12:16.182Z"
   },
   {
    "duration": 6,
    "start_time": "2022-04-14T04:12:16.726Z"
   },
   {
    "duration": 39,
    "start_time": "2022-04-14T04:12:16.734Z"
   },
   {
    "duration": 49,
    "start_time": "2022-04-14T04:12:16.775Z"
   },
   {
    "duration": 24,
    "start_time": "2022-04-14T04:12:16.826Z"
   },
   {
    "duration": 29,
    "start_time": "2022-04-14T04:12:16.852Z"
   },
   {
    "duration": 35,
    "start_time": "2022-04-14T04:12:16.883Z"
   },
   {
    "duration": 12,
    "start_time": "2022-04-14T04:12:16.920Z"
   },
   {
    "duration": 26,
    "start_time": "2022-04-14T04:12:16.934Z"
   },
   {
    "duration": 5,
    "start_time": "2022-04-14T04:12:16.962Z"
   },
   {
    "duration": 11,
    "start_time": "2022-04-14T04:12:16.969Z"
   },
   {
    "duration": 13,
    "start_time": "2022-04-14T04:12:16.982Z"
   },
   {
    "duration": 31,
    "start_time": "2022-04-14T04:12:16.997Z"
   },
   {
    "duration": 13,
    "start_time": "2022-04-14T04:12:17.030Z"
   },
   {
    "duration": 132,
    "start_time": "2022-04-14T04:12:17.045Z"
   },
   {
    "duration": 27,
    "start_time": "2022-04-14T04:12:17.179Z"
   },
   {
    "duration": 1529,
    "start_time": "2022-04-14T04:12:17.208Z"
   },
   {
    "duration": 326,
    "start_time": "2022-04-14T04:12:18.739Z"
   },
   {
    "duration": 3,
    "start_time": "2022-04-14T04:12:19.066Z"
   },
   {
    "duration": 59,
    "start_time": "2022-04-14T04:12:19.070Z"
   },
   {
    "duration": 22,
    "start_time": "2022-04-14T04:12:19.131Z"
   },
   {
    "duration": 2328,
    "start_time": "2022-04-14T04:12:19.155Z"
   },
   {
    "duration": 3,
    "start_time": "2022-04-14T04:12:21.485Z"
   },
   {
    "duration": 29,
    "start_time": "2022-04-14T04:12:21.489Z"
   },
   {
    "duration": 14,
    "start_time": "2022-04-14T04:12:21.520Z"
   },
   {
    "duration": 1224,
    "start_time": "2022-04-14T04:15:20.698Z"
   },
   {
    "duration": 427,
    "start_time": "2022-04-14T04:15:21.925Z"
   },
   {
    "duration": 28,
    "start_time": "2022-04-14T04:15:22.354Z"
   },
   {
    "duration": 23,
    "start_time": "2022-04-14T04:15:22.384Z"
   },
   {
    "duration": 20,
    "start_time": "2022-04-14T04:15:22.409Z"
   },
   {
    "duration": 12,
    "start_time": "2022-04-14T04:15:22.431Z"
   },
   {
    "duration": 16,
    "start_time": "2022-04-14T04:15:22.444Z"
   },
   {
    "duration": 58,
    "start_time": "2022-04-14T04:15:22.462Z"
   },
   {
    "duration": 23,
    "start_time": "2022-04-14T04:15:22.522Z"
   },
   {
    "duration": 4,
    "start_time": "2022-04-14T04:15:22.547Z"
   },
   {
    "duration": 35,
    "start_time": "2022-04-14T04:15:22.552Z"
   },
   {
    "duration": 236,
    "start_time": "2022-04-14T04:15:22.589Z"
   },
   {
    "duration": 16,
    "start_time": "2022-04-14T04:15:22.827Z"
   },
   {
    "duration": 703,
    "start_time": "2022-04-14T04:15:22.848Z"
   },
   {
    "duration": 394,
    "start_time": "2022-04-14T04:15:23.553Z"
   },
   {
    "duration": 539,
    "start_time": "2022-04-14T04:15:23.949Z"
   },
   {
    "duration": 5,
    "start_time": "2022-04-14T04:15:24.490Z"
   },
   {
    "duration": 49,
    "start_time": "2022-04-14T04:15:24.497Z"
   },
   {
    "duration": 30,
    "start_time": "2022-04-14T04:15:24.548Z"
   },
   {
    "duration": 50,
    "start_time": "2022-04-14T04:15:24.581Z"
   },
   {
    "duration": 30,
    "start_time": "2022-04-14T04:15:24.633Z"
   },
   {
    "duration": 7,
    "start_time": "2022-04-14T04:15:24.665Z"
   },
   {
    "duration": 15,
    "start_time": "2022-04-14T04:15:24.674Z"
   },
   {
    "duration": 44,
    "start_time": "2022-04-14T04:15:24.692Z"
   },
   {
    "duration": 5,
    "start_time": "2022-04-14T04:15:24.738Z"
   },
   {
    "duration": 11,
    "start_time": "2022-04-14T04:15:24.746Z"
   },
   {
    "duration": 21,
    "start_time": "2022-04-14T04:15:24.759Z"
   },
   {
    "duration": 16,
    "start_time": "2022-04-14T04:15:24.782Z"
   },
   {
    "duration": 19,
    "start_time": "2022-04-14T04:15:24.800Z"
   },
   {
    "duration": 142,
    "start_time": "2022-04-14T04:15:24.821Z"
   },
   {
    "duration": 30,
    "start_time": "2022-04-14T04:15:24.965Z"
   },
   {
    "duration": 1537,
    "start_time": "2022-04-14T04:15:24.997Z"
   },
   {
    "duration": 339,
    "start_time": "2022-04-14T04:15:26.536Z"
   },
   {
    "duration": 3,
    "start_time": "2022-04-14T04:15:26.877Z"
   },
   {
    "duration": 56,
    "start_time": "2022-04-14T04:15:26.882Z"
   },
   {
    "duration": 22,
    "start_time": "2022-04-14T04:15:26.941Z"
   },
   {
    "duration": 2319,
    "start_time": "2022-04-14T04:15:26.966Z"
   },
   {
    "duration": 3,
    "start_time": "2022-04-14T04:15:29.288Z"
   },
   {
    "duration": 27,
    "start_time": "2022-04-14T04:15:29.293Z"
   },
   {
    "duration": 10,
    "start_time": "2022-04-14T04:15:29.322Z"
   },
   {
    "duration": 1842,
    "start_time": "2022-04-14T17:01:17.759Z"
   },
   {
    "duration": 476,
    "start_time": "2022-04-14T17:01:19.604Z"
   },
   {
    "duration": 34,
    "start_time": "2022-04-14T17:01:20.082Z"
   },
   {
    "duration": 37,
    "start_time": "2022-04-14T17:01:20.119Z"
   },
   {
    "duration": 24,
    "start_time": "2022-04-14T17:01:20.158Z"
   },
   {
    "duration": 45,
    "start_time": "2022-04-14T17:01:20.184Z"
   },
   {
    "duration": 20,
    "start_time": "2022-04-14T17:01:20.231Z"
   },
   {
    "duration": 73,
    "start_time": "2022-04-14T17:01:20.253Z"
   },
   {
    "duration": 31,
    "start_time": "2022-04-14T17:01:20.328Z"
   },
   {
    "duration": 5,
    "start_time": "2022-04-14T17:01:20.362Z"
   },
   {
    "duration": 64,
    "start_time": "2022-04-14T17:01:20.370Z"
   },
   {
    "duration": 327,
    "start_time": "2022-04-14T17:01:20.437Z"
   },
   {
    "duration": 19,
    "start_time": "2022-04-14T17:01:20.767Z"
   },
   {
    "duration": 1141,
    "start_time": "2022-04-14T17:01:20.788Z"
   },
   {
    "duration": 687,
    "start_time": "2022-04-14T17:01:21.931Z"
   },
   {
    "duration": 597,
    "start_time": "2022-04-14T17:01:22.621Z"
   },
   {
    "duration": 6,
    "start_time": "2022-04-14T17:01:23.221Z"
   },
   {
    "duration": 51,
    "start_time": "2022-04-14T17:01:23.228Z"
   },
   {
    "duration": 47,
    "start_time": "2022-04-14T17:01:23.281Z"
   },
   {
    "duration": 29,
    "start_time": "2022-04-14T17:01:23.332Z"
   },
   {
    "duration": 33,
    "start_time": "2022-04-14T17:01:23.363Z"
   },
   {
    "duration": 11,
    "start_time": "2022-04-14T17:01:23.420Z"
   },
   {
    "duration": 32,
    "start_time": "2022-04-14T17:01:23.434Z"
   },
   {
    "duration": 40,
    "start_time": "2022-04-14T17:01:23.468Z"
   },
   {
    "duration": 17,
    "start_time": "2022-04-14T17:01:23.510Z"
   },
   {
    "duration": 23,
    "start_time": "2022-04-14T17:01:23.531Z"
   },
   {
    "duration": 14,
    "start_time": "2022-04-14T17:01:23.556Z"
   },
   {
    "duration": 13,
    "start_time": "2022-04-14T17:01:23.574Z"
   },
   {
    "duration": 14,
    "start_time": "2022-04-14T17:01:23.589Z"
   },
   {
    "duration": 162,
    "start_time": "2022-04-14T17:01:23.606Z"
   },
   {
    "duration": 30,
    "start_time": "2022-04-14T17:01:23.771Z"
   },
   {
    "duration": 2801,
    "start_time": "2022-04-14T17:01:23.803Z"
   },
   {
    "duration": 304,
    "start_time": "2022-04-14T17:01:26.608Z"
   },
   {
    "duration": 9,
    "start_time": "2022-04-14T17:01:26.919Z"
   },
   {
    "duration": 54,
    "start_time": "2022-04-14T17:01:26.931Z"
   },
   {
    "duration": 52,
    "start_time": "2022-04-14T17:01:26.987Z"
   },
   {
    "duration": 4368,
    "start_time": "2022-04-14T17:01:27.042Z"
   },
   {
    "duration": 9,
    "start_time": "2022-04-14T17:01:31.412Z"
   },
   {
    "duration": 46,
    "start_time": "2022-04-14T17:01:31.423Z"
   },
   {
    "duration": 18,
    "start_time": "2022-04-14T17:01:31.471Z"
   },
   {
    "duration": 146,
    "start_time": "2022-04-14T17:08:06.162Z"
   },
   {
    "duration": 1763,
    "start_time": "2022-04-15T01:31:32.112Z"
   },
   {
    "duration": 493,
    "start_time": "2022-04-15T01:31:33.878Z"
   },
   {
    "duration": 35,
    "start_time": "2022-04-15T01:31:34.373Z"
   },
   {
    "duration": 41,
    "start_time": "2022-04-15T01:31:34.411Z"
   },
   {
    "duration": 25,
    "start_time": "2022-04-15T01:31:34.454Z"
   },
   {
    "duration": 16,
    "start_time": "2022-04-15T01:31:34.481Z"
   },
   {
    "duration": 17,
    "start_time": "2022-04-15T01:31:34.499Z"
   },
   {
    "duration": 53,
    "start_time": "2022-04-15T01:31:34.551Z"
   },
   {
    "duration": 45,
    "start_time": "2022-04-15T01:31:34.606Z"
   },
   {
    "duration": 6,
    "start_time": "2022-04-15T01:31:34.655Z"
   },
   {
    "duration": 39,
    "start_time": "2022-04-15T01:31:34.663Z"
   },
   {
    "duration": 278,
    "start_time": "2022-04-15T01:31:34.705Z"
   },
   {
    "duration": 17,
    "start_time": "2022-04-15T01:31:34.985Z"
   },
   {
    "duration": 979,
    "start_time": "2022-04-15T01:31:35.004Z"
   },
   {
    "duration": 539,
    "start_time": "2022-04-15T01:31:35.985Z"
   },
   {
    "duration": 826,
    "start_time": "2022-04-15T01:31:36.526Z"
   },
   {
    "duration": 5,
    "start_time": "2022-04-15T01:31:37.354Z"
   },
   {
    "duration": 51,
    "start_time": "2022-04-15T01:31:37.362Z"
   },
   {
    "duration": 59,
    "start_time": "2022-04-15T01:31:37.415Z"
   },
   {
    "duration": 30,
    "start_time": "2022-04-15T01:31:37.477Z"
   },
   {
    "duration": 60,
    "start_time": "2022-04-15T01:31:37.509Z"
   },
   {
    "duration": 9,
    "start_time": "2022-04-15T01:31:37.571Z"
   },
   {
    "duration": 15,
    "start_time": "2022-04-15T01:31:37.582Z"
   },
   {
    "duration": 58,
    "start_time": "2022-04-15T01:31:37.599Z"
   },
   {
    "duration": 7,
    "start_time": "2022-04-15T01:31:37.659Z"
   },
   {
    "duration": 10,
    "start_time": "2022-04-15T01:31:37.668Z"
   },
   {
    "duration": 20,
    "start_time": "2022-04-15T01:31:37.680Z"
   },
   {
    "duration": 8,
    "start_time": "2022-04-15T01:31:37.705Z"
   },
   {
    "duration": 37,
    "start_time": "2022-04-15T01:31:37.716Z"
   },
   {
    "duration": 220,
    "start_time": "2022-04-15T01:31:37.755Z"
   },
   {
    "duration": 40,
    "start_time": "2022-04-15T01:31:37.977Z"
   },
   {
    "duration": 2521,
    "start_time": "2022-04-15T01:31:38.019Z"
   },
   {
    "duration": 396,
    "start_time": "2022-04-15T01:31:40.543Z"
   },
   {
    "duration": 10,
    "start_time": "2022-04-15T01:31:40.942Z"
   },
   {
    "duration": 53,
    "start_time": "2022-04-15T01:31:40.955Z"
   },
   {
    "duration": 57,
    "start_time": "2022-04-15T01:31:41.011Z"
   },
   {
    "duration": 3816,
    "start_time": "2022-04-15T01:31:41.071Z"
   },
   {
    "duration": 3,
    "start_time": "2022-04-15T01:31:44.890Z"
   },
   {
    "duration": 17,
    "start_time": "2022-04-15T01:31:44.896Z"
   },
   {
    "duration": 38,
    "start_time": "2022-04-15T01:31:44.915Z"
   }
  ],
  "kernelspec": {
   "display_name": "Python 3",
   "language": "python",
   "name": "python3"
  },
  "language_info": {
   "codemirror_mode": {
    "name": "ipython",
    "version": 3
   },
   "file_extension": ".py",
   "mimetype": "text/x-python",
   "name": "python",
   "nbconvert_exporter": "python",
   "pygments_lexer": "ipython3",
   "version": "3.8.5"
  },
  "toc": {
   "base_numbering": 1,
   "nav_menu": {},
   "number_sections": true,
   "sideBar": true,
   "skip_h1_title": true,
   "title_cell": "Table of Contents",
   "title_sidebar": "Contents",
   "toc_cell": false,
   "toc_position": {},
   "toc_section_display": true,
   "toc_window_display": false
  }
 },
 "nbformat": 4,
 "nbformat_minor": 4
}
