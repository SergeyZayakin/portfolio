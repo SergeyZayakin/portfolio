{
  "cells": [
    {
      "cell_type": "markdown",
      "id": "9StIrIuQd5Mp",
      "metadata": {
        "id": "9StIrIuQd5Mp"
      },
      "source": [
        "# Данные о заболеваемости и смертности от COVID-19\n",
        "\n"
      ]
    },
    {
      "cell_type": "markdown",
      "id": "E0BHtBbhecD3",
      "metadata": {
        "id": "E0BHtBbhecD3"
      },
      "source": [
        "## 0. Загрузка и предобработка данных"
      ]
    },
    {
      "cell_type": "code",
      "execution_count": 23,
      "id": "pMgm7cGcd51y",
      "metadata": {
        "id": "pMgm7cGcd51y"
      },
      "outputs": [],
      "source": [
        "#импортируем необходимые библиотеки\n",
        "import pandas as pd\n",
        "import numpy as np\n",
        "from scipy import stats as st\n",
        "import matplotlib.pyplot as plt\n",
        "%matplotlib inline\n",
        "import datetime\n",
        "from datetime import date, datetime, timedelta\n",
        "import seaborn as sns"
      ]
    },
    {
      "cell_type": "code",
      "execution_count": 24,
      "id": "0dd3be39",
      "metadata": {
        "id": "0dd3be39"
      },
      "outputs": [],
      "source": [
        "data = pd.read_csv('https://covid19.who.int/WHO-COVID-19-global-data.csv') # данные с WHO Coronavirus (COVID-19) Dashboard\n",
        "#data.info()"
      ]
    },
    {
      "cell_type": "markdown",
      "id": "89b974df",
      "metadata": {
        "id": "89b974df"
      },
      "source": [
        "### Описание данных: \n",
        "**Date_reported** - дата отчёта, в свой последнея строке - самая последняя дата      \n",
        "**Country_code** - буквенный код страны   \n",
        "**Country** - название страны   \n",
        "**WHO_region** - регион ВОЗ, в который входит страна:  \n",
        "* AFRO - страны Африки  \n",
        "* AMRO - страны Северной, Центральной и Южной Америки   \n",
        "* EMRO - страны Восточного Средиземноморья, Ближнего Востока, Центральной Азии    \n",
        "* EURO - страны Европы   \n",
        "* SEARO - страны Юго-Восточной Азии  \n",
        "* WPRO - страны Западной части Тихого Океана\n",
        "* Other - прочие страны   \n",
        "    \n",
        "**New_cases** - число новых случаев заболевания, ед. (число новых заболевших, чел.)   \n",
        "**Cumulative_cases** - суммарно заболевших, чел.   \n",
        "**New_deaths** - число смертей, ед.   \n",
        "**Cumulative_deaths** - суммарно умерших, ед.       "
      ]
    },
    {
      "cell_type": "code",
      "execution_count": 25,
      "id": "861d29df",
      "metadata": {
        "id": "861d29df"
      },
      "outputs": [],
      "source": [
        "# Удалим колонки, не используемые в дальнешем анализе\n",
        "data = data.drop(columns=['Country_code', 'Cumulative_cases', 'Cumulative_deaths']) \n",
        "# Переименуем колонки\n",
        "data.rename(columns={'Country': 'Страна', 'WHO_region': 'Регион', 'New_cases': 'Новые_случаи', 'New_deaths': 'Смерти'}, inplace=True)\n",
        "# Разбираемся с датой отчёта, выделям год и месяц\n",
        "data['Date_reported'] = pd.to_datetime(data['Date_reported'], format='%Y-%m-%d')\n",
        "data['Месяц'] = data['Date_reported'].apply(lambda x: x.month)\n",
        "data['Год'] = data['Date_reported'].apply(lambda x: x.year)\n",
        "data['Год_месяц'] = data['Год'].astype(str) + '-' + data['Месяц'].astype(str)\n",
        "data['Год_месяц'] = pd.to_datetime(data['Год_месяц'], format='%Y-%m').dt.date"
      ]
    },
    {
      "cell_type": "markdown",
      "id": "S5t5bVxMeYET",
      "metadata": {
        "id": "S5t5bVxMeYET"
      },
      "source": [
        "---"
      ]
    },
    {
      "cell_type": "markdown",
      "id": "f3779965",
      "metadata": {
        "id": "f3779965"
      },
      "source": [
        "## 1. Оперативные данные о числе новых выявленных случаев и смертей    \n",
        "В базе доступны данные за день, предыдущий дню обращения (по состянию на 08.04. база работала именно так).   \n",
        "В выходные дни база не обновляется, поэтому если выводе следюущего блока нули - заметите в переменной tomorrow -1, на -2 или -3. "
      ]
    },
    {
      "cell_type": "code",
      "execution_count": 26,
      "id": "efe985f4",
      "metadata": {
        "colab": {
          "base_uri": "https://localhost:8080/"
        },
        "id": "efe985f4",
        "outputId": "0f0c91c1-58f9-49ed-e131-887864b3db11"
      },
      "outputs": [
        {
          "output_type": "stream",
          "name": "stdout",
          "text": [
            "По данным ВОЗ на 2022-04-16\n",
            "------------------------------------------------------------------\n",
            "0.0 тыс. новых случаев COVID-19 было выявлено в мире\n",
            "------------------------------------------------------------------\n",
            "0.0 тыс. человек умерло от COVID-19\n",
            "------------------------------------------------------------------\n"
          ]
        }
      ],
      "source": [
        "#если выводе нули - заметите в переменной tomorrow -1, на -2 или -3\n",
        "tomorrow = date.today() + timedelta(days=-1)\n",
        "tomorrow_str = str(tomorrow)\n",
        "tomorrow_new_cases = data.loc[data.loc[:, 'Date_reported'] == tomorrow_str]['Новые_случаи'].sum()\n",
        "tomorrow_new_deaths = data.loc[data.loc[:, 'Date_reported'] == tomorrow_str]['Смерти'].sum()\n",
        "print('По данным ВОЗ на', tomorrow)\n",
        "print('-'*66)\n",
        "print((tomorrow_new_cases/1000).round(1), 'тыс. новых случаев COVID-19 было выявлено в мире')\n",
        "print('-'*66)\n",
        "print((tomorrow_new_deaths/1000).round(1), 'тыс. человек умерло от COVID-19')\n",
        "print('-'*66)"
      ]
    },
    {
      "cell_type": "code",
      "execution_count": 27,
      "id": "aoI8aLr5ZU0g",
      "metadata": {
        "colab": {
          "base_uri": "https://localhost:8080/"
        },
        "id": "aoI8aLr5ZU0g",
        "outputId": "3bc18797-74e5-49f9-8143-98bb8c32e3e4"
      },
      "outputs": [
        {
          "output_type": "stream",
          "name": "stdout",
          "text": [
            "По данным ВОЗ на 2022-04-16\n",
            "------------------------------------------------------------------\n",
            "0.0 тыс. новых случаев COVID-19 было выявлено в России\n",
            "------------------------------------------------------------------\n",
            "0.0 тыс. человек в России умерло от COVID-19\n",
            "------------------------------------------------------------------\n"
          ]
        }
      ],
      "source": [
        "ru_data = data.query('Страна == \"Russian Federation\"')\n",
        "ru_tomorrow_new_cases = ru_data.loc[ru_data.loc[:, 'Date_reported'] == tomorrow_str]['Новые_случаи'].sum()\n",
        "ru_tomorrow_new_deaths = ru_data.loc[ru_data.loc[:, 'Date_reported'] == tomorrow_str]['Смерти'].sum()\n",
        "print('По данным ВОЗ на', tomorrow)\n",
        "print('-'*66)\n",
        "print((ru_tomorrow_new_cases/1000).round(1), 'тыс. новых случаев COVID-19 было выявлено в России')\n",
        "print('-'*66)\n",
        "print((ru_tomorrow_new_deaths/1000).round(1), 'тыс. человек в России умерло от COVID-19')\n",
        "print('-'*66)"
      ]
    },
    {
      "cell_type": "markdown",
      "id": "LvbDUnwvfWyo",
      "metadata": {
        "id": "LvbDUnwvfWyo"
      },
      "source": [
        "---"
      ]
    },
    {
      "cell_type": "markdown",
      "id": "09662e92",
      "metadata": {
        "id": "09662e92"
      },
      "source": [
        "## 2. Годовые данные о числе выявленных новых случаев заболевания и смертности"
      ]
    },
    {
      "cell_type": "code",
      "execution_count": 28,
      "id": "4710fc40",
      "metadata": {
        "colab": {
          "base_uri": "https://localhost:8080/",
          "height": 178
        },
        "id": "4710fc40",
        "outputId": "49f63f0a-8341-40d7-bd66-65265d92a726"
      },
      "outputs": [
        {
          "output_type": "stream",
          "name": "stdout",
          "text": [
            "Число выявленных случаев и смертей за год, ед.\n"
          ]
        },
        {
          "output_type": "display_data",
          "data": {
            "text/plain": [
              "    Год  Новые_случаи   Смерти\n",
              "0  2020      83073852  1910289\n",
              "1  2021     204109544  3529500\n",
              "2  2022     213003129   750560"
            ],
            "text/html": [
              "\n",
              "  <div id=\"df-34843dc6-82af-4918-a652-0e8ae162fc7b\">\n",
              "    <div class=\"colab-df-container\">\n",
              "      <div>\n",
              "<style scoped>\n",
              "    .dataframe tbody tr th:only-of-type {\n",
              "        vertical-align: middle;\n",
              "    }\n",
              "\n",
              "    .dataframe tbody tr th {\n",
              "        vertical-align: top;\n",
              "    }\n",
              "\n",
              "    .dataframe thead th {\n",
              "        text-align: right;\n",
              "    }\n",
              "</style>\n",
              "<table border=\"1\" class=\"dataframe\">\n",
              "  <thead>\n",
              "    <tr style=\"text-align: right;\">\n",
              "      <th></th>\n",
              "      <th>Год</th>\n",
              "      <th>Новые_случаи</th>\n",
              "      <th>Смерти</th>\n",
              "    </tr>\n",
              "  </thead>\n",
              "  <tbody>\n",
              "    <tr>\n",
              "      <th>0</th>\n",
              "      <td>2020</td>\n",
              "      <td>83073852</td>\n",
              "      <td>1910289</td>\n",
              "    </tr>\n",
              "    <tr>\n",
              "      <th>1</th>\n",
              "      <td>2021</td>\n",
              "      <td>204109544</td>\n",
              "      <td>3529500</td>\n",
              "    </tr>\n",
              "    <tr>\n",
              "      <th>2</th>\n",
              "      <td>2022</td>\n",
              "      <td>213003129</td>\n",
              "      <td>750560</td>\n",
              "    </tr>\n",
              "  </tbody>\n",
              "</table>\n",
              "</div>\n",
              "      <button class=\"colab-df-convert\" onclick=\"convertToInteractive('df-34843dc6-82af-4918-a652-0e8ae162fc7b')\"\n",
              "              title=\"Convert this dataframe to an interactive table.\"\n",
              "              style=\"display:none;\">\n",
              "        \n",
              "  <svg xmlns=\"http://www.w3.org/2000/svg\" height=\"24px\"viewBox=\"0 0 24 24\"\n",
              "       width=\"24px\">\n",
              "    <path d=\"M0 0h24v24H0V0z\" fill=\"none\"/>\n",
              "    <path d=\"M18.56 5.44l.94 2.06.94-2.06 2.06-.94-2.06-.94-.94-2.06-.94 2.06-2.06.94zm-11 1L8.5 8.5l.94-2.06 2.06-.94-2.06-.94L8.5 2.5l-.94 2.06-2.06.94zm10 10l.94 2.06.94-2.06 2.06-.94-2.06-.94-.94-2.06-.94 2.06-2.06.94z\"/><path d=\"M17.41 7.96l-1.37-1.37c-.4-.4-.92-.59-1.43-.59-.52 0-1.04.2-1.43.59L10.3 9.45l-7.72 7.72c-.78.78-.78 2.05 0 2.83L4 21.41c.39.39.9.59 1.41.59.51 0 1.02-.2 1.41-.59l7.78-7.78 2.81-2.81c.8-.78.8-2.07 0-2.86zM5.41 20L4 18.59l7.72-7.72 1.47 1.35L5.41 20z\"/>\n",
              "  </svg>\n",
              "      </button>\n",
              "      \n",
              "  <style>\n",
              "    .colab-df-container {\n",
              "      display:flex;\n",
              "      flex-wrap:wrap;\n",
              "      gap: 12px;\n",
              "    }\n",
              "\n",
              "    .colab-df-convert {\n",
              "      background-color: #E8F0FE;\n",
              "      border: none;\n",
              "      border-radius: 50%;\n",
              "      cursor: pointer;\n",
              "      display: none;\n",
              "      fill: #1967D2;\n",
              "      height: 32px;\n",
              "      padding: 0 0 0 0;\n",
              "      width: 32px;\n",
              "    }\n",
              "\n",
              "    .colab-df-convert:hover {\n",
              "      background-color: #E2EBFA;\n",
              "      box-shadow: 0px 1px 2px rgba(60, 64, 67, 0.3), 0px 1px 3px 1px rgba(60, 64, 67, 0.15);\n",
              "      fill: #174EA6;\n",
              "    }\n",
              "\n",
              "    [theme=dark] .colab-df-convert {\n",
              "      background-color: #3B4455;\n",
              "      fill: #D2E3FC;\n",
              "    }\n",
              "\n",
              "    [theme=dark] .colab-df-convert:hover {\n",
              "      background-color: #434B5C;\n",
              "      box-shadow: 0px 1px 3px 1px rgba(0, 0, 0, 0.15);\n",
              "      filter: drop-shadow(0px 1px 2px rgba(0, 0, 0, 0.3));\n",
              "      fill: #FFFFFF;\n",
              "    }\n",
              "  </style>\n",
              "\n",
              "      <script>\n",
              "        const buttonEl =\n",
              "          document.querySelector('#df-34843dc6-82af-4918-a652-0e8ae162fc7b button.colab-df-convert');\n",
              "        buttonEl.style.display =\n",
              "          google.colab.kernel.accessAllowed ? 'block' : 'none';\n",
              "\n",
              "        async function convertToInteractive(key) {\n",
              "          const element = document.querySelector('#df-34843dc6-82af-4918-a652-0e8ae162fc7b');\n",
              "          const dataTable =\n",
              "            await google.colab.kernel.invokeFunction('convertToInteractive',\n",
              "                                                     [key], {});\n",
              "          if (!dataTable) return;\n",
              "\n",
              "          const docLinkHtml = 'Like what you see? Visit the ' +\n",
              "            '<a target=\"_blank\" href=https://colab.research.google.com/notebooks/data_table.ipynb>data table notebook</a>'\n",
              "            + ' to learn more about interactive tables.';\n",
              "          element.innerHTML = '';\n",
              "          dataTable['output_type'] = 'display_data';\n",
              "          await google.colab.output.renderOutput(dataTable, element);\n",
              "          const docLink = document.createElement('div');\n",
              "          docLink.innerHTML = docLinkHtml;\n",
              "          element.appendChild(docLink);\n",
              "        }\n",
              "      </script>\n",
              "    </div>\n",
              "  </div>\n",
              "  "
            ]
          },
          "metadata": {}
        },
        {
          "output_type": "stream",
          "name": "stdout",
          "text": [
            "По состянию на 2022-04-16\n"
          ]
        }
      ],
      "source": [
        "print('Число выявленных случаев и смертей за год, ед.')\n",
        "year_new_cases = data.pivot_table(index=['Год'], aggfunc={'Новые_случаи':sum, 'Смерти':sum}).sort_values(by='Год')\n",
        "display((year_new_cases).reset_index())\n",
        "print('По состянию на', tomorrow)"
      ]
    },
    {
      "cell_type": "code",
      "execution_count": 29,
      "id": "xMRqNDtPTDkO",
      "metadata": {
        "colab": {
          "base_uri": "https://localhost:8080/",
          "height": 362
        },
        "id": "xMRqNDtPTDkO",
        "outputId": "7d3fd182-d869-4140-c34c-e4cab8a15d18"
      },
      "outputs": [
        {
          "output_type": "stream",
          "name": "stdout",
          "text": [
            "Число выявленных случаев за год, ед.\n"
          ]
        },
        {
          "output_type": "display_data",
          "data": {
            "text/plain": [
              "<Figure size 720x360 with 1 Axes>"
            ],
            "image/png": "[encoded data removed]"
          },
          "metadata": {
            "needs_background": "light"
          }
        }
      ],
      "source": [
        "year_new_cases.plot(y='Новые_случаи', kind='bar', figsize=(10, 5), legend=False)\n",
        "plt.xticks(rotation = 0)\n",
        "print('Число выявленных случаев за год, ед.')"
      ]
    },
    {
      "cell_type": "code",
      "execution_count": 30,
      "id": "WtX86p0DsFC_",
      "metadata": {
        "colab": {
          "base_uri": "https://localhost:8080/",
          "height": 362
        },
        "id": "WtX86p0DsFC_",
        "outputId": "a275848c-8c03-49a2-acf5-57b912a8378c"
      },
      "outputs": [
        {
          "output_type": "stream",
          "name": "stdout",
          "text": [
            "Число смертей за год, ед.\n"
          ]
        },
        {
          "output_type": "display_data",
          "data": {
            "text/plain": [
              "<Figure size 720x360 with 1 Axes>"
            ],
            "image/png": "[encoded data removed]"
          },
          "metadata": {
            "needs_background": "light"
          }
        }
      ],
      "source": [
        "year_new_cases.plot(y='Смерти', kind='bar', figsize=(10, 5), legend=False)\n",
        "plt.xticks(rotation = 0)\n",
        "print('Число смертей за год, ед.')"
      ]
    },
    {
      "cell_type": "markdown",
      "id": "CIngvwn0fYls",
      "metadata": {
        "id": "CIngvwn0fYls"
      },
      "source": [
        "---"
      ]
    },
    {
      "cell_type": "markdown",
      "id": "d94c56ee",
      "metadata": {
        "id": "d94c56ee"
      },
      "source": [
        "## 3. Число выявленных новых случаев заболевания и смертности в разрезе регионов"
      ]
    },
    {
      "cell_type": "code",
      "execution_count": 31,
      "id": "417a9b20",
      "metadata": {
        "colab": {
          "base_uri": "https://localhost:8080/",
          "height": 743
        },
        "id": "417a9b20",
        "outputId": "aea967a3-db9e-4953-fff4-723d2f7297fd"
      },
      "outputs": [
        {
          "output_type": "stream",
          "name": "stdout",
          "text": [
            "Число выявленных случаев и смертей за год в разрезе регионов, ед. случаев\n"
          ]
        },
        {
          "output_type": "display_data",
          "data": {
            "text/plain": [
              "   Регион   Год  Новые_случаи   Смерти\n",
              "0    AFRO  2020       1900686    42290\n",
              "1    AFRO  2021       5405917   113898\n",
              "2    AFRO  2022       1369538    15162\n",
              "3    AMRO  2020      35794004   955771\n",
              "4    AMRO  2021      68136253  1460641\n",
              "5    AMRO  2022      47761586   295367\n",
              "6    EMRO  2020       4912291   120880\n",
              "7    EMRO  2021      12254676   194975\n",
              "8    EMRO  2022       4486423    25766\n",
              "9    EURO  2022     107271643   290309\n",
              "10   EURO  2021      74830313  1087375\n",
              "11   EURO  2020      27405192   587102\n",
              "12  Other  2020           745       13\n",
              "13  Other  2021            19        0\n",
              "14  Other  2022             0        0\n",
              "15  SEARO  2020      11973259   184188\n",
              "16  SEARO  2021      33001946   536984\n",
              "17  SEARO  2022      12530859    60315\n",
              "18   WPRO  2020       1087675    20045\n",
              "19   WPRO  2021      10480420   135627\n",
              "20   WPRO  2022      39583080    63641"
            ],
            "text/html": [
              "\n",
              "  <div id=\"df-33aedc74-5241-4b0c-87c2-2b3c64495d83\">\n",
              "    <div class=\"colab-df-container\">\n",
              "      <div>\n",
              "<style scoped>\n",
              "    .dataframe tbody tr th:only-of-type {\n",
              "        vertical-align: middle;\n",
              "    }\n",
              "\n",
              "    .dataframe tbody tr th {\n",
              "        vertical-align: top;\n",
              "    }\n",
              "\n",
              "    .dataframe thead th {\n",
              "        text-align: right;\n",
              "    }\n",
              "</style>\n",
              "<table border=\"1\" class=\"dataframe\">\n",
              "  <thead>\n",
              "    <tr style=\"text-align: right;\">\n",
              "      <th></th>\n",
              "      <th>Регион</th>\n",
              "      <th>Год</th>\n",
              "      <th>Новые_случаи</th>\n",
              "      <th>Смерти</th>\n",
              "    </tr>\n",
              "  </thead>\n",
              "  <tbody>\n",
              "    <tr>\n",
              "      <th>0</th>\n",
              "      <td>AFRO</td>\n",
              "      <td>2020</td>\n",
              "      <td>1900686</td>\n",
              "      <td>42290</td>\n",
              "    </tr>\n",
              "    <tr>\n",
              "      <th>1</th>\n",
              "      <td>AFRO</td>\n",
              "      <td>2021</td>\n",
              "      <td>5405917</td>\n",
              "      <td>113898</td>\n",
              "    </tr>\n",
              "    <tr>\n",
              "      <th>2</th>\n",
              "      <td>AFRO</td>\n",
              "      <td>2022</td>\n",
              "      <td>1369538</td>\n",
              "      <td>15162</td>\n",
              "    </tr>\n",
              "    <tr>\n",
              "      <th>3</th>\n",
              "      <td>AMRO</td>\n",
              "      <td>2020</td>\n",
              "      <td>35794004</td>\n",
              "      <td>955771</td>\n",
              "    </tr>\n",
              "    <tr>\n",
              "      <th>4</th>\n",
              "      <td>AMRO</td>\n",
              "      <td>2021</td>\n",
              "      <td>68136253</td>\n",
              "      <td>1460641</td>\n",
              "    </tr>\n",
              "    <tr>\n",
              "      <th>5</th>\n",
              "      <td>AMRO</td>\n",
              "      <td>2022</td>\n",
              "      <td>47761586</td>\n",
              "      <td>295367</td>\n",
              "    </tr>\n",
              "    <tr>\n",
              "      <th>6</th>\n",
              "      <td>EMRO</td>\n",
              "      <td>2020</td>\n",
              "      <td>4912291</td>\n",
              "      <td>120880</td>\n",
              "    </tr>\n",
              "    <tr>\n",
              "      <th>7</th>\n",
              "      <td>EMRO</td>\n",
              "      <td>2021</td>\n",
              "      <td>12254676</td>\n",
              "      <td>194975</td>\n",
              "    </tr>\n",
              "    <tr>\n",
              "      <th>8</th>\n",
              "      <td>EMRO</td>\n",
              "      <td>2022</td>\n",
              "      <td>4486423</td>\n",
              "      <td>25766</td>\n",
              "    </tr>\n",
              "    <tr>\n",
              "      <th>9</th>\n",
              "      <td>EURO</td>\n",
              "      <td>2022</td>\n",
              "      <td>107271643</td>\n",
              "      <td>290309</td>\n",
              "    </tr>\n",
              "    <tr>\n",
              "      <th>10</th>\n",
              "      <td>EURO</td>\n",
              "      <td>2021</td>\n",
              "      <td>74830313</td>\n",
              "      <td>1087375</td>\n",
              "    </tr>\n",
              "    <tr>\n",
              "      <th>11</th>\n",
              "      <td>EURO</td>\n",
              "      <td>2020</td>\n",
              "      <td>27405192</td>\n",
              "      <td>587102</td>\n",
              "    </tr>\n",
              "    <tr>\n",
              "      <th>12</th>\n",
              "      <td>Other</td>\n",
              "      <td>2020</td>\n",
              "      <td>745</td>\n",
              "      <td>13</td>\n",
              "    </tr>\n",
              "    <tr>\n",
              "      <th>13</th>\n",
              "      <td>Other</td>\n",
              "      <td>2021</td>\n",
              "      <td>19</td>\n",
              "      <td>0</td>\n",
              "    </tr>\n",
              "    <tr>\n",
              "      <th>14</th>\n",
              "      <td>Other</td>\n",
              "      <td>2022</td>\n",
              "      <td>0</td>\n",
              "      <td>0</td>\n",
              "    </tr>\n",
              "    <tr>\n",
              "      <th>15</th>\n",
              "      <td>SEARO</td>\n",
              "      <td>2020</td>\n",
              "      <td>11973259</td>\n",
              "      <td>184188</td>\n",
              "    </tr>\n",
              "    <tr>\n",
              "      <th>16</th>\n",
              "      <td>SEARO</td>\n",
              "      <td>2021</td>\n",
              "      <td>33001946</td>\n",
              "      <td>536984</td>\n",
              "    </tr>\n",
              "    <tr>\n",
              "      <th>17</th>\n",
              "      <td>SEARO</td>\n",
              "      <td>2022</td>\n",
              "      <td>12530859</td>\n",
              "      <td>60315</td>\n",
              "    </tr>\n",
              "    <tr>\n",
              "      <th>18</th>\n",
              "      <td>WPRO</td>\n",
              "      <td>2020</td>\n",
              "      <td>1087675</td>\n",
              "      <td>20045</td>\n",
              "    </tr>\n",
              "    <tr>\n",
              "      <th>19</th>\n",
              "      <td>WPRO</td>\n",
              "      <td>2021</td>\n",
              "      <td>10480420</td>\n",
              "      <td>135627</td>\n",
              "    </tr>\n",
              "    <tr>\n",
              "      <th>20</th>\n",
              "      <td>WPRO</td>\n",
              "      <td>2022</td>\n",
              "      <td>39583080</td>\n",
              "      <td>63641</td>\n",
              "    </tr>\n",
              "  </tbody>\n",
              "</table>\n",
              "</div>\n",
              "      <button class=\"colab-df-convert\" onclick=\"convertToInteractive('df-33aedc74-5241-4b0c-87c2-2b3c64495d83')\"\n",
              "              title=\"Convert this dataframe to an interactive table.\"\n",
              "              style=\"display:none;\">\n",
              "        \n",
              "  <svg xmlns=\"http://www.w3.org/2000/svg\" height=\"24px\"viewBox=\"0 0 24 24\"\n",
              "       width=\"24px\">\n",
              "    <path d=\"M0 0h24v24H0V0z\" fill=\"none\"/>\n",
              "    <path d=\"M18.56 5.44l.94 2.06.94-2.06 2.06-.94-2.06-.94-.94-2.06-.94 2.06-2.06.94zm-11 1L8.5 8.5l.94-2.06 2.06-.94-2.06-.94L8.5 2.5l-.94 2.06-2.06.94zm10 10l.94 2.06.94-2.06 2.06-.94-2.06-.94-.94-2.06-.94 2.06-2.06.94z\"/><path d=\"M17.41 7.96l-1.37-1.37c-.4-.4-.92-.59-1.43-.59-.52 0-1.04.2-1.43.59L10.3 9.45l-7.72 7.72c-.78.78-.78 2.05 0 2.83L4 21.41c.39.39.9.59 1.41.59.51 0 1.02-.2 1.41-.59l7.78-7.78 2.81-2.81c.8-.78.8-2.07 0-2.86zM5.41 20L4 18.59l7.72-7.72 1.47 1.35L5.41 20z\"/>\n",
              "  </svg>\n",
              "      </button>\n",
              "      \n",
              "  <style>\n",
              "    .colab-df-container {\n",
              "      display:flex;\n",
              "      flex-wrap:wrap;\n",
              "      gap: 12px;\n",
              "    }\n",
              "\n",
              "    .colab-df-convert {\n",
              "      background-color: #E8F0FE;\n",
              "      border: none;\n",
              "      border-radius: 50%;\n",
              "      cursor: pointer;\n",
              "      display: none;\n",
              "      fill: #1967D2;\n",
              "      height: 32px;\n",
              "      padding: 0 0 0 0;\n",
              "      width: 32px;\n",
              "    }\n",
              "\n",
              "    .colab-df-convert:hover {\n",
              "      background-color: #E2EBFA;\n",
              "      box-shadow: 0px 1px 2px rgba(60, 64, 67, 0.3), 0px 1px 3px 1px rgba(60, 64, 67, 0.15);\n",
              "      fill: #174EA6;\n",
              "    }\n",
              "\n",
              "    [theme=dark] .colab-df-convert {\n",
              "      background-color: #3B4455;\n",
              "      fill: #D2E3FC;\n",
              "    }\n",
              "\n",
              "    [theme=dark] .colab-df-convert:hover {\n",
              "      background-color: #434B5C;\n",
              "      box-shadow: 0px 1px 3px 1px rgba(0, 0, 0, 0.15);\n",
              "      filter: drop-shadow(0px 1px 2px rgba(0, 0, 0, 0.3));\n",
              "      fill: #FFFFFF;\n",
              "    }\n",
              "  </style>\n",
              "\n",
              "      <script>\n",
              "        const buttonEl =\n",
              "          document.querySelector('#df-33aedc74-5241-4b0c-87c2-2b3c64495d83 button.colab-df-convert');\n",
              "        buttonEl.style.display =\n",
              "          google.colab.kernel.accessAllowed ? 'block' : 'none';\n",
              "\n",
              "        async function convertToInteractive(key) {\n",
              "          const element = document.querySelector('#df-33aedc74-5241-4b0c-87c2-2b3c64495d83');\n",
              "          const dataTable =\n",
              "            await google.colab.kernel.invokeFunction('convertToInteractive',\n",
              "                                                     [key], {});\n",
              "          if (!dataTable) return;\n",
              "\n",
              "          const docLinkHtml = 'Like what you see? Visit the ' +\n",
              "            '<a target=\"_blank\" href=https://colab.research.google.com/notebooks/data_table.ipynb>data table notebook</a>'\n",
              "            + ' to learn more about interactive tables.';\n",
              "          element.innerHTML = '';\n",
              "          dataTable['output_type'] = 'display_data';\n",
              "          await google.colab.output.renderOutput(dataTable, element);\n",
              "          const docLink = document.createElement('div');\n",
              "          docLink.innerHTML = docLinkHtml;\n",
              "          element.appendChild(docLink);\n",
              "        }\n",
              "      </script>\n",
              "    </div>\n",
              "  </div>\n",
              "  "
            ]
          },
          "metadata": {}
        },
        {
          "output_type": "stream",
          "name": "stdout",
          "text": [
            "По состянию на 2022-04-16\n"
          ]
        }
      ],
      "source": [
        "print('Число выявленных случаев и смертей за год в разрезе регионов, ед. случаев')\n",
        "region_new_cases = data.pivot_table(index=['Регион', 'Год'], aggfunc={'Новые_случаи':sum, 'Смерти':sum}).sort_values(by='Регион')\n",
        "display((region_new_cases).reset_index())\n",
        "print('По состянию на', tomorrow)"
      ]
    },
    {
      "cell_type": "code",
      "execution_count": 32,
      "id": "WPVXxsqzSenI",
      "metadata": {
        "colab": {
          "base_uri": "https://localhost:8080/",
          "height": 338
        },
        "id": "WPVXxsqzSenI",
        "outputId": "a5380278-507a-4274-bdf1-e07127f3e54d"
      },
      "outputs": [
        {
          "output_type": "stream",
          "name": "stdout",
          "text": [
            "Распределение новых случаев заболевания\n",
            "по регионам, за всё время наблюдений\n"
          ]
        },
        {
          "output_type": "display_data",
          "data": {
            "text/plain": [
              "<Figure size 360x360 with 1 Axes>"
            ],
            "image/png": "[encoded data removed]"
          },
          "metadata": {}
        }
      ],
      "source": [
        "print('Распределение новых случаев заболевания')\n",
        "print('по регионам, за всё время наблюдений')\n",
        "region_year_cases = region_new_cases.pivot_table(index=['Регион'], aggfunc={'Новые_случаи':sum}).sort_values(by='Новые_случаи')\n",
        "region_year_cases.plot(kind='pie', figsize=(5, 5), legend=False, subplots=True)\n",
        "ax = plt.gca()\n",
        "ax.axes.yaxis.set_visible(False)"
      ]
    },
    {
      "cell_type": "code",
      "execution_count": 33,
      "id": "skBOWuI-SrD0",
      "metadata": {
        "colab": {
          "base_uri": "https://localhost:8080/",
          "height": 338
        },
        "id": "skBOWuI-SrD0",
        "outputId": "e6df84b6-9953-4917-e7b9-b956228604a0"
      },
      "outputs": [
        {
          "output_type": "stream",
          "name": "stdout",
          "text": [
            "Распределение числа смертей по регионам,\n",
            "за всё время наблюдений\n"
          ]
        },
        {
          "output_type": "display_data",
          "data": {
            "text/plain": [
              "<Figure size 360x360 with 1 Axes>"
            ],
            "image/png": "[encoded data removed]"
          },
          "metadata": {}
        }
      ],
      "source": [
        "print('Распределение числа смертей по регионам,')\n",
        "print('за всё время наблюдений')\n",
        "region_year_cases = region_new_cases.pivot_table(index=['Регион'], aggfunc={'Смерти':sum}).sort_values(by='Смерти')\n",
        "region_year_cases.plot(kind='pie', figsize=(5, 5), legend=False, subplots=True)\n",
        "ax = plt.gca()\n",
        "ax.axes.yaxis.set_visible(False)"
      ]
    },
    {
      "cell_type": "markdown",
      "id": "tElG4xaifbcX",
      "metadata": {
        "id": "tElG4xaifbcX"
      },
      "source": [
        "---"
      ]
    },
    {
      "cell_type": "markdown",
      "id": "fVWmCoFdfddf",
      "metadata": {
        "id": "fVWmCoFdfddf"
      },
      "source": [
        "## 4. Число выявленных новых случаев заболевания и смертность в разрезе стран"
      ]
    },
    {
      "cell_type": "markdown",
      "id": "2f3e6c2f",
      "metadata": {
        "id": "2f3e6c2f"
      },
      "source": [
        "### 4.1. Топ-10 стран по числу заболевших за всё время   \n",
        "Выведим топ-10 стран по общему числу зарегестированнх случаев заболевания за всё время."
      ]
    },
    {
      "cell_type": "code",
      "execution_count": 34,
      "id": "UQxsXaOhDsAG",
      "metadata": {
        "colab": {
          "base_uri": "https://localhost:8080/",
          "height": 398
        },
        "id": "UQxsXaOhDsAG",
        "outputId": "dcfbc7cc-9769-4695-d858-6de507abe392"
      },
      "outputs": [
        {
          "output_type": "stream",
          "name": "stdout",
          "text": [
            "Топ-10 стран по числу заболевших, ед. случаев\n"
          ]
        },
        {
          "output_type": "display_data",
          "data": {
            "text/plain": [
              "                     Страна  Новые_случаи\n",
              "0  United States of America      79716960\n",
              "1                     India      43039023\n",
              "2                    Brazil      30183929\n",
              "3                    France      26525319\n",
              "4                   Germany      23182447\n",
              "5        The United Kingdom      21715120\n",
              "6        Russian Federation      18041927\n",
              "7         Republic of Korea      15979061\n",
              "8                     Italy      15467395\n",
              "9                    Turkey      14978031"
            ],
            "text/html": [
              "\n",
              "  <div id=\"df-eab69643-be05-4cb6-a807-3a3e954bcaac\">\n",
              "    <div class=\"colab-df-container\">\n",
              "      <div>\n",
              "<style scoped>\n",
              "    .dataframe tbody tr th:only-of-type {\n",
              "        vertical-align: middle;\n",
              "    }\n",
              "\n",
              "    .dataframe tbody tr th {\n",
              "        vertical-align: top;\n",
              "    }\n",
              "\n",
              "    .dataframe thead th {\n",
              "        text-align: right;\n",
              "    }\n",
              "</style>\n",
              "<table border=\"1\" class=\"dataframe\">\n",
              "  <thead>\n",
              "    <tr style=\"text-align: right;\">\n",
              "      <th></th>\n",
              "      <th>Страна</th>\n",
              "      <th>Новые_случаи</th>\n",
              "    </tr>\n",
              "  </thead>\n",
              "  <tbody>\n",
              "    <tr>\n",
              "      <th>0</th>\n",
              "      <td>United States of America</td>\n",
              "      <td>79716960</td>\n",
              "    </tr>\n",
              "    <tr>\n",
              "      <th>1</th>\n",
              "      <td>India</td>\n",
              "      <td>43039023</td>\n",
              "    </tr>\n",
              "    <tr>\n",
              "      <th>2</th>\n",
              "      <td>Brazil</td>\n",
              "      <td>30183929</td>\n",
              "    </tr>\n",
              "    <tr>\n",
              "      <th>3</th>\n",
              "      <td>France</td>\n",
              "      <td>26525319</td>\n",
              "    </tr>\n",
              "    <tr>\n",
              "      <th>4</th>\n",
              "      <td>Germany</td>\n",
              "      <td>23182447</td>\n",
              "    </tr>\n",
              "    <tr>\n",
              "      <th>5</th>\n",
              "      <td>The United Kingdom</td>\n",
              "      <td>21715120</td>\n",
              "    </tr>\n",
              "    <tr>\n",
              "      <th>6</th>\n",
              "      <td>Russian Federation</td>\n",
              "      <td>18041927</td>\n",
              "    </tr>\n",
              "    <tr>\n",
              "      <th>7</th>\n",
              "      <td>Republic of Korea</td>\n",
              "      <td>15979061</td>\n",
              "    </tr>\n",
              "    <tr>\n",
              "      <th>8</th>\n",
              "      <td>Italy</td>\n",
              "      <td>15467395</td>\n",
              "    </tr>\n",
              "    <tr>\n",
              "      <th>9</th>\n",
              "      <td>Turkey</td>\n",
              "      <td>14978031</td>\n",
              "    </tr>\n",
              "  </tbody>\n",
              "</table>\n",
              "</div>\n",
              "      <button class=\"colab-df-convert\" onclick=\"convertToInteractive('df-eab69643-be05-4cb6-a807-3a3e954bcaac')\"\n",
              "              title=\"Convert this dataframe to an interactive table.\"\n",
              "              style=\"display:none;\">\n",
              "        \n",
              "  <svg xmlns=\"http://www.w3.org/2000/svg\" height=\"24px\"viewBox=\"0 0 24 24\"\n",
              "       width=\"24px\">\n",
              "    <path d=\"M0 0h24v24H0V0z\" fill=\"none\"/>\n",
              "    <path d=\"M18.56 5.44l.94 2.06.94-2.06 2.06-.94-2.06-.94-.94-2.06-.94 2.06-2.06.94zm-11 1L8.5 8.5l.94-2.06 2.06-.94-2.06-.94L8.5 2.5l-.94 2.06-2.06.94zm10 10l.94 2.06.94-2.06 2.06-.94-2.06-.94-.94-2.06-.94 2.06-2.06.94z\"/><path d=\"M17.41 7.96l-1.37-1.37c-.4-.4-.92-.59-1.43-.59-.52 0-1.04.2-1.43.59L10.3 9.45l-7.72 7.72c-.78.78-.78 2.05 0 2.83L4 21.41c.39.39.9.59 1.41.59.51 0 1.02-.2 1.41-.59l7.78-7.78 2.81-2.81c.8-.78.8-2.07 0-2.86zM5.41 20L4 18.59l7.72-7.72 1.47 1.35L5.41 20z\"/>\n",
              "  </svg>\n",
              "      </button>\n",
              "      \n",
              "  <style>\n",
              "    .colab-df-container {\n",
              "      display:flex;\n",
              "      flex-wrap:wrap;\n",
              "      gap: 12px;\n",
              "    }\n",
              "\n",
              "    .colab-df-convert {\n",
              "      background-color: #E8F0FE;\n",
              "      border: none;\n",
              "      border-radius: 50%;\n",
              "      cursor: pointer;\n",
              "      display: none;\n",
              "      fill: #1967D2;\n",
              "      height: 32px;\n",
              "      padding: 0 0 0 0;\n",
              "      width: 32px;\n",
              "    }\n",
              "\n",
              "    .colab-df-convert:hover {\n",
              "      background-color: #E2EBFA;\n",
              "      box-shadow: 0px 1px 2px rgba(60, 64, 67, 0.3), 0px 1px 3px 1px rgba(60, 64, 67, 0.15);\n",
              "      fill: #174EA6;\n",
              "    }\n",
              "\n",
              "    [theme=dark] .colab-df-convert {\n",
              "      background-color: #3B4455;\n",
              "      fill: #D2E3FC;\n",
              "    }\n",
              "\n",
              "    [theme=dark] .colab-df-convert:hover {\n",
              "      background-color: #434B5C;\n",
              "      box-shadow: 0px 1px 3px 1px rgba(0, 0, 0, 0.15);\n",
              "      filter: drop-shadow(0px 1px 2px rgba(0, 0, 0, 0.3));\n",
              "      fill: #FFFFFF;\n",
              "    }\n",
              "  </style>\n",
              "\n",
              "      <script>\n",
              "        const buttonEl =\n",
              "          document.querySelector('#df-eab69643-be05-4cb6-a807-3a3e954bcaac button.colab-df-convert');\n",
              "        buttonEl.style.display =\n",
              "          google.colab.kernel.accessAllowed ? 'block' : 'none';\n",
              "\n",
              "        async function convertToInteractive(key) {\n",
              "          const element = document.querySelector('#df-eab69643-be05-4cb6-a807-3a3e954bcaac');\n",
              "          const dataTable =\n",
              "            await google.colab.kernel.invokeFunction('convertToInteractive',\n",
              "                                                     [key], {});\n",
              "          if (!dataTable) return;\n",
              "\n",
              "          const docLinkHtml = 'Like what you see? Visit the ' +\n",
              "            '<a target=\"_blank\" href=https://colab.research.google.com/notebooks/data_table.ipynb>data table notebook</a>'\n",
              "            + ' to learn more about interactive tables.';\n",
              "          element.innerHTML = '';\n",
              "          dataTable['output_type'] = 'display_data';\n",
              "          await google.colab.output.renderOutput(dataTable, element);\n",
              "          const docLink = document.createElement('div');\n",
              "          docLink.innerHTML = docLinkHtml;\n",
              "          element.appendChild(docLink);\n",
              "        }\n",
              "      </script>\n",
              "    </div>\n",
              "  </div>\n",
              "  "
            ]
          },
          "metadata": {}
        },
        {
          "output_type": "stream",
          "name": "stdout",
          "text": [
            "По состянию на 2022-04-16\n"
          ]
        }
      ],
      "source": [
        "print('Топ-10 стран по числу заболевших, ед. случаев')\n",
        "country_new_cases = data.pivot_table(index=['Страна'], aggfunc={'Новые_случаи':sum}).nlargest(10, columns='Новые_случаи')\n",
        "display((country_new_cases).reset_index())\n",
        "print('По состянию на', tomorrow)"
      ]
    },
    {
      "cell_type": "markdown",
      "id": "164fdedc",
      "metadata": {
        "id": "164fdedc"
      },
      "source": [
        "### 4.2. Топ-10 стран по числу умерших за всё время   \n",
        "1. Выведем топ-10 стран по числу умерших за всё время наблюдений.   \n",
        "1. Посчитаем долю умерших от общего числа заболевших - уровень летальности (% умерших от общего числа счлучаев заболевания)."
      ]
    },
    {
      "cell_type": "code",
      "execution_count": 35,
      "id": "f0ac8ff8",
      "metadata": {
        "colab": {
          "base_uri": "https://localhost:8080/",
          "height": 398
        },
        "id": "f0ac8ff8",
        "outputId": "0aafeef5-8729-46f0-a69a-0bac6e662aa2"
      },
      "outputs": [
        {
          "output_type": "stream",
          "name": "stdout",
          "text": [
            "Топ-10 стран по числу умерших, ед. случаев\n"
          ]
        },
        {
          "output_type": "display_data",
          "data": {
            "text/plain": [
              "                       Страна  Новые_случаи  Смерти  Летальность, %\n",
              "0    United States of America      79716960  979321            1.23\n",
              "1                      Brazil      30183929  661493            2.19\n",
              "2                       India      43039023  521737            1.21\n",
              "3          Russian Federation      18041927  372766            2.07\n",
              "4                      Mexico       5723862  323805            5.66\n",
              "5                        Peru       3552467  212528            5.98\n",
              "6          The United Kingdom      21715120  171046            0.79\n",
              "7                       Italy      15467395  161187            1.04\n",
              "8                   Indonesia       6037742  155794            2.58\n",
              "9  Iran (Islamic Republic of)       7199861  140711            1.95"
            ],
            "text/html": [
              "\n",
              "  <div id=\"df-e5ba9e88-6749-4f18-a93e-45fc70c97007\">\n",
              "    <div class=\"colab-df-container\">\n",
              "      <div>\n",
              "<style scoped>\n",
              "    .dataframe tbody tr th:only-of-type {\n",
              "        vertical-align: middle;\n",
              "    }\n",
              "\n",
              "    .dataframe tbody tr th {\n",
              "        vertical-align: top;\n",
              "    }\n",
              "\n",
              "    .dataframe thead th {\n",
              "        text-align: right;\n",
              "    }\n",
              "</style>\n",
              "<table border=\"1\" class=\"dataframe\">\n",
              "  <thead>\n",
              "    <tr style=\"text-align: right;\">\n",
              "      <th></th>\n",
              "      <th>Страна</th>\n",
              "      <th>Новые_случаи</th>\n",
              "      <th>Смерти</th>\n",
              "      <th>Летальность, %</th>\n",
              "    </tr>\n",
              "  </thead>\n",
              "  <tbody>\n",
              "    <tr>\n",
              "      <th>0</th>\n",
              "      <td>United States of America</td>\n",
              "      <td>79716960</td>\n",
              "      <td>979321</td>\n",
              "      <td>1.23</td>\n",
              "    </tr>\n",
              "    <tr>\n",
              "      <th>1</th>\n",
              "      <td>Brazil</td>\n",
              "      <td>30183929</td>\n",
              "      <td>661493</td>\n",
              "      <td>2.19</td>\n",
              "    </tr>\n",
              "    <tr>\n",
              "      <th>2</th>\n",
              "      <td>India</td>\n",
              "      <td>43039023</td>\n",
              "      <td>521737</td>\n",
              "      <td>1.21</td>\n",
              "    </tr>\n",
              "    <tr>\n",
              "      <th>3</th>\n",
              "      <td>Russian Federation</td>\n",
              "      <td>18041927</td>\n",
              "      <td>372766</td>\n",
              "      <td>2.07</td>\n",
              "    </tr>\n",
              "    <tr>\n",
              "      <th>4</th>\n",
              "      <td>Mexico</td>\n",
              "      <td>5723862</td>\n",
              "      <td>323805</td>\n",
              "      <td>5.66</td>\n",
              "    </tr>\n",
              "    <tr>\n",
              "      <th>5</th>\n",
              "      <td>Peru</td>\n",
              "      <td>3552467</td>\n",
              "      <td>212528</td>\n",
              "      <td>5.98</td>\n",
              "    </tr>\n",
              "    <tr>\n",
              "      <th>6</th>\n",
              "      <td>The United Kingdom</td>\n",
              "      <td>21715120</td>\n",
              "      <td>171046</td>\n",
              "      <td>0.79</td>\n",
              "    </tr>\n",
              "    <tr>\n",
              "      <th>7</th>\n",
              "      <td>Italy</td>\n",
              "      <td>15467395</td>\n",
              "      <td>161187</td>\n",
              "      <td>1.04</td>\n",
              "    </tr>\n",
              "    <tr>\n",
              "      <th>8</th>\n",
              "      <td>Indonesia</td>\n",
              "      <td>6037742</td>\n",
              "      <td>155794</td>\n",
              "      <td>2.58</td>\n",
              "    </tr>\n",
              "    <tr>\n",
              "      <th>9</th>\n",
              "      <td>Iran (Islamic Republic of)</td>\n",
              "      <td>7199861</td>\n",
              "      <td>140711</td>\n",
              "      <td>1.95</td>\n",
              "    </tr>\n",
              "  </tbody>\n",
              "</table>\n",
              "</div>\n",
              "      <button class=\"colab-df-convert\" onclick=\"convertToInteractive('df-e5ba9e88-6749-4f18-a93e-45fc70c97007')\"\n",
              "              title=\"Convert this dataframe to an interactive table.\"\n",
              "              style=\"display:none;\">\n",
              "        \n",
              "  <svg xmlns=\"http://www.w3.org/2000/svg\" height=\"24px\"viewBox=\"0 0 24 24\"\n",
              "       width=\"24px\">\n",
              "    <path d=\"M0 0h24v24H0V0z\" fill=\"none\"/>\n",
              "    <path d=\"M18.56 5.44l.94 2.06.94-2.06 2.06-.94-2.06-.94-.94-2.06-.94 2.06-2.06.94zm-11 1L8.5 8.5l.94-2.06 2.06-.94-2.06-.94L8.5 2.5l-.94 2.06-2.06.94zm10 10l.94 2.06.94-2.06 2.06-.94-2.06-.94-.94-2.06-.94 2.06-2.06.94z\"/><path d=\"M17.41 7.96l-1.37-1.37c-.4-.4-.92-.59-1.43-.59-.52 0-1.04.2-1.43.59L10.3 9.45l-7.72 7.72c-.78.78-.78 2.05 0 2.83L4 21.41c.39.39.9.59 1.41.59.51 0 1.02-.2 1.41-.59l7.78-7.78 2.81-2.81c.8-.78.8-2.07 0-2.86zM5.41 20L4 18.59l7.72-7.72 1.47 1.35L5.41 20z\"/>\n",
              "  </svg>\n",
              "      </button>\n",
              "      \n",
              "  <style>\n",
              "    .colab-df-container {\n",
              "      display:flex;\n",
              "      flex-wrap:wrap;\n",
              "      gap: 12px;\n",
              "    }\n",
              "\n",
              "    .colab-df-convert {\n",
              "      background-color: #E8F0FE;\n",
              "      border: none;\n",
              "      border-radius: 50%;\n",
              "      cursor: pointer;\n",
              "      display: none;\n",
              "      fill: #1967D2;\n",
              "      height: 32px;\n",
              "      padding: 0 0 0 0;\n",
              "      width: 32px;\n",
              "    }\n",
              "\n",
              "    .colab-df-convert:hover {\n",
              "      background-color: #E2EBFA;\n",
              "      box-shadow: 0px 1px 2px rgba(60, 64, 67, 0.3), 0px 1px 3px 1px rgba(60, 64, 67, 0.15);\n",
              "      fill: #174EA6;\n",
              "    }\n",
              "\n",
              "    [theme=dark] .colab-df-convert {\n",
              "      background-color: #3B4455;\n",
              "      fill: #D2E3FC;\n",
              "    }\n",
              "\n",
              "    [theme=dark] .colab-df-convert:hover {\n",
              "      background-color: #434B5C;\n",
              "      box-shadow: 0px 1px 3px 1px rgba(0, 0, 0, 0.15);\n",
              "      filter: drop-shadow(0px 1px 2px rgba(0, 0, 0, 0.3));\n",
              "      fill: #FFFFFF;\n",
              "    }\n",
              "  </style>\n",
              "\n",
              "      <script>\n",
              "        const buttonEl =\n",
              "          document.querySelector('#df-e5ba9e88-6749-4f18-a93e-45fc70c97007 button.colab-df-convert');\n",
              "        buttonEl.style.display =\n",
              "          google.colab.kernel.accessAllowed ? 'block' : 'none';\n",
              "\n",
              "        async function convertToInteractive(key) {\n",
              "          const element = document.querySelector('#df-e5ba9e88-6749-4f18-a93e-45fc70c97007');\n",
              "          const dataTable =\n",
              "            await google.colab.kernel.invokeFunction('convertToInteractive',\n",
              "                                                     [key], {});\n",
              "          if (!dataTable) return;\n",
              "\n",
              "          const docLinkHtml = 'Like what you see? Visit the ' +\n",
              "            '<a target=\"_blank\" href=https://colab.research.google.com/notebooks/data_table.ipynb>data table notebook</a>'\n",
              "            + ' to learn more about interactive tables.';\n",
              "          element.innerHTML = '';\n",
              "          dataTable['output_type'] = 'display_data';\n",
              "          await google.colab.output.renderOutput(dataTable, element);\n",
              "          const docLink = document.createElement('div');\n",
              "          docLink.innerHTML = docLinkHtml;\n",
              "          element.appendChild(docLink);\n",
              "        }\n",
              "      </script>\n",
              "    </div>\n",
              "  </div>\n",
              "  "
            ]
          },
          "metadata": {}
        },
        {
          "output_type": "stream",
          "name": "stdout",
          "text": [
            "По состянию на 2022-04-16\n"
          ]
        }
      ],
      "source": [
        "print('Топ-10 стран по числу умерших, ед. случаев')\n",
        "country_deaths = data.pivot_table(index=['Страна'], aggfunc={'Смерти':sum,'Новые_случаи':sum}).nlargest(10, columns='Смерти')\n",
        "country_deaths['Летальность, %'] = ((country_deaths['Смерти']/country_deaths['Новые_случаи'])*100).round(2)\n",
        "display((country_deaths).reset_index())\n",
        "print('По состянию на', tomorrow)"
      ]
    },
    {
      "cell_type": "markdown",
      "id": "9810fed7",
      "metadata": {
        "id": "9810fed7"
      },
      "source": [
        "### 4.3. Топ-10 стран по уровню смертности за всё время     \n",
        " Выведем топ-10 стран по ранее расчитанному уровню летальности."
      ]
    },
    {
      "cell_type": "code",
      "execution_count": 36,
      "id": "c3a16056",
      "metadata": {
        "colab": {
          "base_uri": "https://localhost:8080/",
          "height": 398
        },
        "id": "c3a16056",
        "outputId": "cd7ae3b4-f06d-4984-870b-23d617ccb3fc"
      },
      "outputs": [
        {
          "output_type": "stream",
          "name": "stdout",
          "text": [
            "Топ-10 стран по уровню смертности\n"
          ]
        },
        {
          "output_type": "display_data",
          "data": {
            "text/plain": [
              "                       Страна  Новые_случаи  Смерти  Летальность, %\n",
              "0                        Peru       3552467  212528            5.98\n",
              "1                      Mexico       5723862  323805            5.66\n",
              "2                   Indonesia       6037742  155794            2.58\n",
              "3                      Brazil      30183929  661493            2.19\n",
              "4          Russian Federation      18041927  372766            2.07\n",
              "5  Iran (Islamic Republic of)       7199861  140711            1.95\n",
              "6    United States of America      79716960  979321            1.23\n",
              "7                       India      43039023  521737            1.21\n",
              "8                       Italy      15467395  161187            1.04\n",
              "9          The United Kingdom      21715120  171046            0.79"
            ],
            "text/html": [
              "\n",
              "  <div id=\"df-5eb4fff5-7e10-42d4-ac36-6c976686fada\">\n",
              "    <div class=\"colab-df-container\">\n",
              "      <div>\n",
              "<style scoped>\n",
              "    .dataframe tbody tr th:only-of-type {\n",
              "        vertical-align: middle;\n",
              "    }\n",
              "\n",
              "    .dataframe tbody tr th {\n",
              "        vertical-align: top;\n",
              "    }\n",
              "\n",
              "    .dataframe thead th {\n",
              "        text-align: right;\n",
              "    }\n",
              "</style>\n",
              "<table border=\"1\" class=\"dataframe\">\n",
              "  <thead>\n",
              "    <tr style=\"text-align: right;\">\n",
              "      <th></th>\n",
              "      <th>Страна</th>\n",
              "      <th>Новые_случаи</th>\n",
              "      <th>Смерти</th>\n",
              "      <th>Летальность, %</th>\n",
              "    </tr>\n",
              "  </thead>\n",
              "  <tbody>\n",
              "    <tr>\n",
              "      <th>0</th>\n",
              "      <td>Peru</td>\n",
              "      <td>3552467</td>\n",
              "      <td>212528</td>\n",
              "      <td>5.98</td>\n",
              "    </tr>\n",
              "    <tr>\n",
              "      <th>1</th>\n",
              "      <td>Mexico</td>\n",
              "      <td>5723862</td>\n",
              "      <td>323805</td>\n",
              "      <td>5.66</td>\n",
              "    </tr>\n",
              "    <tr>\n",
              "      <th>2</th>\n",
              "      <td>Indonesia</td>\n",
              "      <td>6037742</td>\n",
              "      <td>155794</td>\n",
              "      <td>2.58</td>\n",
              "    </tr>\n",
              "    <tr>\n",
              "      <th>3</th>\n",
              "      <td>Brazil</td>\n",
              "      <td>30183929</td>\n",
              "      <td>661493</td>\n",
              "      <td>2.19</td>\n",
              "    </tr>\n",
              "    <tr>\n",
              "      <th>4</th>\n",
              "      <td>Russian Federation</td>\n",
              "      <td>18041927</td>\n",
              "      <td>372766</td>\n",
              "      <td>2.07</td>\n",
              "    </tr>\n",
              "    <tr>\n",
              "      <th>5</th>\n",
              "      <td>Iran (Islamic Republic of)</td>\n",
              "      <td>7199861</td>\n",
              "      <td>140711</td>\n",
              "      <td>1.95</td>\n",
              "    </tr>\n",
              "    <tr>\n",
              "      <th>6</th>\n",
              "      <td>United States of America</td>\n",
              "      <td>79716960</td>\n",
              "      <td>979321</td>\n",
              "      <td>1.23</td>\n",
              "    </tr>\n",
              "    <tr>\n",
              "      <th>7</th>\n",
              "      <td>India</td>\n",
              "      <td>43039023</td>\n",
              "      <td>521737</td>\n",
              "      <td>1.21</td>\n",
              "    </tr>\n",
              "    <tr>\n",
              "      <th>8</th>\n",
              "      <td>Italy</td>\n",
              "      <td>15467395</td>\n",
              "      <td>161187</td>\n",
              "      <td>1.04</td>\n",
              "    </tr>\n",
              "    <tr>\n",
              "      <th>9</th>\n",
              "      <td>The United Kingdom</td>\n",
              "      <td>21715120</td>\n",
              "      <td>171046</td>\n",
              "      <td>0.79</td>\n",
              "    </tr>\n",
              "  </tbody>\n",
              "</table>\n",
              "</div>\n",
              "      <button class=\"colab-df-convert\" onclick=\"convertToInteractive('df-5eb4fff5-7e10-42d4-ac36-6c976686fada')\"\n",
              "              title=\"Convert this dataframe to an interactive table.\"\n",
              "              style=\"display:none;\">\n",
              "        \n",
              "  <svg xmlns=\"http://www.w3.org/2000/svg\" height=\"24px\"viewBox=\"0 0 24 24\"\n",
              "       width=\"24px\">\n",
              "    <path d=\"M0 0h24v24H0V0z\" fill=\"none\"/>\n",
              "    <path d=\"M18.56 5.44l.94 2.06.94-2.06 2.06-.94-2.06-.94-.94-2.06-.94 2.06-2.06.94zm-11 1L8.5 8.5l.94-2.06 2.06-.94-2.06-.94L8.5 2.5l-.94 2.06-2.06.94zm10 10l.94 2.06.94-2.06 2.06-.94-2.06-.94-.94-2.06-.94 2.06-2.06.94z\"/><path d=\"M17.41 7.96l-1.37-1.37c-.4-.4-.92-.59-1.43-.59-.52 0-1.04.2-1.43.59L10.3 9.45l-7.72 7.72c-.78.78-.78 2.05 0 2.83L4 21.41c.39.39.9.59 1.41.59.51 0 1.02-.2 1.41-.59l7.78-7.78 2.81-2.81c.8-.78.8-2.07 0-2.86zM5.41 20L4 18.59l7.72-7.72 1.47 1.35L5.41 20z\"/>\n",
              "  </svg>\n",
              "      </button>\n",
              "      \n",
              "  <style>\n",
              "    .colab-df-container {\n",
              "      display:flex;\n",
              "      flex-wrap:wrap;\n",
              "      gap: 12px;\n",
              "    }\n",
              "\n",
              "    .colab-df-convert {\n",
              "      background-color: #E8F0FE;\n",
              "      border: none;\n",
              "      border-radius: 50%;\n",
              "      cursor: pointer;\n",
              "      display: none;\n",
              "      fill: #1967D2;\n",
              "      height: 32px;\n",
              "      padding: 0 0 0 0;\n",
              "      width: 32px;\n",
              "    }\n",
              "\n",
              "    .colab-df-convert:hover {\n",
              "      background-color: #E2EBFA;\n",
              "      box-shadow: 0px 1px 2px rgba(60, 64, 67, 0.3), 0px 1px 3px 1px rgba(60, 64, 67, 0.15);\n",
              "      fill: #174EA6;\n",
              "    }\n",
              "\n",
              "    [theme=dark] .colab-df-convert {\n",
              "      background-color: #3B4455;\n",
              "      fill: #D2E3FC;\n",
              "    }\n",
              "\n",
              "    [theme=dark] .colab-df-convert:hover {\n",
              "      background-color: #434B5C;\n",
              "      box-shadow: 0px 1px 3px 1px rgba(0, 0, 0, 0.15);\n",
              "      filter: drop-shadow(0px 1px 2px rgba(0, 0, 0, 0.3));\n",
              "      fill: #FFFFFF;\n",
              "    }\n",
              "  </style>\n",
              "\n",
              "      <script>\n",
              "        const buttonEl =\n",
              "          document.querySelector('#df-5eb4fff5-7e10-42d4-ac36-6c976686fada button.colab-df-convert');\n",
              "        buttonEl.style.display =\n",
              "          google.colab.kernel.accessAllowed ? 'block' : 'none';\n",
              "\n",
              "        async function convertToInteractive(key) {\n",
              "          const element = document.querySelector('#df-5eb4fff5-7e10-42d4-ac36-6c976686fada');\n",
              "          const dataTable =\n",
              "            await google.colab.kernel.invokeFunction('convertToInteractive',\n",
              "                                                     [key], {});\n",
              "          if (!dataTable) return;\n",
              "\n",
              "          const docLinkHtml = 'Like what you see? Visit the ' +\n",
              "            '<a target=\"_blank\" href=https://colab.research.google.com/notebooks/data_table.ipynb>data table notebook</a>'\n",
              "            + ' to learn more about interactive tables.';\n",
              "          element.innerHTML = '';\n",
              "          dataTable['output_type'] = 'display_data';\n",
              "          await google.colab.output.renderOutput(dataTable, element);\n",
              "          const docLink = document.createElement('div');\n",
              "          docLink.innerHTML = docLinkHtml;\n",
              "          element.appendChild(docLink);\n",
              "        }\n",
              "      </script>\n",
              "    </div>\n",
              "  </div>\n",
              "  "
            ]
          },
          "metadata": {}
        },
        {
          "output_type": "stream",
          "name": "stdout",
          "text": [
            "По состянию на 2022-04-16\n"
          ]
        }
      ],
      "source": [
        "print('Топ-10 стран по уровню смертности')\n",
        "mortality_rate = country_deaths.nlargest(10, columns='Летальность, %')\n",
        "display((mortality_rate).reset_index())\n",
        "print('По состянию на', tomorrow)"
      ]
    },
    {
      "cell_type": "markdown",
      "id": "-kRHoAuWf-wj",
      "metadata": {
        "id": "-kRHoAuWf-wj"
      },
      "source": [
        "---"
      ]
    },
    {
      "cell_type": "markdown",
      "id": "oFYg3W4ggAhT",
      "metadata": {
        "id": "oFYg3W4ggAhT"
      },
      "source": [
        "## 5. Месячные данные о числе выявленных новых случаев заболевания и смертность в целом по миру"
      ]
    },
    {
      "cell_type": "code",
      "execution_count": 37,
      "id": "718a660e",
      "metadata": {
        "colab": {
          "base_uri": "https://localhost:8080/",
          "height": 411
        },
        "id": "718a660e",
        "outputId": "aaffa494-9bd9-4278-8335-f85cabc5b835"
      },
      "outputs": [
        {
          "output_type": "stream",
          "name": "stdout",
          "text": [
            "Число выявленных случаев в мире по месяцам, ед.\n"
          ]
        },
        {
          "output_type": "display_data",
          "data": {
            "text/plain": [
              "<Figure size 1080x360 with 1 Axes>"
            ],
            "image/png": "[encoded data removed]"
          },
          "metadata": {
            "needs_background": "light"
          }
        }
      ],
      "source": [
        "month_new_cases = data.pivot_table(index=['Год_месяц'], aggfunc={'Новые_случаи':sum}).sort_values(by='Год_месяц')\n",
        "month_new_cases.plot(y='Новые_случаи', kind='bar', figsize=(15, 5), legend=False)\n",
        "plt.xticks(rotation = 90)\n",
        "print('Число выявленных случаев в мире по месяцам, ед.')"
      ]
    },
    {
      "cell_type": "code",
      "execution_count": 38,
      "id": "4GMe_U-OWmr-",
      "metadata": {
        "colab": {
          "base_uri": "https://localhost:8080/",
          "height": 400
        },
        "id": "4GMe_U-OWmr-",
        "outputId": "fab45bda-1bfd-4e17-c1b7-2f0483f11d8f"
      },
      "outputs": [
        {
          "output_type": "stream",
          "name": "stdout",
          "text": [
            "Число смертей в мире по месяцам, ед.\n"
          ]
        },
        {
          "output_type": "display_data",
          "data": {
            "text/plain": [
              "<Figure size 1080x360 with 1 Axes>"
            ],
            "image/png": "[encoded data removed]"
          },
          "metadata": {
            "needs_background": "light"
          }
        }
      ],
      "source": [
        "month_deaths = data.pivot_table(index=['Год_месяц'], aggfunc={'Смерти':sum}).sort_values(by='Год_месяц')\n",
        "month_deaths.plot(y='Смерти', kind='bar', figsize=(15, 5), legend=False)\n",
        "plt.xticks(rotation = 90)\n",
        "print('Число смертей в мире по месяцам, ед.')"
      ]
    },
    {
      "cell_type": "markdown",
      "id": "nTcNvB4jgUk3",
      "metadata": {
        "id": "nTcNvB4jgUk3"
      },
      "source": [
        "---"
      ]
    },
    {
      "cell_type": "markdown",
      "id": "4XL3hLT4gUnE",
      "metadata": {
        "id": "4XL3hLT4gUnE"
      },
      "source": [
        "## 5. Данные о числе выявленных новых случаев заболевания и смертность в России"
      ]
    },
    {
      "cell_type": "markdown",
      "id": "yYksh0UBrqdR",
      "metadata": {
        "id": "yYksh0UBrqdR"
      },
      "source": [
        "### 5.1. Годовые данные"
      ]
    },
    {
      "cell_type": "code",
      "execution_count": 39,
      "id": "aaEKvBporQZl",
      "metadata": {
        "colab": {
          "base_uri": "https://localhost:8080/"
        },
        "id": "aaEKvBporQZl",
        "outputId": "eb26aa25-2b98-4654-f4ad-7d48897149cd"
      },
      "outputs": [
        {
          "output_type": "stream",
          "name": "stdout",
          "text": [
            "За всё время наблюдений:\n",
            "------------------------------------------------------------------\n",
            "3.61 % общемирового числа случаев заболевания COVID-19 приходится на Россию\n",
            "------------------------------------------------------------------\n",
            "6.02 % общемирового числа умерших от COVID-19 приходится на Россию\n",
            "------------------------------------------------------------------\n",
            "2.07 % - уровень летальности в России\n",
            "------------------------------------------------------------------\n",
            "По данным ВОЗ на 2022-04-16\n"
          ]
        }
      ],
      "source": [
        "new_cases_total = data.loc[:, 'Новые_случаи'].sum()\n",
        "ru_new_cases_total = ru_data.loc[:, 'Новые_случаи'].sum()\n",
        "deaths_total = data.loc[:, 'Смерти'].sum()\n",
        "ru_deaths_total = ru_data.loc[:, 'Смерти'].sum()\n",
        "print('За всё время наблюдений:')\n",
        "print('-'*66)\n",
        "print((ru_new_cases_total/(new_cases_total/100)).round(2), '% общемирового числа случаев заболевания COVID-19 приходится на Россию')\n",
        "print('-'*66)\n",
        "print((ru_deaths_total/(deaths_total/100)).round(2), '% общемирового числа умерших от COVID-19 приходится на Россию')\n",
        "print('-'*66)\n",
        "print((ru_deaths_total/(ru_new_cases_total/100)).round(2), '% - уровень летальности в России')\n",
        "print('-'*66)\n",
        "print('По данным ВОЗ на', tomorrow)"
      ]
    },
    {
      "cell_type": "code",
      "execution_count": 40,
      "id": "_G680WlurdGf",
      "metadata": {
        "colab": {
          "base_uri": "https://localhost:8080/",
          "height": 178
        },
        "id": "_G680WlurdGf",
        "outputId": "3beabc5f-2e88-40aa-e5e1-e461c7a62396"
      },
      "outputs": [
        {
          "output_type": "stream",
          "name": "stdout",
          "text": [
            "Число выявленных случаев и смертей в России за год, ед.\n"
          ]
        },
        {
          "output_type": "display_data",
          "data": {
            "text/plain": [
              "    Год  Новые_случаи  Смерти\n",
              "0  2020       3159297   57019\n",
              "1  2021       7340685  251841\n",
              "2  2022       7541945   63906"
            ],
            "text/html": [
              "\n",
              "  <div id=\"df-62982775-b6d2-4320-9662-d9592d2bf026\">\n",
              "    <div class=\"colab-df-container\">\n",
              "      <div>\n",
              "<style scoped>\n",
              "    .dataframe tbody tr th:only-of-type {\n",
              "        vertical-align: middle;\n",
              "    }\n",
              "\n",
              "    .dataframe tbody tr th {\n",
              "        vertical-align: top;\n",
              "    }\n",
              "\n",
              "    .dataframe thead th {\n",
              "        text-align: right;\n",
              "    }\n",
              "</style>\n",
              "<table border=\"1\" class=\"dataframe\">\n",
              "  <thead>\n",
              "    <tr style=\"text-align: right;\">\n",
              "      <th></th>\n",
              "      <th>Год</th>\n",
              "      <th>Новые_случаи</th>\n",
              "      <th>Смерти</th>\n",
              "    </tr>\n",
              "  </thead>\n",
              "  <tbody>\n",
              "    <tr>\n",
              "      <th>0</th>\n",
              "      <td>2020</td>\n",
              "      <td>3159297</td>\n",
              "      <td>57019</td>\n",
              "    </tr>\n",
              "    <tr>\n",
              "      <th>1</th>\n",
              "      <td>2021</td>\n",
              "      <td>7340685</td>\n",
              "      <td>251841</td>\n",
              "    </tr>\n",
              "    <tr>\n",
              "      <th>2</th>\n",
              "      <td>2022</td>\n",
              "      <td>7541945</td>\n",
              "      <td>63906</td>\n",
              "    </tr>\n",
              "  </tbody>\n",
              "</table>\n",
              "</div>\n",
              "      <button class=\"colab-df-convert\" onclick=\"convertToInteractive('df-62982775-b6d2-4320-9662-d9592d2bf026')\"\n",
              "              title=\"Convert this dataframe to an interactive table.\"\n",
              "              style=\"display:none;\">\n",
              "        \n",
              "  <svg xmlns=\"http://www.w3.org/2000/svg\" height=\"24px\"viewBox=\"0 0 24 24\"\n",
              "       width=\"24px\">\n",
              "    <path d=\"M0 0h24v24H0V0z\" fill=\"none\"/>\n",
              "    <path d=\"M18.56 5.44l.94 2.06.94-2.06 2.06-.94-2.06-.94-.94-2.06-.94 2.06-2.06.94zm-11 1L8.5 8.5l.94-2.06 2.06-.94-2.06-.94L8.5 2.5l-.94 2.06-2.06.94zm10 10l.94 2.06.94-2.06 2.06-.94-2.06-.94-.94-2.06-.94 2.06-2.06.94z\"/><path d=\"M17.41 7.96l-1.37-1.37c-.4-.4-.92-.59-1.43-.59-.52 0-1.04.2-1.43.59L10.3 9.45l-7.72 7.72c-.78.78-.78 2.05 0 2.83L4 21.41c.39.39.9.59 1.41.59.51 0 1.02-.2 1.41-.59l7.78-7.78 2.81-2.81c.8-.78.8-2.07 0-2.86zM5.41 20L4 18.59l7.72-7.72 1.47 1.35L5.41 20z\"/>\n",
              "  </svg>\n",
              "      </button>\n",
              "      \n",
              "  <style>\n",
              "    .colab-df-container {\n",
              "      display:flex;\n",
              "      flex-wrap:wrap;\n",
              "      gap: 12px;\n",
              "    }\n",
              "\n",
              "    .colab-df-convert {\n",
              "      background-color: #E8F0FE;\n",
              "      border: none;\n",
              "      border-radius: 50%;\n",
              "      cursor: pointer;\n",
              "      display: none;\n",
              "      fill: #1967D2;\n",
              "      height: 32px;\n",
              "      padding: 0 0 0 0;\n",
              "      width: 32px;\n",
              "    }\n",
              "\n",
              "    .colab-df-convert:hover {\n",
              "      background-color: #E2EBFA;\n",
              "      box-shadow: 0px 1px 2px rgba(60, 64, 67, 0.3), 0px 1px 3px 1px rgba(60, 64, 67, 0.15);\n",
              "      fill: #174EA6;\n",
              "    }\n",
              "\n",
              "    [theme=dark] .colab-df-convert {\n",
              "      background-color: #3B4455;\n",
              "      fill: #D2E3FC;\n",
              "    }\n",
              "\n",
              "    [theme=dark] .colab-df-convert:hover {\n",
              "      background-color: #434B5C;\n",
              "      box-shadow: 0px 1px 3px 1px rgba(0, 0, 0, 0.15);\n",
              "      filter: drop-shadow(0px 1px 2px rgba(0, 0, 0, 0.3));\n",
              "      fill: #FFFFFF;\n",
              "    }\n",
              "  </style>\n",
              "\n",
              "      <script>\n",
              "        const buttonEl =\n",
              "          document.querySelector('#df-62982775-b6d2-4320-9662-d9592d2bf026 button.colab-df-convert');\n",
              "        buttonEl.style.display =\n",
              "          google.colab.kernel.accessAllowed ? 'block' : 'none';\n",
              "\n",
              "        async function convertToInteractive(key) {\n",
              "          const element = document.querySelector('#df-62982775-b6d2-4320-9662-d9592d2bf026');\n",
              "          const dataTable =\n",
              "            await google.colab.kernel.invokeFunction('convertToInteractive',\n",
              "                                                     [key], {});\n",
              "          if (!dataTable) return;\n",
              "\n",
              "          const docLinkHtml = 'Like what you see? Visit the ' +\n",
              "            '<a target=\"_blank\" href=https://colab.research.google.com/notebooks/data_table.ipynb>data table notebook</a>'\n",
              "            + ' to learn more about interactive tables.';\n",
              "          element.innerHTML = '';\n",
              "          dataTable['output_type'] = 'display_data';\n",
              "          await google.colab.output.renderOutput(dataTable, element);\n",
              "          const docLink = document.createElement('div');\n",
              "          docLink.innerHTML = docLinkHtml;\n",
              "          element.appendChild(docLink);\n",
              "        }\n",
              "      </script>\n",
              "    </div>\n",
              "  </div>\n",
              "  "
            ]
          },
          "metadata": {}
        },
        {
          "output_type": "stream",
          "name": "stdout",
          "text": [
            "По состянию на 2022-04-16\n"
          ]
        }
      ],
      "source": [
        "print('Число выявленных случаев и смертей в России за год, ед.')\n",
        "ru_year_new_cases = ru_data.pivot_table(index=['Год'], aggfunc={'Новые_случаи':sum, 'Смерти':sum}).sort_values(by='Год')\n",
        "display((ru_year_new_cases).reset_index())\n",
        "print('По состянию на', tomorrow)"
      ]
    },
    {
      "cell_type": "code",
      "execution_count": 41,
      "id": "blXzlFpbsTdC",
      "metadata": {
        "colab": {
          "base_uri": "https://localhost:8080/",
          "height": 362
        },
        "id": "blXzlFpbsTdC",
        "outputId": "9e938113-d8df-48b9-f380-41cf4a74b1b0"
      },
      "outputs": [
        {
          "output_type": "stream",
          "name": "stdout",
          "text": [
            "Число выявленных случаев в России за год, ед.\n"
          ]
        },
        {
          "output_type": "display_data",
          "data": {
            "text/plain": [
              "<Figure size 720x360 with 1 Axes>"
            ],
            "image/png": "[encoded data removed]"
          },
          "metadata": {
            "needs_background": "light"
          }
        }
      ],
      "source": [
        "ru_year_new_cases.plot(y='Новые_случаи', kind='bar', figsize=(10, 5), legend=False)\n",
        "plt.xticks(rotation = 0)\n",
        "print('Число выявленных случаев в России за год, ед.')"
      ]
    },
    {
      "cell_type": "code",
      "execution_count": 42,
      "id": "GMFskjBUscln",
      "metadata": {
        "colab": {
          "base_uri": "https://localhost:8080/",
          "height": 351
        },
        "id": "GMFskjBUscln",
        "outputId": "e2e7be3f-d95b-4773-b0cd-12046f6bd3cb"
      },
      "outputs": [
        {
          "output_type": "stream",
          "name": "stdout",
          "text": [
            "Число смертей в России за год, ед.\n"
          ]
        },
        {
          "output_type": "display_data",
          "data": {
            "text/plain": [
              "<Figure size 720x360 with 1 Axes>"
            ],
            "image/png": "[encoded data removed]"
          },
          "metadata": {
            "needs_background": "light"
          }
        }
      ],
      "source": [
        "ru_year_new_cases.plot(y='Смерти', kind='bar', figsize=(10, 5), legend=False)\n",
        "plt.xticks(rotation = 0)\n",
        "print('Число смертей в России за год, ед.')"
      ]
    },
    {
      "cell_type": "markdown",
      "id": "WS-RVyUIr6vD",
      "metadata": {
        "id": "WS-RVyUIr6vD"
      },
      "source": [
        "### 5.2. Помесячные данные"
      ]
    },
    {
      "cell_type": "code",
      "execution_count": 43,
      "id": "Pd8tIZyZXoNV",
      "metadata": {
        "colab": {
          "base_uri": "https://localhost:8080/",
          "height": 411
        },
        "id": "Pd8tIZyZXoNV",
        "outputId": "d7c71171-ed66-47a7-f87c-6b3e20a85b57"
      },
      "outputs": [
        {
          "output_type": "stream",
          "name": "stdout",
          "text": [
            "Число выявленных случаев в России по месяцам, ед.\n"
          ]
        },
        {
          "output_type": "display_data",
          "data": {
            "text/plain": [
              "<Figure size 1080x360 with 1 Axes>"
            ],
            "image/png": "[encoded data removed]"
          },
          "metadata": {
            "needs_background": "light"
          }
        }
      ],
      "source": [
        "ru_month_new_cases = ru_data.pivot_table(index=['Год_месяц'], aggfunc={'Новые_случаи':sum}).sort_values(by='Год_месяц')\n",
        "ru_month_new_cases.plot(y='Новые_случаи', kind='bar', figsize=(15, 5), legend=False)\n",
        "plt.xticks(rotation = 90)\n",
        "print('Число выявленных случаев в России по месяцам, ед.')"
      ]
    },
    {
      "cell_type": "code",
      "execution_count": 44,
      "id": "bEgCS-aBdDyF",
      "metadata": {
        "colab": {
          "base_uri": "https://localhost:8080/",
          "height": 400
        },
        "id": "bEgCS-aBdDyF",
        "outputId": "939a36f7-50bf-4e45-d228-2533c384e078"
      },
      "outputs": [
        {
          "output_type": "stream",
          "name": "stdout",
          "text": [
            "Число смертей в России по месяцам, ед.\n"
          ]
        },
        {
          "output_type": "display_data",
          "data": {
            "text/plain": [
              "<Figure size 1080x360 with 1 Axes>"
            ],
            "image/png": "[encoded data removed]"
          },
          "metadata": {
            "needs_background": "light"
          }
        }
      ],
      "source": [
        "ru_month_deaths = ru_data.pivot_table(index=['Год_месяц'], aggfunc={'Смерти':sum}).sort_values(by='Год_месяц')\n",
        "ru_month_deaths.plot(y='Смерти', kind='bar', figsize=(15, 5), legend=False)\n",
        "plt.xticks(rotation = 90)\n",
        "print('Число смертей в России по месяцам, ед.')"
      ]
    }
  ],
  "metadata": {
    "colab": {
      "collapsed_sections": [],
      "name": "COVID-19.ipynb",
      "provenance": []
    },
    "kernelspec": {
      "display_name": "Python 3 (ipykernel)",
      "language": "python",
      "name": "python3"
    },
    "language_info": {
      "codemirror_mode": {
        "name": "ipython",
        "version": 3
      },
      "file_extension": ".py",
      "mimetype": "text/x-python",
      "name": "python",
      "nbconvert_exporter": "python",
      "pygments_lexer": "ipython3",
      "version": "3.9.7"
    }
  },
  "nbformat": 4,
  "nbformat_minor": 5
}