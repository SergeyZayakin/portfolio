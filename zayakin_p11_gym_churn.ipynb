{
  "cells": [
    {
      "cell_type": "markdown",
      "metadata": {
        "id": "dAWcFrrzjn8m"
      },
      "source": [
        "# Прогнозирование оттока клиентов сети фитнес-центров «Культурист-датасаентист»"
      ]
    },
    {
      "cell_type": "markdown",
      "metadata": {
        "id": "Nd5wu004jn8p"
      },
      "source": [
        "<br/>\n",
        "    \n",
        "<div class=\"alert alert-info\">\n",
        "<h2> Привет!<a class=\"tocSkip\"></h2>\n",
        "<hr>  \n",
        "Я - Сергей. Рад что ты читаешь это текст :) Сделаю пару ремарок общего характера. В описании выполняемых действий, комментариях, я использую местоимение 'мы', так как считаю что ты - ревьювер, проверя код становиться моим соучастником ('соучавствующие программирование') и мы вместе проходим по пути исследования. Да и сформировлась привычка так писать в ходе написания научных работ.   \n",
        "NB! - так помечаю важные на мой взгдял идеи, которые стоит взять на заметку; инсайты, проработка которых требует большего знания предметной области.   \n",
        "Надеюсь мои многословные комментарии тебя не утомят.    \n",
        "</div>\n",
        "    \n",
        "<br/>"
      ]
    },
    {
      "cell_type": "markdown",
      "metadata": {
        "id": "1ZqHDi6fjn8r"
      },
      "source": [
        "**СОДЕРЖАНИЕ**    \n",
        "\n",
        "[1  Описание проекта](#description)    \n",
        "[2  Загрузка данных](#load)    \n",
        "[3  Исследовательский анализ данных (EDA)](#eda)    \n",
        "[3.1  Обзор данных](#review)    \n",
        "[3.2  Сравнение оставшихся и ушедших клиентов](#churn)    \n",
        "[3.3  Столбчатые гистограммы и распределения признаков для тех, кто ушёл (отток) и тех, кто остался](#churn_hist)    \n",
        "[3.4  Матрица корреляций признаков](#corr)    \n",
        "[3.5  Выводы](#summary_3)    \n",
        "[4  Построение модели прогнозирования оттока пользователей](#model)    \n",
        "[4.1  Выделение обучающей и валидационной выборок](#selection)    \n",
        "[4.2  Обучение моделей](#training)    \n",
        "[4.3  Оценка метрик и сравнение моделей](#metrics)    \n",
        "[4.4  Выводы](#summary_4)    \n",
        "[5  Кластеризация пользователей](#clustering)    \n",
        "[5.1  Стандартизация данных](#standardization)    \n",
        "[5.2  Построение матрицы расстояний и дендрограммы](#matrix)    \n",
        "[5.3  Обучение модели кластеризации и прогноз кластеров клиентов](#clust_training)    \n",
        "[5.4  Анализ распределения признаков для кластеров](#features)    \n",
        "[5.5  Расчёт и анализ долей оттока для кластеров](#shares)    \n",
        "[5.6  Выводы](#summary_5)    \n",
        "[6  Выводы и рекомендации](#summary)    \n"
      ]
    },
    {
      "cell_type": "markdown",
      "metadata": {
        "id": "UvNRuu0Wjn8s"
      },
      "source": [
        "## Описание проекта<a id=\"description\"></a>       \n",
        "    \n",
        "Сеть фитнес-центров «Культурист-датасаентист» разрабатывает стратегию взаимодействия с клиентами на основе аналитических данных.  \n",
        "   \n",
        "**Задачи:**  \n",
        "1. научиться прогнозировать вероятность оттока (на уровне следующего месяца) для каждого клиента;  \n",
        "1. сформировать типичные портреты клиентов: выделить несколько наиболее ярких групп и охарактеризовать их основные свойства;  \n",
        "1. проанализировать основные признаки, наиболее сильно влияющие на отток;  \n",
        "1. сформулировать основные выводы и разработать рекомендации по повышению качества работы с клиентами:  \n",
        "   * выделить целевые группы клиентов;  \n",
        "   * предложить меры по снижению оттока;  \n",
        "   * определить другие особенности взаимодействия с клиентами.   \n",
        "   \n",
        "**Описание данных**   \n",
        "1. Данные клиента за предыдущий месяц до проверки факта оттока месяц:  \n",
        "**gender** — пол;     \n",
        "**Near_Location** — проживание или работа в районе, где находится фитнес-центр;   \n",
        "**Partner** — сотрудник компании-партнёра клуба (сотрудничество с компаниями, чьи сотрудники могут получать скидки на абонемент — в таком случае фитнес-центр хранит информацию о работодателе клиента);   \n",
        "**Promo_friends** — факт первоначальной записи в рамках акции «приведи друга» (использовал промо-код от знакомого при оплате первого абонемента);   \n",
        "**Phone** — наличие контактного телефона;   \n",
        "**Age** — возраст;   \n",
        "**Lifetime** — время с момента первого обращения в фитнес-центр (в месяцах).   \n",
        "\n",
        "2. Информация на основе журнала посещений, покупок и информация о текущем статусе абонемента клиента:   \n",
        "**Contract_period** — длительность текущего действующего абонемента (месяц, 6 месяцев, год);   \n",
        "**Month_to_end_contract** — срок до окончания текущего действующего абонемента (в месяцах);   \n",
        "**Group_visits** — факт посещения групповых занятий;   \n",
        "**Avg_class_frequency_total** — средняя частота посещений в неделю за все время с начала действия абонемента;   \n",
        "**Avg_class_frequency_current_month** — средняя частота посещений в неделю за предыдущий месяц;   \n",
        "**Avg_additional_charges_total** — суммарная выручка от других услуг фитнес-центра: кафе, спорттовары, косметический и массажный салон.   \n",
        "**Churn** — факт оттока в текущем месяце.   "
      ]
    },
    {
      "cell_type": "markdown",
      "metadata": {
        "id": "tT_bVDD8jn8t"
      },
      "source": [
        "---"
      ]
    },
    {
      "cell_type": "markdown",
      "metadata": {
        "id": "8mjav-42jn8t"
      },
      "source": [
        "## Загрузка данных<a id=\"load\"></a>"
      ]
    },
    {
      "cell_type": "code",
      "execution_count": 1,
      "metadata": {
        "id": "l_dCVJqzjn8u"
      },
      "outputs": [],
      "source": [
        "#Импорт необходимых библиотек\n",
        "import pandas as pd\n",
        "import seaborn as sns\n",
        "import numpy as np\n",
        "from sklearn.preprocessing import StandardScaler\n",
        "from sklearn.model_selection import train_test_split\n",
        "from sklearn.linear_model import LogisticRegression\n",
        "from sklearn.ensemble import RandomForestClassifier\n",
        "import matplotlib.pyplot as plt\n",
        "from sklearn.metrics import accuracy_score, precision_score, recall_score, roc_auc_score\n",
        "from scipy.cluster.hierarchy import dendrogram, linkage\n",
        "from sklearn.cluster import KMeans\n",
        "import warnings\n",
        "warnings.filterwarnings('ignore')"
      ]
    },
    {
      "cell_type": "code",
      "execution_count": 2,
      "metadata": {
        "colab": {
          "base_uri": "https://localhost:8080/",
          "height": 270
        },
        "id": "m4norOPvjn8u",
        "outputId": "91808b3f-b936-4101-b50b-3ef259d4bec0"
      },
      "outputs": [
        {
          "output_type": "display_data",
          "data": {
            "text/plain": [
              "   gender  Near_Location  Partner  Promo_friends  Phone  Contract_period  \\\n",
              "0       1              1        1              1      0                6   \n",
              "1       0              1        0              0      1               12   \n",
              "2       0              1        1              0      1                1   \n",
              "3       0              1        1              1      1               12   \n",
              "4       1              1        1              1      1                1   \n",
              "\n",
              "   Group_visits  Age  Avg_additional_charges_total  Month_to_end_contract  \\\n",
              "0             1   29                     14.227470                    5.0   \n",
              "1             1   31                    113.202938                   12.0   \n",
              "2             0   28                    129.448479                    1.0   \n",
              "3             1   33                     62.669863                   12.0   \n",
              "4             0   26                    198.362265                    1.0   \n",
              "\n",
              "   Lifetime  Avg_class_frequency_total  Avg_class_frequency_current_month  \\\n",
              "0         3                   0.020398                           0.000000   \n",
              "1         7                   1.922936                           1.910244   \n",
              "2         2                   1.859098                           1.736502   \n",
              "3         2                   3.205633                           3.357215   \n",
              "4         3                   1.113884                           1.120078   \n",
              "\n",
              "   Churn  \n",
              "0      0  \n",
              "1      0  \n",
              "2      0  \n",
              "3      0  \n",
              "4      0  "
            ],
            "text/html": [
              "\n",
              "  <div id=\"df-a30af1fa-2411-4b0c-8214-e396c619f32c\">\n",
              "    <div class=\"colab-df-container\">\n",
              "      <div>\n",
              "<style scoped>\n",
              "    .dataframe tbody tr th:only-of-type {\n",
              "        vertical-align: middle;\n",
              "    }\n",
              "\n",
              "    .dataframe tbody tr th {\n",
              "        vertical-align: top;\n",
              "    }\n",
              "\n",
              "    .dataframe thead th {\n",
              "        text-align: right;\n",
              "    }\n",
              "</style>\n",
              "<table border=\"1\" class=\"dataframe\">\n",
              "  <thead>\n",
              "    <tr style=\"text-align: right;\">\n",
              "      <th></th>\n",
              "      <th>gender</th>\n",
              "      <th>Near_Location</th>\n",
              "      <th>Partner</th>\n",
              "      <th>Promo_friends</th>\n",
              "      <th>Phone</th>\n",
              "      <th>Contract_period</th>\n",
              "      <th>Group_visits</th>\n",
              "      <th>Age</th>\n",
              "      <th>Avg_additional_charges_total</th>\n",
              "      <th>Month_to_end_contract</th>\n",
              "      <th>Lifetime</th>\n",
              "      <th>Avg_class_frequency_total</th>\n",
              "      <th>Avg_class_frequency_current_month</th>\n",
              "      <th>Churn</th>\n",
              "    </tr>\n",
              "  </thead>\n",
              "  <tbody>\n",
              "    <tr>\n",
              "      <th>0</th>\n",
              "      <td>1</td>\n",
              "      <td>1</td>\n",
              "      <td>1</td>\n",
              "      <td>1</td>\n",
              "      <td>0</td>\n",
              "      <td>6</td>\n",
              "      <td>1</td>\n",
              "      <td>29</td>\n",
              "      <td>14.227470</td>\n",
              "      <td>5.0</td>\n",
              "      <td>3</td>\n",
              "      <td>0.020398</td>\n",
              "      <td>0.000000</td>\n",
              "      <td>0</td>\n",
              "    </tr>\n",
              "    <tr>\n",
              "      <th>1</th>\n",
              "      <td>0</td>\n",
              "      <td>1</td>\n",
              "      <td>0</td>\n",
              "      <td>0</td>\n",
              "      <td>1</td>\n",
              "      <td>12</td>\n",
              "      <td>1</td>\n",
              "      <td>31</td>\n",
              "      <td>113.202938</td>\n",
              "      <td>12.0</td>\n",
              "      <td>7</td>\n",
              "      <td>1.922936</td>\n",
              "      <td>1.910244</td>\n",
              "      <td>0</td>\n",
              "    </tr>\n",
              "    <tr>\n",
              "      <th>2</th>\n",
              "      <td>0</td>\n",
              "      <td>1</td>\n",
              "      <td>1</td>\n",
              "      <td>0</td>\n",
              "      <td>1</td>\n",
              "      <td>1</td>\n",
              "      <td>0</td>\n",
              "      <td>28</td>\n",
              "      <td>129.448479</td>\n",
              "      <td>1.0</td>\n",
              "      <td>2</td>\n",
              "      <td>1.859098</td>\n",
              "      <td>1.736502</td>\n",
              "      <td>0</td>\n",
              "    </tr>\n",
              "    <tr>\n",
              "      <th>3</th>\n",
              "      <td>0</td>\n",
              "      <td>1</td>\n",
              "      <td>1</td>\n",
              "      <td>1</td>\n",
              "      <td>1</td>\n",
              "      <td>12</td>\n",
              "      <td>1</td>\n",
              "      <td>33</td>\n",
              "      <td>62.669863</td>\n",
              "      <td>12.0</td>\n",
              "      <td>2</td>\n",
              "      <td>3.205633</td>\n",
              "      <td>3.357215</td>\n",
              "      <td>0</td>\n",
              "    </tr>\n",
              "    <tr>\n",
              "      <th>4</th>\n",
              "      <td>1</td>\n",
              "      <td>1</td>\n",
              "      <td>1</td>\n",
              "      <td>1</td>\n",
              "      <td>1</td>\n",
              "      <td>1</td>\n",
              "      <td>0</td>\n",
              "      <td>26</td>\n",
              "      <td>198.362265</td>\n",
              "      <td>1.0</td>\n",
              "      <td>3</td>\n",
              "      <td>1.113884</td>\n",
              "      <td>1.120078</td>\n",
              "      <td>0</td>\n",
              "    </tr>\n",
              "  </tbody>\n",
              "</table>\n",
              "</div>\n",
              "      <button class=\"colab-df-convert\" onclick=\"convertToInteractive('df-a30af1fa-2411-4b0c-8214-e396c619f32c')\"\n",
              "              title=\"Convert this dataframe to an interactive table.\"\n",
              "              style=\"display:none;\">\n",
              "        \n",
              "  <svg xmlns=\"http://www.w3.org/2000/svg\" height=\"24px\"viewBox=\"0 0 24 24\"\n",
              "       width=\"24px\">\n",
              "    <path d=\"M0 0h24v24H0V0z\" fill=\"none\"/>\n",
              "    <path d=\"M18.56 5.44l.94 2.06.94-2.06 2.06-.94-2.06-.94-.94-2.06-.94 2.06-2.06.94zm-11 1L8.5 8.5l.94-2.06 2.06-.94-2.06-.94L8.5 2.5l-.94 2.06-2.06.94zm10 10l.94 2.06.94-2.06 2.06-.94-2.06-.94-.94-2.06-.94 2.06-2.06.94z\"/><path d=\"M17.41 7.96l-1.37-1.37c-.4-.4-.92-.59-1.43-.59-.52 0-1.04.2-1.43.59L10.3 9.45l-7.72 7.72c-.78.78-.78 2.05 0 2.83L4 21.41c.39.39.9.59 1.41.59.51 0 1.02-.2 1.41-.59l7.78-7.78 2.81-2.81c.8-.78.8-2.07 0-2.86zM5.41 20L4 18.59l7.72-7.72 1.47 1.35L5.41 20z\"/>\n",
              "  </svg>\n",
              "      </button>\n",
              "      \n",
              "  <style>\n",
              "    .colab-df-container {\n",
              "      display:flex;\n",
              "      flex-wrap:wrap;\n",
              "      gap: 12px;\n",
              "    }\n",
              "\n",
              "    .colab-df-convert {\n",
              "      background-color: #E8F0FE;\n",
              "      border: none;\n",
              "      border-radius: 50%;\n",
              "      cursor: pointer;\n",
              "      display: none;\n",
              "      fill: #1967D2;\n",
              "      height: 32px;\n",
              "      padding: 0 0 0 0;\n",
              "      width: 32px;\n",
              "    }\n",
              "\n",
              "    .colab-df-convert:hover {\n",
              "      background-color: #E2EBFA;\n",
              "      box-shadow: 0px 1px 2px rgba(60, 64, 67, 0.3), 0px 1px 3px 1px rgba(60, 64, 67, 0.15);\n",
              "      fill: #174EA6;\n",
              "    }\n",
              "\n",
              "    [theme=dark] .colab-df-convert {\n",
              "      background-color: #3B4455;\n",
              "      fill: #D2E3FC;\n",
              "    }\n",
              "\n",
              "    [theme=dark] .colab-df-convert:hover {\n",
              "      background-color: #434B5C;\n",
              "      box-shadow: 0px 1px 3px 1px rgba(0, 0, 0, 0.15);\n",
              "      filter: drop-shadow(0px 1px 2px rgba(0, 0, 0, 0.3));\n",
              "      fill: #FFFFFF;\n",
              "    }\n",
              "  </style>\n",
              "\n",
              "      <script>\n",
              "        const buttonEl =\n",
              "          document.querySelector('#df-a30af1fa-2411-4b0c-8214-e396c619f32c button.colab-df-convert');\n",
              "        buttonEl.style.display =\n",
              "          google.colab.kernel.accessAllowed ? 'block' : 'none';\n",
              "\n",
              "        async function convertToInteractive(key) {\n",
              "          const element = document.querySelector('#df-a30af1fa-2411-4b0c-8214-e396c619f32c');\n",
              "          const dataTable =\n",
              "            await google.colab.kernel.invokeFunction('convertToInteractive',\n",
              "                                                     [key], {});\n",
              "          if (!dataTable) return;\n",
              "\n",
              "          const docLinkHtml = 'Like what you see? Visit the ' +\n",
              "            '<a target=\"_blank\" href=https://colab.research.google.com/notebooks/data_table.ipynb>data table notebook</a>'\n",
              "            + ' to learn more about interactive tables.';\n",
              "          element.innerHTML = '';\n",
              "          dataTable['output_type'] = 'display_data';\n",
              "          await google.colab.output.renderOutput(dataTable, element);\n",
              "          const docLink = document.createElement('div');\n",
              "          docLink.innerHTML = docLinkHtml;\n",
              "          element.appendChild(docLink);\n",
              "        }\n",
              "      </script>\n",
              "    </div>\n",
              "  </div>\n",
              "  "
            ]
          },
          "metadata": {}
        }
      ],
      "source": [
        "# Загрузка данных\n",
        "from io import BytesIO\n",
        "import requests\n",
        "spreadsheet_id = '1l2qeZ78SFIJvhk0kJZf1ck5WCh_4QEzyHZBE_gNjabI'\n",
        "file_name = 'https://docs.google.com/spreadsheets/d/{}/export?format=csv'.format(spreadsheet_id)\n",
        "r = requests.get(file_name)\n",
        "gym = pd.read_csv(BytesIO(r.content))\n",
        "display(gym.head())"
      ]
    },
    {
      "cell_type": "code",
      "execution_count": 3,
      "metadata": {
        "colab": {
          "base_uri": "https://localhost:8080/"
        },
        "id": "Xm3Z61-7jn8v",
        "outputId": "a028cfd2-9e07-404f-c328-5b1c97e91d4e"
      },
      "outputs": [
        {
          "output_type": "stream",
          "name": "stdout",
          "text": [
            "<class 'pandas.core.frame.DataFrame'>\n",
            "RangeIndex: 4000 entries, 0 to 3999\n",
            "Data columns (total 14 columns):\n",
            " #   Column                             Non-Null Count  Dtype  \n",
            "---  ------                             --------------  -----  \n",
            " 0   gender                             4000 non-null   int64  \n",
            " 1   Near_Location                      4000 non-null   int64  \n",
            " 2   Partner                            4000 non-null   int64  \n",
            " 3   Promo_friends                      4000 non-null   int64  \n",
            " 4   Phone                              4000 non-null   int64  \n",
            " 5   Contract_period                    4000 non-null   int64  \n",
            " 6   Group_visits                       4000 non-null   int64  \n",
            " 7   Age                                4000 non-null   int64  \n",
            " 8   Avg_additional_charges_total       4000 non-null   float64\n",
            " 9   Month_to_end_contract              4000 non-null   float64\n",
            " 10  Lifetime                           4000 non-null   int64  \n",
            " 11  Avg_class_frequency_total          4000 non-null   float64\n",
            " 12  Avg_class_frequency_current_month  4000 non-null   float64\n",
            " 13  Churn                              4000 non-null   int64  \n",
            "dtypes: float64(4), int64(10)\n",
            "memory usage: 437.6 KB\n"
          ]
        }
      ],
      "source": [
        "gym.info()"
      ]
    },
    {
      "cell_type": "code",
      "execution_count": 4,
      "metadata": {
        "colab": {
          "base_uri": "https://localhost:8080/",
          "height": 113
        },
        "id": "y61lM0U8jn8v",
        "outputId": "61a1d4d9-0136-432c-8d2e-7a812c06b5c8"
      },
      "outputs": [
        {
          "output_type": "execute_result",
          "data": {
            "text/plain": [
              "Empty DataFrame\n",
              "Columns: [gender, Near_Location, Partner, Promo_friends, Phone, Contract_period, Group_visits, Age, Avg_additional_charges_total, Month_to_end_contract, Lifetime, Avg_class_frequency_total, Avg_class_frequency_current_month, Churn]\n",
              "Index: []"
            ],
            "text/html": [
              "\n",
              "  <div id=\"df-962a8a0e-ccec-4272-9886-b8bbb8120d71\">\n",
              "    <div class=\"colab-df-container\">\n",
              "      <div>\n",
              "<style scoped>\n",
              "    .dataframe tbody tr th:only-of-type {\n",
              "        vertical-align: middle;\n",
              "    }\n",
              "\n",
              "    .dataframe tbody tr th {\n",
              "        vertical-align: top;\n",
              "    }\n",
              "\n",
              "    .dataframe thead th {\n",
              "        text-align: right;\n",
              "    }\n",
              "</style>\n",
              "<table border=\"1\" class=\"dataframe\">\n",
              "  <thead>\n",
              "    <tr style=\"text-align: right;\">\n",
              "      <th></th>\n",
              "      <th>gender</th>\n",
              "      <th>Near_Location</th>\n",
              "      <th>Partner</th>\n",
              "      <th>Promo_friends</th>\n",
              "      <th>Phone</th>\n",
              "      <th>Contract_period</th>\n",
              "      <th>Group_visits</th>\n",
              "      <th>Age</th>\n",
              "      <th>Avg_additional_charges_total</th>\n",
              "      <th>Month_to_end_contract</th>\n",
              "      <th>Lifetime</th>\n",
              "      <th>Avg_class_frequency_total</th>\n",
              "      <th>Avg_class_frequency_current_month</th>\n",
              "      <th>Churn</th>\n",
              "    </tr>\n",
              "  </thead>\n",
              "  <tbody>\n",
              "  </tbody>\n",
              "</table>\n",
              "</div>\n",
              "      <button class=\"colab-df-convert\" onclick=\"convertToInteractive('df-962a8a0e-ccec-4272-9886-b8bbb8120d71')\"\n",
              "              title=\"Convert this dataframe to an interactive table.\"\n",
              "              style=\"display:none;\">\n",
              "        \n",
              "  <svg xmlns=\"http://www.w3.org/2000/svg\" height=\"24px\"viewBox=\"0 0 24 24\"\n",
              "       width=\"24px\">\n",
              "    <path d=\"M0 0h24v24H0V0z\" fill=\"none\"/>\n",
              "    <path d=\"M18.56 5.44l.94 2.06.94-2.06 2.06-.94-2.06-.94-.94-2.06-.94 2.06-2.06.94zm-11 1L8.5 8.5l.94-2.06 2.06-.94-2.06-.94L8.5 2.5l-.94 2.06-2.06.94zm10 10l.94 2.06.94-2.06 2.06-.94-2.06-.94-.94-2.06-.94 2.06-2.06.94z\"/><path d=\"M17.41 7.96l-1.37-1.37c-.4-.4-.92-.59-1.43-.59-.52 0-1.04.2-1.43.59L10.3 9.45l-7.72 7.72c-.78.78-.78 2.05 0 2.83L4 21.41c.39.39.9.59 1.41.59.51 0 1.02-.2 1.41-.59l7.78-7.78 2.81-2.81c.8-.78.8-2.07 0-2.86zM5.41 20L4 18.59l7.72-7.72 1.47 1.35L5.41 20z\"/>\n",
              "  </svg>\n",
              "      </button>\n",
              "      \n",
              "  <style>\n",
              "    .colab-df-container {\n",
              "      display:flex;\n",
              "      flex-wrap:wrap;\n",
              "      gap: 12px;\n",
              "    }\n",
              "\n",
              "    .colab-df-convert {\n",
              "      background-color: #E8F0FE;\n",
              "      border: none;\n",
              "      border-radius: 50%;\n",
              "      cursor: pointer;\n",
              "      display: none;\n",
              "      fill: #1967D2;\n",
              "      height: 32px;\n",
              "      padding: 0 0 0 0;\n",
              "      width: 32px;\n",
              "    }\n",
              "\n",
              "    .colab-df-convert:hover {\n",
              "      background-color: #E2EBFA;\n",
              "      box-shadow: 0px 1px 2px rgba(60, 64, 67, 0.3), 0px 1px 3px 1px rgba(60, 64, 67, 0.15);\n",
              "      fill: #174EA6;\n",
              "    }\n",
              "\n",
              "    [theme=dark] .colab-df-convert {\n",
              "      background-color: #3B4455;\n",
              "      fill: #D2E3FC;\n",
              "    }\n",
              "\n",
              "    [theme=dark] .colab-df-convert:hover {\n",
              "      background-color: #434B5C;\n",
              "      box-shadow: 0px 1px 3px 1px rgba(0, 0, 0, 0.15);\n",
              "      filter: drop-shadow(0px 1px 2px rgba(0, 0, 0, 0.3));\n",
              "      fill: #FFFFFF;\n",
              "    }\n",
              "  </style>\n",
              "\n",
              "      <script>\n",
              "        const buttonEl =\n",
              "          document.querySelector('#df-962a8a0e-ccec-4272-9886-b8bbb8120d71 button.colab-df-convert');\n",
              "        buttonEl.style.display =\n",
              "          google.colab.kernel.accessAllowed ? 'block' : 'none';\n",
              "\n",
              "        async function convertToInteractive(key) {\n",
              "          const element = document.querySelector('#df-962a8a0e-ccec-4272-9886-b8bbb8120d71');\n",
              "          const dataTable =\n",
              "            await google.colab.kernel.invokeFunction('convertToInteractive',\n",
              "                                                     [key], {});\n",
              "          if (!dataTable) return;\n",
              "\n",
              "          const docLinkHtml = 'Like what you see? Visit the ' +\n",
              "            '<a target=\"_blank\" href=https://colab.research.google.com/notebooks/data_table.ipynb>data table notebook</a>'\n",
              "            + ' to learn more about interactive tables.';\n",
              "          element.innerHTML = '';\n",
              "          dataTable['output_type'] = 'display_data';\n",
              "          await google.colab.output.renderOutput(dataTable, element);\n",
              "          const docLink = document.createElement('div');\n",
              "          docLink.innerHTML = docLinkHtml;\n",
              "          element.appendChild(docLink);\n",
              "        }\n",
              "      </script>\n",
              "    </div>\n",
              "  </div>\n",
              "  "
            ]
          },
          "metadata": {},
          "execution_count": 4
        }
      ],
      "source": [
        "# Проверим дубликаты\n",
        "gym[gym.duplicated()]"
      ]
    },
    {
      "cell_type": "code",
      "execution_count": 5,
      "metadata": {
        "colab": {
          "base_uri": "https://localhost:8080/"
        },
        "id": "RtxOvgtXjn8w",
        "outputId": "3c8682dc-33e3-49a7-c0d7-d3b7abc944e6"
      },
      "outputs": [
        {
          "output_type": "execute_result",
          "data": {
            "text/plain": [
              "gender                               0\n",
              "Near_Location                        0\n",
              "Partner                              0\n",
              "Promo_friends                        0\n",
              "Phone                                0\n",
              "Contract_period                      0\n",
              "Group_visits                         0\n",
              "Age                                  0\n",
              "Avg_additional_charges_total         0\n",
              "Month_to_end_contract                0\n",
              "Lifetime                             0\n",
              "Avg_class_frequency_total            0\n",
              "Avg_class_frequency_current_month    0\n",
              "Churn                                0\n",
              "dtype: int64"
            ]
          },
          "metadata": {},
          "execution_count": 5
        }
      ],
      "source": [
        "# Проверим пропуски\n",
        "gym.isna().sum()"
      ]
    },
    {
      "cell_type": "markdown",
      "metadata": {
        "id": "GTlSN2osjn8w"
      },
      "source": [
        "**Выводы:**   \n",
        "1. В датасете 4000 наблюдений - записей о клиентах сети фитнес-центров, по 14 признакам - колонкам. Пропусков данных - нет. Дубликатов - нет.  \n",
        "1. В датасете содержится данные в виде булевых значений хранящиеся в колонках с типом данных int64, числовые значений с типом данных int64 и float64. Типы данных соответствуют содержанию колонок.    \n",
        "1. Переименуем названия колонок, приведя все буквы в них к строчному регистру - чтобы было однообразие."
      ]
    },
    {
      "cell_type": "code",
      "execution_count": 6,
      "metadata": {
        "id": "9NJDqb7Djn8w"
      },
      "outputs": [],
      "source": [
        "# Переименуем названия колонок\n",
        "gym.columns = gym.columns.str.lower()\n",
        "#display(gym.head(1))"
      ]
    },
    {
      "cell_type": "markdown",
      "metadata": {
        "id": "l2lRAWFNjn8x"
      },
      "source": [
        "---"
      ]
    },
    {
      "cell_type": "markdown",
      "metadata": {
        "id": "GfQklRzEjn8x"
      },
      "source": [
        "## Исследовательский анализ данных (EDA)<a id=\"eda\"></a>   \n",
        "   \n",
        "* Посмотрите на датасет: есть ли в нем отсутствующие признаки, изучите средние значения и стандартные отклонения;   \n",
        "* Посмотрите на средние значения признаков в двух группах — тех, кто ушел в отток и тех, кто остался;   \n",
        "* Постройте столбчатые гистограммы и распределения признаков для тех, кто ушёл (отток) и тех, кто остался (не попали в отток);    * Постройте матрицу корреляций и отобразите её.   "
      ]
    },
    {
      "cell_type": "markdown",
      "metadata": {
        "id": "HvZ30q5qjn8x"
      },
      "source": [
        "### Обзор данных<a id=\"review\"></a>"
      ]
    },
    {
      "cell_type": "code",
      "execution_count": 7,
      "metadata": {
        "colab": {
          "base_uri": "https://localhost:8080/",
          "height": 364
        },
        "id": "BQeg0fwqjn8x",
        "outputId": "6f980642-756a-4b42-b645-178c60ed2a89"
      },
      "outputs": [
        {
          "output_type": "execute_result",
          "data": {
            "text/plain": [
              "            gender  near_location      partner  promo_friends        phone  \\\n",
              "count  4000.000000    4000.000000  4000.000000    4000.000000  4000.000000   \n",
              "mean      0.510250       0.845250     0.486750       0.308500     0.903500   \n",
              "std       0.499957       0.361711     0.499887       0.461932     0.295313   \n",
              "min       0.000000       0.000000     0.000000       0.000000     0.000000   \n",
              "25%       0.000000       1.000000     0.000000       0.000000     1.000000   \n",
              "50%       1.000000       1.000000     0.000000       0.000000     1.000000   \n",
              "75%       1.000000       1.000000     1.000000       1.000000     1.000000   \n",
              "max       1.000000       1.000000     1.000000       1.000000     1.000000   \n",
              "\n",
              "       contract_period  group_visits          age  \\\n",
              "count      4000.000000   4000.000000  4000.000000   \n",
              "mean          4.681250      0.412250    29.184250   \n",
              "std           4.549706      0.492301     3.258367   \n",
              "min           1.000000      0.000000    18.000000   \n",
              "25%           1.000000      0.000000    27.000000   \n",
              "50%           1.000000      0.000000    29.000000   \n",
              "75%           6.000000      1.000000    31.000000   \n",
              "max          12.000000      1.000000    41.000000   \n",
              "\n",
              "       avg_additional_charges_total  month_to_end_contract     lifetime  \\\n",
              "count                   4000.000000            4000.000000  4000.000000   \n",
              "mean                     146.943728               4.322750     3.724750   \n",
              "std                       96.355602               4.191297     3.749267   \n",
              "min                        0.148205               1.000000     0.000000   \n",
              "25%                       68.868830               1.000000     1.000000   \n",
              "50%                      136.220159               1.000000     3.000000   \n",
              "75%                      210.949625               6.000000     5.000000   \n",
              "max                      552.590740              12.000000    31.000000   \n",
              "\n",
              "       avg_class_frequency_total  avg_class_frequency_current_month  \\\n",
              "count                4000.000000                        4000.000000   \n",
              "mean                    1.879020                           1.767052   \n",
              "std                     0.972245                           1.052906   \n",
              "min                     0.000000                           0.000000   \n",
              "25%                     1.180875                           0.963003   \n",
              "50%                     1.832768                           1.719574   \n",
              "75%                     2.536078                           2.510336   \n",
              "max                     6.023668                           6.146783   \n",
              "\n",
              "             churn  \n",
              "count  4000.000000  \n",
              "mean      0.265250  \n",
              "std       0.441521  \n",
              "min       0.000000  \n",
              "25%       0.000000  \n",
              "50%       0.000000  \n",
              "75%       1.000000  \n",
              "max       1.000000  "
            ],
            "text/html": [
              "\n",
              "  <div id=\"df-772692d0-5ffa-4cfb-adbe-e3e75c449c0e\">\n",
              "    <div class=\"colab-df-container\">\n",
              "      <div>\n",
              "<style scoped>\n",
              "    .dataframe tbody tr th:only-of-type {\n",
              "        vertical-align: middle;\n",
              "    }\n",
              "\n",
              "    .dataframe tbody tr th {\n",
              "        vertical-align: top;\n",
              "    }\n",
              "\n",
              "    .dataframe thead th {\n",
              "        text-align: right;\n",
              "    }\n",
              "</style>\n",
              "<table border=\"1\" class=\"dataframe\">\n",
              "  <thead>\n",
              "    <tr style=\"text-align: right;\">\n",
              "      <th></th>\n",
              "      <th>gender</th>\n",
              "      <th>near_location</th>\n",
              "      <th>partner</th>\n",
              "      <th>promo_friends</th>\n",
              "      <th>phone</th>\n",
              "      <th>contract_period</th>\n",
              "      <th>group_visits</th>\n",
              "      <th>age</th>\n",
              "      <th>avg_additional_charges_total</th>\n",
              "      <th>month_to_end_contract</th>\n",
              "      <th>lifetime</th>\n",
              "      <th>avg_class_frequency_total</th>\n",
              "      <th>avg_class_frequency_current_month</th>\n",
              "      <th>churn</th>\n",
              "    </tr>\n",
              "  </thead>\n",
              "  <tbody>\n",
              "    <tr>\n",
              "      <th>count</th>\n",
              "      <td>4000.000000</td>\n",
              "      <td>4000.000000</td>\n",
              "      <td>4000.000000</td>\n",
              "      <td>4000.000000</td>\n",
              "      <td>4000.000000</td>\n",
              "      <td>4000.000000</td>\n",
              "      <td>4000.000000</td>\n",
              "      <td>4000.000000</td>\n",
              "      <td>4000.000000</td>\n",
              "      <td>4000.000000</td>\n",
              "      <td>4000.000000</td>\n",
              "      <td>4000.000000</td>\n",
              "      <td>4000.000000</td>\n",
              "      <td>4000.000000</td>\n",
              "    </tr>\n",
              "    <tr>\n",
              "      <th>mean</th>\n",
              "      <td>0.510250</td>\n",
              "      <td>0.845250</td>\n",
              "      <td>0.486750</td>\n",
              "      <td>0.308500</td>\n",
              "      <td>0.903500</td>\n",
              "      <td>4.681250</td>\n",
              "      <td>0.412250</td>\n",
              "      <td>29.184250</td>\n",
              "      <td>146.943728</td>\n",
              "      <td>4.322750</td>\n",
              "      <td>3.724750</td>\n",
              "      <td>1.879020</td>\n",
              "      <td>1.767052</td>\n",
              "      <td>0.265250</td>\n",
              "    </tr>\n",
              "    <tr>\n",
              "      <th>std</th>\n",
              "      <td>0.499957</td>\n",
              "      <td>0.361711</td>\n",
              "      <td>0.499887</td>\n",
              "      <td>0.461932</td>\n",
              "      <td>0.295313</td>\n",
              "      <td>4.549706</td>\n",
              "      <td>0.492301</td>\n",
              "      <td>3.258367</td>\n",
              "      <td>96.355602</td>\n",
              "      <td>4.191297</td>\n",
              "      <td>3.749267</td>\n",
              "      <td>0.972245</td>\n",
              "      <td>1.052906</td>\n",
              "      <td>0.441521</td>\n",
              "    </tr>\n",
              "    <tr>\n",
              "      <th>min</th>\n",
              "      <td>0.000000</td>\n",
              "      <td>0.000000</td>\n",
              "      <td>0.000000</td>\n",
              "      <td>0.000000</td>\n",
              "      <td>0.000000</td>\n",
              "      <td>1.000000</td>\n",
              "      <td>0.000000</td>\n",
              "      <td>18.000000</td>\n",
              "      <td>0.148205</td>\n",
              "      <td>1.000000</td>\n",
              "      <td>0.000000</td>\n",
              "      <td>0.000000</td>\n",
              "      <td>0.000000</td>\n",
              "      <td>0.000000</td>\n",
              "    </tr>\n",
              "    <tr>\n",
              "      <th>25%</th>\n",
              "      <td>0.000000</td>\n",
              "      <td>1.000000</td>\n",
              "      <td>0.000000</td>\n",
              "      <td>0.000000</td>\n",
              "      <td>1.000000</td>\n",
              "      <td>1.000000</td>\n",
              "      <td>0.000000</td>\n",
              "      <td>27.000000</td>\n",
              "      <td>68.868830</td>\n",
              "      <td>1.000000</td>\n",
              "      <td>1.000000</td>\n",
              "      <td>1.180875</td>\n",
              "      <td>0.963003</td>\n",
              "      <td>0.000000</td>\n",
              "    </tr>\n",
              "    <tr>\n",
              "      <th>50%</th>\n",
              "      <td>1.000000</td>\n",
              "      <td>1.000000</td>\n",
              "      <td>0.000000</td>\n",
              "      <td>0.000000</td>\n",
              "      <td>1.000000</td>\n",
              "      <td>1.000000</td>\n",
              "      <td>0.000000</td>\n",
              "      <td>29.000000</td>\n",
              "      <td>136.220159</td>\n",
              "      <td>1.000000</td>\n",
              "      <td>3.000000</td>\n",
              "      <td>1.832768</td>\n",
              "      <td>1.719574</td>\n",
              "      <td>0.000000</td>\n",
              "    </tr>\n",
              "    <tr>\n",
              "      <th>75%</th>\n",
              "      <td>1.000000</td>\n",
              "      <td>1.000000</td>\n",
              "      <td>1.000000</td>\n",
              "      <td>1.000000</td>\n",
              "      <td>1.000000</td>\n",
              "      <td>6.000000</td>\n",
              "      <td>1.000000</td>\n",
              "      <td>31.000000</td>\n",
              "      <td>210.949625</td>\n",
              "      <td>6.000000</td>\n",
              "      <td>5.000000</td>\n",
              "      <td>2.536078</td>\n",
              "      <td>2.510336</td>\n",
              "      <td>1.000000</td>\n",
              "    </tr>\n",
              "    <tr>\n",
              "      <th>max</th>\n",
              "      <td>1.000000</td>\n",
              "      <td>1.000000</td>\n",
              "      <td>1.000000</td>\n",
              "      <td>1.000000</td>\n",
              "      <td>1.000000</td>\n",
              "      <td>12.000000</td>\n",
              "      <td>1.000000</td>\n",
              "      <td>41.000000</td>\n",
              "      <td>552.590740</td>\n",
              "      <td>12.000000</td>\n",
              "      <td>31.000000</td>\n",
              "      <td>6.023668</td>\n",
              "      <td>6.146783</td>\n",
              "      <td>1.000000</td>\n",
              "    </tr>\n",
              "  </tbody>\n",
              "</table>\n",
              "</div>\n",
              "      <button class=\"colab-df-convert\" onclick=\"convertToInteractive('df-772692d0-5ffa-4cfb-adbe-e3e75c449c0e')\"\n",
              "              title=\"Convert this dataframe to an interactive table.\"\n",
              "              style=\"display:none;\">\n",
              "        \n",
              "  <svg xmlns=\"http://www.w3.org/2000/svg\" height=\"24px\"viewBox=\"0 0 24 24\"\n",
              "       width=\"24px\">\n",
              "    <path d=\"M0 0h24v24H0V0z\" fill=\"none\"/>\n",
              "    <path d=\"M18.56 5.44l.94 2.06.94-2.06 2.06-.94-2.06-.94-.94-2.06-.94 2.06-2.06.94zm-11 1L8.5 8.5l.94-2.06 2.06-.94-2.06-.94L8.5 2.5l-.94 2.06-2.06.94zm10 10l.94 2.06.94-2.06 2.06-.94-2.06-.94-.94-2.06-.94 2.06-2.06.94z\"/><path d=\"M17.41 7.96l-1.37-1.37c-.4-.4-.92-.59-1.43-.59-.52 0-1.04.2-1.43.59L10.3 9.45l-7.72 7.72c-.78.78-.78 2.05 0 2.83L4 21.41c.39.39.9.59 1.41.59.51 0 1.02-.2 1.41-.59l7.78-7.78 2.81-2.81c.8-.78.8-2.07 0-2.86zM5.41 20L4 18.59l7.72-7.72 1.47 1.35L5.41 20z\"/>\n",
              "  </svg>\n",
              "      </button>\n",
              "      \n",
              "  <style>\n",
              "    .colab-df-container {\n",
              "      display:flex;\n",
              "      flex-wrap:wrap;\n",
              "      gap: 12px;\n",
              "    }\n",
              "\n",
              "    .colab-df-convert {\n",
              "      background-color: #E8F0FE;\n",
              "      border: none;\n",
              "      border-radius: 50%;\n",
              "      cursor: pointer;\n",
              "      display: none;\n",
              "      fill: #1967D2;\n",
              "      height: 32px;\n",
              "      padding: 0 0 0 0;\n",
              "      width: 32px;\n",
              "    }\n",
              "\n",
              "    .colab-df-convert:hover {\n",
              "      background-color: #E2EBFA;\n",
              "      box-shadow: 0px 1px 2px rgba(60, 64, 67, 0.3), 0px 1px 3px 1px rgba(60, 64, 67, 0.15);\n",
              "      fill: #174EA6;\n",
              "    }\n",
              "\n",
              "    [theme=dark] .colab-df-convert {\n",
              "      background-color: #3B4455;\n",
              "      fill: #D2E3FC;\n",
              "    }\n",
              "\n",
              "    [theme=dark] .colab-df-convert:hover {\n",
              "      background-color: #434B5C;\n",
              "      box-shadow: 0px 1px 3px 1px rgba(0, 0, 0, 0.15);\n",
              "      filter: drop-shadow(0px 1px 2px rgba(0, 0, 0, 0.3));\n",
              "      fill: #FFFFFF;\n",
              "    }\n",
              "  </style>\n",
              "\n",
              "      <script>\n",
              "        const buttonEl =\n",
              "          document.querySelector('#df-772692d0-5ffa-4cfb-adbe-e3e75c449c0e button.colab-df-convert');\n",
              "        buttonEl.style.display =\n",
              "          google.colab.kernel.accessAllowed ? 'block' : 'none';\n",
              "\n",
              "        async function convertToInteractive(key) {\n",
              "          const element = document.querySelector('#df-772692d0-5ffa-4cfb-adbe-e3e75c449c0e');\n",
              "          const dataTable =\n",
              "            await google.colab.kernel.invokeFunction('convertToInteractive',\n",
              "                                                     [key], {});\n",
              "          if (!dataTable) return;\n",
              "\n",
              "          const docLinkHtml = 'Like what you see? Visit the ' +\n",
              "            '<a target=\"_blank\" href=https://colab.research.google.com/notebooks/data_table.ipynb>data table notebook</a>'\n",
              "            + ' to learn more about interactive tables.';\n",
              "          element.innerHTML = '';\n",
              "          dataTable['output_type'] = 'display_data';\n",
              "          await google.colab.output.renderOutput(dataTable, element);\n",
              "          const docLink = document.createElement('div');\n",
              "          docLink.innerHTML = docLinkHtml;\n",
              "          element.appendChild(docLink);\n",
              "        }\n",
              "      </script>\n",
              "    </div>\n",
              "  </div>\n",
              "  "
            ]
          },
          "metadata": {},
          "execution_count": 7
        }
      ],
      "source": [
        "# Посмотрим на описание данных\n",
        "gym.describe()"
      ]
    },
    {
      "cell_type": "markdown",
      "metadata": {
        "id": "_-HClE6njn8x"
      },
      "source": [
        "Смотреть все колонки сразу не удобно - посмотhим описательную статистику по каждой колонке в отдельности."
      ]
    },
    {
      "cell_type": "code",
      "execution_count": 8,
      "metadata": {
        "colab": {
          "base_uri": "https://localhost:8080/"
        },
        "id": "FqS5rAHxjn8y",
        "outputId": "49243479-3dd9-4373-ccde-15a52f352d0a"
      },
      "outputs": [
        {
          "output_type": "execute_result",
          "data": {
            "text/plain": [
              "count    4000.000000\n",
              "mean        0.510250\n",
              "std         0.499957\n",
              "min         0.000000\n",
              "25%         0.000000\n",
              "50%         1.000000\n",
              "75%         1.000000\n",
              "max         1.000000\n",
              "Name: gender, dtype: float64"
            ]
          },
          "metadata": {},
          "execution_count": 8
        }
      ],
      "source": [
        "gym['gender'].describe() # пол"
      ]
    },
    {
      "cell_type": "markdown",
      "metadata": {
        "id": "6A-Ehrl1jn8y"
      },
      "source": [
        "Распределние по полу 49/51, стандартное отклонение - 0.5"
      ]
    },
    {
      "cell_type": "code",
      "execution_count": 9,
      "metadata": {
        "colab": {
          "base_uri": "https://localhost:8080/"
        },
        "id": "UQc43cF2jn8y",
        "outputId": "008d0fd8-5147-4d26-9042-95e5a2359faa"
      },
      "outputs": [
        {
          "output_type": "execute_result",
          "data": {
            "text/plain": [
              "count    4000.000000\n",
              "mean        0.845250\n",
              "std         0.361711\n",
              "min         0.000000\n",
              "25%         1.000000\n",
              "50%         1.000000\n",
              "75%         1.000000\n",
              "max         1.000000\n",
              "Name: near_location, dtype: float64"
            ]
          },
          "metadata": {},
          "execution_count": 9
        }
      ],
      "source": [
        "gym['near_location'].describe() # проживание или работа в районе, где находится фитнес-центр - булево значение"
      ]
    },
    {
      "cell_type": "markdown",
      "metadata": {
        "id": "Mz4r_WINjn8y"
      },
      "source": [
        "84% клиентов живут или работают поблизости от фитнес-центров сети, стандартное отклонение - 0.36 - самое небольшое среди признаков."
      ]
    },
    {
      "cell_type": "code",
      "execution_count": 10,
      "metadata": {
        "colab": {
          "base_uri": "https://localhost:8080/"
        },
        "id": "rKZ_6khsjn8y",
        "outputId": "7b1fbe9d-ab69-4cf8-e1bc-708232e67ca7"
      },
      "outputs": [
        {
          "output_type": "execute_result",
          "data": {
            "text/plain": [
              "count    4000.000000\n",
              "mean        0.486750\n",
              "std         0.499887\n",
              "min         0.000000\n",
              "25%         0.000000\n",
              "50%         0.000000\n",
              "75%         1.000000\n",
              "max         1.000000\n",
              "Name: partner, dtype: float64"
            ]
          },
          "metadata": {},
          "execution_count": 10
        }
      ],
      "source": [
        "gym['partner'].describe() # сотрудник компании-партнёра клуба - булево значение"
      ]
    },
    {
      "cell_type": "markdown",
      "metadata": {
        "id": "kMti4hZ_jn8y"
      },
      "source": [
        "Почти 49% клиентов - сотрудники компаний-партнёров (что бъётся с предыдущим признаком), стандатрное отклонение - 0.5"
      ]
    },
    {
      "cell_type": "code",
      "execution_count": 11,
      "metadata": {
        "colab": {
          "base_uri": "https://localhost:8080/"
        },
        "id": "YBn5yxx6jn8y",
        "outputId": "d2c40709-9795-4b63-ee8e-d4ec0eaf064a"
      },
      "outputs": [
        {
          "output_type": "execute_result",
          "data": {
            "text/plain": [
              "count    4000.000000\n",
              "mean        0.308500\n",
              "std         0.461932\n",
              "min         0.000000\n",
              "25%         0.000000\n",
              "50%         0.000000\n",
              "75%         1.000000\n",
              "max         1.000000\n",
              "Name: promo_friends, dtype: float64"
            ]
          },
          "metadata": {},
          "execution_count": 11
        }
      ],
      "source": [
        "gym['promo_friends'].describe() # факт первоначальной записи в рамках акции «приведи друга» - булево значение"
      ]
    },
    {
      "cell_type": "markdown",
      "metadata": {
        "id": "f_jyLjTijn8z"
      },
      "source": [
        "30% клиентов пришли через реферальную программу - \"приведи друга\", стандартное отклонение - 0.46"
      ]
    },
    {
      "cell_type": "code",
      "execution_count": 12,
      "metadata": {
        "colab": {
          "base_uri": "https://localhost:8080/"
        },
        "id": "bbff9nXCjn8z",
        "outputId": "b9d24388-7902-4fca-a28b-0bce6542a683"
      },
      "outputs": [
        {
          "output_type": "execute_result",
          "data": {
            "text/plain": [
              "count    4000.000000\n",
              "mean        0.903500\n",
              "std         0.295313\n",
              "min         0.000000\n",
              "25%         1.000000\n",
              "50%         1.000000\n",
              "75%         1.000000\n",
              "max         1.000000\n",
              "Name: phone, dtype: float64"
            ]
          },
          "metadata": {},
          "execution_count": 12
        }
      ],
      "source": [
        "gym['phone'].describe() # наличие контактного телефона - булево значение"
      ]
    },
    {
      "cell_type": "markdown",
      "metadata": {
        "id": "FdgFleAhjn8z"
      },
      "source": [
        "90% клиентов указали в анкете свой телефон, стандартное отклонение - 0.3"
      ]
    },
    {
      "cell_type": "code",
      "execution_count": 13,
      "metadata": {
        "colab": {
          "base_uri": "https://localhost:8080/"
        },
        "id": "0i2sPUesjn8z",
        "outputId": "78645da6-f656-4dfa-839f-d959f86ddcf6"
      },
      "outputs": [
        {
          "output_type": "execute_result",
          "data": {
            "text/plain": [
              "count    4000.000000\n",
              "mean        4.681250\n",
              "std         4.549706\n",
              "min         1.000000\n",
              "25%         1.000000\n",
              "50%         1.000000\n",
              "75%         6.000000\n",
              "max        12.000000\n",
              "Name: contract_period, dtype: float64"
            ]
          },
          "metadata": {},
          "execution_count": 13
        }
      ],
      "source": [
        "gym['contract_period'].describe() #  длительность текущего действующего абонемента (месяц, 6 месяцев, год)"
      ]
    },
    {
      "cell_type": "markdown",
      "metadata": {
        "id": "tKB0K1vwjn80"
      },
      "source": [
        "Средняя длительность абонемента - 4-5 месяцев, медианное - 1 месяц, максимально 1 год, стандартное отклонение - более 4 месяцев "
      ]
    },
    {
      "cell_type": "code",
      "execution_count": 14,
      "metadata": {
        "colab": {
          "base_uri": "https://localhost:8080/"
        },
        "id": "On-IJcqPjn80",
        "outputId": "d48d9035-7132-4421-bb9e-82eccdf2d94a"
      },
      "outputs": [
        {
          "output_type": "execute_result",
          "data": {
            "text/plain": [
              "count    4000.000000\n",
              "mean        0.412250\n",
              "std         0.492301\n",
              "min         0.000000\n",
              "25%         0.000000\n",
              "50%         0.000000\n",
              "75%         1.000000\n",
              "max         1.000000\n",
              "Name: group_visits, dtype: float64"
            ]
          },
          "metadata": {},
          "execution_count": 14
        }
      ],
      "source": [
        "gym['group_visits'].describe() # факт посещения групповых занятий - булево значение"
      ]
    },
    {
      "cell_type": "markdown",
      "metadata": {
        "id": "tC3Af5Pqjn80"
      },
      "source": [
        "41% клиентов посещали групповые занятия, стандартное отклонение - 0.5"
      ]
    },
    {
      "cell_type": "code",
      "execution_count": 15,
      "metadata": {
        "colab": {
          "base_uri": "https://localhost:8080/"
        },
        "id": "h2-xVmeajn80",
        "outputId": "8dc0dc04-5c65-4e76-a9df-2ebca3719941"
      },
      "outputs": [
        {
          "output_type": "execute_result",
          "data": {
            "text/plain": [
              "count    4000.000000\n",
              "mean       29.184250\n",
              "std         3.258367\n",
              "min        18.000000\n",
              "25%        27.000000\n",
              "50%        29.000000\n",
              "75%        31.000000\n",
              "max        41.000000\n",
              "Name: age, dtype: float64"
            ]
          },
          "metadata": {},
          "execution_count": 15
        }
      ],
      "source": [
        "gym['age'].describe() # возраст (лет)"
      ]
    },
    {
      "cell_type": "markdown",
      "metadata": {
        "id": "VCxHAz43jn80"
      },
      "source": [
        "Средний/ медианный возраст клиента - 29 лет, максимальный - 41 год, минимальный - 18 лет. Стандартное отклонение - чуть более 3-х лет"
      ]
    },
    {
      "cell_type": "code",
      "execution_count": 16,
      "metadata": {
        "colab": {
          "base_uri": "https://localhost:8080/"
        },
        "id": "xuVlrBIzjn80",
        "outputId": "0dac9fc5-e50d-4098-8922-36e44b50b4ae"
      },
      "outputs": [
        {
          "output_type": "execute_result",
          "data": {
            "text/plain": [
              "count    4000.000000\n",
              "mean      146.943728\n",
              "std        96.355602\n",
              "min         0.148205\n",
              "25%        68.868830\n",
              "50%       136.220159\n",
              "75%       210.949625\n",
              "max       552.590740\n",
              "Name: avg_additional_charges_total, dtype: float64"
            ]
          },
          "metadata": {},
          "execution_count": 16
        }
      ],
      "source": [
        "gym['avg_additional_charges_total'].describe() #  суммарная выручка от других услуг фитнес-центра:\n",
        "                                               #кафе, спорттовары, косметический и массажный салон"
      ]
    },
    {
      "cell_type": "markdown",
      "metadata": {
        "id": "WiHV6eJSjn80"
      },
      "source": [
        "Средняя выручка допуслуг на одного клиента - 146 тыс., медианная - 136 тыс, максимальная - 552 тыс., минимальная - 68 тыс., стандартное отклонение - 96,3 - это самое большое отклонение среди всех признаков."
      ]
    },
    {
      "cell_type": "code",
      "execution_count": 17,
      "metadata": {
        "colab": {
          "base_uri": "https://localhost:8080/"
        },
        "id": "1nBlHok7jn81",
        "outputId": "1d782568-d9be-42c1-c35e-ce0f65c851e3"
      },
      "outputs": [
        {
          "output_type": "execute_result",
          "data": {
            "text/plain": [
              "count    4000.000000\n",
              "mean        4.322750\n",
              "std         4.191297\n",
              "min         1.000000\n",
              "25%         1.000000\n",
              "50%         1.000000\n",
              "75%         6.000000\n",
              "max        12.000000\n",
              "Name: month_to_end_contract, dtype: float64"
            ]
          },
          "metadata": {},
          "execution_count": 17
        }
      ],
      "source": [
        "gym['month_to_end_contract'].describe() #срок до окончания текущего действующего абонемента (в месяцах)"
      ]
    },
    {
      "cell_type": "markdown",
      "metadata": {
        "id": "orXCPtuMjn81"
      },
      "source": [
        "Средний срок до окончания абонемента на момент опроса - чуть более 4 месяцев, минимальны и он же медианный - 1 месяц (в основном, видимо, опосили тех, у кого заканчивается абонемент), максимальный год - т.е. это новый клиент/ клиент недавно продливший абонемент на год., Стандартное отклонение - более 4 месяцев. "
      ]
    },
    {
      "cell_type": "code",
      "execution_count": 18,
      "metadata": {
        "colab": {
          "base_uri": "https://localhost:8080/"
        },
        "id": "XuoMcDJPjn81",
        "outputId": "5ec53159-8b3f-4820-b983-e1afd78abe14"
      },
      "outputs": [
        {
          "output_type": "execute_result",
          "data": {
            "text/plain": [
              "count    4000.000000\n",
              "mean        3.724750\n",
              "std         3.749267\n",
              "min         0.000000\n",
              "25%         1.000000\n",
              "50%         3.000000\n",
              "75%         5.000000\n",
              "max        31.000000\n",
              "Name: lifetime, dtype: float64"
            ]
          },
          "metadata": {},
          "execution_count": 18
        }
      ],
      "source": [
        "gym['lifetime'].describe() # время с момента первого обращения в фитнес-центр (в месяцах)"
      ]
    },
    {
      "cell_type": "markdown",
      "metadata": {
        "id": "Y7PWti9Xjn81"
      },
      "source": [
        "Среднее время с момента первого посещения почти 4 месяца, медианное - 3 месяца, минимальное - ноль - новые клиенты, максимальное - 31 месяц - это старый клиент/ небольшая (скорее всего) группа клиентов-старожилов (лояльных-клиентов, возможно клиентов от компаний-партнёров) - они же, скорее всего, и сдалали максимальную выручку на допуслугах (далее мы **проверим эту гипотезу**). Стандартное отклонение - почти 4 месяца."
      ]
    },
    {
      "cell_type": "code",
      "execution_count": 19,
      "metadata": {
        "colab": {
          "base_uri": "https://localhost:8080/"
        },
        "id": "NNVcE8Ezjn81",
        "outputId": "70de9cfc-343e-4c39-c41d-ad0246424991"
      },
      "outputs": [
        {
          "output_type": "execute_result",
          "data": {
            "text/plain": [
              "count    4000.000000\n",
              "mean        1.879020\n",
              "std         0.972245\n",
              "min         0.000000\n",
              "25%         1.180875\n",
              "50%         1.832768\n",
              "75%         2.536078\n",
              "max         6.023668\n",
              "Name: avg_class_frequency_total, dtype: float64"
            ]
          },
          "metadata": {},
          "execution_count": 19
        }
      ],
      "source": [
        "gym['avg_class_frequency_total'].describe() # средняя частота посещений в неделю за все время с начала действия абонемента"
      ]
    },
    {
      "cell_type": "markdown",
      "metadata": {
        "id": "exml8Hb-jn81"
      },
      "source": [
        "Средняя частота посещений почти 2 раза в неделю, медианная - почти 2 раза в неделю. Минимальная - ноль - это опять же могут быть новые клиенты, максимальная - 6 раз - эти кленты или клиент могут также делать большую выручку по допуслугам (далее мы **проверим эту гипотезу**). Стандартное отклонение - 0.97 раза в неделю."
      ]
    },
    {
      "cell_type": "code",
      "execution_count": 20,
      "metadata": {
        "colab": {
          "base_uri": "https://localhost:8080/"
        },
        "id": "ofgEGqyXjn81",
        "outputId": "71e6a040-52ca-4a0b-d7c4-a0855996688f"
      },
      "outputs": [
        {
          "output_type": "execute_result",
          "data": {
            "text/plain": [
              "count    4000.000000\n",
              "mean        1.767052\n",
              "std         1.052906\n",
              "min         0.000000\n",
              "25%         0.963003\n",
              "50%         1.719574\n",
              "75%         2.510336\n",
              "max         6.146783\n",
              "Name: avg_class_frequency_current_month, dtype: float64"
            ]
          },
          "metadata": {},
          "execution_count": 20
        }
      ],
      "source": [
        "gym['avg_class_frequency_current_month'].describe() # средняя частота посещений в неделю за предыдущий месяц"
      ]
    },
    {
      "cell_type": "markdown",
      "metadata": {
        "id": "T8fZ2kk_jn82"
      },
      "source": [
        "В предыдущем месяце среднее число посещений в неделю было менее 2 раз, медианное также менее 2 раз. В остальном схоже с показателями текущего месяца. Но, стандартное отклонение - болеее 1 раза в неделю."
      ]
    },
    {
      "cell_type": "code",
      "execution_count": 21,
      "metadata": {
        "colab": {
          "base_uri": "https://localhost:8080/"
        },
        "id": "osNz5_1Ijn82",
        "outputId": "6c37e3ac-3dc2-4eac-b425-4b814686a990"
      },
      "outputs": [
        {
          "output_type": "execute_result",
          "data": {
            "text/plain": [
              "count    4000.000000\n",
              "mean        0.265250\n",
              "std         0.441521\n",
              "min         0.000000\n",
              "25%         0.000000\n",
              "50%         0.000000\n",
              "75%         1.000000\n",
              "max         1.000000\n",
              "Name: churn, dtype: float64"
            ]
          },
          "metadata": {},
          "execution_count": 21
        }
      ],
      "source": [
        "gym['churn'].describe() # факт оттока в текущем месяце - булево значение"
      ]
    },
    {
      "cell_type": "markdown",
      "metadata": {
        "id": "epcZa1E5jn82"
      },
      "source": [
        "В текущем месяце отток клиентов составил 26%!!! , стандартное отклонение - 0.4"
      ]
    },
    {
      "cell_type": "markdown",
      "metadata": {
        "id": "Fb44s9J-jn82"
      },
      "source": [
        "**Выводы:**   \n",
        "1. В датасете нет отсутствующих признаков;   \n",
        "1. По всем признакам мы посмотрели средние значения и стандартное отклонение;   \n",
        "1. Наибольшее стандартное отклонение у признака - 'avg_additional_charges_total' (суммарная выручка от других услуг фитнес-центра) - 96,3 тыс. "
      ]
    },
    {
      "cell_type": "markdown",
      "metadata": {
        "id": "cOCLoXVtjn82"
      },
      "source": [
        "**NB!** Проверим свои гипотезы по поводу итоговых сумм допуслуг - что они большу у клиента/клиентов которые долше с финтес-клубом и / или чаще посещают тренировки."
      ]
    },
    {
      "cell_type": "code",
      "execution_count": 22,
      "metadata": {
        "colab": {
          "base_uri": "https://localhost:8080/",
          "height": 145
        },
        "id": "3cjx8gQ0jn82",
        "outputId": "02364e8b-5873-47fe-c036-7ffb5a10302e"
      },
      "outputs": [
        {
          "output_type": "display_data",
          "data": {
            "text/plain": [
              "     gender  near_location  partner  promo_friends  phone  contract_period  \\\n",
              "897       1              1        0              0      1               12   \n",
              "\n",
              "     group_visits  age  avg_additional_charges_total  month_to_end_contract  \\\n",
              "897             0   31                    116.054082                   10.0   \n",
              "\n",
              "     lifetime  avg_class_frequency_total  avg_class_frequency_current_month  \\\n",
              "897        31                   2.378748                           2.307312   \n",
              "\n",
              "     churn  \n",
              "897      0  "
            ],
            "text/html": [
              "\n",
              "  <div id=\"df-52e36e3e-3831-49ef-a003-ad63b6e72036\">\n",
              "    <div class=\"colab-df-container\">\n",
              "      <div>\n",
              "<style scoped>\n",
              "    .dataframe tbody tr th:only-of-type {\n",
              "        vertical-align: middle;\n",
              "    }\n",
              "\n",
              "    .dataframe tbody tr th {\n",
              "        vertical-align: top;\n",
              "    }\n",
              "\n",
              "    .dataframe thead th {\n",
              "        text-align: right;\n",
              "    }\n",
              "</style>\n",
              "<table border=\"1\" class=\"dataframe\">\n",
              "  <thead>\n",
              "    <tr style=\"text-align: right;\">\n",
              "      <th></th>\n",
              "      <th>gender</th>\n",
              "      <th>near_location</th>\n",
              "      <th>partner</th>\n",
              "      <th>promo_friends</th>\n",
              "      <th>phone</th>\n",
              "      <th>contract_period</th>\n",
              "      <th>group_visits</th>\n",
              "      <th>age</th>\n",
              "      <th>avg_additional_charges_total</th>\n",
              "      <th>month_to_end_contract</th>\n",
              "      <th>lifetime</th>\n",
              "      <th>avg_class_frequency_total</th>\n",
              "      <th>avg_class_frequency_current_month</th>\n",
              "      <th>churn</th>\n",
              "    </tr>\n",
              "  </thead>\n",
              "  <tbody>\n",
              "    <tr>\n",
              "      <th>897</th>\n",
              "      <td>1</td>\n",
              "      <td>1</td>\n",
              "      <td>0</td>\n",
              "      <td>0</td>\n",
              "      <td>1</td>\n",
              "      <td>12</td>\n",
              "      <td>0</td>\n",
              "      <td>31</td>\n",
              "      <td>116.054082</td>\n",
              "      <td>10.0</td>\n",
              "      <td>31</td>\n",
              "      <td>2.378748</td>\n",
              "      <td>2.307312</td>\n",
              "      <td>0</td>\n",
              "    </tr>\n",
              "  </tbody>\n",
              "</table>\n",
              "</div>\n",
              "      <button class=\"colab-df-convert\" onclick=\"convertToInteractive('df-52e36e3e-3831-49ef-a003-ad63b6e72036')\"\n",
              "              title=\"Convert this dataframe to an interactive table.\"\n",
              "              style=\"display:none;\">\n",
              "        \n",
              "  <svg xmlns=\"http://www.w3.org/2000/svg\" height=\"24px\"viewBox=\"0 0 24 24\"\n",
              "       width=\"24px\">\n",
              "    <path d=\"M0 0h24v24H0V0z\" fill=\"none\"/>\n",
              "    <path d=\"M18.56 5.44l.94 2.06.94-2.06 2.06-.94-2.06-.94-.94-2.06-.94 2.06-2.06.94zm-11 1L8.5 8.5l.94-2.06 2.06-.94-2.06-.94L8.5 2.5l-.94 2.06-2.06.94zm10 10l.94 2.06.94-2.06 2.06-.94-2.06-.94-.94-2.06-.94 2.06-2.06.94z\"/><path d=\"M17.41 7.96l-1.37-1.37c-.4-.4-.92-.59-1.43-.59-.52 0-1.04.2-1.43.59L10.3 9.45l-7.72 7.72c-.78.78-.78 2.05 0 2.83L4 21.41c.39.39.9.59 1.41.59.51 0 1.02-.2 1.41-.59l7.78-7.78 2.81-2.81c.8-.78.8-2.07 0-2.86zM5.41 20L4 18.59l7.72-7.72 1.47 1.35L5.41 20z\"/>\n",
              "  </svg>\n",
              "      </button>\n",
              "      \n",
              "  <style>\n",
              "    .colab-df-container {\n",
              "      display:flex;\n",
              "      flex-wrap:wrap;\n",
              "      gap: 12px;\n",
              "    }\n",
              "\n",
              "    .colab-df-convert {\n",
              "      background-color: #E8F0FE;\n",
              "      border: none;\n",
              "      border-radius: 50%;\n",
              "      cursor: pointer;\n",
              "      display: none;\n",
              "      fill: #1967D2;\n",
              "      height: 32px;\n",
              "      padding: 0 0 0 0;\n",
              "      width: 32px;\n",
              "    }\n",
              "\n",
              "    .colab-df-convert:hover {\n",
              "      background-color: #E2EBFA;\n",
              "      box-shadow: 0px 1px 2px rgba(60, 64, 67, 0.3), 0px 1px 3px 1px rgba(60, 64, 67, 0.15);\n",
              "      fill: #174EA6;\n",
              "    }\n",
              "\n",
              "    [theme=dark] .colab-df-convert {\n",
              "      background-color: #3B4455;\n",
              "      fill: #D2E3FC;\n",
              "    }\n",
              "\n",
              "    [theme=dark] .colab-df-convert:hover {\n",
              "      background-color: #434B5C;\n",
              "      box-shadow: 0px 1px 3px 1px rgba(0, 0, 0, 0.15);\n",
              "      filter: drop-shadow(0px 1px 2px rgba(0, 0, 0, 0.3));\n",
              "      fill: #FFFFFF;\n",
              "    }\n",
              "  </style>\n",
              "\n",
              "      <script>\n",
              "        const buttonEl =\n",
              "          document.querySelector('#df-52e36e3e-3831-49ef-a003-ad63b6e72036 button.colab-df-convert');\n",
              "        buttonEl.style.display =\n",
              "          google.colab.kernel.accessAllowed ? 'block' : 'none';\n",
              "\n",
              "        async function convertToInteractive(key) {\n",
              "          const element = document.querySelector('#df-52e36e3e-3831-49ef-a003-ad63b6e72036');\n",
              "          const dataTable =\n",
              "            await google.colab.kernel.invokeFunction('convertToInteractive',\n",
              "                                                     [key], {});\n",
              "          if (!dataTable) return;\n",
              "\n",
              "          const docLinkHtml = 'Like what you see? Visit the ' +\n",
              "            '<a target=\"_blank\" href=https://colab.research.google.com/notebooks/data_table.ipynb>data table notebook</a>'\n",
              "            + ' to learn more about interactive tables.';\n",
              "          element.innerHTML = '';\n",
              "          dataTable['output_type'] = 'display_data';\n",
              "          await google.colab.output.renderOutput(dataTable, element);\n",
              "          const docLink = document.createElement('div');\n",
              "          docLink.innerHTML = docLinkHtml;\n",
              "          element.appendChild(docLink);\n",
              "        }\n",
              "      </script>\n",
              "    </div>\n",
              "  </div>\n",
              "  "
            ]
          },
          "metadata": {}
        }
      ],
      "source": [
        "# Найдём максимальный lifetime клиента и посмотрим на этого клиента или клиентов\n",
        "max_lifetime = gym['lifetime'].max()\n",
        "max_lifetime_query = gym.loc[gym['lifetime'] == max_lifetime]\n",
        "display(max_lifetime_query)"
      ]
    },
    {
      "cell_type": "code",
      "execution_count": 23,
      "metadata": {
        "colab": {
          "base_uri": "https://localhost:8080/",
          "height": 145
        },
        "id": "3eeGXbdxjn82",
        "outputId": "47f3c470-caee-465b-be09-d7893750c3d5"
      },
      "outputs": [
        {
          "output_type": "display_data",
          "data": {
            "text/plain": [
              "      gender  near_location  partner  promo_friends  phone  contract_period  \\\n",
              "2178       0              1        1              1      1                6   \n",
              "\n",
              "      group_visits  age  avg_additional_charges_total  month_to_end_contract  \\\n",
              "2178             1   29                     113.62858                    6.0   \n",
              "\n",
              "      lifetime  avg_class_frequency_total  avg_class_frequency_current_month  \\\n",
              "2178         2                   6.023668                           6.146783   \n",
              "\n",
              "      churn  \n",
              "2178      0  "
            ],
            "text/html": [
              "\n",
              "  <div id=\"df-3730cf34-a5fd-47e9-9d84-78d629866882\">\n",
              "    <div class=\"colab-df-container\">\n",
              "      <div>\n",
              "<style scoped>\n",
              "    .dataframe tbody tr th:only-of-type {\n",
              "        vertical-align: middle;\n",
              "    }\n",
              "\n",
              "    .dataframe tbody tr th {\n",
              "        vertical-align: top;\n",
              "    }\n",
              "\n",
              "    .dataframe thead th {\n",
              "        text-align: right;\n",
              "    }\n",
              "</style>\n",
              "<table border=\"1\" class=\"dataframe\">\n",
              "  <thead>\n",
              "    <tr style=\"text-align: right;\">\n",
              "      <th></th>\n",
              "      <th>gender</th>\n",
              "      <th>near_location</th>\n",
              "      <th>partner</th>\n",
              "      <th>promo_friends</th>\n",
              "      <th>phone</th>\n",
              "      <th>contract_period</th>\n",
              "      <th>group_visits</th>\n",
              "      <th>age</th>\n",
              "      <th>avg_additional_charges_total</th>\n",
              "      <th>month_to_end_contract</th>\n",
              "      <th>lifetime</th>\n",
              "      <th>avg_class_frequency_total</th>\n",
              "      <th>avg_class_frequency_current_month</th>\n",
              "      <th>churn</th>\n",
              "    </tr>\n",
              "  </thead>\n",
              "  <tbody>\n",
              "    <tr>\n",
              "      <th>2178</th>\n",
              "      <td>0</td>\n",
              "      <td>1</td>\n",
              "      <td>1</td>\n",
              "      <td>1</td>\n",
              "      <td>1</td>\n",
              "      <td>6</td>\n",
              "      <td>1</td>\n",
              "      <td>29</td>\n",
              "      <td>113.62858</td>\n",
              "      <td>6.0</td>\n",
              "      <td>2</td>\n",
              "      <td>6.023668</td>\n",
              "      <td>6.146783</td>\n",
              "      <td>0</td>\n",
              "    </tr>\n",
              "  </tbody>\n",
              "</table>\n",
              "</div>\n",
              "      <button class=\"colab-df-convert\" onclick=\"convertToInteractive('df-3730cf34-a5fd-47e9-9d84-78d629866882')\"\n",
              "              title=\"Convert this dataframe to an interactive table.\"\n",
              "              style=\"display:none;\">\n",
              "        \n",
              "  <svg xmlns=\"http://www.w3.org/2000/svg\" height=\"24px\"viewBox=\"0 0 24 24\"\n",
              "       width=\"24px\">\n",
              "    <path d=\"M0 0h24v24H0V0z\" fill=\"none\"/>\n",
              "    <path d=\"M18.56 5.44l.94 2.06.94-2.06 2.06-.94-2.06-.94-.94-2.06-.94 2.06-2.06.94zm-11 1L8.5 8.5l.94-2.06 2.06-.94-2.06-.94L8.5 2.5l-.94 2.06-2.06.94zm10 10l.94 2.06.94-2.06 2.06-.94-2.06-.94-.94-2.06-.94 2.06-2.06.94z\"/><path d=\"M17.41 7.96l-1.37-1.37c-.4-.4-.92-.59-1.43-.59-.52 0-1.04.2-1.43.59L10.3 9.45l-7.72 7.72c-.78.78-.78 2.05 0 2.83L4 21.41c.39.39.9.59 1.41.59.51 0 1.02-.2 1.41-.59l7.78-7.78 2.81-2.81c.8-.78.8-2.07 0-2.86zM5.41 20L4 18.59l7.72-7.72 1.47 1.35L5.41 20z\"/>\n",
              "  </svg>\n",
              "      </button>\n",
              "      \n",
              "  <style>\n",
              "    .colab-df-container {\n",
              "      display:flex;\n",
              "      flex-wrap:wrap;\n",
              "      gap: 12px;\n",
              "    }\n",
              "\n",
              "    .colab-df-convert {\n",
              "      background-color: #E8F0FE;\n",
              "      border: none;\n",
              "      border-radius: 50%;\n",
              "      cursor: pointer;\n",
              "      display: none;\n",
              "      fill: #1967D2;\n",
              "      height: 32px;\n",
              "      padding: 0 0 0 0;\n",
              "      width: 32px;\n",
              "    }\n",
              "\n",
              "    .colab-df-convert:hover {\n",
              "      background-color: #E2EBFA;\n",
              "      box-shadow: 0px 1px 2px rgba(60, 64, 67, 0.3), 0px 1px 3px 1px rgba(60, 64, 67, 0.15);\n",
              "      fill: #174EA6;\n",
              "    }\n",
              "\n",
              "    [theme=dark] .colab-df-convert {\n",
              "      background-color: #3B4455;\n",
              "      fill: #D2E3FC;\n",
              "    }\n",
              "\n",
              "    [theme=dark] .colab-df-convert:hover {\n",
              "      background-color: #434B5C;\n",
              "      box-shadow: 0px 1px 3px 1px rgba(0, 0, 0, 0.15);\n",
              "      filter: drop-shadow(0px 1px 2px rgba(0, 0, 0, 0.3));\n",
              "      fill: #FFFFFF;\n",
              "    }\n",
              "  </style>\n",
              "\n",
              "      <script>\n",
              "        const buttonEl =\n",
              "          document.querySelector('#df-3730cf34-a5fd-47e9-9d84-78d629866882 button.colab-df-convert');\n",
              "        buttonEl.style.display =\n",
              "          google.colab.kernel.accessAllowed ? 'block' : 'none';\n",
              "\n",
              "        async function convertToInteractive(key) {\n",
              "          const element = document.querySelector('#df-3730cf34-a5fd-47e9-9d84-78d629866882');\n",
              "          const dataTable =\n",
              "            await google.colab.kernel.invokeFunction('convertToInteractive',\n",
              "                                                     [key], {});\n",
              "          if (!dataTable) return;\n",
              "\n",
              "          const docLinkHtml = 'Like what you see? Visit the ' +\n",
              "            '<a target=\"_blank\" href=https://colab.research.google.com/notebooks/data_table.ipynb>data table notebook</a>'\n",
              "            + ' to learn more about interactive tables.';\n",
              "          element.innerHTML = '';\n",
              "          dataTable['output_type'] = 'display_data';\n",
              "          await google.colab.output.renderOutput(dataTable, element);\n",
              "          const docLink = document.createElement('div');\n",
              "          docLink.innerHTML = docLinkHtml;\n",
              "          element.appendChild(docLink);\n",
              "        }\n",
              "      </script>\n",
              "    </div>\n",
              "  </div>\n",
              "  "
            ]
          },
          "metadata": {}
        }
      ],
      "source": [
        "# Найдём максимальный avg_class_frequency_total (частоту посещений в неделю) клиента и посмотрим на этого клиента или клиентов\n",
        "max_acft = gym['avg_class_frequency_total'].max()\n",
        "max_acft_query = gym.loc[gym['avg_class_frequency_total'] == max_acft]\n",
        "display(max_acft_query)"
      ]
    },
    {
      "cell_type": "code",
      "execution_count": 24,
      "metadata": {
        "colab": {
          "base_uri": "https://localhost:8080/",
          "height": 145
        },
        "id": "ns-ug3Khjn83",
        "outputId": "79c6276e-82cc-42dc-bc36-c4bcb1355d00"
      },
      "outputs": [
        {
          "output_type": "display_data",
          "data": {
            "text/plain": [
              "     gender  near_location  partner  promo_friends  phone  contract_period  \\\n",
              "975       0              0        1              0      1               12   \n",
              "\n",
              "     group_visits  age  avg_additional_charges_total  month_to_end_contract  \\\n",
              "975             1   32                     552.59074                   12.0   \n",
              "\n",
              "     lifetime  avg_class_frequency_total  avg_class_frequency_current_month  \\\n",
              "975         1                   0.887859                           0.939304   \n",
              "\n",
              "     churn  \n",
              "975      0  "
            ],
            "text/html": [
              "\n",
              "  <div id=\"df-f141f823-7e57-48e2-b607-19c2675b5a38\">\n",
              "    <div class=\"colab-df-container\">\n",
              "      <div>\n",
              "<style scoped>\n",
              "    .dataframe tbody tr th:only-of-type {\n",
              "        vertical-align: middle;\n",
              "    }\n",
              "\n",
              "    .dataframe tbody tr th {\n",
              "        vertical-align: top;\n",
              "    }\n",
              "\n",
              "    .dataframe thead th {\n",
              "        text-align: right;\n",
              "    }\n",
              "</style>\n",
              "<table border=\"1\" class=\"dataframe\">\n",
              "  <thead>\n",
              "    <tr style=\"text-align: right;\">\n",
              "      <th></th>\n",
              "      <th>gender</th>\n",
              "      <th>near_location</th>\n",
              "      <th>partner</th>\n",
              "      <th>promo_friends</th>\n",
              "      <th>phone</th>\n",
              "      <th>contract_period</th>\n",
              "      <th>group_visits</th>\n",
              "      <th>age</th>\n",
              "      <th>avg_additional_charges_total</th>\n",
              "      <th>month_to_end_contract</th>\n",
              "      <th>lifetime</th>\n",
              "      <th>avg_class_frequency_total</th>\n",
              "      <th>avg_class_frequency_current_month</th>\n",
              "      <th>churn</th>\n",
              "    </tr>\n",
              "  </thead>\n",
              "  <tbody>\n",
              "    <tr>\n",
              "      <th>975</th>\n",
              "      <td>0</td>\n",
              "      <td>0</td>\n",
              "      <td>1</td>\n",
              "      <td>0</td>\n",
              "      <td>1</td>\n",
              "      <td>12</td>\n",
              "      <td>1</td>\n",
              "      <td>32</td>\n",
              "      <td>552.59074</td>\n",
              "      <td>12.0</td>\n",
              "      <td>1</td>\n",
              "      <td>0.887859</td>\n",
              "      <td>0.939304</td>\n",
              "      <td>0</td>\n",
              "    </tr>\n",
              "  </tbody>\n",
              "</table>\n",
              "</div>\n",
              "      <button class=\"colab-df-convert\" onclick=\"convertToInteractive('df-f141f823-7e57-48e2-b607-19c2675b5a38')\"\n",
              "              title=\"Convert this dataframe to an interactive table.\"\n",
              "              style=\"display:none;\">\n",
              "        \n",
              "  <svg xmlns=\"http://www.w3.org/2000/svg\" height=\"24px\"viewBox=\"0 0 24 24\"\n",
              "       width=\"24px\">\n",
              "    <path d=\"M0 0h24v24H0V0z\" fill=\"none\"/>\n",
              "    <path d=\"M18.56 5.44l.94 2.06.94-2.06 2.06-.94-2.06-.94-.94-2.06-.94 2.06-2.06.94zm-11 1L8.5 8.5l.94-2.06 2.06-.94-2.06-.94L8.5 2.5l-.94 2.06-2.06.94zm10 10l.94 2.06.94-2.06 2.06-.94-2.06-.94-.94-2.06-.94 2.06-2.06.94z\"/><path d=\"M17.41 7.96l-1.37-1.37c-.4-.4-.92-.59-1.43-.59-.52 0-1.04.2-1.43.59L10.3 9.45l-7.72 7.72c-.78.78-.78 2.05 0 2.83L4 21.41c.39.39.9.59 1.41.59.51 0 1.02-.2 1.41-.59l7.78-7.78 2.81-2.81c.8-.78.8-2.07 0-2.86zM5.41 20L4 18.59l7.72-7.72 1.47 1.35L5.41 20z\"/>\n",
              "  </svg>\n",
              "      </button>\n",
              "      \n",
              "  <style>\n",
              "    .colab-df-container {\n",
              "      display:flex;\n",
              "      flex-wrap:wrap;\n",
              "      gap: 12px;\n",
              "    }\n",
              "\n",
              "    .colab-df-convert {\n",
              "      background-color: #E8F0FE;\n",
              "      border: none;\n",
              "      border-radius: 50%;\n",
              "      cursor: pointer;\n",
              "      display: none;\n",
              "      fill: #1967D2;\n",
              "      height: 32px;\n",
              "      padding: 0 0 0 0;\n",
              "      width: 32px;\n",
              "    }\n",
              "\n",
              "    .colab-df-convert:hover {\n",
              "      background-color: #E2EBFA;\n",
              "      box-shadow: 0px 1px 2px rgba(60, 64, 67, 0.3), 0px 1px 3px 1px rgba(60, 64, 67, 0.15);\n",
              "      fill: #174EA6;\n",
              "    }\n",
              "\n",
              "    [theme=dark] .colab-df-convert {\n",
              "      background-color: #3B4455;\n",
              "      fill: #D2E3FC;\n",
              "    }\n",
              "\n",
              "    [theme=dark] .colab-df-convert:hover {\n",
              "      background-color: #434B5C;\n",
              "      box-shadow: 0px 1px 3px 1px rgba(0, 0, 0, 0.15);\n",
              "      filter: drop-shadow(0px 1px 2px rgba(0, 0, 0, 0.3));\n",
              "      fill: #FFFFFF;\n",
              "    }\n",
              "  </style>\n",
              "\n",
              "      <script>\n",
              "        const buttonEl =\n",
              "          document.querySelector('#df-f141f823-7e57-48e2-b607-19c2675b5a38 button.colab-df-convert');\n",
              "        buttonEl.style.display =\n",
              "          google.colab.kernel.accessAllowed ? 'block' : 'none';\n",
              "\n",
              "        async function convertToInteractive(key) {\n",
              "          const element = document.querySelector('#df-f141f823-7e57-48e2-b607-19c2675b5a38');\n",
              "          const dataTable =\n",
              "            await google.colab.kernel.invokeFunction('convertToInteractive',\n",
              "                                                     [key], {});\n",
              "          if (!dataTable) return;\n",
              "\n",
              "          const docLinkHtml = 'Like what you see? Visit the ' +\n",
              "            '<a target=\"_blank\" href=https://colab.research.google.com/notebooks/data_table.ipynb>data table notebook</a>'\n",
              "            + ' to learn more about interactive tables.';\n",
              "          element.innerHTML = '';\n",
              "          dataTable['output_type'] = 'display_data';\n",
              "          await google.colab.output.renderOutput(dataTable, element);\n",
              "          const docLink = document.createElement('div');\n",
              "          docLink.innerHTML = docLinkHtml;\n",
              "          element.appendChild(docLink);\n",
              "        }\n",
              "      </script>\n",
              "    </div>\n",
              "  </div>\n",
              "  "
            ]
          },
          "metadata": {}
        }
      ],
      "source": [
        "# Найдём максимальный avg_additional_charges_total (траты на допуслуги) клиента и посмотрим на этого клиента или клиентов\n",
        "max_aact = gym['avg_additional_charges_total'].max()\n",
        "max_aact_query = gym.loc[gym['avg_additional_charges_total'] == max_aact]\n",
        "display(max_aact_query)"
      ]
    },
    {
      "cell_type": "markdown",
      "metadata": {
        "id": "_h-4zsRmjn83"
      },
      "source": [
        "**Вывод** Мы видим трёх разных клиентов, наши гипотезы были ошибочными."
      ]
    },
    {
      "cell_type": "markdown",
      "metadata": {
        "id": "QXhR0z5ljn83"
      },
      "source": [
        "### Сравнение оставшихся и ушедших клиентов<a id=\"churn\"></a>"
      ]
    },
    {
      "cell_type": "code",
      "execution_count": 25,
      "metadata": {
        "colab": {
          "base_uri": "https://localhost:8080/",
          "height": 90
        },
        "id": "rKGZwlCRjn83",
        "outputId": "73893611-1839-4e2f-bd5d-57f85ef6690a"
      },
      "outputs": [
        {
          "output_type": "display_data",
          "data": {
            "text/plain": [
              "churn\n",
              "0    2939\n",
              "1    1061\n",
              "Name: gender, dtype: int64"
            ]
          },
          "metadata": {}
        }
      ],
      "source": [
        "# Сгруппируем клиентов по признаку остались/ушли\n",
        "display(gym.groupby('churn')['gender'].agg('count'))"
      ]
    },
    {
      "cell_type": "markdown",
      "metadata": {
        "id": "bMYmwXavjn84"
      },
      "source": [
        "Число ушедших клиентов (1) - 1061 человек, оставшихся (0) - 2939 человек."
      ]
    },
    {
      "cell_type": "code",
      "execution_count": 26,
      "metadata": {
        "colab": {
          "base_uri": "https://localhost:8080/"
        },
        "id": "vV3smlG2jn84",
        "outputId": "5acb3160-fa12-49c7-9e61-912dc1c11b02"
      },
      "outputs": [
        {
          "output_type": "stream",
          "name": "stdout",
          "text": [
            "         gender  near_location   partner  promo_friends     phone  \\\n",
            "churn                                                               \n",
            "0      0.510037       0.873086  0.534195       0.353522  0.903709   \n",
            "1      0.510839       0.768143  0.355325       0.183789  0.902922   \n",
            "\n",
            "       contract_period  group_visits        age  avg_additional_charges_total  \\\n",
            "churn                                                                           \n",
            "0             5.747193      0.464103  29.976523                    158.445715   \n",
            "1             1.728558      0.268615  26.989632                    115.082899   \n",
            "\n",
            "       month_to_end_contract  lifetime  avg_class_frequency_total  \\\n",
            "churn                                                               \n",
            "0                   5.283089  4.711807                   2.024876   \n",
            "1                   1.662582  0.990575                   1.474995   \n",
            "\n",
            "       avg_class_frequency_current_month  \n",
            "churn                                     \n",
            "0                               2.027882  \n",
            "1                               1.044546  \n"
          ]
        }
      ],
      "source": [
        "# Сравним средние по двум группам\n",
        "print(gym.groupby('churn').agg('mean')) # с display бесспорно выглядит лучше, \n",
        "                                        # но нужно скроллить вправо, а это неудобно"
      ]
    },
    {
      "cell_type": "markdown",
      "metadata": {
        "id": "dX9h5elejn84"
      },
      "source": [
        "**Выводы:**  \n",
        "1. Распределение по полу примерно равное как для тех кто ушел, так и для тех, кто остался.   \n",
        "1. Из тех, кто ушел, 76% жили или работали там, где находился фитнес-центр (возможно уход связан с переездом или сменой работы).  \n",
        "1. Среди ушедших (ушельцев) 18% первоначально записывались в рамках акции «приведи друга», среди оставшихся таких 35% - друзья удерживают.     \n",
        "1. Наличие контактного телефона тоже не отличатся (90%) для обеих групп. \n",
        "1. Ушедшие в основном с небольшим перодом контракта - 1-2 месяца. Оставшиеся - с более длительным периодом контракта-  5-6 месяцев.   \n",
        "1. Среди тех, кто ушел, только 26% посещали групповые занятие, а среди тех, кто остался, таких 46% - опятьже друзья с которыми пришли, или которых завели в фитнес-центре.  \n",
        "1. Оставшиеся клиенты чуть старше ушедших - возможно они крепче осели на месте (квартира, семья, работа) чем болле молодые-ушельцы.  \n",
        "1. Если смотреть на траты на допуслуги фитнес-центра, то видим, что среди ушедших средние траты были примерно 115 , а среди оставшихся - 158.\n",
        "1. Среди ушедших средний лайфтайм с момента первого обращения в фитнес-центр - меньше месяца. Значит, есть проблемы с удержанием, клиенты не смогли заинтересоваться и спустя месяц ушли.\n",
        "1. Средняя частота посещений в неделю за предыдущий месяц у тех, кто остался, больше (2 раза в неделю), чем у тех, кто ушел (1 раз в неделю)."
      ]
    },
    {
      "cell_type": "markdown",
      "metadata": {
        "id": "rwwlOCzWjn84"
      },
      "source": [
        "### Столбчатые гистограммы и распределения признаков для тех, кто ушёл (отток) и тех, кто остался<a id=\"churn_hist\"></a>"
      ]
    },
    {
      "cell_type": "code",
      "execution_count": 27,
      "metadata": {
        "id": "Fx2dOrWijn84"
      },
      "outputs": [],
      "source": [
        "# Разделим клиентов на ушедших (churn_clients) и оставшихся - лояльных (loyal_clients)\n",
        "churn_clients = gym.query('churn == 1') \n",
        "loyal_clients = gym.query('churn == 0')"
      ]
    },
    {
      "cell_type": "code",
      "execution_count": 28,
      "metadata": {
        "colab": {
          "base_uri": "https://localhost:8080/",
          "height": 1000
        },
        "id": "kFFZn3S8jn84",
        "outputId": "a6a252cd-9a67-40aa-b27d-e8dc8af2f5d8"
      },
      "outputs": [
        {
          "output_type": "display_data",
          "data": {
            "text/plain": [
              "<Figure size 432x288 with 1 Axes>"
            ],
            "image/png": "[encoded data removed]"
          },
          "metadata": {
            "needs_background": "light"
          }
        },
        {
          "output_type": "display_data",
          "data": {
            "text/plain": [
              "<Figure size 432x288 with 1 Axes>"
            ],
            "image/png": "[encoded data removed]"
          },
          "metadata": {
            "needs_background": "light"
          }
        },
        {
          "output_type": "display_data",
          "data": {
            "text/plain": [
              "<Figure size 432x288 with 1 Axes>"
            ],
            "image/png": "[encoded data removed]"
          },
          "metadata": {
            "needs_background": "light"
          }
        },
        {
          "output_type": "display_data",
          "data": {
            "text/plain": [
              "<Figure size 432x288 with 1 Axes>"
            ],
            "image/png": "[encoded data removed]"
          },
          "metadata": {
            "needs_background": "light"
          }
        },
        {
          "output_type": "display_data",
          "data": {
            "text/plain": [
              "<Figure size 432x288 with 1 Axes>"
            ],
            "image/png": "[encoded data removed]"
          },
          "metadata": {
            "needs_background": "light"
          }
        },
        {
          "output_type": "display_data",
          "data": {
            "text/plain": [
              "<Figure size 432x288 with 1 Axes>"
            ],
            "image/png": "[encoded data removed]"
          },
          "metadata": {
            "needs_background": "light"
          }
        },
        {
          "output_type": "display_data",
          "data": {
            "text/plain": [
              "<Figure size 432x288 with 1 Axes>"
            ],
            "image/png": "[encoded data removed]"
          },
          "metadata": {
            "needs_background": "light"
          }
        },
        {
          "output_type": "display_data",
          "data": {
            "text/plain": [
              "<Figure size 432x288 with 1 Axes>"
            ],
            "image/png": "[encoded data removed]"
          },
          "metadata": {
            "needs_background": "light"
          }
        },
        {
          "output_type": "display_data",
          "data": {
            "text/plain": [
              "<Figure size 432x288 with 1 Axes>"
            ],
            "image/png": "[encoded data removed]"
          },
          "metadata": {
            "needs_background": "light"
          }
        },
        {
          "output_type": "display_data",
          "data": {
            "text/plain": [
              "<Figure size 432x288 with 1 Axes>"
            ],
            "image/png": "[encoded data removed]"
          },
          "metadata": {
            "needs_background": "light"
          }
        },
        {
          "output_type": "display_data",
          "data": {
            "text/plain": [
              "<Figure size 432x288 with 1 Axes>"
            ],
            "image/png": "[encoded data removed]"
          },
          "metadata": {
            "needs_background": "light"
          }
        },
        {
          "output_type": "display_data",
          "data": {
            "text/plain": [
              "<Figure size 432x288 with 1 Axes>"
            ],
            "image/png": "[encoded data removed]"
          },
          "metadata": {
            "needs_background": "light"
          }
        },
        {
          "output_type": "display_data",
          "data": {
            "text/plain": [
              "<Figure size 432x288 with 1 Axes>"
            ],
            "image/png": "[encoded data removed]"
          },
          "metadata": {
            "needs_background": "light"
          }
        }
      ],
      "source": [
        "# Построим диаграммы распределения для каждого признака для ушедших и лояльных клиентов\n",
        "fig, ax = plt.subplots()\n",
        "for column in gym.drop('churn', axis = 1).columns:\n",
        "    plt.title('Распределение признака '+column)\n",
        "    plt.xlabel(column)\n",
        "    plt.ylabel('количество и плотность')\n",
        "    sns.distplot(churn_clients[column], label='Ушедшие')\n",
        "    sns.distplot(loyal_clients[column], label='Лояльные')\n",
        "    plt.legend()\n",
        "    plt.show()"
      ]
    },
    {
      "cell_type": "markdown",
      "metadata": {
        "id": "um4FDklgjn85"
      },
      "source": [
        "**Выводы:**    \n",
        "1. По полу, близости к фитнес-центру, наличию контактного телефона обе группы имеют схожее равномерное распределение.   \n",
        "1. Есть различия в распределении групп между теми, кто является сотрудником компании-партнёра клуба и не является. В группе лояльных клиентов число имеющих отношение к компании-партнёра сотрудников явно больше, чем среди тех, кто уходит в отток. \n",
        "1. Различия в распределении групп по посещению групповых занятий такие же, как и в распределениях по принадлежности к компании-партнёру.    \n",
        "1. Среди тех, кто остался, по промо-акции \"Приведи друга\" клиентов немного больше, но распределения схожи.   \n",
        "1. Распределение длительности действующего абонемента по оставшимся пользователям и ушедшим различается. Лояльных клиентов, приобретающих абонемент на 1 месяц больше всего, меньше их сроком на год, и наименьшее количество клиентов - на 6 месяцев. А для ушедших в отток 1 месяц - самый популярный, затем - 6 месяцев (с очень низким числом абонементов), и практически нет абонементов на 12 месяцев. Различия в распределении групп по сроку до окончания действующего абонемента такие же, как и в распределениях по длительности абонемента.   \n",
        "1. По среднему возрасту обе группы имеют нормальное распределение, но распределение лояльных клиентов немного смещёно вправо (долее возрастные клиенты), а датасет ушедших клиентов - влево (более молодые).   \n",
        "1. Распределение средней выручки от других услуг фитнес-центра для обоих датасетов смещено влево с большим смещением для ушедших людей. То есть те, кто уходит, практически ничего не тратят на дополнительные услуги в фитнес-центре.   \n",
        "1. Распределение времени с момента первого обращения для обоих групп похоже на распределение Пуассона. Но для ушедших в отток клиентов оно сильно смещено влево, практически не имея значения в более высоких значениях, а для лояльных клиентов принимает более высокие значения.   \n",
        "1. Распределение для средней частоты посещений в неделю за время действия абонемента в обоих группах является нормальным. Для лояльной группы оно немного смещено влево, а для группы уходящих в отток имеется сильное смещение влево. Аналогичные различия между группами наблюдаются и для распределений средней частоты посещений в неделю за месяц.   "
      ]
    },
    {
      "cell_type": "markdown",
      "metadata": {
        "id": "90VtaNgtjn85"
      },
      "source": [
        "### Матрица корреляций признаков<a id=\"corr\"></a>"
      ]
    },
    {
      "cell_type": "code",
      "execution_count": 29,
      "metadata": {
        "colab": {
          "base_uri": "https://localhost:8080/",
          "height": 552
        },
        "id": "A_1r4ymvjn85",
        "outputId": "5e161637-d42e-421f-a5d0-e0efd5d039b1"
      },
      "outputs": [
        {
          "output_type": "display_data",
          "data": {
            "text/plain": [
              "                                   gender  near_location  partner  \\\n",
              "gender                               1.00           0.01    -0.01   \n",
              "near_location                        0.01           1.00    -0.01   \n",
              "partner                             -0.01          -0.01     1.00   \n",
              "promo_friends                       -0.01           0.21     0.45   \n",
              "phone                               -0.01          -0.02     0.01   \n",
              "contract_period                      0.00           0.15     0.31   \n",
              "group_visits                         0.02           0.15     0.02   \n",
              "age                                  0.01           0.06     0.05   \n",
              "avg_additional_charges_total        -0.01           0.04     0.02   \n",
              "month_to_end_contract               -0.00           0.14     0.29   \n",
              "lifetime                             0.01           0.07     0.06   \n",
              "avg_class_frequency_total            0.01           0.04     0.02   \n",
              "avg_class_frequency_current_month    0.01           0.06     0.05   \n",
              "churn                                0.00          -0.13    -0.16   \n",
              "\n",
              "                                   promo_friends  phone  contract_period  \\\n",
              "gender                                     -0.01  -0.01             0.00   \n",
              "near_location                               0.21  -0.02             0.15   \n",
              "partner                                     0.45   0.01             0.31   \n",
              "promo_friends                               1.00   0.00             0.24   \n",
              "phone                                       0.00   1.00            -0.01   \n",
              "contract_period                             0.24  -0.01             1.00   \n",
              "group_visits                                0.12  -0.01             0.17   \n",
              "age                                         0.05  -0.01             0.14   \n",
              "avg_additional_charges_total                0.04   0.01             0.11   \n",
              "month_to_end_contract                       0.24  -0.01             0.97   \n",
              "lifetime                                    0.07  -0.02             0.17   \n",
              "avg_class_frequency_total                   0.03   0.01             0.10   \n",
              "avg_class_frequency_current_month           0.05   0.01             0.16   \n",
              "churn                                      -0.16  -0.00            -0.39   \n",
              "\n",
              "                                   group_visits   age  \\\n",
              "gender                                     0.02  0.01   \n",
              "near_location                              0.15  0.06   \n",
              "partner                                    0.02  0.05   \n",
              "promo_friends                              0.12  0.05   \n",
              "phone                                     -0.01 -0.01   \n",
              "contract_period                            0.17  0.14   \n",
              "group_visits                               1.00  0.08   \n",
              "age                                        0.08  1.00   \n",
              "avg_additional_charges_total               0.03  0.08   \n",
              "month_to_end_contract                      0.16  0.13   \n",
              "lifetime                                   0.08  0.16   \n",
              "avg_class_frequency_total                  0.06  0.12   \n",
              "avg_class_frequency_current_month          0.08  0.18   \n",
              "churn                                     -0.18 -0.40   \n",
              "\n",
              "                                   avg_additional_charges_total  \\\n",
              "gender                                                    -0.01   \n",
              "near_location                                              0.04   \n",
              "partner                                                    0.02   \n",
              "promo_friends                                              0.04   \n",
              "phone                                                      0.01   \n",
              "contract_period                                            0.11   \n",
              "group_visits                                               0.03   \n",
              "age                                                        0.08   \n",
              "avg_additional_charges_total                               1.00   \n",
              "month_to_end_contract                                      0.11   \n",
              "lifetime                                                   0.08   \n",
              "avg_class_frequency_total                                  0.04   \n",
              "avg_class_frequency_current_month                          0.08   \n",
              "churn                                                     -0.20   \n",
              "\n",
              "                                   month_to_end_contract  lifetime  \\\n",
              "gender                                             -0.00      0.01   \n",
              "near_location                                       0.14      0.07   \n",
              "partner                                             0.29      0.06   \n",
              "promo_friends                                       0.24      0.07   \n",
              "phone                                              -0.01     -0.02   \n",
              "contract_period                                     0.97      0.17   \n",
              "group_visits                                        0.16      0.08   \n",
              "age                                                 0.13      0.16   \n",
              "avg_additional_charges_total                        0.11      0.08   \n",
              "month_to_end_contract                               1.00      0.16   \n",
              "lifetime                                            0.16      1.00   \n",
              "avg_class_frequency_total                           0.09      0.11   \n",
              "avg_class_frequency_current_month                   0.15      0.18   \n",
              "churn                                              -0.38     -0.44   \n",
              "\n",
              "                                   avg_class_frequency_total  \\\n",
              "gender                                                  0.01   \n",
              "near_location                                           0.04   \n",
              "partner                                                 0.02   \n",
              "promo_friends                                           0.03   \n",
              "phone                                                   0.01   \n",
              "contract_period                                         0.10   \n",
              "group_visits                                            0.06   \n",
              "age                                                     0.12   \n",
              "avg_additional_charges_total                            0.04   \n",
              "month_to_end_contract                                   0.09   \n",
              "lifetime                                                0.11   \n",
              "avg_class_frequency_total                               1.00   \n",
              "avg_class_frequency_current_month                       0.95   \n",
              "churn                                                  -0.25   \n",
              "\n",
              "                                   avg_class_frequency_current_month  churn  \n",
              "gender                                                          0.01   0.00  \n",
              "near_location                                                   0.06  -0.13  \n",
              "partner                                                         0.05  -0.16  \n",
              "promo_friends                                                   0.05  -0.16  \n",
              "phone                                                           0.01  -0.00  \n",
              "contract_period                                                 0.16  -0.39  \n",
              "group_visits                                                    0.08  -0.18  \n",
              "age                                                             0.18  -0.40  \n",
              "avg_additional_charges_total                                    0.08  -0.20  \n",
              "month_to_end_contract                                           0.15  -0.38  \n",
              "lifetime                                                        0.18  -0.44  \n",
              "avg_class_frequency_total                                       0.95  -0.25  \n",
              "avg_class_frequency_current_month                               1.00  -0.41  \n",
              "churn                                                          -0.41   1.00  "
            ],
            "text/html": [
              "\n",
              "  <div id=\"df-95ac4d64-9a20-48f1-958b-3b1902c43089\">\n",
              "    <div class=\"colab-df-container\">\n",
              "      <div>\n",
              "<style scoped>\n",
              "    .dataframe tbody tr th:only-of-type {\n",
              "        vertical-align: middle;\n",
              "    }\n",
              "\n",
              "    .dataframe tbody tr th {\n",
              "        vertical-align: top;\n",
              "    }\n",
              "\n",
              "    .dataframe thead th {\n",
              "        text-align: right;\n",
              "    }\n",
              "</style>\n",
              "<table border=\"1\" class=\"dataframe\">\n",
              "  <thead>\n",
              "    <tr style=\"text-align: right;\">\n",
              "      <th></th>\n",
              "      <th>gender</th>\n",
              "      <th>near_location</th>\n",
              "      <th>partner</th>\n",
              "      <th>promo_friends</th>\n",
              "      <th>phone</th>\n",
              "      <th>contract_period</th>\n",
              "      <th>group_visits</th>\n",
              "      <th>age</th>\n",
              "      <th>avg_additional_charges_total</th>\n",
              "      <th>month_to_end_contract</th>\n",
              "      <th>lifetime</th>\n",
              "      <th>avg_class_frequency_total</th>\n",
              "      <th>avg_class_frequency_current_month</th>\n",
              "      <th>churn</th>\n",
              "    </tr>\n",
              "  </thead>\n",
              "  <tbody>\n",
              "    <tr>\n",
              "      <th>gender</th>\n",
              "      <td>1.00</td>\n",
              "      <td>0.01</td>\n",
              "      <td>-0.01</td>\n",
              "      <td>-0.01</td>\n",
              "      <td>-0.01</td>\n",
              "      <td>0.00</td>\n",
              "      <td>0.02</td>\n",
              "      <td>0.01</td>\n",
              "      <td>-0.01</td>\n",
              "      <td>-0.00</td>\n",
              "      <td>0.01</td>\n",
              "      <td>0.01</td>\n",
              "      <td>0.01</td>\n",
              "      <td>0.00</td>\n",
              "    </tr>\n",
              "    <tr>\n",
              "      <th>near_location</th>\n",
              "      <td>0.01</td>\n",
              "      <td>1.00</td>\n",
              "      <td>-0.01</td>\n",
              "      <td>0.21</td>\n",
              "      <td>-0.02</td>\n",
              "      <td>0.15</td>\n",
              "      <td>0.15</td>\n",
              "      <td>0.06</td>\n",
              "      <td>0.04</td>\n",
              "      <td>0.14</td>\n",
              "      <td>0.07</td>\n",
              "      <td>0.04</td>\n",
              "      <td>0.06</td>\n",
              "      <td>-0.13</td>\n",
              "    </tr>\n",
              "    <tr>\n",
              "      <th>partner</th>\n",
              "      <td>-0.01</td>\n",
              "      <td>-0.01</td>\n",
              "      <td>1.00</td>\n",
              "      <td>0.45</td>\n",
              "      <td>0.01</td>\n",
              "      <td>0.31</td>\n",
              "      <td>0.02</td>\n",
              "      <td>0.05</td>\n",
              "      <td>0.02</td>\n",
              "      <td>0.29</td>\n",
              "      <td>0.06</td>\n",
              "      <td>0.02</td>\n",
              "      <td>0.05</td>\n",
              "      <td>-0.16</td>\n",
              "    </tr>\n",
              "    <tr>\n",
              "      <th>promo_friends</th>\n",
              "      <td>-0.01</td>\n",
              "      <td>0.21</td>\n",
              "      <td>0.45</td>\n",
              "      <td>1.00</td>\n",
              "      <td>0.00</td>\n",
              "      <td>0.24</td>\n",
              "      <td>0.12</td>\n",
              "      <td>0.05</td>\n",
              "      <td>0.04</td>\n",
              "      <td>0.24</td>\n",
              "      <td>0.07</td>\n",
              "      <td>0.03</td>\n",
              "      <td>0.05</td>\n",
              "      <td>-0.16</td>\n",
              "    </tr>\n",
              "    <tr>\n",
              "      <th>phone</th>\n",
              "      <td>-0.01</td>\n",
              "      <td>-0.02</td>\n",
              "      <td>0.01</td>\n",
              "      <td>0.00</td>\n",
              "      <td>1.00</td>\n",
              "      <td>-0.01</td>\n",
              "      <td>-0.01</td>\n",
              "      <td>-0.01</td>\n",
              "      <td>0.01</td>\n",
              "      <td>-0.01</td>\n",
              "      <td>-0.02</td>\n",
              "      <td>0.01</td>\n",
              "      <td>0.01</td>\n",
              "      <td>-0.00</td>\n",
              "    </tr>\n",
              "    <tr>\n",
              "      <th>contract_period</th>\n",
              "      <td>0.00</td>\n",
              "      <td>0.15</td>\n",
              "      <td>0.31</td>\n",
              "      <td>0.24</td>\n",
              "      <td>-0.01</td>\n",
              "      <td>1.00</td>\n",
              "      <td>0.17</td>\n",
              "      <td>0.14</td>\n",
              "      <td>0.11</td>\n",
              "      <td>0.97</td>\n",
              "      <td>0.17</td>\n",
              "      <td>0.10</td>\n",
              "      <td>0.16</td>\n",
              "      <td>-0.39</td>\n",
              "    </tr>\n",
              "    <tr>\n",
              "      <th>group_visits</th>\n",
              "      <td>0.02</td>\n",
              "      <td>0.15</td>\n",
              "      <td>0.02</td>\n",
              "      <td>0.12</td>\n",
              "      <td>-0.01</td>\n",
              "      <td>0.17</td>\n",
              "      <td>1.00</td>\n",
              "      <td>0.08</td>\n",
              "      <td>0.03</td>\n",
              "      <td>0.16</td>\n",
              "      <td>0.08</td>\n",
              "      <td>0.06</td>\n",
              "      <td>0.08</td>\n",
              "      <td>-0.18</td>\n",
              "    </tr>\n",
              "    <tr>\n",
              "      <th>age</th>\n",
              "      <td>0.01</td>\n",
              "      <td>0.06</td>\n",
              "      <td>0.05</td>\n",
              "      <td>0.05</td>\n",
              "      <td>-0.01</td>\n",
              "      <td>0.14</td>\n",
              "      <td>0.08</td>\n",
              "      <td>1.00</td>\n",
              "      <td>0.08</td>\n",
              "      <td>0.13</td>\n",
              "      <td>0.16</td>\n",
              "      <td>0.12</td>\n",
              "      <td>0.18</td>\n",
              "      <td>-0.40</td>\n",
              "    </tr>\n",
              "    <tr>\n",
              "      <th>avg_additional_charges_total</th>\n",
              "      <td>-0.01</td>\n",
              "      <td>0.04</td>\n",
              "      <td>0.02</td>\n",
              "      <td>0.04</td>\n",
              "      <td>0.01</td>\n",
              "      <td>0.11</td>\n",
              "      <td>0.03</td>\n",
              "      <td>0.08</td>\n",
              "      <td>1.00</td>\n",
              "      <td>0.11</td>\n",
              "      <td>0.08</td>\n",
              "      <td>0.04</td>\n",
              "      <td>0.08</td>\n",
              "      <td>-0.20</td>\n",
              "    </tr>\n",
              "    <tr>\n",
              "      <th>month_to_end_contract</th>\n",
              "      <td>-0.00</td>\n",
              "      <td>0.14</td>\n",
              "      <td>0.29</td>\n",
              "      <td>0.24</td>\n",
              "      <td>-0.01</td>\n",
              "      <td>0.97</td>\n",
              "      <td>0.16</td>\n",
              "      <td>0.13</td>\n",
              "      <td>0.11</td>\n",
              "      <td>1.00</td>\n",
              "      <td>0.16</td>\n",
              "      <td>0.09</td>\n",
              "      <td>0.15</td>\n",
              "      <td>-0.38</td>\n",
              "    </tr>\n",
              "    <tr>\n",
              "      <th>lifetime</th>\n",
              "      <td>0.01</td>\n",
              "      <td>0.07</td>\n",
              "      <td>0.06</td>\n",
              "      <td>0.07</td>\n",
              "      <td>-0.02</td>\n",
              "      <td>0.17</td>\n",
              "      <td>0.08</td>\n",
              "      <td>0.16</td>\n",
              "      <td>0.08</td>\n",
              "      <td>0.16</td>\n",
              "      <td>1.00</td>\n",
              "      <td>0.11</td>\n",
              "      <td>0.18</td>\n",
              "      <td>-0.44</td>\n",
              "    </tr>\n",
              "    <tr>\n",
              "      <th>avg_class_frequency_total</th>\n",
              "      <td>0.01</td>\n",
              "      <td>0.04</td>\n",
              "      <td>0.02</td>\n",
              "      <td>0.03</td>\n",
              "      <td>0.01</td>\n",
              "      <td>0.10</td>\n",
              "      <td>0.06</td>\n",
              "      <td>0.12</td>\n",
              "      <td>0.04</td>\n",
              "      <td>0.09</td>\n",
              "      <td>0.11</td>\n",
              "      <td>1.00</td>\n",
              "      <td>0.95</td>\n",
              "      <td>-0.25</td>\n",
              "    </tr>\n",
              "    <tr>\n",
              "      <th>avg_class_frequency_current_month</th>\n",
              "      <td>0.01</td>\n",
              "      <td>0.06</td>\n",
              "      <td>0.05</td>\n",
              "      <td>0.05</td>\n",
              "      <td>0.01</td>\n",
              "      <td>0.16</td>\n",
              "      <td>0.08</td>\n",
              "      <td>0.18</td>\n",
              "      <td>0.08</td>\n",
              "      <td>0.15</td>\n",
              "      <td>0.18</td>\n",
              "      <td>0.95</td>\n",
              "      <td>1.00</td>\n",
              "      <td>-0.41</td>\n",
              "    </tr>\n",
              "    <tr>\n",
              "      <th>churn</th>\n",
              "      <td>0.00</td>\n",
              "      <td>-0.13</td>\n",
              "      <td>-0.16</td>\n",
              "      <td>-0.16</td>\n",
              "      <td>-0.00</td>\n",
              "      <td>-0.39</td>\n",
              "      <td>-0.18</td>\n",
              "      <td>-0.40</td>\n",
              "      <td>-0.20</td>\n",
              "      <td>-0.38</td>\n",
              "      <td>-0.44</td>\n",
              "      <td>-0.25</td>\n",
              "      <td>-0.41</td>\n",
              "      <td>1.00</td>\n",
              "    </tr>\n",
              "  </tbody>\n",
              "</table>\n",
              "</div>\n",
              "      <button class=\"colab-df-convert\" onclick=\"convertToInteractive('df-95ac4d64-9a20-48f1-958b-3b1902c43089')\"\n",
              "              title=\"Convert this dataframe to an interactive table.\"\n",
              "              style=\"display:none;\">\n",
              "        \n",
              "  <svg xmlns=\"http://www.w3.org/2000/svg\" height=\"24px\"viewBox=\"0 0 24 24\"\n",
              "       width=\"24px\">\n",
              "    <path d=\"M0 0h24v24H0V0z\" fill=\"none\"/>\n",
              "    <path d=\"M18.56 5.44l.94 2.06.94-2.06 2.06-.94-2.06-.94-.94-2.06-.94 2.06-2.06.94zm-11 1L8.5 8.5l.94-2.06 2.06-.94-2.06-.94L8.5 2.5l-.94 2.06-2.06.94zm10 10l.94 2.06.94-2.06 2.06-.94-2.06-.94-.94-2.06-.94 2.06-2.06.94z\"/><path d=\"M17.41 7.96l-1.37-1.37c-.4-.4-.92-.59-1.43-.59-.52 0-1.04.2-1.43.59L10.3 9.45l-7.72 7.72c-.78.78-.78 2.05 0 2.83L4 21.41c.39.39.9.59 1.41.59.51 0 1.02-.2 1.41-.59l7.78-7.78 2.81-2.81c.8-.78.8-2.07 0-2.86zM5.41 20L4 18.59l7.72-7.72 1.47 1.35L5.41 20z\"/>\n",
              "  </svg>\n",
              "      </button>\n",
              "      \n",
              "  <style>\n",
              "    .colab-df-container {\n",
              "      display:flex;\n",
              "      flex-wrap:wrap;\n",
              "      gap: 12px;\n",
              "    }\n",
              "\n",
              "    .colab-df-convert {\n",
              "      background-color: #E8F0FE;\n",
              "      border: none;\n",
              "      border-radius: 50%;\n",
              "      cursor: pointer;\n",
              "      display: none;\n",
              "      fill: #1967D2;\n",
              "      height: 32px;\n",
              "      padding: 0 0 0 0;\n",
              "      width: 32px;\n",
              "    }\n",
              "\n",
              "    .colab-df-convert:hover {\n",
              "      background-color: #E2EBFA;\n",
              "      box-shadow: 0px 1px 2px rgba(60, 64, 67, 0.3), 0px 1px 3px 1px rgba(60, 64, 67, 0.15);\n",
              "      fill: #174EA6;\n",
              "    }\n",
              "\n",
              "    [theme=dark] .colab-df-convert {\n",
              "      background-color: #3B4455;\n",
              "      fill: #D2E3FC;\n",
              "    }\n",
              "\n",
              "    [theme=dark] .colab-df-convert:hover {\n",
              "      background-color: #434B5C;\n",
              "      box-shadow: 0px 1px 3px 1px rgba(0, 0, 0, 0.15);\n",
              "      filter: drop-shadow(0px 1px 2px rgba(0, 0, 0, 0.3));\n",
              "      fill: #FFFFFF;\n",
              "    }\n",
              "  </style>\n",
              "\n",
              "      <script>\n",
              "        const buttonEl =\n",
              "          document.querySelector('#df-95ac4d64-9a20-48f1-958b-3b1902c43089 button.colab-df-convert');\n",
              "        buttonEl.style.display =\n",
              "          google.colab.kernel.accessAllowed ? 'block' : 'none';\n",
              "\n",
              "        async function convertToInteractive(key) {\n",
              "          const element = document.querySelector('#df-95ac4d64-9a20-48f1-958b-3b1902c43089');\n",
              "          const dataTable =\n",
              "            await google.colab.kernel.invokeFunction('convertToInteractive',\n",
              "                                                     [key], {});\n",
              "          if (!dataTable) return;\n",
              "\n",
              "          const docLinkHtml = 'Like what you see? Visit the ' +\n",
              "            '<a target=\"_blank\" href=https://colab.research.google.com/notebooks/data_table.ipynb>data table notebook</a>'\n",
              "            + ' to learn more about interactive tables.';\n",
              "          element.innerHTML = '';\n",
              "          dataTable['output_type'] = 'display_data';\n",
              "          await google.colab.output.renderOutput(dataTable, element);\n",
              "          const docLink = document.createElement('div');\n",
              "          docLink.innerHTML = docLinkHtml;\n",
              "          element.appendChild(docLink);\n",
              "        }\n",
              "      </script>\n",
              "    </div>\n",
              "  </div>\n",
              "  "
            ]
          },
          "metadata": {}
        }
      ],
      "source": [
        "# Расчитаем кофициент корреляции между всеми признаками попарно\n",
        "corr = gym.corr().round(2)\n",
        "display(corr)"
      ]
    },
    {
      "cell_type": "code",
      "execution_count": 30,
      "metadata": {
        "colab": {
          "base_uri": "https://localhost:8080/",
          "height": 772
        },
        "id": "zDwN_j7yjn85",
        "outputId": "8cd88ecf-5eba-45c2-e50f-8c77050354a1"
      },
      "outputs": [
        {
          "output_type": "display_data",
          "data": {
            "text/plain": [
              "<Figure size 864x720 with 2 Axes>"
            ],
            "image/png": "[encoded data removed]"
          },
          "metadata": {}
        }
      ],
      "source": [
        "# Построим тепловую карту\n",
        "mask = np.zeros_like(corr) # Создадим маску чтобы скрыть зеркальную часть\n",
        "mask[np.triu_indices_from(mask)] = True\n",
        "with sns.axes_style(\"white\"):\n",
        "    f, ax = plt.subplots(figsize=(12, 10))\n",
        "    plt.title('Корреляция между показателями по оттоку клиентов для фитнес-центра')\n",
        "    ax = sns.heatmap(corr, mask=mask, vmax=.3, square=True, annot=True, linewidths=.3)"
      ]
    },
    {
      "cell_type": "markdown",
      "metadata": {
        "id": "naqdTrwBjn85"
      },
      "source": [
        "**Выводы:**   \n",
        "1. На основе корреляции мы видим, что такие признаки как пол и наличие контактного телефона почти не влияют на конечный показатель оттока. Все остальные показатели имеют обратное влияние: слабое, либо чуть более сильное. Явно влияющих признаков, сильно связанных с результирующим показателем, предварительный анализ не выделил.   \n",
        "1. Также отметим, что имеется сильная связь (кофф.коррелиции - 0.97) между показателями длительности абонемента и количеством месяцев до конца абонемента. Это говорит о том, что в выборке представлены клиенты, которые отобраны на определённом этапе покупки абонемента. Скорее всего, в начале действия абонемента. Также наблюдается сильная связь (0.95) между средней частотой посщений в неделю с начала пользования услугами и за предыдущий месяц. Это говорит о другой зависимости: скорее всего, клиенты посещают фитнес-центр примерно одинаковое число раз в неделю вне зависимости от того, сколько они пользуются услугами центра.   \n",
        "    \n",
        "Для того, чтобы такие признаки не доминировали над остальными переменными при обучении, удалим из модели month_to_end_contract и avg_class_frequency_total."
      ]
    },
    {
      "cell_type": "code",
      "execution_count": 31,
      "metadata": {
        "id": "0UEGGDamjn85"
      },
      "outputs": [],
      "source": [
        "# Удалим из модели month_to_end_contract и avg_class_frequency_total\n",
        "gym = gym.drop(['month_to_end_contract', 'avg_class_frequency_total'], axis=1)"
      ]
    },
    {
      "cell_type": "markdown",
      "metadata": {
        "id": "y0hRlIfSjn86"
      },
      "source": [
        "### Выводы<a id=\"summary_3\"></a>"
      ]
    },
    {
      "cell_type": "markdown",
      "metadata": {
        "id": "66RLpoGvjn86"
      },
      "source": [
        "**Анализ показателей:**\n",
        "1. *Отток клиентов*. У нас есть данные о клиентах, которые продолжают пользоваться услугами фитнес-центра (лояльные клиенты) и тех, кто \"ушёл\" (нелояльные клиенты). При этом в выборке больше тех, кто продолжает пользоваться услугами (средняя близка к 0,3, а медиана равна 0).   \n",
        "1. *Пол клиентов*. У нас имеются данные о мужчинах и женщинах. При этом в выборке их равное количество (средняя близка к 0,5, а медианное значение равно 1). Для уходящих в отток клиентов и остающихся распределения этого признака имеют схожий вид.  \n",
        "1. *Близость к фитнес-центру*. У нас имеются данные о людях, которые живут или работают рядом с фитнес-центром, либо в отдалённости от него. При этом в выборке больше тех, кто живёт или работает рядом (так как средняя близка к 0,85, а первый квартиль равен 1). А в группе, которая лояльна к фитнес-центру, чуть больше человек, которые живут или работают поблизости, чем тех, кто находится в отдалённости. Однако, распределения по этому признаку для лояльных и нелояльных клиентов не сильно отличаются друг от друга.   \n",
        "1. *Сотрудники компании-партнёра*. Данные о людях, которые являются или не являются сотрудниками компании-партнёра клуба, представлены в выборке примерно в равной пропорции (средняя близка к 0,5). Есть различия в оттоке между теми, кто является сотрудником компании-партнёра клуба. Среди тех, кто остался примерно половина и тех, кто связан с партнёрами, и тех, кто не связан, с небольшим преобладанием первых. Но из тех, кто ушёл в отток, больше клиентов, не связанных с компанией-партнёром. Это же выражено и в распределении соответствующих данных.   \n",
        "1. *Промо-акция*. У нас имеются данные о людях, которые приобрели или не приобрели первый абонемент по акции \"Приведи друга\". При этом в обеих группах больше людей, которые приобрели первый абонемент не по промо-акции \"Приведи друга\" (так как средняя близка к 0,3, а медиана равна 0). Но среди тех, кто остался, пришедших по промо-акции больше, хотя распределения у лояльных клиентов и ушедших близки.   \n",
        "1. *Контактный телефон*. В имеющихся данных по клиентам либо есть данные о контактном телефоне, либо их нет. При этом в выборке больше тех, для кого представлена контактная информация (так как средняя близка к 0,9, а четвёртый квартиль равен 1) для обоих категорий: лояльных и нелояльных клиентов (распределения схожи).   \n",
        "1. *Возраст клиентов*. У нас имеются данные о клиентах возрастом от 18 до 41 года (при этом нет клиентов в возрасте 40 лет). Средний возраст равен 29 годам. При этом люди разного возраста выбраны достаточно равномерно (так как средняя близка к медиане, распределение для лояльных и нелояльных клиентов нормальное, а стандартное отклонение очень низкое). Распределение для лояльных клиентов немного смещено вправо, а для ушедших клиентов - влево. Так, в группе лояльных фитнес-центру людей средний возраст составляет около 30 лет, а среди уходящих - около 27 лет. То есть вторая группа чуть младше.   \n",
        "1. *Время с первого обращения*. У нас имеются данные о клиентах, которые обращались в фитнес-центр впервые от 0 до 31 месяца назад (при этом нет клиентов, у которых прошло 25, 28 или 30 месяцев с момента первого обращения). Среднее время с момента первого обращения составляет 3 месяца. При этом есть перекос в данных, так как среднее значение ближе к 4 месяцам. Распределение времени с момента первого обращения для обоих групп (лояльных и нелояльных) похоже на распределение Пуассона. Но для ушедших в отток клиентов оно сильно смещено влево, практически не имея значения в более высоких значениях, а для лояльных клиентов принимает более высокие значения. Таким образом, среднее время с момента первого обращения для уходящих в отток составило 1 месяц, а для тех, кто остался, близко к 5 месяцам. Клиенты, проявляющие в первые месяцы лояльность, скорее всего, не уйдут в отток после длительного периода пользования услугами фитнес-центра.   \n",
        "1. *Длительность абонемента*. Действующий абонемент по рассматриваемым клиентам имеет срок в 1, 6 и 12 месяцев (в выборку не попали клиенты, у которых срок составляет 3 месяца). Средняя длительность действующего абонемента составляет 4-5 месяцев. При этом есть перекос в данных: для большинства срок действующего абонемента равен 1 месяцу. Длительность действующего абонемента по оставшимся пользователям в среднем около 5-6 месяцев, а по ушедшим - 1-2 месяца. Это говорит о том, что купившие длительный абонемент с большей неохотой уйдут в отток, чем те, у кого он действует на короткий срок.   \n",
        "1. *Время до окончания абонемента*. У нас имеются данные по клиентам, до окончания абонементов которых осталось от 1 до 12 месяцев. В среднем это значение около 4 месяцев. При этом больше половины всей выборки - это люди, до конца абонементов которых остался 1 месяц. Различия в распределении групп (лояльных и нелояльных клиентов) по сроку до окончания действующего абонемента такие же, как и в распределениях по длительности абонемента. В среднем срок до окончания действующего абонемента у людей, ушедших в отток, около 1-2 месяцев, а у оставшихся клиентов - около 5 месяцев. Это снова указывает на то, что уходят в большей степени те, у кого длительность оставшегося абонемента невысока.   \n",
        "1. *Групповые занятия*. У нас есть данные о клиентах, которые посещают групповые занятия или не посещают. При этом в выборке чуть больше тех, кто не посещает такие занятия (средняя близка к 0,4, а медиана равна 0). При этом среди лояльных клиентов распределение посещающих такие занятия и непосещающих примерно равномерно (вторых чуть больше); но среди тех, кто ушёл в отток, непосещающих групповые занятия значительно больше, чем тех, кто их посещает.   \n",
        "1. *Частота посещений за весь срок*. У нас имеются данные по клиентам со средней частотой посещений за все время с начала действия абонемента от 0 до 6 раз в неделю. В среднем это значение составляет около 2 раз в неделю. При этом выборка равномерная, так как среднее почти равно медиане, а стандартное отклонение невысоко. Распределение для средней частоты посещений в неделю за время действия абонемента в обоих группах (лояльные и нелояльные клиенты) является нормальным. Для лояльной группы оно немного смещено влево, а для группы уходящих в отток имеется сильное смещение влево. Лояльные клиенты, в среднем, посещают центр 2 раза в неделю, а ушедшие - от 1 до 2.   \n",
        "1. *Частота посещений за месяц*. У нас имеются данные по клиентам со средней частотой посещений за месяц от 0 до 6 раз в неделю. В среднем это значение составляет около 2 раз в неделю. Распределения и средние значения схожи с распределениями аналогичного показателя за весь срок абонемента.   \n",
        "1. *Выручка от прочих услуг*. Выручка от прочих услуг фитнес-центра с клиента составила от 0,15 до 552,6 ден.ед. В среднем это значение составляет около 147 ден.ед., медиана равна 136 ден.ед. Разброс данных очень большой (мы не знаем наверняка, в каких ден.ед. измеряются данные). Средняя выручка от других услуг фитнес-центра между группами разнится на 43 ден.ед. (в группе лояльных она выше, чем в группе уходящих). Распределение средней выручки от других услуг фитнес-центра для обоих датасетов смещено влево с большим смещением для ушедших людей. То есть те, кто уходит, стараются минимизировать затраты на дополнительные услуги в фитнес-центре.   \n",
        "\n",
        "**Анализ коррелиции**   \n",
        "1. На основе корреляции мы видим, что такие признаки как пол и наличие контактного телефона почти не влияют на конечный показатель оттока.   \n",
        "1. Все остальные показатели имеют обратное влияние: слабое, либо чуть более сильное. Явно влияющих признаков, тесно связанных с результирующим показателем, предварительный анализ не выявил.   \n",
        "1. Отметим, что имеется сильная связь между показателями длительности абонемента и количеством месяцев до конца абонемента. Это говорит о том, что в выборке представлены клиенты, которые отобраны на определённом этапе покупки абонемента. Скорее всего, в начале действия абонемента.   \n",
        "1. Также наблюдается сильная связь между средней частотой посщений в неделю с началап пользования услугами и за предыдущий месяц. Это говорит о другой зависимости: скорее всего, клиенты посещают фитнес-центр примерно одинаковое число раз в неделю вне зависимости от того, сколько они пользуются услугами центра."
      ]
    },
    {
      "cell_type": "markdown",
      "metadata": {
        "id": "NWk8ooM2jn86"
      },
      "source": [
        "---"
      ]
    },
    {
      "cell_type": "markdown",
      "metadata": {
        "id": "KUL6AxUhjn86"
      },
      "source": [
        "## Построение модели прогнозирования оттока пользователей<a id=\"model\"></a>"
      ]
    },
    {
      "cell_type": "markdown",
      "metadata": {
        "id": "JLhJbnO1jn86"
      },
      "source": [
        "### Выделение обучающей и валидационной выборок<a id=\"selection\"></a>"
      ]
    },
    {
      "cell_type": "code",
      "execution_count": 32,
      "metadata": {
        "id": "QyBj9dmYjn86"
      },
      "outputs": [],
      "source": [
        "# Разделим данные на признаки (матрица x) и целевую переменную (y)\n",
        "x = gym.drop('churn', axis = 1)\n",
        "y = gym['churn']\n",
        "\n",
        "# Разделим выборку на обучающую и валидационную\n",
        "# на 80% будем обучать модель, а на 20% - проверять\n",
        "x_train, x_test, y_train, y_test = train_test_split(x, y, test_size=0.2, random_state=0, stratify=y)\n",
        "\n",
        "# Cтандартизируем данные\n",
        "scaler = StandardScaler()\n",
        "scaler.fit(x_train)\n",
        "x_train_st = scaler.transform(x_train)\n",
        "x_test_st = scaler.transform(x_test)"
      ]
    },
    {
      "cell_type": "markdown",
      "metadata": {
        "id": "tIYBM0BSjn86"
      },
      "source": [
        "### Обучение моделей<a id=\"training\"></a>"
      ]
    },
    {
      "cell_type": "markdown",
      "metadata": {
        "id": "zamjGCWUjn87"
      },
      "source": [
        "**Логистическая регрессия**"
      ]
    },
    {
      "cell_type": "code",
      "execution_count": 33,
      "metadata": {
        "id": "sbt_Q6QHjn87"
      },
      "outputs": [],
      "source": [
        "# Зададим алгоритм для модели\n",
        "logreg_model = LogisticRegression(random_state=0)\n",
        "\n",
        "# Обучим модель\n",
        "logreg_model.fit(x_train_st, y_train)\n",
        "\n",
        "# Воспользуемся обученной моделью, чтобы сделать прогнозы\n",
        "logreg_predictions = logreg_model.predict(x_test_st)\n",
        "logreg_probabilities = logreg_model.predict_proba(x_test_st)[:,1]"
      ]
    },
    {
      "cell_type": "markdown",
      "metadata": {
        "id": "soQrDic7jn87"
      },
      "source": [
        "**Случайный лес**"
      ]
    },
    {
      "cell_type": "code",
      "execution_count": 34,
      "metadata": {
        "id": "TrUUBUH7jn87"
      },
      "outputs": [],
      "source": [
        "# Зададим алгоритм для модели\n",
        "randfor_model = RandomForestClassifier(random_state=0)\n",
        "\n",
        "# Обучим модель\n",
        "randfor_model.fit(x_train_st, y_train)\n",
        "\n",
        "# Воспользуемся обученной моделью, чтобы сделать прогнозы\n",
        "randfor_predictions = randfor_model.predict(x_test_st)\n",
        "randfor_probabilities = randfor_model.predict_proba(x_test_st)[:,1]"
      ]
    },
    {
      "cell_type": "markdown",
      "metadata": {
        "id": "B7019VH3jn87"
      },
      "source": [
        "### Оценка метрик и сравнение моделей<a id=\"metrics\"></a>   \n",
        "   \n",
        "Создадим функцию для расчёта метрик:   \n",
        "* accuracy (доля правильных ответов);    \n",
        "* precision (точность);    \n",
        "* recall (полнота);   \n",
        "* ROC_AUC (метрика оценки качества классификатора)."
      ]
    },
    {
      "cell_type": "code",
      "execution_count": 35,
      "metadata": {
        "id": "A06MuF2Rjn87"
      },
      "outputs": [],
      "source": [
        "# Определим функцию, которая будет выводить наши метрики\n",
        "def print_metrics(y_true, y_pred, y_proba, model_name):\n",
        "    print(\"Метрики для модели \"+model_name)\n",
        "    print('\\tAccuracy: {:.2f}'.format(accuracy_score(y_true, y_pred)))\n",
        "    print('\\tPrecision: {:.2f}'.format(precision_score(y_true, y_pred)))\n",
        "    print('\\tRecall: {:.2f}'.format(recall_score(y_true, y_pred)))\n",
        "    print('\\tROC_AUC: {:.2f}'.format(roc_auc_score(y_true, y_proba)))"
      ]
    },
    {
      "cell_type": "code",
      "execution_count": 36,
      "metadata": {
        "colab": {
          "base_uri": "https://localhost:8080/"
        },
        "id": "6frj7niCjn87",
        "outputId": "b3eea465-eaef-46fc-a3a6-521544c5c403"
      },
      "outputs": [
        {
          "output_type": "stream",
          "name": "stdout",
          "text": [
            "Метрики для модели логистической регрессии\n",
            "\tAccuracy: 0.92\n",
            "\tPrecision: 0.85\n",
            "\tRecall: 0.84\n",
            "\tROC_AUC: 0.97\n",
            "\n",
            "Метрики для модели случайного леса\n",
            "\tAccuracy: 0.91\n",
            "\tPrecision: 0.85\n",
            "\tRecall: 0.77\n",
            "\tROC_AUC: 0.96\n"
          ]
        }
      ],
      "source": [
        "# Рассчитаем метрики для модели логистической регрессии\n",
        "print_metrics(y_test, logreg_predictions, logreg_probabilities, 'логистической регрессии')\n",
        "print()\n",
        "# Рассчитаем метрики для модели случайного леса\n",
        "print_metrics(y_test, randfor_predictions, randfor_probabilities, 'случайного леса')"
      ]
    },
    {
      "cell_type": "markdown",
      "metadata": {
        "id": "FtRsbUwwjn87"
      },
      "source": [
        "**Вывод** Обе модели достаточно хорошо способны делать прогноз. Однако, модель логистической регрессии подходит больше по всем показателям: доле правильных ответов (accuracy), точности (precision) и наиболее точной метрике оценки качества классификатора ROC_AUC."
      ]
    },
    {
      "cell_type": "markdown",
      "metadata": {
        "id": "CL7Gp_uijn88"
      },
      "source": [
        "### Выводы<a id=\"summary_4\"></a>"
      ]
    },
    {
      "cell_type": "markdown",
      "metadata": {
        "id": "ffvxSh7pjn88"
      },
      "source": [
        "1. При построении модели мы разделили выборку на обучащую и валидационную в соотношении 80 к 20, то есть на 80% данных модель была обучена, а на 20% - проверена. После этого были построены и обучены 2 модели: алгоритмом логистической регрессии и алгоритмом случайного леса.   \n",
        "    \n",
        "1. Основные метрики полученных моделей следующие.   \n",
        "  \n",
        "Для модели логистической регрессии:   \n",
        "* Accuracy = 0,92;   \n",
        "* Precision = 0,85;   \n",
        "* Recall = 0,84;   \n",
        "* ROC_AUC = 0,97. \n",
        "\n",
        "Для модели случайного леса:   \n",
        "* Accuracy = 0,91;   \n",
        "* Precision = 0,85;    \n",
        "* Recall = 0,77;   \n",
        "* ROC_AUC = 0,96.  \n",
        "3. Таким образом, обе модели достаточно хорошо способны делать прогноз. Однако, модель логистической регрессии подходит больше по всем показателям: доле правильных ответов (accuracy), точности (precision), полноте (recall) и метрике оценки качества классификатора ROC_AUC."
      ]
    },
    {
      "cell_type": "markdown",
      "metadata": {
        "id": "RU917wBIjn88"
      },
      "source": [
        "---"
      ]
    },
    {
      "cell_type": "markdown",
      "metadata": {
        "id": "GHebybFBjn88"
      },
      "source": [
        "## Кластеризация пользователей<a id=\"clustering\"></a>"
      ]
    },
    {
      "cell_type": "markdown",
      "metadata": {
        "id": "G2_v7Xx7jn88"
      },
      "source": [
        "### Стандартизация данных<a id=\"standardization\"></a>"
      ]
    },
    {
      "cell_type": "code",
      "execution_count": 37,
      "metadata": {
        "id": "6mBkf3oljn88"
      },
      "outputs": [],
      "source": [
        "# Стандартизируем данные\n",
        "scaler = StandardScaler()\n",
        "x_st = scaler.fit_transform(x)"
      ]
    },
    {
      "cell_type": "markdown",
      "metadata": {
        "id": "btYOagdwjn88"
      },
      "source": [
        "### Построение матрицы расстояний и дендрограммы<a id=\"matrix\"></a>"
      ]
    },
    {
      "cell_type": "code",
      "execution_count": 38,
      "metadata": {
        "colab": {
          "base_uri": "https://localhost:8080/",
          "height": 646
        },
        "id": "ZNZIsXiGjn89",
        "outputId": "292a596e-dfe5-4bb2-e745-784b09326891"
      },
      "outputs": [
        {
          "output_type": "display_data",
          "data": {
            "text/plain": [
              "<Figure size 1080x720 with 1 Axes>"
            ],
            "image/png": "[encoded data removed]"
          },
          "metadata": {
            "needs_background": "light"
          }
        },
        {
          "output_type": "stream",
          "name": "stdout",
          "text": [
            "CPU times: user 1min 42s, sys: 10 s, total: 1min 52s\n",
            "Wall time: 1min 59s\n"
          ]
        }
      ],
      "source": [
        "%%time\n",
        "# Создадим матрицу расстояний\n",
        "links = linkage(x_st, method = 'ward')\n",
        "\n",
        "# Построим дендрограмму\n",
        "plt.figure(figsize=(15, 10))\n",
        "plt.title('Кластеризация пользователей фитнес-центра')\n",
        "dendrogram(links, orientation='top')\n",
        "plt.show()"
      ]
    },
    {
      "cell_type": "markdown",
      "metadata": {
        "id": "HFWotBR3jn89"
      },
      "source": [
        "**Вывод** По дендрограмме можно предположить наличие четырёх кластеров в данных.   \n",
        "Было принято решение для прогноза кластеров клиентов использовать пять кластеров - т.к. правый кластер на дендограмме  слишком большой по сравнению с другими - возможно его стоит разбить. Обучим модель кластеризации на основании алгоритма K-Means и спрогнозируем кластеры клиентов.  "
      ]
    },
    {
      "cell_type": "markdown",
      "metadata": {
        "id": "c8X8nvnljn89"
      },
      "source": [
        "### Обучение модели кластеризации и прогноз кластеров клиентов<a id=\"clust_training\"></a>"
      ]
    },
    {
      "cell_type": "code",
      "execution_count": 39,
      "metadata": {
        "colab": {
          "base_uri": "https://localhost:8080/",
          "height": 237
        },
        "id": "GiI8QgWmjn89",
        "outputId": "c18f5dba-bfdc-4e99-d9c0-4b7e39d6cc2f"
      },
      "outputs": [
        {
          "output_type": "display_data",
          "data": {
            "text/plain": [
              "            gender  near_location  partner  promo_friends  phone  \\\n",
              "cluster_km                                                         \n",
              "cluster_1     0.50           1.00     0.89           1.00    1.0   \n",
              "cluster_2     0.50           0.00     0.49           0.08    1.0   \n",
              "cluster_3     0.50           1.00     0.22           0.07    1.0   \n",
              "cluster_4     0.53           1.00     0.38           0.01    1.0   \n",
              "cluster_5     0.52           0.86     0.47           0.31    0.0   \n",
              "\n",
              "            contract_period  group_visits    age  \\\n",
              "cluster_km                                         \n",
              "cluster_1              6.92          0.52  29.61   \n",
              "cluster_2              2.99          0.23  28.68   \n",
              "cluster_3              2.01          0.28  27.58   \n",
              "cluster_4              6.21          0.54  30.70   \n",
              "cluster_5              4.78          0.43  29.30   \n",
              "\n",
              "            avg_additional_charges_total  lifetime  \\\n",
              "cluster_km                                           \n",
              "cluster_1                         153.42      4.28   \n",
              "cluster_2                         137.13      2.97   \n",
              "cluster_3                         119.34      1.92   \n",
              "cluster_4                         176.26      5.42   \n",
              "cluster_5                         144.21      3.94   \n",
              "\n",
              "            avg_class_frequency_current_month  churn  \n",
              "cluster_km                                            \n",
              "cluster_1                                1.92   0.12  \n",
              "cluster_2                                1.60   0.40  \n",
              "cluster_3                                1.20   0.56  \n",
              "cluster_4                                2.32   0.01  \n",
              "cluster_5                                1.72   0.27  "
            ],
            "text/html": [
              "\n",
              "  <div id=\"df-6c5fda0d-4f4e-45ae-9bc7-6423b762e800\">\n",
              "    <div class=\"colab-df-container\">\n",
              "      <div>\n",
              "<style scoped>\n",
              "    .dataframe tbody tr th:only-of-type {\n",
              "        vertical-align: middle;\n",
              "    }\n",
              "\n",
              "    .dataframe tbody tr th {\n",
              "        vertical-align: top;\n",
              "    }\n",
              "\n",
              "    .dataframe thead th {\n",
              "        text-align: right;\n",
              "    }\n",
              "</style>\n",
              "<table border=\"1\" class=\"dataframe\">\n",
              "  <thead>\n",
              "    <tr style=\"text-align: right;\">\n",
              "      <th></th>\n",
              "      <th>gender</th>\n",
              "      <th>near_location</th>\n",
              "      <th>partner</th>\n",
              "      <th>promo_friends</th>\n",
              "      <th>phone</th>\n",
              "      <th>contract_period</th>\n",
              "      <th>group_visits</th>\n",
              "      <th>age</th>\n",
              "      <th>avg_additional_charges_total</th>\n",
              "      <th>lifetime</th>\n",
              "      <th>avg_class_frequency_current_month</th>\n",
              "      <th>churn</th>\n",
              "    </tr>\n",
              "    <tr>\n",
              "      <th>cluster_km</th>\n",
              "      <th></th>\n",
              "      <th></th>\n",
              "      <th></th>\n",
              "      <th></th>\n",
              "      <th></th>\n",
              "      <th></th>\n",
              "      <th></th>\n",
              "      <th></th>\n",
              "      <th></th>\n",
              "      <th></th>\n",
              "      <th></th>\n",
              "      <th></th>\n",
              "    </tr>\n",
              "  </thead>\n",
              "  <tbody>\n",
              "    <tr>\n",
              "      <th>cluster_1</th>\n",
              "      <td>0.50</td>\n",
              "      <td>1.00</td>\n",
              "      <td>0.89</td>\n",
              "      <td>1.00</td>\n",
              "      <td>1.0</td>\n",
              "      <td>6.92</td>\n",
              "      <td>0.52</td>\n",
              "      <td>29.61</td>\n",
              "      <td>153.42</td>\n",
              "      <td>4.28</td>\n",
              "      <td>1.92</td>\n",
              "      <td>0.12</td>\n",
              "    </tr>\n",
              "    <tr>\n",
              "      <th>cluster_2</th>\n",
              "      <td>0.50</td>\n",
              "      <td>0.00</td>\n",
              "      <td>0.49</td>\n",
              "      <td>0.08</td>\n",
              "      <td>1.0</td>\n",
              "      <td>2.99</td>\n",
              "      <td>0.23</td>\n",
              "      <td>28.68</td>\n",
              "      <td>137.13</td>\n",
              "      <td>2.97</td>\n",
              "      <td>1.60</td>\n",
              "      <td>0.40</td>\n",
              "    </tr>\n",
              "    <tr>\n",
              "      <th>cluster_3</th>\n",
              "      <td>0.50</td>\n",
              "      <td>1.00</td>\n",
              "      <td>0.22</td>\n",
              "      <td>0.07</td>\n",
              "      <td>1.0</td>\n",
              "      <td>2.01</td>\n",
              "      <td>0.28</td>\n",
              "      <td>27.58</td>\n",
              "      <td>119.34</td>\n",
              "      <td>1.92</td>\n",
              "      <td>1.20</td>\n",
              "      <td>0.56</td>\n",
              "    </tr>\n",
              "    <tr>\n",
              "      <th>cluster_4</th>\n",
              "      <td>0.53</td>\n",
              "      <td>1.00</td>\n",
              "      <td>0.38</td>\n",
              "      <td>0.01</td>\n",
              "      <td>1.0</td>\n",
              "      <td>6.21</td>\n",
              "      <td>0.54</td>\n",
              "      <td>30.70</td>\n",
              "      <td>176.26</td>\n",
              "      <td>5.42</td>\n",
              "      <td>2.32</td>\n",
              "      <td>0.01</td>\n",
              "    </tr>\n",
              "    <tr>\n",
              "      <th>cluster_5</th>\n",
              "      <td>0.52</td>\n",
              "      <td>0.86</td>\n",
              "      <td>0.47</td>\n",
              "      <td>0.31</td>\n",
              "      <td>0.0</td>\n",
              "      <td>4.78</td>\n",
              "      <td>0.43</td>\n",
              "      <td>29.30</td>\n",
              "      <td>144.21</td>\n",
              "      <td>3.94</td>\n",
              "      <td>1.72</td>\n",
              "      <td>0.27</td>\n",
              "    </tr>\n",
              "  </tbody>\n",
              "</table>\n",
              "</div>\n",
              "      <button class=\"colab-df-convert\" onclick=\"convertToInteractive('df-6c5fda0d-4f4e-45ae-9bc7-6423b762e800')\"\n",
              "              title=\"Convert this dataframe to an interactive table.\"\n",
              "              style=\"display:none;\">\n",
              "        \n",
              "  <svg xmlns=\"http://www.w3.org/2000/svg\" height=\"24px\"viewBox=\"0 0 24 24\"\n",
              "       width=\"24px\">\n",
              "    <path d=\"M0 0h24v24H0V0z\" fill=\"none\"/>\n",
              "    <path d=\"M18.56 5.44l.94 2.06.94-2.06 2.06-.94-2.06-.94-.94-2.06-.94 2.06-2.06.94zm-11 1L8.5 8.5l.94-2.06 2.06-.94-2.06-.94L8.5 2.5l-.94 2.06-2.06.94zm10 10l.94 2.06.94-2.06 2.06-.94-2.06-.94-.94-2.06-.94 2.06-2.06.94z\"/><path d=\"M17.41 7.96l-1.37-1.37c-.4-.4-.92-.59-1.43-.59-.52 0-1.04.2-1.43.59L10.3 9.45l-7.72 7.72c-.78.78-.78 2.05 0 2.83L4 21.41c.39.39.9.59 1.41.59.51 0 1.02-.2 1.41-.59l7.78-7.78 2.81-2.81c.8-.78.8-2.07 0-2.86zM5.41 20L4 18.59l7.72-7.72 1.47 1.35L5.41 20z\"/>\n",
              "  </svg>\n",
              "      </button>\n",
              "      \n",
              "  <style>\n",
              "    .colab-df-container {\n",
              "      display:flex;\n",
              "      flex-wrap:wrap;\n",
              "      gap: 12px;\n",
              "    }\n",
              "\n",
              "    .colab-df-convert {\n",
              "      background-color: #E8F0FE;\n",
              "      border: none;\n",
              "      border-radius: 50%;\n",
              "      cursor: pointer;\n",
              "      display: none;\n",
              "      fill: #1967D2;\n",
              "      height: 32px;\n",
              "      padding: 0 0 0 0;\n",
              "      width: 32px;\n",
              "    }\n",
              "\n",
              "    .colab-df-convert:hover {\n",
              "      background-color: #E2EBFA;\n",
              "      box-shadow: 0px 1px 2px rgba(60, 64, 67, 0.3), 0px 1px 3px 1px rgba(60, 64, 67, 0.15);\n",
              "      fill: #174EA6;\n",
              "    }\n",
              "\n",
              "    [theme=dark] .colab-df-convert {\n",
              "      background-color: #3B4455;\n",
              "      fill: #D2E3FC;\n",
              "    }\n",
              "\n",
              "    [theme=dark] .colab-df-convert:hover {\n",
              "      background-color: #434B5C;\n",
              "      box-shadow: 0px 1px 3px 1px rgba(0, 0, 0, 0.15);\n",
              "      filter: drop-shadow(0px 1px 2px rgba(0, 0, 0, 0.3));\n",
              "      fill: #FFFFFF;\n",
              "    }\n",
              "  </style>\n",
              "\n",
              "      <script>\n",
              "        const buttonEl =\n",
              "          document.querySelector('#df-6c5fda0d-4f4e-45ae-9bc7-6423b762e800 button.colab-df-convert');\n",
              "        buttonEl.style.display =\n",
              "          google.colab.kernel.accessAllowed ? 'block' : 'none';\n",
              "\n",
              "        async function convertToInteractive(key) {\n",
              "          const element = document.querySelector('#df-6c5fda0d-4f4e-45ae-9bc7-6423b762e800');\n",
              "          const dataTable =\n",
              "            await google.colab.kernel.invokeFunction('convertToInteractive',\n",
              "                                                     [key], {});\n",
              "          if (!dataTable) return;\n",
              "\n",
              "          const docLinkHtml = 'Like what you see? Visit the ' +\n",
              "            '<a target=\"_blank\" href=https://colab.research.google.com/notebooks/data_table.ipynb>data table notebook</a>'\n",
              "            + ' to learn more about interactive tables.';\n",
              "          element.innerHTML = '';\n",
              "          dataTable['output_type'] = 'display_data';\n",
              "          await google.colab.output.renderOutput(dataTable, element);\n",
              "          const docLink = document.createElement('div');\n",
              "          docLink.innerHTML = docLinkHtml;\n",
              "          element.appendChild(docLink);\n",
              "        }\n",
              "      </script>\n",
              "    </div>\n",
              "  </div>\n",
              "  "
            ]
          },
          "metadata": {}
        }
      ],
      "source": [
        "# Зададим модель k_means с числом кластеров 5\n",
        "km = KMeans(n_clusters = 5, random_state=0)\n",
        "\n",
        "# Спрогнозируем кластеры для наблюдений\n",
        "labels = km.fit_predict(x_st)\n",
        "\n",
        "# Сохраним метки кластера в поле нашего датасета\n",
        "gym['cluster_km'] = labels\n",
        "\n",
        "# Переименуем названия кластеров\n",
        "gym.loc[gym['cluster_km']==0, 'cluster_km'] = 'cluster_1'\n",
        "gym.loc[gym['cluster_km']==1, 'cluster_km'] = 'cluster_2'\n",
        "gym.loc[gym['cluster_km']==2, 'cluster_km'] = 'cluster_3'\n",
        "gym.loc[gym['cluster_km']==3, 'cluster_km'] = 'cluster_4'\n",
        "gym.loc[gym['cluster_km']==4, 'cluster_km'] = 'cluster_5'\n",
        "\n",
        "# Выведем средние значения признаков для кластеров\n",
        "display(gym.groupby('cluster_km').mean().round(2))"
      ]
    },
    {
      "cell_type": "markdown",
      "metadata": {
        "id": "9fIPu2knjn89"
      },
      "source": [
        "**Вывод** При взгляде на таблицу чётко отделяемые группы выделить можно по ряду признаков. Однако, для более наглядного разделения требуется построить распределение для каждого признака по кластерам."
      ]
    },
    {
      "cell_type": "markdown",
      "metadata": {
        "id": "iZz4gEG4jn89"
      },
      "source": [
        "### Анализ распределения признаков для кластеров<a id=\"features\"></a>   \n",
        "   \n",
        "Для анализа распределения признаков в кластерах построим столбчатые диаграммы для логических и дискретных переменных (пол, близость к фитнес-центру, принадлежность к компании-партнёру, первое посещение по акции \"Приведи друга\", наличие контакта, длительность абонемента, посещение групповых занятий, отток) и боксплоты для непрерывных переменных (возраст, время с момента первого обращения, показатели средней частоты посещений в неделю за месяц, выручка от других услуг)."
      ]
    },
    {
      "cell_type": "code",
      "execution_count": 40,
      "metadata": {
        "scrolled": true,
        "colab": {
          "base_uri": "https://localhost:8080/",
          "height": 1000
        },
        "id": "u0PzMY_wjn8-",
        "outputId": "530cf238-4a9a-49dd-f1aa-7a57b0b8b07d"
      },
      "outputs": [
        {
          "output_type": "display_data",
          "data": {
            "text/plain": [
              "<Figure size 432x288 with 1 Axes>"
            ],
            "image/png": "[encoded data removed]"
          },
          "metadata": {
            "needs_background": "light"
          }
        },
        {
          "output_type": "display_data",
          "data": {
            "text/plain": [
              "<Figure size 432x288 with 1 Axes>"
            ],
            "image/png": "[encoded data removed]"
          },
          "metadata": {
            "needs_background": "light"
          }
        },
        {
          "output_type": "display_data",
          "data": {
            "text/plain": [
              "<Figure size 432x288 with 1 Axes>"
            ],
            "image/png": "[encoded data removed]"
          },
          "metadata": {
            "needs_background": "light"
          }
        },
        {
          "output_type": "display_data",
          "data": {
            "text/plain": [
              "<Figure size 432x288 with 1 Axes>"
            ],
            "image/png": "[encoded data removed]"
          },
          "metadata": {
            "needs_background": "light"
          }
        },
        {
          "output_type": "display_data",
          "data": {
            "text/plain": [
              "<Figure size 432x288 with 1 Axes>"
            ],
            "image/png": "[encoded data removed]"
          },
          "metadata": {
            "needs_background": "light"
          }
        },
        {
          "output_type": "display_data",
          "data": {
            "text/plain": [
              "<Figure size 432x288 with 1 Axes>"
            ],
            "image/png": "[encoded data removed]"
          },
          "metadata": {
            "needs_background": "light"
          }
        },
        {
          "output_type": "display_data",
          "data": {
            "text/plain": [
              "<Figure size 432x288 with 1 Axes>"
            ],
            "image/png": "[encoded data removed]"
          },
          "metadata": {
            "needs_background": "light"
          }
        },
        {
          "output_type": "display_data",
          "data": {
            "text/plain": [
              "<Figure size 432x288 with 1 Axes>"
            ],
            "image/png": "[encoded data removed]"
          },
          "metadata": {
            "needs_background": "light"
          }
        }
      ],
      "source": [
        "# Построим график для логических и дискретных величин\n",
        "log_discr_values = ['gender', 'near_location', 'partner', 'promo_friends', 'phone', 'contract_period', 'group_visits', 'churn']\n",
        "fig, ax = plt.subplots()\n",
        "for column in log_discr_values:\n",
        "    plt.title(\"Распределение признака \"+column)\n",
        "    sns.countplot(data=gym, x=column, hue='cluster_km')\n",
        "    plt.xlabel(column)\n",
        "    plt.ylabel(\"количество\")\n",
        "    plt.legend(bbox_to_anchor=(1.3, 1))\n",
        "    plt.show()"
      ]
    },
    {
      "cell_type": "code",
      "execution_count": 41,
      "metadata": {
        "scrolled": true,
        "colab": {
          "base_uri": "https://localhost:8080/",
          "height": 1000
        },
        "id": "FN5Z7MGyjn8-",
        "outputId": "8e0fc161-3a48-4ea4-f4ad-247fd5bf51b3"
      },
      "outputs": [
        {
          "output_type": "display_data",
          "data": {
            "text/plain": [
              "<Figure size 432x288 with 1 Axes>"
            ],
            "image/png": "[encoded data removed]"
          },
          "metadata": {
            "needs_background": "light"
          }
        },
        {
          "output_type": "display_data",
          "data": {
            "text/plain": [
              "<Figure size 432x288 with 1 Axes>"
            ],
            "image/png": "[encoded data removed]"
          },
          "metadata": {
            "needs_background": "light"
          }
        },
        {
          "output_type": "display_data",
          "data": {
            "text/plain": [
              "<Figure size 432x288 with 1 Axes>"
            ],
            "image/png": "[encoded data removed]"
          },
          "metadata": {
            "needs_background": "light"
          }
        },
        {
          "output_type": "display_data",
          "data": {
            "text/plain": [
              "<Figure size 432x288 with 1 Axes>"
            ],
            "image/png": "[encoded data removed]"
          },
          "metadata": {
            "needs_background": "light"
          }
        }
      ],
      "source": [
        "# Построим график для непрерывных величин\n",
        "cont_values = ['age', 'lifetime', 'avg_class_frequency_current_month', 'avg_additional_charges_total']\n",
        "fig, ax = plt.subplots()\n",
        "for column in cont_values:\n",
        "    plt.title(\"Распределение признака \"+column)\n",
        "    sns.boxplot(x='cluster_km', y=column, data=gym)\n",
        "    plt.xlabel('кластер')\n",
        "    plt.ylabel('значение '+column)\n",
        "    plt.show()"
      ]
    },
    {
      "cell_type": "markdown",
      "metadata": {
        "id": "q70yPyIEjn8-"
      },
      "source": [
        "Каждый из получившихся у нас кластеров мы охарактеризуем в параграфе с выводами по разделу 5. \n",
        "   \n"
      ]
    },
    {
      "cell_type": "markdown",
      "metadata": {
        "id": "kn4fmdN4jn8-"
      },
      "source": [
        "### Расчёт и анализ долей оттока для кластеров<a id=\"shares\"></a>"
      ]
    },
    {
      "cell_type": "code",
      "execution_count": 42,
      "metadata": {
        "colab": {
          "base_uri": "https://localhost:8080/",
          "height": 206
        },
        "id": "z_2-Vm3Wjn8-",
        "outputId": "c047f0c5-51db-4a98-ea77-666ee56d3d7e"
      },
      "outputs": [
        {
          "output_type": "display_data",
          "data": {
            "text/plain": [
              "  cluster_km  churn\n",
              "0  cluster_3   0.56\n",
              "1  cluster_2   0.40\n",
              "2  cluster_5   0.27\n",
              "3  cluster_1   0.12\n",
              "4  cluster_4   0.01"
            ],
            "text/html": [
              "\n",
              "  <div id=\"df-e19b14b9-22cf-4cab-a81a-9afa25c4222f\">\n",
              "    <div class=\"colab-df-container\">\n",
              "      <div>\n",
              "<style scoped>\n",
              "    .dataframe tbody tr th:only-of-type {\n",
              "        vertical-align: middle;\n",
              "    }\n",
              "\n",
              "    .dataframe tbody tr th {\n",
              "        vertical-align: top;\n",
              "    }\n",
              "\n",
              "    .dataframe thead th {\n",
              "        text-align: right;\n",
              "    }\n",
              "</style>\n",
              "<table border=\"1\" class=\"dataframe\">\n",
              "  <thead>\n",
              "    <tr style=\"text-align: right;\">\n",
              "      <th></th>\n",
              "      <th>cluster_km</th>\n",
              "      <th>churn</th>\n",
              "    </tr>\n",
              "  </thead>\n",
              "  <tbody>\n",
              "    <tr>\n",
              "      <th>0</th>\n",
              "      <td>cluster_3</td>\n",
              "      <td>0.56</td>\n",
              "    </tr>\n",
              "    <tr>\n",
              "      <th>1</th>\n",
              "      <td>cluster_2</td>\n",
              "      <td>0.40</td>\n",
              "    </tr>\n",
              "    <tr>\n",
              "      <th>2</th>\n",
              "      <td>cluster_5</td>\n",
              "      <td>0.27</td>\n",
              "    </tr>\n",
              "    <tr>\n",
              "      <th>3</th>\n",
              "      <td>cluster_1</td>\n",
              "      <td>0.12</td>\n",
              "    </tr>\n",
              "    <tr>\n",
              "      <th>4</th>\n",
              "      <td>cluster_4</td>\n",
              "      <td>0.01</td>\n",
              "    </tr>\n",
              "  </tbody>\n",
              "</table>\n",
              "</div>\n",
              "      <button class=\"colab-df-convert\" onclick=\"convertToInteractive('df-e19b14b9-22cf-4cab-a81a-9afa25c4222f')\"\n",
              "              title=\"Convert this dataframe to an interactive table.\"\n",
              "              style=\"display:none;\">\n",
              "        \n",
              "  <svg xmlns=\"http://www.w3.org/2000/svg\" height=\"24px\"viewBox=\"0 0 24 24\"\n",
              "       width=\"24px\">\n",
              "    <path d=\"M0 0h24v24H0V0z\" fill=\"none\"/>\n",
              "    <path d=\"M18.56 5.44l.94 2.06.94-2.06 2.06-.94-2.06-.94-.94-2.06-.94 2.06-2.06.94zm-11 1L8.5 8.5l.94-2.06 2.06-.94-2.06-.94L8.5 2.5l-.94 2.06-2.06.94zm10 10l.94 2.06.94-2.06 2.06-.94-2.06-.94-.94-2.06-.94 2.06-2.06.94z\"/><path d=\"M17.41 7.96l-1.37-1.37c-.4-.4-.92-.59-1.43-.59-.52 0-1.04.2-1.43.59L10.3 9.45l-7.72 7.72c-.78.78-.78 2.05 0 2.83L4 21.41c.39.39.9.59 1.41.59.51 0 1.02-.2 1.41-.59l7.78-7.78 2.81-2.81c.8-.78.8-2.07 0-2.86zM5.41 20L4 18.59l7.72-7.72 1.47 1.35L5.41 20z\"/>\n",
              "  </svg>\n",
              "      </button>\n",
              "      \n",
              "  <style>\n",
              "    .colab-df-container {\n",
              "      display:flex;\n",
              "      flex-wrap:wrap;\n",
              "      gap: 12px;\n",
              "    }\n",
              "\n",
              "    .colab-df-convert {\n",
              "      background-color: #E8F0FE;\n",
              "      border: none;\n",
              "      border-radius: 50%;\n",
              "      cursor: pointer;\n",
              "      display: none;\n",
              "      fill: #1967D2;\n",
              "      height: 32px;\n",
              "      padding: 0 0 0 0;\n",
              "      width: 32px;\n",
              "    }\n",
              "\n",
              "    .colab-df-convert:hover {\n",
              "      background-color: #E2EBFA;\n",
              "      box-shadow: 0px 1px 2px rgba(60, 64, 67, 0.3), 0px 1px 3px 1px rgba(60, 64, 67, 0.15);\n",
              "      fill: #174EA6;\n",
              "    }\n",
              "\n",
              "    [theme=dark] .colab-df-convert {\n",
              "      background-color: #3B4455;\n",
              "      fill: #D2E3FC;\n",
              "    }\n",
              "\n",
              "    [theme=dark] .colab-df-convert:hover {\n",
              "      background-color: #434B5C;\n",
              "      box-shadow: 0px 1px 3px 1px rgba(0, 0, 0, 0.15);\n",
              "      filter: drop-shadow(0px 1px 2px rgba(0, 0, 0, 0.3));\n",
              "      fill: #FFFFFF;\n",
              "    }\n",
              "  </style>\n",
              "\n",
              "      <script>\n",
              "        const buttonEl =\n",
              "          document.querySelector('#df-e19b14b9-22cf-4cab-a81a-9afa25c4222f button.colab-df-convert');\n",
              "        buttonEl.style.display =\n",
              "          google.colab.kernel.accessAllowed ? 'block' : 'none';\n",
              "\n",
              "        async function convertToInteractive(key) {\n",
              "          const element = document.querySelector('#df-e19b14b9-22cf-4cab-a81a-9afa25c4222f');\n",
              "          const dataTable =\n",
              "            await google.colab.kernel.invokeFunction('convertToInteractive',\n",
              "                                                     [key], {});\n",
              "          if (!dataTable) return;\n",
              "\n",
              "          const docLinkHtml = 'Like what you see? Visit the ' +\n",
              "            '<a target=\"_blank\" href=https://colab.research.google.com/notebooks/data_table.ipynb>data table notebook</a>'\n",
              "            + ' to learn more about interactive tables.';\n",
              "          element.innerHTML = '';\n",
              "          dataTable['output_type'] = 'display_data';\n",
              "          await google.colab.output.renderOutput(dataTable, element);\n",
              "          const docLink = document.createElement('div');\n",
              "          docLink.innerHTML = docLinkHtml;\n",
              "          element.appendChild(docLink);\n",
              "        }\n",
              "      </script>\n",
              "    </div>\n",
              "  </div>\n",
              "  "
            ]
          },
          "metadata": {}
        }
      ],
      "source": [
        "# Для каждого полученного кластера посчитаем долю оттока\n",
        "display(gym\n",
        "     .groupby('cluster_km')['churn']\n",
        "     .mean()\n",
        "     .round(2)\n",
        "     .reset_index()\n",
        "     .sort_values(by='churn', ascending=False)\n",
        "     .reset_index(drop=True))"
      ]
    },
    {
      "cell_type": "markdown",
      "metadata": {
        "id": "Xip_UuuTjn8-"
      },
      "source": [
        "**Вывод** Третий кластер больше всего склонен к оттоку: доля составляет 56%. Втрой кластер характеризуется долей оттока в 40%, а пятый - 27%. Первый и четвёртый кластеры (доля оттока 12% и 2%, соответственно) являются самыми лояльными."
      ]
    },
    {
      "cell_type": "markdown",
      "metadata": {
        "id": "ijzB3tf4jn8-"
      },
      "source": [
        "### Выводы<a id=\"summary_5\"></a>"
      ]
    },
    {
      "cell_type": "markdown",
      "metadata": {
        "id": "nORIavRcjn8_"
      },
      "source": [
        "Охарактеризуем каждый из получившихся у нас кластеров. \n",
        " \n",
        "**Кластер 1 характеризуется:**  \n",
        "* приблизительно равным распределением между мужчинами и женщинами;   \n",
        "* клиентами, которые находятся поблизости от фитнес-центра;   \n",
        "* клиентами, большинство из которых (около 80%) пришли не от компаний-партнёров;   \n",
        "* клиентами, которые пришли не по промо-акции от друзей;  \n",
        "* наличием контактных данных;   \n",
        "* абонементом на 1, 6 и 12 месяцев со значительным преобладанием абонементов на 1 месяц;   \n",
        "* клиентами, около 30% которых посещает групповые занятия;   \n",
        "* средним возрастом около 27,5 лет;  \n",
        "* низким уровнем дополнительных оплат;   \n",
        "* коротким сроком от начала пользования услугами;   \n",
        "* посещением около 1 раза в неделю.  \n",
        "   \n",
        "**Кластер 2 характеризуется:**   \n",
        "* приблизительно равным распределением между мужчинами и женщинами;   \n",
        "* клиентами, которые находятся поблизости от фитнес-центра;   \n",
        "* клиентами, большинство из которых (около 90%) пришло от компаний-партнёров;   \n",
        "* клиентами, большинство из которых (около 70%) пришло не по промо-акции от друзей;   \n",
        "* наличием контактных данных;   \n",
        "* абонементом на 1, 6 и 12 месяцев с примерно равным распределением и небольшим преобладанием 12 месяцев;   \n",
        "* клиентами, около половины которых посещает групповые занятия;   \n",
        "* средним возрастом около 29,5 лет;   \n",
        "* высоким уровнем дополнительных оплат;   \n",
        "* средним сроком от начала пользования услугами;   \n",
        "* посещением около 2 раз в неделю.   \n",
        "   \n",
        "**Кластер 3 характеризуется:**   \n",
        "* приблизительно равным распределением между мужчинами и женщинами;   \n",
        "* клиентами, большинство из которых находится вблизи от фитнес-центра;   \n",
        "* примерно равным числом посетителей от компаний-партнёров и обычных посетителей;   \n",
        "* клиентами, большинство из которых (около 70%) пришло не по промо-акции от друзей;   \n",
        "* отсутствием контактных данных;   \n",
        "* абонементом на 1, 6 и 12 месяцев с примерно равным распределением и небольшим преобладанием 1 месяца;   \n",
        "* клиентами, около 40% которых посещает групповые занятия;    \n",
        "* средним возрастом в 29-29,5 лет;   \n",
        "* средним уровнем дополнительных оплат;   \n",
        "* средним сроком от начала пользования услугами;   \n",
        "* посещением около 1,5-2 раз в неделю.   \n",
        "   \n",
        "**Кластер 4 характеризуется:**    \n",
        "* приблизительно равным распределением между мужчинами и женщинами;   \n",
        "* клиентами, живущими или работающими вдали от фитнес-центра;   \n",
        "* примерно равным числом посетителей от компаний-партнёров и обычных посетителей;   \n",
        "* клиентами, большинство из которых (около 75%) пришло не по промо-акции от друзей;   \n",
        "* наличием контактных данных;   \n",
        "* абонементом на 1, 6 и 12 месяцев с преобладанием 1 месяца;   \n",
        "* клиентами, около 25% которых посещает групповые занятия;   \n",
        "* средним возрастом около 28,5 лет;   \n",
        "* средним уровнем дополнительных оплат;   \n",
        "* небольшим сроком от начала пользования услугами;   \n",
        "* посещением около 1,5 раз в неделю.   \n",
        "     \n",
        "**Кластер 5 характеризуется:**   \n",
        "* чуть большим числом людей одного пола, по сравнению с другим;   \n",
        "* клиентами, которые находятся вблизи от фитнес-центра;   \n",
        "* клиентами, большинство из которых (около 65%) пришли не от компаний-партнёров;   \n",
        "* клиентами, которые пришли не по промо-акции от друзей;   \n",
        "* наличием контактных данных;   \n",
        "* абонементом на 1, 6 и 12 месяцев с примерно равным распределением и чуть меньшим количеством 6 месяцев;   \n",
        "* клиентами, около половины которых посещает групповые занятия;   \n",
        "* средним возрастом около 30,5 лет;   \n",
        "* очень высоким уровнем дополнительных оплат;   \n",
        "* длительным сроком от начала пользования услугами;   \n",
        "* посещением около 2-2,5 раз в неделю.   \n",
        "  \n",
        "Третий кластер больше всего склонен к оттоку: доля составляет 56%. Втрой кластер характеризуется долей оттока в 40%, а пятый - 27%. Первый и четвёртый кластеры (доля оттока 12% и 2%, соответственно) являются самыми лояльными."
      ]
    },
    {
      "cell_type": "markdown",
      "metadata": {
        "id": "Z2cCxyikjn8_"
      },
      "source": [
        "---"
      ]
    },
    {
      "cell_type": "markdown",
      "metadata": {
        "id": "vaG_FTmQjn8_"
      },
      "source": [
        "## Выводы и рекомендации<a id=\"summary\"></a>"
      ]
    },
    {
      "cell_type": "markdown",
      "metadata": {
        "id": "ioApbfTmjn8_"
      },
      "source": [
        "Было проведено исследование данных о клиентах фитнес-центра «Культурист-датасаентист». Эти данные содержат в себе информацию о 4000 клиентов и 14 показателях, один из которых (отток клиентов выбран в модели в качестве результирующего). Анализируемыми показателями, которые влияют на отток выбраны следующие характеристики клиентов: пол, близость к фитнес-центру, принадлежность к компании-партнёру фитнес-центра, факт первоначальной записи в рамках промо-акции «приведи друга», наличие контактного телефона, возраст, время с момента первого обращения в фитнес-центр, длительность текущего действующего абонемента, срок до окончания действующего абонемента, факт посещения групповых занятий, средняя частоа посещений в неделю за все время с начала действия абонемента и за предыдущий месяц, суммарная выручка от других услуг фитнес-центра.   \n",
        "  \n",
        "**ВЫВОДЫ**\n",
        "\n",
        "**Анализ данных позволил сделать следующие выводы:**   \n",
        "    \n",
        "* Средняя по оттоку клиентов близка к 0,3, а медиана равна 0.   \n",
        "* Соответственно, около трети клиентов фитнес-центра уходит в отток.   \n",
        "* Средняя по полу клинтов близка к 0,5, а медиана равна 1 - услугами фитнес-центра пользуются в равной степени мужчины и женщины.   \n",
        "* Средняя по близости к фитнес-центру близка к 0,85, а первый квартиль равен 1. Распределения по признаку не сильно отличаются. Среднее значение для лояльных клиентов чуть выше, чем для людей, уходящих в отток.Таким образом, фитнес-центр посещает больше клиентов, которые живут поблизости. При этом немного лояльнее к фитнес-центру те, кто живёт поблизости, чем те, кто живёт в отдалении.   \n",
        "* Средняя по принадлежности к компании-партнёру близка к 0,5. Распределения для ушедших в отток и оставшихся клиентов ведут себя по-разному. Так, в фитнес-центре в равной степени представлены клиенты, являющиеся сотрудниками компаний-партнёров, и люди, не имеющие к ним отношение. Но ушедшие в отток клиенты в большей степени не являются сотрудниками компаний-партнёров.   \n",
        "* Средняя по пришедшим по промо-акции \"Приведи друга\" равна 0,3, медиана равна 0. Распределения для ушедших в отток и лояльных клиентов близки, но средние значения немного отличаются (для второй группы значение выше). Соответственно, большинство клиентов фитнес-центра не пришло по промо-акции \"Приведи друга\", но среди лояльных клиентов воспользовавшихся акцией больше, чем среди уходящих в отток.    \n",
        "* Средняя по наличию контактного телефона близка к 0,9, а четвёртый квартиль равен 1. Распределения по лояльным и нелояльным клиентам имеют схожий вид. Тамим образом, практически все клиенты фитнес-центра оставляют контакты для связи - вне зависимости от того, останутся они в фитнес-центре, или уйдут в отток.   \n",
        "* Минимальное значение возраста равно 18, максимальное - 41, среднее - 29. Среднее значение близко к медиане, стандартное отклонение очень низкое, распределение для лояльных и нелояльных клиентов нормальное. Распределение для лояльных клиентов немного смещено вправо со средней в 30, а для ушедших клиентов - влево со средней в 27. Соответственно, услугами фитнес-центра пользуются клиенты возрастом от 18 до 41 года (со средним возрастом около 29 лет). Причём в отток в дальнейшем уходят клиенты более молодого возраста (около 27 лет).   \n",
        "* Минимальное значение времени с первого обращения равно 0, максимальное - 31, среднее - 3, медиана близка к 4 месяцам. Распределение времени с момента первого обращения для обоих групп (лояльных и нелояльных) похоже на распределение Пуассона. Но для ушедших в отток клиентов оно сильно смещено влево (со средним в 1 месяц), практически не имея значения в более высоких значениях, а для лояльных клиентов принимает более высокие значения (со средним в 5 месяцев). Таким образом, в фитнес центре есть \"новенькие\" клиенты (которые несколько месяцев пользуются услугами центра) и \"опытные\" клиенты (которые достаточно давно начали посещать фитнес-центр). При этом клиенты, проявляющие уже в первые несколько месяцев лояльность к фитнес-центру, скорее всего, не уйдут в отток в последующие месяцы.   \n",
        "* Показатель длительности абонемента может принимать значения 1, 6 и 12 месяцев. Среднее значение равно 4-5 месяцев. При этом есть перекос в данных: медиана равна 1 месяцу. Среднее значение для лояльных пользователей - 5-6 месяцев, для уходящих в отток - 1-2 месяца. Показатель времени до окончания абонемента принимает значения от 1 до 12 месяцев. Среднее значение равно 4 месяца, При этом есть перекос в данных: медиана равна 1 месяцу. Различия в распределении групп (лояльных и нелояльных клиентов) по сроку до окончания действующего абонемента такие же, как и в распределениях по длительности абонемента. Соответственно, клиенты предпочитают покупать абонемент на короткий срок, но купившие более длительный абонемент с большей неохотой уйдут в отток, чем те, у кого он действует короткий срок.   \n",
        "* Средняя по посещаемости групповых занятий близка к 0,4, а медиана равна 0. Распределения по лояльным и уходящим в отток клиентам различаются. Так, среди клиентов фитнес-центра больше тех, кто не интересуется групповыми занятиями (около 60%). При этом уходящие в отток клиенты практически не заинтересованы в таких занятиях.    \n",
        "* Средняя частота посещений за всё время с начала действия абонемента и за предыдущий месяц колеблются в промежутке от 0 до 6 раз в неделю. Среднее значение и медиана практически равны, стандартное отклонение невысоко. Распределение для лояльных и нелояльных групп является нормальным. Для лояльной группы оно немного смещено влево (среднее 1-2), а для группы уходящих в отток имеется сильное смещение влево (среднее около 2). Соответственно, в фитнес-центре есть люди, которые купили абонемент, но ни разу не посетили центр, а есть и очень \"приверженные\" клиенты (посещение 6 раз в неделю). При этом, в среднем, все клиенты посещают центр около 1-2 раз в неделю. Однако, среди лояльных клиентов много тех, кто часто посещает фитнес-центр.    \n",
        "* Выручка с клиента от прочих услуг фитнес-центра сильно колеблется от 0,15 до 552,6 ден.ед. Среднее значение равно 147 ден.ед, а медиана - 136 ден.ед. Между группами (лояльные и нелояльные клиенты) различие в среднем значении составляет 43 ден.ед. (для лояльных значение выше). Распределение средней выручки от других услуг фитнес-центра для обоих датасетов смещено влево с большим смещением для ушедших людей. Таким образом, затраты на прочие услуги фитнес-центра очень сильно варьируются для клиентов. При этом уходящие в отток клиенты склонны экономить, а среди лояльных клиентов встречаются те, кто готов заплатить очень высокую цену.    \n",
        "   \n",
        "**Основные метрики полученных моделей, построенных алгоритмом логистической регрессии и алгоритмом случайного леса, следующие:**    \n",
        "    \n",
        "Для модели логистической регрессии:   \n",
        "* Accuracy = 0,92;    \n",
        "* Precision = 0,85;    \n",
        "* Recall = 0,84;   \n",
        "* ROC_AUC = 0,97. \n",
        "   \n",
        "Для модели случайного леса:     \n",
        "* Accuracy = 0,91;    \n",
        "* Precision = 0,85;    \n",
        "* Recall = 0,77;   \n",
        "* ROC_AUC = 0,96.   \n",
        "   \n",
        "Таким образом, и модель логистической регрессии, и модель случайного леса достаточно хорошо способны делать прогноз. Однако, модель логистической регрессии подходит больше по всем показателям: доле правильных ответов (accuracy), точности (precision), полноте (recall), агрерующей метрике F1 и наиболее точной метрике оценки качества классификатора ROC_AUC.\n",
        "\n",
        "**Кластерный анализ клиентов**   \n",
        "По дендрограмме было высказано предположение о наличии четырёх кластеров в данных. Однако, было принято решение для прогноза кластеров клиентов использовать пять кластеров в модели K-Means.   \n",
        "Анализ средних значений и распределений признаков для кластеров показал, что выделенные кластеры имеют следующие отличительные характеристики.    \n",
        "   \n",
        "**Кластер 1** - это клиенты, находящиеся поблизости от фитнес-центра, большинство из которых пришло не от компаний-партнёров и не по промо-акции от друзей, с абонементом на 1, 6 и 12 месяцев (со значительным преобладанием первых), для трети из которых групповые занятия важны, с низким уровнем дополнительных оплат, являющиеся нашими \"новыми\" клиентами, посещающие фитнес-центр около 1 раза в неделю. Для них доля оттока близка к 56% - это наиболее склонный к оттоку кластер.   \n",
        "\n",
        "**Кластер 2** - это клиенты,находящиеся поблизости от фитнес-центра, большинство из которых пришло от компании-партнёров и не по промо-акции от друзей, с абонементом на 1, 6 и 12 месяцев в примерно равных пропорциях с небольшим преобладанием 12 месяцев, около половины которых посещает групповые занятия, с высоким уровнем дополнительных оплат, некоторое время являющиеся нашими клиентами, посещающие фитнес-центр около 2 раз в неделю. Для них доля оттока близка к 12% - это один из самых надёжных кластеров.   \n",
        "\n",
        "**Кластер 3** - это клиенты, большинство из которых находится вблизи от фитнес-центра, пришедшие примерно в равных пропорциях от компаний-партнёров и не от них, большинство из них пришло не по промо-акции от друзей, без контактных данных, с абонементами на 1, 6 и 12 месяцев (с примерно равным распределением и небольшим преобладанием абонементов на 1 месяц), для большинства из которых (60%) групповые занятия не важны, со средним уровнем дополнительных оплат, некоторое время являющиеся нашими клиентами, посещающие фитнес-центр около 1,5-2 раз в неделю. Для них доля оттока близка к 27%.   \n",
        "\n",
        "**Кластер 4**  - это клиенты, живущие или работающие вдали от фитнес-центра, пришедшие примерно в равных пропорциях от компаний-партнёров и не от них, большинство из них пришло не по промо-акции от друзей, с абонементами на 1, 6 и 12 месяцев (с преобладанием абонементов на 1 месяц), для большинства из которых групповые занятия не важны, со средним уровнем дополнительных оплат, небольшим сроком от начала пользования услугами, посещающие фитнес-центр около 1,5 раз в неделю. Для них доля оттока близка к 40% - это в очень большой степени склонный к оттоку кластер.   \n",
        "\n",
        "**Кластер 5** - это клиенты с небольшим преобладанием людей одного пола, по сравнению с другим, которые живут или работают возле фитнес-центра, пришедшие в большинстве своём не от компаний-партнёров и не по промо-акции от друзей, с абонементами на 1, 6 и 12 месяцев (с примерно равным распределением 1 и 12 месяцев, и чуть меньшим количеством 6 месяцев), около половины из которых посещает групповые занятия, с очень высоким уровнем дополнительных оплат, являющиеся нашими постоянными \"давними\" клиентами, посещающие фитнес-центр около 2-2,5 раз в неделю. Для них доля оттока близка к 2% - это самый надёжный кластер.   \n",
        " \n",
        "**РЕКОМЕНДАЦИИ**  \n",
        "    \n",
        "На основе представленных выводов, предложены следующие рекомендации для стратегии взаимодействия с пользователями сети фитнес-центров «Культурист-датасаентист» и их удержания.\n",
        "1. Рекомендуется привлечение в фитнес-центр клиентов из близлежащих спальных районах.   \n",
        "1. Рекомендуется отменить проведение акции \"Приведи друга\" и акций для сотрудников компаний-партнёров - поскольку они не способствует \"удержанию\" клиентов, а высвободившиеся деньги направить на другие мероприятия (например, раздача листовок в близлежащих спальных районах - п.1).   \n",
        "1. Возможно внедрение и реклама абонементов более длительного срока (9 и 12 месяцев) - поскольку чем дольше времени до окончания абонемента, тем лояльнее клиенты.   \n",
        "1. Поскольку категория с длительными абонементами имеет склонность пользоваться доп услугами, для них возможно введение специальных скидок и акций по доп услугам.   \n",
        "1. Рекомендуется установить более выгодные цены на длительные абонементы. Например, цена на абонемент на 3 месяца (нужно внедрить абонементы на 3 месяца) ненамного дороже, чем на абонемент на 1 месяц (чтобы покупатель стремился покупать 3 месяца) - это снизит риски оттока клиентов в первые месяцы.   \n",
        "1. Возможно ввести более выгодное продление абонемента для клиентов, покупающих абонемент сроком от 3 месяцев. Например, по окончании абонемента покупка нового тем же сроком - скидка 25%. Подобные скидки окупятся доп услугами, которыми пользуются лояльные клиенты и отменой неэффективных акций.     \n",
        "1. Рекомендуется проводить мониторинг средней частоты посещений фитнес-центра в неделю по клиентам. При обнаружении снижения показателя предлагать клиентам \"бонусы\" (бесплатная разовая доп услуга, скидки на продление абонемента, одно бесплатное групповое занятие по новому для него направлению и т.п.)."
      ]
    }
  ],
  "metadata": {
    "ExecuteTimeLog": [
      {
        "duration": 1778,
        "start_time": "2022-07-20T15:22:05.565Z"
      },
      {
        "duration": 83,
        "start_time": "2022-07-20T15:22:32.212Z"
      },
      {
        "duration": 13,
        "start_time": "2022-07-20T15:22:41.645Z"
      },
      {
        "duration": 11,
        "start_time": "2022-07-20T15:33:18.603Z"
      },
      {
        "duration": 4,
        "start_time": "2022-07-20T15:33:59.858Z"
      },
      {
        "duration": 46,
        "start_time": "2022-07-20T15:36:15.262Z"
      },
      {
        "duration": 41,
        "start_time": "2022-07-20T15:36:23.524Z"
      },
      {
        "duration": 11,
        "start_time": "2022-07-20T15:36:42.789Z"
      },
      {
        "duration": 3,
        "start_time": "2022-07-20T15:36:50.174Z"
      },
      {
        "duration": 45,
        "start_time": "2022-07-20T15:38:55.564Z"
      },
      {
        "duration": 8,
        "start_time": "2022-07-20T15:40:12.754Z"
      },
      {
        "duration": 8,
        "start_time": "2022-07-20T15:40:24.455Z"
      },
      {
        "duration": 10,
        "start_time": "2022-07-20T15:40:31.951Z"
      },
      {
        "duration": 9,
        "start_time": "2022-07-20T15:40:48.761Z"
      },
      {
        "duration": 8,
        "start_time": "2022-07-20T15:40:57.059Z"
      },
      {
        "duration": 8,
        "start_time": "2022-07-20T15:41:08.153Z"
      },
      {
        "duration": 8,
        "start_time": "2022-07-20T15:41:17.587Z"
      },
      {
        "duration": 8,
        "start_time": "2022-07-20T15:41:25.274Z"
      },
      {
        "duration": 15,
        "start_time": "2022-07-20T15:41:32.603Z"
      },
      {
        "duration": 10,
        "start_time": "2022-07-20T15:41:40.654Z"
      },
      {
        "duration": 9,
        "start_time": "2022-07-20T15:41:49.454Z"
      },
      {
        "duration": 8,
        "start_time": "2022-07-20T15:41:57.053Z"
      },
      {
        "duration": 11,
        "start_time": "2022-07-20T15:42:06.805Z"
      },
      {
        "duration": 12,
        "start_time": "2022-07-20T15:42:14.109Z"
      },
      {
        "duration": 8,
        "start_time": "2022-07-20T15:49:19.662Z"
      },
      {
        "duration": 1405,
        "start_time": "2022-07-20T15:50:34.974Z"
      },
      {
        "duration": 50,
        "start_time": "2022-07-20T15:50:36.380Z"
      },
      {
        "duration": 15,
        "start_time": "2022-07-20T15:50:36.431Z"
      },
      {
        "duration": 11,
        "start_time": "2022-07-20T15:50:36.448Z"
      },
      {
        "duration": 50,
        "start_time": "2022-07-20T15:50:36.461Z"
      },
      {
        "duration": 17,
        "start_time": "2022-07-20T15:50:36.513Z"
      },
      {
        "duration": 25,
        "start_time": "2022-07-20T15:50:36.532Z"
      },
      {
        "duration": 12,
        "start_time": "2022-07-20T15:50:36.558Z"
      },
      {
        "duration": 13,
        "start_time": "2022-07-20T15:50:36.572Z"
      },
      {
        "duration": 9,
        "start_time": "2022-07-20T15:50:36.586Z"
      },
      {
        "duration": 11,
        "start_time": "2022-07-20T15:50:36.597Z"
      },
      {
        "duration": 48,
        "start_time": "2022-07-20T15:50:36.617Z"
      },
      {
        "duration": 13,
        "start_time": "2022-07-20T15:50:36.666Z"
      },
      {
        "duration": 61,
        "start_time": "2022-07-20T15:50:36.681Z"
      },
      {
        "duration": 11,
        "start_time": "2022-07-20T15:50:36.744Z"
      },
      {
        "duration": 12,
        "start_time": "2022-07-20T15:50:36.756Z"
      },
      {
        "duration": 11,
        "start_time": "2022-07-20T15:50:36.769Z"
      },
      {
        "duration": 9,
        "start_time": "2022-07-20T15:50:36.782Z"
      },
      {
        "duration": 22,
        "start_time": "2022-07-20T15:50:36.793Z"
      },
      {
        "duration": 9,
        "start_time": "2022-07-20T15:53:47.971Z"
      },
      {
        "duration": 9,
        "start_time": "2022-07-20T15:54:39.754Z"
      },
      {
        "duration": 8,
        "start_time": "2022-07-20T15:56:04.290Z"
      },
      {
        "duration": 12,
        "start_time": "2022-07-20T15:57:12.911Z"
      },
      {
        "duration": 8,
        "start_time": "2022-07-20T15:58:05.853Z"
      },
      {
        "duration": 8,
        "start_time": "2022-07-20T15:59:33.189Z"
      },
      {
        "duration": 12,
        "start_time": "2022-07-20T16:00:13.420Z"
      },
      {
        "duration": 9,
        "start_time": "2022-07-20T16:00:57.464Z"
      },
      {
        "duration": 10,
        "start_time": "2022-07-20T16:02:33.788Z"
      },
      {
        "duration": 8,
        "start_time": "2022-07-20T16:04:37.378Z"
      },
      {
        "duration": 8,
        "start_time": "2022-07-20T16:07:26.650Z"
      },
      {
        "duration": 9,
        "start_time": "2022-07-20T16:07:30.448Z"
      },
      {
        "duration": 10,
        "start_time": "2022-07-20T16:09:34.550Z"
      },
      {
        "duration": 10,
        "start_time": "2022-07-20T16:11:35.843Z"
      },
      {
        "duration": 1571,
        "start_time": "2022-07-20T16:13:24.409Z"
      },
      {
        "duration": 58,
        "start_time": "2022-07-20T16:13:25.983Z"
      },
      {
        "duration": 14,
        "start_time": "2022-07-20T16:13:26.043Z"
      },
      {
        "duration": 3,
        "start_time": "2022-07-20T16:13:26.060Z"
      },
      {
        "duration": 85,
        "start_time": "2022-07-20T16:13:26.065Z"
      },
      {
        "duration": 9,
        "start_time": "2022-07-20T16:13:26.155Z"
      },
      {
        "duration": 11,
        "start_time": "2022-07-20T16:13:26.166Z"
      },
      {
        "duration": 9,
        "start_time": "2022-07-20T16:13:26.179Z"
      },
      {
        "duration": 29,
        "start_time": "2022-07-20T16:13:26.189Z"
      },
      {
        "duration": 9,
        "start_time": "2022-07-20T16:13:26.221Z"
      },
      {
        "duration": 23,
        "start_time": "2022-07-20T16:13:26.232Z"
      },
      {
        "duration": 8,
        "start_time": "2022-07-20T16:13:26.257Z"
      },
      {
        "duration": 12,
        "start_time": "2022-07-20T16:13:26.267Z"
      },
      {
        "duration": 8,
        "start_time": "2022-07-20T16:13:26.281Z"
      },
      {
        "duration": 29,
        "start_time": "2022-07-20T16:13:26.291Z"
      },
      {
        "duration": 40,
        "start_time": "2022-07-20T16:13:26.321Z"
      },
      {
        "duration": 35,
        "start_time": "2022-07-20T16:13:26.363Z"
      },
      {
        "duration": 51,
        "start_time": "2022-07-20T16:13:26.400Z"
      },
      {
        "duration": 31,
        "start_time": "2022-07-20T16:13:26.453Z"
      },
      {
        "duration": 13,
        "start_time": "2022-07-20T16:15:55.948Z"
      },
      {
        "duration": 14,
        "start_time": "2022-07-20T16:16:10.974Z"
      },
      {
        "duration": 5,
        "start_time": "2022-07-20T16:19:36.660Z"
      },
      {
        "duration": 18,
        "start_time": "2022-07-20T16:25:20.688Z"
      },
      {
        "duration": 11,
        "start_time": "2022-07-20T16:25:53.394Z"
      },
      {
        "duration": 10,
        "start_time": "2022-07-20T16:27:03.366Z"
      },
      {
        "duration": 72,
        "start_time": "2022-07-20T16:27:28.367Z"
      },
      {
        "duration": 129,
        "start_time": "2022-07-20T16:38:15.149Z"
      },
      {
        "duration": 59,
        "start_time": "2022-07-20T16:39:13.529Z"
      },
      {
        "duration": 105,
        "start_time": "2022-07-20T16:39:33.194Z"
      },
      {
        "duration": 10,
        "start_time": "2022-07-20T16:41:32.967Z"
      },
      {
        "duration": 26,
        "start_time": "2022-07-20T16:41:59.800Z"
      },
      {
        "duration": 9,
        "start_time": "2022-07-20T16:42:17.750Z"
      },
      {
        "duration": 18,
        "start_time": "2022-07-20T16:43:06.338Z"
      },
      {
        "duration": 3116,
        "start_time": "2022-07-20T16:43:32.829Z"
      },
      {
        "duration": 187,
        "start_time": "2022-07-20T16:44:06.679Z"
      },
      {
        "duration": 7107,
        "start_time": "2022-07-20T16:44:13.562Z"
      },
      {
        "duration": 1858,
        "start_time": "2022-07-20T16:45:04.282Z"
      },
      {
        "duration": 7,
        "start_time": "2022-07-20T16:47:15.954Z"
      },
      {
        "duration": 4041,
        "start_time": "2022-07-20T16:47:29.451Z"
      },
      {
        "duration": 4074,
        "start_time": "2022-07-20T16:49:33.105Z"
      },
      {
        "duration": 4160,
        "start_time": "2022-07-20T16:50:18.586Z"
      },
      {
        "duration": 4310,
        "start_time": "2022-07-20T16:50:37.059Z"
      },
      {
        "duration": 1737,
        "start_time": "2022-07-20T16:52:54.579Z"
      },
      {
        "duration": 1958,
        "start_time": "2022-07-20T16:54:17.200Z"
      },
      {
        "duration": 172,
        "start_time": "2022-07-20T16:56:14.011Z"
      },
      {
        "duration": 8,
        "start_time": "2022-07-20T16:56:47.737Z"
      },
      {
        "duration": 199,
        "start_time": "2022-07-20T16:56:53.269Z"
      },
      {
        "duration": 1236,
        "start_time": "2022-07-20T16:57:02.110Z"
      },
      {
        "duration": 2801,
        "start_time": "2022-07-20T16:57:13.952Z"
      },
      {
        "duration": 1229,
        "start_time": "2022-07-20T16:58:26.673Z"
      },
      {
        "duration": 1231,
        "start_time": "2022-07-20T16:58:36.890Z"
      },
      {
        "duration": 1085,
        "start_time": "2022-07-20T16:58:55.948Z"
      },
      {
        "duration": 1746,
        "start_time": "2022-07-20T16:59:11.206Z"
      },
      {
        "duration": 48,
        "start_time": "2022-07-20T16:59:12.954Z"
      },
      {
        "duration": 12,
        "start_time": "2022-07-20T16:59:13.004Z"
      },
      {
        "duration": 53,
        "start_time": "2022-07-20T16:59:13.018Z"
      },
      {
        "duration": 3,
        "start_time": "2022-07-20T16:59:13.073Z"
      },
      {
        "duration": 61,
        "start_time": "2022-07-20T16:59:13.078Z"
      },
      {
        "duration": 9,
        "start_time": "2022-07-20T16:59:13.145Z"
      },
      {
        "duration": 17,
        "start_time": "2022-07-20T16:59:13.156Z"
      },
      {
        "duration": 12,
        "start_time": "2022-07-20T16:59:13.175Z"
      },
      {
        "duration": 14,
        "start_time": "2022-07-20T16:59:13.191Z"
      },
      {
        "duration": 52,
        "start_time": "2022-07-20T16:59:13.207Z"
      },
      {
        "duration": 17,
        "start_time": "2022-07-20T16:59:13.261Z"
      },
      {
        "duration": 12,
        "start_time": "2022-07-20T16:59:13.280Z"
      },
      {
        "duration": 58,
        "start_time": "2022-07-20T16:59:13.294Z"
      },
      {
        "duration": 7,
        "start_time": "2022-07-20T16:59:13.354Z"
      },
      {
        "duration": 10,
        "start_time": "2022-07-20T16:59:13.363Z"
      },
      {
        "duration": 12,
        "start_time": "2022-07-20T16:59:13.375Z"
      },
      {
        "duration": 16,
        "start_time": "2022-07-20T16:59:13.389Z"
      },
      {
        "duration": 19,
        "start_time": "2022-07-20T16:59:13.407Z"
      },
      {
        "duration": 36,
        "start_time": "2022-07-20T16:59:13.427Z"
      },
      {
        "duration": 8,
        "start_time": "2022-07-20T16:59:13.465Z"
      },
      {
        "duration": 11,
        "start_time": "2022-07-20T16:59:13.475Z"
      },
      {
        "duration": 8,
        "start_time": "2022-07-20T16:59:13.488Z"
      },
      {
        "duration": 4174,
        "start_time": "2022-07-20T16:59:13.498Z"
      },
      {
        "duration": 1230,
        "start_time": "2022-07-20T16:59:17.674Z"
      },
      {
        "duration": 1504,
        "start_time": "2022-07-21T03:28:28.682Z"
      },
      {
        "duration": 86,
        "start_time": "2022-07-21T03:28:30.189Z"
      },
      {
        "duration": 12,
        "start_time": "2022-07-21T03:28:30.277Z"
      },
      {
        "duration": 11,
        "start_time": "2022-07-21T03:28:30.291Z"
      },
      {
        "duration": 15,
        "start_time": "2022-07-21T03:28:30.303Z"
      },
      {
        "duration": 47,
        "start_time": "2022-07-21T03:28:30.320Z"
      },
      {
        "duration": 8,
        "start_time": "2022-07-21T03:28:30.369Z"
      },
      {
        "duration": 21,
        "start_time": "2022-07-21T03:28:30.379Z"
      },
      {
        "duration": 15,
        "start_time": "2022-07-21T03:28:30.402Z"
      },
      {
        "duration": 11,
        "start_time": "2022-07-21T03:28:30.420Z"
      },
      {
        "duration": 16,
        "start_time": "2022-07-21T03:28:30.433Z"
      },
      {
        "duration": 16,
        "start_time": "2022-07-21T03:28:30.451Z"
      },
      {
        "duration": 28,
        "start_time": "2022-07-21T03:28:30.469Z"
      },
      {
        "duration": 36,
        "start_time": "2022-07-21T03:28:30.499Z"
      },
      {
        "duration": 18,
        "start_time": "2022-07-21T03:28:30.536Z"
      },
      {
        "duration": 19,
        "start_time": "2022-07-21T03:28:30.555Z"
      },
      {
        "duration": 27,
        "start_time": "2022-07-21T03:28:30.576Z"
      },
      {
        "duration": 14,
        "start_time": "2022-07-21T03:28:30.605Z"
      },
      {
        "duration": 14,
        "start_time": "2022-07-21T03:28:30.621Z"
      },
      {
        "duration": 16,
        "start_time": "2022-07-21T03:28:30.636Z"
      },
      {
        "duration": 23,
        "start_time": "2022-07-21T03:28:30.654Z"
      },
      {
        "duration": 27,
        "start_time": "2022-07-21T03:28:30.679Z"
      },
      {
        "duration": 19,
        "start_time": "2022-07-21T03:28:30.708Z"
      },
      {
        "duration": 3183,
        "start_time": "2022-07-21T03:28:30.729Z"
      },
      {
        "duration": 1066,
        "start_time": "2022-07-21T03:28:33.914Z"
      },
      {
        "duration": 5,
        "start_time": "2022-07-21T03:30:23.611Z"
      },
      {
        "duration": 5,
        "start_time": "2022-07-21T03:31:13.475Z"
      },
      {
        "duration": 11,
        "start_time": "2022-07-21T03:32:32.483Z"
      },
      {
        "duration": 121,
        "start_time": "2022-07-21T03:32:42.786Z"
      },
      {
        "duration": 10,
        "start_time": "2022-07-21T03:33:03.131Z"
      },
      {
        "duration": 60,
        "start_time": "2022-07-21T03:33:17.610Z"
      },
      {
        "duration": 50,
        "start_time": "2022-07-21T03:33:20.746Z"
      },
      {
        "duration": 9,
        "start_time": "2022-07-21T03:33:28.538Z"
      },
      {
        "duration": 4,
        "start_time": "2022-07-21T03:33:47.696Z"
      },
      {
        "duration": 12,
        "start_time": "2022-07-21T03:33:58.522Z"
      },
      {
        "duration": 27,
        "start_time": "2022-07-21T03:34:22.187Z"
      },
      {
        "duration": 9,
        "start_time": "2022-07-21T03:34:38.523Z"
      },
      {
        "duration": 14,
        "start_time": "2022-07-21T03:36:47.017Z"
      },
      {
        "duration": 61,
        "start_time": "2022-07-21T03:36:58.713Z"
      },
      {
        "duration": 13,
        "start_time": "2022-07-21T03:37:24.841Z"
      },
      {
        "duration": 10,
        "start_time": "2022-07-21T03:39:27.024Z"
      },
      {
        "duration": 12,
        "start_time": "2022-07-21T03:40:14.328Z"
      },
      {
        "duration": 11,
        "start_time": "2022-07-21T03:40:21.952Z"
      },
      {
        "duration": 13,
        "start_time": "2022-07-21T03:41:10.280Z"
      },
      {
        "duration": 15,
        "start_time": "2022-07-21T03:41:29.992Z"
      },
      {
        "duration": 12,
        "start_time": "2022-07-21T03:41:33.168Z"
      },
      {
        "duration": 10,
        "start_time": "2022-07-21T03:42:14.407Z"
      },
      {
        "duration": 11,
        "start_time": "2022-07-21T03:42:21.288Z"
      },
      {
        "duration": 11,
        "start_time": "2022-07-21T03:44:32.118Z"
      },
      {
        "duration": 11,
        "start_time": "2022-07-21T03:46:03.847Z"
      },
      {
        "duration": 11,
        "start_time": "2022-07-21T03:49:21.892Z"
      },
      {
        "duration": 1358,
        "start_time": "2022-07-21T03:50:25.282Z"
      },
      {
        "duration": 51,
        "start_time": "2022-07-21T03:50:26.642Z"
      },
      {
        "duration": 12,
        "start_time": "2022-07-21T03:50:26.698Z"
      },
      {
        "duration": 11,
        "start_time": "2022-07-21T03:50:26.711Z"
      },
      {
        "duration": 3,
        "start_time": "2022-07-21T03:50:26.723Z"
      },
      {
        "duration": 57,
        "start_time": "2022-07-21T03:50:26.727Z"
      },
      {
        "duration": 8,
        "start_time": "2022-07-21T03:50:26.785Z"
      },
      {
        "duration": 14,
        "start_time": "2022-07-21T03:50:26.794Z"
      },
      {
        "duration": 8,
        "start_time": "2022-07-21T03:50:26.810Z"
      },
      {
        "duration": 7,
        "start_time": "2022-07-21T03:50:26.819Z"
      },
      {
        "duration": 7,
        "start_time": "2022-07-21T03:50:26.828Z"
      },
      {
        "duration": 25,
        "start_time": "2022-07-21T03:50:26.836Z"
      },
      {
        "duration": 11,
        "start_time": "2022-07-21T03:50:26.863Z"
      },
      {
        "duration": 10,
        "start_time": "2022-07-21T03:50:26.875Z"
      },
      {
        "duration": 9,
        "start_time": "2022-07-21T03:50:26.887Z"
      },
      {
        "duration": 12,
        "start_time": "2022-07-21T03:50:26.898Z"
      },
      {
        "duration": 16,
        "start_time": "2022-07-21T03:50:26.911Z"
      },
      {
        "duration": 7,
        "start_time": "2022-07-21T03:50:26.929Z"
      },
      {
        "duration": 7,
        "start_time": "2022-07-21T03:50:26.937Z"
      },
      {
        "duration": 20,
        "start_time": "2022-07-21T03:50:26.945Z"
      },
      {
        "duration": 13,
        "start_time": "2022-07-21T03:50:26.966Z"
      },
      {
        "duration": 9,
        "start_time": "2022-07-21T03:50:26.981Z"
      },
      {
        "duration": 12,
        "start_time": "2022-07-21T03:50:26.991Z"
      },
      {
        "duration": 8,
        "start_time": "2022-07-21T03:50:27.004Z"
      },
      {
        "duration": 12,
        "start_time": "2022-07-21T03:50:27.013Z"
      },
      {
        "duration": 6,
        "start_time": "2022-07-21T03:50:27.026Z"
      },
      {
        "duration": 3121,
        "start_time": "2022-07-21T03:50:27.035Z"
      },
      {
        "duration": 990,
        "start_time": "2022-07-21T03:50:30.158Z"
      },
      {
        "duration": 10,
        "start_time": "2022-07-21T03:51:27.250Z"
      },
      {
        "duration": 6,
        "start_time": "2022-07-21T03:51:34.387Z"
      },
      {
        "duration": 1348,
        "start_time": "2022-07-21T03:52:10.171Z"
      },
      {
        "duration": 46,
        "start_time": "2022-07-21T03:52:11.521Z"
      },
      {
        "duration": 11,
        "start_time": "2022-07-21T03:52:11.568Z"
      },
      {
        "duration": 10,
        "start_time": "2022-07-21T03:52:11.582Z"
      },
      {
        "duration": 6,
        "start_time": "2022-07-21T03:52:11.594Z"
      },
      {
        "duration": 13,
        "start_time": "2022-07-21T03:52:11.601Z"
      },
      {
        "duration": 58,
        "start_time": "2022-07-21T03:52:11.615Z"
      },
      {
        "duration": 8,
        "start_time": "2022-07-21T03:52:11.674Z"
      },
      {
        "duration": 11,
        "start_time": "2022-07-21T03:52:11.684Z"
      },
      {
        "duration": 9,
        "start_time": "2022-07-21T03:52:11.697Z"
      },
      {
        "duration": 8,
        "start_time": "2022-07-21T03:52:11.707Z"
      },
      {
        "duration": 8,
        "start_time": "2022-07-21T03:52:11.717Z"
      },
      {
        "duration": 35,
        "start_time": "2022-07-21T03:52:11.727Z"
      },
      {
        "duration": 9,
        "start_time": "2022-07-21T03:52:11.763Z"
      },
      {
        "duration": 10,
        "start_time": "2022-07-21T03:52:11.774Z"
      },
      {
        "duration": 8,
        "start_time": "2022-07-21T03:52:11.786Z"
      },
      {
        "duration": 10,
        "start_time": "2022-07-21T03:52:11.795Z"
      },
      {
        "duration": 7,
        "start_time": "2022-07-21T03:52:11.807Z"
      },
      {
        "duration": 45,
        "start_time": "2022-07-21T03:52:11.816Z"
      },
      {
        "duration": 10,
        "start_time": "2022-07-21T03:52:11.863Z"
      },
      {
        "duration": 8,
        "start_time": "2022-07-21T03:52:11.875Z"
      },
      {
        "duration": 14,
        "start_time": "2022-07-21T03:52:11.885Z"
      },
      {
        "duration": 10,
        "start_time": "2022-07-21T03:52:11.901Z"
      },
      {
        "duration": 21,
        "start_time": "2022-07-21T03:52:11.913Z"
      },
      {
        "duration": 6,
        "start_time": "2022-07-21T03:52:11.961Z"
      },
      {
        "duration": 15,
        "start_time": "2022-07-21T03:52:11.968Z"
      },
      {
        "duration": 8,
        "start_time": "2022-07-21T03:52:11.985Z"
      },
      {
        "duration": 3401,
        "start_time": "2022-07-21T03:52:11.996Z"
      },
      {
        "duration": 1021,
        "start_time": "2022-07-21T03:52:15.399Z"
      },
      {
        "duration": 6,
        "start_time": "2022-07-21T03:53:27.532Z"
      },
      {
        "duration": 6,
        "start_time": "2022-07-21T03:53:31.114Z"
      },
      {
        "duration": 926,
        "start_time": "2022-07-21T03:53:33.387Z"
      },
      {
        "duration": 20,
        "start_time": "2022-07-21T03:53:47.075Z"
      },
      {
        "duration": 28,
        "start_time": "2022-07-21T03:54:01.484Z"
      },
      {
        "duration": 929,
        "start_time": "2022-07-21T03:54:06.773Z"
      },
      {
        "duration": 41,
        "start_time": "2022-07-21T03:54:13.235Z"
      },
      {
        "duration": 1054,
        "start_time": "2022-07-21T03:54:15.672Z"
      },
      {
        "duration": 3714,
        "start_time": "2022-07-21T03:54:54.115Z"
      },
      {
        "duration": 5,
        "start_time": "2022-07-21T03:55:39.283Z"
      },
      {
        "duration": 119,
        "start_time": "2022-07-21T03:56:00.907Z"
      },
      {
        "duration": 10,
        "start_time": "2022-07-21T03:57:26.138Z"
      },
      {
        "duration": 16,
        "start_time": "2022-07-21T03:57:52.955Z"
      },
      {
        "duration": 10,
        "start_time": "2022-07-21T03:59:28.322Z"
      },
      {
        "duration": 10,
        "start_time": "2022-07-21T03:59:47.645Z"
      },
      {
        "duration": 15,
        "start_time": "2022-07-21T04:01:13.586Z"
      },
      {
        "duration": 6,
        "start_time": "2022-07-21T04:01:50.474Z"
      },
      {
        "duration": 369,
        "start_time": "2022-07-21T04:01:56.922Z"
      },
      {
        "duration": 295,
        "start_time": "2022-07-21T04:02:00.689Z"
      },
      {
        "duration": 3,
        "start_time": "2022-07-21T04:03:36.794Z"
      },
      {
        "duration": 19,
        "start_time": "2022-07-21T04:03:47.985Z"
      },
      {
        "duration": 4,
        "start_time": "2022-07-21T04:06:50.800Z"
      },
      {
        "duration": 1409,
        "start_time": "2022-07-21T04:06:57.878Z"
      },
      {
        "duration": 47,
        "start_time": "2022-07-21T04:06:59.289Z"
      },
      {
        "duration": 14,
        "start_time": "2022-07-21T04:06:59.338Z"
      },
      {
        "duration": 23,
        "start_time": "2022-07-21T04:06:59.355Z"
      },
      {
        "duration": 7,
        "start_time": "2022-07-21T04:06:59.380Z"
      },
      {
        "duration": 4,
        "start_time": "2022-07-21T04:06:59.389Z"
      },
      {
        "duration": 44,
        "start_time": "2022-07-21T04:06:59.394Z"
      },
      {
        "duration": 8,
        "start_time": "2022-07-21T04:06:59.440Z"
      },
      {
        "duration": 24,
        "start_time": "2022-07-21T04:06:59.449Z"
      },
      {
        "duration": 11,
        "start_time": "2022-07-21T04:06:59.478Z"
      },
      {
        "duration": 9,
        "start_time": "2022-07-21T04:06:59.491Z"
      },
      {
        "duration": 16,
        "start_time": "2022-07-21T04:06:59.502Z"
      },
      {
        "duration": 9,
        "start_time": "2022-07-21T04:06:59.520Z"
      },
      {
        "duration": 11,
        "start_time": "2022-07-21T04:06:59.531Z"
      },
      {
        "duration": 11,
        "start_time": "2022-07-21T04:06:59.560Z"
      },
      {
        "duration": 12,
        "start_time": "2022-07-21T04:06:59.573Z"
      },
      {
        "duration": 7,
        "start_time": "2022-07-21T04:06:59.587Z"
      },
      {
        "duration": 8,
        "start_time": "2022-07-21T04:06:59.595Z"
      },
      {
        "duration": 7,
        "start_time": "2022-07-21T04:06:59.605Z"
      },
      {
        "duration": 7,
        "start_time": "2022-07-21T04:06:59.614Z"
      },
      {
        "duration": 46,
        "start_time": "2022-07-21T04:06:59.623Z"
      },
      {
        "duration": 17,
        "start_time": "2022-07-21T04:06:59.676Z"
      },
      {
        "duration": 26,
        "start_time": "2022-07-21T04:06:59.695Z"
      },
      {
        "duration": 50,
        "start_time": "2022-07-21T04:06:59.724Z"
      },
      {
        "duration": 27,
        "start_time": "2022-07-21T04:06:59.776Z"
      },
      {
        "duration": 29,
        "start_time": "2022-07-21T04:06:59.805Z"
      },
      {
        "duration": 19,
        "start_time": "2022-07-21T04:06:59.835Z"
      },
      {
        "duration": 3622,
        "start_time": "2022-07-21T04:06:59.857Z"
      },
      {
        "duration": 28,
        "start_time": "2022-07-21T04:07:03.481Z"
      },
      {
        "duration": 1098,
        "start_time": "2022-07-21T04:07:03.510Z"
      },
      {
        "duration": 5,
        "start_time": "2022-07-21T04:07:04.610Z"
      },
      {
        "duration": 20,
        "start_time": "2022-07-21T04:07:04.616Z"
      },
      {
        "duration": 32,
        "start_time": "2022-07-21T04:07:04.638Z"
      },
      {
        "duration": 577,
        "start_time": "2022-07-21T04:07:04.672Z"
      },
      {
        "duration": 4,
        "start_time": "2022-07-21T04:07:05.251Z"
      },
      {
        "duration": 142,
        "start_time": "2022-07-21T04:07:05.262Z"
      },
      {
        "duration": 4,
        "start_time": "2022-07-21T04:07:43.152Z"
      },
      {
        "duration": 5,
        "start_time": "2022-07-21T04:07:55.067Z"
      },
      {
        "duration": 24,
        "start_time": "2022-07-21T04:07:56.656Z"
      },
      {
        "duration": 7,
        "start_time": "2022-07-21T04:08:39.840Z"
      },
      {
        "duration": 1445,
        "start_time": "2022-07-21T04:08:47.094Z"
      },
      {
        "duration": 66,
        "start_time": "2022-07-21T04:08:48.541Z"
      },
      {
        "duration": 19,
        "start_time": "2022-07-21T04:08:48.609Z"
      },
      {
        "duration": 26,
        "start_time": "2022-07-21T04:08:48.631Z"
      },
      {
        "duration": 32,
        "start_time": "2022-07-21T04:08:48.658Z"
      },
      {
        "duration": 7,
        "start_time": "2022-07-21T04:08:48.692Z"
      },
      {
        "duration": 80,
        "start_time": "2022-07-21T04:08:48.700Z"
      },
      {
        "duration": 10,
        "start_time": "2022-07-21T04:08:48.782Z"
      },
      {
        "duration": 14,
        "start_time": "2022-07-21T04:08:48.795Z"
      },
      {
        "duration": 9,
        "start_time": "2022-07-21T04:08:48.812Z"
      },
      {
        "duration": 17,
        "start_time": "2022-07-21T04:08:48.822Z"
      },
      {
        "duration": 9,
        "start_time": "2022-07-21T04:08:48.841Z"
      },
      {
        "duration": 10,
        "start_time": "2022-07-21T04:08:48.862Z"
      },
      {
        "duration": 20,
        "start_time": "2022-07-21T04:08:48.874Z"
      },
      {
        "duration": 12,
        "start_time": "2022-07-21T04:08:48.895Z"
      },
      {
        "duration": 16,
        "start_time": "2022-07-21T04:08:48.909Z"
      },
      {
        "duration": 13,
        "start_time": "2022-07-21T04:08:48.927Z"
      },
      {
        "duration": 28,
        "start_time": "2022-07-21T04:08:48.941Z"
      },
      {
        "duration": 32,
        "start_time": "2022-07-21T04:08:48.971Z"
      },
      {
        "duration": 9,
        "start_time": "2022-07-21T04:08:49.006Z"
      },
      {
        "duration": 13,
        "start_time": "2022-07-21T04:08:49.017Z"
      },
      {
        "duration": 14,
        "start_time": "2022-07-21T04:08:49.032Z"
      },
      {
        "duration": 13,
        "start_time": "2022-07-21T04:08:49.048Z"
      },
      {
        "duration": 35,
        "start_time": "2022-07-21T04:08:49.063Z"
      },
      {
        "duration": 9,
        "start_time": "2022-07-21T04:08:49.100Z"
      },
      {
        "duration": 13,
        "start_time": "2022-07-21T04:08:49.110Z"
      },
      {
        "duration": 13,
        "start_time": "2022-07-21T04:08:49.126Z"
      },
      {
        "duration": 3601,
        "start_time": "2022-07-21T04:08:49.143Z"
      },
      {
        "duration": 42,
        "start_time": "2022-07-21T04:08:52.746Z"
      },
      {
        "duration": 1019,
        "start_time": "2022-07-21T04:08:52.789Z"
      },
      {
        "duration": 4,
        "start_time": "2022-07-21T04:08:53.810Z"
      },
      {
        "duration": 31,
        "start_time": "2022-07-21T04:08:53.816Z"
      },
      {
        "duration": 50,
        "start_time": "2022-07-21T04:08:53.848Z"
      },
      {
        "duration": 535,
        "start_time": "2022-07-21T04:08:53.900Z"
      },
      {
        "duration": 3,
        "start_time": "2022-07-21T04:08:54.437Z"
      },
      {
        "duration": 32,
        "start_time": "2022-07-21T04:08:54.442Z"
      },
      {
        "duration": 6,
        "start_time": "2022-07-21T04:09:36.387Z"
      },
      {
        "duration": 1351,
        "start_time": "2022-07-21T04:09:41.836Z"
      },
      {
        "duration": 48,
        "start_time": "2022-07-21T04:09:43.189Z"
      },
      {
        "duration": 12,
        "start_time": "2022-07-21T04:09:43.238Z"
      },
      {
        "duration": 23,
        "start_time": "2022-07-21T04:09:43.251Z"
      },
      {
        "duration": 10,
        "start_time": "2022-07-21T04:09:43.277Z"
      },
      {
        "duration": 3,
        "start_time": "2022-07-21T04:09:43.288Z"
      },
      {
        "duration": 45,
        "start_time": "2022-07-21T04:09:43.293Z"
      },
      {
        "duration": 8,
        "start_time": "2022-07-21T04:09:43.339Z"
      },
      {
        "duration": 22,
        "start_time": "2022-07-21T04:09:43.348Z"
      },
      {
        "duration": 13,
        "start_time": "2022-07-21T04:09:43.372Z"
      },
      {
        "duration": 8,
        "start_time": "2022-07-21T04:09:43.386Z"
      },
      {
        "duration": 9,
        "start_time": "2022-07-21T04:09:43.395Z"
      },
      {
        "duration": 9,
        "start_time": "2022-07-21T04:09:43.405Z"
      },
      {
        "duration": 6,
        "start_time": "2022-07-21T04:09:43.417Z"
      },
      {
        "duration": 9,
        "start_time": "2022-07-21T04:09:43.425Z"
      },
      {
        "duration": 49,
        "start_time": "2022-07-21T04:09:43.436Z"
      },
      {
        "duration": 14,
        "start_time": "2022-07-21T04:09:43.487Z"
      },
      {
        "duration": 8,
        "start_time": "2022-07-21T04:09:43.503Z"
      },
      {
        "duration": 10,
        "start_time": "2022-07-21T04:09:43.513Z"
      },
      {
        "duration": 8,
        "start_time": "2022-07-21T04:09:43.524Z"
      },
      {
        "duration": 9,
        "start_time": "2022-07-21T04:09:43.533Z"
      },
      {
        "duration": 11,
        "start_time": "2022-07-21T04:09:43.544Z"
      },
      {
        "duration": 21,
        "start_time": "2022-07-21T04:09:43.556Z"
      },
      {
        "duration": 10,
        "start_time": "2022-07-21T04:09:43.579Z"
      },
      {
        "duration": 8,
        "start_time": "2022-07-21T04:09:43.591Z"
      },
      {
        "duration": 11,
        "start_time": "2022-07-21T04:09:43.600Z"
      },
      {
        "duration": 7,
        "start_time": "2022-07-21T04:09:43.612Z"
      },
      {
        "duration": 3655,
        "start_time": "2022-07-21T04:09:43.621Z"
      },
      {
        "duration": 27,
        "start_time": "2022-07-21T04:09:47.280Z"
      },
      {
        "duration": 1123,
        "start_time": "2022-07-21T04:09:47.309Z"
      },
      {
        "duration": 4,
        "start_time": "2022-07-21T04:09:48.434Z"
      },
      {
        "duration": 35,
        "start_time": "2022-07-21T04:09:48.439Z"
      },
      {
        "duration": 110,
        "start_time": "2022-07-21T04:09:48.476Z"
      },
      {
        "duration": 458,
        "start_time": "2022-07-21T04:09:48.661Z"
      },
      {
        "duration": 3,
        "start_time": "2022-07-21T04:09:49.121Z"
      },
      {
        "duration": 18,
        "start_time": "2022-07-21T04:09:49.125Z"
      },
      {
        "duration": 9,
        "start_time": "2022-07-21T04:14:53.574Z"
      },
      {
        "duration": 1413,
        "start_time": "2022-07-21T04:17:04.936Z"
      },
      {
        "duration": 53,
        "start_time": "2022-07-21T04:17:06.352Z"
      },
      {
        "duration": 13,
        "start_time": "2022-07-21T04:17:06.406Z"
      },
      {
        "duration": 12,
        "start_time": "2022-07-21T04:17:06.422Z"
      },
      {
        "duration": 6,
        "start_time": "2022-07-21T04:17:06.436Z"
      },
      {
        "duration": 16,
        "start_time": "2022-07-21T04:17:06.445Z"
      },
      {
        "duration": 50,
        "start_time": "2022-07-21T04:17:06.463Z"
      },
      {
        "duration": 7,
        "start_time": "2022-07-21T04:17:06.514Z"
      },
      {
        "duration": 9,
        "start_time": "2022-07-21T04:17:06.522Z"
      },
      {
        "duration": 7,
        "start_time": "2022-07-21T04:17:06.533Z"
      },
      {
        "duration": 22,
        "start_time": "2022-07-21T04:17:06.542Z"
      },
      {
        "duration": 6,
        "start_time": "2022-07-21T04:17:06.566Z"
      },
      {
        "duration": 9,
        "start_time": "2022-07-21T04:17:06.573Z"
      },
      {
        "duration": 9,
        "start_time": "2022-07-21T04:17:06.584Z"
      },
      {
        "duration": 6,
        "start_time": "2022-07-21T04:17:06.594Z"
      },
      {
        "duration": 7,
        "start_time": "2022-07-21T04:17:06.601Z"
      },
      {
        "duration": 6,
        "start_time": "2022-07-21T04:17:06.609Z"
      },
      {
        "duration": 44,
        "start_time": "2022-07-21T04:17:06.617Z"
      },
      {
        "duration": 7,
        "start_time": "2022-07-21T04:17:06.663Z"
      },
      {
        "duration": 7,
        "start_time": "2022-07-21T04:17:06.671Z"
      },
      {
        "duration": 8,
        "start_time": "2022-07-21T04:17:06.680Z"
      },
      {
        "duration": 11,
        "start_time": "2022-07-21T04:17:06.689Z"
      },
      {
        "duration": 11,
        "start_time": "2022-07-21T04:17:06.702Z"
      },
      {
        "duration": 14,
        "start_time": "2022-07-21T04:17:06.714Z"
      },
      {
        "duration": 32,
        "start_time": "2022-07-21T04:17:06.730Z"
      },
      {
        "duration": 12,
        "start_time": "2022-07-21T04:17:06.763Z"
      },
      {
        "duration": 7,
        "start_time": "2022-07-21T04:17:06.777Z"
      },
      {
        "duration": 3265,
        "start_time": "2022-07-21T04:17:06.787Z"
      },
      {
        "duration": 26,
        "start_time": "2022-07-21T04:17:10.054Z"
      },
      {
        "duration": 954,
        "start_time": "2022-07-21T04:17:10.082Z"
      },
      {
        "duration": 3,
        "start_time": "2022-07-21T04:17:11.038Z"
      },
      {
        "duration": 18,
        "start_time": "2022-07-21T04:17:11.043Z"
      },
      {
        "duration": 99,
        "start_time": "2022-07-21T04:17:11.062Z"
      },
      {
        "duration": 422,
        "start_time": "2022-07-21T04:17:11.168Z"
      },
      {
        "duration": 3,
        "start_time": "2022-07-21T04:17:11.592Z"
      },
      {
        "duration": 22,
        "start_time": "2022-07-21T04:17:11.596Z"
      },
      {
        "duration": 13,
        "start_time": "2022-07-21T04:17:11.619Z"
      },
      {
        "duration": 106050,
        "start_time": "2022-07-21T04:17:11.634Z"
      },
      {
        "duration": 221,
        "start_time": "2022-07-21T04:18:57.687Z"
      },
      {
        "duration": 0,
        "start_time": "2022-07-21T04:18:57.910Z"
      },
      {
        "duration": 1598,
        "start_time": "2022-07-21T04:19:28.173Z"
      },
      {
        "duration": 1321,
        "start_time": "2022-07-21T04:20:10.749Z"
      },
      {
        "duration": 1333,
        "start_time": "2022-07-21T04:20:31.037Z"
      },
      {
        "duration": 1412,
        "start_time": "2022-07-21T04:20:37.861Z"
      },
      {
        "duration": 1387,
        "start_time": "2022-07-21T04:20:53.989Z"
      },
      {
        "duration": 1344,
        "start_time": "2022-07-21T04:21:05.933Z"
      },
      {
        "duration": 1479,
        "start_time": "2022-07-21T04:21:28.246Z"
      },
      {
        "duration": 714,
        "start_time": "2022-07-21T04:21:35.972Z"
      },
      {
        "duration": 11,
        "start_time": "2022-07-21T04:21:45.635Z"
      },
      {
        "duration": 11,
        "start_time": "2022-07-21T04:22:00.814Z"
      },
      {
        "duration": 1493,
        "start_time": "2022-07-21T04:23:55.962Z"
      },
      {
        "duration": 47,
        "start_time": "2022-07-21T04:23:57.457Z"
      },
      {
        "duration": 11,
        "start_time": "2022-07-21T04:23:57.506Z"
      },
      {
        "duration": 10,
        "start_time": "2022-07-21T04:23:57.519Z"
      },
      {
        "duration": 7,
        "start_time": "2022-07-21T04:23:57.530Z"
      },
      {
        "duration": 5,
        "start_time": "2022-07-21T04:23:57.538Z"
      },
      {
        "duration": 49,
        "start_time": "2022-07-21T04:23:57.544Z"
      },
      {
        "duration": 8,
        "start_time": "2022-07-21T04:23:57.595Z"
      },
      {
        "duration": 10,
        "start_time": "2022-07-21T04:23:57.604Z"
      },
      {
        "duration": 7,
        "start_time": "2022-07-21T04:23:57.617Z"
      },
      {
        "duration": 10,
        "start_time": "2022-07-21T04:23:57.625Z"
      },
      {
        "duration": 27,
        "start_time": "2022-07-21T04:23:57.637Z"
      },
      {
        "duration": 10,
        "start_time": "2022-07-21T04:23:57.666Z"
      },
      {
        "duration": 13,
        "start_time": "2022-07-21T04:23:57.677Z"
      },
      {
        "duration": 10,
        "start_time": "2022-07-21T04:23:57.692Z"
      },
      {
        "duration": 6,
        "start_time": "2022-07-21T04:23:57.704Z"
      },
      {
        "duration": 7,
        "start_time": "2022-07-21T04:23:57.712Z"
      },
      {
        "duration": 7,
        "start_time": "2022-07-21T04:23:57.721Z"
      },
      {
        "duration": 8,
        "start_time": "2022-07-21T04:23:57.760Z"
      },
      {
        "duration": 9,
        "start_time": "2022-07-21T04:23:57.770Z"
      },
      {
        "duration": 8,
        "start_time": "2022-07-21T04:23:57.781Z"
      },
      {
        "duration": 18,
        "start_time": "2022-07-21T04:23:57.791Z"
      },
      {
        "duration": 10,
        "start_time": "2022-07-21T04:23:57.810Z"
      },
      {
        "duration": 44,
        "start_time": "2022-07-21T04:23:57.822Z"
      },
      {
        "duration": 6,
        "start_time": "2022-07-21T04:23:57.868Z"
      },
      {
        "duration": 12,
        "start_time": "2022-07-21T04:23:57.876Z"
      },
      {
        "duration": 6,
        "start_time": "2022-07-21T04:23:57.889Z"
      },
      {
        "duration": 3306,
        "start_time": "2022-07-21T04:23:57.899Z"
      },
      {
        "duration": 27,
        "start_time": "2022-07-21T04:24:01.207Z"
      },
      {
        "duration": 1017,
        "start_time": "2022-07-21T04:24:01.235Z"
      },
      {
        "duration": 4,
        "start_time": "2022-07-21T04:24:02.254Z"
      },
      {
        "duration": 17,
        "start_time": "2022-07-21T04:24:02.259Z"
      },
      {
        "duration": 83,
        "start_time": "2022-07-21T04:24:02.278Z"
      },
      {
        "duration": 438,
        "start_time": "2022-07-21T04:24:02.367Z"
      },
      {
        "duration": 4,
        "start_time": "2022-07-21T04:24:02.807Z"
      },
      {
        "duration": 18,
        "start_time": "2022-07-21T04:24:02.813Z"
      },
      {
        "duration": 7,
        "start_time": "2022-07-21T04:24:02.833Z"
      },
      {
        "duration": 108309,
        "start_time": "2022-07-21T04:24:02.842Z"
      },
      {
        "duration": 1219,
        "start_time": "2022-07-21T04:25:51.153Z"
      },
      {
        "duration": 1507,
        "start_time": "2022-07-21T04:25:52.374Z"
      },
      {
        "duration": 645,
        "start_time": "2022-07-21T04:25:53.883Z"
      },
      {
        "duration": 11,
        "start_time": "2022-07-21T04:25:54.530Z"
      },
      {
        "duration": 13,
        "start_time": "2022-07-21T04:41:29.857Z"
      },
      {
        "duration": 1390,
        "start_time": "2022-07-21T05:05:18.699Z"
      },
      {
        "duration": 45,
        "start_time": "2022-07-21T05:05:20.091Z"
      },
      {
        "duration": 12,
        "start_time": "2022-07-21T05:05:20.138Z"
      },
      {
        "duration": 22,
        "start_time": "2022-07-21T05:05:20.151Z"
      },
      {
        "duration": 6,
        "start_time": "2022-07-21T05:05:20.176Z"
      },
      {
        "duration": 7,
        "start_time": "2022-07-21T05:05:20.184Z"
      },
      {
        "duration": 45,
        "start_time": "2022-07-21T05:05:20.192Z"
      },
      {
        "duration": 7,
        "start_time": "2022-07-21T05:05:20.239Z"
      },
      {
        "duration": 32,
        "start_time": "2022-07-21T05:05:20.247Z"
      },
      {
        "duration": 24,
        "start_time": "2022-07-21T05:05:20.281Z"
      },
      {
        "duration": 7,
        "start_time": "2022-07-21T05:05:20.306Z"
      },
      {
        "duration": 21,
        "start_time": "2022-07-21T05:05:20.315Z"
      },
      {
        "duration": 9,
        "start_time": "2022-07-21T05:05:20.338Z"
      },
      {
        "duration": 7,
        "start_time": "2022-07-21T05:05:20.350Z"
      },
      {
        "duration": 18,
        "start_time": "2022-07-21T05:05:20.358Z"
      },
      {
        "duration": 20,
        "start_time": "2022-07-21T05:05:20.377Z"
      },
      {
        "duration": 8,
        "start_time": "2022-07-21T05:05:20.398Z"
      },
      {
        "duration": 20,
        "start_time": "2022-07-21T05:05:20.407Z"
      },
      {
        "duration": 9,
        "start_time": "2022-07-21T05:05:20.428Z"
      },
      {
        "duration": 15,
        "start_time": "2022-07-21T05:05:20.438Z"
      },
      {
        "duration": 9,
        "start_time": "2022-07-21T05:05:20.455Z"
      },
      {
        "duration": 21,
        "start_time": "2022-07-21T05:05:20.465Z"
      },
      {
        "duration": 10,
        "start_time": "2022-07-21T05:05:20.488Z"
      },
      {
        "duration": 15,
        "start_time": "2022-07-21T05:05:20.500Z"
      },
      {
        "duration": 6,
        "start_time": "2022-07-21T05:05:20.517Z"
      },
      {
        "duration": 10,
        "start_time": "2022-07-21T05:05:20.525Z"
      },
      {
        "duration": 7,
        "start_time": "2022-07-21T05:05:20.536Z"
      },
      {
        "duration": 3413,
        "start_time": "2022-07-21T05:05:20.544Z"
      },
      {
        "duration": 32,
        "start_time": "2022-07-21T05:05:23.960Z"
      },
      {
        "duration": 1035,
        "start_time": "2022-07-21T05:05:23.993Z"
      },
      {
        "duration": 4,
        "start_time": "2022-07-21T05:05:25.030Z"
      },
      {
        "duration": 18,
        "start_time": "2022-07-21T05:05:25.035Z"
      },
      {
        "duration": 206,
        "start_time": "2022-07-21T05:05:25.055Z"
      },
      {
        "duration": 482,
        "start_time": "2022-07-21T05:05:25.263Z"
      },
      {
        "duration": 4,
        "start_time": "2022-07-21T05:05:25.746Z"
      },
      {
        "duration": 36,
        "start_time": "2022-07-21T05:05:25.752Z"
      },
      {
        "duration": 8,
        "start_time": "2022-07-21T05:05:25.789Z"
      },
      {
        "duration": 111258,
        "start_time": "2022-07-21T05:05:25.798Z"
      },
      {
        "duration": 918,
        "start_time": "2022-07-21T05:07:17.060Z"
      },
      {
        "duration": 1447,
        "start_time": "2022-07-21T05:07:17.980Z"
      },
      {
        "duration": 606,
        "start_time": "2022-07-21T05:07:19.430Z"
      },
      {
        "duration": 9,
        "start_time": "2022-07-21T05:07:20.038Z"
      },
      {
        "duration": 12,
        "start_time": "2022-07-21T05:14:05.933Z"
      },
      {
        "duration": 115656,
        "start_time": "2022-07-21T05:18:07.984Z"
      },
      {
        "duration": 1050,
        "start_time": "2022-07-21T05:20:03.642Z"
      },
      {
        "duration": 11,
        "start_time": "2022-07-21T05:27:41.616Z"
      },
      {
        "duration": 1456,
        "start_time": "2022-07-21T05:31:40.978Z"
      },
      {
        "duration": 51,
        "start_time": "2022-07-21T05:31:42.436Z"
      },
      {
        "duration": 11,
        "start_time": "2022-07-21T05:31:42.488Z"
      },
      {
        "duration": 14,
        "start_time": "2022-07-21T05:31:42.500Z"
      },
      {
        "duration": 5,
        "start_time": "2022-07-21T05:31:42.517Z"
      },
      {
        "duration": 11,
        "start_time": "2022-07-21T05:31:42.524Z"
      },
      {
        "duration": 54,
        "start_time": "2022-07-21T05:31:42.536Z"
      },
      {
        "duration": 8,
        "start_time": "2022-07-21T05:31:42.592Z"
      },
      {
        "duration": 10,
        "start_time": "2022-07-21T05:31:42.601Z"
      },
      {
        "duration": 7,
        "start_time": "2022-07-21T05:31:42.613Z"
      },
      {
        "duration": 7,
        "start_time": "2022-07-21T05:31:42.622Z"
      },
      {
        "duration": 43,
        "start_time": "2022-07-21T05:31:42.631Z"
      },
      {
        "duration": 35,
        "start_time": "2022-07-21T05:31:42.676Z"
      },
      {
        "duration": 10,
        "start_time": "2022-07-21T05:31:42.714Z"
      },
      {
        "duration": 8,
        "start_time": "2022-07-21T05:31:42.725Z"
      },
      {
        "duration": 21,
        "start_time": "2022-07-21T05:31:42.735Z"
      },
      {
        "duration": 35,
        "start_time": "2022-07-21T05:31:42.758Z"
      },
      {
        "duration": 8,
        "start_time": "2022-07-21T05:31:42.794Z"
      },
      {
        "duration": 7,
        "start_time": "2022-07-21T05:31:42.803Z"
      },
      {
        "duration": 7,
        "start_time": "2022-07-21T05:31:42.812Z"
      },
      {
        "duration": 8,
        "start_time": "2022-07-21T05:31:42.821Z"
      },
      {
        "duration": 14,
        "start_time": "2022-07-21T05:31:42.831Z"
      },
      {
        "duration": 22,
        "start_time": "2022-07-21T05:31:42.846Z"
      },
      {
        "duration": 24,
        "start_time": "2022-07-21T05:31:42.873Z"
      },
      {
        "duration": 13,
        "start_time": "2022-07-21T05:31:42.899Z"
      },
      {
        "duration": 15,
        "start_time": "2022-07-21T05:31:42.914Z"
      },
      {
        "duration": 8,
        "start_time": "2022-07-21T05:31:42.931Z"
      },
      {
        "duration": 3588,
        "start_time": "2022-07-21T05:31:42.940Z"
      },
      {
        "duration": 46,
        "start_time": "2022-07-21T05:31:46.529Z"
      },
      {
        "duration": 997,
        "start_time": "2022-07-21T05:31:46.579Z"
      },
      {
        "duration": 4,
        "start_time": "2022-07-21T05:31:47.579Z"
      },
      {
        "duration": 19,
        "start_time": "2022-07-21T05:31:47.585Z"
      },
      {
        "duration": 166,
        "start_time": "2022-07-21T05:31:47.606Z"
      },
      {
        "duration": 537,
        "start_time": "2022-07-21T05:31:47.774Z"
      },
      {
        "duration": 4,
        "start_time": "2022-07-21T05:31:48.313Z"
      },
      {
        "duration": 17,
        "start_time": "2022-07-21T05:31:48.318Z"
      },
      {
        "duration": 35,
        "start_time": "2022-07-21T05:31:48.336Z"
      },
      {
        "duration": 113854,
        "start_time": "2022-07-21T05:31:48.372Z"
      },
      {
        "duration": 1058,
        "start_time": "2022-07-21T05:33:42.228Z"
      },
      {
        "duration": 1543,
        "start_time": "2022-07-21T05:33:43.361Z"
      },
      {
        "duration": 649,
        "start_time": "2022-07-21T05:33:44.908Z"
      },
      {
        "duration": 19,
        "start_time": "2022-07-21T05:33:45.560Z"
      },
      {
        "duration": 1555,
        "start_time": "2022-07-21T07:57:18.936Z"
      },
      {
        "duration": 141,
        "start_time": "2022-07-21T07:57:20.493Z"
      },
      {
        "duration": 11,
        "start_time": "2022-07-21T07:57:20.636Z"
      },
      {
        "duration": 18,
        "start_time": "2022-07-21T07:57:20.648Z"
      },
      {
        "duration": 5,
        "start_time": "2022-07-21T07:57:20.668Z"
      },
      {
        "duration": 6,
        "start_time": "2022-07-21T07:57:20.675Z"
      },
      {
        "duration": 47,
        "start_time": "2022-07-21T07:57:20.683Z"
      },
      {
        "duration": 22,
        "start_time": "2022-07-21T07:57:20.732Z"
      },
      {
        "duration": 15,
        "start_time": "2022-07-21T07:57:20.756Z"
      },
      {
        "duration": 11,
        "start_time": "2022-07-21T07:57:20.773Z"
      },
      {
        "duration": 7,
        "start_time": "2022-07-21T07:57:20.786Z"
      },
      {
        "duration": 14,
        "start_time": "2022-07-21T07:57:20.794Z"
      },
      {
        "duration": 8,
        "start_time": "2022-07-21T07:57:20.809Z"
      },
      {
        "duration": 10,
        "start_time": "2022-07-21T07:57:20.819Z"
      },
      {
        "duration": 7,
        "start_time": "2022-07-21T07:57:20.852Z"
      },
      {
        "duration": 14,
        "start_time": "2022-07-21T07:57:20.861Z"
      },
      {
        "duration": 25,
        "start_time": "2022-07-21T07:57:20.878Z"
      },
      {
        "duration": 10,
        "start_time": "2022-07-21T07:57:20.905Z"
      },
      {
        "duration": 11,
        "start_time": "2022-07-21T07:57:20.917Z"
      },
      {
        "duration": 8,
        "start_time": "2022-07-21T07:57:20.930Z"
      },
      {
        "duration": 9,
        "start_time": "2022-07-21T07:57:20.952Z"
      },
      {
        "duration": 17,
        "start_time": "2022-07-21T07:57:20.963Z"
      },
      {
        "duration": 11,
        "start_time": "2022-07-21T07:57:20.982Z"
      },
      {
        "duration": 18,
        "start_time": "2022-07-21T07:57:20.995Z"
      },
      {
        "duration": 11,
        "start_time": "2022-07-21T07:57:21.014Z"
      },
      {
        "duration": 37,
        "start_time": "2022-07-21T07:57:21.027Z"
      },
      {
        "duration": 7,
        "start_time": "2022-07-21T07:57:21.066Z"
      },
      {
        "duration": 3541,
        "start_time": "2022-07-21T07:57:21.075Z"
      },
      {
        "duration": 40,
        "start_time": "2022-07-21T07:57:24.618Z"
      },
      {
        "duration": 1159,
        "start_time": "2022-07-21T07:57:24.660Z"
      },
      {
        "duration": 5,
        "start_time": "2022-07-21T07:57:25.821Z"
      },
      {
        "duration": 25,
        "start_time": "2022-07-21T07:57:25.828Z"
      },
      {
        "duration": 19,
        "start_time": "2022-07-21T07:57:25.854Z"
      },
      {
        "duration": 602,
        "start_time": "2022-07-21T07:57:25.874Z"
      },
      {
        "duration": 4,
        "start_time": "2022-07-21T07:57:26.478Z"
      },
      {
        "duration": 42,
        "start_time": "2022-07-21T07:57:26.483Z"
      },
      {
        "duration": 14,
        "start_time": "2022-07-21T07:57:26.527Z"
      },
      {
        "duration": 104429,
        "start_time": "2022-07-21T07:57:26.543Z"
      },
      {
        "duration": 1185,
        "start_time": "2022-07-21T07:59:10.973Z"
      },
      {
        "duration": 1374,
        "start_time": "2022-07-21T07:59:12.159Z"
      },
      {
        "duration": 582,
        "start_time": "2022-07-21T07:59:13.537Z"
      },
      {
        "duration": 10,
        "start_time": "2022-07-21T07:59:14.121Z"
      },
      {
        "duration": 4,
        "start_time": "2022-07-21T08:07:12.159Z"
      },
      {
        "duration": 5,
        "start_time": "2022-07-21T08:07:47.263Z"
      },
      {
        "duration": 6,
        "start_time": "2022-07-21T08:08:24.863Z"
      },
      {
        "duration": 1551,
        "start_time": "2022-07-21T14:30:32.745Z"
      },
      {
        "duration": 97,
        "start_time": "2022-07-21T14:30:34.298Z"
      },
      {
        "duration": 11,
        "start_time": "2022-07-21T14:30:34.397Z"
      },
      {
        "duration": 13,
        "start_time": "2022-07-21T14:30:34.410Z"
      },
      {
        "duration": 5,
        "start_time": "2022-07-21T14:30:34.424Z"
      },
      {
        "duration": 5,
        "start_time": "2022-07-21T14:30:34.431Z"
      },
      {
        "duration": 51,
        "start_time": "2022-07-21T14:30:34.438Z"
      },
      {
        "duration": 7,
        "start_time": "2022-07-21T14:30:34.491Z"
      },
      {
        "duration": 8,
        "start_time": "2022-07-21T14:30:34.500Z"
      },
      {
        "duration": 7,
        "start_time": "2022-07-21T14:30:34.511Z"
      },
      {
        "duration": 7,
        "start_time": "2022-07-21T14:30:34.519Z"
      },
      {
        "duration": 33,
        "start_time": "2022-07-21T14:30:34.529Z"
      },
      {
        "duration": 7,
        "start_time": "2022-07-21T14:30:34.564Z"
      },
      {
        "duration": 20,
        "start_time": "2022-07-21T14:30:34.572Z"
      },
      {
        "duration": 14,
        "start_time": "2022-07-21T14:30:34.594Z"
      },
      {
        "duration": 7,
        "start_time": "2022-07-21T14:30:34.610Z"
      },
      {
        "duration": 11,
        "start_time": "2022-07-21T14:30:34.619Z"
      },
      {
        "duration": 9,
        "start_time": "2022-07-21T14:30:34.632Z"
      },
      {
        "duration": 8,
        "start_time": "2022-07-21T14:30:34.660Z"
      },
      {
        "duration": 9,
        "start_time": "2022-07-21T14:30:34.670Z"
      },
      {
        "duration": 14,
        "start_time": "2022-07-21T14:30:34.680Z"
      },
      {
        "duration": 13,
        "start_time": "2022-07-21T14:30:34.696Z"
      },
      {
        "duration": 13,
        "start_time": "2022-07-21T14:30:34.711Z"
      },
      {
        "duration": 44,
        "start_time": "2022-07-21T14:30:34.725Z"
      },
      {
        "duration": 11,
        "start_time": "2022-07-21T14:30:34.770Z"
      },
      {
        "duration": 17,
        "start_time": "2022-07-21T14:30:34.782Z"
      },
      {
        "duration": 9,
        "start_time": "2022-07-21T14:30:34.800Z"
      },
      {
        "duration": 3408,
        "start_time": "2022-07-21T14:30:34.812Z"
      },
      {
        "duration": 27,
        "start_time": "2022-07-21T14:30:38.221Z"
      },
      {
        "duration": 1031,
        "start_time": "2022-07-21T14:30:38.249Z"
      },
      {
        "duration": 4,
        "start_time": "2022-07-21T14:30:39.282Z"
      },
      {
        "duration": 15,
        "start_time": "2022-07-21T14:30:39.288Z"
      },
      {
        "duration": 63,
        "start_time": "2022-07-21T14:30:39.305Z"
      },
      {
        "duration": 430,
        "start_time": "2022-07-21T14:30:39.460Z"
      },
      {
        "duration": 4,
        "start_time": "2022-07-21T14:30:39.892Z"
      },
      {
        "duration": 17,
        "start_time": "2022-07-21T14:30:39.898Z"
      },
      {
        "duration": 7,
        "start_time": "2022-07-21T14:30:39.917Z"
      },
      {
        "duration": 110355,
        "start_time": "2022-07-21T14:30:39.925Z"
      },
      {
        "duration": 1098,
        "start_time": "2022-07-21T14:32:30.282Z"
      },
      {
        "duration": 1499,
        "start_time": "2022-07-21T14:32:31.381Z"
      },
      {
        "duration": 614,
        "start_time": "2022-07-21T14:32:32.882Z"
      },
      {
        "duration": 11,
        "start_time": "2022-07-21T14:32:33.498Z"
      },
      {
        "duration": 109674,
        "start_time": "2022-07-21T14:46:15.324Z"
      },
      {
        "duration": 1377,
        "start_time": "2022-07-21T14:50:53.188Z"
      },
      {
        "duration": 48,
        "start_time": "2022-07-21T14:50:54.569Z"
      },
      {
        "duration": 12,
        "start_time": "2022-07-21T14:50:54.618Z"
      },
      {
        "duration": 14,
        "start_time": "2022-07-21T14:50:54.633Z"
      },
      {
        "duration": 5,
        "start_time": "2022-07-21T14:50:54.649Z"
      },
      {
        "duration": 4,
        "start_time": "2022-07-21T14:50:54.656Z"
      },
      {
        "duration": 71,
        "start_time": "2022-07-21T14:50:54.662Z"
      },
      {
        "duration": 10,
        "start_time": "2022-07-21T14:50:54.735Z"
      },
      {
        "duration": 17,
        "start_time": "2022-07-21T14:50:54.748Z"
      },
      {
        "duration": 9,
        "start_time": "2022-07-21T14:50:54.769Z"
      },
      {
        "duration": 11,
        "start_time": "2022-07-21T14:50:54.779Z"
      },
      {
        "duration": 9,
        "start_time": "2022-07-21T14:50:54.792Z"
      },
      {
        "duration": 8,
        "start_time": "2022-07-21T14:50:54.803Z"
      },
      {
        "duration": 7,
        "start_time": "2022-07-21T14:50:54.813Z"
      },
      {
        "duration": 42,
        "start_time": "2022-07-21T14:50:54.822Z"
      },
      {
        "duration": 9,
        "start_time": "2022-07-21T14:50:54.866Z"
      },
      {
        "duration": 8,
        "start_time": "2022-07-21T14:50:54.876Z"
      },
      {
        "duration": 7,
        "start_time": "2022-07-21T14:50:54.886Z"
      },
      {
        "duration": 9,
        "start_time": "2022-07-21T14:50:54.895Z"
      },
      {
        "duration": 8,
        "start_time": "2022-07-21T14:50:54.905Z"
      },
      {
        "duration": 46,
        "start_time": "2022-07-21T14:50:54.914Z"
      },
      {
        "duration": 19,
        "start_time": "2022-07-21T14:50:54.963Z"
      },
      {
        "duration": 15,
        "start_time": "2022-07-21T14:50:54.984Z"
      },
      {
        "duration": 16,
        "start_time": "2022-07-21T14:50:55.000Z"
      },
      {
        "duration": 8,
        "start_time": "2022-07-21T14:50:55.018Z"
      },
      {
        "duration": 37,
        "start_time": "2022-07-21T14:50:55.028Z"
      },
      {
        "duration": 9,
        "start_time": "2022-07-21T14:50:55.066Z"
      },
      {
        "duration": 3577,
        "start_time": "2022-07-21T14:50:55.078Z"
      },
      {
        "duration": 30,
        "start_time": "2022-07-21T14:50:58.657Z"
      },
      {
        "duration": 1003,
        "start_time": "2022-07-21T14:50:58.689Z"
      },
      {
        "duration": 4,
        "start_time": "2022-07-21T14:50:59.694Z"
      },
      {
        "duration": 17,
        "start_time": "2022-07-21T14:50:59.700Z"
      },
      {
        "duration": 109,
        "start_time": "2022-07-21T14:50:59.719Z"
      },
      {
        "duration": 0,
        "start_time": "2022-07-21T14:50:59.829Z"
      },
      {
        "duration": 0,
        "start_time": "2022-07-21T14:50:59.830Z"
      },
      {
        "duration": 0,
        "start_time": "2022-07-21T14:50:59.831Z"
      },
      {
        "duration": 0,
        "start_time": "2022-07-21T14:50:59.833Z"
      },
      {
        "duration": 0,
        "start_time": "2022-07-21T14:50:59.833Z"
      },
      {
        "duration": 0,
        "start_time": "2022-07-21T14:50:59.834Z"
      },
      {
        "duration": 0,
        "start_time": "2022-07-21T14:50:59.836Z"
      },
      {
        "duration": 0,
        "start_time": "2022-07-21T14:50:59.837Z"
      },
      {
        "duration": 0,
        "start_time": "2022-07-21T14:50:59.838Z"
      },
      {
        "duration": 1437,
        "start_time": "2022-07-21T14:53:10.176Z"
      },
      {
        "duration": 46,
        "start_time": "2022-07-21T14:53:11.615Z"
      },
      {
        "duration": 15,
        "start_time": "2022-07-21T14:53:11.666Z"
      },
      {
        "duration": 18,
        "start_time": "2022-07-21T14:53:11.684Z"
      },
      {
        "duration": 7,
        "start_time": "2022-07-21T14:53:11.704Z"
      },
      {
        "duration": 8,
        "start_time": "2022-07-21T14:53:11.712Z"
      },
      {
        "duration": 78,
        "start_time": "2022-07-21T14:53:11.722Z"
      },
      {
        "duration": 8,
        "start_time": "2022-07-21T14:53:11.802Z"
      },
      {
        "duration": 15,
        "start_time": "2022-07-21T14:53:11.813Z"
      },
      {
        "duration": 10,
        "start_time": "2022-07-21T14:53:11.829Z"
      },
      {
        "duration": 11,
        "start_time": "2022-07-21T14:53:11.861Z"
      },
      {
        "duration": 17,
        "start_time": "2022-07-21T14:53:11.874Z"
      },
      {
        "duration": 10,
        "start_time": "2022-07-21T14:53:11.893Z"
      },
      {
        "duration": 9,
        "start_time": "2022-07-21T14:53:11.905Z"
      },
      {
        "duration": 11,
        "start_time": "2022-07-21T14:53:11.915Z"
      },
      {
        "duration": 11,
        "start_time": "2022-07-21T14:53:11.928Z"
      },
      {
        "duration": 8,
        "start_time": "2022-07-21T14:53:11.961Z"
      },
      {
        "duration": 6,
        "start_time": "2022-07-21T14:53:11.971Z"
      },
      {
        "duration": 9,
        "start_time": "2022-07-21T14:53:11.979Z"
      },
      {
        "duration": 10,
        "start_time": "2022-07-21T14:53:11.989Z"
      },
      {
        "duration": 12,
        "start_time": "2022-07-21T14:53:12.000Z"
      },
      {
        "duration": 21,
        "start_time": "2022-07-21T14:53:12.013Z"
      },
      {
        "duration": 39,
        "start_time": "2022-07-21T14:53:12.035Z"
      },
      {
        "duration": 22,
        "start_time": "2022-07-21T14:53:12.076Z"
      },
      {
        "duration": 9,
        "start_time": "2022-07-21T14:53:12.101Z"
      },
      {
        "duration": 11,
        "start_time": "2022-07-21T14:53:12.113Z"
      },
      {
        "duration": 6,
        "start_time": "2022-07-21T14:53:12.127Z"
      },
      {
        "duration": 3607,
        "start_time": "2022-07-21T14:53:12.135Z"
      },
      {
        "duration": 36,
        "start_time": "2022-07-21T14:53:15.744Z"
      },
      {
        "duration": 1078,
        "start_time": "2022-07-21T14:53:15.782Z"
      },
      {
        "duration": 4,
        "start_time": "2022-07-21T14:53:16.862Z"
      },
      {
        "duration": 22,
        "start_time": "2022-07-21T14:53:16.868Z"
      },
      {
        "duration": 77,
        "start_time": "2022-07-21T14:53:16.892Z"
      },
      {
        "duration": 434,
        "start_time": "2022-07-21T14:53:17.061Z"
      },
      {
        "duration": 4,
        "start_time": "2022-07-21T14:53:17.497Z"
      },
      {
        "duration": 16,
        "start_time": "2022-07-21T14:53:17.503Z"
      },
      {
        "duration": 7,
        "start_time": "2022-07-21T14:53:17.520Z"
      },
      {
        "duration": 114061,
        "start_time": "2022-07-21T14:53:17.529Z"
      },
      {
        "duration": 1392,
        "start_time": "2022-07-21T14:55:11.592Z"
      },
      {
        "duration": 1586,
        "start_time": "2022-07-21T14:55:12.985Z"
      },
      {
        "duration": 661,
        "start_time": "2022-07-21T14:55:14.572Z"
      },
      {
        "duration": 25,
        "start_time": "2022-07-21T14:55:15.236Z"
      },
      {
        "duration": 1566,
        "start_time": "2022-07-22T04:06:12.924Z"
      },
      {
        "duration": 92,
        "start_time": "2022-07-22T04:06:14.493Z"
      },
      {
        "duration": 13,
        "start_time": "2022-07-22T04:06:14.587Z"
      },
      {
        "duration": 37,
        "start_time": "2022-07-22T04:06:14.603Z"
      },
      {
        "duration": 7,
        "start_time": "2022-07-22T04:06:14.642Z"
      },
      {
        "duration": 11,
        "start_time": "2022-07-22T04:06:14.650Z"
      },
      {
        "duration": 56,
        "start_time": "2022-07-22T04:06:14.662Z"
      },
      {
        "duration": 8,
        "start_time": "2022-07-22T04:06:14.719Z"
      },
      {
        "duration": 13,
        "start_time": "2022-07-22T04:06:14.728Z"
      },
      {
        "duration": 10,
        "start_time": "2022-07-22T04:06:14.744Z"
      },
      {
        "duration": 19,
        "start_time": "2022-07-22T04:06:14.755Z"
      },
      {
        "duration": 11,
        "start_time": "2022-07-22T04:06:14.776Z"
      },
      {
        "duration": 27,
        "start_time": "2022-07-22T04:06:14.789Z"
      },
      {
        "duration": 20,
        "start_time": "2022-07-22T04:06:14.820Z"
      },
      {
        "duration": 25,
        "start_time": "2022-07-22T04:06:14.841Z"
      },
      {
        "duration": 14,
        "start_time": "2022-07-22T04:06:14.868Z"
      },
      {
        "duration": 9,
        "start_time": "2022-07-22T04:06:14.884Z"
      },
      {
        "duration": 27,
        "start_time": "2022-07-22T04:06:14.895Z"
      },
      {
        "duration": 16,
        "start_time": "2022-07-22T04:06:14.923Z"
      },
      {
        "duration": 17,
        "start_time": "2022-07-22T04:06:14.940Z"
      },
      {
        "duration": 12,
        "start_time": "2022-07-22T04:06:14.959Z"
      },
      {
        "duration": 11,
        "start_time": "2022-07-22T04:06:14.973Z"
      },
      {
        "duration": 13,
        "start_time": "2022-07-22T04:06:14.986Z"
      },
      {
        "duration": 42,
        "start_time": "2022-07-22T04:06:15.000Z"
      },
      {
        "duration": 25,
        "start_time": "2022-07-22T04:06:15.044Z"
      },
      {
        "duration": 17,
        "start_time": "2022-07-22T04:06:15.071Z"
      },
      {
        "duration": 35,
        "start_time": "2022-07-22T04:06:15.089Z"
      },
      {
        "duration": 3633,
        "start_time": "2022-07-22T04:06:15.127Z"
      },
      {
        "duration": 26,
        "start_time": "2022-07-22T04:06:18.762Z"
      },
      {
        "duration": 1043,
        "start_time": "2022-07-22T04:06:18.790Z"
      },
      {
        "duration": 4,
        "start_time": "2022-07-22T04:06:19.835Z"
      },
      {
        "duration": 20,
        "start_time": "2022-07-22T04:06:19.840Z"
      },
      {
        "duration": 70,
        "start_time": "2022-07-22T04:06:19.862Z"
      },
      {
        "duration": 441,
        "start_time": "2022-07-22T04:06:20.026Z"
      },
      {
        "duration": 3,
        "start_time": "2022-07-22T04:06:20.469Z"
      },
      {
        "duration": 23,
        "start_time": "2022-07-22T04:06:20.474Z"
      },
      {
        "duration": 7,
        "start_time": "2022-07-22T04:06:20.498Z"
      },
      {
        "duration": 111428,
        "start_time": "2022-07-22T04:06:20.507Z"
      },
      {
        "duration": 1305,
        "start_time": "2022-07-22T04:08:11.937Z"
      },
      {
        "duration": 1541,
        "start_time": "2022-07-22T04:08:13.243Z"
      },
      {
        "duration": 631,
        "start_time": "2022-07-22T04:08:14.786Z"
      },
      {
        "duration": 15,
        "start_time": "2022-07-22T04:08:15.418Z"
      },
      {
        "duration": 928,
        "start_time": "2022-07-22T04:09:22.854Z"
      },
      {
        "duration": 455,
        "start_time": "2022-07-22T04:09:43.045Z"
      },
      {
        "duration": 617,
        "start_time": "2022-07-22T04:09:54.767Z"
      },
      {
        "duration": 554,
        "start_time": "2022-07-22T04:10:21.544Z"
      },
      {
        "duration": 512,
        "start_time": "2022-07-22T04:10:43.312Z"
      },
      {
        "duration": 537,
        "start_time": "2022-07-22T04:11:07.880Z"
      },
      {
        "duration": 975,
        "start_time": "2022-07-22T04:11:28.422Z"
      },
      {
        "duration": 946,
        "start_time": "2022-07-22T04:12:24.839Z"
      },
      {
        "duration": 1438,
        "start_time": "2022-07-22T04:13:43.610Z"
      },
      {
        "duration": 44,
        "start_time": "2022-07-22T04:13:45.050Z"
      },
      {
        "duration": 11,
        "start_time": "2022-07-22T04:13:45.096Z"
      },
      {
        "duration": 15,
        "start_time": "2022-07-22T04:13:45.108Z"
      },
      {
        "duration": 11,
        "start_time": "2022-07-22T04:13:45.125Z"
      },
      {
        "duration": 15,
        "start_time": "2022-07-22T04:13:45.138Z"
      },
      {
        "duration": 51,
        "start_time": "2022-07-22T04:13:45.155Z"
      },
      {
        "duration": 8,
        "start_time": "2022-07-22T04:13:45.208Z"
      },
      {
        "duration": 15,
        "start_time": "2022-07-22T04:13:45.217Z"
      },
      {
        "duration": 9,
        "start_time": "2022-07-22T04:13:45.235Z"
      },
      {
        "duration": 11,
        "start_time": "2022-07-22T04:13:45.245Z"
      },
      {
        "duration": 9,
        "start_time": "2022-07-22T04:13:45.257Z"
      },
      {
        "duration": 10,
        "start_time": "2022-07-22T04:13:45.267Z"
      },
      {
        "duration": 27,
        "start_time": "2022-07-22T04:13:45.279Z"
      },
      {
        "duration": 16,
        "start_time": "2022-07-22T04:13:45.308Z"
      },
      {
        "duration": 8,
        "start_time": "2022-07-22T04:13:45.326Z"
      },
      {
        "duration": 7,
        "start_time": "2022-07-22T04:13:45.335Z"
      },
      {
        "duration": 7,
        "start_time": "2022-07-22T04:13:45.344Z"
      },
      {
        "duration": 25,
        "start_time": "2022-07-22T04:13:45.352Z"
      },
      {
        "duration": 8,
        "start_time": "2022-07-22T04:13:45.379Z"
      },
      {
        "duration": 7,
        "start_time": "2022-07-22T04:13:45.389Z"
      },
      {
        "duration": 36,
        "start_time": "2022-07-22T04:13:45.397Z"
      },
      {
        "duration": 11,
        "start_time": "2022-07-22T04:13:45.435Z"
      },
      {
        "duration": 12,
        "start_time": "2022-07-22T04:13:45.448Z"
      },
      {
        "duration": 8,
        "start_time": "2022-07-22T04:13:45.462Z"
      },
      {
        "duration": 12,
        "start_time": "2022-07-22T04:13:45.472Z"
      },
      {
        "duration": 8,
        "start_time": "2022-07-22T04:13:45.485Z"
      },
      {
        "duration": 3606,
        "start_time": "2022-07-22T04:13:45.496Z"
      },
      {
        "duration": 37,
        "start_time": "2022-07-22T04:13:49.105Z"
      },
      {
        "duration": 1041,
        "start_time": "2022-07-22T04:13:49.144Z"
      },
      {
        "duration": 5,
        "start_time": "2022-07-22T04:13:50.187Z"
      },
      {
        "duration": 22,
        "start_time": "2022-07-22T04:13:50.194Z"
      },
      {
        "duration": 105,
        "start_time": "2022-07-22T04:13:50.219Z"
      },
      {
        "duration": 529,
        "start_time": "2022-07-22T04:13:50.327Z"
      },
      {
        "duration": 3,
        "start_time": "2022-07-22T04:13:50.858Z"
      },
      {
        "duration": 21,
        "start_time": "2022-07-22T04:13:50.863Z"
      },
      {
        "duration": 9,
        "start_time": "2022-07-22T04:13:50.886Z"
      },
      {
        "duration": 110310,
        "start_time": "2022-07-22T04:13:50.896Z"
      },
      {
        "duration": 1434,
        "start_time": "2022-07-22T04:15:41.208Z"
      },
      {
        "duration": 1563,
        "start_time": "2022-07-22T04:15:42.644Z"
      },
      {
        "duration": 638,
        "start_time": "2022-07-22T04:15:44.209Z"
      },
      {
        "duration": 11,
        "start_time": "2022-07-22T04:15:44.849Z"
      },
      {
        "duration": 1417,
        "start_time": "2022-07-22T04:17:33.535Z"
      },
      {
        "duration": 45,
        "start_time": "2022-07-22T04:17:34.954Z"
      },
      {
        "duration": 13,
        "start_time": "2022-07-22T04:17:35.000Z"
      },
      {
        "duration": 15,
        "start_time": "2022-07-22T04:17:35.016Z"
      },
      {
        "duration": 8,
        "start_time": "2022-07-22T04:17:35.033Z"
      },
      {
        "duration": 12,
        "start_time": "2022-07-22T04:17:35.042Z"
      },
      {
        "duration": 56,
        "start_time": "2022-07-22T04:17:35.056Z"
      },
      {
        "duration": 14,
        "start_time": "2022-07-22T04:17:35.114Z"
      },
      {
        "duration": 24,
        "start_time": "2022-07-22T04:17:35.130Z"
      },
      {
        "duration": 24,
        "start_time": "2022-07-22T04:17:35.158Z"
      },
      {
        "duration": 34,
        "start_time": "2022-07-22T04:17:35.183Z"
      },
      {
        "duration": 18,
        "start_time": "2022-07-22T04:17:35.219Z"
      },
      {
        "duration": 17,
        "start_time": "2022-07-22T04:17:35.239Z"
      },
      {
        "duration": 20,
        "start_time": "2022-07-22T04:17:35.258Z"
      },
      {
        "duration": 23,
        "start_time": "2022-07-22T04:17:35.280Z"
      },
      {
        "duration": 24,
        "start_time": "2022-07-22T04:17:35.304Z"
      },
      {
        "duration": 17,
        "start_time": "2022-07-22T04:17:35.330Z"
      },
      {
        "duration": 20,
        "start_time": "2022-07-22T04:17:35.349Z"
      },
      {
        "duration": 13,
        "start_time": "2022-07-22T04:17:35.370Z"
      },
      {
        "duration": 16,
        "start_time": "2022-07-22T04:17:35.385Z"
      },
      {
        "duration": 15,
        "start_time": "2022-07-22T04:17:35.403Z"
      },
      {
        "duration": 23,
        "start_time": "2022-07-22T04:17:35.420Z"
      },
      {
        "duration": 24,
        "start_time": "2022-07-22T04:17:35.444Z"
      },
      {
        "duration": 29,
        "start_time": "2022-07-22T04:17:35.470Z"
      },
      {
        "duration": 27,
        "start_time": "2022-07-22T04:17:35.501Z"
      },
      {
        "duration": 38,
        "start_time": "2022-07-22T04:17:35.530Z"
      },
      {
        "duration": 7,
        "start_time": "2022-07-22T04:17:35.570Z"
      },
      {
        "duration": 3625,
        "start_time": "2022-07-22T04:17:35.580Z"
      },
      {
        "duration": 39,
        "start_time": "2022-07-22T04:17:39.208Z"
      },
      {
        "duration": 996,
        "start_time": "2022-07-22T04:17:39.249Z"
      },
      {
        "duration": 4,
        "start_time": "2022-07-22T04:17:40.247Z"
      },
      {
        "duration": 16,
        "start_time": "2022-07-22T04:17:40.253Z"
      },
      {
        "duration": 154,
        "start_time": "2022-07-22T04:17:40.270Z"
      },
      {
        "duration": 436,
        "start_time": "2022-07-22T04:17:40.426Z"
      },
      {
        "duration": 4,
        "start_time": "2022-07-22T04:17:40.863Z"
      },
      {
        "duration": 16,
        "start_time": "2022-07-22T04:17:40.869Z"
      },
      {
        "duration": 9,
        "start_time": "2022-07-22T04:17:40.887Z"
      },
      {
        "duration": 109765,
        "start_time": "2022-07-22T04:17:40.898Z"
      },
      {
        "duration": 1475,
        "start_time": "2022-07-22T04:19:30.665Z"
      },
      {
        "duration": 1514,
        "start_time": "2022-07-22T04:19:32.142Z"
      },
      {
        "duration": 632,
        "start_time": "2022-07-22T04:19:33.658Z"
      },
      {
        "duration": 12,
        "start_time": "2022-07-22T04:19:34.292Z"
      },
      {
        "duration": 1565,
        "start_time": "2022-07-22T09:39:25.860Z"
      },
      {
        "duration": 98,
        "start_time": "2022-07-22T09:39:27.427Z"
      },
      {
        "duration": 12,
        "start_time": "2022-07-22T09:39:27.528Z"
      },
      {
        "duration": 16,
        "start_time": "2022-07-22T09:39:27.543Z"
      },
      {
        "duration": 7,
        "start_time": "2022-07-22T09:39:27.560Z"
      },
      {
        "duration": 10,
        "start_time": "2022-07-22T09:39:27.568Z"
      },
      {
        "duration": 49,
        "start_time": "2022-07-22T09:39:27.580Z"
      },
      {
        "duration": 9,
        "start_time": "2022-07-22T09:39:27.631Z"
      },
      {
        "duration": 25,
        "start_time": "2022-07-22T09:39:27.642Z"
      },
      {
        "duration": 8,
        "start_time": "2022-07-22T09:39:27.670Z"
      },
      {
        "duration": 11,
        "start_time": "2022-07-22T09:39:27.679Z"
      },
      {
        "duration": 9,
        "start_time": "2022-07-22T09:39:27.692Z"
      },
      {
        "duration": 8,
        "start_time": "2022-07-22T09:39:27.702Z"
      },
      {
        "duration": 7,
        "start_time": "2022-07-22T09:39:27.712Z"
      },
      {
        "duration": 43,
        "start_time": "2022-07-22T09:39:27.721Z"
      },
      {
        "duration": 7,
        "start_time": "2022-07-22T09:39:27.766Z"
      },
      {
        "duration": 9,
        "start_time": "2022-07-22T09:39:27.775Z"
      },
      {
        "duration": 7,
        "start_time": "2022-07-22T09:39:27.787Z"
      },
      {
        "duration": 31,
        "start_time": "2022-07-22T09:39:27.796Z"
      },
      {
        "duration": 8,
        "start_time": "2022-07-22T09:39:27.829Z"
      },
      {
        "duration": 7,
        "start_time": "2022-07-22T09:39:27.838Z"
      },
      {
        "duration": 26,
        "start_time": "2022-07-22T09:39:27.847Z"
      },
      {
        "duration": 10,
        "start_time": "2022-07-22T09:39:27.875Z"
      },
      {
        "duration": 12,
        "start_time": "2022-07-22T09:39:27.886Z"
      },
      {
        "duration": 9,
        "start_time": "2022-07-22T09:39:27.900Z"
      },
      {
        "duration": 16,
        "start_time": "2022-07-22T09:39:27.911Z"
      },
      {
        "duration": 7,
        "start_time": "2022-07-22T09:39:27.929Z"
      },
      {
        "duration": 3451,
        "start_time": "2022-07-22T09:39:27.939Z"
      },
      {
        "duration": 30,
        "start_time": "2022-07-22T09:39:31.393Z"
      },
      {
        "duration": 1075,
        "start_time": "2022-07-22T09:39:31.425Z"
      },
      {
        "duration": 4,
        "start_time": "2022-07-22T09:39:32.502Z"
      },
      {
        "duration": 16,
        "start_time": "2022-07-22T09:39:32.508Z"
      },
      {
        "duration": 138,
        "start_time": "2022-07-22T09:39:32.526Z"
      },
      {
        "duration": 445,
        "start_time": "2022-07-22T09:39:32.667Z"
      },
      {
        "duration": 4,
        "start_time": "2022-07-22T09:39:33.114Z"
      },
      {
        "duration": 22,
        "start_time": "2022-07-22T09:39:33.119Z"
      },
      {
        "duration": 6,
        "start_time": "2022-07-22T09:39:33.143Z"
      },
      {
        "duration": 110146,
        "start_time": "2022-07-22T09:39:33.151Z"
      },
      {
        "duration": 1484,
        "start_time": "2022-07-22T09:41:23.299Z"
      },
      {
        "duration": 1510,
        "start_time": "2022-07-22T09:41:24.785Z"
      },
      {
        "duration": 613,
        "start_time": "2022-07-22T09:41:26.297Z"
      },
      {
        "duration": 12,
        "start_time": "2022-07-22T09:41:26.911Z"
      },
      {
        "duration": 2485,
        "start_time": "2022-07-22T21:04:05.369Z"
      },
      {
        "duration": 216,
        "start_time": "2022-07-22T21:04:07.864Z"
      },
      {
        "duration": 15,
        "start_time": "2022-07-22T21:04:08.082Z"
      },
      {
        "duration": 37,
        "start_time": "2022-07-22T21:04:08.099Z"
      },
      {
        "duration": 42,
        "start_time": "2022-07-22T21:04:08.139Z"
      },
      {
        "duration": 12,
        "start_time": "2022-07-22T21:04:08.183Z"
      },
      {
        "duration": 92,
        "start_time": "2022-07-22T21:04:08.197Z"
      },
      {
        "duration": 9,
        "start_time": "2022-07-22T21:04:08.291Z"
      },
      {
        "duration": 11,
        "start_time": "2022-07-22T21:04:08.302Z"
      },
      {
        "duration": 75,
        "start_time": "2022-07-22T21:04:08.315Z"
      },
      {
        "duration": 14,
        "start_time": "2022-07-22T21:04:08.392Z"
      },
      {
        "duration": 70,
        "start_time": "2022-07-22T21:04:08.408Z"
      },
      {
        "duration": 18,
        "start_time": "2022-07-22T21:04:08.479Z"
      },
      {
        "duration": 13,
        "start_time": "2022-07-22T21:04:08.502Z"
      },
      {
        "duration": 38,
        "start_time": "2022-07-22T21:04:08.518Z"
      },
      {
        "duration": 35,
        "start_time": "2022-07-22T21:04:08.558Z"
      },
      {
        "duration": 11,
        "start_time": "2022-07-22T21:04:08.595Z"
      },
      {
        "duration": 22,
        "start_time": "2022-07-22T21:04:08.608Z"
      },
      {
        "duration": 55,
        "start_time": "2022-07-22T21:04:08.634Z"
      },
      {
        "duration": 14,
        "start_time": "2022-07-22T21:04:08.694Z"
      },
      {
        "duration": 56,
        "start_time": "2022-07-22T21:04:08.720Z"
      },
      {
        "duration": 58,
        "start_time": "2022-07-22T21:04:08.784Z"
      },
      {
        "duration": 57,
        "start_time": "2022-07-22T21:04:08.844Z"
      },
      {
        "duration": 120,
        "start_time": "2022-07-22T21:04:08.904Z"
      },
      {
        "duration": 67,
        "start_time": "2022-07-22T21:04:09.026Z"
      },
      {
        "duration": 37,
        "start_time": "2022-07-22T21:04:09.095Z"
      },
      {
        "duration": 65,
        "start_time": "2022-07-22T21:04:09.134Z"
      },
      {
        "duration": 5616,
        "start_time": "2022-07-22T21:04:09.202Z"
      },
      {
        "duration": 51,
        "start_time": "2022-07-22T21:04:14.827Z"
      },
      {
        "duration": 1716,
        "start_time": "2022-07-22T21:04:14.882Z"
      },
      {
        "duration": 4,
        "start_time": "2022-07-22T21:04:16.600Z"
      },
      {
        "duration": 69,
        "start_time": "2022-07-22T21:04:16.607Z"
      },
      {
        "duration": 593,
        "start_time": "2022-07-22T21:04:16.679Z"
      },
      {
        "duration": 622,
        "start_time": "2022-07-22T21:04:17.327Z"
      },
      {
        "duration": 8,
        "start_time": "2022-07-22T21:04:17.951Z"
      },
      {
        "duration": 39,
        "start_time": "2022-07-22T21:04:17.964Z"
      },
      {
        "duration": 15,
        "start_time": "2022-07-22T21:04:18.008Z"
      },
      {
        "duration": 154226,
        "start_time": "2022-07-22T21:04:18.025Z"
      },
      {
        "duration": 1371,
        "start_time": "2022-07-22T21:06:52.257Z"
      },
      {
        "duration": 2051,
        "start_time": "2022-07-22T21:06:53.634Z"
      },
      {
        "duration": 951,
        "start_time": "2022-07-22T21:06:55.690Z"
      },
      {
        "duration": 17,
        "start_time": "2022-07-22T21:06:56.643Z"
      }
    ],
    "kernelspec": {
      "display_name": "Python 3 (ipykernel)",
      "language": "python",
      "name": "python3"
    },
    "language_info": {
      "codemirror_mode": {
        "name": "ipython",
        "version": 3
      },
      "file_extension": ".py",
      "mimetype": "text/x-python",
      "name": "python",
      "nbconvert_exporter": "python",
      "pygments_lexer": "ipython3",
      "version": "3.9.5"
    },
    "toc": {
      "base_numbering": 1,
      "nav_menu": {},
      "number_sections": true,
      "sideBar": true,
      "skip_h1_title": true,
      "title_cell": "Table of Contents",
      "title_sidebar": "Contents",
      "toc_cell": false,
      "toc_position": {},
      "toc_section_display": true,
      "toc_window_display": false
    },
    "colab": {
      "name": "d733b38b-917d-4b37-bb44-0aa0b13ec735.ipynb",
      "provenance": [],
      "collapsed_sections": []
    }
  },
  "nbformat": 4,
  "nbformat_minor": 0
}