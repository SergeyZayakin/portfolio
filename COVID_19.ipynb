{
 "cells": [
  {
   "cell_type": "markdown",
   "metadata": {
    "id": "9StIrIuQd5Mp"
   },
   "source": [
    "# Данные о заболеваемости и смертности от COVID-19\n",
    "\n"
   ]
  },
  {
   "cell_type": "markdown",
   "metadata": {
    "id": "E0BHtBbhecD3"
   },
   "source": [
    "## 0. Загрузка и предобработка данных"
   ]
  },
  {
   "cell_type": "code",
   "execution_count": 1,
   "metadata": {
    "id": "pMgm7cGcd51y"
   },
   "outputs": [],
   "source": [
    "#импортируем необходимые библиотеки\n",
    "import pandas as pd\n",
    "import numpy as np\n",
    "from scipy import stats as st\n",
    "import matplotlib.pyplot as plt\n",
    "%matplotlib inline\n",
    "import datetime\n",
    "from datetime import date, datetime, timedelta\n",
    "import seaborn as sns"
   ]
  },
  {
   "cell_type": "code",
   "execution_count": 2,
   "metadata": {
    "id": "0dd3be39"
   },
   "outputs": [],
   "source": [
    "data = pd.read_csv('https://covid19.who.int/WHO-COVID-19-global-data.csv') # данные с WHO Coronavirus (COVID-19) Dashboard\n",
    "#data.info()"
   ]
  },
  {
   "cell_type": "markdown",
   "metadata": {
    "id": "89b974df"
   },
   "source": [
    "### Описание данных: \n",
    "**Date_reported** - дата отчёта, в свой последнея строке - самая последняя дата      \n",
    "**Country_code** - буквенный код страны   \n",
    "**Country** - название страны   \n",
    "**WHO_region** - регион ВОЗ, в который входит страна:  \n",
    "* AFRO - страны Африки  \n",
    "* AMRO - страны Северной, Центральной и Южной Америки   \n",
    "* EMRO - страны Восточного Средиземноморья, Ближнего Востока, Центральной Азии    \n",
    "* EURO - страны Европы   \n",
    "* SEARO - страны Юго-Восточной Азии  \n",
    "* WPRO - страны Западной части Тихого Океана\n",
    "* Other - прочие страны   \n",
    "    \n",
    "**New_cases** - число новых случаев заболевания, ед. (число новых заболевших, чел.)   \n",
    "**Cumulative_cases** - суммарно заболевших, чел.   \n",
    "**New_deaths** - число смертей, ед.   \n",
    "**Cumulative_deaths** - суммарно умерших, ед.       "
   ]
  },
  {
   "cell_type": "code",
   "execution_count": 3,
   "metadata": {
    "id": "861d29df"
   },
   "outputs": [],
   "source": [
    "# Удалим колонки, не используемые в дальнешем анализе\n",
    "data = data.drop(columns=['Country_code', 'Cumulative_cases', 'Cumulative_deaths']) \n",
    "# Переименуем колонки\n",
    "data.rename(columns={'Country': 'Страна', 'WHO_region': 'Регион', 'New_cases': 'Новые_случаи', 'New_deaths': 'Смерти'}, inplace=True)\n",
    "# Разбираемся с датой отчёта, выделям год и месяц\n",
    "data['Date_reported'] = pd.to_datetime(data['Date_reported'], format='%Y-%m-%d')\n",
    "data['Месяц'] = data['Date_reported'].apply(lambda x: x.month)\n",
    "data['Год'] = data['Date_reported'].apply(lambda x: x.year)\n",
    "data['Год_месяц'] = data['Год'].astype(str) + '-' + data['Месяц'].astype(str)\n",
    "data['Год_месяц'] = pd.to_datetime(data['Год_месяц'], format='%Y-%m').dt.date"
   ]
  },
  {
   "cell_type": "markdown",
   "metadata": {
    "id": "S5t5bVxMeYET"
   },
   "source": [
    "---"
   ]
  },
  {
   "cell_type": "markdown",
   "metadata": {
    "id": "f3779965"
   },
   "source": [
    "## 1. Оперативные данные о числе новых выявленных случаев и смертей    \n",
    "В базе доступны данные за день, предыдущий дню обращения (по состянию на 20.04. база работала именно так).   \n",
    "В выходные дни база не обновляется, поэтому для выходных дней и пондельника - выводяться последние доступные данные."
   ]
  },
  {
   "cell_type": "code",
   "execution_count": 4,
   "metadata": {
    "colab": {
     "base_uri": "https://localhost:8080/"
    },
    "id": "efe985f4",
    "outputId": "3aa86e9a-b868-4dee-e59f-e9a22d43217e"
   },
   "outputs": [
    {
     "name": "stdout",
     "output_type": "stream",
     "text": [
      "По данным ВОЗ на 2022-04-19\n",
      "------------------------------------------------------------------\n",
      "404.3 тыс. новых случаев COVID-19 было выявлено в мире\n",
      "------------------------------------------------------------------\n",
      "1.3 тыс. человек умерло от COVID-19\n",
      "------------------------------------------------------------------\n"
     ]
    }
   ],
   "source": [
    "today = date.today().weekday()\n",
    "if today == 0:\n",
    "  tomorrow = date.today() + timedelta(days=-3)\n",
    "elif today == 6:\n",
    "  tomorrow = date.today() + timedelta(days=-2)\n",
    "else:\n",
    "  tomorrow = date.today() + timedelta(days=-1)\n",
    "tomorrow_str = str(tomorrow)\n",
    "tomorrow_new_cases = data.loc[data.loc[:, 'Date_reported'] == tomorrow_str]['Новые_случаи'].sum()\n",
    "tomorrow_new_deaths = data.loc[data.loc[:, 'Date_reported'] == tomorrow_str]['Смерти'].sum()\n",
    "print('По данным ВОЗ на', tomorrow)\n",
    "print('-'*66)\n",
    "print((tomorrow_new_cases/1000).round(1), 'тыс. новых случаев COVID-19 было выявлено в мире')\n",
    "print('-'*66)\n",
    "print((tomorrow_new_deaths/1000).round(1), 'тыс. человек умерло от COVID-19')\n",
    "print('-'*66)"
   ]
  },
  {
   "cell_type": "code",
   "execution_count": 5,
   "metadata": {
    "colab": {
     "base_uri": "https://localhost:8080/"
    },
    "id": "aoI8aLr5ZU0g",
    "outputId": "b9e0d98f-47d3-4bd1-d362-e9863467b249"
   },
   "outputs": [
    {
     "name": "stdout",
     "output_type": "stream",
     "text": [
      "По данным ВОЗ на 2022-04-19\n",
      "------------------------------------------------------------------\n",
      "8.6 тыс. новых случаев COVID-19 было выявлено в России\n",
      "------------------------------------------------------------------\n",
      "0.2 тыс. человек в России умерло от COVID-19\n",
      "------------------------------------------------------------------\n"
     ]
    }
   ],
   "source": [
    "ru_data = data.query('Страна == \"Russian Federation\"')\n",
    "ru_tomorrow_new_cases = ru_data.loc[ru_data.loc[:, 'Date_reported'] == tomorrow_str]['Новые_случаи'].sum()\n",
    "ru_tomorrow_new_deaths = ru_data.loc[ru_data.loc[:, 'Date_reported'] == tomorrow_str]['Смерти'].sum()\n",
    "print('По данным ВОЗ на', tomorrow)\n",
    "print('-'*66)\n",
    "print((ru_tomorrow_new_cases/1000).round(1), 'тыс. новых случаев COVID-19 было выявлено в России')\n",
    "print('-'*66)\n",
    "print((ru_tomorrow_new_deaths/1000).round(1), 'тыс. человек в России умерло от COVID-19')\n",
    "print('-'*66)"
   ]
  },
  {
   "cell_type": "code",
   "execution_count": 6,
   "metadata": {
    "id": "SPeF8IhgMIBe"
   },
   "outputs": [],
   "source": [
    "today = date.today().weekday()\n",
    "if today == (0 or 5 or 6):\n",
    "  tomorrow = date.today() + timedelta(days=-3)\n",
    "else:\n",
    "  tomorrow = date.today() + timedelta(days=-1)"
   ]
  },
  {
   "cell_type": "markdown",
   "metadata": {
    "id": "LvbDUnwvfWyo"
   },
   "source": [
    "---"
   ]
  },
  {
   "cell_type": "markdown",
   "metadata": {
    "id": "09662e92"
   },
   "source": [
    "## 2. Годовые данные о числе выявленных новых случаев заболевания и смертности"
   ]
  },
  {
   "cell_type": "code",
   "execution_count": 7,
   "metadata": {
    "colab": {
     "base_uri": "https://localhost:8080/",
     "height": 178
    },
    "id": "4710fc40",
    "outputId": "20a978a8-6427-485b-9ee6-35b5b4439c00"
   },
   "outputs": [
    {
     "name": "stdout",
     "output_type": "stream",
     "text": [
      "Число выявленных случаев и смертей за год, ед.\n"
     ]
    },
    {
     "data": {
      "text/html": [
       "<div>\n",
       "<style scoped>\n",
       "    .dataframe tbody tr th:only-of-type {\n",
       "        vertical-align: middle;\n",
       "    }\n",
       "\n",
       "    .dataframe tbody tr th {\n",
       "        vertical-align: top;\n",
       "    }\n",
       "\n",
       "    .dataframe thead th {\n",
       "        text-align: right;\n",
       "    }\n",
       "</style>\n",
       "<table border=\"1\" class=\"dataframe\">\n",
       "  <thead>\n",
       "    <tr style=\"text-align: right;\">\n",
       "      <th></th>\n",
       "      <th>Год</th>\n",
       "      <th>Новые_случаи</th>\n",
       "      <th>Смерти</th>\n",
       "    </tr>\n",
       "  </thead>\n",
       "  <tbody>\n",
       "    <tr>\n",
       "      <th>0</th>\n",
       "      <td>2020</td>\n",
       "      <td>82942840</td>\n",
       "      <td>1909346</td>\n",
       "    </tr>\n",
       "    <tr>\n",
       "      <th>1</th>\n",
       "      <td>2021</td>\n",
       "      <td>204108638</td>\n",
       "      <td>3529574</td>\n",
       "    </tr>\n",
       "    <tr>\n",
       "      <th>2</th>\n",
       "      <td>2022</td>\n",
       "      <td>216080356</td>\n",
       "      <td>761651</td>\n",
       "    </tr>\n",
       "  </tbody>\n",
       "</table>\n",
       "</div>"
      ],
      "text/plain": [
       "    Год  Новые_случаи   Смерти\n",
       "0  2020      82942840  1909346\n",
       "1  2021     204108638  3529574\n",
       "2  2022     216080356   761651"
      ]
     },
     "metadata": {},
     "output_type": "display_data"
    },
    {
     "name": "stdout",
     "output_type": "stream",
     "text": [
      "По состянию на 2022-04-19\n"
     ]
    }
   ],
   "source": [
    "print('Число выявленных случаев и смертей за год, ед.')\n",
    "year_new_cases = data.pivot_table(index=['Год'], aggfunc={'Новые_случаи':sum, 'Смерти':sum}).sort_values(by='Год')\n",
    "display((year_new_cases).reset_index())\n",
    "print('По состянию на', tomorrow)"
   ]
  },
  {
   "cell_type": "code",
   "execution_count": 8,
   "metadata": {
    "colab": {
     "base_uri": "https://localhost:8080/",
     "height": 362
    },
    "id": "xMRqNDtPTDkO",
    "outputId": "a8765d55-e5af-4769-d298-5ee559147840"
   },
   "outputs": [
    {
     "name": "stdout",
     "output_type": "stream",
     "text": [
      "Число выявленных случаев за год, ед.\n"
     ]
    },
    {
     "data": {
      "image/png": "[encoded data removed]",
      "text/plain": [
       "<Figure size 720x360 with 1 Axes>"
      ]
     },
     "metadata": {
      "needs_background": "light"
     },
     "output_type": "display_data"
    }
   ],
   "source": [
    "year_new_cases.plot(y='Новые_случаи', kind='bar', figsize=(10, 5), legend=False)\n",
    "plt.xticks(rotation = 0)\n",
    "print('Число выявленных случаев за год, ед.')"
   ]
  },
  {
   "cell_type": "code",
   "execution_count": 9,
   "metadata": {
    "colab": {
     "base_uri": "https://localhost:8080/",
     "height": 362
    },
    "id": "WtX86p0DsFC_",
    "outputId": "f1328761-9774-48ac-b9b9-13ed54ba1e20"
   },
   "outputs": [
    {
     "name": "stdout",
     "output_type": "stream",
     "text": [
      "Число смертей за год, ед.\n"
     ]
    },
    {
     "data": {
      "image/png": "[encoded data removed]",
      "text/plain": [
       "<Figure size 720x360 with 1 Axes>"
      ]
     },
     "metadata": {
      "needs_background": "light"
     },
     "output_type": "display_data"
    }
   ],
   "source": [
    "year_new_cases.plot(y='Смерти', kind='bar', figsize=(10, 5), legend=False)\n",
    "plt.xticks(rotation = 0)\n",
    "print('Число смертей за год, ед.')"
   ]
  },
  {
   "cell_type": "markdown",
   "metadata": {
    "id": "CIngvwn0fYls"
   },
   "source": [
    "---"
   ]
  },
  {
   "cell_type": "markdown",
   "metadata": {
    "id": "d94c56ee"
   },
   "source": [
    "## 3. Число выявленных новых случаев заболевания и смертности в разрезе регионов"
   ]
  },
  {
   "cell_type": "code",
   "execution_count": 10,
   "metadata": {
    "colab": {
     "base_uri": "https://localhost:8080/",
     "height": 742
    },
    "id": "417a9b20",
    "outputId": "16ec0597-fa88-421f-ba99-816571a5a0e7"
   },
   "outputs": [
    {
     "name": "stdout",
     "output_type": "stream",
     "text": [
      "Число выявленных случаев и смертей за год в разрезе регионов, ед. случаев\n"
     ]
    },
    {
     "data": {
      "text/html": [
       "<div>\n",
       "<style scoped>\n",
       "    .dataframe tbody tr th:only-of-type {\n",
       "        vertical-align: middle;\n",
       "    }\n",
       "\n",
       "    .dataframe tbody tr th {\n",
       "        vertical-align: top;\n",
       "    }\n",
       "\n",
       "    .dataframe thead th {\n",
       "        text-align: right;\n",
       "    }\n",
       "</style>\n",
       "<table border=\"1\" class=\"dataframe\">\n",
       "  <thead>\n",
       "    <tr style=\"text-align: right;\">\n",
       "      <th></th>\n",
       "      <th>Регион</th>\n",
       "      <th>Год</th>\n",
       "      <th>Новые_случаи</th>\n",
       "      <th>Смерти</th>\n",
       "    </tr>\n",
       "  </thead>\n",
       "  <tbody>\n",
       "    <tr>\n",
       "      <th>0</th>\n",
       "      <td>AFRO</td>\n",
       "      <td>2020</td>\n",
       "      <td>1900686</td>\n",
       "      <td>42290</td>\n",
       "    </tr>\n",
       "    <tr>\n",
       "      <th>1</th>\n",
       "      <td>AFRO</td>\n",
       "      <td>2021</td>\n",
       "      <td>5405917</td>\n",
       "      <td>113898</td>\n",
       "    </tr>\n",
       "    <tr>\n",
       "      <th>2</th>\n",
       "      <td>AFRO</td>\n",
       "      <td>2022</td>\n",
       "      <td>1378175</td>\n",
       "      <td>15232</td>\n",
       "    </tr>\n",
       "    <tr>\n",
       "      <th>3</th>\n",
       "      <td>AMRO</td>\n",
       "      <td>2020</td>\n",
       "      <td>35793139</td>\n",
       "      <td>955773</td>\n",
       "    </tr>\n",
       "    <tr>\n",
       "      <th>4</th>\n",
       "      <td>AMRO</td>\n",
       "      <td>2021</td>\n",
       "      <td>68135359</td>\n",
       "      <td>1460715</td>\n",
       "    </tr>\n",
       "    <tr>\n",
       "      <th>5</th>\n",
       "      <td>AMRO</td>\n",
       "      <td>2022</td>\n",
       "      <td>48084092</td>\n",
       "      <td>298560</td>\n",
       "    </tr>\n",
       "    <tr>\n",
       "      <th>6</th>\n",
       "      <td>EMRO</td>\n",
       "      <td>2020</td>\n",
       "      <td>4912291</td>\n",
       "      <td>120880</td>\n",
       "    </tr>\n",
       "    <tr>\n",
       "      <th>7</th>\n",
       "      <td>EMRO</td>\n",
       "      <td>2021</td>\n",
       "      <td>12254676</td>\n",
       "      <td>194975</td>\n",
       "    </tr>\n",
       "    <tr>\n",
       "      <th>8</th>\n",
       "      <td>EMRO</td>\n",
       "      <td>2022</td>\n",
       "      <td>4507016</td>\n",
       "      <td>26047</td>\n",
       "    </tr>\n",
       "    <tr>\n",
       "      <th>9</th>\n",
       "      <td>EURO</td>\n",
       "      <td>2022</td>\n",
       "      <td>108665229</td>\n",
       "      <td>294940</td>\n",
       "    </tr>\n",
       "    <tr>\n",
       "      <th>10</th>\n",
       "      <td>EURO</td>\n",
       "      <td>2021</td>\n",
       "      <td>74830301</td>\n",
       "      <td>1087375</td>\n",
       "    </tr>\n",
       "    <tr>\n",
       "      <th>11</th>\n",
       "      <td>EURO</td>\n",
       "      <td>2020</td>\n",
       "      <td>27275045</td>\n",
       "      <td>586157</td>\n",
       "    </tr>\n",
       "    <tr>\n",
       "      <th>12</th>\n",
       "      <td>Other</td>\n",
       "      <td>2020</td>\n",
       "      <td>745</td>\n",
       "      <td>13</td>\n",
       "    </tr>\n",
       "    <tr>\n",
       "      <th>13</th>\n",
       "      <td>Other</td>\n",
       "      <td>2021</td>\n",
       "      <td>19</td>\n",
       "      <td>0</td>\n",
       "    </tr>\n",
       "    <tr>\n",
       "      <th>14</th>\n",
       "      <td>Other</td>\n",
       "      <td>2022</td>\n",
       "      <td>0</td>\n",
       "      <td>0</td>\n",
       "    </tr>\n",
       "    <tr>\n",
       "      <th>15</th>\n",
       "      <td>SEARO</td>\n",
       "      <td>2020</td>\n",
       "      <td>11973259</td>\n",
       "      <td>184188</td>\n",
       "    </tr>\n",
       "    <tr>\n",
       "      <th>16</th>\n",
       "      <td>SEARO</td>\n",
       "      <td>2021</td>\n",
       "      <td>33001946</td>\n",
       "      <td>536984</td>\n",
       "    </tr>\n",
       "    <tr>\n",
       "      <th>17</th>\n",
       "      <td>SEARO</td>\n",
       "      <td>2022</td>\n",
       "      <td>12638323</td>\n",
       "      <td>61320</td>\n",
       "    </tr>\n",
       "    <tr>\n",
       "      <th>18</th>\n",
       "      <td>WPRO</td>\n",
       "      <td>2020</td>\n",
       "      <td>1087675</td>\n",
       "      <td>20045</td>\n",
       "    </tr>\n",
       "    <tr>\n",
       "      <th>19</th>\n",
       "      <td>WPRO</td>\n",
       "      <td>2021</td>\n",
       "      <td>10480420</td>\n",
       "      <td>135627</td>\n",
       "    </tr>\n",
       "    <tr>\n",
       "      <th>20</th>\n",
       "      <td>WPRO</td>\n",
       "      <td>2022</td>\n",
       "      <td>40807521</td>\n",
       "      <td>65552</td>\n",
       "    </tr>\n",
       "  </tbody>\n",
       "</table>\n",
       "</div>"
      ],
      "text/plain": [
       "   Регион   Год  Новые_случаи   Смерти\n",
       "0    AFRO  2020       1900686    42290\n",
       "1    AFRO  2021       5405917   113898\n",
       "2    AFRO  2022       1378175    15232\n",
       "3    AMRO  2020      35793139   955773\n",
       "4    AMRO  2021      68135359  1460715\n",
       "5    AMRO  2022      48084092   298560\n",
       "6    EMRO  2020       4912291   120880\n",
       "7    EMRO  2021      12254676   194975\n",
       "8    EMRO  2022       4507016    26047\n",
       "9    EURO  2022     108665229   294940\n",
       "10   EURO  2021      74830301  1087375\n",
       "11   EURO  2020      27275045   586157\n",
       "12  Other  2020           745       13\n",
       "13  Other  2021            19        0\n",
       "14  Other  2022             0        0\n",
       "15  SEARO  2020      11973259   184188\n",
       "16  SEARO  2021      33001946   536984\n",
       "17  SEARO  2022      12638323    61320\n",
       "18   WPRO  2020       1087675    20045\n",
       "19   WPRO  2021      10480420   135627\n",
       "20   WPRO  2022      40807521    65552"
      ]
     },
     "metadata": {},
     "output_type": "display_data"
    },
    {
     "name": "stdout",
     "output_type": "stream",
     "text": [
      "По состянию на 2022-04-19\n"
     ]
    }
   ],
   "source": [
    "print('Число выявленных случаев и смертей за год в разрезе регионов, ед. случаев')\n",
    "region_new_cases = data.pivot_table(index=['Регион', 'Год'], aggfunc={'Новые_случаи':sum, 'Смерти':sum}).sort_values(by='Регион')\n",
    "display((region_new_cases).reset_index())\n",
    "print('По состянию на', tomorrow)"
   ]
  },
  {
   "cell_type": "code",
   "execution_count": 11,
   "metadata": {
    "colab": {
     "base_uri": "https://localhost:8080/",
     "height": 338
    },
    "id": "WPVXxsqzSenI",
    "outputId": "1a8533de-9315-4e09-903c-8de5d78af57d"
   },
   "outputs": [
    {
     "name": "stdout",
     "output_type": "stream",
     "text": [
      "Распределение новых случаев заболевания\n",
      "по регионам, за всё время наблюдений\n"
     ]
    },
    {
     "data": {
      "image/png": "[encoded data removed]",
      "text/plain": [
       "<Figure size 360x360 with 1 Axes>"
      ]
     },
     "metadata": {},
     "output_type": "display_data"
    }
   ],
   "source": [
    "print('Распределение новых случаев заболевания')\n",
    "print('по регионам, за всё время наблюдений')\n",
    "region_year_cases = region_new_cases.pivot_table(index=['Регион'], aggfunc={'Новые_случаи':sum}).sort_values(by='Новые_случаи')\n",
    "region_year_cases.plot(kind='pie', figsize=(5, 5), legend=False, subplots=True)\n",
    "ax = plt.gca()\n",
    "ax.axes.yaxis.set_visible(False)"
   ]
  },
  {
   "cell_type": "code",
   "execution_count": 12,
   "metadata": {
    "colab": {
     "base_uri": "https://localhost:8080/",
     "height": 338
    },
    "id": "skBOWuI-SrD0",
    "outputId": "3bc6554e-4338-4939-bff9-1414dc17be5e"
   },
   "outputs": [
    {
     "name": "stdout",
     "output_type": "stream",
     "text": [
      "Распределение числа смертей по регионам,\n",
      "за всё время наблюдений\n"
     ]
    },
    {
     "data": {
      "image/png": "[encoded data removed]",
      "text/plain": [
       "<Figure size 360x360 with 1 Axes>"
      ]
     },
     "metadata": {},
     "output_type": "display_data"
    }
   ],
   "source": [
    "print('Распределение числа смертей по регионам,')\n",
    "print('за всё время наблюдений')\n",
    "region_year_cases = region_new_cases.pivot_table(index=['Регион'], aggfunc={'Смерти':sum}).sort_values(by='Смерти')\n",
    "region_year_cases.plot(kind='pie', figsize=(5, 5), legend=False, subplots=True)\n",
    "ax = plt.gca()\n",
    "ax.axes.yaxis.set_visible(False)"
   ]
  },
  {
   "cell_type": "markdown",
   "metadata": {
    "id": "tElG4xaifbcX"
   },
   "source": [
    "---"
   ]
  },
  {
   "cell_type": "markdown",
   "metadata": {
    "id": "fVWmCoFdfddf"
   },
   "source": [
    "## 4. Число выявленных новых случаев заболевания и смертность в разрезе стран"
   ]
  },
  {
   "cell_type": "markdown",
   "metadata": {
    "id": "2f3e6c2f"
   },
   "source": [
    "### 4.1. Топ-10 стран по числу заболевших за всё время   \n",
    "Выведим топ-10 стран по общему числу зарегестированнх случаев заболевания за всё время."
   ]
  },
  {
   "cell_type": "code",
   "execution_count": 13,
   "metadata": {
    "colab": {
     "base_uri": "https://localhost:8080/",
     "height": 398
    },
    "id": "UQxsXaOhDsAG",
    "outputId": "b7e1c216-ce0b-44ba-8ca3-daf24d120b14"
   },
   "outputs": [
    {
     "name": "stdout",
     "output_type": "stream",
     "text": [
      "Топ-10 стран по числу заболевших, ед. случаев\n"
     ]
    },
    {
     "data": {
      "text/html": [
       "<div>\n",
       "<style scoped>\n",
       "    .dataframe tbody tr th:only-of-type {\n",
       "        vertical-align: middle;\n",
       "    }\n",
       "\n",
       "    .dataframe tbody tr th {\n",
       "        vertical-align: top;\n",
       "    }\n",
       "\n",
       "    .dataframe thead th {\n",
       "        text-align: right;\n",
       "    }\n",
       "</style>\n",
       "<table border=\"1\" class=\"dataframe\">\n",
       "  <thead>\n",
       "    <tr style=\"text-align: right;\">\n",
       "      <th></th>\n",
       "      <th>Страна</th>\n",
       "      <th>Новые_случаи</th>\n",
       "    </tr>\n",
       "  </thead>\n",
       "  <tbody>\n",
       "    <tr>\n",
       "      <th>0</th>\n",
       "      <td>United States of America</td>\n",
       "      <td>79896146</td>\n",
       "    </tr>\n",
       "    <tr>\n",
       "      <th>1</th>\n",
       "      <td>India</td>\n",
       "      <td>43045527</td>\n",
       "    </tr>\n",
       "    <tr>\n",
       "      <th>2</th>\n",
       "      <td>Brazil</td>\n",
       "      <td>30252618</td>\n",
       "    </tr>\n",
       "    <tr>\n",
       "      <th>3</th>\n",
       "      <td>France</td>\n",
       "      <td>27001702</td>\n",
       "    </tr>\n",
       "    <tr>\n",
       "      <th>4</th>\n",
       "      <td>Germany</td>\n",
       "      <td>23459628</td>\n",
       "    </tr>\n",
       "    <tr>\n",
       "      <th>5</th>\n",
       "      <td>The United Kingdom</td>\n",
       "      <td>21747642</td>\n",
       "    </tr>\n",
       "    <tr>\n",
       "      <th>6</th>\n",
       "      <td>Russian Federation</td>\n",
       "      <td>18092791</td>\n",
       "    </tr>\n",
       "    <tr>\n",
       "      <th>7</th>\n",
       "      <td>Republic of Korea</td>\n",
       "      <td>16471940</td>\n",
       "    </tr>\n",
       "    <tr>\n",
       "      <th>8</th>\n",
       "      <td>Italy</td>\n",
       "      <td>15730676</td>\n",
       "    </tr>\n",
       "    <tr>\n",
       "      <th>9</th>\n",
       "      <td>Turkey</td>\n",
       "      <td>14999479</td>\n",
       "    </tr>\n",
       "  </tbody>\n",
       "</table>\n",
       "</div>"
      ],
      "text/plain": [
       "                     Страна  Новые_случаи\n",
       "0  United States of America      79896146\n",
       "1                     India      43045527\n",
       "2                    Brazil      30252618\n",
       "3                    France      27001702\n",
       "4                   Germany      23459628\n",
       "5        The United Kingdom      21747642\n",
       "6        Russian Federation      18092791\n",
       "7         Republic of Korea      16471940\n",
       "8                     Italy      15730676\n",
       "9                    Turkey      14999479"
      ]
     },
     "metadata": {},
     "output_type": "display_data"
    },
    {
     "name": "stdout",
     "output_type": "stream",
     "text": [
      "По состянию на 2022-04-19\n"
     ]
    }
   ],
   "source": [
    "print('Топ-10 стран по числу заболевших, ед. случаев')\n",
    "country_new_cases = data.pivot_table(index=['Страна'], aggfunc={'Новые_случаи':sum}).nlargest(10, columns='Новые_случаи')\n",
    "display((country_new_cases).reset_index())\n",
    "print('По состянию на', tomorrow)"
   ]
  },
  {
   "cell_type": "markdown",
   "metadata": {
    "id": "164fdedc"
   },
   "source": [
    "### 4.2. Топ-10 стран по числу умерших за всё время   \n",
    "1. Выведем топ-10 стран по числу умерших за всё время наблюдений.   \n",
    "1. Посчитаем долю умерших от общего числа заболевших - уровень летальности (% умерших от общего числа счлучаев заболевания)."
   ]
  },
  {
   "cell_type": "code",
   "execution_count": 14,
   "metadata": {
    "colab": {
     "base_uri": "https://localhost:8080/",
     "height": 398
    },
    "id": "f0ac8ff8",
    "outputId": "fbe025b8-e8f0-4297-e335-29ea7bd0d471"
   },
   "outputs": [
    {
     "name": "stdout",
     "output_type": "stream",
     "text": [
      "Топ-10 стран по числу умерших, ед. случаев\n"
     ]
    },
    {
     "data": {
      "text/html": [
       "<div>\n",
       "<style scoped>\n",
       "    .dataframe tbody tr th:only-of-type {\n",
       "        vertical-align: middle;\n",
       "    }\n",
       "\n",
       "    .dataframe tbody tr th {\n",
       "        vertical-align: top;\n",
       "    }\n",
       "\n",
       "    .dataframe thead th {\n",
       "        text-align: right;\n",
       "    }\n",
       "</style>\n",
       "<table border=\"1\" class=\"dataframe\">\n",
       "  <thead>\n",
       "    <tr style=\"text-align: right;\">\n",
       "      <th></th>\n",
       "      <th>Страна</th>\n",
       "      <th>Новые_случаи</th>\n",
       "      <th>Смерти</th>\n",
       "      <th>Летальность, %</th>\n",
       "    </tr>\n",
       "  </thead>\n",
       "  <tbody>\n",
       "    <tr>\n",
       "      <th>0</th>\n",
       "      <td>United States of America</td>\n",
       "      <td>79896146</td>\n",
       "      <td>981415</td>\n",
       "      <td>1.23</td>\n",
       "    </tr>\n",
       "    <tr>\n",
       "      <th>1</th>\n",
       "      <td>Brazil</td>\n",
       "      <td>30252618</td>\n",
       "      <td>661960</td>\n",
       "      <td>2.19</td>\n",
       "    </tr>\n",
       "    <tr>\n",
       "      <th>2</th>\n",
       "      <td>India</td>\n",
       "      <td>43045527</td>\n",
       "      <td>521966</td>\n",
       "      <td>1.21</td>\n",
       "    </tr>\n",
       "    <tr>\n",
       "      <th>3</th>\n",
       "      <td>Russian Federation</td>\n",
       "      <td>18092791</td>\n",
       "      <td>373948</td>\n",
       "      <td>2.07</td>\n",
       "    </tr>\n",
       "    <tr>\n",
       "      <th>4</th>\n",
       "      <td>Mexico</td>\n",
       "      <td>5727668</td>\n",
       "      <td>323944</td>\n",
       "      <td>5.66</td>\n",
       "    </tr>\n",
       "    <tr>\n",
       "      <th>5</th>\n",
       "      <td>Peru</td>\n",
       "      <td>3555739</td>\n",
       "      <td>212630</td>\n",
       "      <td>5.98</td>\n",
       "    </tr>\n",
       "    <tr>\n",
       "      <th>6</th>\n",
       "      <td>The United Kingdom</td>\n",
       "      <td>21747642</td>\n",
       "      <td>171396</td>\n",
       "      <td>0.79</td>\n",
       "    </tr>\n",
       "    <tr>\n",
       "      <th>7</th>\n",
       "      <td>Italy</td>\n",
       "      <td>15730676</td>\n",
       "      <td>161766</td>\n",
       "      <td>1.03</td>\n",
       "    </tr>\n",
       "    <tr>\n",
       "      <th>8</th>\n",
       "      <td>Indonesia</td>\n",
       "      <td>6041269</td>\n",
       "      <td>155937</td>\n",
       "      <td>2.58</td>\n",
       "    </tr>\n",
       "    <tr>\n",
       "      <th>9</th>\n",
       "      <td>France</td>\n",
       "      <td>27001702</td>\n",
       "      <td>140985</td>\n",
       "      <td>0.52</td>\n",
       "    </tr>\n",
       "  </tbody>\n",
       "</table>\n",
       "</div>"
      ],
      "text/plain": [
       "                     Страна  Новые_случаи  Смерти  Летальность, %\n",
       "0  United States of America      79896146  981415            1.23\n",
       "1                    Brazil      30252618  661960            2.19\n",
       "2                     India      43045527  521966            1.21\n",
       "3        Russian Federation      18092791  373948            2.07\n",
       "4                    Mexico       5727668  323944            5.66\n",
       "5                      Peru       3555739  212630            5.98\n",
       "6        The United Kingdom      21747642  171396            0.79\n",
       "7                     Italy      15730676  161766            1.03\n",
       "8                 Indonesia       6041269  155937            2.58\n",
       "9                    France      27001702  140985            0.52"
      ]
     },
     "metadata": {},
     "output_type": "display_data"
    },
    {
     "name": "stdout",
     "output_type": "stream",
     "text": [
      "По состянию на 2022-04-19\n"
     ]
    }
   ],
   "source": [
    "print('Топ-10 стран по числу умерших, ед. случаев')\n",
    "country_deaths = data.pivot_table(index=['Страна'], aggfunc={'Смерти':sum,'Новые_случаи':sum}).nlargest(10, columns='Смерти')\n",
    "country_deaths['Летальность, %'] = ((country_deaths['Смерти']/country_deaths['Новые_случаи'])*100).round(2)\n",
    "display((country_deaths).reset_index())\n",
    "print('По состянию на', tomorrow)"
   ]
  },
  {
   "cell_type": "markdown",
   "metadata": {
    "id": "9810fed7"
   },
   "source": [
    "### 4.3. Топ-10 стран по уровню смертности за всё время     \n",
    " Выведем топ-10 стран по ранее расчитанному уровню летальности."
   ]
  },
  {
   "cell_type": "code",
   "execution_count": 15,
   "metadata": {
    "colab": {
     "base_uri": "https://localhost:8080/",
     "height": 398
    },
    "id": "c3a16056",
    "outputId": "98f15027-dbd3-4821-8773-bc5297c1c182"
   },
   "outputs": [
    {
     "name": "stdout",
     "output_type": "stream",
     "text": [
      "Топ-10 стран по уровню смертности\n"
     ]
    },
    {
     "data": {
      "text/html": [
       "<div>\n",
       "<style scoped>\n",
       "    .dataframe tbody tr th:only-of-type {\n",
       "        vertical-align: middle;\n",
       "    }\n",
       "\n",
       "    .dataframe tbody tr th {\n",
       "        vertical-align: top;\n",
       "    }\n",
       "\n",
       "    .dataframe thead th {\n",
       "        text-align: right;\n",
       "    }\n",
       "</style>\n",
       "<table border=\"1\" class=\"dataframe\">\n",
       "  <thead>\n",
       "    <tr style=\"text-align: right;\">\n",
       "      <th></th>\n",
       "      <th>Страна</th>\n",
       "      <th>Новые_случаи</th>\n",
       "      <th>Смерти</th>\n",
       "      <th>Летальность, %</th>\n",
       "    </tr>\n",
       "  </thead>\n",
       "  <tbody>\n",
       "    <tr>\n",
       "      <th>0</th>\n",
       "      <td>Peru</td>\n",
       "      <td>3555739</td>\n",
       "      <td>212630</td>\n",
       "      <td>5.98</td>\n",
       "    </tr>\n",
       "    <tr>\n",
       "      <th>1</th>\n",
       "      <td>Mexico</td>\n",
       "      <td>5727668</td>\n",
       "      <td>323944</td>\n",
       "      <td>5.66</td>\n",
       "    </tr>\n",
       "    <tr>\n",
       "      <th>2</th>\n",
       "      <td>Indonesia</td>\n",
       "      <td>6041269</td>\n",
       "      <td>155937</td>\n",
       "      <td>2.58</td>\n",
       "    </tr>\n",
       "    <tr>\n",
       "      <th>3</th>\n",
       "      <td>Brazil</td>\n",
       "      <td>30252618</td>\n",
       "      <td>661960</td>\n",
       "      <td>2.19</td>\n",
       "    </tr>\n",
       "    <tr>\n",
       "      <th>4</th>\n",
       "      <td>Russian Federation</td>\n",
       "      <td>18092791</td>\n",
       "      <td>373948</td>\n",
       "      <td>2.07</td>\n",
       "    </tr>\n",
       "    <tr>\n",
       "      <th>5</th>\n",
       "      <td>United States of America</td>\n",
       "      <td>79896146</td>\n",
       "      <td>981415</td>\n",
       "      <td>1.23</td>\n",
       "    </tr>\n",
       "    <tr>\n",
       "      <th>6</th>\n",
       "      <td>India</td>\n",
       "      <td>43045527</td>\n",
       "      <td>521966</td>\n",
       "      <td>1.21</td>\n",
       "    </tr>\n",
       "    <tr>\n",
       "      <th>7</th>\n",
       "      <td>Italy</td>\n",
       "      <td>15730676</td>\n",
       "      <td>161766</td>\n",
       "      <td>1.03</td>\n",
       "    </tr>\n",
       "    <tr>\n",
       "      <th>8</th>\n",
       "      <td>The United Kingdom</td>\n",
       "      <td>21747642</td>\n",
       "      <td>171396</td>\n",
       "      <td>0.79</td>\n",
       "    </tr>\n",
       "    <tr>\n",
       "      <th>9</th>\n",
       "      <td>France</td>\n",
       "      <td>27001702</td>\n",
       "      <td>140985</td>\n",
       "      <td>0.52</td>\n",
       "    </tr>\n",
       "  </tbody>\n",
       "</table>\n",
       "</div>"
      ],
      "text/plain": [
       "                     Страна  Новые_случаи  Смерти  Летальность, %\n",
       "0                      Peru       3555739  212630            5.98\n",
       "1                    Mexico       5727668  323944            5.66\n",
       "2                 Indonesia       6041269  155937            2.58\n",
       "3                    Brazil      30252618  661960            2.19\n",
       "4        Russian Federation      18092791  373948            2.07\n",
       "5  United States of America      79896146  981415            1.23\n",
       "6                     India      43045527  521966            1.21\n",
       "7                     Italy      15730676  161766            1.03\n",
       "8        The United Kingdom      21747642  171396            0.79\n",
       "9                    France      27001702  140985            0.52"
      ]
     },
     "metadata": {},
     "output_type": "display_data"
    },
    {
     "name": "stdout",
     "output_type": "stream",
     "text": [
      "По состянию на 2022-04-19\n"
     ]
    }
   ],
   "source": [
    "print('Топ-10 стран по уровню смертности')\n",
    "mortality_rate = country_deaths.nlargest(10, columns='Летальность, %')\n",
    "display((mortality_rate).reset_index())\n",
    "print('По состянию на', tomorrow)"
   ]
  },
  {
   "cell_type": "markdown",
   "metadata": {
    "id": "-kRHoAuWf-wj"
   },
   "source": [
    "---"
   ]
  },
  {
   "cell_type": "markdown",
   "metadata": {
    "id": "oFYg3W4ggAhT"
   },
   "source": [
    "## 5. Месячные данные о числе выявленных новых случаев заболевания и смертность в целом по миру"
   ]
  },
  {
   "cell_type": "code",
   "execution_count": 16,
   "metadata": {
    "colab": {
     "base_uri": "https://localhost:8080/",
     "height": 411
    },
    "id": "718a660e",
    "outputId": "32222a2c-65ff-488d-8170-ea13ca98ce79"
   },
   "outputs": [
    {
     "name": "stdout",
     "output_type": "stream",
     "text": [
      "Число выявленных случаев в мире по месяцам, ед.\n"
     ]
    },
    {
     "data": {
      "image/png": "[encoded data removed]",
      "text/plain": [
       "<Figure size 1080x360 with 1 Axes>"
      ]
     },
     "metadata": {
      "needs_background": "light"
     },
     "output_type": "display_data"
    }
   ],
   "source": [
    "month_new_cases = data.pivot_table(index=['Год_месяц'], aggfunc={'Новые_случаи':sum}).sort_values(by='Год_месяц')\n",
    "month_new_cases.plot(y='Новые_случаи', kind='bar', figsize=(15, 5), legend=False)\n",
    "plt.xticks(rotation = 90)\n",
    "print('Число выявленных случаев в мире по месяцам, ед.')"
   ]
  },
  {
   "cell_type": "code",
   "execution_count": 17,
   "metadata": {
    "colab": {
     "base_uri": "https://localhost:8080/",
     "height": 400
    },
    "id": "4GMe_U-OWmr-",
    "outputId": "994c614a-c51b-4584-924d-4ec7696c1643"
   },
   "outputs": [
    {
     "name": "stdout",
     "output_type": "stream",
     "text": [
      "Число смертей в мире по месяцам, ед.\n"
     ]
    },
    {
     "data": {
      "image/png": "[encoded data removed]",
      "text/plain": [
       "<Figure size 1080x360 with 1 Axes>"
      ]
     },
     "metadata": {
      "needs_background": "light"
     },
     "output_type": "display_data"
    }
   ],
   "source": [
    "month_deaths = data.pivot_table(index=['Год_месяц'], aggfunc={'Смерти':sum}).sort_values(by='Год_месяц')\n",
    "month_deaths.plot(y='Смерти', kind='bar', figsize=(15, 5), legend=False)\n",
    "plt.xticks(rotation = 90)\n",
    "print('Число смертей в мире по месяцам, ед.')"
   ]
  },
  {
   "cell_type": "markdown",
   "metadata": {
    "id": "nTcNvB4jgUk3"
   },
   "source": [
    "---"
   ]
  },
  {
   "cell_type": "markdown",
   "metadata": {
    "id": "4XL3hLT4gUnE"
   },
   "source": [
    "## 5. Данные о числе выявленных новых случаев заболевания и смертность в России"
   ]
  },
  {
   "cell_type": "markdown",
   "metadata": {
    "id": "yYksh0UBrqdR"
   },
   "source": [
    "### 5.1. Годовые данные"
   ]
  },
  {
   "cell_type": "code",
   "execution_count": 18,
   "metadata": {
    "colab": {
     "base_uri": "https://localhost:8080/"
    },
    "id": "aaEKvBporQZl",
    "outputId": "2283395c-6d41-4be3-fa9d-b286133f71cc"
   },
   "outputs": [
    {
     "name": "stdout",
     "output_type": "stream",
     "text": [
      "За всё время наблюдений:\n",
      "------------------------------------------------------------------\n",
      "3.6 % общемирового числа случаев заболевания COVID-19 приходится на Россию\n",
      "------------------------------------------------------------------\n",
      "6.03 % общемирового числа умерших от COVID-19 приходится на Россию\n",
      "------------------------------------------------------------------\n",
      "2.07 % - уровень летальности в России\n",
      "------------------------------------------------------------------\n",
      "По данным ВОЗ на 2022-04-19\n"
     ]
    }
   ],
   "source": [
    "new_cases_total = data.loc[:, 'Новые_случаи'].sum()\n",
    "ru_new_cases_total = ru_data.loc[:, 'Новые_случаи'].sum()\n",
    "deaths_total = data.loc[:, 'Смерти'].sum()\n",
    "ru_deaths_total = ru_data.loc[:, 'Смерти'].sum()\n",
    "print('За всё время наблюдений:')\n",
    "print('-'*66)\n",
    "print((ru_new_cases_total/(new_cases_total/100)).round(2), '% общемирового числа случаев заболевания COVID-19 приходится на Россию')\n",
    "print('-'*66)\n",
    "print((ru_deaths_total/(deaths_total/100)).round(2), '% общемирового числа умерших от COVID-19 приходится на Россию')\n",
    "print('-'*66)\n",
    "print((ru_deaths_total/(ru_new_cases_total/100)).round(2), '% - уровень летальности в России')\n",
    "print('-'*66)\n",
    "print('По данным ВОЗ на', tomorrow)"
   ]
  },
  {
   "cell_type": "code",
   "execution_count": 19,
   "metadata": {
    "colab": {
     "base_uri": "https://localhost:8080/",
     "height": 178
    },
    "id": "_G680WlurdGf",
    "outputId": "f333f7f7-7a0d-4931-ba5d-81c01cb5e2f3"
   },
   "outputs": [
    {
     "name": "stdout",
     "output_type": "stream",
     "text": [
      "Число выявленных случаев и смертей в России за год, ед.\n"
     ]
    },
    {
     "data": {
      "text/html": [
       "<div>\n",
       "<style scoped>\n",
       "    .dataframe tbody tr th:only-of-type {\n",
       "        vertical-align: middle;\n",
       "    }\n",
       "\n",
       "    .dataframe tbody tr th {\n",
       "        vertical-align: top;\n",
       "    }\n",
       "\n",
       "    .dataframe thead th {\n",
       "        text-align: right;\n",
       "    }\n",
       "</style>\n",
       "<table border=\"1\" class=\"dataframe\">\n",
       "  <thead>\n",
       "    <tr style=\"text-align: right;\">\n",
       "      <th></th>\n",
       "      <th>Год</th>\n",
       "      <th>Новые_случаи</th>\n",
       "      <th>Смерти</th>\n",
       "    </tr>\n",
       "  </thead>\n",
       "  <tbody>\n",
       "    <tr>\n",
       "      <th>0</th>\n",
       "      <td>2020</td>\n",
       "      <td>3159297</td>\n",
       "      <td>57019</td>\n",
       "    </tr>\n",
       "    <tr>\n",
       "      <th>1</th>\n",
       "      <td>2021</td>\n",
       "      <td>7340685</td>\n",
       "      <td>251841</td>\n",
       "    </tr>\n",
       "    <tr>\n",
       "      <th>2</th>\n",
       "      <td>2022</td>\n",
       "      <td>7592809</td>\n",
       "      <td>65088</td>\n",
       "    </tr>\n",
       "  </tbody>\n",
       "</table>\n",
       "</div>"
      ],
      "text/plain": [
       "    Год  Новые_случаи  Смерти\n",
       "0  2020       3159297   57019\n",
       "1  2021       7340685  251841\n",
       "2  2022       7592809   65088"
      ]
     },
     "metadata": {},
     "output_type": "display_data"
    },
    {
     "name": "stdout",
     "output_type": "stream",
     "text": [
      "По состянию на 2022-04-19\n"
     ]
    }
   ],
   "source": [
    "print('Число выявленных случаев и смертей в России за год, ед.')\n",
    "ru_year_new_cases = ru_data.pivot_table(index=['Год'], aggfunc={'Новые_случаи':sum, 'Смерти':sum}).sort_values(by='Год')\n",
    "display((ru_year_new_cases).reset_index())\n",
    "print('По состянию на', tomorrow)"
   ]
  },
  {
   "cell_type": "code",
   "execution_count": 20,
   "metadata": {
    "colab": {
     "base_uri": "https://localhost:8080/",
     "height": 362
    },
    "id": "blXzlFpbsTdC",
    "outputId": "764cbd25-4a8a-4770-d205-ce570a1eec2a"
   },
   "outputs": [
    {
     "name": "stdout",
     "output_type": "stream",
     "text": [
      "Число выявленных случаев в России за год, ед.\n"
     ]
    },
    {
     "data": {
      "image/png": "[encoded data removed]",
      "text/plain": [
       "<Figure size 720x360 with 1 Axes>"
      ]
     },
     "metadata": {
      "needs_background": "light"
     },
     "output_type": "display_data"
    }
   ],
   "source": [
    "ru_year_new_cases.plot(y='Новые_случаи', kind='bar', figsize=(10, 5), legend=False)\n",
    "plt.xticks(rotation = 0)\n",
    "print('Число выявленных случаев в России за год, ед.')"
   ]
  },
  {
   "cell_type": "code",
   "execution_count": 21,
   "metadata": {
    "colab": {
     "base_uri": "https://localhost:8080/",
     "height": 351
    },
    "id": "GMFskjBUscln",
    "outputId": "055db7ae-d1d8-475a-f682-d2373cc15cdb"
   },
   "outputs": [
    {
     "name": "stdout",
     "output_type": "stream",
     "text": [
      "Число смертей в России за год, ед.\n"
     ]
    },
    {
     "data": {
      "image/png": "[encoded data removed]",
      "text/plain": [
       "<Figure size 720x360 with 1 Axes>"
      ]
     },
     "metadata": {
      "needs_background": "light"
     },
     "output_type": "display_data"
    }
   ],
   "source": [
    "ru_year_new_cases.plot(y='Смерти', kind='bar', figsize=(10, 5), legend=False)\n",
    "plt.xticks(rotation = 0)\n",
    "print('Число смертей в России за год, ед.')"
   ]
  },
  {
   "cell_type": "markdown",
   "metadata": {
    "id": "WS-RVyUIr6vD"
   },
   "source": [
    "### 5.2. Помесячные данные"
   ]
  },
  {
   "cell_type": "code",
   "execution_count": 22,
   "metadata": {
    "colab": {
     "base_uri": "https://localhost:8080/",
     "height": 411
    },
    "id": "Pd8tIZyZXoNV",
    "outputId": "6a39d4c4-4174-42b5-c2de-49a77d6f0f4c"
   },
   "outputs": [
    {
     "name": "stdout",
     "output_type": "stream",
     "text": [
      "Число выявленных случаев в России по месяцам, ед.\n"
     ]
    },
    {
     "data": {
      "image/png": "[encoded data removed]",
      "text/plain": [
       "<Figure size 1080x360 with 1 Axes>"
      ]
     },
     "metadata": {
      "needs_background": "light"
     },
     "output_type": "display_data"
    }
   ],
   "source": [
    "ru_month_new_cases = ru_data.pivot_table(index=['Год_месяц'], aggfunc={'Новые_случаи':sum}).sort_values(by='Год_месяц')\n",
    "ru_month_new_cases.plot(y='Новые_случаи', kind='bar', figsize=(15, 5), legend=False)\n",
    "plt.xticks(rotation = 90)\n",
    "print('Число выявленных случаев в России по месяцам, ед.')"
   ]
  },
  {
   "cell_type": "code",
   "execution_count": 23,
   "metadata": {
    "colab": {
     "base_uri": "https://localhost:8080/",
     "height": 400
    },
    "id": "bEgCS-aBdDyF",
    "outputId": "55c345be-e569-48d2-e5e7-f348e11cee46"
   },
   "outputs": [
    {
     "name": "stdout",
     "output_type": "stream",
     "text": [
      "Число смертей в России по месяцам, ед.\n"
     ]
    },
    {
     "data": {
      "image/png": "[encoded data removed]",
      "text/plain": [
       "<Figure size 1080x360 with 1 Axes>"
      ]
     },
     "metadata": {
      "needs_background": "light"
     },
     "output_type": "display_data"
    }
   ],
   "source": [
    "ru_month_deaths = ru_data.pivot_table(index=['Год_месяц'], aggfunc={'Смерти':sum}).sort_values(by='Год_месяц')\n",
    "ru_month_deaths.plot(y='Смерти', kind='bar', figsize=(15, 5), legend=False)\n",
    "plt.xticks(rotation = 90)\n",
    "print('Число смертей в России по месяцам, ед.')"
   ]
  }
 ],
 "metadata": {
  "colab": {
   "collapsed_sections": [],
   "name": "COVID-19.ipynb",
   "provenance": []
  },
  "kernelspec": {
   "display_name": "Python 3",
   "language": "python",
   "name": "python3"
  },
  "language_info": {
   "codemirror_mode": {
    "name": "ipython",
    "version": 3
   },
   "file_extension": ".py",
   "mimetype": "text/x-python",
   "name": "python",
   "nbconvert_exporter": "python",
   "pygments_lexer": "ipython3",
   "version": "3.8.5"
  }
 },
 "nbformat": 4,
 "nbformat_minor": 5
}
