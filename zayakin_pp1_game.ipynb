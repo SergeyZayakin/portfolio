{
 "cells": [
  {
   "cell_type": "markdown",
   "metadata": {
    "id": "3cr0gBFuufio"
   },
   "source": [
    "# СБОРНЫЙ ПРОЕКТ 1    \n",
    "# Выявление факторов, определяющих успешность компьютерных игр"
   ]
  },
  {
   "cell_type": "markdown",
   "metadata": {
    "id": "Y4vIP6PG6C1g"
   },
   "source": [
    "<br/>\n",
    "    \n",
    "<div class=\"alert alert-info\">\n",
    "<h2> Привет!<a class=\"tocSkip\"></h2>\n",
    "<hr>  \n",
    "Я - Сергей. Рад что ты читаешь это текст :) Сделаю пару ремарок общего характера. В описании выполняемых действий, комментариях, я использую местоимение 'мы', так как считаю что ты, читая код, становиться моим соучастником ('соучавствующие программирование') и мы вместе проходим по пути исследования. Да и сформировлась привычка так писать в ходе написания научных работ.   \n",
    "NB! - так помечаю важные на мой взгдял идеи, которые стоит взять на заметку; инсайты, проработка которых требует большего знания предметной области.   \n",
    "Надеюсь мои многословные комментарии тебя не утомят.    \n",
    "</div>\n",
    "    \n",
    "<br/>"
   ]
  },
  {
   "cell_type": "markdown",
   "metadata": {
    "id": "UbcgTWDEjrA_"
   },
   "source": [
    "# Оглавление"
   ]
  },
  {
   "cell_type": "markdown",
   "metadata": {
    "id": "OK5ADjioufis"
   },
   "source": [
    "[0. Описание проекта](#description)   \n",
    "[1. Загрузка и изучение данных](#exploration)   \n",
    "[2. Предобработка данных](#preparing)   \n",
    "[2.1. Замена названий столбцов (приведение к нижнему реестру)](#rename)   \n",
    "[2.2. Проверка дубликатов строк и уникальных значений колонок](#duplicates)   \n",
    "[2.3. Обработка пропусков и изменение типов данных](#change)   \n",
    "[2.4. Подсчёт суммарных продаж](#sum)   \n",
    "[3. Исследовательский анализ данных](#analysis)   \n",
    "[3.1. Выпуск игр по годам](#year)   \n",
    "[3.2. Продажи игр по платформам](#platform)   \n",
    "[3.3. 'Время жизни' платформ](#lifetime)   \n",
    "[3.4. Определение потенциально прибыльных платформ](#relevant)   \n",
    "[3.5. Диаграмма размаха по глобальным продажам игр в разбивке по платформам](#сhart)   \n",
    "[3.6. Расчёт корреляции между отзывами и продажами](#corr)  \n",
    "[3.7. Распределение игр по жанрам](#genre)   \n",
    "[4. Портрет пользователя](#users)   \n",
    "[4.1. Топ-5 платформ](#top_platform)   \n",
    "[4.2. Топ-5 жанров](#top_genre)  \n",
    "[4.3. Влияние рейтинга ESRB на продажи в регионах](#esrb)    \n",
    "[5. Проверка гипотез](#hypothesis_testing)   \n",
    "[5.1. Гипотеза 1: Средние пользовательские рейтинги платформ Xbox One и PC одинаковые](#hypothesis_1)   \n",
    "[5.2. Гипотеза 2: Средние пользовательские рейтинги жанров Action и Sports разные](#hypothesis_2)    \n",
    "[6. Общий вывод](#summary)"
   ]
  },
  {
   "cell_type": "markdown",
   "metadata": {
    "id": "uEc3QrfCjgcl"
   },
   "source": [
    "# 0. Описание проекта <a id=\"description\"></a>"
   ]
  },
  {
   "cell_type": "markdown",
   "metadata": {
    "id": "CsokY-4c6WT8"
   },
   "source": [
    "Вы работаете в интернет-магазине «Стримчик», который продаёт по всему миру\n",
    "компьютерные игры. Из открытых источников доступны исторические данные о\n",
    "продажах игр, оценки пользователей и экспертов, жанры и платформы (например,\n",
    "Xboxили PlayStation). Вам нужно выявить определяющие успешность игры\n",
    "закономерности. Это позволит сделать ставку на потенциально популярный продукт и\n",
    "спланировать рекламные кампании.\n",
    "Перед вами данные до 2016 года. Представим, что сейчас декабрь 2016 г., и вы\n",
    "планируете кампанию на 2017-й. Нужно отработать принцип работы с данными.\n",
    "Неважно, прогнозируете ли вы продажи на 2017 год по данным 2016-го или же 2027-й\n",
    "— по данным 2026 года.\n",
    "В наборе данных попадается аббревиатура ESRB (Entertainment Software Rating Board)\n",
    "— это ассоциация, определяющая возрастной рейтинг компьютерных игр. ESRB\n",
    "оценивает игровой контент и присваивает ему подходящую возрастную категорию,\n",
    "например, «Для взрослых», «Для детей младшего возраста» или «Для подростков»."
   ]
  },
  {
   "cell_type": "markdown",
   "metadata": {
    "id": "uwbh_NQW6imQ"
   },
   "source": [
    "### **Описание данных** \n",
    "* Name — название игры   \n",
    "* Platform — платформа   \n",
    "* Year_of_Release — год выпуска   \n",
    "* Genre — жанр игры   \n",
    "* NA_sales — продажи в Северной Америке (миллионы проданных копий)    \n",
    "* EU_sales — продажи в Европе (миллионы проданных копий)   \n",
    "* JP_sales — продажи в Японии (миллионы проданных копий)   \n",
    "* Other_sales — продажи в других странах (миллионы проданных копий)   \n",
    "* Critic_Score — оценка критиков (максимум 100)   \n",
    "* User_Score — оценка пользователей (максимум 10)   \n",
    "* Rating — рейтинг от организации ESRB (англ. Entertainment Software Rating\n",
    "Board). Эта ассоциация определяет рейтинг компьютерных игр и присваивает\n",
    "им подходящую возрастную категорию.    \n",
    "\n",
    "**NB!** Данные за 2016 год могут быть неполными."
   ]
  },
  {
   "cell_type": "markdown",
   "metadata": {
    "id": "TqBM6Kgs68g8"
   },
   "source": [
    "---"
   ]
  },
  {
   "cell_type": "markdown",
   "metadata": {
    "id": "_zLC09IF7vqY"
   },
   "source": [
    "## 1. Загрузка и изучение данных <a id=\"exploration\"></a> "
   ]
  },
  {
   "cell_type": "code",
   "execution_count": 1,
   "metadata": {
    "id": "HGH9n1Xi7CMD"
   },
   "outputs": [],
   "source": [
    "#Импортируем необходимые библиотеки\n",
    "import pandas as pd\n",
    "import numpy as np\n",
    "import matplotlib.pyplot as plt\n",
    "%matplotlib inline\n",
    "import seaborn as sns\n",
    "from scipy import stats as st"
   ]
  },
  {
   "cell_type": "code",
   "execution_count": 2,
   "metadata": {
    "colab": {
     "base_uri": "https://localhost:8080/",
     "height": 423
    },
    "id": "bmQtPw8I473Q",
    "outputId": "2a71002e-734e-4dec-8bc7-06e4d30a5304"
   },
   "outputs": [
    {
     "data": {
      "text/html": [
       "<div>\n",
       "<style scoped>\n",
       "    .dataframe tbody tr th:only-of-type {\n",
       "        vertical-align: middle;\n",
       "    }\n",
       "\n",
       "    .dataframe tbody tr th {\n",
       "        vertical-align: top;\n",
       "    }\n",
       "\n",
       "    .dataframe thead th {\n",
       "        text-align: right;\n",
       "    }\n",
       "</style>\n",
       "<table border=\"1\" class=\"dataframe\">\n",
       "  <thead>\n",
       "    <tr style=\"text-align: right;\">\n",
       "      <th></th>\n",
       "      <th>Name</th>\n",
       "      <th>Platform</th>\n",
       "      <th>Year_of_Release</th>\n",
       "      <th>Genre</th>\n",
       "      <th>NA_sales</th>\n",
       "      <th>EU_sales</th>\n",
       "      <th>JP_sales</th>\n",
       "      <th>Other_sales</th>\n",
       "      <th>Critic_Score</th>\n",
       "      <th>User_Score</th>\n",
       "      <th>Rating</th>\n",
       "    </tr>\n",
       "  </thead>\n",
       "  <tbody>\n",
       "    <tr>\n",
       "      <th>0</th>\n",
       "      <td>Wii Sports</td>\n",
       "      <td>Wii</td>\n",
       "      <td>2006.0</td>\n",
       "      <td>Sports</td>\n",
       "      <td>41.36</td>\n",
       "      <td>28.96</td>\n",
       "      <td>3.77</td>\n",
       "      <td>8.45</td>\n",
       "      <td>76.0</td>\n",
       "      <td>8</td>\n",
       "      <td>E</td>\n",
       "    </tr>\n",
       "    <tr>\n",
       "      <th>1</th>\n",
       "      <td>Super Mario Bros.</td>\n",
       "      <td>NES</td>\n",
       "      <td>1985.0</td>\n",
       "      <td>Platform</td>\n",
       "      <td>29.08</td>\n",
       "      <td>3.58</td>\n",
       "      <td>6.81</td>\n",
       "      <td>0.77</td>\n",
       "      <td>NaN</td>\n",
       "      <td>NaN</td>\n",
       "      <td>NaN</td>\n",
       "    </tr>\n",
       "    <tr>\n",
       "      <th>2</th>\n",
       "      <td>Mario Kart Wii</td>\n",
       "      <td>Wii</td>\n",
       "      <td>2008.0</td>\n",
       "      <td>Racing</td>\n",
       "      <td>15.68</td>\n",
       "      <td>12.76</td>\n",
       "      <td>3.79</td>\n",
       "      <td>3.29</td>\n",
       "      <td>82.0</td>\n",
       "      <td>8.3</td>\n",
       "      <td>E</td>\n",
       "    </tr>\n",
       "    <tr>\n",
       "      <th>3</th>\n",
       "      <td>Wii Sports Resort</td>\n",
       "      <td>Wii</td>\n",
       "      <td>2009.0</td>\n",
       "      <td>Sports</td>\n",
       "      <td>15.61</td>\n",
       "      <td>10.93</td>\n",
       "      <td>3.28</td>\n",
       "      <td>2.95</td>\n",
       "      <td>80.0</td>\n",
       "      <td>8</td>\n",
       "      <td>E</td>\n",
       "    </tr>\n",
       "    <tr>\n",
       "      <th>4</th>\n",
       "      <td>Pokemon Red/Pokemon Blue</td>\n",
       "      <td>GB</td>\n",
       "      <td>1996.0</td>\n",
       "      <td>Role-Playing</td>\n",
       "      <td>11.27</td>\n",
       "      <td>8.89</td>\n",
       "      <td>10.22</td>\n",
       "      <td>1.00</td>\n",
       "      <td>NaN</td>\n",
       "      <td>NaN</td>\n",
       "      <td>NaN</td>\n",
       "    </tr>\n",
       "    <tr>\n",
       "      <th>...</th>\n",
       "      <td>...</td>\n",
       "      <td>...</td>\n",
       "      <td>...</td>\n",
       "      <td>...</td>\n",
       "      <td>...</td>\n",
       "      <td>...</td>\n",
       "      <td>...</td>\n",
       "      <td>...</td>\n",
       "      <td>...</td>\n",
       "      <td>...</td>\n",
       "      <td>...</td>\n",
       "    </tr>\n",
       "    <tr>\n",
       "      <th>16710</th>\n",
       "      <td>Samurai Warriors: Sanada Maru</td>\n",
       "      <td>PS3</td>\n",
       "      <td>2016.0</td>\n",
       "      <td>Action</td>\n",
       "      <td>0.00</td>\n",
       "      <td>0.00</td>\n",
       "      <td>0.01</td>\n",
       "      <td>0.00</td>\n",
       "      <td>NaN</td>\n",
       "      <td>NaN</td>\n",
       "      <td>NaN</td>\n",
       "    </tr>\n",
       "    <tr>\n",
       "      <th>16711</th>\n",
       "      <td>LMA Manager 2007</td>\n",
       "      <td>X360</td>\n",
       "      <td>2006.0</td>\n",
       "      <td>Sports</td>\n",
       "      <td>0.00</td>\n",
       "      <td>0.01</td>\n",
       "      <td>0.00</td>\n",
       "      <td>0.00</td>\n",
       "      <td>NaN</td>\n",
       "      <td>NaN</td>\n",
       "      <td>NaN</td>\n",
       "    </tr>\n",
       "    <tr>\n",
       "      <th>16712</th>\n",
       "      <td>Haitaka no Psychedelica</td>\n",
       "      <td>PSV</td>\n",
       "      <td>2016.0</td>\n",
       "      <td>Adventure</td>\n",
       "      <td>0.00</td>\n",
       "      <td>0.00</td>\n",
       "      <td>0.01</td>\n",
       "      <td>0.00</td>\n",
       "      <td>NaN</td>\n",
       "      <td>NaN</td>\n",
       "      <td>NaN</td>\n",
       "    </tr>\n",
       "    <tr>\n",
       "      <th>16713</th>\n",
       "      <td>Spirits &amp; Spells</td>\n",
       "      <td>GBA</td>\n",
       "      <td>2003.0</td>\n",
       "      <td>Platform</td>\n",
       "      <td>0.01</td>\n",
       "      <td>0.00</td>\n",
       "      <td>0.00</td>\n",
       "      <td>0.00</td>\n",
       "      <td>NaN</td>\n",
       "      <td>NaN</td>\n",
       "      <td>NaN</td>\n",
       "    </tr>\n",
       "    <tr>\n",
       "      <th>16714</th>\n",
       "      <td>Winning Post 8 2016</td>\n",
       "      <td>PSV</td>\n",
       "      <td>2016.0</td>\n",
       "      <td>Simulation</td>\n",
       "      <td>0.00</td>\n",
       "      <td>0.00</td>\n",
       "      <td>0.01</td>\n",
       "      <td>0.00</td>\n",
       "      <td>NaN</td>\n",
       "      <td>NaN</td>\n",
       "      <td>NaN</td>\n",
       "    </tr>\n",
       "  </tbody>\n",
       "</table>\n",
       "<p>16715 rows × 11 columns</p>\n",
       "</div>"
      ],
      "text/plain": [
       "                                Name Platform  Year_of_Release         Genre  \\\n",
       "0                         Wii Sports      Wii           2006.0        Sports   \n",
       "1                  Super Mario Bros.      NES           1985.0      Platform   \n",
       "2                     Mario Kart Wii      Wii           2008.0        Racing   \n",
       "3                  Wii Sports Resort      Wii           2009.0        Sports   \n",
       "4           Pokemon Red/Pokemon Blue       GB           1996.0  Role-Playing   \n",
       "...                              ...      ...              ...           ...   \n",
       "16710  Samurai Warriors: Sanada Maru      PS3           2016.0        Action   \n",
       "16711               LMA Manager 2007     X360           2006.0        Sports   \n",
       "16712        Haitaka no Psychedelica      PSV           2016.0     Adventure   \n",
       "16713               Spirits & Spells      GBA           2003.0      Platform   \n",
       "16714            Winning Post 8 2016      PSV           2016.0    Simulation   \n",
       "\n",
       "       NA_sales  EU_sales  JP_sales  Other_sales  Critic_Score User_Score  \\\n",
       "0         41.36     28.96      3.77         8.45          76.0          8   \n",
       "1         29.08      3.58      6.81         0.77           NaN        NaN   \n",
       "2         15.68     12.76      3.79         3.29          82.0        8.3   \n",
       "3         15.61     10.93      3.28         2.95          80.0          8   \n",
       "4         11.27      8.89     10.22         1.00           NaN        NaN   \n",
       "...         ...       ...       ...          ...           ...        ...   \n",
       "16710      0.00      0.00      0.01         0.00           NaN        NaN   \n",
       "16711      0.00      0.01      0.00         0.00           NaN        NaN   \n",
       "16712      0.00      0.00      0.01         0.00           NaN        NaN   \n",
       "16713      0.01      0.00      0.00         0.00           NaN        NaN   \n",
       "16714      0.00      0.00      0.01         0.00           NaN        NaN   \n",
       "\n",
       "      Rating  \n",
       "0          E  \n",
       "1        NaN  \n",
       "2          E  \n",
       "3          E  \n",
       "4        NaN  \n",
       "...      ...  \n",
       "16710    NaN  \n",
       "16711    NaN  \n",
       "16712    NaN  \n",
       "16713    NaN  \n",
       "16714    NaN  \n",
       "\n",
       "[16715 rows x 11 columns]"
      ]
     },
     "metadata": {},
     "output_type": "display_data"
    }
   ],
   "source": [
    "#Прочитаем файл с гугл диска\n",
    "from io import BytesIO\n",
    "import requests\n",
    "spreadsheet_id = '1OSfTPS5v8xqMuTjXGv2P9FkZjQxtq3NsckGa6OCpAqo'\n",
    "file_name = 'https://docs.google.com/spreadsheets/d/{}/export?format=csv'.format(spreadsheet_id)\n",
    "r = requests.get(file_name)\n",
    "data = pd.read_csv(BytesIO(r.content))\n",
    "pd.set_option('display.max_columns', 20) \n",
    "display(data)"
   ]
  },
  {
   "cell_type": "markdown",
   "metadata": {
    "id": "iv8s1PSlF4AY"
   },
   "source": [
    "В датасете 16715 строк (наблюдений) и 11 колонок"
   ]
  },
  {
   "cell_type": "code",
   "execution_count": 3,
   "metadata": {
    "colab": {
     "base_uri": "https://localhost:8080/"
    },
    "id": "THfYZaKW7jmo",
    "outputId": "2b8b6583-0ab7-46cc-94e0-2af414cf9467"
   },
   "outputs": [
    {
     "name": "stdout",
     "output_type": "stream",
     "text": [
      "<class 'pandas.core.frame.DataFrame'>\n",
      "RangeIndex: 16715 entries, 0 to 16714\n",
      "Data columns (total 11 columns):\n",
      " #   Column           Non-Null Count  Dtype  \n",
      "---  ------           --------------  -----  \n",
      " 0   Name             16713 non-null  object \n",
      " 1   Platform         16715 non-null  object \n",
      " 2   Year_of_Release  16446 non-null  float64\n",
      " 3   Genre            16713 non-null  object \n",
      " 4   NA_sales         16715 non-null  float64\n",
      " 5   EU_sales         16715 non-null  float64\n",
      " 6   JP_sales         16715 non-null  float64\n",
      " 7   Other_sales      16715 non-null  float64\n",
      " 8   Critic_Score     8137 non-null   float64\n",
      " 9   User_Score       10014 non-null  object \n",
      " 10  Rating           9949 non-null   object \n",
      "dtypes: float64(6), object(5)\n",
      "memory usage: 1.4+ MB\n"
     ]
    }
   ],
   "source": [
    "# Посмотрим описание датасета\n",
    "data.info()"
   ]
  },
  {
   "cell_type": "markdown",
   "metadata": {
    "id": "bzxpRbFiEaO0"
   },
   "source": [
    "**Выводы:**   \n",
    "1. Имена всех колонок необходимо привести к нижнему реестру;   \n",
    "1. Пропушенные значений есть в колонках Name, Year_of_Release, Genre, Critic_Score, User_Score и Rating;    \n",
    "1. В колонках Year_of_Release, User_Score и Rating необходимо изменить тип данных: Year_of_Release на int (год без даты нет смысла менять на временной тип ), User_Score и Rating - на float.   \n",
    "   \n",
    "Обработку пропусков  и изнемение типов данных мы совместим.   "
   ]
  },
  {
   "cell_type": "markdown",
   "metadata": {
    "id": "oDdclutQ7tcH"
   },
   "source": [
    "---"
   ]
  },
  {
   "cell_type": "markdown",
   "metadata": {
    "id": "TOA7tFnb5wmU"
   },
   "source": [
    "## 2. Предобработка данных <a id=\"preparing\"></a>"
   ]
  },
  {
   "cell_type": "markdown",
   "metadata": {
    "id": "SE_5fY337WmU"
   },
   "source": [
    "### 2.1. Замена названий столбцов (приведение к нижнему реестру) <a id=\"rename\"></a>\n"
   ]
  },
  {
   "cell_type": "code",
   "execution_count": 4,
   "metadata": {
    "id": "gWCTeaof5HWP"
   },
   "outputs": [],
   "source": [
    "data.columns = [x.lower() for x in data.columns]"
   ]
  },
  {
   "cell_type": "markdown",
   "metadata": {
    "id": "FolCJK43Qdu_"
   },
   "source": [
    "### 2.2. Проверка дубликатов строк  и уникальных значений колонок <a id=\"duplicates\"></a>"
   ]
  },
  {
   "cell_type": "code",
   "execution_count": 5,
   "metadata": {
    "colab": {
     "base_uri": "https://localhost:8080/"
    },
    "id": "TqIrzhkxQjJU",
    "outputId": "80b585bc-bc89-4832-cab7-6dcaa91f0cde"
   },
   "outputs": [
    {
     "data": {
      "text/plain": [
       "0"
      ]
     },
     "execution_count": 5,
     "metadata": {},
     "output_type": "execute_result"
    }
   ],
   "source": [
    "# Посчистаем число дубликатов срок\n",
    "data.duplicated().sum()\n",
    "# Дубликатов нет"
   ]
  },
  {
   "cell_type": "code",
   "execution_count": 6,
   "metadata": {
    "colab": {
     "base_uri": "https://localhost:8080/"
    },
    "id": "XpwAWEoWKu1p",
    "outputId": "2a1d0076-a6de-4c93-8952-38e29c387aad"
   },
   "outputs": [
    {
     "name": "stdout",
     "output_type": "stream",
     "text": [
      "имя колонки name значения ['Wii Sports' 'Super Mario Bros.' 'Mario Kart Wii' ...\n",
      " 'Woody Woodpecker in Crazy Castle 5' 'LMA Manager 2007'\n",
      " 'Haitaka no Psychedelica']\n",
      "имя колонки platform значения ['Wii' 'NES' 'GB' 'DS' 'X360' 'PS3' 'PS2' 'SNES' 'GBA' 'PS4' '3DS' 'N64'\n",
      " 'PS' 'XB' 'PC' '2600' 'PSP' 'XOne' 'WiiU' 'GC' 'GEN' 'DC' 'PSV' 'SAT'\n",
      " 'SCD' 'WS' 'NG' 'TG16' '3DO' 'GG' 'PCFX']\n",
      "имя колонки year_of_release значения [2006. 1985. 2008. 2009. 1996. 1989. 1984. 2005. 1999. 2007. 2010. 2013.\n",
      " 2004. 1990. 1988. 2002. 2001. 2011. 1998. 2015. 2012. 2014. 1992. 1997.\n",
      " 1993. 1994. 1982. 2016. 2003. 1986. 2000.   nan 1995. 1991. 1981. 1987.\n",
      " 1980. 1983.]\n",
      "имя колонки genre значения ['Sports' 'Platform' 'Racing' 'Role-Playing' 'Puzzle' 'Misc' 'Shooter'\n",
      " 'Simulation' 'Action' 'Fighting' 'Adventure' 'Strategy' nan]\n",
      "имя колонки critic_score значения [76. nan 82. 80. 89. 58. 87. 91. 61. 97. 95. 77. 88. 83. 94. 93. 85. 86.\n",
      " 98. 96. 90. 84. 73. 74. 78. 92. 71. 72. 68. 62. 49. 67. 81. 66. 56. 79.\n",
      " 70. 59. 64. 75. 60. 63. 69. 50. 25. 42. 44. 55. 48. 57. 29. 47. 65. 54.\n",
      " 20. 53. 37. 38. 33. 52. 30. 32. 43. 45. 51. 40. 46. 39. 34. 35. 41. 36.\n",
      " 28. 31. 27. 26. 19. 23. 24. 21. 17. 22. 13.]\n",
      "имя колонки user_score значения ['8' nan '8.3' '8.5' '6.6' '8.4' '8.6' '7.7' '6.3' '7.4' '8.2' '9' '7.9'\n",
      " '8.1' '8.7' '7.1' '3.4' '5.3' '4.8' '3.2' '8.9' '6.4' '7.8' '7.5' '2.6'\n",
      " '7.2' '9.2' '7' '7.3' '4.3' '7.6' '5.7' '5' '9.1' '6.5' 'tbd' '8.8' '6.9'\n",
      " '9.4' '6.8' '6.1' '6.7' '5.4' '4' '4.9' '4.5' '9.3' '6.2' '4.2' '6' '3.7'\n",
      " '4.1' '5.8' '5.6' '5.5' '4.4' '4.6' '5.9' '3.9' '3.1' '2.9' '5.2' '3.3'\n",
      " '4.7' '5.1' '3.5' '2.5' '1.9' '3' '2.7' '2.2' '2' '9.5' '2.1' '3.6' '2.8'\n",
      " '1.8' '3.8' '0' '1.6' '9.6' '2.4' '1.7' '1.1' '0.3' '1.5' '0.7' '1.2'\n",
      " '2.3' '0.5' '1.3' '0.2' '0.6' '1.4' '0.9' '1' '9.7']\n",
      "имя колонки rating значения ['E' nan 'M' 'T' 'E10+' 'K-A' 'AO' 'EC' 'RP']\n"
     ]
    }
   ],
   "source": [
    "# Посмотрим на список уникальных значений в каждой колонке.\n",
    "# что бы не выводить каждую колонку в ручную, переберём их имена в цикле и выведем уникальные значения\n",
    "# кроме колонок na_sales, eu_sales, jp_sales, other_sales - где большое количество уникальных значений\n",
    "data_columns = ['name', 'platform', 'year_of_release', 'genre', 'critic_score', 'user_score', 'rating']\n",
    "for elem in data_columns:\n",
    "    print('имя колонки', elem, 'значения', data[elem].unique())"
   ]
  },
  {
   "cell_type": "markdown",
   "metadata": {
    "id": "F7WRZYXQLz8a"
   },
   "source": [
    "**NB!** В колонке user_score есть значение tbd - 'Подлежит определению', то есть на момент выгрузки базы значение было неизвестно. Обработаем его также как и пропуски."
   ]
  },
  {
   "cell_type": "markdown",
   "metadata": {
    "id": "q2YKOHxqBjNS"
   },
   "source": [
    "### 2.3. Обработка пропусков и изменение типов данных <a id=\"change\"></a>"
   ]
  },
  {
   "cell_type": "code",
   "execution_count": 7,
   "metadata": {
    "colab": {
     "base_uri": "https://localhost:8080/"
    },
    "id": "DeED_gyhH3vk",
    "outputId": "0c74780e-86b3-4a27-90a5-65276cdd4790"
   },
   "outputs": [
    {
     "data": {
      "text/plain": [
       "name                  2\n",
       "platform              0\n",
       "year_of_release     269\n",
       "genre                 2\n",
       "na_sales              0\n",
       "eu_sales              0\n",
       "jp_sales              0\n",
       "other_sales           0\n",
       "critic_score       8578\n",
       "user_score         6701\n",
       "rating             6766\n",
       "dtype: int64"
      ]
     },
     "execution_count": 7,
     "metadata": {},
     "output_type": "execute_result"
    }
   ],
   "source": [
    "# Подсчитаем число пропусков в каждой колонке\n",
    "data.isnull().sum()"
   ]
  },
  {
   "cell_type": "markdown",
   "metadata": {
    "id": "5fFOf-nEGC4J"
   },
   "source": [
    "#### 2.3.1.  Колонки name и genre\n",
    "В данных колонках по два пропуска, посмотрим на них.\n",
    "\n"
   ]
  },
  {
   "cell_type": "code",
   "execution_count": 8,
   "metadata": {
    "colab": {
     "base_uri": "https://localhost:8080/",
     "height": 112
    },
    "id": "EaW0ZQPv5mKe",
    "outputId": "bda2dbe3-5ac4-4292-d1b5-82b218426108"
   },
   "outputs": [
    {
     "data": {
      "text/html": [
       "<div>\n",
       "<style scoped>\n",
       "    .dataframe tbody tr th:only-of-type {\n",
       "        vertical-align: middle;\n",
       "    }\n",
       "\n",
       "    .dataframe tbody tr th {\n",
       "        vertical-align: top;\n",
       "    }\n",
       "\n",
       "    .dataframe thead th {\n",
       "        text-align: right;\n",
       "    }\n",
       "</style>\n",
       "<table border=\"1\" class=\"dataframe\">\n",
       "  <thead>\n",
       "    <tr style=\"text-align: right;\">\n",
       "      <th></th>\n",
       "      <th>name</th>\n",
       "      <th>platform</th>\n",
       "      <th>year_of_release</th>\n",
       "      <th>genre</th>\n",
       "      <th>na_sales</th>\n",
       "      <th>eu_sales</th>\n",
       "      <th>jp_sales</th>\n",
       "      <th>other_sales</th>\n",
       "      <th>critic_score</th>\n",
       "      <th>user_score</th>\n",
       "      <th>rating</th>\n",
       "    </tr>\n",
       "  </thead>\n",
       "  <tbody>\n",
       "    <tr>\n",
       "      <th>659</th>\n",
       "      <td>NaN</td>\n",
       "      <td>GEN</td>\n",
       "      <td>1993.0</td>\n",
       "      <td>NaN</td>\n",
       "      <td>1.78</td>\n",
       "      <td>0.53</td>\n",
       "      <td>0.00</td>\n",
       "      <td>0.08</td>\n",
       "      <td>NaN</td>\n",
       "      <td>NaN</td>\n",
       "      <td>NaN</td>\n",
       "    </tr>\n",
       "    <tr>\n",
       "      <th>14244</th>\n",
       "      <td>NaN</td>\n",
       "      <td>GEN</td>\n",
       "      <td>1993.0</td>\n",
       "      <td>NaN</td>\n",
       "      <td>0.00</td>\n",
       "      <td>0.00</td>\n",
       "      <td>0.03</td>\n",
       "      <td>0.00</td>\n",
       "      <td>NaN</td>\n",
       "      <td>NaN</td>\n",
       "      <td>NaN</td>\n",
       "    </tr>\n",
       "  </tbody>\n",
       "</table>\n",
       "</div>"
      ],
      "text/plain": [
       "      name platform  year_of_release genre  na_sales  eu_sales  jp_sales  \\\n",
       "659    NaN      GEN           1993.0   NaN      1.78      0.53      0.00   \n",
       "14244  NaN      GEN           1993.0   NaN      0.00      0.00      0.03   \n",
       "\n",
       "       other_sales  critic_score user_score rating  \n",
       "659           0.08           NaN        NaN    NaN  \n",
       "14244         0.00           NaN        NaN    NaN  "
      ]
     },
     "execution_count": 8,
     "metadata": {},
     "output_type": "execute_result"
    }
   ],
   "source": [
    "data[data['name'].isnull()]"
   ]
  },
  {
   "cell_type": "code",
   "execution_count": 9,
   "metadata": {
    "colab": {
     "base_uri": "https://localhost:8080/",
     "height": 112
    },
    "id": "qUyqQIvI8zvf",
    "outputId": "fadf492e-c417-4546-f179-d97f7504dcb4"
   },
   "outputs": [
    {
     "data": {
      "text/html": [
       "<div>\n",
       "<style scoped>\n",
       "    .dataframe tbody tr th:only-of-type {\n",
       "        vertical-align: middle;\n",
       "    }\n",
       "\n",
       "    .dataframe tbody tr th {\n",
       "        vertical-align: top;\n",
       "    }\n",
       "\n",
       "    .dataframe thead th {\n",
       "        text-align: right;\n",
       "    }\n",
       "</style>\n",
       "<table border=\"1\" class=\"dataframe\">\n",
       "  <thead>\n",
       "    <tr style=\"text-align: right;\">\n",
       "      <th></th>\n",
       "      <th>name</th>\n",
       "      <th>platform</th>\n",
       "      <th>year_of_release</th>\n",
       "      <th>genre</th>\n",
       "      <th>na_sales</th>\n",
       "      <th>eu_sales</th>\n",
       "      <th>jp_sales</th>\n",
       "      <th>other_sales</th>\n",
       "      <th>critic_score</th>\n",
       "      <th>user_score</th>\n",
       "      <th>rating</th>\n",
       "    </tr>\n",
       "  </thead>\n",
       "  <tbody>\n",
       "    <tr>\n",
       "      <th>659</th>\n",
       "      <td>NaN</td>\n",
       "      <td>GEN</td>\n",
       "      <td>1993.0</td>\n",
       "      <td>NaN</td>\n",
       "      <td>1.78</td>\n",
       "      <td>0.53</td>\n",
       "      <td>0.00</td>\n",
       "      <td>0.08</td>\n",
       "      <td>NaN</td>\n",
       "      <td>NaN</td>\n",
       "      <td>NaN</td>\n",
       "    </tr>\n",
       "    <tr>\n",
       "      <th>14244</th>\n",
       "      <td>NaN</td>\n",
       "      <td>GEN</td>\n",
       "      <td>1993.0</td>\n",
       "      <td>NaN</td>\n",
       "      <td>0.00</td>\n",
       "      <td>0.00</td>\n",
       "      <td>0.03</td>\n",
       "      <td>0.00</td>\n",
       "      <td>NaN</td>\n",
       "      <td>NaN</td>\n",
       "      <td>NaN</td>\n",
       "    </tr>\n",
       "  </tbody>\n",
       "</table>\n",
       "</div>"
      ],
      "text/plain": [
       "      name platform  year_of_release genre  na_sales  eu_sales  jp_sales  \\\n",
       "659    NaN      GEN           1993.0   NaN      1.78      0.53      0.00   \n",
       "14244  NaN      GEN           1993.0   NaN      0.00      0.00      0.03   \n",
       "\n",
       "       other_sales  critic_score user_score rating  \n",
       "659           0.08           NaN        NaN    NaN  \n",
       "14244         0.00           NaN        NaN    NaN  "
      ]
     },
     "execution_count": 9,
     "metadata": {},
     "output_type": "execute_result"
    }
   ],
   "source": [
    "data[data['genre'].isnull()]"
   ]
  },
  {
   "cell_type": "markdown",
   "metadata": {
    "id": "nodQ7t4DGcpa"
   },
   "source": [
    "**Вывод** В данных колонках пропуски в одних и техже строках. Пропуски заменить в данном случае нечем (невозможно), поэтому удалим строки, ориентируясь на пропуски в колонке name."
   ]
  },
  {
   "cell_type": "code",
   "execution_count": 10,
   "metadata": {
    "id": "HQsO_lmsBNIu"
   },
   "outputs": [],
   "source": [
    "data = data.dropna(subset=['name'])"
   ]
  },
  {
   "cell_type": "markdown",
   "metadata": {
    "id": "NZR6wDIBHGVB"
   },
   "source": [
    "#### 2.3.2.  Колонка year_of_release    \n",
    "Удалим пропущенные значений, та как 1. их доля не велика - 1,6% наблюдений; 2. Заменить пропуски нечем.    \n",
    "Заменим тип на int."
   ]
  },
  {
   "cell_type": "code",
   "execution_count": 11,
   "metadata": {
    "colab": {
     "base_uri": "https://localhost:8080/"
    },
    "id": "mrDhsxNMGvyl",
    "outputId": "8ab98e37-52a9-4ea3-ccba-550795f5565f"
   },
   "outputs": [
    {
     "name": "stdout",
     "output_type": "stream",
     "text": [
      "<class 'pandas.core.frame.DataFrame'>\n",
      "Int64Index: 16444 entries, 0 to 16714\n",
      "Data columns (total 11 columns):\n",
      " #   Column           Non-Null Count  Dtype  \n",
      "---  ------           --------------  -----  \n",
      " 0   name             16444 non-null  object \n",
      " 1   platform         16444 non-null  object \n",
      " 2   year_of_release  16444 non-null  int32  \n",
      " 3   genre            16444 non-null  object \n",
      " 4   na_sales         16444 non-null  float64\n",
      " 5   eu_sales         16444 non-null  float64\n",
      " 6   jp_sales         16444 non-null  float64\n",
      " 7   other_sales      16444 non-null  float64\n",
      " 8   critic_score     7983 non-null   float64\n",
      " 9   user_score       9839 non-null   object \n",
      " 10  rating           9768 non-null   object \n",
      "dtypes: float64(5), int32(1), object(5)\n",
      "memory usage: 1.4+ MB\n"
     ]
    }
   ],
   "source": [
    "# Удалим пропуски и изменим тип данных\n",
    "data = data.dropna(subset=['year_of_release'])\n",
    "data['year_of_release'] = data['year_of_release'].astype('int')\n",
    "data.info()"
   ]
  },
  {
   "cell_type": "markdown",
   "metadata": {
    "id": "Bv8J0B1UJg_o"
   },
   "source": [
    "#### 2.3.3.  Колонки critic_score, user_score и rating    \n",
    "В колонках большое количество пропусков, но заменить их невозможно (т.к. не ясно чем, медиана, среднее не подойдут) и удалить тоже не возможно, т.к.потеряется большое число наблюдений - поэтому заменим их на значений отличне от данх в колонке. А в колонке user_score, как мы уже отметили есть значение tbd - 'Подлежит определению'. С колонки user_score  и начнём."
   ]
  },
  {
   "cell_type": "code",
   "execution_count": 12,
   "metadata": {
    "colab": {
     "base_uri": "https://localhost:8080/"
    },
    "id": "WAxrj-8mJWlt",
    "outputId": "0fdb1a2d-f5ee-40e6-9884-26f4fd140459"
   },
   "outputs": [
    {
     "data": {
      "text/plain": [
       "2376"
      ]
     },
     "execution_count": 12,
     "metadata": {},
     "output_type": "execute_result"
    }
   ],
   "source": [
    "# Посчитаем число значений tbd в колонке user_score\n",
    "data[data['user_score']=='tbd']['user_score'].count()\n",
    "# значение встречается в 2376 наблюдениях"
   ]
  },
  {
   "cell_type": "code",
   "execution_count": 13,
   "metadata": {
    "id": "x3TeWJxxM398"
   },
   "outputs": [],
   "source": [
    "# С помощью метода to_numeric приведем тип данных колонки user_score к числовому значению, а значения tbd заменим на nan\n",
    "data['user_score'] = pd.to_numeric(data['user_score'], errors='coerce')"
   ]
  },
  {
   "cell_type": "code",
   "execution_count": 14,
   "metadata": {
    "id": "dJyLTFvWOiTy"
   },
   "outputs": [],
   "source": [
    "# NB! Пропуски в колонках critic_score и user_score заменим на -1 (числовое значение отличное от уже имеющихся в колонке), \n",
    "# чтобы в дальнейшем можно было проводить анализ\n",
    "data['critic_score'] = data['critic_score'].fillna(-1)\n",
    "data['user_score'] = data['user_score'].fillna(-1)\n",
    "# Тип данных в колонке critic_score приведм к цельночисленному,\n",
    "# т.к. изучение уникальных значений показало что колонка содержит значений с нулями после точки\n",
    "data['critic_score'] = data['critic_score'].astype('int')"
   ]
  },
  {
   "cell_type": "code",
   "execution_count": 15,
   "metadata": {
    "id": "ADovS7lwPFwi"
   },
   "outputs": [],
   "source": [
    "# Пропуски в колонке rating заменим на 'неизвестен' - 'unknown'\n",
    "data['rating'] = data['rating'].fillna('unknown')"
   ]
  },
  {
   "cell_type": "code",
   "execution_count": 16,
   "metadata": {
    "colab": {
     "base_uri": "https://localhost:8080/"
    },
    "id": "XlTDOFRVP7cR",
    "outputId": "95c1ec17-891e-4f69-aa7f-25cec8c61e12"
   },
   "outputs": [
    {
     "data": {
      "text/plain": [
       "name               0\n",
       "platform           0\n",
       "year_of_release    0\n",
       "genre              0\n",
       "na_sales           0\n",
       "eu_sales           0\n",
       "jp_sales           0\n",
       "other_sales        0\n",
       "critic_score       0\n",
       "user_score         0\n",
       "rating             0\n",
       "dtype: int64"
      ]
     },
     "execution_count": 16,
     "metadata": {},
     "output_type": "execute_result"
    }
   ],
   "source": [
    "# Проверим наличие пропусков\n",
    "data.isnull().sum()\n"
   ]
  },
  {
   "cell_type": "markdown",
   "metadata": {
    "id": "Vcywyf2SRUo0"
   },
   "source": [
    "**Вывод** Пропущенных значений нет"
   ]
  },
  {
   "cell_type": "markdown",
   "metadata": {
    "id": "b4Q7l_x-Sycq"
   },
   "source": [
    "### 2.4. Подсчёт суммарных продаж <a id=\"sum\"></a>"
   ]
  },
  {
   "cell_type": "code",
   "execution_count": 17,
   "metadata": {
    "colab": {
     "base_uri": "https://localhost:8080/",
     "height": 206
    },
    "id": "UB4XhQ7_S49s",
    "outputId": "60c322c8-dfec-4441-c747-031e42e2a122",
    "scrolled": true
   },
   "outputs": [
    {
     "data": {
      "text/html": [
       "<div>\n",
       "<style scoped>\n",
       "    .dataframe tbody tr th:only-of-type {\n",
       "        vertical-align: middle;\n",
       "    }\n",
       "\n",
       "    .dataframe tbody tr th {\n",
       "        vertical-align: top;\n",
       "    }\n",
       "\n",
       "    .dataframe thead th {\n",
       "        text-align: right;\n",
       "    }\n",
       "</style>\n",
       "<table border=\"1\" class=\"dataframe\">\n",
       "  <thead>\n",
       "    <tr style=\"text-align: right;\">\n",
       "      <th></th>\n",
       "      <th>name</th>\n",
       "      <th>platform</th>\n",
       "      <th>year_of_release</th>\n",
       "      <th>genre</th>\n",
       "      <th>na_sales</th>\n",
       "      <th>eu_sales</th>\n",
       "      <th>jp_sales</th>\n",
       "      <th>other_sales</th>\n",
       "      <th>critic_score</th>\n",
       "      <th>user_score</th>\n",
       "      <th>rating</th>\n",
       "      <th>total_sales</th>\n",
       "    </tr>\n",
       "  </thead>\n",
       "  <tbody>\n",
       "    <tr>\n",
       "      <th>0</th>\n",
       "      <td>Wii Sports</td>\n",
       "      <td>Wii</td>\n",
       "      <td>2006</td>\n",
       "      <td>Sports</td>\n",
       "      <td>41.36</td>\n",
       "      <td>28.96</td>\n",
       "      <td>3.77</td>\n",
       "      <td>8.45</td>\n",
       "      <td>76</td>\n",
       "      <td>8.0</td>\n",
       "      <td>E</td>\n",
       "      <td>82.54</td>\n",
       "    </tr>\n",
       "    <tr>\n",
       "      <th>1</th>\n",
       "      <td>Super Mario Bros.</td>\n",
       "      <td>NES</td>\n",
       "      <td>1985</td>\n",
       "      <td>Platform</td>\n",
       "      <td>29.08</td>\n",
       "      <td>3.58</td>\n",
       "      <td>6.81</td>\n",
       "      <td>0.77</td>\n",
       "      <td>-1</td>\n",
       "      <td>-1.0</td>\n",
       "      <td>unknown</td>\n",
       "      <td>40.24</td>\n",
       "    </tr>\n",
       "    <tr>\n",
       "      <th>2</th>\n",
       "      <td>Mario Kart Wii</td>\n",
       "      <td>Wii</td>\n",
       "      <td>2008</td>\n",
       "      <td>Racing</td>\n",
       "      <td>15.68</td>\n",
       "      <td>12.76</td>\n",
       "      <td>3.79</td>\n",
       "      <td>3.29</td>\n",
       "      <td>82</td>\n",
       "      <td>8.3</td>\n",
       "      <td>E</td>\n",
       "      <td>35.52</td>\n",
       "    </tr>\n",
       "    <tr>\n",
       "      <th>3</th>\n",
       "      <td>Wii Sports Resort</td>\n",
       "      <td>Wii</td>\n",
       "      <td>2009</td>\n",
       "      <td>Sports</td>\n",
       "      <td>15.61</td>\n",
       "      <td>10.93</td>\n",
       "      <td>3.28</td>\n",
       "      <td>2.95</td>\n",
       "      <td>80</td>\n",
       "      <td>8.0</td>\n",
       "      <td>E</td>\n",
       "      <td>32.77</td>\n",
       "    </tr>\n",
       "    <tr>\n",
       "      <th>4</th>\n",
       "      <td>Pokemon Red/Pokemon Blue</td>\n",
       "      <td>GB</td>\n",
       "      <td>1996</td>\n",
       "      <td>Role-Playing</td>\n",
       "      <td>11.27</td>\n",
       "      <td>8.89</td>\n",
       "      <td>10.22</td>\n",
       "      <td>1.00</td>\n",
       "      <td>-1</td>\n",
       "      <td>-1.0</td>\n",
       "      <td>unknown</td>\n",
       "      <td>31.38</td>\n",
       "    </tr>\n",
       "  </tbody>\n",
       "</table>\n",
       "</div>"
      ],
      "text/plain": [
       "                       name platform  year_of_release         genre  na_sales  \\\n",
       "0                Wii Sports      Wii             2006        Sports     41.36   \n",
       "1         Super Mario Bros.      NES             1985      Platform     29.08   \n",
       "2            Mario Kart Wii      Wii             2008        Racing     15.68   \n",
       "3         Wii Sports Resort      Wii             2009        Sports     15.61   \n",
       "4  Pokemon Red/Pokemon Blue       GB             1996  Role-Playing     11.27   \n",
       "\n",
       "   eu_sales  jp_sales  other_sales  critic_score  user_score   rating  \\\n",
       "0     28.96      3.77         8.45            76         8.0        E   \n",
       "1      3.58      6.81         0.77            -1        -1.0  unknown   \n",
       "2     12.76      3.79         3.29            82         8.3        E   \n",
       "3     10.93      3.28         2.95            80         8.0        E   \n",
       "4      8.89     10.22         1.00            -1        -1.0  unknown   \n",
       "\n",
       "   total_sales  \n",
       "0        82.54  \n",
       "1        40.24  \n",
       "2        35.52  \n",
       "3        32.77  \n",
       "4        31.38  "
      ]
     },
     "execution_count": 17,
     "metadata": {},
     "output_type": "execute_result"
    }
   ],
   "source": [
    "# Создадим новую колонку total_sales в которую суммриуем продажи по регионам и выведем 5 строк обновлённого датасета на экран\n",
    "data['total_sales'] = data[['na_sales', 'eu_sales', 'jp_sales', 'other_sales']].sum(axis = 1)\n",
    "data.head()"
   ]
  },
  {
   "cell_type": "markdown",
   "metadata": {
    "id": "UYQCvTfoUTB4"
   },
   "source": [
    "---"
   ]
  },
  {
   "cell_type": "markdown",
   "metadata": {
    "id": "WgLl0bZrUU3M"
   },
   "source": [
    "## 3. Исследовательский анализ данных <a id=\"analysis\"></a>   \n",
    "**Задачи:**    \n",
    "* Посмотрите, сколько игр выпускалось в разные годы. Важны ли данные за все\n",
    "периоды?   \n",
    "* Посмотрите, как менялись продажи по платформам. Выберите платформы с\n",
    "наибольшими суммарными продажами и постройте распределение по годам. За\n",
    "какой характерный срок появляются новые и исчезают старые платформы?   \n",
    "* Возьмите данные за соответствующий актуальный период. Актуальный\n",
    "период определите самостоятельно в результате исследования предыдущих\n",
    "вопросов. Основной фактор — эти данные помогут построить прогноз на 2017\n",
    "год.   \n",
    "* Не учитывайте в работе данные за предыдущие годы.    \n",
    "* Какие платформы лидируют по продажам, растут или падают? Выберите\n",
    "несколько потенциально прибыльных платформ.   \n",
    "* Постройте график «ящик с усами» по глобальным продажам игр в разбивке по\n",
    "платформам. Опишите результат.   \n",
    "* Посмотрите, как влияют на продажи внутри одной популярной платформы\n",
    "отзывы пользователей и критиков. Постройте диаграмму рассеяния и\n",
    "посчитайте корреляцию между отзывами и продажами. Сформулируйте\n",
    "выводы.   \n",
    "* Соотнесите выводы с продажами игр на других платформах.   \n",
    "* Посмотрите на общее распределение игр по жанрам. Что можно сказать о\n",
    "самых прибыльных жанрах? Выделяются ли жанры с высокими и низкими\n",
    "продажами?   \n",
    "\n"
   ]
  },
  {
   "cell_type": "code",
   "execution_count": 18,
   "metadata": {
    "colab": {
     "base_uri": "https://localhost:8080/",
     "height": 300
    },
    "id": "dkepdc1L2Erc",
    "outputId": "b0d2d6a8-214d-40b4-fc0e-9dd9842cb834"
   },
   "outputs": [
    {
     "data": {
      "text/html": [
       "<div>\n",
       "<style scoped>\n",
       "    .dataframe tbody tr th:only-of-type {\n",
       "        vertical-align: middle;\n",
       "    }\n",
       "\n",
       "    .dataframe tbody tr th {\n",
       "        vertical-align: top;\n",
       "    }\n",
       "\n",
       "    .dataframe thead th {\n",
       "        text-align: right;\n",
       "    }\n",
       "</style>\n",
       "<table border=\"1\" class=\"dataframe\">\n",
       "  <thead>\n",
       "    <tr style=\"text-align: right;\">\n",
       "      <th></th>\n",
       "      <th>year_of_release</th>\n",
       "      <th>na_sales</th>\n",
       "      <th>eu_sales</th>\n",
       "      <th>jp_sales</th>\n",
       "      <th>other_sales</th>\n",
       "      <th>critic_score</th>\n",
       "      <th>user_score</th>\n",
       "      <th>total_sales</th>\n",
       "    </tr>\n",
       "  </thead>\n",
       "  <tbody>\n",
       "    <tr>\n",
       "      <th>count</th>\n",
       "      <td>16444.000000</td>\n",
       "      <td>16444.000000</td>\n",
       "      <td>16444.000000</td>\n",
       "      <td>16444.000000</td>\n",
       "      <td>16444.000000</td>\n",
       "      <td>16444.000000</td>\n",
       "      <td>16444.000000</td>\n",
       "      <td>16444.000000</td>\n",
       "    </tr>\n",
       "    <tr>\n",
       "      <th>mean</th>\n",
       "      <td>2006.486256</td>\n",
       "      <td>0.264012</td>\n",
       "      <td>0.145930</td>\n",
       "      <td>0.078487</td>\n",
       "      <td>0.047594</td>\n",
       "      <td>32.979871</td>\n",
       "      <td>2.688081</td>\n",
       "      <td>0.536023</td>\n",
       "    </tr>\n",
       "    <tr>\n",
       "      <th>std</th>\n",
       "      <td>5.875525</td>\n",
       "      <td>0.818378</td>\n",
       "      <td>0.506716</td>\n",
       "      <td>0.311100</td>\n",
       "      <td>0.188005</td>\n",
       "      <td>36.302947</td>\n",
       "      <td>4.170124</td>\n",
       "      <td>1.558786</td>\n",
       "    </tr>\n",
       "    <tr>\n",
       "      <th>min</th>\n",
       "      <td>1980.000000</td>\n",
       "      <td>0.000000</td>\n",
       "      <td>0.000000</td>\n",
       "      <td>0.000000</td>\n",
       "      <td>0.000000</td>\n",
       "      <td>-1.000000</td>\n",
       "      <td>-1.000000</td>\n",
       "      <td>0.000000</td>\n",
       "    </tr>\n",
       "    <tr>\n",
       "      <th>25%</th>\n",
       "      <td>2003.000000</td>\n",
       "      <td>0.000000</td>\n",
       "      <td>0.000000</td>\n",
       "      <td>0.000000</td>\n",
       "      <td>0.000000</td>\n",
       "      <td>-1.000000</td>\n",
       "      <td>-1.000000</td>\n",
       "      <td>0.060000</td>\n",
       "    </tr>\n",
       "    <tr>\n",
       "      <th>50%</th>\n",
       "      <td>2007.000000</td>\n",
       "      <td>0.080000</td>\n",
       "      <td>0.020000</td>\n",
       "      <td>0.000000</td>\n",
       "      <td>0.010000</td>\n",
       "      <td>-1.000000</td>\n",
       "      <td>-1.000000</td>\n",
       "      <td>0.170000</td>\n",
       "    </tr>\n",
       "    <tr>\n",
       "      <th>75%</th>\n",
       "      <td>2010.000000</td>\n",
       "      <td>0.240000</td>\n",
       "      <td>0.110000</td>\n",
       "      <td>0.040000</td>\n",
       "      <td>0.030000</td>\n",
       "      <td>70.000000</td>\n",
       "      <td>7.300000</td>\n",
       "      <td>0.470000</td>\n",
       "    </tr>\n",
       "    <tr>\n",
       "      <th>max</th>\n",
       "      <td>2016.000000</td>\n",
       "      <td>41.360000</td>\n",
       "      <td>28.960000</td>\n",
       "      <td>10.220000</td>\n",
       "      <td>10.570000</td>\n",
       "      <td>98.000000</td>\n",
       "      <td>9.700000</td>\n",
       "      <td>82.540000</td>\n",
       "    </tr>\n",
       "  </tbody>\n",
       "</table>\n",
       "</div>"
      ],
      "text/plain": [
       "       year_of_release      na_sales      eu_sales      jp_sales  \\\n",
       "count     16444.000000  16444.000000  16444.000000  16444.000000   \n",
       "mean       2006.486256      0.264012      0.145930      0.078487   \n",
       "std           5.875525      0.818378      0.506716      0.311100   \n",
       "min        1980.000000      0.000000      0.000000      0.000000   \n",
       "25%        2003.000000      0.000000      0.000000      0.000000   \n",
       "50%        2007.000000      0.080000      0.020000      0.000000   \n",
       "75%        2010.000000      0.240000      0.110000      0.040000   \n",
       "max        2016.000000     41.360000     28.960000     10.220000   \n",
       "\n",
       "        other_sales  critic_score    user_score   total_sales  \n",
       "count  16444.000000  16444.000000  16444.000000  16444.000000  \n",
       "mean       0.047594     32.979871      2.688081      0.536023  \n",
       "std        0.188005     36.302947      4.170124      1.558786  \n",
       "min        0.000000     -1.000000     -1.000000      0.000000  \n",
       "25%        0.000000     -1.000000     -1.000000      0.060000  \n",
       "50%        0.010000     -1.000000     -1.000000      0.170000  \n",
       "75%        0.030000     70.000000      7.300000      0.470000  \n",
       "max       10.570000     98.000000      9.700000     82.540000  "
      ]
     },
     "execution_count": 18,
     "metadata": {},
     "output_type": "execute_result"
    }
   ],
   "source": [
    "# Посмотрим нет ли в колонках аномальных значений - сильно выбивающихся в низ или вверх\n",
    "data.describe()\n",
    "# -1 - это наша замена NaN"
   ]
  },
  {
   "cell_type": "markdown",
   "metadata": {
    "id": "Zj-c14ZyUsk0"
   },
   "source": [
    "### 3.1. Выпуск игр по годам <a id=\"year\"></a>"
   ]
  },
  {
   "cell_type": "code",
   "execution_count": 19,
   "metadata": {
    "colab": {
     "base_uri": "https://localhost:8080/",
     "height": 1000
    },
    "id": "_jD3L5i7TYwx",
    "outputId": "0712fe12-6a84-487b-8dec-3b7f0295c389"
   },
   "outputs": [
    {
     "data": {
      "text/html": [
       "<div>\n",
       "<style scoped>\n",
       "    .dataframe tbody tr th:only-of-type {\n",
       "        vertical-align: middle;\n",
       "    }\n",
       "\n",
       "    .dataframe tbody tr th {\n",
       "        vertical-align: top;\n",
       "    }\n",
       "\n",
       "    .dataframe thead th {\n",
       "        text-align: right;\n",
       "    }\n",
       "</style>\n",
       "<table border=\"1\" class=\"dataframe\">\n",
       "  <thead>\n",
       "    <tr style=\"text-align: right;\">\n",
       "      <th></th>\n",
       "      <th>count_of_games</th>\n",
       "    </tr>\n",
       "    <tr>\n",
       "      <th>year_of_release</th>\n",
       "      <th></th>\n",
       "    </tr>\n",
       "  </thead>\n",
       "  <tbody>\n",
       "    <tr>\n",
       "      <th>1980</th>\n",
       "      <td>9</td>\n",
       "    </tr>\n",
       "    <tr>\n",
       "      <th>1981</th>\n",
       "      <td>46</td>\n",
       "    </tr>\n",
       "    <tr>\n",
       "      <th>1982</th>\n",
       "      <td>36</td>\n",
       "    </tr>\n",
       "    <tr>\n",
       "      <th>1983</th>\n",
       "      <td>17</td>\n",
       "    </tr>\n",
       "    <tr>\n",
       "      <th>1984</th>\n",
       "      <td>14</td>\n",
       "    </tr>\n",
       "    <tr>\n",
       "      <th>1985</th>\n",
       "      <td>14</td>\n",
       "    </tr>\n",
       "    <tr>\n",
       "      <th>1986</th>\n",
       "      <td>21</td>\n",
       "    </tr>\n",
       "    <tr>\n",
       "      <th>1987</th>\n",
       "      <td>16</td>\n",
       "    </tr>\n",
       "    <tr>\n",
       "      <th>1988</th>\n",
       "      <td>15</td>\n",
       "    </tr>\n",
       "    <tr>\n",
       "      <th>1989</th>\n",
       "      <td>17</td>\n",
       "    </tr>\n",
       "    <tr>\n",
       "      <th>1990</th>\n",
       "      <td>16</td>\n",
       "    </tr>\n",
       "    <tr>\n",
       "      <th>1991</th>\n",
       "      <td>41</td>\n",
       "    </tr>\n",
       "    <tr>\n",
       "      <th>1992</th>\n",
       "      <td>43</td>\n",
       "    </tr>\n",
       "    <tr>\n",
       "      <th>1993</th>\n",
       "      <td>60</td>\n",
       "    </tr>\n",
       "    <tr>\n",
       "      <th>1994</th>\n",
       "      <td>121</td>\n",
       "    </tr>\n",
       "    <tr>\n",
       "      <th>1995</th>\n",
       "      <td>219</td>\n",
       "    </tr>\n",
       "    <tr>\n",
       "      <th>1996</th>\n",
       "      <td>263</td>\n",
       "    </tr>\n",
       "    <tr>\n",
       "      <th>1997</th>\n",
       "      <td>289</td>\n",
       "    </tr>\n",
       "    <tr>\n",
       "      <th>1998</th>\n",
       "      <td>379</td>\n",
       "    </tr>\n",
       "    <tr>\n",
       "      <th>1999</th>\n",
       "      <td>338</td>\n",
       "    </tr>\n",
       "    <tr>\n",
       "      <th>2000</th>\n",
       "      <td>350</td>\n",
       "    </tr>\n",
       "    <tr>\n",
       "      <th>2001</th>\n",
       "      <td>482</td>\n",
       "    </tr>\n",
       "    <tr>\n",
       "      <th>2002</th>\n",
       "      <td>829</td>\n",
       "    </tr>\n",
       "    <tr>\n",
       "      <th>2003</th>\n",
       "      <td>775</td>\n",
       "    </tr>\n",
       "    <tr>\n",
       "      <th>2004</th>\n",
       "      <td>762</td>\n",
       "    </tr>\n",
       "    <tr>\n",
       "      <th>2005</th>\n",
       "      <td>939</td>\n",
       "    </tr>\n",
       "    <tr>\n",
       "      <th>2006</th>\n",
       "      <td>1006</td>\n",
       "    </tr>\n",
       "    <tr>\n",
       "      <th>2007</th>\n",
       "      <td>1197</td>\n",
       "    </tr>\n",
       "    <tr>\n",
       "      <th>2008</th>\n",
       "      <td>1427</td>\n",
       "    </tr>\n",
       "    <tr>\n",
       "      <th>2009</th>\n",
       "      <td>1426</td>\n",
       "    </tr>\n",
       "    <tr>\n",
       "      <th>2010</th>\n",
       "      <td>1255</td>\n",
       "    </tr>\n",
       "    <tr>\n",
       "      <th>2011</th>\n",
       "      <td>1136</td>\n",
       "    </tr>\n",
       "    <tr>\n",
       "      <th>2012</th>\n",
       "      <td>653</td>\n",
       "    </tr>\n",
       "    <tr>\n",
       "      <th>2013</th>\n",
       "      <td>544</td>\n",
       "    </tr>\n",
       "    <tr>\n",
       "      <th>2014</th>\n",
       "      <td>581</td>\n",
       "    </tr>\n",
       "    <tr>\n",
       "      <th>2015</th>\n",
       "      <td>606</td>\n",
       "    </tr>\n",
       "    <tr>\n",
       "      <th>2016</th>\n",
       "      <td>502</td>\n",
       "    </tr>\n",
       "  </tbody>\n",
       "</table>\n",
       "</div>"
      ],
      "text/plain": [
       "                 count_of_games\n",
       "year_of_release                \n",
       "1980                          9\n",
       "1981                         46\n",
       "1982                         36\n",
       "1983                         17\n",
       "1984                         14\n",
       "1985                         14\n",
       "1986                         21\n",
       "1987                         16\n",
       "1988                         15\n",
       "1989                         17\n",
       "1990                         16\n",
       "1991                         41\n",
       "1992                         43\n",
       "1993                         60\n",
       "1994                        121\n",
       "1995                        219\n",
       "1996                        263\n",
       "1997                        289\n",
       "1998                        379\n",
       "1999                        338\n",
       "2000                        350\n",
       "2001                        482\n",
       "2002                        829\n",
       "2003                        775\n",
       "2004                        762\n",
       "2005                        939\n",
       "2006                       1006\n",
       "2007                       1197\n",
       "2008                       1427\n",
       "2009                       1426\n",
       "2010                       1255\n",
       "2011                       1136\n",
       "2012                        653\n",
       "2013                        544\n",
       "2014                        581\n",
       "2015                        606\n",
       "2016                        502"
      ]
     },
     "metadata": {},
     "output_type": "display_data"
    }
   ],
   "source": [
    "# Создадим соводную таблицу с числом игр, вышедших в каждом году\n",
    "games_year_pivot = data.pivot_table(index='year_of_release', aggfunc={'name':'count'})\n",
    "games_year_pivot.columns = ['count_of_games'] # Дадим колонке с числом игр имя\n",
    "display(games_year_pivot)"
   ]
  },
  {
   "cell_type": "code",
   "execution_count": 20,
   "metadata": {
    "colab": {
     "base_uri": "https://localhost:8080/",
     "height": 496
    },
    "id": "zn1xgOiOVrEI",
    "outputId": "c76d3b20-15e3-4bdb-d1b6-f6b7d72854ab"
   },
   "outputs": [
    {
     "name": "stdout",
     "output_type": "stream",
     "text": [
      "Распределение игр по годам\n"
     ]
    },
    {
     "data": {
      "image/png": "[encoded data removed]",
      "text/plain": [
       "<Figure size 864x504 with 1 Axes>"
      ]
     },
     "metadata": {
      "needs_background": "light"
     },
     "output_type": "display_data"
    }
   ],
   "source": [
    "# Для нагладности визуализируем данные - построим график распределения количества выпущенных игр по годам\n",
    "games_year_pivot.plot(y='count_of_games', kind='bar', figsize=(12, 7), legend=False, alpha=0.8)\n",
    "plt.title(label='Выпуск игр в 1980 - 2016 годах', fontsize=16)\n",
    "plt.xlabel('Год выпуска игр', fontsize=12)\n",
    "plt.ylabel('Количество игр, ед.', fontsize=12)\n",
    "print('Распределение игр по годам')"
   ]
  },
  {
   "cell_type": "markdown",
   "metadata": {
    "id": "-3zpsZcDYDVq"
   },
   "source": [
    "**Вывод** Выпуск игра резко пошел в верх в 1993 году (вышел первый Doom) и в 2008-2009 году достиг пика (годы финансового кризиса), после чего последовал спад выпуска игр длившийся до 2013 года (наверное последствия рецессии экономики США после 2008 года). Был спад выпуcка в 1999-2000 годах - возможно т.к. лопнул 'пузырь доткомов'. В последующие годы количество выпускаемых ежегодно игр так и не достигло пиковых значений.    \n",
    "**NB!** Глядя на график можно выделить период можно выделить период последних 5 лет (2012 - 2016) - рынок игр пришёл к какому-то новому, относительно прежних лет, состоянию - почему не знаю, не эксперт в этой теме."
   ]
  },
  {
   "cell_type": "markdown",
   "metadata": {
    "id": "v3yoTrYBa3hO"
   },
   "source": [
    "### 3.2. Продажи игр по платформам <a id=\"platform\"></a>\n",
    "\n"
   ]
  },
  {
   "cell_type": "code",
   "execution_count": 21,
   "metadata": {
    "colab": {
     "base_uri": "https://localhost:8080/",
     "height": 363
    },
    "id": "vR7g0rQ9ZOWQ",
    "outputId": "4e052a12-a994-41f8-87af-48761c2c266c",
    "scrolled": true
   },
   "outputs": [
    {
     "data": {
      "text/html": [
       "<div>\n",
       "<style scoped>\n",
       "    .dataframe tbody tr th:only-of-type {\n",
       "        vertical-align: middle;\n",
       "    }\n",
       "\n",
       "    .dataframe tbody tr th {\n",
       "        vertical-align: top;\n",
       "    }\n",
       "\n",
       "    .dataframe thead th {\n",
       "        text-align: right;\n",
       "    }\n",
       "</style>\n",
       "<table border=\"1\" class=\"dataframe\">\n",
       "  <thead>\n",
       "    <tr style=\"text-align: right;\">\n",
       "      <th></th>\n",
       "      <th>platform</th>\n",
       "      <th>total_sales</th>\n",
       "    </tr>\n",
       "  </thead>\n",
       "  <tbody>\n",
       "    <tr>\n",
       "      <th>0</th>\n",
       "      <td>PS2</td>\n",
       "      <td>1233.56</td>\n",
       "    </tr>\n",
       "    <tr>\n",
       "      <th>1</th>\n",
       "      <td>X360</td>\n",
       "      <td>961.24</td>\n",
       "    </tr>\n",
       "    <tr>\n",
       "      <th>2</th>\n",
       "      <td>PS3</td>\n",
       "      <td>931.34</td>\n",
       "    </tr>\n",
       "    <tr>\n",
       "      <th>3</th>\n",
       "      <td>Wii</td>\n",
       "      <td>891.18</td>\n",
       "    </tr>\n",
       "    <tr>\n",
       "      <th>4</th>\n",
       "      <td>DS</td>\n",
       "      <td>802.78</td>\n",
       "    </tr>\n",
       "    <tr>\n",
       "      <th>5</th>\n",
       "      <td>PS</td>\n",
       "      <td>727.58</td>\n",
       "    </tr>\n",
       "    <tr>\n",
       "      <th>6</th>\n",
       "      <td>PS4</td>\n",
       "      <td>314.14</td>\n",
       "    </tr>\n",
       "    <tr>\n",
       "      <th>7</th>\n",
       "      <td>GBA</td>\n",
       "      <td>312.88</td>\n",
       "    </tr>\n",
       "    <tr>\n",
       "      <th>8</th>\n",
       "      <td>PSP</td>\n",
       "      <td>289.53</td>\n",
       "    </tr>\n",
       "    <tr>\n",
       "      <th>9</th>\n",
       "      <td>3DS</td>\n",
       "      <td>257.81</td>\n",
       "    </tr>\n",
       "  </tbody>\n",
       "</table>\n",
       "</div>"
      ],
      "text/plain": [
       "  platform  total_sales\n",
       "0      PS2      1233.56\n",
       "1     X360       961.24\n",
       "2      PS3       931.34\n",
       "3      Wii       891.18\n",
       "4       DS       802.78\n",
       "5       PS       727.58\n",
       "6      PS4       314.14\n",
       "7      GBA       312.88\n",
       "8      PSP       289.53\n",
       "9      3DS       257.81"
      ]
     },
     "metadata": {},
     "output_type": "display_data"
    }
   ],
   "source": [
    "# Посмтрим топ-10 палатформ по суммарному объму продаж игр\n",
    "platform_pivot = (data.pivot_table(index=['platform'], aggfunc={'total_sales':sum}).nlargest(10, columns='total_sales'))\n",
    "display((platform_pivot).reset_index())"
   ]
  },
  {
   "cell_type": "code",
   "execution_count": 22,
   "metadata": {},
   "outputs": [
    {
     "name": "stdout",
     "output_type": "stream",
     "text": [
      "Продажи игр по платформам\n"
     ]
    },
    {
     "data": {
      "image/png": "[encoded data removed]",
      "text/plain": [
       "<Figure size 864x504 with 1 Axes>"
      ]
     },
     "metadata": {
      "needs_background": "light"
     },
     "output_type": "display_data"
    }
   ],
   "source": [
    "platform_pivot.plot(y='total_sales', kind='bar', figsize=(12, 7), legend=False, alpha=0.8)\n",
    "plt.title(label=' Продажи игр по платформам ', fontsize=16)\n",
    "plt.xlabel('Платформа', fontsize=12)\n",
    "plt.ylabel('Количество игр, ед.', fontsize=12)\n",
    "print('Продажи игр по платформам')"
   ]
  },
  {
   "cell_type": "code",
   "execution_count": 23,
   "metadata": {
    "id": "21Zv71CAbP7C"
   },
   "outputs": [],
   "source": [
    "top_10_platform = data.query('platform in @platform_pivot.index')\n",
    "#top_10_platform "
   ]
  },
  {
   "cell_type": "code",
   "execution_count": 24,
   "metadata": {
    "colab": {
     "base_uri": "https://localhost:8080/",
     "height": 1000
    },
    "id": "GXZ86dT0cav6",
    "outputId": "f4ae085f-5c11-44fa-b851-5a6ddac05c8c"
   },
   "outputs": [
    {
     "data": {
      "image/png": "[encoded data removed]",
      "text/plain": [
       "<Figure size 432x288 with 1 Axes>"
      ]
     },
     "metadata": {
      "needs_background": "light"
     },
     "output_type": "display_data"
    },
    {
     "data": {
      "image/png": "[encoded data removed]",
      "text/plain": [
       "<Figure size 432x288 with 1 Axes>"
      ]
     },
     "metadata": {
      "needs_background": "light"
     },
     "output_type": "display_data"
    },
    {
     "data": {
      "image/png": "[encoded data removed]",
      "text/plain": [
       "<Figure size 432x288 with 1 Axes>"
      ]
     },
     "metadata": {
      "needs_background": "light"
     },
     "output_type": "display_data"
    },
    {
     "data": {
      "image/png": "[encoded data removed]",
      "text/plain": [
       "<Figure size 432x288 with 1 Axes>"
      ]
     },
     "metadata": {
      "needs_background": "light"
     },
     "output_type": "display_data"
    },
    {
     "data": {
      "image/png": "[encoded data removed]",
      "text/plain": [
       "<Figure size 432x288 with 1 Axes>"
      ]
     },
     "metadata": {
      "needs_background": "light"
     },
     "output_type": "display_data"
    },
    {
     "data": {
      "image/png": "[encoded data removed]",
      "text/plain": [
       "<Figure size 432x288 with 1 Axes>"
      ]
     },
     "metadata": {
      "needs_background": "light"
     },
     "output_type": "display_data"
    },
    {
     "data": {
      "image/png": "[encoded data removed]",
      "text/plain": [
       "<Figure size 432x288 with 1 Axes>"
      ]
     },
     "metadata": {
      "needs_background": "light"
     },
     "output_type": "display_data"
    },
    {
     "data": {
      "image/png": "[encoded data removed]",
      "text/plain": [
       "<Figure size 432x288 with 1 Axes>"
      ]
     },
     "metadata": {
      "needs_background": "light"
     },
     "output_type": "display_data"
    },
    {
     "data": {
      "image/png": "[encoded data removed]",
      "text/plain": [
       "<Figure size 432x288 with 1 Axes>"
      ]
     },
     "metadata": {
      "needs_background": "light"
     },
     "output_type": "display_data"
    },
    {
     "data": {
      "image/png": "[encoded data removed]",
      "text/plain": [
       "<Figure size 432x288 with 1 Axes>"
      ]
     },
     "metadata": {
      "needs_background": "light"
     },
     "output_type": "display_data"
    }
   ],
   "source": [
    "platforms = top_10_platform['platform'].unique()\n",
    "years_list = []\n",
    "for i in range(1980, 2017):\n",
    "    years_list.append(i)\n",
    "for elem in range(0, len(platforms)):\n",
    "    top_10_platform[top_10_platform['platform'] == platforms[elem]].plot(kind='hist', bins=years_list, legend=False, grid=True, alpha=0.8)\n",
    "    plt.title(label=platforms[elem], fontsize=14)\n",
    "    plt.xlabel('Год выпуска игр')\n",
    "    plt.ylabel('Число игр')"
   ]
  },
  {
   "cell_type": "markdown",
   "metadata": {
    "id": "yIObneVTLkH9"
   },
   "source": [
    "**Вывод** Из гистограмм видно , что среди топ-10 платформ по объёму продаж игр есть те, пик популярности которых уже прошёл - PS и PS2, GB; есть угасающие - PS3, PSP, Wii и X360; есть набирающие популярность - PS4 (вышла в 2013 году).   \n",
    "\n",
    "Посмотрим 'срок жизни' платформ из нашей базы - время между выпуском первой и последней игры для них."
   ]
  },
  {
   "cell_type": "markdown",
   "metadata": {
    "id": "sCPwiSg-R9Gr"
   },
   "source": [
    "### 3.3. 'Время жизни' платформ <a id=\"lifetime\"></a>"
   ]
  },
  {
   "cell_type": "code",
   "execution_count": 25,
   "metadata": {
    "colab": {
     "base_uri": "https://localhost:8080/",
     "height": 1000
    },
    "id": "FR2sE1Jgdnyi",
    "outputId": "5b8365b5-b7f7-4928-efdc-56629c6c9f0f"
   },
   "outputs": [
    {
     "data": {
      "text/html": [
       "<div>\n",
       "<style scoped>\n",
       "    .dataframe tbody tr th:only-of-type {\n",
       "        vertical-align: middle;\n",
       "    }\n",
       "\n",
       "    .dataframe tbody tr th {\n",
       "        vertical-align: top;\n",
       "    }\n",
       "\n",
       "    .dataframe thead th {\n",
       "        text-align: right;\n",
       "    }\n",
       "</style>\n",
       "<table border=\"1\" class=\"dataframe\">\n",
       "  <thead>\n",
       "    <tr style=\"text-align: right;\">\n",
       "      <th></th>\n",
       "      <th>platform</th>\n",
       "      <th>1st</th>\n",
       "      <th>last</th>\n",
       "      <th>duration</th>\n",
       "    </tr>\n",
       "  </thead>\n",
       "  <tbody>\n",
       "    <tr>\n",
       "      <th>0</th>\n",
       "      <td>PC</td>\n",
       "      <td>1985</td>\n",
       "      <td>2016</td>\n",
       "      <td>31</td>\n",
       "    </tr>\n",
       "    <tr>\n",
       "      <th>1</th>\n",
       "      <td>DS</td>\n",
       "      <td>1985</td>\n",
       "      <td>2013</td>\n",
       "      <td>28</td>\n",
       "    </tr>\n",
       "    <tr>\n",
       "      <th>2</th>\n",
       "      <td>GB</td>\n",
       "      <td>1988</td>\n",
       "      <td>2001</td>\n",
       "      <td>13</td>\n",
       "    </tr>\n",
       "    <tr>\n",
       "      <th>3</th>\n",
       "      <td>X360</td>\n",
       "      <td>2005</td>\n",
       "      <td>2016</td>\n",
       "      <td>11</td>\n",
       "    </tr>\n",
       "    <tr>\n",
       "      <th>4</th>\n",
       "      <td>PSP</td>\n",
       "      <td>2004</td>\n",
       "      <td>2015</td>\n",
       "      <td>11</td>\n",
       "    </tr>\n",
       "    <tr>\n",
       "      <th>5</th>\n",
       "      <td>PS2</td>\n",
       "      <td>2000</td>\n",
       "      <td>2011</td>\n",
       "      <td>11</td>\n",
       "    </tr>\n",
       "    <tr>\n",
       "      <th>6</th>\n",
       "      <td>NES</td>\n",
       "      <td>1983</td>\n",
       "      <td>1994</td>\n",
       "      <td>11</td>\n",
       "    </tr>\n",
       "    <tr>\n",
       "      <th>7</th>\n",
       "      <td>DC</td>\n",
       "      <td>1998</td>\n",
       "      <td>2008</td>\n",
       "      <td>10</td>\n",
       "    </tr>\n",
       "    <tr>\n",
       "      <th>8</th>\n",
       "      <td>Wii</td>\n",
       "      <td>2006</td>\n",
       "      <td>2016</td>\n",
       "      <td>10</td>\n",
       "    </tr>\n",
       "    <tr>\n",
       "      <th>9</th>\n",
       "      <td>PS3</td>\n",
       "      <td>2006</td>\n",
       "      <td>2016</td>\n",
       "      <td>10</td>\n",
       "    </tr>\n",
       "    <tr>\n",
       "      <th>10</th>\n",
       "      <td>2600</td>\n",
       "      <td>1980</td>\n",
       "      <td>1989</td>\n",
       "      <td>9</td>\n",
       "    </tr>\n",
       "    <tr>\n",
       "      <th>11</th>\n",
       "      <td>SNES</td>\n",
       "      <td>1990</td>\n",
       "      <td>1999</td>\n",
       "      <td>9</td>\n",
       "    </tr>\n",
       "    <tr>\n",
       "      <th>12</th>\n",
       "      <td>PS</td>\n",
       "      <td>1994</td>\n",
       "      <td>2003</td>\n",
       "      <td>9</td>\n",
       "    </tr>\n",
       "    <tr>\n",
       "      <th>13</th>\n",
       "      <td>XB</td>\n",
       "      <td>2000</td>\n",
       "      <td>2008</td>\n",
       "      <td>8</td>\n",
       "    </tr>\n",
       "    <tr>\n",
       "      <th>14</th>\n",
       "      <td>GBA</td>\n",
       "      <td>2000</td>\n",
       "      <td>2007</td>\n",
       "      <td>7</td>\n",
       "    </tr>\n",
       "    <tr>\n",
       "      <th>15</th>\n",
       "      <td>GC</td>\n",
       "      <td>2001</td>\n",
       "      <td>2007</td>\n",
       "      <td>6</td>\n",
       "    </tr>\n",
       "    <tr>\n",
       "      <th>16</th>\n",
       "      <td>N64</td>\n",
       "      <td>1996</td>\n",
       "      <td>2002</td>\n",
       "      <td>6</td>\n",
       "    </tr>\n",
       "    <tr>\n",
       "      <th>17</th>\n",
       "      <td>3DS</td>\n",
       "      <td>2011</td>\n",
       "      <td>2016</td>\n",
       "      <td>5</td>\n",
       "    </tr>\n",
       "    <tr>\n",
       "      <th>18</th>\n",
       "      <td>PSV</td>\n",
       "      <td>2011</td>\n",
       "      <td>2016</td>\n",
       "      <td>5</td>\n",
       "    </tr>\n",
       "    <tr>\n",
       "      <th>19</th>\n",
       "      <td>SAT</td>\n",
       "      <td>1994</td>\n",
       "      <td>1999</td>\n",
       "      <td>5</td>\n",
       "    </tr>\n",
       "    <tr>\n",
       "      <th>20</th>\n",
       "      <td>WiiU</td>\n",
       "      <td>2012</td>\n",
       "      <td>2016</td>\n",
       "      <td>4</td>\n",
       "    </tr>\n",
       "    <tr>\n",
       "      <th>21</th>\n",
       "      <td>GEN</td>\n",
       "      <td>1990</td>\n",
       "      <td>1994</td>\n",
       "      <td>4</td>\n",
       "    </tr>\n",
       "    <tr>\n",
       "      <th>22</th>\n",
       "      <td>NG</td>\n",
       "      <td>1993</td>\n",
       "      <td>1996</td>\n",
       "      <td>3</td>\n",
       "    </tr>\n",
       "    <tr>\n",
       "      <th>23</th>\n",
       "      <td>XOne</td>\n",
       "      <td>2013</td>\n",
       "      <td>2016</td>\n",
       "      <td>3</td>\n",
       "    </tr>\n",
       "    <tr>\n",
       "      <th>24</th>\n",
       "      <td>PS4</td>\n",
       "      <td>2013</td>\n",
       "      <td>2016</td>\n",
       "      <td>3</td>\n",
       "    </tr>\n",
       "    <tr>\n",
       "      <th>25</th>\n",
       "      <td>WS</td>\n",
       "      <td>1999</td>\n",
       "      <td>2001</td>\n",
       "      <td>2</td>\n",
       "    </tr>\n",
       "    <tr>\n",
       "      <th>26</th>\n",
       "      <td>3DO</td>\n",
       "      <td>1994</td>\n",
       "      <td>1995</td>\n",
       "      <td>1</td>\n",
       "    </tr>\n",
       "    <tr>\n",
       "      <th>27</th>\n",
       "      <td>SCD</td>\n",
       "      <td>1993</td>\n",
       "      <td>1994</td>\n",
       "      <td>1</td>\n",
       "    </tr>\n",
       "    <tr>\n",
       "      <th>28</th>\n",
       "      <td>TG16</td>\n",
       "      <td>1995</td>\n",
       "      <td>1995</td>\n",
       "      <td>0</td>\n",
       "    </tr>\n",
       "    <tr>\n",
       "      <th>29</th>\n",
       "      <td>PCFX</td>\n",
       "      <td>1996</td>\n",
       "      <td>1996</td>\n",
       "      <td>0</td>\n",
       "    </tr>\n",
       "    <tr>\n",
       "      <th>30</th>\n",
       "      <td>GG</td>\n",
       "      <td>1992</td>\n",
       "      <td>1992</td>\n",
       "      <td>0</td>\n",
       "    </tr>\n",
       "  </tbody>\n",
       "</table>\n",
       "</div>"
      ],
      "text/plain": [
       "   platform   1st  last  duration\n",
       "0        PC  1985  2016        31\n",
       "1        DS  1985  2013        28\n",
       "2        GB  1988  2001        13\n",
       "3      X360  2005  2016        11\n",
       "4       PSP  2004  2015        11\n",
       "5       PS2  2000  2011        11\n",
       "6       NES  1983  1994        11\n",
       "7        DC  1998  2008        10\n",
       "8       Wii  2006  2016        10\n",
       "9       PS3  2006  2016        10\n",
       "10     2600  1980  1989         9\n",
       "11     SNES  1990  1999         9\n",
       "12       PS  1994  2003         9\n",
       "13       XB  2000  2008         8\n",
       "14      GBA  2000  2007         7\n",
       "15       GC  2001  2007         6\n",
       "16      N64  1996  2002         6\n",
       "17      3DS  2011  2016         5\n",
       "18      PSV  2011  2016         5\n",
       "19      SAT  1994  1999         5\n",
       "20     WiiU  2012  2016         4\n",
       "21      GEN  1990  1994         4\n",
       "22       NG  1993  1996         3\n",
       "23     XOne  2013  2016         3\n",
       "24      PS4  2013  2016         3\n",
       "25       WS  1999  2001         2\n",
       "26      3DO  1994  1995         1\n",
       "27      SCD  1993  1994         1\n",
       "28     TG16  1995  1995         0\n",
       "29     PCFX  1996  1996         0\n",
       "30       GG  1992  1992         0"
      ]
     },
     "metadata": {},
     "output_type": "display_data"
    }
   ],
   "source": [
    "# Вычислим разность между годом релиза первой и последней игры для каждой из платформ (в годах)\n",
    "platform_lifetime = data.pivot_table(index='platform', values='year_of_release', aggfunc=[min, max])\n",
    "platform_lifetime.columns = ['1st', 'last'] # год релиза первой и последней игры\n",
    "platform_lifetime['duration'] = platform_lifetime['last'] - platform_lifetime['1st'] # продолжительность 'жизни'\n",
    "display((platform_lifetime.sort_values('duration', ascending=False)).reset_index()) # отсортуем по убыванию 'срока жизни' платформ и обновим индекс"
   ]
  },
  {
   "cell_type": "code",
   "execution_count": 26,
   "metadata": {
    "colab": {
     "base_uri": "https://localhost:8080/"
    },
    "id": "AdENtyfuLKke",
    "outputId": "63cb5e33-775c-499d-c2be-49f1514c3801"
   },
   "outputs": [
    {
     "name": "stdout",
     "output_type": "stream",
     "text": [
      "Медианный срок жизни платформы 6.0 лет\n"
     ]
    }
   ],
   "source": [
    "# Посчитаем средний (медианный, чтобы невелировать выбросы) 'срок жизни' платформ\n",
    "print('Медианный срок жизни платформы', platform_lifetime['duration'].median(), 'лет')"
   ]
  },
  {
   "cell_type": "markdown",
   "metadata": {
    "id": "k87x5KiKQssZ"
   },
   "source": [
    "**Выводы:**   \n",
    "1. Медианный срок существоания платформы - 6 лет.    \n",
    "1. Платформы-долгожители - PC и DS, но,  для DS с 2013 года новые игры не выпускаются.    \n",
    "1. Ряд платформ 'прожили' один и менее год - эксперементы 1990-х годов. "
   ]
  },
  {
   "cell_type": "code",
   "execution_count": 27,
   "metadata": {
    "colab": {
     "base_uri": "https://localhost:8080/",
     "height": 517
    },
    "id": "p1wGAj73PA5A",
    "outputId": "76af590a-59d5-4808-f390-ea05c22b8081"
   },
   "outputs": [
    {
     "data": {
      "image/png": "[encoded data removed]",
      "text/plain": [
       "<Figure size 1080x576 with 1 Axes>"
      ]
     },
     "metadata": {
      "needs_background": "light"
     },
     "output_type": "display_data"
    }
   ],
   "source": [
    "# отсортируем таблицу по годам появления на рынке платформ\n",
    "platform_lifetime_x = platform_lifetime.sort_values(by='1st')['1st'] # по оси Х год выпуска первой игры\n",
    "platform_lifetime_y = platform_lifetime.sort_values(by='1st')['duration'] # по оси Y продолжительность жизни платформы\n",
    "plt.figure(figsize=(15,8))\n",
    "plt.scatter(platform_lifetime_x, platform_lifetime_y)\n",
    "# построим линию тренда\n",
    "z = np.polyfit(platform_lifetime_x, platform_lifetime_y, 1) # аппроксимировать линию тренда будем по минимуму\n",
    "p = np.poly1d(z)\n",
    "plt.plot(platform_lifetime_x, p(platform_lifetime_x),'g--') #  линия тренда будет зелёной и пунктирной\n",
    "# Добавим подписи\n",
    "plt.title(label='Тренд продолжительности жизни платформ', fontsize=14)\n",
    "plt.xlabel('Год релиза платформы', fontsize=12)\n",
    "plt.ylabel('Продолжительность жизни платформы, лет', fontsize=12)\n",
    "plt.show()"
   ]
  },
  {
   "cell_type": "markdown",
   "metadata": {
    "id": "QFwaQ9dpUaEl"
   },
   "source": [
    "**Вывод** 'Время жизни' платформ со временем снижается и совляет в среднем 6 лет.   \n",
    "**Гипотеза** скорость обновления - выхода новых -  плаформ увеличивается.      \n",
    "Посмотрим через какой срок после запуска платформы повлется следующая - её наследница."
   ]
  },
  {
   "cell_type": "code",
   "execution_count": 28,
   "metadata": {
    "colab": {
     "base_uri": "https://localhost:8080/",
     "height": 1000
    },
    "id": "jwaCow3ESjdX",
    "outputId": "6a4227ef-0398-4794-9b63-92c7db2e5d5b"
   },
   "outputs": [
    {
     "data": {
      "text/html": [
       "<div>\n",
       "<style scoped>\n",
       "    .dataframe tbody tr th:only-of-type {\n",
       "        vertical-align: middle;\n",
       "    }\n",
       "\n",
       "    .dataframe tbody tr th {\n",
       "        vertical-align: top;\n",
       "    }\n",
       "\n",
       "    .dataframe thead th {\n",
       "        text-align: right;\n",
       "    }\n",
       "</style>\n",
       "<table border=\"1\" class=\"dataframe\">\n",
       "  <thead>\n",
       "    <tr style=\"text-align: right;\">\n",
       "      <th></th>\n",
       "      <th>platform</th>\n",
       "      <th>1st</th>\n",
       "      <th>last</th>\n",
       "      <th>duration</th>\n",
       "      <th>delta</th>\n",
       "    </tr>\n",
       "  </thead>\n",
       "  <tbody>\n",
       "    <tr>\n",
       "      <th>0</th>\n",
       "      <td>2600</td>\n",
       "      <td>1980</td>\n",
       "      <td>1989</td>\n",
       "      <td>9</td>\n",
       "      <td>3</td>\n",
       "    </tr>\n",
       "    <tr>\n",
       "      <th>1</th>\n",
       "      <td>NES</td>\n",
       "      <td>1983</td>\n",
       "      <td>1994</td>\n",
       "      <td>11</td>\n",
       "      <td>2</td>\n",
       "    </tr>\n",
       "    <tr>\n",
       "      <th>2</th>\n",
       "      <td>DS</td>\n",
       "      <td>1985</td>\n",
       "      <td>2013</td>\n",
       "      <td>28</td>\n",
       "      <td>0</td>\n",
       "    </tr>\n",
       "    <tr>\n",
       "      <th>3</th>\n",
       "      <td>PC</td>\n",
       "      <td>1985</td>\n",
       "      <td>2016</td>\n",
       "      <td>31</td>\n",
       "      <td>3</td>\n",
       "    </tr>\n",
       "    <tr>\n",
       "      <th>4</th>\n",
       "      <td>GB</td>\n",
       "      <td>1988</td>\n",
       "      <td>2001</td>\n",
       "      <td>13</td>\n",
       "      <td>2</td>\n",
       "    </tr>\n",
       "    <tr>\n",
       "      <th>5</th>\n",
       "      <td>SNES</td>\n",
       "      <td>1990</td>\n",
       "      <td>1999</td>\n",
       "      <td>9</td>\n",
       "      <td>0</td>\n",
       "    </tr>\n",
       "    <tr>\n",
       "      <th>6</th>\n",
       "      <td>GEN</td>\n",
       "      <td>1990</td>\n",
       "      <td>1994</td>\n",
       "      <td>4</td>\n",
       "      <td>2</td>\n",
       "    </tr>\n",
       "    <tr>\n",
       "      <th>7</th>\n",
       "      <td>GG</td>\n",
       "      <td>1992</td>\n",
       "      <td>1992</td>\n",
       "      <td>0</td>\n",
       "      <td>1</td>\n",
       "    </tr>\n",
       "    <tr>\n",
       "      <th>8</th>\n",
       "      <td>SCD</td>\n",
       "      <td>1993</td>\n",
       "      <td>1994</td>\n",
       "      <td>1</td>\n",
       "      <td>0</td>\n",
       "    </tr>\n",
       "    <tr>\n",
       "      <th>9</th>\n",
       "      <td>NG</td>\n",
       "      <td>1993</td>\n",
       "      <td>1996</td>\n",
       "      <td>3</td>\n",
       "      <td>1</td>\n",
       "    </tr>\n",
       "    <tr>\n",
       "      <th>10</th>\n",
       "      <td>SAT</td>\n",
       "      <td>1994</td>\n",
       "      <td>1999</td>\n",
       "      <td>5</td>\n",
       "      <td>0</td>\n",
       "    </tr>\n",
       "    <tr>\n",
       "      <th>11</th>\n",
       "      <td>PS</td>\n",
       "      <td>1994</td>\n",
       "      <td>2003</td>\n",
       "      <td>9</td>\n",
       "      <td>0</td>\n",
       "    </tr>\n",
       "    <tr>\n",
       "      <th>12</th>\n",
       "      <td>3DO</td>\n",
       "      <td>1994</td>\n",
       "      <td>1995</td>\n",
       "      <td>1</td>\n",
       "      <td>1</td>\n",
       "    </tr>\n",
       "    <tr>\n",
       "      <th>13</th>\n",
       "      <td>TG16</td>\n",
       "      <td>1995</td>\n",
       "      <td>1995</td>\n",
       "      <td>0</td>\n",
       "      <td>1</td>\n",
       "    </tr>\n",
       "    <tr>\n",
       "      <th>14</th>\n",
       "      <td>PCFX</td>\n",
       "      <td>1996</td>\n",
       "      <td>1996</td>\n",
       "      <td>0</td>\n",
       "      <td>0</td>\n",
       "    </tr>\n",
       "    <tr>\n",
       "      <th>15</th>\n",
       "      <td>N64</td>\n",
       "      <td>1996</td>\n",
       "      <td>2002</td>\n",
       "      <td>6</td>\n",
       "      <td>2</td>\n",
       "    </tr>\n",
       "    <tr>\n",
       "      <th>16</th>\n",
       "      <td>DC</td>\n",
       "      <td>1998</td>\n",
       "      <td>2008</td>\n",
       "      <td>10</td>\n",
       "      <td>1</td>\n",
       "    </tr>\n",
       "    <tr>\n",
       "      <th>17</th>\n",
       "      <td>WS</td>\n",
       "      <td>1999</td>\n",
       "      <td>2001</td>\n",
       "      <td>2</td>\n",
       "      <td>1</td>\n",
       "    </tr>\n",
       "    <tr>\n",
       "      <th>18</th>\n",
       "      <td>GBA</td>\n",
       "      <td>2000</td>\n",
       "      <td>2007</td>\n",
       "      <td>7</td>\n",
       "      <td>0</td>\n",
       "    </tr>\n",
       "    <tr>\n",
       "      <th>19</th>\n",
       "      <td>XB</td>\n",
       "      <td>2000</td>\n",
       "      <td>2008</td>\n",
       "      <td>8</td>\n",
       "      <td>0</td>\n",
       "    </tr>\n",
       "    <tr>\n",
       "      <th>20</th>\n",
       "      <td>PS2</td>\n",
       "      <td>2000</td>\n",
       "      <td>2011</td>\n",
       "      <td>11</td>\n",
       "      <td>1</td>\n",
       "    </tr>\n",
       "    <tr>\n",
       "      <th>21</th>\n",
       "      <td>GC</td>\n",
       "      <td>2001</td>\n",
       "      <td>2007</td>\n",
       "      <td>6</td>\n",
       "      <td>3</td>\n",
       "    </tr>\n",
       "    <tr>\n",
       "      <th>22</th>\n",
       "      <td>PSP</td>\n",
       "      <td>2004</td>\n",
       "      <td>2015</td>\n",
       "      <td>11</td>\n",
       "      <td>1</td>\n",
       "    </tr>\n",
       "    <tr>\n",
       "      <th>23</th>\n",
       "      <td>X360</td>\n",
       "      <td>2005</td>\n",
       "      <td>2016</td>\n",
       "      <td>11</td>\n",
       "      <td>1</td>\n",
       "    </tr>\n",
       "    <tr>\n",
       "      <th>24</th>\n",
       "      <td>PS3</td>\n",
       "      <td>2006</td>\n",
       "      <td>2016</td>\n",
       "      <td>10</td>\n",
       "      <td>0</td>\n",
       "    </tr>\n",
       "    <tr>\n",
       "      <th>25</th>\n",
       "      <td>Wii</td>\n",
       "      <td>2006</td>\n",
       "      <td>2016</td>\n",
       "      <td>10</td>\n",
       "      <td>5</td>\n",
       "    </tr>\n",
       "    <tr>\n",
       "      <th>26</th>\n",
       "      <td>3DS</td>\n",
       "      <td>2011</td>\n",
       "      <td>2016</td>\n",
       "      <td>5</td>\n",
       "      <td>0</td>\n",
       "    </tr>\n",
       "    <tr>\n",
       "      <th>27</th>\n",
       "      <td>PSV</td>\n",
       "      <td>2011</td>\n",
       "      <td>2016</td>\n",
       "      <td>5</td>\n",
       "      <td>1</td>\n",
       "    </tr>\n",
       "    <tr>\n",
       "      <th>28</th>\n",
       "      <td>WiiU</td>\n",
       "      <td>2012</td>\n",
       "      <td>2016</td>\n",
       "      <td>4</td>\n",
       "      <td>1</td>\n",
       "    </tr>\n",
       "    <tr>\n",
       "      <th>29</th>\n",
       "      <td>PS4</td>\n",
       "      <td>2013</td>\n",
       "      <td>2016</td>\n",
       "      <td>3</td>\n",
       "      <td>0</td>\n",
       "    </tr>\n",
       "    <tr>\n",
       "      <th>30</th>\n",
       "      <td>XOne</td>\n",
       "      <td>2013</td>\n",
       "      <td>2016</td>\n",
       "      <td>3</td>\n",
       "      <td>0</td>\n",
       "    </tr>\n",
       "  </tbody>\n",
       "</table>\n",
       "</div>"
      ],
      "text/plain": [
       "   platform   1st  last  duration  delta\n",
       "0      2600  1980  1989         9      3\n",
       "1       NES  1983  1994        11      2\n",
       "2        DS  1985  2013        28      0\n",
       "3        PC  1985  2016        31      3\n",
       "4        GB  1988  2001        13      2\n",
       "5      SNES  1990  1999         9      0\n",
       "6       GEN  1990  1994         4      2\n",
       "7        GG  1992  1992         0      1\n",
       "8       SCD  1993  1994         1      0\n",
       "9        NG  1993  1996         3      1\n",
       "10      SAT  1994  1999         5      0\n",
       "11       PS  1994  2003         9      0\n",
       "12      3DO  1994  1995         1      1\n",
       "13     TG16  1995  1995         0      1\n",
       "14     PCFX  1996  1996         0      0\n",
       "15      N64  1996  2002         6      2\n",
       "16       DC  1998  2008        10      1\n",
       "17       WS  1999  2001         2      1\n",
       "18      GBA  2000  2007         7      0\n",
       "19       XB  2000  2008         8      0\n",
       "20      PS2  2000  2011        11      1\n",
       "21       GC  2001  2007         6      3\n",
       "22      PSP  2004  2015        11      1\n",
       "23     X360  2005  2016        11      1\n",
       "24      PS3  2006  2016        10      0\n",
       "25      Wii  2006  2016        10      5\n",
       "26      3DS  2011  2016         5      0\n",
       "27      PSV  2011  2016         5      1\n",
       "28     WiiU  2012  2016         4      1\n",
       "29      PS4  2013  2016         3      0\n",
       "30     XOne  2013  2016         3      0"
      ]
     },
     "metadata": {},
     "output_type": "display_data"
    }
   ],
   "source": [
    "# Сздадим новый список куда поместим платформы в порядке возрастания гда релиза первой игры\n",
    "platform_successor = platform_lifetime.sort_values('1st')\n",
    "# Значения колоки 1st переведем в список, чтобы можно было двигаться по нему используя индексы элементов\n",
    "year_1st = list(platform_successor['1st'])\n",
    "# Создадим пустой список куда будет записываться разность в годах между релизами новых платформ\n",
    "year_delta = []\n",
    "# Вычислим разность в цикле\n",
    "for i in range(0, len(year_1st)-1):\n",
    "    delta = year_1st[i+1] - year_1st[i]\n",
    "    year_delta.append(delta)\n",
    "# Добавим последним значением 0 чтобы можно было присоединить полученные значения к датафрейму platform_lifetime_speedappear\n",
    "year_delta.append(0)\n",
    "# Добавим новую колонку, куда запишем разницу между релизами платформ друг за другом \n",
    "platform_successor['delta'] = year_delta\n",
    "display((platform_successor).reset_index()) "
   ]
  },
  {
   "cell_type": "code",
   "execution_count": 29,
   "metadata": {
    "colab": {
     "base_uri": "https://localhost:8080/"
    },
    "id": "N3XbaFClbX1E",
    "outputId": "c2cc23ce-03a9-4ce0-ddea-0e9282707322"
   },
   "outputs": [
    {
     "name": "stdout",
     "output_type": "stream",
     "text": [
      "Медианный срок выхода новых платформ 1.0 год\n"
     ]
    }
   ],
   "source": [
    "# Посчитаем средний (медианный, чтобы невелировать выбросы) срок выхода новых платформ\n",
    "print('Медианный срок выхода новых платформ', platform_successor['delta'].median(), 'год')"
   ]
  },
  {
   "cell_type": "code",
   "execution_count": 30,
   "metadata": {
    "colab": {
     "base_uri": "https://localhost:8080/",
     "height": 517
    },
    "id": "R643x-9MVg28",
    "outputId": "df7f274c-5ae8-47a0-864c-9e4f6b128222"
   },
   "outputs": [
    {
     "data": {
      "image/png": "[encoded data removed]",
      "text/plain": [
       "<Figure size 1080x576 with 1 Axes>"
      ]
     },
     "metadata": {
      "needs_background": "light"
     },
     "output_type": "display_data"
    }
   ],
   "source": [
    "successor_x = platform_successor['1st']\n",
    "successor_y = platform_successor['delta']\n",
    "plt.figure(figsize=(15,8))\n",
    "plt.scatter(successor_x, successor_y)\n",
    "# Построим линию тренда (почему-то не строится)\n",
    "z = np.polyfit(successor_x, successor_y, 1) # аппроксимировать линию тренда будем по минимуму\n",
    "p = np.poly1d(z)\n",
    "plt.plot(successor_x, p(successor_x), 'g--') #  линия тренда будет зелёной и пунктирной\n",
    "# Добавим подписи\n",
    "plt.title(label='Тренд изменения продолжительности жизни игровых платформ', fontsize=14)\n",
    "plt.xlabel('Год релиза платформы', fontsize=12)\n",
    "plt.ylabel('Время до появления новой платформы, лет', fontsize=12)\n",
    "plt.show()"
   ]
  },
  {
   "cell_type": "markdown",
   "metadata": {
    "id": "Z95VL0wxa9Jz"
   },
   "source": [
    "**Вывод** Срок появления новых платформ сокращается и к 2016 году составляет менее 1 года."
   ]
  },
  {
   "cell_type": "markdown",
   "metadata": {
    "id": "WEDtjsf1eXsB"
   },
   "source": [
    "---"
   ]
  },
  {
   "cell_type": "markdown",
   "metadata": {
    "id": "JlP2-j-seZxm"
   },
   "source": [
    "### 3.4. Определение потенциально прибыльных платформ <a id=\"relevant\"></a>   \n",
    "Ранее мы определили, что переломным годом для индустрии игр стал 2012 год. Поэтому для анализа возмём период с 2012 по 2016  год."
   ]
  },
  {
   "cell_type": "code",
   "execution_count": 31,
   "metadata": {
    "colab": {
     "base_uri": "https://localhost:8080/",
     "height": 423
    },
    "id": "HZkSRML-ZERZ",
    "outputId": "075ca63a-c6ca-4f95-8912-c62357f3574c",
    "scrolled": true
   },
   "outputs": [
    {
     "data": {
      "text/html": [
       "<div>\n",
       "<style scoped>\n",
       "    .dataframe tbody tr th:only-of-type {\n",
       "        vertical-align: middle;\n",
       "    }\n",
       "\n",
       "    .dataframe tbody tr th {\n",
       "        vertical-align: top;\n",
       "    }\n",
       "\n",
       "    .dataframe thead th {\n",
       "        text-align: right;\n",
       "    }\n",
       "</style>\n",
       "<table border=\"1\" class=\"dataframe\">\n",
       "  <thead>\n",
       "    <tr style=\"text-align: right;\">\n",
       "      <th></th>\n",
       "      <th>name</th>\n",
       "      <th>platform</th>\n",
       "      <th>year_of_release</th>\n",
       "      <th>genre</th>\n",
       "      <th>na_sales</th>\n",
       "      <th>eu_sales</th>\n",
       "      <th>jp_sales</th>\n",
       "      <th>other_sales</th>\n",
       "      <th>critic_score</th>\n",
       "      <th>user_score</th>\n",
       "      <th>rating</th>\n",
       "      <th>total_sales</th>\n",
       "    </tr>\n",
       "  </thead>\n",
       "  <tbody>\n",
       "    <tr>\n",
       "      <th>16</th>\n",
       "      <td>Grand Theft Auto V</td>\n",
       "      <td>PS3</td>\n",
       "      <td>2013</td>\n",
       "      <td>Action</td>\n",
       "      <td>7.02</td>\n",
       "      <td>9.09</td>\n",
       "      <td>0.98</td>\n",
       "      <td>3.96</td>\n",
       "      <td>97</td>\n",
       "      <td>8.2</td>\n",
       "      <td>M</td>\n",
       "      <td>21.05</td>\n",
       "    </tr>\n",
       "    <tr>\n",
       "      <th>23</th>\n",
       "      <td>Grand Theft Auto V</td>\n",
       "      <td>X360</td>\n",
       "      <td>2013</td>\n",
       "      <td>Action</td>\n",
       "      <td>9.66</td>\n",
       "      <td>5.14</td>\n",
       "      <td>0.06</td>\n",
       "      <td>1.41</td>\n",
       "      <td>97</td>\n",
       "      <td>8.1</td>\n",
       "      <td>M</td>\n",
       "      <td>16.27</td>\n",
       "    </tr>\n",
       "    <tr>\n",
       "      <th>31</th>\n",
       "      <td>Call of Duty: Black Ops 3</td>\n",
       "      <td>PS4</td>\n",
       "      <td>2015</td>\n",
       "      <td>Shooter</td>\n",
       "      <td>6.03</td>\n",
       "      <td>5.86</td>\n",
       "      <td>0.36</td>\n",
       "      <td>2.38</td>\n",
       "      <td>-1</td>\n",
       "      <td>-1.0</td>\n",
       "      <td>unknown</td>\n",
       "      <td>14.63</td>\n",
       "    </tr>\n",
       "    <tr>\n",
       "      <th>33</th>\n",
       "      <td>Pokemon X/Pokemon Y</td>\n",
       "      <td>3DS</td>\n",
       "      <td>2013</td>\n",
       "      <td>Role-Playing</td>\n",
       "      <td>5.28</td>\n",
       "      <td>4.19</td>\n",
       "      <td>4.35</td>\n",
       "      <td>0.78</td>\n",
       "      <td>-1</td>\n",
       "      <td>-1.0</td>\n",
       "      <td>unknown</td>\n",
       "      <td>14.60</td>\n",
       "    </tr>\n",
       "    <tr>\n",
       "      <th>34</th>\n",
       "      <td>Call of Duty: Black Ops II</td>\n",
       "      <td>PS3</td>\n",
       "      <td>2012</td>\n",
       "      <td>Shooter</td>\n",
       "      <td>4.99</td>\n",
       "      <td>5.73</td>\n",
       "      <td>0.65</td>\n",
       "      <td>2.42</td>\n",
       "      <td>83</td>\n",
       "      <td>5.3</td>\n",
       "      <td>M</td>\n",
       "      <td>13.79</td>\n",
       "    </tr>\n",
       "    <tr>\n",
       "      <th>...</th>\n",
       "      <td>...</td>\n",
       "      <td>...</td>\n",
       "      <td>...</td>\n",
       "      <td>...</td>\n",
       "      <td>...</td>\n",
       "      <td>...</td>\n",
       "      <td>...</td>\n",
       "      <td>...</td>\n",
       "      <td>...</td>\n",
       "      <td>...</td>\n",
       "      <td>...</td>\n",
       "      <td>...</td>\n",
       "    </tr>\n",
       "    <tr>\n",
       "      <th>16703</th>\n",
       "      <td>Strawberry Nauts</td>\n",
       "      <td>PSV</td>\n",
       "      <td>2016</td>\n",
       "      <td>Adventure</td>\n",
       "      <td>0.00</td>\n",
       "      <td>0.00</td>\n",
       "      <td>0.01</td>\n",
       "      <td>0.00</td>\n",
       "      <td>-1</td>\n",
       "      <td>-1.0</td>\n",
       "      <td>unknown</td>\n",
       "      <td>0.01</td>\n",
       "    </tr>\n",
       "    <tr>\n",
       "      <th>16707</th>\n",
       "      <td>Aiyoku no Eustia</td>\n",
       "      <td>PSV</td>\n",
       "      <td>2014</td>\n",
       "      <td>Misc</td>\n",
       "      <td>0.00</td>\n",
       "      <td>0.00</td>\n",
       "      <td>0.01</td>\n",
       "      <td>0.00</td>\n",
       "      <td>-1</td>\n",
       "      <td>-1.0</td>\n",
       "      <td>unknown</td>\n",
       "      <td>0.01</td>\n",
       "    </tr>\n",
       "    <tr>\n",
       "      <th>16710</th>\n",
       "      <td>Samurai Warriors: Sanada Maru</td>\n",
       "      <td>PS3</td>\n",
       "      <td>2016</td>\n",
       "      <td>Action</td>\n",
       "      <td>0.00</td>\n",
       "      <td>0.00</td>\n",
       "      <td>0.01</td>\n",
       "      <td>0.00</td>\n",
       "      <td>-1</td>\n",
       "      <td>-1.0</td>\n",
       "      <td>unknown</td>\n",
       "      <td>0.01</td>\n",
       "    </tr>\n",
       "    <tr>\n",
       "      <th>16712</th>\n",
       "      <td>Haitaka no Psychedelica</td>\n",
       "      <td>PSV</td>\n",
       "      <td>2016</td>\n",
       "      <td>Adventure</td>\n",
       "      <td>0.00</td>\n",
       "      <td>0.00</td>\n",
       "      <td>0.01</td>\n",
       "      <td>0.00</td>\n",
       "      <td>-1</td>\n",
       "      <td>-1.0</td>\n",
       "      <td>unknown</td>\n",
       "      <td>0.01</td>\n",
       "    </tr>\n",
       "    <tr>\n",
       "      <th>16714</th>\n",
       "      <td>Winning Post 8 2016</td>\n",
       "      <td>PSV</td>\n",
       "      <td>2016</td>\n",
       "      <td>Simulation</td>\n",
       "      <td>0.00</td>\n",
       "      <td>0.00</td>\n",
       "      <td>0.01</td>\n",
       "      <td>0.00</td>\n",
       "      <td>-1</td>\n",
       "      <td>-1.0</td>\n",
       "      <td>unknown</td>\n",
       "      <td>0.01</td>\n",
       "    </tr>\n",
       "  </tbody>\n",
       "</table>\n",
       "<p>2886 rows × 12 columns</p>\n",
       "</div>"
      ],
      "text/plain": [
       "                                name platform  year_of_release         genre  \\\n",
       "16                Grand Theft Auto V      PS3             2013        Action   \n",
       "23                Grand Theft Auto V     X360             2013        Action   \n",
       "31         Call of Duty: Black Ops 3      PS4             2015       Shooter   \n",
       "33               Pokemon X/Pokemon Y      3DS             2013  Role-Playing   \n",
       "34        Call of Duty: Black Ops II      PS3             2012       Shooter   \n",
       "...                              ...      ...              ...           ...   \n",
       "16703               Strawberry Nauts      PSV             2016     Adventure   \n",
       "16707               Aiyoku no Eustia      PSV             2014          Misc   \n",
       "16710  Samurai Warriors: Sanada Maru      PS3             2016        Action   \n",
       "16712        Haitaka no Psychedelica      PSV             2016     Adventure   \n",
       "16714            Winning Post 8 2016      PSV             2016    Simulation   \n",
       "\n",
       "       na_sales  eu_sales  jp_sales  other_sales  critic_score  user_score  \\\n",
       "16         7.02      9.09      0.98         3.96            97         8.2   \n",
       "23         9.66      5.14      0.06         1.41            97         8.1   \n",
       "31         6.03      5.86      0.36         2.38            -1        -1.0   \n",
       "33         5.28      4.19      4.35         0.78            -1        -1.0   \n",
       "34         4.99      5.73      0.65         2.42            83         5.3   \n",
       "...         ...       ...       ...          ...           ...         ...   \n",
       "16703      0.00      0.00      0.01         0.00            -1        -1.0   \n",
       "16707      0.00      0.00      0.01         0.00            -1        -1.0   \n",
       "16710      0.00      0.00      0.01         0.00            -1        -1.0   \n",
       "16712      0.00      0.00      0.01         0.00            -1        -1.0   \n",
       "16714      0.00      0.00      0.01         0.00            -1        -1.0   \n",
       "\n",
       "        rating  total_sales  \n",
       "16           M        21.05  \n",
       "23           M        16.27  \n",
       "31     unknown        14.63  \n",
       "33     unknown        14.60  \n",
       "34           M        13.79  \n",
       "...        ...          ...  \n",
       "16703  unknown         0.01  \n",
       "16707  unknown         0.01  \n",
       "16710  unknown         0.01  \n",
       "16712  unknown         0.01  \n",
       "16714  unknown         0.01  \n",
       "\n",
       "[2886 rows x 12 columns]"
      ]
     },
     "metadata": {},
     "output_type": "display_data"
    }
   ],
   "source": [
    "years = []\n",
    "for i in range(2012, 2017): # 2017 чтобы вошёл 2016 год\n",
    "    years.append(i)\n",
    "relevant = data.query('year_of_release in @years')\n",
    "display(relevant)"
   ]
  },
  {
   "cell_type": "code",
   "execution_count": 32,
   "metadata": {
    "colab": {
     "base_uri": "https://localhost:8080/",
     "height": 394
    },
    "id": "kdLhrLFWevP3",
    "outputId": "6afa776f-810c-4389-ac03-49a63241c8f0"
   },
   "outputs": [
    {
     "data": {
      "text/html": [
       "<div>\n",
       "<style scoped>\n",
       "    .dataframe tbody tr th:only-of-type {\n",
       "        vertical-align: middle;\n",
       "    }\n",
       "\n",
       "    .dataframe tbody tr th {\n",
       "        vertical-align: top;\n",
       "    }\n",
       "\n",
       "    .dataframe thead th {\n",
       "        text-align: right;\n",
       "    }\n",
       "</style>\n",
       "<table border=\"1\" class=\"dataframe\">\n",
       "  <thead>\n",
       "    <tr style=\"text-align: right;\">\n",
       "      <th></th>\n",
       "      <th>platform</th>\n",
       "      <th>total_sales</th>\n",
       "    </tr>\n",
       "  </thead>\n",
       "  <tbody>\n",
       "    <tr>\n",
       "      <th>0</th>\n",
       "      <td>PS4</td>\n",
       "      <td>314.14</td>\n",
       "    </tr>\n",
       "    <tr>\n",
       "      <th>1</th>\n",
       "      <td>PS3</td>\n",
       "      <td>288.79</td>\n",
       "    </tr>\n",
       "    <tr>\n",
       "      <th>2</th>\n",
       "      <td>X360</td>\n",
       "      <td>236.54</td>\n",
       "    </tr>\n",
       "    <tr>\n",
       "      <th>3</th>\n",
       "      <td>3DS</td>\n",
       "      <td>194.61</td>\n",
       "    </tr>\n",
       "    <tr>\n",
       "      <th>4</th>\n",
       "      <td>XOne</td>\n",
       "      <td>159.32</td>\n",
       "    </tr>\n",
       "    <tr>\n",
       "      <th>5</th>\n",
       "      <td>WiiU</td>\n",
       "      <td>82.19</td>\n",
       "    </tr>\n",
       "    <tr>\n",
       "      <th>6</th>\n",
       "      <td>PC</td>\n",
       "      <td>62.65</td>\n",
       "    </tr>\n",
       "    <tr>\n",
       "      <th>7</th>\n",
       "      <td>PSV</td>\n",
       "      <td>49.18</td>\n",
       "    </tr>\n",
       "    <tr>\n",
       "      <th>8</th>\n",
       "      <td>Wii</td>\n",
       "      <td>35.37</td>\n",
       "    </tr>\n",
       "    <tr>\n",
       "      <th>9</th>\n",
       "      <td>DS</td>\n",
       "      <td>12.55</td>\n",
       "    </tr>\n",
       "    <tr>\n",
       "      <th>10</th>\n",
       "      <td>PSP</td>\n",
       "      <td>11.19</td>\n",
       "    </tr>\n",
       "  </tbody>\n",
       "</table>\n",
       "</div>"
      ],
      "text/plain": [
       "   platform  total_sales\n",
       "0       PS4       314.14\n",
       "1       PS3       288.79\n",
       "2      X360       236.54\n",
       "3       3DS       194.61\n",
       "4      XOne       159.32\n",
       "5      WiiU        82.19\n",
       "6        PC        62.65\n",
       "7       PSV        49.18\n",
       "8       Wii        35.37\n",
       "9        DS        12.55\n",
       "10      PSP        11.19"
      ]
     },
     "metadata": {},
     "output_type": "display_data"
    }
   ],
   "source": [
    "# Посмотрим суммарные продажи по платформам за анализируемый период\n",
    "platform_relevant_pivot = (relevant.pivot_table(index=['platform'], aggfunc={'total_sales':sum}).sort_values(by='total_sales', ascending=False))\n",
    "display((platform_relevant_pivot).reset_index())"
   ]
  },
  {
   "cell_type": "code",
   "execution_count": 33,
   "metadata": {
    "colab": {
     "base_uri": "https://localhost:8080/",
     "height": 1000
    },
    "id": "vx39rxwPf6jk",
    "outputId": "27f51781-343e-4131-94fc-49d384122470"
   },
   "outputs": [
    {
     "data": {
      "image/png": "[encoded data removed]",
      "text/plain": [
       "<Figure size 432x288 with 1 Axes>"
      ]
     },
     "metadata": {
      "needs_background": "light"
     },
     "output_type": "display_data"
    },
    {
     "data": {
      "image/png": "[encoded data removed]",
      "text/plain": [
       "<Figure size 432x288 with 1 Axes>"
      ]
     },
     "metadata": {
      "needs_background": "light"
     },
     "output_type": "display_data"
    },
    {
     "data": {
      "image/png": "[encoded data removed]",
      "text/plain": [
       "<Figure size 432x288 with 1 Axes>"
      ]
     },
     "metadata": {
      "needs_background": "light"
     },
     "output_type": "display_data"
    },
    {
     "data": {
      "image/png": "[encoded data removed]",
      "text/plain": [
       "<Figure size 432x288 with 1 Axes>"
      ]
     },
     "metadata": {
      "needs_background": "light"
     },
     "output_type": "display_data"
    },
    {
     "data": {
      "image/png": "[encoded data removed]",
      "text/plain": [
       "<Figure size 432x288 with 1 Axes>"
      ]
     },
     "metadata": {
      "needs_background": "light"
     },
     "output_type": "display_data"
    },
    {
     "data": {
      "image/png": "[encoded data removed]",
      "text/plain": [
       "<Figure size 432x288 with 1 Axes>"
      ]
     },
     "metadata": {
      "needs_background": "light"
     },
     "output_type": "display_data"
    },
    {
     "data": {
      "image/png": "[encoded data removed]",
      "text/plain": [
       "<Figure size 432x288 with 1 Axes>"
      ]
     },
     "metadata": {
      "needs_background": "light"
     },
     "output_type": "display_data"
    },
    {
     "data": {
      "image/png": "[encoded data removed]",
      "text/plain": [
       "<Figure size 432x288 with 1 Axes>"
      ]
     },
     "metadata": {
      "needs_background": "light"
     },
     "output_type": "display_data"
    },
    {
     "data": {
      "image/png": "[encoded data removed]",
      "text/plain": [
       "<Figure size 432x288 with 1 Axes>"
      ]
     },
     "metadata": {
      "needs_background": "light"
     },
     "output_type": "display_data"
    },
    {
     "data": {
      "image/png": "[encoded data removed]",
      "text/plain": [
       "<Figure size 432x288 with 1 Axes>"
      ]
     },
     "metadata": {
      "needs_background": "light"
     },
     "output_type": "display_data"
    },
    {
     "data": {
      "image/png": "[encoded data removed]",
      "text/plain": [
       "<Figure size 432x288 with 1 Axes>"
      ]
     },
     "metadata": {
      "needs_background": "light"
     },
     "output_type": "display_data"
    }
   ],
   "source": [
    "for elem in range(0, len(platform_relevant_pivot.index)):\n",
    "    relevant[relevant['platform'] == platform_relevant_pivot.index[elem]].plot(kind='hist', bins=years, legend=False, title=platform_relevant_pivot.index[elem], grid=True)\n",
    "    plt.title(label=platform_relevant_pivot.index[elem], fontsize=14)\n",
    "    plt.xlabel('Год выпуска игр')\n",
    "    plt.ylabel('Число игр')"
   ]
  },
  {
   "cell_type": "markdown",
   "metadata": {
    "id": "WzaJ1kp05jE8"
   },
   "source": [
    "**Вывод**    \n",
    "В список платформ, на котрых выходили игры после 2011 года, попало 11 платформ, в том числе:   \n",
    "* Набирающие популярность – PS4, XOne, PSV.    \n",
    "* Вышедшие на плато продаж – PS3, X360, 3DS, WiiU, PC.    \n",
    "* С сокращающимися продажами – Wii (спад ещё не критичный, но уже вышла платформа-наследница WiiU), DS (продажи нулевые, поддержка платформы прекращена в 2014 году) и PSP (продажи стремится к нулю).   \n",
    "\n",
    "Таким образом итоговый список потенциально прибыльных платформ в актуальном периоде включает в себя 8 платформ: PS4, XOne, PSV, PS3, X360, 3DS, WiiU, PC\n",
    ".        \n",
    "\n"
   ]
  },
  {
   "cell_type": "code",
   "execution_count": 34,
   "metadata": {
    "id": "-5jkN7rdhOEH"
   },
   "outputs": [],
   "source": [
    "# Список потенциально прибыльных платформ\n",
    "promising_platforms = ['PS4', 'XOne', 'PSV', 'PS3', 'X360', '3DS', 'WiiU', 'PC']"
   ]
  },
  {
   "cell_type": "markdown",
   "metadata": {
    "id": "B0PM1sDuJkHv"
   },
   "source": [
    "### 3.5. Диаграмма размаха по глобальным продажам игр в разбивке по платформам <a id=\"сhart\"></a>\n",
    "\n",
    "\n"
   ]
  },
  {
   "cell_type": "code",
   "execution_count": 35,
   "metadata": {
    "colab": {
     "base_uri": "https://localhost:8080/",
     "height": 534
    },
    "id": "SfYJoBNd8gjt",
    "outputId": "7e53e018-a11c-431d-f24b-c5a8d6b2cee4"
   },
   "outputs": [
    {
     "data": {
      "text/plain": [
       "(0.0, 3.0)"
      ]
     },
     "execution_count": 35,
     "metadata": {},
     "output_type": "execute_result"
    },
    {
     "data": {
      "image/png": "[encoded data removed]",
      "text/plain": [
       "<Figure size 1080x576 with 1 Axes>"
      ]
     },
     "metadata": {
      "needs_background": "light"
     },
     "output_type": "display_data"
    }
   ],
   "source": [
    "# Используя библиотеку seaborn построим все 'ящики с усами' на одном графике, \n",
    "# для сравнения платформ из числа тех, для которых выпусались игры после 2011 года\n",
    "plt.figure(figsize=(15,8))\n",
    "sns.boxplot(data=relevant, x='total_sales', y='platform', palette='Blues_d')\n",
    "plt.title(label='Диаграмма размаха по глобальным продажам игр в разбивке по платформам', fontsize=14)\n",
    "plt.xlabel('Суммарные продажи', fontsize=12)\n",
    "plt.ylabel('Платформа', fontsize=12)\n",
    "plt.xlim(0, 3)"
   ]
  },
  {
   "cell_type": "markdown",
   "metadata": {
    "id": "I6vkVRREKglN"
   },
   "source": [
    "**Вывод** Чем выше средние - тем популярнее платформа. Платформы PS4, X360 и XOne и WiiU - популярны. Wii - тоже популярна, но её продажи, как мы видили ранее, снижаются."
   ]
  },
  {
   "cell_type": "markdown",
   "metadata": {
    "id": "wZ0kQIyGMPWN"
   },
   "source": [
    "### 3.6. Расчёт корреляции между отзывами и продажами <a id=\"corr\"></a>  \n",
    "1. Постром диаграммы рассеивания для визуализации коррелиции между отзывами критиков и прдажами, и между отзывами пользователй и продажами игр, для каждой платформы из спика перспективных (promising_platforms).   \n",
    "1. Подчисчистаем коффициент корреляции между отзывами и продажами."
   ]
  },
  {
   "cell_type": "code",
   "execution_count": 36,
   "metadata": {
    "colab": {
     "base_uri": "https://localhost:8080/",
     "height": 1000
    },
    "id": "7tAsYfNLJAsv",
    "outputId": "c1cf10c4-dd07-4100-fcd4-6b89e2ccd8a4"
   },
   "outputs": [
    {
     "data": {
      "image/png": "[encoded data removed]",
      "text/plain": [
       "<Figure size 864x360 with 2 Axes>"
      ]
     },
     "metadata": {
      "needs_background": "light"
     },
     "output_type": "display_data"
    },
    {
     "data": {
      "image/png": "[encoded data removed]",
      "text/plain": [
       "<Figure size 864x360 with 2 Axes>"
      ]
     },
     "metadata": {
      "needs_background": "light"
     },
     "output_type": "display_data"
    },
    {
     "data": {
      "image/png": "[encoded data removed]",
      "text/plain": [
       "<Figure size 864x360 with 2 Axes>"
      ]
     },
     "metadata": {
      "needs_background": "light"
     },
     "output_type": "display_data"
    },
    {
     "data": {
      "image/png": "[encoded data removed]",
      "text/plain": [
       "<Figure size 864x360 with 2 Axes>"
      ]
     },
     "metadata": {
      "needs_background": "light"
     },
     "output_type": "display_data"
    },
    {
     "data": {
      "image/png": "[encoded data removed]",
      "text/plain": [
       "<Figure size 864x360 with 2 Axes>"
      ]
     },
     "metadata": {
      "needs_background": "light"
     },
     "output_type": "display_data"
    },
    {
     "data": {
      "image/png": "[encoded data removed]",
      "text/plain": [
       "<Figure size 864x360 with 2 Axes>"
      ]
     },
     "metadata": {
      "needs_background": "light"
     },
     "output_type": "display_data"
    },
    {
     "data": {
      "image/png": "[encoded data removed]",
      "text/plain": [
       "<Figure size 864x360 with 2 Axes>"
      ]
     },
     "metadata": {
      "needs_background": "light"
     },
     "output_type": "display_data"
    },
    {
     "data": {
      "image/png": "[encoded data removed]",
      "text/plain": [
       "<Figure size 864x360 with 2 Axes>"
      ]
     },
     "metadata": {
      "needs_background": "light"
     },
     "output_type": "display_data"
    }
   ],
   "source": [
    "# Используем цикл для построения диаграмм рассеяния\n",
    "# диаграммы зависимости продаж от оценок критиков и пользователей для одной платформы расположим рядом\n",
    "\n",
    "for elem in promising_platforms:\n",
    "    x_critic = relevant[relevant['platform'] == elem]['critic_score']\n",
    "    y_critic = relevant[relevant['platform'] == elem]['total_sales']\n",
    "    \n",
    "    x_user = relevant[relevant['platform'] == elem]['user_score']\n",
    "    y_user = relevant[relevant['platform'] == elem]['total_sales']\n",
    "    \n",
    "    \n",
    "    fig = plt.figure(figsize=(12, 5))\n",
    "    \n",
    "    ax1 = fig.add_subplot(121)\n",
    "    ax1.scatter(x_critic, y_critic)\n",
    "    ax1.set_title(elem + ': зависимость продаж от оценок критиков', fontsize=14)\n",
    "    ax1.set_xlabel('Оценки критиков', fontsize=12)\n",
    "    ax1.set_ylabel('Продажи', fontsize=12)\n",
    "    \n",
    "    ax2 = fig.add_subplot(122)\n",
    "    ax2.scatter(x_user, y_user)\n",
    "    ax2.set_title(elem+ ': зависимость продаж от оценок пользователй', fontsize=14)\n",
    "    ax2.set_xlabel('Оценки пользователей', fontsize=12)\n",
    "    ax2.set_ylabel('Продажи', fontsize=12)\n",
    "    \n",
    "    plt.tight_layout(w_pad=0.5)"
   ]
  },
  {
   "cell_type": "code",
   "execution_count": 37,
   "metadata": {
    "colab": {
     "base_uri": "https://localhost:8080/",
     "height": 318
    },
    "id": "mi62hSutRNM-",
    "outputId": "9c803ac3-5f17-4b8b-8eb2-aadd895d761b"
   },
   "outputs": [
    {
     "name": "stdout",
     "output_type": "stream",
     "text": [
      "Коэффициенты корреляции (R)\n"
     ]
    },
    {
     "data": {
      "text/html": [
       "<div>\n",
       "<style scoped>\n",
       "    .dataframe tbody tr th:only-of-type {\n",
       "        vertical-align: middle;\n",
       "    }\n",
       "\n",
       "    .dataframe tbody tr th {\n",
       "        vertical-align: top;\n",
       "    }\n",
       "\n",
       "    .dataframe thead th {\n",
       "        text-align: right;\n",
       "    }\n",
       "</style>\n",
       "<table border=\"1\" class=\"dataframe\">\n",
       "  <thead>\n",
       "    <tr style=\"text-align: right;\">\n",
       "      <th></th>\n",
       "      <th>Платформа</th>\n",
       "      <th>R критики</th>\n",
       "      <th>R пользователи</th>\n",
       "    </tr>\n",
       "  </thead>\n",
       "  <tbody>\n",
       "    <tr>\n",
       "      <th>0</th>\n",
       "      <td>PS4</td>\n",
       "      <td>0.227</td>\n",
       "      <td>0.116</td>\n",
       "    </tr>\n",
       "    <tr>\n",
       "      <th>1</th>\n",
       "      <td>XOne</td>\n",
       "      <td>0.274</td>\n",
       "      <td>0.122</td>\n",
       "    </tr>\n",
       "    <tr>\n",
       "      <th>2</th>\n",
       "      <td>PSV</td>\n",
       "      <td>0.395</td>\n",
       "      <td>0.375</td>\n",
       "    </tr>\n",
       "    <tr>\n",
       "      <th>3</th>\n",
       "      <td>PS3</td>\n",
       "      <td>0.298</td>\n",
       "      <td>0.217</td>\n",
       "    </tr>\n",
       "    <tr>\n",
       "      <th>4</th>\n",
       "      <td>X360</td>\n",
       "      <td>0.261</td>\n",
       "      <td>0.103</td>\n",
       "    </tr>\n",
       "    <tr>\n",
       "      <th>5</th>\n",
       "      <td>3DS</td>\n",
       "      <td>0.150</td>\n",
       "      <td>0.128</td>\n",
       "    </tr>\n",
       "    <tr>\n",
       "      <th>6</th>\n",
       "      <td>WiiU</td>\n",
       "      <td>0.297</td>\n",
       "      <td>0.259</td>\n",
       "    </tr>\n",
       "    <tr>\n",
       "      <th>7</th>\n",
       "      <td>PC</td>\n",
       "      <td>0.204</td>\n",
       "      <td>0.052</td>\n",
       "    </tr>\n",
       "  </tbody>\n",
       "</table>\n",
       "</div>"
      ],
      "text/plain": [
       "  Платформа  R критики  R пользователи\n",
       "0       PS4      0.227           0.116\n",
       "1      XOne      0.274           0.122\n",
       "2       PSV      0.395           0.375\n",
       "3       PS3      0.298           0.217\n",
       "4      X360      0.261           0.103\n",
       "5       3DS      0.150           0.128\n",
       "6      WiiU      0.297           0.259\n",
       "7        PC      0.204           0.052"
      ]
     },
     "metadata": {},
     "output_type": "display_data"
    }
   ],
   "source": [
    "# Расчистам кофициенты корреляции по каждой из платформ и запишем их в один дадафрейм\n",
    "critic_corr = []\n",
    "user_corr = []\n",
    "for elem in promising_platforms:\n",
    "  critic_ratio = relevant[relevant['platform'] == elem]['total_sales'].corr(relevant[relevant['platform'] == elem]['critic_score'])\n",
    "  critic_corr.append((critic_ratio).round(3))\n",
    "  user_ratio = relevant[relevant['platform'] == elem]['total_sales'].corr(relevant[relevant['platform'] == elem]['user_score'])\n",
    "  user_corr.append((user_ratio).round(3))\n",
    "\n",
    "data = {'Платформа': promising_platforms, 'R критики': critic_corr, 'R пользователи': user_corr}\n",
    "corr_ratio = pd.DataFrame(data)\n",
    "print('Коэффициенты корреляции (R)')\n",
    "display(corr_ratio)                                                    "
   ]
  },
  {
   "cell_type": "markdown",
   "metadata": {
    "id": "XKimctSrXmUd"
   },
   "source": [
    "**Выводы:**   \n",
    "1. Объем продаж довольно резко возрастает при оценке критиков от 60 баллов и выше.   \n",
    "1. Зависимость продаж от оценок пользователей менее выраженная, но продажи начинают расти с оценки в 3 - 4 балла.   \n",
    "1. Коэффициенты корреляции показывают, что зависимость продаж от оценок критиков сильнее, чем от оценок пользователей. За исключением платформ WiiU и PSV, где коэффициент корреляции примерно на одном уровне."
   ]
  },
  {
   "cell_type": "code",
   "execution_count": 38,
   "metadata": {},
   "outputs": [
    {
     "name": "stdout",
     "output_type": "stream",
     "text": [
      "[97 83 73 78 87 71 88 82 85 74 86 95 76 93 84 81 90 77 80 92 70 72 79 75\n",
      " 91 66 89 67 57 68 65 55 63 54 61 94 33 64 60 69 59 52 96 53 62 48 50 32\n",
      " 43 56 34 58 47 46 31 49 40 39 51 36 23 45 42 38 24 19 44 20 25 35 13 37\n",
      " 26]\n",
      "[8.2 8.1 5.3 4.8 8.3 2.6 7.2 7.  8.7 4.3 6.6 5.7 5.  6.5 9.1 7.3 6.9 6.1\n",
      " 7.9 6.7 5.4 4.  8.4 6.4 3.4 8.5 9.  6.2 4.2 6.3 7.7 9.2 4.9 7.6 3.7 4.1\n",
      " 5.8 5.6 6.8 5.5 7.5 4.4 5.9 8.9 3.9 8.6 7.8 8.  3.1 7.4 6.  7.1 8.8 5.1\n",
      " 3.5 4.5 2.2 5.2 3.8 9.3 4.6 3.6 3.  4.7 3.2 2.7 2.1 3.3 2.  1.5 2.9 2.5\n",
      " 2.4 1.9 1.3 1.  1.4 2.3]\n"
     ]
    }
   ],
   "source": [
    "relevant = relevant.query('critic_score != -1 and user_score != -1')\n",
    "i = relevant.critic_score.unique()\n",
    "j = relevant.user_score.unique()\n",
    "print(i)\n",
    "print(j)"
   ]
  },
  {
   "cell_type": "code",
   "execution_count": 39,
   "metadata": {
    "scrolled": true
   },
   "outputs": [
    {
     "name": "stdout",
     "output_type": "stream",
     "text": [
      "Коэффициенты корреляции (R)\n"
     ]
    },
    {
     "data": {
      "text/html": [
       "<div>\n",
       "<style scoped>\n",
       "    .dataframe tbody tr th:only-of-type {\n",
       "        vertical-align: middle;\n",
       "    }\n",
       "\n",
       "    .dataframe tbody tr th {\n",
       "        vertical-align: top;\n",
       "    }\n",
       "\n",
       "    .dataframe thead th {\n",
       "        text-align: right;\n",
       "    }\n",
       "</style>\n",
       "<table border=\"1\" class=\"dataframe\">\n",
       "  <thead>\n",
       "    <tr style=\"text-align: right;\">\n",
       "      <th></th>\n",
       "      <th>Платформа</th>\n",
       "      <th>R критики</th>\n",
       "      <th>R пользователи</th>\n",
       "    </tr>\n",
       "  </thead>\n",
       "  <tbody>\n",
       "    <tr>\n",
       "      <th>0</th>\n",
       "      <td>PS4</td>\n",
       "      <td>0.406</td>\n",
       "      <td>-0.034</td>\n",
       "    </tr>\n",
       "    <tr>\n",
       "      <th>1</th>\n",
       "      <td>XOne</td>\n",
       "      <td>0.410</td>\n",
       "      <td>-0.094</td>\n",
       "    </tr>\n",
       "    <tr>\n",
       "      <th>2</th>\n",
       "      <td>PSV</td>\n",
       "      <td>0.094</td>\n",
       "      <td>0.014</td>\n",
       "    </tr>\n",
       "    <tr>\n",
       "      <th>3</th>\n",
       "      <td>PS3</td>\n",
       "      <td>0.331</td>\n",
       "      <td>0.003</td>\n",
       "    </tr>\n",
       "    <tr>\n",
       "      <th>4</th>\n",
       "      <td>X360</td>\n",
       "      <td>0.361</td>\n",
       "      <td>-0.002</td>\n",
       "    </tr>\n",
       "    <tr>\n",
       "      <th>5</th>\n",
       "      <td>3DS</td>\n",
       "      <td>0.311</td>\n",
       "      <td>0.202</td>\n",
       "    </tr>\n",
       "    <tr>\n",
       "      <th>6</th>\n",
       "      <td>WiiU</td>\n",
       "      <td>0.351</td>\n",
       "      <td>0.392</td>\n",
       "    </tr>\n",
       "    <tr>\n",
       "      <th>7</th>\n",
       "      <td>PC</td>\n",
       "      <td>0.236</td>\n",
       "      <td>-0.137</td>\n",
       "    </tr>\n",
       "  </tbody>\n",
       "</table>\n",
       "</div>"
      ],
      "text/plain": [
       "  Платформа  R критики  R пользователи\n",
       "0       PS4      0.406          -0.034\n",
       "1      XOne      0.410          -0.094\n",
       "2       PSV      0.094           0.014\n",
       "3       PS3      0.331           0.003\n",
       "4      X360      0.361          -0.002\n",
       "5       3DS      0.311           0.202\n",
       "6      WiiU      0.351           0.392\n",
       "7        PC      0.236          -0.137"
      ]
     },
     "metadata": {},
     "output_type": "display_data"
    }
   ],
   "source": [
    "# Расчистам кофициенты корреляции по каждой из платформ и запишем их в один дадафрейм\n",
    "critic_corr = []\n",
    "user_corr = []\n",
    "for elem in promising_platforms:\n",
    "  critic_ratio = relevant[relevant['platform'] == elem]['total_sales'].corr(relevant[relevant['platform'] == elem]['critic_score'])\n",
    "  critic_corr.append((critic_ratio).round(3))\n",
    "  user_ratio = relevant[relevant['platform'] == elem]['total_sales'].corr(relevant[relevant['platform'] == elem]['user_score'])\n",
    "  user_corr.append((user_ratio).round(3))\n",
    "\n",
    "data = {'Платформа': promising_platforms, 'R критики': critic_corr, 'R пользователи': user_corr}\n",
    "corr_ratio = pd.DataFrame(data)\n",
    "print('Коэффициенты корреляции (R)')\n",
    "display(corr_ratio)   "
   ]
  },
  {
   "cell_type": "code",
   "execution_count": 40,
   "metadata": {},
   "outputs": [
    {
     "name": "stdout",
     "output_type": "stream",
     "text": [
      "Коэффициенты корреляции (R)\n"
     ]
    },
    {
     "data": {
      "image/png": "[encoded data removed]",
      "text/plain": [
       "<Figure size 432x432 with 2 Axes>"
      ]
     },
     "metadata": {
      "needs_background": "light"
     },
     "output_type": "display_data"
    }
   ],
   "source": [
    "# Постоим матрицу коррелйции\n",
    "plt.figure(figsize=(6,6))\n",
    "sns.heatmap(relevant[relevant['platform'] == 'PS4'][['total_sales', 'critic_score', 'user_score']].corr(), annot=True, fmt='.2f')\n",
    "print('Коэффициенты корреляции (R)')"
   ]
  },
  {
   "cell_type": "markdown",
   "metadata": {
    "id": "-1dtyf-HYYAq"
   },
   "source": [
    "### 3.7. Распределение игр по жанрам <a id=\"genre\"></a>\n",
    "\n"
   ]
  },
  {
   "cell_type": "code",
   "execution_count": 41,
   "metadata": {
    "colab": {
     "base_uri": "https://localhost:8080/",
     "height": 320
    },
    "id": "l1FTVlbOQ-_U",
    "outputId": "a1facb97-66b6-417e-c895-d14e30d7ab18"
   },
   "outputs": [
    {
     "name": "stdout",
     "output_type": "stream",
     "text": [
      "Распределение игр по жанрам\n"
     ]
    },
    {
     "data": {
      "image/png": "[encoded data removed]",
      "text/plain": [
       "<Figure size 360x360 with 1 Axes>"
      ]
     },
     "metadata": {},
     "output_type": "display_data"
    }
   ],
   "source": [
    "relevant['genre'].value_counts().sort_values(ascending=True).plot(kind='pie', figsize=(5, 5), legend=False)\n",
    "ax = plt.gca()\n",
    "ax.axes.yaxis.set_visible(False)\n",
    "print('Распределение игр по жанрам')"
   ]
  },
  {
   "cell_type": "markdown",
   "metadata": {
    "id": "_K2pKrybdpQH"
   },
   "source": [
    "**Вывод** Наиболее популярны игры в жанре экшен, ролевые и приключенческие игры. Наименеее популярны  пазлы, стратегии и игры-платформеры."
   ]
  },
  {
   "cell_type": "code",
   "execution_count": 42,
   "metadata": {
    "colab": {
     "base_uri": "https://localhost:8080/",
     "height": 402
    },
    "id": "r_5c83wJgpYN",
    "outputId": "a57dbd36-166b-4950-d0a4-b27716054543"
   },
   "outputs": [
    {
     "name": "stdout",
     "output_type": "stream",
     "text": [
      "Распределение продаж по жанрам\n"
     ]
    },
    {
     "data": {
      "image/png": "[encoded data removed]",
      "text/plain": [
       "<Figure size 720x360 with 1 Axes>"
      ]
     },
     "metadata": {
      "needs_background": "light"
     },
     "output_type": "display_data"
    }
   ],
   "source": [
    "relevant.pivot_table(index='genre', aggfunc={'total_sales':sum}).sort_values(by='total_sales', ascending=False).plot(y='total_sales', kind='bar', figsize=(10, 5))\n",
    "print('Распределение продаж по жанрам')"
   ]
  },
  {
   "cell_type": "markdown",
   "metadata": {
    "id": "-QSqXwTxhQSF"
   },
   "source": [
    "**Вывод** Распределение продаж отличается от распределния игр по жанрам. Наиболее продваемыми играми ожидаемо оказались игры в жанке экшен. Но, на втрой позиции - шутеры, замыкают тройку - ролевые игры.   \n",
    "**Гипотеза** шутеры, спортивные игры приносят болше продаж в пересчёте на одну игру."
   ]
  },
  {
   "cell_type": "code",
   "execution_count": 43,
   "metadata": {
    "colab": {
     "base_uri": "https://localhost:8080/",
     "height": 443
    },
    "id": "VI2HUX6viSY2",
    "outputId": "412cab12-6611-43a6-bbe7-03575f6296c5"
   },
   "outputs": [
    {
     "name": "stdout",
     "output_type": "stream",
     "text": [
      "Отношение числа игр к их суммарным продажам\n"
     ]
    },
    {
     "data": {
      "text/html": [
       "<div>\n",
       "<style scoped>\n",
       "    .dataframe tbody tr th:only-of-type {\n",
       "        vertical-align: middle;\n",
       "    }\n",
       "\n",
       "    .dataframe tbody tr th {\n",
       "        vertical-align: top;\n",
       "    }\n",
       "\n",
       "    .dataframe thead th {\n",
       "        text-align: right;\n",
       "    }\n",
       "</style>\n",
       "<table border=\"1\" class=\"dataframe\">\n",
       "  <thead>\n",
       "    <tr style=\"text-align: right;\">\n",
       "      <th></th>\n",
       "      <th>genre</th>\n",
       "      <th>games_count</th>\n",
       "      <th>total_sales</th>\n",
       "      <th>revenue</th>\n",
       "    </tr>\n",
       "  </thead>\n",
       "  <tbody>\n",
       "    <tr>\n",
       "      <th>0</th>\n",
       "      <td>Shooter</td>\n",
       "      <td>171</td>\n",
       "      <td>241.64</td>\n",
       "      <td>1.41</td>\n",
       "    </tr>\n",
       "    <tr>\n",
       "      <th>1</th>\n",
       "      <td>Sports</td>\n",
       "      <td>141</td>\n",
       "      <td>140.07</td>\n",
       "      <td>0.99</td>\n",
       "    </tr>\n",
       "    <tr>\n",
       "      <th>2</th>\n",
       "      <td>Platform</td>\n",
       "      <td>58</td>\n",
       "      <td>49.39</td>\n",
       "      <td>0.85</td>\n",
       "    </tr>\n",
       "    <tr>\n",
       "      <th>3</th>\n",
       "      <td>Action</td>\n",
       "      <td>432</td>\n",
       "      <td>329.84</td>\n",
       "      <td>0.76</td>\n",
       "    </tr>\n",
       "    <tr>\n",
       "      <th>4</th>\n",
       "      <td>Misc</td>\n",
       "      <td>56</td>\n",
       "      <td>37.91</td>\n",
       "      <td>0.68</td>\n",
       "    </tr>\n",
       "    <tr>\n",
       "      <th>5</th>\n",
       "      <td>Simulation</td>\n",
       "      <td>37</td>\n",
       "      <td>24.75</td>\n",
       "      <td>0.67</td>\n",
       "    </tr>\n",
       "    <tr>\n",
       "      <th>6</th>\n",
       "      <td>Role-Playing</td>\n",
       "      <td>161</td>\n",
       "      <td>91.80</td>\n",
       "      <td>0.57</td>\n",
       "    </tr>\n",
       "    <tr>\n",
       "      <th>7</th>\n",
       "      <td>Racing</td>\n",
       "      <td>79</td>\n",
       "      <td>41.56</td>\n",
       "      <td>0.53</td>\n",
       "    </tr>\n",
       "    <tr>\n",
       "      <th>8</th>\n",
       "      <td>Fighting</td>\n",
       "      <td>64</td>\n",
       "      <td>26.28</td>\n",
       "      <td>0.41</td>\n",
       "    </tr>\n",
       "    <tr>\n",
       "      <th>9</th>\n",
       "      <td>Puzzle</td>\n",
       "      <td>9</td>\n",
       "      <td>3.14</td>\n",
       "      <td>0.35</td>\n",
       "    </tr>\n",
       "    <tr>\n",
       "      <th>10</th>\n",
       "      <td>Strategy</td>\n",
       "      <td>31</td>\n",
       "      <td>9.43</td>\n",
       "      <td>0.30</td>\n",
       "    </tr>\n",
       "    <tr>\n",
       "      <th>11</th>\n",
       "      <td>Adventure</td>\n",
       "      <td>58</td>\n",
       "      <td>11.70</td>\n",
       "      <td>0.20</td>\n",
       "    </tr>\n",
       "  </tbody>\n",
       "</table>\n",
       "</div>"
      ],
      "text/plain": [
       "           genre  games_count  total_sales  revenue\n",
       "0        Shooter          171       241.64     1.41\n",
       "1         Sports          141       140.07     0.99\n",
       "2       Platform           58        49.39     0.85\n",
       "3         Action          432       329.84     0.76\n",
       "4           Misc           56        37.91     0.68\n",
       "5     Simulation           37        24.75     0.67\n",
       "6   Role-Playing          161        91.80     0.57\n",
       "7         Racing           79        41.56     0.53\n",
       "8       Fighting           64        26.28     0.41\n",
       "9         Puzzle            9         3.14     0.35\n",
       "10      Strategy           31         9.43     0.30\n",
       "11     Adventure           58        11.70     0.20"
      ]
     },
     "metadata": {},
     "output_type": "display_data"
    }
   ],
   "source": [
    "# Проверим гипотезу\n",
    "print('Отношение числа игр к их суммарным продажам')\n",
    "revenue = relevant.pivot_table(index='genre', aggfunc={'total_sales':sum, 'genre':'count'})\n",
    "revenue['revenue'] = (revenue['total_sales'] / revenue['genre']).round(2) # Отношение суммарных продаж к числу игр, чем выше - тем лучше\n",
    "revenue.rename(columns={'genre': 'games_count'}, inplace=True)\n",
    "display(revenue.sort_values('revenue', ascending=False).reset_index())\n"
   ]
  },
  {
   "cell_type": "markdown",
   "metadata": {
    "id": "gnDXSJlLl1ur"
   },
   "source": [
    "**Выводы:**   \n",
    "1. Отношение суммарных продаж к числу выпущеннх игр у жанра шутер самое высокое, как мы и подозревали.    \n",
    "1. Высокий показатель у спортивных симуляторв и платформеров (а их не так много выпускают).   \n",
    "1. Приключенчикие игры, которых досточно много выпускают, приносят продаж меньше всех. "
   ]
  },
  {
   "cell_type": "markdown",
   "metadata": {
    "id": "qby1Por6UaDP"
   },
   "source": [
    "---"
   ]
  },
  {
   "cell_type": "markdown",
   "metadata": {
    "id": "6VZKe88ZUPca"
   },
   "source": [
    "## 4. Портрет пользователя <a id=\"users\"></a>"
   ]
  },
  {
   "cell_type": "markdown",
   "metadata": {
    "id": "W319mCzgVIy9"
   },
   "source": [
    "Определите для пользователя каждого региона (NA, EU, JP):   \n",
    "* Самые популярные платформы (топ-5). Опишите различия в долях продаж.  \n",
    "* Самые популярные жанры (топ-5). Поясните разницу.   \n",
    "* Влияет ли рейтинг ESRB на продажи в отдельном регионе?   \n",
    "  \n",
    "Где:   \n",
    "**EU** - Евросоюз   \n",
    "**NA** - Северная Америка  \n",
    "**JP** - Япония"
   ]
  },
  {
   "cell_type": "markdown",
   "metadata": {
    "id": "7yUn_hnqXoT7"
   },
   "source": [
    "### 4.1. Топ-5 платформ <a id=\"top_platform\"></a>"
   ]
  },
  {
   "cell_type": "code",
   "execution_count": 44,
   "metadata": {
    "colab": {
     "base_uri": "https://localhost:8080/",
     "height": 394
    },
    "id": "IpMKd0QHU5yu",
    "outputId": "68a5e040-eb1a-43c7-fb0a-994f4fe29d72"
   },
   "outputs": [
    {
     "data": {
      "text/html": [
       "<div>\n",
       "<style scoped>\n",
       "    .dataframe tbody tr th:only-of-type {\n",
       "        vertical-align: middle;\n",
       "    }\n",
       "\n",
       "    .dataframe tbody tr th {\n",
       "        vertical-align: top;\n",
       "    }\n",
       "\n",
       "    .dataframe thead th {\n",
       "        text-align: right;\n",
       "    }\n",
       "</style>\n",
       "<table border=\"1\" class=\"dataframe\">\n",
       "  <thead>\n",
       "    <tr style=\"text-align: right;\">\n",
       "      <th></th>\n",
       "      <th>platform</th>\n",
       "      <th>EU</th>\n",
       "      <th>JP</th>\n",
       "      <th>NA</th>\n",
       "    </tr>\n",
       "  </thead>\n",
       "  <tbody>\n",
       "    <tr>\n",
       "      <th>0</th>\n",
       "      <td>3DS</td>\n",
       "      <td>20.01</td>\n",
       "      <td>26.54</td>\n",
       "      <td>28.53</td>\n",
       "    </tr>\n",
       "    <tr>\n",
       "      <th>1</th>\n",
       "      <td>DS</td>\n",
       "      <td>0.05</td>\n",
       "      <td>0.37</td>\n",
       "      <td>0.56</td>\n",
       "    </tr>\n",
       "    <tr>\n",
       "      <th>2</th>\n",
       "      <td>PC</td>\n",
       "      <td>33.71</td>\n",
       "      <td>0.00</td>\n",
       "      <td>17.72</td>\n",
       "    </tr>\n",
       "    <tr>\n",
       "      <th>3</th>\n",
       "      <td>PS3</td>\n",
       "      <td>78.49</td>\n",
       "      <td>20.38</td>\n",
       "      <td>77.11</td>\n",
       "    </tr>\n",
       "    <tr>\n",
       "      <th>4</th>\n",
       "      <td>PS4</td>\n",
       "      <td>112.44</td>\n",
       "      <td>9.43</td>\n",
       "      <td>84.46</td>\n",
       "    </tr>\n",
       "    <tr>\n",
       "      <th>5</th>\n",
       "      <td>PSP</td>\n",
       "      <td>0.00</td>\n",
       "      <td>0.15</td>\n",
       "      <td>0.00</td>\n",
       "    </tr>\n",
       "    <tr>\n",
       "      <th>6</th>\n",
       "      <td>PSV</td>\n",
       "      <td>7.39</td>\n",
       "      <td>7.05</td>\n",
       "      <td>8.52</td>\n",
       "    </tr>\n",
       "    <tr>\n",
       "      <th>7</th>\n",
       "      <td>Wii</td>\n",
       "      <td>4.10</td>\n",
       "      <td>1.09</td>\n",
       "      <td>7.03</td>\n",
       "    </tr>\n",
       "    <tr>\n",
       "      <th>8</th>\n",
       "      <td>WiiU</td>\n",
       "      <td>20.42</td>\n",
       "      <td>10.17</td>\n",
       "      <td>30.69</td>\n",
       "    </tr>\n",
       "    <tr>\n",
       "      <th>9</th>\n",
       "      <td>X360</td>\n",
       "      <td>57.15</td>\n",
       "      <td>1.38</td>\n",
       "      <td>106.99</td>\n",
       "    </tr>\n",
       "    <tr>\n",
       "      <th>10</th>\n",
       "      <td>XOne</td>\n",
       "      <td>42.23</td>\n",
       "      <td>0.29</td>\n",
       "      <td>76.03</td>\n",
       "    </tr>\n",
       "  </tbody>\n",
       "</table>\n",
       "</div>"
      ],
      "text/plain": [
       "   platform      EU     JP      NA\n",
       "0       3DS   20.01  26.54   28.53\n",
       "1        DS    0.05   0.37    0.56\n",
       "2        PC   33.71   0.00   17.72\n",
       "3       PS3   78.49  20.38   77.11\n",
       "4       PS4  112.44   9.43   84.46\n",
       "5       PSP    0.00   0.15    0.00\n",
       "6       PSV    7.39   7.05    8.52\n",
       "7       Wii    4.10   1.09    7.03\n",
       "8      WiiU   20.42  10.17   30.69\n",
       "9      X360   57.15   1.38  106.99\n",
       "10     XOne   42.23   0.29   76.03"
      ]
     },
     "metadata": {},
     "output_type": "display_data"
    }
   ],
   "source": [
    "# Для каждого региона посчитаем суммарные продажи по платформам\n",
    "region_top_platforms = (relevant.pivot_table(index='platform', aggfunc={'eu_sales':sum, 'na_sales':sum, 'jp_sales':sum}))\n",
    "region_top_platforms.rename(columns={'eu_sales': 'EU', 'na_sales': 'NA', 'jp_sales': 'JP'}, inplace=True)\n",
    "display((region_top_platforms).reset_index())"
   ]
  },
  {
   "cell_type": "code",
   "execution_count": 45,
   "metadata": {
    "colab": {
     "base_uri": "https://localhost:8080/",
     "height": 1000
    },
    "id": "KlwIutGhWEnJ",
    "outputId": "81f094d0-fc87-41c8-d297-7fd858805886"
   },
   "outputs": [
    {
     "name": "stdout",
     "output_type": "stream",
     "text": [
      "Топ-5 платформ по регионам\n"
     ]
    },
    {
     "data": {
      "image/png": "[encoded data removed]",
      "text/plain": [
       "<Figure size 720x360 with 1 Axes>"
      ]
     },
     "metadata": {
      "needs_background": "light"
     },
     "output_type": "display_data"
    },
    {
     "data": {
      "image/png": "[encoded data removed]",
      "text/plain": [
       "<Figure size 720x360 with 1 Axes>"
      ]
     },
     "metadata": {
      "needs_background": "light"
     },
     "output_type": "display_data"
    },
    {
     "data": {
      "image/png": "[encoded data removed]",
      "text/plain": [
       "<Figure size 720x360 with 1 Axes>"
      ]
     },
     "metadata": {
      "needs_background": "light"
     },
     "output_type": "display_data"
    }
   ],
   "source": [
    "# Построим графики распределения продаж по платформам и оставим топ-5 платформ по популярности в каждом из регионов\n",
    "regions = ['EU', 'NA', 'JP']\n",
    "for elem in range(0, 3):\n",
    "    (region_top_platforms.nlargest(5, columns=regions[elem]).plot(y=regions[elem], kind='bar', figsize=(10, 5), legend=False, title=regions[elem]))\n",
    "    plt.xticks(rotation = 0)\n",
    "print('Топ-5 платформ по регионам')"
   ]
  },
  {
   "cell_type": "markdown",
   "metadata": {
    "id": "KIXD3ksAXWfz"
   },
   "source": [
    "**Выводы:**    \n",
    "1. В Европе самая популярная платформа - PS4, в Северной Америке - X360, в Японии - 3DS.   \n",
    "1. Популярность X360 в Сверной Америке и 3DS в Японии можно обяснить тем что это местные производители для жителей этих стран: X360 выпускает Microsoft (США), а 3DS - Nintendo (Япония). Жители этих стран являются целевой аудиторией производителей данных консолей и на них направлена реклама производителей.   \n",
    "1. В Европе собственного производителя конслей нет, а популярность  PS4 опят же можно обяснить грамотным маркетингом компании Sony (Япония) на еропейском рынке.\n",
    "\n"
   ]
  },
  {
   "cell_type": "markdown",
   "metadata": {
    "id": "Z2WwnfQTX8Gj"
   },
   "source": [
    "### 4.2. Топ-5 жанров <a id=\"top_genre\"></a>"
   ]
  },
  {
   "cell_type": "code",
   "execution_count": 46,
   "metadata": {
    "colab": {
     "base_uri": "https://localhost:8080/",
     "height": 426
    },
    "id": "5nHaApwnYEPK",
    "outputId": "d45ad415-93da-4757-bd63-e335675966b8"
   },
   "outputs": [
    {
     "data": {
      "text/html": [
       "<div>\n",
       "<style scoped>\n",
       "    .dataframe tbody tr th:only-of-type {\n",
       "        vertical-align: middle;\n",
       "    }\n",
       "\n",
       "    .dataframe tbody tr th {\n",
       "        vertical-align: top;\n",
       "    }\n",
       "\n",
       "    .dataframe thead th {\n",
       "        text-align: right;\n",
       "    }\n",
       "</style>\n",
       "<table border=\"1\" class=\"dataframe\">\n",
       "  <thead>\n",
       "    <tr style=\"text-align: right;\">\n",
       "      <th></th>\n",
       "      <th>genre</th>\n",
       "      <th>EU</th>\n",
       "      <th>JP</th>\n",
       "      <th>NA</th>\n",
       "    </tr>\n",
       "  </thead>\n",
       "  <tbody>\n",
       "    <tr>\n",
       "      <th>0</th>\n",
       "      <td>Action</td>\n",
       "      <td>127.81</td>\n",
       "      <td>20.92</td>\n",
       "      <td>139.84</td>\n",
       "    </tr>\n",
       "    <tr>\n",
       "      <th>1</th>\n",
       "      <td>Adventure</td>\n",
       "      <td>5.16</td>\n",
       "      <td>1.06</td>\n",
       "      <td>3.99</td>\n",
       "    </tr>\n",
       "    <tr>\n",
       "      <th>2</th>\n",
       "      <td>Fighting</td>\n",
       "      <td>7.25</td>\n",
       "      <td>3.98</td>\n",
       "      <td>12.01</td>\n",
       "    </tr>\n",
       "    <tr>\n",
       "      <th>3</th>\n",
       "      <td>Misc</td>\n",
       "      <td>11.03</td>\n",
       "      <td>4.78</td>\n",
       "      <td>18.89</td>\n",
       "    </tr>\n",
       "    <tr>\n",
       "      <th>4</th>\n",
       "      <td>Platform</td>\n",
       "      <td>16.62</td>\n",
       "      <td>7.96</td>\n",
       "      <td>20.39</td>\n",
       "    </tr>\n",
       "    <tr>\n",
       "      <th>5</th>\n",
       "      <td>Puzzle</td>\n",
       "      <td>1.14</td>\n",
       "      <td>0.81</td>\n",
       "      <td>1.00</td>\n",
       "    </tr>\n",
       "    <tr>\n",
       "      <th>6</th>\n",
       "      <td>Racing</td>\n",
       "      <td>20.84</td>\n",
       "      <td>2.13</td>\n",
       "      <td>13.87</td>\n",
       "    </tr>\n",
       "    <tr>\n",
       "      <th>7</th>\n",
       "      <td>Role-Playing</td>\n",
       "      <td>28.34</td>\n",
       "      <td>17.52</td>\n",
       "      <td>36.76</td>\n",
       "    </tr>\n",
       "    <tr>\n",
       "      <th>8</th>\n",
       "      <td>Shooter</td>\n",
       "      <td>89.26</td>\n",
       "      <td>7.62</td>\n",
       "      <td>115.75</td>\n",
       "    </tr>\n",
       "    <tr>\n",
       "      <th>9</th>\n",
       "      <td>Simulation</td>\n",
       "      <td>10.17</td>\n",
       "      <td>7.29</td>\n",
       "      <td>5.70</td>\n",
       "    </tr>\n",
       "    <tr>\n",
       "      <th>10</th>\n",
       "      <td>Sports</td>\n",
       "      <td>53.81</td>\n",
       "      <td>2.46</td>\n",
       "      <td>65.83</td>\n",
       "    </tr>\n",
       "    <tr>\n",
       "      <th>11</th>\n",
       "      <td>Strategy</td>\n",
       "      <td>4.56</td>\n",
       "      <td>0.32</td>\n",
       "      <td>3.61</td>\n",
       "    </tr>\n",
       "  </tbody>\n",
       "</table>\n",
       "</div>"
      ],
      "text/plain": [
       "           genre      EU     JP      NA\n",
       "0         Action  127.81  20.92  139.84\n",
       "1      Adventure    5.16   1.06    3.99\n",
       "2       Fighting    7.25   3.98   12.01\n",
       "3           Misc   11.03   4.78   18.89\n",
       "4       Platform   16.62   7.96   20.39\n",
       "5         Puzzle    1.14   0.81    1.00\n",
       "6         Racing   20.84   2.13   13.87\n",
       "7   Role-Playing   28.34  17.52   36.76\n",
       "8        Shooter   89.26   7.62  115.75\n",
       "9     Simulation   10.17   7.29    5.70\n",
       "10        Sports   53.81   2.46   65.83\n",
       "11      Strategy    4.56   0.32    3.61"
      ]
     },
     "metadata": {},
     "output_type": "display_data"
    }
   ],
   "source": [
    "# Для каждого региона посчитаем суммарные продажи по жанрам\n",
    "region_top_genre = (relevant.pivot_table(index='genre', aggfunc={'na_sales':sum, 'eu_sales':sum, 'jp_sales':sum}))\n",
    "region_top_genre.rename(columns={'eu_sales': 'EU', 'na_sales': 'NA', 'jp_sales': 'JP'}, inplace=True)\n",
    "display((region_top_genre).reset_index())"
   ]
  },
  {
   "cell_type": "code",
   "execution_count": 47,
   "metadata": {
    "colab": {
     "base_uri": "https://localhost:8080/",
     "height": 1000
    },
    "id": "FXOMhlQRYhLT",
    "outputId": "036c8b44-63ac-44db-9a82-ce28c609215b"
   },
   "outputs": [
    {
     "name": "stdout",
     "output_type": "stream",
     "text": [
      "Топ-5 жанров по регионам\n"
     ]
    },
    {
     "data": {
      "image/png": "[encoded data removed]",
      "text/plain": [
       "<Figure size 720x360 with 1 Axes>"
      ]
     },
     "metadata": {
      "needs_background": "light"
     },
     "output_type": "display_data"
    },
    {
     "data": {
      "image/png": "[encoded data removed]",
      "text/plain": [
       "<Figure size 720x360 with 1 Axes>"
      ]
     },
     "metadata": {
      "needs_background": "light"
     },
     "output_type": "display_data"
    },
    {
     "data": {
      "image/png": "[encoded data removed]",
      "text/plain": [
       "<Figure size 720x360 with 1 Axes>"
      ]
     },
     "metadata": {
      "needs_background": "light"
     },
     "output_type": "display_data"
    }
   ],
   "source": [
    "# Построим графики распределения продаж по жанрам и оставим топ-5 жанров по популярности в каждом из регионов\n",
    "for elem in range(0, 3):\n",
    "    (region_top_genre.nlargest(5, columns=regions[elem]).plot(y=regions[elem], kind='bar', figsize=(10, 5), legend=False, title=regions[elem]))\n",
    "    plt.xticks(rotation = 0)\n",
    "print('Топ-5 жанров по регионам')"
   ]
  },
  {
   "cell_type": "markdown",
   "metadata": {
    "id": "rITNfLphdwZm"
   },
   "source": [
    "**Выводы:**    \n",
    "1. В Европе и Северной Америке популярны игры в жанре экшен, в Японии - ролеывые игры.   \n",
    "1. Жанр экшен в Европе и Северной Америке можно обьяснить тем фактом, что это самый популярный жанр игр в целом (как мы установили ранее).     \n",
    "1. Популярность ролевых игр в  Японии обясняется их культурой и сложившимся традициями. Подробнее https://vc.ru/finance/192302-osnovnye-cherty-yaponskogo-geymdeva-i-osobennosti-yaponskoy-kultury-povliyavshie-na-nego"
   ]
  },
  {
   "cell_type": "markdown",
   "metadata": {
    "id": "baJenoE-fPrH"
   },
   "source": [
    "### 4.3. Влияние рейтинга ESRB на продажи в регионах <a id=\"esrb\"></a>"
   ]
  },
  {
   "cell_type": "markdown",
   "metadata": {
    "id": "MgfJb29Og0UA"
   },
   "source": [
    "**Расшифровка рейтингов**   \n",
    "«E» («Everyone») — «Для всех»: Содержание вполне подходит для возрастной категории старше 6 лет; такие игры могут понравиться и взрослым. Игры с этим рейтингом могут содержать минимальное насилие, в основном «мультяшного» характера.  \n",
    "«E10+» («Everyone 10 and older») — «Для всех старше 10 лет»: Возрастная категория — от 10 лет. Проекты с данным рейтингом могут содержать немного больше мультипликационного или мягкого насилия, или несколько откровенные сцены.    \n",
    "«T» («Teen») — «Подросткам 13—19 лет»: Игра подходит для подростков старше 13 лет. Проекты из данной категории могут содержать насилие, непристойные сцены, грубый юмор, в меру откровенное сексуальное содержимое, кровь или нечастое использование ненормативной лексики.    \n",
    "«M» («Mature») — «От 17 лет»: Материалы игры не подходят для возрастной категории младше 17 лет. Проекты с данным рейтингом могут содержать достаточно жестокое насилие, большое количество крови с расчленением, непристойные сексуальные сцены или грубую ненормативную лексику, нежелательную для младшей аудитории.   \n",
    "Источник: http://www.gamer.ru/everything/reytingi-esrb-ot-a-do-ya"
   ]
  },
  {
   "cell_type": "code",
   "execution_count": 48,
   "metadata": {
    "colab": {
     "base_uri": "https://localhost:8080/",
     "height": 206
    },
    "id": "Ze5LGIMAfdsP",
    "outputId": "fb86aa42-8302-412c-e210-88d1a60bf669"
   },
   "outputs": [
    {
     "data": {
      "text/html": [
       "<div>\n",
       "<style scoped>\n",
       "    .dataframe tbody tr th:only-of-type {\n",
       "        vertical-align: middle;\n",
       "    }\n",
       "\n",
       "    .dataframe tbody tr th {\n",
       "        vertical-align: top;\n",
       "    }\n",
       "\n",
       "    .dataframe thead th {\n",
       "        text-align: right;\n",
       "    }\n",
       "</style>\n",
       "<table border=\"1\" class=\"dataframe\">\n",
       "  <thead>\n",
       "    <tr style=\"text-align: right;\">\n",
       "      <th></th>\n",
       "      <th>rating</th>\n",
       "      <th>EU</th>\n",
       "      <th>JP</th>\n",
       "      <th>NA</th>\n",
       "    </tr>\n",
       "  </thead>\n",
       "  <tbody>\n",
       "    <tr>\n",
       "      <th>0</th>\n",
       "      <td>E</td>\n",
       "      <td>97.44</td>\n",
       "      <td>26.79</td>\n",
       "      <td>99.19</td>\n",
       "    </tr>\n",
       "    <tr>\n",
       "      <th>1</th>\n",
       "      <td>E10+</td>\n",
       "      <td>41.46</td>\n",
       "      <td>7.95</td>\n",
       "      <td>58.40</td>\n",
       "    </tr>\n",
       "    <tr>\n",
       "      <th>2</th>\n",
       "      <td>M</td>\n",
       "      <td>183.82</td>\n",
       "      <td>20.02</td>\n",
       "      <td>217.67</td>\n",
       "    </tr>\n",
       "    <tr>\n",
       "      <th>3</th>\n",
       "      <td>T</td>\n",
       "      <td>49.86</td>\n",
       "      <td>21.86</td>\n",
       "      <td>61.32</td>\n",
       "    </tr>\n",
       "    <tr>\n",
       "      <th>4</th>\n",
       "      <td>unknown</td>\n",
       "      <td>3.41</td>\n",
       "      <td>0.23</td>\n",
       "      <td>1.06</td>\n",
       "    </tr>\n",
       "  </tbody>\n",
       "</table>\n",
       "</div>"
      ],
      "text/plain": [
       "    rating      EU     JP      NA\n",
       "0        E   97.44  26.79   99.19\n",
       "1     E10+   41.46   7.95   58.40\n",
       "2        M  183.82  20.02  217.67\n",
       "3        T   49.86  21.86   61.32\n",
       "4  unknown    3.41   0.23    1.06"
      ]
     },
     "metadata": {},
     "output_type": "display_data"
    }
   ],
   "source": [
    "# Для каждого региона посчитаем суммарные продажи игр с разным ретингом\n",
    "region_rating = (relevant.pivot_table(index='rating', aggfunc={'na_sales':sum, 'eu_sales':sum, 'jp_sales':sum}))\n",
    "region_rating.rename(columns={'eu_sales': 'EU', 'na_sales': 'NA', 'jp_sales': 'JP'}, inplace=True)\n",
    "display((region_rating).reset_index())"
   ]
  },
  {
   "cell_type": "markdown",
   "metadata": {
    "id": "P7FOxmU-hTvF"
   },
   "source": [
    "Колонка rating содержит значение unknown - так мы заменяли пропущенне значения."
   ]
  },
  {
   "cell_type": "code",
   "execution_count": 49,
   "metadata": {
    "colab": {
     "base_uri": "https://localhost:8080/",
     "height": 1000
    },
    "id": "nXKdFIxff4Nm",
    "outputId": "40f14f95-2172-471c-b0ac-4fe5faae9a43"
   },
   "outputs": [
    {
     "name": "stdout",
     "output_type": "stream",
     "text": [
      "Продажи игр с разным ретингом по регионам\n"
     ]
    },
    {
     "data": {
      "image/png": "[encoded data removed]",
      "text/plain": [
       "<Figure size 720x360 with 1 Axes>"
      ]
     },
     "metadata": {
      "needs_background": "light"
     },
     "output_type": "display_data"
    },
    {
     "data": {
      "image/png": "[encoded data removed]",
      "text/plain": [
       "<Figure size 720x360 with 1 Axes>"
      ]
     },
     "metadata": {
      "needs_background": "light"
     },
     "output_type": "display_data"
    },
    {
     "data": {
      "image/png": "[encoded data removed]",
      "text/plain": [
       "<Figure size 720x360 with 1 Axes>"
      ]
     },
     "metadata": {
      "needs_background": "light"
     },
     "output_type": "display_data"
    }
   ],
   "source": [
    "# Построим графики распределения продаж по ретингам игр в каждом из регионов\n",
    "for elem in range(0, 3):\n",
    "    (region_rating.nlargest(5, columns=regions[elem]).plot(y=regions[elem], kind='bar', figsize=(10, 5), legend=False, title=regions[elem]))\n",
    "    plt.xticks(rotation = 0)\n",
    "print('Продажи игр с разным ретингом по регионам')"
   ]
  },
  {
   "cell_type": "markdown",
   "metadata": {
    "id": "IHW9rwryhn5P"
   },
   "source": [
    "**Выводы:**    \n",
    "1. В Европе и Северной Америке снова схожие вкусы: популярны игры с ретингом «M» («Mature») — «От 17 лет», что можно объяснить культурыми особенностями (общество либерально) и «E» («Everyone») — «Для всех».   \n",
    "1. В Японии популярны игры с ретингом «E» («Everyone») — «Для всех» и «T» («Teen») — «Подросткам 13—19 лет» - видимо основная уадитори игр это дети и подростки + культурные особенности описанные в статье с vc.ru - вкусы отличеются от западных."
   ]
  },
  {
   "cell_type": "markdown",
   "metadata": {
    "id": "H0ygtWz8ufjN"
   },
   "source": [
    "## 5. Проверка гипотез <a id=\"hypothesis_testing\"></a>   \n",
    "**Гипотезы:**   \n",
    "1. Средние пользовательские рейтинги платформ Xbox One и PC одинаковые;   \n",
    "1. Средние пользовательские рейтинги жанров Action и Sports разные."
   ]
  },
  {
   "cell_type": "markdown",
   "metadata": {
    "id": "iYaJtaoJufjN"
   },
   "source": [
    "### 5.1. Гипотеза 1: Средние пользовательские рейтинги платформ Xbox One и PC одинаковые <a id=\"hypothesis_1\"></a>"
   ]
  },
  {
   "cell_type": "markdown",
   "metadata": {
    "id": "yu0VZ6b7ufjN"
   },
   "source": [
    "Сформулируем нулевую и альтернативную гипотезы:   \n",
    "   \n",
    "H0 - средние пользовательские рейтинги платформ Xbox One и PC равны.   \n",
    "H1 - средний пользовательский рейтинг платформы Xbox One отличается от среднего пользовательского рейтинга платформы PC.    Альтернативная гипотеза у нас двусторонняя, т.к. средний рейтинг может отличаться от как в большую так и в меньшую сторону.   "
   ]
  },
  {
   "cell_type": "code",
   "execution_count": 50,
   "metadata": {
    "id": "yBJlXIhoufjN",
    "outputId": "4e166a0d-f5cc-4bc9-d80c-bda33039e44e"
   },
   "outputs": [
    {
     "name": "stdout",
     "output_type": "stream",
     "text": [
      "Дисперсия платформы Xbox One: 1.7963991130820411\n",
      "Дисперсия платформы PC: 2.687800165751582\n",
      "Разница между дисперсиями платформ: 0.8914010526695408\n"
     ]
    }
   ],
   "source": [
    "#Чтобы проверить гипотезу о равенстве средних двух выборок применим метод scipy.stats.ttest_ind\n",
    "# 1. удалим из выборки отрицательные значения, которыми ранее заменили пропуски чтобы они не влияли на распределения\n",
    "xbox_one_ttest = relevant[(relevant['platform']=='XOne')&(relevant['user_score'] >= 0)]['user_score']\n",
    "pc_ttest = relevant[(relevant['platform']=='PC')&(relevant['user_score'] >= 0)]['user_score']\n",
    "# 2. проверим дисперсии рассматриваемых выборок\n",
    "xbox_one_ttest_var = np.var(xbox_one_ttest, ddof=1)\n",
    "pc_ttest_var = np.var(pc_ttest, ddof=1)\n",
    "\n",
    "print('Дисперсия платформы Xbox One:', xbox_one_ttest_var)\n",
    "print('Дисперсия платформы PC:', pc_ttest_var)\n",
    "print('Разница между дисперсиями платформ:', pc_ttest_var - xbox_one_ttest_var)"
   ]
  },
  {
   "cell_type": "markdown",
   "metadata": {
    "id": "UIbkd0XEufjO"
   },
   "source": [
    "**NB!** Разница между дисперсиями выборок составляет 0,86, что при данном уровне дисперсии довольно большая разница и считать дисперсии выборок равными нельзя, поэтому зададим аргумент equal_var=False."
   ]
  },
  {
   "cell_type": "code",
   "execution_count": 51,
   "metadata": {
    "id": "22YT-vcoufjO",
    "outputId": "ca51427b-8ddb-4c50-dc6c-6c6987c12055"
   },
   "outputs": [
    {
     "name": "stdout",
     "output_type": "stream",
     "text": [
      "p-значение: 0.59\n",
      "Не получилось отвергнуть нулевую гипотезу\n"
     ]
    }
   ],
   "source": [
    "alpha = 0.05 # Уровень значимости зададим равным 5%\n",
    "results = st.ttest_ind(xbox_one_ttest, pc_ttest, equal_var=False)\n",
    "print('p-значение:', (results.pvalue).round(2))\n",
    "if (results.pvalue < alpha):\n",
    "    print('Отвергаем нулевую гипотезу')\n",
    "else:\n",
    "    print('Не получилось отвергнуть нулевую гипотезу')"
   ]
  },
  {
   "cell_type": "markdown",
   "metadata": {
    "id": "gW7uBf9QufjO"
   },
   "source": [
    "**Вывод** P-value составляет 55%, что значительно больше 5%, таким образом мы можем сделать вывод о том, что *средний рейтинг платформ Xbox One и PC статистически значимо не отличается*."
   ]
  },
  {
   "cell_type": "markdown",
   "metadata": {
    "id": "Lbz4hthMufjO"
   },
   "source": [
    "### 5.2. Гипотеза 2: Средние пользовательские рейтинги жанров Action и Sports разные <a id=\"hypothesis_2\"></a>"
   ]
  },
  {
   "cell_type": "markdown",
   "metadata": {
    "id": "zivYQcO0ufjP"
   },
   "source": [
    "Сформулируем нулевую и альтернативную гипотезы:   \n",
    "\n",
    "H0 - средние пользовательские рейтинги жанров Action и Sports равны.    \n",
    "H1 -  средние пользовательские рейтинги жанров Action и Sports различаются. Приэтом нам не важно больше он или меньше.   "
   ]
  },
  {
   "cell_type": "code",
   "execution_count": 52,
   "metadata": {
    "id": "fAOxZeC0ufjP",
    "outputId": "3e2ba90f-ae30-4b07-a73b-fbb61c67ad8e"
   },
   "outputs": [
    {
     "name": "stdout",
     "output_type": "stream",
     "text": [
      "Дисперсия жанра Action: 1.7516700502706886\n",
      "Дисперсия жанра Sports: 1.985888551165147\n",
      "Разница между дисперсиями платформ: 0.2342185008944584\n"
     ]
    }
   ],
   "source": [
    "#Чтобы проверить гипотезу о равенстве средних двух выборок применим метод scipy.stats.ttest_ind\n",
    "# 1. удалим из выборки отрицательные значения, которыми ранее заменили пропуски чтобы они не влияли на распределения\n",
    "action_ttest = relevant[(relevant['genre']=='Action')&(relevant['user_score'] >= 0)]['user_score']\n",
    "sports_ttest = relevant[(relevant['genre']=='Sports')&(relevant['user_score'] >= 0)]['user_score']\n",
    "# 2. проверим дисперсии рассматриваемых выборок\n",
    "action_ttest_var = np.var(action_ttest, ddof=1)\n",
    "sports_ttest_var = np.var(sports_ttest, ddof=1)\n",
    "\n",
    "print('Дисперсия жанра Action:', action_ttest_var)\n",
    "print('Дисперсия жанра Sports:', sports_ttest_var)\n",
    "print('Разница между дисперсиями платформ:', sports_ttest_var - action_ttest_var)"
   ]
  },
  {
   "cell_type": "markdown",
   "metadata": {
    "id": "E6mfi2SvufjP"
   },
   "source": [
    "**NB!** Разница между дисперсиями выборок составляет 0,86, что при данном уровне дисперсии довольно большая разница и считать дисперсии выборок равными нельзя, поэтому зададим аргумент equal_var=False."
   ]
  },
  {
   "cell_type": "code",
   "execution_count": 53,
   "metadata": {
    "id": "2Rti1fMBufjQ",
    "outputId": "3b45d891-8a67-4f4d-ab3c-01c18fba38df"
   },
   "outputs": [
    {
     "name": "stdout",
     "output_type": "stream",
     "text": [
      "p-значение: 5.858072645452818e-14\n",
      "Отвергаем нулевую гипотезу\n"
     ]
    }
   ],
   "source": [
    "alpha = 0.05 # Уровень значимости зададим равным 5%\n",
    "results = st.ttest_ind(action_ttest, sports_ttest, equal_var=False)\n",
    "print('p-значение:', (results.pvalue))\n",
    "if (results.pvalue < alpha):\n",
    "    print('Отвергаем нулевую гипотезу')\n",
    "else:\n",
    "    print('Не получилось отвергнуть нулевую гипотезу')"
   ]
  },
  {
   "cell_type": "markdown",
   "metadata": {
    "id": "zzbHjBWBufjQ"
   },
   "source": [
    "**Вывод** Значение P-value составлет малые доли процента, что значительно меньше 5%, таким образом мы можем сделать вывод о том, что *средние пользовательские рейтинги жанров Action и Sports статистически значимо различаются.*"
   ]
  },
  {
   "cell_type": "markdown",
   "metadata": {
    "id": "oM2COdaEufjQ"
   },
   "source": [
    "## 6. Общий вывод <a id=\"summary\"></a>"
   ]
  },
  {
   "cell_type": "markdown",
   "metadata": {},
   "source": [
    "1. Выпуск игра резко пошел в верх в 1993 году (вышел первый Doom) и в 2008-2009 году достиг пика (годы финансового кризиса), после чего последовал спад выпуска игр, длившийся до 2013 года (наверное, последствия рецессии экономики США после 2008 года). Был спад выпуска в 1999-2000 годах - возможно т.к. лопнул 'пузырь доткомов'. В последующие годы количество выпускаемых ежегодно игр так и не достигло пиковых значений.     \n",
    "1. Среди топ-10 платформ по объёму продаж игр есть те, пик популярности которых уже прошёл - PS и PS2, GB; есть угасающие - PS3, PSP, Wii и X360; есть набирающие популярность - PS4 (вышла в 2013 году).     \n",
    "1. Медианный срок существования платформы - 6 лет. Платформы-долгожители - PC и DS, но, для DS с 2013 года новые игры не выпускаются.    \n",
    "1. Срок появления новых платформ сокращается и к 2016 году составляет менее 1 года.    \n",
    "1. В список платформ, на которых выходили игры после 2011 года, попало 11 платформ, в том числе:   \n",
    " * Набирающие популярность – PS4, XOne, PSV.    \n",
    " * Вышедшие на плато продаж – PS3, X360, 3DS, WiiU, PC.    \n",
    " * С сокращающимися продажами – Wii (спад ещё не критичный, но уже вышла платформа-наследница WiiU), DS (продажи нулевые, поддержка платформы прекращена в 2014 году) и PSP (продажи стремится к нулю).    \n",
    "1. Объем продаж довольно резко возрастает при оценке критиков от 60 баллов и выше. Зависимость продаж от оценок пользователей менее выраженная, но продажи начинают расти с оценки в 3 - 4 балла. Таким образом - зависимость продаж от оценок критиков сильнее, чем от оценок пользователей.    \n",
    "1. Наиболее популярны (по числу выпущенных игр) игры в жанре экшен, ролевые и приключенческие игры. Наименее популярны пазлы, стратегии и игры-платформеры. Но, распределение продаж отличается от распределения игр по жанрам. Наиболее продаваемыми играми ожидаемо оказались игры в жанре экшен. Но, на второй позиции - шутеры, замыкают тройку - ролевые игры. Из этого следует, что:   \n",
    " * Отношение суммарных продаж к числу выпущенных игр у жанра шутер самое высокое.    \n",
    " * Высокий показатель у спортивных симуляторов и платформеров (а их не так много выпускают).   \n",
    " * Приключенческие игры, которых досочно много выпускают, приносят продаж меньше всех.   \n",
    "1. В Европе самая популярная платформа - PS4, в Северной Америке - X360, в Японии - 3DS. Популярность X360 в Северной Америке и 3DS в Японии можно объяснить тем что это местные производители для жителей этих стран: X360 выпускает Microsoft (США), а 3DS - Nintendo (Япония). Жители этих стран являются целевой аудиторией производителей данных консолей и на них направлена реклама производителей. В Европе собственного производителя консолей нет, а популярность PS4 опят же можно объяснить грамотным маркетингом компании Sony (Япония) на европейском рынке.    \n",
    "1. В Европе и Северной Америке популярны игры в жанре экшен, в Японии - ролевые игры. Жанр экшен в Европе и Северной Америке можно обьяснить тем фактом, что это самый популярный жанр игр в целом (как мы установили ранее). Популярность ролевых игр в Японии объясняется их культурой и сложившимся традициями.   \n",
    "1. В Европе и Северной Америке снова схожие вкусы: популярны игры с рейтингом «M» («Mature») — «От 17 лет», что можно объяснить культурными особенностями (общество либерально) и «E» («Everyone») — «Для всех». В Японии популярны игры с рейтингом «E» («Everyone») — «Для всех» и «T» («Teen») — «Подросткам 13—19 лет» - видимо основная аудитория игр это дети и подростки плюс вкусы отличаются от западных.   \n",
    "1. Средний рейтинг платформ Xbox One и PC статистически значимо не отличается.    \n",
    "1. Средние пользовательские рейтинги жанров экшен и спортивные симуляторы статистически значимо различаются.    \n"
   ]
  },
  {
   "cell_type": "code",
   "execution_count": 54,
   "metadata": {
    "id": "9urRtNERZaaX"
   },
   "outputs": [],
   "source": [
    "# И в конце пасхалка, как в компьтерной игре\n",
    "# Раскомметируй и запусти код ниже\n",
    "# from IPython.display import Image\n",
    "# display(Image(url='https://i.gifer.com/5UKF.gif', width = 200))"
   ]
  }
 ],
 "metadata": {
  "ExecuteTimeLog": [
   {
    "duration": 1360,
    "start_time": "2022-04-24T16:12:09.082Z"
   },
   {
    "duration": 74,
    "start_time": "2022-04-24T16:12:10.444Z"
   },
   {
    "duration": 2,
    "start_time": "2022-04-24T16:12:10.520Z"
   },
   {
    "duration": 18,
    "start_time": "2022-04-24T16:12:10.524Z"
   },
   {
    "duration": 3,
    "start_time": "2022-04-24T16:12:10.544Z"
   },
   {
    "duration": 19,
    "start_time": "2022-04-24T16:12:10.549Z"
   },
   {
    "duration": 15,
    "start_time": "2022-04-24T16:12:10.569Z"
   },
   {
    "duration": 9,
    "start_time": "2022-04-24T16:12:10.586Z"
   },
   {
    "duration": 39,
    "start_time": "2022-04-24T16:12:10.597Z"
   },
   {
    "duration": 15,
    "start_time": "2022-04-24T16:12:10.638Z"
   },
   {
    "duration": 9,
    "start_time": "2022-04-24T16:12:10.655Z"
   },
   {
    "duration": 19,
    "start_time": "2022-04-24T16:12:10.665Z"
   },
   {
    "duration": 6,
    "start_time": "2022-04-24T16:12:10.686Z"
   },
   {
    "duration": 10,
    "start_time": "2022-04-24T16:12:10.695Z"
   },
   {
    "duration": 6,
    "start_time": "2022-04-24T16:12:10.734Z"
   },
   {
    "duration": 6,
    "start_time": "2022-04-24T16:12:10.741Z"
   },
   {
    "duration": 11,
    "start_time": "2022-04-24T16:12:10.749Z"
   },
   {
    "duration": 17,
    "start_time": "2022-04-24T16:12:10.761Z"
   },
   {
    "duration": 58,
    "start_time": "2022-04-24T16:12:10.780Z"
   },
   {
    "duration": 14,
    "start_time": "2022-04-24T16:12:10.840Z"
   },
   {
    "duration": 351,
    "start_time": "2022-04-24T16:12:10.855Z"
   },
   {
    "duration": 28,
    "start_time": "2022-04-24T16:12:11.208Z"
   },
   {
    "duration": 7,
    "start_time": "2022-04-24T16:12:11.238Z"
   },
   {
    "duration": 5314,
    "start_time": "2022-04-24T16:12:11.246Z"
   },
   {
    "duration": 26,
    "start_time": "2022-04-24T16:12:16.562Z"
   },
   {
    "duration": 4,
    "start_time": "2022-04-24T16:12:16.590Z"
   },
   {
    "duration": 215,
    "start_time": "2022-04-24T16:12:16.595Z"
   },
   {
    "duration": 21,
    "start_time": "2022-04-24T16:12:16.812Z"
   },
   {
    "duration": 4,
    "start_time": "2022-04-24T16:12:16.835Z"
   },
   {
    "duration": 202,
    "start_time": "2022-04-24T16:12:16.841Z"
   },
   {
    "duration": 26,
    "start_time": "2022-04-24T16:12:17.046Z"
   },
   {
    "duration": 16,
    "start_time": "2022-04-24T16:12:17.074Z"
   },
   {
    "duration": 2440,
    "start_time": "2022-04-24T16:12:17.093Z"
   },
   {
    "duration": 3,
    "start_time": "2022-04-24T16:12:19.535Z"
   },
   {
    "duration": 301,
    "start_time": "2022-04-24T16:12:19.539Z"
   },
   {
    "duration": 3298,
    "start_time": "2022-04-24T16:12:19.842Z"
   },
   {
    "duration": 43,
    "start_time": "2022-04-24T16:12:23.142Z"
   },
   {
    "duration": 147,
    "start_time": "2022-04-24T16:12:23.187Z"
   },
   {
    "duration": 200,
    "start_time": "2022-04-24T16:12:23.335Z"
   },
   {
    "duration": 22,
    "start_time": "2022-04-24T16:12:23.537Z"
   },
   {
    "duration": 18,
    "start_time": "2022-04-24T16:12:23.563Z"
   },
   {
    "duration": 404,
    "start_time": "2022-04-24T16:12:23.583Z"
   },
   {
    "duration": 20,
    "start_time": "2022-04-24T16:12:23.988Z"
   },
   {
    "duration": 509,
    "start_time": "2022-04-24T16:12:24.010Z"
   },
   {
    "duration": 23,
    "start_time": "2022-04-24T16:12:24.521Z"
   },
   {
    "duration": 394,
    "start_time": "2022-04-24T16:12:24.546Z"
   },
   {
    "duration": 10,
    "start_time": "2022-04-24T16:12:24.942Z"
   },
   {
    "duration": 7,
    "start_time": "2022-04-24T16:12:24.953Z"
   },
   {
    "duration": 14,
    "start_time": "2022-04-24T16:12:24.961Z"
   },
   {
    "duration": 7,
    "start_time": "2022-04-24T16:12:24.976Z"
   },
   {
    "duration": 6,
    "start_time": "2022-04-24T16:12:24.985Z"
   },
   {
    "duration": 104,
    "start_time": "2022-04-24T16:24:06.523Z"
   },
   {
    "duration": 470,
    "start_time": "2022-04-24T16:24:20.289Z"
   },
   {
    "duration": 24,
    "start_time": "2022-04-24T16:27:25.433Z"
   },
   {
    "duration": 216,
    "start_time": "2022-04-24T16:30:04.720Z"
   },
   {
    "duration": 8,
    "start_time": "2022-04-24T16:30:46.875Z"
   },
   {
    "duration": 316,
    "start_time": "2022-04-24T16:31:17.876Z"
   },
   {
    "duration": 214,
    "start_time": "2022-04-24T16:31:21.452Z"
   },
   {
    "duration": 4,
    "start_time": "2022-04-24T16:34:55.342Z"
   },
   {
    "duration": 11,
    "start_time": "2022-04-24T16:37:00.909Z"
   },
   {
    "duration": 35,
    "start_time": "2022-04-24T16:37:25.428Z"
   },
   {
    "duration": 25,
    "start_time": "2022-04-24T16:37:30.316Z"
   },
   {
    "duration": 27,
    "start_time": "2022-04-24T16:37:38.001Z"
   },
   {
    "duration": 25,
    "start_time": "2022-04-24T16:55:17.109Z"
   },
   {
    "duration": 11,
    "start_time": "2022-04-24T16:55:53.078Z"
   },
   {
    "duration": 27,
    "start_time": "2022-04-24T16:56:01.802Z"
   },
   {
    "duration": 6,
    "start_time": "2022-04-24T16:56:12.435Z"
   },
   {
    "duration": 40,
    "start_time": "2022-04-24T16:56:15.894Z"
   },
   {
    "duration": 166,
    "start_time": "2022-04-24T17:07:14.814Z"
   },
   {
    "duration": 303,
    "start_time": "2022-04-24T17:07:20.922Z"
   },
   {
    "duration": 5,
    "start_time": "2022-04-24T17:19:51.583Z"
   },
   {
    "duration": 3,
    "start_time": "2022-04-24T17:20:05.666Z"
   },
   {
    "duration": 1262,
    "start_time": "2022-04-25T03:29:58.093Z"
   },
   {
    "duration": 60,
    "start_time": "2022-04-25T03:29:59.357Z"
   },
   {
    "duration": 2,
    "start_time": "2022-04-25T03:29:59.420Z"
   },
   {
    "duration": 17,
    "start_time": "2022-04-25T03:29:59.424Z"
   },
   {
    "duration": 12,
    "start_time": "2022-04-25T03:29:59.443Z"
   },
   {
    "duration": 19,
    "start_time": "2022-04-25T03:29:59.457Z"
   },
   {
    "duration": 14,
    "start_time": "2022-04-25T03:29:59.478Z"
   },
   {
    "duration": 10,
    "start_time": "2022-04-25T03:29:59.494Z"
   },
   {
    "duration": 13,
    "start_time": "2022-04-25T03:29:59.505Z"
   },
   {
    "duration": 12,
    "start_time": "2022-04-25T03:29:59.554Z"
   },
   {
    "duration": 21,
    "start_time": "2022-04-25T03:29:59.567Z"
   },
   {
    "duration": 28,
    "start_time": "2022-04-25T03:29:59.590Z"
   },
   {
    "duration": 6,
    "start_time": "2022-04-25T03:29:59.619Z"
   },
   {
    "duration": 7,
    "start_time": "2022-04-25T03:29:59.626Z"
   },
   {
    "duration": 8,
    "start_time": "2022-04-25T03:29:59.634Z"
   },
   {
    "duration": 7,
    "start_time": "2022-04-25T03:29:59.643Z"
   },
   {
    "duration": 28,
    "start_time": "2022-04-25T03:29:59.651Z"
   },
   {
    "duration": 28,
    "start_time": "2022-04-25T03:29:59.681Z"
   },
   {
    "duration": 38,
    "start_time": "2022-04-25T03:29:59.710Z"
   },
   {
    "duration": 18,
    "start_time": "2022-04-25T03:29:59.749Z"
   },
   {
    "duration": 295,
    "start_time": "2022-04-25T03:29:59.769Z"
   },
   {
    "duration": 16,
    "start_time": "2022-04-25T03:30:00.065Z"
   },
   {
    "duration": 6,
    "start_time": "2022-04-25T03:30:00.082Z"
   },
   {
    "duration": 4565,
    "start_time": "2022-04-25T03:30:00.090Z"
   },
   {
    "duration": 23,
    "start_time": "2022-04-25T03:30:04.657Z"
   },
   {
    "duration": 10,
    "start_time": "2022-04-25T03:30:04.681Z"
   },
   {
    "duration": 180,
    "start_time": "2022-04-25T03:30:04.693Z"
   },
   {
    "duration": 12,
    "start_time": "2022-04-25T03:30:04.877Z"
   },
   {
    "duration": 31,
    "start_time": "2022-04-25T03:30:04.890Z"
   },
   {
    "duration": 166,
    "start_time": "2022-04-25T03:30:04.923Z"
   },
   {
    "duration": 21,
    "start_time": "2022-04-25T03:30:05.091Z"
   },
   {
    "duration": 30,
    "start_time": "2022-04-25T03:30:05.114Z"
   },
   {
    "duration": 2129,
    "start_time": "2022-04-25T03:30:05.145Z"
   },
   {
    "duration": 3,
    "start_time": "2022-04-25T03:30:07.275Z"
   },
   {
    "duration": 263,
    "start_time": "2022-04-25T03:30:07.279Z"
   },
   {
    "duration": 3068,
    "start_time": "2022-04-25T03:30:07.544Z"
   },
   {
    "duration": 47,
    "start_time": "2022-04-25T03:30:10.614Z"
   },
   {
    "duration": 22,
    "start_time": "2022-04-25T03:30:10.662Z"
   },
   {
    "duration": 33,
    "start_time": "2022-04-25T03:30:10.685Z"
   },
   {
    "duration": 125,
    "start_time": "2022-04-25T03:30:10.720Z"
   },
   {
    "duration": 172,
    "start_time": "2022-04-25T03:30:10.846Z"
   },
   {
    "duration": 20,
    "start_time": "2022-04-25T03:30:11.019Z"
   },
   {
    "duration": 19,
    "start_time": "2022-04-25T03:30:11.054Z"
   },
   {
    "duration": 324,
    "start_time": "2022-04-25T03:30:11.075Z"
   },
   {
    "duration": 17,
    "start_time": "2022-04-25T03:30:11.400Z"
   },
   {
    "duration": 452,
    "start_time": "2022-04-25T03:30:11.419Z"
   },
   {
    "duration": 17,
    "start_time": "2022-04-25T03:30:11.873Z"
   },
   {
    "duration": 326,
    "start_time": "2022-04-25T03:30:11.892Z"
   },
   {
    "duration": 9,
    "start_time": "2022-04-25T03:30:12.219Z"
   },
   {
    "duration": 8,
    "start_time": "2022-04-25T03:30:12.229Z"
   },
   {
    "duration": 21,
    "start_time": "2022-04-25T03:30:12.239Z"
   },
   {
    "duration": 11,
    "start_time": "2022-04-25T03:30:12.261Z"
   },
   {
    "duration": 5,
    "start_time": "2022-04-25T03:30:12.273Z"
   },
   {
    "duration": 9,
    "start_time": "2022-04-25T03:31:49.519Z"
   },
   {
    "duration": 10,
    "start_time": "2022-04-25T03:32:00.111Z"
   },
   {
    "duration": 96,
    "start_time": "2022-04-25T03:33:22.047Z"
   },
   {
    "duration": 12,
    "start_time": "2022-04-25T03:33:30.496Z"
   },
   {
    "duration": 13,
    "start_time": "2022-04-25T03:33:45.375Z"
   },
   {
    "duration": 12,
    "start_time": "2022-04-25T03:35:22.086Z"
   },
   {
    "duration": 9,
    "start_time": "2022-04-25T03:38:35.869Z"
   },
   {
    "duration": 10,
    "start_time": "2022-04-25T03:39:01.030Z"
   },
   {
    "duration": 9,
    "start_time": "2022-04-25T03:39:40.941Z"
   },
   {
    "duration": 9,
    "start_time": "2022-04-25T03:39:49.229Z"
   },
   {
    "duration": 12,
    "start_time": "2022-04-25T03:40:28.748Z"
   },
   {
    "duration": 12,
    "start_time": "2022-04-25T03:40:44.732Z"
   },
   {
    "duration": 14,
    "start_time": "2022-04-25T03:41:04.332Z"
   },
   {
    "duration": 16,
    "start_time": "2022-04-25T03:41:18.868Z"
   },
   {
    "duration": 8,
    "start_time": "2022-04-25T03:41:22.499Z"
   },
   {
    "duration": 9,
    "start_time": "2022-04-25T03:41:33.259Z"
   },
   {
    "duration": 283,
    "start_time": "2022-04-25T03:42:12.716Z"
   },
   {
    "duration": 231,
    "start_time": "2022-04-25T03:42:40.284Z"
   },
   {
    "duration": 10,
    "start_time": "2022-04-25T03:50:08.525Z"
   },
   {
    "duration": 1149,
    "start_time": "2022-04-25T03:50:28.890Z"
   },
   {
    "duration": 61,
    "start_time": "2022-04-25T03:50:30.041Z"
   },
   {
    "duration": 3,
    "start_time": "2022-04-25T03:50:30.103Z"
   },
   {
    "duration": 20,
    "start_time": "2022-04-25T03:50:30.108Z"
   },
   {
    "duration": 3,
    "start_time": "2022-04-25T03:50:30.130Z"
   },
   {
    "duration": 26,
    "start_time": "2022-04-25T03:50:30.134Z"
   },
   {
    "duration": 12,
    "start_time": "2022-04-25T03:50:30.162Z"
   },
   {
    "duration": 19,
    "start_time": "2022-04-25T03:50:30.175Z"
   },
   {
    "duration": 15,
    "start_time": "2022-04-25T03:50:30.195Z"
   },
   {
    "duration": 14,
    "start_time": "2022-04-25T03:50:30.212Z"
   },
   {
    "duration": 33,
    "start_time": "2022-04-25T03:50:30.227Z"
   },
   {
    "duration": 16,
    "start_time": "2022-04-25T03:50:30.262Z"
   },
   {
    "duration": 6,
    "start_time": "2022-04-25T03:50:30.280Z"
   },
   {
    "duration": 11,
    "start_time": "2022-04-25T03:50:30.287Z"
   },
   {
    "duration": 12,
    "start_time": "2022-04-25T03:50:30.300Z"
   },
   {
    "duration": 17,
    "start_time": "2022-04-25T03:50:30.313Z"
   },
   {
    "duration": 15,
    "start_time": "2022-04-25T03:50:30.332Z"
   },
   {
    "duration": 17,
    "start_time": "2022-04-25T03:50:30.348Z"
   },
   {
    "duration": 30,
    "start_time": "2022-04-25T03:50:30.367Z"
   },
   {
    "duration": 12,
    "start_time": "2022-04-25T03:50:30.399Z"
   },
   {
    "duration": 312,
    "start_time": "2022-04-25T03:50:30.413Z"
   },
   {
    "duration": 28,
    "start_time": "2022-04-25T03:50:30.727Z"
   },
   {
    "duration": 2302,
    "start_time": "2022-04-25T03:50:30.757Z"
   },
   {
    "duration": 0,
    "start_time": "2022-04-25T03:50:33.062Z"
   },
   {
    "duration": 1,
    "start_time": "2022-04-25T03:50:33.063Z"
   },
   {
    "duration": 0,
    "start_time": "2022-04-25T03:50:33.064Z"
   },
   {
    "duration": 0,
    "start_time": "2022-04-25T03:50:33.065Z"
   },
   {
    "duration": 0,
    "start_time": "2022-04-25T03:50:33.066Z"
   },
   {
    "duration": 0,
    "start_time": "2022-04-25T03:50:33.067Z"
   },
   {
    "duration": 0,
    "start_time": "2022-04-25T03:50:33.068Z"
   },
   {
    "duration": 0,
    "start_time": "2022-04-25T03:50:33.068Z"
   },
   {
    "duration": 0,
    "start_time": "2022-04-25T03:50:33.069Z"
   },
   {
    "duration": 0,
    "start_time": "2022-04-25T03:50:33.070Z"
   },
   {
    "duration": 0,
    "start_time": "2022-04-25T03:50:33.071Z"
   },
   {
    "duration": 0,
    "start_time": "2022-04-25T03:50:33.072Z"
   },
   {
    "duration": 0,
    "start_time": "2022-04-25T03:50:33.073Z"
   },
   {
    "duration": 1,
    "start_time": "2022-04-25T03:50:33.073Z"
   },
   {
    "duration": 0,
    "start_time": "2022-04-25T03:50:33.074Z"
   },
   {
    "duration": 0,
    "start_time": "2022-04-25T03:50:33.076Z"
   },
   {
    "duration": 0,
    "start_time": "2022-04-25T03:50:33.076Z"
   },
   {
    "duration": 0,
    "start_time": "2022-04-25T03:50:33.077Z"
   },
   {
    "duration": 0,
    "start_time": "2022-04-25T03:50:33.078Z"
   },
   {
    "duration": 0,
    "start_time": "2022-04-25T03:50:33.079Z"
   },
   {
    "duration": 0,
    "start_time": "2022-04-25T03:50:33.080Z"
   },
   {
    "duration": 0,
    "start_time": "2022-04-25T03:50:33.081Z"
   },
   {
    "duration": 0,
    "start_time": "2022-04-25T03:50:33.081Z"
   },
   {
    "duration": 0,
    "start_time": "2022-04-25T03:50:33.082Z"
   },
   {
    "duration": 0,
    "start_time": "2022-04-25T03:50:33.083Z"
   },
   {
    "duration": 0,
    "start_time": "2022-04-25T03:50:33.084Z"
   },
   {
    "duration": 0,
    "start_time": "2022-04-25T03:50:33.085Z"
   },
   {
    "duration": 0,
    "start_time": "2022-04-25T03:50:33.086Z"
   },
   {
    "duration": 0,
    "start_time": "2022-04-25T03:50:33.087Z"
   },
   {
    "duration": 0,
    "start_time": "2022-04-25T03:50:33.088Z"
   },
   {
    "duration": 0,
    "start_time": "2022-04-25T03:50:33.088Z"
   },
   {
    "duration": 0,
    "start_time": "2022-04-25T03:50:33.089Z"
   },
   {
    "duration": 146,
    "start_time": "2022-04-25T03:51:23.180Z"
   },
   {
    "duration": 147,
    "start_time": "2022-04-25T03:51:55.451Z"
   },
   {
    "duration": 1179,
    "start_time": "2022-04-25T03:52:52.058Z"
   },
   {
    "duration": 54,
    "start_time": "2022-04-25T03:52:53.238Z"
   },
   {
    "duration": 2,
    "start_time": "2022-04-25T03:52:53.296Z"
   },
   {
    "duration": 16,
    "start_time": "2022-04-25T03:52:53.299Z"
   },
   {
    "duration": 4,
    "start_time": "2022-04-25T03:52:53.316Z"
   },
   {
    "duration": 37,
    "start_time": "2022-04-25T03:52:53.321Z"
   },
   {
    "duration": 13,
    "start_time": "2022-04-25T03:52:53.359Z"
   },
   {
    "duration": 8,
    "start_time": "2022-04-25T03:52:53.373Z"
   },
   {
    "duration": 12,
    "start_time": "2022-04-25T03:52:53.383Z"
   },
   {
    "duration": 15,
    "start_time": "2022-04-25T03:52:53.397Z"
   },
   {
    "duration": 14,
    "start_time": "2022-04-25T03:52:53.414Z"
   },
   {
    "duration": 40,
    "start_time": "2022-04-25T03:52:53.429Z"
   },
   {
    "duration": 6,
    "start_time": "2022-04-25T03:52:53.470Z"
   },
   {
    "duration": 8,
    "start_time": "2022-04-25T03:52:53.477Z"
   },
   {
    "duration": 10,
    "start_time": "2022-04-25T03:52:53.487Z"
   },
   {
    "duration": 4,
    "start_time": "2022-04-25T03:52:53.498Z"
   },
   {
    "duration": 9,
    "start_time": "2022-04-25T03:52:53.504Z"
   },
   {
    "duration": 40,
    "start_time": "2022-04-25T03:52:53.514Z"
   },
   {
    "duration": 30,
    "start_time": "2022-04-25T03:52:53.556Z"
   },
   {
    "duration": 13,
    "start_time": "2022-04-25T03:52:53.588Z"
   },
   {
    "duration": 293,
    "start_time": "2022-04-25T03:52:53.602Z"
   },
   {
    "duration": 14,
    "start_time": "2022-04-25T03:52:53.897Z"
   },
   {
    "duration": 169,
    "start_time": "2022-04-25T03:52:53.913Z"
   },
   {
    "duration": 7,
    "start_time": "2022-04-25T03:52:54.084Z"
   },
   {
    "duration": 4707,
    "start_time": "2022-04-25T03:52:54.092Z"
   },
   {
    "duration": 24,
    "start_time": "2022-04-25T03:52:58.801Z"
   },
   {
    "duration": 3,
    "start_time": "2022-04-25T03:52:58.829Z"
   },
   {
    "duration": 177,
    "start_time": "2022-04-25T03:52:58.834Z"
   },
   {
    "duration": 13,
    "start_time": "2022-04-25T03:52:59.013Z"
   },
   {
    "duration": 9,
    "start_time": "2022-04-25T03:52:59.027Z"
   },
   {
    "duration": 170,
    "start_time": "2022-04-25T03:52:59.037Z"
   },
   {
    "duration": 22,
    "start_time": "2022-04-25T03:52:59.208Z"
   },
   {
    "duration": 28,
    "start_time": "2022-04-25T03:52:59.232Z"
   },
   {
    "duration": 2094,
    "start_time": "2022-04-25T03:52:59.262Z"
   },
   {
    "duration": 3,
    "start_time": "2022-04-25T03:53:01.357Z"
   },
   {
    "duration": 255,
    "start_time": "2022-04-25T03:53:01.361Z"
   },
   {
    "duration": 2999,
    "start_time": "2022-04-25T03:53:01.618Z"
   },
   {
    "duration": 50,
    "start_time": "2022-04-25T03:53:04.619Z"
   },
   {
    "duration": 8,
    "start_time": "2022-04-25T03:53:04.671Z"
   },
   {
    "duration": 34,
    "start_time": "2022-04-25T03:53:04.680Z"
   },
   {
    "duration": 316,
    "start_time": "2022-04-25T03:53:04.715Z"
   },
   {
    "duration": 127,
    "start_time": "2022-04-25T03:53:05.032Z"
   },
   {
    "duration": 167,
    "start_time": "2022-04-25T03:53:05.161Z"
   },
   {
    "duration": 26,
    "start_time": "2022-04-25T03:53:05.330Z"
   },
   {
    "duration": 15,
    "start_time": "2022-04-25T03:53:05.358Z"
   },
   {
    "duration": 418,
    "start_time": "2022-04-25T03:53:05.375Z"
   },
   {
    "duration": 17,
    "start_time": "2022-04-25T03:53:05.794Z"
   },
   {
    "duration": 332,
    "start_time": "2022-04-25T03:53:05.812Z"
   },
   {
    "duration": 16,
    "start_time": "2022-04-25T03:53:06.154Z"
   },
   {
    "duration": 309,
    "start_time": "2022-04-25T03:53:06.171Z"
   },
   {
    "duration": 8,
    "start_time": "2022-04-25T03:53:06.482Z"
   },
   {
    "duration": 6,
    "start_time": "2022-04-25T03:53:06.492Z"
   },
   {
    "duration": 9,
    "start_time": "2022-04-25T03:53:06.499Z"
   },
   {
    "duration": 10,
    "start_time": "2022-04-25T03:53:06.510Z"
   },
   {
    "duration": 5,
    "start_time": "2022-04-25T03:53:06.521Z"
   },
   {
    "duration": 150,
    "start_time": "2022-04-25T03:56:55.945Z"
   },
   {
    "duration": 38,
    "start_time": "2022-04-25T03:57:03.786Z"
   },
   {
    "duration": 34,
    "start_time": "2022-04-25T03:57:11.042Z"
   },
   {
    "duration": 1153,
    "start_time": "2022-04-25T03:57:50.772Z"
   },
   {
    "duration": 57,
    "start_time": "2022-04-25T03:57:51.927Z"
   },
   {
    "duration": 2,
    "start_time": "2022-04-25T03:57:51.986Z"
   },
   {
    "duration": 20,
    "start_time": "2022-04-25T03:57:51.991Z"
   },
   {
    "duration": 4,
    "start_time": "2022-04-25T03:57:52.013Z"
   },
   {
    "duration": 32,
    "start_time": "2022-04-25T03:57:52.018Z"
   },
   {
    "duration": 25,
    "start_time": "2022-04-25T03:57:52.051Z"
   },
   {
    "duration": 10,
    "start_time": "2022-04-25T03:57:52.078Z"
   },
   {
    "duration": 18,
    "start_time": "2022-04-25T03:57:52.089Z"
   },
   {
    "duration": 20,
    "start_time": "2022-04-25T03:57:52.110Z"
   },
   {
    "duration": 18,
    "start_time": "2022-04-25T03:57:52.131Z"
   },
   {
    "duration": 27,
    "start_time": "2022-04-25T03:57:52.151Z"
   },
   {
    "duration": 14,
    "start_time": "2022-04-25T03:57:52.179Z"
   },
   {
    "duration": 14,
    "start_time": "2022-04-25T03:57:52.194Z"
   },
   {
    "duration": 9,
    "start_time": "2022-04-25T03:57:52.209Z"
   },
   {
    "duration": 26,
    "start_time": "2022-04-25T03:57:52.219Z"
   },
   {
    "duration": 31,
    "start_time": "2022-04-25T03:57:52.246Z"
   },
   {
    "duration": 19,
    "start_time": "2022-04-25T03:57:52.278Z"
   },
   {
    "duration": 30,
    "start_time": "2022-04-25T03:57:52.299Z"
   },
   {
    "duration": 13,
    "start_time": "2022-04-25T03:57:52.331Z"
   },
   {
    "duration": 290,
    "start_time": "2022-04-25T03:57:52.345Z"
   },
   {
    "duration": 23,
    "start_time": "2022-04-25T03:57:52.637Z"
   },
   {
    "duration": 162,
    "start_time": "2022-04-25T03:57:52.662Z"
   },
   {
    "duration": 8,
    "start_time": "2022-04-25T03:57:52.825Z"
   },
   {
    "duration": 4568,
    "start_time": "2022-04-25T03:57:52.834Z"
   },
   {
    "duration": 24,
    "start_time": "2022-04-25T03:57:57.404Z"
   },
   {
    "duration": 4,
    "start_time": "2022-04-25T03:57:57.429Z"
   },
   {
    "duration": 173,
    "start_time": "2022-04-25T03:57:57.454Z"
   },
   {
    "duration": 13,
    "start_time": "2022-04-25T03:57:57.628Z"
   },
   {
    "duration": 3,
    "start_time": "2022-04-25T03:57:57.654Z"
   },
   {
    "duration": 163,
    "start_time": "2022-04-25T03:57:57.659Z"
   },
   {
    "duration": 30,
    "start_time": "2022-04-25T03:57:57.824Z"
   },
   {
    "duration": 14,
    "start_time": "2022-04-25T03:57:57.856Z"
   },
   {
    "duration": 2034,
    "start_time": "2022-04-25T03:57:57.871Z"
   },
   {
    "duration": 3,
    "start_time": "2022-04-25T03:57:59.906Z"
   },
   {
    "duration": 257,
    "start_time": "2022-04-25T03:57:59.911Z"
   },
   {
    "duration": 2921,
    "start_time": "2022-04-25T03:58:00.170Z"
   },
   {
    "duration": 36,
    "start_time": "2022-04-25T03:58:03.093Z"
   },
   {
    "duration": 6,
    "start_time": "2022-04-25T03:58:03.131Z"
   },
   {
    "duration": 34,
    "start_time": "2022-04-25T03:58:03.155Z"
   },
   {
    "duration": 238,
    "start_time": "2022-04-25T03:58:03.191Z"
   },
   {
    "duration": 141,
    "start_time": "2022-04-25T03:58:03.430Z"
   },
   {
    "duration": 174,
    "start_time": "2022-04-25T03:58:03.573Z"
   },
   {
    "duration": 24,
    "start_time": "2022-04-25T03:58:03.748Z"
   },
   {
    "duration": 15,
    "start_time": "2022-04-25T03:58:03.774Z"
   },
   {
    "duration": 410,
    "start_time": "2022-04-25T03:58:03.791Z"
   },
   {
    "duration": 16,
    "start_time": "2022-04-25T03:58:04.203Z"
   },
   {
    "duration": 338,
    "start_time": "2022-04-25T03:58:04.221Z"
   },
   {
    "duration": 15,
    "start_time": "2022-04-25T03:58:04.561Z"
   },
   {
    "duration": 311,
    "start_time": "2022-04-25T03:58:04.578Z"
   },
   {
    "duration": 8,
    "start_time": "2022-04-25T03:58:04.891Z"
   },
   {
    "duration": 6,
    "start_time": "2022-04-25T03:58:04.901Z"
   },
   {
    "duration": 9,
    "start_time": "2022-04-25T03:58:04.909Z"
   },
   {
    "duration": 9,
    "start_time": "2022-04-25T03:58:04.919Z"
   },
   {
    "duration": 4,
    "start_time": "2022-04-25T03:58:04.930Z"
   }
  ],
  "colab": {
   "collapsed_sections": [],
   "name": "zayakin_pp1_game.ipynb",
   "provenance": []
  },
  "kernelspec": {
   "display_name": "Python 3 (ipykernel)",
   "language": "python",
   "name": "python3"
  },
  "language_info": {
   "codemirror_mode": {
    "name": "ipython",
    "version": 3
   },
   "file_extension": ".py",
   "mimetype": "text/x-python",
   "name": "python",
   "nbconvert_exporter": "python",
   "pygments_lexer": "ipython3",
   "version": "3.9.7"
  },
  "toc": {
   "base_numbering": 1,
   "nav_menu": {},
   "number_sections": true,
   "sideBar": true,
   "skip_h1_title": true,
   "title_cell": "Table of Contents",
   "title_sidebar": "Contents",
   "toc_cell": false,
   "toc_position": {},
   "toc_section_display": true,
   "toc_window_display": false
  }
 },
 "nbformat": 4,
 "nbformat_minor": 1
}
